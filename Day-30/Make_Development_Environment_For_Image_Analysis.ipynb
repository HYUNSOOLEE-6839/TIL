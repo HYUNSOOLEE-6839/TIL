{
  "nbformat": 4,
  "nbformat_minor": 0,
  "metadata": {
    "colab": {
      "name": "Make_Development-Environment_For_Image_Analysis.ipynb",
      "provenance": [],
      "collapsed_sections": [],
      "authorship_tag": "ABX9TyMpHChKvvV0CCJ6IeMNHuVP",
      "include_colab_link": true
    },
    "kernelspec": {
      "name": "python3",
      "display_name": "Python 3"
    },
    "language_info": {
      "name": "python"
    }
  },
  "cells": [
    {
      "cell_type": "markdown",
      "metadata": {
        "id": "view-in-github",
        "colab_type": "text"
      },
      "source": [
        "<a href=\"https://colab.research.google.com/github/HYUNSOOLEE-6839/TIL/blob/main/Day-30/Make_Development_Environment_For_Image_Analysis.ipynb\" target=\"_parent\"><img src=\"https://colab.research.google.com/assets/colab-badge.svg\" alt=\"Open In Colab\"/></a>"
      ]
    },
    {
      "cell_type": "code",
      "metadata": {
        "id": "Fim4chz1e134"
      },
      "source": [
        "import cv2\n",
        "import os\n",
        "import glob\n",
        "import shutil\n",
        "import random\n",
        "import string\n",
        "import numpy as np"
      ],
      "execution_count": 2,
      "outputs": []
    },
    {
      "cell_type": "code",
      "metadata": {
        "colab": {
          "base_uri": "https://localhost:8080/"
        },
        "id": "yHIe5owAf3Rq",
        "outputId": "b144ca7d-712a-4105-8fd1-7ccb024eb62f"
      },
      "source": [
        "from google.colab import drive\n",
        "drive.mount('/content/drive')"
      ],
      "execution_count": 1,
      "outputs": [
        {
          "output_type": "stream",
          "text": [
            "Mounted at /content/drive\n"
          ],
          "name": "stdout"
        }
      ]
    },
    {
      "cell_type": "code",
      "metadata": {
        "colab": {
          "base_uri": "https://localhost:8080/"
        },
        "id": "tW7wefsjiXJx",
        "outputId": "c88519d7-7ed1-4934-d11e-b1fa214855d2"
      },
      "source": [
        "!ls"
      ],
      "execution_count": 6,
      "outputs": [
        {
          "output_type": "stream",
          "text": [
            "drive  sample_data\n"
          ],
          "name": "stdout"
        }
      ]
    },
    {
      "cell_type": "code",
      "metadata": {
        "id": "h-K6tXcGfMWD"
      },
      "source": [
        "PATH_DEFECT = 'drive/MyDrive/data/Defect_images/'\n",
        "PATH_MASK = 'drive/MyDrive/data/Mask_images/'\n",
        "PATH_NODEFECT = 'drive/MyDrive/data/NODefect_images/'"
      ],
      "execution_count": 7,
      "outputs": []
    },
    {
      "cell_type": "code",
      "metadata": {
        "id": "fH4fCUfvfY86"
      },
      "source": [
        "random.seed(0)\n",
        "\n",
        "defect_list = glob.glob(PATH_DEFECT + '*.png')\n",
        "mask_list = glob.glob(PATH_MASK + '*.png')\n",
        "pass_list = glob.glob(PATH_NODEFECT + '*.png')\n",
        "\n",
        "# Match defect-mask pairs : mask와 defect 데이터를 쌍으로 묶어줌.\n",
        "new_defect_list = list()\n",
        "new_mask_list = list()\n",
        "for defect in defect_list:\n",
        "  num = defect.split('/')[-1].split('_')[0]\n",
        "  for mask in mask_list:\n",
        "    num_mask = mask.split('/')[-1].split('_')[0]\n",
        "    if num == num_mask:\n",
        "      new_defect_list.append(defect)\n",
        "      new_mask_list.append(mask)\n",
        "      break\n",
        "defect_list = new_defect_list\n",
        "mask_list = new_mask_list\n"
      ],
      "execution_count": 8,
      "outputs": []
    },
    {
      "cell_type": "code",
      "metadata": {
        "id": "rJzx6JaTiGzA"
      },
      "source": [
        "# The first dataset given\n",
        "if os.path.exists('drive/MyDrive/data/1') is False:\n",
        "  os.mkdir('drive/MyDrive/data/1')\n",
        "for file_name in pass_list + defect_list:\n",
        "  if random.randint(0, 9) < 2:\n",
        "    barcode = ''.join(random.choices(string.ascii_letters + string.digits, k=16))\n",
        "    shutil.copy(file_name, 'drive/MyDrive/data/1/' + barcode + '.png')"
      ],
      "execution_count": 9,
      "outputs": []
    },
    {
      "cell_type": "code",
      "metadata": {
        "id": "OVF9y3zxi1_m"
      },
      "source": [
        "# The second dataset\n",
        "if os.path.exists('drive/MyDrive/data/2') is False:\n",
        "  os.mkdir('drive/MyDrive/data/2')\n",
        "if os.path.exists('drive/MyDrive/data/2/OK') is False:\n",
        "  os.mkdir('drive/MyDrive/data/2/OK')\n",
        "if os.path.exists('drive/MyDrive/data/2/FAIL') is False:\n",
        "  os.mkdir('drive/MyDrive/data/2/FAIL')\n",
        "idx = 0\n",
        "for file_name in pass_list:\n",
        "  img = cv2.imread(file_name)\n",
        "  height, width, _ = img.shape\n",
        "  step = height // 2\n",
        "\n",
        "  for i in range(width // step):\n",
        "    w = i * step\n",
        "    if w < width - height and random.randint(0, 9) < 2:\n",
        "      patch = img[:, w:w+height, :]\n",
        "      cv2.imwrite('drive/MyDrive/data/2/OK/%04d.png' % idx, patch)\n",
        "      idx += 1\n",
        "\n",
        "patch_list = list()\n",
        "for item in zip(defect_list, mask_list):\n",
        "  defect, mask = item\n",
        "\n",
        "  img_d = cv2.imread(defect)\n",
        "  img_m = cv2.imread(mask)\n",
        "\n",
        "  height, width, _ = img_d.shape\n",
        "  step = height // 2\n",
        "  for i in range(width // step):\n",
        "    w = i * step\n",
        "    if w < width - height:\n",
        "      patch = img_d[:, w:w+height, :]\n",
        "      patch_d = img_m[:, w:w+height, :]\n",
        "      if patch_d.sum() > 0:\n",
        "        patch_list.append(patch)\n",
        "\n",
        "random.shuffle(patch_list)\n",
        "patch_list_fraction = patch_list[:len(patch_list)//3]\n",
        "for idx, patch in enumerate(patch_list_fraction):\n",
        "  cv2.imwrite('drive/MyDrive/data/2/FAIL/%04d.png' % idx, patch)"
      ],
      "execution_count": 11,
      "outputs": []
    },
    {
      "cell_type": "code",
      "metadata": {
        "id": "BZtNg5yWkXt2"
      },
      "source": [
        "# The third dataset\n",
        "if os.path.exists('drive/MyDrive/data/3') is False:\n",
        "  os.mkdir('drive/MyDrive/data/3')\n",
        "if os.path.exists('drive/MyDrive/data/3/OK') is False:\n",
        "  os.mkdir('drive/MyDrive/data/3/OK')\n",
        "if os.path.exists('drive/MyDrive/data/3/FAIL') is False:\n",
        "  os.mkdir('drive/MyDrive/data/3/FAIL')\n",
        "if os.path.exists('drive/MyDrive/data/3/MASK') is False:\n",
        "  os.mkdir('drive/MyDrive/data/3/MASK')\n",
        "idx = 0\n",
        "for file_name in pass_list:\n",
        "  img = cv2.imread(file_name)\n",
        "  height, width, _ = img.shape\n",
        "  step = height // 2\n",
        "\n",
        "  for i in range(width // step):\n",
        "    w = i * step\n",
        "    if w < width - height and random.randint(0, 9) < 3:\n",
        "      patch = img[:, w:w+height, :]\n",
        "      cv2.imwrite('drive/MyDrive/data/3/OK/%04d.png' % idx, patch)\n",
        "      idx += 1\n",
        "\n",
        "patch_pair_list = list()\n",
        "for item in zip(defect_list, mask_list):\n",
        "  defect, mask = item\n",
        "\n",
        "  img_d = cv2.imread(defect)\n",
        "  img_m = cv2.imread(mask)\n",
        "\n",
        "  height, width, _ = img_d.shape\n",
        "  step = height // 2\n",
        "  for i in range(width // step):\n",
        "    w = i * step\n",
        "    if w < width - height:\n",
        "      patch = img_d[:, w:w+height, :]\n",
        "      patch_d = img_m[:, w:w+height, :]\n",
        "\n",
        "      if patch_d.sum() > 0:\n",
        "        patch_pair_list.append((patch, patch_d))\n",
        "\n",
        "random.shuffle(patch_pair_list)\n",
        "for idx, pair in enumerate(patch_pair_list):\n",
        "  patch, patch_d = pair\n",
        "  cv2.imwrite('drive/MyDrive/data/3/FAIL/%04d.png' % idx, patch)\n",
        "  cv2.imwrite('drive/MyDrive/data/3/MASK/%04d.png' % idx, patch_d)"
      ],
      "execution_count": 13,
      "outputs": []
    },
    {
      "cell_type": "code",
      "metadata": {
        "id": "f0fHycfqmbft"
      },
      "source": [
        ""
      ],
      "execution_count": null,
      "outputs": []
    }
  ]
}