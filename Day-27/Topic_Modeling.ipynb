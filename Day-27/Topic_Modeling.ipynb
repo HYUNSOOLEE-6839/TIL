{
 "cells": [
  {
   "cell_type": "markdown",
   "metadata": {},
   "source": [
    "# 토픽 모델링\n",
    "\n",
    "- 문서에서 토픽(키워드)을 찾는 과정\n",
    "- 문서(문장)를 구성하는 단어 조합으로부터 k 개의 단어 묶음을 찾는 과정\n",
    "- 베이지안 확률 모델이며, 토픽 모델링의 결과로 각 단어가 각 토픽에 속할 확률이 나옴."
   ]
  },
  {
   "cell_type": "markdown",
   "metadata": {},
   "source": [
    "### 잠재 디리클레 할당 (Latent, Dirichlet Allocation, LDA) \n",
    "- LDA의 모델 가정\n",
    "     >- 각 문서에는 여러 개의 토픽이 포함될 수 있다.<br>\n",
    "     >- 각 토픽에는 여러 개의 단어가 포함될 수 있다.<br>\n",
    "     >- 문서에 존재하는 모든 단어는 반드시 어떤 토픽에 포함된다.<br>\n",
    "     >- 사람이 글을 쓰는 과정을 생성 모델로 정의한다.\n",
    "     \n",
    "- LDA의 모델 과정\n",
    "    >- 문서들에 사용할 토픽을 고른다.(K개의 토픽)\n",
    "    >- 토픽 중 하나의 토픽을 고른다.\n",
    "    >- 그 토픽에 포함된 단어 중에 하나를 고른다.\n",
    "    >- 단어를 문서에 추가한다. (글을 쓴다)\n",
    "    >- 2번 과정부터 반복한다."
   ]
  },
  {
   "cell_type": "markdown",
   "metadata": {},
   "source": [
    "# Gensim으로 네이버 기사 토픽 모델링 해보기\n",
    "    - 토픽 모델링을 적용하기 위해 텍스트 처리\n",
    "    - 토픽 모델링 라이브러리인 gensim 사용해보기"
   ]
  },
  {
   "cell_type": "markdown",
   "metadata": {},
   "source": [
    "### 1. 토픽 모델링을 위한 라이브러리 불러오기"
   ]
  },
  {
   "cell_type": "code",
   "execution_count": 5,
   "metadata": {},
   "outputs": [
    {
     "name": "stderr",
     "output_type": "stream",
     "text": [
      "/Users/hyunsoolee/opt/anaconda3/lib/python3.8/site-packages/gensim/similarities/__init__.py:15: UserWarning: The gensim.similarities.levenshtein submodule is disabled, because the optional Levenshtein package <https://pypi.org/project/python-Levenshtein/> is unavailable. Install Levenhstein (e.g. `pip install python-Levenshtein`) to suppress this warning.\n",
      "  warnings.warn(msg)\n"
     ]
    }
   ],
   "source": [
    "from tqdm import tqdm_notebook # Progress bar\n",
    "from konlpy.tag import Mecab # Mecab, Okt 등 형태소 분석기 불러오기\n",
    "import string # 특수문자 제거\n",
    "import warnings # 경고 알림 제거를 위한 라이브러리\n",
    "from gensim import corpora # gensim에서 사용하는 vectorizer 모듈과, LDA model을 불러온다.\n",
    "from gensim import models\n",
    "\n",
    "import numpy as np\n",
    "import re\n",
    "import pickle\n",
    "import matplotlib.pyplot as plt\n",
    "%matplotlib inline\n",
    "\n",
    "warnings.filterwarnings('ignore', category=DeprecationWarning) # 경고 알림이 뜨면 모두 무시"
   ]
  },
  {
   "cell_type": "markdown",
   "metadata": {},
   "source": [
    "### 2. 텍스트 전처리 함수 만들기"
   ]
  },
  {
   "cell_type": "code",
   "execution_count": 10,
   "metadata": {},
   "outputs": [
    {
     "data": {
      "application/vnd.jupyter.widget-view+json": {
       "model_id": "a0ffe5116e3c476d83d4c452dc77a71a",
       "version_major": 2,
       "version_minor": 0
      },
      "text/plain": [
       "HBox(children=(HTML(value='Preprocessing'), FloatProgress(value=0.0, max=107.0), HTML(value='')))"
      ]
     },
     "metadata": {},
     "output_type": "display_data"
    },
    {
     "name": "stdout",
     "output_type": "stream",
     "text": [
      "\n"
     ]
    }
   ],
   "source": [
    "def read_documents(input_file_name):\n",
    "    \n",
    "    corpus = []\n",
    "    \n",
    "    # pk 파일을 읽어서 리스트로 변환하여 돌려줌.\n",
    "    with open(input_file_name, 'rb') as f: # rb = read binary\n",
    "        temp_corpus = pickle.load(f)\n",
    "        \n",
    "    for page in temp_corpus:\n",
    "        corpus += page\n",
    "    \n",
    "    return corpus\n",
    "\n",
    "def text_cleaning(docs):\n",
    "    # 한국어를 제외한 글자를 제거하는 함수\n",
    "    cleaned_docs = []\n",
    "    for doc in docs:\n",
    "        temp_doc = re.sub(\"[^ㄱ-ㅎㅏ-ㅣ가-힇 ]\", \"\", doc)\n",
    "        cleaned_docs.append(temp_doc)\n",
    "    \n",
    "\n",
    "    return cleaned_docs\n",
    "\n",
    "def define_stopwords(path):\n",
    "    \n",
    "    SW = set()\n",
    "    # 불용어를 추가하는 방법 1.\n",
    "    # 특수문자 추가하기\n",
    "    for i in string.punctuation: # string.punctuation = 특수문자\n",
    "        SW.add(i)\n",
    "\n",
    "    # 불용어를 추가하는 방법 2.\n",
    "    #stopwords-ko.txt에 직접 추가하기\n",
    "    \n",
    "    with open(path) as f:\n",
    "        for word in f:\n",
    "            SW.add(word)\n",
    "            \n",
    "    return SW\n",
    "\n",
    "def text_tokenizing(corpus, tokenizer):\n",
    "    # 명사 추출 / 형태소 분석 두 가지를 선택할 수 있게 만들어주는 함수\n",
    "    mecab = Mecab()\n",
    "    token_corpus = []\n",
    "    # tqdm 사용\n",
    "    if tokenizer == \"noun\":\n",
    "        for n in tqdm_notebook(range(len(corpus)), desc=\"Preprocessing\"):\n",
    "            token_text = mecab.nouns(corpus[n])\n",
    "            token_text = [word for word in token_text if word not in SW and len(word) > 1]\n",
    "            # 명사 추출 이후 명사로 만들어진 리스트가 SW(불용어)에 있거나 2글자 이상인 단어로 필터\n",
    "            token_corpus.append(token_text)\n",
    "            \n",
    "    elif tokenized == \"morph\":\n",
    "        for n in tqdm_notebook(range(len(corpus)), desc=\"Preprocessing\"):\n",
    "            token_text = mecab.morphs(corpus[n])\n",
    "            token_text = [word for word in token_text if word not in SW and len(word) > 1]\n",
    "            token_corpus.append(token_text)\n",
    "            \n",
    "    elif tokenized == \"word\":\n",
    "        for n in tqdm_notebook(range(len(corpus)), desc = \"Preprocessing\"):\n",
    "            token_text = corpus[n].split()\n",
    "            token_text = [word for word in token_text if word not in SW and len(word) > 1]\n",
    "            tokne_corpus.append(token_text)\n",
    "            \n",
    "    return token_corpus\n",
    "\n",
    "# 함수를 불러오는 (메인) 코드\n",
    "input_file_name = 'data/naver_news_title.pk'\n",
    "documents = read_documents(input_file_name)\n",
    "SW = define_stopwords('data/stopwords-ko.txt')\n",
    "cleaned_text = text_cleaning(documents)\n",
    "tokenized_text = text_tokenizing(cleaned_text, tokenizer='noun') # tokenizer = 'noun' or 'word'\n"
   ]
  },
  {
   "cell_type": "markdown",
   "metadata": {},
   "source": [
    "- 문서 읽기의 과정은 앞서 단어 임베딩의 경우와 다르지 않다. 다음 과정은 문서-단어 행렬을 만드는 고자ㅓㅇ이다."
   ]
  },
  {
   "cell_type": "code",
   "execution_count": 11,
   "metadata": {},
   "outputs": [
    {
     "name": "stdout",
     "output_type": "stream",
     "text": [
      "['날씨', '주말', '전국', '봄비', '해안가', '바람', '주의']\n"
     ]
    }
   ],
   "source": [
    "# 결과 확인\n",
    "print(tokenized_text[0])"
   ]
  },
  {
   "cell_type": "markdown",
   "metadata": {},
   "source": [
    "### 3. 토픽 모델링에 사용할 함수들 확인하기"
   ]
  },
  {
   "cell_type": "code",
   "execution_count": 12,
   "metadata": {},
   "outputs": [],
   "source": [
    "# 문서 - 단어 행렬 만들기\n",
    "# 어휘(vocabulary) 학습\n",
    "dictionary = corpora.Dictionary(tokenized_text)\n",
    "# 문서- 단어 행렬 생성\n",
    "corpus = [dictionary.doc2bow(text) for text in tokenized_text]"
   ]
  },
  {
   "cell_type": "code",
   "execution_count": 13,
   "metadata": {},
   "outputs": [
    {
     "name": "stdout",
     "output_type": "stream",
     "text": [
      "Dictionary(56 unique tokens: ['날씨', '바람', '봄비', '전국', '주말']...)\n"
     ]
    }
   ],
   "source": [
    "# Dictionary 확인\n",
    "print(dictionary)"
   ]
  },
  {
   "cell_type": "code",
   "execution_count": 14,
   "metadata": {},
   "outputs": [
    {
     "data": {
      "text/plain": [
       "[(0, 1), (1, 1), (2, 1), (3, 1), (4, 1)]"
      ]
     },
     "execution_count": 14,
     "metadata": {},
     "output_type": "execute_result"
    }
   ],
   "source": [
    "# Corpus 확인\n",
    "corpus[0][:5]"
   ]
  },
  {
   "cell_type": "code",
   "execution_count": 16,
   "metadata": {},
   "outputs": [
    {
     "data": {
      "text/plain": [
       "[(0, 0.14597528750435945),\n",
       " (1, 0.551650429509651),\n",
       " (2, 0.41142808187764457),\n",
       " (3, 0.1891809191178282),\n",
       " (4, 0.271205734245638),\n",
       " (5, 0.3023901216610011),\n",
       " (6, 0.551650429509651)]"
      ]
     },
     "execution_count": 16,
     "metadata": {},
     "output_type": "execute_result"
    }
   ],
   "source": [
    "# TFIDF 문서-단어 행렬 생성\n",
    "tfidf = models.TfidfModel(corpus)\n",
    "corpus_tfidf = tfidf[corpus]\n",
    "corpus_tfidf[0]"
   ]
  },
  {
   "cell_type": "code",
   "execution_count": 17,
   "metadata": {},
   "outputs": [],
   "source": [
    "# LDA model 만들기\n",
    "model = models.ldamodel.LdaModel(corpus, num_topics=3, id2word=dictionary)"
   ]
  },
  {
   "cell_type": "code",
   "execution_count": 18,
   "metadata": {},
   "outputs": [
    {
     "data": {
      "text/plain": [
       "[('날씨', 0.08885653),\n",
       " ('전국', 0.060689233),\n",
       " ('확진', 0.05860681),\n",
       " ('번개', 0.056209043),\n",
       " ('돌풍', 0.056043625),\n",
       " ('천둥', 0.05601196),\n",
       " ('오후', 0.055905446),\n",
       " ('자비', 0.0555234),\n",
       " ('지역', 0.05460267),\n",
       " ('수도', 0.054139122)]"
      ]
     },
     "execution_count": 18,
     "metadata": {},
     "output_type": "execute_result"
    }
   ],
   "source": [
    "# LDA 결과 확인\n",
    "model.show_topic(0, 10) # topic_no = n번 토픽 / num_words = top n개"
   ]
  },
  {
   "cell_type": "markdown",
   "metadata": {},
   "source": [
    "### 4. 토픽 모델링을 추가하여 코드 완성하기"
   ]
  },
  {
   "cell_type": "code",
   "execution_count": 20,
   "metadata": {},
   "outputs": [
    {
     "name": "stdout",
     "output_type": "stream",
     "text": [
      "Building document-term matrix.\n",
      "\n",
      "Printing topic words.\n",
      "\n",
      "Topic ID: 0\n",
      "\t확진\t0.10615662485361099\n",
      "\t감염\t0.08693438768386841\n",
      "\t교사\t0.0802948996424675\n",
      "\t아산\t0.08018315583467484\n",
      "\t추정\t0.08009789139032364\n",
      "\t유치원생\t0.0798567607998848\n",
      "\t날씨\t0.041634492576122284\n",
      "\t강풍\t0.03922286629676819\n",
      "\t주의\t0.038123734295368195\n",
      "\t오전\t0.036138612776994705\n",
      "\t자비\t0.02643144503235817\n",
      "\t수도\t0.025270015001296997\n",
      "\t지역\t0.02227429300546646\n",
      "\t전국\t0.010302533395588398\n",
      "\t일상\t0.009942080825567245\n",
      "\t신규\t0.009767189621925354\n",
      "\t명대\t0.009763608686625957\n",
      "\t칼로리\t0.009227576665580273\n",
      "\t긴장감\t0.008892979472875595\n",
      "\t속출\t0.008729785680770874\n",
      "\t메뉴\t0.00840485468506813\n",
      "\t개념\t0.00817942712455988\n",
      "\t디저트\t0.008108546026051044\n",
      "\t주말\t0.007619897369295359\n",
      "\t다이어트\t0.007334824651479721\n",
      "\t브랜드\t0.006744279060512781\n",
      "\t베이커리\t0.006093183998018503\n",
      "\t제주\t0.0056863995268940926\n",
      "\t서울\t0.005567156709730625\n",
      "\t산간\t0.0053872461430728436\n",
      "\n",
      "\n",
      "Topic ID: 1\n",
      "\t날씨\t0.11827733367681503\n",
      "\t전국\t0.11343063414096832\n",
      "\t주말\t0.052300091832876205\n",
      "\t주의\t0.050409432500600815\n",
      "\t제주\t0.04853510484099388\n",
      "\t강풍\t0.047826532274484634\n",
      "\t봄비\t0.028617186471819878\n",
      "\t오후\t0.022224007174372673\n",
      "\t특별\t0.022192038595676422\n",
      "\t야외\t0.022171426564455032\n",
      "\t호우\t0.02213842049241066\n",
      "\t돌풍\t0.022127415984869003\n",
      "\t봄철\t0.022106170654296875\n",
      "\t소식\t0.022104963660240173\n",
      "\t번개\t0.022092679515480995\n",
      "\t발길\t0.02207641489803791\n",
      "\t오늘\t0.02207043766975403\n",
      "\t주의보\t0.022055210545659065\n",
      "\t나들이객\t0.022052908316254616\n",
      "\t방역\t0.022049475461244583\n",
      "\t제주도\t0.02204310894012451\n",
      "\t천둥\t0.022026987746357918\n",
      "\t점검\t0.02202160283923149\n",
      "\t식물원\t0.021992620080709457\n",
      "\t활동\t0.02198251150548458\n",
      "\t안가\t0.02191995456814766\n",
      "\t봄기운\t0.021815573796629906\n",
      "\t산간\t0.021740160882472992\n",
      "\t서울\t0.021579593420028687\n",
      "\t해안가\t0.007123153191059828\n",
      "\n",
      "\n",
      "Topic ID: 2\n",
      "\t주말\t0.07528245449066162\n",
      "\t날씨\t0.07226528972387314\n",
      "\t확진\t0.05255141854286194\n",
      "\t동반\t0.04022897779941559\n",
      "\t남해안\t0.039989013224840164\n",
      "\t큰비\t0.03984922170639038\n",
      "\t강풍\t0.03954557329416275\n",
      "\t제주\t0.038114458322525024\n",
      "\t지역\t0.036531176418066025\n",
      "\t전국\t0.03504963591694832\n",
      "\t해안가\t0.0349382720887661\n",
      "\t바람\t0.03488544002175331\n",
      "\t봄비\t0.03483784198760986\n",
      "\t주의\t0.03464575484395027\n",
      "\t수도\t0.034562040120363235\n",
      "\t자비\t0.033328112214803696\n",
      "\t베이커리\t0.02055293694138527\n",
      "\t브랜드\t0.020140882581472397\n",
      "\t다이어트\t0.01974424533545971\n",
      "\t디저트\t0.019292093813419342\n",
      "\t개념\t0.019247274845838547\n",
      "\t메뉴\t0.01908205635845661\n",
      "\t속출\t0.01891096867620945\n",
      "\t긴장감\t0.01871938444674015\n",
      "\t칼로리\t0.018520183861255646\n",
      "\t감염\t0.01842372864484787\n",
      "\t명대\t0.01827414706349373\n",
      "\t신규\t0.01826811023056507\n",
      "\t일상\t0.018085207790136337\n",
      "\t서울\t0.003321176627650857\n",
      "\n",
      "\n"
     ]
    }
   ],
   "source": [
    "# 토픽 개수, 키워드 개수를 정해주는 변수를 추가.\n",
    "NUM_TOPICS = 3\n",
    "\n",
    "NUM_TOPIC_WORDS = 30\n",
    "\n",
    "\n",
    "def build_doc_term_mat(documents):\n",
    "    # 문서-단어 행렬 만들어주는 함수.\n",
    "    print(\"Building document-term matrix.\")\n",
    "    dictionary = corpora.Dictionary(documents)\n",
    "    corpus = [dictionary.doc2bow(document) for document in documents]\n",
    "    \n",
    "    return corpus, dictionary\n",
    "\n",
    "def print_topic_words(model):\n",
    "    \n",
    "    # 토픽 모델링 결과를 출력해 주는 함수\n",
    "    print(\"\\nPrinting topic words.\\n\")\n",
    "    \n",
    "    for topic_id in range(model.num_topics):\n",
    "        topic_word_probs = model.show_topic(topic_id, NUM_TOPIC_WORDS)\n",
    "        print(\"Topic ID: {}\".format(topic_id))\n",
    "        \n",
    "        for topic_word, prob in topic_word_probs:\n",
    "            print(\"\\t{}\\t{}\".format(topic_word, prob))\n",
    "            \n",
    "        print(\"\\n\")\n",
    "    \n",
    "# document-term matrix를 만들고,\n",
    "corpus, dictionary = build_doc_term_mat(tokenized_text)\n",
    "# LDA를 실행.\n",
    "model = models.ldamodel.LdaModel(corpus, num_topics=NUM_TOPICS, id2word=dictionary, alpha='auto', eta='auto')\n",
    "# alpha와 eta를 auto로 지정해주면 hyperparameter 자동으로 찾아줌.\n",
    "# 결과를 출력.\n",
    "print_topic_words(model)"
   ]
  },
  {
   "cell_type": "markdown",
   "metadata": {},
   "source": [
    "### pyLDAvis를 통한 토픽 모델링 결과 시각화하기"
   ]
  },
  {
   "cell_type": "code",
   "execution_count": 29,
   "metadata": {},
   "outputs": [
    {
     "name": "stderr",
     "output_type": "stream",
     "text": [
      "/Users/hyunsoolee/opt/anaconda3/lib/python3.8/site-packages/ipykernel/ipkernel.py:287: DeprecationWarning: `should_run_async` will not call `transform_cell` automatically in the future. Please pass the result to `transformed_cell` argument and any exception that happen during thetransform in `preprocessing_exc_tuple` in IPython 7.17 and above.\n",
      "  and should_run_async(code)\n"
     ]
    },
    {
     "data": {
      "text/html": [
       "\n",
       "<link rel=\"stylesheet\" type=\"text/css\" href=\"https://cdn.jsdelivr.net/gh/bmabey/pyLDAvis@3.3.1/pyLDAvis/js/ldavis.v1.0.0.css\">\n",
       "\n",
       "\n",
       "<div id=\"ldavis_el134191405086477891683245568749\"></div>\n",
       "<script type=\"text/javascript\">\n",
       "\n",
       "var ldavis_el134191405086477891683245568749_data = {\"mdsDat\": {\"x\": [-0.17970936771190116, 0.026458433097724905, 0.15325093461417624], \"y\": [0.03803700680645675, -0.09988613785818896, 0.061849131051732266], \"topics\": [1, 2, 3], \"cluster\": [1, 1, 1], \"Freq\": [57.944720053953766, 30.473970368413216, 11.581309577633009]}, \"tinfo\": {\"Term\": [\"\\ud655\\uc9c4\", \"\\uac10\\uc5fc\", \"\\uad50\\uc0ac\", \"\\ucd94\\uc815\", \"\\uc544\\uc0b0\", \"\\uc720\\uce58\\uc6d0\\uc0dd\", \"\\uc218\\ub3c4\", \"\\uc790\\ube44\", \"\\uc9c0\\uc5ed\", \"\\uc624\\uc804\", \"\\ub3d9\\ubc18\", \"\\ub0a8\\ud574\\uc548\", \"\\ud070\\ube44\", \"\\uc8fc\\ub9d0\", \"\\ud574\\uc548\\uac00\", \"\\ubc14\\ub78c\", \"\\uac15\\ud48d\", \"\\uc8fc\\uc758\", \"\\ubca0\\uc774\\ucee4\\ub9ac\", \"\\ube0c\\ub79c\\ub4dc\", \"\\uba85\\ub300\", \"\\uc2e0\\uaddc\", \"\\ub2e4\\uc774\\uc5b4\\ud2b8\", \"\\ub514\\uc800\\ud2b8\", \"\\uac1c\\ub150\", \"\\uc18d\\ucd9c\", \"\\uc77c\\uc0c1\", \"\\uba54\\ub274\", \"\\uce7c\\ub85c\\ub9ac\", \"\\uae34\\uc7a5\\uac10\", \"\\uc624\\ud6c4\", \"\\ud2b9\\ubcc4\", \"\\uc57c\\uc678\", \"\\ub3cc\\ud48d\", \"\\ud638\\uc6b0\", \"\\uc18c\\uc2dd\", \"\\ubc88\\uac1c\", \"\\ubd04\\ucca0\", \"\\uc624\\ub298\", \"\\ubc29\\uc5ed\", \"\\ucc9c\\ub465\", \"\\ubc1c\\uae38\", \"\\uc8fc\\uc758\\ubcf4\", \"\\uc81c\\uc8fc\\ub3c4\", \"\\ub098\\ub4e4\\uc774\\uac1d\", \"\\uc810\\uac80\", \"\\uc2dd\\ubb3c\\uc6d0\", \"\\ud65c\\ub3d9\", \"\\uc548\\uac00\", \"\\ubd04\\uae30\\uc6b4\", \"\\uc0b0\\uac04\", \"\\uc11c\\uc6b8\", \"\\uc804\\uad6d\", \"\\ub0a0\\uc528\", \"\\uc81c\\uc8fc\", \"\\uc8fc\\uc758\", \"\\uac15\\ud48d\", \"\\ubd04\\ube44\", \"\\uc8fc\\ub9d0\", \"\\ud574\\uc548\\uac00\", \"\\ubca0\\uc774\\ucee4\\ub9ac\", \"\\ube0c\\ub79c\\ub4dc\", \"\\ub2e4\\uc774\\uc5b4\\ud2b8\", \"\\ub3d9\\ubc18\", \"\\ub514\\uc800\\ud2b8\", \"\\ub0a8\\ud574\\uc548\", \"\\uac1c\\ub150\", \"\\ud070\\ube44\", \"\\uba54\\ub274\", \"\\uc18d\\ucd9c\", \"\\uae34\\uc7a5\\uac10\", \"\\uce7c\\ub85c\\ub9ac\", \"\\uc9c0\\uc5ed\", \"\\uba85\\ub300\", \"\\uc2e0\\uaddc\", \"\\uc77c\\uc0c1\", \"\\uc218\\ub3c4\", \"\\uc790\\ube44\", \"\\ud574\\uc548\\uac00\", \"\\ubc14\\ub78c\", \"\\ud655\\uc9c4\", \"\\uc8fc\\ub9d0\", \"\\ubd04\\ube44\", \"\\uac10\\uc5fc\", \"\\uc81c\\uc8fc\", \"\\uac15\\ud48d\", \"\\uc8fc\\uc758\", \"\\ub0a0\\uc528\", \"\\uc804\\uad6d\", \"\\uc624\\uc804\", \"\\uc11c\\uc6b8\", \"\\uad50\\uc0ac\", \"\\uc544\\uc0b0\", \"\\ucd94\\uc815\", \"\\uc720\\uce58\\uc6d0\\uc0dd\", \"\\uc624\\uc804\", \"\\uac10\\uc5fc\", \"\\ud655\\uc9c4\", \"\\uc790\\ube44\", \"\\uc218\\ub3c4\", \"\\uc9c0\\uc5ed\", \"\\uc77c\\uc0c1\", \"\\uc2e0\\uaddc\", \"\\uba85\\ub300\", \"\\uce7c\\ub85c\\ub9ac\", \"\\uae34\\uc7a5\\uac10\", \"\\uc18d\\ucd9c\", \"\\uba54\\ub274\", \"\\uac1c\\ub150\", \"\\ub514\\uc800\\ud2b8\", \"\\ub2e4\\uc774\\uc5b4\\ud2b8\", \"\\ube0c\\ub79c\\ub4dc\", \"\\uac15\\ud48d\", \"\\uc8fc\\uc758\", \"\\ubca0\\uc774\\ucee4\\ub9ac\", \"\\ub0a0\\uc528\", \"\\uc11c\\uc6b8\", \"\\uc0b0\\uac04\", \"\\uc548\\uac00\", \"\\ucc9c\\ub465\", \"\\ubc88\\uac1c\", \"\\uc804\\uad6d\", \"\\uc8fc\\ub9d0\", \"\\uc81c\\uc8fc\"], \"Freq\": [14.0, 8.0, 5.0, 5.0, 5.0, 5.0, 7.0, 7.0, 7.0, 2.0, 7.0, 7.0, 7.0, 27.0, 7.0, 7.0, 22.0, 22.0, 3.0, 3.0, 3.0, 3.0, 3.0, 3.0, 3.0, 3.0, 3.0, 3.0, 3.0, 3.0, 6.5547182081681505, 6.545289439394569, 6.539210155164047, 6.526229735156928, 6.529475389524714, 6.519607677311753, 6.51598460849734, 6.5199636664841165, 6.509424629010925, 6.503242063971137, 6.496609568171833, 6.5111875445265355, 6.504933561905872, 6.501364330960119, 6.504254545521548, 6.495021351046365, 6.4864732159815786, 6.483491806663031, 6.465041349326858, 6.434255427675473, 6.412013246160821, 6.364655698916295, 33.45507572663264, 34.88455464318772, 14.31487728295304, 14.867688913281608, 14.105891861599218, 8.440313745474475, 15.425317384757223, 2.100893036736021, 3.188017662947047, 3.1241028764013126, 3.0625794771091677, 6.240017772282301, 2.9924451190510473, 6.20279626450413, 2.9854931364370727, 6.1811128510231725, 2.959865681951072, 2.9333278419103936, 2.903610730957731, 2.8727122278968253, 5.6664425138444265, 2.8345488423312073, 2.833612454015527, 2.805241997163261, 5.361004837675332, 5.169607181518171, 5.419363123114261, 5.4111682085243356, 8.151382500970927, 11.677250570597057, 5.403785157916842, 2.857750817054748, 5.912029346093012, 6.134013183259474, 5.37399003868117, 11.209250566705892, 5.436637046168218, 0.38851050249313845, 0.5151560470853179, 4.7332933233606465, 4.7267061525477185, 4.721679910196528, 4.707465535200553, 2.1303302617541977, 5.124683617847975, 6.257812711485652, 1.5581037258344874, 1.4896387419307668, 1.3130443257891744, 0.5860743957774404, 0.5757647575538583, 0.5755536654767837, 0.5439551854036964, 0.5242310601442306, 0.5146109710722886, 0.4954566571698986, 0.48216795798967266, 0.47798959757303056, 0.43237959951951876, 0.397567606288189, 2.3121435108858304, 2.247350925218695, 0.359186290340354, 2.454306146586673, 0.32817757792343655, 0.317572053939284, 0.29705486480481685, 0.2960314388087739, 0.28367019970762697, 0.6073226662238356, 0.44918431311798224, 0.33520680683899323], \"Total\": [14.0, 8.0, 5.0, 5.0, 5.0, 5.0, 7.0, 7.0, 7.0, 2.0, 7.0, 7.0, 7.0, 27.0, 7.0, 7.0, 22.0, 22.0, 3.0, 3.0, 3.0, 3.0, 3.0, 3.0, 3.0, 3.0, 3.0, 3.0, 3.0, 3.0, 7.223841993345733, 7.221139069951045, 7.224443932695975, 7.21686057918308, 7.223587745081393, 7.215996357997949, 7.21346415529193, 7.223360960347233, 7.218872895781555, 7.215271112850626, 7.208975836115055, 7.226076666393737, 7.222630925140399, 7.21990049740646, 7.225918728211837, 7.219995130843158, 7.222985045549744, 7.220250938378392, 7.212532689218212, 7.226275726627811, 7.207811034215541, 7.207989323925049, 39.499035439024695, 48.548111356480284, 20.562113435885045, 22.489029877181473, 22.55204855574452, 14.149138566200772, 27.551752268472264, 7.796366545628338, 3.868173686545841, 3.8459286521935026, 3.8253499905427395, 7.8933444449227395, 3.799602776142516, 7.887889894767076, 3.7971809885371215, 7.882513932493024, 3.7890651410543628, 3.778595173684115, 3.7714301245957937, 3.7602202096807935, 7.424314950336967, 3.7436078462849722, 3.7434117955231043, 3.736133761197725, 7.320671761410503, 7.272022987172662, 7.796366545628338, 7.793050778950706, 14.895408094508506, 27.551752268472264, 14.149138566200772, 8.35418663476855, 20.562113435885045, 22.55204855574452, 22.489029877181473, 48.548111356480284, 39.499035439024695, 2.8593970437438756, 7.207989323925049, 5.492301433032872, 5.497179149846694, 5.497019876448681, 5.50623818303691, 2.8593970437438756, 8.35418663476855, 14.895408094508506, 7.272022987172662, 7.320671761410503, 7.424314950336967, 3.736133761197725, 3.7434117955231043, 3.7436078462849722, 3.7602202096807935, 3.7714301245957937, 3.778595173684115, 3.7890651410543628, 3.7971809885371215, 3.799602776142516, 3.8253499905427395, 3.8459286521935026, 22.55204855574452, 22.489029877181473, 3.868173686545841, 48.548111356480284, 7.207989323925049, 7.207811034215541, 7.212532689218212, 7.208975836115055, 7.21346415529193, 39.499035439024695, 27.551752268472264, 20.562113435885045], \"Category\": [\"Default\", \"Default\", \"Default\", \"Default\", \"Default\", \"Default\", \"Default\", \"Default\", \"Default\", \"Default\", \"Default\", \"Default\", \"Default\", \"Default\", \"Default\", \"Default\", \"Default\", \"Default\", \"Default\", \"Default\", \"Default\", \"Default\", \"Default\", \"Default\", \"Default\", \"Default\", \"Default\", \"Default\", \"Default\", \"Default\", \"Topic1\", \"Topic1\", \"Topic1\", \"Topic1\", \"Topic1\", \"Topic1\", \"Topic1\", \"Topic1\", \"Topic1\", \"Topic1\", \"Topic1\", \"Topic1\", \"Topic1\", \"Topic1\", \"Topic1\", \"Topic1\", \"Topic1\", \"Topic1\", \"Topic1\", \"Topic1\", \"Topic1\", \"Topic1\", \"Topic1\", \"Topic1\", \"Topic1\", \"Topic1\", \"Topic1\", \"Topic1\", \"Topic1\", \"Topic1\", \"Topic2\", \"Topic2\", \"Topic2\", \"Topic2\", \"Topic2\", \"Topic2\", \"Topic2\", \"Topic2\", \"Topic2\", \"Topic2\", \"Topic2\", \"Topic2\", \"Topic2\", \"Topic2\", \"Topic2\", \"Topic2\", \"Topic2\", \"Topic2\", \"Topic2\", \"Topic2\", \"Topic2\", \"Topic2\", \"Topic2\", \"Topic2\", \"Topic2\", \"Topic2\", \"Topic2\", \"Topic2\", \"Topic2\", \"Topic2\", \"Topic2\", \"Topic3\", \"Topic3\", \"Topic3\", \"Topic3\", \"Topic3\", \"Topic3\", \"Topic3\", \"Topic3\", \"Topic3\", \"Topic3\", \"Topic3\", \"Topic3\", \"Topic3\", \"Topic3\", \"Topic3\", \"Topic3\", \"Topic3\", \"Topic3\", \"Topic3\", \"Topic3\", \"Topic3\", \"Topic3\", \"Topic3\", \"Topic3\", \"Topic3\", \"Topic3\", \"Topic3\", \"Topic3\", \"Topic3\", \"Topic3\", \"Topic3\", \"Topic3\", \"Topic3\"], \"logprob\": [30.0, 29.0, 28.0, 27.0, 26.0, 25.0, 24.0, 23.0, 22.0, 21.0, 20.0, 19.0, 18.0, 17.0, 16.0, 15.0, 14.0, 13.0, 12.0, 11.0, 10.0, 9.0, 8.0, 7.0, 6.0, 5.0, 4.0, 3.0, 2.0, 1.0, -3.8066, -3.808, -3.809, -3.8109, -3.8104, -3.812, -3.8125, -3.8119, -3.8135, -3.8145, -3.8155, -3.8132, -3.8142, -3.8148, -3.8143, -3.8157, -3.817, -3.8175, -3.8204, -3.8251, -3.8286, -3.836, -2.1766, -2.1347, -3.0255, -2.9876, -3.0402, -3.5537, -2.9508, -4.9444, -3.8848, -3.905, -3.9249, -3.2132, -3.9481, -3.2192, -3.9504, -3.2227, -3.959, -3.968, -3.9782, -3.9889, -3.3096, -4.0023, -4.0026, -4.0127, -3.365, -3.4014, -3.3542, -3.3557, -2.946, -2.5865, -3.3571, -3.9941, -3.2672, -3.2303, -3.3626, -2.6274, -3.351, -5.9896, -5.7074, -2.522, -2.5234, -2.5245, -2.5275, -3.3204, -2.4426, -2.2428, -3.6332, -3.6781, -3.8043, -4.611, -4.6287, -4.6291, -4.6856, -4.7225, -4.741, -4.7789, -4.8061, -4.8148, -4.9151, -4.9991, -3.2385, -3.2669, -5.1006, -3.1788, -5.1909, -5.2237, -5.2905, -5.294, -5.3366, -4.5754, -4.877, -5.1697], \"loglift\": [30.0, 29.0, 28.0, 27.0, 26.0, 25.0, 24.0, 23.0, 22.0, 21.0, 20.0, 19.0, 18.0, 17.0, 16.0, 15.0, 14.0, 13.0, 12.0, 11.0, 10.0, 9.0, 8.0, 7.0, 6.0, 5.0, 4.0, 3.0, 2.0, 1.0, 0.4485, 0.4474, 0.446, 0.4451, 0.4447, 0.4442, 0.444, 0.4432, 0.4422, 0.4418, 0.4416, 0.4415, 0.441, 0.4409, 0.4405, 0.4399, 0.4381, 0.4381, 0.4363, 0.4296, 0.4287, 0.4213, 0.3796, 0.2152, 0.1835, 0.1318, 0.0764, 0.029, -0.0344, -0.7656, 0.9949, 0.9804, 0.9659, 0.9533, 0.9495, 0.948, 0.9478, 0.9451, 0.9413, 0.9351, 0.9268, 0.9191, 0.9181, 0.9101, 0.9099, 0.9017, 0.8767, 0.8471, 0.8246, 0.8235, 0.5854, 0.3299, 0.2257, 0.1156, -0.0582, -0.1137, -0.2432, -0.2775, -0.7948, -0.8077, -1.4502, 2.0071, 2.0048, 2.0037, 1.999, 1.8614, 1.6671, 1.2886, 0.6152, 0.5636, 0.4234, 0.3034, 0.2837, 0.2833, 0.2224, 0.1825, 0.1621, 0.1214, 0.0921, 0.0827, -0.0243, -0.1136, -0.1219, -0.1475, -0.2209, -0.8289, -0.9336, -0.9664, -1.0339, -1.0368, -1.0801, -2.0192, -1.9606, -1.9607]}, \"token.table\": {\"Topic\": [2, 3, 1, 2, 3, 2, 3, 2, 3, 1, 1, 2, 3, 1, 2, 2, 1, 1, 2, 2, 2, 2, 3, 1, 2, 1, 1, 1, 2, 1, 2, 1, 2, 1, 2, 1, 1, 2, 1, 2, 3, 2, 3, 1, 2, 3, 3, 1, 1, 1, 3, 1, 3, 2, 3, 1, 2, 3, 1, 2, 3, 1, 1, 2, 1, 1, 2, 1, 2, 3, 1, 2, 3, 1, 3, 2, 3, 1, 2, 1, 1, 2, 1, 2, 3, 1], \"Freq\": [0.3591013860660673, 0.5985023101101121, 0.6207861767144822, 0.26605121859192093, 0.08868373953064031, 0.7900597862088637, 0.9103651831503682, 0.7954542178668967, 0.26515140595563225, 0.9687349475258015, 0.7209343272491308, 0.22657935999258397, 0.041196247271378904, 0.12677661749099875, 0.7606597049459926, 0.784241966726386, 0.9699508426408276, 0.12668901084675624, 0.7601340650805374, 0.7895562185702213, 0.7917520254521689, 0.8013659878870851, 0.2671219959623617, 0.2566389026236128, 0.641597256559032, 0.968713774177743, 0.9701645150287947, 0.9704075391938659, 0.7755597972331244, 0.8303032193873869, 0.13838386989789783, 0.5654054458912621, 0.35337840368203877, 0.9690779733183241, 0.7800456720092734, 0.8324302581626999, 0.8324096679894569, 0.1387349446649095, 0.9700670084515014, 0.7939458613861015, 0.2646486204620338, 0.6829974301479446, 0.1365994860295889, 0.8306814927848626, 0.8014079571977146, 0.2671359857325715, 0.9095574045716593, 0.8318853111014958, 0.9689327047469772, 0.9696804613488269, 0.6994481596656311, 0.9690134427702148, 0.908060972626197, 0.8029691097136372, 0.2676563699045457, 0.13751331668834516, 0.6875665834417258, 0.2750266333766903, 0.8354634393779726, 0.12658536960272312, 0.025317073920544626, 0.8310254911902295, 0.6808638637100002, 0.29179879873285725, 0.9695424476437795, 0.5444299823051416, 0.4355439858441133, 0.6669918658972378, 0.22233062196574593, 0.08893224878629838, 0.969175923919154, 0.8081553705810498, 0.1346925617635083, 0.8322957569009446, 0.9095837585419506, 0.7978256146478908, 0.26594187154929694, 0.12686308055579007, 0.7611784833347404, 0.9693761513510716, 0.2565297550204924, 0.641324387551231, 0.9690475490889363, 0.5370782693056502, 0.40280870197923757, 0.8309960486425351], \"Term\": [\"\\uac10\\uc5fc\", \"\\uac10\\uc5fc\", \"\\uac15\\ud48d\", \"\\uac15\\ud48d\", \"\\uac15\\ud48d\", \"\\uac1c\\ub150\", \"\\uad50\\uc0ac\", \"\\uae34\\uc7a5\\uac10\", \"\\uae34\\uc7a5\\uac10\", \"\\ub098\\ub4e4\\uc774\\uac1d\", \"\\ub0a0\\uc528\", \"\\ub0a0\\uc528\", \"\\ub0a0\\uc528\", \"\\ub0a8\\ud574\\uc548\", \"\\ub0a8\\ud574\\uc548\", \"\\ub2e4\\uc774\\uc5b4\\ud2b8\", \"\\ub3cc\\ud48d\", \"\\ub3d9\\ubc18\", \"\\ub3d9\\ubc18\", \"\\ub514\\uc800\\ud2b8\", \"\\uba54\\ub274\", \"\\uba85\\ub300\", \"\\uba85\\ub300\", \"\\ubc14\\ub78c\", \"\\ubc14\\ub78c\", \"\\ubc1c\\uae38\", \"\\ubc29\\uc5ed\", \"\\ubc88\\uac1c\", \"\\ubca0\\uc774\\ucee4\\ub9ac\", \"\\ubd04\\uae30\\uc6b4\", \"\\ubd04\\uae30\\uc6b4\", \"\\ubd04\\ube44\", \"\\ubd04\\ube44\", \"\\ubd04\\ucca0\", \"\\ube0c\\ub79c\\ub4dc\", \"\\uc0b0\\uac04\", \"\\uc11c\\uc6b8\", \"\\uc11c\\uc6b8\", \"\\uc18c\\uc2dd\", \"\\uc18d\\ucd9c\", \"\\uc18d\\ucd9c\", \"\\uc218\\ub3c4\", \"\\uc218\\ub3c4\", \"\\uc2dd\\ubb3c\\uc6d0\", \"\\uc2e0\\uaddc\", \"\\uc2e0\\uaddc\", \"\\uc544\\uc0b0\", \"\\uc548\\uac00\", \"\\uc57c\\uc678\", \"\\uc624\\ub298\", \"\\uc624\\uc804\", \"\\uc624\\ud6c4\", \"\\uc720\\uce58\\uc6d0\\uc0dd\", \"\\uc77c\\uc0c1\", \"\\uc77c\\uc0c1\", \"\\uc790\\ube44\", \"\\uc790\\ube44\", \"\\uc790\\ube44\", \"\\uc804\\uad6d\", \"\\uc804\\uad6d\", \"\\uc804\\uad6d\", \"\\uc810\\uac80\", \"\\uc81c\\uc8fc\", \"\\uc81c\\uc8fc\", \"\\uc81c\\uc8fc\\ub3c4\", \"\\uc8fc\\ub9d0\", \"\\uc8fc\\ub9d0\", \"\\uc8fc\\uc758\", \"\\uc8fc\\uc758\", \"\\uc8fc\\uc758\", \"\\uc8fc\\uc758\\ubcf4\", \"\\uc9c0\\uc5ed\", \"\\uc9c0\\uc5ed\", \"\\ucc9c\\ub465\", \"\\ucd94\\uc815\", \"\\uce7c\\ub85c\\ub9ac\", \"\\uce7c\\ub85c\\ub9ac\", \"\\ud070\\ube44\", \"\\ud070\\ube44\", \"\\ud2b9\\ubcc4\", \"\\ud574\\uc548\\uac00\", \"\\ud574\\uc548\\uac00\", \"\\ud638\\uc6b0\", \"\\ud655\\uc9c4\", \"\\ud655\\uc9c4\", \"\\ud65c\\ub3d9\"]}, \"R\": 30, \"lambda.step\": 0.01, \"plot.opts\": {\"xlab\": \"PC1\", \"ylab\": \"PC2\"}, \"topic.order\": [2, 3, 1]};\n",
       "\n",
       "function LDAvis_load_lib(url, callback){\n",
       "  var s = document.createElement('script');\n",
       "  s.src = url;\n",
       "  s.async = true;\n",
       "  s.onreadystatechange = s.onload = callback;\n",
       "  s.onerror = function(){console.warn(\"failed to load library \" + url);};\n",
       "  document.getElementsByTagName(\"head\")[0].appendChild(s);\n",
       "}\n",
       "\n",
       "if(typeof(LDAvis) !== \"undefined\"){\n",
       "   // already loaded: just create the visualization\n",
       "   !function(LDAvis){\n",
       "       new LDAvis(\"#\" + \"ldavis_el134191405086477891683245568749\", ldavis_el134191405086477891683245568749_data);\n",
       "   }(LDAvis);\n",
       "}else if(typeof define === \"function\" && define.amd){\n",
       "   // require.js is available: use it to load d3/LDAvis\n",
       "   require.config({paths: {d3: \"https://d3js.org/d3.v5\"}});\n",
       "   require([\"d3\"], function(d3){\n",
       "      window.d3 = d3;\n",
       "      LDAvis_load_lib(\"https://cdn.jsdelivr.net/gh/bmabey/pyLDAvis@3.3.1/pyLDAvis/js/ldavis.v3.0.0.js\", function(){\n",
       "        new LDAvis(\"#\" + \"ldavis_el134191405086477891683245568749\", ldavis_el134191405086477891683245568749_data);\n",
       "      });\n",
       "    });\n",
       "}else{\n",
       "    // require.js not available: dynamically load d3 & LDAvis\n",
       "    LDAvis_load_lib(\"https://d3js.org/d3.v5.js\", function(){\n",
       "         LDAvis_load_lib(\"https://cdn.jsdelivr.net/gh/bmabey/pyLDAvis@3.3.1/pyLDAvis/js/ldavis.v3.0.0.js\", function(){\n",
       "                 new LDAvis(\"#\" + \"ldavis_el134191405086477891683245568749\", ldavis_el134191405086477891683245568749_data);\n",
       "            })\n",
       "         });\n",
       "}\n",
       "</script>"
      ],
      "text/plain": [
       "PreparedData(topic_coordinates=              x         y  topics  cluster      Freq\n",
       "topic                                               \n",
       "1     -0.179709  0.038037       1        1  57.94472\n",
       "2      0.026458 -0.099886       2        1  30.47397\n",
       "0      0.153251  0.061849       3        1  11.58131, topic_info=   Term       Freq      Total Category  logprob  loglift\n",
       "22   확진  14.000000  14.000000  Default  30.0000  30.0000\n",
       "17   감염   8.000000   8.000000  Default  29.0000  29.0000\n",
       "18   교사   5.000000   5.000000  Default  28.0000  28.0000\n",
       "21   추정   5.000000   5.000000  Default  27.0000  27.0000\n",
       "19   아산   5.000000   5.000000  Default  26.0000  26.0000\n",
       "..  ...        ...        ...      ...      ...      ...\n",
       "10   천둥   0.296031   7.208976   Topic3  -5.2940  -1.0368\n",
       "8    번개   0.283670   7.213464   Topic3  -5.3366  -1.0801\n",
       "3    전국   0.607323  39.499035   Topic3  -4.5754  -2.0192\n",
       "4    주말   0.449184  27.551752   Topic3  -4.8770  -1.9606\n",
       "12   제주   0.335207  20.562113   Topic3  -5.1697  -1.9607\n",
       "\n",
       "[124 rows x 6 columns], token_table=      Topic      Freq Term\n",
       "term                      \n",
       "17        2  0.359101   감염\n",
       "17        3  0.598502   감염\n",
       "15        1  0.620786   강풍\n",
       "15        2  0.266051   강풍\n",
       "15        3  0.088684   강풍\n",
       "...     ...       ...  ...\n",
       "6         2  0.641324  해안가\n",
       "14        1  0.969048   호우\n",
       "22        2  0.537078   확진\n",
       "22        3  0.402809   확진\n",
       "55        1  0.830996   활동\n",
       "\n",
       "[86 rows x 3 columns], R=30, lambda_step=0.01, plot_opts={'xlab': 'PC1', 'ylab': 'PC2'}, topic_order=[2, 3, 1])"
      ]
     },
     "execution_count": 29,
     "metadata": {},
     "output_type": "execute_result"
    }
   ],
   "source": [
    "# pyLDAvis 불러오기\n",
    "import pyLDAvis\n",
    "import pyLDAvis.gensim_models as gensimvis\n",
    "\n",
    "# pyLDAvis를 jupyter notebook에서 실행할 수 있게 활성화.\n",
    "pyLDAvis.enable_notebook()\n",
    "\n",
    "# pyLDAvis 실행\n",
    "data = gensimvis.prepare(model, corpus, dictionary)\n",
    "data"
   ]
  },
  {
   "cell_type": "code",
   "execution_count": null,
   "metadata": {},
   "outputs": [],
   "source": []
  }
 ],
 "metadata": {
  "kernelspec": {
   "display_name": "Python 3",
   "language": "python",
   "name": "python3"
  },
  "language_info": {
   "codemirror_mode": {
    "name": "ipython",
    "version": 3
   },
   "file_extension": ".py",
   "mimetype": "text/x-python",
   "name": "python",
   "nbconvert_exporter": "python",
   "pygments_lexer": "ipython3",
   "version": "3.8.5"
  }
 },
 "nbformat": 4,
 "nbformat_minor": 4
}
