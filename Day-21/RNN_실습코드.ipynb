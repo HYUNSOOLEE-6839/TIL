{
  "nbformat": 4,
  "nbformat_minor": 0,
  "metadata": {
    "colab": {
      "name": "RNN_실습코드.ipynb",
      "provenance": []
    },
    "kernelspec": {
      "name": "python3",
      "display_name": "Python 3"
    },
    "language_info": {
      "name": "python"
    }
  },
  "cells": [
    {
      "cell_type": "code",
      "metadata": {
        "id": "x4_zhEYjsDdk"
      },
      "source": [
        "import tensorflow as tf\n",
        "import numpy as np"
      ],
      "execution_count": 1,
      "outputs": []
    },
    {
      "cell_type": "code",
      "metadata": {
        "id": "YaxPCIR1sFni"
      },
      "source": [
        "EPOCHS = 10\n",
        "NUM_WORDS = 10000"
      ],
      "execution_count": 2,
      "outputs": []
    },
    {
      "cell_type": "code",
      "metadata": {
        "id": "xNHx3mhzsJeQ"
      },
      "source": [
        "class MyModel(tf.keras.Model):\n",
        "    def __init__(self):\n",
        "        super().__init__()\n",
        "        self.emb = tf.keras.layers.Embedding(NUM_WORDS, 16)\n",
        "        self.lstm = tf.keras.layers.LSTM(32)\n",
        "        self.dense = tf.keras.layers.Dense(1, activation='sigmoid')\n",
        "# binary classification을 사용하기에 sigmoid 함수 사용\n",
        "\n",
        "    def call(self, x, training=None, mask=None):\n",
        "        x = self.emb(x)\n",
        "        x = self.lstm(x)\n",
        "        return self.dense(x)"
      ],
      "execution_count": 3,
      "outputs": []
    },
    {
      "cell_type": "code",
      "metadata": {
        "colab": {
          "base_uri": "https://localhost:8080/"
        },
        "id": "j_xUSGI-sKzn",
        "outputId": "1f43b623-9e9a-4a5c-c796-a4af52f91d86"
      },
      "source": [
        "imdb = tf.keras.datasets.imdb\n",
        "(x_train, y_train), (x_test, y_test) = imdb.load_data(num_words=NUM_WORDS)\n",
        "# x는 영화의 평, y는 긍정/부정을 나타내는 label.\n",
        "\n",
        "x_train = tf.keras.preprocessing.sequence.pad_sequences(x_train, value=0, padding='pre', maxlen=32)\n",
        "# 32길이로 잘라주고 패딩이 필요하면 앞 쪽에서 0으로 패딩\n",
        "x_test = tf.keras.preprocessing.sequence.pad_sequences(x_test, value=0, padding='pre', maxlen=32)\n",
        "\n",
        "train_ds = tf.data.Dataset.from_tensor_slices((x_train, y_train)).shuffle(1000).batch(32)\n",
        "test_ds = tf.data.Dataset.from_tensor_slices((x_test, y_test)).batch(32)"
      ],
      "execution_count": 4,
      "outputs": [
        {
          "output_type": "stream",
          "text": [
            "Downloading data from https://storage.googleapis.com/tensorflow/tf-keras-datasets/imdb.npz\n",
            "17465344/17464789 [==============================] - 0s 0us/step\n"
          ],
          "name": "stdout"
        },
        {
          "output_type": "stream",
          "text": [
            "<string>:6: VisibleDeprecationWarning: Creating an ndarray from ragged nested sequences (which is a list-or-tuple of lists-or-tuples-or ndarrays with different lengths or shapes) is deprecated. If you meant to do this, you must specify 'dtype=object' when creating the ndarray\n",
            "/usr/local/lib/python3.7/dist-packages/tensorflow/python/keras/datasets/imdb.py:159: VisibleDeprecationWarning: Creating an ndarray from ragged nested sequences (which is a list-or-tuple of lists-or-tuples-or ndarrays with different lengths or shapes) is deprecated. If you meant to do this, you must specify 'dtype=object' when creating the ndarray\n",
            "  x_train, y_train = np.array(xs[:idx]), np.array(labels[:idx])\n",
            "/usr/local/lib/python3.7/dist-packages/tensorflow/python/keras/datasets/imdb.py:160: VisibleDeprecationWarning: Creating an ndarray from ragged nested sequences (which is a list-or-tuple of lists-or-tuples-or ndarrays with different lengths or shapes) is deprecated. If you meant to do this, you must specify 'dtype=object' when creating the ndarray\n",
            "  x_test, y_test = np.array(xs[idx:]), np.array(labels[idx:])\n"
          ],
          "name": "stderr"
        }
      ]
    },
    {
      "cell_type": "code",
      "metadata": {
        "id": "8gRcBPoNsMLa"
      },
      "source": [
        "model = MyModel()\n",
        "\n",
        "model.compile(optimizer='adam',\n",
        "loss='binary_crossentropy', # Multiclass가 아니기에 binary\n",
        "metrics=['accuracy'])"
      ],
      "execution_count": 5,
      "outputs": []
    },
    {
      "cell_type": "code",
      "metadata": {
        "colab": {
          "base_uri": "https://localhost:8080/"
        },
        "id": "0wOtNvzXsOwh",
        "outputId": "62b2b49a-9cdd-4b81-d09f-111021ae55fa"
      },
      "source": [
        "model.fit(train_ds, validation_data=test_ds, epochs=EPOCHS)"
      ],
      "execution_count": 6,
      "outputs": [
        {
          "output_type": "stream",
          "text": [
            "Epoch 1/10\n",
            "782/782 [==============================] - 19s 21ms/step - loss: 0.5721 - accuracy: 0.6720 - val_loss: 0.4403 - val_accuracy: 0.7899\n",
            "Epoch 2/10\n",
            "782/782 [==============================] - 16s 21ms/step - loss: 0.3732 - accuracy: 0.8313 - val_loss: 0.4405 - val_accuracy: 0.7899\n",
            "Epoch 3/10\n",
            "782/782 [==============================] - 17s 21ms/step - loss: 0.3136 - accuracy: 0.8646 - val_loss: 0.4779 - val_accuracy: 0.7814\n",
            "Epoch 4/10\n",
            "782/782 [==============================] - 17s 21ms/step - loss: 0.2568 - accuracy: 0.8920 - val_loss: 0.5637 - val_accuracy: 0.7720\n",
            "Epoch 5/10\n",
            "782/782 [==============================] - 17s 22ms/step - loss: 0.2023 - accuracy: 0.9212 - val_loss: 0.7455 - val_accuracy: 0.7607\n",
            "Epoch 6/10\n",
            "782/782 [==============================] - 17s 22ms/step - loss: 0.1638 - accuracy: 0.9374 - val_loss: 0.7505 - val_accuracy: 0.7654\n",
            "Epoch 7/10\n",
            "782/782 [==============================] - 17s 22ms/step - loss: 0.1242 - accuracy: 0.9521 - val_loss: 0.8567 - val_accuracy: 0.7560\n",
            "Epoch 8/10\n",
            "782/782 [==============================] - 17s 22ms/step - loss: 0.1023 - accuracy: 0.9615 - val_loss: 1.0446 - val_accuracy: 0.7522\n",
            "Epoch 9/10\n",
            "782/782 [==============================] - 17s 22ms/step - loss: 0.0767 - accuracy: 0.9724 - val_loss: 1.1490 - val_accuracy: 0.7538\n",
            "Epoch 10/10\n",
            "782/782 [==============================] - 17s 21ms/step - loss: 0.0594 - accuracy: 0.9793 - val_loss: 1.2984 - val_accuracy: 0.7452\n"
          ],
          "name": "stdout"
        },
        {
          "output_type": "execute_result",
          "data": {
            "text/plain": [
              "<tensorflow.python.keras.callbacks.History at 0x7f3d0df53d50>"
            ]
          },
          "metadata": {
            "tags": []
          },
          "execution_count": 6
        }
      ]
    },
    {
      "cell_type": "markdown",
      "metadata": {
        "id": "l6J0VnpfspQv"
      },
      "source": [
        "### GRU 코드"
      ]
    },
    {
      "cell_type": "code",
      "metadata": {
        "id": "BWek9ZCysSDS"
      },
      "source": [
        "class MyModel(tf.keras.Model):\n",
        "    def __init__(self):\n",
        "        super().__init__()\n",
        "        self.emb = tf.keras.layers.Embedding(NUM_WORDS, 16)\n",
        "        self.gru = tf.keras.layers.GRU(32)\n",
        "        self.dense = tf.keras.layers.Dense(1, activation='sigmoid')\n",
        "# binary classification을 사용하기에 sigmoid 함수 사용\n",
        "\n",
        "    def call(self, x, training=None, mask=None):\n",
        "        x = self.emb(x)\n",
        "        x = self.gru(x)\n",
        "        return self.dense(x)"
      ],
      "execution_count": 7,
      "outputs": []
    },
    {
      "cell_type": "code",
      "metadata": {
        "colab": {
          "base_uri": "https://localhost:8080/"
        },
        "id": "Ekaqxa7as8og",
        "outputId": "8f402ac8-666f-4c6c-a8c0-6ca8f9f4cefe"
      },
      "source": [
        "imdb = tf.keras.datasets.imdb\n",
        "(x_train, y_train), (x_test, y_test) = imdb.load_data(num_words=NUM_WORDS)\n",
        "# x는 영화의 평, y는 긍정/부정을 나타내는 label.\n",
        "\n",
        "x_train = tf.keras.preprocessing.sequence.pad_sequences(x_train, value=0, padding='pre', maxlen=32)\n",
        "# 32길이로 잘라주고 패딩이 필요하면 앞 쪽에서 0으로 패딩\n",
        "x_test = tf.keras.preprocessing.sequence.pad_sequences(x_test, value=0, padding='pre', maxlen=32)\n",
        "\n",
        "train_ds = tf.data.Dataset.from_tensor_slices((x_train, y_train)).shuffle(1000).batch(32)\n",
        "test_ds = tf.data.Dataset.from_tensor_slices((x_test, y_test)).batch(32)"
      ],
      "execution_count": 8,
      "outputs": [
        {
          "output_type": "stream",
          "text": [
            "<string>:6: VisibleDeprecationWarning: Creating an ndarray from ragged nested sequences (which is a list-or-tuple of lists-or-tuples-or ndarrays with different lengths or shapes) is deprecated. If you meant to do this, you must specify 'dtype=object' when creating the ndarray\n",
            "/usr/local/lib/python3.7/dist-packages/tensorflow/python/keras/datasets/imdb.py:159: VisibleDeprecationWarning: Creating an ndarray from ragged nested sequences (which is a list-or-tuple of lists-or-tuples-or ndarrays with different lengths or shapes) is deprecated. If you meant to do this, you must specify 'dtype=object' when creating the ndarray\n",
            "  x_train, y_train = np.array(xs[:idx]), np.array(labels[:idx])\n",
            "/usr/local/lib/python3.7/dist-packages/tensorflow/python/keras/datasets/imdb.py:160: VisibleDeprecationWarning: Creating an ndarray from ragged nested sequences (which is a list-or-tuple of lists-or-tuples-or ndarrays with different lengths or shapes) is deprecated. If you meant to do this, you must specify 'dtype=object' when creating the ndarray\n",
            "  x_test, y_test = np.array(xs[idx:]), np.array(labels[idx:])\n"
          ],
          "name": "stderr"
        }
      ]
    },
    {
      "cell_type": "code",
      "metadata": {
        "id": "Sv6_Qq4Hs-Ne"
      },
      "source": [
        "model = MyModel()\n",
        "\n",
        "model.compile(optimizer='adam',\n",
        "loss='binary_crossentropy', # Multiclass가 아니기에 binary\n",
        "metrics=['accuracy'])"
      ],
      "execution_count": 9,
      "outputs": []
    },
    {
      "cell_type": "code",
      "metadata": {
        "colab": {
          "base_uri": "https://localhost:8080/"
        },
        "id": "TphbCI7ttAEx",
        "outputId": "691d98ba-86f1-47fb-b397-f2fb199ab2c9"
      },
      "source": [
        "model.fit(train_ds, validation_data=test_ds, epochs=EPOCHS)"
      ],
      "execution_count": 10,
      "outputs": [
        {
          "output_type": "stream",
          "text": [
            "Epoch 1/10\n",
            "782/782 [==============================] - 18s 21ms/step - loss: 0.5788 - accuracy: 0.6698 - val_loss: 0.4481 - val_accuracy: 0.7863\n",
            "Epoch 2/10\n",
            "782/782 [==============================] - 16s 21ms/step - loss: 0.3842 - accuracy: 0.8284 - val_loss: 0.4511 - val_accuracy: 0.7859\n",
            "Epoch 3/10\n",
            "782/782 [==============================] - 16s 21ms/step - loss: 0.3342 - accuracy: 0.8577 - val_loss: 0.4808 - val_accuracy: 0.7811\n",
            "Epoch 4/10\n",
            "782/782 [==============================] - 16s 20ms/step - loss: 0.2980 - accuracy: 0.8755 - val_loss: 0.5136 - val_accuracy: 0.7762\n",
            "Epoch 5/10\n",
            "782/782 [==============================] - 16s 20ms/step - loss: 0.2600 - accuracy: 0.8988 - val_loss: 0.5511 - val_accuracy: 0.7732\n",
            "Epoch 6/10\n",
            "782/782 [==============================] - 16s 20ms/step - loss: 0.2213 - accuracy: 0.9164 - val_loss: 0.6498 - val_accuracy: 0.7656\n",
            "Epoch 7/10\n",
            "782/782 [==============================] - 16s 20ms/step - loss: 0.1816 - accuracy: 0.9360 - val_loss: 0.6990 - val_accuracy: 0.7610\n",
            "Epoch 8/10\n",
            "782/782 [==============================] - 16s 20ms/step - loss: 0.1535 - accuracy: 0.9475 - val_loss: 0.8129 - val_accuracy: 0.7539\n",
            "Epoch 9/10\n",
            "782/782 [==============================] - 16s 21ms/step - loss: 0.1235 - accuracy: 0.9566 - val_loss: 0.9528 - val_accuracy: 0.7482\n",
            "Epoch 10/10\n",
            "782/782 [==============================] - 17s 22ms/step - loss: 0.0967 - accuracy: 0.9694 - val_loss: 1.0027 - val_accuracy: 0.7470\n"
          ],
          "name": "stdout"
        },
        {
          "output_type": "execute_result",
          "data": {
            "text/plain": [
              "<tensorflow.python.keras.callbacks.History at 0x7f3cce653550>"
            ]
          },
          "metadata": {
            "tags": []
          },
          "execution_count": 10
        }
      ]
    },
    {
      "cell_type": "code",
      "metadata": {
        "id": "q8gwc4kTtBlZ"
      },
      "source": [
        ""
      ],
      "execution_count": null,
      "outputs": []
    }
  ]
}