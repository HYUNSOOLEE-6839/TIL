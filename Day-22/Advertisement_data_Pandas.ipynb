{
 "cells": [
  {
   "cell_type": "code",
   "execution_count": 1,
   "metadata": {},
   "outputs": [],
   "source": [
    "import numpy as np\n",
    "import pandas as pd\n",
    "import matplotlib.pyplot as plt"
   ]
  },
  {
   "cell_type": "code",
   "execution_count": 19,
   "metadata": {},
   "outputs": [],
   "source": [
    "# matplotlib 한글 깨짐 발생 방지 - Mac\n",
    "import matplotlib\n",
    "from matplotlib import font_manager, rc\n",
    "import platform\n",
    "rc('font', family = 'AppleGothic')\n",
    "matplotlib.rcParams['axes.unicode_minus'] = False"
   ]
  },
  {
   "cell_type": "markdown",
   "metadata": {},
   "source": [
    "# Domain Knowledge 2: 광고성과지표"
   ]
  },
  {
   "cell_type": "code",
   "execution_count": 8,
   "metadata": {},
   "outputs": [
    {
     "data": {
      "text/html": [
       "<div>\n",
       "<style scoped>\n",
       "    .dataframe tbody tr th:only-of-type {\n",
       "        vertical-align: middle;\n",
       "    }\n",
       "\n",
       "    .dataframe tbody tr th {\n",
       "        vertical-align: top;\n",
       "    }\n",
       "\n",
       "    .dataframe thead th {\n",
       "        text-align: right;\n",
       "    }\n",
       "</style>\n",
       "<table border=\"1\" class=\"dataframe\">\n",
       "  <thead>\n",
       "    <tr style=\"text-align: right;\">\n",
       "      <th></th>\n",
       "      <th>광고성과지표 =</th>\n",
       "      <th>계산식</th>\n",
       "    </tr>\n",
       "  </thead>\n",
       "  <tbody>\n",
       "    <tr>\n",
       "      <th>0</th>\n",
       "      <td>CTR(Click Through Rate) =</td>\n",
       "      <td>클릭수 / 노출수 * 100</td>\n",
       "    </tr>\n",
       "    <tr>\n",
       "      <th>1</th>\n",
       "      <td>CPM(Cost per Mile) =</td>\n",
       "      <td>광고비용 / 노출수 * 1000</td>\n",
       "    </tr>\n",
       "    <tr>\n",
       "      <th>2</th>\n",
       "      <td>CPC(Cost Per Click) =</td>\n",
       "      <td>광고비용 / 클릭수</td>\n",
       "    </tr>\n",
       "    <tr>\n",
       "      <th>3</th>\n",
       "      <td>CPA(Cost Per Action) =</td>\n",
       "      <td>광고비용 / 구매수</td>\n",
       "    </tr>\n",
       "  </tbody>\n",
       "</table>\n",
       "</div>"
      ],
      "text/plain": [
       "                     광고성과지표 =                계산식\n",
       "0  CTR(Click Through Rate) =     클릭수 / 노출수 * 100\n",
       "1       CPM(Cost per Mile) =   광고비용 / 노출수 * 1000\n",
       "2      CPC(Cost Per Click) =          광고비용 / 클릭수\n",
       "3     CPA(Cost Per Action) =          광고비용 / 구매수"
      ]
     },
     "execution_count": 8,
     "metadata": {},
     "output_type": "execute_result"
    }
   ],
   "source": [
    "df_ad = pd.DataFrame({'광고성과지표 =':['CTR(Click Through Rate) = ', 'CPM(Cost per Mile) = ', 'CPC(Cost Per Click) = ', 'CPA(Cost Per Action) = '],\n",
    "                             '계산식':['클릭수 / 노출수 * 100', '광고비용 / 노출수 * 1000', '광고비용 / 클릭수', '광고비용 / 구매수']}, index=None)\n",
    "df_ad"
   ]
  },
  {
   "cell_type": "code",
   "execution_count": 9,
   "metadata": {},
   "outputs": [],
   "source": [
    "imp = 10000 # 노출 수\n",
    "clk = 100 # 클릭 수\n",
    "conv = 10 # 구매 수\n",
    "cost = 100000 # 광고 비용"
   ]
  },
  {
   "cell_type": "code",
   "execution_count": 13,
   "metadata": {},
   "outputs": [
    {
     "data": {
      "text/plain": [
       "1.0"
      ]
     },
     "execution_count": 13,
     "metadata": {},
     "output_type": "execute_result"
    }
   ],
   "source": [
    "# ctr\n",
    "ctr = clk / imp * 100\n",
    "ctr"
   ]
  },
  {
   "cell_type": "code",
   "execution_count": 14,
   "metadata": {},
   "outputs": [
    {
     "data": {
      "text/plain": [
       "10000.0"
      ]
     },
     "execution_count": 14,
     "metadata": {},
     "output_type": "execute_result"
    }
   ],
   "source": [
    "# cpm\n",
    "cpm = cost / imp * 1000\n",
    "cpm"
   ]
  },
  {
   "cell_type": "code",
   "execution_count": 15,
   "metadata": {},
   "outputs": [
    {
     "data": {
      "text/plain": [
       "1000.0"
      ]
     },
     "execution_count": 15,
     "metadata": {},
     "output_type": "execute_result"
    }
   ],
   "source": [
    "# cpc\n",
    "cpc = cost / clk\n",
    "cpc"
   ]
  },
  {
   "cell_type": "code",
   "execution_count": 16,
   "metadata": {},
   "outputs": [
    {
     "data": {
      "text/plain": [
       "10000.0"
      ]
     },
     "execution_count": 16,
     "metadata": {},
     "output_type": "execute_result"
    }
   ],
   "source": [
    "# cpa\n",
    "cpc = cost / conv\n",
    "cpc"
   ]
  },
  {
   "cell_type": "markdown",
   "metadata": {},
   "source": [
    "# 검색 광고 데이터 분석 \n",
    "# 패스트캠퍼스 검색광고 데이터 분석"
   ]
  },
  {
   "cell_type": "markdown",
   "metadata": {},
   "source": [
    "## 분석목표 :\n",
    "1. 중점관리 키워드, 저효율 키워드 추출\n",
    "2. 중점관리 광고그룹, 저효율 광고그룹 추출\n",
    "\n",
    "## 분석과정 :\n",
    "1. 데이터 전처리\n",
    "2. 데이터 탐색\n",
    "3. 시각화\n",
    "4. 데이터 분석"
   ]
  },
  {
   "cell_type": "markdown",
   "metadata": {},
   "source": [
    "### 1. 데이터 전처리\n",
    "- 학습 목표 :\n",
    "    - 1. read_excel 함수를 사용하여 파이썬에 데이터 불러오기\n",
    "    - 2. 데이터프레임의 열 단위 수치연산 및 데이터 타입 다루기"
   ]
  },
  {
   "cell_type": "markdown",
   "metadata": {},
   "source": [
    "#### * read_excel 함수를 사용하여 파이썬에 데이터 불러오기\n",
    "- 파이썬의 디렉토리 경로 구분자 : 슬래시(/)\n",
    "- 운영체제별 디렉토리 경로 구분자\n",
    "    1. Mac의 경우 : 슬래시(/)\n",
    "    2. 윈도우의 경우 : 역슬래시(\\)"
   ]
  },
  {
   "cell_type": "code",
   "execution_count": 25,
   "metadata": {},
   "outputs": [
    {
     "data": {
      "text/html": [
       "<div>\n",
       "<style scoped>\n",
       "    .dataframe tbody tr th:only-of-type {\n",
       "        vertical-align: middle;\n",
       "    }\n",
       "\n",
       "    .dataframe tbody tr th {\n",
       "        vertical-align: top;\n",
       "    }\n",
       "\n",
       "    .dataframe thead th {\n",
       "        text-align: right;\n",
       "    }\n",
       "</style>\n",
       "<table border=\"1\" class=\"dataframe\">\n",
       "  <thead>\n",
       "    <tr style=\"text-align: right;\">\n",
       "      <th></th>\n",
       "      <th>캠페인보고서(2019.02.01.~2019.04.30.),ftasia</th>\n",
       "      <th>Unnamed: 1</th>\n",
       "      <th>Unnamed: 2</th>\n",
       "      <th>Unnamed: 3</th>\n",
       "      <th>Unnamed: 4</th>\n",
       "      <th>Unnamed: 5</th>\n",
       "      <th>Unnamed: 6</th>\n",
       "    </tr>\n",
       "  </thead>\n",
       "  <tbody>\n",
       "    <tr>\n",
       "      <th>0</th>\n",
       "      <td>광고그룹</td>\n",
       "      <td>키워드</td>\n",
       "      <td>노출수</td>\n",
       "      <td>클릭수</td>\n",
       "      <td>클릭률(%)</td>\n",
       "      <td>평균클릭비용(VAT포함,원)</td>\n",
       "      <td>총비용(VAT포함,원)</td>\n",
       "    </tr>\n",
       "    <tr>\n",
       "      <th>1</th>\n",
       "      <td>올인원 패키지 : 디자인 툴_파워컨텐츠_포토샵</td>\n",
       "      <td>-</td>\n",
       "      <td>2319456</td>\n",
       "      <td>9606</td>\n",
       "      <td>0.414149</td>\n",
       "      <td>261.549448</td>\n",
       "      <td>2512444</td>\n",
       "    </tr>\n",
       "    <tr>\n",
       "      <th>2</th>\n",
       "      <td>올인원 패키지 : 업무자동화_VBA</td>\n",
       "      <td>-</td>\n",
       "      <td>767491</td>\n",
       "      <td>8058</td>\n",
       "      <td>1.049915</td>\n",
       "      <td>295.974808</td>\n",
       "      <td>2384965</td>\n",
       "    </tr>\n",
       "    <tr>\n",
       "      <th>3</th>\n",
       "      <td>ㅍAOP 전체_중복키워드_디자인(삭제)</td>\n",
       "      <td>일러스트</td>\n",
       "      <td>1137840</td>\n",
       "      <td>324</td>\n",
       "      <td>0.028475</td>\n",
       "      <td>4841.66358</td>\n",
       "      <td>1568699</td>\n",
       "    </tr>\n",
       "    <tr>\n",
       "      <th>4</th>\n",
       "      <td>올인원 패키지 : 데이터 분석 입문 온라인_파콘</td>\n",
       "      <td>-</td>\n",
       "      <td>694106</td>\n",
       "      <td>1863.6</td>\n",
       "      <td>0.268489</td>\n",
       "      <td>630.593475</td>\n",
       "      <td>1175174</td>\n",
       "    </tr>\n",
       "  </tbody>\n",
       "</table>\n",
       "</div>"
      ],
      "text/plain": [
       "  캠페인보고서(2019.02.01.~2019.04.30.),ftasia Unnamed: 1 Unnamed: 2 Unnamed: 3  \\\n",
       "0                                   광고그룹        키워드        노출수        클릭수   \n",
       "1              올인원 패키지 : 디자인 툴_파워컨텐츠_포토샵          -    2319456       9606   \n",
       "2                    올인원 패키지 : 업무자동화_VBA          -     767491       8058   \n",
       "3                  ㅍAOP 전체_중복키워드_디자인(삭제)       일러스트    1137840        324   \n",
       "4             올인원 패키지 : 데이터 분석 입문 온라인_파콘          -     694106     1863.6   \n",
       "\n",
       "  Unnamed: 4       Unnamed: 5    Unnamed: 6  \n",
       "0     클릭률(%)  평균클릭비용(VAT포함,원)  총비용(VAT포함,원)  \n",
       "1   0.414149       261.549448       2512444  \n",
       "2   1.049915       295.974808       2384965  \n",
       "3   0.028475       4841.66358       1568699  \n",
       "4   0.268489       630.593475       1175174  "
      ]
     },
     "execution_count": 25,
     "metadata": {},
     "output_type": "execute_result"
    }
   ],
   "source": [
    "df = pd.read_excel('./Data/네이버보고서.xls')\n",
    "df.head()"
   ]
  },
  {
   "cell_type": "markdown",
   "metadata": {},
   "source": [
    "- 제일 윗 행에 Unnamed 라는 불필요한 행 존재. 이를 삭제해보자."
   ]
  },
  {
   "cell_type": "markdown",
   "metadata": {},
   "source": [
    "### Skiprow 함수를 통해 불필요한 행 제거"
   ]
  },
  {
   "cell_type": "code",
   "execution_count": 26,
   "metadata": {},
   "outputs": [
    {
     "data": {
      "text/html": [
       "<div>\n",
       "<style scoped>\n",
       "    .dataframe tbody tr th:only-of-type {\n",
       "        vertical-align: middle;\n",
       "    }\n",
       "\n",
       "    .dataframe tbody tr th {\n",
       "        vertical-align: top;\n",
       "    }\n",
       "\n",
       "    .dataframe thead th {\n",
       "        text-align: right;\n",
       "    }\n",
       "</style>\n",
       "<table border=\"1\" class=\"dataframe\">\n",
       "  <thead>\n",
       "    <tr style=\"text-align: right;\">\n",
       "      <th></th>\n",
       "      <th>광고그룹</th>\n",
       "      <th>키워드</th>\n",
       "      <th>노출수</th>\n",
       "      <th>클릭수</th>\n",
       "      <th>클릭률(%)</th>\n",
       "      <th>평균클릭비용(VAT포함,원)</th>\n",
       "      <th>총비용(VAT포함,원)</th>\n",
       "    </tr>\n",
       "  </thead>\n",
       "  <tbody>\n",
       "    <tr>\n",
       "      <th>0</th>\n",
       "      <td>올인원 패키지 : 디자인 툴_파워컨텐츠_포토샵</td>\n",
       "      <td>-</td>\n",
       "      <td>2319456</td>\n",
       "      <td>9606.0</td>\n",
       "      <td>0.414149</td>\n",
       "      <td>261.549448</td>\n",
       "      <td>2512444</td>\n",
       "    </tr>\n",
       "    <tr>\n",
       "      <th>1</th>\n",
       "      <td>올인원 패키지 : 업무자동화_VBA</td>\n",
       "      <td>-</td>\n",
       "      <td>767491</td>\n",
       "      <td>8058.0</td>\n",
       "      <td>1.049915</td>\n",
       "      <td>295.974808</td>\n",
       "      <td>2384965</td>\n",
       "    </tr>\n",
       "    <tr>\n",
       "      <th>2</th>\n",
       "      <td>ㅍAOP 전체_중복키워드_디자인(삭제)</td>\n",
       "      <td>일러스트</td>\n",
       "      <td>1137840</td>\n",
       "      <td>324.0</td>\n",
       "      <td>0.028475</td>\n",
       "      <td>4841.663580</td>\n",
       "      <td>1568699</td>\n",
       "    </tr>\n",
       "    <tr>\n",
       "      <th>3</th>\n",
       "      <td>올인원 패키지 : 데이터 분석 입문 온라인_파콘</td>\n",
       "      <td>-</td>\n",
       "      <td>694106</td>\n",
       "      <td>1863.6</td>\n",
       "      <td>0.268489</td>\n",
       "      <td>630.593475</td>\n",
       "      <td>1175174</td>\n",
       "    </tr>\n",
       "    <tr>\n",
       "      <th>4</th>\n",
       "      <td>3. html</td>\n",
       "      <td>HTML</td>\n",
       "      <td>9626374</td>\n",
       "      <td>813.6</td>\n",
       "      <td>0.008452</td>\n",
       "      <td>1408.435349</td>\n",
       "      <td>1145903</td>\n",
       "    </tr>\n",
       "  </tbody>\n",
       "</table>\n",
       "</div>"
      ],
      "text/plain": [
       "                         광고그룹   키워드      노출수     클릭수    클릭률(%)  \\\n",
       "0   올인원 패키지 : 디자인 툴_파워컨텐츠_포토샵     -  2319456  9606.0  0.414149   \n",
       "1         올인원 패키지 : 업무자동화_VBA     -   767491  8058.0  1.049915   \n",
       "2       ㅍAOP 전체_중복키워드_디자인(삭제)  일러스트  1137840   324.0  0.028475   \n",
       "3  올인원 패키지 : 데이터 분석 입문 온라인_파콘     -   694106  1863.6  0.268489   \n",
       "4                     3. html  HTML  9626374   813.6  0.008452   \n",
       "\n",
       "   평균클릭비용(VAT포함,원)  총비용(VAT포함,원)  \n",
       "0       261.549448       2512444  \n",
       "1       295.974808       2384965  \n",
       "2      4841.663580       1568699  \n",
       "3       630.593475       1175174  \n",
       "4      1408.435349       1145903  "
      ]
     },
     "execution_count": 26,
     "metadata": {},
     "output_type": "execute_result"
    }
   ],
   "source": [
    "# 첫 행 삭제\n",
    "df = pd.read_excel('./Data/네이버보고서.xls', skiprows=[0])\n",
    "df.head()"
   ]
  },
  {
   "cell_type": "markdown",
   "metadata": {},
   "source": [
    "### 결측치 확인"
   ]
  },
  {
   "cell_type": "code",
   "execution_count": 31,
   "metadata": {},
   "outputs": [
    {
     "data": {
      "text/plain": [
       "광고그룹               0\n",
       "키워드                0\n",
       "노출수                0\n",
       "클릭수                0\n",
       "클릭률(%)             0\n",
       "평균클릭비용(VAT포함,원)    0\n",
       "총비용(VAT포함,원)       0\n",
       "dtype: int64"
      ]
     },
     "execution_count": 31,
     "metadata": {},
     "output_type": "execute_result"
    }
   ],
   "source": [
    "df.isnull().sum() # 열 단위"
   ]
  },
  {
   "cell_type": "markdown",
   "metadata": {},
   "source": [
    "### * 데이터프레임의 열 단위 수치연산 및 데이터 타입 다루기\n",
    "- 클릭수 (반올림 처리, 일의 자리 수로 변경.)\n",
    "- 클릭률\n",
    "- 평균클릭비용(VAT 포함, 원)\n",
    "<br>\n",
    "\n",
    "- 클릭수 : 한 번의 클릭이 총 몇 번 이루어졌는지 나타내는 지표\n",
    "        > 반올림 처리, 일의 자리 수로 변경."
   ]
  },
  {
   "cell_type": "code",
   "execution_count": 34,
   "metadata": {},
   "outputs": [
    {
     "data": {
      "text/plain": [
       "0    9606.0\n",
       "1    8058.0\n",
       "2     324.0\n",
       "3    1864.0\n",
       "4     814.0\n",
       "5     260.0\n",
       "6     271.0\n",
       "7     154.0\n",
       "8    2838.0\n",
       "9     394.0\n",
       "Name: 클릭수, dtype: float64"
      ]
     },
     "execution_count": 34,
     "metadata": {},
     "output_type": "execute_result"
    }
   ],
   "source": [
    "# 클릭수 옆에 round 함수 적용\n",
    "clk = round(df['클릭수'], 0)\n",
    "clk[:10]"
   ]
  },
  {
   "cell_type": "code",
   "execution_count": 35,
   "metadata": {},
   "outputs": [
    {
     "data": {
      "text/plain": [
       "0    9606\n",
       "1    8058\n",
       "2     324\n",
       "3    1864\n",
       "4     814\n",
       "5     260\n",
       "6     271\n",
       "7     154\n",
       "8    2838\n",
       "9     394\n",
       "Name: 클릭수, dtype: int64"
      ]
     },
     "execution_count": 35,
     "metadata": {},
     "output_type": "execute_result"
    }
   ],
   "source": [
    "# 소수점 제거 = 실수(float) => 정수(int)로 변경\n",
    "clk.astype(int)[:10]"
   ]
  },
  {
   "cell_type": "code",
   "execution_count": 36,
   "metadata": {},
   "outputs": [
    {
     "data": {
      "text/html": [
       "<div>\n",
       "<style scoped>\n",
       "    .dataframe tbody tr th:only-of-type {\n",
       "        vertical-align: middle;\n",
       "    }\n",
       "\n",
       "    .dataframe tbody tr th {\n",
       "        vertical-align: top;\n",
       "    }\n",
       "\n",
       "    .dataframe thead th {\n",
       "        text-align: right;\n",
       "    }\n",
       "</style>\n",
       "<table border=\"1\" class=\"dataframe\">\n",
       "  <thead>\n",
       "    <tr style=\"text-align: right;\">\n",
       "      <th></th>\n",
       "      <th>광고그룹</th>\n",
       "      <th>키워드</th>\n",
       "      <th>노출수</th>\n",
       "      <th>클릭수</th>\n",
       "      <th>클릭률(%)</th>\n",
       "      <th>평균클릭비용(VAT포함,원)</th>\n",
       "      <th>총비용(VAT포함,원)</th>\n",
       "    </tr>\n",
       "  </thead>\n",
       "  <tbody>\n",
       "    <tr>\n",
       "      <th>0</th>\n",
       "      <td>올인원 패키지 : 디자인 툴_파워컨텐츠_포토샵</td>\n",
       "      <td>-</td>\n",
       "      <td>2319456</td>\n",
       "      <td>9606</td>\n",
       "      <td>0.414149</td>\n",
       "      <td>261.549448</td>\n",
       "      <td>2512444</td>\n",
       "    </tr>\n",
       "    <tr>\n",
       "      <th>1</th>\n",
       "      <td>올인원 패키지 : 업무자동화_VBA</td>\n",
       "      <td>-</td>\n",
       "      <td>767491</td>\n",
       "      <td>8058</td>\n",
       "      <td>1.049915</td>\n",
       "      <td>295.974808</td>\n",
       "      <td>2384965</td>\n",
       "    </tr>\n",
       "    <tr>\n",
       "      <th>2</th>\n",
       "      <td>ㅍAOP 전체_중복키워드_디자인(삭제)</td>\n",
       "      <td>일러스트</td>\n",
       "      <td>1137840</td>\n",
       "      <td>324</td>\n",
       "      <td>0.028475</td>\n",
       "      <td>4841.663580</td>\n",
       "      <td>1568699</td>\n",
       "    </tr>\n",
       "    <tr>\n",
       "      <th>3</th>\n",
       "      <td>올인원 패키지 : 데이터 분석 입문 온라인_파콘</td>\n",
       "      <td>-</td>\n",
       "      <td>694106</td>\n",
       "      <td>1864</td>\n",
       "      <td>0.268489</td>\n",
       "      <td>630.593475</td>\n",
       "      <td>1175174</td>\n",
       "    </tr>\n",
       "    <tr>\n",
       "      <th>4</th>\n",
       "      <td>3. html</td>\n",
       "      <td>HTML</td>\n",
       "      <td>9626374</td>\n",
       "      <td>814</td>\n",
       "      <td>0.008452</td>\n",
       "      <td>1408.435349</td>\n",
       "      <td>1145903</td>\n",
       "    </tr>\n",
       "  </tbody>\n",
       "</table>\n",
       "</div>"
      ],
      "text/plain": [
       "                         광고그룹   키워드      노출수   클릭수    클릭률(%)  평균클릭비용(VAT포함,원)  \\\n",
       "0   올인원 패키지 : 디자인 툴_파워컨텐츠_포토샵     -  2319456  9606  0.414149       261.549448   \n",
       "1         올인원 패키지 : 업무자동화_VBA     -   767491  8058  1.049915       295.974808   \n",
       "2       ㅍAOP 전체_중복키워드_디자인(삭제)  일러스트  1137840   324  0.028475      4841.663580   \n",
       "3  올인원 패키지 : 데이터 분석 입문 온라인_파콘     -   694106  1864  0.268489       630.593475   \n",
       "4                     3. html  HTML  9626374   814  0.008452      1408.435349   \n",
       "\n",
       "   총비용(VAT포함,원)  \n",
       "0       2512444  \n",
       "1       2384965  \n",
       "2       1568699  \n",
       "3       1175174  \n",
       "4       1145903  "
      ]
     },
     "execution_count": 36,
     "metadata": {},
     "output_type": "execute_result"
    }
   ],
   "source": [
    "# 기존 칼럼 데이터 대체\n",
    "df['클릭수'] = clk.astype(int)\n",
    "df.head()"
   ]
  },
  {
   "cell_type": "markdown",
   "metadata": {},
   "source": [
    "- 클릭률 : CTR = 클릭수 / 노출수 * 100\n",
    "    > 클릭수가 변경되어 기존 클릭률(%) 열 데이터 변경 필요"
   ]
  },
  {
   "cell_type": "code",
   "execution_count": 38,
   "metadata": {},
   "outputs": [
    {
     "data": {
      "text/html": [
       "<div>\n",
       "<style scoped>\n",
       "    .dataframe tbody tr th:only-of-type {\n",
       "        vertical-align: middle;\n",
       "    }\n",
       "\n",
       "    .dataframe tbody tr th {\n",
       "        vertical-align: top;\n",
       "    }\n",
       "\n",
       "    .dataframe thead th {\n",
       "        text-align: right;\n",
       "    }\n",
       "</style>\n",
       "<table border=\"1\" class=\"dataframe\">\n",
       "  <thead>\n",
       "    <tr style=\"text-align: right;\">\n",
       "      <th></th>\n",
       "      <th>광고그룹</th>\n",
       "      <th>키워드</th>\n",
       "      <th>노출수</th>\n",
       "      <th>클릭수</th>\n",
       "      <th>클릭률(%)</th>\n",
       "      <th>평균클릭비용(VAT포함,원)</th>\n",
       "      <th>총비용(VAT포함,원)</th>\n",
       "    </tr>\n",
       "  </thead>\n",
       "  <tbody>\n",
       "    <tr>\n",
       "      <th>0</th>\n",
       "      <td>올인원 패키지 : 디자인 툴_파워컨텐츠_포토샵</td>\n",
       "      <td>-</td>\n",
       "      <td>2319456</td>\n",
       "      <td>9606</td>\n",
       "      <td>0.414149</td>\n",
       "      <td>261.549448</td>\n",
       "      <td>2512444</td>\n",
       "    </tr>\n",
       "    <tr>\n",
       "      <th>1</th>\n",
       "      <td>올인원 패키지 : 업무자동화_VBA</td>\n",
       "      <td>-</td>\n",
       "      <td>767491</td>\n",
       "      <td>8058</td>\n",
       "      <td>1.049915</td>\n",
       "      <td>295.974808</td>\n",
       "      <td>2384965</td>\n",
       "    </tr>\n",
       "    <tr>\n",
       "      <th>2</th>\n",
       "      <td>ㅍAOP 전체_중복키워드_디자인(삭제)</td>\n",
       "      <td>일러스트</td>\n",
       "      <td>1137840</td>\n",
       "      <td>324</td>\n",
       "      <td>0.028475</td>\n",
       "      <td>4841.663580</td>\n",
       "      <td>1568699</td>\n",
       "    </tr>\n",
       "    <tr>\n",
       "      <th>3</th>\n",
       "      <td>올인원 패키지 : 데이터 분석 입문 온라인_파콘</td>\n",
       "      <td>-</td>\n",
       "      <td>694106</td>\n",
       "      <td>1864</td>\n",
       "      <td>0.268547</td>\n",
       "      <td>630.593475</td>\n",
       "      <td>1175174</td>\n",
       "    </tr>\n",
       "    <tr>\n",
       "      <th>4</th>\n",
       "      <td>3. html</td>\n",
       "      <td>HTML</td>\n",
       "      <td>9626374</td>\n",
       "      <td>814</td>\n",
       "      <td>0.008456</td>\n",
       "      <td>1408.435349</td>\n",
       "      <td>1145903</td>\n",
       "    </tr>\n",
       "  </tbody>\n",
       "</table>\n",
       "</div>"
      ],
      "text/plain": [
       "                         광고그룹   키워드      노출수   클릭수    클릭률(%)  평균클릭비용(VAT포함,원)  \\\n",
       "0   올인원 패키지 : 디자인 툴_파워컨텐츠_포토샵     -  2319456  9606  0.414149       261.549448   \n",
       "1         올인원 패키지 : 업무자동화_VBA     -   767491  8058  1.049915       295.974808   \n",
       "2       ㅍAOP 전체_중복키워드_디자인(삭제)  일러스트  1137840   324  0.028475      4841.663580   \n",
       "3  올인원 패키지 : 데이터 분석 입문 온라인_파콘     -   694106  1864  0.268547       630.593475   \n",
       "4                     3. html  HTML  9626374   814  0.008456      1408.435349   \n",
       "\n",
       "   총비용(VAT포함,원)  \n",
       "0       2512444  \n",
       "1       2384965  \n",
       "2       1568699  \n",
       "3       1175174  \n",
       "4       1145903  "
      ]
     },
     "execution_count": 38,
     "metadata": {},
     "output_type": "execute_result"
    }
   ],
   "source": [
    "df['클릭률(%)']=df['클릭수']/df['노출수'] * 100\n",
    "df.head()"
   ]
  },
  {
   "cell_type": "markdown",
   "metadata": {},
   "source": [
    "- 평균클릭비용 : 칼럼명에 원 단위로 명시됨.\n",
    "        > 반올림 처리, 일의 자리 수로 변경."
   ]
  },
  {
   "cell_type": "code",
   "execution_count": 39,
   "metadata": {},
   "outputs": [],
   "source": [
    "cpc = round(df['평균클릭비용(VAT포함,원)'], 0)\n",
    "df['평균클릭비용(VAT포함,원)'] = cpc.astype(int)"
   ]
  },
  {
   "cell_type": "code",
   "execution_count": 40,
   "metadata": {},
   "outputs": [
    {
     "data": {
      "text/html": [
       "<div>\n",
       "<style scoped>\n",
       "    .dataframe tbody tr th:only-of-type {\n",
       "        vertical-align: middle;\n",
       "    }\n",
       "\n",
       "    .dataframe tbody tr th {\n",
       "        vertical-align: top;\n",
       "    }\n",
       "\n",
       "    .dataframe thead th {\n",
       "        text-align: right;\n",
       "    }\n",
       "</style>\n",
       "<table border=\"1\" class=\"dataframe\">\n",
       "  <thead>\n",
       "    <tr style=\"text-align: right;\">\n",
       "      <th></th>\n",
       "      <th>광고그룹</th>\n",
       "      <th>키워드</th>\n",
       "      <th>노출수</th>\n",
       "      <th>클릭수</th>\n",
       "      <th>클릭률(%)</th>\n",
       "      <th>평균클릭비용(VAT포함,원)</th>\n",
       "      <th>총비용(VAT포함,원)</th>\n",
       "    </tr>\n",
       "  </thead>\n",
       "  <tbody>\n",
       "    <tr>\n",
       "      <th>0</th>\n",
       "      <td>올인원 패키지 : 디자인 툴_파워컨텐츠_포토샵</td>\n",
       "      <td>-</td>\n",
       "      <td>2319456</td>\n",
       "      <td>9606</td>\n",
       "      <td>0.414149</td>\n",
       "      <td>262</td>\n",
       "      <td>2512444</td>\n",
       "    </tr>\n",
       "    <tr>\n",
       "      <th>1</th>\n",
       "      <td>올인원 패키지 : 업무자동화_VBA</td>\n",
       "      <td>-</td>\n",
       "      <td>767491</td>\n",
       "      <td>8058</td>\n",
       "      <td>1.049915</td>\n",
       "      <td>296</td>\n",
       "      <td>2384965</td>\n",
       "    </tr>\n",
       "    <tr>\n",
       "      <th>2</th>\n",
       "      <td>ㅍAOP 전체_중복키워드_디자인(삭제)</td>\n",
       "      <td>일러스트</td>\n",
       "      <td>1137840</td>\n",
       "      <td>324</td>\n",
       "      <td>0.028475</td>\n",
       "      <td>4842</td>\n",
       "      <td>1568699</td>\n",
       "    </tr>\n",
       "    <tr>\n",
       "      <th>3</th>\n",
       "      <td>올인원 패키지 : 데이터 분석 입문 온라인_파콘</td>\n",
       "      <td>-</td>\n",
       "      <td>694106</td>\n",
       "      <td>1864</td>\n",
       "      <td>0.268547</td>\n",
       "      <td>631</td>\n",
       "      <td>1175174</td>\n",
       "    </tr>\n",
       "    <tr>\n",
       "      <th>4</th>\n",
       "      <td>3. html</td>\n",
       "      <td>HTML</td>\n",
       "      <td>9626374</td>\n",
       "      <td>814</td>\n",
       "      <td>0.008456</td>\n",
       "      <td>1408</td>\n",
       "      <td>1145903</td>\n",
       "    </tr>\n",
       "  </tbody>\n",
       "</table>\n",
       "</div>"
      ],
      "text/plain": [
       "                         광고그룹   키워드      노출수   클릭수    클릭률(%)  평균클릭비용(VAT포함,원)  \\\n",
       "0   올인원 패키지 : 디자인 툴_파워컨텐츠_포토샵     -  2319456  9606  0.414149              262   \n",
       "1         올인원 패키지 : 업무자동화_VBA     -   767491  8058  1.049915              296   \n",
       "2       ㅍAOP 전체_중복키워드_디자인(삭제)  일러스트  1137840   324  0.028475             4842   \n",
       "3  올인원 패키지 : 데이터 분석 입문 온라인_파콘     -   694106  1864  0.268547              631   \n",
       "4                     3. html  HTML  9626374   814  0.008456             1408   \n",
       "\n",
       "   총비용(VAT포함,원)  \n",
       "0       2512444  \n",
       "1       2384965  \n",
       "2       1568699  \n",
       "3       1175174  \n",
       "4       1145903  "
      ]
     },
     "execution_count": 40,
     "metadata": {},
     "output_type": "execute_result"
    }
   ],
   "source": [
    "df.head()"
   ]
  },
  {
   "cell_type": "code",
   "execution_count": 42,
   "metadata": {},
   "outputs": [
    {
     "data": {
      "text/html": [
       "<div>\n",
       "<style scoped>\n",
       "    .dataframe tbody tr th:only-of-type {\n",
       "        vertical-align: middle;\n",
       "    }\n",
       "\n",
       "    .dataframe tbody tr th {\n",
       "        vertical-align: top;\n",
       "    }\n",
       "\n",
       "    .dataframe thead th {\n",
       "        text-align: right;\n",
       "    }\n",
       "</style>\n",
       "<table border=\"1\" class=\"dataframe\">\n",
       "  <thead>\n",
       "    <tr style=\"text-align: right;\">\n",
       "      <th></th>\n",
       "      <th>노출수</th>\n",
       "      <th>클릭수</th>\n",
       "      <th>클릭률(%)</th>\n",
       "      <th>평균클릭비용(VAT포함,원)</th>\n",
       "      <th>총비용(VAT포함,원)</th>\n",
       "    </tr>\n",
       "  </thead>\n",
       "  <tbody>\n",
       "    <tr>\n",
       "      <th>count</th>\n",
       "      <td>1.381000e+03</td>\n",
       "      <td>1381.000000</td>\n",
       "      <td>1381.000000</td>\n",
       "      <td>1381.000000</td>\n",
       "      <td>1.381000e+03</td>\n",
       "    </tr>\n",
       "    <tr>\n",
       "      <th>mean</th>\n",
       "      <td>3.505415e+04</td>\n",
       "      <td>52.504707</td>\n",
       "      <td>0.352023</td>\n",
       "      <td>981.624909</td>\n",
       "      <td>3.791958e+04</td>\n",
       "    </tr>\n",
       "    <tr>\n",
       "      <th>std</th>\n",
       "      <td>2.964650e+05</td>\n",
       "      <td>387.513479</td>\n",
       "      <td>1.000998</td>\n",
       "      <td>1372.401050</td>\n",
       "      <td>1.421492e+05</td>\n",
       "    </tr>\n",
       "    <tr>\n",
       "      <th>min</th>\n",
       "      <td>1.001000e+03</td>\n",
       "      <td>0.000000</td>\n",
       "      <td>0.000000</td>\n",
       "      <td>0.000000</td>\n",
       "      <td>0.000000e+00</td>\n",
       "    </tr>\n",
       "    <tr>\n",
       "      <th>25%</th>\n",
       "      <td>1.814000e+03</td>\n",
       "      <td>1.000000</td>\n",
       "      <td>0.006539</td>\n",
       "      <td>64.000000</td>\n",
       "      <td>7.700000e+01</td>\n",
       "    </tr>\n",
       "    <tr>\n",
       "      <th>50%</th>\n",
       "      <td>3.805000e+03</td>\n",
       "      <td>4.000000</td>\n",
       "      <td>0.056721</td>\n",
       "      <td>396.000000</td>\n",
       "      <td>2.123000e+03</td>\n",
       "    </tr>\n",
       "    <tr>\n",
       "      <th>75%</th>\n",
       "      <td>1.073400e+04</td>\n",
       "      <td>14.000000</td>\n",
       "      <td>0.243309</td>\n",
       "      <td>1303.000000</td>\n",
       "      <td>1.743500e+04</td>\n",
       "    </tr>\n",
       "    <tr>\n",
       "      <th>max</th>\n",
       "      <td>9.626374e+06</td>\n",
       "      <td>9606.000000</td>\n",
       "      <td>13.590551</td>\n",
       "      <td>9363.000000</td>\n",
       "      <td>2.512444e+06</td>\n",
       "    </tr>\n",
       "  </tbody>\n",
       "</table>\n",
       "</div>"
      ],
      "text/plain": [
       "                노출수          클릭수       클릭률(%)  평균클릭비용(VAT포함,원)  총비용(VAT포함,원)\n",
       "count  1.381000e+03  1381.000000  1381.000000      1381.000000  1.381000e+03\n",
       "mean   3.505415e+04    52.504707     0.352023       981.624909  3.791958e+04\n",
       "std    2.964650e+05   387.513479     1.000998      1372.401050  1.421492e+05\n",
       "min    1.001000e+03     0.000000     0.000000         0.000000  0.000000e+00\n",
       "25%    1.814000e+03     1.000000     0.006539        64.000000  7.700000e+01\n",
       "50%    3.805000e+03     4.000000     0.056721       396.000000  2.123000e+03\n",
       "75%    1.073400e+04    14.000000     0.243309      1303.000000  1.743500e+04\n",
       "max    9.626374e+06  9606.000000    13.590551      9363.000000  2.512444e+06"
      ]
     },
     "execution_count": 42,
     "metadata": {},
     "output_type": "execute_result"
    }
   ],
   "source": [
    "df.describe()"
   ]
  },
  {
   "cell_type": "code",
   "execution_count": 43,
   "metadata": {},
   "outputs": [],
   "source": [
    "# pandas 출력 옵션 설정 - float 형식으로 수치 표기\n",
    "pd.set_option('display.float_format', '{:.2f}'.format) # 항상 float 형식"
   ]
  },
  {
   "cell_type": "code",
   "execution_count": 44,
   "metadata": {},
   "outputs": [
    {
     "data": {
      "text/html": [
       "<div>\n",
       "<style scoped>\n",
       "    .dataframe tbody tr th:only-of-type {\n",
       "        vertical-align: middle;\n",
       "    }\n",
       "\n",
       "    .dataframe tbody tr th {\n",
       "        vertical-align: top;\n",
       "    }\n",
       "\n",
       "    .dataframe thead th {\n",
       "        text-align: right;\n",
       "    }\n",
       "</style>\n",
       "<table border=\"1\" class=\"dataframe\">\n",
       "  <thead>\n",
       "    <tr style=\"text-align: right;\">\n",
       "      <th></th>\n",
       "      <th>노출수</th>\n",
       "      <th>클릭수</th>\n",
       "      <th>클릭률(%)</th>\n",
       "      <th>평균클릭비용(VAT포함,원)</th>\n",
       "      <th>총비용(VAT포함,원)</th>\n",
       "    </tr>\n",
       "  </thead>\n",
       "  <tbody>\n",
       "    <tr>\n",
       "      <th>count</th>\n",
       "      <td>1381.00</td>\n",
       "      <td>1381.00</td>\n",
       "      <td>1381.00</td>\n",
       "      <td>1381.00</td>\n",
       "      <td>1381.00</td>\n",
       "    </tr>\n",
       "    <tr>\n",
       "      <th>mean</th>\n",
       "      <td>35054.15</td>\n",
       "      <td>52.50</td>\n",
       "      <td>0.35</td>\n",
       "      <td>981.62</td>\n",
       "      <td>37919.58</td>\n",
       "    </tr>\n",
       "    <tr>\n",
       "      <th>std</th>\n",
       "      <td>296465.03</td>\n",
       "      <td>387.51</td>\n",
       "      <td>1.00</td>\n",
       "      <td>1372.40</td>\n",
       "      <td>142149.16</td>\n",
       "    </tr>\n",
       "    <tr>\n",
       "      <th>min</th>\n",
       "      <td>1001.00</td>\n",
       "      <td>0.00</td>\n",
       "      <td>0.00</td>\n",
       "      <td>0.00</td>\n",
       "      <td>0.00</td>\n",
       "    </tr>\n",
       "    <tr>\n",
       "      <th>25%</th>\n",
       "      <td>1814.00</td>\n",
       "      <td>1.00</td>\n",
       "      <td>0.01</td>\n",
       "      <td>64.00</td>\n",
       "      <td>77.00</td>\n",
       "    </tr>\n",
       "    <tr>\n",
       "      <th>50%</th>\n",
       "      <td>3805.00</td>\n",
       "      <td>4.00</td>\n",
       "      <td>0.06</td>\n",
       "      <td>396.00</td>\n",
       "      <td>2123.00</td>\n",
       "    </tr>\n",
       "    <tr>\n",
       "      <th>75%</th>\n",
       "      <td>10734.00</td>\n",
       "      <td>14.00</td>\n",
       "      <td>0.24</td>\n",
       "      <td>1303.00</td>\n",
       "      <td>17435.00</td>\n",
       "    </tr>\n",
       "    <tr>\n",
       "      <th>max</th>\n",
       "      <td>9626374.00</td>\n",
       "      <td>9606.00</td>\n",
       "      <td>13.59</td>\n",
       "      <td>9363.00</td>\n",
       "      <td>2512444.00</td>\n",
       "    </tr>\n",
       "  </tbody>\n",
       "</table>\n",
       "</div>"
      ],
      "text/plain": [
       "             노출수     클릭수  클릭률(%)  평균클릭비용(VAT포함,원)  총비용(VAT포함,원)\n",
       "count    1381.00 1381.00 1381.00          1381.00       1381.00\n",
       "mean    35054.15   52.50    0.35           981.62      37919.58\n",
       "std    296465.03  387.51    1.00          1372.40     142149.16\n",
       "min      1001.00    0.00    0.00             0.00          0.00\n",
       "25%      1814.00    1.00    0.01            64.00         77.00\n",
       "50%      3805.00    4.00    0.06           396.00       2123.00\n",
       "75%     10734.00   14.00    0.24          1303.00      17435.00\n",
       "max   9626374.00 9606.00   13.59          9363.00    2512444.00"
      ]
     },
     "execution_count": 44,
     "metadata": {},
     "output_type": "execute_result"
    }
   ],
   "source": [
    "df.describe()"
   ]
  },
  {
   "cell_type": "markdown",
   "metadata": {},
   "source": [
    "### 시각화를 통한 데이터 탐색 실습\n",
    "- 학습목표 :\n",
    "    1. 현업의 데이터를 사용하여 데이터 시각화 실습\n",
    "    2. 데이터를 가공, 처리하여 시각화 진행"
   ]
  },
  {
   "cell_type": "code",
   "execution_count": 46,
   "metadata": {},
   "outputs": [
    {
     "data": {
      "image/png": "[encoded data removed]",
      "text/plain": [
       "<Figure size 432x288 with 1 Axes>"
      ]
     },
     "metadata": {
      "needs_background": "light"
     },
     "output_type": "display_data"
    }
   ],
   "source": [
    "df['노출수'].plot()\n",
    "plt.show()"
   ]
  },
  {
   "cell_type": "markdown",
   "metadata": {},
   "source": [
    "- 그래프의 x축이 시리즈의 인덱스이므로, 시리즈의 value를 수치 순서대로 오름차순 정렬할 필요가 있음.\n",
    "    > 정렬된 데이터의 형태대로 index 재생성 후 시각화"
   ]
  },
  {
   "cell_type": "code",
   "execution_count": 47,
   "metadata": {},
   "outputs": [],
   "source": [
    "# 시리즈의 value를 수치 순서대로 오름차순 정렬\n",
    "# 노출수 칼럼, sort_values()\n",
    "imp_sort = df['노출수'].sort_values()"
   ]
  },
  {
   "cell_type": "code",
   "execution_count": 50,
   "metadata": {},
   "outputs": [],
   "source": [
    "# reset_index() - 인덱스 재생성, 기존 인덱스를 데이터프레임의 열로 변환\n",
    "imp_sort = imp_sort.reset_index()"
   ]
  },
  {
   "cell_type": "code",
   "execution_count": 54,
   "metadata": {},
   "outputs": [
    {
     "data": {
      "text/html": [
       "<div>\n",
       "<style scoped>\n",
       "    .dataframe tbody tr th:only-of-type {\n",
       "        vertical-align: middle;\n",
       "    }\n",
       "\n",
       "    .dataframe tbody tr th {\n",
       "        vertical-align: top;\n",
       "    }\n",
       "\n",
       "    .dataframe thead th {\n",
       "        text-align: right;\n",
       "    }\n",
       "</style>\n",
       "<table border=\"1\" class=\"dataframe\">\n",
       "  <thead>\n",
       "    <tr style=\"text-align: right;\">\n",
       "      <th></th>\n",
       "      <th>index</th>\n",
       "      <th>노출수</th>\n",
       "    </tr>\n",
       "  </thead>\n",
       "  <tbody>\n",
       "    <tr>\n",
       "      <th>0</th>\n",
       "      <td>1057</td>\n",
       "      <td>1001</td>\n",
       "    </tr>\n",
       "    <tr>\n",
       "      <th>1</th>\n",
       "      <td>445</td>\n",
       "      <td>1003</td>\n",
       "    </tr>\n",
       "    <tr>\n",
       "      <th>2</th>\n",
       "      <td>597</td>\n",
       "      <td>1005</td>\n",
       "    </tr>\n",
       "    <tr>\n",
       "      <th>3</th>\n",
       "      <td>983</td>\n",
       "      <td>1006</td>\n",
       "    </tr>\n",
       "    <tr>\n",
       "      <th>4</th>\n",
       "      <td>442</td>\n",
       "      <td>1007</td>\n",
       "    </tr>\n",
       "  </tbody>\n",
       "</table>\n",
       "</div>"
      ],
      "text/plain": [
       "   index   노출수\n",
       "0   1057  1001\n",
       "1    445  1003\n",
       "2    597  1005\n",
       "3    983  1006\n",
       "4    442  1007"
      ]
     },
     "execution_count": 54,
     "metadata": {},
     "output_type": "execute_result"
    }
   ],
   "source": [
    "imp_sort.head()"
   ]
  },
  {
   "cell_type": "code",
   "execution_count": 55,
   "metadata": {},
   "outputs": [
    {
     "data": {
      "text/html": [
       "<div>\n",
       "<style scoped>\n",
       "    .dataframe tbody tr th:only-of-type {\n",
       "        vertical-align: middle;\n",
       "    }\n",
       "\n",
       "    .dataframe tbody tr th {\n",
       "        vertical-align: top;\n",
       "    }\n",
       "\n",
       "    .dataframe thead th {\n",
       "        text-align: right;\n",
       "    }\n",
       "</style>\n",
       "<table border=\"1\" class=\"dataframe\">\n",
       "  <thead>\n",
       "    <tr style=\"text-align: right;\">\n",
       "      <th></th>\n",
       "      <th>노출수</th>\n",
       "    </tr>\n",
       "  </thead>\n",
       "  <tbody>\n",
       "    <tr>\n",
       "      <th>0</th>\n",
       "      <td>1001</td>\n",
       "    </tr>\n",
       "    <tr>\n",
       "      <th>1</th>\n",
       "      <td>1003</td>\n",
       "    </tr>\n",
       "    <tr>\n",
       "      <th>2</th>\n",
       "      <td>1005</td>\n",
       "    </tr>\n",
       "    <tr>\n",
       "      <th>3</th>\n",
       "      <td>1006</td>\n",
       "    </tr>\n",
       "    <tr>\n",
       "      <th>4</th>\n",
       "      <td>1007</td>\n",
       "    </tr>\n",
       "  </tbody>\n",
       "</table>\n",
       "</div>"
      ],
      "text/plain": [
       "    노출수\n",
       "0  1001\n",
       "1  1003\n",
       "2  1005\n",
       "3  1006\n",
       "4  1007"
      ]
     },
     "execution_count": 55,
     "metadata": {},
     "output_type": "execute_result"
    }
   ],
   "source": [
    "imp_sort.drop('index', axis=1, inplace=True)\n",
    "imp_sort.head()"
   ]
  },
  {
   "cell_type": "code",
   "execution_count": 56,
   "metadata": {},
   "outputs": [
    {
     "data": {
      "image/png": "[encoded data removed]",
      "text/plain": [
       "<Figure size 432x288 with 1 Axes>"
      ]
     },
     "metadata": {
      "needs_background": "light"
     },
     "output_type": "display_data"
    }
   ],
   "source": [
    "imp_sort.plot()\n",
    "plt.show()"
   ]
  },
  {
   "cell_type": "code",
   "execution_count": 57,
   "metadata": {},
   "outputs": [
    {
     "data": {
      "image/png": "[encoded data removed]",
      "text/plain": [
       "<Figure size 432x288 with 1 Axes>"
      ]
     },
     "metadata": {
      "needs_background": "light"
     },
     "output_type": "display_data"
    }
   ],
   "source": [
    "# 클릭수 칼럼 시각화\n",
    "(((df['클릭수'].sort_values()).reset_index()).drop('index', axis=1)).plot()\n",
    "plt.show()"
   ]
  },
  {
   "cell_type": "code",
   "execution_count": 58,
   "metadata": {},
   "outputs": [
    {
     "data": {
      "image/png": "[encoded data removed]",
      "text/plain": [
       "<Figure size 432x288 with 1 Axes>"
      ]
     },
     "metadata": {
      "needs_background": "light"
     },
     "output_type": "display_data"
    }
   ],
   "source": [
    "# 총비용 칼럼 시각화\n",
    "(((df['총비용(VAT포함,원)'].sort_values()).reset_index()).drop('index', axis=1)).plot()\n",
    "plt.show()"
   ]
  },
  {
   "cell_type": "markdown",
   "metadata": {},
   "source": [
    "### 데이터 분석\n",
    "- 학습목표 :\n",
    "    1. 파이썬과 판다스를 사용하여 데이터를 처리, 분석할 수 있다."
   ]
  },
  {
   "cell_type": "markdown",
   "metadata": {},
   "source": [
    "### 중점관리키워드 추출\n",
    "- 노출수, 클릭수 기준 상위 5%에 해당하는 키워드 추출\n",
    "    1. 95백분위수 찾기(quantile 함수 사용)\n",
    "    2. 95백분위수 이상(상위 5%)의 노출수 추출\n",
    "    3. 상위 5%에 해당하는 키워드 추출"
   ]
  },
  {
   "cell_type": "code",
   "execution_count": 68,
   "metadata": {},
   "outputs": [],
   "source": [
    "imp = df['노출수']"
   ]
  },
  {
   "cell_type": "code",
   "execution_count": 69,
   "metadata": {},
   "outputs": [
    {
     "data": {
      "text/plain": [
       "82858.0"
      ]
     },
     "execution_count": 69,
     "metadata": {},
     "output_type": "execute_result"
    }
   ],
   "source": [
    "# 95 백분위수 찾기\n",
    "imp.quantile(0.95)"
   ]
  },
  {
   "cell_type": "code",
   "execution_count": 70,
   "metadata": {},
   "outputs": [
    {
     "data": {
      "text/plain": [
       "0    2319456\n",
       "1     767491\n",
       "2    1137840\n",
       "3     694106\n",
       "4    9626374\n",
       "5     384522\n",
       "6     562162\n",
       "7     271370\n",
       "8      91369\n",
       "9    1887822\n",
       "Name: 노출수, dtype: int64"
      ]
     },
     "execution_count": 70,
     "metadata": {},
     "output_type": "execute_result"
    }
   ],
   "source": [
    "# 95백분위수 이상(상위 5%)의 노출수 추출\n",
    "# seires[condition]\n",
    "imp = imp[imp>=imp.quantile(0.95)]\n",
    "imp[:10]"
   ]
  },
  {
   "cell_type": "markdown",
   "metadata": {},
   "source": [
    "- 상위 5% 해당하는 키워드 추출\n",
    "    - 기존 상위 노출수 추출과정\n",
    "        - A. as-is : 데이터프레임의 기본숫자인덱스\n",
    "        - B. to-be : 데이터프레임의 인덱스를 '키워드'로 재설정"
   ]
  },
  {
   "cell_type": "code",
   "execution_count": 71,
   "metadata": {},
   "outputs": [],
   "source": [
    "# 데이터프레임의 인덱스를 키워드로 변경\n",
    "df_index = df.set_index('키워드')"
   ]
  },
  {
   "cell_type": "code",
   "execution_count": 72,
   "metadata": {},
   "outputs": [
    {
     "data": {
      "text/html": [
       "<div>\n",
       "<style scoped>\n",
       "    .dataframe tbody tr th:only-of-type {\n",
       "        vertical-align: middle;\n",
       "    }\n",
       "\n",
       "    .dataframe tbody tr th {\n",
       "        vertical-align: top;\n",
       "    }\n",
       "\n",
       "    .dataframe thead th {\n",
       "        text-align: right;\n",
       "    }\n",
       "</style>\n",
       "<table border=\"1\" class=\"dataframe\">\n",
       "  <thead>\n",
       "    <tr style=\"text-align: right;\">\n",
       "      <th></th>\n",
       "      <th>광고그룹</th>\n",
       "      <th>노출수</th>\n",
       "      <th>클릭수</th>\n",
       "      <th>클릭률(%)</th>\n",
       "      <th>평균클릭비용(VAT포함,원)</th>\n",
       "      <th>총비용(VAT포함,원)</th>\n",
       "    </tr>\n",
       "    <tr>\n",
       "      <th>키워드</th>\n",
       "      <th></th>\n",
       "      <th></th>\n",
       "      <th></th>\n",
       "      <th></th>\n",
       "      <th></th>\n",
       "      <th></th>\n",
       "    </tr>\n",
       "  </thead>\n",
       "  <tbody>\n",
       "    <tr>\n",
       "      <th>-</th>\n",
       "      <td>올인원 패키지 : 디자인 툴_파워컨텐츠_포토샵</td>\n",
       "      <td>2319456</td>\n",
       "      <td>9606</td>\n",
       "      <td>0.41</td>\n",
       "      <td>262</td>\n",
       "      <td>2512444</td>\n",
       "    </tr>\n",
       "    <tr>\n",
       "      <th>-</th>\n",
       "      <td>올인원 패키지 : 업무자동화_VBA</td>\n",
       "      <td>767491</td>\n",
       "      <td>8058</td>\n",
       "      <td>1.05</td>\n",
       "      <td>296</td>\n",
       "      <td>2384965</td>\n",
       "    </tr>\n",
       "    <tr>\n",
       "      <th>일러스트</th>\n",
       "      <td>ㅍAOP 전체_중복키워드_디자인(삭제)</td>\n",
       "      <td>1137840</td>\n",
       "      <td>324</td>\n",
       "      <td>0.03</td>\n",
       "      <td>4842</td>\n",
       "      <td>1568699</td>\n",
       "    </tr>\n",
       "    <tr>\n",
       "      <th>-</th>\n",
       "      <td>올인원 패키지 : 데이터 분석 입문 온라인_파콘</td>\n",
       "      <td>694106</td>\n",
       "      <td>1864</td>\n",
       "      <td>0.27</td>\n",
       "      <td>631</td>\n",
       "      <td>1175174</td>\n",
       "    </tr>\n",
       "    <tr>\n",
       "      <th>HTML</th>\n",
       "      <td>3. html</td>\n",
       "      <td>9626374</td>\n",
       "      <td>814</td>\n",
       "      <td>0.01</td>\n",
       "      <td>1408</td>\n",
       "      <td>1145903</td>\n",
       "    </tr>\n",
       "    <tr>\n",
       "      <th>파이썬</th>\n",
       "      <td>6. 파이썬</td>\n",
       "      <td>384522</td>\n",
       "      <td>260</td>\n",
       "      <td>0.07</td>\n",
       "      <td>3705</td>\n",
       "      <td>964876</td>\n",
       "    </tr>\n",
       "    <tr>\n",
       "      <th>코딩</th>\n",
       "      <td>1. 코딩</td>\n",
       "      <td>562162</td>\n",
       "      <td>271</td>\n",
       "      <td>0.05</td>\n",
       "      <td>3243</td>\n",
       "      <td>879560</td>\n",
       "    </tr>\n",
       "    <tr>\n",
       "      <th>C언어</th>\n",
       "      <td>2. C언어 일반</td>\n",
       "      <td>271370</td>\n",
       "      <td>154</td>\n",
       "      <td>0.06</td>\n",
       "      <td>5269</td>\n",
       "      <td>809358</td>\n",
       "    </tr>\n",
       "    <tr>\n",
       "      <th>가상화폐</th>\n",
       "      <td>프로그래밍 전체_파워컨텐츠_블록체인(삭제)</td>\n",
       "      <td>91369</td>\n",
       "      <td>2838</td>\n",
       "      <td>3.11</td>\n",
       "      <td>283</td>\n",
       "      <td>803770</td>\n",
       "    </tr>\n",
       "    <tr>\n",
       "      <th>포토샵</th>\n",
       "      <td>AOP 전체_중복키워드_디자인</td>\n",
       "      <td>1887822</td>\n",
       "      <td>394</td>\n",
       "      <td>0.02</td>\n",
       "      <td>1914</td>\n",
       "      <td>753247</td>\n",
       "    </tr>\n",
       "  </tbody>\n",
       "</table>\n",
       "</div>"
      ],
      "text/plain": [
       "                            광고그룹      노출수   클릭수  클릭률(%)  평균클릭비용(VAT포함,원)  \\\n",
       "키워드                                                                        \n",
       "-      올인원 패키지 : 디자인 툴_파워컨텐츠_포토샵  2319456  9606    0.41              262   \n",
       "-            올인원 패키지 : 업무자동화_VBA   767491  8058    1.05              296   \n",
       "일러스트       ㅍAOP 전체_중복키워드_디자인(삭제)  1137840   324    0.03             4842   \n",
       "-     올인원 패키지 : 데이터 분석 입문 온라인_파콘   694106  1864    0.27              631   \n",
       "HTML                     3. html  9626374   814    0.01             1408   \n",
       "파이썬                       6. 파이썬   384522   260    0.07             3705   \n",
       "코딩                         1. 코딩   562162   271    0.05             3243   \n",
       "C언어                    2. C언어 일반   271370   154    0.06             5269   \n",
       "가상화폐     프로그래밍 전체_파워컨텐츠_블록체인(삭제)    91369  2838    3.11              283   \n",
       "포토샵             AOP 전체_중복키워드_디자인  1887822   394    0.02             1914   \n",
       "\n",
       "      총비용(VAT포함,원)  \n",
       "키워드                 \n",
       "-          2512444  \n",
       "-          2384965  \n",
       "일러스트       1568699  \n",
       "-          1175174  \n",
       "HTML       1145903  \n",
       "파이썬         964876  \n",
       "코딩          879560  \n",
       "C언어         809358  \n",
       "가상화폐        803770  \n",
       "포토샵         753247  "
      ]
     },
     "execution_count": 72,
     "metadata": {},
     "output_type": "execute_result"
    }
   ],
   "source": [
    "df_index[:10]"
   ]
  },
  {
   "cell_type": "code",
   "execution_count": 73,
   "metadata": {},
   "outputs": [
    {
     "data": {
      "text/plain": [
       "키워드\n",
       "-         2319456\n",
       "-          767491\n",
       "일러스트      1137840\n",
       "-          694106\n",
       "HTML      9626374\n",
       "           ...   \n",
       "부동산스터디     196862\n",
       "가상메모리       94933\n",
       "프로모션        82858\n",
       "앱스토어       126393\n",
       "OS          90041\n",
       "Name: 노출수, Length: 70, dtype: int64"
      ]
     },
     "execution_count": 73,
     "metadata": {},
     "output_type": "execute_result"
    }
   ],
   "source": [
    "# 노출수 상위 5% 키워드 추출\n",
    "imp = df_index['노출수']\n",
    "imp = imp[imp>=imp.quantile(0.95)]\n",
    "imp"
   ]
  },
  {
   "cell_type": "code",
   "execution_count": 74,
   "metadata": {},
   "outputs": [
    {
     "data": {
      "text/plain": [
       "키워드\n",
       "-          9606\n",
       "-          8058\n",
       "일러스트        324\n",
       "-          1864\n",
       "HTML        814\n",
       "           ... \n",
       "재태크         126\n",
       "모스자격증       198\n",
       "펀드하는법       248\n",
       "채권투자        136\n",
       "주식투자하는법     120\n",
       "Name: 클릭수, Length: 70, dtype: int64"
      ]
     },
     "execution_count": 74,
     "metadata": {},
     "output_type": "execute_result"
    }
   ],
   "source": [
    "# 클릭수 상위 5% 키워드 추출\n",
    "clk=df_index['클릭수']\n",
    "clk = clk[clk>=clk.quantile(0.95)]\n",
    "clk"
   ]
  },
  {
   "cell_type": "markdown",
   "metadata": {},
   "source": [
    "### 중점관리 키워드 선별\n",
    "- 노출수와 클릭수 모두 95백분위수 이상\n",
    "\n",
    "### 조건이 여러 개일 경우\n",
    "- 데이터프레임[(조건문) & (조건문)]"
   ]
  },
  {
   "cell_type": "code",
   "execution_count": 75,
   "metadata": {},
   "outputs": [],
   "source": [
    "# df_index에서 imp, clk 변수 생성\n",
    "imp = df_index['노출수']\n",
    "clk = df_index['클릭수']"
   ]
  },
  {
   "cell_type": "code",
   "execution_count": 79,
   "metadata": {},
   "outputs": [],
   "source": [
    "# 노출수와 클릭수 모두 상위 5% (95백분위수 이상) 추출\n",
    "result = df_index[(imp>=imp.quantile(0.95)) & (clk>=clk.quantile(0.95))]"
   ]
  },
  {
   "cell_type": "code",
   "execution_count": 80,
   "metadata": {},
   "outputs": [
    {
     "data": {
      "text/html": [
       "<div>\n",
       "<style scoped>\n",
       "    .dataframe tbody tr th:only-of-type {\n",
       "        vertical-align: middle;\n",
       "    }\n",
       "\n",
       "    .dataframe tbody tr th {\n",
       "        vertical-align: top;\n",
       "    }\n",
       "\n",
       "    .dataframe thead th {\n",
       "        text-align: right;\n",
       "    }\n",
       "</style>\n",
       "<table border=\"1\" class=\"dataframe\">\n",
       "  <thead>\n",
       "    <tr style=\"text-align: right;\">\n",
       "      <th></th>\n",
       "      <th>광고그룹</th>\n",
       "      <th>노출수</th>\n",
       "      <th>클릭수</th>\n",
       "      <th>클릭률(%)</th>\n",
       "      <th>평균클릭비용(VAT포함,원)</th>\n",
       "      <th>총비용(VAT포함,원)</th>\n",
       "    </tr>\n",
       "    <tr>\n",
       "      <th>키워드</th>\n",
       "      <th></th>\n",
       "      <th></th>\n",
       "      <th></th>\n",
       "      <th></th>\n",
       "      <th></th>\n",
       "      <th></th>\n",
       "    </tr>\n",
       "  </thead>\n",
       "  <tbody>\n",
       "    <tr>\n",
       "      <th>-</th>\n",
       "      <td>올인원 패키지 : 디자인 툴_파워컨텐츠_포토샵</td>\n",
       "      <td>2319456</td>\n",
       "      <td>9606</td>\n",
       "      <td>0.41</td>\n",
       "      <td>262</td>\n",
       "      <td>2512444</td>\n",
       "    </tr>\n",
       "    <tr>\n",
       "      <th>-</th>\n",
       "      <td>올인원 패키지 : 업무자동화_VBA</td>\n",
       "      <td>767491</td>\n",
       "      <td>8058</td>\n",
       "      <td>1.05</td>\n",
       "      <td>296</td>\n",
       "      <td>2384965</td>\n",
       "    </tr>\n",
       "    <tr>\n",
       "      <th>일러스트</th>\n",
       "      <td>ㅍAOP 전체_중복키워드_디자인(삭제)</td>\n",
       "      <td>1137840</td>\n",
       "      <td>324</td>\n",
       "      <td>0.03</td>\n",
       "      <td>4842</td>\n",
       "      <td>1568699</td>\n",
       "    </tr>\n",
       "    <tr>\n",
       "      <th>-</th>\n",
       "      <td>올인원 패키지 : 데이터 분석 입문 온라인_파콘</td>\n",
       "      <td>694106</td>\n",
       "      <td>1864</td>\n",
       "      <td>0.27</td>\n",
       "      <td>631</td>\n",
       "      <td>1175174</td>\n",
       "    </tr>\n",
       "    <tr>\n",
       "      <th>HTML</th>\n",
       "      <td>3. html</td>\n",
       "      <td>9626374</td>\n",
       "      <td>814</td>\n",
       "      <td>0.01</td>\n",
       "      <td>1408</td>\n",
       "      <td>1145903</td>\n",
       "    </tr>\n",
       "    <tr>\n",
       "      <th>파이썬</th>\n",
       "      <td>6. 파이썬</td>\n",
       "      <td>384522</td>\n",
       "      <td>260</td>\n",
       "      <td>0.07</td>\n",
       "      <td>3705</td>\n",
       "      <td>964876</td>\n",
       "    </tr>\n",
       "    <tr>\n",
       "      <th>코딩</th>\n",
       "      <td>1. 코딩</td>\n",
       "      <td>562162</td>\n",
       "      <td>271</td>\n",
       "      <td>0.05</td>\n",
       "      <td>3243</td>\n",
       "      <td>879560</td>\n",
       "    </tr>\n",
       "    <tr>\n",
       "      <th>C언어</th>\n",
       "      <td>2. C언어 일반</td>\n",
       "      <td>271370</td>\n",
       "      <td>154</td>\n",
       "      <td>0.06</td>\n",
       "      <td>5269</td>\n",
       "      <td>809358</td>\n",
       "    </tr>\n",
       "    <tr>\n",
       "      <th>가상화폐</th>\n",
       "      <td>프로그래밍 전체_파워컨텐츠_블록체인(삭제)</td>\n",
       "      <td>91369</td>\n",
       "      <td>2838</td>\n",
       "      <td>3.11</td>\n",
       "      <td>283</td>\n",
       "      <td>803770</td>\n",
       "    </tr>\n",
       "    <tr>\n",
       "      <th>포토샵</th>\n",
       "      <td>AOP 전체_중복키워드_디자인</td>\n",
       "      <td>1887822</td>\n",
       "      <td>394</td>\n",
       "      <td>0.02</td>\n",
       "      <td>1914</td>\n",
       "      <td>753247</td>\n",
       "    </tr>\n",
       "    <tr>\n",
       "      <th>블록체인</th>\n",
       "      <td>블록체인 신사업 시작하기</td>\n",
       "      <td>200243</td>\n",
       "      <td>236</td>\n",
       "      <td>0.12</td>\n",
       "      <td>2722</td>\n",
       "      <td>643478</td>\n",
       "    </tr>\n",
       "    <tr>\n",
       "      <th>엑셀</th>\n",
       "      <td>AOP 전체_중복키워드_비지니스</td>\n",
       "      <td>1470452</td>\n",
       "      <td>450</td>\n",
       "      <td>0.03</td>\n",
       "      <td>1409</td>\n",
       "      <td>633897</td>\n",
       "    </tr>\n",
       "    <tr>\n",
       "      <th>-</th>\n",
       "      <td>올인원 패키지 : 데이터 분석 입문(파컨)</td>\n",
       "      <td>139717</td>\n",
       "      <td>618</td>\n",
       "      <td>0.44</td>\n",
       "      <td>636</td>\n",
       "      <td>393327</td>\n",
       "    </tr>\n",
       "    <tr>\n",
       "      <th>포토샵</th>\n",
       "      <td>올인원 패키지 : 디자인 툴_파워컨텐츠_포토샵</td>\n",
       "      <td>124068</td>\n",
       "      <td>2536</td>\n",
       "      <td>2.04</td>\n",
       "      <td>150</td>\n",
       "      <td>381359</td>\n",
       "    </tr>\n",
       "    <tr>\n",
       "      <th>컴퓨터활용능력</th>\n",
       "      <td>올인원 패키지 : 업무자동화_VBA</td>\n",
       "      <td>139729</td>\n",
       "      <td>1535</td>\n",
       "      <td>1.10</td>\n",
       "      <td>239</td>\n",
       "      <td>367147</td>\n",
       "    </tr>\n",
       "    <tr>\n",
       "      <th>컴퓨터활용능력2급</th>\n",
       "      <td>올인원 패키지 : 업무자동화_VBA</td>\n",
       "      <td>88751</td>\n",
       "      <td>1283</td>\n",
       "      <td>1.45</td>\n",
       "      <td>234</td>\n",
       "      <td>300058</td>\n",
       "    </tr>\n",
       "    <tr>\n",
       "      <th>컴퓨터활용능력1급</th>\n",
       "      <td>올인원 패키지 : 업무자동화_VBA</td>\n",
       "      <td>94757</td>\n",
       "      <td>1192</td>\n",
       "      <td>1.26</td>\n",
       "      <td>237</td>\n",
       "      <td>282018</td>\n",
       "    </tr>\n",
       "    <tr>\n",
       "      <th>포토샵</th>\n",
       "      <td>ㅍAOP 전체_중복키워드_디자인(삭제)</td>\n",
       "      <td>1021846</td>\n",
       "      <td>157</td>\n",
       "      <td>0.02</td>\n",
       "      <td>1625</td>\n",
       "      <td>255475</td>\n",
       "    </tr>\n",
       "    <tr>\n",
       "      <th>-</th>\n",
       "      <td>올인원 패키지 : 프로그래밍 첫걸음 시작하기</td>\n",
       "      <td>88800</td>\n",
       "      <td>599</td>\n",
       "      <td>0.67</td>\n",
       "      <td>352</td>\n",
       "      <td>210650</td>\n",
       "    </tr>\n",
       "    <tr>\n",
       "      <th>프리미어프로</th>\n",
       "      <td>AOP 전체_중복키워드_디자인</td>\n",
       "      <td>213033</td>\n",
       "      <td>132</td>\n",
       "      <td>0.06</td>\n",
       "      <td>1574</td>\n",
       "      <td>207702</td>\n",
       "    </tr>\n",
       "    <tr>\n",
       "      <th>폰트</th>\n",
       "      <td>타이포그래피와 편집디자인</td>\n",
       "      <td>478588</td>\n",
       "      <td>474</td>\n",
       "      <td>0.10</td>\n",
       "      <td>396</td>\n",
       "      <td>187693</td>\n",
       "    </tr>\n",
       "    <tr>\n",
       "      <th>스케치</th>\n",
       "      <td>AOP 전체_중복키워드_디자인</td>\n",
       "      <td>200487</td>\n",
       "      <td>133</td>\n",
       "      <td>0.07</td>\n",
       "      <td>1166</td>\n",
       "      <td>155254</td>\n",
       "    </tr>\n",
       "    <tr>\n",
       "      <th>포토샵</th>\n",
       "      <td>포토샵 유치원_일러스트레이터 유치원</td>\n",
       "      <td>691814</td>\n",
       "      <td>130</td>\n",
       "      <td>0.02</td>\n",
       "      <td>1052</td>\n",
       "      <td>136279</td>\n",
       "    </tr>\n",
       "    <tr>\n",
       "      <th>글씨체</th>\n",
       "      <td>타이포그래피와 편집디자인</td>\n",
       "      <td>106648</td>\n",
       "      <td>216</td>\n",
       "      <td>0.20</td>\n",
       "      <td>425</td>\n",
       "      <td>91806</td>\n",
       "    </tr>\n",
       "    <tr>\n",
       "      <th>한글폰트</th>\n",
       "      <td>타이포그래피와 편집디자인</td>\n",
       "      <td>82983</td>\n",
       "      <td>206</td>\n",
       "      <td>0.25</td>\n",
       "      <td>308</td>\n",
       "      <td>63492</td>\n",
       "    </tr>\n",
       "    <tr>\n",
       "      <th>마블</th>\n",
       "      <td>ㅍAOP 전체_중복키워드_디자인(삭제)</td>\n",
       "      <td>907619</td>\n",
       "      <td>228</td>\n",
       "      <td>0.03</td>\n",
       "      <td>265</td>\n",
       "      <td>60533</td>\n",
       "    </tr>\n",
       "    <tr>\n",
       "      <th>바이럴마케팅</th>\n",
       "      <td>마케팅 전체</td>\n",
       "      <td>3095998</td>\n",
       "      <td>262</td>\n",
       "      <td>0.01</td>\n",
       "      <td>220</td>\n",
       "      <td>57563</td>\n",
       "    </tr>\n",
       "  </tbody>\n",
       "</table>\n",
       "</div>"
      ],
      "text/plain": [
       "                                 광고그룹      노출수   클릭수  클릭률(%)  평균클릭비용(VAT포함,원)  \\\n",
       "키워드                                                                             \n",
       "-           올인원 패키지 : 디자인 툴_파워컨텐츠_포토샵  2319456  9606    0.41              262   \n",
       "-                 올인원 패키지 : 업무자동화_VBA   767491  8058    1.05              296   \n",
       "일러스트            ㅍAOP 전체_중복키워드_디자인(삭제)  1137840   324    0.03             4842   \n",
       "-          올인원 패키지 : 데이터 분석 입문 온라인_파콘   694106  1864    0.27              631   \n",
       "HTML                          3. html  9626374   814    0.01             1408   \n",
       "파이썬                            6. 파이썬   384522   260    0.07             3705   \n",
       "코딩                              1. 코딩   562162   271    0.05             3243   \n",
       "C언어                         2. C언어 일반   271370   154    0.06             5269   \n",
       "가상화폐          프로그래밍 전체_파워컨텐츠_블록체인(삭제)    91369  2838    3.11              283   \n",
       "포토샵                  AOP 전체_중복키워드_디자인  1887822   394    0.02             1914   \n",
       "블록체인                    블록체인 신사업 시작하기   200243   236    0.12             2722   \n",
       "엑셀                  AOP 전체_중복키워드_비지니스  1470452   450    0.03             1409   \n",
       "-             올인원 패키지 : 데이터 분석 입문(파컨)   139717   618    0.44              636   \n",
       "포토샵         올인원 패키지 : 디자인 툴_파워컨텐츠_포토샵   124068  2536    2.04              150   \n",
       "컴퓨터활용능력           올인원 패키지 : 업무자동화_VBA   139729  1535    1.10              239   \n",
       "컴퓨터활용능력2급         올인원 패키지 : 업무자동화_VBA    88751  1283    1.45              234   \n",
       "컴퓨터활용능력1급         올인원 패키지 : 업무자동화_VBA    94757  1192    1.26              237   \n",
       "포토샵             ㅍAOP 전체_중복키워드_디자인(삭제)  1021846   157    0.02             1625   \n",
       "-            올인원 패키지 : 프로그래밍 첫걸음 시작하기    88800   599    0.67              352   \n",
       "프리미어프로               AOP 전체_중복키워드_디자인   213033   132    0.06             1574   \n",
       "폰트                      타이포그래피와 편집디자인   478588   474    0.10              396   \n",
       "스케치                  AOP 전체_중복키워드_디자인   200487   133    0.07             1166   \n",
       "포토샵               포토샵 유치원_일러스트레이터 유치원   691814   130    0.02             1052   \n",
       "글씨체                     타이포그래피와 편집디자인   106648   216    0.20              425   \n",
       "한글폰트                    타이포그래피와 편집디자인    82983   206    0.25              308   \n",
       "마블              ㅍAOP 전체_중복키워드_디자인(삭제)   907619   228    0.03              265   \n",
       "바이럴마케팅                         마케팅 전체  3095998   262    0.01              220   \n",
       "\n",
       "           총비용(VAT포함,원)  \n",
       "키워드                      \n",
       "-               2512444  \n",
       "-               2384965  \n",
       "일러스트            1568699  \n",
       "-               1175174  \n",
       "HTML            1145903  \n",
       "파이썬              964876  \n",
       "코딩               879560  \n",
       "C언어              809358  \n",
       "가상화폐             803770  \n",
       "포토샵              753247  \n",
       "블록체인             643478  \n",
       "엑셀               633897  \n",
       "-                393327  \n",
       "포토샵              381359  \n",
       "컴퓨터활용능력          367147  \n",
       "컴퓨터활용능력2급        300058  \n",
       "컴퓨터활용능력1급        282018  \n",
       "포토샵              255475  \n",
       "-                210650  \n",
       "프리미어프로           207702  \n",
       "폰트               187693  \n",
       "스케치              155254  \n",
       "포토샵              136279  \n",
       "글씨체               91806  \n",
       "한글폰트              63492  \n",
       "마블                60533  \n",
       "바이럴마케팅            57563  "
      ]
     },
     "execution_count": 80,
     "metadata": {},
     "output_type": "execute_result"
    }
   ],
   "source": [
    "result"
   ]
  },
  {
   "cell_type": "code",
   "execution_count": 81,
   "metadata": {},
   "outputs": [
    {
     "data": {
      "text/plain": [
       "Index(['-', '-', '일러스트', '-', 'HTML', '파이썬', '코딩', 'C언어', '가상화폐', '포토샵',\n",
       "       '블록체인', '엑셀', '-', '포토샵', '컴퓨터활용능력', '컴퓨터활용능력2급', '컴퓨터활용능력1급', '포토샵',\n",
       "       '-', '프리미어프로', '폰트', '스케치', '포토샵', '글씨체', '한글폰트', '마블', '바이럴마케팅'],\n",
       "      dtype='object', name='키워드')"
      ]
     },
     "execution_count": 81,
     "metadata": {},
     "output_type": "execute_result"
    }
   ],
   "source": [
    "# index - 중점관리키워드 출력\n",
    "result.index"
   ]
  },
  {
   "cell_type": "markdown",
   "metadata": {},
   "source": [
    "### 저효율 키워드 선별"
   ]
  },
  {
   "cell_type": "markdown",
   "metadata": {},
   "source": [
    "- 노출수, 클릭수 기준 상위 5% 키워드가 아닌데도 불구하고 비용이 많이 쓰이고 있는 키워드\n",
    "    1. 노출수 95백분위수 미만\n",
    "    2. 클릭수 95백분위수 미만\n",
    "    3. 총비용 85백분위수 이상\n",
    "    4. 총비용 95백분위수 미만"
   ]
  },
  {
   "cell_type": "code",
   "execution_count": 82,
   "metadata": {},
   "outputs": [],
   "source": [
    "# df_index로 cost 변수 생성\n",
    "cost = df_index['총비용(VAT포함,원)']"
   ]
  },
  {
   "cell_type": "code",
   "execution_count": 84,
   "metadata": {},
   "outputs": [],
   "source": [
    "result2 = df_index[(imp<imp.quantile(0.95)) & (clk<clk.quantile(0.95)) & (cost >= cost.quantile(0.85)) & (cost < cost.quantile(0.95))]"
   ]
  },
  {
   "cell_type": "code",
   "execution_count": 86,
   "metadata": {},
   "outputs": [
    {
     "data": {
      "text/html": [
       "<div>\n",
       "<style scoped>\n",
       "    .dataframe tbody tr th:only-of-type {\n",
       "        vertical-align: middle;\n",
       "    }\n",
       "\n",
       "    .dataframe tbody tr th {\n",
       "        vertical-align: top;\n",
       "    }\n",
       "\n",
       "    .dataframe thead th {\n",
       "        text-align: right;\n",
       "    }\n",
       "</style>\n",
       "<table border=\"1\" class=\"dataframe\">\n",
       "  <thead>\n",
       "    <tr style=\"text-align: right;\">\n",
       "      <th></th>\n",
       "      <th>광고그룹</th>\n",
       "      <th>노출수</th>\n",
       "      <th>클릭수</th>\n",
       "      <th>클릭률(%)</th>\n",
       "      <th>평균클릭비용(VAT포함,원)</th>\n",
       "      <th>총비용(VAT포함,원)</th>\n",
       "    </tr>\n",
       "    <tr>\n",
       "      <th>키워드</th>\n",
       "      <th></th>\n",
       "      <th></th>\n",
       "      <th></th>\n",
       "      <th></th>\n",
       "      <th></th>\n",
       "      <th></th>\n",
       "    </tr>\n",
       "  </thead>\n",
       "  <tbody>\n",
       "    <tr>\n",
       "      <th>온라인마케팅교육</th>\n",
       "      <td>올인원 패키지 : 디지털 마케팅_1. 디지털 마케팅</td>\n",
       "      <td>4712</td>\n",
       "      <td>54</td>\n",
       "      <td>1.15</td>\n",
       "      <td>3460</td>\n",
       "      <td>186846</td>\n",
       "    </tr>\n",
       "    <tr>\n",
       "      <th>온라인마케팅</th>\n",
       "      <td>AOP 전체_중복키워드_마케팅</td>\n",
       "      <td>25645</td>\n",
       "      <td>43</td>\n",
       "      <td>0.17</td>\n",
       "      <td>4294</td>\n",
       "      <td>185493</td>\n",
       "    </tr>\n",
       "    <tr>\n",
       "      <th>어플제작비용</th>\n",
       "      <td>1. 모바일앱개발_교육</td>\n",
       "      <td>1786</td>\n",
       "      <td>70</td>\n",
       "      <td>3.92</td>\n",
       "      <td>2653</td>\n",
       "      <td>184646</td>\n",
       "    </tr>\n",
       "    <tr>\n",
       "      <th>부동산경매</th>\n",
       "      <td>fin_camp_auction_6</td>\n",
       "      <td>5087</td>\n",
       "      <td>50</td>\n",
       "      <td>0.98</td>\n",
       "      <td>3606</td>\n",
       "      <td>181742</td>\n",
       "    </tr>\n",
       "    <tr>\n",
       "      <th>퍼포먼스마케팅</th>\n",
       "      <td>마케터를 위한 데이터 부트캠프</td>\n",
       "      <td>5131</td>\n",
       "      <td>55</td>\n",
       "      <td>1.07</td>\n",
       "      <td>3275</td>\n",
       "      <td>180774</td>\n",
       "    </tr>\n",
       "    <tr>\n",
       "      <th>...</th>\n",
       "      <td>...</td>\n",
       "      <td>...</td>\n",
       "      <td>...</td>\n",
       "      <td>...</td>\n",
       "      <td>...</td>\n",
       "      <td>...</td>\n",
       "    </tr>\n",
       "    <tr>\n",
       "      <th>PHP</th>\n",
       "      <td>Python &amp; Django를 활용한 웹 서비스_개발자</td>\n",
       "      <td>11304</td>\n",
       "      <td>13</td>\n",
       "      <td>0.12</td>\n",
       "      <td>3490</td>\n",
       "      <td>46068</td>\n",
       "    </tr>\n",
       "    <tr>\n",
       "      <th>UXUI</th>\n",
       "      <td>AOP 전체_중복키워드_디자인</td>\n",
       "      <td>8957</td>\n",
       "      <td>28</td>\n",
       "      <td>0.31</td>\n",
       "      <td>1645</td>\n",
       "      <td>45408</td>\n",
       "    </tr>\n",
       "    <tr>\n",
       "      <th>SQL</th>\n",
       "      <td>올인원 패키지 : 파이썬 웹 개발_3.FLASK기초</td>\n",
       "      <td>7980</td>\n",
       "      <td>12</td>\n",
       "      <td>0.15</td>\n",
       "      <td>3781</td>\n",
       "      <td>45375</td>\n",
       "    </tr>\n",
       "    <tr>\n",
       "      <th>UI디자인</th>\n",
       "      <td>ㅍ올인원 패키지 : UX/UI 디자인 입문_연관검색어(삭제)</td>\n",
       "      <td>2812</td>\n",
       "      <td>13</td>\n",
       "      <td>0.46</td>\n",
       "      <td>3430</td>\n",
       "      <td>45276</td>\n",
       "    </tr>\n",
       "    <tr>\n",
       "      <th>웹크롤링</th>\n",
       "      <td>왕초보의 파이썬 웹 프로그래밍 CAMP</td>\n",
       "      <td>1929</td>\n",
       "      <td>13</td>\n",
       "      <td>0.67</td>\n",
       "      <td>3417</td>\n",
       "      <td>45100</td>\n",
       "    </tr>\n",
       "  </tbody>\n",
       "</table>\n",
       "<p>97 rows × 6 columns</p>\n",
       "</div>"
      ],
      "text/plain": [
       "                                       광고그룹    노출수  클릭수  클릭률(%)  \\\n",
       "키워드                                                               \n",
       "온라인마케팅교육       올인원 패키지 : 디지털 마케팅_1. 디지털 마케팅   4712   54    1.15   \n",
       "온라인마케팅                     AOP 전체_중복키워드_마케팅  25645   43    0.17   \n",
       "어플제작비용                         1. 모바일앱개발_교육   1786   70    3.92   \n",
       "부동산경매                    fin_camp_auction_6   5087   50    0.98   \n",
       "퍼포먼스마케팅                    마케터를 위한 데이터 부트캠프   5131   55    1.07   \n",
       "...                                     ...    ...  ...     ...   \n",
       "PHP          Python & Django를 활용한 웹 서비스_개발자  11304   13    0.12   \n",
       "UXUI                       AOP 전체_중복키워드_디자인   8957   28    0.31   \n",
       "SQL            올인원 패키지 : 파이썬 웹 개발_3.FLASK기초   7980   12    0.15   \n",
       "UI디자인     ㅍ올인원 패키지 : UX/UI 디자인 입문_연관검색어(삭제)   2812   13    0.46   \n",
       "웹크롤링                  왕초보의 파이썬 웹 프로그래밍 CAMP   1929   13    0.67   \n",
       "\n",
       "          평균클릭비용(VAT포함,원)  총비용(VAT포함,원)  \n",
       "키워드                                      \n",
       "온라인마케팅교육             3460        186846  \n",
       "온라인마케팅               4294        185493  \n",
       "어플제작비용               2653        184646  \n",
       "부동산경매                3606        181742  \n",
       "퍼포먼스마케팅              3275        180774  \n",
       "...                   ...           ...  \n",
       "PHP                  3490         46068  \n",
       "UXUI                 1645         45408  \n",
       "SQL                  3781         45375  \n",
       "UI디자인                3430         45276  \n",
       "웹크롤링                 3417         45100  \n",
       "\n",
       "[97 rows x 6 columns]"
      ]
     },
     "execution_count": 86,
     "metadata": {},
     "output_type": "execute_result"
    }
   ],
   "source": [
    "result2"
   ]
  },
  {
   "cell_type": "code",
   "execution_count": 87,
   "metadata": {},
   "outputs": [
    {
     "data": {
      "text/plain": [
       "Index(['온라인마케팅교육', '온라인마케팅', '어플제작비용', '부동산경매', '퍼포먼스마케팅', '블록체인', 'C++',\n",
       "       '게임만드는프로그램', '엑셀배우기', '앱만들기', '영상제작', '쇼핑몰제작', '에프터이펙트', '어플리케이션제작',\n",
       "       '강남빌딩매매', '웹디자인', '디지털마케팅', '포토샵강의', '구글애널리틱스자격증', 'PYTHON', '페이스북광고',\n",
       "       '유튜브마케팅', '게임제작', '부동산투자', '마케팅전략', 'PYTHON', '홈페이지만들기', 'B2B사이트',\n",
       "       'JAVASCRIPT', '파이썬강좌', '인스타그램광고', '동영상제작', 'SEO', '쇼핑몰창업', '인터넷쇼핑몰',\n",
       "       '게임프로그래밍학원', '프로그래밍', '서울빌딩매매', '데이터사이언스', '모바일게임제작', '엑셀학원',\n",
       "       '유튜브크리에이터', '엑셀VBA', '영상편집학원', '텐서플로우', '쇼핑몰홈페이지제작', '엑셀교육', '그로스해킹',\n",
       "       '게임개발', '광고대행사', '통계학원', '모바일앱개발', '안드로이드앱만들기', '파이썬기초', '하이브리드앱',\n",
       "       '온라인마케팅', '인디자인', '검색엔진최적화', '엑셀실무', '인터넷쇼핑몰제작', '상가빌딩매매', '퍼포먼스마케팅',\n",
       "       '쇼핑몰', 'UX디자인', '유니티강좌', 'VBA', '코딩이란', 'SNS마케팅', 'GA자격증', '콘텐츠제작',\n",
       "       '구글애널리틱스', 'UI디자인', '1인미디어', '포토샵자격증', '하이브리드앱', '포토샵자격증', '브랜드네이밍',\n",
       "       '리플렛디자인', '데이터사이언티스트', '유니티3D', '자바스크립트', '일러스트레이터강좌', '데이터분석준전문가',\n",
       "       '유튜브편집', '모션그래픽', '리플렛디자인', 'SPRING', '어도비일러스트레이터', 'SNS광고', '쇼핑몰촬영',\n",
       "       '브랜드마케팅', '데이터분석', 'PHP', 'UXUI', 'SQL', 'UI디자인', '웹크롤링'],\n",
       "      dtype='object', name='키워드')"
      ]
     },
     "execution_count": 87,
     "metadata": {},
     "output_type": "execute_result"
    }
   ],
   "source": [
    "# 중점관리 키워드 출력\n",
    "result2.index"
   ]
  },
  {
   "cell_type": "markdown",
   "metadata": {},
   "source": [
    "### 광고그룹분석\n",
    "- 학습목표 :\n",
    "    1. groupby함수 사용 실습\n",
    "    2. 키워드 분석 과정에서 진행한 코딩 복습"
   ]
  },
  {
   "cell_type": "code",
   "execution_count": 88,
   "metadata": {},
   "outputs": [],
   "source": [
    "# groupby - 전달된 열을 기준으로 전체 데이터를 분류\n",
    "grouped = df.groupby('광고그룹')"
   ]
  },
  {
   "cell_type": "code",
   "execution_count": 90,
   "metadata": {},
   "outputs": [
    {
     "data": {
      "text/html": [
       "<div>\n",
       "<style scoped>\n",
       "    .dataframe tbody tr th:only-of-type {\n",
       "        vertical-align: middle;\n",
       "    }\n",
       "\n",
       "    .dataframe tbody tr th {\n",
       "        vertical-align: top;\n",
       "    }\n",
       "\n",
       "    .dataframe thead th {\n",
       "        text-align: right;\n",
       "    }\n",
       "</style>\n",
       "<table border=\"1\" class=\"dataframe\">\n",
       "  <thead>\n",
       "    <tr style=\"text-align: right;\">\n",
       "      <th></th>\n",
       "      <th>키워드</th>\n",
       "      <th>노출수</th>\n",
       "      <th>클릭수</th>\n",
       "      <th>클릭률(%)</th>\n",
       "      <th>평균클릭비용(VAT포함,원)</th>\n",
       "      <th>총비용(VAT포함,원)</th>\n",
       "    </tr>\n",
       "    <tr>\n",
       "      <th>광고그룹</th>\n",
       "      <th></th>\n",
       "      <th></th>\n",
       "      <th></th>\n",
       "      <th></th>\n",
       "      <th></th>\n",
       "      <th></th>\n",
       "    </tr>\n",
       "  </thead>\n",
       "  <tbody>\n",
       "    <tr>\n",
       "      <th>#000_마케팅 전체_main</th>\n",
       "      <td>48</td>\n",
       "      <td>48</td>\n",
       "      <td>48</td>\n",
       "      <td>48</td>\n",
       "      <td>48</td>\n",
       "      <td>48</td>\n",
       "    </tr>\n",
       "    <tr>\n",
       "      <th>001.BASIC DESIGN</th>\n",
       "      <td>9</td>\n",
       "      <td>9</td>\n",
       "      <td>9</td>\n",
       "      <td>9</td>\n",
       "      <td>9</td>\n",
       "      <td>9</td>\n",
       "    </tr>\n",
       "    <tr>\n",
       "      <th>001.데이터분석/ 통계</th>\n",
       "      <td>10</td>\n",
       "      <td>10</td>\n",
       "      <td>10</td>\n",
       "      <td>10</td>\n",
       "      <td>10</td>\n",
       "      <td>10</td>\n",
       "    </tr>\n",
       "    <tr>\n",
       "      <th>002.R</th>\n",
       "      <td>9</td>\n",
       "      <td>9</td>\n",
       "      <td>9</td>\n",
       "      <td>9</td>\n",
       "      <td>9</td>\n",
       "      <td>9</td>\n",
       "    </tr>\n",
       "    <tr>\n",
       "      <th>002.UX/UI</th>\n",
       "      <td>5</td>\n",
       "      <td>5</td>\n",
       "      <td>5</td>\n",
       "      <td>5</td>\n",
       "      <td>5</td>\n",
       "      <td>5</td>\n",
       "    </tr>\n",
       "  </tbody>\n",
       "</table>\n",
       "</div>"
      ],
      "text/plain": [
       "                  키워드  노출수  클릭수  클릭률(%)  평균클릭비용(VAT포함,원)  총비용(VAT포함,원)\n",
       "광고그룹                                                                  \n",
       "#000_마케팅 전체_main   48   48   48      48               48            48\n",
       "001.BASIC DESIGN    9    9    9       9                9             9\n",
       "001.데이터분석/ 통계      10   10   10      10               10            10\n",
       "002.R               9    9    9       9                9             9\n",
       "002.UX/UI           5    5    5       5                5             5"
      ]
     },
     "execution_count": 90,
     "metadata": {},
     "output_type": "execute_result"
    }
   ],
   "source": [
    "# 데이터를 살펴보기 위하여 집계함수 사용해야함\n",
    "grouped.count()[:5]"
   ]
  },
  {
   "cell_type": "markdown",
   "metadata": {},
   "source": [
    "### 광고그룹 기준 데이터 전처리"
   ]
  },
  {
   "cell_type": "code",
   "execution_count": 93,
   "metadata": {},
   "outputs": [
    {
     "data": {
      "text/html": [
       "<div>\n",
       "<style scoped>\n",
       "    .dataframe tbody tr th:only-of-type {\n",
       "        vertical-align: middle;\n",
       "    }\n",
       "\n",
       "    .dataframe tbody tr th {\n",
       "        vertical-align: top;\n",
       "    }\n",
       "\n",
       "    .dataframe thead th {\n",
       "        text-align: right;\n",
       "    }\n",
       "</style>\n",
       "<table border=\"1\" class=\"dataframe\">\n",
       "  <thead>\n",
       "    <tr style=\"text-align: right;\">\n",
       "      <th></th>\n",
       "      <th>노출수</th>\n",
       "      <th>클릭수</th>\n",
       "      <th>클릭률(%)</th>\n",
       "      <th>평균클릭비용(VAT포함,원)</th>\n",
       "      <th>총비용(VAT포함,원)</th>\n",
       "    </tr>\n",
       "    <tr>\n",
       "      <th>광고그룹</th>\n",
       "      <th></th>\n",
       "      <th></th>\n",
       "      <th></th>\n",
       "      <th></th>\n",
       "      <th></th>\n",
       "    </tr>\n",
       "  </thead>\n",
       "  <tbody>\n",
       "    <tr>\n",
       "      <th>#000_마케팅 전체_main</th>\n",
       "      <td>709447</td>\n",
       "      <td>401</td>\n",
       "      <td>8.83</td>\n",
       "      <td>30003</td>\n",
       "      <td>347710</td>\n",
       "    </tr>\n",
       "    <tr>\n",
       "      <th>001.BASIC DESIGN</th>\n",
       "      <td>51647</td>\n",
       "      <td>60</td>\n",
       "      <td>2.04</td>\n",
       "      <td>2688</td>\n",
       "      <td>21846</td>\n",
       "    </tr>\n",
       "    <tr>\n",
       "      <th>001.데이터분석/ 통계</th>\n",
       "      <td>37150</td>\n",
       "      <td>202</td>\n",
       "      <td>8.89</td>\n",
       "      <td>10217</td>\n",
       "      <td>195756</td>\n",
       "    </tr>\n",
       "    <tr>\n",
       "      <th>002.R</th>\n",
       "      <td>120724</td>\n",
       "      <td>78</td>\n",
       "      <td>1.03</td>\n",
       "      <td>3240</td>\n",
       "      <td>43164</td>\n",
       "    </tr>\n",
       "    <tr>\n",
       "      <th>002.UX/UI</th>\n",
       "      <td>15454</td>\n",
       "      <td>20</td>\n",
       "      <td>0.42</td>\n",
       "      <td>350</td>\n",
       "      <td>2750</td>\n",
       "    </tr>\n",
       "    <tr>\n",
       "      <th>002.마케팅 입문</th>\n",
       "      <td>20372</td>\n",
       "      <td>189</td>\n",
       "      <td>2.87</td>\n",
       "      <td>2313</td>\n",
       "      <td>107371</td>\n",
       "    </tr>\n",
       "    <tr>\n",
       "      <th>003.파이썬</th>\n",
       "      <td>18212</td>\n",
       "      <td>20</td>\n",
       "      <td>0.61</td>\n",
       "      <td>4178</td>\n",
       "      <td>19096</td>\n",
       "    </tr>\n",
       "    <tr>\n",
       "      <th>003.퍼포먼스 마케팅</th>\n",
       "      <td>10453</td>\n",
       "      <td>164</td>\n",
       "      <td>5.43</td>\n",
       "      <td>8379</td>\n",
       "      <td>518177</td>\n",
       "    </tr>\n",
       "    <tr>\n",
       "      <th>005.머신러닝</th>\n",
       "      <td>30300</td>\n",
       "      <td>34</td>\n",
       "      <td>1.22</td>\n",
       "      <td>1937</td>\n",
       "      <td>18172</td>\n",
       "    </tr>\n",
       "    <tr>\n",
       "      <th>006.딥러닝</th>\n",
       "      <td>13436</td>\n",
       "      <td>4</td>\n",
       "      <td>0.16</td>\n",
       "      <td>715</td>\n",
       "      <td>1364</td>\n",
       "    </tr>\n",
       "  </tbody>\n",
       "</table>\n",
       "</div>"
      ],
      "text/plain": [
       "                     노출수  클릭수  클릭률(%)  평균클릭비용(VAT포함,원)  총비용(VAT포함,원)\n",
       "광고그룹                                                                \n",
       "#000_마케팅 전체_main  709447  401    8.83            30003        347710\n",
       "001.BASIC DESIGN   51647   60    2.04             2688         21846\n",
       "001.데이터분석/ 통계      37150  202    8.89            10217        195756\n",
       "002.R             120724   78    1.03             3240         43164\n",
       "002.UX/UI          15454   20    0.42              350          2750\n",
       "002.마케팅 입문         20372  189    2.87             2313        107371\n",
       "003.파이썬            18212   20    0.61             4178         19096\n",
       "003.퍼포먼스 마케팅       10453  164    5.43             8379        518177\n",
       "005.머신러닝           30300   34    1.22             1937         18172\n",
       "006.딥러닝            13436    4    0.16              715          1364"
      ]
     },
     "execution_count": 93,
     "metadata": {},
     "output_type": "execute_result"
    }
   ],
   "source": [
    "# 그룹데이터의 합계 - 노출수, 클릭수, 총비용 칼럼\n",
    "grouped.sum()[:10]"
   ]
  },
  {
   "cell_type": "markdown",
   "metadata": {},
   "source": [
    "- 클릭률과 평균클릭비용은 다시 정제할 필요가 있다."
   ]
  },
  {
   "cell_type": "code",
   "execution_count": 94,
   "metadata": {},
   "outputs": [],
   "source": [
    "df_group = grouped.sum()"
   ]
  },
  {
   "cell_type": "code",
   "execution_count": 95,
   "metadata": {},
   "outputs": [],
   "source": [
    "# 클릭률(ctr) = 클릭수 / 노출수\n",
    "df_group['클릭률(%)'] = df_group['클릭수'] / df_group['노출수']"
   ]
  },
  {
   "cell_type": "code",
   "execution_count": 96,
   "metadata": {},
   "outputs": [],
   "source": [
    "# 평균클릭비용(cpc) = 총비용 / 클릭수\n",
    "df_group['평균클릭비용(VAT포함,원)'] =  df_group['총비용(VAT포함,원)'] / df_group['클릭수']"
   ]
  },
  {
   "cell_type": "code",
   "execution_count": 97,
   "metadata": {},
   "outputs": [
    {
     "data": {
      "text/html": [
       "<div>\n",
       "<style scoped>\n",
       "    .dataframe tbody tr th:only-of-type {\n",
       "        vertical-align: middle;\n",
       "    }\n",
       "\n",
       "    .dataframe tbody tr th {\n",
       "        vertical-align: top;\n",
       "    }\n",
       "\n",
       "    .dataframe thead th {\n",
       "        text-align: right;\n",
       "    }\n",
       "</style>\n",
       "<table border=\"1\" class=\"dataframe\">\n",
       "  <thead>\n",
       "    <tr style=\"text-align: right;\">\n",
       "      <th></th>\n",
       "      <th>노출수</th>\n",
       "      <th>클릭수</th>\n",
       "      <th>클릭률(%)</th>\n",
       "      <th>평균클릭비용(VAT포함,원)</th>\n",
       "      <th>총비용(VAT포함,원)</th>\n",
       "    </tr>\n",
       "    <tr>\n",
       "      <th>광고그룹</th>\n",
       "      <th></th>\n",
       "      <th></th>\n",
       "      <th></th>\n",
       "      <th></th>\n",
       "      <th></th>\n",
       "    </tr>\n",
       "  </thead>\n",
       "  <tbody>\n",
       "    <tr>\n",
       "      <th>Hyperledger Fabric 프로젝트 CAMP</th>\n",
       "      <td>1990</td>\n",
       "      <td>0</td>\n",
       "      <td>0.00</td>\n",
       "      <td>NaN</td>\n",
       "      <td>0</td>\n",
       "    </tr>\n",
       "    <tr>\n",
       "      <th>fin_camp_business_4</th>\n",
       "      <td>2136</td>\n",
       "      <td>0</td>\n",
       "      <td>0.00</td>\n",
       "      <td>NaN</td>\n",
       "      <td>0</td>\n",
       "    </tr>\n",
       "    <tr>\n",
       "      <th>fin_camp_rfs_9</th>\n",
       "      <td>1928</td>\n",
       "      <td>0</td>\n",
       "      <td>0.00</td>\n",
       "      <td>NaN</td>\n",
       "      <td>0</td>\n",
       "    </tr>\n",
       "    <tr>\n",
       "      <th>다함께 DDD 프로젝트</th>\n",
       "      <td>3689</td>\n",
       "      <td>0</td>\n",
       "      <td>0.00</td>\n",
       "      <td>NaN</td>\n",
       "      <td>0</td>\n",
       "    </tr>\n",
       "    <tr>\n",
       "      <th>올인원 패키지 : 디지털 마케팅_인스타광고</th>\n",
       "      <td>1377</td>\n",
       "      <td>0</td>\n",
       "      <td>0.00</td>\n",
       "      <td>NaN</td>\n",
       "      <td>0</td>\n",
       "    </tr>\n",
       "  </tbody>\n",
       "</table>\n",
       "</div>"
      ],
      "text/plain": [
       "                               노출수  클릭수  클릭률(%)  평균클릭비용(VAT포함,원)  총비용(VAT포함,원)\n",
       "광고그룹                                                                          \n",
       "Hyperledger Fabric 프로젝트 CAMP  1990    0    0.00              NaN             0\n",
       "fin_camp_business_4           2136    0    0.00              NaN             0\n",
       "fin_camp_rfs_9                1928    0    0.00              NaN             0\n",
       "다함께 DDD 프로젝트                  3689    0    0.00              NaN             0\n",
       "올인원 패키지 : 디지털 마케팅_인스타광고       1377    0    0.00              NaN             0"
      ]
     },
     "execution_count": 97,
     "metadata": {},
     "output_type": "execute_result"
    }
   ],
   "source": [
    "# 클릭수 칼럼 중 NaN인 데이터가 존재 => 평균클릭비용 칼럼 중 결측 값이 존재\n",
    "df_group[df_group['클릭수'] == 0]"
   ]
  },
  {
   "cell_type": "code",
   "execution_count": 98,
   "metadata": {},
   "outputs": [],
   "source": [
    "# fillna - 전달된 값으로 결측값을 대체하는 함수\n",
    "df_group['평균클릭비용(VAT포함,원)'] = df_group['평균클릭비용(VAT포함,원)'].fillna(0)"
   ]
  },
  {
   "cell_type": "code",
   "execution_count": 99,
   "metadata": {},
   "outputs": [
    {
     "data": {
      "text/html": [
       "<div>\n",
       "<style scoped>\n",
       "    .dataframe tbody tr th:only-of-type {\n",
       "        vertical-align: middle;\n",
       "    }\n",
       "\n",
       "    .dataframe tbody tr th {\n",
       "        vertical-align: top;\n",
       "    }\n",
       "\n",
       "    .dataframe thead th {\n",
       "        text-align: right;\n",
       "    }\n",
       "</style>\n",
       "<table border=\"1\" class=\"dataframe\">\n",
       "  <thead>\n",
       "    <tr style=\"text-align: right;\">\n",
       "      <th></th>\n",
       "      <th>노출수</th>\n",
       "      <th>클릭수</th>\n",
       "      <th>클릭률(%)</th>\n",
       "      <th>평균클릭비용(VAT포함,원)</th>\n",
       "      <th>총비용(VAT포함,원)</th>\n",
       "    </tr>\n",
       "    <tr>\n",
       "      <th>광고그룹</th>\n",
       "      <th></th>\n",
       "      <th></th>\n",
       "      <th></th>\n",
       "      <th></th>\n",
       "      <th></th>\n",
       "    </tr>\n",
       "  </thead>\n",
       "  <tbody>\n",
       "    <tr>\n",
       "      <th>Hyperledger Fabric 프로젝트 CAMP</th>\n",
       "      <td>1990</td>\n",
       "      <td>0</td>\n",
       "      <td>0.00</td>\n",
       "      <td>0.00</td>\n",
       "      <td>0</td>\n",
       "    </tr>\n",
       "    <tr>\n",
       "      <th>fin_camp_business_4</th>\n",
       "      <td>2136</td>\n",
       "      <td>0</td>\n",
       "      <td>0.00</td>\n",
       "      <td>0.00</td>\n",
       "      <td>0</td>\n",
       "    </tr>\n",
       "    <tr>\n",
       "      <th>fin_camp_rfs_9</th>\n",
       "      <td>1928</td>\n",
       "      <td>0</td>\n",
       "      <td>0.00</td>\n",
       "      <td>0.00</td>\n",
       "      <td>0</td>\n",
       "    </tr>\n",
       "    <tr>\n",
       "      <th>다함께 DDD 프로젝트</th>\n",
       "      <td>3689</td>\n",
       "      <td>0</td>\n",
       "      <td>0.00</td>\n",
       "      <td>0.00</td>\n",
       "      <td>0</td>\n",
       "    </tr>\n",
       "    <tr>\n",
       "      <th>올인원 패키지 : 디지털 마케팅_인스타광고</th>\n",
       "      <td>1377</td>\n",
       "      <td>0</td>\n",
       "      <td>0.00</td>\n",
       "      <td>0.00</td>\n",
       "      <td>0</td>\n",
       "    </tr>\n",
       "  </tbody>\n",
       "</table>\n",
       "</div>"
      ],
      "text/plain": [
       "                               노출수  클릭수  클릭률(%)  평균클릭비용(VAT포함,원)  총비용(VAT포함,원)\n",
       "광고그룹                                                                          \n",
       "Hyperledger Fabric 프로젝트 CAMP  1990    0    0.00             0.00             0\n",
       "fin_camp_business_4           2136    0    0.00             0.00             0\n",
       "fin_camp_rfs_9                1928    0    0.00             0.00             0\n",
       "다함께 DDD 프로젝트                  3689    0    0.00             0.00             0\n",
       "올인원 패키지 : 디지털 마케팅_인스타광고       1377    0    0.00             0.00             0"
      ]
     },
     "execution_count": 99,
     "metadata": {},
     "output_type": "execute_result"
    }
   ],
   "source": [
    "df_group[df_group['클릭수'] == 0]"
   ]
  },
  {
   "cell_type": "code",
   "execution_count": 100,
   "metadata": {},
   "outputs": [
    {
     "data": {
      "text/html": [
       "<div>\n",
       "<style scoped>\n",
       "    .dataframe tbody tr th:only-of-type {\n",
       "        vertical-align: middle;\n",
       "    }\n",
       "\n",
       "    .dataframe tbody tr th {\n",
       "        vertical-align: top;\n",
       "    }\n",
       "\n",
       "    .dataframe thead th {\n",
       "        text-align: right;\n",
       "    }\n",
       "</style>\n",
       "<table border=\"1\" class=\"dataframe\">\n",
       "  <thead>\n",
       "    <tr style=\"text-align: right;\">\n",
       "      <th></th>\n",
       "      <th>노출수</th>\n",
       "      <th>클릭수</th>\n",
       "      <th>클릭률(%)</th>\n",
       "      <th>평균클릭비용(VAT포함,원)</th>\n",
       "      <th>총비용(VAT포함,원)</th>\n",
       "    </tr>\n",
       "    <tr>\n",
       "      <th>광고그룹</th>\n",
       "      <th></th>\n",
       "      <th></th>\n",
       "      <th></th>\n",
       "      <th></th>\n",
       "      <th></th>\n",
       "    </tr>\n",
       "  </thead>\n",
       "  <tbody>\n",
       "    <tr>\n",
       "      <th>#000_마케팅 전체_main</th>\n",
       "      <td>709447</td>\n",
       "      <td>401</td>\n",
       "      <td>0.00</td>\n",
       "      <td>867</td>\n",
       "      <td>347710</td>\n",
       "    </tr>\n",
       "    <tr>\n",
       "      <th>001.BASIC DESIGN</th>\n",
       "      <td>51647</td>\n",
       "      <td>60</td>\n",
       "      <td>0.00</td>\n",
       "      <td>364</td>\n",
       "      <td>21846</td>\n",
       "    </tr>\n",
       "    <tr>\n",
       "      <th>001.데이터분석/ 통계</th>\n",
       "      <td>37150</td>\n",
       "      <td>202</td>\n",
       "      <td>0.01</td>\n",
       "      <td>969</td>\n",
       "      <td>195756</td>\n",
       "    </tr>\n",
       "    <tr>\n",
       "      <th>002.R</th>\n",
       "      <td>120724</td>\n",
       "      <td>78</td>\n",
       "      <td>0.00</td>\n",
       "      <td>553</td>\n",
       "      <td>43164</td>\n",
       "    </tr>\n",
       "    <tr>\n",
       "      <th>002.UX/UI</th>\n",
       "      <td>15454</td>\n",
       "      <td>20</td>\n",
       "      <td>0.00</td>\n",
       "      <td>138</td>\n",
       "      <td>2750</td>\n",
       "    </tr>\n",
       "  </tbody>\n",
       "</table>\n",
       "</div>"
      ],
      "text/plain": [
       "                     노출수  클릭수  클릭률(%)  평균클릭비용(VAT포함,원)  총비용(VAT포함,원)\n",
       "광고그룹                                                                \n",
       "#000_마케팅 전체_main  709447  401    0.00              867        347710\n",
       "001.BASIC DESIGN   51647   60    0.00              364         21846\n",
       "001.데이터분석/ 통계      37150  202    0.01              969        195756\n",
       "002.R             120724   78    0.00              553         43164\n",
       "002.UX/UI          15454   20    0.00              138          2750"
      ]
     },
     "execution_count": 100,
     "metadata": {},
     "output_type": "execute_result"
    }
   ],
   "source": [
    "# 평균클릭비용 소숫점 제거 및 반올림 처리.\n",
    "df_group['평균클릭비용(VAT포함,원)']=round(df_group['평균클릭비용(VAT포함,원)'], 0)\n",
    "df_group['평균클릭비용(VAT포함,원)'] = df_group['평균클릭비용(VAT포함,원)'].astype(int)\n",
    "df_group.head()"
   ]
  },
  {
   "cell_type": "markdown",
   "metadata": {},
   "source": [
    "### 데이터 시각화"
   ]
  },
  {
   "cell_type": "code",
   "execution_count": 102,
   "metadata": {},
   "outputs": [
    {
     "data": {
      "image/png": "[encoded data removed]",
      "text/plain": [
       "<Figure size 432x288 with 1 Axes>"
      ]
     },
     "metadata": {
      "needs_background": "light"
     },
     "output_type": "display_data"
    }
   ],
   "source": [
    "df_group['노출수'].plot()\n",
    "plt.show()"
   ]
  },
  {
   "cell_type": "markdown",
   "metadata": {},
   "source": [
    "- 시리즈의 value를 수치 순서대로 오름차순 정렬 및 정렬된 데이터의 형태대로 index 재생성 후 시각화"
   ]
  },
  {
   "cell_type": "code",
   "execution_count": 103,
   "metadata": {},
   "outputs": [
    {
     "data": {
      "image/png": "[encoded data removed]",
      "text/plain": [
       "<Figure size 432x288 with 1 Axes>"
      ]
     },
     "metadata": {
      "needs_background": "light"
     },
     "output_type": "display_data"
    }
   ],
   "source": [
    "# 노출수 칼럼 선그래프\n",
    "(((df_group['노출수'].sort_values()).reset_index()).drop('광고그룹', axis=1)).plot()\n",
    "plt.show()"
   ]
  },
  {
   "cell_type": "code",
   "execution_count": 104,
   "metadata": {},
   "outputs": [
    {
     "data": {
      "image/png": "[encoded data removed]",
      "text/plain": [
       "<Figure size 432x288 with 1 Axes>"
      ]
     },
     "metadata": {
      "needs_background": "light"
     },
     "output_type": "display_data"
    }
   ],
   "source": [
    " # 클릭수 칼럼 선그래프\n",
    "(((df_group['클릭수'].sort_values()).reset_index()).drop('광고그룹', axis=1)).plot()\n",
    "plt.show()"
   ]
  },
  {
   "cell_type": "code",
   "execution_count": 105,
   "metadata": {},
   "outputs": [
    {
     "data": {
      "image/png": "[encoded data removed]",
      "text/plain": [
       "<Figure size 432x288 with 1 Axes>"
      ]
     },
     "metadata": {
      "needs_background": "light"
     },
     "output_type": "display_data"
    }
   ],
   "source": [
    " # 총비용 칼럼 선그래프\n",
    "(((df_group['총비용(VAT포함,원)'].sort_values()).reset_index()).drop('광고그룹', axis=1)).plot()\n",
    "plt.show()"
   ]
  },
  {
   "cell_type": "markdown",
   "metadata": {},
   "source": [
    "### 중점관리 광고그룹 / 저효율 광고그룹\n",
    "- 중점관리 광고그룹\n",
    "    1. 상위 20% (노출수 80백분위수 이상)\n",
    "    2. 상위 10% (클릭수 90백분위수 이상)"
   ]
  },
  {
   "cell_type": "code",
   "execution_count": 106,
   "metadata": {},
   "outputs": [],
   "source": [
    "# df_group에서 imp, clk 변수 생성\n",
    "imp = df_group['노출수']\n",
    "clk = df_group['클릭수']"
   ]
  },
  {
   "cell_type": "code",
   "execution_count": 107,
   "metadata": {},
   "outputs": [],
   "source": [
    "# 노출수 80 백분위수 이상 & 클릭수 90 백분위수 이상\n",
    "result3 = df_group[(imp>=imp.quantile(0.80)) & (clk>=clk.quantile(0.90))]"
   ]
  },
  {
   "cell_type": "code",
   "execution_count": 108,
   "metadata": {},
   "outputs": [
    {
     "data": {
      "text/plain": [
       "Index(['#000_마케팅 전체_main', '1. 코딩', '3. html', '6. 파이썬', 'AOP 전체_중복키워드_디자인',\n",
       "       'AOP 전체_중복키워드_비지니스', 'ㅍAOP 전체_중복키워드_디자인(삭제)', '마케팅 전체',\n",
       "       '올인원 패키지 : 데이터 분석 입문 온라인_파콘', '올인원 패키지 : 디자인 툴_파워컨텐츠_포토샵',\n",
       "       '올인원 패키지 : 업무자동화_VBA', '타이포그래피와 편집디자인', '프로그래밍 전체_파워컨텐츠_블록체인(삭제)'],\n",
       "      dtype='object', name='광고그룹')"
      ]
     },
     "execution_count": 108,
     "metadata": {},
     "output_type": "execute_result"
    }
   ],
   "source": [
    "result3.index"
   ]
  },
  {
   "cell_type": "markdown",
   "metadata": {},
   "source": [
    "- 저효율 광고그룹\n",
    "    1. 노출수 : 80백분위수 미만\n",
    "    2. 클릭수 : 90백분위수 미만\n",
    "    3. 총비용 : 60백분위수 이상\n",
    "    4. 총비용 : 90백분위수 미만"
   ]
  },
  {
   "cell_type": "code",
   "execution_count": 109,
   "metadata": {},
   "outputs": [],
   "source": [
    "cost = df_group['총비용(VAT포함,원)']"
   ]
  },
  {
   "cell_type": "code",
   "execution_count": 110,
   "metadata": {},
   "outputs": [],
   "source": [
    "result4 = df_group[(imp<imp.quantile(0.80)) & (clk<clk.quantile(0.90)) & (cost >= cost.quantile(0.60)) & (cost < cost.quantile(0.90))]"
   ]
  },
  {
   "cell_type": "code",
   "execution_count": 111,
   "metadata": {},
   "outputs": [
    {
     "data": {
      "text/plain": [
       "Index(['001.데이터분석/ 통계', '002.마케팅 입문', '003.퍼포먼스 마케팅', '1. 전체', '2. 프로그래밍',\n",
       "       '5. 자료구조', 'AOP 전체_중복키워드_공통', 'AOP 전체_중복키워드_데이터사이언스',\n",
       "       'AOP 전체_중복키워드_프로그래밍', 'JavaScript BOOT CAMP',\n",
       "       'Python & Django를 활용한 웹 서비스_개발자', 'SEO/SEM 전략',\n",
       "       'TensorFlow로 시작하는 딥러닝 입문', 'fin_camp_auction_6', 'ㅍAOP 전체_중복키워드_공통(삭제)',\n",
       "       'ㅍAOP 전체_중복키워드_마케팅(삭제)', 'ㅍAOP 전체_중복키워드_프로그래밍(삭제)',\n",
       "       'ㅍ올인원 패키지 : UX/UI 디자인 입문_연관검색어(삭제)', 'ㅍ올인원 패키지 : 브랜딩',\n",
       "       '고객의 마음을 읽는 구글애널리틱스', '대기업을 이기는 브랜딩 전략', '마케터를 위한 데이터 부트캠프',\n",
       "       '마케터를 위한 데이터 해석 실전', '마케팅 유치원', '마케팅KPI수립',\n",
       "       '올인원 패키지 : 1인 쇼핑몰 시작하기_02.쇼핑몰구축', '올인원 패키지 : 1인 쇼핑몰_00.창업_MO',\n",
       "       '올인원 패키지 : UX/UI 디자인 입문_연관검색어', '올인원 패키지 : 그로스해킹_5.마케팅 분석',\n",
       "       '올인원 패키지 : 디지털 마케팅_1. 디지털 마케팅', '올인원 패키지 : 브랜딩',\n",
       "       '올인원 패키지 : 업무자동화_1. 자동화', '올인원 패키지 : 업무자동화_4. VBA',\n",
       "       '올인원 패키지 : 영상 제작/편집_9.유튜브/유튜버', '왕초보의 파이썬 웹 프로그래밍 CAMP',\n",
       "       '코딩으로 여행하는 블록체인 서비스', '페이스북&인스타그램 마케팅 실전', '프로그래밍 유치원'],\n",
       "      dtype='object', name='광고그룹')"
      ]
     },
     "execution_count": 111,
     "metadata": {},
     "output_type": "execute_result"
    }
   ],
   "source": [
    "result4.index"
   ]
  },
  {
   "cell_type": "code",
   "execution_count": null,
   "metadata": {},
   "outputs": [],
   "source": []
  }
 ],
 "metadata": {
  "kernelspec": {
   "display_name": "hs",
   "language": "python",
   "name": "hs"
  },
  "language_info": {
   "codemirror_mode": {
    "name": "ipython",
    "version": 3
   },
   "file_extension": ".py",
   "mimetype": "text/x-python",
   "name": "python",
   "nbconvert_exporter": "python",
   "pygments_lexer": "ipython3",
   "version": "3.8.8"
  }
 },
 "nbformat": 4,
 "nbformat_minor": 4
}
