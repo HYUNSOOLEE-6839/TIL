{
 "cells": [
  {
   "cell_type": "markdown",
   "metadata": {},
   "source": [
    "# 회귀계수 축소법"
   ]
  },
  {
   "cell_type": "markdown",
   "metadata": {},
   "source": [
    "### 분석용 데이터의 이상적 조건\n",
    "- 독립변수 X 사이에 상관성이 작아야 이상적임.\n",
    "- 반면에 독립변수 X와 종속변수 Y의 상관성은 커야 함.\n",
    "- 위 두 성질을 만족하는 소수의 독립변수 집합\n",
    "- 많은 양질의 데이터(결측치와 노이즈가 없는 깨끗한 데이터)\n",
    "\n",
    "### 변수선택\n",
    "- 독립변수 X 간에는 상관성이 적고, X와 종속변수 Y 간에는 상관성이 큰 독립변수만을 추출\n",
    "    > 사람의 키를 예측하는 데 있어서 다리길이와 팔길이는 중복성 존재"
   ]
  },
  {
   "cell_type": "markdown",
   "metadata": {},
   "source": [
    "- 즉, Y의 변동성(분산)을 잘 설명하면서 X들끼리는 상관관계가 없는 변수들이 좋은 변수임."
   ]
  },
  {
   "cell_type": "markdown",
   "metadata": {},
   "source": [
    "### 회귀계수를 축소하는 이유\n",
    "- 영향력이 없는 입력 변수의 계수를 0에 가깝게 가져간다면, 모형에 포함되는 입력 변수의 수를 줄일 수 있음.\n",
    "- 입력 변수의 수를 줄일 때의 장점\n",
    "    - 1) 잡음(noise)을 제거해 모형의 정확도를 개선\n",
    "    - 2) 모형의 연산속도가 빨라짐\n",
    "    - 3) 다중공산성의 문제를 완화시켜 모형의 해석 능력을 향상"
   ]
  },
  {
   "cell_type": "markdown",
   "metadata": {},
   "source": [
    "### 계수축소법의 종류\n",
    "- 계수축소법은 기본적으로 다중선형회귀와 유사\n",
    "- 다중선형회귀에서 잔차를 최소화했다면, 계수축소법에서는 잔차와 회귀계수를 최소화.\n",
    "- 계수축소법에는 Ridge 회귀 / Lasso 회귀 / Elastic-Net 회귀"
   ]
  },
  {
   "cell_type": "markdown",
   "metadata": {},
   "source": [
    "### Ridge 회귀\n",
    "- f(베타)에 회귀계수의 제곱의 합을 대입\n",
    "- tuning parameter는 크면 클 수록 보다 많은 회귀계수를 0으로 수렴\n",
    "    > minimize (SSE + lambda)\n",
    "<br>\n",
    "\n",
    "- 다중공선성은 X들 간의 강한 선형관계가 있을 때 발생\n",
    "- X'X의 역행렬을 구할 수가 없음.\n",
    "- Ridge는 X'X의 역행렬을 구할 수 있도록 강제로 작은 값을 diagonal term에 추가한 것.\n",
    "     > diagonal term : 행렬의 가운데\n",
    "            "
   ]
  },
  {
   "cell_type": "markdown",
   "metadata": {},
   "source": [
    "### Lasso\n",
    "- f(베타)에 회귀계수의 절대값의 합을 대입\n",
    "- Lasso의 베타는 절댓값의 형태를 가지고 있어서 ridge와 다르게 한 번에 구할 수 없음.\n",
    "    > Logistic 회귀처럼 조금씩 업데이트 하면서 찾아야함."
   ]
  },
  {
   "cell_type": "markdown",
   "metadata": {},
   "source": [
    "- 람다 값의 설정\n",
    "    > 람다 값을 변화시켜가며 MSE가 최소일 때의 람다를 탐색"
   ]
  },
  {
   "cell_type": "markdown",
   "metadata": {},
   "source": [
    "### Ridge 와 Lasso의 차이점\n",
    "- Ridge는 계수를 축소하되 0에 가까운 수로 축소하는 반면, Lasso는 계수를 완전히 0으로 축소.\n",
    "        > 여기서 계수는 베타를 뜻함.\n",
    "- Ridge : 입력변수들이 전반적으로 비슷한 수준으로 출력 변수에 영향을 미치는 경우에 사용\n",
    "- Lasso : 출력 변수에 미치는 입력 변수의 영향력 편차가 큰 경우에 사용."
   ]
  },
  {
   "cell_type": "markdown",
   "metadata": {},
   "source": [
    "### Elastic-Net 회귀\n",
    "- Lasso 와 Ridge 회귀의 하이브리드(정규화) 회귀 모델\n",
    "- Lasso에 적용된 회귀계수의 절대값의 합과 Ridge에 적용된 회귀계수의 제곱의 합을 모두 f(베타)에 대입\n",
    "<br>\n",
    "- 람다1, 람다2는 Ridge와 Lasso 속성에 대한 강도를 조절\n",
    "- Lasso 변수 축소 효과로 sparse model 생성\n",
    "- Ridge의 정규화 속성으로 변수의 grouping effect 유도 및 Lasso의 sparsity를 안정화\n",
    "    > grouping effect : Lasso는 상관관계가 있는 다수의 변수들 중 하나를 무작위로 선택하여 계수를 축소하는 반면, elastic-net은 상관성이 높은 다수의 변수들을 모두 선택(또는 제거)\n",
    "- 따라서, 다수의 변수 간에 상관관계가 존재할 때 효과적."
   ]
  },
  {
   "cell_type": "markdown",
   "metadata": {},
   "source": [
    "# Lasso, Ridge 실습"
   ]
  },
  {
   "cell_type": "code",
   "execution_count": 2,
   "metadata": {},
   "outputs": [],
   "source": [
    "import os\n",
    "import numpy as np\n",
    "import pandas as pd\n",
    "from sklearn.linear_model import LogisticRegression\n",
    "from sklearn.model_selection import train_test_split\n",
    "from sklearn import metrics\n",
    "from sklearn.metrics import confusion_matrix\n",
    "from sklearn.metrics import accuracy_score, roc_auc_score, roc_curve\n",
    "import statsmodels.api as sm\n",
    "import matplotlib.pyplot as plt\n",
    "import itertools\n",
    "import time"
   ]
  },
  {
   "cell_type": "code",
   "execution_count": 36,
   "metadata": {},
   "outputs": [
    {
     "data": {
      "text/html": [
       "<div>\n",
       "<style scoped>\n",
       "    .dataframe tbody tr th:only-of-type {\n",
       "        vertical-align: middle;\n",
       "    }\n",
       "\n",
       "    .dataframe tbody tr th {\n",
       "        vertical-align: top;\n",
       "    }\n",
       "\n",
       "    .dataframe thead th {\n",
       "        text-align: right;\n",
       "    }\n",
       "</style>\n",
       "<table border=\"1\" class=\"dataframe\">\n",
       "  <thead>\n",
       "    <tr style=\"text-align: right;\">\n",
       "      <th></th>\n",
       "      <th>ID</th>\n",
       "      <th>Age</th>\n",
       "      <th>Experience</th>\n",
       "      <th>Income</th>\n",
       "      <th>ZIP Code</th>\n",
       "      <th>Family</th>\n",
       "      <th>CCAvg</th>\n",
       "      <th>Education</th>\n",
       "      <th>Mortgage</th>\n",
       "      <th>Personal Loan</th>\n",
       "      <th>Securities Account</th>\n",
       "      <th>CD Account</th>\n",
       "      <th>Online</th>\n",
       "      <th>CreditCard</th>\n",
       "    </tr>\n",
       "  </thead>\n",
       "  <tbody>\n",
       "    <tr>\n",
       "      <th>0</th>\n",
       "      <td>1</td>\n",
       "      <td>25</td>\n",
       "      <td>1</td>\n",
       "      <td>49</td>\n",
       "      <td>91107</td>\n",
       "      <td>4</td>\n",
       "      <td>1.6</td>\n",
       "      <td>1</td>\n",
       "      <td>0</td>\n",
       "      <td>0</td>\n",
       "      <td>1</td>\n",
       "      <td>0</td>\n",
       "      <td>0</td>\n",
       "      <td>0</td>\n",
       "    </tr>\n",
       "    <tr>\n",
       "      <th>1</th>\n",
       "      <td>2</td>\n",
       "      <td>45</td>\n",
       "      <td>19</td>\n",
       "      <td>34</td>\n",
       "      <td>90089</td>\n",
       "      <td>3</td>\n",
       "      <td>1.5</td>\n",
       "      <td>1</td>\n",
       "      <td>0</td>\n",
       "      <td>0</td>\n",
       "      <td>1</td>\n",
       "      <td>0</td>\n",
       "      <td>0</td>\n",
       "      <td>0</td>\n",
       "    </tr>\n",
       "    <tr>\n",
       "      <th>2</th>\n",
       "      <td>3</td>\n",
       "      <td>39</td>\n",
       "      <td>15</td>\n",
       "      <td>11</td>\n",
       "      <td>94720</td>\n",
       "      <td>1</td>\n",
       "      <td>1.0</td>\n",
       "      <td>1</td>\n",
       "      <td>0</td>\n",
       "      <td>0</td>\n",
       "      <td>0</td>\n",
       "      <td>0</td>\n",
       "      <td>0</td>\n",
       "      <td>0</td>\n",
       "    </tr>\n",
       "    <tr>\n",
       "      <th>3</th>\n",
       "      <td>4</td>\n",
       "      <td>35</td>\n",
       "      <td>9</td>\n",
       "      <td>100</td>\n",
       "      <td>94112</td>\n",
       "      <td>1</td>\n",
       "      <td>2.7</td>\n",
       "      <td>2</td>\n",
       "      <td>0</td>\n",
       "      <td>0</td>\n",
       "      <td>0</td>\n",
       "      <td>0</td>\n",
       "      <td>0</td>\n",
       "      <td>0</td>\n",
       "    </tr>\n",
       "    <tr>\n",
       "      <th>4</th>\n",
       "      <td>5</td>\n",
       "      <td>35</td>\n",
       "      <td>8</td>\n",
       "      <td>45</td>\n",
       "      <td>91330</td>\n",
       "      <td>4</td>\n",
       "      <td>1.0</td>\n",
       "      <td>2</td>\n",
       "      <td>0</td>\n",
       "      <td>0</td>\n",
       "      <td>0</td>\n",
       "      <td>0</td>\n",
       "      <td>0</td>\n",
       "      <td>1</td>\n",
       "    </tr>\n",
       "  </tbody>\n",
       "</table>\n",
       "</div>"
      ],
      "text/plain": [
       "   ID  Age  Experience  Income  ZIP Code  Family  CCAvg  Education  Mortgage  \\\n",
       "0   1   25           1      49     91107       4    1.6          1         0   \n",
       "1   2   45          19      34     90089       3    1.5          1         0   \n",
       "2   3   39          15      11     94720       1    1.0          1         0   \n",
       "3   4   35           9     100     94112       1    2.7          2         0   \n",
       "4   5   35           8      45     91330       4    1.0          2         0   \n",
       "\n",
       "   Personal Loan  Securities Account  CD Account  Online  CreditCard  \n",
       "0              0                   1           0       0           0  \n",
       "1              0                   1           0       0           0  \n",
       "2              0                   0           0       0           0  \n",
       "3              0                   0           0       0           0  \n",
       "4              0                   0           0       0           1  "
      ]
     },
     "execution_count": 36,
     "metadata": {},
     "output_type": "execute_result"
    }
   ],
   "source": [
    "ploan = pd.read_csv('./data/Personal_loan.csv')\n",
    "ploan.head()"
   ]
  },
  {
   "cell_type": "code",
   "execution_count": 37,
   "metadata": {},
   "outputs": [],
   "source": [
    "# 의미없는 변수 제거\n",
    "ploan_processed = ploan.dropna().drop(['ID','ZIP Code'], axis=1, inplace=False)"
   ]
  },
  {
   "cell_type": "code",
   "execution_count": 38,
   "metadata": {},
   "outputs": [
    {
     "data": {
      "text/html": [
       "<div>\n",
       "<style scoped>\n",
       "    .dataframe tbody tr th:only-of-type {\n",
       "        vertical-align: middle;\n",
       "    }\n",
       "\n",
       "    .dataframe tbody tr th {\n",
       "        vertical-align: top;\n",
       "    }\n",
       "\n",
       "    .dataframe thead th {\n",
       "        text-align: right;\n",
       "    }\n",
       "</style>\n",
       "<table border=\"1\" class=\"dataframe\">\n",
       "  <thead>\n",
       "    <tr style=\"text-align: right;\">\n",
       "      <th></th>\n",
       "      <th>const</th>\n",
       "      <th>Age</th>\n",
       "      <th>Experience</th>\n",
       "      <th>Income</th>\n",
       "      <th>Family</th>\n",
       "      <th>CCAvg</th>\n",
       "      <th>Education</th>\n",
       "      <th>Mortgage</th>\n",
       "      <th>Personal Loan</th>\n",
       "      <th>Securities Account</th>\n",
       "      <th>CD Account</th>\n",
       "      <th>Online</th>\n",
       "      <th>CreditCard</th>\n",
       "    </tr>\n",
       "  </thead>\n",
       "  <tbody>\n",
       "    <tr>\n",
       "      <th>0</th>\n",
       "      <td>1.0</td>\n",
       "      <td>25</td>\n",
       "      <td>1</td>\n",
       "      <td>49</td>\n",
       "      <td>4</td>\n",
       "      <td>1.6</td>\n",
       "      <td>1</td>\n",
       "      <td>0</td>\n",
       "      <td>0</td>\n",
       "      <td>1</td>\n",
       "      <td>0</td>\n",
       "      <td>0</td>\n",
       "      <td>0</td>\n",
       "    </tr>\n",
       "    <tr>\n",
       "      <th>1</th>\n",
       "      <td>1.0</td>\n",
       "      <td>45</td>\n",
       "      <td>19</td>\n",
       "      <td>34</td>\n",
       "      <td>3</td>\n",
       "      <td>1.5</td>\n",
       "      <td>1</td>\n",
       "      <td>0</td>\n",
       "      <td>0</td>\n",
       "      <td>1</td>\n",
       "      <td>0</td>\n",
       "      <td>0</td>\n",
       "      <td>0</td>\n",
       "    </tr>\n",
       "    <tr>\n",
       "      <th>2</th>\n",
       "      <td>1.0</td>\n",
       "      <td>39</td>\n",
       "      <td>15</td>\n",
       "      <td>11</td>\n",
       "      <td>1</td>\n",
       "      <td>1.0</td>\n",
       "      <td>1</td>\n",
       "      <td>0</td>\n",
       "      <td>0</td>\n",
       "      <td>0</td>\n",
       "      <td>0</td>\n",
       "      <td>0</td>\n",
       "      <td>0</td>\n",
       "    </tr>\n",
       "    <tr>\n",
       "      <th>3</th>\n",
       "      <td>1.0</td>\n",
       "      <td>35</td>\n",
       "      <td>9</td>\n",
       "      <td>100</td>\n",
       "      <td>1</td>\n",
       "      <td>2.7</td>\n",
       "      <td>2</td>\n",
       "      <td>0</td>\n",
       "      <td>0</td>\n",
       "      <td>0</td>\n",
       "      <td>0</td>\n",
       "      <td>0</td>\n",
       "      <td>0</td>\n",
       "    </tr>\n",
       "    <tr>\n",
       "      <th>4</th>\n",
       "      <td>1.0</td>\n",
       "      <td>35</td>\n",
       "      <td>8</td>\n",
       "      <td>45</td>\n",
       "      <td>4</td>\n",
       "      <td>1.0</td>\n",
       "      <td>2</td>\n",
       "      <td>0</td>\n",
       "      <td>0</td>\n",
       "      <td>0</td>\n",
       "      <td>0</td>\n",
       "      <td>0</td>\n",
       "      <td>1</td>\n",
       "    </tr>\n",
       "    <tr>\n",
       "      <th>...</th>\n",
       "      <td>...</td>\n",
       "      <td>...</td>\n",
       "      <td>...</td>\n",
       "      <td>...</td>\n",
       "      <td>...</td>\n",
       "      <td>...</td>\n",
       "      <td>...</td>\n",
       "      <td>...</td>\n",
       "      <td>...</td>\n",
       "      <td>...</td>\n",
       "      <td>...</td>\n",
       "      <td>...</td>\n",
       "      <td>...</td>\n",
       "    </tr>\n",
       "    <tr>\n",
       "      <th>4995</th>\n",
       "      <td>1.0</td>\n",
       "      <td>29</td>\n",
       "      <td>3</td>\n",
       "      <td>40</td>\n",
       "      <td>1</td>\n",
       "      <td>1.9</td>\n",
       "      <td>3</td>\n",
       "      <td>0</td>\n",
       "      <td>0</td>\n",
       "      <td>0</td>\n",
       "      <td>0</td>\n",
       "      <td>1</td>\n",
       "      <td>0</td>\n",
       "    </tr>\n",
       "    <tr>\n",
       "      <th>4996</th>\n",
       "      <td>1.0</td>\n",
       "      <td>30</td>\n",
       "      <td>4</td>\n",
       "      <td>15</td>\n",
       "      <td>4</td>\n",
       "      <td>0.4</td>\n",
       "      <td>1</td>\n",
       "      <td>85</td>\n",
       "      <td>0</td>\n",
       "      <td>0</td>\n",
       "      <td>0</td>\n",
       "      <td>1</td>\n",
       "      <td>0</td>\n",
       "    </tr>\n",
       "    <tr>\n",
       "      <th>4997</th>\n",
       "      <td>1.0</td>\n",
       "      <td>63</td>\n",
       "      <td>39</td>\n",
       "      <td>24</td>\n",
       "      <td>2</td>\n",
       "      <td>0.3</td>\n",
       "      <td>3</td>\n",
       "      <td>0</td>\n",
       "      <td>0</td>\n",
       "      <td>0</td>\n",
       "      <td>0</td>\n",
       "      <td>0</td>\n",
       "      <td>0</td>\n",
       "    </tr>\n",
       "    <tr>\n",
       "      <th>4998</th>\n",
       "      <td>1.0</td>\n",
       "      <td>65</td>\n",
       "      <td>40</td>\n",
       "      <td>49</td>\n",
       "      <td>3</td>\n",
       "      <td>0.5</td>\n",
       "      <td>2</td>\n",
       "      <td>0</td>\n",
       "      <td>0</td>\n",
       "      <td>0</td>\n",
       "      <td>0</td>\n",
       "      <td>1</td>\n",
       "      <td>0</td>\n",
       "    </tr>\n",
       "    <tr>\n",
       "      <th>4999</th>\n",
       "      <td>1.0</td>\n",
       "      <td>28</td>\n",
       "      <td>4</td>\n",
       "      <td>83</td>\n",
       "      <td>3</td>\n",
       "      <td>0.8</td>\n",
       "      <td>1</td>\n",
       "      <td>0</td>\n",
       "      <td>0</td>\n",
       "      <td>0</td>\n",
       "      <td>0</td>\n",
       "      <td>1</td>\n",
       "      <td>1</td>\n",
       "    </tr>\n",
       "  </tbody>\n",
       "</table>\n",
       "<p>5000 rows × 13 columns</p>\n",
       "</div>"
      ],
      "text/plain": [
       "      const  Age  Experience  Income  Family  CCAvg  Education  Mortgage  \\\n",
       "0       1.0   25           1      49       4    1.6          1         0   \n",
       "1       1.0   45          19      34       3    1.5          1         0   \n",
       "2       1.0   39          15      11       1    1.0          1         0   \n",
       "3       1.0   35           9     100       1    2.7          2         0   \n",
       "4       1.0   35           8      45       4    1.0          2         0   \n",
       "...     ...  ...         ...     ...     ...    ...        ...       ...   \n",
       "4995    1.0   29           3      40       1    1.9          3         0   \n",
       "4996    1.0   30           4      15       4    0.4          1        85   \n",
       "4997    1.0   63          39      24       2    0.3          3         0   \n",
       "4998    1.0   65          40      49       3    0.5          2         0   \n",
       "4999    1.0   28           4      83       3    0.8          1         0   \n",
       "\n",
       "      Personal Loan  Securities Account  CD Account  Online  CreditCard  \n",
       "0                 0                   1           0       0           0  \n",
       "1                 0                   1           0       0           0  \n",
       "2                 0                   0           0       0           0  \n",
       "3                 0                   0           0       0           0  \n",
       "4                 0                   0           0       0           1  \n",
       "...             ...                 ...         ...     ...         ...  \n",
       "4995              0                   0           0       1           0  \n",
       "4996              0                   0           0       1           0  \n",
       "4997              0                   0           0       0           0  \n",
       "4998              0                   0           0       1           0  \n",
       "4999              0                   0           0       1           1  \n",
       "\n",
       "[5000 rows x 13 columns]"
      ]
     },
     "execution_count": 38,
     "metadata": {},
     "output_type": "execute_result"
    }
   ],
   "source": [
    "ploan_processed = sm.add_constant(ploan_processed, has_constant='add')\n",
    "ploan_processed"
   ]
  },
  {
   "cell_type": "markdown",
   "metadata": {},
   "source": [
    "### 설명변수 (X), 타겟변수(Y) 분리 및 학습데이터와 평가데이터"
   ]
  },
  {
   "cell_type": "code",
   "execution_count": 39,
   "metadata": {},
   "outputs": [],
   "source": [
    "feature_columns = list(ploan_processed.columns.difference(['Personal Loan']))\n",
    "X = ploan_processed[feature_columns]\n",
    "y = ploan_processed['Personal Loan']"
   ]
  },
  {
   "cell_type": "code",
   "execution_count": 40,
   "metadata": {},
   "outputs": [],
   "source": [
    "train_x, test_x, train_y, test_y = train_test_split(X, y, stratify=y, train_size=0.7, test_size=0.3, random_state=42)"
   ]
  },
  {
   "cell_type": "markdown",
   "metadata": {},
   "source": [
    "### 로지스틱회귀모형 모델링 y=f(x)"
   ]
  },
  {
   "cell_type": "code",
   "execution_count": 41,
   "metadata": {},
   "outputs": [
    {
     "name": "stdout",
     "output_type": "stream",
     "text": [
      "Optimization terminated successfully.\n",
      "         Current function value: 0.130868\n",
      "         Iterations 9\n"
     ]
    }
   ],
   "source": [
    "model = sm.Logit(train_y, train_x)\n",
    "results = model.fit(method='newton')"
   ]
  },
  {
   "cell_type": "code",
   "execution_count": 42,
   "metadata": {},
   "outputs": [
    {
     "data": {
      "text/html": [
       "<table class=\"simpletable\">\n",
       "<caption>Logit Regression Results</caption>\n",
       "<tr>\n",
       "  <th>Dep. Variable:</th>     <td>Personal Loan</td>  <th>  No. Observations:  </th>   <td>  3500</td>  \n",
       "</tr>\n",
       "<tr>\n",
       "  <th>Model:</th>                 <td>Logit</td>      <th>  Df Residuals:      </th>   <td>  3488</td>  \n",
       "</tr>\n",
       "<tr>\n",
       "  <th>Method:</th>                 <td>MLE</td>       <th>  Df Model:          </th>   <td>    11</td>  \n",
       "</tr>\n",
       "<tr>\n",
       "  <th>Date:</th>            <td>Tue, 16 Mar 2021</td> <th>  Pseudo R-squ.:     </th>   <td>0.5861</td>  \n",
       "</tr>\n",
       "<tr>\n",
       "  <th>Time:</th>                <td>10:37:46</td>     <th>  Log-Likelihood:    </th>  <td> -458.04</td> \n",
       "</tr>\n",
       "<tr>\n",
       "  <th>converged:</th>             <td>True</td>       <th>  LL-Null:           </th>  <td> -1106.7</td> \n",
       "</tr>\n",
       "<tr>\n",
       "  <th>Covariance Type:</th>     <td>nonrobust</td>    <th>  LLR p-value:       </th> <td>1.666e-271</td>\n",
       "</tr>\n",
       "</table>\n",
       "<table class=\"simpletable\">\n",
       "<tr>\n",
       "           <td></td>             <th>coef</th>     <th>std err</th>      <th>z</th>      <th>P>|z|</th>  <th>[0.025</th>    <th>0.975]</th>  \n",
       "</tr>\n",
       "<tr>\n",
       "  <th>Age</th>                <td>   -0.0511</td> <td>    0.072</td> <td>   -0.712</td> <td> 0.477</td> <td>   -0.192</td> <td>    0.090</td>\n",
       "</tr>\n",
       "<tr>\n",
       "  <th>CCAvg</th>              <td>    0.1332</td> <td>    0.046</td> <td>    2.872</td> <td> 0.004</td> <td>    0.042</td> <td>    0.224</td>\n",
       "</tr>\n",
       "<tr>\n",
       "  <th>CD Account</th>         <td>    3.9878</td> <td>    0.402</td> <td>    9.920</td> <td> 0.000</td> <td>    3.200</td> <td>    4.776</td>\n",
       "</tr>\n",
       "<tr>\n",
       "  <th>CreditCard</th>         <td>   -1.1483</td> <td>    0.252</td> <td>   -4.549</td> <td> 0.000</td> <td>   -1.643</td> <td>   -0.654</td>\n",
       "</tr>\n",
       "<tr>\n",
       "  <th>Education</th>          <td>    1.6770</td> <td>    0.136</td> <td>   12.324</td> <td> 0.000</td> <td>    1.410</td> <td>    1.944</td>\n",
       "</tr>\n",
       "<tr>\n",
       "  <th>Experience</th>         <td>    0.0532</td> <td>    0.071</td> <td>    0.746</td> <td> 0.456</td> <td>   -0.087</td> <td>    0.193</td>\n",
       "</tr>\n",
       "<tr>\n",
       "  <th>Family</th>             <td>    0.7001</td> <td>    0.088</td> <td>    7.925</td> <td> 0.000</td> <td>    0.527</td> <td>    0.873</td>\n",
       "</tr>\n",
       "<tr>\n",
       "  <th>Income</th>             <td>    0.0525</td> <td>    0.003</td> <td>   17.319</td> <td> 0.000</td> <td>    0.047</td> <td>    0.058</td>\n",
       "</tr>\n",
       "<tr>\n",
       "  <th>Mortgage</th>           <td>    0.0007</td> <td>    0.001</td> <td>    1.039</td> <td> 0.299</td> <td>   -0.001</td> <td>    0.002</td>\n",
       "</tr>\n",
       "<tr>\n",
       "  <th>Online</th>             <td>   -0.6926</td> <td>    0.187</td> <td>   -3.701</td> <td> 0.000</td> <td>   -1.059</td> <td>   -0.326</td>\n",
       "</tr>\n",
       "<tr>\n",
       "  <th>Securities Account</th> <td>   -1.1086</td> <td>    0.359</td> <td>   -3.089</td> <td> 0.002</td> <td>   -1.812</td> <td>   -0.405</td>\n",
       "</tr>\n",
       "<tr>\n",
       "  <th>const</th>              <td>  -11.7709</td> <td>    1.921</td> <td>   -6.127</td> <td> 0.000</td> <td>  -15.536</td> <td>   -8.006</td>\n",
       "</tr>\n",
       "</table>"
      ],
      "text/plain": [
       "<class 'statsmodels.iolib.summary.Summary'>\n",
       "\"\"\"\n",
       "                           Logit Regression Results                           \n",
       "==============================================================================\n",
       "Dep. Variable:          Personal Loan   No. Observations:                 3500\n",
       "Model:                          Logit   Df Residuals:                     3488\n",
       "Method:                           MLE   Df Model:                           11\n",
       "Date:                Tue, 16 Mar 2021   Pseudo R-squ.:                  0.5861\n",
       "Time:                        10:37:46   Log-Likelihood:                -458.04\n",
       "converged:                       True   LL-Null:                       -1106.7\n",
       "Covariance Type:            nonrobust   LLR p-value:                1.666e-271\n",
       "======================================================================================\n",
       "                         coef    std err          z      P>|z|      [0.025      0.975]\n",
       "--------------------------------------------------------------------------------------\n",
       "Age                   -0.0511      0.072     -0.712      0.477      -0.192       0.090\n",
       "CCAvg                  0.1332      0.046      2.872      0.004       0.042       0.224\n",
       "CD Account             3.9878      0.402      9.920      0.000       3.200       4.776\n",
       "CreditCard            -1.1483      0.252     -4.549      0.000      -1.643      -0.654\n",
       "Education              1.6770      0.136     12.324      0.000       1.410       1.944\n",
       "Experience             0.0532      0.071      0.746      0.456      -0.087       0.193\n",
       "Family                 0.7001      0.088      7.925      0.000       0.527       0.873\n",
       "Income                 0.0525      0.003     17.319      0.000       0.047       0.058\n",
       "Mortgage               0.0007      0.001      1.039      0.299      -0.001       0.002\n",
       "Online                -0.6926      0.187     -3.701      0.000      -1.059      -0.326\n",
       "Securities Account    -1.1086      0.359     -3.089      0.002      -1.812      -0.405\n",
       "const                -11.7709      1.921     -6.127      0.000     -15.536      -8.006\n",
       "======================================================================================\n",
       "\"\"\""
      ]
     },
     "execution_count": 42,
     "metadata": {},
     "output_type": "execute_result"
    }
   ],
   "source": [
    "results.summary()"
   ]
  },
  {
   "cell_type": "code",
   "execution_count": 43,
   "metadata": {},
   "outputs": [
    {
     "name": "stdout",
     "output_type": "stream",
     "text": [
      "940.0756766626388\n"
     ]
    }
   ],
   "source": [
    "print(results.aic)"
   ]
  },
  {
   "cell_type": "code",
   "execution_count": 44,
   "metadata": {},
   "outputs": [
    {
     "data": {
      "text/plain": [
       "Age                   -0.051059\n",
       "CCAvg                  0.133165\n",
       "CD Account             3.987819\n",
       "CreditCard            -1.148258\n",
       "Education              1.676976\n",
       "Experience             0.053162\n",
       "Family                 0.700055\n",
       "Income                 0.052507\n",
       "Mortgage               0.000691\n",
       "Online                -0.692613\n",
       "Securities Account    -1.108634\n",
       "const                -11.770943\n",
       "dtype: float64"
      ]
     },
     "execution_count": 44,
     "metadata": {},
     "output_type": "execute_result"
    }
   ],
   "source": [
    "results.params"
   ]
  },
  {
   "cell_type": "code",
   "execution_count": 45,
   "metadata": {},
   "outputs": [
    {
     "data": {
      "text/plain": [
       "Age                    0.950223\n",
       "CCAvg                  1.142438\n",
       "CD Account            53.937148\n",
       "CreditCard             0.317189\n",
       "Education              5.349357\n",
       "Experience             1.054600\n",
       "Family                 2.013863\n",
       "Income                 1.053910\n",
       "Mortgage               1.000692\n",
       "Online                 0.500267\n",
       "Securities Account     0.330009\n",
       "const                  0.000008\n",
       "dtype: float64"
      ]
     },
     "execution_count": 45,
     "metadata": {},
     "output_type": "execute_result"
    }
   ],
   "source": [
    "np.exp(results.params)"
   ]
  },
  {
   "cell_type": "code",
   "execution_count": 46,
   "metadata": {},
   "outputs": [
    {
     "data": {
      "text/plain": [
       "4433    0.000583\n",
       "274     0.001308\n",
       "2439    0.000924\n",
       "1519    0.004975\n",
       "943     0.076166\n",
       "dtype: float64"
      ]
     },
     "execution_count": 46,
     "metadata": {},
     "output_type": "execute_result"
    }
   ],
   "source": [
    "pred_y = results.predict(test_x)\n",
    "pred_y.head()"
   ]
  },
  {
   "cell_type": "code",
   "execution_count": 47,
   "metadata": {},
   "outputs": [
    {
     "data": {
      "text/plain": [
       "4433    0\n",
       "274     0\n",
       "2439    0\n",
       "1519    0\n",
       "943     0\n",
       "       ..\n",
       "1284    0\n",
       "1893    0\n",
       "1649    0\n",
       "2306    0\n",
       "3384    0\n",
       "Length: 1500, dtype: int64"
      ]
     },
     "execution_count": 47,
     "metadata": {},
     "output_type": "execute_result"
    }
   ],
   "source": [
    "def cut_off(y, threshold):\n",
    "    Y = y.copy()\n",
    "    Y[Y>threshold]=1\n",
    "    Y[Y<=threshold]=0\n",
    "    return(Y.astype(int))\n",
    "\n",
    "pred_Y = cut_off(pred_y, 0.5)\n",
    "pred_Y"
   ]
  },
  {
   "cell_type": "code",
   "execution_count": 48,
   "metadata": {},
   "outputs": [
    {
     "name": "stdout",
     "output_type": "stream",
     "text": [
      "[[1334   22]\n",
      " [  52   92]]\n"
     ]
    }
   ],
   "source": [
    "cfmat = confusion_matrix(test_y, pred_Y)\n",
    "print(cfmat)"
   ]
  },
  {
   "cell_type": "code",
   "execution_count": 49,
   "metadata": {},
   "outputs": [
    {
     "data": {
      "text/plain": [
       "0.9506666666666667"
      ]
     },
     "execution_count": 49,
     "metadata": {},
     "output_type": "execute_result"
    }
   ],
   "source": [
    "(cfmat[0,0]+cfmat[1,1])/len(pred_Y) # accuracy"
   ]
  },
  {
   "cell_type": "code",
   "execution_count": 50,
   "metadata": {},
   "outputs": [],
   "source": [
    "def acc(cfmat):\n",
    "    acc = (cfmat[0,0]+cfmat[1,1])/len(pred_Y)\n",
    "    return(acc)"
   ]
  },
  {
   "cell_type": "markdown",
   "metadata": {},
   "source": [
    "### 임계값(cut-off)에 따른 성능지표 비교"
   ]
  },
  {
   "cell_type": "code",
   "execution_count": 51,
   "metadata": {},
   "outputs": [
    {
     "data": {
      "text/html": [
       "<div>\n",
       "<style scoped>\n",
       "    .dataframe tbody tr th:only-of-type {\n",
       "        vertical-align: middle;\n",
       "    }\n",
       "\n",
       "    .dataframe tbody tr th {\n",
       "        vertical-align: top;\n",
       "    }\n",
       "\n",
       "    .dataframe thead th {\n",
       "        text-align: right;\n",
       "    }\n",
       "</style>\n",
       "<table border=\"1\" class=\"dataframe\">\n",
       "  <thead>\n",
       "    <tr style=\"text-align: right;\">\n",
       "      <th>performance</th>\n",
       "      <th>ACC</th>\n",
       "    </tr>\n",
       "    <tr>\n",
       "      <th>threshold</th>\n",
       "      <th></th>\n",
       "    </tr>\n",
       "  </thead>\n",
       "  <tbody>\n",
       "    <tr>\n",
       "      <th>0.0</th>\n",
       "      <td>0.096000</td>\n",
       "    </tr>\n",
       "    <tr>\n",
       "      <th>0.1</th>\n",
       "      <td>0.896000</td>\n",
       "    </tr>\n",
       "    <tr>\n",
       "      <th>0.2</th>\n",
       "      <td>0.932000</td>\n",
       "    </tr>\n",
       "    <tr>\n",
       "      <th>0.3</th>\n",
       "      <td>0.945333</td>\n",
       "    </tr>\n",
       "    <tr>\n",
       "      <th>0.4</th>\n",
       "      <td>0.950000</td>\n",
       "    </tr>\n",
       "    <tr>\n",
       "      <th>0.5</th>\n",
       "      <td>0.950667</td>\n",
       "    </tr>\n",
       "    <tr>\n",
       "      <th>0.6</th>\n",
       "      <td>0.953333</td>\n",
       "    </tr>\n",
       "    <tr>\n",
       "      <th>0.7</th>\n",
       "      <td>0.950667</td>\n",
       "    </tr>\n",
       "    <tr>\n",
       "      <th>0.8</th>\n",
       "      <td>0.942667</td>\n",
       "    </tr>\n",
       "    <tr>\n",
       "      <th>0.9</th>\n",
       "      <td>0.933333</td>\n",
       "    </tr>\n",
       "  </tbody>\n",
       "</table>\n",
       "</div>"
      ],
      "text/plain": [
       "performance       ACC\n",
       "threshold            \n",
       "0.0          0.096000\n",
       "0.1          0.896000\n",
       "0.2          0.932000\n",
       "0.3          0.945333\n",
       "0.4          0.950000\n",
       "0.5          0.950667\n",
       "0.6          0.953333\n",
       "0.7          0.950667\n",
       "0.8          0.942667\n",
       "0.9          0.933333"
      ]
     },
     "execution_count": 51,
     "metadata": {},
     "output_type": "execute_result"
    }
   ],
   "source": [
    "threshold = np.arange(0, 1, 0.1)\n",
    "table = pd.DataFrame(columns=['ACC'])\n",
    "for i in threshold:\n",
    "    pred_Y = cut_off(pred_y, i)\n",
    "    cfmat = confusion_matrix(test_y, pred_Y)\n",
    "    table.loc[i] = acc(cfmat)\n",
    "table.index.name = 'threshold'\n",
    "table.columns.name = 'performance'\n",
    "table"
   ]
  },
  {
   "cell_type": "code",
   "execution_count": 52,
   "metadata": {},
   "outputs": [
    {
     "name": "stdout",
     "output_type": "stream",
     "text": [
      "AUC: 0.9639257620452311\n"
     ]
    },
    {
     "data": {
      "image/png": "[encoded data removed]",
      "text/plain": [
       "<Figure size 432x288 with 1 Axes>"
      ]
     },
     "metadata": {
      "needs_background": "light"
     },
     "output_type": "display_data"
    }
   ],
   "source": [
    "# sklearn ROC 패키지 제공\n",
    "fpr, tpr, thresholds = metrics.roc_curve(test_y, pred_y, pos_label=1)\n",
    "\n",
    "# Print ROC curve\n",
    "plt.plot(fpr, tpr)\n",
    "\n",
    "# Print AUC\n",
    "auc = np.trapz(tpr,fpr)\n",
    "print('AUC:', auc)"
   ]
  },
  {
   "cell_type": "code",
   "execution_count": 53,
   "metadata": {},
   "outputs": [],
   "source": [
    "feature_columns2 = list(ploan_processed.columns.difference(['Personal Loan', 'Experience', 'Mortgage']))\n",
    "X2 = ploan_processed[feature_columns2]\n",
    "y2 = ploan_processed['Personal Loan']"
   ]
  },
  {
   "cell_type": "code",
   "execution_count": 54,
   "metadata": {},
   "outputs": [
    {
     "name": "stdout",
     "output_type": "stream",
     "text": [
      "(3500, 10) (1500, 10) (3500,) (1500,)\n"
     ]
    }
   ],
   "source": [
    "train_x2, test_x2, train_y2, test_y2 = train_test_split(X2, y2, stratify=y, train_size=0.7, test_size=0.3, random_state=42)\n",
    "print(train_x2.shape, test_x2.shape, train_y2.shape, test_y2.shape)"
   ]
  },
  {
   "cell_type": "code",
   "execution_count": 56,
   "metadata": {},
   "outputs": [
    {
     "name": "stdout",
     "output_type": "stream",
     "text": [
      "Optimization terminated successfully.\n",
      "         Current function value: 0.131098\n",
      "         Iterations 9\n"
     ]
    }
   ],
   "source": [
    "model2 = sm.Logit(train_y2, train_x2)\n",
    "results2 = model2.fit(method='newton')"
   ]
  },
  {
   "cell_type": "code",
   "execution_count": 57,
   "metadata": {},
   "outputs": [
    {
     "data": {
      "text/html": [
       "<table class=\"simpletable\">\n",
       "<caption>Logit Regression Results</caption>\n",
       "<tr>\n",
       "  <th>Dep. Variable:</th>     <td>Personal Loan</td>  <th>  No. Observations:  </th>   <td>  3500</td>  \n",
       "</tr>\n",
       "<tr>\n",
       "  <th>Model:</th>                 <td>Logit</td>      <th>  Df Residuals:      </th>   <td>  3490</td>  \n",
       "</tr>\n",
       "<tr>\n",
       "  <th>Method:</th>                 <td>MLE</td>       <th>  Df Model:          </th>   <td>     9</td>  \n",
       "</tr>\n",
       "<tr>\n",
       "  <th>Date:</th>            <td>Tue, 16 Mar 2021</td> <th>  Pseudo R-squ.:     </th>   <td>0.5854</td>  \n",
       "</tr>\n",
       "<tr>\n",
       "  <th>Time:</th>                <td>10:38:55</td>     <th>  Log-Likelihood:    </th>  <td> -458.84</td> \n",
       "</tr>\n",
       "<tr>\n",
       "  <th>converged:</th>             <td>True</td>       <th>  LL-Null:           </th>  <td> -1106.7</td> \n",
       "</tr>\n",
       "<tr>\n",
       "  <th>Covariance Type:</th>     <td>nonrobust</td>    <th>  LLR p-value:       </th> <td>2.569e-273</td>\n",
       "</tr>\n",
       "</table>\n",
       "<table class=\"simpletable\">\n",
       "<tr>\n",
       "           <td></td>             <th>coef</th>     <th>std err</th>      <th>z</th>      <th>P>|z|</th>  <th>[0.025</th>    <th>0.975]</th>  \n",
       "</tr>\n",
       "<tr>\n",
       "  <th>Age</th>                <td>    0.0023</td> <td>    0.008</td> <td>    0.296</td> <td> 0.767</td> <td>   -0.013</td> <td>    0.017</td>\n",
       "</tr>\n",
       "<tr>\n",
       "  <th>CCAvg</th>              <td>    0.1280</td> <td>    0.046</td> <td>    2.774</td> <td> 0.006</td> <td>    0.038</td> <td>    0.218</td>\n",
       "</tr>\n",
       "<tr>\n",
       "  <th>CD Account</th>         <td>    4.0025</td> <td>    0.401</td> <td>    9.983</td> <td> 0.000</td> <td>    3.217</td> <td>    4.788</td>\n",
       "</tr>\n",
       "<tr>\n",
       "  <th>CreditCard</th>         <td>   -1.1504</td> <td>    0.252</td> <td>   -4.569</td> <td> 0.000</td> <td>   -1.644</td> <td>   -0.657</td>\n",
       "</tr>\n",
       "<tr>\n",
       "  <th>Education</th>          <td>    1.6499</td> <td>    0.133</td> <td>   12.376</td> <td> 0.000</td> <td>    1.389</td> <td>    1.911</td>\n",
       "</tr>\n",
       "<tr>\n",
       "  <th>Family</th>             <td>    0.7021</td> <td>    0.088</td> <td>    7.942</td> <td> 0.000</td> <td>    0.529</td> <td>    0.875</td>\n",
       "</tr>\n",
       "<tr>\n",
       "  <th>Income</th>             <td>    0.0530</td> <td>    0.003</td> <td>   17.559</td> <td> 0.000</td> <td>    0.047</td> <td>    0.059</td>\n",
       "</tr>\n",
       "<tr>\n",
       "  <th>Online</th>             <td>   -0.6932</td> <td>    0.187</td> <td>   -3.707</td> <td> 0.000</td> <td>   -1.060</td> <td>   -0.327</td>\n",
       "</tr>\n",
       "<tr>\n",
       "  <th>Securities Account</th> <td>   -1.1121</td> <td>    0.358</td> <td>   -3.106</td> <td> 0.002</td> <td>   -1.814</td> <td>   -0.410</td>\n",
       "</tr>\n",
       "<tr>\n",
       "  <th>const</th>              <td>  -13.0585</td> <td>    0.760</td> <td>  -17.176</td> <td> 0.000</td> <td>  -14.549</td> <td>  -11.568</td>\n",
       "</tr>\n",
       "</table>"
      ],
      "text/plain": [
       "<class 'statsmodels.iolib.summary.Summary'>\n",
       "\"\"\"\n",
       "                           Logit Regression Results                           \n",
       "==============================================================================\n",
       "Dep. Variable:          Personal Loan   No. Observations:                 3500\n",
       "Model:                          Logit   Df Residuals:                     3490\n",
       "Method:                           MLE   Df Model:                            9\n",
       "Date:                Tue, 16 Mar 2021   Pseudo R-squ.:                  0.5854\n",
       "Time:                        10:38:55   Log-Likelihood:                -458.84\n",
       "converged:                       True   LL-Null:                       -1106.7\n",
       "Covariance Type:            nonrobust   LLR p-value:                2.569e-273\n",
       "======================================================================================\n",
       "                         coef    std err          z      P>|z|      [0.025      0.975]\n",
       "--------------------------------------------------------------------------------------\n",
       "Age                    0.0023      0.008      0.296      0.767      -0.013       0.017\n",
       "CCAvg                  0.1280      0.046      2.774      0.006       0.038       0.218\n",
       "CD Account             4.0025      0.401      9.983      0.000       3.217       4.788\n",
       "CreditCard            -1.1504      0.252     -4.569      0.000      -1.644      -0.657\n",
       "Education              1.6499      0.133     12.376      0.000       1.389       1.911\n",
       "Family                 0.7021      0.088      7.942      0.000       0.529       0.875\n",
       "Income                 0.0530      0.003     17.559      0.000       0.047       0.059\n",
       "Online                -0.6932      0.187     -3.707      0.000      -1.060      -0.327\n",
       "Securities Account    -1.1121      0.358     -3.106      0.002      -1.814      -0.410\n",
       "const                -13.0585      0.760    -17.176      0.000     -14.549     -11.568\n",
       "======================================================================================\n",
       "\"\"\""
      ]
     },
     "execution_count": 57,
     "metadata": {},
     "output_type": "execute_result"
    }
   ],
   "source": [
    "results2.summary()"
   ]
  },
  {
   "cell_type": "code",
   "execution_count": 59,
   "metadata": {},
   "outputs": [],
   "source": [
    "pred_y2 = results2.predict(test_x2)"
   ]
  },
  {
   "cell_type": "code",
   "execution_count": 60,
   "metadata": {},
   "outputs": [
    {
     "data": {
      "text/plain": [
       "4433    0\n",
       "274     0\n",
       "2439    0\n",
       "1519    0\n",
       "943     0\n",
       "       ..\n",
       "1284    0\n",
       "1893    0\n",
       "1649    0\n",
       "2306    0\n",
       "3384    0\n",
       "Length: 1500, dtype: int64"
      ]
     },
     "execution_count": 60,
     "metadata": {},
     "output_type": "execute_result"
    }
   ],
   "source": [
    "pred_Y2 = cut_off(pred_y2, 0.5)\n",
    "pred_Y2"
   ]
  },
  {
   "cell_type": "code",
   "execution_count": 61,
   "metadata": {},
   "outputs": [
    {
     "data": {
      "text/plain": [
       "0.9526666666666667"
      ]
     },
     "execution_count": 61,
     "metadata": {},
     "output_type": "execute_result"
    }
   ],
   "source": [
    "cfmat2 = confusion_matrix(test_y2, pred_Y2)\n",
    "\n",
    "acc(cfmat2)"
   ]
  },
  {
   "cell_type": "code",
   "execution_count": 63,
   "metadata": {},
   "outputs": [
    {
     "data": {
      "text/html": [
       "<div>\n",
       "<style scoped>\n",
       "    .dataframe tbody tr th:only-of-type {\n",
       "        vertical-align: middle;\n",
       "    }\n",
       "\n",
       "    .dataframe tbody tr th {\n",
       "        vertical-align: top;\n",
       "    }\n",
       "\n",
       "    .dataframe thead th {\n",
       "        text-align: right;\n",
       "    }\n",
       "</style>\n",
       "<table border=\"1\" class=\"dataframe\">\n",
       "  <thead>\n",
       "    <tr style=\"text-align: right;\">\n",
       "      <th>performance</th>\n",
       "      <th>ACC</th>\n",
       "    </tr>\n",
       "    <tr>\n",
       "      <th>threshold</th>\n",
       "      <th></th>\n",
       "    </tr>\n",
       "  </thead>\n",
       "  <tbody>\n",
       "    <tr>\n",
       "      <th>0.0</th>\n",
       "      <td>0.096000</td>\n",
       "    </tr>\n",
       "    <tr>\n",
       "      <th>0.1</th>\n",
       "      <td>0.896000</td>\n",
       "    </tr>\n",
       "    <tr>\n",
       "      <th>0.2</th>\n",
       "      <td>0.934667</td>\n",
       "    </tr>\n",
       "    <tr>\n",
       "      <th>0.3</th>\n",
       "      <td>0.945333</td>\n",
       "    </tr>\n",
       "    <tr>\n",
       "      <th>0.4</th>\n",
       "      <td>0.950667</td>\n",
       "    </tr>\n",
       "    <tr>\n",
       "      <th>0.5</th>\n",
       "      <td>0.952667</td>\n",
       "    </tr>\n",
       "    <tr>\n",
       "      <th>0.6</th>\n",
       "      <td>0.952000</td>\n",
       "    </tr>\n",
       "    <tr>\n",
       "      <th>0.7</th>\n",
       "      <td>0.952000</td>\n",
       "    </tr>\n",
       "    <tr>\n",
       "      <th>0.8</th>\n",
       "      <td>0.942667</td>\n",
       "    </tr>\n",
       "    <tr>\n",
       "      <th>0.9</th>\n",
       "      <td>0.933333</td>\n",
       "    </tr>\n",
       "  </tbody>\n",
       "</table>\n",
       "</div>"
      ],
      "text/plain": [
       "performance       ACC\n",
       "threshold            \n",
       "0.0          0.096000\n",
       "0.1          0.896000\n",
       "0.2          0.934667\n",
       "0.3          0.945333\n",
       "0.4          0.950667\n",
       "0.5          0.952667\n",
       "0.6          0.952000\n",
       "0.7          0.952000\n",
       "0.8          0.942667\n",
       "0.9          0.933333"
      ]
     },
     "execution_count": 63,
     "metadata": {},
     "output_type": "execute_result"
    }
   ],
   "source": [
    "threshold = np.arange(0, 1, 0.1)\n",
    "table2 = pd.DataFrame(columns=['ACC'])\n",
    "for i in threshold:\n",
    "    pred_Y2 = cut_off(pred_y2, i)\n",
    "    cfmat2 = confusion_matrix(test_y2, pred_Y2)\n",
    "    table2.loc[i] = acc(cfmat2)\n",
    "table2.index.name = 'threshold'\n",
    "table2.columns.name = 'performance'\n",
    "table2"
   ]
  },
  {
   "cell_type": "code",
   "execution_count": 64,
   "metadata": {},
   "outputs": [
    {
     "name": "stdout",
     "output_type": "stream",
     "text": [
      "AUC: 0.9642791297935103\n"
     ]
    },
    {
     "data": {
      "image/png": "[encoded data removed]",
      "text/plain": [
       "<Figure size 432x288 with 1 Axes>"
      ]
     },
     "metadata": {
      "needs_background": "light"
     },
     "output_type": "display_data"
    }
   ],
   "source": [
    "# sklearn ROC 패키지 제공\n",
    "fpr, tpr, thresholds = metrics.roc_curve(test_y2, pred_y2, pos_label=1)\n",
    "\n",
    "# Print ROC curve\n",
    "plt.plot(fpr, tpr)\n",
    "\n",
    "# Print AUC\n",
    "auc = np.trapz(tpr,fpr)\n",
    "print('AUC:', auc)"
   ]
  },
  {
   "cell_type": "markdown",
   "metadata": {},
   "source": [
    "### 변수선택법"
   ]
  },
  {
   "cell_type": "code",
   "execution_count": 67,
   "metadata": {},
   "outputs": [],
   "source": [
    "feature_columns = list(ploan_processed.columns.difference([\"Personal Loan\"]))\n",
    "X = ploan_processed[feature_columns]\n",
    "y = ploan_processed['Personal Loan']"
   ]
  },
  {
   "cell_type": "code",
   "execution_count": 68,
   "metadata": {},
   "outputs": [],
   "source": [
    "train_x, test_x, train_y, test_y = train_test_split(X, y, stratify=y, train_size=0.7, test_size=0.3, random_state=42)"
   ]
  },
  {
   "cell_type": "code",
   "execution_count": 69,
   "metadata": {},
   "outputs": [],
   "source": [
    " def processSubset(X, y, feature_set):\n",
    "    model = sm.OLS(y, X[list(feature_set)]) # Modeling\n",
    "    regr = model.fit() # 모델 학습\n",
    "    AIC = regr.aic # 모델의 AIC\n",
    "    return {\"model\" : regr, \"AIC\" : AIC}\n",
    "\n",
    "'''\n",
    "전진선택법\n",
    "'''\n",
    "\n",
    "def forward(X, y, predictors):\n",
    "    # 데이터 변수들이 미리 정의된 predictors에 있는지 없는지 확인 및 분류\n",
    "    remaining_predictors = [p for p in X.columns.difference(['const']) if p not in predictors]\n",
    "    tic = time.time()\n",
    "    results = []\n",
    "    for p in remaining_predictors:\n",
    "        results.append(processSubset(X=X, y=y, feature_set=predictors+[p]+['const']))\n",
    "    # 데이터 프레임으로 변환\n",
    "    models = pd.DataFrame(results)\n",
    "    \n",
    "    # AIC가 가장 낮은 것을 선택\n",
    "    best_model = models.loc[models['AIC'].argmin()] # index\n",
    "    toc = time.time() # 종료 시간\n",
    "    print('Processed', models.shape[0], 'models on', len(predictors)+1, 'predictors in', (toc - tic))\n",
    "    print('Selected predictors:', best_model['model'].model.exog_names, 'AIC:', best_model[0])\n",
    "    return best_model\n",
    "\n",
    "def forward_model(X,y):\n",
    "    Fmodels = pd.DataFrame(columns=['AIC', 'model'])\n",
    "    tic = time.time()\n",
    "    # 미리 정의된 데이터 변수\n",
    "    predictors = []\n",
    "    # 변수 1~10개 : 0~9 -> 1~10\n",
    "    for i in range(1, len(X.columns.difference(['const'])) + 1):\n",
    "        Forward_result = forward(X=X, y=y, predictors=predictors)\n",
    "        if i > 1:\n",
    "            if Forward_result['AIC'] > Fmodels_before:\n",
    "                break\n",
    "        Fmodels.loc[i] = Forward_result\n",
    "        predictors = Fmodels.loc[i]['model'].model.exog_names\n",
    "        Fmodels_before = Fmodels.loc[i]['AIC']\n",
    "        predictors = [k for k in predictors if k != 'const']\n",
    "    toc = time.time()\n",
    "    print('Total elapsed time:', (toc - tic), 'seconds.')\n",
    "    \n",
    "    return(Fmodels['model'][len(Fmodels['model'])])\n",
    "\n",
    "'''\n",
    "후진소거법\n",
    "'''\n",
    "def backward(X, y, predictors):\n",
    "    tic = time.time() # 시작시간\n",
    "    results = [] # 결과 저장공간\n",
    "    for combo in itertools.combinations(predictors, len(predictors) - 1): # 각 변수 조합을 고려한 경우의 수\n",
    "        results.append(processSubset(X=X, y=y, feature_set = list(combo)+['const']))\n",
    "    models=pd.DataFrame(results) # 데이터 프레임으로 변환\n",
    "    # 가장 낮은 AIC를 가지는 모델 선택 및 저장\n",
    "    best_model = models.loc[models['AIC'].argmin()] # index # AIC가 가장 낮은 모델\n",
    "    toc = time.time() # 종료 시간\n",
    "    print('Processed', models.shape[0], 'models on', len(predictors) - 1, 'predictors in', (toc - tic))\n",
    "    print('Selected predictors:', best_model['model'].model.exog_names, 'AIC:' ,best_model[0])\n",
    "    return best_model\n",
    "\n",
    "def backward_model(X, y):\n",
    "    Bmodels = pd.DataFrame(columns=['AIC', 'model'], index = range(1, len(X.columns)))\n",
    "    tic = time.time()\n",
    "    predictors = X.columns.difference(['const'])\n",
    "    Bmodel_before = processSubset(X, y, predictors)['AIC']\n",
    "    while (len(predictors) > 1):\n",
    "        Backward_result = backward(X=train_x, y=train_y, predictors = predictors)\n",
    "        if Backward_result['AIC'] > Bmodel_before:\n",
    "            break\n",
    "        Bmodels.loc[len(predictors)-1] = Backward_result\n",
    "        predictors = Bmodels.loc[len(predictors)-1]['model'].model.exog_names\n",
    "        Bmodel_before = Backward_result['AIC']\n",
    "        predictors = [k for k in predictors if k != 'const']\n",
    "        \n",
    "    toc = time.time()\n",
    "    print('Total elapsed time:', (toc - tic), 'Seconds.')\n",
    "    return(Bmodels['model'].dropna().iloc[0])\n",
    "\n",
    "'''\n",
    "단계적선택법\n",
    "'''\n",
    "def Stepwise_model(X, y):\n",
    "    Stepmodels = pd.DataFrame(columns=['AIC', 'model'])\n",
    "    tic = time.time()\n",
    "    predictors = []\n",
    "    Smodel_before = processSubset(X, y, predictors + ['const'])['AIC']\n",
    "    # 변수 1~10개 : 0~9 -> 1~10\n",
    "    for i in range(1, len(X.columns.difference(['const'])) + 1):\n",
    "        Forward_result = forward(X=X, y=y, predictors=predictors)\n",
    "        print('forward')\n",
    "        Stepmodels.loc[i] = Forward_result\n",
    "        predictors = Stepmodels.loc[i]['model'].model.exog_names\n",
    "        predictors = [k for k in predictors if k != 'const']\n",
    "        Backward_result = backward(X=X, y=y, predictors = predictors)\n",
    "        if Backward_result['AIC']<Forward_result['AIC']:\n",
    "            Stepmodels.loc[i] = Backward_result\n",
    "            predictors = Stepmodels.loc[i]['model'].model.exog_names\n",
    "            Smodel_before = Stepmodels.loc[i]['AIC']\n",
    "            predictors = [k for k in predictors if k != 'const']\n",
    "            print('backward')\n",
    "        if Stepmodels.loc[i]['AIC']>Smodel_before:\n",
    "            break\n",
    "        else:\n",
    "            Smodel_before = Stepmodels.loc[i]['AIC']\n",
    "    toc = time.time()\n",
    "    print('Total elapsed time:', (toc-tic), 'seconds.')\n",
    "    return(Stepmodels['model'][len(Stepmodels['model'])])"
   ]
  },
  {
   "cell_type": "code",
   "execution_count": 70,
   "metadata": {},
   "outputs": [
    {
     "name": "stdout",
     "output_type": "stream",
     "text": [
      "Processed 11 models on 1 predictors in 0.03152608871459961\n",
      "Selected predictors: ['Income', 'const'] AIC: <statsmodels.regression.linear_model.RegressionResultsWrapper object at 0x7ff45d39a880>\n",
      "Processed 10 models on 2 predictors in 0.016711950302124023\n",
      "Selected predictors: ['Income', 'CD Account', 'const'] AIC: <statsmodels.regression.linear_model.RegressionResultsWrapper object at 0x7ff45d39ac40>\n",
      "Processed 9 models on 3 predictors in 0.016538143157958984\n",
      "Selected predictors: ['Income', 'CD Account', 'Education', 'const'] AIC: <statsmodels.regression.linear_model.RegressionResultsWrapper object at 0x7ff45d3662e0>\n",
      "Processed 8 models on 4 predictors in 0.013546943664550781\n",
      "Selected predictors: ['Income', 'CD Account', 'Education', 'Family', 'const'] AIC: <statsmodels.regression.linear_model.RegressionResultsWrapper object at 0x7ff45d39a220>\n",
      "Processed 7 models on 5 predictors in 0.009847164154052734\n",
      "Selected predictors: ['Income', 'CD Account', 'Education', 'Family', 'CreditCard', 'const'] AIC: <statsmodels.regression.linear_model.RegressionResultsWrapper object at 0x7ff45d366070>\n",
      "Processed 6 models on 6 predictors in 0.010658025741577148\n",
      "Selected predictors: ['Income', 'CD Account', 'Education', 'Family', 'CreditCard', 'Securities Account', 'const'] AIC: <statsmodels.regression.linear_model.RegressionResultsWrapper object at 0x7ff45d283f40>\n",
      "Processed 5 models on 7 predictors in 0.009872198104858398\n",
      "Selected predictors: ['Income', 'CD Account', 'Education', 'Family', 'CreditCard', 'Securities Account', 'CCAvg', 'const'] AIC: <statsmodels.regression.linear_model.RegressionResultsWrapper object at 0x7ff45d39a250>\n",
      "Processed 4 models on 8 predictors in 0.008965730667114258\n",
      "Selected predictors: ['Income', 'CD Account', 'Education', 'Family', 'CreditCard', 'Securities Account', 'CCAvg', 'Online', 'const'] AIC: <statsmodels.regression.linear_model.RegressionResultsWrapper object at 0x7ff45d39a6d0>\n",
      "Processed 3 models on 9 predictors in 0.0069408416748046875\n",
      "Selected predictors: ['Income', 'CD Account', 'Education', 'Family', 'CreditCard', 'Securities Account', 'CCAvg', 'Online', 'Mortgage', 'const'] AIC: <statsmodels.regression.linear_model.RegressionResultsWrapper object at 0x7ff45d39a040>\n",
      "Processed 2 models on 10 predictors in 0.006392002105712891\n",
      "Selected predictors: ['Income', 'CD Account', 'Education', 'Family', 'CreditCard', 'Securities Account', 'CCAvg', 'Online', 'Mortgage', 'Experience', 'const'] AIC: <statsmodels.regression.linear_model.RegressionResultsWrapper object at 0x7ff45d39a4c0>\n",
      "Total elapsed time: 0.15334391593933105 seconds.\n"
     ]
    }
   ],
   "source": [
    "Forward_best_model = forward_model(X=train_x, y=train_y)"
   ]
  },
  {
   "cell_type": "code",
   "execution_count": 74,
   "metadata": {},
   "outputs": [
    {
     "name": "stdout",
     "output_type": "stream",
     "text": [
      "Processed 11 models on 10 predictors in 0.04062175750732422\n",
      "Selected predictors: ['CCAvg', 'CD Account', 'CreditCard', 'Education', 'Experience', 'Family', 'Income', 'Mortgage', 'Online', 'Securities Account', 'const'] AIC: <statsmodels.regression.linear_model.RegressionResultsWrapper object at 0x7ff45d380a30>\n",
      "Processed 10 models on 9 predictors in 0.02505207061767578\n",
      "Selected predictors: ['CCAvg', 'CD Account', 'CreditCard', 'Education', 'Family', 'Income', 'Mortgage', 'Online', 'Securities Account', 'const'] AIC: <statsmodels.regression.linear_model.RegressionResultsWrapper object at 0x7ff45d39a370>\n",
      "Processed 9 models on 8 predictors in 0.013788223266601562\n",
      "Selected predictors: ['CCAvg', 'CD Account', 'CreditCard', 'Education', 'Family', 'Income', 'Online', 'Securities Account', 'const'] AIC: <statsmodels.regression.linear_model.RegressionResultsWrapper object at 0x7ff45d39a280>\n",
      "Total elapsed time: 0.09360718727111816 Seconds.\n"
     ]
    }
   ],
   "source": [
    "Backward_best_model = backward_model(X=train_x, y=train_y)"
   ]
  },
  {
   "cell_type": "code",
   "execution_count": 75,
   "metadata": {},
   "outputs": [
    {
     "name": "stdout",
     "output_type": "stream",
     "text": [
      "Processed 11 models on 1 predictors in 0.01043701171875\n",
      "Selected predictors: ['Income', 'const'] AIC: <statsmodels.regression.linear_model.RegressionResultsWrapper object at 0x7ff45d2df9a0>\n",
      "forward\n",
      "Processed 1 models on 0 predictors in 0.0017070770263671875\n",
      "Selected predictors: ['const'] AIC: <statsmodels.regression.linear_model.RegressionResultsWrapper object at 0x7ff45d283760>\n",
      "Processed 10 models on 2 predictors in 0.011053800582885742\n",
      "Selected predictors: ['Income', 'CD Account', 'const'] AIC: <statsmodels.regression.linear_model.RegressionResultsWrapper object at 0x7ff45d39a580>\n",
      "forward\n",
      "Processed 2 models on 1 predictors in 0.0029649734497070312\n",
      "Selected predictors: ['Income', 'const'] AIC: <statsmodels.regression.linear_model.RegressionResultsWrapper object at 0x7ff45d3661f0>\n",
      "Processed 9 models on 3 predictors in 0.01058506965637207\n",
      "Selected predictors: ['Income', 'CD Account', 'Education', 'const'] AIC: <statsmodels.regression.linear_model.RegressionResultsWrapper object at 0x7ff45d39a2b0>\n",
      "forward\n",
      "Processed 3 models on 2 predictors in 0.00439000129699707\n",
      "Selected predictors: ['Income', 'CD Account', 'const'] AIC: <statsmodels.regression.linear_model.RegressionResultsWrapper object at 0x7ff45d366040>\n",
      "Processed 8 models on 4 predictors in 0.009914875030517578\n",
      "Selected predictors: ['Income', 'CD Account', 'Education', 'Family', 'const'] AIC: <statsmodels.regression.linear_model.RegressionResultsWrapper object at 0x7ff45d380250>\n",
      "forward\n",
      "Processed 4 models on 3 predictors in 0.005074977874755859\n",
      "Selected predictors: ['Income', 'CD Account', 'Education', 'const'] AIC: <statsmodels.regression.linear_model.RegressionResultsWrapper object at 0x7ff45d3661f0>\n",
      "Processed 7 models on 5 predictors in 0.00792384147644043\n",
      "Selected predictors: ['Income', 'CD Account', 'Education', 'Family', 'CreditCard', 'const'] AIC: <statsmodels.regression.linear_model.RegressionResultsWrapper object at 0x7ff45d39a130>\n",
      "forward\n",
      "Processed 5 models on 4 predictors in 0.006306171417236328\n",
      "Selected predictors: ['Income', 'CD Account', 'Education', 'Family', 'const'] AIC: <statsmodels.regression.linear_model.RegressionResultsWrapper object at 0x7ff45d380eb0>\n",
      "Processed 6 models on 6 predictors in 0.009550094604492188\n",
      "Selected predictors: ['Income', 'CD Account', 'Education', 'Family', 'CreditCard', 'Securities Account', 'const'] AIC: <statsmodels.regression.linear_model.RegressionResultsWrapper object at 0x7ff45d380820>\n",
      "forward\n",
      "Processed 6 models on 5 predictors in 0.008606195449829102\n",
      "Selected predictors: ['Income', 'CD Account', 'Education', 'Family', 'CreditCard', 'const'] AIC: <statsmodels.regression.linear_model.RegressionResultsWrapper object at 0x7ff45d260e50>\n",
      "Processed 5 models on 7 predictors in 0.00803995132446289\n",
      "Selected predictors: ['Income', 'CD Account', 'Education', 'Family', 'CreditCard', 'Securities Account', 'CCAvg', 'const'] AIC: <statsmodels.regression.linear_model.RegressionResultsWrapper object at 0x7ff45d39a6d0>\n",
      "forward\n",
      "Processed 7 models on 6 predictors in 0.009118080139160156\n",
      "Selected predictors: ['Income', 'CD Account', 'Education', 'Family', 'CreditCard', 'Securities Account', 'const'] AIC: <statsmodels.regression.linear_model.RegressionResultsWrapper object at 0x7ff45d0d86d0>\n",
      "Processed 4 models on 8 predictors in 0.006134986877441406\n",
      "Selected predictors: ['Income', 'CD Account', 'Education', 'Family', 'CreditCard', 'Securities Account', 'CCAvg', 'Online', 'const'] AIC: <statsmodels.regression.linear_model.RegressionResultsWrapper object at 0x7ff45d380a00>\n",
      "forward\n",
      "Processed 8 models on 7 predictors in 0.011157989501953125\n",
      "Selected predictors: ['Income', 'CD Account', 'Education', 'Family', 'CreditCard', 'Securities Account', 'CCAvg', 'const'] AIC: <statsmodels.regression.linear_model.RegressionResultsWrapper object at 0x7ff45d39acd0>\n",
      "Processed 3 models on 9 predictors in 0.007596731185913086\n",
      "Selected predictors: ['Income', 'CD Account', 'Education', 'Family', 'CreditCard', 'Securities Account', 'CCAvg', 'Online', 'Mortgage', 'const'] AIC: <statsmodels.regression.linear_model.RegressionResultsWrapper object at 0x7ff45d380dc0>\n",
      "forward\n",
      "Processed 9 models on 8 predictors in 0.0198671817779541\n",
      "Selected predictors: ['Income', 'CD Account', 'Education', 'Family', 'CreditCard', 'Securities Account', 'CCAvg', 'Online', 'const'] AIC: <statsmodels.regression.linear_model.RegressionResultsWrapper object at 0x7ff45d39a0a0>\n",
      "Processed 2 models on 10 predictors in 0.004704952239990234\n",
      "Selected predictors: ['Income', 'CD Account', 'Education', 'Family', 'CreditCard', 'Securities Account', 'CCAvg', 'Online', 'Mortgage', 'Experience', 'const'] AIC: <statsmodels.regression.linear_model.RegressionResultsWrapper object at 0x7ff45d380a60>\n",
      "forward\n",
      "Processed 10 models on 9 predictors in 0.018518686294555664\n",
      "Selected predictors: ['Income', 'CD Account', 'Education', 'Family', 'CreditCard', 'Securities Account', 'CCAvg', 'Online', 'Mortgage', 'const'] AIC: <statsmodels.regression.linear_model.RegressionResultsWrapper object at 0x7ff45d266040>\n",
      "backward\n",
      "Processed 2 models on 10 predictors in 0.004969120025634766\n",
      "Selected predictors: ['Income', 'CD Account', 'Education', 'Family', 'CreditCard', 'Securities Account', 'CCAvg', 'Online', 'Mortgage', 'Experience', 'const'] AIC: <statsmodels.regression.linear_model.RegressionResultsWrapper object at 0x7ff45cfc2310>\n",
      "forward\n",
      "Processed 10 models on 9 predictors in 0.021503925323486328\n",
      "Selected predictors: ['Income', 'CD Account', 'Education', 'Family', 'CreditCard', 'Securities Account', 'CCAvg', 'Online', 'Mortgage', 'const'] AIC: <statsmodels.regression.linear_model.RegressionResultsWrapper object at 0x7ff45cfc24f0>\n",
      "backward\n",
      "Total elapsed time: 0.22881197929382324 seconds.\n"
     ]
    }
   ],
   "source": [
    "Stepwise_best_model = Stepwise_model(X=train_x, y=train_y)"
   ]
  },
  {
   "cell_type": "code",
   "execution_count": 76,
   "metadata": {},
   "outputs": [],
   "source": [
    "# 모델에 의해 예측된/추정된 값 <=> test_y\n",
    "pred_y_full = results.predict(test_x)\n",
    "pred_y_forward = Forward_best_model.predict(test_x[Forward_best_model.model.exog_names])\n",
    "pred_y_backward = Backward_best_model.predict(test_x[Backward_best_model.model.exog_names])\n",
    "pred_y_stepwise = Stepwise_best_model.predict(test_x[Stepwise_best_model.model.exog_names])"
   ]
  },
  {
   "cell_type": "code",
   "execution_count": 77,
   "metadata": {},
   "outputs": [],
   "source": [
    "pred_Y_full = cut_off(pred_y_full, 0.5)\n",
    "pred_Y_forward = cut_off(pred_y_forward, 0.5)\n",
    "pred_Y_backward = cut_off(pred_y_backward, 0.5)\n",
    "pred_Y_stepwise = cut_off(pred_y_stepwise, 0.5)"
   ]
  },
  {
   "cell_type": "code",
   "execution_count": 78,
   "metadata": {},
   "outputs": [],
   "source": [
    "cfmat_full = confusion_matrix(test_y, pred_Y_full)\n",
    "cfmat_forward = confusion_matrix(test_y, pred_Y_forward)\n",
    "cfmat_backward = confusion_matrix(test_y, pred_Y_backward)\n",
    "cfmat_stepwise = confusion_matrix(test_y, pred_Y_stepwise)"
   ]
  },
  {
   "cell_type": "code",
   "execution_count": 79,
   "metadata": {},
   "outputs": [
    {
     "name": "stdout",
     "output_type": "stream",
     "text": [
      "0.9506666666666667\n",
      "0.9346666666666666\n",
      "0.9346666666666666\n",
      "0.9346666666666666\n"
     ]
    }
   ],
   "source": [
    "print(acc(cfmat_full))\n",
    "print(acc(cfmat_forward))\n",
    "print(acc(cfmat_backward))\n",
    "print(acc(cfmat_stepwise))"
   ]
  },
  {
   "cell_type": "code",
   "execution_count": 80,
   "metadata": {},
   "outputs": [
    {
     "name": "stdout",
     "output_type": "stream",
     "text": [
      "12\n",
      "10\n"
     ]
    }
   ],
   "source": [
    "print(len(results.model.exog_names))\n",
    "print(len(Forward_best_model.model.exog_names))"
   ]
  },
  {
   "cell_type": "code",
   "execution_count": 81,
   "metadata": {},
   "outputs": [
    {
     "name": "stdout",
     "output_type": "stream",
     "text": [
      "AUC: 0.9639257620452311\n"
     ]
    },
    {
     "data": {
      "image/png": "[encoded data removed]",
      "text/plain": [
       "<Figure size 432x288 with 1 Axes>"
      ]
     },
     "metadata": {
      "needs_background": "light"
     },
     "output_type": "display_data"
    }
   ],
   "source": [
    "# sklearn ROC 패키지 제공\n",
    "fpr ,tpr, thresholds = metrics.roc_curve(test_y, pred_y_full, pos_label=1)\n",
    "\n",
    "# Print ROC curve\n",
    "plt.plot(fpr, tpr)\n",
    "\n",
    "# Print AUC\n",
    "auc = np.trapz(tpr,fpr)\n",
    "print('AUC:', auc)"
   ]
  },
  {
   "cell_type": "code",
   "execution_count": 82,
   "metadata": {},
   "outputs": [
    {
     "name": "stdout",
     "output_type": "stream",
     "text": [
      "AUC: 0.9588403392330384\n"
     ]
    },
    {
     "data": {
      "image/png": "[encoded data removed]",
      "text/plain": [
       "<Figure size 432x288 with 1 Axes>"
      ]
     },
     "metadata": {
      "needs_background": "light"
     },
     "output_type": "display_data"
    }
   ],
   "source": [
    "# sklearn ROC 패키지 제공\n",
    "fpr ,tpr, thresholds = metrics.roc_curve(test_y, pred_y_forward, pos_label=1)\n",
    "\n",
    "# Print ROC curve\n",
    "plt.plot(fpr, tpr)\n",
    "\n",
    "# Print AUC\n",
    "auc = np.trapz(tpr,fpr)\n",
    "print('AUC:', auc)"
   ]
  },
  {
   "cell_type": "code",
   "execution_count": 83,
   "metadata": {},
   "outputs": [
    {
     "name": "stdout",
     "output_type": "stream",
     "text": [
      "AUC: 0.9588403392330384\n"
     ]
    },
    {
     "data": {
      "image/png": "[encoded data removed]",
      "text/plain": [
       "<Figure size 432x288 with 1 Axes>"
      ]
     },
     "metadata": {
      "needs_background": "light"
     },
     "output_type": "display_data"
    }
   ],
   "source": [
    "# sklearn ROC 패키지 제공\n",
    "fpr ,tpr, thresholds = metrics.roc_curve(test_y, pred_y_backward, pos_label=1)\n",
    "\n",
    "# Print ROC curve\n",
    "plt.plot(fpr, tpr)\n",
    "\n",
    "# Print AUC\n",
    "auc = np.trapz(tpr,fpr)\n",
    "print('AUC:', auc)"
   ]
  },
  {
   "cell_type": "code",
   "execution_count": 84,
   "metadata": {},
   "outputs": [
    {
     "name": "stdout",
     "output_type": "stream",
     "text": [
      "AUC: 0.9588403392330384\n"
     ]
    },
    {
     "data": {
      "image/png": "[encoded data removed]",
      "text/plain": [
       "<Figure size 432x288 with 1 Axes>"
      ]
     },
     "metadata": {
      "needs_background": "light"
     },
     "output_type": "display_data"
    }
   ],
   "source": [
    "\n",
    "# sklearn ROC 패키지 제공\n",
    "fpr ,tpr, thresholds = metrics.roc_curve(test_y, pred_y_stepwise, pos_label=1)\n",
    "\n",
    "# Print ROC curve\n",
    "plt.plot(fpr, tpr)\n",
    "\n",
    "# Print AUC\n",
    "auc = np.trapz(tpr,fpr)\n",
    "print('AUC:', auc)"
   ]
  },
  {
   "cell_type": "markdown",
   "metadata": {},
   "source": [
    "### Lasso & Ridge"
   ]
  },
  {
   "cell_type": "code",
   "execution_count": 85,
   "metadata": {},
   "outputs": [],
   "source": [
    "from sklearn.linear_model import Ridge, Lasso, ElasticNet"
   ]
  },
  {
   "cell_type": "code",
   "execution_count": 87,
   "metadata": {},
   "outputs": [],
   "source": [
    "ploan_processed = ploan.dropna().drop(['ID', 'ZIP Code'], axis=1, inplace=False)\n",
    "\n",
    "feature_columns = list(ploan_processed.columns.difference(['Personal Loan']))\n",
    "X = ploan_processed[feature_columns]\n",
    "y = ploan_processed['Personal Loan']\n",
    "\n",
    "train_x, test_x, train_y, test_y = train_test_split(X, y, stratify=y, train_size=0.7, test_size=0.3, random_state=42)"
   ]
  },
  {
   "cell_type": "code",
   "execution_count": 89,
   "metadata": {},
   "outputs": [
    {
     "data": {
      "text/plain": [
       "Lasso(alpha=0.01)"
      ]
     },
     "execution_count": 89,
     "metadata": {},
     "output_type": "execute_result"
    }
   ],
   "source": [
    "# Lasso 적합\n",
    "ll = Lasso(alpha=0.01) # alpha 는 lambda를 뜻함.\n",
    "ll.fit(train_x, train_y) # 알파 값이 커지면 회귀계수가 0으로 간다."
   ]
  },
  {
   "cell_type": "code",
   "execution_count": 92,
   "metadata": {},
   "outputs": [
    {
     "data": {
      "text/plain": [
       "array([ 0.        ,  0.00852166,  0.10237581, -0.        ,  0.06531086,\n",
       "        0.        ,  0.02751606,  0.00315092,  0.00011978, -0.        ,\n",
       "       -0.        ])"
      ]
     },
     "execution_count": 92,
     "metadata": {},
     "output_type": "execute_result"
    }
   ],
   "source": [
    "# 회귀 계수 출력, 0은 5개가 나옴.\n",
    "ll.coef_"
   ]
  },
  {
   "cell_type": "code",
   "execution_count": 91,
   "metadata": {},
   "outputs": [
    {
     "data": {
      "text/html": [
       "<table class=\"simpletable\">\n",
       "<caption>Logit Regression Results</caption>\n",
       "<tr>\n",
       "  <th>Dep. Variable:</th>     <td>Personal Loan</td>  <th>  No. Observations:  </th>   <td>  3500</td>  \n",
       "</tr>\n",
       "<tr>\n",
       "  <th>Model:</th>                 <td>Logit</td>      <th>  Df Residuals:      </th>   <td>  3488</td>  \n",
       "</tr>\n",
       "<tr>\n",
       "  <th>Method:</th>                 <td>MLE</td>       <th>  Df Model:          </th>   <td>    11</td>  \n",
       "</tr>\n",
       "<tr>\n",
       "  <th>Date:</th>            <td>Tue, 16 Mar 2021</td> <th>  Pseudo R-squ.:     </th>   <td>0.5861</td>  \n",
       "</tr>\n",
       "<tr>\n",
       "  <th>Time:</th>                <td>10:48:19</td>     <th>  Log-Likelihood:    </th>  <td> -458.04</td> \n",
       "</tr>\n",
       "<tr>\n",
       "  <th>converged:</th>             <td>True</td>       <th>  LL-Null:           </th>  <td> -1106.7</td> \n",
       "</tr>\n",
       "<tr>\n",
       "  <th>Covariance Type:</th>     <td>nonrobust</td>    <th>  LLR p-value:       </th> <td>1.666e-271</td>\n",
       "</tr>\n",
       "</table>\n",
       "<table class=\"simpletable\">\n",
       "<tr>\n",
       "           <td></td>             <th>coef</th>     <th>std err</th>      <th>z</th>      <th>P>|z|</th>  <th>[0.025</th>    <th>0.975]</th>  \n",
       "</tr>\n",
       "<tr>\n",
       "  <th>Age</th>                <td>   -0.0511</td> <td>    0.072</td> <td>   -0.712</td> <td> 0.477</td> <td>   -0.192</td> <td>    0.090</td>\n",
       "</tr>\n",
       "<tr>\n",
       "  <th>CCAvg</th>              <td>    0.1332</td> <td>    0.046</td> <td>    2.872</td> <td> 0.004</td> <td>    0.042</td> <td>    0.224</td>\n",
       "</tr>\n",
       "<tr>\n",
       "  <th>CD Account</th>         <td>    3.9878</td> <td>    0.402</td> <td>    9.920</td> <td> 0.000</td> <td>    3.200</td> <td>    4.776</td>\n",
       "</tr>\n",
       "<tr>\n",
       "  <th>CreditCard</th>         <td>   -1.1483</td> <td>    0.252</td> <td>   -4.549</td> <td> 0.000</td> <td>   -1.643</td> <td>   -0.654</td>\n",
       "</tr>\n",
       "<tr>\n",
       "  <th>Education</th>          <td>    1.6770</td> <td>    0.136</td> <td>   12.324</td> <td> 0.000</td> <td>    1.410</td> <td>    1.944</td>\n",
       "</tr>\n",
       "<tr>\n",
       "  <th>Experience</th>         <td>    0.0532</td> <td>    0.071</td> <td>    0.746</td> <td> 0.456</td> <td>   -0.087</td> <td>    0.193</td>\n",
       "</tr>\n",
       "<tr>\n",
       "  <th>Family</th>             <td>    0.7001</td> <td>    0.088</td> <td>    7.925</td> <td> 0.000</td> <td>    0.527</td> <td>    0.873</td>\n",
       "</tr>\n",
       "<tr>\n",
       "  <th>Income</th>             <td>    0.0525</td> <td>    0.003</td> <td>   17.319</td> <td> 0.000</td> <td>    0.047</td> <td>    0.058</td>\n",
       "</tr>\n",
       "<tr>\n",
       "  <th>Mortgage</th>           <td>    0.0007</td> <td>    0.001</td> <td>    1.039</td> <td> 0.299</td> <td>   -0.001</td> <td>    0.002</td>\n",
       "</tr>\n",
       "<tr>\n",
       "  <th>Online</th>             <td>   -0.6926</td> <td>    0.187</td> <td>   -3.701</td> <td> 0.000</td> <td>   -1.059</td> <td>   -0.326</td>\n",
       "</tr>\n",
       "<tr>\n",
       "  <th>Securities Account</th> <td>   -1.1086</td> <td>    0.359</td> <td>   -3.089</td> <td> 0.002</td> <td>   -1.812</td> <td>   -0.405</td>\n",
       "</tr>\n",
       "<tr>\n",
       "  <th>const</th>              <td>  -11.7709</td> <td>    1.921</td> <td>   -6.127</td> <td> 0.000</td> <td>  -15.536</td> <td>   -8.006</td>\n",
       "</tr>\n",
       "</table>"
      ],
      "text/plain": [
       "<class 'statsmodels.iolib.summary.Summary'>\n",
       "\"\"\"\n",
       "                           Logit Regression Results                           \n",
       "==============================================================================\n",
       "Dep. Variable:          Personal Loan   No. Observations:                 3500\n",
       "Model:                          Logit   Df Residuals:                     3488\n",
       "Method:                           MLE   Df Model:                           11\n",
       "Date:                Tue, 16 Mar 2021   Pseudo R-squ.:                  0.5861\n",
       "Time:                        10:48:19   Log-Likelihood:                -458.04\n",
       "converged:                       True   LL-Null:                       -1106.7\n",
       "Covariance Type:            nonrobust   LLR p-value:                1.666e-271\n",
       "======================================================================================\n",
       "                         coef    std err          z      P>|z|      [0.025      0.975]\n",
       "--------------------------------------------------------------------------------------\n",
       "Age                   -0.0511      0.072     -0.712      0.477      -0.192       0.090\n",
       "CCAvg                  0.1332      0.046      2.872      0.004       0.042       0.224\n",
       "CD Account             3.9878      0.402      9.920      0.000       3.200       4.776\n",
       "CreditCard            -1.1483      0.252     -4.549      0.000      -1.643      -0.654\n",
       "Education              1.6770      0.136     12.324      0.000       1.410       1.944\n",
       "Experience             0.0532      0.071      0.746      0.456      -0.087       0.193\n",
       "Family                 0.7001      0.088      7.925      0.000       0.527       0.873\n",
       "Income                 0.0525      0.003     17.319      0.000       0.047       0.058\n",
       "Mortgage               0.0007      0.001      1.039      0.299      -0.001       0.002\n",
       "Online                -0.6926      0.187     -3.701      0.000      -1.059      -0.326\n",
       "Securities Account    -1.1086      0.359     -3.089      0.002      -1.812      -0.405\n",
       "const                -11.7709      1.921     -6.127      0.000     -15.536      -8.006\n",
       "======================================================================================\n",
       "\"\"\""
      ]
     },
     "execution_count": 91,
     "metadata": {},
     "output_type": "execute_result"
    }
   ],
   "source": [
    "results.summary()"
   ]
  },
  {
   "cell_type": "code",
   "execution_count": 93,
   "metadata": {},
   "outputs": [
    {
     "name": "stdout",
     "output_type": "stream",
     "text": [
      "0.9333333333333333\n"
     ]
    }
   ],
   "source": [
    "pred_y_lasso = ll.predict(test_x)\n",
    "pred_Y_lasso = cut_off(pred_y_lasso, 0.5)\n",
    "confusion_matrix(test_y, pred_Y_lasso)\n",
    "print(acc(cfmat))"
   ]
  },
  {
   "cell_type": "code",
   "execution_count": 94,
   "metadata": {},
   "outputs": [
    {
     "name": "stdout",
     "output_type": "stream",
     "text": [
      "AUC: 0.9610936987872829\n"
     ]
    },
    {
     "data": {
      "image/png": "[encoded data removed]",
      "text/plain": [
       "<Figure size 432x288 with 1 Axes>"
      ]
     },
     "metadata": {
      "needs_background": "light"
     },
     "output_type": "display_data"
    }
   ],
   "source": [
    "# sklearn ROC 패키지 제공\n",
    "fpr ,tpr, thresholds = metrics.roc_curve(test_y, pred_y_lasso, pos_label=1)\n",
    "\n",
    "# Print ROC curve\n",
    "plt.plot(fpr, tpr)\n",
    "\n",
    "# Print AUC\n",
    "auc = np.trapz(tpr,fpr)\n",
    "print('AUC:', auc)"
   ]
  },
  {
   "cell_type": "markdown",
   "metadata": {},
   "source": [
    "- full 모델에 비해 약간 성능이 저하."
   ]
  },
  {
   "cell_type": "code",
   "execution_count": 95,
   "metadata": {},
   "outputs": [
    {
     "data": {
      "text/plain": [
       "Ridge(alpha=0.01)"
      ]
     },
     "execution_count": 95,
     "metadata": {},
     "output_type": "execute_result"
    }
   ],
   "source": [
    "# ridge 함수 적합\n",
    "rr = Ridge(alpha=0.01)\n",
    "rr.fit(train_x, train_y)"
   ]
  },
  {
   "cell_type": "code",
   "execution_count": 99,
   "metadata": {},
   "outputs": [
    {
     "data": {
      "text/plain": [
       "array([-5.68421121e-03,  1.28174392e-02,  3.40370401e-01, -4.78931120e-02,\n",
       "        7.75710030e-02,  5.69711425e-03,  3.39642971e-02,  2.90460896e-03,\n",
       "        8.23988625e-05, -2.18219570e-02, -6.50169017e-02])"
      ]
     },
     "execution_count": 99,
     "metadata": {},
     "output_type": "execute_result"
    }
   ],
   "source": [
    "rr.coef_ # 0에 수렴하지 않음"
   ]
  },
  {
   "cell_type": "code",
   "execution_count": 98,
   "metadata": {},
   "outputs": [
    {
     "data": {
      "text/plain": [
       "array([ 0.        ,  0.00852166,  0.10237581, -0.        ,  0.06531086,\n",
       "        0.        ,  0.02751606,  0.00315092,  0.00011978, -0.        ,\n",
       "       -0.        ])"
      ]
     },
     "execution_count": 98,
     "metadata": {},
     "output_type": "execute_result"
    }
   ],
   "source": [
    "ll.coef_ # 0에 수렴"
   ]
  },
  {
   "cell_type": "code",
   "execution_count": 100,
   "metadata": {},
   "outputs": [
    {
     "name": "stdout",
     "output_type": "stream",
     "text": [
      "0.9333333333333333\n"
     ]
    }
   ],
   "source": [
    "# ridge y 예측, confusion_matrix, acc 계산\n",
    "pred_y_ridge = rr.predict(test_x)\n",
    "pred_Y_ridge = cut_off(pred_y_ridge, 0.5)\n",
    "confusion_matrix(test_y, pred_Y_ridge)\n",
    "print(acc(cfmat))"
   ]
  },
  {
   "cell_type": "code",
   "execution_count": 101,
   "metadata": {},
   "outputs": [
    {
     "name": "stdout",
     "output_type": "stream",
     "text": [
      "AUC: 0.959203949524746\n"
     ]
    },
    {
     "data": {
      "image/png": "[encoded data removed]",
      "text/plain": [
       "<Figure size 432x288 with 1 Axes>"
      ]
     },
     "metadata": {
      "needs_background": "light"
     },
     "output_type": "display_data"
    }
   ],
   "source": [
    "# sklearn ROC 패키지 제공\n",
    "fpr ,tpr, thresholds = metrics.roc_curve(test_y, pred_y_ridge, pos_label=1)\n",
    "\n",
    "# Print ROC curve\n",
    "plt.plot(fpr, tpr)\n",
    "\n",
    "# Print AUC\n",
    "auc = np.trapz(tpr,fpr)\n",
    "print('AUC:', auc)"
   ]
  },
  {
   "cell_type": "markdown",
   "metadata": {},
   "source": [
    "- Ridge가 Lasso 보다 좋지 않은 성능을 보임."
   ]
  },
  {
   "cell_type": "code",
   "execution_count": 105,
   "metadata": {},
   "outputs": [],
   "source": [
    "# lambda 값에 따른 회귀 계수 / acc 계산\n",
    "alpha = np.logspace(-3, 2, 6)"
   ]
  },
  {
   "cell_type": "code",
   "execution_count": 107,
   "metadata": {},
   "outputs": [
    {
     "data": {
      "text/plain": [
       "array([1.e-03, 1.e-02, 1.e-01, 1.e+00, 1.e+01, 1.e+02])"
      ]
     },
     "execution_count": 107,
     "metadata": {},
     "output_type": "execute_result"
    }
   ],
   "source": [
    "# lambda 값 0.001 ~ 10까지 범위 설정\n",
    "alpha"
   ]
  },
  {
   "cell_type": "code",
   "execution_count": 108,
   "metadata": {},
   "outputs": [],
   "source": [
    "data = []\n",
    "acc_table = []\n",
    "for i, a in enumerate(alpha):\n",
    "    lasso = Lasso(alpha=a).fit(train_x, train_y)\n",
    "    data.append(pd.Series(np.hstack([lasso.intercept_, lasso.coef_])))\n",
    "    pred_y = lasso.predict(test_x) # full model\n",
    "    pred_y = cut_off(pred_y, 0.5)\n",
    "    cfmat = confusion_matrix(test_y, pred_y)\n",
    "    acc_table.append(acc(cfmat))\n",
    "    \n",
    "df_lasso = pd.DataFrame(data, index=alpha)\n",
    "df_lasso\n",
    "acc_table_lasso = pd.DataFrame(acc_table, index=alpha)"
   ]
  },
  {
   "cell_type": "code",
   "execution_count": 112,
   "metadata": {},
   "outputs": [
    {
     "data": {
      "text/html": [
       "<div>\n",
       "<style scoped>\n",
       "    .dataframe tbody tr th:only-of-type {\n",
       "        vertical-align: middle;\n",
       "    }\n",
       "\n",
       "    .dataframe tbody tr th {\n",
       "        vertical-align: top;\n",
       "    }\n",
       "\n",
       "    .dataframe thead th {\n",
       "        text-align: right;\n",
       "    }\n",
       "</style>\n",
       "<table border=\"1\" class=\"dataframe\">\n",
       "  <thead>\n",
       "    <tr style=\"text-align: right;\">\n",
       "      <th></th>\n",
       "      <th>0.001</th>\n",
       "      <th>0.010</th>\n",
       "      <th>0.100</th>\n",
       "      <th>1.000</th>\n",
       "      <th>10.000</th>\n",
       "      <th>100.000</th>\n",
       "    </tr>\n",
       "  </thead>\n",
       "  <tbody>\n",
       "    <tr>\n",
       "      <th>0</th>\n",
       "      <td>-0.263402</td>\n",
       "      <td>-0.354451</td>\n",
       "      <td>-0.137111</td>\n",
       "      <td>-0.104780</td>\n",
       "      <td>0.096</td>\n",
       "      <td>0.096</td>\n",
       "    </tr>\n",
       "    <tr>\n",
       "      <th>1</th>\n",
       "      <td>-0.004102</td>\n",
       "      <td>0.000000</td>\n",
       "      <td>-0.000000</td>\n",
       "      <td>-0.000000</td>\n",
       "      <td>-0.000</td>\n",
       "      <td>-0.000</td>\n",
       "    </tr>\n",
       "    <tr>\n",
       "      <th>2</th>\n",
       "      <td>0.012342</td>\n",
       "      <td>0.008522</td>\n",
       "      <td>0.000000</td>\n",
       "      <td>0.000000</td>\n",
       "      <td>0.000</td>\n",
       "      <td>0.000</td>\n",
       "    </tr>\n",
       "    <tr>\n",
       "      <th>3</th>\n",
       "      <td>0.306188</td>\n",
       "      <td>0.102376</td>\n",
       "      <td>0.000000</td>\n",
       "      <td>0.000000</td>\n",
       "      <td>0.000</td>\n",
       "      <td>0.000</td>\n",
       "    </tr>\n",
       "    <tr>\n",
       "      <th>4</th>\n",
       "      <td>-0.037654</td>\n",
       "      <td>-0.000000</td>\n",
       "      <td>0.000000</td>\n",
       "      <td>0.000000</td>\n",
       "      <td>0.000</td>\n",
       "      <td>0.000</td>\n",
       "    </tr>\n",
       "    <tr>\n",
       "      <th>5</th>\n",
       "      <td>0.076248</td>\n",
       "      <td>0.065311</td>\n",
       "      <td>0.000000</td>\n",
       "      <td>0.000000</td>\n",
       "      <td>0.000</td>\n",
       "      <td>0.000</td>\n",
       "    </tr>\n",
       "    <tr>\n",
       "      <th>6</th>\n",
       "      <td>0.004111</td>\n",
       "      <td>0.000000</td>\n",
       "      <td>-0.000000</td>\n",
       "      <td>-0.000000</td>\n",
       "      <td>-0.000</td>\n",
       "      <td>-0.000</td>\n",
       "    </tr>\n",
       "    <tr>\n",
       "      <th>7</th>\n",
       "      <td>0.033232</td>\n",
       "      <td>0.027516</td>\n",
       "      <td>0.000000</td>\n",
       "      <td>0.000000</td>\n",
       "      <td>0.000</td>\n",
       "      <td>0.000</td>\n",
       "    </tr>\n",
       "    <tr>\n",
       "      <th>8</th>\n",
       "      <td>0.002941</td>\n",
       "      <td>0.003151</td>\n",
       "      <td>0.003060</td>\n",
       "      <td>0.002662</td>\n",
       "      <td>0.000</td>\n",
       "      <td>0.000</td>\n",
       "    </tr>\n",
       "    <tr>\n",
       "      <th>9</th>\n",
       "      <td>0.000088</td>\n",
       "      <td>0.000120</td>\n",
       "      <td>0.000130</td>\n",
       "      <td>0.000077</td>\n",
       "      <td>0.000</td>\n",
       "      <td>0.000</td>\n",
       "    </tr>\n",
       "    <tr>\n",
       "      <th>10</th>\n",
       "      <td>-0.015111</td>\n",
       "      <td>-0.000000</td>\n",
       "      <td>0.000000</td>\n",
       "      <td>0.000000</td>\n",
       "      <td>0.000</td>\n",
       "      <td>0.000</td>\n",
       "    </tr>\n",
       "    <tr>\n",
       "      <th>11</th>\n",
       "      <td>-0.045216</td>\n",
       "      <td>-0.000000</td>\n",
       "      <td>0.000000</td>\n",
       "      <td>0.000000</td>\n",
       "      <td>0.000</td>\n",
       "      <td>0.000</td>\n",
       "    </tr>\n",
       "  </tbody>\n",
       "</table>\n",
       "</div>"
      ],
      "text/plain": [
       "     0.001     0.010     0.100     1.000    10.000   100.000\n",
       "0  -0.263402 -0.354451 -0.137111 -0.104780    0.096    0.096\n",
       "1  -0.004102  0.000000 -0.000000 -0.000000   -0.000   -0.000\n",
       "2   0.012342  0.008522  0.000000  0.000000    0.000    0.000\n",
       "3   0.306188  0.102376  0.000000  0.000000    0.000    0.000\n",
       "4  -0.037654 -0.000000  0.000000  0.000000    0.000    0.000\n",
       "5   0.076248  0.065311  0.000000  0.000000    0.000    0.000\n",
       "6   0.004111  0.000000 -0.000000 -0.000000   -0.000   -0.000\n",
       "7   0.033232  0.027516  0.000000  0.000000    0.000    0.000\n",
       "8   0.002941  0.003151  0.003060  0.002662    0.000    0.000\n",
       "9   0.000088  0.000120  0.000130  0.000077    0.000    0.000\n",
       "10 -0.015111 -0.000000  0.000000  0.000000    0.000    0.000\n",
       "11 -0.045216 -0.000000  0.000000  0.000000    0.000    0.000"
      ]
     },
     "execution_count": 112,
     "metadata": {},
     "output_type": "execute_result"
    }
   ],
   "source": [
    "# 회귀계수와 예측성능\n",
    "df_lasso.T"
   ]
  },
  {
   "cell_type": "code",
   "execution_count": 113,
   "metadata": {},
   "outputs": [
    {
     "data": {
      "text/html": [
       "<div>\n",
       "<style scoped>\n",
       "    .dataframe tbody tr th:only-of-type {\n",
       "        vertical-align: middle;\n",
       "    }\n",
       "\n",
       "    .dataframe tbody tr th {\n",
       "        vertical-align: top;\n",
       "    }\n",
       "\n",
       "    .dataframe thead th {\n",
       "        text-align: right;\n",
       "    }\n",
       "</style>\n",
       "<table border=\"1\" class=\"dataframe\">\n",
       "  <thead>\n",
       "    <tr style=\"text-align: right;\">\n",
       "      <th></th>\n",
       "      <th>0.001</th>\n",
       "      <th>0.010</th>\n",
       "      <th>0.100</th>\n",
       "      <th>1.000</th>\n",
       "      <th>10.000</th>\n",
       "      <th>100.000</th>\n",
       "    </tr>\n",
       "  </thead>\n",
       "  <tbody>\n",
       "    <tr>\n",
       "      <th>0</th>\n",
       "      <td>0.932667</td>\n",
       "      <td>0.925333</td>\n",
       "      <td>0.902667</td>\n",
       "      <td>0.904</td>\n",
       "      <td>0.904</td>\n",
       "      <td>0.904</td>\n",
       "    </tr>\n",
       "  </tbody>\n",
       "</table>\n",
       "</div>"
      ],
      "text/plain": [
       "    0.001     0.010     0.100    1.000    10.000   100.000\n",
       "0  0.932667  0.925333  0.902667    0.904    0.904    0.904"
      ]
     },
     "execution_count": 113,
     "metadata": {},
     "output_type": "execute_result"
    }
   ],
   "source": [
    "# acc\n",
    "acc_table_lasso.T"
   ]
  },
  {
   "cell_type": "markdown",
   "metadata": {},
   "source": [
    "### Ridge"
   ]
  },
  {
   "cell_type": "code",
   "execution_count": 114,
   "metadata": {},
   "outputs": [],
   "source": [
    "data = []\n",
    "acc_table = []\n",
    "for i, a in enumerate(alpha):\n",
    "    ridge = Ridge(alpha=a).fit(train_x, train_y)\n",
    "    data.append(pd.Series(np.hstack([ridge.intercept_, ridge.coef_])))\n",
    "    pred_y = ridge.predict(test_x) # full model\n",
    "    pred_y = cut_off(pred_y, 0.5)\n",
    "    cfmat = confusion_matrix(test_y, pred_y)\n",
    "    acc_table.append(acc(cfmat))\n",
    "    \n",
    "df_ridge = pd.DataFrame(data, index=alpha)\n",
    "df_ridge\n",
    "acc_table_ridge = pd.DataFrame(acc_table, index=alpha)"
   ]
  },
  {
   "cell_type": "code",
   "execution_count": 116,
   "metadata": {},
   "outputs": [
    {
     "data": {
      "text/html": [
       "<div>\n",
       "<style scoped>\n",
       "    .dataframe tbody tr th:only-of-type {\n",
       "        vertical-align: middle;\n",
       "    }\n",
       "\n",
       "    .dataframe tbody tr th {\n",
       "        vertical-align: top;\n",
       "    }\n",
       "\n",
       "    .dataframe thead th {\n",
       "        text-align: right;\n",
       "    }\n",
       "</style>\n",
       "<table border=\"1\" class=\"dataframe\">\n",
       "  <thead>\n",
       "    <tr style=\"text-align: right;\">\n",
       "      <th></th>\n",
       "      <th>0.001</th>\n",
       "      <th>0.010</th>\n",
       "      <th>0.100</th>\n",
       "      <th>1.000</th>\n",
       "      <th>10.000</th>\n",
       "      <th>100.000</th>\n",
       "    </tr>\n",
       "  </thead>\n",
       "  <tbody>\n",
       "    <tr>\n",
       "      <th>0</th>\n",
       "      <td>-0.218793</td>\n",
       "      <td>-0.218797</td>\n",
       "      <td>-0.218833</td>\n",
       "      <td>-0.219192</td>\n",
       "      <td>-0.222594</td>\n",
       "      <td>-0.245874</td>\n",
       "    </tr>\n",
       "    <tr>\n",
       "      <th>1</th>\n",
       "      <td>-0.005684</td>\n",
       "      <td>-0.005684</td>\n",
       "      <td>-0.005684</td>\n",
       "      <td>-0.005685</td>\n",
       "      <td>-0.005687</td>\n",
       "      <td>-0.005388</td>\n",
       "    </tr>\n",
       "    <tr>\n",
       "      <th>2</th>\n",
       "      <td>0.012817</td>\n",
       "      <td>0.012817</td>\n",
       "      <td>0.012819</td>\n",
       "      <td>0.012829</td>\n",
       "      <td>0.012929</td>\n",
       "      <td>0.013432</td>\n",
       "    </tr>\n",
       "    <tr>\n",
       "      <th>3</th>\n",
       "      <td>0.340392</td>\n",
       "      <td>0.340370</td>\n",
       "      <td>0.340150</td>\n",
       "      <td>0.337964</td>\n",
       "      <td>0.317616</td>\n",
       "      <td>0.200304</td>\n",
       "    </tr>\n",
       "    <tr>\n",
       "      <th>4</th>\n",
       "      <td>-0.047897</td>\n",
       "      <td>-0.047893</td>\n",
       "      <td>-0.047853</td>\n",
       "      <td>-0.047458</td>\n",
       "      <td>-0.043794</td>\n",
       "      <td>-0.023225</td>\n",
       "    </tr>\n",
       "    <tr>\n",
       "      <th>5</th>\n",
       "      <td>0.077571</td>\n",
       "      <td>0.077571</td>\n",
       "      <td>0.077572</td>\n",
       "      <td>0.077583</td>\n",
       "      <td>0.077663</td>\n",
       "      <td>0.076784</td>\n",
       "    </tr>\n",
       "    <tr>\n",
       "      <th>6</th>\n",
       "      <td>0.005697</td>\n",
       "      <td>0.005697</td>\n",
       "      <td>0.005697</td>\n",
       "      <td>0.005699</td>\n",
       "      <td>0.005706</td>\n",
       "      <td>0.005435</td>\n",
       "    </tr>\n",
       "    <tr>\n",
       "      <th>7</th>\n",
       "      <td>0.033964</td>\n",
       "      <td>0.033964</td>\n",
       "      <td>0.033965</td>\n",
       "      <td>0.033969</td>\n",
       "      <td>0.034004</td>\n",
       "      <td>0.033973</td>\n",
       "    </tr>\n",
       "    <tr>\n",
       "      <th>8</th>\n",
       "      <td>0.002905</td>\n",
       "      <td>0.002905</td>\n",
       "      <td>0.002905</td>\n",
       "      <td>0.002906</td>\n",
       "      <td>0.002922</td>\n",
       "      <td>0.003007</td>\n",
       "    </tr>\n",
       "    <tr>\n",
       "      <th>9</th>\n",
       "      <td>0.000082</td>\n",
       "      <td>0.000082</td>\n",
       "      <td>0.000082</td>\n",
       "      <td>0.000083</td>\n",
       "      <td>0.000086</td>\n",
       "      <td>0.000105</td>\n",
       "    </tr>\n",
       "    <tr>\n",
       "      <th>10</th>\n",
       "      <td>-0.021824</td>\n",
       "      <td>-0.021822</td>\n",
       "      <td>-0.021802</td>\n",
       "      <td>-0.021603</td>\n",
       "      <td>-0.019758</td>\n",
       "      <td>-0.009424</td>\n",
       "    </tr>\n",
       "    <tr>\n",
       "      <th>11</th>\n",
       "      <td>-0.065024</td>\n",
       "      <td>-0.065017</td>\n",
       "      <td>-0.064941</td>\n",
       "      <td>-0.064193</td>\n",
       "      <td>-0.057316</td>\n",
       "      <td>-0.021801</td>\n",
       "    </tr>\n",
       "  </tbody>\n",
       "</table>\n",
       "</div>"
      ],
      "text/plain": [
       "     0.001     0.010     0.100     1.000     10.000    100.000\n",
       "0  -0.218793 -0.218797 -0.218833 -0.219192 -0.222594 -0.245874\n",
       "1  -0.005684 -0.005684 -0.005684 -0.005685 -0.005687 -0.005388\n",
       "2   0.012817  0.012817  0.012819  0.012829  0.012929  0.013432\n",
       "3   0.340392  0.340370  0.340150  0.337964  0.317616  0.200304\n",
       "4  -0.047897 -0.047893 -0.047853 -0.047458 -0.043794 -0.023225\n",
       "5   0.077571  0.077571  0.077572  0.077583  0.077663  0.076784\n",
       "6   0.005697  0.005697  0.005697  0.005699  0.005706  0.005435\n",
       "7   0.033964  0.033964  0.033965  0.033969  0.034004  0.033973\n",
       "8   0.002905  0.002905  0.002905  0.002906  0.002922  0.003007\n",
       "9   0.000082  0.000082  0.000082  0.000083  0.000086  0.000105\n",
       "10 -0.021824 -0.021822 -0.021802 -0.021603 -0.019758 -0.009424\n",
       "11 -0.065024 -0.065017 -0.064941 -0.064193 -0.057316 -0.021801"
      ]
     },
     "execution_count": 116,
     "metadata": {},
     "output_type": "execute_result"
    }
   ],
   "source": [
    "df_ridge.T"
   ]
  },
  {
   "cell_type": "code",
   "execution_count": 117,
   "metadata": {},
   "outputs": [
    {
     "data": {
      "text/html": [
       "<div>\n",
       "<style scoped>\n",
       "    .dataframe tbody tr th:only-of-type {\n",
       "        vertical-align: middle;\n",
       "    }\n",
       "\n",
       "    .dataframe tbody tr th {\n",
       "        vertical-align: top;\n",
       "    }\n",
       "\n",
       "    .dataframe thead th {\n",
       "        text-align: right;\n",
       "    }\n",
       "</style>\n",
       "<table border=\"1\" class=\"dataframe\">\n",
       "  <thead>\n",
       "    <tr style=\"text-align: right;\">\n",
       "      <th></th>\n",
       "      <th>0.001</th>\n",
       "      <th>0.010</th>\n",
       "      <th>0.100</th>\n",
       "      <th>1.000</th>\n",
       "      <th>10.000</th>\n",
       "      <th>100.000</th>\n",
       "    </tr>\n",
       "  </thead>\n",
       "  <tbody>\n",
       "    <tr>\n",
       "      <th>0</th>\n",
       "      <td>0.934</td>\n",
       "      <td>0.934</td>\n",
       "      <td>0.934667</td>\n",
       "      <td>0.934667</td>\n",
       "      <td>0.933333</td>\n",
       "      <td>0.930667</td>\n",
       "    </tr>\n",
       "  </tbody>\n",
       "</table>\n",
       "</div>"
      ],
      "text/plain": [
       "   0.001    0.010     0.100     1.000     10.000    100.000\n",
       "0    0.934    0.934  0.934667  0.934667  0.933333  0.930667"
      ]
     },
     "execution_count": 117,
     "metadata": {},
     "output_type": "execute_result"
    }
   ],
   "source": [
    "acc_table_ridge.T"
   ]
  },
  {
   "cell_type": "markdown",
   "metadata": {},
   "source": [
    "### lambda 값의 변화에 따른 회귀계수 축소 시각화"
   ]
  },
  {
   "cell_type": "code",
   "execution_count": 119,
   "metadata": {},
   "outputs": [
    {
     "data": {
      "image/png": "[encoded data removed]",
      "text/plain": [
       "<Figure size 432x288 with 2 Axes>"
      ]
     },
     "metadata": {
      "needs_background": "light"
     },
     "output_type": "display_data"
    }
   ],
   "source": [
    "import matplotlib.pyplot as plt\n",
    "ax1 = plt.subplot(121)\n",
    "plt.semilogx(df_ridge)\n",
    "plt.xticks(alpha)\n",
    "plt.title('Ridge')\n",
    "\n",
    "ax2 = plt.subplot(122)\n",
    "plt.semilogx(df_lasso)\n",
    "plt.xticks(alpha)\n",
    "plt.title('Lasso')\n",
    "\n",
    "plt.show()"
   ]
  },
  {
   "cell_type": "markdown",
   "metadata": {},
   "source": [
    "- p 밸류가 높은 변수를 제거한 모델, 변수선택법을 통해 선택한 모델을 사용.\n",
    "- Ridge와 Lasso를 쓰기에는 lambda값에 따라 변화가 너무 심함.\n",
    "- 좋았다고 생각헀던 변수가 0으로 가버리는 현상 발생.\n",
    "- 좋지않았다고 생각했던 변수가 0으로 가지않는 현상 발생.\n",
    "\n",
    "    > 이에 따라, 원래 사용하던 Logistic Regression을 사용하는 것이 옳다."
   ]
  },
  {
   "cell_type": "code",
   "execution_count": null,
   "metadata": {},
   "outputs": [],
   "source": []
  }
 ],
 "metadata": {
  "kernelspec": {
   "display_name": "Python 3",
   "language": "python",
   "name": "python3"
  },
  "language_info": {
   "codemirror_mode": {
    "name": "ipython",
    "version": 3
   },
   "file_extension": ".py",
   "mimetype": "text/x-python",
   "name": "python",
   "nbconvert_exporter": "python",
   "pygments_lexer": "ipython3",
   "version": "3.8.5"
  }
 },
 "nbformat": 4,
 "nbformat_minor": 4
}
