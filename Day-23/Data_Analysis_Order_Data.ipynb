{
 "cells": [
  {
   "cell_type": "markdown",
   "metadata": {},
   "source": [
    "# 가상 쇼핑몰 고객 주문 데이터 확인하기"
   ]
  },
  {
   "cell_type": "markdown",
   "metadata": {},
   "source": [
    "- 현재 상황(데이터로 부터) 파악\n",
    "- 모델 수립 혹은 목표 설정"
   ]
  },
  {
   "cell_type": "markdown",
   "metadata": {},
   "source": [
    "### 데이터 셋\n",
    "- 온라인 리테일 사이트의 2010/12 - 2011/12 간의 주문 기록 데이터\n",
    "- 약 500,000건의 데이터\n",
    "- 데이터 출처 : UCI Machine Learning Repository"
   ]
  },
  {
   "cell_type": "code",
   "execution_count": 82,
   "metadata": {},
   "outputs": [],
   "source": [
    "import numpy as np\n",
    "import pandas as pd\n",
    "import matplotlib.pyplot as plt\n",
    "from datetime import datetime"
   ]
  },
  {
   "cell_type": "code",
   "execution_count": 47,
   "metadata": {},
   "outputs": [
    {
     "data": {
      "text/html": [
       "<div>\n",
       "<style scoped>\n",
       "    .dataframe tbody tr th:only-of-type {\n",
       "        vertical-align: middle;\n",
       "    }\n",
       "\n",
       "    .dataframe tbody tr th {\n",
       "        vertical-align: top;\n",
       "    }\n",
       "\n",
       "    .dataframe thead th {\n",
       "        text-align: right;\n",
       "    }\n",
       "</style>\n",
       "<table border=\"1\" class=\"dataframe\">\n",
       "  <thead>\n",
       "    <tr style=\"text-align: right;\">\n",
       "      <th></th>\n",
       "      <th>InvoiceNo</th>\n",
       "      <th>StockCode</th>\n",
       "      <th>Description</th>\n",
       "      <th>Quantity</th>\n",
       "      <th>InvoiceDate</th>\n",
       "      <th>UnitPrice</th>\n",
       "      <th>CustomerID</th>\n",
       "      <th>Country</th>\n",
       "    </tr>\n",
       "  </thead>\n",
       "  <tbody>\n",
       "    <tr>\n",
       "      <th>0</th>\n",
       "      <td>536365</td>\n",
       "      <td>85123A</td>\n",
       "      <td>WHITE HANGING HEART T-LIGHT HOLDER</td>\n",
       "      <td>6</td>\n",
       "      <td>12/1/2010 8:26</td>\n",
       "      <td>2.55</td>\n",
       "      <td>17850.0</td>\n",
       "      <td>United Kingdom</td>\n",
       "    </tr>\n",
       "    <tr>\n",
       "      <th>1</th>\n",
       "      <td>536365</td>\n",
       "      <td>71053</td>\n",
       "      <td>WHITE METAL LANTERN</td>\n",
       "      <td>6</td>\n",
       "      <td>12/1/2010 8:26</td>\n",
       "      <td>3.39</td>\n",
       "      <td>17850.0</td>\n",
       "      <td>United Kingdom</td>\n",
       "    </tr>\n",
       "    <tr>\n",
       "      <th>2</th>\n",
       "      <td>536365</td>\n",
       "      <td>84406B</td>\n",
       "      <td>CREAM CUPID HEARTS COAT HANGER</td>\n",
       "      <td>8</td>\n",
       "      <td>12/1/2010 8:26</td>\n",
       "      <td>2.75</td>\n",
       "      <td>17850.0</td>\n",
       "      <td>United Kingdom</td>\n",
       "    </tr>\n",
       "    <tr>\n",
       "      <th>3</th>\n",
       "      <td>536365</td>\n",
       "      <td>84029G</td>\n",
       "      <td>KNITTED UNION FLAG HOT WATER BOTTLE</td>\n",
       "      <td>6</td>\n",
       "      <td>12/1/2010 8:26</td>\n",
       "      <td>3.39</td>\n",
       "      <td>17850.0</td>\n",
       "      <td>United Kingdom</td>\n",
       "    </tr>\n",
       "    <tr>\n",
       "      <th>4</th>\n",
       "      <td>536365</td>\n",
       "      <td>84029E</td>\n",
       "      <td>RED WOOLLY HOTTIE WHITE HEART.</td>\n",
       "      <td>6</td>\n",
       "      <td>12/1/2010 8:26</td>\n",
       "      <td>3.39</td>\n",
       "      <td>17850.0</td>\n",
       "      <td>United Kingdom</td>\n",
       "    </tr>\n",
       "  </tbody>\n",
       "</table>\n",
       "</div>"
      ],
      "text/plain": [
       "  InvoiceNo StockCode                          Description  Quantity  \\\n",
       "0    536365    85123A   WHITE HANGING HEART T-LIGHT HOLDER         6   \n",
       "1    536365     71053                  WHITE METAL LANTERN         6   \n",
       "2    536365    84406B       CREAM CUPID HEARTS COAT HANGER         8   \n",
       "3    536365    84029G  KNITTED UNION FLAG HOT WATER BOTTLE         6   \n",
       "4    536365    84029E       RED WOOLLY HOTTIE WHITE HEART.         6   \n",
       "\n",
       "      InvoiceDate  UnitPrice  CustomerID         Country  \n",
       "0  12/1/2010 8:26       2.55     17850.0  United Kingdom  \n",
       "1  12/1/2010 8:26       3.39     17850.0  United Kingdom  \n",
       "2  12/1/2010 8:26       2.75     17850.0  United Kingdom  \n",
       "3  12/1/2010 8:26       3.39     17850.0  United Kingdom  \n",
       "4  12/1/2010 8:26       3.39     17850.0  United Kingdom  "
      ]
     },
     "execution_count": 47,
     "metadata": {},
     "output_type": "execute_result"
    }
   ],
   "source": [
    "retail = pd.read_csv('./data/OnlineRetail.csv', encoding='unicode_escape')\n",
    "retail.head()"
   ]
  },
  {
   "cell_type": "markdown",
   "metadata": {},
   "source": [
    "### 컬럼 확인하기\n",
    "- column 속성으로 확인\n",
    "- 컬럼\n",
    "    - invoiceNo : 주문번호\n",
    "    - StockCode : 아이템 아이디\n",
    "    - Description : 상품 설명\n",
    "    - Quantity : 상품 주문 수량\n",
    "    - InvoiceDate : 주문 시각\n",
    "    - UnitPrice : 상품 가격(동일한 통화)\n",
    "    - CustomerID : 고객 아이디\n",
    "    - Country : 고객 거주 지역(국가)"
   ]
  },
  {
   "cell_type": "code",
   "execution_count": 48,
   "metadata": {},
   "outputs": [
    {
     "data": {
      "text/plain": [
       "Index(['InvoiceNo', 'StockCode', 'Description', 'Quantity', 'InvoiceDate',\n",
       "       'UnitPrice', 'CustomerID', 'Country'],\n",
       "      dtype='object')"
      ]
     },
     "execution_count": 48,
     "metadata": {},
     "output_type": "execute_result"
    }
   ],
   "source": [
    "retail.columns"
   ]
  },
  {
   "cell_type": "markdown",
   "metadata": {},
   "source": [
    "### 데이터 살펴보기\n",
    "1. 데이터 분석의 가장 첫 단계\n",
    "2. 데이터를 대략적으로 파악 가능(타입, 저장된 형태)\n",
    "3. 데이터 cleansing 전략 수립"
   ]
  },
  {
   "cell_type": "code",
   "execution_count": 49,
   "metadata": {},
   "outputs": [
    {
     "name": "stdout",
     "output_type": "stream",
     "text": [
      "<class 'pandas.core.frame.DataFrame'>\n",
      "RangeIndex: 541909 entries, 0 to 541908\n",
      "Data columns (total 8 columns):\n",
      " #   Column       Non-Null Count   Dtype  \n",
      "---  ------       --------------   -----  \n",
      " 0   InvoiceNo    541909 non-null  object \n",
      " 1   StockCode    541909 non-null  object \n",
      " 2   Description  540455 non-null  object \n",
      " 3   Quantity     541909 non-null  int64  \n",
      " 4   InvoiceDate  541909 non-null  object \n",
      " 5   UnitPrice    541909 non-null  float64\n",
      " 6   CustomerID   406829 non-null  float64\n",
      " 7   Country      541909 non-null  object \n",
      "dtypes: float64(2), int64(1), object(5)\n",
      "memory usage: 33.1+ MB\n"
     ]
    }
   ],
   "source": [
    "retail.info()"
   ]
  },
  {
   "cell_type": "markdown",
   "metadata": {},
   "source": [
    "### Data cleansing\n",
    "- null 데이터 처리\n",
    "    - Customer ID\n",
    "- Business 로직에 맞지 않은 데이터 처리\n",
    "    - 음수의 아이템 수량\n",
    "    - 가격이 0원"
   ]
  },
  {
   "cell_type": "code",
   "execution_count": 50,
   "metadata": {},
   "outputs": [
    {
     "data": {
      "text/plain": [
       "InvoiceNo           0\n",
       "StockCode           0\n",
       "Description      1454\n",
       "Quantity            0\n",
       "InvoiceDate         0\n",
       "UnitPrice           0\n",
       "CustomerID     135080\n",
       "Country             0\n",
       "dtype: int64"
      ]
     },
     "execution_count": 50,
     "metadata": {},
     "output_type": "execute_result"
    }
   ],
   "source": [
    "retail.isnull().sum()"
   ]
  },
  {
   "cell_type": "markdown",
   "metadata": {},
   "source": [
    "### null customerID 제거"
   ]
  },
  {
   "cell_type": "code",
   "execution_count": 51,
   "metadata": {},
   "outputs": [
    {
     "data": {
      "text/plain": [
       "406829"
      ]
     },
     "execution_count": 51,
     "metadata": {},
     "output_type": "execute_result"
    }
   ],
   "source": [
    "retail = retail[pd.notnull(retail['CustomerID'])]\n",
    "len(retail)"
   ]
  },
  {
   "cell_type": "markdown",
   "metadata": {},
   "source": [
    "### 비지니스 로직에 맞지 않은 데이터 제거\n",
    "- 수량, 가격 > 0"
   ]
  },
  {
   "cell_type": "code",
   "execution_count": 52,
   "metadata": {},
   "outputs": [
    {
     "data": {
      "text/plain": [
       "397884"
      ]
     },
     "execution_count": 52,
     "metadata": {},
     "output_type": "execute_result"
    }
   ],
   "source": [
    "retail = retail[retail['Quantity'] > 0]\n",
    "retail = retail[retail['UnitPrice'] > 0]\n",
    "\n",
    "len(retail)"
   ]
  },
  {
   "cell_type": "code",
   "execution_count": 53,
   "metadata": {},
   "outputs": [
    {
     "name": "stdout",
     "output_type": "stream",
     "text": [
      "<class 'pandas.core.frame.DataFrame'>\n",
      "Int64Index: 397884 entries, 0 to 541908\n",
      "Data columns (total 8 columns):\n",
      " #   Column       Non-Null Count   Dtype  \n",
      "---  ------       --------------   -----  \n",
      " 0   InvoiceNo    397884 non-null  object \n",
      " 1   StockCode    397884 non-null  object \n",
      " 2   Description  397884 non-null  object \n",
      " 3   Quantity     397884 non-null  int64  \n",
      " 4   InvoiceDate  397884 non-null  object \n",
      " 5   UnitPrice    397884 non-null  float64\n",
      " 6   CustomerID   397884 non-null  float64\n",
      " 7   Country      397884 non-null  object \n",
      "dtypes: float64(2), int64(1), object(5)\n",
      "memory usage: 27.3+ MB\n"
     ]
    }
   ],
   "source": [
    "retail.info()"
   ]
  },
  {
   "cell_type": "markdown",
   "metadata": {},
   "source": [
    "### 데이터 타입 변경\n",
    "- 메모리 효율화\n",
    "- 올바른 데이터 타입 매칭"
   ]
  },
  {
   "cell_type": "code",
   "execution_count": 54,
   "metadata": {},
   "outputs": [
    {
     "name": "stdout",
     "output_type": "stream",
     "text": [
      "<class 'pandas.core.frame.DataFrame'>\n",
      "Int64Index: 397884 entries, 0 to 541908\n",
      "Data columns (total 8 columns):\n",
      " #   Column       Non-Null Count   Dtype  \n",
      "---  ------       --------------   -----  \n",
      " 0   InvoiceNo    397884 non-null  object \n",
      " 1   StockCode    397884 non-null  object \n",
      " 2   Description  397884 non-null  object \n",
      " 3   Quantity     397884 non-null  int64  \n",
      " 4   InvoiceDate  397884 non-null  object \n",
      " 5   UnitPrice    397884 non-null  float64\n",
      " 6   CustomerID   397884 non-null  int32  \n",
      " 7   Country      397884 non-null  object \n",
      "dtypes: float64(1), int32(1), int64(1), object(5)\n",
      "memory usage: 25.8+ MB\n"
     ]
    }
   ],
   "source": [
    "retail['CustomerID'] = retail['CustomerID'].astype(np.int32)\n",
    "retail.info()"
   ]
  },
  {
   "cell_type": "markdown",
   "metadata": {},
   "source": [
    "### 새로운 컬럼 추가\n",
    "- Quantity * UnitPrice는 고객의 총 지출 비용(Checkout Price)"
   ]
  },
  {
   "cell_type": "code",
   "execution_count": 55,
   "metadata": {},
   "outputs": [
    {
     "data": {
      "text/html": [
       "<div>\n",
       "<style scoped>\n",
       "    .dataframe tbody tr th:only-of-type {\n",
       "        vertical-align: middle;\n",
       "    }\n",
       "\n",
       "    .dataframe tbody tr th {\n",
       "        vertical-align: top;\n",
       "    }\n",
       "\n",
       "    .dataframe thead th {\n",
       "        text-align: right;\n",
       "    }\n",
       "</style>\n",
       "<table border=\"1\" class=\"dataframe\">\n",
       "  <thead>\n",
       "    <tr style=\"text-align: right;\">\n",
       "      <th></th>\n",
       "      <th>InvoiceNo</th>\n",
       "      <th>StockCode</th>\n",
       "      <th>Description</th>\n",
       "      <th>Quantity</th>\n",
       "      <th>InvoiceDate</th>\n",
       "      <th>UnitPrice</th>\n",
       "      <th>CustomerID</th>\n",
       "      <th>Country</th>\n",
       "      <th>CheckoutPrice</th>\n",
       "    </tr>\n",
       "  </thead>\n",
       "  <tbody>\n",
       "    <tr>\n",
       "      <th>0</th>\n",
       "      <td>536365</td>\n",
       "      <td>85123A</td>\n",
       "      <td>WHITE HANGING HEART T-LIGHT HOLDER</td>\n",
       "      <td>6</td>\n",
       "      <td>12/1/2010 8:26</td>\n",
       "      <td>2.55</td>\n",
       "      <td>17850</td>\n",
       "      <td>United Kingdom</td>\n",
       "      <td>15.30</td>\n",
       "    </tr>\n",
       "    <tr>\n",
       "      <th>1</th>\n",
       "      <td>536365</td>\n",
       "      <td>71053</td>\n",
       "      <td>WHITE METAL LANTERN</td>\n",
       "      <td>6</td>\n",
       "      <td>12/1/2010 8:26</td>\n",
       "      <td>3.39</td>\n",
       "      <td>17850</td>\n",
       "      <td>United Kingdom</td>\n",
       "      <td>20.34</td>\n",
       "    </tr>\n",
       "    <tr>\n",
       "      <th>2</th>\n",
       "      <td>536365</td>\n",
       "      <td>84406B</td>\n",
       "      <td>CREAM CUPID HEARTS COAT HANGER</td>\n",
       "      <td>8</td>\n",
       "      <td>12/1/2010 8:26</td>\n",
       "      <td>2.75</td>\n",
       "      <td>17850</td>\n",
       "      <td>United Kingdom</td>\n",
       "      <td>22.00</td>\n",
       "    </tr>\n",
       "    <tr>\n",
       "      <th>3</th>\n",
       "      <td>536365</td>\n",
       "      <td>84029G</td>\n",
       "      <td>KNITTED UNION FLAG HOT WATER BOTTLE</td>\n",
       "      <td>6</td>\n",
       "      <td>12/1/2010 8:26</td>\n",
       "      <td>3.39</td>\n",
       "      <td>17850</td>\n",
       "      <td>United Kingdom</td>\n",
       "      <td>20.34</td>\n",
       "    </tr>\n",
       "    <tr>\n",
       "      <th>4</th>\n",
       "      <td>536365</td>\n",
       "      <td>84029E</td>\n",
       "      <td>RED WOOLLY HOTTIE WHITE HEART.</td>\n",
       "      <td>6</td>\n",
       "      <td>12/1/2010 8:26</td>\n",
       "      <td>3.39</td>\n",
       "      <td>17850</td>\n",
       "      <td>United Kingdom</td>\n",
       "      <td>20.34</td>\n",
       "    </tr>\n",
       "  </tbody>\n",
       "</table>\n",
       "</div>"
      ],
      "text/plain": [
       "  InvoiceNo StockCode                          Description  Quantity  \\\n",
       "0    536365    85123A   WHITE HANGING HEART T-LIGHT HOLDER         6   \n",
       "1    536365     71053                  WHITE METAL LANTERN         6   \n",
       "2    536365    84406B       CREAM CUPID HEARTS COAT HANGER         8   \n",
       "3    536365    84029G  KNITTED UNION FLAG HOT WATER BOTTLE         6   \n",
       "4    536365    84029E       RED WOOLLY HOTTIE WHITE HEART.         6   \n",
       "\n",
       "      InvoiceDate  UnitPrice  CustomerID         Country  CheckoutPrice  \n",
       "0  12/1/2010 8:26       2.55       17850  United Kingdom          15.30  \n",
       "1  12/1/2010 8:26       3.39       17850  United Kingdom          20.34  \n",
       "2  12/1/2010 8:26       2.75       17850  United Kingdom          22.00  \n",
       "3  12/1/2010 8:26       3.39       17850  United Kingdom          20.34  \n",
       "4  12/1/2010 8:26       3.39       17850  United Kingdom          20.34  "
      ]
     },
     "execution_count": 55,
     "metadata": {},
     "output_type": "execute_result"
    }
   ],
   "source": [
    "retail['CheckoutPrice'] = retail['UnitPrice'] * retail['Quantity']\n",
    "retail.head()"
   ]
  },
  {
   "cell_type": "markdown",
   "metadata": {},
   "source": [
    "### 정제 데이터 저장"
   ]
  },
  {
   "cell_type": "code",
   "execution_count": 56,
   "metadata": {},
   "outputs": [],
   "source": [
    "retail.to_csv('./data/OnlineRetail_Clean.csv')"
   ]
  },
  {
   "cell_type": "markdown",
   "metadata": {},
   "source": [
    "### 미니 프로젝트를 통한 데이터 분석의 목표\n",
    "- 1. 매출 분석\n",
    "- 2. 고객 분석\n",
    "    - 우수고객 선별\n",
    "    - 고객 리텐션 분석\n",
    "- 3. push notification 실행 의사 결정하기"
   ]
  },
  {
   "cell_type": "markdown",
   "metadata": {},
   "source": [
    "### 학습 목표\n",
    "- 1. 아이템별 지표 확인하기\n",
    "- 2. 시간별 지역별 판매 지표 확인하기"
   ]
  },
  {
   "cell_type": "code",
   "execution_count": 57,
   "metadata": {},
   "outputs": [],
   "source": [
    "import seaborn as sns\n",
    "COLORS = sns.color_palette()\n",
    "\n",
    "%matplotlib inline"
   ]
  },
  {
   "cell_type": "markdown",
   "metadata": {},
   "source": [
    "### 데이터 로딩\n",
    "- 1. 정제된 데이터 사용(retail_clean.csv)"
   ]
  },
  {
   "cell_type": "code",
   "execution_count": 58,
   "metadata": {},
   "outputs": [
    {
     "data": {
      "text/html": [
       "<div>\n",
       "<style scoped>\n",
       "    .dataframe tbody tr th:only-of-type {\n",
       "        vertical-align: middle;\n",
       "    }\n",
       "\n",
       "    .dataframe tbody tr th {\n",
       "        vertical-align: top;\n",
       "    }\n",
       "\n",
       "    .dataframe thead th {\n",
       "        text-align: right;\n",
       "    }\n",
       "</style>\n",
       "<table border=\"1\" class=\"dataframe\">\n",
       "  <thead>\n",
       "    <tr style=\"text-align: right;\">\n",
       "      <th></th>\n",
       "      <th>Unnamed: 0</th>\n",
       "      <th>InvoiceNo</th>\n",
       "      <th>StockCode</th>\n",
       "      <th>Description</th>\n",
       "      <th>Quantity</th>\n",
       "      <th>InvoiceDate</th>\n",
       "      <th>UnitPrice</th>\n",
       "      <th>CustomerID</th>\n",
       "      <th>Country</th>\n",
       "      <th>CheckoutPrice</th>\n",
       "    </tr>\n",
       "  </thead>\n",
       "  <tbody>\n",
       "    <tr>\n",
       "      <th>0</th>\n",
       "      <td>0</td>\n",
       "      <td>536365</td>\n",
       "      <td>85123A</td>\n",
       "      <td>WHITE HANGING HEART T-LIGHT HOLDER</td>\n",
       "      <td>6</td>\n",
       "      <td>12/1/2010 8:26</td>\n",
       "      <td>2.55</td>\n",
       "      <td>17850</td>\n",
       "      <td>United Kingdom</td>\n",
       "      <td>15.30</td>\n",
       "    </tr>\n",
       "    <tr>\n",
       "      <th>1</th>\n",
       "      <td>1</td>\n",
       "      <td>536365</td>\n",
       "      <td>71053</td>\n",
       "      <td>WHITE METAL LANTERN</td>\n",
       "      <td>6</td>\n",
       "      <td>12/1/2010 8:26</td>\n",
       "      <td>3.39</td>\n",
       "      <td>17850</td>\n",
       "      <td>United Kingdom</td>\n",
       "      <td>20.34</td>\n",
       "    </tr>\n",
       "    <tr>\n",
       "      <th>2</th>\n",
       "      <td>2</td>\n",
       "      <td>536365</td>\n",
       "      <td>84406B</td>\n",
       "      <td>CREAM CUPID HEARTS COAT HANGER</td>\n",
       "      <td>8</td>\n",
       "      <td>12/1/2010 8:26</td>\n",
       "      <td>2.75</td>\n",
       "      <td>17850</td>\n",
       "      <td>United Kingdom</td>\n",
       "      <td>22.00</td>\n",
       "    </tr>\n",
       "    <tr>\n",
       "      <th>3</th>\n",
       "      <td>3</td>\n",
       "      <td>536365</td>\n",
       "      <td>84029G</td>\n",
       "      <td>KNITTED UNION FLAG HOT WATER BOTTLE</td>\n",
       "      <td>6</td>\n",
       "      <td>12/1/2010 8:26</td>\n",
       "      <td>3.39</td>\n",
       "      <td>17850</td>\n",
       "      <td>United Kingdom</td>\n",
       "      <td>20.34</td>\n",
       "    </tr>\n",
       "    <tr>\n",
       "      <th>4</th>\n",
       "      <td>4</td>\n",
       "      <td>536365</td>\n",
       "      <td>84029E</td>\n",
       "      <td>RED WOOLLY HOTTIE WHITE HEART.</td>\n",
       "      <td>6</td>\n",
       "      <td>12/1/2010 8:26</td>\n",
       "      <td>3.39</td>\n",
       "      <td>17850</td>\n",
       "      <td>United Kingdom</td>\n",
       "      <td>20.34</td>\n",
       "    </tr>\n",
       "  </tbody>\n",
       "</table>\n",
       "</div>"
      ],
      "text/plain": [
       "   Unnamed: 0  InvoiceNo StockCode                          Description  \\\n",
       "0           0     536365    85123A   WHITE HANGING HEART T-LIGHT HOLDER   \n",
       "1           1     536365     71053                  WHITE METAL LANTERN   \n",
       "2           2     536365    84406B       CREAM CUPID HEARTS COAT HANGER   \n",
       "3           3     536365    84029G  KNITTED UNION FLAG HOT WATER BOTTLE   \n",
       "4           4     536365    84029E       RED WOOLLY HOTTIE WHITE HEART.   \n",
       "\n",
       "   Quantity     InvoiceDate  UnitPrice  CustomerID         Country  \\\n",
       "0         6  12/1/2010 8:26       2.55       17850  United Kingdom   \n",
       "1         6  12/1/2010 8:26       3.39       17850  United Kingdom   \n",
       "2         8  12/1/2010 8:26       2.75       17850  United Kingdom   \n",
       "3         6  12/1/2010 8:26       3.39       17850  United Kingdom   \n",
       "4         6  12/1/2010 8:26       3.39       17850  United Kingdom   \n",
       "\n",
       "   CheckoutPrice  \n",
       "0          15.30  \n",
       "1          20.34  \n",
       "2          22.00  \n",
       "3          20.34  \n",
       "4          20.34  "
      ]
     },
     "execution_count": 58,
     "metadata": {},
     "output_type": "execute_result"
    }
   ],
   "source": [
    "dtypes = {\n",
    "    'UnitPrice': np.float32,\n",
    "    'CustomerID':np.int32,\n",
    "    'Quantity':np.int32\n",
    "}\n",
    "retail = pd.read_csv('./data/OnlineRetail_Clean.csv', dtype=dtypes)\n",
    "retail.head()"
   ]
  },
  {
   "cell_type": "markdown",
   "metadata": {},
   "source": [
    "### 날짜 타입 데이터 변환\n",
    "- 문자열로 로딩하는 것보다 data/datetime 타입으로 로딩하는 것이 분석에 용이"
   ]
  },
  {
   "cell_type": "code",
   "execution_count": 59,
   "metadata": {},
   "outputs": [
    {
     "name": "stdout",
     "output_type": "stream",
     "text": [
      "<class 'pandas.core.frame.DataFrame'>\n",
      "RangeIndex: 397884 entries, 0 to 397883\n",
      "Data columns (total 10 columns):\n",
      " #   Column         Non-Null Count   Dtype         \n",
      "---  ------         --------------   -----         \n",
      " 0   Unnamed: 0     397884 non-null  int64         \n",
      " 1   InvoiceNo      397884 non-null  int64         \n",
      " 2   StockCode      397884 non-null  object        \n",
      " 3   Description    397884 non-null  object        \n",
      " 4   Quantity       397884 non-null  int32         \n",
      " 5   InvoiceDate    397884 non-null  datetime64[ns]\n",
      " 6   UnitPrice      397884 non-null  float32       \n",
      " 7   CustomerID     397884 non-null  int32         \n",
      " 8   Country        397884 non-null  object        \n",
      " 9   CheckoutPrice  397884 non-null  float64       \n",
      "dtypes: datetime64[ns](1), float32(1), float64(1), int32(2), int64(2), object(3)\n",
      "memory usage: 25.8+ MB\n"
     ]
    }
   ],
   "source": [
    "retail['InvoiceDate'] = pd.to_datetime(retail['InvoiceDate'], infer_datetime_format=True)\n",
    "retail.info()"
   ]
  },
  {
   "cell_type": "markdown",
   "metadata": {},
   "source": [
    "### 해당 기간 동안의 매출\n",
    "- 전체 매출\n",
    "- 국가별 매출\n",
    "- 월별 매출\n",
    "- 요일별 매출\n",
    "- 시간별 매출"
   ]
  },
  {
   "cell_type": "markdown",
   "metadata": {},
   "source": [
    "### 전체 매출"
   ]
  },
  {
   "cell_type": "code",
   "execution_count": 60,
   "metadata": {},
   "outputs": [
    {
     "data": {
      "text/plain": [
       "8911407.904"
      ]
     },
     "execution_count": 60,
     "metadata": {},
     "output_type": "execute_result"
    }
   ],
   "source": [
    "total_revenue = retail['CheckoutPrice'].sum()\n",
    "total_revenue"
   ]
  },
  {
   "cell_type": "markdown",
   "metadata": {},
   "source": [
    "### 국가별 매출"
   ]
  },
  {
   "cell_type": "code",
   "execution_count": 61,
   "metadata": {},
   "outputs": [
    {
     "data": {
      "text/plain": [
       "Country\n",
       "Saudi Arabia            1.459200e+02\n",
       "Bahrain                 5.484000e+02\n",
       "Czech Republic          8.267400e+02\n",
       "RSA                     1.002310e+03\n",
       "Brazil                  1.143600e+03\n",
       "European Community      1.300250e+03\n",
       "Lithuania               1.661060e+03\n",
       "Lebanon                 1.693880e+03\n",
       "United Arab Emirates    1.902280e+03\n",
       "Unspecified             2.667070e+03\n",
       "Malta                   2.725590e+03\n",
       "USA                     3.580390e+03\n",
       "Canada                  3.666380e+03\n",
       "Iceland                 4.310000e+03\n",
       "Greece                  4.760520e+03\n",
       "Israel                  7.221690e+03\n",
       "Poland                  7.334650e+03\n",
       "Austria                 1.019868e+04\n",
       "Cyprus                  1.359038e+04\n",
       "Italy                   1.748324e+04\n",
       "Denmark                 1.895534e+04\n",
       "Channel Islands         2.045044e+04\n",
       "Singapore               2.127929e+04\n",
       "Finland                 2.254608e+04\n",
       "Portugal                3.343989e+04\n",
       "Norway                  3.616544e+04\n",
       "Japan                   3.741637e+04\n",
       "Sweden                  3.837833e+04\n",
       "Belgium                 4.119634e+04\n",
       "Switzerland             5.644395e+04\n",
       "Spain                   6.157711e+04\n",
       "Australia               1.385213e+05\n",
       "France                  2.090240e+05\n",
       "Germany                 2.288671e+05\n",
       "EIRE                    2.655459e+05\n",
       "Netherlands             2.854463e+05\n",
       "United Kingdom          7.308392e+06\n",
       "Name: CheckoutPrice, dtype: float64"
      ]
     },
     "execution_count": 61,
     "metadata": {},
     "output_type": "execute_result"
    }
   ],
   "source": [
    "rev_by_countries = retail.groupby('Country').sum()['CheckoutPrice'].sort_values()\n",
    "rev_by_countries"
   ]
  },
  {
   "cell_type": "code",
   "execution_count": 62,
   "metadata": {},
   "outputs": [
    {
     "data": {
      "image/png": "[encoded data removed]",
      "text/plain": [
       "<Figure size 1440x720 with 1 Axes>"
      ]
     },
     "metadata": {
      "needs_background": "light"
     },
     "output_type": "display_data"
    }
   ],
   "source": [
    "plot = rev_by_countries.plot(kind='bar', color=COLORS[-1], figsize=(20, 10))\n",
    "plot.set_xlabel('Country', fontsize=11)\n",
    "plot.set_ylabel('Revenue', fontsize=11)\n",
    "plot.set_title('Revenue by Country', fontsize=13)\n",
    "plot.set_xticklabels(labels=rev_by_countries.index, rotation=45);"
   ]
  },
  {
   "cell_type": "code",
   "execution_count": 63,
   "metadata": {},
   "outputs": [
    {
     "data": {
      "text/plain": [
       "Country\n",
       "Saudi Arabia            0.000016\n",
       "Bahrain                 0.000062\n",
       "Czech Republic          0.000093\n",
       "RSA                     0.000112\n",
       "Brazil                  0.000128\n",
       "European Community      0.000146\n",
       "Lithuania               0.000186\n",
       "Lebanon                 0.000190\n",
       "United Arab Emirates    0.000213\n",
       "Unspecified             0.000299\n",
       "Malta                   0.000306\n",
       "USA                     0.000402\n",
       "Canada                  0.000411\n",
       "Iceland                 0.000484\n",
       "Greece                  0.000534\n",
       "Israel                  0.000810\n",
       "Poland                  0.000823\n",
       "Austria                 0.001144\n",
       "Cyprus                  0.001525\n",
       "Italy                   0.001962\n",
       "Denmark                 0.002127\n",
       "Channel Islands         0.002295\n",
       "Singapore               0.002388\n",
       "Finland                 0.002530\n",
       "Portugal                0.003752\n",
       "Norway                  0.004058\n",
       "Japan                   0.004199\n",
       "Sweden                  0.004307\n",
       "Belgium                 0.004623\n",
       "Switzerland             0.006334\n",
       "Spain                   0.006910\n",
       "Australia               0.015544\n",
       "France                  0.023456\n",
       "Germany                 0.025682\n",
       "EIRE                    0.029798\n",
       "Netherlands             0.032032\n",
       "United Kingdom          0.820116\n",
       "Name: CheckoutPrice, dtype: float64"
      ]
     },
     "execution_count": 63,
     "metadata": {},
     "output_type": "execute_result"
    }
   ],
   "source": [
    "rev_by_countries / total_revenue"
   ]
  },
  {
   "cell_type": "markdown",
   "metadata": {},
   "source": [
    "- 국가별 매출 1위는 영국으로, 82%의 점유율을 갖고 있으며 2위인 네덜란드와 무려 79%의 격차를 보인다."
   ]
  },
  {
   "cell_type": "markdown",
   "metadata": {},
   "source": [
    "### 그래프 유틸 함수"
   ]
  },
  {
   "cell_type": "code",
   "execution_count": 64,
   "metadata": {},
   "outputs": [
    {
     "data": {
      "image/png": "[encoded data removed]",
      "text/plain": [
       "<Figure size 1440x720 with 1 Axes>"
      ]
     },
     "metadata": {
      "needs_background": "light"
     },
     "output_type": "display_data"
    }
   ],
   "source": [
    "def plot_bar(df, xlabel, ylabel, title, color=COLORS[0], figsize=(20, 10), rotation=45):\n",
    "    plot = df.plot(kind='bar', color=color, figsize=figsize)\n",
    "    plot.set_xlabel(xlabel, fontsize=11)\n",
    "    plot.set_ylabel(ylabel, fontsize=11)\n",
    "    plot.set_title(title, fontsize=13)\n",
    "    plot.set_xticklabels(labels=df.index, rotation=rotation);\n",
    "    \n",
    "plot_bar(rev_by_countries, 'Country', 'Revenue', 'Revenue by Country')"
   ]
  },
  {
   "cell_type": "markdown",
   "metadata": {},
   "source": [
    "### 월별 매출"
   ]
  },
  {
   "cell_type": "code",
   "execution_count": 65,
   "metadata": {},
   "outputs": [],
   "source": [
    "def extract_month(date):\n",
    "    month = str(date.month)\n",
    "    if date.month < 10:\n",
    "        month = '0' + month\n",
    "    return str(date.year) + month"
   ]
  },
  {
   "cell_type": "code",
   "execution_count": 66,
   "metadata": {},
   "outputs": [
    {
     "data": {
      "text/plain": [
       "201012     572713.890\n",
       "201101     569445.040\n",
       "201102     447137.350\n",
       "201103     595500.760\n",
       "201104     469200.361\n",
       "201105     678594.560\n",
       "201106     661213.690\n",
       "201107     600091.011\n",
       "201108     645343.900\n",
       "201109     952838.382\n",
       "201110    1039318.790\n",
       "201111    1161817.380\n",
       "201112     518192.790\n",
       "Name: CheckoutPrice, dtype: float64"
      ]
     },
     "execution_count": 66,
     "metadata": {},
     "output_type": "execute_result"
    }
   ],
   "source": [
    "rev_by_month = retail.set_index('InvoiceDate').groupby(extract_month).sum()['CheckoutPrice']\n",
    "rev_by_month"
   ]
  },
  {
   "cell_type": "code",
   "execution_count": 67,
   "metadata": {},
   "outputs": [
    {
     "data": {
      "image/png": "[encoded data removed]",
      "text/plain": [
       "<Figure size 1440x720 with 1 Axes>"
      ]
     },
     "metadata": {
      "needs_background": "light"
     },
     "output_type": "display_data"
    }
   ],
   "source": [
    "plot_bar(rev_by_month, 'Month', 'Revenue', 'Revenue by Month')"
   ]
  },
  {
   "cell_type": "markdown",
   "metadata": {},
   "source": [
    "### 요일별 매출"
   ]
  },
  {
   "cell_type": "code",
   "execution_count": 68,
   "metadata": {},
   "outputs": [
    {
     "data": {
      "text/plain": [
       "0    1367146.411\n",
       "1    1700634.631\n",
       "2    1588336.170\n",
       "3    1976859.070\n",
       "4    1485917.401\n",
       "6     792514.221\n",
       "Name: CheckoutPrice, dtype: float64"
      ]
     },
     "execution_count": 68,
     "metadata": {},
     "output_type": "execute_result"
    }
   ],
   "source": [
    "rev_by_dow = retail.set_index('InvoiceDate').groupby(lambda date:date.dayofweek).sum()['CheckoutPrice']\n",
    "rev_by_dow"
   ]
  },
  {
   "cell_type": "markdown",
   "metadata": {},
   "source": [
    "- 5번이 비어있음(토요일)"
   ]
  },
  {
   "cell_type": "code",
   "execution_count": 69,
   "metadata": {},
   "outputs": [
    {
     "data": {
      "image/png": "[encoded data removed]",
      "text/plain": [
       "<Figure size 1440x720 with 1 Axes>"
      ]
     },
     "metadata": {
      "needs_background": "light"
     },
     "output_type": "display_data"
    }
   ],
   "source": [
    "DAY_OF_WEEK = np.array(['Mon', 'Tue', 'Wed', 'Thur', 'Fri', 'Sat', 'Sun'])\n",
    "rev_by_dow.index = DAY_OF_WEEK[rev_by_dow.index]\n",
    "plot_bar(rev_by_dow, 'DOW', 'Revenue', 'Revenue by DOW')"
   ]
  },
  {
   "cell_type": "markdown",
   "metadata": {},
   "source": [
    "### 시간별 매출"
   ]
  },
  {
   "cell_type": "code",
   "execution_count": 70,
   "metadata": {},
   "outputs": [
    {
     "data": {
      "image/png": "[encoded data removed]",
      "text/plain": [
       "<Figure size 1440x720 with 1 Axes>"
      ]
     },
     "metadata": {
      "needs_background": "light"
     },
     "output_type": "display_data"
    }
   ],
   "source": [
    "rev_by_hour = retail.set_index('InvoiceDate').groupby(lambda date:date.hour).sum()['CheckoutPrice']\n",
    "plot_bar(rev_by_hour, 'hour', 'revenue', 'revenue by hour')"
   ]
  },
  {
   "cell_type": "markdown",
   "metadata": {},
   "source": [
    "#### 매출 데이터로부터 Insight\n",
    "- 전체 매출의 82%가 UK에서 발생\n",
    "- 11년도의 가장 많은 주문이 발생한 달 11월(12월의 전체 데이터가 반영이 되지는 않음.)\n",
    "- 11, 12월의 판매량이 압도(블랙프라이데이, 사이버먼데이, 크리스마스 휴일)\n",
    "- 일주일 중 목요일까지는 성장세를 보이다가, 이후로 하락(토요일에는 주문 x)\n",
    "- 7시를 시작으로 주문이 시작되어 12시까지 증가세, 15시까지 하락을, 15시 이후 급락"
   ]
  },
  {
   "cell_type": "markdown",
   "metadata": {},
   "source": [
    "### 제품별 metrics\n",
    "- Top 10 판매 제품\n",
    "- Top 10 매출 제품"
   ]
  },
  {
   "cell_type": "code",
   "execution_count": 74,
   "metadata": {},
   "outputs": [
    {
     "data": {
      "text/plain": [
       "StockCode\n",
       "23843    80995\n",
       "23166    77916\n",
       "84077    54415\n",
       "Name: Quantity, dtype: int32"
      ]
     },
     "execution_count": 74,
     "metadata": {},
     "output_type": "execute_result"
    }
   ],
   "source": [
    "top3_selling = retail.groupby('StockCode').sum()['Quantity'].sort_values(ascending=False)[:3]\n",
    "top3_selling"
   ]
  },
  {
   "cell_type": "code",
   "execution_count": 71,
   "metadata": {},
   "outputs": [
    {
     "data": {
      "text/plain": [
       "StockCode\n",
       "23843     80995\n",
       "23166     77916\n",
       "84077     54415\n",
       "22197     49183\n",
       "85099B    46181\n",
       "85123A    36782\n",
       "84879     35362\n",
       "21212     33693\n",
       "23084     27202\n",
       "22492     26076\n",
       "Name: Quantity, dtype: int32"
      ]
     },
     "execution_count": 71,
     "metadata": {},
     "output_type": "execute_result"
    }
   ],
   "source": [
    "top_selling = retail.groupby('StockCode').sum()['Quantity'].sort_values(ascending=False)[:10]\n",
    "top_selling"
   ]
  },
  {
   "cell_type": "code",
   "execution_count": 72,
   "metadata": {},
   "outputs": [
    {
     "data": {
      "text/plain": [
       "StockCode\n",
       "23843     168469.60\n",
       "22423     142592.95\n",
       "85123A    100603.50\n",
       "85099B     85220.78\n",
       "23166      81416.73\n",
       "POST       77803.96\n",
       "47566      68844.33\n",
       "84879      56580.34\n",
       "M          53779.93\n",
       "23084      51346.20\n",
       "Name: CheckoutPrice, dtype: float64"
      ]
     },
     "execution_count": 72,
     "metadata": {},
     "output_type": "execute_result"
    }
   ],
   "source": [
    "top_revenue = retail.groupby('StockCode').sum()['CheckoutPrice'].sort_values(ascending=False)[:10]\n",
    "top_revenue"
   ]
  },
  {
   "cell_type": "markdown",
   "metadata": {},
   "source": [
    "### top 3 아이템의 월별 판매량 추이"
   ]
  },
  {
   "cell_type": "code",
   "execution_count": 79,
   "metadata": {},
   "outputs": [
    {
     "data": {
      "text/html": [
       "<div>\n",
       "<style scoped>\n",
       "    .dataframe tbody tr th:only-of-type {\n",
       "        vertical-align: middle;\n",
       "    }\n",
       "\n",
       "    .dataframe tbody tr th {\n",
       "        vertical-align: top;\n",
       "    }\n",
       "\n",
       "    .dataframe thead th {\n",
       "        text-align: right;\n",
       "    }\n",
       "</style>\n",
       "<table border=\"1\" class=\"dataframe\">\n",
       "  <thead>\n",
       "    <tr style=\"text-align: right;\">\n",
       "      <th></th>\n",
       "      <th></th>\n",
       "      <th>Quantity</th>\n",
       "      <th>CheckoutPrice</th>\n",
       "    </tr>\n",
       "    <tr>\n",
       "      <th>StockCode</th>\n",
       "      <th></th>\n",
       "      <th></th>\n",
       "      <th></th>\n",
       "    </tr>\n",
       "  </thead>\n",
       "  <tbody>\n",
       "    <tr>\n",
       "      <th>23843</th>\n",
       "      <th>201112</th>\n",
       "      <td>80995</td>\n",
       "      <td>168469.60</td>\n",
       "    </tr>\n",
       "    <tr>\n",
       "      <th rowspan=\"9\" valign=\"top\">23166</th>\n",
       "      <th>201101</th>\n",
       "      <td>74215</td>\n",
       "      <td>77183.60</td>\n",
       "    </tr>\n",
       "    <tr>\n",
       "      <th>201105</th>\n",
       "      <td>792</td>\n",
       "      <td>869.04</td>\n",
       "    </tr>\n",
       "    <tr>\n",
       "      <th>201106</th>\n",
       "      <td>391</td>\n",
       "      <td>458.51</td>\n",
       "    </tr>\n",
       "    <tr>\n",
       "      <th>201107</th>\n",
       "      <td>718</td>\n",
       "      <td>826.94</td>\n",
       "    </tr>\n",
       "    <tr>\n",
       "      <th>201108</th>\n",
       "      <td>405</td>\n",
       "      <td>486.09</td>\n",
       "    </tr>\n",
       "    <tr>\n",
       "      <th>201109</th>\n",
       "      <td>342</td>\n",
       "      <td>397.26</td>\n",
       "    </tr>\n",
       "    <tr>\n",
       "      <th>201110</th>\n",
       "      <td>235</td>\n",
       "      <td>283.67</td>\n",
       "    </tr>\n",
       "    <tr>\n",
       "      <th>201111</th>\n",
       "      <td>631</td>\n",
       "      <td>708.11</td>\n",
       "    </tr>\n",
       "    <tr>\n",
       "      <th>201112</th>\n",
       "      <td>187</td>\n",
       "      <td>203.51</td>\n",
       "    </tr>\n",
       "    <tr>\n",
       "      <th rowspan=\"13\" valign=\"top\">84077</th>\n",
       "      <th>201012</th>\n",
       "      <td>5139</td>\n",
       "      <td>1150.47</td>\n",
       "    </tr>\n",
       "    <tr>\n",
       "      <th>201101</th>\n",
       "      <td>1488</td>\n",
       "      <td>385.44</td>\n",
       "    </tr>\n",
       "    <tr>\n",
       "      <th>201102</th>\n",
       "      <td>3457</td>\n",
       "      <td>795.17</td>\n",
       "    </tr>\n",
       "    <tr>\n",
       "      <th>201103</th>\n",
       "      <td>3888</td>\n",
       "      <td>943.20</td>\n",
       "    </tr>\n",
       "    <tr>\n",
       "      <th>201104</th>\n",
       "      <td>10224</td>\n",
       "      <td>2281.44</td>\n",
       "    </tr>\n",
       "    <tr>\n",
       "      <th>201105</th>\n",
       "      <td>4944</td>\n",
       "      <td>1249.44</td>\n",
       "    </tr>\n",
       "    <tr>\n",
       "      <th>201106</th>\n",
       "      <td>1920</td>\n",
       "      <td>533.76</td>\n",
       "    </tr>\n",
       "    <tr>\n",
       "      <th>201107</th>\n",
       "      <td>3600</td>\n",
       "      <td>982.56</td>\n",
       "    </tr>\n",
       "    <tr>\n",
       "      <th>201108</th>\n",
       "      <td>2256</td>\n",
       "      <td>654.24</td>\n",
       "    </tr>\n",
       "    <tr>\n",
       "      <th>201109</th>\n",
       "      <td>3462</td>\n",
       "      <td>985.70</td>\n",
       "    </tr>\n",
       "    <tr>\n",
       "      <th>201110</th>\n",
       "      <td>8174</td>\n",
       "      <td>1953.98</td>\n",
       "    </tr>\n",
       "    <tr>\n",
       "      <th>201111</th>\n",
       "      <td>4500</td>\n",
       "      <td>1294.20</td>\n",
       "    </tr>\n",
       "    <tr>\n",
       "      <th>201112</th>\n",
       "      <td>1363</td>\n",
       "      <td>376.65</td>\n",
       "    </tr>\n",
       "  </tbody>\n",
       "</table>\n",
       "</div>"
      ],
      "text/plain": [
       "                  Quantity  CheckoutPrice\n",
       "StockCode                                \n",
       "23843     201112     80995      168469.60\n",
       "23166     201101     74215       77183.60\n",
       "          201105       792         869.04\n",
       "          201106       391         458.51\n",
       "          201107       718         826.94\n",
       "          201108       405         486.09\n",
       "          201109       342         397.26\n",
       "          201110       235         283.67\n",
       "          201111       631         708.11\n",
       "          201112       187         203.51\n",
       "84077     201012      5139        1150.47\n",
       "          201101      1488         385.44\n",
       "          201102      3457         795.17\n",
       "          201103      3888         943.20\n",
       "          201104     10224        2281.44\n",
       "          201105      4944        1249.44\n",
       "          201106      1920         533.76\n",
       "          201107      3600         982.56\n",
       "          201108      2256         654.24\n",
       "          201109      3462         985.70\n",
       "          201110      8174        1953.98\n",
       "          201111      4500        1294.20\n",
       "          201112      1363         376.65"
      ]
     },
     "execution_count": 79,
     "metadata": {},
     "output_type": "execute_result"
    }
   ],
   "source": [
    "monthly_top3 = retail.set_index('InvoiceDate').groupby(['StockCode', extract_month]).sum()[['Quantity', 'CheckoutPrice']].loc[top3_selling.index]\n",
    "monthly_top3"
   ]
  },
  {
   "cell_type": "code",
   "execution_count": 81,
   "metadata": {},
   "outputs": [
    {
     "data": {
      "image/png": "[encoded data removed]",
      "text/plain": [
       "<Figure size 1440x720 with 1 Axes>"
      ]
     },
     "metadata": {
      "needs_background": "light"
     },
     "output_type": "display_data"
    }
   ],
   "source": [
    "plot_bar(monthly_top3['CheckoutPrice'], 'Product/Month', 'Revenue', 'Revenue of top 3 items')"
   ]
  },
  {
   "cell_type": "markdown",
   "metadata": {},
   "source": [
    "- 위 상품이 계절상품인지, 반짝상품인지 알 수 있는 그래프."
   ]
  },
  {
   "cell_type": "markdown",
   "metadata": {},
   "source": [
    "# 고객 코호트 분석\n",
    "# 우수고객 선별하기(가장 소비를 많이 한 고객)"
   ]
  },
  {
   "cell_type": "markdown",
   "metadata": {},
   "source": [
    "### 우수고객 확인\n",
    "- 구매 횟수 기준\n",
    "- 지불 금액 기준"
   ]
  },
  {
   "cell_type": "code",
   "execution_count": 83,
   "metadata": {},
   "outputs": [
    {
     "data": {
      "text/plain": [
       "CustomerID\n",
       "17841    7847\n",
       "14911    5675\n",
       "14096    5111\n",
       "12748    4595\n",
       "14606    2700\n",
       "15311    2379\n",
       "14646    2076\n",
       "13089    1818\n",
       "13263    1677\n",
       "14298    1637\n",
       "15039    1502\n",
       "14156    1400\n",
       "18118    1279\n",
       "14159    1204\n",
       "14796    1141\n",
       "Name: Quantity, dtype: int64"
      ]
     },
     "execution_count": 83,
     "metadata": {},
     "output_type": "execute_result"
    }
   ],
   "source": [
    "# 구매 횟수 기준\n",
    "retail.groupby('CustomerID').count()['Quantity'].sort_values(ascending=False)[:15]"
   ]
  },
  {
   "cell_type": "code",
   "execution_count": 84,
   "metadata": {},
   "outputs": [
    {
     "data": {
      "text/plain": [
       "CustomerID\n",
       "14646    280206.02\n",
       "18102    259657.30\n",
       "17450    194550.79\n",
       "16446    168472.50\n",
       "14911    143825.06\n",
       "12415    124914.53\n",
       "14156    117379.63\n",
       "17511     91062.38\n",
       "16029     81024.84\n",
       "12346     77183.60\n",
       "16684     66653.56\n",
       "14096     65164.79\n",
       "13694     65039.62\n",
       "15311     60767.90\n",
       "13089     58825.83\n",
       "Name: CheckoutPrice, dtype: float64"
      ]
     },
     "execution_count": 84,
     "metadata": {},
     "output_type": "execute_result"
    }
   ],
   "source": [
    "# 지불 금액 기준\n",
    "retail.groupby('CustomerID').sum()['CheckoutPrice'].sort_values(ascending=False)[:15]"
   ]
  },
  {
   "cell_type": "markdown",
   "metadata": {},
   "source": [
    "### 월별 재구매율 분석"
   ]
  },
  {
   "cell_type": "markdown",
   "metadata": {},
   "source": [
    "### 사용자 기준으로 최초 구매한 월 연산하기\n",
    "- Month : 구매월(일(day)을 무시)\n",
    "- MonthStarted : 사용자가 최초 구매한 달"
   ]
  },
  {
   "cell_type": "code",
   "execution_count": 85,
   "metadata": {},
   "outputs": [
    {
     "data": {
      "text/html": [
       "<div>\n",
       "<style scoped>\n",
       "    .dataframe tbody tr th:only-of-type {\n",
       "        vertical-align: middle;\n",
       "    }\n",
       "\n",
       "    .dataframe tbody tr th {\n",
       "        vertical-align: top;\n",
       "    }\n",
       "\n",
       "    .dataframe thead th {\n",
       "        text-align: right;\n",
       "    }\n",
       "</style>\n",
       "<table border=\"1\" class=\"dataframe\">\n",
       "  <thead>\n",
       "    <tr style=\"text-align: right;\">\n",
       "      <th></th>\n",
       "      <th>Unnamed: 0</th>\n",
       "      <th>InvoiceNo</th>\n",
       "      <th>StockCode</th>\n",
       "      <th>Description</th>\n",
       "      <th>Quantity</th>\n",
       "      <th>InvoiceDate</th>\n",
       "      <th>UnitPrice</th>\n",
       "      <th>CustomerID</th>\n",
       "      <th>Country</th>\n",
       "      <th>CheckoutPrice</th>\n",
       "    </tr>\n",
       "  </thead>\n",
       "  <tbody>\n",
       "    <tr>\n",
       "      <th>0</th>\n",
       "      <td>0</td>\n",
       "      <td>536365</td>\n",
       "      <td>85123A</td>\n",
       "      <td>WHITE HANGING HEART T-LIGHT HOLDER</td>\n",
       "      <td>6</td>\n",
       "      <td>2010-12-01 08:26:00</td>\n",
       "      <td>2.55</td>\n",
       "      <td>17850</td>\n",
       "      <td>United Kingdom</td>\n",
       "      <td>15.30</td>\n",
       "    </tr>\n",
       "    <tr>\n",
       "      <th>1</th>\n",
       "      <td>1</td>\n",
       "      <td>536365</td>\n",
       "      <td>71053</td>\n",
       "      <td>WHITE METAL LANTERN</td>\n",
       "      <td>6</td>\n",
       "      <td>2010-12-01 08:26:00</td>\n",
       "      <td>3.39</td>\n",
       "      <td>17850</td>\n",
       "      <td>United Kingdom</td>\n",
       "      <td>20.34</td>\n",
       "    </tr>\n",
       "    <tr>\n",
       "      <th>2</th>\n",
       "      <td>2</td>\n",
       "      <td>536365</td>\n",
       "      <td>84406B</td>\n",
       "      <td>CREAM CUPID HEARTS COAT HANGER</td>\n",
       "      <td>8</td>\n",
       "      <td>2010-12-01 08:26:00</td>\n",
       "      <td>2.75</td>\n",
       "      <td>17850</td>\n",
       "      <td>United Kingdom</td>\n",
       "      <td>22.00</td>\n",
       "    </tr>\n",
       "    <tr>\n",
       "      <th>3</th>\n",
       "      <td>3</td>\n",
       "      <td>536365</td>\n",
       "      <td>84029G</td>\n",
       "      <td>KNITTED UNION FLAG HOT WATER BOTTLE</td>\n",
       "      <td>6</td>\n",
       "      <td>2010-12-01 08:26:00</td>\n",
       "      <td>3.39</td>\n",
       "      <td>17850</td>\n",
       "      <td>United Kingdom</td>\n",
       "      <td>20.34</td>\n",
       "    </tr>\n",
       "    <tr>\n",
       "      <th>4</th>\n",
       "      <td>4</td>\n",
       "      <td>536365</td>\n",
       "      <td>84029E</td>\n",
       "      <td>RED WOOLLY HOTTIE WHITE HEART.</td>\n",
       "      <td>6</td>\n",
       "      <td>2010-12-01 08:26:00</td>\n",
       "      <td>3.39</td>\n",
       "      <td>17850</td>\n",
       "      <td>United Kingdom</td>\n",
       "      <td>20.34</td>\n",
       "    </tr>\n",
       "  </tbody>\n",
       "</table>\n",
       "</div>"
      ],
      "text/plain": [
       "   Unnamed: 0  InvoiceNo StockCode                          Description  \\\n",
       "0           0     536365    85123A   WHITE HANGING HEART T-LIGHT HOLDER   \n",
       "1           1     536365     71053                  WHITE METAL LANTERN   \n",
       "2           2     536365    84406B       CREAM CUPID HEARTS COAT HANGER   \n",
       "3           3     536365    84029G  KNITTED UNION FLAG HOT WATER BOTTLE   \n",
       "4           4     536365    84029E       RED WOOLLY HOTTIE WHITE HEART.   \n",
       "\n",
       "   Quantity         InvoiceDate  UnitPrice  CustomerID         Country  \\\n",
       "0         6 2010-12-01 08:26:00       2.55       17850  United Kingdom   \n",
       "1         6 2010-12-01 08:26:00       3.39       17850  United Kingdom   \n",
       "2         8 2010-12-01 08:26:00       2.75       17850  United Kingdom   \n",
       "3         6 2010-12-01 08:26:00       3.39       17850  United Kingdom   \n",
       "4         6 2010-12-01 08:26:00       3.39       17850  United Kingdom   \n",
       "\n",
       "   CheckoutPrice  \n",
       "0          15.30  \n",
       "1          20.34  \n",
       "2          22.00  \n",
       "3          20.34  \n",
       "4          20.34  "
      ]
     },
     "execution_count": 85,
     "metadata": {},
     "output_type": "execute_result"
    }
   ],
   "source": [
    "retail.head()"
   ]
  },
  {
   "cell_type": "code",
   "execution_count": 86,
   "metadata": {},
   "outputs": [
    {
     "data": {
      "text/html": [
       "<div>\n",
       "<style scoped>\n",
       "    .dataframe tbody tr th:only-of-type {\n",
       "        vertical-align: middle;\n",
       "    }\n",
       "\n",
       "    .dataframe tbody tr th {\n",
       "        vertical-align: top;\n",
       "    }\n",
       "\n",
       "    .dataframe thead th {\n",
       "        text-align: right;\n",
       "    }\n",
       "</style>\n",
       "<table border=\"1\" class=\"dataframe\">\n",
       "  <thead>\n",
       "    <tr style=\"text-align: right;\">\n",
       "      <th></th>\n",
       "      <th>Unnamed: 0</th>\n",
       "      <th>InvoiceNo</th>\n",
       "      <th>StockCode</th>\n",
       "      <th>Description</th>\n",
       "      <th>Quantity</th>\n",
       "      <th>InvoiceDate</th>\n",
       "      <th>UnitPrice</th>\n",
       "      <th>CustomerID</th>\n",
       "      <th>Country</th>\n",
       "      <th>CheckoutPrice</th>\n",
       "      <th>Month</th>\n",
       "    </tr>\n",
       "  </thead>\n",
       "  <tbody>\n",
       "    <tr>\n",
       "      <th>0</th>\n",
       "      <td>0</td>\n",
       "      <td>536365</td>\n",
       "      <td>85123A</td>\n",
       "      <td>WHITE HANGING HEART T-LIGHT HOLDER</td>\n",
       "      <td>6</td>\n",
       "      <td>2010-12-01 08:26:00</td>\n",
       "      <td>2.55</td>\n",
       "      <td>17850</td>\n",
       "      <td>United Kingdom</td>\n",
       "      <td>15.30</td>\n",
       "      <td>2010-12-01</td>\n",
       "    </tr>\n",
       "    <tr>\n",
       "      <th>1</th>\n",
       "      <td>1</td>\n",
       "      <td>536365</td>\n",
       "      <td>71053</td>\n",
       "      <td>WHITE METAL LANTERN</td>\n",
       "      <td>6</td>\n",
       "      <td>2010-12-01 08:26:00</td>\n",
       "      <td>3.39</td>\n",
       "      <td>17850</td>\n",
       "      <td>United Kingdom</td>\n",
       "      <td>20.34</td>\n",
       "      <td>2010-12-01</td>\n",
       "    </tr>\n",
       "    <tr>\n",
       "      <th>2</th>\n",
       "      <td>2</td>\n",
       "      <td>536365</td>\n",
       "      <td>84406B</td>\n",
       "      <td>CREAM CUPID HEARTS COAT HANGER</td>\n",
       "      <td>8</td>\n",
       "      <td>2010-12-01 08:26:00</td>\n",
       "      <td>2.75</td>\n",
       "      <td>17850</td>\n",
       "      <td>United Kingdom</td>\n",
       "      <td>22.00</td>\n",
       "      <td>2010-12-01</td>\n",
       "    </tr>\n",
       "    <tr>\n",
       "      <th>3</th>\n",
       "      <td>3</td>\n",
       "      <td>536365</td>\n",
       "      <td>84029G</td>\n",
       "      <td>KNITTED UNION FLAG HOT WATER BOTTLE</td>\n",
       "      <td>6</td>\n",
       "      <td>2010-12-01 08:26:00</td>\n",
       "      <td>3.39</td>\n",
       "      <td>17850</td>\n",
       "      <td>United Kingdom</td>\n",
       "      <td>20.34</td>\n",
       "      <td>2010-12-01</td>\n",
       "    </tr>\n",
       "    <tr>\n",
       "      <th>4</th>\n",
       "      <td>4</td>\n",
       "      <td>536365</td>\n",
       "      <td>84029E</td>\n",
       "      <td>RED WOOLLY HOTTIE WHITE HEART.</td>\n",
       "      <td>6</td>\n",
       "      <td>2010-12-01 08:26:00</td>\n",
       "      <td>3.39</td>\n",
       "      <td>17850</td>\n",
       "      <td>United Kingdom</td>\n",
       "      <td>20.34</td>\n",
       "      <td>2010-12-01</td>\n",
       "    </tr>\n",
       "  </tbody>\n",
       "</table>\n",
       "</div>"
      ],
      "text/plain": [
       "   Unnamed: 0  InvoiceNo StockCode                          Description  \\\n",
       "0           0     536365    85123A   WHITE HANGING HEART T-LIGHT HOLDER   \n",
       "1           1     536365     71053                  WHITE METAL LANTERN   \n",
       "2           2     536365    84406B       CREAM CUPID HEARTS COAT HANGER   \n",
       "3           3     536365    84029G  KNITTED UNION FLAG HOT WATER BOTTLE   \n",
       "4           4     536365    84029E       RED WOOLLY HOTTIE WHITE HEART.   \n",
       "\n",
       "   Quantity         InvoiceDate  UnitPrice  CustomerID         Country  \\\n",
       "0         6 2010-12-01 08:26:00       2.55       17850  United Kingdom   \n",
       "1         6 2010-12-01 08:26:00       3.39       17850  United Kingdom   \n",
       "2         8 2010-12-01 08:26:00       2.75       17850  United Kingdom   \n",
       "3         6 2010-12-01 08:26:00       3.39       17850  United Kingdom   \n",
       "4         6 2010-12-01 08:26:00       3.39       17850  United Kingdom   \n",
       "\n",
       "   CheckoutPrice      Month  \n",
       "0          15.30 2010-12-01  \n",
       "1          20.34 2010-12-01  \n",
       "2          22.00 2010-12-01  \n",
       "3          20.34 2010-12-01  \n",
       "4          20.34 2010-12-01  "
      ]
     },
     "execution_count": 86,
     "metadata": {},
     "output_type": "execute_result"
    }
   ],
   "source": [
    "def get_month_as_datetime(date):\n",
    "    return datetime(date.year, date.month, 1)\n",
    "\n",
    "retail['Month'] = retail['InvoiceDate'].apply(get_month_as_datetime)\n",
    "\n",
    "retail.head()"
   ]
  },
  {
   "cell_type": "markdown",
   "metadata": {},
   "source": [
    "- 12월 19일인 경우에도 12월 1일, 1월 31일인 경우에도 1월 1일로 표시."
   ]
  },
  {
   "cell_type": "code",
   "execution_count": 88,
   "metadata": {},
   "outputs": [
    {
     "data": {
      "text/html": [
       "<div>\n",
       "<style scoped>\n",
       "    .dataframe tbody tr th:only-of-type {\n",
       "        vertical-align: middle;\n",
       "    }\n",
       "\n",
       "    .dataframe tbody tr th {\n",
       "        vertical-align: top;\n",
       "    }\n",
       "\n",
       "    .dataframe thead th {\n",
       "        text-align: right;\n",
       "    }\n",
       "</style>\n",
       "<table border=\"1\" class=\"dataframe\">\n",
       "  <thead>\n",
       "    <tr style=\"text-align: right;\">\n",
       "      <th></th>\n",
       "      <th>Unnamed: 0</th>\n",
       "      <th>InvoiceNo</th>\n",
       "      <th>StockCode</th>\n",
       "      <th>Description</th>\n",
       "      <th>Quantity</th>\n",
       "      <th>InvoiceDate</th>\n",
       "      <th>UnitPrice</th>\n",
       "      <th>CustomerID</th>\n",
       "      <th>Country</th>\n",
       "      <th>CheckoutPrice</th>\n",
       "      <th>Month</th>\n",
       "      <th>MonthStarted</th>\n",
       "    </tr>\n",
       "  </thead>\n",
       "  <tbody>\n",
       "    <tr>\n",
       "      <th>397879</th>\n",
       "      <td>541904</td>\n",
       "      <td>581587</td>\n",
       "      <td>22613</td>\n",
       "      <td>PACK OF 20 SPACEBOY NAPKINS</td>\n",
       "      <td>12</td>\n",
       "      <td>2011-12-09 12:50:00</td>\n",
       "      <td>0.85</td>\n",
       "      <td>12680</td>\n",
       "      <td>France</td>\n",
       "      <td>10.20</td>\n",
       "      <td>2011-12-01</td>\n",
       "      <td>2011-08-01</td>\n",
       "    </tr>\n",
       "    <tr>\n",
       "      <th>397880</th>\n",
       "      <td>541905</td>\n",
       "      <td>581587</td>\n",
       "      <td>22899</td>\n",
       "      <td>CHILDREN'S APRON DOLLY GIRL</td>\n",
       "      <td>6</td>\n",
       "      <td>2011-12-09 12:50:00</td>\n",
       "      <td>2.10</td>\n",
       "      <td>12680</td>\n",
       "      <td>France</td>\n",
       "      <td>12.60</td>\n",
       "      <td>2011-12-01</td>\n",
       "      <td>2011-08-01</td>\n",
       "    </tr>\n",
       "    <tr>\n",
       "      <th>397881</th>\n",
       "      <td>541906</td>\n",
       "      <td>581587</td>\n",
       "      <td>23254</td>\n",
       "      <td>CHILDRENS CUTLERY DOLLY GIRL</td>\n",
       "      <td>4</td>\n",
       "      <td>2011-12-09 12:50:00</td>\n",
       "      <td>4.15</td>\n",
       "      <td>12680</td>\n",
       "      <td>France</td>\n",
       "      <td>16.60</td>\n",
       "      <td>2011-12-01</td>\n",
       "      <td>2011-08-01</td>\n",
       "    </tr>\n",
       "    <tr>\n",
       "      <th>397882</th>\n",
       "      <td>541907</td>\n",
       "      <td>581587</td>\n",
       "      <td>23255</td>\n",
       "      <td>CHILDRENS CUTLERY CIRCUS PARADE</td>\n",
       "      <td>4</td>\n",
       "      <td>2011-12-09 12:50:00</td>\n",
       "      <td>4.15</td>\n",
       "      <td>12680</td>\n",
       "      <td>France</td>\n",
       "      <td>16.60</td>\n",
       "      <td>2011-12-01</td>\n",
       "      <td>2011-08-01</td>\n",
       "    </tr>\n",
       "    <tr>\n",
       "      <th>397883</th>\n",
       "      <td>541908</td>\n",
       "      <td>581587</td>\n",
       "      <td>22138</td>\n",
       "      <td>BAKING SET 9 PIECE RETROSPOT</td>\n",
       "      <td>3</td>\n",
       "      <td>2011-12-09 12:50:00</td>\n",
       "      <td>4.95</td>\n",
       "      <td>12680</td>\n",
       "      <td>France</td>\n",
       "      <td>14.85</td>\n",
       "      <td>2011-12-01</td>\n",
       "      <td>2011-08-01</td>\n",
       "    </tr>\n",
       "  </tbody>\n",
       "</table>\n",
       "</div>"
      ],
      "text/plain": [
       "        Unnamed: 0  InvoiceNo StockCode                      Description  \\\n",
       "397879      541904     581587     22613      PACK OF 20 SPACEBOY NAPKINS   \n",
       "397880      541905     581587     22899     CHILDREN'S APRON DOLLY GIRL    \n",
       "397881      541906     581587     23254    CHILDRENS CUTLERY DOLLY GIRL    \n",
       "397882      541907     581587     23255  CHILDRENS CUTLERY CIRCUS PARADE   \n",
       "397883      541908     581587     22138    BAKING SET 9 PIECE RETROSPOT    \n",
       "\n",
       "        Quantity         InvoiceDate  UnitPrice  CustomerID Country  \\\n",
       "397879        12 2011-12-09 12:50:00       0.85       12680  France   \n",
       "397880         6 2011-12-09 12:50:00       2.10       12680  France   \n",
       "397881         4 2011-12-09 12:50:00       4.15       12680  France   \n",
       "397882         4 2011-12-09 12:50:00       4.15       12680  France   \n",
       "397883         3 2011-12-09 12:50:00       4.95       12680  France   \n",
       "\n",
       "        CheckoutPrice      Month MonthStarted  \n",
       "397879          10.20 2011-12-01   2011-08-01  \n",
       "397880          12.60 2011-12-01   2011-08-01  \n",
       "397881          16.60 2011-12-01   2011-08-01  \n",
       "397882          16.60 2011-12-01   2011-08-01  \n",
       "397883          14.85 2011-12-01   2011-08-01  "
      ]
     },
     "execution_count": 88,
     "metadata": {},
     "output_type": "execute_result"
    }
   ],
   "source": [
    "month_group = retail.groupby('CustomerID')['Month']\n",
    "retail['MonthStarted'] = month_group.transform(np.min)\n",
    "# transform : groupby 한 결과를 원래의 데이터프레임의 모양을 변화시키지 않고 추가\n",
    "retail.tail()"
   ]
  },
  {
   "cell_type": "markdown",
   "metadata": {},
   "source": [
    "- Month Column에서 최근 구매한 달은 2011.12 이지만, \n",
    "- MonthStarted Column을 통해 최초 구매한 달은 2011.08이라는 것을 알 수 있다."
   ]
  },
  {
   "cell_type": "markdown",
   "metadata": {},
   "source": [
    "### 기준이 되는 월과 실제 구매 월의 차이 계산하기\n",
    "- 각 구매가 최초 구매로 부터 얼마의 월이 지났는지 연산\n",
    "- MonthPassed : 최초 구매월로부터의 월 차이"
   ]
  },
  {
   "cell_type": "code",
   "execution_count": 93,
   "metadata": {},
   "outputs": [],
   "source": [
    "retail['MonthPassed'] = (retail['Month'].dt.year - retail['MonthStarted'].dt.year) * 12 + \\\n",
    "(retail['Month'].dt.month - retail['MonthStarted'].dt.month)"
   ]
  },
  {
   "cell_type": "code",
   "execution_count": 95,
   "metadata": {},
   "outputs": [
    {
     "data": {
      "text/html": [
       "<div>\n",
       "<style scoped>\n",
       "    .dataframe tbody tr th:only-of-type {\n",
       "        vertical-align: middle;\n",
       "    }\n",
       "\n",
       "    .dataframe tbody tr th {\n",
       "        vertical-align: top;\n",
       "    }\n",
       "\n",
       "    .dataframe thead th {\n",
       "        text-align: right;\n",
       "    }\n",
       "</style>\n",
       "<table border=\"1\" class=\"dataframe\">\n",
       "  <thead>\n",
       "    <tr style=\"text-align: right;\">\n",
       "      <th></th>\n",
       "      <th>Unnamed: 0</th>\n",
       "      <th>InvoiceNo</th>\n",
       "      <th>StockCode</th>\n",
       "      <th>Description</th>\n",
       "      <th>Quantity</th>\n",
       "      <th>InvoiceDate</th>\n",
       "      <th>UnitPrice</th>\n",
       "      <th>CustomerID</th>\n",
       "      <th>Country</th>\n",
       "      <th>CheckoutPrice</th>\n",
       "      <th>Month</th>\n",
       "      <th>MonthStarted</th>\n",
       "      <th>MonthPassed</th>\n",
       "    </tr>\n",
       "  </thead>\n",
       "  <tbody>\n",
       "    <tr>\n",
       "      <th>397879</th>\n",
       "      <td>541904</td>\n",
       "      <td>581587</td>\n",
       "      <td>22613</td>\n",
       "      <td>PACK OF 20 SPACEBOY NAPKINS</td>\n",
       "      <td>12</td>\n",
       "      <td>2011-12-09 12:50:00</td>\n",
       "      <td>0.85</td>\n",
       "      <td>12680</td>\n",
       "      <td>France</td>\n",
       "      <td>10.20</td>\n",
       "      <td>2011-12-01</td>\n",
       "      <td>2011-08-01</td>\n",
       "      <td>4</td>\n",
       "    </tr>\n",
       "    <tr>\n",
       "      <th>397880</th>\n",
       "      <td>541905</td>\n",
       "      <td>581587</td>\n",
       "      <td>22899</td>\n",
       "      <td>CHILDREN'S APRON DOLLY GIRL</td>\n",
       "      <td>6</td>\n",
       "      <td>2011-12-09 12:50:00</td>\n",
       "      <td>2.10</td>\n",
       "      <td>12680</td>\n",
       "      <td>France</td>\n",
       "      <td>12.60</td>\n",
       "      <td>2011-12-01</td>\n",
       "      <td>2011-08-01</td>\n",
       "      <td>4</td>\n",
       "    </tr>\n",
       "    <tr>\n",
       "      <th>397881</th>\n",
       "      <td>541906</td>\n",
       "      <td>581587</td>\n",
       "      <td>23254</td>\n",
       "      <td>CHILDRENS CUTLERY DOLLY GIRL</td>\n",
       "      <td>4</td>\n",
       "      <td>2011-12-09 12:50:00</td>\n",
       "      <td>4.15</td>\n",
       "      <td>12680</td>\n",
       "      <td>France</td>\n",
       "      <td>16.60</td>\n",
       "      <td>2011-12-01</td>\n",
       "      <td>2011-08-01</td>\n",
       "      <td>4</td>\n",
       "    </tr>\n",
       "    <tr>\n",
       "      <th>397882</th>\n",
       "      <td>541907</td>\n",
       "      <td>581587</td>\n",
       "      <td>23255</td>\n",
       "      <td>CHILDRENS CUTLERY CIRCUS PARADE</td>\n",
       "      <td>4</td>\n",
       "      <td>2011-12-09 12:50:00</td>\n",
       "      <td>4.15</td>\n",
       "      <td>12680</td>\n",
       "      <td>France</td>\n",
       "      <td>16.60</td>\n",
       "      <td>2011-12-01</td>\n",
       "      <td>2011-08-01</td>\n",
       "      <td>4</td>\n",
       "    </tr>\n",
       "    <tr>\n",
       "      <th>397883</th>\n",
       "      <td>541908</td>\n",
       "      <td>581587</td>\n",
       "      <td>22138</td>\n",
       "      <td>BAKING SET 9 PIECE RETROSPOT</td>\n",
       "      <td>3</td>\n",
       "      <td>2011-12-09 12:50:00</td>\n",
       "      <td>4.95</td>\n",
       "      <td>12680</td>\n",
       "      <td>France</td>\n",
       "      <td>14.85</td>\n",
       "      <td>2011-12-01</td>\n",
       "      <td>2011-08-01</td>\n",
       "      <td>4</td>\n",
       "    </tr>\n",
       "  </tbody>\n",
       "</table>\n",
       "</div>"
      ],
      "text/plain": [
       "        Unnamed: 0  InvoiceNo StockCode                      Description  \\\n",
       "397879      541904     581587     22613      PACK OF 20 SPACEBOY NAPKINS   \n",
       "397880      541905     581587     22899     CHILDREN'S APRON DOLLY GIRL    \n",
       "397881      541906     581587     23254    CHILDRENS CUTLERY DOLLY GIRL    \n",
       "397882      541907     581587     23255  CHILDRENS CUTLERY CIRCUS PARADE   \n",
       "397883      541908     581587     22138    BAKING SET 9 PIECE RETROSPOT    \n",
       "\n",
       "        Quantity         InvoiceDate  UnitPrice  CustomerID Country  \\\n",
       "397879        12 2011-12-09 12:50:00       0.85       12680  France   \n",
       "397880         6 2011-12-09 12:50:00       2.10       12680  France   \n",
       "397881         4 2011-12-09 12:50:00       4.15       12680  France   \n",
       "397882         4 2011-12-09 12:50:00       4.15       12680  France   \n",
       "397883         3 2011-12-09 12:50:00       4.95       12680  France   \n",
       "\n",
       "        CheckoutPrice      Month MonthStarted  MonthPassed  \n",
       "397879          10.20 2011-12-01   2011-08-01            4  \n",
       "397880          12.60 2011-12-01   2011-08-01            4  \n",
       "397881          16.60 2011-12-01   2011-08-01            4  \n",
       "397882          16.60 2011-12-01   2011-08-01            4  \n",
       "397883          14.85 2011-12-01   2011-08-01            4  "
      ]
     },
     "execution_count": 95,
     "metadata": {},
     "output_type": "execute_result"
    }
   ],
   "source": [
    "retail.tail()"
   ]
  },
  {
   "cell_type": "markdown",
   "metadata": {},
   "source": [
    "- Month Passed Column에서 4개월이 지난 것을 알 수 있다."
   ]
  },
  {
   "cell_type": "markdown",
   "metadata": {},
   "source": [
    "### 기준 월, Month Passed를 기준으로 고객 카운팅\n",
    "- 기준이 되는 월과 그 월로부터 지난 기간의 고객 수를 계산"
   ]
  },
  {
   "cell_type": "code",
   "execution_count": 99,
   "metadata": {},
   "outputs": [
    {
     "data": {
      "text/html": [
       "<div>\n",
       "<style scoped>\n",
       "    .dataframe tbody tr th:only-of-type {\n",
       "        vertical-align: middle;\n",
       "    }\n",
       "\n",
       "    .dataframe tbody tr th {\n",
       "        vertical-align: top;\n",
       "    }\n",
       "\n",
       "    .dataframe thead th {\n",
       "        text-align: right;\n",
       "    }\n",
       "</style>\n",
       "<table border=\"1\" class=\"dataframe\">\n",
       "  <thead>\n",
       "    <tr style=\"text-align: right;\">\n",
       "      <th></th>\n",
       "      <th>MonthStarted</th>\n",
       "      <th>MonthPassed</th>\n",
       "      <th>CustomerID</th>\n",
       "    </tr>\n",
       "  </thead>\n",
       "  <tbody>\n",
       "    <tr>\n",
       "      <th>0</th>\n",
       "      <td>2010-12-01</td>\n",
       "      <td>0</td>\n",
       "      <td>885</td>\n",
       "    </tr>\n",
       "    <tr>\n",
       "      <th>1</th>\n",
       "      <td>2010-12-01</td>\n",
       "      <td>1</td>\n",
       "      <td>324</td>\n",
       "    </tr>\n",
       "    <tr>\n",
       "      <th>2</th>\n",
       "      <td>2010-12-01</td>\n",
       "      <td>2</td>\n",
       "      <td>286</td>\n",
       "    </tr>\n",
       "    <tr>\n",
       "      <th>3</th>\n",
       "      <td>2010-12-01</td>\n",
       "      <td>3</td>\n",
       "      <td>340</td>\n",
       "    </tr>\n",
       "    <tr>\n",
       "      <th>4</th>\n",
       "      <td>2010-12-01</td>\n",
       "      <td>4</td>\n",
       "      <td>321</td>\n",
       "    </tr>\n",
       "  </tbody>\n",
       "</table>\n",
       "</div>"
      ],
      "text/plain": [
       "  MonthStarted  MonthPassed  CustomerID\n",
       "0   2010-12-01            0         885\n",
       "1   2010-12-01            1         324\n",
       "2   2010-12-01            2         286\n",
       "3   2010-12-01            3         340\n",
       "4   2010-12-01            4         321"
      ]
     },
     "execution_count": 99,
     "metadata": {},
     "output_type": "execute_result"
    }
   ],
   "source": [
    "def get_unique_no(x): # only unique number counting\n",
    "    return len(np.unique(x))\n",
    "\n",
    "cohort_group = retail.groupby(['MonthStarted', 'MonthPassed'])\n",
    "# Started 기준으로 시작해서 Passed 만큼 지났을 때 고객이 얼만큼 있느냐?\n",
    "cohort_df = cohort_group['CustomerID'].apply(get_unique_no).reset_index()\n",
    "cohort_df.head()"
   ]
  },
  {
   "cell_type": "code",
   "execution_count": 100,
   "metadata": {},
   "outputs": [
    {
     "data": {
      "text/html": [
       "<div>\n",
       "<style scoped>\n",
       "    .dataframe tbody tr th:only-of-type {\n",
       "        vertical-align: middle;\n",
       "    }\n",
       "\n",
       "    .dataframe tbody tr th {\n",
       "        vertical-align: top;\n",
       "    }\n",
       "\n",
       "    .dataframe thead tr th {\n",
       "        text-align: left;\n",
       "    }\n",
       "\n",
       "    .dataframe thead tr:last-of-type th {\n",
       "        text-align: right;\n",
       "    }\n",
       "</style>\n",
       "<table border=\"1\" class=\"dataframe\">\n",
       "  <thead>\n",
       "    <tr>\n",
       "      <th></th>\n",
       "      <th colspan=\"13\" halign=\"left\">CustomerID</th>\n",
       "    </tr>\n",
       "    <tr>\n",
       "      <th>MonthPassed</th>\n",
       "      <th>0</th>\n",
       "      <th>1</th>\n",
       "      <th>2</th>\n",
       "      <th>3</th>\n",
       "      <th>4</th>\n",
       "      <th>5</th>\n",
       "      <th>6</th>\n",
       "      <th>7</th>\n",
       "      <th>8</th>\n",
       "      <th>9</th>\n",
       "      <th>10</th>\n",
       "      <th>11</th>\n",
       "      <th>12</th>\n",
       "    </tr>\n",
       "    <tr>\n",
       "      <th>MonthStarted</th>\n",
       "      <th></th>\n",
       "      <th></th>\n",
       "      <th></th>\n",
       "      <th></th>\n",
       "      <th></th>\n",
       "      <th></th>\n",
       "      <th></th>\n",
       "      <th></th>\n",
       "      <th></th>\n",
       "      <th></th>\n",
       "      <th></th>\n",
       "      <th></th>\n",
       "      <th></th>\n",
       "    </tr>\n",
       "  </thead>\n",
       "  <tbody>\n",
       "    <tr>\n",
       "      <th>2010-12-01</th>\n",
       "      <td>885.0</td>\n",
       "      <td>324.0</td>\n",
       "      <td>286.0</td>\n",
       "      <td>340.0</td>\n",
       "      <td>321.0</td>\n",
       "      <td>352.0</td>\n",
       "      <td>321.0</td>\n",
       "      <td>309.0</td>\n",
       "      <td>313.0</td>\n",
       "      <td>350.0</td>\n",
       "      <td>331.0</td>\n",
       "      <td>445.0</td>\n",
       "      <td>235.0</td>\n",
       "    </tr>\n",
       "    <tr>\n",
       "      <th>2011-01-01</th>\n",
       "      <td>417.0</td>\n",
       "      <td>92.0</td>\n",
       "      <td>111.0</td>\n",
       "      <td>96.0</td>\n",
       "      <td>134.0</td>\n",
       "      <td>120.0</td>\n",
       "      <td>103.0</td>\n",
       "      <td>101.0</td>\n",
       "      <td>125.0</td>\n",
       "      <td>136.0</td>\n",
       "      <td>152.0</td>\n",
       "      <td>49.0</td>\n",
       "      <td>NaN</td>\n",
       "    </tr>\n",
       "    <tr>\n",
       "      <th>2011-02-01</th>\n",
       "      <td>380.0</td>\n",
       "      <td>71.0</td>\n",
       "      <td>71.0</td>\n",
       "      <td>108.0</td>\n",
       "      <td>103.0</td>\n",
       "      <td>94.0</td>\n",
       "      <td>96.0</td>\n",
       "      <td>106.0</td>\n",
       "      <td>94.0</td>\n",
       "      <td>116.0</td>\n",
       "      <td>26.0</td>\n",
       "      <td>NaN</td>\n",
       "      <td>NaN</td>\n",
       "    </tr>\n",
       "    <tr>\n",
       "      <th>2011-03-01</th>\n",
       "      <td>452.0</td>\n",
       "      <td>68.0</td>\n",
       "      <td>114.0</td>\n",
       "      <td>90.0</td>\n",
       "      <td>101.0</td>\n",
       "      <td>76.0</td>\n",
       "      <td>121.0</td>\n",
       "      <td>104.0</td>\n",
       "      <td>126.0</td>\n",
       "      <td>39.0</td>\n",
       "      <td>NaN</td>\n",
       "      <td>NaN</td>\n",
       "      <td>NaN</td>\n",
       "    </tr>\n",
       "    <tr>\n",
       "      <th>2011-04-01</th>\n",
       "      <td>300.0</td>\n",
       "      <td>64.0</td>\n",
       "      <td>61.0</td>\n",
       "      <td>63.0</td>\n",
       "      <td>59.0</td>\n",
       "      <td>68.0</td>\n",
       "      <td>65.0</td>\n",
       "      <td>78.0</td>\n",
       "      <td>22.0</td>\n",
       "      <td>NaN</td>\n",
       "      <td>NaN</td>\n",
       "      <td>NaN</td>\n",
       "      <td>NaN</td>\n",
       "    </tr>\n",
       "  </tbody>\n",
       "</table>\n",
       "</div>"
      ],
      "text/plain": [
       "             CustomerID                                                   \\\n",
       "MonthPassed          0      1      2      3      4      5      6      7    \n",
       "MonthStarted                                                               \n",
       "2010-12-01        885.0  324.0  286.0  340.0  321.0  352.0  321.0  309.0   \n",
       "2011-01-01        417.0   92.0  111.0   96.0  134.0  120.0  103.0  101.0   \n",
       "2011-02-01        380.0   71.0   71.0  108.0  103.0   94.0   96.0  106.0   \n",
       "2011-03-01        452.0   68.0  114.0   90.0  101.0   76.0  121.0  104.0   \n",
       "2011-04-01        300.0   64.0   61.0   63.0   59.0   68.0   65.0   78.0   \n",
       "\n",
       "                                                 \n",
       "MonthPassed      8      9      10     11     12  \n",
       "MonthStarted                                     \n",
       "2010-12-01    313.0  350.0  331.0  445.0  235.0  \n",
       "2011-01-01    125.0  136.0  152.0   49.0    NaN  \n",
       "2011-02-01     94.0  116.0   26.0    NaN    NaN  \n",
       "2011-03-01    126.0   39.0    NaN    NaN    NaN  \n",
       "2011-04-01     22.0    NaN    NaN    NaN    NaN  "
      ]
     },
     "execution_count": 100,
     "metadata": {},
     "output_type": "execute_result"
    }
   ],
   "source": [
    "cohort_df = cohort_df.pivot(index='MonthStarted', columns='MonthPassed')\n",
    "cohort_df.head()"
   ]
  },
  {
   "cell_type": "markdown",
   "metadata": {},
   "source": [
    "### 테이블 피벗\n",
    "- pivot 함수를 이용하여 index는 MonthStarted, columns를 MonthPassed로 변경하여 테이블 변경\n",
    "- 첫 번째 column을 기준으로 100분위 연산"
   ]
  },
  {
   "cell_type": "code",
   "execution_count": 102,
   "metadata": {},
   "outputs": [
    {
     "data": {
      "text/html": [
       "<div>\n",
       "<style scoped>\n",
       "    .dataframe tbody tr th:only-of-type {\n",
       "        vertical-align: middle;\n",
       "    }\n",
       "\n",
       "    .dataframe tbody tr th {\n",
       "        vertical-align: top;\n",
       "    }\n",
       "\n",
       "    .dataframe thead tr th {\n",
       "        text-align: left;\n",
       "    }\n",
       "\n",
       "    .dataframe thead tr:last-of-type th {\n",
       "        text-align: right;\n",
       "    }\n",
       "</style>\n",
       "<table border=\"1\" class=\"dataframe\">\n",
       "  <thead>\n",
       "    <tr>\n",
       "      <th></th>\n",
       "      <th colspan=\"13\" halign=\"left\">CustomerID</th>\n",
       "    </tr>\n",
       "    <tr>\n",
       "      <th>MonthPassed</th>\n",
       "      <th>0</th>\n",
       "      <th>1</th>\n",
       "      <th>2</th>\n",
       "      <th>3</th>\n",
       "      <th>4</th>\n",
       "      <th>5</th>\n",
       "      <th>6</th>\n",
       "      <th>7</th>\n",
       "      <th>8</th>\n",
       "      <th>9</th>\n",
       "      <th>10</th>\n",
       "      <th>11</th>\n",
       "      <th>12</th>\n",
       "    </tr>\n",
       "    <tr>\n",
       "      <th>MonthStarted</th>\n",
       "      <th></th>\n",
       "      <th></th>\n",
       "      <th></th>\n",
       "      <th></th>\n",
       "      <th></th>\n",
       "      <th></th>\n",
       "      <th></th>\n",
       "      <th></th>\n",
       "      <th></th>\n",
       "      <th></th>\n",
       "      <th></th>\n",
       "      <th></th>\n",
       "      <th></th>\n",
       "    </tr>\n",
       "  </thead>\n",
       "  <tbody>\n",
       "    <tr>\n",
       "      <th>2010-12-01</th>\n",
       "      <td>100.0</td>\n",
       "      <td>36.61</td>\n",
       "      <td>32.32</td>\n",
       "      <td>38.42</td>\n",
       "      <td>36.27</td>\n",
       "      <td>39.77</td>\n",
       "      <td>36.27</td>\n",
       "      <td>34.92</td>\n",
       "      <td>35.37</td>\n",
       "      <td>39.55</td>\n",
       "      <td>37.40</td>\n",
       "      <td>50.28</td>\n",
       "      <td>26.55</td>\n",
       "    </tr>\n",
       "    <tr>\n",
       "      <th>2011-01-01</th>\n",
       "      <td>100.0</td>\n",
       "      <td>22.06</td>\n",
       "      <td>26.62</td>\n",
       "      <td>23.02</td>\n",
       "      <td>32.13</td>\n",
       "      <td>28.78</td>\n",
       "      <td>24.70</td>\n",
       "      <td>24.22</td>\n",
       "      <td>29.98</td>\n",
       "      <td>32.61</td>\n",
       "      <td>36.45</td>\n",
       "      <td>11.75</td>\n",
       "      <td>NaN</td>\n",
       "    </tr>\n",
       "    <tr>\n",
       "      <th>2011-02-01</th>\n",
       "      <td>100.0</td>\n",
       "      <td>18.68</td>\n",
       "      <td>18.68</td>\n",
       "      <td>28.42</td>\n",
       "      <td>27.11</td>\n",
       "      <td>24.74</td>\n",
       "      <td>25.26</td>\n",
       "      <td>27.89</td>\n",
       "      <td>24.74</td>\n",
       "      <td>30.53</td>\n",
       "      <td>6.84</td>\n",
       "      <td>NaN</td>\n",
       "      <td>NaN</td>\n",
       "    </tr>\n",
       "    <tr>\n",
       "      <th>2011-03-01</th>\n",
       "      <td>100.0</td>\n",
       "      <td>15.04</td>\n",
       "      <td>25.22</td>\n",
       "      <td>19.91</td>\n",
       "      <td>22.35</td>\n",
       "      <td>16.81</td>\n",
       "      <td>26.77</td>\n",
       "      <td>23.01</td>\n",
       "      <td>27.88</td>\n",
       "      <td>8.63</td>\n",
       "      <td>NaN</td>\n",
       "      <td>NaN</td>\n",
       "      <td>NaN</td>\n",
       "    </tr>\n",
       "    <tr>\n",
       "      <th>2011-04-01</th>\n",
       "      <td>100.0</td>\n",
       "      <td>21.33</td>\n",
       "      <td>20.33</td>\n",
       "      <td>21.00</td>\n",
       "      <td>19.67</td>\n",
       "      <td>22.67</td>\n",
       "      <td>21.67</td>\n",
       "      <td>26.00</td>\n",
       "      <td>7.33</td>\n",
       "      <td>NaN</td>\n",
       "      <td>NaN</td>\n",
       "      <td>NaN</td>\n",
       "      <td>NaN</td>\n",
       "    </tr>\n",
       "    <tr>\n",
       "      <th>2011-05-01</th>\n",
       "      <td>100.0</td>\n",
       "      <td>19.01</td>\n",
       "      <td>17.25</td>\n",
       "      <td>17.25</td>\n",
       "      <td>20.77</td>\n",
       "      <td>23.24</td>\n",
       "      <td>26.41</td>\n",
       "      <td>9.51</td>\n",
       "      <td>NaN</td>\n",
       "      <td>NaN</td>\n",
       "      <td>NaN</td>\n",
       "      <td>NaN</td>\n",
       "      <td>NaN</td>\n",
       "    </tr>\n",
       "    <tr>\n",
       "      <th>2011-06-01</th>\n",
       "      <td>100.0</td>\n",
       "      <td>17.36</td>\n",
       "      <td>15.70</td>\n",
       "      <td>26.45</td>\n",
       "      <td>23.14</td>\n",
       "      <td>33.47</td>\n",
       "      <td>9.50</td>\n",
       "      <td>NaN</td>\n",
       "      <td>NaN</td>\n",
       "      <td>NaN</td>\n",
       "      <td>NaN</td>\n",
       "      <td>NaN</td>\n",
       "      <td>NaN</td>\n",
       "    </tr>\n",
       "    <tr>\n",
       "      <th>2011-07-01</th>\n",
       "      <td>100.0</td>\n",
       "      <td>18.09</td>\n",
       "      <td>20.74</td>\n",
       "      <td>22.34</td>\n",
       "      <td>27.13</td>\n",
       "      <td>11.17</td>\n",
       "      <td>NaN</td>\n",
       "      <td>NaN</td>\n",
       "      <td>NaN</td>\n",
       "      <td>NaN</td>\n",
       "      <td>NaN</td>\n",
       "      <td>NaN</td>\n",
       "      <td>NaN</td>\n",
       "    </tr>\n",
       "    <tr>\n",
       "      <th>2011-08-01</th>\n",
       "      <td>100.0</td>\n",
       "      <td>20.71</td>\n",
       "      <td>24.85</td>\n",
       "      <td>24.26</td>\n",
       "      <td>12.43</td>\n",
       "      <td>NaN</td>\n",
       "      <td>NaN</td>\n",
       "      <td>NaN</td>\n",
       "      <td>NaN</td>\n",
       "      <td>NaN</td>\n",
       "      <td>NaN</td>\n",
       "      <td>NaN</td>\n",
       "      <td>NaN</td>\n",
       "    </tr>\n",
       "    <tr>\n",
       "      <th>2011-09-01</th>\n",
       "      <td>100.0</td>\n",
       "      <td>23.41</td>\n",
       "      <td>30.10</td>\n",
       "      <td>11.37</td>\n",
       "      <td>NaN</td>\n",
       "      <td>NaN</td>\n",
       "      <td>NaN</td>\n",
       "      <td>NaN</td>\n",
       "      <td>NaN</td>\n",
       "      <td>NaN</td>\n",
       "      <td>NaN</td>\n",
       "      <td>NaN</td>\n",
       "      <td>NaN</td>\n",
       "    </tr>\n",
       "    <tr>\n",
       "      <th>2011-10-01</th>\n",
       "      <td>100.0</td>\n",
       "      <td>24.02</td>\n",
       "      <td>11.45</td>\n",
       "      <td>NaN</td>\n",
       "      <td>NaN</td>\n",
       "      <td>NaN</td>\n",
       "      <td>NaN</td>\n",
       "      <td>NaN</td>\n",
       "      <td>NaN</td>\n",
       "      <td>NaN</td>\n",
       "      <td>NaN</td>\n",
       "      <td>NaN</td>\n",
       "      <td>NaN</td>\n",
       "    </tr>\n",
       "    <tr>\n",
       "      <th>2011-11-01</th>\n",
       "      <td>100.0</td>\n",
       "      <td>11.15</td>\n",
       "      <td>NaN</td>\n",
       "      <td>NaN</td>\n",
       "      <td>NaN</td>\n",
       "      <td>NaN</td>\n",
       "      <td>NaN</td>\n",
       "      <td>NaN</td>\n",
       "      <td>NaN</td>\n",
       "      <td>NaN</td>\n",
       "      <td>NaN</td>\n",
       "      <td>NaN</td>\n",
       "      <td>NaN</td>\n",
       "    </tr>\n",
       "    <tr>\n",
       "      <th>2011-12-01</th>\n",
       "      <td>100.0</td>\n",
       "      <td>NaN</td>\n",
       "      <td>NaN</td>\n",
       "      <td>NaN</td>\n",
       "      <td>NaN</td>\n",
       "      <td>NaN</td>\n",
       "      <td>NaN</td>\n",
       "      <td>NaN</td>\n",
       "      <td>NaN</td>\n",
       "      <td>NaN</td>\n",
       "      <td>NaN</td>\n",
       "      <td>NaN</td>\n",
       "      <td>NaN</td>\n",
       "    </tr>\n",
       "  </tbody>\n",
       "</table>\n",
       "</div>"
      ],
      "text/plain": [
       "             CustomerID                                                   \\\n",
       "MonthPassed          0      1      2      3      4      5      6      7    \n",
       "MonthStarted                                                               \n",
       "2010-12-01        100.0  36.61  32.32  38.42  36.27  39.77  36.27  34.92   \n",
       "2011-01-01        100.0  22.06  26.62  23.02  32.13  28.78  24.70  24.22   \n",
       "2011-02-01        100.0  18.68  18.68  28.42  27.11  24.74  25.26  27.89   \n",
       "2011-03-01        100.0  15.04  25.22  19.91  22.35  16.81  26.77  23.01   \n",
       "2011-04-01        100.0  21.33  20.33  21.00  19.67  22.67  21.67  26.00   \n",
       "2011-05-01        100.0  19.01  17.25  17.25  20.77  23.24  26.41   9.51   \n",
       "2011-06-01        100.0  17.36  15.70  26.45  23.14  33.47   9.50    NaN   \n",
       "2011-07-01        100.0  18.09  20.74  22.34  27.13  11.17    NaN    NaN   \n",
       "2011-08-01        100.0  20.71  24.85  24.26  12.43    NaN    NaN    NaN   \n",
       "2011-09-01        100.0  23.41  30.10  11.37    NaN    NaN    NaN    NaN   \n",
       "2011-10-01        100.0  24.02  11.45    NaN    NaN    NaN    NaN    NaN   \n",
       "2011-11-01        100.0  11.15    NaN    NaN    NaN    NaN    NaN    NaN   \n",
       "2011-12-01        100.0    NaN    NaN    NaN    NaN    NaN    NaN    NaN   \n",
       "\n",
       "                                                 \n",
       "MonthPassed      8      9      10     11     12  \n",
       "MonthStarted                                     \n",
       "2010-12-01    35.37  39.55  37.40  50.28  26.55  \n",
       "2011-01-01    29.98  32.61  36.45  11.75    NaN  \n",
       "2011-02-01    24.74  30.53   6.84    NaN    NaN  \n",
       "2011-03-01    27.88   8.63    NaN    NaN    NaN  \n",
       "2011-04-01     7.33    NaN    NaN    NaN    NaN  \n",
       "2011-05-01      NaN    NaN    NaN    NaN    NaN  \n",
       "2011-06-01      NaN    NaN    NaN    NaN    NaN  \n",
       "2011-07-01      NaN    NaN    NaN    NaN    NaN  \n",
       "2011-08-01      NaN    NaN    NaN    NaN    NaN  \n",
       "2011-09-01      NaN    NaN    NaN    NaN    NaN  \n",
       "2011-10-01      NaN    NaN    NaN    NaN    NaN  \n",
       "2011-11-01      NaN    NaN    NaN    NaN    NaN  \n",
       "2011-12-01      NaN    NaN    NaN    NaN    NaN  "
      ]
     },
     "execution_count": 102,
     "metadata": {},
     "output_type": "execute_result"
    }
   ],
   "source": [
    "customer_cohort = cohort_df.div(cohort_df.iloc[:, 0], axis=0) * 100 \n",
    "# 100분위로 나누기\n",
    "customer_cohort = customer_cohort.round(decimals=2)\n",
    "\n",
    "customer_cohort"
   ]
  },
  {
   "cell_type": "markdown",
   "metadata": {},
   "source": [
    "- 첫 번째 열을 기준으로 한 백분위가 출력됨."
   ]
  },
  {
   "cell_type": "markdown",
   "metadata": {},
   "source": [
    "### heatmap으로 재구매율 visualization하기"
   ]
  },
  {
   "cell_type": "code",
   "execution_count": 111,
   "metadata": {},
   "outputs": [
    {
     "data": {
      "image/png": "[encoded data removed]",
      "text/plain": [
       "<Figure size 1080x576 with 2 Axes>"
      ]
     },
     "metadata": {
      "needs_background": "light"
     },
     "output_type": "display_data"
    }
   ],
   "source": [
    "xticks = np.arange(0, 12)\n",
    "yticks = ['2010/12', '2011/01', '2011/02', '2011/03', '2011/04', '2011/05', '2011/06', '2011/07', '2011/08', '2011/09', '2011/10', '2011/11', '2011/12']\n",
    "\n",
    "plt.figure(figsize = (15, 8))\n",
    "sns.heatmap(customer_cohort,\n",
    "           annot=True,\n",
    "           xticklabels=xticks,\n",
    "           yticklabels=yticks,\n",
    "           fmt='.1f');"
   ]
  },
  {
   "cell_type": "markdown",
   "metadata": {},
   "source": [
    "# 데이터 기반 의사결정하기 - 푸쉬 노티피케이션 타임"
   ]
  },
  {
   "cell_type": "markdown",
   "metadata": {},
   "source": [
    "### 쿠폰 발송을 할 때, push를 언제 보내는게 좋을까?\n",
    "- 주문이 이뤄지는 시간을 고려하지 않고 막무가내로 보낸다면 아무 의미가 없고, 추후 같은 이벤트 발생 시에도 판단 근거가 없게 됨.\n",
    "- 현 상태에서는 가장 많이 주문이 일어나는 시점에서 하는 것이 가장 직관적인 판단\n",
    "    - 1. 데이터로 파악\n",
    "    - 2. 가설 제시\n",
    "    - 3. 가설 검증\n",
    "    - 4. 1~3 반복\n",
    "- 시간(hour, minute)과 주로 관련되기 때문에 역시 InvoiceDate가 중요한 feature\n",
    "        "
   ]
  },
  {
   "cell_type": "code",
   "execution_count": 112,
   "metadata": {},
   "outputs": [
    {
     "data": {
      "text/plain": [
       "6         1\n",
       "7       379\n",
       "8      8690\n",
       "9     21944\n",
       "10    37997\n",
       "11    49084\n",
       "12    72065\n",
       "13    64026\n",
       "14    54118\n",
       "15    45369\n",
       "16    24089\n",
       "17    13071\n",
       "18     2928\n",
       "19     3321\n",
       "20      802\n",
       "Name: CustomerID, dtype: int64"
      ]
     },
     "execution_count": 112,
     "metadata": {},
     "output_type": "execute_result"
    }
   ],
   "source": [
    "order_by_hour = retail.set_index('InvoiceDate').groupby(lambda date : date.hour).count()['CustomerID']\n",
    "order_by_hour"
   ]
  },
  {
   "cell_type": "code",
   "execution_count": 113,
   "metadata": {},
   "outputs": [
    {
     "data": {
      "image/png": "[encoded data removed]",
      "text/plain": [
       "<Figure size 1440x720 with 1 Axes>"
      ]
     },
     "metadata": {
      "needs_background": "light"
     },
     "output_type": "display_data"
    }
   ],
   "source": [
    "plot_bar(order_by_hour, 'hour', 'orders', 'order by hour')"
   ]
  },
  {
   "cell_type": "markdown",
   "metadata": {},
   "source": [
    "- 12시까지 증가세를 보이다가, 13시에 감소.\n",
    "- 효율적인 방법은 12~13시 사이에 보내는 것!\n",
    "\n",
    "    > 그렇다면 30분 단위로 쪼개보면 어떨까?"
   ]
  },
  {
   "cell_type": "code",
   "execution_count": 114,
   "metadata": {},
   "outputs": [],
   "source": [
    "def half_an_hour(date):\n",
    "    minute = ':00'\n",
    "    if date.minute > 30:\n",
    "        minute = ':30'\n",
    "    hour = str(date.hour)\n",
    "    if date.hour < 10:\n",
    "        hour= '0' + hour\n",
    "    \n",
    "    return hour + minute"
   ]
  },
  {
   "cell_type": "code",
   "execution_count": 116,
   "metadata": {},
   "outputs": [
    {
     "data": {
      "text/plain": [
       "06:00        1\n",
       "07:30      379\n",
       "08:00     3145\n",
       "08:30     5545\n",
       "09:00     9364\n",
       "09:30    12580\n",
       "10:00    16950\n",
       "10:30    21047\n",
       "11:00    18925\n",
       "11:30    30159\n",
       "12:00    37174\n",
       "12:30    34891\n",
       "13:00    31131\n",
       "13:30    32895\n",
       "14:00    26958\n",
       "14:30    27160\n",
       "15:00    24227\n",
       "15:30    21142\n",
       "16:00    14316\n",
       "16:30     9773\n",
       "17:00     8889\n",
       "17:30     4182\n",
       "18:00     1715\n",
       "18:30     1213\n",
       "19:00     1534\n",
       "19:30     1787\n",
       "20:00      802\n",
       "Name: CustomerID, dtype: int64"
      ]
     },
     "execution_count": 116,
     "metadata": {},
     "output_type": "execute_result"
    }
   ],
   "source": [
    "order_by_hour_half = retail.set_index('InvoiceDate').groupby(half_an_hour).count()['CustomerID']\n",
    "order_by_hour_half"
   ]
  },
  {
   "cell_type": "code",
   "execution_count": 117,
   "metadata": {},
   "outputs": [
    {
     "data": {
      "image/png": "[encoded data removed]",
      "text/plain": [
       "<Figure size 1440x720 with 1 Axes>"
      ]
     },
     "metadata": {
      "needs_background": "light"
     },
     "output_type": "display_data"
    }
   ],
   "source": [
    "plot_bar(order_by_hour_half, 'hour_half', 'orders', 'order by hour_half')"
   ]
  },
  {
   "cell_type": "markdown",
   "metadata": {},
   "source": [
    "- 쿠폰은 12시와 12시 반 사이에 보내는 것이 합리적!"
   ]
  },
  {
   "cell_type": "markdown",
   "metadata": {},
   "source": [
    "### 개인화된 push notification\n",
    "- 아마존을 필두로, 개인화(personalization)하여 맞춤으로 사용자마다 최적의 솔루션을 찾는 것이 트렌드가 됨.\n",
    "- 사용자 별로 소비의 패턴이 다를 수 있기 때문에, 가장 많이 구매한 시간대를 찾아서 해당 시간대에 쿠폰을 발송!"
   ]
  },
  {
   "cell_type": "markdown",
   "metadata": {},
   "source": [
    "### 사용자 별로 각 시간 별 주문량 계산하기"
   ]
  },
  {
   "cell_type": "code",
   "execution_count": 119,
   "metadata": {},
   "outputs": [
    {
     "data": {
      "text/plain": [
       "CustomerID    \n",
       "12346       10     1\n",
       "12347       8     22\n",
       "            10    24\n",
       "            12    47\n",
       "            13    18\n",
       "            14    60\n",
       "            15    11\n",
       "12348       10    11\n",
       "            13     3\n",
       "            19    17\n",
       "12349       9     73\n",
       "12350       16    17\n",
       "12352       12    15\n",
       "            14    52\n",
       "            15     3\n",
       "Name: StockCode, dtype: int64"
      ]
     },
     "execution_count": 119,
     "metadata": {},
     "output_type": "execute_result"
    }
   ],
   "source": [
    "order_count_by_hour = retail.set_index('InvoiceDate').groupby(['CustomerID', lambda date : date.hour]).count()['StockCode']\n",
    "order_count_by_hour[:15]"
   ]
  },
  {
   "cell_type": "markdown",
   "metadata": {},
   "source": [
    "- Customoer ID 12346은 10시에 1건 주문, 12347은 8시에 22건 주문..."
   ]
  },
  {
   "cell_type": "code",
   "execution_count": 120,
   "metadata": {},
   "outputs": [
    {
     "data": {
      "text/plain": [
       "12    15\n",
       "14    52\n",
       "15     3\n",
       "16    15\n",
       "Name: StockCode, dtype: int64"
      ]
     },
     "execution_count": 120,
     "metadata": {},
     "output_type": "execute_result"
    }
   ],
   "source": [
    "# 개인적으로 나타내기\n",
    "order_count_by_hour.loc[12352]"
   ]
  },
  {
   "cell_type": "markdown",
   "metadata": {},
   "source": [
    "- 전체적으로 놓고 보았을 때는 12시에 주문량이 가장 많았지만, \n",
    "- 이 사람은 2시에 주문을 가장 많이 했다.\n",
    "    > 이 사람은 2시에 쿠폰을 보내는 것이 가장 합리적임."
   ]
  },
  {
   "cell_type": "markdown",
   "metadata": {},
   "source": [
    "### 사용자별 최대 주문 시간 계산하기\n",
    "- 가장 많은 주문량을 보인 시간을 계산"
   ]
  },
  {
   "cell_type": "code",
   "execution_count": 124,
   "metadata": {},
   "outputs": [
    {
     "data": {
      "text/plain": [
       "CustomerID\n",
       "12346    (12346, 10)\n",
       "12347    (12347, 14)\n",
       "12348    (12348, 19)\n",
       "12349     (12349, 9)\n",
       "12350    (12350, 16)\n",
       "12352    (12352, 14)\n",
       "12353    (12353, 17)\n",
       "12354    (12354, 13)\n",
       "12355    (12355, 13)\n",
       "12356     (12356, 9)\n",
       "Name: StockCode, dtype: object"
      ]
     },
     "execution_count": 124,
     "metadata": {},
     "output_type": "execute_result"
    }
   ],
   "source": [
    "idx = order_count_by_hour.groupby('CustomerID').idxmax()\n",
    "# idxmax는 최대 값을 갖는 Index를 반환시키는 함수.\n",
    "idx[:10]"
   ]
  },
  {
   "cell_type": "markdown",
   "metadata": {},
   "source": [
    "### 해당 시간 indexing"
   ]
  },
  {
   "cell_type": "code",
   "execution_count": 126,
   "metadata": {},
   "outputs": [
    {
     "data": {
      "text/plain": [
       "CustomerID    \n",
       "12346       10     1\n",
       "12347       14    60\n",
       "12348       19    17\n",
       "12349       9     73\n",
       "12350       16    17\n",
       "12352       14    52\n",
       "12353       17     4\n",
       "12354       13    58\n",
       "12355       13    13\n",
       "12356       9     36\n",
       "Name: StockCode, dtype: int64"
      ]
     },
     "execution_count": 126,
     "metadata": {},
     "output_type": "execute_result"
    }
   ],
   "source": [
    "order_count_by_hour.loc[idx][:10]"
   ]
  },
  {
   "cell_type": "markdown",
   "metadata": {},
   "source": [
    "- 사용자 별로 어떤 시간대에 최대 아이템 구매가 이루어지는지 알 수 있음."
   ]
  },
  {
   "cell_type": "code",
   "execution_count": 130,
   "metadata": {},
   "outputs": [
    {
     "data": {
      "text/plain": [
       "{7: [73, 269, 319, 344, 375, 893, 1667, 2317], 8: [46, 58, 87, 126, 172, 179, 187, 260, 278, 279, 282, 292, 306, 347, 399, 429, 496, 503, 526, 533, 549, 552, 651, 671, 747, 755, 784, 792, 800, 803, 806, 821, 838, 877, 883, 920, 944, 947, 951, 954, 1008, 1093, 1106, 1120, 1138, 1172, 1173, 1217, 1251, 1397, 1422, 1424, 1436, 1472, 1512, 1616, 1621, 1666, 1668, 1678, 1687, 1734, 1759, 1761, 1774, 1791, 1815, 1827, 1846, 1859, 1895, 1900, 1903, 1996, 2018, 2023, 2054, 2085, 2108, 2117, 2167, 2172, 2253, 2380, 2383, 2403, 2404, 2417, 2427, 2462, 2464, 2643, 2749, 2776, 2781, 2896, 2936, 2949, 3021, 3130, ...], 9: [3, 9, 26, 30, 33, 35, 37, 48, 60, 66, 75, 84, 86, 90, 100, 106, 107, 121, 127, 135, 138, 142, 144, 146, 154, 159, 181, 199, 230, 240, 264, 265, 267, 277, 280, 286, 294, 298, 328, 333, 336, 342, 343, 352, 362, 366, 385, 402, 421, 459, 470, 475, 478, 482, 483, 509, 517, 519, 574, 603, 615, 630, 636, 642, 644, 691, 701, 706, 707, 746, 749, 752, 764, 770, 781, 783, 818, 825, 829, 844, 859, 874, 887, 925, 934, 950, 969, 981, 992, 998, 1003, 1004, 1016, 1032, 1038, 1045, 1050, 1053, 1063, 1082, ...], 10: [0, 11, 21, 27, 28, 41, 42, 45, 49, 51, 55, 61, 77, 93, 94, 103, 104, 105, 110, 113, 122, 132, 137, 140, 147, 150, 155, 156, 165, 168, 169, 174, 178, 182, 186, 195, 205, 206, 208, 216, 217, 222, 231, 233, 242, 251, 252, 255, 263, 275, 276, 287, 288, 290, 293, 301, 310, 314, 322, 331, 337, 339, 341, 348, 359, 360, 361, 363, 364, 365, 379, 381, 407, 437, 439, 441, 443, 450, 464, 465, 468, 471, 481, 499, 500, 511, 516, 529, 541, 553, 560, 563, 570, 578, 584, 586, 590, 591, 595, 596, ...], 11: [29, 32, 34, 57, 99, 102, 111, 124, 139, 148, 163, 171, 176, 188, 207, 220, 223, 228, 234, 246, 253, 254, 256, 266, 272, 311, 313, 315, 324, 326, 330, 346, 349, 355, 356, 380, 393, 400, 419, 423, 424, 427, 430, 431, 449, 458, 462, 485, 487, 515, 521, 528, 542, 545, 550, 559, 567, 569, 575, 605, 616, 635, 648, 650, 654, 658, 664, 677, 678, 680, 692, 693, 694, 702, 712, 729, 744, 748, 763, 765, 771, 778, 793, 798, 812, 819, 824, 828, 831, 837, 843, 846, 851, 856, 866, 868, 869, 873, 875, 903, ...], 12: [12, 20, 22, 36, 50, 62, 64, 67, 72, 74, 81, 116, 120, 123, 145, 151, 158, 160, 164, 189, 191, 193, 200, 203, 209, 226, 237, 238, 241, 243, 244, 245, 249, 259, 270, 271, 284, 297, 305, 308, 317, 327, 332, 335, 350, 357, 367, 371, 376, 377, 388, 390, 391, 397, 398, 403, 404, 414, 415, 418, 428, 432, 435, 436, 440, 451, 460, 473, 477, 488, 489, 490, 492, 495, 504, 510, 525, 540, 565, 568, 577, 582, 585, 594, 598, 599, 611, 612, 613, 622, 624, 625, 631, 634, 643, 649, 653, 655, 666, 675, ...], 13: [7, 8, 14, 16, 18, 23, 43, 44, 52, 59, 70, 71, 76, 82, 83, 97, 98, 108, 112, 114, 115, 119, 143, 149, 166, 167, 183, 190, 198, 201, 202, 204, 212, 213, 225, 227, 232, 236, 239, 257, 258, 262, 300, 303, 312, 329, 340, 351, 353, 368, 369, 372, 374, 382, 383, 384, 394, 396, 406, 416, 417, 422, 438, 445, 448, 452, 455, 456, 466, 474, 493, 505, 506, 512, 534, 535, 537, 548, 551, 556, 561, 581, 601, 609, 610, 614, 617, 623, 632, 639, 647, 659, 660, 668, 669, 676, 681, 684, 685, 687, ...], 14: [1, 5, 25, 31, 38, 40, 54, 56, 69, 78, 79, 85, 88, 95, 96, 101, 109, 118, 125, 129, 130, 131, 141, 152, 162, 173, 175, 177, 196, 197, 215, 219, 221, 247, 273, 281, 291, 295, 296, 318, 325, 334, 354, 358, 389, 395, 401, 405, 408, 412, 413, 425, 433, 457, 461, 463, 480, 486, 491, 494, 501, 507, 520, 522, 524, 530, 538, 539, 555, 557, 562, 572, 573, 579, 583, 588, 589, 618, 626, 627, 640, 641, 645, 646, 661, 663, 665, 696, 697, 699, 720, 725, 726, 735, 745, 760, 761, 799, 801, 809, ...], 15: [13, 15, 17, 24, 65, 68, 91, 92, 117, 134, 136, 161, 170, 180, 184, 194, 211, 214, 218, 229, 235, 250, 268, 274, 285, 299, 304, 307, 309, 338, 345, 373, 378, 386, 392, 409, 410, 411, 434, 444, 446, 467, 476, 479, 497, 498, 502, 513, 514, 527, 531, 532, 536, 544, 564, 566, 576, 592, 600, 602, 607, 619, 620, 621, 629, 638, 674, 689, 705, 714, 734, 739, 740, 777, 787, 789, 791, 796, 804, 814, 823, 827, 832, 855, 857, 861, 882, 888, 900, 902, 935, 938, 941, 952, 953, 962, 972, 977, 979, 982, ...], 16: [4, 10, 19, 39, 53, 128, 133, 157, 192, 210, 224, 248, 302, 316, 323, 370, 387, 420, 442, 447, 454, 469, 472, 484, 518, 523, 543, 546, 554, 558, 580, 587, 604, 628, 657, 662, 672, 682, 704, 788, 794, 833, 834, 847, 850, 908, 930, 940, 964, 970, 999, 1029, 1036, 1048, 1067, 1096, 1107, 1115, 1116, 1144, 1174, 1177, 1189, 1219, 1224, 1239, 1270, 1273, 1279, 1288, 1314, 1322, 1331, 1343, 1355, 1359, 1366, 1377, 1380, 1468, 1473, 1477, 1484, 1488, 1490, 1500, 1506, 1526, 1564, 1566, 1574, 1585, 1638, 1676, 1692, 1772, 1799, 1820, 1834, 1848, ...], 17: [6, 63, 89, 153, 185, 261, 283, 289, 321, 426, 508, 547, 571, 593, 652, 670, 703, 719, 722, 754, 836, 845, 907, 936, 1019, 1088, 1140, 1188, 1240, 1296, 1379, 1489, 1540, 1578, 1588, 1590, 1603, 1628, 1640, 1642, 1679, 1739, 1742, 1889, 1906, 1940, 2058, 2156, 2169, 2274, 2279, 2340, 2374, 2408, 2443, 2515, 2566, 2568, 2583, 2594, 2602, 2621, 2644, 2661, 2853, 2856, 2886, 2928, 2948, 2978, 2995, 3004, 3069, 3102, 3141, 3173, 3185, 3226, 3230, 3277, 3323, 3401, 3404, 3425, 3443, 3461, 3462, 3466, 3512, 3543, 3559, 3598, 3639, 3659, 3677, 3690, 3716, 3727, 3736, 3739, ...], 18: [80, 320, 453, 637, 767, 862, 879, 1128, 1326, 1378, 1498, 1519, 1624, 1652, 1758, 1768, 1844, 2879, 3198, 3467, 3511, 3537, 3767, 3802, 3820, 3837, 4072, 4077, 4079, 4273], 19: [2, 47, 667, 1589, 1591, 1639, 1730, 1776, 1928, 2044, 2448, 2548, 2876, 3002, 3047, 3261, 3274, 3479, 3556, 3652, 3685, 3789, 3812, 4324], 20: [1646, 1943, 3804, 3838, 4050, 4110]}"
      ]
     },
     "execution_count": 130,
     "metadata": {},
     "output_type": "execute_result"
    }
   ],
   "source": [
    "# 시간대 별로 어떤 사용자가 가장 많은 주문을 하였는지?\n",
    "result = order_count_by_hour.loc[idx]\n",
    "result.reset_index().groupby('level_1').groups"
   ]
  },
  {
   "cell_type": "markdown",
   "metadata": {},
   "source": [
    "- 각 시간대 별로 구매를 가장 많이 한 사용자의 CustomID가 출력됨.\n",
    "- 시간대 별로 고객을 개인 타게팅하는 것이 효율적."
   ]
  },
  {
   "cell_type": "code",
   "execution_count": null,
   "metadata": {},
   "outputs": [],
   "source": []
  }
 ],
 "metadata": {
  "kernelspec": {
   "display_name": "Python 3",
   "language": "python",
   "name": "python3"
  },
  "language_info": {
   "codemirror_mode": {
    "name": "ipython",
    "version": 3
   },
   "file_extension": ".py",
   "mimetype": "text/x-python",
   "name": "python",
   "nbconvert_exporter": "python",
   "pygments_lexer": "ipython3",
   "version": "3.8.5"
  }
 },
 "nbformat": 4,
 "nbformat_minor": 4
}
