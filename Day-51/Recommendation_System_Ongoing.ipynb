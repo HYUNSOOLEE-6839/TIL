{
  "nbformat": 4,
  "nbformat_minor": 0,
  "metadata": {
    "colab": {
      "name": "Recommendation_System2.ipynb",
      "provenance": [],
      "collapsed_sections": []
    },
    "kernelspec": {
      "name": "python3",
      "display_name": "Python 3"
    },
    "language_info": {
      "name": "python"
    }
  },
  "cells": [
    {
      "cell_type": "markdown",
      "metadata": {
        "id": "1cwsEXbiW94Z"
      },
      "source": [
        "# 추천 시스템 - 영화 데이터셋과 Rating Matrix를 활용하여 추천 모델 학습하기"
      ]
    },
    {
      "cell_type": "markdown",
      "metadata": {
        "id": "duVktKsfXEnk"
      },
      "source": [
        "- MovieLens Dataset\n",
        "\n",
        "1.  ratings.dat <br>\n",
        "  user_id : 영화를 시청한 사용자 아이디 <br>\n",
        "  movie_id : 영화의 아이디 <br>\n",
        "  rating : 평가점수 <br>\n",
        "  time : 영화 시청 시간 <br>\n",
        "<hr>\n",
        "2.  movies_dat <br>\n",
        "  movie_id : 영화의 아이디\n",
        "  title : 영화 제목<br>\n",
        "  genre : 영화 장르"
      ]
    },
    {
      "cell_type": "markdown",
      "metadata": {
        "id": "8iP1oas0Xiib"
      },
      "source": [
        "### 데이터 전처리"
      ]
    },
    {
      "cell_type": "code",
      "metadata": {
        "colab": {
          "base_uri": "https://localhost:8080/",
          "height": 204
        },
        "id": "L6TU-s20WpoS",
        "outputId": "52efe810-2974-48e1-8377-cef5dace8e1a"
      },
      "source": [
        "# 데이터 불러오기\n",
        "import pandas as pd\n",
        "\n",
        "rating_url = \"https://raw.githubusercontent.com/yoonkt200/python-data-analysis/master/data/ml-1m/ratings.dat\"\n",
        "rating_df = pd.io.parsers.read_csv(rating_url, names=[\"user_id\", \"movie_id\", \"rating\", \"time\"], delimiter ='::', engine='python')\n",
        "rating_df.head()"
      ],
      "execution_count": 1,
      "outputs": [
        {
          "output_type": "execute_result",
          "data": {
            "text/html": [
              "<div>\n",
              "<style scoped>\n",
              "    .dataframe tbody tr th:only-of-type {\n",
              "        vertical-align: middle;\n",
              "    }\n",
              "\n",
              "    .dataframe tbody tr th {\n",
              "        vertical-align: top;\n",
              "    }\n",
              "\n",
              "    .dataframe thead th {\n",
              "        text-align: right;\n",
              "    }\n",
              "</style>\n",
              "<table border=\"1\" class=\"dataframe\">\n",
              "  <thead>\n",
              "    <tr style=\"text-align: right;\">\n",
              "      <th></th>\n",
              "      <th>user_id</th>\n",
              "      <th>movie_id</th>\n",
              "      <th>rating</th>\n",
              "      <th>time</th>\n",
              "    </tr>\n",
              "  </thead>\n",
              "  <tbody>\n",
              "    <tr>\n",
              "      <th>0</th>\n",
              "      <td>1</td>\n",
              "      <td>1193</td>\n",
              "      <td>5</td>\n",
              "      <td>978300760</td>\n",
              "    </tr>\n",
              "    <tr>\n",
              "      <th>1</th>\n",
              "      <td>1</td>\n",
              "      <td>661</td>\n",
              "      <td>3</td>\n",
              "      <td>978302109</td>\n",
              "    </tr>\n",
              "    <tr>\n",
              "      <th>2</th>\n",
              "      <td>1</td>\n",
              "      <td>914</td>\n",
              "      <td>3</td>\n",
              "      <td>978301968</td>\n",
              "    </tr>\n",
              "    <tr>\n",
              "      <th>3</th>\n",
              "      <td>1</td>\n",
              "      <td>3408</td>\n",
              "      <td>4</td>\n",
              "      <td>978300275</td>\n",
              "    </tr>\n",
              "    <tr>\n",
              "      <th>4</th>\n",
              "      <td>1</td>\n",
              "      <td>2355</td>\n",
              "      <td>5</td>\n",
              "      <td>978824291</td>\n",
              "    </tr>\n",
              "  </tbody>\n",
              "</table>\n",
              "</div>"
            ],
            "text/plain": [
              "   user_id  movie_id  rating       time\n",
              "0        1      1193       5  978300760\n",
              "1        1       661       3  978302109\n",
              "2        1       914       3  978301968\n",
              "3        1      3408       4  978300275\n",
              "4        1      2355       5  978824291"
            ]
          },
          "metadata": {
            "tags": []
          },
          "execution_count": 1
        }
      ]
    },
    {
      "cell_type": "code",
      "metadata": {
        "colab": {
          "base_uri": "https://localhost:8080/",
          "height": 204
        },
        "id": "-yWNZ19wX2SP",
        "outputId": "eeb85d28-3d58-4e3b-80eb-6d38e5136620"
      },
      "source": [
        "movie_url = \"https://raw.githubusercontent.com/yoonkt200/python-data-analysis/master/data/ml-1m/movies.dat\"\n",
        "movie_df = pd.io.parsers.read_csv(movie_url, names=[\"movie_id\", \"title\", \"genre\"], delimiter ='::', engine='python', encoding='ISO-8859-1')\n",
        "movie_df.head()"
      ],
      "execution_count": 2,
      "outputs": [
        {
          "output_type": "execute_result",
          "data": {
            "text/html": [
              "<div>\n",
              "<style scoped>\n",
              "    .dataframe tbody tr th:only-of-type {\n",
              "        vertical-align: middle;\n",
              "    }\n",
              "\n",
              "    .dataframe tbody tr th {\n",
              "        vertical-align: top;\n",
              "    }\n",
              "\n",
              "    .dataframe thead th {\n",
              "        text-align: right;\n",
              "    }\n",
              "</style>\n",
              "<table border=\"1\" class=\"dataframe\">\n",
              "  <thead>\n",
              "    <tr style=\"text-align: right;\">\n",
              "      <th></th>\n",
              "      <th>movie_id</th>\n",
              "      <th>title</th>\n",
              "      <th>genre</th>\n",
              "    </tr>\n",
              "  </thead>\n",
              "  <tbody>\n",
              "    <tr>\n",
              "      <th>0</th>\n",
              "      <td>1</td>\n",
              "      <td>Toy Story (1995)</td>\n",
              "      <td>Animation|Children's|Comedy</td>\n",
              "    </tr>\n",
              "    <tr>\n",
              "      <th>1</th>\n",
              "      <td>2</td>\n",
              "      <td>Jumanji (1995)</td>\n",
              "      <td>Adventure|Children's|Fantasy</td>\n",
              "    </tr>\n",
              "    <tr>\n",
              "      <th>2</th>\n",
              "      <td>3</td>\n",
              "      <td>Grumpier Old Men (1995)</td>\n",
              "      <td>Comedy|Romance</td>\n",
              "    </tr>\n",
              "    <tr>\n",
              "      <th>3</th>\n",
              "      <td>4</td>\n",
              "      <td>Waiting to Exhale (1995)</td>\n",
              "      <td>Comedy|Drama</td>\n",
              "    </tr>\n",
              "    <tr>\n",
              "      <th>4</th>\n",
              "      <td>5</td>\n",
              "      <td>Father of the Bride Part II (1995)</td>\n",
              "      <td>Comedy</td>\n",
              "    </tr>\n",
              "  </tbody>\n",
              "</table>\n",
              "</div>"
            ],
            "text/plain": [
              "   movie_id                               title                         genre\n",
              "0         1                    Toy Story (1995)   Animation|Children's|Comedy\n",
              "1         2                      Jumanji (1995)  Adventure|Children's|Fantasy\n",
              "2         3             Grumpier Old Men (1995)                Comedy|Romance\n",
              "3         4            Waiting to Exhale (1995)                  Comedy|Drama\n",
              "4         5  Father of the Bride Part II (1995)                        Comedy"
            ]
          },
          "metadata": {
            "tags": []
          },
          "execution_count": 2
        }
      ]
    },
    {
      "cell_type": "code",
      "metadata": {
        "colab": {
          "base_uri": "https://localhost:8080/"
        },
        "id": "agoJ3vBpYRWo",
        "outputId": "5aff52dd-b725-49fb-a58a-6954a0cf1fdd"
      },
      "source": [
        "# 사용자 수\n",
        "len(rating_df[\"user_id\"].unique())"
      ],
      "execution_count": 3,
      "outputs": [
        {
          "output_type": "execute_result",
          "data": {
            "text/plain": [
              "6040"
            ]
          },
          "metadata": {
            "tags": []
          },
          "execution_count": 3
        }
      ]
    },
    {
      "cell_type": "code",
      "metadata": {
        "colab": {
          "base_uri": "https://localhost:8080/"
        },
        "id": "DD-0kr44Ygs-",
        "outputId": "1e1808dd-7ed2-4c17-f015-2dba1c70579c"
      },
      "source": [
        "# 영화 수\n",
        "len(rating_df[\"movie_id\"].unique())"
      ],
      "execution_count": 4,
      "outputs": [
        {
          "output_type": "execute_result",
          "data": {
            "text/plain": [
              "3706"
            ]
          },
          "metadata": {
            "tags": []
          },
          "execution_count": 4
        }
      ]
    },
    {
      "cell_type": "code",
      "metadata": {
        "id": "0jy8duJaYjLI"
      },
      "source": [
        "import matplotlib.pyplot as plt"
      ],
      "execution_count": 5,
      "outputs": []
    },
    {
      "cell_type": "code",
      "metadata": {
        "colab": {
          "base_uri": "https://localhost:8080/",
          "height": 265
        },
        "id": "oSUxPeFPYlka",
        "outputId": "6244457c-2e59-4023-b136-1ae08df7ea3a"
      },
      "source": [
        "# 영화 평가 점수 분포\n",
        "rating_df['rating'].hist();"
      ],
      "execution_count": 6,
      "outputs": [
        {
          "output_type": "display_data",
          "data": {
            "image/png": "[encoded data removed]",
            "text/plain": [
              "<Figure size 432x288 with 1 Axes>"
            ]
          },
          "metadata": {
            "tags": [],
            "needs_background": "light"
          }
        }
      ]
    },
    {
      "cell_type": "markdown",
      "metadata": {
        "id": "Gf5JoJeUY3uP"
      },
      "source": [
        "### CF-based 모델링(KNN)"
      ]
    },
    {
      "cell_type": "markdown",
      "metadata": {
        "id": "2Mg7Nxb3ZEXl"
      },
      "source": [
        "### Rating Matrix와 Colaborative Filtering(CF)\n",
        "\n",
        "- 1. User를 Row, Item을 Column으로 하며 Value를 Rating으로 하는 행렬\n",
        "- 2. Rating의 종류\n",
        "  > Explicit Feedback : 영화 점수, 리뷰 점수, 좋아요 표시 ...<br>\n",
        "  > Implicit Feedback : 조회, 시청, 구매, 찜 표시 ...\n",
        "- 3. Rating Matrix를 추천 모델로 활용하는 방법\n",
        "  > Colaborative Filtering (CF) <br>\n",
        "  > Matrix Factorization (MF)"
      ]
    },
    {
      "cell_type": "markdown",
      "metadata": {
        "id": "5jIbSpySZrl-"
      },
      "source": [
        "### Train/Test 데이터 분리"
      ]
    },
    {
      "cell_type": "code",
      "metadata": {
        "colab": {
          "base_uri": "https://localhost:8080/"
        },
        "id": "x2tozvpWYnHy",
        "outputId": "1be7417e-45ac-4f77-952e-0f41250687f2"
      },
      "source": [
        "!pip install surprise"
      ],
      "execution_count": 7,
      "outputs": [
        {
          "output_type": "stream",
          "text": [
            "Requirement already satisfied: surprise in /usr/local/lib/python3.7/dist-packages (0.1)\n",
            "Requirement already satisfied: scikit-surprise in /usr/local/lib/python3.7/dist-packages (from surprise) (1.1.1)\n",
            "Requirement already satisfied: joblib>=0.11 in /usr/local/lib/python3.7/dist-packages (from scikit-surprise->surprise) (1.0.1)\n",
            "Requirement already satisfied: six>=1.10.0 in /usr/local/lib/python3.7/dist-packages (from scikit-surprise->surprise) (1.15.0)\n",
            "Requirement already satisfied: scipy>=1.0.0 in /usr/local/lib/python3.7/dist-packages (from scikit-surprise->surprise) (1.4.1)\n",
            "Requirement already satisfied: numpy>=1.11.2 in /usr/local/lib/python3.7/dist-packages (from scikit-surprise->surprise) (1.19.5)\n"
          ],
          "name": "stdout"
        }
      ]
    },
    {
      "cell_type": "code",
      "metadata": {
        "id": "dof1VA7mZuF8"
      },
      "source": [
        "from surprise import Dataset, Reader\n",
        "from surprise.model_selection import train_test_split\n",
        "\n",
        "reader = Reader(rating_scale=(1,5)) # 1점부터 5점까지\n",
        "data = Dataset.load_from_df(rating_df[[\"user_id\", \"movie_id\", \"rating\"]], reader) # 행, 열, 행과 열이 만나는 지점에서의 rating 값\n",
        "trainset, testset = train_test_split(data, test_size=0.25)"
      ],
      "execution_count": 8,
      "outputs": []
    },
    {
      "cell_type": "markdown",
      "metadata": {
        "id": "FzYe6jAMadxf"
      },
      "source": [
        "### KNN 모델 학습\n",
        "- KNN? (K-Nearest Neighbor)\n",
        "  - 1. 새로운(혹은 특정한) 데이터 포인트 X가 있을 때, X와 가장 유사한 k개를 이용하여 데이터 포인트 X의 위치를 찾는 알고리즘\n",
        "  - 2. euclidean distance, cosine similarity 등을 기준으로 유사한 k개를 계산\n",
        "  - 3. 분류(classification) 문제의 경우는 k개의 포인트에서 가장 많이 등장한 class로 할당\n",
        "  - 4. 예측(regression) 문제의 경우는 k개 포인트의 평군 값, 혹은 가중치 값 등으로 X의 값을 예측."
      ]
    },
    {
      "cell_type": "code",
      "metadata": {
        "colab": {
          "base_uri": "https://localhost:8080/"
        },
        "id": "PssgzaU3aKPo",
        "outputId": "3b29b10d-dcfb-4bf7-9e60-618fdf572a7b"
      },
      "source": [
        "# KNN 예제 코드\n",
        "ab = (0.9 * 4) + (0.8 * 3) + (0.7 * 5) + (0.6 * 1)\n",
        "bb = (0.9) + 0.8 + 0.7 + 0.6\n",
        "\n",
        "ab/bb"
      ],
      "execution_count": 9,
      "outputs": [
        {
          "output_type": "execute_result",
          "data": {
            "text/plain": [
              "3.3666666666666663"
            ]
          },
          "metadata": {
            "tags": []
          },
          "execution_count": 9
        }
      ]
    },
    {
      "cell_type": "code",
      "metadata": {
        "colab": {
          "base_uri": "https://localhost:8080/"
        },
        "id": "skn7gVvybrBi",
        "outputId": "04575416-6b64-4506-e608-04949cf143b7"
      },
      "source": [
        "from surprise import KNNBasic\n",
        "from surprise import accuracy\n",
        "\n",
        "algo = KNNBasic(k=40, min_k=1, sim_options={\"user_based\":True, \"name\":\"cosine\"})\n",
        "algo.fit(trainset)\n",
        "predictions=algo.test(testset)"
      ],
      "execution_count": 10,
      "outputs": [
        {
          "output_type": "stream",
          "text": [
            "Computing the cosine similarity matrix...\n",
            "Done computing similarity matrix.\n"
          ],
          "name": "stdout"
        }
      ]
    },
    {
      "cell_type": "markdown",
      "metadata": {
        "id": "F6LCDW-pgsv0"
      },
      "source": [
        "### 모델링 - RMSE 평가"
      ]
    },
    {
      "cell_type": "code",
      "metadata": {
        "colab": {
          "base_uri": "https://localhost:8080/"
        },
        "id": "rwcvHqnYcCGf",
        "outputId": "1ba9d83c-eae3-416c-865f-d28e6f113377"
      },
      "source": [
        "accuracy.rmse(predictions)"
      ],
      "execution_count": 11,
      "outputs": [
        {
          "output_type": "stream",
          "text": [
            "RMSE: 0.9767\n"
          ],
          "name": "stdout"
        },
        {
          "output_type": "execute_result",
          "data": {
            "text/plain": [
              "0.9766985336728236"
            ]
          },
          "metadata": {
            "tags": []
          },
          "execution_count": 11
        }
      ]
    },
    {
      "cell_type": "code",
      "metadata": {
        "id": "zpc331PugvhU"
      },
      "source": [
        "# 테스트 데이터셋 일부 결과 확인 - 모델평가\n",
        "predictions = algo.test(testset[:20])"
      ],
      "execution_count": 12,
      "outputs": []
    },
    {
      "cell_type": "code",
      "metadata": {
        "id": "DcAL6f4bg5oT",
        "colab": {
          "base_uri": "https://localhost:8080/"
        },
        "outputId": "2d0ee30b-b8b1-4023-b0e3-5618bd8432e8"
      },
      "source": [
        "predictions"
      ],
      "execution_count": 13,
      "outputs": [
        {
          "output_type": "execute_result",
          "data": {
            "text/plain": [
              "[Prediction(uid=1837, iid=2761, r_ui=4.0, est=4.349341470453839, details={'actual_k': 40, 'was_impossible': False}),\n",
              " Prediction(uid=2944, iid=2144, r_ui=5.0, est=4.0495187737850795, details={'actual_k': 40, 'was_impossible': False}),\n",
              " Prediction(uid=4953, iid=3362, r_ui=4.0, est=4.149852221184228, details={'actual_k': 40, 'was_impossible': False}),\n",
              " Prediction(uid=5390, iid=1556, r_ui=3.0, est=1.975583927377725, details={'actual_k': 40, 'was_impossible': False}),\n",
              " Prediction(uid=889, iid=1644, r_ui=2.0, est=2.901636008760206, details={'actual_k': 40, 'was_impossible': False}),\n",
              " Prediction(uid=3682, iid=105, r_ui=4.0, est=3.424336216870276, details={'actual_k': 40, 'was_impossible': False}),\n",
              " Prediction(uid=4673, iid=2151, r_ui=5.0, est=3.3757998648568694, details={'actual_k': 40, 'was_impossible': False}),\n",
              " Prediction(uid=309, iid=1250, r_ui=4.0, est=4.525125298495413, details={'actual_k': 40, 'was_impossible': False}),\n",
              " Prediction(uid=26, iid=1994, r_ui=2.0, est=3.571781662935389, details={'actual_k': 40, 'was_impossible': False}),\n",
              " Prediction(uid=288, iid=2167, r_ui=5.0, est=3.8498127121758188, details={'actual_k': 40, 'was_impossible': False}),\n",
              " Prediction(uid=692, iid=3707, r_ui=3.0, est=3.2245662629385397, details={'actual_k': 40, 'was_impossible': False}),\n",
              " Prediction(uid=2398, iid=345, r_ui=5.0, est=4.0495150842419365, details={'actual_k': 40, 'was_impossible': False}),\n",
              " Prediction(uid=2954, iid=2701, r_ui=3.0, est=2.4, details={'actual_k': 40, 'was_impossible': False}),\n",
              " Prediction(uid=2389, iid=663, r_ui=5.0, est=3.724836964760376, details={'actual_k': 40, 'was_impossible': False}),\n",
              " Prediction(uid=4831, iid=2028, r_ui=5.0, est=4.549924776175463, details={'actual_k': 40, 'was_impossible': False}),\n",
              " Prediction(uid=651, iid=3681, r_ui=4.0, est=4.099729233842803, details={'actual_k': 40, 'was_impossible': False}),\n",
              " Prediction(uid=1449, iid=3504, r_ui=4.0, est=4.375475350946831, details={'actual_k': 40, 'was_impossible': False}),\n",
              " Prediction(uid=2320, iid=1180, r_ui=4.0, est=3.840220621293745, details={'actual_k': 34, 'was_impossible': False}),\n",
              " Prediction(uid=2946, iid=95, r_ui=2.0, est=2.924472522756538, details={'actual_k': 40, 'was_impossible': False}),\n",
              " Prediction(uid=4710, iid=1235, r_ui=5.0, est=4.325, details={'actual_k': 40, 'was_impossible': False})]"
            ]
          },
          "metadata": {
            "tags": []
          },
          "execution_count": 13
        }
      ]
    },
    {
      "cell_type": "markdown",
      "metadata": {
        "id": "ejfS1baKpjhl"
      },
      "source": [
        "### MF-Based Modeling\n",
        "- MF의 대략적인 이해\n",
        "  - 1. 원래의 행렬을 다른 2개 행렬로 분해하고, 이를 다시 원래 모양으로 만드는 과정을 Factorization이라고 함.\n",
        "  - 2. 그 과정에서 Latent Facotr 라는 것을 활용하여, 행과 열의 성질을 만들어낼 수 있음.\n",
        "  - 3. latent factor를 충분히 많이 만들게 되면, 유저와 아이템의 성질을 벡터로 표현 가능.\n",
        "  - 4. 일반적으로 지도 학습을 통해 P와 Q를 찾게 되고, 이를 Model-based CF라고 하기도 함."
      ]
    },
    {
      "cell_type": "code",
      "metadata": {
        "id": "atCWWdvAg6LV"
      },
      "source": [
        "reader = Reader(rating_scale=(1,5)) # 1점부터 5점까지\n",
        "data = Dataset.load_from_df(rating_df[[\"user_id\", \"movie_id\", \"rating\"]], reader) # 행, 열, 행과 열이 만나는 지점에서의 rating 값\n",
        "trainset, testset = train_test_split(data, test_size=0.25)"
      ],
      "execution_count": 14,
      "outputs": []
    },
    {
      "cell_type": "code",
      "metadata": {
        "id": "zPmF4-EerEDU"
      },
      "source": [
        "from surprise import SVD\n",
        "from surprise import accuracy\n",
        "\n",
        "algo = SVD()\n",
        "algo.fit(trainset)\n",
        "predictions = algo.test(testset)"
      ],
      "execution_count": 15,
      "outputs": []
    },
    {
      "cell_type": "code",
      "metadata": {
        "colab": {
          "base_uri": "https://localhost:8080/"
        },
        "id": "ic-UGZ8Kr2ig",
        "outputId": "dd9715b4-73ea-4147-d20c-3d8166dcb09d"
      },
      "source": [
        "# RMSE 평가\n",
        "accuracy.rmse(predictions)"
      ],
      "execution_count": 16,
      "outputs": [
        {
          "output_type": "stream",
          "text": [
            "RMSE: 0.8768\n"
          ],
          "name": "stdout"
        },
        {
          "output_type": "execute_result",
          "data": {
            "text/plain": [
              "0.8767948231603048"
            ]
          },
          "metadata": {
            "tags": []
          },
          "execution_count": 16
        }
      ]
    },
    {
      "cell_type": "markdown",
      "metadata": {
        "id": "o8ynoDLisFEn"
      },
      "source": [
        "### 모델링 & 시각화 - RMSE를 개선하는 파라미터 튜닝 자동화"
      ]
    },
    {
      "cell_type": "code",
      "metadata": {
        "colab": {
          "base_uri": "https://localhost:8080/"
        },
        "id": "e58RaFZasDCa",
        "outputId": "3f2c3682-af32-4d93-84c8-a0bbe234beba"
      },
      "source": [
        "import time\n",
        "\n",
        "param_list = [10, 50, 100, 150, 200]\n",
        "rmse_list_by_factors = []\n",
        "ttime_list_by_factors = []\n",
        "for n in param_list:\n",
        "  train_start = time.time()\n",
        "  algo = SVD(n_factors=n)\n",
        "  algo.fit(trainset)\n",
        "  train_end = time.time()\n",
        "  print(\"training time of model: %.2f seconds\" % (train_end - train_start))\n",
        "  print(\"RMSE of test dataset in SVD model, n_factors=\" + str(n))\n",
        "  predictions = algo.test(testset)\n",
        "  rmse_result = accuracy.rmse(predictions)\n",
        "  rmse_list_by_factors.append(rmse_result)\n",
        "  ttime_list_by_factors.append((train_end - train_start))\n",
        "  print(\"---------------------\")\n",
        "print(\"searching n_factors is finish.\")"
      ],
      "execution_count": 17,
      "outputs": [
        {
          "output_type": "stream",
          "text": [
            "training time of model: 17.59 seconds\n",
            "RMSE of test dataset in SVD model, n_factors=10\n",
            "RMSE: 0.8793\n",
            "---------------------\n",
            "training time of model: 27.93 seconds\n",
            "RMSE of test dataset in SVD model, n_factors=50\n",
            "RMSE: 0.8742\n",
            "---------------------\n",
            "training time of model: 40.32 seconds\n",
            "RMSE of test dataset in SVD model, n_factors=100\n",
            "RMSE: 0.8775\n",
            "---------------------\n",
            "training time of model: 53.47 seconds\n",
            "RMSE of test dataset in SVD model, n_factors=150\n",
            "RMSE: 0.8805\n",
            "---------------------\n",
            "training time of model: 65.88 seconds\n",
            "RMSE of test dataset in SVD model, n_factors=200\n",
            "RMSE: 0.8826\n",
            "---------------------\n",
            "searching n_factors is finish.\n"
          ],
          "name": "stdout"
        }
      ]
    },
    {
      "cell_type": "code",
      "metadata": {
        "colab": {
          "base_uri": "https://localhost:8080/",
          "height": 298
        },
        "id": "kEsqClZut56E",
        "outputId": "3cbb4fa1-ca4d-4047-d424-de1e9dea5162"
      },
      "source": [
        "plt.plot(param_list, rmse_list_by_factors)\n",
        "plt.title(\"RMSE by n_factors of SVD\")\n",
        "plt.ylabel(\"RMSE\", fontsize=12)\n",
        "plt.xlabel(\"n_factors\", fontsize=12)\n",
        "plt.show()"
      ],
      "execution_count": 18,
      "outputs": [
        {
          "output_type": "display_data",
          "data": {
            "image/png": "[encoded data removed]",
            "text/plain": [
              "<Figure size 432x288 with 1 Axes>"
            ]
          },
          "metadata": {
            "tags": [],
            "needs_background": "light"
          }
        }
      ]
    },
    {
      "cell_type": "code",
      "metadata": {
        "colab": {
          "base_uri": "https://localhost:8080/"
        },
        "id": "4FOHkZ4Asoh8",
        "outputId": "aaf8551f-9c4a-4fa4-aa64-a61f3a0d20f6"
      },
      "source": [
        " # 최종 RMSE 평가\n",
        "algo = SVD(n_factors=50)\n",
        "algo.fit(trainset)\n",
        "predictions = algo.test(testset)\n",
        "accuracy.rmse(predictions)"
      ],
      "execution_count": 19,
      "outputs": [
        {
          "output_type": "stream",
          "text": [
            "RMSE: 0.8744\n"
          ],
          "name": "stdout"
        },
        {
          "output_type": "execute_result",
          "data": {
            "text/plain": [
              "0.8744076201226879"
            ]
          },
          "metadata": {
            "tags": []
          },
          "execution_count": 19
        }
      ]
    },
    {
      "cell_type": "code",
      "metadata": {
        "id": "xny-KuZVw2bz"
      },
      "source": [
        "# 테스트 데이터 셋에서 일부 결과 확인\n",
        "predictions = algo.test((testset[:20]))"
      ],
      "execution_count": 20,
      "outputs": []
    },
    {
      "cell_type": "code",
      "metadata": {
        "colab": {
          "base_uri": "https://localhost:8080/"
        },
        "id": "M-8epDKXw5yn",
        "outputId": "ad8f517f-c09d-4dbb-c438-7a54e18682fe"
      },
      "source": [
        "predictions"
      ],
      "execution_count": 21,
      "outputs": [
        {
          "output_type": "execute_result",
          "data": {
            "text/plain": [
              "[Prediction(uid=5005, iid=1033, r_ui=3.0, est=3.4379882730078646, details={'was_impossible': False}),\n",
              " Prediction(uid=1181, iid=517, r_ui=3.0, est=2.610580112388728, details={'was_impossible': False}),\n",
              " Prediction(uid=3647, iid=111, r_ui=4.0, est=3.802884629136167, details={'was_impossible': False}),\n",
              " Prediction(uid=1447, iid=2167, r_ui=4.0, est=2.7134340666257737, details={'was_impossible': False}),\n",
              " Prediction(uid=3904, iid=1704, r_ui=4.0, est=4.452993856131766, details={'was_impossible': False}),\n",
              " Prediction(uid=3704, iid=3879, r_ui=4.0, est=3.2567756315564784, details={'was_impossible': False}),\n",
              " Prediction(uid=4956, iid=1282, r_ui=4.0, est=4.479999459517203, details={'was_impossible': False}),\n",
              " Prediction(uid=3576, iid=1209, r_ui=4.0, est=3.7469486098477365, details={'was_impossible': False}),\n",
              " Prediction(uid=3942, iid=16, r_ui=5.0, est=3.5466489175961184, details={'was_impossible': False}),\n",
              " Prediction(uid=311, iid=260, r_ui=5.0, est=4.397300580619771, details={'was_impossible': False}),\n",
              " Prediction(uid=1177, iid=2359, r_ui=5.0, est=4.036297726340732, details={'was_impossible': False}),\n",
              " Prediction(uid=1744, iid=1263, r_ui=4.0, est=4.144245159362086, details={'was_impossible': False}),\n",
              " Prediction(uid=780, iid=2089, r_ui=3.0, est=3.101375831413284, details={'was_impossible': False}),\n",
              " Prediction(uid=2445, iid=3527, r_ui=5.0, est=4.191946976263074, details={'was_impossible': False}),\n",
              " Prediction(uid=4186, iid=3593, r_ui=1.0, est=1.151702327831531, details={'was_impossible': False}),\n",
              " Prediction(uid=587, iid=1922, r_ui=3.0, est=3.082862290873565, details={'was_impossible': False}),\n",
              " Prediction(uid=3391, iid=2411, r_ui=4.0, est=3.019815248342413, details={'was_impossible': False}),\n",
              " Prediction(uid=2730, iid=3869, r_ui=4.0, est=3.5668628554194637, details={'was_impossible': False}),\n",
              " Prediction(uid=673, iid=3646, r_ui=1.0, est=1.5310849029276061, details={'was_impossible': False}),\n",
              " Prediction(uid=780, iid=1591, r_ui=4.0, est=2.896212644874006, details={'was_impossible': False})]"
            ]
          },
          "metadata": {
            "tags": []
          },
          "execution_count": 21
        }
      ]
    },
    {
      "cell_type": "markdown",
      "metadata": {
        "id": "X764qPqcxAmo"
      },
      "source": [
        "### 추천 결과 평가\n",
        "- 가정 : 사용자의 과거 Preference는 미래에서도 동일하다\n",
        "- 1. Time Series로 추정된 선호도가 아닌, Estimate 되거나 Factorized된 점수\n",
        "- 2. A시점에 평가한 선호도와, B시점에 평가한 선호도가 동일 선에서 학습됨.\n",
        "- 3. Test 데이터에 대한 평가 역시, 시간이 고려되지 않은 \"랜덤한 빈 공간 찾기\" 식으로 평가됨."
      ]
    },
    {
      "cell_type": "code",
      "metadata": {
        "id": "2HUiJwA2w6Mw"
      },
      "source": [
        "# 추천 결과 평가 - 사용자별 전체 시청리스트 추출\n",
        "user_watch_dict_list = rating_df.groupby('user_id')[['user_id', 'movie_id']].apply(lambda x: x[\"movie_id\"].tolist())"
      ],
      "execution_count": 22,
      "outputs": []
    },
    {
      "cell_type": "code",
      "metadata": {
        "colab": {
          "base_uri": "https://localhost:8080/"
        },
        "id": "D94LoE3SxpmI",
        "outputId": "f535aec9-f7b4-4458-bd5b-020fc51d431e"
      },
      "source": [
        "user_watch_dict_list[:5]"
      ],
      "execution_count": 23,
      "outputs": [
        {
          "output_type": "execute_result",
          "data": {
            "text/plain": [
              "user_id\n",
              "1    [1193, 661, 914, 3408, 2355, 1197, 1287, 2804,...\n",
              "2    [1357, 3068, 1537, 647, 2194, 648, 2268, 2628,...\n",
              "3    [3421, 1641, 648, 1394, 3534, 104, 2735, 1210,...\n",
              "4    [3468, 1210, 2951, 1214, 1036, 260, 2028, 480,...\n",
              "5    [2987, 2333, 1175, 39, 288, 2337, 1535, 1392, ...\n",
              "dtype: object"
            ]
          },
          "metadata": {
            "tags": []
          },
          "execution_count": 23
        }
      ]
    },
    {
      "cell_type": "code",
      "metadata": {
        "colab": {
          "base_uri": "https://localhost:8080/",
          "height": 295
        },
        "id": "NPnJDF8Kxr5f",
        "outputId": "c20bf0fa-84b8-4a5d-a91f-d8cda0090394"
      },
      "source": [
        "# 특정 시간 기준 사용자별 Train/Test  시청리스트 추출\n",
        "rating_df[\"time\"].hist(bins=100)"
      ],
      "execution_count": 24,
      "outputs": [
        {
          "output_type": "execute_result",
          "data": {
            "text/plain": [
              "<matplotlib.axes._subplots.AxesSubplot at 0x7fac6281b510>"
            ]
          },
          "metadata": {
            "tags": []
          },
          "execution_count": 24
        },
        {
          "output_type": "display_data",
          "data": {
            "image/png": "[encoded data removed]",
            "text/plain": [
              "<Figure size 432x288 with 1 Axes>"
            ]
          },
          "metadata": {
            "tags": [],
            "needs_background": "light"
          }
        }
      ]
    },
    {
      "cell_type": "code",
      "metadata": {
        "colab": {
          "base_uri": "https://localhost:8080/"
        },
        "id": "ilX1KSi5xzs0",
        "outputId": "af6093f4-4e27-4f19-e6b7-f509087dc8ed"
      },
      "source": [
        "rating_df[\"time\"].quantile(q=0.8, interpolation='nearest')"
      ],
      "execution_count": 25,
      "outputs": [
        {
          "output_type": "execute_result",
          "data": {
            "text/plain": [
              "975768738"
            ]
          },
          "metadata": {
            "tags": []
          },
          "execution_count": 25
        }
      ]
    },
    {
      "cell_type": "code",
      "metadata": {
        "id": "JVgzjLwmx5-3"
      },
      "source": [
        "train_df = rating_df[rating_df['time'] < 975768738][[\"user_id\", \"movie_id\", \"rating\"]]\n",
        "test_df = rating_df[rating_df['time'] >= 975768738][[\"user_id\", \"movie_id\", \"rating\"]]"
      ],
      "execution_count": 26,
      "outputs": []
    },
    {
      "cell_type": "code",
      "metadata": {
        "colab": {
          "base_uri": "https://localhost:8080/"
        },
        "id": "jemn9JgByHRY",
        "outputId": "c663733e-395b-461a-8c9d-b301a4f7c901"
      },
      "source": [
        "train_df.shape"
      ],
      "execution_count": 27,
      "outputs": [
        {
          "output_type": "execute_result",
          "data": {
            "text/plain": [
              "(800164, 3)"
            ]
          },
          "metadata": {
            "tags": []
          },
          "execution_count": 27
        }
      ]
    },
    {
      "cell_type": "code",
      "metadata": {
        "colab": {
          "base_uri": "https://localhost:8080/"
        },
        "id": "DO4VjWX8yJoK",
        "outputId": "b3879978-7871-4641-dfb3-8491eef9dfd0"
      },
      "source": [
        "test_df.shape"
      ],
      "execution_count": 28,
      "outputs": [
        {
          "output_type": "execute_result",
          "data": {
            "text/plain": [
              "(200045, 3)"
            ]
          },
          "metadata": {
            "tags": []
          },
          "execution_count": 28
        }
      ]
    },
    {
      "cell_type": "code",
      "metadata": {
        "colab": {
          "base_uri": "https://localhost:8080/"
        },
        "id": "ZYjLHQHCyKbC",
        "outputId": "49ac478d-8cae-4fbe-ba3f-d5548e6dc0eb"
      },
      "source": [
        "len(train_df[\"user_id\"].unique())"
      ],
      "execution_count": 29,
      "outputs": [
        {
          "output_type": "execute_result",
          "data": {
            "text/plain": [
              "5400"
            ]
          },
          "metadata": {
            "tags": []
          },
          "execution_count": 29
        }
      ]
    },
    {
      "cell_type": "code",
      "metadata": {
        "colab": {
          "base_uri": "https://localhost:8080/"
        },
        "id": "JJhlzjKiyN0o",
        "outputId": "388e530a-1323-4da2-9455-9d2a3f51b276"
      },
      "source": [
        "len(test_df[\"user_id\"].unique())"
      ],
      "execution_count": 30,
      "outputs": [
        {
          "output_type": "execute_result",
          "data": {
            "text/plain": [
              "1783"
            ]
          },
          "metadata": {
            "tags": []
          },
          "execution_count": 30
        }
      ]
    },
    {
      "cell_type": "code",
      "metadata": {
        "colab": {
          "base_uri": "https://localhost:8080/"
        },
        "id": "opr1cedvyP4W",
        "outputId": "cf15430e-1f6e-4244-c51e-d55ea2f47dba"
      },
      "source": [
        "len(train_df[\"movie_id\"].unique())"
      ],
      "execution_count": 31,
      "outputs": [
        {
          "output_type": "execute_result",
          "data": {
            "text/plain": [
              "3662"
            ]
          },
          "metadata": {
            "tags": []
          },
          "execution_count": 31
        }
      ]
    },
    {
      "cell_type": "code",
      "metadata": {
        "colab": {
          "base_uri": "https://localhost:8080/"
        },
        "id": "aoNML86KyTAK",
        "outputId": "73db692b-3c1b-4bd2-ce11-b05d7d0b314e"
      },
      "source": [
        "len(test_df[\"movie_id\"].unique())"
      ],
      "execution_count": 32,
      "outputs": [
        {
          "output_type": "execute_result",
          "data": {
            "text/plain": [
              "3511"
            ]
          },
          "metadata": {
            "tags": []
          },
          "execution_count": 32
        }
      ]
    },
    {
      "cell_type": "code",
      "metadata": {
        "id": "2FqgYGj_yUnb"
      },
      "source": [
        "user_watch_dict_list_test = test_df.groupby('user_id')[['user_id', 'movie_id']].apply(lambda x: x[\"movie_id\"].tolist())"
      ],
      "execution_count": 33,
      "outputs": []
    },
    {
      "cell_type": "code",
      "metadata": {
        "colab": {
          "base_uri": "https://localhost:8080/"
        },
        "id": "MAtf8qYbycCd",
        "outputId": "00e0a1b3-0a6a-4d5a-d7ac-de604ac2aeed"
      },
      "source": [
        "user_watch_dict_list_test[:5]"
      ],
      "execution_count": 34,
      "outputs": [
        {
          "output_type": "execute_result",
          "data": {
            "text/plain": [
              "user_id\n",
              "1    [1193, 661, 914, 3408, 2355, 1197, 1287, 2804,...\n",
              "2    [1357, 3068, 1537, 647, 2194, 648, 2268, 2628,...\n",
              "3    [3421, 1641, 648, 1394, 3534, 104, 2735, 1210,...\n",
              "4    [3468, 1210, 2951, 1214, 1036, 260, 2028, 480,...\n",
              "5    [2987, 2333, 1175, 39, 288, 2337, 1535, 1392, ...\n",
              "dtype: object"
            ]
          },
          "metadata": {
            "tags": []
          },
          "execution_count": 34
        }
      ]
    },
    {
      "cell_type": "code",
      "metadata": {
        "colab": {
          "base_uri": "https://localhost:8080/"
        },
        "id": "xqk5ZqJLycU5",
        "outputId": "e59fbe32-fa6c-48e7-b9aa-163ce58c17d2"
      },
      "source": [
        "# 추천 결과 평가 - 모델 기반 사용자별 선호 시청리스트 추출\n",
        "data = Dataset.load_from_df(df=train_df, reader=reader)\n",
        "train_data = data.build_full_trainset()\n",
        "algo = SVD(n_factors=50)\n",
        "algo.fit(train_data)"
      ],
      "execution_count": 35,
      "outputs": [
        {
          "output_type": "execute_result",
          "data": {
            "text/plain": [
              "<surprise.prediction_algorithms.matrix_factorization.SVD at 0x7fac62813fd0>"
            ]
          },
          "metadata": {
            "tags": []
          },
          "execution_count": 35
        }
      ]
    },
    {
      "cell_type": "code",
      "metadata": {
        "id": "7eAAb94my63d"
      },
      "source": [
        "test_data = train_data.build_anti_testset()"
      ],
      "execution_count": 36,
      "outputs": []
    },
    {
      "cell_type": "code",
      "metadata": {
        "id": "xBfkA3PwzGoC"
      },
      "source": [
        "predictions = algo.test(test_data[:20])"
      ],
      "execution_count": 37,
      "outputs": []
    },
    {
      "cell_type": "code",
      "metadata": {
        "colab": {
          "base_uri": "https://localhost:8080/"
        },
        "id": "XAQUkEntzMgt",
        "outputId": "f4a1d56e-fabc-446a-9241-564b003bc369"
      },
      "source": [
        "predictions"
      ],
      "execution_count": 38,
      "outputs": [
        {
          "output_type": "execute_result",
          "data": {
            "text/plain": [
              "[Prediction(uid=635, iid=2054, r_ui=3.590506446178533, est=3.4071531115077733, details={'was_impossible': False}),\n",
              " Prediction(uid=635, iid=589, r_ui=3.590506446178533, est=4.207440313180937, details={'was_impossible': False}),\n",
              " Prediction(uid=635, iid=1261, r_ui=3.590506446178533, est=3.8926548654212967, details={'was_impossible': False}),\n",
              " Prediction(uid=635, iid=3016, r_ui=3.590506446178533, est=3.6531569722535737, details={'was_impossible': False}),\n",
              " Prediction(uid=635, iid=1274, r_ui=3.590506446178533, est=3.9832530116970406, details={'was_impossible': False}),\n",
              " Prediction(uid=635, iid=2094, r_ui=3.590506446178533, est=3.5892785612369824, details={'was_impossible': False}),\n",
              " Prediction(uid=635, iid=780, r_ui=3.590506446178533, est=3.956469631744303, details={'was_impossible': False}),\n",
              " Prediction(uid=635, iid=1603, r_ui=3.590506446178533, est=3.325529859458823, details={'was_impossible': False}),\n",
              " Prediction(uid=635, iid=2288, r_ui=3.590506446178533, est=4.01529478257732, details={'was_impossible': False}),\n",
              " Prediction(uid=635, iid=968, r_ui=3.590506446178533, est=3.6557553715829028, details={'was_impossible': False}),\n",
              " Prediction(uid=635, iid=2451, r_ui=3.590506446178533, est=2.908338263538202, details={'was_impossible': False}),\n",
              " Prediction(uid=635, iid=2455, r_ui=3.590506446178533, est=3.728393186683865, details={'was_impossible': False}),\n",
              " Prediction(uid=635, iid=1653, r_ui=3.590506446178533, est=3.922551998159684, details={'was_impossible': False}),\n",
              " Prediction(uid=635, iid=2456, r_ui=3.590506446178533, est=3.1163340009471243, details={'was_impossible': False}),\n",
              " Prediction(uid=635, iid=2460, r_ui=3.590506446178533, est=2.8010612448888956, details={'was_impossible': False}),\n",
              " Prediction(uid=635, iid=2615, r_ui=3.590506446178533, est=3.3692685265756714, details={'was_impossible': False}),\n",
              " Prediction(uid=635, iid=2628, r_ui=3.590506446178533, est=3.807033436377517, details={'was_impossible': False}),\n",
              " Prediction(uid=635, iid=1690, r_ui=3.590506446178533, est=3.4016448168575497, details={'was_impossible': False}),\n",
              " Prediction(uid=635, iid=2641, r_ui=3.590506446178533, est=3.561107846515907, details={'was_impossible': False}),\n",
              " Prediction(uid=635, iid=2668, r_ui=3.590506446178533, est=2.964418309181746, details={'was_impossible': False})]"
            ]
          },
          "metadata": {
            "tags": []
          },
          "execution_count": 38
        }
      ]
    },
    {
      "cell_type": "markdown",
      "metadata": {
        "id": "lBs7mT8vzSxf"
      },
      "source": [
        "### 예상 선호리스트와 실제 시청리스트로 MAP@K 계산\n",
        "- [Confusion Matrix와 Recall]\n",
        "  - 1. 분류 문제에서 사용하는 대표적인 평가 기준\n",
        "  - 2. 무언가의 실제 클래스(binary), 그리고 예상한 클래스(binary)를 비교하기 위한 매트릭스\n",
        "  - 3. 이 중 Precision은 흔히 \"정확도\"이라고 불리는 지표로, 맞다고 예측한 것 중에 실제로 맞는 것의 비율을 의미함."
      ]
    },
    {
      "cell_type": "markdown",
      "metadata": {
        "id": "AZbVD8AF0lxv"
      },
      "source": [
        "- [추천시스템과 Precision, Recall]\n",
        "  - 1. 추천시스템에 이를 대입해보자\n",
        "  - 2. 유저 A가 실제로 시청한 영화들을 a, 모델이 유저 A가 볼 것이라고 예측한 영화들을 b라고 가정.\n",
        "  - 3. 이 때 모델이 10개의 영화를 예측햇다면 Top 10 Precision을 계산할 수 있음.\n",
        "  - 4. Recall 역시 마찬가지의 방법으로 구할 수 있음.\n",
        "  - 5. Precision과 Recall에 대한 선택 기준은 상황마다 다르지만, 추천시스템에서 일반적으로 사용하는 지표는 \"MAP\"\n",
        "  - 6. MAP(Mean Average Precision) : 추천시스템에서는 각 유저마다의 Precision을 계산한 뒤, 이것을 모든 추천 대상 유저로 확장하여 평균적인 지표를 계산."
      ]
    },
    {
      "cell_type": "code",
      "metadata": {
        "id": "b45yWKVPzOMD"
      },
      "source": [
        "predictions = algo.test(test_data)\n",
        "estimated_unwatched_dict = {}\n",
        "\n",
        "for uid, iid, _, predicted_rating, _ in predictions:\n",
        "  if uid in estimated_unwatched_dict:\n",
        "    estimated_unwatched_dict[uid].append((iid, predicted_rating))\n",
        "  else:\n",
        "    estimated_unwatched_dict[uid] = [(iid, predicted_rating)]"
      ],
      "execution_count": 39,
      "outputs": []
    },
    {
      "cell_type": "code",
      "metadata": {
        "id": "L85XMnNK1h5o"
      },
      "source": [
        "# str(estimated_unwatched_dict)[:3] - 램 부족으로 실행 불가"
      ],
      "execution_count": 40,
      "outputs": []
    },
    {
      "cell_type": "code",
      "metadata": {
        "id": "A8-8eMCp12oc"
      },
      "source": [
        "# 4점 이상을 준 test 시청리스트만 추출\n",
        "user_watch_dict_list_test = test_df[test_df['rating']>=4].groupby('user_id')[['user_id', 'movie_id']].apply(lambda x: x[\"movie_id\"].tolist())"
      ],
      "execution_count": 41,
      "outputs": []
    },
    {
      "cell_type": "code",
      "metadata": {
        "id": "g9qDctve2V-l"
      },
      "source": [
        ""
      ],
      "execution_count": 41,
      "outputs": []
    }
  ]
}