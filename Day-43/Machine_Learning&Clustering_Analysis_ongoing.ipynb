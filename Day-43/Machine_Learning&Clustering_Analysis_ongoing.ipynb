{
  "nbformat": 4,
  "nbformat_minor": 0,
  "metadata": {
    "colab": {
      "name": "Machine_Learning&Clustering_Analysis2.ipynb",
      "provenance": [],
      "collapsed_sections": [],
      "toc_visible": true
    },
    "kernelspec": {
      "name": "python3",
      "display_name": "Python 3"
    },
    "language_info": {
      "name": "python"
    }
  },
  "cells": [
    {
      "cell_type": "markdown",
      "metadata": {
        "id": "_W60jiBaQPBb"
      },
      "source": [
        "# iris 데이터를 통한 기본적인 군집분석 원리와 분석과정 연습"
      ]
    },
    {
      "cell_type": "markdown",
      "metadata": {
        "id": "pgsGfFfd1FhM"
      },
      "source": [
        "### 군집분석이란?\n",
        "- unsupervised learning으로, 데이터 간의 유사도를 정의하고 그 유사도에 가까운 것부터 순서대로 합쳐가는 방법이며, 유사도의 정의에는 거리나 상관계수 등 여러가지가 있다."
      ]
    },
    {
      "cell_type": "markdown",
      "metadata": {
        "id": "KxR5G7X14XY7"
      },
      "source": [
        "### 데이터 불러오기"
      ]
    },
    {
      "cell_type": "code",
      "metadata": {
        "id": "sDxHj7Lg4Vjz"
      },
      "source": [
        "import numpy as np\n",
        "import pandas as pd\n",
        "from sklearn.datasets import load_iris\n",
        "from sklearn.model_selection import train_test_split"
      ],
      "execution_count": 1,
      "outputs": []
    },
    {
      "cell_type": "code",
      "metadata": {
        "colab": {
          "base_uri": "https://localhost:8080/",
          "height": 204
        },
        "id": "5tgRwAdZP57Q",
        "outputId": "3734fcb7-d6dc-49f0-f0e2-5e4ba37e3f6e"
      },
      "source": [
        "iris = load_iris()\n",
        "iris_df = pd.DataFrame(data=iris.data, columns=iris.feature_names)\n",
        "iris_df.head()\n"
      ],
      "execution_count": 2,
      "outputs": [
        {
          "output_type": "execute_result",
          "data": {
            "text/html": [
              "<div>\n",
              "<style scoped>\n",
              "    .dataframe tbody tr th:only-of-type {\n",
              "        vertical-align: middle;\n",
              "    }\n",
              "\n",
              "    .dataframe tbody tr th {\n",
              "        vertical-align: top;\n",
              "    }\n",
              "\n",
              "    .dataframe thead th {\n",
              "        text-align: right;\n",
              "    }\n",
              "</style>\n",
              "<table border=\"1\" class=\"dataframe\">\n",
              "  <thead>\n",
              "    <tr style=\"text-align: right;\">\n",
              "      <th></th>\n",
              "      <th>sepal length (cm)</th>\n",
              "      <th>sepal width (cm)</th>\n",
              "      <th>petal length (cm)</th>\n",
              "      <th>petal width (cm)</th>\n",
              "    </tr>\n",
              "  </thead>\n",
              "  <tbody>\n",
              "    <tr>\n",
              "      <th>0</th>\n",
              "      <td>5.1</td>\n",
              "      <td>3.5</td>\n",
              "      <td>1.4</td>\n",
              "      <td>0.2</td>\n",
              "    </tr>\n",
              "    <tr>\n",
              "      <th>1</th>\n",
              "      <td>4.9</td>\n",
              "      <td>3.0</td>\n",
              "      <td>1.4</td>\n",
              "      <td>0.2</td>\n",
              "    </tr>\n",
              "    <tr>\n",
              "      <th>2</th>\n",
              "      <td>4.7</td>\n",
              "      <td>3.2</td>\n",
              "      <td>1.3</td>\n",
              "      <td>0.2</td>\n",
              "    </tr>\n",
              "    <tr>\n",
              "      <th>3</th>\n",
              "      <td>4.6</td>\n",
              "      <td>3.1</td>\n",
              "      <td>1.5</td>\n",
              "      <td>0.2</td>\n",
              "    </tr>\n",
              "    <tr>\n",
              "      <th>4</th>\n",
              "      <td>5.0</td>\n",
              "      <td>3.6</td>\n",
              "      <td>1.4</td>\n",
              "      <td>0.2</td>\n",
              "    </tr>\n",
              "  </tbody>\n",
              "</table>\n",
              "</div>"
            ],
            "text/plain": [
              "   sepal length (cm)  sepal width (cm)  petal length (cm)  petal width (cm)\n",
              "0                5.1               3.5                1.4               0.2\n",
              "1                4.9               3.0                1.4               0.2\n",
              "2                4.7               3.2                1.3               0.2\n",
              "3                4.6               3.1                1.5               0.2\n",
              "4                5.0               3.6                1.4               0.2"
            ]
          },
          "metadata": {
            "tags": []
          },
          "execution_count": 2
        }
      ]
    },
    {
      "cell_type": "code",
      "metadata": {
        "id": "uq46yi2z5Bi7"
      },
      "source": [
        "# 컬럼명 변경\n",
        "column_name_list = ['sepal_length', 'sepal_width', 'petal_length', 'petal_width']\n",
        "\n",
        "# iris_df.columns = column_name_list\n",
        "\n",
        "columns_replace_dict = {k:v for k, v in zip(iris.feature_names, column_name_list)}"
      ],
      "execution_count": 3,
      "outputs": []
    },
    {
      "cell_type": "code",
      "metadata": {
        "colab": {
          "base_uri": "https://localhost:8080/",
          "height": 204
        },
        "id": "xrnJvTF27Pv-",
        "outputId": "9e608f00-b611-4997-8022-630a1fcf313d"
      },
      "source": [
        "iris_df.rename(columns_replace_dict, axis=\"columns\", inplace=True)\n",
        "iris_df.head()"
      ],
      "execution_count": 4,
      "outputs": [
        {
          "output_type": "execute_result",
          "data": {
            "text/html": [
              "<div>\n",
              "<style scoped>\n",
              "    .dataframe tbody tr th:only-of-type {\n",
              "        vertical-align: middle;\n",
              "    }\n",
              "\n",
              "    .dataframe tbody tr th {\n",
              "        vertical-align: top;\n",
              "    }\n",
              "\n",
              "    .dataframe thead th {\n",
              "        text-align: right;\n",
              "    }\n",
              "</style>\n",
              "<table border=\"1\" class=\"dataframe\">\n",
              "  <thead>\n",
              "    <tr style=\"text-align: right;\">\n",
              "      <th></th>\n",
              "      <th>sepal_length</th>\n",
              "      <th>sepal_width</th>\n",
              "      <th>petal_length</th>\n",
              "      <th>petal_width</th>\n",
              "    </tr>\n",
              "  </thead>\n",
              "  <tbody>\n",
              "    <tr>\n",
              "      <th>0</th>\n",
              "      <td>5.1</td>\n",
              "      <td>3.5</td>\n",
              "      <td>1.4</td>\n",
              "      <td>0.2</td>\n",
              "    </tr>\n",
              "    <tr>\n",
              "      <th>1</th>\n",
              "      <td>4.9</td>\n",
              "      <td>3.0</td>\n",
              "      <td>1.4</td>\n",
              "      <td>0.2</td>\n",
              "    </tr>\n",
              "    <tr>\n",
              "      <th>2</th>\n",
              "      <td>4.7</td>\n",
              "      <td>3.2</td>\n",
              "      <td>1.3</td>\n",
              "      <td>0.2</td>\n",
              "    </tr>\n",
              "    <tr>\n",
              "      <th>3</th>\n",
              "      <td>4.6</td>\n",
              "      <td>3.1</td>\n",
              "      <td>1.5</td>\n",
              "      <td>0.2</td>\n",
              "    </tr>\n",
              "    <tr>\n",
              "      <th>4</th>\n",
              "      <td>5.0</td>\n",
              "      <td>3.6</td>\n",
              "      <td>1.4</td>\n",
              "      <td>0.2</td>\n",
              "    </tr>\n",
              "  </tbody>\n",
              "</table>\n",
              "</div>"
            ],
            "text/plain": [
              "   sepal_length  sepal_width  petal_length  petal_width\n",
              "0           5.1          3.5           1.4          0.2\n",
              "1           4.9          3.0           1.4          0.2\n",
              "2           4.7          3.2           1.3          0.2\n",
              "3           4.6          3.1           1.5          0.2\n",
              "4           5.0          3.6           1.4          0.2"
            ]
          },
          "metadata": {
            "tags": []
          },
          "execution_count": 4
        }
      ]
    },
    {
      "cell_type": "code",
      "metadata": {
        "colab": {
          "base_uri": "https://localhost:8080/",
          "height": 204
        },
        "id": "yump3ze47RZD",
        "outputId": "d77ead8d-007d-4419-cb9c-f3e499b72c65"
      },
      "source": [
        "# target 컬럼 추가\n",
        "iris_df['target'] = iris.target\n",
        "iris_df.head()"
      ],
      "execution_count": 5,
      "outputs": [
        {
          "output_type": "execute_result",
          "data": {
            "text/html": [
              "<div>\n",
              "<style scoped>\n",
              "    .dataframe tbody tr th:only-of-type {\n",
              "        vertical-align: middle;\n",
              "    }\n",
              "\n",
              "    .dataframe tbody tr th {\n",
              "        vertical-align: top;\n",
              "    }\n",
              "\n",
              "    .dataframe thead th {\n",
              "        text-align: right;\n",
              "    }\n",
              "</style>\n",
              "<table border=\"1\" class=\"dataframe\">\n",
              "  <thead>\n",
              "    <tr style=\"text-align: right;\">\n",
              "      <th></th>\n",
              "      <th>sepal_length</th>\n",
              "      <th>sepal_width</th>\n",
              "      <th>petal_length</th>\n",
              "      <th>petal_width</th>\n",
              "      <th>target</th>\n",
              "    </tr>\n",
              "  </thead>\n",
              "  <tbody>\n",
              "    <tr>\n",
              "      <th>0</th>\n",
              "      <td>5.1</td>\n",
              "      <td>3.5</td>\n",
              "      <td>1.4</td>\n",
              "      <td>0.2</td>\n",
              "      <td>0</td>\n",
              "    </tr>\n",
              "    <tr>\n",
              "      <th>1</th>\n",
              "      <td>4.9</td>\n",
              "      <td>3.0</td>\n",
              "      <td>1.4</td>\n",
              "      <td>0.2</td>\n",
              "      <td>0</td>\n",
              "    </tr>\n",
              "    <tr>\n",
              "      <th>2</th>\n",
              "      <td>4.7</td>\n",
              "      <td>3.2</td>\n",
              "      <td>1.3</td>\n",
              "      <td>0.2</td>\n",
              "      <td>0</td>\n",
              "    </tr>\n",
              "    <tr>\n",
              "      <th>3</th>\n",
              "      <td>4.6</td>\n",
              "      <td>3.1</td>\n",
              "      <td>1.5</td>\n",
              "      <td>0.2</td>\n",
              "      <td>0</td>\n",
              "    </tr>\n",
              "    <tr>\n",
              "      <th>4</th>\n",
              "      <td>5.0</td>\n",
              "      <td>3.6</td>\n",
              "      <td>1.4</td>\n",
              "      <td>0.2</td>\n",
              "      <td>0</td>\n",
              "    </tr>\n",
              "  </tbody>\n",
              "</table>\n",
              "</div>"
            ],
            "text/plain": [
              "   sepal_length  sepal_width  petal_length  petal_width  target\n",
              "0           5.1          3.5           1.4          0.2       0\n",
              "1           4.9          3.0           1.4          0.2       0\n",
              "2           4.7          3.2           1.3          0.2       0\n",
              "3           4.6          3.1           1.5          0.2       0\n",
              "4           5.0          3.6           1.4          0.2       0"
            ]
          },
          "metadata": {
            "tags": []
          },
          "execution_count": 5
        }
      ]
    },
    {
      "cell_type": "code",
      "metadata": {
        "colab": {
          "base_uri": "https://localhost:8080/"
        },
        "id": "Ym43zKTy8ceD",
        "outputId": "9cc673a7-8d61-4d4d-dcda-b22c1d74ba9a"
      },
      "source": [
        "iris_df.target.unique()"
      ],
      "execution_count": 6,
      "outputs": [
        {
          "output_type": "execute_result",
          "data": {
            "text/plain": [
              "array([0, 1, 2])"
            ]
          },
          "metadata": {
            "tags": []
          },
          "execution_count": 6
        }
      ]
    },
    {
      "cell_type": "code",
      "metadata": {
        "colab": {
          "base_uri": "https://localhost:8080/"
        },
        "id": "srwsi5dY8gLt",
        "outputId": "c3c24ec7-ff63-4b7d-e6d6-4098946ec560"
      },
      "source": [
        "### 결측값 확인\n",
        "iris_df.isnull().sum()"
      ],
      "execution_count": 7,
      "outputs": [
        {
          "output_type": "execute_result",
          "data": {
            "text/plain": [
              "sepal_length    0\n",
              "sepal_width     0\n",
              "petal_length    0\n",
              "petal_width     0\n",
              "target          0\n",
              "dtype: int64"
            ]
          },
          "metadata": {
            "tags": []
          },
          "execution_count": 7
        }
      ]
    },
    {
      "cell_type": "code",
      "metadata": {
        "colab": {
          "base_uri": "https://localhost:8080/"
        },
        "id": "6k9Ns-k--Sa7",
        "outputId": "aaa1a0db-416e-4d6b-86e0-e632ab1b329e"
      },
      "source": [
        "iris_df.dtypes"
      ],
      "execution_count": 8,
      "outputs": [
        {
          "output_type": "execute_result",
          "data": {
            "text/plain": [
              "sepal_length    float64\n",
              "sepal_width     float64\n",
              "petal_length    float64\n",
              "petal_width     float64\n",
              "target            int64\n",
              "dtype: object"
            ]
          },
          "metadata": {
            "tags": []
          },
          "execution_count": 8
        }
      ]
    },
    {
      "cell_type": "code",
      "metadata": {
        "colab": {
          "base_uri": "https://localhost:8080/",
          "height": 297
        },
        "id": "1t2Qvxo--ZxQ",
        "outputId": "99c40dfe-3c8c-45c5-f724-07e40f6d2136"
      },
      "source": [
        "iris_df.describe()"
      ],
      "execution_count": 9,
      "outputs": [
        {
          "output_type": "execute_result",
          "data": {
            "text/html": [
              "<div>\n",
              "<style scoped>\n",
              "    .dataframe tbody tr th:only-of-type {\n",
              "        vertical-align: middle;\n",
              "    }\n",
              "\n",
              "    .dataframe tbody tr th {\n",
              "        vertical-align: top;\n",
              "    }\n",
              "\n",
              "    .dataframe thead th {\n",
              "        text-align: right;\n",
              "    }\n",
              "</style>\n",
              "<table border=\"1\" class=\"dataframe\">\n",
              "  <thead>\n",
              "    <tr style=\"text-align: right;\">\n",
              "      <th></th>\n",
              "      <th>sepal_length</th>\n",
              "      <th>sepal_width</th>\n",
              "      <th>petal_length</th>\n",
              "      <th>petal_width</th>\n",
              "      <th>target</th>\n",
              "    </tr>\n",
              "  </thead>\n",
              "  <tbody>\n",
              "    <tr>\n",
              "      <th>count</th>\n",
              "      <td>150.000000</td>\n",
              "      <td>150.000000</td>\n",
              "      <td>150.000000</td>\n",
              "      <td>150.000000</td>\n",
              "      <td>150.000000</td>\n",
              "    </tr>\n",
              "    <tr>\n",
              "      <th>mean</th>\n",
              "      <td>5.843333</td>\n",
              "      <td>3.057333</td>\n",
              "      <td>3.758000</td>\n",
              "      <td>1.199333</td>\n",
              "      <td>1.000000</td>\n",
              "    </tr>\n",
              "    <tr>\n",
              "      <th>std</th>\n",
              "      <td>0.828066</td>\n",
              "      <td>0.435866</td>\n",
              "      <td>1.765298</td>\n",
              "      <td>0.762238</td>\n",
              "      <td>0.819232</td>\n",
              "    </tr>\n",
              "    <tr>\n",
              "      <th>min</th>\n",
              "      <td>4.300000</td>\n",
              "      <td>2.000000</td>\n",
              "      <td>1.000000</td>\n",
              "      <td>0.100000</td>\n",
              "      <td>0.000000</td>\n",
              "    </tr>\n",
              "    <tr>\n",
              "      <th>25%</th>\n",
              "      <td>5.100000</td>\n",
              "      <td>2.800000</td>\n",
              "      <td>1.600000</td>\n",
              "      <td>0.300000</td>\n",
              "      <td>0.000000</td>\n",
              "    </tr>\n",
              "    <tr>\n",
              "      <th>50%</th>\n",
              "      <td>5.800000</td>\n",
              "      <td>3.000000</td>\n",
              "      <td>4.350000</td>\n",
              "      <td>1.300000</td>\n",
              "      <td>1.000000</td>\n",
              "    </tr>\n",
              "    <tr>\n",
              "      <th>75%</th>\n",
              "      <td>6.400000</td>\n",
              "      <td>3.300000</td>\n",
              "      <td>5.100000</td>\n",
              "      <td>1.800000</td>\n",
              "      <td>2.000000</td>\n",
              "    </tr>\n",
              "    <tr>\n",
              "      <th>max</th>\n",
              "      <td>7.900000</td>\n",
              "      <td>4.400000</td>\n",
              "      <td>6.900000</td>\n",
              "      <td>2.500000</td>\n",
              "      <td>2.000000</td>\n",
              "    </tr>\n",
              "  </tbody>\n",
              "</table>\n",
              "</div>"
            ],
            "text/plain": [
              "       sepal_length  sepal_width  petal_length  petal_width      target\n",
              "count    150.000000   150.000000    150.000000   150.000000  150.000000\n",
              "mean       5.843333     3.057333      3.758000     1.199333    1.000000\n",
              "std        0.828066     0.435866      1.765298     0.762238    0.819232\n",
              "min        4.300000     2.000000      1.000000     0.100000    0.000000\n",
              "25%        5.100000     2.800000      1.600000     0.300000    0.000000\n",
              "50%        5.800000     3.000000      4.350000     1.300000    1.000000\n",
              "75%        6.400000     3.300000      5.100000     1.800000    2.000000\n",
              "max        7.900000     4.400000      6.900000     2.500000    2.000000"
            ]
          },
          "metadata": {
            "tags": []
          },
          "execution_count": 9
        }
      ]
    },
    {
      "cell_type": "code",
      "metadata": {
        "colab": {
          "base_uri": "https://localhost:8080/",
          "height": 517
        },
        "id": "rh0IrcHJ-hgg",
        "outputId": "e1d2a22d-a14e-421d-c1d9-be816f3055d2"
      },
      "source": [
        "import plotly.express as px\n",
        "fig=px.scatter(iris_df, x='sepal_length', y='sepal_width')\n",
        "fig.update_layout(width = 600, height=500) # 사이즈 조정\n",
        "fig.show()"
      ],
      "execution_count": 10,
      "outputs": [
        {
          "output_type": "display_data",
          "data": {
            "text/html": [
              "<html>\n",
              "<head><meta charset=\"utf-8\" /></head>\n",
              "<body>\n",
              "    <div>\n",
              "            <script src=\"https://cdnjs.cloudflare.com/ajax/libs/mathjax/2.7.5/MathJax.js?config=TeX-AMS-MML_SVG\"></script><script type=\"text/javascript\">if (window.MathJax) {MathJax.Hub.Config({SVG: {font: \"STIX-Web\"}});}</script>\n",
              "                <script type=\"text/javascript\">window.PlotlyConfig = {MathJaxConfig: 'local'};</script>\n",
              "        <script src=\"https://cdn.plot.ly/plotly-latest.min.js\"></script>    \n",
              "            <div id=\"c75a7e9c-7ee1-4a95-92bf-a9ca8d5061f1\" class=\"plotly-graph-div\" style=\"height:500px; width:600px;\"></div>\n",
              "            <script type=\"text/javascript\">\n",
              "                \n",
              "                    window.PLOTLYENV=window.PLOTLYENV || {};\n",
              "                    \n",
              "                if (document.getElementById(\"c75a7e9c-7ee1-4a95-92bf-a9ca8d5061f1\")) {\n",
              "                    Plotly.newPlot(\n",
              "                        'c75a7e9c-7ee1-4a95-92bf-a9ca8d5061f1',\n",
              "                        [{\"hoverlabel\": {\"namelength\": 0}, \"hovertemplate\": \"sepal_length=%{x}<br>sepal_width=%{y}\", \"legendgroup\": \"\", \"marker\": {\"color\": \"#636efa\", \"symbol\": \"circle\"}, \"mode\": \"markers\", \"name\": \"\", \"showlegend\": false, \"type\": \"scatter\", \"x\": [5.1, 4.9, 4.7, 4.6, 5.0, 5.4, 4.6, 5.0, 4.4, 4.9, 5.4, 4.8, 4.8, 4.3, 5.8, 5.7, 5.4, 5.1, 5.7, 5.1, 5.4, 5.1, 4.6, 5.1, 4.8, 5.0, 5.0, 5.2, 5.2, 4.7, 4.8, 5.4, 5.2, 5.5, 4.9, 5.0, 5.5, 4.9, 4.4, 5.1, 5.0, 4.5, 4.4, 5.0, 5.1, 4.8, 5.1, 4.6, 5.3, 5.0, 7.0, 6.4, 6.9, 5.5, 6.5, 5.7, 6.3, 4.9, 6.6, 5.2, 5.0, 5.9, 6.0, 6.1, 5.6, 6.7, 5.6, 5.8, 6.2, 5.6, 5.9, 6.1, 6.3, 6.1, 6.4, 6.6, 6.8, 6.7, 6.0, 5.7, 5.5, 5.5, 5.8, 6.0, 5.4, 6.0, 6.7, 6.3, 5.6, 5.5, 5.5, 6.1, 5.8, 5.0, 5.6, 5.7, 5.7, 6.2, 5.1, 5.7, 6.3, 5.8, 7.1, 6.3, 6.5, 7.6, 4.9, 7.3, 6.7, 7.2, 6.5, 6.4, 6.8, 5.7, 5.8, 6.4, 6.5, 7.7, 7.7, 6.0, 6.9, 5.6, 7.7, 6.3, 6.7, 7.2, 6.2, 6.1, 6.4, 7.2, 7.4, 7.9, 6.4, 6.3, 6.1, 7.7, 6.3, 6.4, 6.0, 6.9, 6.7, 6.9, 5.8, 6.8, 6.7, 6.7, 6.3, 6.5, 6.2, 5.9], \"xaxis\": \"x\", \"y\": [3.5, 3.0, 3.2, 3.1, 3.6, 3.9, 3.4, 3.4, 2.9, 3.1, 3.7, 3.4, 3.0, 3.0, 4.0, 4.4, 3.9, 3.5, 3.8, 3.8, 3.4, 3.7, 3.6, 3.3, 3.4, 3.0, 3.4, 3.5, 3.4, 3.2, 3.1, 3.4, 4.1, 4.2, 3.1, 3.2, 3.5, 3.6, 3.0, 3.4, 3.5, 2.3, 3.2, 3.5, 3.8, 3.0, 3.8, 3.2, 3.7, 3.3, 3.2, 3.2, 3.1, 2.3, 2.8, 2.8, 3.3, 2.4, 2.9, 2.7, 2.0, 3.0, 2.2, 2.9, 2.9, 3.1, 3.0, 2.7, 2.2, 2.5, 3.2, 2.8, 2.5, 2.8, 2.9, 3.0, 2.8, 3.0, 2.9, 2.6, 2.4, 2.4, 2.7, 2.7, 3.0, 3.4, 3.1, 2.3, 3.0, 2.5, 2.6, 3.0, 2.6, 2.3, 2.7, 3.0, 2.9, 2.9, 2.5, 2.8, 3.3, 2.7, 3.0, 2.9, 3.0, 3.0, 2.5, 2.9, 2.5, 3.6, 3.2, 2.7, 3.0, 2.5, 2.8, 3.2, 3.0, 3.8, 2.6, 2.2, 3.2, 2.8, 2.8, 2.7, 3.3, 3.2, 2.8, 3.0, 2.8, 3.0, 2.8, 3.8, 2.8, 2.8, 2.6, 3.0, 3.4, 3.1, 3.0, 3.1, 3.1, 3.1, 2.7, 3.2, 3.3, 3.0, 2.5, 3.0, 3.4, 3.0], \"yaxis\": \"y\"}],\n",
              "                        {\"height\": 500, \"legend\": {\"tracegroupgap\": 0}, \"margin\": {\"t\": 60}, \"template\": {\"data\": {\"bar\": [{\"error_x\": {\"color\": \"#2a3f5f\"}, \"error_y\": {\"color\": \"#2a3f5f\"}, \"marker\": {\"line\": {\"color\": \"#E5ECF6\", \"width\": 0.5}}, \"type\": \"bar\"}], \"barpolar\": [{\"marker\": {\"line\": {\"color\": \"#E5ECF6\", \"width\": 0.5}}, \"type\": \"barpolar\"}], \"carpet\": [{\"aaxis\": {\"endlinecolor\": \"#2a3f5f\", \"gridcolor\": \"white\", \"linecolor\": \"white\", \"minorgridcolor\": \"white\", \"startlinecolor\": \"#2a3f5f\"}, \"baxis\": {\"endlinecolor\": \"#2a3f5f\", \"gridcolor\": \"white\", \"linecolor\": \"white\", \"minorgridcolor\": \"white\", \"startlinecolor\": \"#2a3f5f\"}, \"type\": \"carpet\"}], \"choropleth\": [{\"colorbar\": {\"outlinewidth\": 0, \"ticks\": \"\"}, \"type\": \"choropleth\"}], \"contour\": [{\"colorbar\": {\"outlinewidth\": 0, \"ticks\": \"\"}, \"colorscale\": [[0.0, \"#0d0887\"], [0.1111111111111111, \"#46039f\"], [0.2222222222222222, \"#7201a8\"], [0.3333333333333333, \"#9c179e\"], [0.4444444444444444, \"#bd3786\"], [0.5555555555555556, \"#d8576b\"], [0.6666666666666666, \"#ed7953\"], [0.7777777777777778, \"#fb9f3a\"], [0.8888888888888888, \"#fdca26\"], [1.0, \"#f0f921\"]], \"type\": \"contour\"}], \"contourcarpet\": [{\"colorbar\": {\"outlinewidth\": 0, \"ticks\": \"\"}, \"type\": \"contourcarpet\"}], \"heatmap\": [{\"colorbar\": {\"outlinewidth\": 0, \"ticks\": \"\"}, \"colorscale\": [[0.0, \"#0d0887\"], [0.1111111111111111, \"#46039f\"], [0.2222222222222222, \"#7201a8\"], [0.3333333333333333, \"#9c179e\"], [0.4444444444444444, \"#bd3786\"], [0.5555555555555556, \"#d8576b\"], [0.6666666666666666, \"#ed7953\"], [0.7777777777777778, \"#fb9f3a\"], [0.8888888888888888, \"#fdca26\"], [1.0, \"#f0f921\"]], \"type\": \"heatmap\"}], \"heatmapgl\": [{\"colorbar\": {\"outlinewidth\": 0, \"ticks\": \"\"}, \"colorscale\": [[0.0, \"#0d0887\"], [0.1111111111111111, \"#46039f\"], [0.2222222222222222, \"#7201a8\"], [0.3333333333333333, \"#9c179e\"], [0.4444444444444444, \"#bd3786\"], [0.5555555555555556, \"#d8576b\"], [0.6666666666666666, \"#ed7953\"], [0.7777777777777778, \"#fb9f3a\"], [0.8888888888888888, \"#fdca26\"], [1.0, \"#f0f921\"]], \"type\": \"heatmapgl\"}], \"histogram\": [{\"marker\": {\"colorbar\": {\"outlinewidth\": 0, \"ticks\": \"\"}}, \"type\": \"histogram\"}], \"histogram2d\": [{\"colorbar\": {\"outlinewidth\": 0, \"ticks\": \"\"}, \"colorscale\": [[0.0, \"#0d0887\"], [0.1111111111111111, \"#46039f\"], [0.2222222222222222, \"#7201a8\"], [0.3333333333333333, \"#9c179e\"], [0.4444444444444444, \"#bd3786\"], [0.5555555555555556, \"#d8576b\"], [0.6666666666666666, \"#ed7953\"], [0.7777777777777778, \"#fb9f3a\"], [0.8888888888888888, \"#fdca26\"], [1.0, \"#f0f921\"]], \"type\": \"histogram2d\"}], \"histogram2dcontour\": [{\"colorbar\": {\"outlinewidth\": 0, \"ticks\": \"\"}, \"colorscale\": [[0.0, \"#0d0887\"], [0.1111111111111111, \"#46039f\"], [0.2222222222222222, \"#7201a8\"], [0.3333333333333333, \"#9c179e\"], [0.4444444444444444, \"#bd3786\"], [0.5555555555555556, \"#d8576b\"], [0.6666666666666666, \"#ed7953\"], [0.7777777777777778, \"#fb9f3a\"], [0.8888888888888888, \"#fdca26\"], [1.0, \"#f0f921\"]], \"type\": \"histogram2dcontour\"}], \"mesh3d\": [{\"colorbar\": {\"outlinewidth\": 0, \"ticks\": \"\"}, \"type\": \"mesh3d\"}], \"parcoords\": [{\"line\": {\"colorbar\": {\"outlinewidth\": 0, \"ticks\": \"\"}}, \"type\": \"parcoords\"}], \"pie\": [{\"automargin\": true, \"type\": \"pie\"}], \"scatter\": [{\"marker\": {\"colorbar\": {\"outlinewidth\": 0, \"ticks\": \"\"}}, \"type\": \"scatter\"}], \"scatter3d\": [{\"line\": {\"colorbar\": {\"outlinewidth\": 0, \"ticks\": \"\"}}, \"marker\": {\"colorbar\": {\"outlinewidth\": 0, \"ticks\": \"\"}}, \"type\": \"scatter3d\"}], \"scattercarpet\": [{\"marker\": {\"colorbar\": {\"outlinewidth\": 0, \"ticks\": \"\"}}, \"type\": \"scattercarpet\"}], \"scattergeo\": [{\"marker\": {\"colorbar\": {\"outlinewidth\": 0, \"ticks\": \"\"}}, \"type\": \"scattergeo\"}], \"scattergl\": [{\"marker\": {\"colorbar\": {\"outlinewidth\": 0, \"ticks\": \"\"}}, \"type\": \"scattergl\"}], \"scattermapbox\": [{\"marker\": {\"colorbar\": {\"outlinewidth\": 0, \"ticks\": \"\"}}, \"type\": \"scattermapbox\"}], \"scatterpolar\": [{\"marker\": {\"colorbar\": {\"outlinewidth\": 0, \"ticks\": \"\"}}, \"type\": \"scatterpolar\"}], \"scatterpolargl\": [{\"marker\": {\"colorbar\": {\"outlinewidth\": 0, \"ticks\": \"\"}}, \"type\": \"scatterpolargl\"}], \"scatterternary\": [{\"marker\": {\"colorbar\": {\"outlinewidth\": 0, \"ticks\": \"\"}}, \"type\": \"scatterternary\"}], \"surface\": [{\"colorbar\": {\"outlinewidth\": 0, \"ticks\": \"\"}, \"colorscale\": [[0.0, \"#0d0887\"], [0.1111111111111111, \"#46039f\"], [0.2222222222222222, \"#7201a8\"], [0.3333333333333333, \"#9c179e\"], [0.4444444444444444, \"#bd3786\"], [0.5555555555555556, \"#d8576b\"], [0.6666666666666666, \"#ed7953\"], [0.7777777777777778, \"#fb9f3a\"], [0.8888888888888888, \"#fdca26\"], [1.0, \"#f0f921\"]], \"type\": \"surface\"}], \"table\": [{\"cells\": {\"fill\": {\"color\": \"#EBF0F8\"}, \"line\": {\"color\": \"white\"}}, \"header\": {\"fill\": {\"color\": \"#C8D4E3\"}, \"line\": {\"color\": \"white\"}}, \"type\": \"table\"}]}, \"layout\": {\"annotationdefaults\": {\"arrowcolor\": \"#2a3f5f\", \"arrowhead\": 0, \"arrowwidth\": 1}, \"coloraxis\": {\"colorbar\": {\"outlinewidth\": 0, \"ticks\": \"\"}}, \"colorscale\": {\"diverging\": [[0, \"#8e0152\"], [0.1, \"#c51b7d\"], [0.2, \"#de77ae\"], [0.3, \"#f1b6da\"], [0.4, \"#fde0ef\"], [0.5, \"#f7f7f7\"], [0.6, \"#e6f5d0\"], [0.7, \"#b8e186\"], [0.8, \"#7fbc41\"], [0.9, \"#4d9221\"], [1, \"#276419\"]], \"sequential\": [[0.0, \"#0d0887\"], [0.1111111111111111, \"#46039f\"], [0.2222222222222222, \"#7201a8\"], [0.3333333333333333, \"#9c179e\"], [0.4444444444444444, \"#bd3786\"], [0.5555555555555556, \"#d8576b\"], [0.6666666666666666, \"#ed7953\"], [0.7777777777777778, \"#fb9f3a\"], [0.8888888888888888, \"#fdca26\"], [1.0, \"#f0f921\"]], \"sequentialminus\": [[0.0, \"#0d0887\"], [0.1111111111111111, \"#46039f\"], [0.2222222222222222, \"#7201a8\"], [0.3333333333333333, \"#9c179e\"], [0.4444444444444444, \"#bd3786\"], [0.5555555555555556, \"#d8576b\"], [0.6666666666666666, \"#ed7953\"], [0.7777777777777778, \"#fb9f3a\"], [0.8888888888888888, \"#fdca26\"], [1.0, \"#f0f921\"]]}, \"colorway\": [\"#636efa\", \"#EF553B\", \"#00cc96\", \"#ab63fa\", \"#FFA15A\", \"#19d3f3\", \"#FF6692\", \"#B6E880\", \"#FF97FF\", \"#FECB52\"], \"font\": {\"color\": \"#2a3f5f\"}, \"geo\": {\"bgcolor\": \"white\", \"lakecolor\": \"white\", \"landcolor\": \"#E5ECF6\", \"showlakes\": true, \"showland\": true, \"subunitcolor\": \"white\"}, \"hoverlabel\": {\"align\": \"left\"}, \"hovermode\": \"closest\", \"mapbox\": {\"style\": \"light\"}, \"paper_bgcolor\": \"white\", \"plot_bgcolor\": \"#E5ECF6\", \"polar\": {\"angularaxis\": {\"gridcolor\": \"white\", \"linecolor\": \"white\", \"ticks\": \"\"}, \"bgcolor\": \"#E5ECF6\", \"radialaxis\": {\"gridcolor\": \"white\", \"linecolor\": \"white\", \"ticks\": \"\"}}, \"scene\": {\"xaxis\": {\"backgroundcolor\": \"#E5ECF6\", \"gridcolor\": \"white\", \"gridwidth\": 2, \"linecolor\": \"white\", \"showbackground\": true, \"ticks\": \"\", \"zerolinecolor\": \"white\"}, \"yaxis\": {\"backgroundcolor\": \"#E5ECF6\", \"gridcolor\": \"white\", \"gridwidth\": 2, \"linecolor\": \"white\", \"showbackground\": true, \"ticks\": \"\", \"zerolinecolor\": \"white\"}, \"zaxis\": {\"backgroundcolor\": \"#E5ECF6\", \"gridcolor\": \"white\", \"gridwidth\": 2, \"linecolor\": \"white\", \"showbackground\": true, \"ticks\": \"\", \"zerolinecolor\": \"white\"}}, \"shapedefaults\": {\"line\": {\"color\": \"#2a3f5f\"}}, \"ternary\": {\"aaxis\": {\"gridcolor\": \"white\", \"linecolor\": \"white\", \"ticks\": \"\"}, \"baxis\": {\"gridcolor\": \"white\", \"linecolor\": \"white\", \"ticks\": \"\"}, \"bgcolor\": \"#E5ECF6\", \"caxis\": {\"gridcolor\": \"white\", \"linecolor\": \"white\", \"ticks\": \"\"}}, \"title\": {\"x\": 0.05}, \"xaxis\": {\"automargin\": true, \"gridcolor\": \"white\", \"linecolor\": \"white\", \"ticks\": \"\", \"title\": {\"standoff\": 15}, \"zerolinecolor\": \"white\", \"zerolinewidth\": 2}, \"yaxis\": {\"automargin\": true, \"gridcolor\": \"white\", \"linecolor\": \"white\", \"ticks\": \"\", \"title\": {\"standoff\": 15}, \"zerolinecolor\": \"white\", \"zerolinewidth\": 2}}}, \"width\": 600, \"xaxis\": {\"anchor\": \"y\", \"domain\": [0.0, 1.0], \"title\": {\"text\": \"sepal_length\"}}, \"yaxis\": {\"anchor\": \"x\", \"domain\": [0.0, 1.0], \"title\": {\"text\": \"sepal_width\"}}},\n",
              "                        {\"responsive\": true}\n",
              "                    ).then(function(){\n",
              "                            \n",
              "var gd = document.getElementById('c75a7e9c-7ee1-4a95-92bf-a9ca8d5061f1');\n",
              "var x = new MutationObserver(function (mutations, observer) {{\n",
              "        var display = window.getComputedStyle(gd).display;\n",
              "        if (!display || display === 'none') {{\n",
              "            console.log([gd, 'removed!']);\n",
              "            Plotly.purge(gd);\n",
              "            observer.disconnect();\n",
              "        }}\n",
              "}});\n",
              "\n",
              "// Listen for the removal of the full notebook cells\n",
              "var notebookContainer = gd.closest('#notebook-container');\n",
              "if (notebookContainer) {{\n",
              "    x.observe(notebookContainer, {childList: true});\n",
              "}}\n",
              "\n",
              "// Listen for the clearing of the current output cell\n",
              "var outputEl = gd.closest('.output');\n",
              "if (outputEl) {{\n",
              "    x.observe(outputEl, {childList: true});\n",
              "}}\n",
              "\n",
              "                        })\n",
              "                };\n",
              "                \n",
              "            </script>\n",
              "        </div>\n",
              "</body>\n",
              "</html>"
            ]
          },
          "metadata": {
            "tags": []
          }
        }
      ]
    },
    {
      "cell_type": "code",
      "metadata": {
        "colab": {
          "base_uri": "https://localhost:8080/",
          "height": 517
        },
        "id": "-76hVdUf_kMs",
        "outputId": "133d993c-1321-4b9c-d336-bfdc446e7142"
      },
      "source": [
        "fig=px.scatter(iris_df, x='sepal_length', y='sepal_width', color='target')\n",
        "fig.update_layout(width = 600, height=500) # 사이즈 조정\n",
        "fig.show()"
      ],
      "execution_count": 11,
      "outputs": [
        {
          "output_type": "display_data",
          "data": {
            "text/html": [
              "<html>\n",
              "<head><meta charset=\"utf-8\" /></head>\n",
              "<body>\n",
              "    <div>\n",
              "            <script src=\"https://cdnjs.cloudflare.com/ajax/libs/mathjax/2.7.5/MathJax.js?config=TeX-AMS-MML_SVG\"></script><script type=\"text/javascript\">if (window.MathJax) {MathJax.Hub.Config({SVG: {font: \"STIX-Web\"}});}</script>\n",
              "                <script type=\"text/javascript\">window.PlotlyConfig = {MathJaxConfig: 'local'};</script>\n",
              "        <script src=\"https://cdn.plot.ly/plotly-latest.min.js\"></script>    \n",
              "            <div id=\"43ab25ac-0423-4581-923a-bb3e82fccfd4\" class=\"plotly-graph-div\" style=\"height:500px; width:600px;\"></div>\n",
              "            <script type=\"text/javascript\">\n",
              "                \n",
              "                    window.PLOTLYENV=window.PLOTLYENV || {};\n",
              "                    \n",
              "                if (document.getElementById(\"43ab25ac-0423-4581-923a-bb3e82fccfd4\")) {\n",
              "                    Plotly.newPlot(\n",
              "                        '43ab25ac-0423-4581-923a-bb3e82fccfd4',\n",
              "                        [{\"hoverlabel\": {\"namelength\": 0}, \"hovertemplate\": \"sepal_length=%{x}<br>sepal_width=%{y}<br>target=%{marker.color}\", \"legendgroup\": \"\", \"marker\": {\"color\": [0, 0, 0, 0, 0, 0, 0, 0, 0, 0, 0, 0, 0, 0, 0, 0, 0, 0, 0, 0, 0, 0, 0, 0, 0, 0, 0, 0, 0, 0, 0, 0, 0, 0, 0, 0, 0, 0, 0, 0, 0, 0, 0, 0, 0, 0, 0, 0, 0, 0, 1, 1, 1, 1, 1, 1, 1, 1, 1, 1, 1, 1, 1, 1, 1, 1, 1, 1, 1, 1, 1, 1, 1, 1, 1, 1, 1, 1, 1, 1, 1, 1, 1, 1, 1, 1, 1, 1, 1, 1, 1, 1, 1, 1, 1, 1, 1, 1, 1, 1, 2, 2, 2, 2, 2, 2, 2, 2, 2, 2, 2, 2, 2, 2, 2, 2, 2, 2, 2, 2, 2, 2, 2, 2, 2, 2, 2, 2, 2, 2, 2, 2, 2, 2, 2, 2, 2, 2, 2, 2, 2, 2, 2, 2, 2, 2, 2, 2, 2, 2], \"coloraxis\": \"coloraxis\", \"symbol\": \"circle\"}, \"mode\": \"markers\", \"name\": \"\", \"showlegend\": false, \"type\": \"scatter\", \"x\": [5.1, 4.9, 4.7, 4.6, 5.0, 5.4, 4.6, 5.0, 4.4, 4.9, 5.4, 4.8, 4.8, 4.3, 5.8, 5.7, 5.4, 5.1, 5.7, 5.1, 5.4, 5.1, 4.6, 5.1, 4.8, 5.0, 5.0, 5.2, 5.2, 4.7, 4.8, 5.4, 5.2, 5.5, 4.9, 5.0, 5.5, 4.9, 4.4, 5.1, 5.0, 4.5, 4.4, 5.0, 5.1, 4.8, 5.1, 4.6, 5.3, 5.0, 7.0, 6.4, 6.9, 5.5, 6.5, 5.7, 6.3, 4.9, 6.6, 5.2, 5.0, 5.9, 6.0, 6.1, 5.6, 6.7, 5.6, 5.8, 6.2, 5.6, 5.9, 6.1, 6.3, 6.1, 6.4, 6.6, 6.8, 6.7, 6.0, 5.7, 5.5, 5.5, 5.8, 6.0, 5.4, 6.0, 6.7, 6.3, 5.6, 5.5, 5.5, 6.1, 5.8, 5.0, 5.6, 5.7, 5.7, 6.2, 5.1, 5.7, 6.3, 5.8, 7.1, 6.3, 6.5, 7.6, 4.9, 7.3, 6.7, 7.2, 6.5, 6.4, 6.8, 5.7, 5.8, 6.4, 6.5, 7.7, 7.7, 6.0, 6.9, 5.6, 7.7, 6.3, 6.7, 7.2, 6.2, 6.1, 6.4, 7.2, 7.4, 7.9, 6.4, 6.3, 6.1, 7.7, 6.3, 6.4, 6.0, 6.9, 6.7, 6.9, 5.8, 6.8, 6.7, 6.7, 6.3, 6.5, 6.2, 5.9], \"xaxis\": \"x\", \"y\": [3.5, 3.0, 3.2, 3.1, 3.6, 3.9, 3.4, 3.4, 2.9, 3.1, 3.7, 3.4, 3.0, 3.0, 4.0, 4.4, 3.9, 3.5, 3.8, 3.8, 3.4, 3.7, 3.6, 3.3, 3.4, 3.0, 3.4, 3.5, 3.4, 3.2, 3.1, 3.4, 4.1, 4.2, 3.1, 3.2, 3.5, 3.6, 3.0, 3.4, 3.5, 2.3, 3.2, 3.5, 3.8, 3.0, 3.8, 3.2, 3.7, 3.3, 3.2, 3.2, 3.1, 2.3, 2.8, 2.8, 3.3, 2.4, 2.9, 2.7, 2.0, 3.0, 2.2, 2.9, 2.9, 3.1, 3.0, 2.7, 2.2, 2.5, 3.2, 2.8, 2.5, 2.8, 2.9, 3.0, 2.8, 3.0, 2.9, 2.6, 2.4, 2.4, 2.7, 2.7, 3.0, 3.4, 3.1, 2.3, 3.0, 2.5, 2.6, 3.0, 2.6, 2.3, 2.7, 3.0, 2.9, 2.9, 2.5, 2.8, 3.3, 2.7, 3.0, 2.9, 3.0, 3.0, 2.5, 2.9, 2.5, 3.6, 3.2, 2.7, 3.0, 2.5, 2.8, 3.2, 3.0, 3.8, 2.6, 2.2, 3.2, 2.8, 2.8, 2.7, 3.3, 3.2, 2.8, 3.0, 2.8, 3.0, 2.8, 3.8, 2.8, 2.8, 2.6, 3.0, 3.4, 3.1, 3.0, 3.1, 3.1, 3.1, 2.7, 3.2, 3.3, 3.0, 2.5, 3.0, 3.4, 3.0], \"yaxis\": \"y\"}],\n",
              "                        {\"coloraxis\": {\"colorbar\": {\"title\": {\"text\": \"target\"}}, \"colorscale\": [[0.0, \"#0d0887\"], [0.1111111111111111, \"#46039f\"], [0.2222222222222222, \"#7201a8\"], [0.3333333333333333, \"#9c179e\"], [0.4444444444444444, \"#bd3786\"], [0.5555555555555556, \"#d8576b\"], [0.6666666666666666, \"#ed7953\"], [0.7777777777777778, \"#fb9f3a\"], [0.8888888888888888, \"#fdca26\"], [1.0, \"#f0f921\"]]}, \"height\": 500, \"legend\": {\"tracegroupgap\": 0}, \"margin\": {\"t\": 60}, \"template\": {\"data\": {\"bar\": [{\"error_x\": {\"color\": \"#2a3f5f\"}, \"error_y\": {\"color\": \"#2a3f5f\"}, \"marker\": {\"line\": {\"color\": \"#E5ECF6\", \"width\": 0.5}}, \"type\": \"bar\"}], \"barpolar\": [{\"marker\": {\"line\": {\"color\": \"#E5ECF6\", \"width\": 0.5}}, \"type\": \"barpolar\"}], \"carpet\": [{\"aaxis\": {\"endlinecolor\": \"#2a3f5f\", \"gridcolor\": \"white\", \"linecolor\": \"white\", \"minorgridcolor\": \"white\", \"startlinecolor\": \"#2a3f5f\"}, \"baxis\": {\"endlinecolor\": \"#2a3f5f\", \"gridcolor\": \"white\", \"linecolor\": \"white\", \"minorgridcolor\": \"white\", \"startlinecolor\": \"#2a3f5f\"}, \"type\": \"carpet\"}], \"choropleth\": [{\"colorbar\": {\"outlinewidth\": 0, \"ticks\": \"\"}, \"type\": \"choropleth\"}], \"contour\": [{\"colorbar\": {\"outlinewidth\": 0, \"ticks\": \"\"}, \"colorscale\": [[0.0, \"#0d0887\"], [0.1111111111111111, \"#46039f\"], [0.2222222222222222, \"#7201a8\"], [0.3333333333333333, \"#9c179e\"], [0.4444444444444444, \"#bd3786\"], [0.5555555555555556, \"#d8576b\"], [0.6666666666666666, \"#ed7953\"], [0.7777777777777778, \"#fb9f3a\"], [0.8888888888888888, \"#fdca26\"], [1.0, \"#f0f921\"]], \"type\": \"contour\"}], \"contourcarpet\": [{\"colorbar\": {\"outlinewidth\": 0, \"ticks\": \"\"}, \"type\": \"contourcarpet\"}], \"heatmap\": [{\"colorbar\": {\"outlinewidth\": 0, \"ticks\": \"\"}, \"colorscale\": [[0.0, \"#0d0887\"], [0.1111111111111111, \"#46039f\"], [0.2222222222222222, \"#7201a8\"], [0.3333333333333333, \"#9c179e\"], [0.4444444444444444, \"#bd3786\"], [0.5555555555555556, \"#d8576b\"], [0.6666666666666666, \"#ed7953\"], [0.7777777777777778, \"#fb9f3a\"], [0.8888888888888888, \"#fdca26\"], [1.0, \"#f0f921\"]], \"type\": \"heatmap\"}], \"heatmapgl\": [{\"colorbar\": {\"outlinewidth\": 0, \"ticks\": \"\"}, \"colorscale\": [[0.0, \"#0d0887\"], [0.1111111111111111, \"#46039f\"], [0.2222222222222222, \"#7201a8\"], [0.3333333333333333, \"#9c179e\"], [0.4444444444444444, \"#bd3786\"], [0.5555555555555556, \"#d8576b\"], [0.6666666666666666, \"#ed7953\"], [0.7777777777777778, \"#fb9f3a\"], [0.8888888888888888, \"#fdca26\"], [1.0, \"#f0f921\"]], \"type\": \"heatmapgl\"}], \"histogram\": [{\"marker\": {\"colorbar\": {\"outlinewidth\": 0, \"ticks\": \"\"}}, \"type\": \"histogram\"}], \"histogram2d\": [{\"colorbar\": {\"outlinewidth\": 0, \"ticks\": \"\"}, \"colorscale\": [[0.0, \"#0d0887\"], [0.1111111111111111, \"#46039f\"], [0.2222222222222222, \"#7201a8\"], [0.3333333333333333, \"#9c179e\"], [0.4444444444444444, \"#bd3786\"], [0.5555555555555556, \"#d8576b\"], [0.6666666666666666, \"#ed7953\"], [0.7777777777777778, \"#fb9f3a\"], [0.8888888888888888, \"#fdca26\"], [1.0, \"#f0f921\"]], \"type\": \"histogram2d\"}], \"histogram2dcontour\": [{\"colorbar\": {\"outlinewidth\": 0, \"ticks\": \"\"}, \"colorscale\": [[0.0, \"#0d0887\"], [0.1111111111111111, \"#46039f\"], [0.2222222222222222, \"#7201a8\"], [0.3333333333333333, \"#9c179e\"], [0.4444444444444444, \"#bd3786\"], [0.5555555555555556, \"#d8576b\"], [0.6666666666666666, \"#ed7953\"], [0.7777777777777778, \"#fb9f3a\"], [0.8888888888888888, \"#fdca26\"], [1.0, \"#f0f921\"]], \"type\": \"histogram2dcontour\"}], \"mesh3d\": [{\"colorbar\": {\"outlinewidth\": 0, \"ticks\": \"\"}, \"type\": \"mesh3d\"}], \"parcoords\": [{\"line\": {\"colorbar\": {\"outlinewidth\": 0, \"ticks\": \"\"}}, \"type\": \"parcoords\"}], \"pie\": [{\"automargin\": true, \"type\": \"pie\"}], \"scatter\": [{\"marker\": {\"colorbar\": {\"outlinewidth\": 0, \"ticks\": \"\"}}, \"type\": \"scatter\"}], \"scatter3d\": [{\"line\": {\"colorbar\": {\"outlinewidth\": 0, \"ticks\": \"\"}}, \"marker\": {\"colorbar\": {\"outlinewidth\": 0, \"ticks\": \"\"}}, \"type\": \"scatter3d\"}], \"scattercarpet\": [{\"marker\": {\"colorbar\": {\"outlinewidth\": 0, \"ticks\": \"\"}}, \"type\": \"scattercarpet\"}], \"scattergeo\": [{\"marker\": {\"colorbar\": {\"outlinewidth\": 0, \"ticks\": \"\"}}, \"type\": \"scattergeo\"}], \"scattergl\": [{\"marker\": {\"colorbar\": {\"outlinewidth\": 0, \"ticks\": \"\"}}, \"type\": \"scattergl\"}], \"scattermapbox\": [{\"marker\": {\"colorbar\": {\"outlinewidth\": 0, \"ticks\": \"\"}}, \"type\": \"scattermapbox\"}], \"scatterpolar\": [{\"marker\": {\"colorbar\": {\"outlinewidth\": 0, \"ticks\": \"\"}}, \"type\": \"scatterpolar\"}], \"scatterpolargl\": [{\"marker\": {\"colorbar\": {\"outlinewidth\": 0, \"ticks\": \"\"}}, \"type\": \"scatterpolargl\"}], \"scatterternary\": [{\"marker\": {\"colorbar\": {\"outlinewidth\": 0, \"ticks\": \"\"}}, \"type\": \"scatterternary\"}], \"surface\": [{\"colorbar\": {\"outlinewidth\": 0, \"ticks\": \"\"}, \"colorscale\": [[0.0, \"#0d0887\"], [0.1111111111111111, \"#46039f\"], [0.2222222222222222, \"#7201a8\"], [0.3333333333333333, \"#9c179e\"], [0.4444444444444444, \"#bd3786\"], [0.5555555555555556, \"#d8576b\"], [0.6666666666666666, \"#ed7953\"], [0.7777777777777778, \"#fb9f3a\"], [0.8888888888888888, \"#fdca26\"], [1.0, \"#f0f921\"]], \"type\": \"surface\"}], \"table\": [{\"cells\": {\"fill\": {\"color\": \"#EBF0F8\"}, \"line\": {\"color\": \"white\"}}, \"header\": {\"fill\": {\"color\": \"#C8D4E3\"}, \"line\": {\"color\": \"white\"}}, \"type\": \"table\"}]}, \"layout\": {\"annotationdefaults\": {\"arrowcolor\": \"#2a3f5f\", \"arrowhead\": 0, \"arrowwidth\": 1}, \"coloraxis\": {\"colorbar\": {\"outlinewidth\": 0, \"ticks\": \"\"}}, \"colorscale\": {\"diverging\": [[0, \"#8e0152\"], [0.1, \"#c51b7d\"], [0.2, \"#de77ae\"], [0.3, \"#f1b6da\"], [0.4, \"#fde0ef\"], [0.5, \"#f7f7f7\"], [0.6, \"#e6f5d0\"], [0.7, \"#b8e186\"], [0.8, \"#7fbc41\"], [0.9, \"#4d9221\"], [1, \"#276419\"]], \"sequential\": [[0.0, \"#0d0887\"], [0.1111111111111111, \"#46039f\"], [0.2222222222222222, \"#7201a8\"], [0.3333333333333333, \"#9c179e\"], [0.4444444444444444, \"#bd3786\"], [0.5555555555555556, \"#d8576b\"], [0.6666666666666666, \"#ed7953\"], [0.7777777777777778, \"#fb9f3a\"], [0.8888888888888888, \"#fdca26\"], [1.0, \"#f0f921\"]], \"sequentialminus\": [[0.0, \"#0d0887\"], [0.1111111111111111, \"#46039f\"], [0.2222222222222222, \"#7201a8\"], [0.3333333333333333, \"#9c179e\"], [0.4444444444444444, \"#bd3786\"], [0.5555555555555556, \"#d8576b\"], [0.6666666666666666, \"#ed7953\"], [0.7777777777777778, \"#fb9f3a\"], [0.8888888888888888, \"#fdca26\"], [1.0, \"#f0f921\"]]}, \"colorway\": [\"#636efa\", \"#EF553B\", \"#00cc96\", \"#ab63fa\", \"#FFA15A\", \"#19d3f3\", \"#FF6692\", \"#B6E880\", \"#FF97FF\", \"#FECB52\"], \"font\": {\"color\": \"#2a3f5f\"}, \"geo\": {\"bgcolor\": \"white\", \"lakecolor\": \"white\", \"landcolor\": \"#E5ECF6\", \"showlakes\": true, \"showland\": true, \"subunitcolor\": \"white\"}, \"hoverlabel\": {\"align\": \"left\"}, \"hovermode\": \"closest\", \"mapbox\": {\"style\": \"light\"}, \"paper_bgcolor\": \"white\", \"plot_bgcolor\": \"#E5ECF6\", \"polar\": {\"angularaxis\": {\"gridcolor\": \"white\", \"linecolor\": \"white\", \"ticks\": \"\"}, \"bgcolor\": \"#E5ECF6\", \"radialaxis\": {\"gridcolor\": \"white\", \"linecolor\": \"white\", \"ticks\": \"\"}}, \"scene\": {\"xaxis\": {\"backgroundcolor\": \"#E5ECF6\", \"gridcolor\": \"white\", \"gridwidth\": 2, \"linecolor\": \"white\", \"showbackground\": true, \"ticks\": \"\", \"zerolinecolor\": \"white\"}, \"yaxis\": {\"backgroundcolor\": \"#E5ECF6\", \"gridcolor\": \"white\", \"gridwidth\": 2, \"linecolor\": \"white\", \"showbackground\": true, \"ticks\": \"\", \"zerolinecolor\": \"white\"}, \"zaxis\": {\"backgroundcolor\": \"#E5ECF6\", \"gridcolor\": \"white\", \"gridwidth\": 2, \"linecolor\": \"white\", \"showbackground\": true, \"ticks\": \"\", \"zerolinecolor\": \"white\"}}, \"shapedefaults\": {\"line\": {\"color\": \"#2a3f5f\"}}, \"ternary\": {\"aaxis\": {\"gridcolor\": \"white\", \"linecolor\": \"white\", \"ticks\": \"\"}, \"baxis\": {\"gridcolor\": \"white\", \"linecolor\": \"white\", \"ticks\": \"\"}, \"bgcolor\": \"#E5ECF6\", \"caxis\": {\"gridcolor\": \"white\", \"linecolor\": \"white\", \"ticks\": \"\"}}, \"title\": {\"x\": 0.05}, \"xaxis\": {\"automargin\": true, \"gridcolor\": \"white\", \"linecolor\": \"white\", \"ticks\": \"\", \"title\": {\"standoff\": 15}, \"zerolinecolor\": \"white\", \"zerolinewidth\": 2}, \"yaxis\": {\"automargin\": true, \"gridcolor\": \"white\", \"linecolor\": \"white\", \"ticks\": \"\", \"title\": {\"standoff\": 15}, \"zerolinecolor\": \"white\", \"zerolinewidth\": 2}}}, \"width\": 600, \"xaxis\": {\"anchor\": \"y\", \"domain\": [0.0, 1.0], \"title\": {\"text\": \"sepal_length\"}}, \"yaxis\": {\"anchor\": \"x\", \"domain\": [0.0, 1.0], \"title\": {\"text\": \"sepal_width\"}}},\n",
              "                        {\"responsive\": true}\n",
              "                    ).then(function(){\n",
              "                            \n",
              "var gd = document.getElementById('43ab25ac-0423-4581-923a-bb3e82fccfd4');\n",
              "var x = new MutationObserver(function (mutations, observer) {{\n",
              "        var display = window.getComputedStyle(gd).display;\n",
              "        if (!display || display === 'none') {{\n",
              "            console.log([gd, 'removed!']);\n",
              "            Plotly.purge(gd);\n",
              "            observer.disconnect();\n",
              "        }}\n",
              "}});\n",
              "\n",
              "// Listen for the removal of the full notebook cells\n",
              "var notebookContainer = gd.closest('#notebook-container');\n",
              "if (notebookContainer) {{\n",
              "    x.observe(notebookContainer, {childList: true});\n",
              "}}\n",
              "\n",
              "// Listen for the clearing of the current output cell\n",
              "var outputEl = gd.closest('.output');\n",
              "if (outputEl) {{\n",
              "    x.observe(outputEl, {childList: true});\n",
              "}}\n",
              "\n",
              "                        })\n",
              "                };\n",
              "                \n",
              "            </script>\n",
              "        </div>\n",
              "</body>\n",
              "</html>"
            ]
          },
          "metadata": {
            "tags": []
          }
        }
      ]
    },
    {
      "cell_type": "code",
      "metadata": {
        "colab": {
          "base_uri": "https://localhost:8080/",
          "height": 517
        },
        "id": "PgNK0y8N_8jR",
        "outputId": "c3987f76-ac01-4b67-9824-6a5e58740357"
      },
      "source": [
        "# 다른 컬럼으로 만들기\n",
        "fig=px.scatter(iris_df, x='petal_length', y='petal_width', color='target')\n",
        "fig.update_layout(width = 600, height=500) # 사이즈 조정\n",
        "fig.show()"
      ],
      "execution_count": 12,
      "outputs": [
        {
          "output_type": "display_data",
          "data": {
            "text/html": [
              "<html>\n",
              "<head><meta charset=\"utf-8\" /></head>\n",
              "<body>\n",
              "    <div>\n",
              "            <script src=\"https://cdnjs.cloudflare.com/ajax/libs/mathjax/2.7.5/MathJax.js?config=TeX-AMS-MML_SVG\"></script><script type=\"text/javascript\">if (window.MathJax) {MathJax.Hub.Config({SVG: {font: \"STIX-Web\"}});}</script>\n",
              "                <script type=\"text/javascript\">window.PlotlyConfig = {MathJaxConfig: 'local'};</script>\n",
              "        <script src=\"https://cdn.plot.ly/plotly-latest.min.js\"></script>    \n",
              "            <div id=\"55ebe14f-44a7-4ddc-86a2-a093123436c5\" class=\"plotly-graph-div\" style=\"height:500px; width:600px;\"></div>\n",
              "            <script type=\"text/javascript\">\n",
              "                \n",
              "                    window.PLOTLYENV=window.PLOTLYENV || {};\n",
              "                    \n",
              "                if (document.getElementById(\"55ebe14f-44a7-4ddc-86a2-a093123436c5\")) {\n",
              "                    Plotly.newPlot(\n",
              "                        '55ebe14f-44a7-4ddc-86a2-a093123436c5',\n",
              "                        [{\"hoverlabel\": {\"namelength\": 0}, \"hovertemplate\": \"petal_length=%{x}<br>petal_width=%{y}<br>target=%{marker.color}\", \"legendgroup\": \"\", \"marker\": {\"color\": [0, 0, 0, 0, 0, 0, 0, 0, 0, 0, 0, 0, 0, 0, 0, 0, 0, 0, 0, 0, 0, 0, 0, 0, 0, 0, 0, 0, 0, 0, 0, 0, 0, 0, 0, 0, 0, 0, 0, 0, 0, 0, 0, 0, 0, 0, 0, 0, 0, 0, 1, 1, 1, 1, 1, 1, 1, 1, 1, 1, 1, 1, 1, 1, 1, 1, 1, 1, 1, 1, 1, 1, 1, 1, 1, 1, 1, 1, 1, 1, 1, 1, 1, 1, 1, 1, 1, 1, 1, 1, 1, 1, 1, 1, 1, 1, 1, 1, 1, 1, 2, 2, 2, 2, 2, 2, 2, 2, 2, 2, 2, 2, 2, 2, 2, 2, 2, 2, 2, 2, 2, 2, 2, 2, 2, 2, 2, 2, 2, 2, 2, 2, 2, 2, 2, 2, 2, 2, 2, 2, 2, 2, 2, 2, 2, 2, 2, 2, 2, 2], \"coloraxis\": \"coloraxis\", \"symbol\": \"circle\"}, \"mode\": \"markers\", \"name\": \"\", \"showlegend\": false, \"type\": \"scatter\", \"x\": [1.4, 1.4, 1.3, 1.5, 1.4, 1.7, 1.4, 1.5, 1.4, 1.5, 1.5, 1.6, 1.4, 1.1, 1.2, 1.5, 1.3, 1.4, 1.7, 1.5, 1.7, 1.5, 1.0, 1.7, 1.9, 1.6, 1.6, 1.5, 1.4, 1.6, 1.6, 1.5, 1.5, 1.4, 1.5, 1.2, 1.3, 1.4, 1.3, 1.5, 1.3, 1.3, 1.3, 1.6, 1.9, 1.4, 1.6, 1.4, 1.5, 1.4, 4.7, 4.5, 4.9, 4.0, 4.6, 4.5, 4.7, 3.3, 4.6, 3.9, 3.5, 4.2, 4.0, 4.7, 3.6, 4.4, 4.5, 4.1, 4.5, 3.9, 4.8, 4.0, 4.9, 4.7, 4.3, 4.4, 4.8, 5.0, 4.5, 3.5, 3.8, 3.7, 3.9, 5.1, 4.5, 4.5, 4.7, 4.4, 4.1, 4.0, 4.4, 4.6, 4.0, 3.3, 4.2, 4.2, 4.2, 4.3, 3.0, 4.1, 6.0, 5.1, 5.9, 5.6, 5.8, 6.6, 4.5, 6.3, 5.8, 6.1, 5.1, 5.3, 5.5, 5.0, 5.1, 5.3, 5.5, 6.7, 6.9, 5.0, 5.7, 4.9, 6.7, 4.9, 5.7, 6.0, 4.8, 4.9, 5.6, 5.8, 6.1, 6.4, 5.6, 5.1, 5.6, 6.1, 5.6, 5.5, 4.8, 5.4, 5.6, 5.1, 5.1, 5.9, 5.7, 5.2, 5.0, 5.2, 5.4, 5.1], \"xaxis\": \"x\", \"y\": [0.2, 0.2, 0.2, 0.2, 0.2, 0.4, 0.3, 0.2, 0.2, 0.1, 0.2, 0.2, 0.1, 0.1, 0.2, 0.4, 0.4, 0.3, 0.3, 0.3, 0.2, 0.4, 0.2, 0.5, 0.2, 0.2, 0.4, 0.2, 0.2, 0.2, 0.2, 0.4, 0.1, 0.2, 0.2, 0.2, 0.2, 0.1, 0.2, 0.2, 0.3, 0.3, 0.2, 0.6, 0.4, 0.3, 0.2, 0.2, 0.2, 0.2, 1.4, 1.5, 1.5, 1.3, 1.5, 1.3, 1.6, 1.0, 1.3, 1.4, 1.0, 1.5, 1.0, 1.4, 1.3, 1.4, 1.5, 1.0, 1.5, 1.1, 1.8, 1.3, 1.5, 1.2, 1.3, 1.4, 1.4, 1.7, 1.5, 1.0, 1.1, 1.0, 1.2, 1.6, 1.5, 1.6, 1.5, 1.3, 1.3, 1.3, 1.2, 1.4, 1.2, 1.0, 1.3, 1.2, 1.3, 1.3, 1.1, 1.3, 2.5, 1.9, 2.1, 1.8, 2.2, 2.1, 1.7, 1.8, 1.8, 2.5, 2.0, 1.9, 2.1, 2.0, 2.4, 2.3, 1.8, 2.2, 2.3, 1.5, 2.3, 2.0, 2.0, 1.8, 2.1, 1.8, 1.8, 1.8, 2.1, 1.6, 1.9, 2.0, 2.2, 1.5, 1.4, 2.3, 2.4, 1.8, 1.8, 2.1, 2.4, 2.3, 1.9, 2.3, 2.5, 2.3, 1.9, 2.0, 2.3, 1.8], \"yaxis\": \"y\"}],\n",
              "                        {\"coloraxis\": {\"colorbar\": {\"title\": {\"text\": \"target\"}}, \"colorscale\": [[0.0, \"#0d0887\"], [0.1111111111111111, \"#46039f\"], [0.2222222222222222, \"#7201a8\"], [0.3333333333333333, \"#9c179e\"], [0.4444444444444444, \"#bd3786\"], [0.5555555555555556, \"#d8576b\"], [0.6666666666666666, \"#ed7953\"], [0.7777777777777778, \"#fb9f3a\"], [0.8888888888888888, \"#fdca26\"], [1.0, \"#f0f921\"]]}, \"height\": 500, \"legend\": {\"tracegroupgap\": 0}, \"margin\": {\"t\": 60}, \"template\": {\"data\": {\"bar\": [{\"error_x\": {\"color\": \"#2a3f5f\"}, \"error_y\": {\"color\": \"#2a3f5f\"}, \"marker\": {\"line\": {\"color\": \"#E5ECF6\", \"width\": 0.5}}, \"type\": \"bar\"}], \"barpolar\": [{\"marker\": {\"line\": {\"color\": \"#E5ECF6\", \"width\": 0.5}}, \"type\": \"barpolar\"}], \"carpet\": [{\"aaxis\": {\"endlinecolor\": \"#2a3f5f\", \"gridcolor\": \"white\", \"linecolor\": \"white\", \"minorgridcolor\": \"white\", \"startlinecolor\": \"#2a3f5f\"}, \"baxis\": {\"endlinecolor\": \"#2a3f5f\", \"gridcolor\": \"white\", \"linecolor\": \"white\", \"minorgridcolor\": \"white\", \"startlinecolor\": \"#2a3f5f\"}, \"type\": \"carpet\"}], \"choropleth\": [{\"colorbar\": {\"outlinewidth\": 0, \"ticks\": \"\"}, \"type\": \"choropleth\"}], \"contour\": [{\"colorbar\": {\"outlinewidth\": 0, \"ticks\": \"\"}, \"colorscale\": [[0.0, \"#0d0887\"], [0.1111111111111111, \"#46039f\"], [0.2222222222222222, \"#7201a8\"], [0.3333333333333333, \"#9c179e\"], [0.4444444444444444, \"#bd3786\"], [0.5555555555555556, \"#d8576b\"], [0.6666666666666666, \"#ed7953\"], [0.7777777777777778, \"#fb9f3a\"], [0.8888888888888888, \"#fdca26\"], [1.0, \"#f0f921\"]], \"type\": \"contour\"}], \"contourcarpet\": [{\"colorbar\": {\"outlinewidth\": 0, \"ticks\": \"\"}, \"type\": \"contourcarpet\"}], \"heatmap\": [{\"colorbar\": {\"outlinewidth\": 0, \"ticks\": \"\"}, \"colorscale\": [[0.0, \"#0d0887\"], [0.1111111111111111, \"#46039f\"], [0.2222222222222222, \"#7201a8\"], [0.3333333333333333, \"#9c179e\"], [0.4444444444444444, \"#bd3786\"], [0.5555555555555556, \"#d8576b\"], [0.6666666666666666, \"#ed7953\"], [0.7777777777777778, \"#fb9f3a\"], [0.8888888888888888, \"#fdca26\"], [1.0, \"#f0f921\"]], \"type\": \"heatmap\"}], \"heatmapgl\": [{\"colorbar\": {\"outlinewidth\": 0, \"ticks\": \"\"}, \"colorscale\": [[0.0, \"#0d0887\"], [0.1111111111111111, \"#46039f\"], [0.2222222222222222, \"#7201a8\"], [0.3333333333333333, \"#9c179e\"], [0.4444444444444444, \"#bd3786\"], [0.5555555555555556, \"#d8576b\"], [0.6666666666666666, \"#ed7953\"], [0.7777777777777778, \"#fb9f3a\"], [0.8888888888888888, \"#fdca26\"], [1.0, \"#f0f921\"]], \"type\": \"heatmapgl\"}], \"histogram\": [{\"marker\": {\"colorbar\": {\"outlinewidth\": 0, \"ticks\": \"\"}}, \"type\": \"histogram\"}], \"histogram2d\": [{\"colorbar\": {\"outlinewidth\": 0, \"ticks\": \"\"}, \"colorscale\": [[0.0, \"#0d0887\"], [0.1111111111111111, \"#46039f\"], [0.2222222222222222, \"#7201a8\"], [0.3333333333333333, \"#9c179e\"], [0.4444444444444444, \"#bd3786\"], [0.5555555555555556, \"#d8576b\"], [0.6666666666666666, \"#ed7953\"], [0.7777777777777778, \"#fb9f3a\"], [0.8888888888888888, \"#fdca26\"], [1.0, \"#f0f921\"]], \"type\": \"histogram2d\"}], \"histogram2dcontour\": [{\"colorbar\": {\"outlinewidth\": 0, \"ticks\": \"\"}, \"colorscale\": [[0.0, \"#0d0887\"], [0.1111111111111111, \"#46039f\"], [0.2222222222222222, \"#7201a8\"], [0.3333333333333333, \"#9c179e\"], [0.4444444444444444, \"#bd3786\"], [0.5555555555555556, \"#d8576b\"], [0.6666666666666666, \"#ed7953\"], [0.7777777777777778, \"#fb9f3a\"], [0.8888888888888888, \"#fdca26\"], [1.0, \"#f0f921\"]], \"type\": \"histogram2dcontour\"}], \"mesh3d\": [{\"colorbar\": {\"outlinewidth\": 0, \"ticks\": \"\"}, \"type\": \"mesh3d\"}], \"parcoords\": [{\"line\": {\"colorbar\": {\"outlinewidth\": 0, \"ticks\": \"\"}}, \"type\": \"parcoords\"}], \"pie\": [{\"automargin\": true, \"type\": \"pie\"}], \"scatter\": [{\"marker\": {\"colorbar\": {\"outlinewidth\": 0, \"ticks\": \"\"}}, \"type\": \"scatter\"}], \"scatter3d\": [{\"line\": {\"colorbar\": {\"outlinewidth\": 0, \"ticks\": \"\"}}, \"marker\": {\"colorbar\": {\"outlinewidth\": 0, \"ticks\": \"\"}}, \"type\": \"scatter3d\"}], \"scattercarpet\": [{\"marker\": {\"colorbar\": {\"outlinewidth\": 0, \"ticks\": \"\"}}, \"type\": \"scattercarpet\"}], \"scattergeo\": [{\"marker\": {\"colorbar\": {\"outlinewidth\": 0, \"ticks\": \"\"}}, \"type\": \"scattergeo\"}], \"scattergl\": [{\"marker\": {\"colorbar\": {\"outlinewidth\": 0, \"ticks\": \"\"}}, \"type\": \"scattergl\"}], \"scattermapbox\": [{\"marker\": {\"colorbar\": {\"outlinewidth\": 0, \"ticks\": \"\"}}, \"type\": \"scattermapbox\"}], \"scatterpolar\": [{\"marker\": {\"colorbar\": {\"outlinewidth\": 0, \"ticks\": \"\"}}, \"type\": \"scatterpolar\"}], \"scatterpolargl\": [{\"marker\": {\"colorbar\": {\"outlinewidth\": 0, \"ticks\": \"\"}}, \"type\": \"scatterpolargl\"}], \"scatterternary\": [{\"marker\": {\"colorbar\": {\"outlinewidth\": 0, \"ticks\": \"\"}}, \"type\": \"scatterternary\"}], \"surface\": [{\"colorbar\": {\"outlinewidth\": 0, \"ticks\": \"\"}, \"colorscale\": [[0.0, \"#0d0887\"], [0.1111111111111111, \"#46039f\"], [0.2222222222222222, \"#7201a8\"], [0.3333333333333333, \"#9c179e\"], [0.4444444444444444, \"#bd3786\"], [0.5555555555555556, \"#d8576b\"], [0.6666666666666666, \"#ed7953\"], [0.7777777777777778, \"#fb9f3a\"], [0.8888888888888888, \"#fdca26\"], [1.0, \"#f0f921\"]], \"type\": \"surface\"}], \"table\": [{\"cells\": {\"fill\": {\"color\": \"#EBF0F8\"}, \"line\": {\"color\": \"white\"}}, \"header\": {\"fill\": {\"color\": \"#C8D4E3\"}, \"line\": {\"color\": \"white\"}}, \"type\": \"table\"}]}, \"layout\": {\"annotationdefaults\": {\"arrowcolor\": \"#2a3f5f\", \"arrowhead\": 0, \"arrowwidth\": 1}, \"coloraxis\": {\"colorbar\": {\"outlinewidth\": 0, \"ticks\": \"\"}}, \"colorscale\": {\"diverging\": [[0, \"#8e0152\"], [0.1, \"#c51b7d\"], [0.2, \"#de77ae\"], [0.3, \"#f1b6da\"], [0.4, \"#fde0ef\"], [0.5, \"#f7f7f7\"], [0.6, \"#e6f5d0\"], [0.7, \"#b8e186\"], [0.8, \"#7fbc41\"], [0.9, \"#4d9221\"], [1, \"#276419\"]], \"sequential\": [[0.0, \"#0d0887\"], [0.1111111111111111, \"#46039f\"], [0.2222222222222222, \"#7201a8\"], [0.3333333333333333, \"#9c179e\"], [0.4444444444444444, \"#bd3786\"], [0.5555555555555556, \"#d8576b\"], [0.6666666666666666, \"#ed7953\"], [0.7777777777777778, \"#fb9f3a\"], [0.8888888888888888, \"#fdca26\"], [1.0, \"#f0f921\"]], \"sequentialminus\": [[0.0, \"#0d0887\"], [0.1111111111111111, \"#46039f\"], [0.2222222222222222, \"#7201a8\"], [0.3333333333333333, \"#9c179e\"], [0.4444444444444444, \"#bd3786\"], [0.5555555555555556, \"#d8576b\"], [0.6666666666666666, \"#ed7953\"], [0.7777777777777778, \"#fb9f3a\"], [0.8888888888888888, \"#fdca26\"], [1.0, \"#f0f921\"]]}, \"colorway\": [\"#636efa\", \"#EF553B\", \"#00cc96\", \"#ab63fa\", \"#FFA15A\", \"#19d3f3\", \"#FF6692\", \"#B6E880\", \"#FF97FF\", \"#FECB52\"], \"font\": {\"color\": \"#2a3f5f\"}, \"geo\": {\"bgcolor\": \"white\", \"lakecolor\": \"white\", \"landcolor\": \"#E5ECF6\", \"showlakes\": true, \"showland\": true, \"subunitcolor\": \"white\"}, \"hoverlabel\": {\"align\": \"left\"}, \"hovermode\": \"closest\", \"mapbox\": {\"style\": \"light\"}, \"paper_bgcolor\": \"white\", \"plot_bgcolor\": \"#E5ECF6\", \"polar\": {\"angularaxis\": {\"gridcolor\": \"white\", \"linecolor\": \"white\", \"ticks\": \"\"}, \"bgcolor\": \"#E5ECF6\", \"radialaxis\": {\"gridcolor\": \"white\", \"linecolor\": \"white\", \"ticks\": \"\"}}, \"scene\": {\"xaxis\": {\"backgroundcolor\": \"#E5ECF6\", \"gridcolor\": \"white\", \"gridwidth\": 2, \"linecolor\": \"white\", \"showbackground\": true, \"ticks\": \"\", \"zerolinecolor\": \"white\"}, \"yaxis\": {\"backgroundcolor\": \"#E5ECF6\", \"gridcolor\": \"white\", \"gridwidth\": 2, \"linecolor\": \"white\", \"showbackground\": true, \"ticks\": \"\", \"zerolinecolor\": \"white\"}, \"zaxis\": {\"backgroundcolor\": \"#E5ECF6\", \"gridcolor\": \"white\", \"gridwidth\": 2, \"linecolor\": \"white\", \"showbackground\": true, \"ticks\": \"\", \"zerolinecolor\": \"white\"}}, \"shapedefaults\": {\"line\": {\"color\": \"#2a3f5f\"}}, \"ternary\": {\"aaxis\": {\"gridcolor\": \"white\", \"linecolor\": \"white\", \"ticks\": \"\"}, \"baxis\": {\"gridcolor\": \"white\", \"linecolor\": \"white\", \"ticks\": \"\"}, \"bgcolor\": \"#E5ECF6\", \"caxis\": {\"gridcolor\": \"white\", \"linecolor\": \"white\", \"ticks\": \"\"}}, \"title\": {\"x\": 0.05}, \"xaxis\": {\"automargin\": true, \"gridcolor\": \"white\", \"linecolor\": \"white\", \"ticks\": \"\", \"title\": {\"standoff\": 15}, \"zerolinecolor\": \"white\", \"zerolinewidth\": 2}, \"yaxis\": {\"automargin\": true, \"gridcolor\": \"white\", \"linecolor\": \"white\", \"ticks\": \"\", \"title\": {\"standoff\": 15}, \"zerolinecolor\": \"white\", \"zerolinewidth\": 2}}}, \"width\": 600, \"xaxis\": {\"anchor\": \"y\", \"domain\": [0.0, 1.0], \"title\": {\"text\": \"petal_length\"}}, \"yaxis\": {\"anchor\": \"x\", \"domain\": [0.0, 1.0], \"title\": {\"text\": \"petal_width\"}}},\n",
              "                        {\"responsive\": true}\n",
              "                    ).then(function(){\n",
              "                            \n",
              "var gd = document.getElementById('55ebe14f-44a7-4ddc-86a2-a093123436c5');\n",
              "var x = new MutationObserver(function (mutations, observer) {{\n",
              "        var display = window.getComputedStyle(gd).display;\n",
              "        if (!display || display === 'none') {{\n",
              "            console.log([gd, 'removed!']);\n",
              "            Plotly.purge(gd);\n",
              "            observer.disconnect();\n",
              "        }}\n",
              "}});\n",
              "\n",
              "// Listen for the removal of the full notebook cells\n",
              "var notebookContainer = gd.closest('#notebook-container');\n",
              "if (notebookContainer) {{\n",
              "    x.observe(notebookContainer, {childList: true});\n",
              "}}\n",
              "\n",
              "// Listen for the clearing of the current output cell\n",
              "var outputEl = gd.closest('.output');\n",
              "if (outputEl) {{\n",
              "    x.observe(outputEl, {childList: true});\n",
              "}}\n",
              "\n",
              "                        })\n",
              "                };\n",
              "                \n",
              "            </script>\n",
              "        </div>\n",
              "</body>\n",
              "</html>"
            ]
          },
          "metadata": {
            "tags": []
          }
        }
      ]
    },
    {
      "cell_type": "markdown",
      "metadata": {
        "id": "rAGlEE6uBuP8"
      },
      "source": [
        "### K-Means 알고리즘"
      ]
    },
    {
      "cell_type": "code",
      "metadata": {
        "id": "Dkb1CR_wBrCh"
      },
      "source": [
        "from sklearn.cluster import KMeans"
      ],
      "execution_count": 13,
      "outputs": []
    },
    {
      "cell_type": "code",
      "metadata": {
        "colab": {
          "base_uri": "https://localhost:8080/"
        },
        "id": "HONbZcgLBxsG",
        "outputId": "687161e1-3560-4a1a-aef5-2ffb254fe7bd"
      },
      "source": [
        "X = iris_df.iloc[:,:-1]\n",
        "Y = iris_df.iloc[:,-1]\n",
        "\n",
        "train_x, test_x, train_y, test_y = train_test_split(X, Y, test_size=0.2)\n",
        "print(len(train_x), len(test_x))"
      ],
      "execution_count": 14,
      "outputs": [
        {
          "output_type": "stream",
          "text": [
            "120 30\n"
          ],
          "name": "stdout"
        }
      ]
    },
    {
      "cell_type": "code",
      "metadata": {
        "colab": {
          "base_uri": "https://localhost:8080/"
        },
        "id": "9i-L7Sg0Cnqv",
        "outputId": "edb725de-4543-400b-d3fa-2308efd7ea0c"
      },
      "source": [
        "# 5개의 그룹으로 clustering\n",
        "km = KMeans(n_clusters=5)\n",
        "km"
      ],
      "execution_count": 15,
      "outputs": [
        {
          "output_type": "execute_result",
          "data": {
            "text/plain": [
              "KMeans(algorithm='auto', copy_x=True, init='k-means++', max_iter=300,\n",
              "       n_clusters=5, n_init=10, n_jobs=None, precompute_distances='auto',\n",
              "       random_state=None, tol=0.0001, verbose=0)"
            ]
          },
          "metadata": {
            "tags": []
          },
          "execution_count": 15
        }
      ]
    },
    {
      "cell_type": "code",
      "metadata": {
        "id": "iQQX3fWkI0E_"
      },
      "source": [
        "km.fit(train_x)\n",
        "clusters_array = km.labels_"
      ],
      "execution_count": 16,
      "outputs": []
    },
    {
      "cell_type": "code",
      "metadata": {
        "colab": {
          "base_uri": "https://localhost:8080/"
        },
        "id": "LKwedkpfJDLe",
        "outputId": "b43a87cf-4576-460e-cb75-9729cbff2d18"
      },
      "source": [
        "# 실제 iris 데이터의 그룹과 훈련된 cluster의 결과를 비교\n",
        "compare_clusters = dict(zip(clusters_array, train_y))\n",
        "compare_clusters"
      ],
      "execution_count": 17,
      "outputs": [
        {
          "output_type": "execute_result",
          "data": {
            "text/plain": [
              "{0: 2, 1: 0, 2: 1, 3: 2, 4: 1}"
            ]
          },
          "metadata": {
            "tags": []
          },
          "execution_count": 17
        }
      ]
    },
    {
      "cell_type": "code",
      "metadata": {
        "colab": {
          "base_uri": "https://localhost:8080/",
          "height": 517
        },
        "id": "1G2zBIceJtom",
        "outputId": "84e4ea71-ad73-46ad-e992-77ba63839fcc"
      },
      "source": [
        "# 훈련된 label 기준으로 시각화\n",
        "fig = px.scatter(x=train_x['petal_width'], y=train_x['petal_length'], color=clusters_array)\n",
        "fig.update_layout(width=600, height=500)\n",
        "fig.show()"
      ],
      "execution_count": 18,
      "outputs": [
        {
          "output_type": "display_data",
          "data": {
            "text/html": [
              "<html>\n",
              "<head><meta charset=\"utf-8\" /></head>\n",
              "<body>\n",
              "    <div>\n",
              "            <script src=\"https://cdnjs.cloudflare.com/ajax/libs/mathjax/2.7.5/MathJax.js?config=TeX-AMS-MML_SVG\"></script><script type=\"text/javascript\">if (window.MathJax) {MathJax.Hub.Config({SVG: {font: \"STIX-Web\"}});}</script>\n",
              "                <script type=\"text/javascript\">window.PlotlyConfig = {MathJaxConfig: 'local'};</script>\n",
              "        <script src=\"https://cdn.plot.ly/plotly-latest.min.js\"></script>    \n",
              "            <div id=\"1c14f878-1485-4368-b54c-37d9c2acf453\" class=\"plotly-graph-div\" style=\"height:500px; width:600px;\"></div>\n",
              "            <script type=\"text/javascript\">\n",
              "                \n",
              "                    window.PLOTLYENV=window.PLOTLYENV || {};\n",
              "                    \n",
              "                if (document.getElementById(\"1c14f878-1485-4368-b54c-37d9c2acf453\")) {\n",
              "                    Plotly.newPlot(\n",
              "                        '1c14f878-1485-4368-b54c-37d9c2acf453',\n",
              "                        [{\"hoverlabel\": {\"namelength\": 0}, \"hovertemplate\": \"x=%{x}<br>y=%{y}<br>color=%{marker.color}\", \"legendgroup\": \"\", \"marker\": {\"color\": [1, 2, 1, 1, 0, 2, 4, 1, 1, 0, 1, 4, 0, 2, 4, 2, 4, 4, 4, 1, 0, 4, 3, 2, 2, 4, 1, 4, 4, 4, 1, 0, 1, 1, 4, 1, 0, 2, 1, 4, 2, 4, 1, 3, 1, 4, 2, 3, 0, 0, 0, 1, 1, 0, 4, 4, 3, 4, 0, 1, 1, 2, 1, 0, 4, 1, 2, 2, 4, 3, 4, 2, 1, 0, 4, 1, 1, 0, 1, 1, 1, 2, 0, 1, 1, 1, 1, 4, 1, 3, 4, 3, 0, 3, 2, 1, 1, 2, 1, 4, 1, 0, 2, 1, 4, 1, 1, 1, 0, 3, 0, 0, 1, 1, 2, 4, 1, 4, 4, 4], \"coloraxis\": \"coloraxis\", \"symbol\": \"circle\"}, \"mode\": \"markers\", \"name\": \"\", \"showlegend\": false, \"type\": \"scatter\", \"x\": [0.3, 1.7, 0.2, 0.2, 2.4, 1.3, 1.8, 0.2, 0.2, 2.3, 0.2, 1.8, 1.4, 1.2, 1.8, 1.4, 1.9, 1.6, 1.8, 0.5, 2.1, 1.4, 1.6, 1.0, 1.3, 1.5, 0.4, 1.5, 1.4, 1.8, 0.4, 2.4, 0.2, 0.6, 1.3, 0.1, 2.5, 1.1, 0.2, 1.5, 1.3, 1.2, 0.4, 2.2, 0.1, 2.0, 1.2, 2.3, 2.3, 2.3, 1.8, 0.2, 0.3, 1.8, 1.4, 1.4, 2.0, 1.5, 1.8, 0.4, 0.2, 1.3, 0.2, 1.8, 1.4, 0.2, 1.2, 1.0, 1.5, 2.1, 1.5, 1.1, 0.3, 2.2, 1.3, 0.1, 0.2, 2.0, 0.3, 0.2, 0.1, 1.1, 2.3, 0.4, 0.2, 0.4, 0.2, 2.0, 0.2, 1.8, 1.5, 2.5, 2.0, 1.8, 1.0, 0.2, 0.2, 1.0, 0.4, 1.3, 0.3, 2.1, 1.2, 0.2, 1.6, 0.2, 0.2, 0.2, 2.1, 2.1, 1.9, 2.2, 0.3, 0.2, 1.0, 1.5, 0.2, 1.5, 1.9, 1.4], \"xaxis\": \"x\", \"y\": [1.4, 4.5, 1.0, 1.5, 5.6, 4.1, 4.8, 1.9, 1.4, 5.1, 1.4, 4.9, 5.6, 3.9, 5.1, 3.9, 5.1, 4.5, 4.8, 1.7, 5.5, 4.7, 5.8, 4.1, 4.0, 4.5, 1.5, 5.1, 4.6, 4.9, 1.5, 5.1, 1.6, 1.6, 4.3, 1.5, 5.7, 3.0, 1.4, 4.9, 4.0, 4.7, 1.7, 6.7, 1.1, 5.0, 4.0, 6.9, 5.7, 5.4, 5.5, 1.6, 1.7, 5.8, 4.8, 4.4, 6.7, 4.9, 5.6, 1.9, 1.2, 4.0, 1.4, 5.5, 4.4, 1.5, 4.2, 4.0, 4.7, 5.9, 4.5, 3.8, 1.4, 5.6, 4.4, 1.5, 1.4, 5.2, 1.5, 1.2, 1.4, 3.9, 5.2, 1.6, 1.6, 1.3, 1.7, 4.9, 1.3, 6.3, 4.5, 6.1, 5.1, 6.0, 3.7, 1.5, 1.5, 3.5, 1.5, 4.5, 1.3, 5.4, 4.4, 1.5, 4.7, 1.4, 1.6, 1.5, 5.6, 6.6, 5.3, 5.8, 1.4, 1.3, 3.3, 4.5, 1.6, 4.2, 5.1, 4.7], \"yaxis\": \"y\"}],\n",
              "                        {\"coloraxis\": {\"colorbar\": {\"title\": {\"text\": \"color\"}}, \"colorscale\": [[0.0, \"#0d0887\"], [0.1111111111111111, \"#46039f\"], [0.2222222222222222, \"#7201a8\"], [0.3333333333333333, \"#9c179e\"], [0.4444444444444444, \"#bd3786\"], [0.5555555555555556, \"#d8576b\"], [0.6666666666666666, \"#ed7953\"], [0.7777777777777778, \"#fb9f3a\"], [0.8888888888888888, \"#fdca26\"], [1.0, \"#f0f921\"]]}, \"height\": 500, \"legend\": {\"tracegroupgap\": 0}, \"margin\": {\"t\": 60}, \"template\": {\"data\": {\"bar\": [{\"error_x\": {\"color\": \"#2a3f5f\"}, \"error_y\": {\"color\": \"#2a3f5f\"}, \"marker\": {\"line\": {\"color\": \"#E5ECF6\", \"width\": 0.5}}, \"type\": \"bar\"}], \"barpolar\": [{\"marker\": {\"line\": {\"color\": \"#E5ECF6\", \"width\": 0.5}}, \"type\": \"barpolar\"}], \"carpet\": [{\"aaxis\": {\"endlinecolor\": \"#2a3f5f\", \"gridcolor\": \"white\", \"linecolor\": \"white\", \"minorgridcolor\": \"white\", \"startlinecolor\": \"#2a3f5f\"}, \"baxis\": {\"endlinecolor\": \"#2a3f5f\", \"gridcolor\": \"white\", \"linecolor\": \"white\", \"minorgridcolor\": \"white\", \"startlinecolor\": \"#2a3f5f\"}, \"type\": \"carpet\"}], \"choropleth\": [{\"colorbar\": {\"outlinewidth\": 0, \"ticks\": \"\"}, \"type\": \"choropleth\"}], \"contour\": [{\"colorbar\": {\"outlinewidth\": 0, \"ticks\": \"\"}, \"colorscale\": [[0.0, \"#0d0887\"], [0.1111111111111111, \"#46039f\"], [0.2222222222222222, \"#7201a8\"], [0.3333333333333333, \"#9c179e\"], [0.4444444444444444, \"#bd3786\"], [0.5555555555555556, \"#d8576b\"], [0.6666666666666666, \"#ed7953\"], [0.7777777777777778, \"#fb9f3a\"], [0.8888888888888888, \"#fdca26\"], [1.0, \"#f0f921\"]], \"type\": \"contour\"}], \"contourcarpet\": [{\"colorbar\": {\"outlinewidth\": 0, \"ticks\": \"\"}, \"type\": \"contourcarpet\"}], \"heatmap\": [{\"colorbar\": {\"outlinewidth\": 0, \"ticks\": \"\"}, \"colorscale\": [[0.0, \"#0d0887\"], [0.1111111111111111, \"#46039f\"], [0.2222222222222222, \"#7201a8\"], [0.3333333333333333, \"#9c179e\"], [0.4444444444444444, \"#bd3786\"], [0.5555555555555556, \"#d8576b\"], [0.6666666666666666, \"#ed7953\"], [0.7777777777777778, \"#fb9f3a\"], [0.8888888888888888, \"#fdca26\"], [1.0, \"#f0f921\"]], \"type\": \"heatmap\"}], \"heatmapgl\": [{\"colorbar\": {\"outlinewidth\": 0, \"ticks\": \"\"}, \"colorscale\": [[0.0, \"#0d0887\"], [0.1111111111111111, \"#46039f\"], [0.2222222222222222, \"#7201a8\"], [0.3333333333333333, \"#9c179e\"], [0.4444444444444444, \"#bd3786\"], [0.5555555555555556, \"#d8576b\"], [0.6666666666666666, \"#ed7953\"], [0.7777777777777778, \"#fb9f3a\"], [0.8888888888888888, \"#fdca26\"], [1.0, \"#f0f921\"]], \"type\": \"heatmapgl\"}], \"histogram\": [{\"marker\": {\"colorbar\": {\"outlinewidth\": 0, \"ticks\": \"\"}}, \"type\": \"histogram\"}], \"histogram2d\": [{\"colorbar\": {\"outlinewidth\": 0, \"ticks\": \"\"}, \"colorscale\": [[0.0, \"#0d0887\"], [0.1111111111111111, \"#46039f\"], [0.2222222222222222, \"#7201a8\"], [0.3333333333333333, \"#9c179e\"], [0.4444444444444444, \"#bd3786\"], [0.5555555555555556, \"#d8576b\"], [0.6666666666666666, \"#ed7953\"], [0.7777777777777778, \"#fb9f3a\"], [0.8888888888888888, \"#fdca26\"], [1.0, \"#f0f921\"]], \"type\": \"histogram2d\"}], \"histogram2dcontour\": [{\"colorbar\": {\"outlinewidth\": 0, \"ticks\": \"\"}, \"colorscale\": [[0.0, \"#0d0887\"], [0.1111111111111111, \"#46039f\"], [0.2222222222222222, \"#7201a8\"], [0.3333333333333333, \"#9c179e\"], [0.4444444444444444, \"#bd3786\"], [0.5555555555555556, \"#d8576b\"], [0.6666666666666666, \"#ed7953\"], [0.7777777777777778, \"#fb9f3a\"], [0.8888888888888888, \"#fdca26\"], [1.0, \"#f0f921\"]], \"type\": \"histogram2dcontour\"}], \"mesh3d\": [{\"colorbar\": {\"outlinewidth\": 0, \"ticks\": \"\"}, \"type\": \"mesh3d\"}], \"parcoords\": [{\"line\": {\"colorbar\": {\"outlinewidth\": 0, \"ticks\": \"\"}}, \"type\": \"parcoords\"}], \"pie\": [{\"automargin\": true, \"type\": \"pie\"}], \"scatter\": [{\"marker\": {\"colorbar\": {\"outlinewidth\": 0, \"ticks\": \"\"}}, \"type\": \"scatter\"}], \"scatter3d\": [{\"line\": {\"colorbar\": {\"outlinewidth\": 0, \"ticks\": \"\"}}, \"marker\": {\"colorbar\": {\"outlinewidth\": 0, \"ticks\": \"\"}}, \"type\": \"scatter3d\"}], \"scattercarpet\": [{\"marker\": {\"colorbar\": {\"outlinewidth\": 0, \"ticks\": \"\"}}, \"type\": \"scattercarpet\"}], \"scattergeo\": [{\"marker\": {\"colorbar\": {\"outlinewidth\": 0, \"ticks\": \"\"}}, \"type\": \"scattergeo\"}], \"scattergl\": [{\"marker\": {\"colorbar\": {\"outlinewidth\": 0, \"ticks\": \"\"}}, \"type\": \"scattergl\"}], \"scattermapbox\": [{\"marker\": {\"colorbar\": {\"outlinewidth\": 0, \"ticks\": \"\"}}, \"type\": \"scattermapbox\"}], \"scatterpolar\": [{\"marker\": {\"colorbar\": {\"outlinewidth\": 0, \"ticks\": \"\"}}, \"type\": \"scatterpolar\"}], \"scatterpolargl\": [{\"marker\": {\"colorbar\": {\"outlinewidth\": 0, \"ticks\": \"\"}}, \"type\": \"scatterpolargl\"}], \"scatterternary\": [{\"marker\": {\"colorbar\": {\"outlinewidth\": 0, \"ticks\": \"\"}}, \"type\": \"scatterternary\"}], \"surface\": [{\"colorbar\": {\"outlinewidth\": 0, \"ticks\": \"\"}, \"colorscale\": [[0.0, \"#0d0887\"], [0.1111111111111111, \"#46039f\"], [0.2222222222222222, \"#7201a8\"], [0.3333333333333333, \"#9c179e\"], [0.4444444444444444, \"#bd3786\"], [0.5555555555555556, \"#d8576b\"], [0.6666666666666666, \"#ed7953\"], [0.7777777777777778, \"#fb9f3a\"], [0.8888888888888888, \"#fdca26\"], [1.0, \"#f0f921\"]], \"type\": \"surface\"}], \"table\": [{\"cells\": {\"fill\": {\"color\": \"#EBF0F8\"}, \"line\": {\"color\": \"white\"}}, \"header\": {\"fill\": {\"color\": \"#C8D4E3\"}, \"line\": {\"color\": \"white\"}}, \"type\": \"table\"}]}, \"layout\": {\"annotationdefaults\": {\"arrowcolor\": \"#2a3f5f\", \"arrowhead\": 0, \"arrowwidth\": 1}, \"coloraxis\": {\"colorbar\": {\"outlinewidth\": 0, \"ticks\": \"\"}}, \"colorscale\": {\"diverging\": [[0, \"#8e0152\"], [0.1, \"#c51b7d\"], [0.2, \"#de77ae\"], [0.3, \"#f1b6da\"], [0.4, \"#fde0ef\"], [0.5, \"#f7f7f7\"], [0.6, \"#e6f5d0\"], [0.7, \"#b8e186\"], [0.8, \"#7fbc41\"], [0.9, \"#4d9221\"], [1, \"#276419\"]], \"sequential\": [[0.0, \"#0d0887\"], [0.1111111111111111, \"#46039f\"], [0.2222222222222222, \"#7201a8\"], [0.3333333333333333, \"#9c179e\"], [0.4444444444444444, \"#bd3786\"], [0.5555555555555556, \"#d8576b\"], [0.6666666666666666, \"#ed7953\"], [0.7777777777777778, \"#fb9f3a\"], [0.8888888888888888, \"#fdca26\"], [1.0, \"#f0f921\"]], \"sequentialminus\": [[0.0, \"#0d0887\"], [0.1111111111111111, \"#46039f\"], [0.2222222222222222, \"#7201a8\"], [0.3333333333333333, \"#9c179e\"], [0.4444444444444444, \"#bd3786\"], [0.5555555555555556, \"#d8576b\"], [0.6666666666666666, \"#ed7953\"], [0.7777777777777778, \"#fb9f3a\"], [0.8888888888888888, \"#fdca26\"], [1.0, \"#f0f921\"]]}, \"colorway\": [\"#636efa\", \"#EF553B\", \"#00cc96\", \"#ab63fa\", \"#FFA15A\", \"#19d3f3\", \"#FF6692\", \"#B6E880\", \"#FF97FF\", \"#FECB52\"], \"font\": {\"color\": \"#2a3f5f\"}, \"geo\": {\"bgcolor\": \"white\", \"lakecolor\": \"white\", \"landcolor\": \"#E5ECF6\", \"showlakes\": true, \"showland\": true, \"subunitcolor\": \"white\"}, \"hoverlabel\": {\"align\": \"left\"}, \"hovermode\": \"closest\", \"mapbox\": {\"style\": \"light\"}, \"paper_bgcolor\": \"white\", \"plot_bgcolor\": \"#E5ECF6\", \"polar\": {\"angularaxis\": {\"gridcolor\": \"white\", \"linecolor\": \"white\", \"ticks\": \"\"}, \"bgcolor\": \"#E5ECF6\", \"radialaxis\": {\"gridcolor\": \"white\", \"linecolor\": \"white\", \"ticks\": \"\"}}, \"scene\": {\"xaxis\": {\"backgroundcolor\": \"#E5ECF6\", \"gridcolor\": \"white\", \"gridwidth\": 2, \"linecolor\": \"white\", \"showbackground\": true, \"ticks\": \"\", \"zerolinecolor\": \"white\"}, \"yaxis\": {\"backgroundcolor\": \"#E5ECF6\", \"gridcolor\": \"white\", \"gridwidth\": 2, \"linecolor\": \"white\", \"showbackground\": true, \"ticks\": \"\", \"zerolinecolor\": \"white\"}, \"zaxis\": {\"backgroundcolor\": \"#E5ECF6\", \"gridcolor\": \"white\", \"gridwidth\": 2, \"linecolor\": \"white\", \"showbackground\": true, \"ticks\": \"\", \"zerolinecolor\": \"white\"}}, \"shapedefaults\": {\"line\": {\"color\": \"#2a3f5f\"}}, \"ternary\": {\"aaxis\": {\"gridcolor\": \"white\", \"linecolor\": \"white\", \"ticks\": \"\"}, \"baxis\": {\"gridcolor\": \"white\", \"linecolor\": \"white\", \"ticks\": \"\"}, \"bgcolor\": \"#E5ECF6\", \"caxis\": {\"gridcolor\": \"white\", \"linecolor\": \"white\", \"ticks\": \"\"}}, \"title\": {\"x\": 0.05}, \"xaxis\": {\"automargin\": true, \"gridcolor\": \"white\", \"linecolor\": \"white\", \"ticks\": \"\", \"title\": {\"standoff\": 15}, \"zerolinecolor\": \"white\", \"zerolinewidth\": 2}, \"yaxis\": {\"automargin\": true, \"gridcolor\": \"white\", \"linecolor\": \"white\", \"ticks\": \"\", \"title\": {\"standoff\": 15}, \"zerolinecolor\": \"white\", \"zerolinewidth\": 2}}}, \"width\": 600, \"xaxis\": {\"anchor\": \"y\", \"domain\": [0.0, 1.0], \"title\": {\"text\": \"x\"}}, \"yaxis\": {\"anchor\": \"x\", \"domain\": [0.0, 1.0], \"title\": {\"text\": \"y\"}}},\n",
              "                        {\"responsive\": true}\n",
              "                    ).then(function(){\n",
              "                            \n",
              "var gd = document.getElementById('1c14f878-1485-4368-b54c-37d9c2acf453');\n",
              "var x = new MutationObserver(function (mutations, observer) {{\n",
              "        var display = window.getComputedStyle(gd).display;\n",
              "        if (!display || display === 'none') {{\n",
              "            console.log([gd, 'removed!']);\n",
              "            Plotly.purge(gd);\n",
              "            observer.disconnect();\n",
              "        }}\n",
              "}});\n",
              "\n",
              "// Listen for the removal of the full notebook cells\n",
              "var notebookContainer = gd.closest('#notebook-container');\n",
              "if (notebookContainer) {{\n",
              "    x.observe(notebookContainer, {childList: true});\n",
              "}}\n",
              "\n",
              "// Listen for the clearing of the current output cell\n",
              "var outputEl = gd.closest('.output');\n",
              "if (outputEl) {{\n",
              "    x.observe(outputEl, {childList: true});\n",
              "}}\n",
              "\n",
              "                        })\n",
              "                };\n",
              "                \n",
              "            </script>\n",
              "        </div>\n",
              "</body>\n",
              "</html>"
            ]
          },
          "metadata": {
            "tags": []
          }
        }
      ]
    },
    {
      "cell_type": "code",
      "metadata": {
        "colab": {
          "base_uri": "https://localhost:8080/",
          "height": 517
        },
        "id": "MktSZ1AIKQ9-",
        "outputId": "98550f81-6c64-47b0-9714-9edc78cb850d"
      },
      "source": [
        "# 훈련된 label 기준으로 시각화\n",
        "fig = px.scatter(x=train_x['sepal_width'], y=train_x['sepal_length'], color=clusters_array)\n",
        "fig.update_layout(width=600, height=500)\n",
        "fig.show()"
      ],
      "execution_count": 19,
      "outputs": [
        {
          "output_type": "display_data",
          "data": {
            "text/html": [
              "<html>\n",
              "<head><meta charset=\"utf-8\" /></head>\n",
              "<body>\n",
              "    <div>\n",
              "            <script src=\"https://cdnjs.cloudflare.com/ajax/libs/mathjax/2.7.5/MathJax.js?config=TeX-AMS-MML_SVG\"></script><script type=\"text/javascript\">if (window.MathJax) {MathJax.Hub.Config({SVG: {font: \"STIX-Web\"}});}</script>\n",
              "                <script type=\"text/javascript\">window.PlotlyConfig = {MathJaxConfig: 'local'};</script>\n",
              "        <script src=\"https://cdn.plot.ly/plotly-latest.min.js\"></script>    \n",
              "            <div id=\"35620116-0627-4822-9773-d181cc34b7fe\" class=\"plotly-graph-div\" style=\"height:500px; width:600px;\"></div>\n",
              "            <script type=\"text/javascript\">\n",
              "                \n",
              "                    window.PLOTLYENV=window.PLOTLYENV || {};\n",
              "                    \n",
              "                if (document.getElementById(\"35620116-0627-4822-9773-d181cc34b7fe\")) {\n",
              "                    Plotly.newPlot(\n",
              "                        '35620116-0627-4822-9773-d181cc34b7fe',\n",
              "                        [{\"hoverlabel\": {\"namelength\": 0}, \"hovertemplate\": \"x=%{x}<br>y=%{y}<br>color=%{marker.color}\", \"legendgroup\": \"\", \"marker\": {\"color\": [1, 2, 1, 1, 0, 2, 4, 1, 1, 0, 1, 4, 0, 2, 4, 2, 4, 4, 4, 1, 0, 4, 3, 2, 2, 4, 1, 4, 4, 4, 1, 0, 1, 1, 4, 1, 0, 2, 1, 4, 2, 4, 1, 3, 1, 4, 2, 3, 0, 0, 0, 1, 1, 0, 4, 4, 3, 4, 0, 1, 1, 2, 1, 0, 4, 1, 2, 2, 4, 3, 4, 2, 1, 0, 4, 1, 1, 0, 1, 1, 1, 2, 0, 1, 1, 1, 1, 4, 1, 3, 4, 3, 0, 3, 2, 1, 1, 2, 1, 4, 1, 0, 2, 1, 4, 1, 1, 1, 0, 3, 0, 0, 1, 1, 2, 4, 1, 4, 4, 4], \"coloraxis\": \"coloraxis\", \"symbol\": \"circle\"}, \"mode\": \"markers\", \"name\": \"\", \"showlegend\": false, \"type\": \"scatter\", \"x\": [3.4, 2.5, 3.6, 3.1, 3.4, 3.0, 3.2, 3.4, 3.3, 3.1, 3.4, 3.0, 2.6, 2.7, 3.0, 2.7, 2.7, 3.4, 3.0, 3.3, 3.0, 3.2, 3.0, 2.7, 2.5, 3.0, 4.4, 2.8, 3.0, 2.7, 3.4, 2.8, 3.2, 3.5, 2.9, 4.1, 3.3, 2.5, 3.0, 3.1, 2.8, 2.8, 3.9, 3.8, 3.0, 2.5, 2.6, 2.6, 3.2, 3.4, 3.1, 3.1, 3.8, 2.5, 2.8, 3.0, 2.8, 2.5, 2.9, 3.8, 3.2, 2.3, 3.2, 3.0, 3.1, 3.7, 3.0, 2.2, 3.1, 3.0, 3.2, 2.4, 3.0, 2.8, 2.3, 3.1, 4.2, 3.0, 3.8, 4.0, 3.0, 2.5, 3.0, 3.4, 3.0, 3.9, 3.4, 2.8, 3.0, 2.9, 2.2, 3.6, 3.2, 3.2, 2.4, 3.4, 3.4, 2.0, 3.7, 2.8, 3.5, 3.1, 2.6, 3.5, 3.3, 3.5, 3.8, 3.1, 2.8, 3.0, 2.7, 3.0, 3.5, 3.2, 2.3, 2.9, 3.4, 3.0, 2.7, 2.9], \"xaxis\": \"x\", \"y\": [4.6, 4.9, 4.6, 4.9, 6.3, 5.6, 5.9, 4.8, 5.0, 6.9, 5.2, 6.1, 6.1, 5.8, 5.9, 5.2, 5.8, 6.0, 6.0, 5.1, 6.8, 7.0, 7.2, 5.8, 5.5, 5.6, 5.7, 6.3, 6.1, 6.3, 5.4, 5.8, 4.7, 5.0, 6.2, 5.2, 6.7, 5.1, 4.9, 6.9, 6.1, 6.1, 5.4, 7.7, 4.3, 5.7, 5.8, 7.7, 6.9, 6.2, 6.4, 4.8, 5.7, 6.7, 6.8, 6.6, 7.7, 6.3, 6.3, 5.1, 5.0, 5.5, 4.6, 6.5, 6.7, 5.4, 5.7, 6.0, 6.7, 7.1, 6.4, 5.5, 4.8, 6.4, 6.3, 4.9, 5.5, 6.5, 5.1, 5.8, 4.8, 5.6, 6.7, 5.0, 5.0, 5.4, 5.4, 5.6, 4.4, 7.3, 6.2, 7.2, 6.5, 7.2, 5.5, 5.1, 5.0, 5.0, 5.1, 5.7, 5.0, 6.9, 5.5, 5.2, 6.3, 5.1, 5.1, 4.6, 6.4, 7.6, 6.4, 6.5, 5.1, 4.4, 5.0, 6.0, 4.8, 5.9, 5.8, 6.1], \"yaxis\": \"y\"}],\n",
              "                        {\"coloraxis\": {\"colorbar\": {\"title\": {\"text\": \"color\"}}, \"colorscale\": [[0.0, \"#0d0887\"], [0.1111111111111111, \"#46039f\"], [0.2222222222222222, \"#7201a8\"], [0.3333333333333333, \"#9c179e\"], [0.4444444444444444, \"#bd3786\"], [0.5555555555555556, \"#d8576b\"], [0.6666666666666666, \"#ed7953\"], [0.7777777777777778, \"#fb9f3a\"], [0.8888888888888888, \"#fdca26\"], [1.0, \"#f0f921\"]]}, \"height\": 500, \"legend\": {\"tracegroupgap\": 0}, \"margin\": {\"t\": 60}, \"template\": {\"data\": {\"bar\": [{\"error_x\": {\"color\": \"#2a3f5f\"}, \"error_y\": {\"color\": \"#2a3f5f\"}, \"marker\": {\"line\": {\"color\": \"#E5ECF6\", \"width\": 0.5}}, \"type\": \"bar\"}], \"barpolar\": [{\"marker\": {\"line\": {\"color\": \"#E5ECF6\", \"width\": 0.5}}, \"type\": \"barpolar\"}], \"carpet\": [{\"aaxis\": {\"endlinecolor\": \"#2a3f5f\", \"gridcolor\": \"white\", \"linecolor\": \"white\", \"minorgridcolor\": \"white\", \"startlinecolor\": \"#2a3f5f\"}, \"baxis\": {\"endlinecolor\": \"#2a3f5f\", \"gridcolor\": \"white\", \"linecolor\": \"white\", \"minorgridcolor\": \"white\", \"startlinecolor\": \"#2a3f5f\"}, \"type\": \"carpet\"}], \"choropleth\": [{\"colorbar\": {\"outlinewidth\": 0, \"ticks\": \"\"}, \"type\": \"choropleth\"}], \"contour\": [{\"colorbar\": {\"outlinewidth\": 0, \"ticks\": \"\"}, \"colorscale\": [[0.0, \"#0d0887\"], [0.1111111111111111, \"#46039f\"], [0.2222222222222222, \"#7201a8\"], [0.3333333333333333, \"#9c179e\"], [0.4444444444444444, \"#bd3786\"], [0.5555555555555556, \"#d8576b\"], [0.6666666666666666, \"#ed7953\"], [0.7777777777777778, \"#fb9f3a\"], [0.8888888888888888, \"#fdca26\"], [1.0, \"#f0f921\"]], \"type\": \"contour\"}], \"contourcarpet\": [{\"colorbar\": {\"outlinewidth\": 0, \"ticks\": \"\"}, \"type\": \"contourcarpet\"}], \"heatmap\": [{\"colorbar\": {\"outlinewidth\": 0, \"ticks\": \"\"}, \"colorscale\": [[0.0, \"#0d0887\"], [0.1111111111111111, \"#46039f\"], [0.2222222222222222, \"#7201a8\"], [0.3333333333333333, \"#9c179e\"], [0.4444444444444444, \"#bd3786\"], [0.5555555555555556, \"#d8576b\"], [0.6666666666666666, \"#ed7953\"], [0.7777777777777778, \"#fb9f3a\"], [0.8888888888888888, \"#fdca26\"], [1.0, \"#f0f921\"]], \"type\": \"heatmap\"}], \"heatmapgl\": [{\"colorbar\": {\"outlinewidth\": 0, \"ticks\": \"\"}, \"colorscale\": [[0.0, \"#0d0887\"], [0.1111111111111111, \"#46039f\"], [0.2222222222222222, \"#7201a8\"], [0.3333333333333333, \"#9c179e\"], [0.4444444444444444, \"#bd3786\"], [0.5555555555555556, \"#d8576b\"], [0.6666666666666666, \"#ed7953\"], [0.7777777777777778, \"#fb9f3a\"], [0.8888888888888888, \"#fdca26\"], [1.0, \"#f0f921\"]], \"type\": \"heatmapgl\"}], \"histogram\": [{\"marker\": {\"colorbar\": {\"outlinewidth\": 0, \"ticks\": \"\"}}, \"type\": \"histogram\"}], \"histogram2d\": [{\"colorbar\": {\"outlinewidth\": 0, \"ticks\": \"\"}, \"colorscale\": [[0.0, \"#0d0887\"], [0.1111111111111111, \"#46039f\"], [0.2222222222222222, \"#7201a8\"], [0.3333333333333333, \"#9c179e\"], [0.4444444444444444, \"#bd3786\"], [0.5555555555555556, \"#d8576b\"], [0.6666666666666666, \"#ed7953\"], [0.7777777777777778, \"#fb9f3a\"], [0.8888888888888888, \"#fdca26\"], [1.0, \"#f0f921\"]], \"type\": \"histogram2d\"}], \"histogram2dcontour\": [{\"colorbar\": {\"outlinewidth\": 0, \"ticks\": \"\"}, \"colorscale\": [[0.0, \"#0d0887\"], [0.1111111111111111, \"#46039f\"], [0.2222222222222222, \"#7201a8\"], [0.3333333333333333, \"#9c179e\"], [0.4444444444444444, \"#bd3786\"], [0.5555555555555556, \"#d8576b\"], [0.6666666666666666, \"#ed7953\"], [0.7777777777777778, \"#fb9f3a\"], [0.8888888888888888, \"#fdca26\"], [1.0, \"#f0f921\"]], \"type\": \"histogram2dcontour\"}], \"mesh3d\": [{\"colorbar\": {\"outlinewidth\": 0, \"ticks\": \"\"}, \"type\": \"mesh3d\"}], \"parcoords\": [{\"line\": {\"colorbar\": {\"outlinewidth\": 0, \"ticks\": \"\"}}, \"type\": \"parcoords\"}], \"pie\": [{\"automargin\": true, \"type\": \"pie\"}], \"scatter\": [{\"marker\": {\"colorbar\": {\"outlinewidth\": 0, \"ticks\": \"\"}}, \"type\": \"scatter\"}], \"scatter3d\": [{\"line\": {\"colorbar\": {\"outlinewidth\": 0, \"ticks\": \"\"}}, \"marker\": {\"colorbar\": {\"outlinewidth\": 0, \"ticks\": \"\"}}, \"type\": \"scatter3d\"}], \"scattercarpet\": [{\"marker\": {\"colorbar\": {\"outlinewidth\": 0, \"ticks\": \"\"}}, \"type\": \"scattercarpet\"}], \"scattergeo\": [{\"marker\": {\"colorbar\": {\"outlinewidth\": 0, \"ticks\": \"\"}}, \"type\": \"scattergeo\"}], \"scattergl\": [{\"marker\": {\"colorbar\": {\"outlinewidth\": 0, \"ticks\": \"\"}}, \"type\": \"scattergl\"}], \"scattermapbox\": [{\"marker\": {\"colorbar\": {\"outlinewidth\": 0, \"ticks\": \"\"}}, \"type\": \"scattermapbox\"}], \"scatterpolar\": [{\"marker\": {\"colorbar\": {\"outlinewidth\": 0, \"ticks\": \"\"}}, \"type\": \"scatterpolar\"}], \"scatterpolargl\": [{\"marker\": {\"colorbar\": {\"outlinewidth\": 0, \"ticks\": \"\"}}, \"type\": \"scatterpolargl\"}], \"scatterternary\": [{\"marker\": {\"colorbar\": {\"outlinewidth\": 0, \"ticks\": \"\"}}, \"type\": \"scatterternary\"}], \"surface\": [{\"colorbar\": {\"outlinewidth\": 0, \"ticks\": \"\"}, \"colorscale\": [[0.0, \"#0d0887\"], [0.1111111111111111, \"#46039f\"], [0.2222222222222222, \"#7201a8\"], [0.3333333333333333, \"#9c179e\"], [0.4444444444444444, \"#bd3786\"], [0.5555555555555556, \"#d8576b\"], [0.6666666666666666, \"#ed7953\"], [0.7777777777777778, \"#fb9f3a\"], [0.8888888888888888, \"#fdca26\"], [1.0, \"#f0f921\"]], \"type\": \"surface\"}], \"table\": [{\"cells\": {\"fill\": {\"color\": \"#EBF0F8\"}, \"line\": {\"color\": \"white\"}}, \"header\": {\"fill\": {\"color\": \"#C8D4E3\"}, \"line\": {\"color\": \"white\"}}, \"type\": \"table\"}]}, \"layout\": {\"annotationdefaults\": {\"arrowcolor\": \"#2a3f5f\", \"arrowhead\": 0, \"arrowwidth\": 1}, \"coloraxis\": {\"colorbar\": {\"outlinewidth\": 0, \"ticks\": \"\"}}, \"colorscale\": {\"diverging\": [[0, \"#8e0152\"], [0.1, \"#c51b7d\"], [0.2, \"#de77ae\"], [0.3, \"#f1b6da\"], [0.4, \"#fde0ef\"], [0.5, \"#f7f7f7\"], [0.6, \"#e6f5d0\"], [0.7, \"#b8e186\"], [0.8, \"#7fbc41\"], [0.9, \"#4d9221\"], [1, \"#276419\"]], \"sequential\": [[0.0, \"#0d0887\"], [0.1111111111111111, \"#46039f\"], [0.2222222222222222, \"#7201a8\"], [0.3333333333333333, \"#9c179e\"], [0.4444444444444444, \"#bd3786\"], [0.5555555555555556, \"#d8576b\"], [0.6666666666666666, \"#ed7953\"], [0.7777777777777778, \"#fb9f3a\"], [0.8888888888888888, \"#fdca26\"], [1.0, \"#f0f921\"]], \"sequentialminus\": [[0.0, \"#0d0887\"], [0.1111111111111111, \"#46039f\"], [0.2222222222222222, \"#7201a8\"], [0.3333333333333333, \"#9c179e\"], [0.4444444444444444, \"#bd3786\"], [0.5555555555555556, \"#d8576b\"], [0.6666666666666666, \"#ed7953\"], [0.7777777777777778, \"#fb9f3a\"], [0.8888888888888888, \"#fdca26\"], [1.0, \"#f0f921\"]]}, \"colorway\": [\"#636efa\", \"#EF553B\", \"#00cc96\", \"#ab63fa\", \"#FFA15A\", \"#19d3f3\", \"#FF6692\", \"#B6E880\", \"#FF97FF\", \"#FECB52\"], \"font\": {\"color\": \"#2a3f5f\"}, \"geo\": {\"bgcolor\": \"white\", \"lakecolor\": \"white\", \"landcolor\": \"#E5ECF6\", \"showlakes\": true, \"showland\": true, \"subunitcolor\": \"white\"}, \"hoverlabel\": {\"align\": \"left\"}, \"hovermode\": \"closest\", \"mapbox\": {\"style\": \"light\"}, \"paper_bgcolor\": \"white\", \"plot_bgcolor\": \"#E5ECF6\", \"polar\": {\"angularaxis\": {\"gridcolor\": \"white\", \"linecolor\": \"white\", \"ticks\": \"\"}, \"bgcolor\": \"#E5ECF6\", \"radialaxis\": {\"gridcolor\": \"white\", \"linecolor\": \"white\", \"ticks\": \"\"}}, \"scene\": {\"xaxis\": {\"backgroundcolor\": \"#E5ECF6\", \"gridcolor\": \"white\", \"gridwidth\": 2, \"linecolor\": \"white\", \"showbackground\": true, \"ticks\": \"\", \"zerolinecolor\": \"white\"}, \"yaxis\": {\"backgroundcolor\": \"#E5ECF6\", \"gridcolor\": \"white\", \"gridwidth\": 2, \"linecolor\": \"white\", \"showbackground\": true, \"ticks\": \"\", \"zerolinecolor\": \"white\"}, \"zaxis\": {\"backgroundcolor\": \"#E5ECF6\", \"gridcolor\": \"white\", \"gridwidth\": 2, \"linecolor\": \"white\", \"showbackground\": true, \"ticks\": \"\", \"zerolinecolor\": \"white\"}}, \"shapedefaults\": {\"line\": {\"color\": \"#2a3f5f\"}}, \"ternary\": {\"aaxis\": {\"gridcolor\": \"white\", \"linecolor\": \"white\", \"ticks\": \"\"}, \"baxis\": {\"gridcolor\": \"white\", \"linecolor\": \"white\", \"ticks\": \"\"}, \"bgcolor\": \"#E5ECF6\", \"caxis\": {\"gridcolor\": \"white\", \"linecolor\": \"white\", \"ticks\": \"\"}}, \"title\": {\"x\": 0.05}, \"xaxis\": {\"automargin\": true, \"gridcolor\": \"white\", \"linecolor\": \"white\", \"ticks\": \"\", \"title\": {\"standoff\": 15}, \"zerolinecolor\": \"white\", \"zerolinewidth\": 2}, \"yaxis\": {\"automargin\": true, \"gridcolor\": \"white\", \"linecolor\": \"white\", \"ticks\": \"\", \"title\": {\"standoff\": 15}, \"zerolinecolor\": \"white\", \"zerolinewidth\": 2}}}, \"width\": 600, \"xaxis\": {\"anchor\": \"y\", \"domain\": [0.0, 1.0], \"title\": {\"text\": \"x\"}}, \"yaxis\": {\"anchor\": \"x\", \"domain\": [0.0, 1.0], \"title\": {\"text\": \"y\"}}},\n",
              "                        {\"responsive\": true}\n",
              "                    ).then(function(){\n",
              "                            \n",
              "var gd = document.getElementById('35620116-0627-4822-9773-d181cc34b7fe');\n",
              "var x = new MutationObserver(function (mutations, observer) {{\n",
              "        var display = window.getComputedStyle(gd).display;\n",
              "        if (!display || display === 'none') {{\n",
              "            console.log([gd, 'removed!']);\n",
              "            Plotly.purge(gd);\n",
              "            observer.disconnect();\n",
              "        }}\n",
              "}});\n",
              "\n",
              "// Listen for the removal of the full notebook cells\n",
              "var notebookContainer = gd.closest('#notebook-container');\n",
              "if (notebookContainer) {{\n",
              "    x.observe(notebookContainer, {childList: true});\n",
              "}}\n",
              "\n",
              "// Listen for the clearing of the current output cell\n",
              "var outputEl = gd.closest('.output');\n",
              "if (outputEl) {{\n",
              "    x.observe(outputEl, {childList: true});\n",
              "}}\n",
              "\n",
              "                        })\n",
              "                };\n",
              "                \n",
              "            </script>\n",
              "        </div>\n",
              "</body>\n",
              "</html>"
            ]
          },
          "metadata": {
            "tags": []
          }
        }
      ]
    },
    {
      "cell_type": "markdown",
      "metadata": {
        "id": "J3yxXoOsLpFw"
      },
      "source": [
        "- 각\u001d 클러스터의 중심점에서 데이터 간의 거리를 합한 수치"
      ]
    },
    {
      "cell_type": "code",
      "metadata": {
        "colab": {
          "base_uri": "https://localhost:8080/"
        },
        "id": "pbs-GbBoKkuA",
        "outputId": "16e5ed2b-14fc-44be-9fb3-9a96a66e462c"
      },
      "source": [
        "# Sum of squared distances of samples to their closest cluster center. \n",
        "km.inertia_ "
      ],
      "execution_count": 20,
      "outputs": [
        {
          "output_type": "execute_result",
          "data": {
            "text/plain": [
              "36.58673385012921"
            ]
          },
          "metadata": {
            "tags": []
          },
          "execution_count": 20
        }
      ]
    },
    {
      "cell_type": "markdown",
      "metadata": {
        "id": "ZrZ069wWYLjX"
      },
      "source": [
        "### 최적의 k 찾기 (Elbow method)\n",
        "- unsupervised 방법으로 실제 k의 수는 정해져있지 않기에 최적의 k를 찾는 것부터 시작.\n",
        "\n",
        "  > Elbow method란?\n",
        "  \n",
        "  > Total intra-cluster variation(or total within-cluster sum of suqare(=WSS))가 최소가 되는 k를 찾는 방법."
      ]
    },
    {
      "cell_type": "code",
      "metadata": {
        "colab": {
          "base_uri": "https://localhost:8080/"
        },
        "id": "2tEF9NUZLbTq",
        "outputId": "615d7889-de76-40cd-ca7a-593a02c0416b"
      },
      "source": [
        "# k와 sum of squared distsances from each point의 합(distortion)을 비교\n",
        "\n",
        "distortions = []\n",
        "k_range = range(1, 11)\n",
        "for i in k_range:\n",
        "  print(i)\n",
        "  km = KMeans(n_clusters=i)\n",
        "  km.fit(train_x)\n",
        "  distortions.append(km.inertia_)\n",
        "\n",
        "print(distortions)"
      ],
      "execution_count": 21,
      "outputs": [
        {
          "output_type": "stream",
          "text": [
            "1\n",
            "2\n",
            "3\n",
            "4\n",
            "5\n",
            "6\n",
            "7\n",
            "8\n",
            "9\n",
            "10\n",
            "[546.4749999999999, 114.06524444444443, 61.32221375556655, 45.250360834256185, 36.58673385012921, 30.60284126984127, 27.380609040717736, 23.864716492657674, 22.077438532228005, 20.386490954951483]\n"
          ],
          "name": "stdout"
        }
      ]
    },
    {
      "cell_type": "code",
      "metadata": {
        "colab": {
          "base_uri": "https://localhost:8080/",
          "height": 617
        },
        "id": "Mkdz5cPFZhZI",
        "outputId": "357d609b-0fc4-4ab8-a7cd-b915464ebfde"
      },
      "source": [
        "# x축이 k의 수, y축이 distortions인 line plot 그리기\n",
        "fig = px.line(x=k_range, y=distortions, labels={\"x\":\"k\", \"y\":\"distortions\"})\n",
        "fig.update_layout(width=800, height=600)\n",
        "fig.show()"
      ],
      "execution_count": 22,
      "outputs": [
        {
          "output_type": "display_data",
          "data": {
            "text/html": [
              "<html>\n",
              "<head><meta charset=\"utf-8\" /></head>\n",
              "<body>\n",
              "    <div>\n",
              "            <script src=\"https://cdnjs.cloudflare.com/ajax/libs/mathjax/2.7.5/MathJax.js?config=TeX-AMS-MML_SVG\"></script><script type=\"text/javascript\">if (window.MathJax) {MathJax.Hub.Config({SVG: {font: \"STIX-Web\"}});}</script>\n",
              "                <script type=\"text/javascript\">window.PlotlyConfig = {MathJaxConfig: 'local'};</script>\n",
              "        <script src=\"https://cdn.plot.ly/plotly-latest.min.js\"></script>    \n",
              "            <div id=\"9d852a8d-509b-4120-a4b6-e94288de0213\" class=\"plotly-graph-div\" style=\"height:600px; width:800px;\"></div>\n",
              "            <script type=\"text/javascript\">\n",
              "                \n",
              "                    window.PLOTLYENV=window.PLOTLYENV || {};\n",
              "                    \n",
              "                if (document.getElementById(\"9d852a8d-509b-4120-a4b6-e94288de0213\")) {\n",
              "                    Plotly.newPlot(\n",
              "                        '9d852a8d-509b-4120-a4b6-e94288de0213',\n",
              "                        [{\"hoverlabel\": {\"namelength\": 0}, \"hovertemplate\": \"k=%{x}<br>distortions=%{y}\", \"legendgroup\": \"\", \"line\": {\"color\": \"#636efa\", \"dash\": \"solid\"}, \"mode\": \"lines\", \"name\": \"\", \"showlegend\": false, \"type\": \"scatter\", \"x\": [1, 2, 3, 4, 5, 6, 7, 8, 9, 10], \"xaxis\": \"x\", \"y\": [546.4749999999999, 114.06524444444443, 61.32221375556655, 45.250360834256185, 36.58673385012921, 30.60284126984127, 27.380609040717736, 23.864716492657674, 22.077438532228005, 20.386490954951483], \"yaxis\": \"y\"}],\n",
              "                        {\"height\": 600, \"legend\": {\"tracegroupgap\": 0}, \"margin\": {\"t\": 60}, \"template\": {\"data\": {\"bar\": [{\"error_x\": {\"color\": \"#2a3f5f\"}, \"error_y\": {\"color\": \"#2a3f5f\"}, \"marker\": {\"line\": {\"color\": \"#E5ECF6\", \"width\": 0.5}}, \"type\": \"bar\"}], \"barpolar\": [{\"marker\": {\"line\": {\"color\": \"#E5ECF6\", \"width\": 0.5}}, \"type\": \"barpolar\"}], \"carpet\": [{\"aaxis\": {\"endlinecolor\": \"#2a3f5f\", \"gridcolor\": \"white\", \"linecolor\": \"white\", \"minorgridcolor\": \"white\", \"startlinecolor\": \"#2a3f5f\"}, \"baxis\": {\"endlinecolor\": \"#2a3f5f\", \"gridcolor\": \"white\", \"linecolor\": \"white\", \"minorgridcolor\": \"white\", \"startlinecolor\": \"#2a3f5f\"}, \"type\": \"carpet\"}], \"choropleth\": [{\"colorbar\": {\"outlinewidth\": 0, \"ticks\": \"\"}, \"type\": \"choropleth\"}], \"contour\": [{\"colorbar\": {\"outlinewidth\": 0, \"ticks\": \"\"}, \"colorscale\": [[0.0, \"#0d0887\"], [0.1111111111111111, \"#46039f\"], [0.2222222222222222, \"#7201a8\"], [0.3333333333333333, \"#9c179e\"], [0.4444444444444444, \"#bd3786\"], [0.5555555555555556, \"#d8576b\"], [0.6666666666666666, \"#ed7953\"], [0.7777777777777778, \"#fb9f3a\"], [0.8888888888888888, \"#fdca26\"], [1.0, \"#f0f921\"]], \"type\": \"contour\"}], \"contourcarpet\": [{\"colorbar\": {\"outlinewidth\": 0, \"ticks\": \"\"}, \"type\": \"contourcarpet\"}], \"heatmap\": [{\"colorbar\": {\"outlinewidth\": 0, \"ticks\": \"\"}, \"colorscale\": [[0.0, \"#0d0887\"], [0.1111111111111111, \"#46039f\"], [0.2222222222222222, \"#7201a8\"], [0.3333333333333333, \"#9c179e\"], [0.4444444444444444, \"#bd3786\"], [0.5555555555555556, \"#d8576b\"], [0.6666666666666666, \"#ed7953\"], [0.7777777777777778, \"#fb9f3a\"], [0.8888888888888888, \"#fdca26\"], [1.0, \"#f0f921\"]], \"type\": \"heatmap\"}], \"heatmapgl\": [{\"colorbar\": {\"outlinewidth\": 0, \"ticks\": \"\"}, \"colorscale\": [[0.0, \"#0d0887\"], [0.1111111111111111, \"#46039f\"], [0.2222222222222222, \"#7201a8\"], [0.3333333333333333, \"#9c179e\"], [0.4444444444444444, \"#bd3786\"], [0.5555555555555556, \"#d8576b\"], [0.6666666666666666, \"#ed7953\"], [0.7777777777777778, \"#fb9f3a\"], [0.8888888888888888, \"#fdca26\"], [1.0, \"#f0f921\"]], \"type\": \"heatmapgl\"}], \"histogram\": [{\"marker\": {\"colorbar\": {\"outlinewidth\": 0, \"ticks\": \"\"}}, \"type\": \"histogram\"}], \"histogram2d\": [{\"colorbar\": {\"outlinewidth\": 0, \"ticks\": \"\"}, \"colorscale\": [[0.0, \"#0d0887\"], [0.1111111111111111, \"#46039f\"], [0.2222222222222222, \"#7201a8\"], [0.3333333333333333, \"#9c179e\"], [0.4444444444444444, \"#bd3786\"], [0.5555555555555556, \"#d8576b\"], [0.6666666666666666, \"#ed7953\"], [0.7777777777777778, \"#fb9f3a\"], [0.8888888888888888, \"#fdca26\"], [1.0, \"#f0f921\"]], \"type\": \"histogram2d\"}], \"histogram2dcontour\": [{\"colorbar\": {\"outlinewidth\": 0, \"ticks\": \"\"}, \"colorscale\": [[0.0, \"#0d0887\"], [0.1111111111111111, \"#46039f\"], [0.2222222222222222, \"#7201a8\"], [0.3333333333333333, \"#9c179e\"], [0.4444444444444444, \"#bd3786\"], [0.5555555555555556, \"#d8576b\"], [0.6666666666666666, \"#ed7953\"], [0.7777777777777778, \"#fb9f3a\"], [0.8888888888888888, \"#fdca26\"], [1.0, \"#f0f921\"]], \"type\": \"histogram2dcontour\"}], \"mesh3d\": [{\"colorbar\": {\"outlinewidth\": 0, \"ticks\": \"\"}, \"type\": \"mesh3d\"}], \"parcoords\": [{\"line\": {\"colorbar\": {\"outlinewidth\": 0, \"ticks\": \"\"}}, \"type\": \"parcoords\"}], \"pie\": [{\"automargin\": true, \"type\": \"pie\"}], \"scatter\": [{\"marker\": {\"colorbar\": {\"outlinewidth\": 0, \"ticks\": \"\"}}, \"type\": \"scatter\"}], \"scatter3d\": [{\"line\": {\"colorbar\": {\"outlinewidth\": 0, \"ticks\": \"\"}}, \"marker\": {\"colorbar\": {\"outlinewidth\": 0, \"ticks\": \"\"}}, \"type\": \"scatter3d\"}], \"scattercarpet\": [{\"marker\": {\"colorbar\": {\"outlinewidth\": 0, \"ticks\": \"\"}}, \"type\": \"scattercarpet\"}], \"scattergeo\": [{\"marker\": {\"colorbar\": {\"outlinewidth\": 0, \"ticks\": \"\"}}, \"type\": \"scattergeo\"}], \"scattergl\": [{\"marker\": {\"colorbar\": {\"outlinewidth\": 0, \"ticks\": \"\"}}, \"type\": \"scattergl\"}], \"scattermapbox\": [{\"marker\": {\"colorbar\": {\"outlinewidth\": 0, \"ticks\": \"\"}}, \"type\": \"scattermapbox\"}], \"scatterpolar\": [{\"marker\": {\"colorbar\": {\"outlinewidth\": 0, \"ticks\": \"\"}}, \"type\": \"scatterpolar\"}], \"scatterpolargl\": [{\"marker\": {\"colorbar\": {\"outlinewidth\": 0, \"ticks\": \"\"}}, \"type\": \"scatterpolargl\"}], \"scatterternary\": [{\"marker\": {\"colorbar\": {\"outlinewidth\": 0, \"ticks\": \"\"}}, \"type\": \"scatterternary\"}], \"surface\": [{\"colorbar\": {\"outlinewidth\": 0, \"ticks\": \"\"}, \"colorscale\": [[0.0, \"#0d0887\"], [0.1111111111111111, \"#46039f\"], [0.2222222222222222, \"#7201a8\"], [0.3333333333333333, \"#9c179e\"], [0.4444444444444444, \"#bd3786\"], [0.5555555555555556, \"#d8576b\"], [0.6666666666666666, \"#ed7953\"], [0.7777777777777778, \"#fb9f3a\"], [0.8888888888888888, \"#fdca26\"], [1.0, \"#f0f921\"]], \"type\": \"surface\"}], \"table\": [{\"cells\": {\"fill\": {\"color\": \"#EBF0F8\"}, \"line\": {\"color\": \"white\"}}, \"header\": {\"fill\": {\"color\": \"#C8D4E3\"}, \"line\": {\"color\": \"white\"}}, \"type\": \"table\"}]}, \"layout\": {\"annotationdefaults\": {\"arrowcolor\": \"#2a3f5f\", \"arrowhead\": 0, \"arrowwidth\": 1}, \"coloraxis\": {\"colorbar\": {\"outlinewidth\": 0, \"ticks\": \"\"}}, \"colorscale\": {\"diverging\": [[0, \"#8e0152\"], [0.1, \"#c51b7d\"], [0.2, \"#de77ae\"], [0.3, \"#f1b6da\"], [0.4, \"#fde0ef\"], [0.5, \"#f7f7f7\"], [0.6, \"#e6f5d0\"], [0.7, \"#b8e186\"], [0.8, \"#7fbc41\"], [0.9, \"#4d9221\"], [1, \"#276419\"]], \"sequential\": [[0.0, \"#0d0887\"], [0.1111111111111111, \"#46039f\"], [0.2222222222222222, \"#7201a8\"], [0.3333333333333333, \"#9c179e\"], [0.4444444444444444, \"#bd3786\"], [0.5555555555555556, \"#d8576b\"], [0.6666666666666666, \"#ed7953\"], [0.7777777777777778, \"#fb9f3a\"], [0.8888888888888888, \"#fdca26\"], [1.0, \"#f0f921\"]], \"sequentialminus\": [[0.0, \"#0d0887\"], [0.1111111111111111, \"#46039f\"], [0.2222222222222222, \"#7201a8\"], [0.3333333333333333, \"#9c179e\"], [0.4444444444444444, \"#bd3786\"], [0.5555555555555556, \"#d8576b\"], [0.6666666666666666, \"#ed7953\"], [0.7777777777777778, \"#fb9f3a\"], [0.8888888888888888, \"#fdca26\"], [1.0, \"#f0f921\"]]}, \"colorway\": [\"#636efa\", \"#EF553B\", \"#00cc96\", \"#ab63fa\", \"#FFA15A\", \"#19d3f3\", \"#FF6692\", \"#B6E880\", \"#FF97FF\", \"#FECB52\"], \"font\": {\"color\": \"#2a3f5f\"}, \"geo\": {\"bgcolor\": \"white\", \"lakecolor\": \"white\", \"landcolor\": \"#E5ECF6\", \"showlakes\": true, \"showland\": true, \"subunitcolor\": \"white\"}, \"hoverlabel\": {\"align\": \"left\"}, \"hovermode\": \"closest\", \"mapbox\": {\"style\": \"light\"}, \"paper_bgcolor\": \"white\", \"plot_bgcolor\": \"#E5ECF6\", \"polar\": {\"angularaxis\": {\"gridcolor\": \"white\", \"linecolor\": \"white\", \"ticks\": \"\"}, \"bgcolor\": \"#E5ECF6\", \"radialaxis\": {\"gridcolor\": \"white\", \"linecolor\": \"white\", \"ticks\": \"\"}}, \"scene\": {\"xaxis\": {\"backgroundcolor\": \"#E5ECF6\", \"gridcolor\": \"white\", \"gridwidth\": 2, \"linecolor\": \"white\", \"showbackground\": true, \"ticks\": \"\", \"zerolinecolor\": \"white\"}, \"yaxis\": {\"backgroundcolor\": \"#E5ECF6\", \"gridcolor\": \"white\", \"gridwidth\": 2, \"linecolor\": \"white\", \"showbackground\": true, \"ticks\": \"\", \"zerolinecolor\": \"white\"}, \"zaxis\": {\"backgroundcolor\": \"#E5ECF6\", \"gridcolor\": \"white\", \"gridwidth\": 2, \"linecolor\": \"white\", \"showbackground\": true, \"ticks\": \"\", \"zerolinecolor\": \"white\"}}, \"shapedefaults\": {\"line\": {\"color\": \"#2a3f5f\"}}, \"ternary\": {\"aaxis\": {\"gridcolor\": \"white\", \"linecolor\": \"white\", \"ticks\": \"\"}, \"baxis\": {\"gridcolor\": \"white\", \"linecolor\": \"white\", \"ticks\": \"\"}, \"bgcolor\": \"#E5ECF6\", \"caxis\": {\"gridcolor\": \"white\", \"linecolor\": \"white\", \"ticks\": \"\"}}, \"title\": {\"x\": 0.05}, \"xaxis\": {\"automargin\": true, \"gridcolor\": \"white\", \"linecolor\": \"white\", \"ticks\": \"\", \"title\": {\"standoff\": 15}, \"zerolinecolor\": \"white\", \"zerolinewidth\": 2}, \"yaxis\": {\"automargin\": true, \"gridcolor\": \"white\", \"linecolor\": \"white\", \"ticks\": \"\", \"title\": {\"standoff\": 15}, \"zerolinecolor\": \"white\", \"zerolinewidth\": 2}}}, \"width\": 800, \"xaxis\": {\"anchor\": \"y\", \"domain\": [0.0, 1.0], \"title\": {\"text\": \"k\"}}, \"yaxis\": {\"anchor\": \"x\", \"domain\": [0.0, 1.0], \"title\": {\"text\": \"distortions\"}}},\n",
              "                        {\"responsive\": true}\n",
              "                    ).then(function(){\n",
              "                            \n",
              "var gd = document.getElementById('9d852a8d-509b-4120-a4b6-e94288de0213');\n",
              "var x = new MutationObserver(function (mutations, observer) {{\n",
              "        var display = window.getComputedStyle(gd).display;\n",
              "        if (!display || display === 'none') {{\n",
              "            console.log([gd, 'removed!']);\n",
              "            Plotly.purge(gd);\n",
              "            observer.disconnect();\n",
              "        }}\n",
              "}});\n",
              "\n",
              "// Listen for the removal of the full notebook cells\n",
              "var notebookContainer = gd.closest('#notebook-container');\n",
              "if (notebookContainer) {{\n",
              "    x.observe(notebookContainer, {childList: true});\n",
              "}}\n",
              "\n",
              "// Listen for the clearing of the current output cell\n",
              "var outputEl = gd.closest('.output');\n",
              "if (outputEl) {{\n",
              "    x.observe(outputEl, {childList: true});\n",
              "}}\n",
              "\n",
              "                        })\n",
              "                };\n",
              "                \n",
              "            </script>\n",
              "        </div>\n",
              "</body>\n",
              "</html>"
            ]
          },
          "metadata": {
            "tags": []
          }
        }
      ]
    },
    {
      "cell_type": "markdown",
      "metadata": {
        "id": "AVgsVg-Ga2Ng"
      },
      "source": [
        "- model 훈련과 함께 그래프를 그려주고 훈련 시간까지 확인해주는 모듈인 KElbowVisualizer 사용"
      ]
    },
    {
      "cell_type": "code",
      "metadata": {
        "colab": {
          "base_uri": "https://localhost:8080/",
          "height": 464
        },
        "id": "HmsVJ296ag-W",
        "outputId": "58537eda-079f-4c2d-c4ee-230703f03f81"
      },
      "source": [
        "from yellowbrick.cluster import KElbowVisualizer\n",
        "\n",
        "km = KMeans()\n",
        "visualizer = KElbowVisualizer(km, k=(1, 11))\n",
        "visualizer.fit(train_x)\n",
        "visualizer.poof()"
      ],
      "execution_count": 23,
      "outputs": [
        {
          "output_type": "stream",
          "text": [
            "/usr/local/lib/python3.7/dist-packages/sklearn/utils/deprecation.py:144: FutureWarning:\n",
            "\n",
            "The sklearn.metrics.classification module is  deprecated in version 0.22 and will be removed in version 0.24. The corresponding classes / functions should instead be imported from sklearn.metrics. Anything that cannot be imported from sklearn.metrics is now part of the private API.\n",
            "\n"
          ],
          "name": "stderr"
        },
        {
          "output_type": "display_data",
          "data": {
            "image/png": "[encoded data removed]",
            "text/plain": [
              "<Figure size 576x396 with 2 Axes>"
            ]
          },
          "metadata": {
            "tags": []
          }
        }
      ]
    },
    {
      "cell_type": "code",
      "metadata": {
        "colab": {
          "base_uri": "https://localhost:8080/"
        },
        "id": "FnCB6ONqbLvy",
        "outputId": "f46ae4aa-9237-405d-c6b9-579394deb3bb"
      },
      "source": [
        "!pip install kneed"
      ],
      "execution_count": 24,
      "outputs": [
        {
          "output_type": "stream",
          "text": [
            "Collecting kneed\n",
            "  Downloading https://files.pythonhosted.org/packages/c3/6b/e130913aaaad1373060e259ab222ca2330672db696b297b082c3f3089fcc/kneed-0.7.0-py2.py3-none-any.whl\n",
            "Requirement already satisfied: matplotlib in /usr/local/lib/python3.7/dist-packages (from kneed) (3.2.2)\n",
            "Requirement already satisfied: scipy in /usr/local/lib/python3.7/dist-packages (from kneed) (1.4.1)\n",
            "Requirement already satisfied: numpy>=1.14.2 in /usr/local/lib/python3.7/dist-packages (from kneed) (1.19.5)\n",
            "Requirement already satisfied: cycler>=0.10 in /usr/local/lib/python3.7/dist-packages (from matplotlib->kneed) (0.10.0)\n",
            "Requirement already satisfied: pyparsing!=2.0.4,!=2.1.2,!=2.1.6,>=2.0.1 in /usr/local/lib/python3.7/dist-packages (from matplotlib->kneed) (2.4.7)\n",
            "Requirement already satisfied: python-dateutil>=2.1 in /usr/local/lib/python3.7/dist-packages (from matplotlib->kneed) (2.8.1)\n",
            "Requirement already satisfied: kiwisolver>=1.0.1 in /usr/local/lib/python3.7/dist-packages (from matplotlib->kneed) (1.3.1)\n",
            "Requirement already satisfied: six in /usr/local/lib/python3.7/dist-packages (from cycler>=0.10->matplotlib->kneed) (1.15.0)\n",
            "Installing collected packages: kneed\n",
            "Successfully installed kneed-0.7.0\n"
          ],
          "name": "stdout"
        }
      ]
    },
    {
      "cell_type": "code",
      "metadata": {
        "colab": {
          "base_uri": "https://localhost:8080/"
        },
        "id": "p37qrknibw6E",
        "outputId": "e1475b0f-d6ef-41e2-b9ef-073dc82c3f27"
      },
      "source": [
        "# 그래프 확인 없이 최적 k값을 자동으로 찾아줌\n",
        "from kneed import KneeLocator\n",
        "\n",
        "kneedle = KneeLocator(x=k_range, y=distortions, curve='convex', direction='decreasing')\n",
        "kneedle.elbow"
      ],
      "execution_count": 25,
      "outputs": [
        {
          "output_type": "execute_result",
          "data": {
            "text/plain": [
              "2"
            ]
          },
          "metadata": {
            "tags": []
          },
          "execution_count": 25
        }
      ]
    },
    {
      "cell_type": "code",
      "metadata": {
        "colab": {
          "base_uri": "https://localhost:8080/"
        },
        "id": "XybHDnj5cTNW",
        "outputId": "54459ba5-7bc2-49a8-d46c-94cb66430ec0"
      },
      "source": [
        "kneedle = KneeLocator(x=k_range, y=distortions, curve='convex', direction='decreasing')\n",
        "kneedle.elbow_y"
      ],
      "execution_count": 26,
      "outputs": [
        {
          "output_type": "execute_result",
          "data": {
            "text/plain": [
              "114.06524444444443"
            ]
          },
          "metadata": {
            "tags": []
          },
          "execution_count": 26
        }
      ]
    },
    {
      "cell_type": "markdown",
      "metadata": {
        "id": "-vLQ89HecZ3D"
      },
      "source": [
        "- k가 3일 때, y가 59.499인 것을 확인할 수 있음."
      ]
    },
    {
      "cell_type": "code",
      "metadata": {
        "colab": {
          "base_uri": "https://localhost:8080/",
          "height": 389
        },
        "id": "OUQEguDXcY-k",
        "outputId": "151ea3f5-ebdb-4fe3-e442-a7de97325531"
      },
      "source": [
        "kneedle.plot_knee()"
      ],
      "execution_count": 27,
      "outputs": [
        {
          "output_type": "display_data",
          "data": {
            "image/png": "[encoded data removed]",
            "text/plain": [
              "<Figure size 432x432 with 1 Axes>"
            ]
          },
          "metadata": {
            "tags": []
          }
        }
      ]
    },
    {
      "cell_type": "markdown",
      "metadata": {
        "id": "sktpdwfOd3JU"
      },
      "source": [
        "### Silhouette method\n",
        "> Cluster 내의 거리와 clusterrksdml 거리를 사용한 계수로 Silhouette coefficient(SC)값이 최대가 되는 k를 찾는 방법.\n",
        "\n",
        "> SC해석이란?\n",
        "\n",
        "> 각 cluster 사이의 거리가 멀고 cluster 내 데이터의 거리가 작을 수록 군집 분석의 성능이 좋음. \n",
        "\n",
        ">Silhouette 값은 -1에서 1까지 가능하며, 0일 경우에는 cluster간의 변별력이 없다는 의미. -1에 가까울 수록 clustering의 결과가 좋지 않음을 의미."
      ]
    },
    {
      "cell_type": "code",
      "metadata": {
        "colab": {
          "base_uri": "https://localhost:8080/"
        },
        "id": "6OOoH93IcjpK",
        "outputId": "e854e4ff-3822-4125-fd90-6e9dc5a47468"
      },
      "source": [
        "# silhouette_score는 array 형태를 읽을 수 있으며, 군집 간의 거리 계산을 필요로 하기에 최소 2개 이상의 label/cluster가 있어야 함.\n",
        "from sklearn.metrics import silhouette_score\n",
        "\n",
        "silhouette_scores = []\n",
        "k_range = range(2, 11)\n",
        "for i in k_range:\n",
        "  print(i)\n",
        "  km = KMeans(n_clusters=i)\n",
        "  km.fit(train_x)\n",
        "  label=km.predict(train_x)\n",
        "  sc_value=silhouette_score(np.array(train_x), label, metric='euclidean', sample_size=None, random_state=None)\n",
        "  silhouette_scores.append(sc_value)\n",
        "\n",
        "print(silhouette_scores)"
      ],
      "execution_count": 28,
      "outputs": [
        {
          "output_type": "stream",
          "text": [
            "2\n",
            "3\n",
            "4\n",
            "5\n",
            "6\n",
            "7\n",
            "8\n",
            "9\n",
            "10\n",
            "[0.6928117840669529, 0.5522200191540723, 0.498367478936075, 0.4906903638314477, 0.3563243775143662, 0.34227291880473926, 0.3439832879698576, 0.3150575733767734, 0.3159477202819493]\n"
          ],
          "name": "stdout"
        }
      ]
    },
    {
      "cell_type": "code",
      "metadata": {
        "colab": {
          "base_uri": "https://localhost:8080/",
          "height": 517
        },
        "id": "K_gU7Ld4ibnW",
        "outputId": "e1a613ce-e4ba-4cb6-9a8d-04b04f3684ff"
      },
      "source": [
        "fig = px.line(x=k_range, y=silhouette_scores, labels={\"x\":\"k\",\"y\":\"silhouette scores\"})\n",
        "fig.update_layout(width=800, height=500)\n",
        "fig.show()"
      ],
      "execution_count": 29,
      "outputs": [
        {
          "output_type": "display_data",
          "data": {
            "text/html": [
              "<html>\n",
              "<head><meta charset=\"utf-8\" /></head>\n",
              "<body>\n",
              "    <div>\n",
              "            <script src=\"https://cdnjs.cloudflare.com/ajax/libs/mathjax/2.7.5/MathJax.js?config=TeX-AMS-MML_SVG\"></script><script type=\"text/javascript\">if (window.MathJax) {MathJax.Hub.Config({SVG: {font: \"STIX-Web\"}});}</script>\n",
              "                <script type=\"text/javascript\">window.PlotlyConfig = {MathJaxConfig: 'local'};</script>\n",
              "        <script src=\"https://cdn.plot.ly/plotly-latest.min.js\"></script>    \n",
              "            <div id=\"ddb0d4bd-53d8-4609-bc70-c05fb1548b77\" class=\"plotly-graph-div\" style=\"height:500px; width:800px;\"></div>\n",
              "            <script type=\"text/javascript\">\n",
              "                \n",
              "                    window.PLOTLYENV=window.PLOTLYENV || {};\n",
              "                    \n",
              "                if (document.getElementById(\"ddb0d4bd-53d8-4609-bc70-c05fb1548b77\")) {\n",
              "                    Plotly.newPlot(\n",
              "                        'ddb0d4bd-53d8-4609-bc70-c05fb1548b77',\n",
              "                        [{\"hoverlabel\": {\"namelength\": 0}, \"hovertemplate\": \"k=%{x}<br>silhouette scores=%{y}\", \"legendgroup\": \"\", \"line\": {\"color\": \"#636efa\", \"dash\": \"solid\"}, \"mode\": \"lines\", \"name\": \"\", \"showlegend\": false, \"type\": \"scatter\", \"x\": [2, 3, 4, 5, 6, 7, 8, 9, 10], \"xaxis\": \"x\", \"y\": [0.6928117840669529, 0.5522200191540723, 0.498367478936075, 0.4906903638314477, 0.3563243775143662, 0.34227291880473926, 0.3439832879698576, 0.3150575733767734, 0.3159477202819493], \"yaxis\": \"y\"}],\n",
              "                        {\"height\": 500, \"legend\": {\"tracegroupgap\": 0}, \"margin\": {\"t\": 60}, \"template\": {\"data\": {\"bar\": [{\"error_x\": {\"color\": \"#2a3f5f\"}, \"error_y\": {\"color\": \"#2a3f5f\"}, \"marker\": {\"line\": {\"color\": \"#E5ECF6\", \"width\": 0.5}}, \"type\": \"bar\"}], \"barpolar\": [{\"marker\": {\"line\": {\"color\": \"#E5ECF6\", \"width\": 0.5}}, \"type\": \"barpolar\"}], \"carpet\": [{\"aaxis\": {\"endlinecolor\": \"#2a3f5f\", \"gridcolor\": \"white\", \"linecolor\": \"white\", \"minorgridcolor\": \"white\", \"startlinecolor\": \"#2a3f5f\"}, \"baxis\": {\"endlinecolor\": \"#2a3f5f\", \"gridcolor\": \"white\", \"linecolor\": \"white\", \"minorgridcolor\": \"white\", \"startlinecolor\": \"#2a3f5f\"}, \"type\": \"carpet\"}], \"choropleth\": [{\"colorbar\": {\"outlinewidth\": 0, \"ticks\": \"\"}, \"type\": \"choropleth\"}], \"contour\": [{\"colorbar\": {\"outlinewidth\": 0, \"ticks\": \"\"}, \"colorscale\": [[0.0, \"#0d0887\"], [0.1111111111111111, \"#46039f\"], [0.2222222222222222, \"#7201a8\"], [0.3333333333333333, \"#9c179e\"], [0.4444444444444444, \"#bd3786\"], [0.5555555555555556, \"#d8576b\"], [0.6666666666666666, \"#ed7953\"], [0.7777777777777778, \"#fb9f3a\"], [0.8888888888888888, \"#fdca26\"], [1.0, \"#f0f921\"]], \"type\": \"contour\"}], \"contourcarpet\": [{\"colorbar\": {\"outlinewidth\": 0, \"ticks\": \"\"}, \"type\": \"contourcarpet\"}], \"heatmap\": [{\"colorbar\": {\"outlinewidth\": 0, \"ticks\": \"\"}, \"colorscale\": [[0.0, \"#0d0887\"], [0.1111111111111111, \"#46039f\"], [0.2222222222222222, \"#7201a8\"], [0.3333333333333333, \"#9c179e\"], [0.4444444444444444, \"#bd3786\"], [0.5555555555555556, \"#d8576b\"], [0.6666666666666666, \"#ed7953\"], [0.7777777777777778, \"#fb9f3a\"], [0.8888888888888888, \"#fdca26\"], [1.0, \"#f0f921\"]], \"type\": \"heatmap\"}], \"heatmapgl\": [{\"colorbar\": {\"outlinewidth\": 0, \"ticks\": \"\"}, \"colorscale\": [[0.0, \"#0d0887\"], [0.1111111111111111, \"#46039f\"], [0.2222222222222222, \"#7201a8\"], [0.3333333333333333, \"#9c179e\"], [0.4444444444444444, \"#bd3786\"], [0.5555555555555556, \"#d8576b\"], [0.6666666666666666, \"#ed7953\"], [0.7777777777777778, \"#fb9f3a\"], [0.8888888888888888, \"#fdca26\"], [1.0, \"#f0f921\"]], \"type\": \"heatmapgl\"}], \"histogram\": [{\"marker\": {\"colorbar\": {\"outlinewidth\": 0, \"ticks\": \"\"}}, \"type\": \"histogram\"}], \"histogram2d\": [{\"colorbar\": {\"outlinewidth\": 0, \"ticks\": \"\"}, \"colorscale\": [[0.0, \"#0d0887\"], [0.1111111111111111, \"#46039f\"], [0.2222222222222222, \"#7201a8\"], [0.3333333333333333, \"#9c179e\"], [0.4444444444444444, \"#bd3786\"], [0.5555555555555556, \"#d8576b\"], [0.6666666666666666, \"#ed7953\"], [0.7777777777777778, \"#fb9f3a\"], [0.8888888888888888, \"#fdca26\"], [1.0, \"#f0f921\"]], \"type\": \"histogram2d\"}], \"histogram2dcontour\": [{\"colorbar\": {\"outlinewidth\": 0, \"ticks\": \"\"}, \"colorscale\": [[0.0, \"#0d0887\"], [0.1111111111111111, \"#46039f\"], [0.2222222222222222, \"#7201a8\"], [0.3333333333333333, \"#9c179e\"], [0.4444444444444444, \"#bd3786\"], [0.5555555555555556, \"#d8576b\"], [0.6666666666666666, \"#ed7953\"], [0.7777777777777778, \"#fb9f3a\"], [0.8888888888888888, \"#fdca26\"], [1.0, \"#f0f921\"]], \"type\": \"histogram2dcontour\"}], \"mesh3d\": [{\"colorbar\": {\"outlinewidth\": 0, \"ticks\": \"\"}, \"type\": \"mesh3d\"}], \"parcoords\": [{\"line\": {\"colorbar\": {\"outlinewidth\": 0, \"ticks\": \"\"}}, \"type\": \"parcoords\"}], \"pie\": [{\"automargin\": true, \"type\": \"pie\"}], \"scatter\": [{\"marker\": {\"colorbar\": {\"outlinewidth\": 0, \"ticks\": \"\"}}, \"type\": \"scatter\"}], \"scatter3d\": [{\"line\": {\"colorbar\": {\"outlinewidth\": 0, \"ticks\": \"\"}}, \"marker\": {\"colorbar\": {\"outlinewidth\": 0, \"ticks\": \"\"}}, \"type\": \"scatter3d\"}], \"scattercarpet\": [{\"marker\": {\"colorbar\": {\"outlinewidth\": 0, \"ticks\": \"\"}}, \"type\": \"scattercarpet\"}], \"scattergeo\": [{\"marker\": {\"colorbar\": {\"outlinewidth\": 0, \"ticks\": \"\"}}, \"type\": \"scattergeo\"}], \"scattergl\": [{\"marker\": {\"colorbar\": {\"outlinewidth\": 0, \"ticks\": \"\"}}, \"type\": \"scattergl\"}], \"scattermapbox\": [{\"marker\": {\"colorbar\": {\"outlinewidth\": 0, \"ticks\": \"\"}}, \"type\": \"scattermapbox\"}], \"scatterpolar\": [{\"marker\": {\"colorbar\": {\"outlinewidth\": 0, \"ticks\": \"\"}}, \"type\": \"scatterpolar\"}], \"scatterpolargl\": [{\"marker\": {\"colorbar\": {\"outlinewidth\": 0, \"ticks\": \"\"}}, \"type\": \"scatterpolargl\"}], \"scatterternary\": [{\"marker\": {\"colorbar\": {\"outlinewidth\": 0, \"ticks\": \"\"}}, \"type\": \"scatterternary\"}], \"surface\": [{\"colorbar\": {\"outlinewidth\": 0, \"ticks\": \"\"}, \"colorscale\": [[0.0, \"#0d0887\"], [0.1111111111111111, \"#46039f\"], [0.2222222222222222, \"#7201a8\"], [0.3333333333333333, \"#9c179e\"], [0.4444444444444444, \"#bd3786\"], [0.5555555555555556, \"#d8576b\"], [0.6666666666666666, \"#ed7953\"], [0.7777777777777778, \"#fb9f3a\"], [0.8888888888888888, \"#fdca26\"], [1.0, \"#f0f921\"]], \"type\": \"surface\"}], \"table\": [{\"cells\": {\"fill\": {\"color\": \"#EBF0F8\"}, \"line\": {\"color\": \"white\"}}, \"header\": {\"fill\": {\"color\": \"#C8D4E3\"}, \"line\": {\"color\": \"white\"}}, \"type\": \"table\"}]}, \"layout\": {\"annotationdefaults\": {\"arrowcolor\": \"#2a3f5f\", \"arrowhead\": 0, \"arrowwidth\": 1}, \"coloraxis\": {\"colorbar\": {\"outlinewidth\": 0, \"ticks\": \"\"}}, \"colorscale\": {\"diverging\": [[0, \"#8e0152\"], [0.1, \"#c51b7d\"], [0.2, \"#de77ae\"], [0.3, \"#f1b6da\"], [0.4, \"#fde0ef\"], [0.5, \"#f7f7f7\"], [0.6, \"#e6f5d0\"], [0.7, \"#b8e186\"], [0.8, \"#7fbc41\"], [0.9, \"#4d9221\"], [1, \"#276419\"]], \"sequential\": [[0.0, \"#0d0887\"], [0.1111111111111111, \"#46039f\"], [0.2222222222222222, \"#7201a8\"], [0.3333333333333333, \"#9c179e\"], [0.4444444444444444, \"#bd3786\"], [0.5555555555555556, \"#d8576b\"], [0.6666666666666666, \"#ed7953\"], [0.7777777777777778, \"#fb9f3a\"], [0.8888888888888888, \"#fdca26\"], [1.0, \"#f0f921\"]], \"sequentialminus\": [[0.0, \"#0d0887\"], [0.1111111111111111, \"#46039f\"], [0.2222222222222222, \"#7201a8\"], [0.3333333333333333, \"#9c179e\"], [0.4444444444444444, \"#bd3786\"], [0.5555555555555556, \"#d8576b\"], [0.6666666666666666, \"#ed7953\"], [0.7777777777777778, \"#fb9f3a\"], [0.8888888888888888, \"#fdca26\"], [1.0, \"#f0f921\"]]}, \"colorway\": [\"#636efa\", \"#EF553B\", \"#00cc96\", \"#ab63fa\", \"#FFA15A\", \"#19d3f3\", \"#FF6692\", \"#B6E880\", \"#FF97FF\", \"#FECB52\"], \"font\": {\"color\": \"#2a3f5f\"}, \"geo\": {\"bgcolor\": \"white\", \"lakecolor\": \"white\", \"landcolor\": \"#E5ECF6\", \"showlakes\": true, \"showland\": true, \"subunitcolor\": \"white\"}, \"hoverlabel\": {\"align\": \"left\"}, \"hovermode\": \"closest\", \"mapbox\": {\"style\": \"light\"}, \"paper_bgcolor\": \"white\", \"plot_bgcolor\": \"#E5ECF6\", \"polar\": {\"angularaxis\": {\"gridcolor\": \"white\", \"linecolor\": \"white\", \"ticks\": \"\"}, \"bgcolor\": \"#E5ECF6\", \"radialaxis\": {\"gridcolor\": \"white\", \"linecolor\": \"white\", \"ticks\": \"\"}}, \"scene\": {\"xaxis\": {\"backgroundcolor\": \"#E5ECF6\", \"gridcolor\": \"white\", \"gridwidth\": 2, \"linecolor\": \"white\", \"showbackground\": true, \"ticks\": \"\", \"zerolinecolor\": \"white\"}, \"yaxis\": {\"backgroundcolor\": \"#E5ECF6\", \"gridcolor\": \"white\", \"gridwidth\": 2, \"linecolor\": \"white\", \"showbackground\": true, \"ticks\": \"\", \"zerolinecolor\": \"white\"}, \"zaxis\": {\"backgroundcolor\": \"#E5ECF6\", \"gridcolor\": \"white\", \"gridwidth\": 2, \"linecolor\": \"white\", \"showbackground\": true, \"ticks\": \"\", \"zerolinecolor\": \"white\"}}, \"shapedefaults\": {\"line\": {\"color\": \"#2a3f5f\"}}, \"ternary\": {\"aaxis\": {\"gridcolor\": \"white\", \"linecolor\": \"white\", \"ticks\": \"\"}, \"baxis\": {\"gridcolor\": \"white\", \"linecolor\": \"white\", \"ticks\": \"\"}, \"bgcolor\": \"#E5ECF6\", \"caxis\": {\"gridcolor\": \"white\", \"linecolor\": \"white\", \"ticks\": \"\"}}, \"title\": {\"x\": 0.05}, \"xaxis\": {\"automargin\": true, \"gridcolor\": \"white\", \"linecolor\": \"white\", \"ticks\": \"\", \"title\": {\"standoff\": 15}, \"zerolinecolor\": \"white\", \"zerolinewidth\": 2}, \"yaxis\": {\"automargin\": true, \"gridcolor\": \"white\", \"linecolor\": \"white\", \"ticks\": \"\", \"title\": {\"standoff\": 15}, \"zerolinecolor\": \"white\", \"zerolinewidth\": 2}}}, \"width\": 800, \"xaxis\": {\"anchor\": \"y\", \"domain\": [0.0, 1.0], \"title\": {\"text\": \"k\"}}, \"yaxis\": {\"anchor\": \"x\", \"domain\": [0.0, 1.0], \"title\": {\"text\": \"silhouette scores\"}}},\n",
              "                        {\"responsive\": true}\n",
              "                    ).then(function(){\n",
              "                            \n",
              "var gd = document.getElementById('ddb0d4bd-53d8-4609-bc70-c05fb1548b77');\n",
              "var x = new MutationObserver(function (mutations, observer) {{\n",
              "        var display = window.getComputedStyle(gd).display;\n",
              "        if (!display || display === 'none') {{\n",
              "            console.log([gd, 'removed!']);\n",
              "            Plotly.purge(gd);\n",
              "            observer.disconnect();\n",
              "        }}\n",
              "}});\n",
              "\n",
              "// Listen for the removal of the full notebook cells\n",
              "var notebookContainer = gd.closest('#notebook-container');\n",
              "if (notebookContainer) {{\n",
              "    x.observe(notebookContainer, {childList: true});\n",
              "}}\n",
              "\n",
              "// Listen for the clearing of the current output cell\n",
              "var outputEl = gd.closest('.output');\n",
              "if (outputEl) {{\n",
              "    x.observe(outputEl, {childList: true});\n",
              "}}\n",
              "\n",
              "                        })\n",
              "                };\n",
              "                \n",
              "            </script>\n",
              "        </div>\n",
              "</body>\n",
              "</html>"
            ]
          },
          "metadata": {
            "tags": []
          }
        }
      ]
    },
    {
      "cell_type": "code",
      "metadata": {
        "colab": {
          "base_uri": "https://localhost:8080/",
          "height": 1000
        },
        "id": "-8ou884_ipZ_",
        "outputId": "e505c213-fd49-4025-f74a-c9fe5fa5607f"
      },
      "source": [
        "from yellowbrick.cluster import SilhouetteVisualizer\n",
        "k_range = range(2,11)\n",
        "for i in k_range:\n",
        "  print(i)\n",
        "  km=KMeans(n_clusters=i)\n",
        "  visualizer = SilhouetteVisualizer(km)\n",
        "  visualizer.fit(train_x)\n",
        "  visualizer.poof()"
      ],
      "execution_count": 30,
      "outputs": [
        {
          "output_type": "stream",
          "text": [
            "2\n"
          ],
          "name": "stdout"
        },
        {
          "output_type": "display_data",
          "data": {
            "image/png": "[encoded data removed]",
            "text/plain": [
              "<Figure size 576x396 with 1 Axes>"
            ]
          },
          "metadata": {
            "tags": []
          }
        },
        {
          "output_type": "stream",
          "text": [
            "3\n"
          ],
          "name": "stdout"
        },
        {
          "output_type": "display_data",
          "data": {
            "image/png": "[encoded data removed]",
            "text/plain": [
              "<Figure size 576x396 with 1 Axes>"
            ]
          },
          "metadata": {
            "tags": []
          }
        },
        {
          "output_type": "stream",
          "text": [
            "4\n"
          ],
          "name": "stdout"
        },
        {
          "output_type": "display_data",
          "data": {
            "image/png": "[encoded data removed]",
            "text/plain": [
              "<Figure size 576x396 with 1 Axes>"
            ]
          },
          "metadata": {
            "tags": []
          }
        },
        {
          "output_type": "stream",
          "text": [
            "5\n"
          ],
          "name": "stdout"
        },
        {
          "output_type": "display_data",
          "data": {
            "image/png": "[encoded data removed]",
            "text/plain": [
              "<Figure size 576x396 with 1 Axes>"
            ]
          },
          "metadata": {
            "tags": []
          }
        },
        {
          "output_type": "stream",
          "text": [
            "6\n"
          ],
          "name": "stdout"
        },
        {
          "output_type": "display_data",
          "data": {
            "image/png": "[encoded data removed]",
            "text/plain": [
              "<Figure size 576x396 with 1 Axes>"
            ]
          },
          "metadata": {
            "tags": []
          }
        },
        {
          "output_type": "stream",
          "text": [
            "7\n"
          ],
          "name": "stdout"
        },
        {
          "output_type": "display_data",
          "data": {
            "image/png": "[encoded data removed]",
            "text/plain": [
              "<Figure size 576x396 with 1 Axes>"
            ]
          },
          "metadata": {
            "tags": []
          }
        },
        {
          "output_type": "stream",
          "text": [
            "8\n"
          ],
          "name": "stdout"
        },
        {
          "output_type": "display_data",
          "data": {
            "image/png": "[encoded data removed]",
            "text/plain": [
              "<Figure size 576x396 with 1 Axes>"
            ]
          },
          "metadata": {
            "tags": []
          }
        },
        {
          "output_type": "stream",
          "text": [
            "9\n"
          ],
          "name": "stdout"
        },
        {
          "output_type": "display_data",
          "data": {
            "image/png": "[encoded data removed]",
            "text/plain": [
              "<Figure size 576x396 with 1 Axes>"
            ]
          },
          "metadata": {
            "tags": []
          }
        },
        {
          "output_type": "stream",
          "text": [
            "10\n"
          ],
          "name": "stdout"
        },
        {
          "output_type": "display_data",
          "data": {
            "image/png": "[encoded data removed]",
            "text/plain": [
              "<Figure size 576x396 with 1 Axes>"
            ]
          },
          "metadata": {
            "tags": []
          }
        }
      ]
    },
    {
      "cell_type": "code",
      "metadata": {
        "colab": {
          "base_uri": "https://localhost:8080/"
        },
        "id": "Ms9HsD2ijlsC",
        "outputId": "3c2328f0-5dcc-46ec-abd3-6da85b440a9a"
      },
      "source": [
        "# 최적의 k를 할당하고 k-means model 훈련\n",
        "k = 3\n",
        "km = KMeans(n_clusters=k).fit(train_x)\n",
        "train_cluster = km.labels_\n",
        "train_cluster"
      ],
      "execution_count": 31,
      "outputs": [
        {
          "output_type": "execute_result",
          "data": {
            "text/plain": [
              "array([2, 0, 2, 2, 1, 0, 0, 2, 2, 1, 2, 0, 1, 0, 0, 0, 0, 0, 0, 2, 1, 1,\n",
              "       1, 0, 0, 0, 2, 0, 0, 0, 2, 0, 2, 2, 0, 2, 1, 0, 2, 1, 0, 0, 2, 1,\n",
              "       2, 0, 0, 1, 1, 1, 1, 2, 2, 1, 0, 0, 1, 0, 1, 2, 2, 0, 2, 1, 0, 2,\n",
              "       0, 0, 0, 1, 0, 0, 2, 1, 0, 2, 2, 1, 2, 2, 2, 0, 1, 2, 2, 2, 2, 0,\n",
              "       2, 1, 0, 1, 1, 1, 0, 2, 2, 0, 2, 0, 2, 1, 0, 2, 0, 2, 2, 2, 1, 1,\n",
              "       1, 1, 2, 2, 0, 0, 2, 0, 0, 0], dtype=int32)"
            ]
          },
          "metadata": {
            "tags": []
          },
          "execution_count": 31
        }
      ]
    },
    {
      "cell_type": "code",
      "metadata": {
        "colab": {
          "base_uri": "https://localhost:8080/",
          "height": 617
        },
        "id": "BhykaX6V8SEu",
        "outputId": "81919c4c-7d04-4370-d2f4-cca689a47f7f"
      },
      "source": [
        "from plotly.subplots import make_subplots\n",
        "import plotly.graph_objects as go\n",
        "\n",
        "fig = make_subplots(rows=1, cols=2, subplot_titles=(\"actual\", \"k-means\"))\n",
        "fig.add_trace(\n",
        "    go.Scatter(x=train_x[\"sepal_width\"],\n",
        "               y=train_x[\"sepal_length\"],\n",
        "               mode=\"markers\",\n",
        "               marker=dict(color=train_y)),\n",
        "               row=1, col=1\n",
        ")\n",
        "fig.add_trace(\n",
        "    go.Scatter(x=train_x[\"sepal_width\"],\n",
        "               y=train_x[\"sepal_length\"],\n",
        "               mode=\"markers\",\n",
        "               marker=dict(color=train_cluster)),\n",
        "               row=1, col=2\n",
        ")\n",
        "fig.update_layout(width=800, height=600)\n",
        "fig.show()"
      ],
      "execution_count": 32,
      "outputs": [
        {
          "output_type": "display_data",
          "data": {
            "text/html": [
              "<html>\n",
              "<head><meta charset=\"utf-8\" /></head>\n",
              "<body>\n",
              "    <div>\n",
              "            <script src=\"https://cdnjs.cloudflare.com/ajax/libs/mathjax/2.7.5/MathJax.js?config=TeX-AMS-MML_SVG\"></script><script type=\"text/javascript\">if (window.MathJax) {MathJax.Hub.Config({SVG: {font: \"STIX-Web\"}});}</script>\n",
              "                <script type=\"text/javascript\">window.PlotlyConfig = {MathJaxConfig: 'local'};</script>\n",
              "        <script src=\"https://cdn.plot.ly/plotly-latest.min.js\"></script>    \n",
              "            <div id=\"4b3fbcdd-265f-4169-aff9-c42db98e96ad\" class=\"plotly-graph-div\" style=\"height:600px; width:800px;\"></div>\n",
              "            <script type=\"text/javascript\">\n",
              "                \n",
              "                    window.PLOTLYENV=window.PLOTLYENV || {};\n",
              "                    \n",
              "                if (document.getElementById(\"4b3fbcdd-265f-4169-aff9-c42db98e96ad\")) {\n",
              "                    Plotly.newPlot(\n",
              "                        '4b3fbcdd-265f-4169-aff9-c42db98e96ad',\n",
              "                        [{\"marker\": {\"color\": [0, 2, 0, 0, 2, 1, 1, 0, 0, 2, 0, 2, 2, 1, 2, 1, 2, 1, 2, 0, 2, 1, 2, 1, 1, 1, 0, 2, 1, 2, 0, 2, 0, 0, 1, 0, 2, 1, 0, 1, 1, 1, 0, 2, 0, 2, 1, 2, 2, 2, 2, 0, 0, 2, 1, 1, 2, 1, 2, 0, 0, 1, 0, 2, 1, 0, 1, 1, 1, 2, 1, 1, 0, 2, 1, 0, 0, 2, 0, 0, 0, 1, 2, 0, 0, 0, 0, 2, 0, 2, 1, 2, 2, 2, 1, 0, 0, 1, 0, 1, 0, 2, 1, 0, 1, 0, 0, 0, 2, 2, 2, 2, 0, 0, 1, 1, 0, 1, 2, 1]}, \"mode\": \"markers\", \"type\": \"scatter\", \"x\": [3.4, 2.5, 3.6, 3.1, 3.4, 3.0, 3.2, 3.4, 3.3, 3.1, 3.4, 3.0, 2.6, 2.7, 3.0, 2.7, 2.7, 3.4, 3.0, 3.3, 3.0, 3.2, 3.0, 2.7, 2.5, 3.0, 4.4, 2.8, 3.0, 2.7, 3.4, 2.8, 3.2, 3.5, 2.9, 4.1, 3.3, 2.5, 3.0, 3.1, 2.8, 2.8, 3.9, 3.8, 3.0, 2.5, 2.6, 2.6, 3.2, 3.4, 3.1, 3.1, 3.8, 2.5, 2.8, 3.0, 2.8, 2.5, 2.9, 3.8, 3.2, 2.3, 3.2, 3.0, 3.1, 3.7, 3.0, 2.2, 3.1, 3.0, 3.2, 2.4, 3.0, 2.8, 2.3, 3.1, 4.2, 3.0, 3.8, 4.0, 3.0, 2.5, 3.0, 3.4, 3.0, 3.9, 3.4, 2.8, 3.0, 2.9, 2.2, 3.6, 3.2, 3.2, 2.4, 3.4, 3.4, 2.0, 3.7, 2.8, 3.5, 3.1, 2.6, 3.5, 3.3, 3.5, 3.8, 3.1, 2.8, 3.0, 2.7, 3.0, 3.5, 3.2, 2.3, 2.9, 3.4, 3.0, 2.7, 2.9], \"xaxis\": \"x\", \"y\": [4.6, 4.9, 4.6, 4.9, 6.3, 5.6, 5.9, 4.8, 5.0, 6.9, 5.2, 6.1, 6.1, 5.8, 5.9, 5.2, 5.8, 6.0, 6.0, 5.1, 6.8, 7.0, 7.2, 5.8, 5.5, 5.6, 5.7, 6.3, 6.1, 6.3, 5.4, 5.8, 4.7, 5.0, 6.2, 5.2, 6.7, 5.1, 4.9, 6.9, 6.1, 6.1, 5.4, 7.7, 4.3, 5.7, 5.8, 7.7, 6.9, 6.2, 6.4, 4.8, 5.7, 6.7, 6.8, 6.6, 7.7, 6.3, 6.3, 5.1, 5.0, 5.5, 4.6, 6.5, 6.7, 5.4, 5.7, 6.0, 6.7, 7.1, 6.4, 5.5, 4.8, 6.4, 6.3, 4.9, 5.5, 6.5, 5.1, 5.8, 4.8, 5.6, 6.7, 5.0, 5.0, 5.4, 5.4, 5.6, 4.4, 7.3, 6.2, 7.2, 6.5, 7.2, 5.5, 5.1, 5.0, 5.0, 5.1, 5.7, 5.0, 6.9, 5.5, 5.2, 6.3, 5.1, 5.1, 4.6, 6.4, 7.6, 6.4, 6.5, 5.1, 4.4, 5.0, 6.0, 4.8, 5.9, 5.8, 6.1], \"yaxis\": \"y\"}, {\"marker\": {\"color\": [2, 0, 2, 2, 1, 0, 0, 2, 2, 1, 2, 0, 1, 0, 0, 0, 0, 0, 0, 2, 1, 1, 1, 0, 0, 0, 2, 0, 0, 0, 2, 0, 2, 2, 0, 2, 1, 0, 2, 1, 0, 0, 2, 1, 2, 0, 0, 1, 1, 1, 1, 2, 2, 1, 0, 0, 1, 0, 1, 2, 2, 0, 2, 1, 0, 2, 0, 0, 0, 1, 0, 0, 2, 1, 0, 2, 2, 1, 2, 2, 2, 0, 1, 2, 2, 2, 2, 0, 2, 1, 0, 1, 1, 1, 0, 2, 2, 0, 2, 0, 2, 1, 0, 2, 0, 2, 2, 2, 1, 1, 1, 1, 2, 2, 0, 0, 2, 0, 0, 0]}, \"mode\": \"markers\", \"type\": \"scatter\", \"x\": [3.4, 2.5, 3.6, 3.1, 3.4, 3.0, 3.2, 3.4, 3.3, 3.1, 3.4, 3.0, 2.6, 2.7, 3.0, 2.7, 2.7, 3.4, 3.0, 3.3, 3.0, 3.2, 3.0, 2.7, 2.5, 3.0, 4.4, 2.8, 3.0, 2.7, 3.4, 2.8, 3.2, 3.5, 2.9, 4.1, 3.3, 2.5, 3.0, 3.1, 2.8, 2.8, 3.9, 3.8, 3.0, 2.5, 2.6, 2.6, 3.2, 3.4, 3.1, 3.1, 3.8, 2.5, 2.8, 3.0, 2.8, 2.5, 2.9, 3.8, 3.2, 2.3, 3.2, 3.0, 3.1, 3.7, 3.0, 2.2, 3.1, 3.0, 3.2, 2.4, 3.0, 2.8, 2.3, 3.1, 4.2, 3.0, 3.8, 4.0, 3.0, 2.5, 3.0, 3.4, 3.0, 3.9, 3.4, 2.8, 3.0, 2.9, 2.2, 3.6, 3.2, 3.2, 2.4, 3.4, 3.4, 2.0, 3.7, 2.8, 3.5, 3.1, 2.6, 3.5, 3.3, 3.5, 3.8, 3.1, 2.8, 3.0, 2.7, 3.0, 3.5, 3.2, 2.3, 2.9, 3.4, 3.0, 2.7, 2.9], \"xaxis\": \"x2\", \"y\": [4.6, 4.9, 4.6, 4.9, 6.3, 5.6, 5.9, 4.8, 5.0, 6.9, 5.2, 6.1, 6.1, 5.8, 5.9, 5.2, 5.8, 6.0, 6.0, 5.1, 6.8, 7.0, 7.2, 5.8, 5.5, 5.6, 5.7, 6.3, 6.1, 6.3, 5.4, 5.8, 4.7, 5.0, 6.2, 5.2, 6.7, 5.1, 4.9, 6.9, 6.1, 6.1, 5.4, 7.7, 4.3, 5.7, 5.8, 7.7, 6.9, 6.2, 6.4, 4.8, 5.7, 6.7, 6.8, 6.6, 7.7, 6.3, 6.3, 5.1, 5.0, 5.5, 4.6, 6.5, 6.7, 5.4, 5.7, 6.0, 6.7, 7.1, 6.4, 5.5, 4.8, 6.4, 6.3, 4.9, 5.5, 6.5, 5.1, 5.8, 4.8, 5.6, 6.7, 5.0, 5.0, 5.4, 5.4, 5.6, 4.4, 7.3, 6.2, 7.2, 6.5, 7.2, 5.5, 5.1, 5.0, 5.0, 5.1, 5.7, 5.0, 6.9, 5.5, 5.2, 6.3, 5.1, 5.1, 4.6, 6.4, 7.6, 6.4, 6.5, 5.1, 4.4, 5.0, 6.0, 4.8, 5.9, 5.8, 6.1], \"yaxis\": \"y2\"}],\n",
              "                        {\"annotations\": [{\"font\": {\"size\": 16}, \"showarrow\": false, \"text\": \"actual\", \"x\": 0.225, \"xanchor\": \"center\", \"xref\": \"paper\", \"y\": 1.0, \"yanchor\": \"bottom\", \"yref\": \"paper\"}, {\"font\": {\"size\": 16}, \"showarrow\": false, \"text\": \"k-means\", \"x\": 0.775, \"xanchor\": \"center\", \"xref\": \"paper\", \"y\": 1.0, \"yanchor\": \"bottom\", \"yref\": \"paper\"}], \"height\": 600, \"template\": {\"data\": {\"bar\": [{\"error_x\": {\"color\": \"#2a3f5f\"}, \"error_y\": {\"color\": \"#2a3f5f\"}, \"marker\": {\"line\": {\"color\": \"#E5ECF6\", \"width\": 0.5}}, \"type\": \"bar\"}], \"barpolar\": [{\"marker\": {\"line\": {\"color\": \"#E5ECF6\", \"width\": 0.5}}, \"type\": \"barpolar\"}], \"carpet\": [{\"aaxis\": {\"endlinecolor\": \"#2a3f5f\", \"gridcolor\": \"white\", \"linecolor\": \"white\", \"minorgridcolor\": \"white\", \"startlinecolor\": \"#2a3f5f\"}, \"baxis\": {\"endlinecolor\": \"#2a3f5f\", \"gridcolor\": \"white\", \"linecolor\": \"white\", \"minorgridcolor\": \"white\", \"startlinecolor\": \"#2a3f5f\"}, \"type\": \"carpet\"}], \"choropleth\": [{\"colorbar\": {\"outlinewidth\": 0, \"ticks\": \"\"}, \"type\": \"choropleth\"}], \"contour\": [{\"colorbar\": {\"outlinewidth\": 0, \"ticks\": \"\"}, \"colorscale\": [[0.0, \"#0d0887\"], [0.1111111111111111, \"#46039f\"], [0.2222222222222222, \"#7201a8\"], [0.3333333333333333, \"#9c179e\"], [0.4444444444444444, \"#bd3786\"], [0.5555555555555556, \"#d8576b\"], [0.6666666666666666, \"#ed7953\"], [0.7777777777777778, \"#fb9f3a\"], [0.8888888888888888, \"#fdca26\"], [1.0, \"#f0f921\"]], \"type\": \"contour\"}], \"contourcarpet\": [{\"colorbar\": {\"outlinewidth\": 0, \"ticks\": \"\"}, \"type\": \"contourcarpet\"}], \"heatmap\": [{\"colorbar\": {\"outlinewidth\": 0, \"ticks\": \"\"}, \"colorscale\": [[0.0, \"#0d0887\"], [0.1111111111111111, \"#46039f\"], [0.2222222222222222, \"#7201a8\"], [0.3333333333333333, \"#9c179e\"], [0.4444444444444444, \"#bd3786\"], [0.5555555555555556, \"#d8576b\"], [0.6666666666666666, \"#ed7953\"], [0.7777777777777778, \"#fb9f3a\"], [0.8888888888888888, \"#fdca26\"], [1.0, \"#f0f921\"]], \"type\": \"heatmap\"}], \"heatmapgl\": [{\"colorbar\": {\"outlinewidth\": 0, \"ticks\": \"\"}, \"colorscale\": [[0.0, \"#0d0887\"], [0.1111111111111111, \"#46039f\"], [0.2222222222222222, \"#7201a8\"], [0.3333333333333333, \"#9c179e\"], [0.4444444444444444, \"#bd3786\"], [0.5555555555555556, \"#d8576b\"], [0.6666666666666666, \"#ed7953\"], [0.7777777777777778, \"#fb9f3a\"], [0.8888888888888888, \"#fdca26\"], [1.0, \"#f0f921\"]], \"type\": \"heatmapgl\"}], \"histogram\": [{\"marker\": {\"colorbar\": {\"outlinewidth\": 0, \"ticks\": \"\"}}, \"type\": \"histogram\"}], \"histogram2d\": [{\"colorbar\": {\"outlinewidth\": 0, \"ticks\": \"\"}, \"colorscale\": [[0.0, \"#0d0887\"], [0.1111111111111111, \"#46039f\"], [0.2222222222222222, \"#7201a8\"], [0.3333333333333333, \"#9c179e\"], [0.4444444444444444, \"#bd3786\"], [0.5555555555555556, \"#d8576b\"], [0.6666666666666666, \"#ed7953\"], [0.7777777777777778, \"#fb9f3a\"], [0.8888888888888888, \"#fdca26\"], [1.0, \"#f0f921\"]], \"type\": \"histogram2d\"}], \"histogram2dcontour\": [{\"colorbar\": {\"outlinewidth\": 0, \"ticks\": \"\"}, \"colorscale\": [[0.0, \"#0d0887\"], [0.1111111111111111, \"#46039f\"], [0.2222222222222222, \"#7201a8\"], [0.3333333333333333, \"#9c179e\"], [0.4444444444444444, \"#bd3786\"], [0.5555555555555556, \"#d8576b\"], [0.6666666666666666, \"#ed7953\"], [0.7777777777777778, \"#fb9f3a\"], [0.8888888888888888, \"#fdca26\"], [1.0, \"#f0f921\"]], \"type\": \"histogram2dcontour\"}], \"mesh3d\": [{\"colorbar\": {\"outlinewidth\": 0, \"ticks\": \"\"}, \"type\": \"mesh3d\"}], \"parcoords\": [{\"line\": {\"colorbar\": {\"outlinewidth\": 0, \"ticks\": \"\"}}, \"type\": \"parcoords\"}], \"pie\": [{\"automargin\": true, \"type\": \"pie\"}], \"scatter\": [{\"marker\": {\"colorbar\": {\"outlinewidth\": 0, \"ticks\": \"\"}}, \"type\": \"scatter\"}], \"scatter3d\": [{\"line\": {\"colorbar\": {\"outlinewidth\": 0, \"ticks\": \"\"}}, \"marker\": {\"colorbar\": {\"outlinewidth\": 0, \"ticks\": \"\"}}, \"type\": \"scatter3d\"}], \"scattercarpet\": [{\"marker\": {\"colorbar\": {\"outlinewidth\": 0, \"ticks\": \"\"}}, \"type\": \"scattercarpet\"}], \"scattergeo\": [{\"marker\": {\"colorbar\": {\"outlinewidth\": 0, \"ticks\": \"\"}}, \"type\": \"scattergeo\"}], \"scattergl\": [{\"marker\": {\"colorbar\": {\"outlinewidth\": 0, \"ticks\": \"\"}}, \"type\": \"scattergl\"}], \"scattermapbox\": [{\"marker\": {\"colorbar\": {\"outlinewidth\": 0, \"ticks\": \"\"}}, \"type\": \"scattermapbox\"}], \"scatterpolar\": [{\"marker\": {\"colorbar\": {\"outlinewidth\": 0, \"ticks\": \"\"}}, \"type\": \"scatterpolar\"}], \"scatterpolargl\": [{\"marker\": {\"colorbar\": {\"outlinewidth\": 0, \"ticks\": \"\"}}, \"type\": \"scatterpolargl\"}], \"scatterternary\": [{\"marker\": {\"colorbar\": {\"outlinewidth\": 0, \"ticks\": \"\"}}, \"type\": \"scatterternary\"}], \"surface\": [{\"colorbar\": {\"outlinewidth\": 0, \"ticks\": \"\"}, \"colorscale\": [[0.0, \"#0d0887\"], [0.1111111111111111, \"#46039f\"], [0.2222222222222222, \"#7201a8\"], [0.3333333333333333, \"#9c179e\"], [0.4444444444444444, \"#bd3786\"], [0.5555555555555556, \"#d8576b\"], [0.6666666666666666, \"#ed7953\"], [0.7777777777777778, \"#fb9f3a\"], [0.8888888888888888, \"#fdca26\"], [1.0, \"#f0f921\"]], \"type\": \"surface\"}], \"table\": [{\"cells\": {\"fill\": {\"color\": \"#EBF0F8\"}, \"line\": {\"color\": \"white\"}}, \"header\": {\"fill\": {\"color\": \"#C8D4E3\"}, \"line\": {\"color\": \"white\"}}, \"type\": \"table\"}]}, \"layout\": {\"annotationdefaults\": {\"arrowcolor\": \"#2a3f5f\", \"arrowhead\": 0, \"arrowwidth\": 1}, \"coloraxis\": {\"colorbar\": {\"outlinewidth\": 0, \"ticks\": \"\"}}, \"colorscale\": {\"diverging\": [[0, \"#8e0152\"], [0.1, \"#c51b7d\"], [0.2, \"#de77ae\"], [0.3, \"#f1b6da\"], [0.4, \"#fde0ef\"], [0.5, \"#f7f7f7\"], [0.6, \"#e6f5d0\"], [0.7, \"#b8e186\"], [0.8, \"#7fbc41\"], [0.9, \"#4d9221\"], [1, \"#276419\"]], \"sequential\": [[0.0, \"#0d0887\"], [0.1111111111111111, \"#46039f\"], [0.2222222222222222, \"#7201a8\"], [0.3333333333333333, \"#9c179e\"], [0.4444444444444444, \"#bd3786\"], [0.5555555555555556, \"#d8576b\"], [0.6666666666666666, \"#ed7953\"], [0.7777777777777778, \"#fb9f3a\"], [0.8888888888888888, \"#fdca26\"], [1.0, \"#f0f921\"]], \"sequentialminus\": [[0.0, \"#0d0887\"], [0.1111111111111111, \"#46039f\"], [0.2222222222222222, \"#7201a8\"], [0.3333333333333333, \"#9c179e\"], [0.4444444444444444, \"#bd3786\"], [0.5555555555555556, \"#d8576b\"], [0.6666666666666666, \"#ed7953\"], [0.7777777777777778, \"#fb9f3a\"], [0.8888888888888888, \"#fdca26\"], [1.0, \"#f0f921\"]]}, \"colorway\": [\"#636efa\", \"#EF553B\", \"#00cc96\", \"#ab63fa\", \"#FFA15A\", \"#19d3f3\", \"#FF6692\", \"#B6E880\", \"#FF97FF\", \"#FECB52\"], \"font\": {\"color\": \"#2a3f5f\"}, \"geo\": {\"bgcolor\": \"white\", \"lakecolor\": \"white\", \"landcolor\": \"#E5ECF6\", \"showlakes\": true, \"showland\": true, \"subunitcolor\": \"white\"}, \"hoverlabel\": {\"align\": \"left\"}, \"hovermode\": \"closest\", \"mapbox\": {\"style\": \"light\"}, \"paper_bgcolor\": \"white\", \"plot_bgcolor\": \"#E5ECF6\", \"polar\": {\"angularaxis\": {\"gridcolor\": \"white\", \"linecolor\": \"white\", \"ticks\": \"\"}, \"bgcolor\": \"#E5ECF6\", \"radialaxis\": {\"gridcolor\": \"white\", \"linecolor\": \"white\", \"ticks\": \"\"}}, \"scene\": {\"xaxis\": {\"backgroundcolor\": \"#E5ECF6\", \"gridcolor\": \"white\", \"gridwidth\": 2, \"linecolor\": \"white\", \"showbackground\": true, \"ticks\": \"\", \"zerolinecolor\": \"white\"}, \"yaxis\": {\"backgroundcolor\": \"#E5ECF6\", \"gridcolor\": \"white\", \"gridwidth\": 2, \"linecolor\": \"white\", \"showbackground\": true, \"ticks\": \"\", \"zerolinecolor\": \"white\"}, \"zaxis\": {\"backgroundcolor\": \"#E5ECF6\", \"gridcolor\": \"white\", \"gridwidth\": 2, \"linecolor\": \"white\", \"showbackground\": true, \"ticks\": \"\", \"zerolinecolor\": \"white\"}}, \"shapedefaults\": {\"line\": {\"color\": \"#2a3f5f\"}}, \"ternary\": {\"aaxis\": {\"gridcolor\": \"white\", \"linecolor\": \"white\", \"ticks\": \"\"}, \"baxis\": {\"gridcolor\": \"white\", \"linecolor\": \"white\", \"ticks\": \"\"}, \"bgcolor\": \"#E5ECF6\", \"caxis\": {\"gridcolor\": \"white\", \"linecolor\": \"white\", \"ticks\": \"\"}}, \"title\": {\"x\": 0.05}, \"xaxis\": {\"automargin\": true, \"gridcolor\": \"white\", \"linecolor\": \"white\", \"ticks\": \"\", \"title\": {\"standoff\": 15}, \"zerolinecolor\": \"white\", \"zerolinewidth\": 2}, \"yaxis\": {\"automargin\": true, \"gridcolor\": \"white\", \"linecolor\": \"white\", \"ticks\": \"\", \"title\": {\"standoff\": 15}, \"zerolinecolor\": \"white\", \"zerolinewidth\": 2}}}, \"width\": 800, \"xaxis\": {\"anchor\": \"y\", \"domain\": [0.0, 0.45]}, \"xaxis2\": {\"anchor\": \"y2\", \"domain\": [0.55, 1.0]}, \"yaxis\": {\"anchor\": \"x\", \"domain\": [0.0, 1.0]}, \"yaxis2\": {\"anchor\": \"x2\", \"domain\": [0.0, 1.0]}},\n",
              "                        {\"responsive\": true}\n",
              "                    ).then(function(){\n",
              "                            \n",
              "var gd = document.getElementById('4b3fbcdd-265f-4169-aff9-c42db98e96ad');\n",
              "var x = new MutationObserver(function (mutations, observer) {{\n",
              "        var display = window.getComputedStyle(gd).display;\n",
              "        if (!display || display === 'none') {{\n",
              "            console.log([gd, 'removed!']);\n",
              "            Plotly.purge(gd);\n",
              "            observer.disconnect();\n",
              "        }}\n",
              "}});\n",
              "\n",
              "// Listen for the removal of the full notebook cells\n",
              "var notebookContainer = gd.closest('#notebook-container');\n",
              "if (notebookContainer) {{\n",
              "    x.observe(notebookContainer, {childList: true});\n",
              "}}\n",
              "\n",
              "// Listen for the clearing of the current output cell\n",
              "var outputEl = gd.closest('.output');\n",
              "if (outputEl) {{\n",
              "    x.observe(outputEl, {childList: true});\n",
              "}}\n",
              "\n",
              "                        })\n",
              "                };\n",
              "                \n",
              "            </script>\n",
              "        </div>\n",
              "</body>\n",
              "</html>"
            ]
          },
          "metadata": {
            "tags": []
          }
        }
      ]
    },
    {
      "cell_type": "code",
      "metadata": {
        "colab": {
          "base_uri": "https://localhost:8080/",
          "height": 617
        },
        "id": "y3OzOzQu8ui5",
        "outputId": "c14a86f0-fc60-450b-a404-4743cf989101"
      },
      "source": [
        "fig = make_subplots(rows=1, cols=2, subplot_titles=(\"actual\", \"k-means\"))\n",
        "fig.add_trace(\n",
        "    go.Scatter(x=train_x[\"petal_width\"],\n",
        "               y=train_x[\"petal_length\"],\n",
        "               mode=\"markers\",\n",
        "               marker=dict(color=train_y)),\n",
        "               row=1, col=1\n",
        ")\n",
        "fig.add_trace(\n",
        "    go.Scatter(x=train_x[\"petal_width\"],\n",
        "               y=train_x[\"petal_length\"],\n",
        "               mode=\"markers\",\n",
        "               marker=dict(color=train_cluster)),\n",
        "               row=1, col=2\n",
        ")\n",
        "fig.update_layout(width=800, height=600)\n",
        "fig.show()"
      ],
      "execution_count": 33,
      "outputs": [
        {
          "output_type": "display_data",
          "data": {
            "text/html": [
              "<html>\n",
              "<head><meta charset=\"utf-8\" /></head>\n",
              "<body>\n",
              "    <div>\n",
              "            <script src=\"https://cdnjs.cloudflare.com/ajax/libs/mathjax/2.7.5/MathJax.js?config=TeX-AMS-MML_SVG\"></script><script type=\"text/javascript\">if (window.MathJax) {MathJax.Hub.Config({SVG: {font: \"STIX-Web\"}});}</script>\n",
              "                <script type=\"text/javascript\">window.PlotlyConfig = {MathJaxConfig: 'local'};</script>\n",
              "        <script src=\"https://cdn.plot.ly/plotly-latest.min.js\"></script>    \n",
              "            <div id=\"4f8afc1a-34f8-4875-aae4-91ea9de36add\" class=\"plotly-graph-div\" style=\"height:600px; width:800px;\"></div>\n",
              "            <script type=\"text/javascript\">\n",
              "                \n",
              "                    window.PLOTLYENV=window.PLOTLYENV || {};\n",
              "                    \n",
              "                if (document.getElementById(\"4f8afc1a-34f8-4875-aae4-91ea9de36add\")) {\n",
              "                    Plotly.newPlot(\n",
              "                        '4f8afc1a-34f8-4875-aae4-91ea9de36add',\n",
              "                        [{\"marker\": {\"color\": [0, 2, 0, 0, 2, 1, 1, 0, 0, 2, 0, 2, 2, 1, 2, 1, 2, 1, 2, 0, 2, 1, 2, 1, 1, 1, 0, 2, 1, 2, 0, 2, 0, 0, 1, 0, 2, 1, 0, 1, 1, 1, 0, 2, 0, 2, 1, 2, 2, 2, 2, 0, 0, 2, 1, 1, 2, 1, 2, 0, 0, 1, 0, 2, 1, 0, 1, 1, 1, 2, 1, 1, 0, 2, 1, 0, 0, 2, 0, 0, 0, 1, 2, 0, 0, 0, 0, 2, 0, 2, 1, 2, 2, 2, 1, 0, 0, 1, 0, 1, 0, 2, 1, 0, 1, 0, 0, 0, 2, 2, 2, 2, 0, 0, 1, 1, 0, 1, 2, 1]}, \"mode\": \"markers\", \"type\": \"scatter\", \"x\": [0.3, 1.7, 0.2, 0.2, 2.4, 1.3, 1.8, 0.2, 0.2, 2.3, 0.2, 1.8, 1.4, 1.2, 1.8, 1.4, 1.9, 1.6, 1.8, 0.5, 2.1, 1.4, 1.6, 1.0, 1.3, 1.5, 0.4, 1.5, 1.4, 1.8, 0.4, 2.4, 0.2, 0.6, 1.3, 0.1, 2.5, 1.1, 0.2, 1.5, 1.3, 1.2, 0.4, 2.2, 0.1, 2.0, 1.2, 2.3, 2.3, 2.3, 1.8, 0.2, 0.3, 1.8, 1.4, 1.4, 2.0, 1.5, 1.8, 0.4, 0.2, 1.3, 0.2, 1.8, 1.4, 0.2, 1.2, 1.0, 1.5, 2.1, 1.5, 1.1, 0.3, 2.2, 1.3, 0.1, 0.2, 2.0, 0.3, 0.2, 0.1, 1.1, 2.3, 0.4, 0.2, 0.4, 0.2, 2.0, 0.2, 1.8, 1.5, 2.5, 2.0, 1.8, 1.0, 0.2, 0.2, 1.0, 0.4, 1.3, 0.3, 2.1, 1.2, 0.2, 1.6, 0.2, 0.2, 0.2, 2.1, 2.1, 1.9, 2.2, 0.3, 0.2, 1.0, 1.5, 0.2, 1.5, 1.9, 1.4], \"xaxis\": \"x\", \"y\": [1.4, 4.5, 1.0, 1.5, 5.6, 4.1, 4.8, 1.9, 1.4, 5.1, 1.4, 4.9, 5.6, 3.9, 5.1, 3.9, 5.1, 4.5, 4.8, 1.7, 5.5, 4.7, 5.8, 4.1, 4.0, 4.5, 1.5, 5.1, 4.6, 4.9, 1.5, 5.1, 1.6, 1.6, 4.3, 1.5, 5.7, 3.0, 1.4, 4.9, 4.0, 4.7, 1.7, 6.7, 1.1, 5.0, 4.0, 6.9, 5.7, 5.4, 5.5, 1.6, 1.7, 5.8, 4.8, 4.4, 6.7, 4.9, 5.6, 1.9, 1.2, 4.0, 1.4, 5.5, 4.4, 1.5, 4.2, 4.0, 4.7, 5.9, 4.5, 3.8, 1.4, 5.6, 4.4, 1.5, 1.4, 5.2, 1.5, 1.2, 1.4, 3.9, 5.2, 1.6, 1.6, 1.3, 1.7, 4.9, 1.3, 6.3, 4.5, 6.1, 5.1, 6.0, 3.7, 1.5, 1.5, 3.5, 1.5, 4.5, 1.3, 5.4, 4.4, 1.5, 4.7, 1.4, 1.6, 1.5, 5.6, 6.6, 5.3, 5.8, 1.4, 1.3, 3.3, 4.5, 1.6, 4.2, 5.1, 4.7], \"yaxis\": \"y\"}, {\"marker\": {\"color\": [2, 0, 2, 2, 1, 0, 0, 2, 2, 1, 2, 0, 1, 0, 0, 0, 0, 0, 0, 2, 1, 1, 1, 0, 0, 0, 2, 0, 0, 0, 2, 0, 2, 2, 0, 2, 1, 0, 2, 1, 0, 0, 2, 1, 2, 0, 0, 1, 1, 1, 1, 2, 2, 1, 0, 0, 1, 0, 1, 2, 2, 0, 2, 1, 0, 2, 0, 0, 0, 1, 0, 0, 2, 1, 0, 2, 2, 1, 2, 2, 2, 0, 1, 2, 2, 2, 2, 0, 2, 1, 0, 1, 1, 1, 0, 2, 2, 0, 2, 0, 2, 1, 0, 2, 0, 2, 2, 2, 1, 1, 1, 1, 2, 2, 0, 0, 2, 0, 0, 0]}, \"mode\": \"markers\", \"type\": \"scatter\", \"x\": [0.3, 1.7, 0.2, 0.2, 2.4, 1.3, 1.8, 0.2, 0.2, 2.3, 0.2, 1.8, 1.4, 1.2, 1.8, 1.4, 1.9, 1.6, 1.8, 0.5, 2.1, 1.4, 1.6, 1.0, 1.3, 1.5, 0.4, 1.5, 1.4, 1.8, 0.4, 2.4, 0.2, 0.6, 1.3, 0.1, 2.5, 1.1, 0.2, 1.5, 1.3, 1.2, 0.4, 2.2, 0.1, 2.0, 1.2, 2.3, 2.3, 2.3, 1.8, 0.2, 0.3, 1.8, 1.4, 1.4, 2.0, 1.5, 1.8, 0.4, 0.2, 1.3, 0.2, 1.8, 1.4, 0.2, 1.2, 1.0, 1.5, 2.1, 1.5, 1.1, 0.3, 2.2, 1.3, 0.1, 0.2, 2.0, 0.3, 0.2, 0.1, 1.1, 2.3, 0.4, 0.2, 0.4, 0.2, 2.0, 0.2, 1.8, 1.5, 2.5, 2.0, 1.8, 1.0, 0.2, 0.2, 1.0, 0.4, 1.3, 0.3, 2.1, 1.2, 0.2, 1.6, 0.2, 0.2, 0.2, 2.1, 2.1, 1.9, 2.2, 0.3, 0.2, 1.0, 1.5, 0.2, 1.5, 1.9, 1.4], \"xaxis\": \"x2\", \"y\": [1.4, 4.5, 1.0, 1.5, 5.6, 4.1, 4.8, 1.9, 1.4, 5.1, 1.4, 4.9, 5.6, 3.9, 5.1, 3.9, 5.1, 4.5, 4.8, 1.7, 5.5, 4.7, 5.8, 4.1, 4.0, 4.5, 1.5, 5.1, 4.6, 4.9, 1.5, 5.1, 1.6, 1.6, 4.3, 1.5, 5.7, 3.0, 1.4, 4.9, 4.0, 4.7, 1.7, 6.7, 1.1, 5.0, 4.0, 6.9, 5.7, 5.4, 5.5, 1.6, 1.7, 5.8, 4.8, 4.4, 6.7, 4.9, 5.6, 1.9, 1.2, 4.0, 1.4, 5.5, 4.4, 1.5, 4.2, 4.0, 4.7, 5.9, 4.5, 3.8, 1.4, 5.6, 4.4, 1.5, 1.4, 5.2, 1.5, 1.2, 1.4, 3.9, 5.2, 1.6, 1.6, 1.3, 1.7, 4.9, 1.3, 6.3, 4.5, 6.1, 5.1, 6.0, 3.7, 1.5, 1.5, 3.5, 1.5, 4.5, 1.3, 5.4, 4.4, 1.5, 4.7, 1.4, 1.6, 1.5, 5.6, 6.6, 5.3, 5.8, 1.4, 1.3, 3.3, 4.5, 1.6, 4.2, 5.1, 4.7], \"yaxis\": \"y2\"}],\n",
              "                        {\"annotations\": [{\"font\": {\"size\": 16}, \"showarrow\": false, \"text\": \"actual\", \"x\": 0.225, \"xanchor\": \"center\", \"xref\": \"paper\", \"y\": 1.0, \"yanchor\": \"bottom\", \"yref\": \"paper\"}, {\"font\": {\"size\": 16}, \"showarrow\": false, \"text\": \"k-means\", \"x\": 0.775, \"xanchor\": \"center\", \"xref\": \"paper\", \"y\": 1.0, \"yanchor\": \"bottom\", \"yref\": \"paper\"}], \"height\": 600, \"template\": {\"data\": {\"bar\": [{\"error_x\": {\"color\": \"#2a3f5f\"}, \"error_y\": {\"color\": \"#2a3f5f\"}, \"marker\": {\"line\": {\"color\": \"#E5ECF6\", \"width\": 0.5}}, \"type\": \"bar\"}], \"barpolar\": [{\"marker\": {\"line\": {\"color\": \"#E5ECF6\", \"width\": 0.5}}, \"type\": \"barpolar\"}], \"carpet\": [{\"aaxis\": {\"endlinecolor\": \"#2a3f5f\", \"gridcolor\": \"white\", \"linecolor\": \"white\", \"minorgridcolor\": \"white\", \"startlinecolor\": \"#2a3f5f\"}, \"baxis\": {\"endlinecolor\": \"#2a3f5f\", \"gridcolor\": \"white\", \"linecolor\": \"white\", \"minorgridcolor\": \"white\", \"startlinecolor\": \"#2a3f5f\"}, \"type\": \"carpet\"}], \"choropleth\": [{\"colorbar\": {\"outlinewidth\": 0, \"ticks\": \"\"}, \"type\": \"choropleth\"}], \"contour\": [{\"colorbar\": {\"outlinewidth\": 0, \"ticks\": \"\"}, \"colorscale\": [[0.0, \"#0d0887\"], [0.1111111111111111, \"#46039f\"], [0.2222222222222222, \"#7201a8\"], [0.3333333333333333, \"#9c179e\"], [0.4444444444444444, \"#bd3786\"], [0.5555555555555556, \"#d8576b\"], [0.6666666666666666, \"#ed7953\"], [0.7777777777777778, \"#fb9f3a\"], [0.8888888888888888, \"#fdca26\"], [1.0, \"#f0f921\"]], \"type\": \"contour\"}], \"contourcarpet\": [{\"colorbar\": {\"outlinewidth\": 0, \"ticks\": \"\"}, \"type\": \"contourcarpet\"}], \"heatmap\": [{\"colorbar\": {\"outlinewidth\": 0, \"ticks\": \"\"}, \"colorscale\": [[0.0, \"#0d0887\"], [0.1111111111111111, \"#46039f\"], [0.2222222222222222, \"#7201a8\"], [0.3333333333333333, \"#9c179e\"], [0.4444444444444444, \"#bd3786\"], [0.5555555555555556, \"#d8576b\"], [0.6666666666666666, \"#ed7953\"], [0.7777777777777778, \"#fb9f3a\"], [0.8888888888888888, \"#fdca26\"], [1.0, \"#f0f921\"]], \"type\": \"heatmap\"}], \"heatmapgl\": [{\"colorbar\": {\"outlinewidth\": 0, \"ticks\": \"\"}, \"colorscale\": [[0.0, \"#0d0887\"], [0.1111111111111111, \"#46039f\"], [0.2222222222222222, \"#7201a8\"], [0.3333333333333333, \"#9c179e\"], [0.4444444444444444, \"#bd3786\"], [0.5555555555555556, \"#d8576b\"], [0.6666666666666666, \"#ed7953\"], [0.7777777777777778, \"#fb9f3a\"], [0.8888888888888888, \"#fdca26\"], [1.0, \"#f0f921\"]], \"type\": \"heatmapgl\"}], \"histogram\": [{\"marker\": {\"colorbar\": {\"outlinewidth\": 0, \"ticks\": \"\"}}, \"type\": \"histogram\"}], \"histogram2d\": [{\"colorbar\": {\"outlinewidth\": 0, \"ticks\": \"\"}, \"colorscale\": [[0.0, \"#0d0887\"], [0.1111111111111111, \"#46039f\"], [0.2222222222222222, \"#7201a8\"], [0.3333333333333333, \"#9c179e\"], [0.4444444444444444, \"#bd3786\"], [0.5555555555555556, \"#d8576b\"], [0.6666666666666666, \"#ed7953\"], [0.7777777777777778, \"#fb9f3a\"], [0.8888888888888888, \"#fdca26\"], [1.0, \"#f0f921\"]], \"type\": \"histogram2d\"}], \"histogram2dcontour\": [{\"colorbar\": {\"outlinewidth\": 0, \"ticks\": \"\"}, \"colorscale\": [[0.0, \"#0d0887\"], [0.1111111111111111, \"#46039f\"], [0.2222222222222222, \"#7201a8\"], [0.3333333333333333, \"#9c179e\"], [0.4444444444444444, \"#bd3786\"], [0.5555555555555556, \"#d8576b\"], [0.6666666666666666, \"#ed7953\"], [0.7777777777777778, \"#fb9f3a\"], [0.8888888888888888, \"#fdca26\"], [1.0, \"#f0f921\"]], \"type\": \"histogram2dcontour\"}], \"mesh3d\": [{\"colorbar\": {\"outlinewidth\": 0, \"ticks\": \"\"}, \"type\": \"mesh3d\"}], \"parcoords\": [{\"line\": {\"colorbar\": {\"outlinewidth\": 0, \"ticks\": \"\"}}, \"type\": \"parcoords\"}], \"pie\": [{\"automargin\": true, \"type\": \"pie\"}], \"scatter\": [{\"marker\": {\"colorbar\": {\"outlinewidth\": 0, \"ticks\": \"\"}}, \"type\": \"scatter\"}], \"scatter3d\": [{\"line\": {\"colorbar\": {\"outlinewidth\": 0, \"ticks\": \"\"}}, \"marker\": {\"colorbar\": {\"outlinewidth\": 0, \"ticks\": \"\"}}, \"type\": \"scatter3d\"}], \"scattercarpet\": [{\"marker\": {\"colorbar\": {\"outlinewidth\": 0, \"ticks\": \"\"}}, \"type\": \"scattercarpet\"}], \"scattergeo\": [{\"marker\": {\"colorbar\": {\"outlinewidth\": 0, \"ticks\": \"\"}}, \"type\": \"scattergeo\"}], \"scattergl\": [{\"marker\": {\"colorbar\": {\"outlinewidth\": 0, \"ticks\": \"\"}}, \"type\": \"scattergl\"}], \"scattermapbox\": [{\"marker\": {\"colorbar\": {\"outlinewidth\": 0, \"ticks\": \"\"}}, \"type\": \"scattermapbox\"}], \"scatterpolar\": [{\"marker\": {\"colorbar\": {\"outlinewidth\": 0, \"ticks\": \"\"}}, \"type\": \"scatterpolar\"}], \"scatterpolargl\": [{\"marker\": {\"colorbar\": {\"outlinewidth\": 0, \"ticks\": \"\"}}, \"type\": \"scatterpolargl\"}], \"scatterternary\": [{\"marker\": {\"colorbar\": {\"outlinewidth\": 0, \"ticks\": \"\"}}, \"type\": \"scatterternary\"}], \"surface\": [{\"colorbar\": {\"outlinewidth\": 0, \"ticks\": \"\"}, \"colorscale\": [[0.0, \"#0d0887\"], [0.1111111111111111, \"#46039f\"], [0.2222222222222222, \"#7201a8\"], [0.3333333333333333, \"#9c179e\"], [0.4444444444444444, \"#bd3786\"], [0.5555555555555556, \"#d8576b\"], [0.6666666666666666, \"#ed7953\"], [0.7777777777777778, \"#fb9f3a\"], [0.8888888888888888, \"#fdca26\"], [1.0, \"#f0f921\"]], \"type\": \"surface\"}], \"table\": [{\"cells\": {\"fill\": {\"color\": \"#EBF0F8\"}, \"line\": {\"color\": \"white\"}}, \"header\": {\"fill\": {\"color\": \"#C8D4E3\"}, \"line\": {\"color\": \"white\"}}, \"type\": \"table\"}]}, \"layout\": {\"annotationdefaults\": {\"arrowcolor\": \"#2a3f5f\", \"arrowhead\": 0, \"arrowwidth\": 1}, \"coloraxis\": {\"colorbar\": {\"outlinewidth\": 0, \"ticks\": \"\"}}, \"colorscale\": {\"diverging\": [[0, \"#8e0152\"], [0.1, \"#c51b7d\"], [0.2, \"#de77ae\"], [0.3, \"#f1b6da\"], [0.4, \"#fde0ef\"], [0.5, \"#f7f7f7\"], [0.6, \"#e6f5d0\"], [0.7, \"#b8e186\"], [0.8, \"#7fbc41\"], [0.9, \"#4d9221\"], [1, \"#276419\"]], \"sequential\": [[0.0, \"#0d0887\"], [0.1111111111111111, \"#46039f\"], [0.2222222222222222, \"#7201a8\"], [0.3333333333333333, \"#9c179e\"], [0.4444444444444444, \"#bd3786\"], [0.5555555555555556, \"#d8576b\"], [0.6666666666666666, \"#ed7953\"], [0.7777777777777778, \"#fb9f3a\"], [0.8888888888888888, \"#fdca26\"], [1.0, \"#f0f921\"]], \"sequentialminus\": [[0.0, \"#0d0887\"], [0.1111111111111111, \"#46039f\"], [0.2222222222222222, \"#7201a8\"], [0.3333333333333333, \"#9c179e\"], [0.4444444444444444, \"#bd3786\"], [0.5555555555555556, \"#d8576b\"], [0.6666666666666666, \"#ed7953\"], [0.7777777777777778, \"#fb9f3a\"], [0.8888888888888888, \"#fdca26\"], [1.0, \"#f0f921\"]]}, \"colorway\": [\"#636efa\", \"#EF553B\", \"#00cc96\", \"#ab63fa\", \"#FFA15A\", \"#19d3f3\", \"#FF6692\", \"#B6E880\", \"#FF97FF\", \"#FECB52\"], \"font\": {\"color\": \"#2a3f5f\"}, \"geo\": {\"bgcolor\": \"white\", \"lakecolor\": \"white\", \"landcolor\": \"#E5ECF6\", \"showlakes\": true, \"showland\": true, \"subunitcolor\": \"white\"}, \"hoverlabel\": {\"align\": \"left\"}, \"hovermode\": \"closest\", \"mapbox\": {\"style\": \"light\"}, \"paper_bgcolor\": \"white\", \"plot_bgcolor\": \"#E5ECF6\", \"polar\": {\"angularaxis\": {\"gridcolor\": \"white\", \"linecolor\": \"white\", \"ticks\": \"\"}, \"bgcolor\": \"#E5ECF6\", \"radialaxis\": {\"gridcolor\": \"white\", \"linecolor\": \"white\", \"ticks\": \"\"}}, \"scene\": {\"xaxis\": {\"backgroundcolor\": \"#E5ECF6\", \"gridcolor\": \"white\", \"gridwidth\": 2, \"linecolor\": \"white\", \"showbackground\": true, \"ticks\": \"\", \"zerolinecolor\": \"white\"}, \"yaxis\": {\"backgroundcolor\": \"#E5ECF6\", \"gridcolor\": \"white\", \"gridwidth\": 2, \"linecolor\": \"white\", \"showbackground\": true, \"ticks\": \"\", \"zerolinecolor\": \"white\"}, \"zaxis\": {\"backgroundcolor\": \"#E5ECF6\", \"gridcolor\": \"white\", \"gridwidth\": 2, \"linecolor\": \"white\", \"showbackground\": true, \"ticks\": \"\", \"zerolinecolor\": \"white\"}}, \"shapedefaults\": {\"line\": {\"color\": \"#2a3f5f\"}}, \"ternary\": {\"aaxis\": {\"gridcolor\": \"white\", \"linecolor\": \"white\", \"ticks\": \"\"}, \"baxis\": {\"gridcolor\": \"white\", \"linecolor\": \"white\", \"ticks\": \"\"}, \"bgcolor\": \"#E5ECF6\", \"caxis\": {\"gridcolor\": \"white\", \"linecolor\": \"white\", \"ticks\": \"\"}}, \"title\": {\"x\": 0.05}, \"xaxis\": {\"automargin\": true, \"gridcolor\": \"white\", \"linecolor\": \"white\", \"ticks\": \"\", \"title\": {\"standoff\": 15}, \"zerolinecolor\": \"white\", \"zerolinewidth\": 2}, \"yaxis\": {\"automargin\": true, \"gridcolor\": \"white\", \"linecolor\": \"white\", \"ticks\": \"\", \"title\": {\"standoff\": 15}, \"zerolinecolor\": \"white\", \"zerolinewidth\": 2}}}, \"width\": 800, \"xaxis\": {\"anchor\": \"y\", \"domain\": [0.0, 0.45]}, \"xaxis2\": {\"anchor\": \"y2\", \"domain\": [0.55, 1.0]}, \"yaxis\": {\"anchor\": \"x\", \"domain\": [0.0, 1.0]}, \"yaxis2\": {\"anchor\": \"x2\", \"domain\": [0.0, 1.0]}},\n",
              "                        {\"responsive\": true}\n",
              "                    ).then(function(){\n",
              "                            \n",
              "var gd = document.getElementById('4f8afc1a-34f8-4875-aae4-91ea9de36add');\n",
              "var x = new MutationObserver(function (mutations, observer) {{\n",
              "        var display = window.getComputedStyle(gd).display;\n",
              "        if (!display || display === 'none') {{\n",
              "            console.log([gd, 'removed!']);\n",
              "            Plotly.purge(gd);\n",
              "            observer.disconnect();\n",
              "        }}\n",
              "}});\n",
              "\n",
              "// Listen for the removal of the full notebook cells\n",
              "var notebookContainer = gd.closest('#notebook-container');\n",
              "if (notebookContainer) {{\n",
              "    x.observe(notebookContainer, {childList: true});\n",
              "}}\n",
              "\n",
              "// Listen for the clearing of the current output cell\n",
              "var outputEl = gd.closest('.output');\n",
              "if (outputEl) {{\n",
              "    x.observe(outputEl, {childList: true});\n",
              "}}\n",
              "\n",
              "                        })\n",
              "                };\n",
              "                \n",
              "            </script>\n",
              "        </div>\n",
              "</body>\n",
              "</html>"
            ]
          },
          "metadata": {
            "tags": []
          }
        }
      ]
    },
    {
      "cell_type": "code",
      "metadata": {
        "colab": {
          "base_uri": "https://localhost:8080/"
        },
        "id": "0WNnLDL_-T4e",
        "outputId": "4fa0ffc7-08cd-44fe-d585-ae7e679e8b6d"
      },
      "source": [
        "# prediction\n",
        "test_cluster = km.fit_predict(test_x)\n",
        "test_cluster"
      ],
      "execution_count": 34,
      "outputs": [
        {
          "output_type": "execute_result",
          "data": {
            "text/plain": [
              "array([1, 2, 0, 2, 1, 1, 0, 0, 0, 2, 2, 1, 2, 0, 0, 2, 1, 2, 2, 1, 2, 1,\n",
              "       2, 2, 2, 1, 1, 0, 2, 2], dtype=int32)"
            ]
          },
          "metadata": {
            "tags": []
          },
          "execution_count": 34
        }
      ]
    },
    {
      "cell_type": "code",
      "metadata": {
        "colab": {
          "base_uri": "https://localhost:8080/",
          "height": 617
        },
        "id": "yeb-RomN-ccT",
        "outputId": "46412010-b663-4149-bfb9-93c1d143783d"
      },
      "source": [
        "fig = make_subplots(rows=1, cols=2, subplot_titles=(\"actual\", \"k-means\"))\n",
        "fig.add_trace(\n",
        "    go.Scatter(x=train_x[\"sepal_width\"],\n",
        "               y=train_x[\"sepal_length\"],\n",
        "               mode=\"markers\",\n",
        "               marker=dict(color=test_y)),\n",
        "               row=1, col=1\n",
        ")\n",
        "fig.add_trace(\n",
        "    go.Scatter(x=train_x[\"sepal_width\"],\n",
        "               y=train_x[\"sepal_length\"],\n",
        "               mode=\"markers\",\n",
        "               marker=dict(color=test_cluster)),\n",
        "               row=1, col=2\n",
        ")\n",
        "fig.update_layout(width=800, height=600)\n",
        "fig.show()"
      ],
      "execution_count": 35,
      "outputs": [
        {
          "output_type": "display_data",
          "data": {
            "text/html": [
              "<html>\n",
              "<head><meta charset=\"utf-8\" /></head>\n",
              "<body>\n",
              "    <div>\n",
              "            <script src=\"https://cdnjs.cloudflare.com/ajax/libs/mathjax/2.7.5/MathJax.js?config=TeX-AMS-MML_SVG\"></script><script type=\"text/javascript\">if (window.MathJax) {MathJax.Hub.Config({SVG: {font: \"STIX-Web\"}});}</script>\n",
              "                <script type=\"text/javascript\">window.PlotlyConfig = {MathJaxConfig: 'local'};</script>\n",
              "        <script src=\"https://cdn.plot.ly/plotly-latest.min.js\"></script>    \n",
              "            <div id=\"d712ee2f-7527-4d14-ab0d-6b886eb2d39a\" class=\"plotly-graph-div\" style=\"height:600px; width:800px;\"></div>\n",
              "            <script type=\"text/javascript\">\n",
              "                \n",
              "                    window.PLOTLYENV=window.PLOTLYENV || {};\n",
              "                    \n",
              "                if (document.getElementById(\"d712ee2f-7527-4d14-ab0d-6b886eb2d39a\")) {\n",
              "                    Plotly.newPlot(\n",
              "                        'd712ee2f-7527-4d14-ab0d-6b886eb2d39a',\n",
              "                        [{\"marker\": {\"color\": [2, 2, 0, 1, 2, 2, 0, 0, 0, 1, 1, 1, 1, 0, 0, 1, 2, 1, 1, 2, 1, 2, 2, 2, 1, 2, 2, 0, 1, 1]}, \"mode\": \"markers\", \"type\": \"scatter\", \"x\": [3.4, 2.5, 3.6, 3.1, 3.4, 3.0, 3.2, 3.4, 3.3, 3.1, 3.4, 3.0, 2.6, 2.7, 3.0, 2.7, 2.7, 3.4, 3.0, 3.3, 3.0, 3.2, 3.0, 2.7, 2.5, 3.0, 4.4, 2.8, 3.0, 2.7, 3.4, 2.8, 3.2, 3.5, 2.9, 4.1, 3.3, 2.5, 3.0, 3.1, 2.8, 2.8, 3.9, 3.8, 3.0, 2.5, 2.6, 2.6, 3.2, 3.4, 3.1, 3.1, 3.8, 2.5, 2.8, 3.0, 2.8, 2.5, 2.9, 3.8, 3.2, 2.3, 3.2, 3.0, 3.1, 3.7, 3.0, 2.2, 3.1, 3.0, 3.2, 2.4, 3.0, 2.8, 2.3, 3.1, 4.2, 3.0, 3.8, 4.0, 3.0, 2.5, 3.0, 3.4, 3.0, 3.9, 3.4, 2.8, 3.0, 2.9, 2.2, 3.6, 3.2, 3.2, 2.4, 3.4, 3.4, 2.0, 3.7, 2.8, 3.5, 3.1, 2.6, 3.5, 3.3, 3.5, 3.8, 3.1, 2.8, 3.0, 2.7, 3.0, 3.5, 3.2, 2.3, 2.9, 3.4, 3.0, 2.7, 2.9], \"xaxis\": \"x\", \"y\": [4.6, 4.9, 4.6, 4.9, 6.3, 5.6, 5.9, 4.8, 5.0, 6.9, 5.2, 6.1, 6.1, 5.8, 5.9, 5.2, 5.8, 6.0, 6.0, 5.1, 6.8, 7.0, 7.2, 5.8, 5.5, 5.6, 5.7, 6.3, 6.1, 6.3, 5.4, 5.8, 4.7, 5.0, 6.2, 5.2, 6.7, 5.1, 4.9, 6.9, 6.1, 6.1, 5.4, 7.7, 4.3, 5.7, 5.8, 7.7, 6.9, 6.2, 6.4, 4.8, 5.7, 6.7, 6.8, 6.6, 7.7, 6.3, 6.3, 5.1, 5.0, 5.5, 4.6, 6.5, 6.7, 5.4, 5.7, 6.0, 6.7, 7.1, 6.4, 5.5, 4.8, 6.4, 6.3, 4.9, 5.5, 6.5, 5.1, 5.8, 4.8, 5.6, 6.7, 5.0, 5.0, 5.4, 5.4, 5.6, 4.4, 7.3, 6.2, 7.2, 6.5, 7.2, 5.5, 5.1, 5.0, 5.0, 5.1, 5.7, 5.0, 6.9, 5.5, 5.2, 6.3, 5.1, 5.1, 4.6, 6.4, 7.6, 6.4, 6.5, 5.1, 4.4, 5.0, 6.0, 4.8, 5.9, 5.8, 6.1], \"yaxis\": \"y\"}, {\"marker\": {\"color\": [1, 2, 0, 2, 1, 1, 0, 0, 0, 2, 2, 1, 2, 0, 0, 2, 1, 2, 2, 1, 2, 1, 2, 2, 2, 1, 1, 0, 2, 2]}, \"mode\": \"markers\", \"type\": \"scatter\", \"x\": [3.4, 2.5, 3.6, 3.1, 3.4, 3.0, 3.2, 3.4, 3.3, 3.1, 3.4, 3.0, 2.6, 2.7, 3.0, 2.7, 2.7, 3.4, 3.0, 3.3, 3.0, 3.2, 3.0, 2.7, 2.5, 3.0, 4.4, 2.8, 3.0, 2.7, 3.4, 2.8, 3.2, 3.5, 2.9, 4.1, 3.3, 2.5, 3.0, 3.1, 2.8, 2.8, 3.9, 3.8, 3.0, 2.5, 2.6, 2.6, 3.2, 3.4, 3.1, 3.1, 3.8, 2.5, 2.8, 3.0, 2.8, 2.5, 2.9, 3.8, 3.2, 2.3, 3.2, 3.0, 3.1, 3.7, 3.0, 2.2, 3.1, 3.0, 3.2, 2.4, 3.0, 2.8, 2.3, 3.1, 4.2, 3.0, 3.8, 4.0, 3.0, 2.5, 3.0, 3.4, 3.0, 3.9, 3.4, 2.8, 3.0, 2.9, 2.2, 3.6, 3.2, 3.2, 2.4, 3.4, 3.4, 2.0, 3.7, 2.8, 3.5, 3.1, 2.6, 3.5, 3.3, 3.5, 3.8, 3.1, 2.8, 3.0, 2.7, 3.0, 3.5, 3.2, 2.3, 2.9, 3.4, 3.0, 2.7, 2.9], \"xaxis\": \"x2\", \"y\": [4.6, 4.9, 4.6, 4.9, 6.3, 5.6, 5.9, 4.8, 5.0, 6.9, 5.2, 6.1, 6.1, 5.8, 5.9, 5.2, 5.8, 6.0, 6.0, 5.1, 6.8, 7.0, 7.2, 5.8, 5.5, 5.6, 5.7, 6.3, 6.1, 6.3, 5.4, 5.8, 4.7, 5.0, 6.2, 5.2, 6.7, 5.1, 4.9, 6.9, 6.1, 6.1, 5.4, 7.7, 4.3, 5.7, 5.8, 7.7, 6.9, 6.2, 6.4, 4.8, 5.7, 6.7, 6.8, 6.6, 7.7, 6.3, 6.3, 5.1, 5.0, 5.5, 4.6, 6.5, 6.7, 5.4, 5.7, 6.0, 6.7, 7.1, 6.4, 5.5, 4.8, 6.4, 6.3, 4.9, 5.5, 6.5, 5.1, 5.8, 4.8, 5.6, 6.7, 5.0, 5.0, 5.4, 5.4, 5.6, 4.4, 7.3, 6.2, 7.2, 6.5, 7.2, 5.5, 5.1, 5.0, 5.0, 5.1, 5.7, 5.0, 6.9, 5.5, 5.2, 6.3, 5.1, 5.1, 4.6, 6.4, 7.6, 6.4, 6.5, 5.1, 4.4, 5.0, 6.0, 4.8, 5.9, 5.8, 6.1], \"yaxis\": \"y2\"}],\n",
              "                        {\"annotations\": [{\"font\": {\"size\": 16}, \"showarrow\": false, \"text\": \"actual\", \"x\": 0.225, \"xanchor\": \"center\", \"xref\": \"paper\", \"y\": 1.0, \"yanchor\": \"bottom\", \"yref\": \"paper\"}, {\"font\": {\"size\": 16}, \"showarrow\": false, \"text\": \"k-means\", \"x\": 0.775, \"xanchor\": \"center\", \"xref\": \"paper\", \"y\": 1.0, \"yanchor\": \"bottom\", \"yref\": \"paper\"}], \"height\": 600, \"template\": {\"data\": {\"bar\": [{\"error_x\": {\"color\": \"#2a3f5f\"}, \"error_y\": {\"color\": \"#2a3f5f\"}, \"marker\": {\"line\": {\"color\": \"#E5ECF6\", \"width\": 0.5}}, \"type\": \"bar\"}], \"barpolar\": [{\"marker\": {\"line\": {\"color\": \"#E5ECF6\", \"width\": 0.5}}, \"type\": \"barpolar\"}], \"carpet\": [{\"aaxis\": {\"endlinecolor\": \"#2a3f5f\", \"gridcolor\": \"white\", \"linecolor\": \"white\", \"minorgridcolor\": \"white\", \"startlinecolor\": \"#2a3f5f\"}, \"baxis\": {\"endlinecolor\": \"#2a3f5f\", \"gridcolor\": \"white\", \"linecolor\": \"white\", \"minorgridcolor\": \"white\", \"startlinecolor\": \"#2a3f5f\"}, \"type\": \"carpet\"}], \"choropleth\": [{\"colorbar\": {\"outlinewidth\": 0, \"ticks\": \"\"}, \"type\": \"choropleth\"}], \"contour\": [{\"colorbar\": {\"outlinewidth\": 0, \"ticks\": \"\"}, \"colorscale\": [[0.0, \"#0d0887\"], [0.1111111111111111, \"#46039f\"], [0.2222222222222222, \"#7201a8\"], [0.3333333333333333, \"#9c179e\"], [0.4444444444444444, \"#bd3786\"], [0.5555555555555556, \"#d8576b\"], [0.6666666666666666, \"#ed7953\"], [0.7777777777777778, \"#fb9f3a\"], [0.8888888888888888, \"#fdca26\"], [1.0, \"#f0f921\"]], \"type\": \"contour\"}], \"contourcarpet\": [{\"colorbar\": {\"outlinewidth\": 0, \"ticks\": \"\"}, \"type\": \"contourcarpet\"}], \"heatmap\": [{\"colorbar\": {\"outlinewidth\": 0, \"ticks\": \"\"}, \"colorscale\": [[0.0, \"#0d0887\"], [0.1111111111111111, \"#46039f\"], [0.2222222222222222, \"#7201a8\"], [0.3333333333333333, \"#9c179e\"], [0.4444444444444444, \"#bd3786\"], [0.5555555555555556, \"#d8576b\"], [0.6666666666666666, \"#ed7953\"], [0.7777777777777778, \"#fb9f3a\"], [0.8888888888888888, \"#fdca26\"], [1.0, \"#f0f921\"]], \"type\": \"heatmap\"}], \"heatmapgl\": [{\"colorbar\": {\"outlinewidth\": 0, \"ticks\": \"\"}, \"colorscale\": [[0.0, \"#0d0887\"], [0.1111111111111111, \"#46039f\"], [0.2222222222222222, \"#7201a8\"], [0.3333333333333333, \"#9c179e\"], [0.4444444444444444, \"#bd3786\"], [0.5555555555555556, \"#d8576b\"], [0.6666666666666666, \"#ed7953\"], [0.7777777777777778, \"#fb9f3a\"], [0.8888888888888888, \"#fdca26\"], [1.0, \"#f0f921\"]], \"type\": \"heatmapgl\"}], \"histogram\": [{\"marker\": {\"colorbar\": {\"outlinewidth\": 0, \"ticks\": \"\"}}, \"type\": \"histogram\"}], \"histogram2d\": [{\"colorbar\": {\"outlinewidth\": 0, \"ticks\": \"\"}, \"colorscale\": [[0.0, \"#0d0887\"], [0.1111111111111111, \"#46039f\"], [0.2222222222222222, \"#7201a8\"], [0.3333333333333333, \"#9c179e\"], [0.4444444444444444, \"#bd3786\"], [0.5555555555555556, \"#d8576b\"], [0.6666666666666666, \"#ed7953\"], [0.7777777777777778, \"#fb9f3a\"], [0.8888888888888888, \"#fdca26\"], [1.0, \"#f0f921\"]], \"type\": \"histogram2d\"}], \"histogram2dcontour\": [{\"colorbar\": {\"outlinewidth\": 0, \"ticks\": \"\"}, \"colorscale\": [[0.0, \"#0d0887\"], [0.1111111111111111, \"#46039f\"], [0.2222222222222222, \"#7201a8\"], [0.3333333333333333, \"#9c179e\"], [0.4444444444444444, \"#bd3786\"], [0.5555555555555556, \"#d8576b\"], [0.6666666666666666, \"#ed7953\"], [0.7777777777777778, \"#fb9f3a\"], [0.8888888888888888, \"#fdca26\"], [1.0, \"#f0f921\"]], \"type\": \"histogram2dcontour\"}], \"mesh3d\": [{\"colorbar\": {\"outlinewidth\": 0, \"ticks\": \"\"}, \"type\": \"mesh3d\"}], \"parcoords\": [{\"line\": {\"colorbar\": {\"outlinewidth\": 0, \"ticks\": \"\"}}, \"type\": \"parcoords\"}], \"pie\": [{\"automargin\": true, \"type\": \"pie\"}], \"scatter\": [{\"marker\": {\"colorbar\": {\"outlinewidth\": 0, \"ticks\": \"\"}}, \"type\": \"scatter\"}], \"scatter3d\": [{\"line\": {\"colorbar\": {\"outlinewidth\": 0, \"ticks\": \"\"}}, \"marker\": {\"colorbar\": {\"outlinewidth\": 0, \"ticks\": \"\"}}, \"type\": \"scatter3d\"}], \"scattercarpet\": [{\"marker\": {\"colorbar\": {\"outlinewidth\": 0, \"ticks\": \"\"}}, \"type\": \"scattercarpet\"}], \"scattergeo\": [{\"marker\": {\"colorbar\": {\"outlinewidth\": 0, \"ticks\": \"\"}}, \"type\": \"scattergeo\"}], \"scattergl\": [{\"marker\": {\"colorbar\": {\"outlinewidth\": 0, \"ticks\": \"\"}}, \"type\": \"scattergl\"}], \"scattermapbox\": [{\"marker\": {\"colorbar\": {\"outlinewidth\": 0, \"ticks\": \"\"}}, \"type\": \"scattermapbox\"}], \"scatterpolar\": [{\"marker\": {\"colorbar\": {\"outlinewidth\": 0, \"ticks\": \"\"}}, \"type\": \"scatterpolar\"}], \"scatterpolargl\": [{\"marker\": {\"colorbar\": {\"outlinewidth\": 0, \"ticks\": \"\"}}, \"type\": \"scatterpolargl\"}], \"scatterternary\": [{\"marker\": {\"colorbar\": {\"outlinewidth\": 0, \"ticks\": \"\"}}, \"type\": \"scatterternary\"}], \"surface\": [{\"colorbar\": {\"outlinewidth\": 0, \"ticks\": \"\"}, \"colorscale\": [[0.0, \"#0d0887\"], [0.1111111111111111, \"#46039f\"], [0.2222222222222222, \"#7201a8\"], [0.3333333333333333, \"#9c179e\"], [0.4444444444444444, \"#bd3786\"], [0.5555555555555556, \"#d8576b\"], [0.6666666666666666, \"#ed7953\"], [0.7777777777777778, \"#fb9f3a\"], [0.8888888888888888, \"#fdca26\"], [1.0, \"#f0f921\"]], \"type\": \"surface\"}], \"table\": [{\"cells\": {\"fill\": {\"color\": \"#EBF0F8\"}, \"line\": {\"color\": \"white\"}}, \"header\": {\"fill\": {\"color\": \"#C8D4E3\"}, \"line\": {\"color\": \"white\"}}, \"type\": \"table\"}]}, \"layout\": {\"annotationdefaults\": {\"arrowcolor\": \"#2a3f5f\", \"arrowhead\": 0, \"arrowwidth\": 1}, \"coloraxis\": {\"colorbar\": {\"outlinewidth\": 0, \"ticks\": \"\"}}, \"colorscale\": {\"diverging\": [[0, \"#8e0152\"], [0.1, \"#c51b7d\"], [0.2, \"#de77ae\"], [0.3, \"#f1b6da\"], [0.4, \"#fde0ef\"], [0.5, \"#f7f7f7\"], [0.6, \"#e6f5d0\"], [0.7, \"#b8e186\"], [0.8, \"#7fbc41\"], [0.9, \"#4d9221\"], [1, \"#276419\"]], \"sequential\": [[0.0, \"#0d0887\"], [0.1111111111111111, \"#46039f\"], [0.2222222222222222, \"#7201a8\"], [0.3333333333333333, \"#9c179e\"], [0.4444444444444444, \"#bd3786\"], [0.5555555555555556, \"#d8576b\"], [0.6666666666666666, \"#ed7953\"], [0.7777777777777778, \"#fb9f3a\"], [0.8888888888888888, \"#fdca26\"], [1.0, \"#f0f921\"]], \"sequentialminus\": [[0.0, \"#0d0887\"], [0.1111111111111111, \"#46039f\"], [0.2222222222222222, \"#7201a8\"], [0.3333333333333333, \"#9c179e\"], [0.4444444444444444, \"#bd3786\"], [0.5555555555555556, \"#d8576b\"], [0.6666666666666666, \"#ed7953\"], [0.7777777777777778, \"#fb9f3a\"], [0.8888888888888888, \"#fdca26\"], [1.0, \"#f0f921\"]]}, \"colorway\": [\"#636efa\", \"#EF553B\", \"#00cc96\", \"#ab63fa\", \"#FFA15A\", \"#19d3f3\", \"#FF6692\", \"#B6E880\", \"#FF97FF\", \"#FECB52\"], \"font\": {\"color\": \"#2a3f5f\"}, \"geo\": {\"bgcolor\": \"white\", \"lakecolor\": \"white\", \"landcolor\": \"#E5ECF6\", \"showlakes\": true, \"showland\": true, \"subunitcolor\": \"white\"}, \"hoverlabel\": {\"align\": \"left\"}, \"hovermode\": \"closest\", \"mapbox\": {\"style\": \"light\"}, \"paper_bgcolor\": \"white\", \"plot_bgcolor\": \"#E5ECF6\", \"polar\": {\"angularaxis\": {\"gridcolor\": \"white\", \"linecolor\": \"white\", \"ticks\": \"\"}, \"bgcolor\": \"#E5ECF6\", \"radialaxis\": {\"gridcolor\": \"white\", \"linecolor\": \"white\", \"ticks\": \"\"}}, \"scene\": {\"xaxis\": {\"backgroundcolor\": \"#E5ECF6\", \"gridcolor\": \"white\", \"gridwidth\": 2, \"linecolor\": \"white\", \"showbackground\": true, \"ticks\": \"\", \"zerolinecolor\": \"white\"}, \"yaxis\": {\"backgroundcolor\": \"#E5ECF6\", \"gridcolor\": \"white\", \"gridwidth\": 2, \"linecolor\": \"white\", \"showbackground\": true, \"ticks\": \"\", \"zerolinecolor\": \"white\"}, \"zaxis\": {\"backgroundcolor\": \"#E5ECF6\", \"gridcolor\": \"white\", \"gridwidth\": 2, \"linecolor\": \"white\", \"showbackground\": true, \"ticks\": \"\", \"zerolinecolor\": \"white\"}}, \"shapedefaults\": {\"line\": {\"color\": \"#2a3f5f\"}}, \"ternary\": {\"aaxis\": {\"gridcolor\": \"white\", \"linecolor\": \"white\", \"ticks\": \"\"}, \"baxis\": {\"gridcolor\": \"white\", \"linecolor\": \"white\", \"ticks\": \"\"}, \"bgcolor\": \"#E5ECF6\", \"caxis\": {\"gridcolor\": \"white\", \"linecolor\": \"white\", \"ticks\": \"\"}}, \"title\": {\"x\": 0.05}, \"xaxis\": {\"automargin\": true, \"gridcolor\": \"white\", \"linecolor\": \"white\", \"ticks\": \"\", \"title\": {\"standoff\": 15}, \"zerolinecolor\": \"white\", \"zerolinewidth\": 2}, \"yaxis\": {\"automargin\": true, \"gridcolor\": \"white\", \"linecolor\": \"white\", \"ticks\": \"\", \"title\": {\"standoff\": 15}, \"zerolinecolor\": \"white\", \"zerolinewidth\": 2}}}, \"width\": 800, \"xaxis\": {\"anchor\": \"y\", \"domain\": [0.0, 0.45]}, \"xaxis2\": {\"anchor\": \"y2\", \"domain\": [0.55, 1.0]}, \"yaxis\": {\"anchor\": \"x\", \"domain\": [0.0, 1.0]}, \"yaxis2\": {\"anchor\": \"x2\", \"domain\": [0.0, 1.0]}},\n",
              "                        {\"responsive\": true}\n",
              "                    ).then(function(){\n",
              "                            \n",
              "var gd = document.getElementById('d712ee2f-7527-4d14-ab0d-6b886eb2d39a');\n",
              "var x = new MutationObserver(function (mutations, observer) {{\n",
              "        var display = window.getComputedStyle(gd).display;\n",
              "        if (!display || display === 'none') {{\n",
              "            console.log([gd, 'removed!']);\n",
              "            Plotly.purge(gd);\n",
              "            observer.disconnect();\n",
              "        }}\n",
              "}});\n",
              "\n",
              "// Listen for the removal of the full notebook cells\n",
              "var notebookContainer = gd.closest('#notebook-container');\n",
              "if (notebookContainer) {{\n",
              "    x.observe(notebookContainer, {childList: true});\n",
              "}}\n",
              "\n",
              "// Listen for the clearing of the current output cell\n",
              "var outputEl = gd.closest('.output');\n",
              "if (outputEl) {{\n",
              "    x.observe(outputEl, {childList: true});\n",
              "}}\n",
              "\n",
              "                        })\n",
              "                };\n",
              "                \n",
              "            </script>\n",
              "        </div>\n",
              "</body>\n",
              "</html>"
            ]
          },
          "metadata": {
            "tags": []
          }
        }
      ]
    },
    {
      "cell_type": "code",
      "metadata": {
        "colab": {
          "base_uri": "https://localhost:8080/",
          "height": 617
        },
        "id": "k3pCBe7S-3wL",
        "outputId": "695fca46-0ff4-4218-9d87-19504766dc0d"
      },
      "source": [
        "fig = make_subplots(rows=1, cols=2, subplot_titles=(\"actual\", \"k-means\"))\n",
        "fig.add_trace(\n",
        "    go.Scatter(x=train_x[\"petal_width\"],\n",
        "               y=train_x[\"petal_length\"],\n",
        "               mode=\"markers\",\n",
        "               marker=dict(color=test_y)),\n",
        "               row=1, col=1\n",
        ")\n",
        "fig.add_trace(\n",
        "    go.Scatter(x=train_x[\"petal_width\"],\n",
        "               y=train_x[\"petal_length\"],\n",
        "               mode=\"markers\",\n",
        "               marker=dict(color=test_cluster)),\n",
        "               row=1, col=2\n",
        ")\n",
        "fig.update_layout(width=800, height=600)\n",
        "fig.show()"
      ],
      "execution_count": 36,
      "outputs": [
        {
          "output_type": "display_data",
          "data": {
            "text/html": [
              "<html>\n",
              "<head><meta charset=\"utf-8\" /></head>\n",
              "<body>\n",
              "    <div>\n",
              "            <script src=\"https://cdnjs.cloudflare.com/ajax/libs/mathjax/2.7.5/MathJax.js?config=TeX-AMS-MML_SVG\"></script><script type=\"text/javascript\">if (window.MathJax) {MathJax.Hub.Config({SVG: {font: \"STIX-Web\"}});}</script>\n",
              "                <script type=\"text/javascript\">window.PlotlyConfig = {MathJaxConfig: 'local'};</script>\n",
              "        <script src=\"https://cdn.plot.ly/plotly-latest.min.js\"></script>    \n",
              "            <div id=\"a53a1c16-b500-4137-a7c3-eca35f15c692\" class=\"plotly-graph-div\" style=\"height:600px; width:800px;\"></div>\n",
              "            <script type=\"text/javascript\">\n",
              "                \n",
              "                    window.PLOTLYENV=window.PLOTLYENV || {};\n",
              "                    \n",
              "                if (document.getElementById(\"a53a1c16-b500-4137-a7c3-eca35f15c692\")) {\n",
              "                    Plotly.newPlot(\n",
              "                        'a53a1c16-b500-4137-a7c3-eca35f15c692',\n",
              "                        [{\"marker\": {\"color\": [2, 2, 0, 1, 2, 2, 0, 0, 0, 1, 1, 1, 1, 0, 0, 1, 2, 1, 1, 2, 1, 2, 2, 2, 1, 2, 2, 0, 1, 1]}, \"mode\": \"markers\", \"type\": \"scatter\", \"x\": [0.3, 1.7, 0.2, 0.2, 2.4, 1.3, 1.8, 0.2, 0.2, 2.3, 0.2, 1.8, 1.4, 1.2, 1.8, 1.4, 1.9, 1.6, 1.8, 0.5, 2.1, 1.4, 1.6, 1.0, 1.3, 1.5, 0.4, 1.5, 1.4, 1.8, 0.4, 2.4, 0.2, 0.6, 1.3, 0.1, 2.5, 1.1, 0.2, 1.5, 1.3, 1.2, 0.4, 2.2, 0.1, 2.0, 1.2, 2.3, 2.3, 2.3, 1.8, 0.2, 0.3, 1.8, 1.4, 1.4, 2.0, 1.5, 1.8, 0.4, 0.2, 1.3, 0.2, 1.8, 1.4, 0.2, 1.2, 1.0, 1.5, 2.1, 1.5, 1.1, 0.3, 2.2, 1.3, 0.1, 0.2, 2.0, 0.3, 0.2, 0.1, 1.1, 2.3, 0.4, 0.2, 0.4, 0.2, 2.0, 0.2, 1.8, 1.5, 2.5, 2.0, 1.8, 1.0, 0.2, 0.2, 1.0, 0.4, 1.3, 0.3, 2.1, 1.2, 0.2, 1.6, 0.2, 0.2, 0.2, 2.1, 2.1, 1.9, 2.2, 0.3, 0.2, 1.0, 1.5, 0.2, 1.5, 1.9, 1.4], \"xaxis\": \"x\", \"y\": [1.4, 4.5, 1.0, 1.5, 5.6, 4.1, 4.8, 1.9, 1.4, 5.1, 1.4, 4.9, 5.6, 3.9, 5.1, 3.9, 5.1, 4.5, 4.8, 1.7, 5.5, 4.7, 5.8, 4.1, 4.0, 4.5, 1.5, 5.1, 4.6, 4.9, 1.5, 5.1, 1.6, 1.6, 4.3, 1.5, 5.7, 3.0, 1.4, 4.9, 4.0, 4.7, 1.7, 6.7, 1.1, 5.0, 4.0, 6.9, 5.7, 5.4, 5.5, 1.6, 1.7, 5.8, 4.8, 4.4, 6.7, 4.9, 5.6, 1.9, 1.2, 4.0, 1.4, 5.5, 4.4, 1.5, 4.2, 4.0, 4.7, 5.9, 4.5, 3.8, 1.4, 5.6, 4.4, 1.5, 1.4, 5.2, 1.5, 1.2, 1.4, 3.9, 5.2, 1.6, 1.6, 1.3, 1.7, 4.9, 1.3, 6.3, 4.5, 6.1, 5.1, 6.0, 3.7, 1.5, 1.5, 3.5, 1.5, 4.5, 1.3, 5.4, 4.4, 1.5, 4.7, 1.4, 1.6, 1.5, 5.6, 6.6, 5.3, 5.8, 1.4, 1.3, 3.3, 4.5, 1.6, 4.2, 5.1, 4.7], \"yaxis\": \"y\"}, {\"marker\": {\"color\": [1, 2, 0, 2, 1, 1, 0, 0, 0, 2, 2, 1, 2, 0, 0, 2, 1, 2, 2, 1, 2, 1, 2, 2, 2, 1, 1, 0, 2, 2]}, \"mode\": \"markers\", \"type\": \"scatter\", \"x\": [0.3, 1.7, 0.2, 0.2, 2.4, 1.3, 1.8, 0.2, 0.2, 2.3, 0.2, 1.8, 1.4, 1.2, 1.8, 1.4, 1.9, 1.6, 1.8, 0.5, 2.1, 1.4, 1.6, 1.0, 1.3, 1.5, 0.4, 1.5, 1.4, 1.8, 0.4, 2.4, 0.2, 0.6, 1.3, 0.1, 2.5, 1.1, 0.2, 1.5, 1.3, 1.2, 0.4, 2.2, 0.1, 2.0, 1.2, 2.3, 2.3, 2.3, 1.8, 0.2, 0.3, 1.8, 1.4, 1.4, 2.0, 1.5, 1.8, 0.4, 0.2, 1.3, 0.2, 1.8, 1.4, 0.2, 1.2, 1.0, 1.5, 2.1, 1.5, 1.1, 0.3, 2.2, 1.3, 0.1, 0.2, 2.0, 0.3, 0.2, 0.1, 1.1, 2.3, 0.4, 0.2, 0.4, 0.2, 2.0, 0.2, 1.8, 1.5, 2.5, 2.0, 1.8, 1.0, 0.2, 0.2, 1.0, 0.4, 1.3, 0.3, 2.1, 1.2, 0.2, 1.6, 0.2, 0.2, 0.2, 2.1, 2.1, 1.9, 2.2, 0.3, 0.2, 1.0, 1.5, 0.2, 1.5, 1.9, 1.4], \"xaxis\": \"x2\", \"y\": [1.4, 4.5, 1.0, 1.5, 5.6, 4.1, 4.8, 1.9, 1.4, 5.1, 1.4, 4.9, 5.6, 3.9, 5.1, 3.9, 5.1, 4.5, 4.8, 1.7, 5.5, 4.7, 5.8, 4.1, 4.0, 4.5, 1.5, 5.1, 4.6, 4.9, 1.5, 5.1, 1.6, 1.6, 4.3, 1.5, 5.7, 3.0, 1.4, 4.9, 4.0, 4.7, 1.7, 6.7, 1.1, 5.0, 4.0, 6.9, 5.7, 5.4, 5.5, 1.6, 1.7, 5.8, 4.8, 4.4, 6.7, 4.9, 5.6, 1.9, 1.2, 4.0, 1.4, 5.5, 4.4, 1.5, 4.2, 4.0, 4.7, 5.9, 4.5, 3.8, 1.4, 5.6, 4.4, 1.5, 1.4, 5.2, 1.5, 1.2, 1.4, 3.9, 5.2, 1.6, 1.6, 1.3, 1.7, 4.9, 1.3, 6.3, 4.5, 6.1, 5.1, 6.0, 3.7, 1.5, 1.5, 3.5, 1.5, 4.5, 1.3, 5.4, 4.4, 1.5, 4.7, 1.4, 1.6, 1.5, 5.6, 6.6, 5.3, 5.8, 1.4, 1.3, 3.3, 4.5, 1.6, 4.2, 5.1, 4.7], \"yaxis\": \"y2\"}],\n",
              "                        {\"annotations\": [{\"font\": {\"size\": 16}, \"showarrow\": false, \"text\": \"actual\", \"x\": 0.225, \"xanchor\": \"center\", \"xref\": \"paper\", \"y\": 1.0, \"yanchor\": \"bottom\", \"yref\": \"paper\"}, {\"font\": {\"size\": 16}, \"showarrow\": false, \"text\": \"k-means\", \"x\": 0.775, \"xanchor\": \"center\", \"xref\": \"paper\", \"y\": 1.0, \"yanchor\": \"bottom\", \"yref\": \"paper\"}], \"height\": 600, \"template\": {\"data\": {\"bar\": [{\"error_x\": {\"color\": \"#2a3f5f\"}, \"error_y\": {\"color\": \"#2a3f5f\"}, \"marker\": {\"line\": {\"color\": \"#E5ECF6\", \"width\": 0.5}}, \"type\": \"bar\"}], \"barpolar\": [{\"marker\": {\"line\": {\"color\": \"#E5ECF6\", \"width\": 0.5}}, \"type\": \"barpolar\"}], \"carpet\": [{\"aaxis\": {\"endlinecolor\": \"#2a3f5f\", \"gridcolor\": \"white\", \"linecolor\": \"white\", \"minorgridcolor\": \"white\", \"startlinecolor\": \"#2a3f5f\"}, \"baxis\": {\"endlinecolor\": \"#2a3f5f\", \"gridcolor\": \"white\", \"linecolor\": \"white\", \"minorgridcolor\": \"white\", \"startlinecolor\": \"#2a3f5f\"}, \"type\": \"carpet\"}], \"choropleth\": [{\"colorbar\": {\"outlinewidth\": 0, \"ticks\": \"\"}, \"type\": \"choropleth\"}], \"contour\": [{\"colorbar\": {\"outlinewidth\": 0, \"ticks\": \"\"}, \"colorscale\": [[0.0, \"#0d0887\"], [0.1111111111111111, \"#46039f\"], [0.2222222222222222, \"#7201a8\"], [0.3333333333333333, \"#9c179e\"], [0.4444444444444444, \"#bd3786\"], [0.5555555555555556, \"#d8576b\"], [0.6666666666666666, \"#ed7953\"], [0.7777777777777778, \"#fb9f3a\"], [0.8888888888888888, \"#fdca26\"], [1.0, \"#f0f921\"]], \"type\": \"contour\"}], \"contourcarpet\": [{\"colorbar\": {\"outlinewidth\": 0, \"ticks\": \"\"}, \"type\": \"contourcarpet\"}], \"heatmap\": [{\"colorbar\": {\"outlinewidth\": 0, \"ticks\": \"\"}, \"colorscale\": [[0.0, \"#0d0887\"], [0.1111111111111111, \"#46039f\"], [0.2222222222222222, \"#7201a8\"], [0.3333333333333333, \"#9c179e\"], [0.4444444444444444, \"#bd3786\"], [0.5555555555555556, \"#d8576b\"], [0.6666666666666666, \"#ed7953\"], [0.7777777777777778, \"#fb9f3a\"], [0.8888888888888888, \"#fdca26\"], [1.0, \"#f0f921\"]], \"type\": \"heatmap\"}], \"heatmapgl\": [{\"colorbar\": {\"outlinewidth\": 0, \"ticks\": \"\"}, \"colorscale\": [[0.0, \"#0d0887\"], [0.1111111111111111, \"#46039f\"], [0.2222222222222222, \"#7201a8\"], [0.3333333333333333, \"#9c179e\"], [0.4444444444444444, \"#bd3786\"], [0.5555555555555556, \"#d8576b\"], [0.6666666666666666, \"#ed7953\"], [0.7777777777777778, \"#fb9f3a\"], [0.8888888888888888, \"#fdca26\"], [1.0, \"#f0f921\"]], \"type\": \"heatmapgl\"}], \"histogram\": [{\"marker\": {\"colorbar\": {\"outlinewidth\": 0, \"ticks\": \"\"}}, \"type\": \"histogram\"}], \"histogram2d\": [{\"colorbar\": {\"outlinewidth\": 0, \"ticks\": \"\"}, \"colorscale\": [[0.0, \"#0d0887\"], [0.1111111111111111, \"#46039f\"], [0.2222222222222222, \"#7201a8\"], [0.3333333333333333, \"#9c179e\"], [0.4444444444444444, \"#bd3786\"], [0.5555555555555556, \"#d8576b\"], [0.6666666666666666, \"#ed7953\"], [0.7777777777777778, \"#fb9f3a\"], [0.8888888888888888, \"#fdca26\"], [1.0, \"#f0f921\"]], \"type\": \"histogram2d\"}], \"histogram2dcontour\": [{\"colorbar\": {\"outlinewidth\": 0, \"ticks\": \"\"}, \"colorscale\": [[0.0, \"#0d0887\"], [0.1111111111111111, \"#46039f\"], [0.2222222222222222, \"#7201a8\"], [0.3333333333333333, \"#9c179e\"], [0.4444444444444444, \"#bd3786\"], [0.5555555555555556, \"#d8576b\"], [0.6666666666666666, \"#ed7953\"], [0.7777777777777778, \"#fb9f3a\"], [0.8888888888888888, \"#fdca26\"], [1.0, \"#f0f921\"]], \"type\": \"histogram2dcontour\"}], \"mesh3d\": [{\"colorbar\": {\"outlinewidth\": 0, \"ticks\": \"\"}, \"type\": \"mesh3d\"}], \"parcoords\": [{\"line\": {\"colorbar\": {\"outlinewidth\": 0, \"ticks\": \"\"}}, \"type\": \"parcoords\"}], \"pie\": [{\"automargin\": true, \"type\": \"pie\"}], \"scatter\": [{\"marker\": {\"colorbar\": {\"outlinewidth\": 0, \"ticks\": \"\"}}, \"type\": \"scatter\"}], \"scatter3d\": [{\"line\": {\"colorbar\": {\"outlinewidth\": 0, \"ticks\": \"\"}}, \"marker\": {\"colorbar\": {\"outlinewidth\": 0, \"ticks\": \"\"}}, \"type\": \"scatter3d\"}], \"scattercarpet\": [{\"marker\": {\"colorbar\": {\"outlinewidth\": 0, \"ticks\": \"\"}}, \"type\": \"scattercarpet\"}], \"scattergeo\": [{\"marker\": {\"colorbar\": {\"outlinewidth\": 0, \"ticks\": \"\"}}, \"type\": \"scattergeo\"}], \"scattergl\": [{\"marker\": {\"colorbar\": {\"outlinewidth\": 0, \"ticks\": \"\"}}, \"type\": \"scattergl\"}], \"scattermapbox\": [{\"marker\": {\"colorbar\": {\"outlinewidth\": 0, \"ticks\": \"\"}}, \"type\": \"scattermapbox\"}], \"scatterpolar\": [{\"marker\": {\"colorbar\": {\"outlinewidth\": 0, \"ticks\": \"\"}}, \"type\": \"scatterpolar\"}], \"scatterpolargl\": [{\"marker\": {\"colorbar\": {\"outlinewidth\": 0, \"ticks\": \"\"}}, \"type\": \"scatterpolargl\"}], \"scatterternary\": [{\"marker\": {\"colorbar\": {\"outlinewidth\": 0, \"ticks\": \"\"}}, \"type\": \"scatterternary\"}], \"surface\": [{\"colorbar\": {\"outlinewidth\": 0, \"ticks\": \"\"}, \"colorscale\": [[0.0, \"#0d0887\"], [0.1111111111111111, \"#46039f\"], [0.2222222222222222, \"#7201a8\"], [0.3333333333333333, \"#9c179e\"], [0.4444444444444444, \"#bd3786\"], [0.5555555555555556, \"#d8576b\"], [0.6666666666666666, \"#ed7953\"], [0.7777777777777778, \"#fb9f3a\"], [0.8888888888888888, \"#fdca26\"], [1.0, \"#f0f921\"]], \"type\": \"surface\"}], \"table\": [{\"cells\": {\"fill\": {\"color\": \"#EBF0F8\"}, \"line\": {\"color\": \"white\"}}, \"header\": {\"fill\": {\"color\": \"#C8D4E3\"}, \"line\": {\"color\": \"white\"}}, \"type\": \"table\"}]}, \"layout\": {\"annotationdefaults\": {\"arrowcolor\": \"#2a3f5f\", \"arrowhead\": 0, \"arrowwidth\": 1}, \"coloraxis\": {\"colorbar\": {\"outlinewidth\": 0, \"ticks\": \"\"}}, \"colorscale\": {\"diverging\": [[0, \"#8e0152\"], [0.1, \"#c51b7d\"], [0.2, \"#de77ae\"], [0.3, \"#f1b6da\"], [0.4, \"#fde0ef\"], [0.5, \"#f7f7f7\"], [0.6, \"#e6f5d0\"], [0.7, \"#b8e186\"], [0.8, \"#7fbc41\"], [0.9, \"#4d9221\"], [1, \"#276419\"]], \"sequential\": [[0.0, \"#0d0887\"], [0.1111111111111111, \"#46039f\"], [0.2222222222222222, \"#7201a8\"], [0.3333333333333333, \"#9c179e\"], [0.4444444444444444, \"#bd3786\"], [0.5555555555555556, \"#d8576b\"], [0.6666666666666666, \"#ed7953\"], [0.7777777777777778, \"#fb9f3a\"], [0.8888888888888888, \"#fdca26\"], [1.0, \"#f0f921\"]], \"sequentialminus\": [[0.0, \"#0d0887\"], [0.1111111111111111, \"#46039f\"], [0.2222222222222222, \"#7201a8\"], [0.3333333333333333, \"#9c179e\"], [0.4444444444444444, \"#bd3786\"], [0.5555555555555556, \"#d8576b\"], [0.6666666666666666, \"#ed7953\"], [0.7777777777777778, \"#fb9f3a\"], [0.8888888888888888, \"#fdca26\"], [1.0, \"#f0f921\"]]}, \"colorway\": [\"#636efa\", \"#EF553B\", \"#00cc96\", \"#ab63fa\", \"#FFA15A\", \"#19d3f3\", \"#FF6692\", \"#B6E880\", \"#FF97FF\", \"#FECB52\"], \"font\": {\"color\": \"#2a3f5f\"}, \"geo\": {\"bgcolor\": \"white\", \"lakecolor\": \"white\", \"landcolor\": \"#E5ECF6\", \"showlakes\": true, \"showland\": true, \"subunitcolor\": \"white\"}, \"hoverlabel\": {\"align\": \"left\"}, \"hovermode\": \"closest\", \"mapbox\": {\"style\": \"light\"}, \"paper_bgcolor\": \"white\", \"plot_bgcolor\": \"#E5ECF6\", \"polar\": {\"angularaxis\": {\"gridcolor\": \"white\", \"linecolor\": \"white\", \"ticks\": \"\"}, \"bgcolor\": \"#E5ECF6\", \"radialaxis\": {\"gridcolor\": \"white\", \"linecolor\": \"white\", \"ticks\": \"\"}}, \"scene\": {\"xaxis\": {\"backgroundcolor\": \"#E5ECF6\", \"gridcolor\": \"white\", \"gridwidth\": 2, \"linecolor\": \"white\", \"showbackground\": true, \"ticks\": \"\", \"zerolinecolor\": \"white\"}, \"yaxis\": {\"backgroundcolor\": \"#E5ECF6\", \"gridcolor\": \"white\", \"gridwidth\": 2, \"linecolor\": \"white\", \"showbackground\": true, \"ticks\": \"\", \"zerolinecolor\": \"white\"}, \"zaxis\": {\"backgroundcolor\": \"#E5ECF6\", \"gridcolor\": \"white\", \"gridwidth\": 2, \"linecolor\": \"white\", \"showbackground\": true, \"ticks\": \"\", \"zerolinecolor\": \"white\"}}, \"shapedefaults\": {\"line\": {\"color\": \"#2a3f5f\"}}, \"ternary\": {\"aaxis\": {\"gridcolor\": \"white\", \"linecolor\": \"white\", \"ticks\": \"\"}, \"baxis\": {\"gridcolor\": \"white\", \"linecolor\": \"white\", \"ticks\": \"\"}, \"bgcolor\": \"#E5ECF6\", \"caxis\": {\"gridcolor\": \"white\", \"linecolor\": \"white\", \"ticks\": \"\"}}, \"title\": {\"x\": 0.05}, \"xaxis\": {\"automargin\": true, \"gridcolor\": \"white\", \"linecolor\": \"white\", \"ticks\": \"\", \"title\": {\"standoff\": 15}, \"zerolinecolor\": \"white\", \"zerolinewidth\": 2}, \"yaxis\": {\"automargin\": true, \"gridcolor\": \"white\", \"linecolor\": \"white\", \"ticks\": \"\", \"title\": {\"standoff\": 15}, \"zerolinecolor\": \"white\", \"zerolinewidth\": 2}}}, \"width\": 800, \"xaxis\": {\"anchor\": \"y\", \"domain\": [0.0, 0.45]}, \"xaxis2\": {\"anchor\": \"y2\", \"domain\": [0.55, 1.0]}, \"yaxis\": {\"anchor\": \"x\", \"domain\": [0.0, 1.0]}, \"yaxis2\": {\"anchor\": \"x2\", \"domain\": [0.0, 1.0]}},\n",
              "                        {\"responsive\": true}\n",
              "                    ).then(function(){\n",
              "                            \n",
              "var gd = document.getElementById('a53a1c16-b500-4137-a7c3-eca35f15c692');\n",
              "var x = new MutationObserver(function (mutations, observer) {{\n",
              "        var display = window.getComputedStyle(gd).display;\n",
              "        if (!display || display === 'none') {{\n",
              "            console.log([gd, 'removed!']);\n",
              "            Plotly.purge(gd);\n",
              "            observer.disconnect();\n",
              "        }}\n",
              "}});\n",
              "\n",
              "// Listen for the removal of the full notebook cells\n",
              "var notebookContainer = gd.closest('#notebook-container');\n",
              "if (notebookContainer) {{\n",
              "    x.observe(notebookContainer, {childList: true});\n",
              "}}\n",
              "\n",
              "// Listen for the clearing of the current output cell\n",
              "var outputEl = gd.closest('.output');\n",
              "if (outputEl) {{\n",
              "    x.observe(outputEl, {childList: true});\n",
              "}}\n",
              "\n",
              "                        })\n",
              "                };\n",
              "                \n",
              "            </script>\n",
              "        </div>\n",
              "</body>\n",
              "</html>"
            ]
          },
          "metadata": {
            "tags": []
          }
        }
      ]
    },
    {
      "cell_type": "code",
      "metadata": {
        "colab": {
          "base_uri": "https://localhost:8080/"
        },
        "id": "YYZVIoJ7-8_r",
        "outputId": "7775c2a1-182c-4f9e-8035-7f793271925e"
      },
      "source": [
        "# 수치화 평가 - accuracy score\n",
        "from sklearn.metrics import accuracy_score\n",
        "\n",
        "train_acc = accuracy_score(train_y, train_cluster)\n",
        "print(train_acc)"
      ],
      "execution_count": 37,
      "outputs": [
        {
          "output_type": "stream",
          "text": [
            "0.016666666666666666\n"
          ],
          "name": "stdout"
        }
      ]
    },
    {
      "cell_type": "code",
      "metadata": {
        "colab": {
          "base_uri": "https://localhost:8080/"
        },
        "id": "-BVRmzlW__P6",
        "outputId": "064c38b7-41bb-49aa-cf59-167bf851eede"
      },
      "source": [
        "test_acc = accuracy_score(test_y, test_cluster)\n",
        "print(test_acc)"
      ],
      "execution_count": 38,
      "outputs": [
        {
          "output_type": "stream",
          "text": [
            "0.36666666666666664\n"
          ],
          "name": "stdout"
        }
      ]
    },
    {
      "cell_type": "code",
      "metadata": {
        "id": "XJSITbaJAH63"
      },
      "source": [
        "# 실제 cluster명과 매칭해주는 함수 만들기\n",
        "import scipy\n",
        "\n",
        "def find_matching_cluster(cluster_case, actual_labels, cluster_labels):\n",
        "  matched_cluster={}\n",
        "  actual_case = list(set(actual_labels))\n",
        "  for i in cluster_case:\n",
        "    idx = cluster_labels == i\n",
        "    new_label = scipy.stats.mode(actual_labels[idx])[0][0]\n",
        "    actual_case.remove(new_label)\n",
        "    matched_cluster[i] = new_label\n",
        "    print(f\"훈련된 label명 : {i} >> 가장 빈번한 실제 label명 : {new_label}\")\n",
        "  return matched_cluster"
      ],
      "execution_count": 39,
      "outputs": []
    },
    {
      "cell_type": "code",
      "metadata": {
        "colab": {
          "base_uri": "https://localhost:8080/"
        },
        "id": "2SEiRse7BZjr",
        "outputId": "dc4c7f9e-49c4-4279-9b5d-2dd063e67068"
      },
      "source": [
        "km_train_case = list(set(train_cluster))\n",
        "print(km_train_case)"
      ],
      "execution_count": 40,
      "outputs": [
        {
          "output_type": "stream",
          "text": [
            "[0, 1, 2]\n"
          ],
          "name": "stdout"
        }
      ]
    },
    {
      "cell_type": "code",
      "metadata": {
        "colab": {
          "base_uri": "https://localhost:8080/"
        },
        "id": "JwMB4eyIBcoO",
        "outputId": "52468d62-437a-4f16-c642-0400ca9441c8"
      },
      "source": [
        "train_param_dict = find_matching_cluster(km_train_case, train_y,train_cluster)\n",
        "train_param_dict"
      ],
      "execution_count": 41,
      "outputs": [
        {
          "output_type": "stream",
          "text": [
            "훈련된 label명 : 0 >> 가장 빈번한 실제 label명 : 1\n",
            "훈련된 label명 : 1 >> 가장 빈번한 실제 label명 : 2\n",
            "훈련된 label명 : 2 >> 가장 빈번한 실제 label명 : 0\n"
          ],
          "name": "stdout"
        },
        {
          "output_type": "execute_result",
          "data": {
            "text/plain": [
              "{0: 1, 1: 2, 2: 0}"
            ]
          },
          "metadata": {
            "tags": []
          },
          "execution_count": 41
        }
      ]
    },
    {
      "cell_type": "code",
      "metadata": {
        "colab": {
          "base_uri": "https://localhost:8080/"
        },
        "id": "JxauE0PEBlQ_",
        "outputId": "c38e47e1-e664-4be1-eb46-a129fc72f5b3"
      },
      "source": [
        "km_test_case = list(set(test_cluster))\n",
        "print(km_test_case)"
      ],
      "execution_count": 42,
      "outputs": [
        {
          "output_type": "stream",
          "text": [
            "[0, 1, 2]\n"
          ],
          "name": "stdout"
        }
      ]
    },
    {
      "cell_type": "code",
      "metadata": {
        "colab": {
          "base_uri": "https://localhost:8080/"
        },
        "id": "LJproY8kCWbV",
        "outputId": "63eb5b6d-1c25-4d51-b593-244f90eabf33"
      },
      "source": [
        "test_param_dict = find_matching_cluster(km_test_case, test_y,test_cluster)\n",
        "test_param_dict"
      ],
      "execution_count": 43,
      "outputs": [
        {
          "output_type": "stream",
          "text": [
            "훈련된 label명 : 0 >> 가장 빈번한 실제 label명 : 0\n",
            "훈련된 label명 : 1 >> 가장 빈번한 실제 label명 : 2\n",
            "훈련된 label명 : 2 >> 가장 빈번한 실제 label명 : 1\n"
          ],
          "name": "stdout"
        },
        {
          "output_type": "execute_result",
          "data": {
            "text/plain": [
              "{0: 0, 1: 2, 2: 1}"
            ]
          },
          "metadata": {
            "tags": []
          },
          "execution_count": 43
        }
      ]
    },
    {
      "cell_type": "code",
      "metadata": {
        "id": "RzGiG-5ICaXg"
      },
      "source": [
        "train_new_labels = [train_param_dict[label] for label in train_cluster]\n",
        "test_new_labels = [test_param_dict[label] for label in test_cluster]"
      ],
      "execution_count": 44,
      "outputs": []
    },
    {
      "cell_type": "code",
      "metadata": {
        "id": "G-PDW3ihCwxb"
      },
      "source": [
        ""
      ],
      "execution_count": 44,
      "outputs": []
    },
    {
      "cell_type": "code",
      "metadata": {
        "colab": {
          "base_uri": "https://localhost:8080/"
        },
        "id": "9MtB1_thCyHU",
        "outputId": "e888111c-73a7-4091-83c4-4d88d1e22445"
      },
      "source": [
        "train_acc = accuracy_score(train_y, train_new_labels)\n",
        "test_acc = accuracy_score(test_y, test_new_labels)\n",
        "\n",
        "print(train_acc, test_acc)"
      ],
      "execution_count": 45,
      "outputs": [
        {
          "output_type": "stream",
          "text": [
            "0.8916666666666667 0.8666666666666667\n"
          ],
          "name": "stdout"
        }
      ]
    },
    {
      "cell_type": "markdown",
      "metadata": {
        "id": "OJ0jkNSTrRqc"
      },
      "source": [
        "### Clustering : Agglomerative 알고리즘(계층군집)\n",
        "- 데이터 자체의 분포와 어떻게 grouping을 하고자 하는지에 따라 다른 알고리즘이 사용될 수 있음."
      ]
    },
    {
      "cell_type": "markdown",
      "metadata": {
        "id": "daJ3eFCGrY26"
      },
      "source": [
        "### Kmeans VS Agglomerative 비교"
      ]
    },
    {
      "cell_type": "markdown",
      "metadata": {
        "id": "Ef3U-TGXrfGI"
      },
      "source": [
        "[k-means 최적의 환경]\n",
        "- 원형 혹은 구 형태의 분포\n",
        "- 동일한 데이터 분포\n",
        "- 동일한 밀집도\n",
        "- 군집의 센터에 주로 밀집된 분포\n",
        "- Noise와 outlier가 적은 분포"
      ]
    },
    {
      "cell_type": "markdown",
      "metadata": {
        "id": "GO9H61oorubW"
      },
      "source": [
        "[k-means의 민감성]\n",
        "- Noise와 outlier에 민감함\n",
        "- 처음 시작하는 점에 따라 결과에 영향을 줌.\n",
        "- k값을 직접 설정해야하는 어려움이 있음."
      ]
    },
    {
      "cell_type": "code",
      "metadata": {
        "id": "5m5Jrw0WrJT7"
      },
      "source": [
        "# Agglomerative 모듈 import\n",
        "from sklearn.cluster import AgglomerativeClustering"
      ],
      "execution_count": 46,
      "outputs": []
    },
    {
      "cell_type": "code",
      "metadata": {
        "id": "ace5YAWZC74h",
        "colab": {
          "base_uri": "https://localhost:8080/"
        },
        "outputId": "ea66c791-a464-4cb7-d182-343d93cdbf31"
      },
      "source": [
        "agg1 = AgglomerativeClustering(n_clusters=3, linkage=\"ward\", affinity='euclidean').fit(train_x)\n",
        "agg1"
      ],
      "execution_count": 47,
      "outputs": [
        {
          "output_type": "execute_result",
          "data": {
            "text/plain": [
              "AgglomerativeClustering(affinity='euclidean', compute_full_tree='auto',\n",
              "                        connectivity=None, distance_threshold=None,\n",
              "                        linkage='ward', memory=None, n_clusters=3)"
            ]
          },
          "metadata": {
            "tags": []
          },
          "execution_count": 47
        }
      ]
    },
    {
      "cell_type": "code",
      "metadata": {
        "colab": {
          "base_uri": "https://localhost:8080/",
          "height": 617
        },
        "id": "FT_tN1pNsxuk",
        "outputId": "6ca50bab-3e07-4bfd-d6df-fad87b9e7fd4"
      },
      "source": [
        "# 훈련된 label 저장\n",
        "agg1_labels = agg1.labels_\n",
        "\n",
        "# 원래의 label과 Agglomerative 알고리즘 결과를 시각화로 비교\n",
        "fig = make_subplots(rows=1, cols=2, subplot_titles=(\"actual\", \"agg1_cluster\"))\n",
        "\n",
        "fig.add_trace(\n",
        "    go.Scatter(x=train_x[\"sepal_width\"],\n",
        "               y=train_x[\"sepal_length\"],\n",
        "               mode=\"markers\",\n",
        "               marker=dict(color=train_y)),\n",
        "    row=1, col=1\n",
        ")\n",
        "\n",
        "fig.add_trace(\n",
        "    go.Scatter(x=train_x[\"sepal_width\"],\n",
        "               y=train_x[\"sepal_length\"],\n",
        "               mode=\"markers\",\n",
        "               marker=dict(color=agg1_labels)),\n",
        "    row=1, col=2\n",
        ")\n",
        "\n",
        "fig.update_layout(height=600, width=800)\n",
        "fig.show()"
      ],
      "execution_count": 48,
      "outputs": [
        {
          "output_type": "display_data",
          "data": {
            "text/html": [
              "<html>\n",
              "<head><meta charset=\"utf-8\" /></head>\n",
              "<body>\n",
              "    <div>\n",
              "            <script src=\"https://cdnjs.cloudflare.com/ajax/libs/mathjax/2.7.5/MathJax.js?config=TeX-AMS-MML_SVG\"></script><script type=\"text/javascript\">if (window.MathJax) {MathJax.Hub.Config({SVG: {font: \"STIX-Web\"}});}</script>\n",
              "                <script type=\"text/javascript\">window.PlotlyConfig = {MathJaxConfig: 'local'};</script>\n",
              "        <script src=\"https://cdn.plot.ly/plotly-latest.min.js\"></script>    \n",
              "            <div id=\"25882c72-be26-4719-babf-7b090f2ae1d8\" class=\"plotly-graph-div\" style=\"height:600px; width:800px;\"></div>\n",
              "            <script type=\"text/javascript\">\n",
              "                \n",
              "                    window.PLOTLYENV=window.PLOTLYENV || {};\n",
              "                    \n",
              "                if (document.getElementById(\"25882c72-be26-4719-babf-7b090f2ae1d8\")) {\n",
              "                    Plotly.newPlot(\n",
              "                        '25882c72-be26-4719-babf-7b090f2ae1d8',\n",
              "                        [{\"marker\": {\"color\": [0, 2, 0, 0, 2, 1, 1, 0, 0, 2, 0, 2, 2, 1, 2, 1, 2, 1, 2, 0, 2, 1, 2, 1, 1, 1, 0, 2, 1, 2, 0, 2, 0, 0, 1, 0, 2, 1, 0, 1, 1, 1, 0, 2, 0, 2, 1, 2, 2, 2, 2, 0, 0, 2, 1, 1, 2, 1, 2, 0, 0, 1, 0, 2, 1, 0, 1, 1, 1, 2, 1, 1, 0, 2, 1, 0, 0, 2, 0, 0, 0, 1, 2, 0, 0, 0, 0, 2, 0, 2, 1, 2, 2, 2, 1, 0, 0, 1, 0, 1, 0, 2, 1, 0, 1, 0, 0, 0, 2, 2, 2, 2, 0, 0, 1, 1, 0, 1, 2, 1]}, \"mode\": \"markers\", \"type\": \"scatter\", \"x\": [3.4, 2.5, 3.6, 3.1, 3.4, 3.0, 3.2, 3.4, 3.3, 3.1, 3.4, 3.0, 2.6, 2.7, 3.0, 2.7, 2.7, 3.4, 3.0, 3.3, 3.0, 3.2, 3.0, 2.7, 2.5, 3.0, 4.4, 2.8, 3.0, 2.7, 3.4, 2.8, 3.2, 3.5, 2.9, 4.1, 3.3, 2.5, 3.0, 3.1, 2.8, 2.8, 3.9, 3.8, 3.0, 2.5, 2.6, 2.6, 3.2, 3.4, 3.1, 3.1, 3.8, 2.5, 2.8, 3.0, 2.8, 2.5, 2.9, 3.8, 3.2, 2.3, 3.2, 3.0, 3.1, 3.7, 3.0, 2.2, 3.1, 3.0, 3.2, 2.4, 3.0, 2.8, 2.3, 3.1, 4.2, 3.0, 3.8, 4.0, 3.0, 2.5, 3.0, 3.4, 3.0, 3.9, 3.4, 2.8, 3.0, 2.9, 2.2, 3.6, 3.2, 3.2, 2.4, 3.4, 3.4, 2.0, 3.7, 2.8, 3.5, 3.1, 2.6, 3.5, 3.3, 3.5, 3.8, 3.1, 2.8, 3.0, 2.7, 3.0, 3.5, 3.2, 2.3, 2.9, 3.4, 3.0, 2.7, 2.9], \"xaxis\": \"x\", \"y\": [4.6, 4.9, 4.6, 4.9, 6.3, 5.6, 5.9, 4.8, 5.0, 6.9, 5.2, 6.1, 6.1, 5.8, 5.9, 5.2, 5.8, 6.0, 6.0, 5.1, 6.8, 7.0, 7.2, 5.8, 5.5, 5.6, 5.7, 6.3, 6.1, 6.3, 5.4, 5.8, 4.7, 5.0, 6.2, 5.2, 6.7, 5.1, 4.9, 6.9, 6.1, 6.1, 5.4, 7.7, 4.3, 5.7, 5.8, 7.7, 6.9, 6.2, 6.4, 4.8, 5.7, 6.7, 6.8, 6.6, 7.7, 6.3, 6.3, 5.1, 5.0, 5.5, 4.6, 6.5, 6.7, 5.4, 5.7, 6.0, 6.7, 7.1, 6.4, 5.5, 4.8, 6.4, 6.3, 4.9, 5.5, 6.5, 5.1, 5.8, 4.8, 5.6, 6.7, 5.0, 5.0, 5.4, 5.4, 5.6, 4.4, 7.3, 6.2, 7.2, 6.5, 7.2, 5.5, 5.1, 5.0, 5.0, 5.1, 5.7, 5.0, 6.9, 5.5, 5.2, 6.3, 5.1, 5.1, 4.6, 6.4, 7.6, 6.4, 6.5, 5.1, 4.4, 5.0, 6.0, 4.8, 5.9, 5.8, 6.1], \"yaxis\": \"y\"}, {\"marker\": {\"color\": [1, 0, 1, 1, 2, 0, 0, 1, 1, 2, 1, 0, 0, 0, 0, 0, 0, 0, 0, 1, 2, 0, 2, 0, 0, 0, 1, 0, 0, 0, 1, 0, 1, 1, 0, 1, 2, 0, 1, 0, 0, 0, 1, 2, 1, 0, 0, 2, 2, 2, 2, 1, 1, 2, 0, 0, 2, 0, 2, 1, 1, 0, 1, 2, 0, 1, 0, 0, 0, 2, 0, 0, 1, 2, 0, 1, 1, 2, 1, 1, 1, 0, 2, 1, 1, 1, 1, 0, 1, 2, 0, 2, 2, 2, 0, 1, 1, 0, 1, 0, 1, 2, 0, 1, 0, 1, 1, 1, 2, 2, 2, 2, 1, 1, 0, 0, 1, 0, 0, 0]}, \"mode\": \"markers\", \"type\": \"scatter\", \"x\": [3.4, 2.5, 3.6, 3.1, 3.4, 3.0, 3.2, 3.4, 3.3, 3.1, 3.4, 3.0, 2.6, 2.7, 3.0, 2.7, 2.7, 3.4, 3.0, 3.3, 3.0, 3.2, 3.0, 2.7, 2.5, 3.0, 4.4, 2.8, 3.0, 2.7, 3.4, 2.8, 3.2, 3.5, 2.9, 4.1, 3.3, 2.5, 3.0, 3.1, 2.8, 2.8, 3.9, 3.8, 3.0, 2.5, 2.6, 2.6, 3.2, 3.4, 3.1, 3.1, 3.8, 2.5, 2.8, 3.0, 2.8, 2.5, 2.9, 3.8, 3.2, 2.3, 3.2, 3.0, 3.1, 3.7, 3.0, 2.2, 3.1, 3.0, 3.2, 2.4, 3.0, 2.8, 2.3, 3.1, 4.2, 3.0, 3.8, 4.0, 3.0, 2.5, 3.0, 3.4, 3.0, 3.9, 3.4, 2.8, 3.0, 2.9, 2.2, 3.6, 3.2, 3.2, 2.4, 3.4, 3.4, 2.0, 3.7, 2.8, 3.5, 3.1, 2.6, 3.5, 3.3, 3.5, 3.8, 3.1, 2.8, 3.0, 2.7, 3.0, 3.5, 3.2, 2.3, 2.9, 3.4, 3.0, 2.7, 2.9], \"xaxis\": \"x2\", \"y\": [4.6, 4.9, 4.6, 4.9, 6.3, 5.6, 5.9, 4.8, 5.0, 6.9, 5.2, 6.1, 6.1, 5.8, 5.9, 5.2, 5.8, 6.0, 6.0, 5.1, 6.8, 7.0, 7.2, 5.8, 5.5, 5.6, 5.7, 6.3, 6.1, 6.3, 5.4, 5.8, 4.7, 5.0, 6.2, 5.2, 6.7, 5.1, 4.9, 6.9, 6.1, 6.1, 5.4, 7.7, 4.3, 5.7, 5.8, 7.7, 6.9, 6.2, 6.4, 4.8, 5.7, 6.7, 6.8, 6.6, 7.7, 6.3, 6.3, 5.1, 5.0, 5.5, 4.6, 6.5, 6.7, 5.4, 5.7, 6.0, 6.7, 7.1, 6.4, 5.5, 4.8, 6.4, 6.3, 4.9, 5.5, 6.5, 5.1, 5.8, 4.8, 5.6, 6.7, 5.0, 5.0, 5.4, 5.4, 5.6, 4.4, 7.3, 6.2, 7.2, 6.5, 7.2, 5.5, 5.1, 5.0, 5.0, 5.1, 5.7, 5.0, 6.9, 5.5, 5.2, 6.3, 5.1, 5.1, 4.6, 6.4, 7.6, 6.4, 6.5, 5.1, 4.4, 5.0, 6.0, 4.8, 5.9, 5.8, 6.1], \"yaxis\": \"y2\"}],\n",
              "                        {\"annotations\": [{\"font\": {\"size\": 16}, \"showarrow\": false, \"text\": \"actual\", \"x\": 0.225, \"xanchor\": \"center\", \"xref\": \"paper\", \"y\": 1.0, \"yanchor\": \"bottom\", \"yref\": \"paper\"}, {\"font\": {\"size\": 16}, \"showarrow\": false, \"text\": \"agg1_cluster\", \"x\": 0.775, \"xanchor\": \"center\", \"xref\": \"paper\", \"y\": 1.0, \"yanchor\": \"bottom\", \"yref\": \"paper\"}], \"height\": 600, \"template\": {\"data\": {\"bar\": [{\"error_x\": {\"color\": \"#2a3f5f\"}, \"error_y\": {\"color\": \"#2a3f5f\"}, \"marker\": {\"line\": {\"color\": \"#E5ECF6\", \"width\": 0.5}}, \"type\": \"bar\"}], \"barpolar\": [{\"marker\": {\"line\": {\"color\": \"#E5ECF6\", \"width\": 0.5}}, \"type\": \"barpolar\"}], \"carpet\": [{\"aaxis\": {\"endlinecolor\": \"#2a3f5f\", \"gridcolor\": \"white\", \"linecolor\": \"white\", \"minorgridcolor\": \"white\", \"startlinecolor\": \"#2a3f5f\"}, \"baxis\": {\"endlinecolor\": \"#2a3f5f\", \"gridcolor\": \"white\", \"linecolor\": \"white\", \"minorgridcolor\": \"white\", \"startlinecolor\": \"#2a3f5f\"}, \"type\": \"carpet\"}], \"choropleth\": [{\"colorbar\": {\"outlinewidth\": 0, \"ticks\": \"\"}, \"type\": \"choropleth\"}], \"contour\": [{\"colorbar\": {\"outlinewidth\": 0, \"ticks\": \"\"}, \"colorscale\": [[0.0, \"#0d0887\"], [0.1111111111111111, \"#46039f\"], [0.2222222222222222, \"#7201a8\"], [0.3333333333333333, \"#9c179e\"], [0.4444444444444444, \"#bd3786\"], [0.5555555555555556, \"#d8576b\"], [0.6666666666666666, \"#ed7953\"], [0.7777777777777778, \"#fb9f3a\"], [0.8888888888888888, \"#fdca26\"], [1.0, \"#f0f921\"]], \"type\": \"contour\"}], \"contourcarpet\": [{\"colorbar\": {\"outlinewidth\": 0, \"ticks\": \"\"}, \"type\": \"contourcarpet\"}], \"heatmap\": [{\"colorbar\": {\"outlinewidth\": 0, \"ticks\": \"\"}, \"colorscale\": [[0.0, \"#0d0887\"], [0.1111111111111111, \"#46039f\"], [0.2222222222222222, \"#7201a8\"], [0.3333333333333333, \"#9c179e\"], [0.4444444444444444, \"#bd3786\"], [0.5555555555555556, \"#d8576b\"], [0.6666666666666666, \"#ed7953\"], [0.7777777777777778, \"#fb9f3a\"], [0.8888888888888888, \"#fdca26\"], [1.0, \"#f0f921\"]], \"type\": \"heatmap\"}], \"heatmapgl\": [{\"colorbar\": {\"outlinewidth\": 0, \"ticks\": \"\"}, \"colorscale\": [[0.0, \"#0d0887\"], [0.1111111111111111, \"#46039f\"], [0.2222222222222222, \"#7201a8\"], [0.3333333333333333, \"#9c179e\"], [0.4444444444444444, \"#bd3786\"], [0.5555555555555556, \"#d8576b\"], [0.6666666666666666, \"#ed7953\"], [0.7777777777777778, \"#fb9f3a\"], [0.8888888888888888, \"#fdca26\"], [1.0, \"#f0f921\"]], \"type\": \"heatmapgl\"}], \"histogram\": [{\"marker\": {\"colorbar\": {\"outlinewidth\": 0, \"ticks\": \"\"}}, \"type\": \"histogram\"}], \"histogram2d\": [{\"colorbar\": {\"outlinewidth\": 0, \"ticks\": \"\"}, \"colorscale\": [[0.0, \"#0d0887\"], [0.1111111111111111, \"#46039f\"], [0.2222222222222222, \"#7201a8\"], [0.3333333333333333, \"#9c179e\"], [0.4444444444444444, \"#bd3786\"], [0.5555555555555556, \"#d8576b\"], [0.6666666666666666, \"#ed7953\"], [0.7777777777777778, \"#fb9f3a\"], [0.8888888888888888, \"#fdca26\"], [1.0, \"#f0f921\"]], \"type\": \"histogram2d\"}], \"histogram2dcontour\": [{\"colorbar\": {\"outlinewidth\": 0, \"ticks\": \"\"}, \"colorscale\": [[0.0, \"#0d0887\"], [0.1111111111111111, \"#46039f\"], [0.2222222222222222, \"#7201a8\"], [0.3333333333333333, \"#9c179e\"], [0.4444444444444444, \"#bd3786\"], [0.5555555555555556, \"#d8576b\"], [0.6666666666666666, \"#ed7953\"], [0.7777777777777778, \"#fb9f3a\"], [0.8888888888888888, \"#fdca26\"], [1.0, \"#f0f921\"]], \"type\": \"histogram2dcontour\"}], \"mesh3d\": [{\"colorbar\": {\"outlinewidth\": 0, \"ticks\": \"\"}, \"type\": \"mesh3d\"}], \"parcoords\": [{\"line\": {\"colorbar\": {\"outlinewidth\": 0, \"ticks\": \"\"}}, \"type\": \"parcoords\"}], \"pie\": [{\"automargin\": true, \"type\": \"pie\"}], \"scatter\": [{\"marker\": {\"colorbar\": {\"outlinewidth\": 0, \"ticks\": \"\"}}, \"type\": \"scatter\"}], \"scatter3d\": [{\"line\": {\"colorbar\": {\"outlinewidth\": 0, \"ticks\": \"\"}}, \"marker\": {\"colorbar\": {\"outlinewidth\": 0, \"ticks\": \"\"}}, \"type\": \"scatter3d\"}], \"scattercarpet\": [{\"marker\": {\"colorbar\": {\"outlinewidth\": 0, \"ticks\": \"\"}}, \"type\": \"scattercarpet\"}], \"scattergeo\": [{\"marker\": {\"colorbar\": {\"outlinewidth\": 0, \"ticks\": \"\"}}, \"type\": \"scattergeo\"}], \"scattergl\": [{\"marker\": {\"colorbar\": {\"outlinewidth\": 0, \"ticks\": \"\"}}, \"type\": \"scattergl\"}], \"scattermapbox\": [{\"marker\": {\"colorbar\": {\"outlinewidth\": 0, \"ticks\": \"\"}}, \"type\": \"scattermapbox\"}], \"scatterpolar\": [{\"marker\": {\"colorbar\": {\"outlinewidth\": 0, \"ticks\": \"\"}}, \"type\": \"scatterpolar\"}], \"scatterpolargl\": [{\"marker\": {\"colorbar\": {\"outlinewidth\": 0, \"ticks\": \"\"}}, \"type\": \"scatterpolargl\"}], \"scatterternary\": [{\"marker\": {\"colorbar\": {\"outlinewidth\": 0, \"ticks\": \"\"}}, \"type\": \"scatterternary\"}], \"surface\": [{\"colorbar\": {\"outlinewidth\": 0, \"ticks\": \"\"}, \"colorscale\": [[0.0, \"#0d0887\"], [0.1111111111111111, \"#46039f\"], [0.2222222222222222, \"#7201a8\"], [0.3333333333333333, \"#9c179e\"], [0.4444444444444444, \"#bd3786\"], [0.5555555555555556, \"#d8576b\"], [0.6666666666666666, \"#ed7953\"], [0.7777777777777778, \"#fb9f3a\"], [0.8888888888888888, \"#fdca26\"], [1.0, \"#f0f921\"]], \"type\": \"surface\"}], \"table\": [{\"cells\": {\"fill\": {\"color\": \"#EBF0F8\"}, \"line\": {\"color\": \"white\"}}, \"header\": {\"fill\": {\"color\": \"#C8D4E3\"}, \"line\": {\"color\": \"white\"}}, \"type\": \"table\"}]}, \"layout\": {\"annotationdefaults\": {\"arrowcolor\": \"#2a3f5f\", \"arrowhead\": 0, \"arrowwidth\": 1}, \"coloraxis\": {\"colorbar\": {\"outlinewidth\": 0, \"ticks\": \"\"}}, \"colorscale\": {\"diverging\": [[0, \"#8e0152\"], [0.1, \"#c51b7d\"], [0.2, \"#de77ae\"], [0.3, \"#f1b6da\"], [0.4, \"#fde0ef\"], [0.5, \"#f7f7f7\"], [0.6, \"#e6f5d0\"], [0.7, \"#b8e186\"], [0.8, \"#7fbc41\"], [0.9, \"#4d9221\"], [1, \"#276419\"]], \"sequential\": [[0.0, \"#0d0887\"], [0.1111111111111111, \"#46039f\"], [0.2222222222222222, \"#7201a8\"], [0.3333333333333333, \"#9c179e\"], [0.4444444444444444, \"#bd3786\"], [0.5555555555555556, \"#d8576b\"], [0.6666666666666666, \"#ed7953\"], [0.7777777777777778, \"#fb9f3a\"], [0.8888888888888888, \"#fdca26\"], [1.0, \"#f0f921\"]], \"sequentialminus\": [[0.0, \"#0d0887\"], [0.1111111111111111, \"#46039f\"], [0.2222222222222222, \"#7201a8\"], [0.3333333333333333, \"#9c179e\"], [0.4444444444444444, \"#bd3786\"], [0.5555555555555556, \"#d8576b\"], [0.6666666666666666, \"#ed7953\"], [0.7777777777777778, \"#fb9f3a\"], [0.8888888888888888, \"#fdca26\"], [1.0, \"#f0f921\"]]}, \"colorway\": [\"#636efa\", \"#EF553B\", \"#00cc96\", \"#ab63fa\", \"#FFA15A\", \"#19d3f3\", \"#FF6692\", \"#B6E880\", \"#FF97FF\", \"#FECB52\"], \"font\": {\"color\": \"#2a3f5f\"}, \"geo\": {\"bgcolor\": \"white\", \"lakecolor\": \"white\", \"landcolor\": \"#E5ECF6\", \"showlakes\": true, \"showland\": true, \"subunitcolor\": \"white\"}, \"hoverlabel\": {\"align\": \"left\"}, \"hovermode\": \"closest\", \"mapbox\": {\"style\": \"light\"}, \"paper_bgcolor\": \"white\", \"plot_bgcolor\": \"#E5ECF6\", \"polar\": {\"angularaxis\": {\"gridcolor\": \"white\", \"linecolor\": \"white\", \"ticks\": \"\"}, \"bgcolor\": \"#E5ECF6\", \"radialaxis\": {\"gridcolor\": \"white\", \"linecolor\": \"white\", \"ticks\": \"\"}}, \"scene\": {\"xaxis\": {\"backgroundcolor\": \"#E5ECF6\", \"gridcolor\": \"white\", \"gridwidth\": 2, \"linecolor\": \"white\", \"showbackground\": true, \"ticks\": \"\", \"zerolinecolor\": \"white\"}, \"yaxis\": {\"backgroundcolor\": \"#E5ECF6\", \"gridcolor\": \"white\", \"gridwidth\": 2, \"linecolor\": \"white\", \"showbackground\": true, \"ticks\": \"\", \"zerolinecolor\": \"white\"}, \"zaxis\": {\"backgroundcolor\": \"#E5ECF6\", \"gridcolor\": \"white\", \"gridwidth\": 2, \"linecolor\": \"white\", \"showbackground\": true, \"ticks\": \"\", \"zerolinecolor\": \"white\"}}, \"shapedefaults\": {\"line\": {\"color\": \"#2a3f5f\"}}, \"ternary\": {\"aaxis\": {\"gridcolor\": \"white\", \"linecolor\": \"white\", \"ticks\": \"\"}, \"baxis\": {\"gridcolor\": \"white\", \"linecolor\": \"white\", \"ticks\": \"\"}, \"bgcolor\": \"#E5ECF6\", \"caxis\": {\"gridcolor\": \"white\", \"linecolor\": \"white\", \"ticks\": \"\"}}, \"title\": {\"x\": 0.05}, \"xaxis\": {\"automargin\": true, \"gridcolor\": \"white\", \"linecolor\": \"white\", \"ticks\": \"\", \"title\": {\"standoff\": 15}, \"zerolinecolor\": \"white\", \"zerolinewidth\": 2}, \"yaxis\": {\"automargin\": true, \"gridcolor\": \"white\", \"linecolor\": \"white\", \"ticks\": \"\", \"title\": {\"standoff\": 15}, \"zerolinecolor\": \"white\", \"zerolinewidth\": 2}}}, \"width\": 800, \"xaxis\": {\"anchor\": \"y\", \"domain\": [0.0, 0.45]}, \"xaxis2\": {\"anchor\": \"y2\", \"domain\": [0.55, 1.0]}, \"yaxis\": {\"anchor\": \"x\", \"domain\": [0.0, 1.0]}, \"yaxis2\": {\"anchor\": \"x2\", \"domain\": [0.0, 1.0]}},\n",
              "                        {\"responsive\": true}\n",
              "                    ).then(function(){\n",
              "                            \n",
              "var gd = document.getElementById('25882c72-be26-4719-babf-7b090f2ae1d8');\n",
              "var x = new MutationObserver(function (mutations, observer) {{\n",
              "        var display = window.getComputedStyle(gd).display;\n",
              "        if (!display || display === 'none') {{\n",
              "            console.log([gd, 'removed!']);\n",
              "            Plotly.purge(gd);\n",
              "            observer.disconnect();\n",
              "        }}\n",
              "}});\n",
              "\n",
              "// Listen for the removal of the full notebook cells\n",
              "var notebookContainer = gd.closest('#notebook-container');\n",
              "if (notebookContainer) {{\n",
              "    x.observe(notebookContainer, {childList: true});\n",
              "}}\n",
              "\n",
              "// Listen for the clearing of the current output cell\n",
              "var outputEl = gd.closest('.output');\n",
              "if (outputEl) {{\n",
              "    x.observe(outputEl, {childList: true});\n",
              "}}\n",
              "\n",
              "                        })\n",
              "                };\n",
              "                \n",
              "            </script>\n",
              "        </div>\n",
              "</body>\n",
              "</html>"
            ]
          },
          "metadata": {
            "tags": []
          }
        }
      ]
    },
    {
      "cell_type": "code",
      "metadata": {
        "colab": {
          "base_uri": "https://localhost:8080/",
          "height": 617
        },
        "id": "Q52Ic-9MtV6T",
        "outputId": "7b79623e-af97-41a0-8d6b-139722f09ba9"
      },
      "source": [
        "# 훈련된 label 저장\n",
        "agg1_labels = agg1.labels_\n",
        "\n",
        "# 원래의 label과 Agglomerative 알고리즘 결과를 시각화로 비교\n",
        "fig = make_subplots(rows=1, cols=2, subplot_titles=(\"actual\", \"agg1_cluster\"))\n",
        "\n",
        "fig.add_trace(\n",
        "    go.Scatter(x=train_x[\"petal_width\"],\n",
        "               y=train_x[\"petal_length\"],\n",
        "               mode=\"markers\",\n",
        "               marker=dict(color=train_y)),\n",
        "    row=1, col=1\n",
        ")\n",
        "\n",
        "fig.add_trace(\n",
        "    go.Scatter(x=train_x[\"petal_width\"],\n",
        "               y=train_x[\"petal_length\"],\n",
        "               mode=\"markers\",\n",
        "               marker=dict(color=agg1_labels)),\n",
        "    row=1, col=2\n",
        ")\n",
        "\n",
        "fig.update_layout(height=600, width=800)\n",
        "fig.show()"
      ],
      "execution_count": 49,
      "outputs": [
        {
          "output_type": "display_data",
          "data": {
            "text/html": [
              "<html>\n",
              "<head><meta charset=\"utf-8\" /></head>\n",
              "<body>\n",
              "    <div>\n",
              "            <script src=\"https://cdnjs.cloudflare.com/ajax/libs/mathjax/2.7.5/MathJax.js?config=TeX-AMS-MML_SVG\"></script><script type=\"text/javascript\">if (window.MathJax) {MathJax.Hub.Config({SVG: {font: \"STIX-Web\"}});}</script>\n",
              "                <script type=\"text/javascript\">window.PlotlyConfig = {MathJaxConfig: 'local'};</script>\n",
              "        <script src=\"https://cdn.plot.ly/plotly-latest.min.js\"></script>    \n",
              "            <div id=\"704330f1-21c4-49ac-a7bc-73eabd95701e\" class=\"plotly-graph-div\" style=\"height:600px; width:800px;\"></div>\n",
              "            <script type=\"text/javascript\">\n",
              "                \n",
              "                    window.PLOTLYENV=window.PLOTLYENV || {};\n",
              "                    \n",
              "                if (document.getElementById(\"704330f1-21c4-49ac-a7bc-73eabd95701e\")) {\n",
              "                    Plotly.newPlot(\n",
              "                        '704330f1-21c4-49ac-a7bc-73eabd95701e',\n",
              "                        [{\"marker\": {\"color\": [0, 2, 0, 0, 2, 1, 1, 0, 0, 2, 0, 2, 2, 1, 2, 1, 2, 1, 2, 0, 2, 1, 2, 1, 1, 1, 0, 2, 1, 2, 0, 2, 0, 0, 1, 0, 2, 1, 0, 1, 1, 1, 0, 2, 0, 2, 1, 2, 2, 2, 2, 0, 0, 2, 1, 1, 2, 1, 2, 0, 0, 1, 0, 2, 1, 0, 1, 1, 1, 2, 1, 1, 0, 2, 1, 0, 0, 2, 0, 0, 0, 1, 2, 0, 0, 0, 0, 2, 0, 2, 1, 2, 2, 2, 1, 0, 0, 1, 0, 1, 0, 2, 1, 0, 1, 0, 0, 0, 2, 2, 2, 2, 0, 0, 1, 1, 0, 1, 2, 1]}, \"mode\": \"markers\", \"type\": \"scatter\", \"x\": [0.3, 1.7, 0.2, 0.2, 2.4, 1.3, 1.8, 0.2, 0.2, 2.3, 0.2, 1.8, 1.4, 1.2, 1.8, 1.4, 1.9, 1.6, 1.8, 0.5, 2.1, 1.4, 1.6, 1.0, 1.3, 1.5, 0.4, 1.5, 1.4, 1.8, 0.4, 2.4, 0.2, 0.6, 1.3, 0.1, 2.5, 1.1, 0.2, 1.5, 1.3, 1.2, 0.4, 2.2, 0.1, 2.0, 1.2, 2.3, 2.3, 2.3, 1.8, 0.2, 0.3, 1.8, 1.4, 1.4, 2.0, 1.5, 1.8, 0.4, 0.2, 1.3, 0.2, 1.8, 1.4, 0.2, 1.2, 1.0, 1.5, 2.1, 1.5, 1.1, 0.3, 2.2, 1.3, 0.1, 0.2, 2.0, 0.3, 0.2, 0.1, 1.1, 2.3, 0.4, 0.2, 0.4, 0.2, 2.0, 0.2, 1.8, 1.5, 2.5, 2.0, 1.8, 1.0, 0.2, 0.2, 1.0, 0.4, 1.3, 0.3, 2.1, 1.2, 0.2, 1.6, 0.2, 0.2, 0.2, 2.1, 2.1, 1.9, 2.2, 0.3, 0.2, 1.0, 1.5, 0.2, 1.5, 1.9, 1.4], \"xaxis\": \"x\", \"y\": [1.4, 4.5, 1.0, 1.5, 5.6, 4.1, 4.8, 1.9, 1.4, 5.1, 1.4, 4.9, 5.6, 3.9, 5.1, 3.9, 5.1, 4.5, 4.8, 1.7, 5.5, 4.7, 5.8, 4.1, 4.0, 4.5, 1.5, 5.1, 4.6, 4.9, 1.5, 5.1, 1.6, 1.6, 4.3, 1.5, 5.7, 3.0, 1.4, 4.9, 4.0, 4.7, 1.7, 6.7, 1.1, 5.0, 4.0, 6.9, 5.7, 5.4, 5.5, 1.6, 1.7, 5.8, 4.8, 4.4, 6.7, 4.9, 5.6, 1.9, 1.2, 4.0, 1.4, 5.5, 4.4, 1.5, 4.2, 4.0, 4.7, 5.9, 4.5, 3.8, 1.4, 5.6, 4.4, 1.5, 1.4, 5.2, 1.5, 1.2, 1.4, 3.9, 5.2, 1.6, 1.6, 1.3, 1.7, 4.9, 1.3, 6.3, 4.5, 6.1, 5.1, 6.0, 3.7, 1.5, 1.5, 3.5, 1.5, 4.5, 1.3, 5.4, 4.4, 1.5, 4.7, 1.4, 1.6, 1.5, 5.6, 6.6, 5.3, 5.8, 1.4, 1.3, 3.3, 4.5, 1.6, 4.2, 5.1, 4.7], \"yaxis\": \"y\"}, {\"marker\": {\"color\": [1, 0, 1, 1, 2, 0, 0, 1, 1, 2, 1, 0, 0, 0, 0, 0, 0, 0, 0, 1, 2, 0, 2, 0, 0, 0, 1, 0, 0, 0, 1, 0, 1, 1, 0, 1, 2, 0, 1, 0, 0, 0, 1, 2, 1, 0, 0, 2, 2, 2, 2, 1, 1, 2, 0, 0, 2, 0, 2, 1, 1, 0, 1, 2, 0, 1, 0, 0, 0, 2, 0, 0, 1, 2, 0, 1, 1, 2, 1, 1, 1, 0, 2, 1, 1, 1, 1, 0, 1, 2, 0, 2, 2, 2, 0, 1, 1, 0, 1, 0, 1, 2, 0, 1, 0, 1, 1, 1, 2, 2, 2, 2, 1, 1, 0, 0, 1, 0, 0, 0]}, \"mode\": \"markers\", \"type\": \"scatter\", \"x\": [0.3, 1.7, 0.2, 0.2, 2.4, 1.3, 1.8, 0.2, 0.2, 2.3, 0.2, 1.8, 1.4, 1.2, 1.8, 1.4, 1.9, 1.6, 1.8, 0.5, 2.1, 1.4, 1.6, 1.0, 1.3, 1.5, 0.4, 1.5, 1.4, 1.8, 0.4, 2.4, 0.2, 0.6, 1.3, 0.1, 2.5, 1.1, 0.2, 1.5, 1.3, 1.2, 0.4, 2.2, 0.1, 2.0, 1.2, 2.3, 2.3, 2.3, 1.8, 0.2, 0.3, 1.8, 1.4, 1.4, 2.0, 1.5, 1.8, 0.4, 0.2, 1.3, 0.2, 1.8, 1.4, 0.2, 1.2, 1.0, 1.5, 2.1, 1.5, 1.1, 0.3, 2.2, 1.3, 0.1, 0.2, 2.0, 0.3, 0.2, 0.1, 1.1, 2.3, 0.4, 0.2, 0.4, 0.2, 2.0, 0.2, 1.8, 1.5, 2.5, 2.0, 1.8, 1.0, 0.2, 0.2, 1.0, 0.4, 1.3, 0.3, 2.1, 1.2, 0.2, 1.6, 0.2, 0.2, 0.2, 2.1, 2.1, 1.9, 2.2, 0.3, 0.2, 1.0, 1.5, 0.2, 1.5, 1.9, 1.4], \"xaxis\": \"x2\", \"y\": [1.4, 4.5, 1.0, 1.5, 5.6, 4.1, 4.8, 1.9, 1.4, 5.1, 1.4, 4.9, 5.6, 3.9, 5.1, 3.9, 5.1, 4.5, 4.8, 1.7, 5.5, 4.7, 5.8, 4.1, 4.0, 4.5, 1.5, 5.1, 4.6, 4.9, 1.5, 5.1, 1.6, 1.6, 4.3, 1.5, 5.7, 3.0, 1.4, 4.9, 4.0, 4.7, 1.7, 6.7, 1.1, 5.0, 4.0, 6.9, 5.7, 5.4, 5.5, 1.6, 1.7, 5.8, 4.8, 4.4, 6.7, 4.9, 5.6, 1.9, 1.2, 4.0, 1.4, 5.5, 4.4, 1.5, 4.2, 4.0, 4.7, 5.9, 4.5, 3.8, 1.4, 5.6, 4.4, 1.5, 1.4, 5.2, 1.5, 1.2, 1.4, 3.9, 5.2, 1.6, 1.6, 1.3, 1.7, 4.9, 1.3, 6.3, 4.5, 6.1, 5.1, 6.0, 3.7, 1.5, 1.5, 3.5, 1.5, 4.5, 1.3, 5.4, 4.4, 1.5, 4.7, 1.4, 1.6, 1.5, 5.6, 6.6, 5.3, 5.8, 1.4, 1.3, 3.3, 4.5, 1.6, 4.2, 5.1, 4.7], \"yaxis\": \"y2\"}],\n",
              "                        {\"annotations\": [{\"font\": {\"size\": 16}, \"showarrow\": false, \"text\": \"actual\", \"x\": 0.225, \"xanchor\": \"center\", \"xref\": \"paper\", \"y\": 1.0, \"yanchor\": \"bottom\", \"yref\": \"paper\"}, {\"font\": {\"size\": 16}, \"showarrow\": false, \"text\": \"agg1_cluster\", \"x\": 0.775, \"xanchor\": \"center\", \"xref\": \"paper\", \"y\": 1.0, \"yanchor\": \"bottom\", \"yref\": \"paper\"}], \"height\": 600, \"template\": {\"data\": {\"bar\": [{\"error_x\": {\"color\": \"#2a3f5f\"}, \"error_y\": {\"color\": \"#2a3f5f\"}, \"marker\": {\"line\": {\"color\": \"#E5ECF6\", \"width\": 0.5}}, \"type\": \"bar\"}], \"barpolar\": [{\"marker\": {\"line\": {\"color\": \"#E5ECF6\", \"width\": 0.5}}, \"type\": \"barpolar\"}], \"carpet\": [{\"aaxis\": {\"endlinecolor\": \"#2a3f5f\", \"gridcolor\": \"white\", \"linecolor\": \"white\", \"minorgridcolor\": \"white\", \"startlinecolor\": \"#2a3f5f\"}, \"baxis\": {\"endlinecolor\": \"#2a3f5f\", \"gridcolor\": \"white\", \"linecolor\": \"white\", \"minorgridcolor\": \"white\", \"startlinecolor\": \"#2a3f5f\"}, \"type\": \"carpet\"}], \"choropleth\": [{\"colorbar\": {\"outlinewidth\": 0, \"ticks\": \"\"}, \"type\": \"choropleth\"}], \"contour\": [{\"colorbar\": {\"outlinewidth\": 0, \"ticks\": \"\"}, \"colorscale\": [[0.0, \"#0d0887\"], [0.1111111111111111, \"#46039f\"], [0.2222222222222222, \"#7201a8\"], [0.3333333333333333, \"#9c179e\"], [0.4444444444444444, \"#bd3786\"], [0.5555555555555556, \"#d8576b\"], [0.6666666666666666, \"#ed7953\"], [0.7777777777777778, \"#fb9f3a\"], [0.8888888888888888, \"#fdca26\"], [1.0, \"#f0f921\"]], \"type\": \"contour\"}], \"contourcarpet\": [{\"colorbar\": {\"outlinewidth\": 0, \"ticks\": \"\"}, \"type\": \"contourcarpet\"}], \"heatmap\": [{\"colorbar\": {\"outlinewidth\": 0, \"ticks\": \"\"}, \"colorscale\": [[0.0, \"#0d0887\"], [0.1111111111111111, \"#46039f\"], [0.2222222222222222, \"#7201a8\"], [0.3333333333333333, \"#9c179e\"], [0.4444444444444444, \"#bd3786\"], [0.5555555555555556, \"#d8576b\"], [0.6666666666666666, \"#ed7953\"], [0.7777777777777778, \"#fb9f3a\"], [0.8888888888888888, \"#fdca26\"], [1.0, \"#f0f921\"]], \"type\": \"heatmap\"}], \"heatmapgl\": [{\"colorbar\": {\"outlinewidth\": 0, \"ticks\": \"\"}, \"colorscale\": [[0.0, \"#0d0887\"], [0.1111111111111111, \"#46039f\"], [0.2222222222222222, \"#7201a8\"], [0.3333333333333333, \"#9c179e\"], [0.4444444444444444, \"#bd3786\"], [0.5555555555555556, \"#d8576b\"], [0.6666666666666666, \"#ed7953\"], [0.7777777777777778, \"#fb9f3a\"], [0.8888888888888888, \"#fdca26\"], [1.0, \"#f0f921\"]], \"type\": \"heatmapgl\"}], \"histogram\": [{\"marker\": {\"colorbar\": {\"outlinewidth\": 0, \"ticks\": \"\"}}, \"type\": \"histogram\"}], \"histogram2d\": [{\"colorbar\": {\"outlinewidth\": 0, \"ticks\": \"\"}, \"colorscale\": [[0.0, \"#0d0887\"], [0.1111111111111111, \"#46039f\"], [0.2222222222222222, \"#7201a8\"], [0.3333333333333333, \"#9c179e\"], [0.4444444444444444, \"#bd3786\"], [0.5555555555555556, \"#d8576b\"], [0.6666666666666666, \"#ed7953\"], [0.7777777777777778, \"#fb9f3a\"], [0.8888888888888888, \"#fdca26\"], [1.0, \"#f0f921\"]], \"type\": \"histogram2d\"}], \"histogram2dcontour\": [{\"colorbar\": {\"outlinewidth\": 0, \"ticks\": \"\"}, \"colorscale\": [[0.0, \"#0d0887\"], [0.1111111111111111, \"#46039f\"], [0.2222222222222222, \"#7201a8\"], [0.3333333333333333, \"#9c179e\"], [0.4444444444444444, \"#bd3786\"], [0.5555555555555556, \"#d8576b\"], [0.6666666666666666, \"#ed7953\"], [0.7777777777777778, \"#fb9f3a\"], [0.8888888888888888, \"#fdca26\"], [1.0, \"#f0f921\"]], \"type\": \"histogram2dcontour\"}], \"mesh3d\": [{\"colorbar\": {\"outlinewidth\": 0, \"ticks\": \"\"}, \"type\": \"mesh3d\"}], \"parcoords\": [{\"line\": {\"colorbar\": {\"outlinewidth\": 0, \"ticks\": \"\"}}, \"type\": \"parcoords\"}], \"pie\": [{\"automargin\": true, \"type\": \"pie\"}], \"scatter\": [{\"marker\": {\"colorbar\": {\"outlinewidth\": 0, \"ticks\": \"\"}}, \"type\": \"scatter\"}], \"scatter3d\": [{\"line\": {\"colorbar\": {\"outlinewidth\": 0, \"ticks\": \"\"}}, \"marker\": {\"colorbar\": {\"outlinewidth\": 0, \"ticks\": \"\"}}, \"type\": \"scatter3d\"}], \"scattercarpet\": [{\"marker\": {\"colorbar\": {\"outlinewidth\": 0, \"ticks\": \"\"}}, \"type\": \"scattercarpet\"}], \"scattergeo\": [{\"marker\": {\"colorbar\": {\"outlinewidth\": 0, \"ticks\": \"\"}}, \"type\": \"scattergeo\"}], \"scattergl\": [{\"marker\": {\"colorbar\": {\"outlinewidth\": 0, \"ticks\": \"\"}}, \"type\": \"scattergl\"}], \"scattermapbox\": [{\"marker\": {\"colorbar\": {\"outlinewidth\": 0, \"ticks\": \"\"}}, \"type\": \"scattermapbox\"}], \"scatterpolar\": [{\"marker\": {\"colorbar\": {\"outlinewidth\": 0, \"ticks\": \"\"}}, \"type\": \"scatterpolar\"}], \"scatterpolargl\": [{\"marker\": {\"colorbar\": {\"outlinewidth\": 0, \"ticks\": \"\"}}, \"type\": \"scatterpolargl\"}], \"scatterternary\": [{\"marker\": {\"colorbar\": {\"outlinewidth\": 0, \"ticks\": \"\"}}, \"type\": \"scatterternary\"}], \"surface\": [{\"colorbar\": {\"outlinewidth\": 0, \"ticks\": \"\"}, \"colorscale\": [[0.0, \"#0d0887\"], [0.1111111111111111, \"#46039f\"], [0.2222222222222222, \"#7201a8\"], [0.3333333333333333, \"#9c179e\"], [0.4444444444444444, \"#bd3786\"], [0.5555555555555556, \"#d8576b\"], [0.6666666666666666, \"#ed7953\"], [0.7777777777777778, \"#fb9f3a\"], [0.8888888888888888, \"#fdca26\"], [1.0, \"#f0f921\"]], \"type\": \"surface\"}], \"table\": [{\"cells\": {\"fill\": {\"color\": \"#EBF0F8\"}, \"line\": {\"color\": \"white\"}}, \"header\": {\"fill\": {\"color\": \"#C8D4E3\"}, \"line\": {\"color\": \"white\"}}, \"type\": \"table\"}]}, \"layout\": {\"annotationdefaults\": {\"arrowcolor\": \"#2a3f5f\", \"arrowhead\": 0, \"arrowwidth\": 1}, \"coloraxis\": {\"colorbar\": {\"outlinewidth\": 0, \"ticks\": \"\"}}, \"colorscale\": {\"diverging\": [[0, \"#8e0152\"], [0.1, \"#c51b7d\"], [0.2, \"#de77ae\"], [0.3, \"#f1b6da\"], [0.4, \"#fde0ef\"], [0.5, \"#f7f7f7\"], [0.6, \"#e6f5d0\"], [0.7, \"#b8e186\"], [0.8, \"#7fbc41\"], [0.9, \"#4d9221\"], [1, \"#276419\"]], \"sequential\": [[0.0, \"#0d0887\"], [0.1111111111111111, \"#46039f\"], [0.2222222222222222, \"#7201a8\"], [0.3333333333333333, \"#9c179e\"], [0.4444444444444444, \"#bd3786\"], [0.5555555555555556, \"#d8576b\"], [0.6666666666666666, \"#ed7953\"], [0.7777777777777778, \"#fb9f3a\"], [0.8888888888888888, \"#fdca26\"], [1.0, \"#f0f921\"]], \"sequentialminus\": [[0.0, \"#0d0887\"], [0.1111111111111111, \"#46039f\"], [0.2222222222222222, \"#7201a8\"], [0.3333333333333333, \"#9c179e\"], [0.4444444444444444, \"#bd3786\"], [0.5555555555555556, \"#d8576b\"], [0.6666666666666666, \"#ed7953\"], [0.7777777777777778, \"#fb9f3a\"], [0.8888888888888888, \"#fdca26\"], [1.0, \"#f0f921\"]]}, \"colorway\": [\"#636efa\", \"#EF553B\", \"#00cc96\", \"#ab63fa\", \"#FFA15A\", \"#19d3f3\", \"#FF6692\", \"#B6E880\", \"#FF97FF\", \"#FECB52\"], \"font\": {\"color\": \"#2a3f5f\"}, \"geo\": {\"bgcolor\": \"white\", \"lakecolor\": \"white\", \"landcolor\": \"#E5ECF6\", \"showlakes\": true, \"showland\": true, \"subunitcolor\": \"white\"}, \"hoverlabel\": {\"align\": \"left\"}, \"hovermode\": \"closest\", \"mapbox\": {\"style\": \"light\"}, \"paper_bgcolor\": \"white\", \"plot_bgcolor\": \"#E5ECF6\", \"polar\": {\"angularaxis\": {\"gridcolor\": \"white\", \"linecolor\": \"white\", \"ticks\": \"\"}, \"bgcolor\": \"#E5ECF6\", \"radialaxis\": {\"gridcolor\": \"white\", \"linecolor\": \"white\", \"ticks\": \"\"}}, \"scene\": {\"xaxis\": {\"backgroundcolor\": \"#E5ECF6\", \"gridcolor\": \"white\", \"gridwidth\": 2, \"linecolor\": \"white\", \"showbackground\": true, \"ticks\": \"\", \"zerolinecolor\": \"white\"}, \"yaxis\": {\"backgroundcolor\": \"#E5ECF6\", \"gridcolor\": \"white\", \"gridwidth\": 2, \"linecolor\": \"white\", \"showbackground\": true, \"ticks\": \"\", \"zerolinecolor\": \"white\"}, \"zaxis\": {\"backgroundcolor\": \"#E5ECF6\", \"gridcolor\": \"white\", \"gridwidth\": 2, \"linecolor\": \"white\", \"showbackground\": true, \"ticks\": \"\", \"zerolinecolor\": \"white\"}}, \"shapedefaults\": {\"line\": {\"color\": \"#2a3f5f\"}}, \"ternary\": {\"aaxis\": {\"gridcolor\": \"white\", \"linecolor\": \"white\", \"ticks\": \"\"}, \"baxis\": {\"gridcolor\": \"white\", \"linecolor\": \"white\", \"ticks\": \"\"}, \"bgcolor\": \"#E5ECF6\", \"caxis\": {\"gridcolor\": \"white\", \"linecolor\": \"white\", \"ticks\": \"\"}}, \"title\": {\"x\": 0.05}, \"xaxis\": {\"automargin\": true, \"gridcolor\": \"white\", \"linecolor\": \"white\", \"ticks\": \"\", \"title\": {\"standoff\": 15}, \"zerolinecolor\": \"white\", \"zerolinewidth\": 2}, \"yaxis\": {\"automargin\": true, \"gridcolor\": \"white\", \"linecolor\": \"white\", \"ticks\": \"\", \"title\": {\"standoff\": 15}, \"zerolinecolor\": \"white\", \"zerolinewidth\": 2}}}, \"width\": 800, \"xaxis\": {\"anchor\": \"y\", \"domain\": [0.0, 0.45]}, \"xaxis2\": {\"anchor\": \"y2\", \"domain\": [0.55, 1.0]}, \"yaxis\": {\"anchor\": \"x\", \"domain\": [0.0, 1.0]}, \"yaxis2\": {\"anchor\": \"x2\", \"domain\": [0.0, 1.0]}},\n",
              "                        {\"responsive\": true}\n",
              "                    ).then(function(){\n",
              "                            \n",
              "var gd = document.getElementById('704330f1-21c4-49ac-a7bc-73eabd95701e');\n",
              "var x = new MutationObserver(function (mutations, observer) {{\n",
              "        var display = window.getComputedStyle(gd).display;\n",
              "        if (!display || display === 'none') {{\n",
              "            console.log([gd, 'removed!']);\n",
              "            Plotly.purge(gd);\n",
              "            observer.disconnect();\n",
              "        }}\n",
              "}});\n",
              "\n",
              "// Listen for the removal of the full notebook cells\n",
              "var notebookContainer = gd.closest('#notebook-container');\n",
              "if (notebookContainer) {{\n",
              "    x.observe(notebookContainer, {childList: true});\n",
              "}}\n",
              "\n",
              "// Listen for the clearing of the current output cell\n",
              "var outputEl = gd.closest('.output');\n",
              "if (outputEl) {{\n",
              "    x.observe(outputEl, {childList: true});\n",
              "}}\n",
              "\n",
              "                        })\n",
              "                };\n",
              "                \n",
              "            </script>\n",
              "        </div>\n",
              "</body>\n",
              "</html>"
            ]
          },
          "metadata": {
            "tags": []
          }
        }
      ]
    },
    {
      "cell_type": "code",
      "metadata": {
        "colab": {
          "base_uri": "https://localhost:8080/"
        },
        "id": "-WArSZ6ptlj6",
        "outputId": "fea0ef5a-2696-4d49-b4f6-99432820c2f0"
      },
      "source": [
        "# clustering 결과 수치적 평가\n",
        "agg1_case = list(set(agg1_labels))\n",
        "print(agg1_case)\n",
        "# 매칭되는 dictionary 생성\n",
        "agg1_perm_dict = find_matching_cluster(agg1_case, train_y, agg1_labels)\n",
        "print(agg1_perm_dict)\n",
        "# 생성한 dict 변수를 사용하여 훈련된 결과 라벨 변경\n",
        "agg1_new_labels = [agg1_perm_dict[label] for label in agg1_labels]\n",
        "print(agg1_new_labels)"
      ],
      "execution_count": 50,
      "outputs": [
        {
          "output_type": "stream",
          "text": [
            "[0, 1, 2]\n",
            "훈련된 label명 : 0 >> 가장 빈번한 실제 label명 : 1\n",
            "훈련된 label명 : 1 >> 가장 빈번한 실제 label명 : 0\n",
            "훈련된 label명 : 2 >> 가장 빈번한 실제 label명 : 2\n",
            "{0: 1, 1: 0, 2: 2}\n",
            "[0, 1, 0, 0, 2, 1, 1, 0, 0, 2, 0, 1, 1, 1, 1, 1, 1, 1, 1, 0, 2, 1, 2, 1, 1, 1, 0, 1, 1, 1, 0, 1, 0, 0, 1, 0, 2, 1, 0, 1, 1, 1, 0, 2, 0, 1, 1, 2, 2, 2, 2, 0, 0, 2, 1, 1, 2, 1, 2, 0, 0, 1, 0, 2, 1, 0, 1, 1, 1, 2, 1, 1, 0, 2, 1, 0, 0, 2, 0, 0, 0, 1, 2, 0, 0, 0, 0, 1, 0, 2, 1, 2, 2, 2, 1, 0, 0, 1, 0, 1, 0, 2, 1, 0, 1, 0, 0, 0, 2, 2, 2, 2, 0, 0, 1, 1, 0, 1, 1, 1]\n"
          ],
          "name": "stdout"
        }
      ]
    },
    {
      "cell_type": "code",
      "metadata": {
        "colab": {
          "base_uri": "https://localhost:8080/"
        },
        "id": "gKFxxRKstsGp",
        "outputId": "606ea0ec-f080-440c-c81e-ab48d894fe20"
      },
      "source": [
        "# 새로 할당된 cluster 명으로 다시 acc 계산하고 k-means 결과값과 비교\n",
        "# acc는 k-means의 시작점과 train/test 분류의 영향으로 매번 상이하게 나올 수 있음.\n",
        "agg1_acc = accuracy_score(train_y, agg1_new_labels)\n",
        "agg1_acc"
      ],
      "execution_count": 51,
      "outputs": [
        {
          "output_type": "execute_result",
          "data": {
            "text/plain": [
              "0.9"
            ]
          },
          "metadata": {
            "tags": []
          },
          "execution_count": 51
        }
      ]
    },
    {
      "cell_type": "code",
      "metadata": {
        "id": "fA5AwSUOuJ-4"
      },
      "source": [
        "# dendrogram 그리기\n",
        "from matplotlib import pyplot as plt\n",
        "from scipy.cluster.hierarchy import dendrogram, linkage"
      ],
      "execution_count": 52,
      "outputs": []
    },
    {
      "cell_type": "code",
      "metadata": {
        "colab": {
          "base_uri": "https://localhost:8080/"
        },
        "id": "BfyShNcDuQPe",
        "outputId": "0cb2f5c3-770a-463b-c014-79e673c29201"
      },
      "source": [
        "# linkage matrix 구조 파악하기\n",
        "sample_arr = [[i] for i in [2, 8, 0, 4, 1, 9, 9, 0]]\n",
        "sample_arr"
      ],
      "execution_count": 53,
      "outputs": [
        {
          "output_type": "execute_result",
          "data": {
            "text/plain": [
              "[[2], [8], [0], [4], [1], [9], [9], [0]]"
            ]
          },
          "metadata": {
            "tags": []
          },
          "execution_count": 53
        }
      ]
    },
    {
      "cell_type": "code",
      "metadata": {
        "colab": {
          "base_uri": "https://localhost:8080/"
        },
        "id": "9CB-YPjOuXN6",
        "outputId": "aaeeb9e5-4698-4e27-db10-68985aaa22d1"
      },
      "source": [
        "sample_linkage = linkage(sample_arr)\n",
        "print(sample_linkage)"
      ],
      "execution_count": 54,
      "outputs": [
        {
          "output_type": "stream",
          "text": [
            "[[ 2.  7.  0.  2.]\n",
            " [ 5.  6.  0.  2.]\n",
            " [ 0.  4.  1.  2.]\n",
            " [ 8. 10.  1.  4.]\n",
            " [ 1.  9.  1.  3.]\n",
            " [ 3. 11.  2.  5.]\n",
            " [12. 13.  4.  8.]]\n"
          ],
          "name": "stdout"
        }
      ]
    },
    {
      "cell_type": "code",
      "metadata": {
        "colab": {
          "base_uri": "https://localhost:8080/",
          "height": 376
        },
        "id": "y0fUStS8ubk0",
        "outputId": "f55ace7a-c8d2-4d06-b8cd-30d331ad7695"
      },
      "source": [
        "fig = plt.figure(figsize=(13, 6))\n",
        "dn = dendrogram(sample_linkage)\n",
        "plt.show()"
      ],
      "execution_count": 55,
      "outputs": [
        {
          "output_type": "display_data",
          "data": {
            "image/png": "[encoded data removed]",
            "text/plain": [
              "<Figure size 936x432 with 1 Axes>"
            ]
          },
          "metadata": {
            "tags": []
          }
        }
      ]
    },
    {
      "cell_type": "code",
      "metadata": {
        "id": "V9wL3VWiuruN"
      },
      "source": [
        "# linkage_matrix 생성하는 함수 만들기\n",
        "\n",
        "def create_linkage(model):\n",
        "  # 각 노드 총 point수 계산하기\n",
        "  counts = np.zeros(model.children_.shape[0]) #children 길이만큼 0을 채운 array\n",
        "  n_samples = len(model.labels_) # 각 point의 cluster label.\n",
        "  for i, merge in enumerate(model.children_):\n",
        "    current_count = 0\n",
        "    for child_idx in merge:\n",
        "      if child_idx < n_samples:\n",
        "        current_count += 1 #leaf node\n",
        "      else:\n",
        "        current_count += counts[child_idx - n_samples]\n",
        "    counts[i] = current_count\n",
        "\n",
        "  linkage_matrix = np.column_stack([model.children_, model.distances_, counts]).astype(float)\n",
        "  return linkage_matrix"
      ],
      "execution_count": 56,
      "outputs": []
    },
    {
      "cell_type": "code",
      "metadata": {
        "colab": {
          "base_uri": "https://localhost:8080/"
        },
        "id": "cfXd8joZwnr9",
        "outputId": "984d617a-18c5-496d-a13d-0347d0543512"
      },
      "source": [
        "# Dendrogram 그리기 위해선 distance_threshold와 n_cluster parameter 조정 필요.\n",
        "agg1_dend = AgglomerativeClustering(n_clusters=None, distance_threshold=0).fit(train_x)\n",
        "agg1_dend"
      ],
      "execution_count": 57,
      "outputs": [
        {
          "output_type": "execute_result",
          "data": {
            "text/plain": [
              "AgglomerativeClustering(affinity='euclidean', compute_full_tree='auto',\n",
              "                        connectivity=None, distance_threshold=0, linkage='ward',\n",
              "                        memory=None, n_clusters=None)"
            ]
          },
          "metadata": {
            "tags": []
          },
          "execution_count": 57
        }
      ]
    },
    {
      "cell_type": "code",
      "metadata": {
        "colab": {
          "base_uri": "https://localhost:8080/",
          "height": 364
        },
        "id": "tfQxuzzbx6A7",
        "outputId": "001bdf8f-e0a0-4203-8a4f-db70f53bb1dd"
      },
      "source": [
        "# x축 - 실제 point(혹은 각 node에 포함되는 point 수)\n",
        "plt.title(\"Agglomerative Clustering Dendrogram\")\n",
        "linkage_matrix = create_linkage(agg1_dend)\n",
        "dendrogram(linkage_matrix, truncate_mode=\"level\", p=3)\n",
        "plt.show()"
      ],
      "execution_count": 58,
      "outputs": [
        {
          "output_type": "display_data",
          "data": {
            "image/png": "[encoded data removed]",
            "text/plain": [
              "<Figure size 576x396 with 1 Axes>"
            ]
          },
          "metadata": {
            "tags": []
          }
        }
      ]
    },
    {
      "cell_type": "code",
      "metadata": {
        "colab": {
          "base_uri": "https://localhost:8080/"
        },
        "id": "C2Lq8fXQyJgV",
        "outputId": "aea65106-7a70-4cc4-b03a-64c5b106397d"
      },
      "source": [
        "# dendrogram에서 정한 cluster 수로 모델 훈련시키기\n",
        "agg1 = AgglomerativeClustering(n_clusters=4, linkage=\"ward\", affinity=\"euclidean\").fit(train_x)\n",
        "agg1"
      ],
      "execution_count": 59,
      "outputs": [
        {
          "output_type": "execute_result",
          "data": {
            "text/plain": [
              "AgglomerativeClustering(affinity='euclidean', compute_full_tree='auto',\n",
              "                        connectivity=None, distance_threshold=None,\n",
              "                        linkage='ward', memory=None, n_clusters=4)"
            ]
          },
          "metadata": {
            "tags": []
          },
          "execution_count": 59
        }
      ]
    },
    {
      "cell_type": "code",
      "metadata": {
        "colab": {
          "base_uri": "https://localhost:8080/",
          "height": 617
        },
        "id": "QTa5NdjGyeag",
        "outputId": "984bc694-0638-4273-8992-6d92cdc7f812"
      },
      "source": [
        "agg1_labels = agg1.labels_\n",
        "\n",
        "fig = make_subplots(rows=1, cols=2, subplot_titles=(\"actual\", \"agg1_cluster\"))\n",
        "\n",
        "fig.add_trace(\n",
        "    go.Scatter(x=train_x[\"sepal_width\"],\n",
        "               y=train_x[\"sepal_length\"],\n",
        "               mode=\"markers\",\n",
        "               marker=dict(color=train_y)),\n",
        "    row=1, col=1\n",
        ")\n",
        "\n",
        "fig.add_trace(\n",
        "    go.Scatter(x=train_x[\"sepal_width\"],\n",
        "               y=train_x[\"sepal_length\"],\n",
        "               mode=\"markers\",\n",
        "               marker=dict(color=agg1_labels)),\n",
        "    row=1, col=2\n",
        ")\n",
        "\n",
        "fig.update_layout(height=600, width=800)\n",
        "fig.show()"
      ],
      "execution_count": 60,
      "outputs": [
        {
          "output_type": "display_data",
          "data": {
            "text/html": [
              "<html>\n",
              "<head><meta charset=\"utf-8\" /></head>\n",
              "<body>\n",
              "    <div>\n",
              "            <script src=\"https://cdnjs.cloudflare.com/ajax/libs/mathjax/2.7.5/MathJax.js?config=TeX-AMS-MML_SVG\"></script><script type=\"text/javascript\">if (window.MathJax) {MathJax.Hub.Config({SVG: {font: \"STIX-Web\"}});}</script>\n",
              "                <script type=\"text/javascript\">window.PlotlyConfig = {MathJaxConfig: 'local'};</script>\n",
              "        <script src=\"https://cdn.plot.ly/plotly-latest.min.js\"></script>    \n",
              "            <div id=\"94bf0895-a06a-46e9-a466-fc0752a2c4d0\" class=\"plotly-graph-div\" style=\"height:600px; width:800px;\"></div>\n",
              "            <script type=\"text/javascript\">\n",
              "                \n",
              "                    window.PLOTLYENV=window.PLOTLYENV || {};\n",
              "                    \n",
              "                if (document.getElementById(\"94bf0895-a06a-46e9-a466-fc0752a2c4d0\")) {\n",
              "                    Plotly.newPlot(\n",
              "                        '94bf0895-a06a-46e9-a466-fc0752a2c4d0',\n",
              "                        [{\"marker\": {\"color\": [0, 2, 0, 0, 2, 1, 1, 0, 0, 2, 0, 2, 2, 1, 2, 1, 2, 1, 2, 0, 2, 1, 2, 1, 1, 1, 0, 2, 1, 2, 0, 2, 0, 0, 1, 0, 2, 1, 0, 1, 1, 1, 0, 2, 0, 2, 1, 2, 2, 2, 2, 0, 0, 2, 1, 1, 2, 1, 2, 0, 0, 1, 0, 2, 1, 0, 1, 1, 1, 2, 1, 1, 0, 2, 1, 0, 0, 2, 0, 0, 0, 1, 2, 0, 0, 0, 0, 2, 0, 2, 1, 2, 2, 2, 1, 0, 0, 1, 0, 1, 0, 2, 1, 0, 1, 0, 0, 0, 2, 2, 2, 2, 0, 0, 1, 1, 0, 1, 2, 1]}, \"mode\": \"markers\", \"type\": \"scatter\", \"x\": [3.4, 2.5, 3.6, 3.1, 3.4, 3.0, 3.2, 3.4, 3.3, 3.1, 3.4, 3.0, 2.6, 2.7, 3.0, 2.7, 2.7, 3.4, 3.0, 3.3, 3.0, 3.2, 3.0, 2.7, 2.5, 3.0, 4.4, 2.8, 3.0, 2.7, 3.4, 2.8, 3.2, 3.5, 2.9, 4.1, 3.3, 2.5, 3.0, 3.1, 2.8, 2.8, 3.9, 3.8, 3.0, 2.5, 2.6, 2.6, 3.2, 3.4, 3.1, 3.1, 3.8, 2.5, 2.8, 3.0, 2.8, 2.5, 2.9, 3.8, 3.2, 2.3, 3.2, 3.0, 3.1, 3.7, 3.0, 2.2, 3.1, 3.0, 3.2, 2.4, 3.0, 2.8, 2.3, 3.1, 4.2, 3.0, 3.8, 4.0, 3.0, 2.5, 3.0, 3.4, 3.0, 3.9, 3.4, 2.8, 3.0, 2.9, 2.2, 3.6, 3.2, 3.2, 2.4, 3.4, 3.4, 2.0, 3.7, 2.8, 3.5, 3.1, 2.6, 3.5, 3.3, 3.5, 3.8, 3.1, 2.8, 3.0, 2.7, 3.0, 3.5, 3.2, 2.3, 2.9, 3.4, 3.0, 2.7, 2.9], \"xaxis\": \"x\", \"y\": [4.6, 4.9, 4.6, 4.9, 6.3, 5.6, 5.9, 4.8, 5.0, 6.9, 5.2, 6.1, 6.1, 5.8, 5.9, 5.2, 5.8, 6.0, 6.0, 5.1, 6.8, 7.0, 7.2, 5.8, 5.5, 5.6, 5.7, 6.3, 6.1, 6.3, 5.4, 5.8, 4.7, 5.0, 6.2, 5.2, 6.7, 5.1, 4.9, 6.9, 6.1, 6.1, 5.4, 7.7, 4.3, 5.7, 5.8, 7.7, 6.9, 6.2, 6.4, 4.8, 5.7, 6.7, 6.8, 6.6, 7.7, 6.3, 6.3, 5.1, 5.0, 5.5, 4.6, 6.5, 6.7, 5.4, 5.7, 6.0, 6.7, 7.1, 6.4, 5.5, 4.8, 6.4, 6.3, 4.9, 5.5, 6.5, 5.1, 5.8, 4.8, 5.6, 6.7, 5.0, 5.0, 5.4, 5.4, 5.6, 4.4, 7.3, 6.2, 7.2, 6.5, 7.2, 5.5, 5.1, 5.0, 5.0, 5.1, 5.7, 5.0, 6.9, 5.5, 5.2, 6.3, 5.1, 5.1, 4.6, 6.4, 7.6, 6.4, 6.5, 5.1, 4.4, 5.0, 6.0, 4.8, 5.9, 5.8, 6.1], \"yaxis\": \"y\"}, {\"marker\": {\"color\": [1, 2, 1, 1, 0, 2, 2, 1, 1, 0, 1, 2, 2, 3, 2, 3, 2, 2, 2, 1, 0, 2, 0, 3, 3, 2, 1, 2, 2, 2, 1, 2, 1, 1, 2, 1, 0, 3, 1, 2, 2, 2, 1, 0, 1, 2, 3, 0, 0, 0, 0, 1, 1, 0, 2, 2, 0, 2, 0, 1, 1, 3, 1, 0, 2, 1, 2, 3, 2, 0, 2, 3, 1, 0, 2, 1, 1, 0, 1, 1, 1, 3, 0, 1, 1, 1, 1, 2, 1, 0, 2, 0, 0, 0, 3, 1, 1, 3, 1, 2, 1, 0, 2, 1, 2, 1, 1, 1, 0, 0, 0, 0, 1, 1, 3, 2, 1, 2, 2, 2]}, \"mode\": \"markers\", \"type\": \"scatter\", \"x\": [3.4, 2.5, 3.6, 3.1, 3.4, 3.0, 3.2, 3.4, 3.3, 3.1, 3.4, 3.0, 2.6, 2.7, 3.0, 2.7, 2.7, 3.4, 3.0, 3.3, 3.0, 3.2, 3.0, 2.7, 2.5, 3.0, 4.4, 2.8, 3.0, 2.7, 3.4, 2.8, 3.2, 3.5, 2.9, 4.1, 3.3, 2.5, 3.0, 3.1, 2.8, 2.8, 3.9, 3.8, 3.0, 2.5, 2.6, 2.6, 3.2, 3.4, 3.1, 3.1, 3.8, 2.5, 2.8, 3.0, 2.8, 2.5, 2.9, 3.8, 3.2, 2.3, 3.2, 3.0, 3.1, 3.7, 3.0, 2.2, 3.1, 3.0, 3.2, 2.4, 3.0, 2.8, 2.3, 3.1, 4.2, 3.0, 3.8, 4.0, 3.0, 2.5, 3.0, 3.4, 3.0, 3.9, 3.4, 2.8, 3.0, 2.9, 2.2, 3.6, 3.2, 3.2, 2.4, 3.4, 3.4, 2.0, 3.7, 2.8, 3.5, 3.1, 2.6, 3.5, 3.3, 3.5, 3.8, 3.1, 2.8, 3.0, 2.7, 3.0, 3.5, 3.2, 2.3, 2.9, 3.4, 3.0, 2.7, 2.9], \"xaxis\": \"x2\", \"y\": [4.6, 4.9, 4.6, 4.9, 6.3, 5.6, 5.9, 4.8, 5.0, 6.9, 5.2, 6.1, 6.1, 5.8, 5.9, 5.2, 5.8, 6.0, 6.0, 5.1, 6.8, 7.0, 7.2, 5.8, 5.5, 5.6, 5.7, 6.3, 6.1, 6.3, 5.4, 5.8, 4.7, 5.0, 6.2, 5.2, 6.7, 5.1, 4.9, 6.9, 6.1, 6.1, 5.4, 7.7, 4.3, 5.7, 5.8, 7.7, 6.9, 6.2, 6.4, 4.8, 5.7, 6.7, 6.8, 6.6, 7.7, 6.3, 6.3, 5.1, 5.0, 5.5, 4.6, 6.5, 6.7, 5.4, 5.7, 6.0, 6.7, 7.1, 6.4, 5.5, 4.8, 6.4, 6.3, 4.9, 5.5, 6.5, 5.1, 5.8, 4.8, 5.6, 6.7, 5.0, 5.0, 5.4, 5.4, 5.6, 4.4, 7.3, 6.2, 7.2, 6.5, 7.2, 5.5, 5.1, 5.0, 5.0, 5.1, 5.7, 5.0, 6.9, 5.5, 5.2, 6.3, 5.1, 5.1, 4.6, 6.4, 7.6, 6.4, 6.5, 5.1, 4.4, 5.0, 6.0, 4.8, 5.9, 5.8, 6.1], \"yaxis\": \"y2\"}],\n",
              "                        {\"annotations\": [{\"font\": {\"size\": 16}, \"showarrow\": false, \"text\": \"actual\", \"x\": 0.225, \"xanchor\": \"center\", \"xref\": \"paper\", \"y\": 1.0, \"yanchor\": \"bottom\", \"yref\": \"paper\"}, {\"font\": {\"size\": 16}, \"showarrow\": false, \"text\": \"agg1_cluster\", \"x\": 0.775, \"xanchor\": \"center\", \"xref\": \"paper\", \"y\": 1.0, \"yanchor\": \"bottom\", \"yref\": \"paper\"}], \"height\": 600, \"template\": {\"data\": {\"bar\": [{\"error_x\": {\"color\": \"#2a3f5f\"}, \"error_y\": {\"color\": \"#2a3f5f\"}, \"marker\": {\"line\": {\"color\": \"#E5ECF6\", \"width\": 0.5}}, \"type\": \"bar\"}], \"barpolar\": [{\"marker\": {\"line\": {\"color\": \"#E5ECF6\", \"width\": 0.5}}, \"type\": \"barpolar\"}], \"carpet\": [{\"aaxis\": {\"endlinecolor\": \"#2a3f5f\", \"gridcolor\": \"white\", \"linecolor\": \"white\", \"minorgridcolor\": \"white\", \"startlinecolor\": \"#2a3f5f\"}, \"baxis\": {\"endlinecolor\": \"#2a3f5f\", \"gridcolor\": \"white\", \"linecolor\": \"white\", \"minorgridcolor\": \"white\", \"startlinecolor\": \"#2a3f5f\"}, \"type\": \"carpet\"}], \"choropleth\": [{\"colorbar\": {\"outlinewidth\": 0, \"ticks\": \"\"}, \"type\": \"choropleth\"}], \"contour\": [{\"colorbar\": {\"outlinewidth\": 0, \"ticks\": \"\"}, \"colorscale\": [[0.0, \"#0d0887\"], [0.1111111111111111, \"#46039f\"], [0.2222222222222222, \"#7201a8\"], [0.3333333333333333, \"#9c179e\"], [0.4444444444444444, \"#bd3786\"], [0.5555555555555556, \"#d8576b\"], [0.6666666666666666, \"#ed7953\"], [0.7777777777777778, \"#fb9f3a\"], [0.8888888888888888, \"#fdca26\"], [1.0, \"#f0f921\"]], \"type\": \"contour\"}], \"contourcarpet\": [{\"colorbar\": {\"outlinewidth\": 0, \"ticks\": \"\"}, \"type\": \"contourcarpet\"}], \"heatmap\": [{\"colorbar\": {\"outlinewidth\": 0, \"ticks\": \"\"}, \"colorscale\": [[0.0, \"#0d0887\"], [0.1111111111111111, \"#46039f\"], [0.2222222222222222, \"#7201a8\"], [0.3333333333333333, \"#9c179e\"], [0.4444444444444444, \"#bd3786\"], [0.5555555555555556, \"#d8576b\"], [0.6666666666666666, \"#ed7953\"], [0.7777777777777778, \"#fb9f3a\"], [0.8888888888888888, \"#fdca26\"], [1.0, \"#f0f921\"]], \"type\": \"heatmap\"}], \"heatmapgl\": [{\"colorbar\": {\"outlinewidth\": 0, \"ticks\": \"\"}, \"colorscale\": [[0.0, \"#0d0887\"], [0.1111111111111111, \"#46039f\"], [0.2222222222222222, \"#7201a8\"], [0.3333333333333333, \"#9c179e\"], [0.4444444444444444, \"#bd3786\"], [0.5555555555555556, \"#d8576b\"], [0.6666666666666666, \"#ed7953\"], [0.7777777777777778, \"#fb9f3a\"], [0.8888888888888888, \"#fdca26\"], [1.0, \"#f0f921\"]], \"type\": \"heatmapgl\"}], \"histogram\": [{\"marker\": {\"colorbar\": {\"outlinewidth\": 0, \"ticks\": \"\"}}, \"type\": \"histogram\"}], \"histogram2d\": [{\"colorbar\": {\"outlinewidth\": 0, \"ticks\": \"\"}, \"colorscale\": [[0.0, \"#0d0887\"], [0.1111111111111111, \"#46039f\"], [0.2222222222222222, \"#7201a8\"], [0.3333333333333333, \"#9c179e\"], [0.4444444444444444, \"#bd3786\"], [0.5555555555555556, \"#d8576b\"], [0.6666666666666666, \"#ed7953\"], [0.7777777777777778, \"#fb9f3a\"], [0.8888888888888888, \"#fdca26\"], [1.0, \"#f0f921\"]], \"type\": \"histogram2d\"}], \"histogram2dcontour\": [{\"colorbar\": {\"outlinewidth\": 0, \"ticks\": \"\"}, \"colorscale\": [[0.0, \"#0d0887\"], [0.1111111111111111, \"#46039f\"], [0.2222222222222222, \"#7201a8\"], [0.3333333333333333, \"#9c179e\"], [0.4444444444444444, \"#bd3786\"], [0.5555555555555556, \"#d8576b\"], [0.6666666666666666, \"#ed7953\"], [0.7777777777777778, \"#fb9f3a\"], [0.8888888888888888, \"#fdca26\"], [1.0, \"#f0f921\"]], \"type\": \"histogram2dcontour\"}], \"mesh3d\": [{\"colorbar\": {\"outlinewidth\": 0, \"ticks\": \"\"}, \"type\": \"mesh3d\"}], \"parcoords\": [{\"line\": {\"colorbar\": {\"outlinewidth\": 0, \"ticks\": \"\"}}, \"type\": \"parcoords\"}], \"pie\": [{\"automargin\": true, \"type\": \"pie\"}], \"scatter\": [{\"marker\": {\"colorbar\": {\"outlinewidth\": 0, \"ticks\": \"\"}}, \"type\": \"scatter\"}], \"scatter3d\": [{\"line\": {\"colorbar\": {\"outlinewidth\": 0, \"ticks\": \"\"}}, \"marker\": {\"colorbar\": {\"outlinewidth\": 0, \"ticks\": \"\"}}, \"type\": \"scatter3d\"}], \"scattercarpet\": [{\"marker\": {\"colorbar\": {\"outlinewidth\": 0, \"ticks\": \"\"}}, \"type\": \"scattercarpet\"}], \"scattergeo\": [{\"marker\": {\"colorbar\": {\"outlinewidth\": 0, \"ticks\": \"\"}}, \"type\": \"scattergeo\"}], \"scattergl\": [{\"marker\": {\"colorbar\": {\"outlinewidth\": 0, \"ticks\": \"\"}}, \"type\": \"scattergl\"}], \"scattermapbox\": [{\"marker\": {\"colorbar\": {\"outlinewidth\": 0, \"ticks\": \"\"}}, \"type\": \"scattermapbox\"}], \"scatterpolar\": [{\"marker\": {\"colorbar\": {\"outlinewidth\": 0, \"ticks\": \"\"}}, \"type\": \"scatterpolar\"}], \"scatterpolargl\": [{\"marker\": {\"colorbar\": {\"outlinewidth\": 0, \"ticks\": \"\"}}, \"type\": \"scatterpolargl\"}], \"scatterternary\": [{\"marker\": {\"colorbar\": {\"outlinewidth\": 0, \"ticks\": \"\"}}, \"type\": \"scatterternary\"}], \"surface\": [{\"colorbar\": {\"outlinewidth\": 0, \"ticks\": \"\"}, \"colorscale\": [[0.0, \"#0d0887\"], [0.1111111111111111, \"#46039f\"], [0.2222222222222222, \"#7201a8\"], [0.3333333333333333, \"#9c179e\"], [0.4444444444444444, \"#bd3786\"], [0.5555555555555556, \"#d8576b\"], [0.6666666666666666, \"#ed7953\"], [0.7777777777777778, \"#fb9f3a\"], [0.8888888888888888, \"#fdca26\"], [1.0, \"#f0f921\"]], \"type\": \"surface\"}], \"table\": [{\"cells\": {\"fill\": {\"color\": \"#EBF0F8\"}, \"line\": {\"color\": \"white\"}}, \"header\": {\"fill\": {\"color\": \"#C8D4E3\"}, \"line\": {\"color\": \"white\"}}, \"type\": \"table\"}]}, \"layout\": {\"annotationdefaults\": {\"arrowcolor\": \"#2a3f5f\", \"arrowhead\": 0, \"arrowwidth\": 1}, \"coloraxis\": {\"colorbar\": {\"outlinewidth\": 0, \"ticks\": \"\"}}, \"colorscale\": {\"diverging\": [[0, \"#8e0152\"], [0.1, \"#c51b7d\"], [0.2, \"#de77ae\"], [0.3, \"#f1b6da\"], [0.4, \"#fde0ef\"], [0.5, \"#f7f7f7\"], [0.6, \"#e6f5d0\"], [0.7, \"#b8e186\"], [0.8, \"#7fbc41\"], [0.9, \"#4d9221\"], [1, \"#276419\"]], \"sequential\": [[0.0, \"#0d0887\"], [0.1111111111111111, \"#46039f\"], [0.2222222222222222, \"#7201a8\"], [0.3333333333333333, \"#9c179e\"], [0.4444444444444444, \"#bd3786\"], [0.5555555555555556, \"#d8576b\"], [0.6666666666666666, \"#ed7953\"], [0.7777777777777778, \"#fb9f3a\"], [0.8888888888888888, \"#fdca26\"], [1.0, \"#f0f921\"]], \"sequentialminus\": [[0.0, \"#0d0887\"], [0.1111111111111111, \"#46039f\"], [0.2222222222222222, \"#7201a8\"], [0.3333333333333333, \"#9c179e\"], [0.4444444444444444, \"#bd3786\"], [0.5555555555555556, \"#d8576b\"], [0.6666666666666666, \"#ed7953\"], [0.7777777777777778, \"#fb9f3a\"], [0.8888888888888888, \"#fdca26\"], [1.0, \"#f0f921\"]]}, \"colorway\": [\"#636efa\", \"#EF553B\", \"#00cc96\", \"#ab63fa\", \"#FFA15A\", \"#19d3f3\", \"#FF6692\", \"#B6E880\", \"#FF97FF\", \"#FECB52\"], \"font\": {\"color\": \"#2a3f5f\"}, \"geo\": {\"bgcolor\": \"white\", \"lakecolor\": \"white\", \"landcolor\": \"#E5ECF6\", \"showlakes\": true, \"showland\": true, \"subunitcolor\": \"white\"}, \"hoverlabel\": {\"align\": \"left\"}, \"hovermode\": \"closest\", \"mapbox\": {\"style\": \"light\"}, \"paper_bgcolor\": \"white\", \"plot_bgcolor\": \"#E5ECF6\", \"polar\": {\"angularaxis\": {\"gridcolor\": \"white\", \"linecolor\": \"white\", \"ticks\": \"\"}, \"bgcolor\": \"#E5ECF6\", \"radialaxis\": {\"gridcolor\": \"white\", \"linecolor\": \"white\", \"ticks\": \"\"}}, \"scene\": {\"xaxis\": {\"backgroundcolor\": \"#E5ECF6\", \"gridcolor\": \"white\", \"gridwidth\": 2, \"linecolor\": \"white\", \"showbackground\": true, \"ticks\": \"\", \"zerolinecolor\": \"white\"}, \"yaxis\": {\"backgroundcolor\": \"#E5ECF6\", \"gridcolor\": \"white\", \"gridwidth\": 2, \"linecolor\": \"white\", \"showbackground\": true, \"ticks\": \"\", \"zerolinecolor\": \"white\"}, \"zaxis\": {\"backgroundcolor\": \"#E5ECF6\", \"gridcolor\": \"white\", \"gridwidth\": 2, \"linecolor\": \"white\", \"showbackground\": true, \"ticks\": \"\", \"zerolinecolor\": \"white\"}}, \"shapedefaults\": {\"line\": {\"color\": \"#2a3f5f\"}}, \"ternary\": {\"aaxis\": {\"gridcolor\": \"white\", \"linecolor\": \"white\", \"ticks\": \"\"}, \"baxis\": {\"gridcolor\": \"white\", \"linecolor\": \"white\", \"ticks\": \"\"}, \"bgcolor\": \"#E5ECF6\", \"caxis\": {\"gridcolor\": \"white\", \"linecolor\": \"white\", \"ticks\": \"\"}}, \"title\": {\"x\": 0.05}, \"xaxis\": {\"automargin\": true, \"gridcolor\": \"white\", \"linecolor\": \"white\", \"ticks\": \"\", \"title\": {\"standoff\": 15}, \"zerolinecolor\": \"white\", \"zerolinewidth\": 2}, \"yaxis\": {\"automargin\": true, \"gridcolor\": \"white\", \"linecolor\": \"white\", \"ticks\": \"\", \"title\": {\"standoff\": 15}, \"zerolinecolor\": \"white\", \"zerolinewidth\": 2}}}, \"width\": 800, \"xaxis\": {\"anchor\": \"y\", \"domain\": [0.0, 0.45]}, \"xaxis2\": {\"anchor\": \"y2\", \"domain\": [0.55, 1.0]}, \"yaxis\": {\"anchor\": \"x\", \"domain\": [0.0, 1.0]}, \"yaxis2\": {\"anchor\": \"x2\", \"domain\": [0.0, 1.0]}},\n",
              "                        {\"responsive\": true}\n",
              "                    ).then(function(){\n",
              "                            \n",
              "var gd = document.getElementById('94bf0895-a06a-46e9-a466-fc0752a2c4d0');\n",
              "var x = new MutationObserver(function (mutations, observer) {{\n",
              "        var display = window.getComputedStyle(gd).display;\n",
              "        if (!display || display === 'none') {{\n",
              "            console.log([gd, 'removed!']);\n",
              "            Plotly.purge(gd);\n",
              "            observer.disconnect();\n",
              "        }}\n",
              "}});\n",
              "\n",
              "// Listen for the removal of the full notebook cells\n",
              "var notebookContainer = gd.closest('#notebook-container');\n",
              "if (notebookContainer) {{\n",
              "    x.observe(notebookContainer, {childList: true});\n",
              "}}\n",
              "\n",
              "// Listen for the clearing of the current output cell\n",
              "var outputEl = gd.closest('.output');\n",
              "if (outputEl) {{\n",
              "    x.observe(outputEl, {childList: true});\n",
              "}}\n",
              "\n",
              "                        })\n",
              "                };\n",
              "                \n",
              "            </script>\n",
              "        </div>\n",
              "</body>\n",
              "</html>"
            ]
          },
          "metadata": {
            "tags": []
          }
        }
      ]
    },
    {
      "cell_type": "code",
      "metadata": {
        "colab": {
          "base_uri": "https://localhost:8080/",
          "height": 617
        },
        "id": "PeVpZMsnypIf",
        "outputId": "1f5c99a8-2170-4049-bae9-4ed600cf3fc1"
      },
      "source": [
        "agg1_labels = agg1.labels_\n",
        "\n",
        "fig = make_subplots(rows=1, cols=2, subplot_titles=(\"actual\", \"agg1_cluster\"))\n",
        "\n",
        "fig.add_trace(\n",
        "    go.Scatter(x=train_x[\"petal_width\"],\n",
        "               y=train_x[\"petal_length\"],\n",
        "               mode=\"markers\",\n",
        "               marker=dict(color=train_y)),\n",
        "    row=1, col=1\n",
        ")\n",
        "\n",
        "fig.add_trace(\n",
        "    go.Scatter(x=train_x[\"petal_width\"],\n",
        "               y=train_x[\"petal_length\"],\n",
        "               mode=\"markers\",\n",
        "               marker=dict(color=agg1_labels)),\n",
        "    row=1, col=2\n",
        ")\n",
        "\n",
        "fig.update_layout(height=600, width=800)\n",
        "fig.show()"
      ],
      "execution_count": 61,
      "outputs": [
        {
          "output_type": "display_data",
          "data": {
            "text/html": [
              "<html>\n",
              "<head><meta charset=\"utf-8\" /></head>\n",
              "<body>\n",
              "    <div>\n",
              "            <script src=\"https://cdnjs.cloudflare.com/ajax/libs/mathjax/2.7.5/MathJax.js?config=TeX-AMS-MML_SVG\"></script><script type=\"text/javascript\">if (window.MathJax) {MathJax.Hub.Config({SVG: {font: \"STIX-Web\"}});}</script>\n",
              "                <script type=\"text/javascript\">window.PlotlyConfig = {MathJaxConfig: 'local'};</script>\n",
              "        <script src=\"https://cdn.plot.ly/plotly-latest.min.js\"></script>    \n",
              "            <div id=\"43a7b67f-394e-4997-af42-57df4e8eb3ad\" class=\"plotly-graph-div\" style=\"height:600px; width:800px;\"></div>\n",
              "            <script type=\"text/javascript\">\n",
              "                \n",
              "                    window.PLOTLYENV=window.PLOTLYENV || {};\n",
              "                    \n",
              "                if (document.getElementById(\"43a7b67f-394e-4997-af42-57df4e8eb3ad\")) {\n",
              "                    Plotly.newPlot(\n",
              "                        '43a7b67f-394e-4997-af42-57df4e8eb3ad',\n",
              "                        [{\"marker\": {\"color\": [0, 2, 0, 0, 2, 1, 1, 0, 0, 2, 0, 2, 2, 1, 2, 1, 2, 1, 2, 0, 2, 1, 2, 1, 1, 1, 0, 2, 1, 2, 0, 2, 0, 0, 1, 0, 2, 1, 0, 1, 1, 1, 0, 2, 0, 2, 1, 2, 2, 2, 2, 0, 0, 2, 1, 1, 2, 1, 2, 0, 0, 1, 0, 2, 1, 0, 1, 1, 1, 2, 1, 1, 0, 2, 1, 0, 0, 2, 0, 0, 0, 1, 2, 0, 0, 0, 0, 2, 0, 2, 1, 2, 2, 2, 1, 0, 0, 1, 0, 1, 0, 2, 1, 0, 1, 0, 0, 0, 2, 2, 2, 2, 0, 0, 1, 1, 0, 1, 2, 1]}, \"mode\": \"markers\", \"type\": \"scatter\", \"x\": [0.3, 1.7, 0.2, 0.2, 2.4, 1.3, 1.8, 0.2, 0.2, 2.3, 0.2, 1.8, 1.4, 1.2, 1.8, 1.4, 1.9, 1.6, 1.8, 0.5, 2.1, 1.4, 1.6, 1.0, 1.3, 1.5, 0.4, 1.5, 1.4, 1.8, 0.4, 2.4, 0.2, 0.6, 1.3, 0.1, 2.5, 1.1, 0.2, 1.5, 1.3, 1.2, 0.4, 2.2, 0.1, 2.0, 1.2, 2.3, 2.3, 2.3, 1.8, 0.2, 0.3, 1.8, 1.4, 1.4, 2.0, 1.5, 1.8, 0.4, 0.2, 1.3, 0.2, 1.8, 1.4, 0.2, 1.2, 1.0, 1.5, 2.1, 1.5, 1.1, 0.3, 2.2, 1.3, 0.1, 0.2, 2.0, 0.3, 0.2, 0.1, 1.1, 2.3, 0.4, 0.2, 0.4, 0.2, 2.0, 0.2, 1.8, 1.5, 2.5, 2.0, 1.8, 1.0, 0.2, 0.2, 1.0, 0.4, 1.3, 0.3, 2.1, 1.2, 0.2, 1.6, 0.2, 0.2, 0.2, 2.1, 2.1, 1.9, 2.2, 0.3, 0.2, 1.0, 1.5, 0.2, 1.5, 1.9, 1.4], \"xaxis\": \"x\", \"y\": [1.4, 4.5, 1.0, 1.5, 5.6, 4.1, 4.8, 1.9, 1.4, 5.1, 1.4, 4.9, 5.6, 3.9, 5.1, 3.9, 5.1, 4.5, 4.8, 1.7, 5.5, 4.7, 5.8, 4.1, 4.0, 4.5, 1.5, 5.1, 4.6, 4.9, 1.5, 5.1, 1.6, 1.6, 4.3, 1.5, 5.7, 3.0, 1.4, 4.9, 4.0, 4.7, 1.7, 6.7, 1.1, 5.0, 4.0, 6.9, 5.7, 5.4, 5.5, 1.6, 1.7, 5.8, 4.8, 4.4, 6.7, 4.9, 5.6, 1.9, 1.2, 4.0, 1.4, 5.5, 4.4, 1.5, 4.2, 4.0, 4.7, 5.9, 4.5, 3.8, 1.4, 5.6, 4.4, 1.5, 1.4, 5.2, 1.5, 1.2, 1.4, 3.9, 5.2, 1.6, 1.6, 1.3, 1.7, 4.9, 1.3, 6.3, 4.5, 6.1, 5.1, 6.0, 3.7, 1.5, 1.5, 3.5, 1.5, 4.5, 1.3, 5.4, 4.4, 1.5, 4.7, 1.4, 1.6, 1.5, 5.6, 6.6, 5.3, 5.8, 1.4, 1.3, 3.3, 4.5, 1.6, 4.2, 5.1, 4.7], \"yaxis\": \"y\"}, {\"marker\": {\"color\": [1, 2, 1, 1, 0, 2, 2, 1, 1, 0, 1, 2, 2, 3, 2, 3, 2, 2, 2, 1, 0, 2, 0, 3, 3, 2, 1, 2, 2, 2, 1, 2, 1, 1, 2, 1, 0, 3, 1, 2, 2, 2, 1, 0, 1, 2, 3, 0, 0, 0, 0, 1, 1, 0, 2, 2, 0, 2, 0, 1, 1, 3, 1, 0, 2, 1, 2, 3, 2, 0, 2, 3, 1, 0, 2, 1, 1, 0, 1, 1, 1, 3, 0, 1, 1, 1, 1, 2, 1, 0, 2, 0, 0, 0, 3, 1, 1, 3, 1, 2, 1, 0, 2, 1, 2, 1, 1, 1, 0, 0, 0, 0, 1, 1, 3, 2, 1, 2, 2, 2]}, \"mode\": \"markers\", \"type\": \"scatter\", \"x\": [0.3, 1.7, 0.2, 0.2, 2.4, 1.3, 1.8, 0.2, 0.2, 2.3, 0.2, 1.8, 1.4, 1.2, 1.8, 1.4, 1.9, 1.6, 1.8, 0.5, 2.1, 1.4, 1.6, 1.0, 1.3, 1.5, 0.4, 1.5, 1.4, 1.8, 0.4, 2.4, 0.2, 0.6, 1.3, 0.1, 2.5, 1.1, 0.2, 1.5, 1.3, 1.2, 0.4, 2.2, 0.1, 2.0, 1.2, 2.3, 2.3, 2.3, 1.8, 0.2, 0.3, 1.8, 1.4, 1.4, 2.0, 1.5, 1.8, 0.4, 0.2, 1.3, 0.2, 1.8, 1.4, 0.2, 1.2, 1.0, 1.5, 2.1, 1.5, 1.1, 0.3, 2.2, 1.3, 0.1, 0.2, 2.0, 0.3, 0.2, 0.1, 1.1, 2.3, 0.4, 0.2, 0.4, 0.2, 2.0, 0.2, 1.8, 1.5, 2.5, 2.0, 1.8, 1.0, 0.2, 0.2, 1.0, 0.4, 1.3, 0.3, 2.1, 1.2, 0.2, 1.6, 0.2, 0.2, 0.2, 2.1, 2.1, 1.9, 2.2, 0.3, 0.2, 1.0, 1.5, 0.2, 1.5, 1.9, 1.4], \"xaxis\": \"x2\", \"y\": [1.4, 4.5, 1.0, 1.5, 5.6, 4.1, 4.8, 1.9, 1.4, 5.1, 1.4, 4.9, 5.6, 3.9, 5.1, 3.9, 5.1, 4.5, 4.8, 1.7, 5.5, 4.7, 5.8, 4.1, 4.0, 4.5, 1.5, 5.1, 4.6, 4.9, 1.5, 5.1, 1.6, 1.6, 4.3, 1.5, 5.7, 3.0, 1.4, 4.9, 4.0, 4.7, 1.7, 6.7, 1.1, 5.0, 4.0, 6.9, 5.7, 5.4, 5.5, 1.6, 1.7, 5.8, 4.8, 4.4, 6.7, 4.9, 5.6, 1.9, 1.2, 4.0, 1.4, 5.5, 4.4, 1.5, 4.2, 4.0, 4.7, 5.9, 4.5, 3.8, 1.4, 5.6, 4.4, 1.5, 1.4, 5.2, 1.5, 1.2, 1.4, 3.9, 5.2, 1.6, 1.6, 1.3, 1.7, 4.9, 1.3, 6.3, 4.5, 6.1, 5.1, 6.0, 3.7, 1.5, 1.5, 3.5, 1.5, 4.5, 1.3, 5.4, 4.4, 1.5, 4.7, 1.4, 1.6, 1.5, 5.6, 6.6, 5.3, 5.8, 1.4, 1.3, 3.3, 4.5, 1.6, 4.2, 5.1, 4.7], \"yaxis\": \"y2\"}],\n",
              "                        {\"annotations\": [{\"font\": {\"size\": 16}, \"showarrow\": false, \"text\": \"actual\", \"x\": 0.225, \"xanchor\": \"center\", \"xref\": \"paper\", \"y\": 1.0, \"yanchor\": \"bottom\", \"yref\": \"paper\"}, {\"font\": {\"size\": 16}, \"showarrow\": false, \"text\": \"agg1_cluster\", \"x\": 0.775, \"xanchor\": \"center\", \"xref\": \"paper\", \"y\": 1.0, \"yanchor\": \"bottom\", \"yref\": \"paper\"}], \"height\": 600, \"template\": {\"data\": {\"bar\": [{\"error_x\": {\"color\": \"#2a3f5f\"}, \"error_y\": {\"color\": \"#2a3f5f\"}, \"marker\": {\"line\": {\"color\": \"#E5ECF6\", \"width\": 0.5}}, \"type\": \"bar\"}], \"barpolar\": [{\"marker\": {\"line\": {\"color\": \"#E5ECF6\", \"width\": 0.5}}, \"type\": \"barpolar\"}], \"carpet\": [{\"aaxis\": {\"endlinecolor\": \"#2a3f5f\", \"gridcolor\": \"white\", \"linecolor\": \"white\", \"minorgridcolor\": \"white\", \"startlinecolor\": \"#2a3f5f\"}, \"baxis\": {\"endlinecolor\": \"#2a3f5f\", \"gridcolor\": \"white\", \"linecolor\": \"white\", \"minorgridcolor\": \"white\", \"startlinecolor\": \"#2a3f5f\"}, \"type\": \"carpet\"}], \"choropleth\": [{\"colorbar\": {\"outlinewidth\": 0, \"ticks\": \"\"}, \"type\": \"choropleth\"}], \"contour\": [{\"colorbar\": {\"outlinewidth\": 0, \"ticks\": \"\"}, \"colorscale\": [[0.0, \"#0d0887\"], [0.1111111111111111, \"#46039f\"], [0.2222222222222222, \"#7201a8\"], [0.3333333333333333, \"#9c179e\"], [0.4444444444444444, \"#bd3786\"], [0.5555555555555556, \"#d8576b\"], [0.6666666666666666, \"#ed7953\"], [0.7777777777777778, \"#fb9f3a\"], [0.8888888888888888, \"#fdca26\"], [1.0, \"#f0f921\"]], \"type\": \"contour\"}], \"contourcarpet\": [{\"colorbar\": {\"outlinewidth\": 0, \"ticks\": \"\"}, \"type\": \"contourcarpet\"}], \"heatmap\": [{\"colorbar\": {\"outlinewidth\": 0, \"ticks\": \"\"}, \"colorscale\": [[0.0, \"#0d0887\"], [0.1111111111111111, \"#46039f\"], [0.2222222222222222, \"#7201a8\"], [0.3333333333333333, \"#9c179e\"], [0.4444444444444444, \"#bd3786\"], [0.5555555555555556, \"#d8576b\"], [0.6666666666666666, \"#ed7953\"], [0.7777777777777778, \"#fb9f3a\"], [0.8888888888888888, \"#fdca26\"], [1.0, \"#f0f921\"]], \"type\": \"heatmap\"}], \"heatmapgl\": [{\"colorbar\": {\"outlinewidth\": 0, \"ticks\": \"\"}, \"colorscale\": [[0.0, \"#0d0887\"], [0.1111111111111111, \"#46039f\"], [0.2222222222222222, \"#7201a8\"], [0.3333333333333333, \"#9c179e\"], [0.4444444444444444, \"#bd3786\"], [0.5555555555555556, \"#d8576b\"], [0.6666666666666666, \"#ed7953\"], [0.7777777777777778, \"#fb9f3a\"], [0.8888888888888888, \"#fdca26\"], [1.0, \"#f0f921\"]], \"type\": \"heatmapgl\"}], \"histogram\": [{\"marker\": {\"colorbar\": {\"outlinewidth\": 0, \"ticks\": \"\"}}, \"type\": \"histogram\"}], \"histogram2d\": [{\"colorbar\": {\"outlinewidth\": 0, \"ticks\": \"\"}, \"colorscale\": [[0.0, \"#0d0887\"], [0.1111111111111111, \"#46039f\"], [0.2222222222222222, \"#7201a8\"], [0.3333333333333333, \"#9c179e\"], [0.4444444444444444, \"#bd3786\"], [0.5555555555555556, \"#d8576b\"], [0.6666666666666666, \"#ed7953\"], [0.7777777777777778, \"#fb9f3a\"], [0.8888888888888888, \"#fdca26\"], [1.0, \"#f0f921\"]], \"type\": \"histogram2d\"}], \"histogram2dcontour\": [{\"colorbar\": {\"outlinewidth\": 0, \"ticks\": \"\"}, \"colorscale\": [[0.0, \"#0d0887\"], [0.1111111111111111, \"#46039f\"], [0.2222222222222222, \"#7201a8\"], [0.3333333333333333, \"#9c179e\"], [0.4444444444444444, \"#bd3786\"], [0.5555555555555556, \"#d8576b\"], [0.6666666666666666, \"#ed7953\"], [0.7777777777777778, \"#fb9f3a\"], [0.8888888888888888, \"#fdca26\"], [1.0, \"#f0f921\"]], \"type\": \"histogram2dcontour\"}], \"mesh3d\": [{\"colorbar\": {\"outlinewidth\": 0, \"ticks\": \"\"}, \"type\": \"mesh3d\"}], \"parcoords\": [{\"line\": {\"colorbar\": {\"outlinewidth\": 0, \"ticks\": \"\"}}, \"type\": \"parcoords\"}], \"pie\": [{\"automargin\": true, \"type\": \"pie\"}], \"scatter\": [{\"marker\": {\"colorbar\": {\"outlinewidth\": 0, \"ticks\": \"\"}}, \"type\": \"scatter\"}], \"scatter3d\": [{\"line\": {\"colorbar\": {\"outlinewidth\": 0, \"ticks\": \"\"}}, \"marker\": {\"colorbar\": {\"outlinewidth\": 0, \"ticks\": \"\"}}, \"type\": \"scatter3d\"}], \"scattercarpet\": [{\"marker\": {\"colorbar\": {\"outlinewidth\": 0, \"ticks\": \"\"}}, \"type\": \"scattercarpet\"}], \"scattergeo\": [{\"marker\": {\"colorbar\": {\"outlinewidth\": 0, \"ticks\": \"\"}}, \"type\": \"scattergeo\"}], \"scattergl\": [{\"marker\": {\"colorbar\": {\"outlinewidth\": 0, \"ticks\": \"\"}}, \"type\": \"scattergl\"}], \"scattermapbox\": [{\"marker\": {\"colorbar\": {\"outlinewidth\": 0, \"ticks\": \"\"}}, \"type\": \"scattermapbox\"}], \"scatterpolar\": [{\"marker\": {\"colorbar\": {\"outlinewidth\": 0, \"ticks\": \"\"}}, \"type\": \"scatterpolar\"}], \"scatterpolargl\": [{\"marker\": {\"colorbar\": {\"outlinewidth\": 0, \"ticks\": \"\"}}, \"type\": \"scatterpolargl\"}], \"scatterternary\": [{\"marker\": {\"colorbar\": {\"outlinewidth\": 0, \"ticks\": \"\"}}, \"type\": \"scatterternary\"}], \"surface\": [{\"colorbar\": {\"outlinewidth\": 0, \"ticks\": \"\"}, \"colorscale\": [[0.0, \"#0d0887\"], [0.1111111111111111, \"#46039f\"], [0.2222222222222222, \"#7201a8\"], [0.3333333333333333, \"#9c179e\"], [0.4444444444444444, \"#bd3786\"], [0.5555555555555556, \"#d8576b\"], [0.6666666666666666, \"#ed7953\"], [0.7777777777777778, \"#fb9f3a\"], [0.8888888888888888, \"#fdca26\"], [1.0, \"#f0f921\"]], \"type\": \"surface\"}], \"table\": [{\"cells\": {\"fill\": {\"color\": \"#EBF0F8\"}, \"line\": {\"color\": \"white\"}}, \"header\": {\"fill\": {\"color\": \"#C8D4E3\"}, \"line\": {\"color\": \"white\"}}, \"type\": \"table\"}]}, \"layout\": {\"annotationdefaults\": {\"arrowcolor\": \"#2a3f5f\", \"arrowhead\": 0, \"arrowwidth\": 1}, \"coloraxis\": {\"colorbar\": {\"outlinewidth\": 0, \"ticks\": \"\"}}, \"colorscale\": {\"diverging\": [[0, \"#8e0152\"], [0.1, \"#c51b7d\"], [0.2, \"#de77ae\"], [0.3, \"#f1b6da\"], [0.4, \"#fde0ef\"], [0.5, \"#f7f7f7\"], [0.6, \"#e6f5d0\"], [0.7, \"#b8e186\"], [0.8, \"#7fbc41\"], [0.9, \"#4d9221\"], [1, \"#276419\"]], \"sequential\": [[0.0, \"#0d0887\"], [0.1111111111111111, \"#46039f\"], [0.2222222222222222, \"#7201a8\"], [0.3333333333333333, \"#9c179e\"], [0.4444444444444444, \"#bd3786\"], [0.5555555555555556, \"#d8576b\"], [0.6666666666666666, \"#ed7953\"], [0.7777777777777778, \"#fb9f3a\"], [0.8888888888888888, \"#fdca26\"], [1.0, \"#f0f921\"]], \"sequentialminus\": [[0.0, \"#0d0887\"], [0.1111111111111111, \"#46039f\"], [0.2222222222222222, \"#7201a8\"], [0.3333333333333333, \"#9c179e\"], [0.4444444444444444, \"#bd3786\"], [0.5555555555555556, \"#d8576b\"], [0.6666666666666666, \"#ed7953\"], [0.7777777777777778, \"#fb9f3a\"], [0.8888888888888888, \"#fdca26\"], [1.0, \"#f0f921\"]]}, \"colorway\": [\"#636efa\", \"#EF553B\", \"#00cc96\", \"#ab63fa\", \"#FFA15A\", \"#19d3f3\", \"#FF6692\", \"#B6E880\", \"#FF97FF\", \"#FECB52\"], \"font\": {\"color\": \"#2a3f5f\"}, \"geo\": {\"bgcolor\": \"white\", \"lakecolor\": \"white\", \"landcolor\": \"#E5ECF6\", \"showlakes\": true, \"showland\": true, \"subunitcolor\": \"white\"}, \"hoverlabel\": {\"align\": \"left\"}, \"hovermode\": \"closest\", \"mapbox\": {\"style\": \"light\"}, \"paper_bgcolor\": \"white\", \"plot_bgcolor\": \"#E5ECF6\", \"polar\": {\"angularaxis\": {\"gridcolor\": \"white\", \"linecolor\": \"white\", \"ticks\": \"\"}, \"bgcolor\": \"#E5ECF6\", \"radialaxis\": {\"gridcolor\": \"white\", \"linecolor\": \"white\", \"ticks\": \"\"}}, \"scene\": {\"xaxis\": {\"backgroundcolor\": \"#E5ECF6\", \"gridcolor\": \"white\", \"gridwidth\": 2, \"linecolor\": \"white\", \"showbackground\": true, \"ticks\": \"\", \"zerolinecolor\": \"white\"}, \"yaxis\": {\"backgroundcolor\": \"#E5ECF6\", \"gridcolor\": \"white\", \"gridwidth\": 2, \"linecolor\": \"white\", \"showbackground\": true, \"ticks\": \"\", \"zerolinecolor\": \"white\"}, \"zaxis\": {\"backgroundcolor\": \"#E5ECF6\", \"gridcolor\": \"white\", \"gridwidth\": 2, \"linecolor\": \"white\", \"showbackground\": true, \"ticks\": \"\", \"zerolinecolor\": \"white\"}}, \"shapedefaults\": {\"line\": {\"color\": \"#2a3f5f\"}}, \"ternary\": {\"aaxis\": {\"gridcolor\": \"white\", \"linecolor\": \"white\", \"ticks\": \"\"}, \"baxis\": {\"gridcolor\": \"white\", \"linecolor\": \"white\", \"ticks\": \"\"}, \"bgcolor\": \"#E5ECF6\", \"caxis\": {\"gridcolor\": \"white\", \"linecolor\": \"white\", \"ticks\": \"\"}}, \"title\": {\"x\": 0.05}, \"xaxis\": {\"automargin\": true, \"gridcolor\": \"white\", \"linecolor\": \"white\", \"ticks\": \"\", \"title\": {\"standoff\": 15}, \"zerolinecolor\": \"white\", \"zerolinewidth\": 2}, \"yaxis\": {\"automargin\": true, \"gridcolor\": \"white\", \"linecolor\": \"white\", \"ticks\": \"\", \"title\": {\"standoff\": 15}, \"zerolinecolor\": \"white\", \"zerolinewidth\": 2}}}, \"width\": 800, \"xaxis\": {\"anchor\": \"y\", \"domain\": [0.0, 0.45]}, \"xaxis2\": {\"anchor\": \"y2\", \"domain\": [0.55, 1.0]}, \"yaxis\": {\"anchor\": \"x\", \"domain\": [0.0, 1.0]}, \"yaxis2\": {\"anchor\": \"x2\", \"domain\": [0.0, 1.0]}},\n",
              "                        {\"responsive\": true}\n",
              "                    ).then(function(){\n",
              "                            \n",
              "var gd = document.getElementById('43a7b67f-394e-4997-af42-57df4e8eb3ad');\n",
              "var x = new MutationObserver(function (mutations, observer) {{\n",
              "        var display = window.getComputedStyle(gd).display;\n",
              "        if (!display || display === 'none') {{\n",
              "            console.log([gd, 'removed!']);\n",
              "            Plotly.purge(gd);\n",
              "            observer.disconnect();\n",
              "        }}\n",
              "}});\n",
              "\n",
              "// Listen for the removal of the full notebook cells\n",
              "var notebookContainer = gd.closest('#notebook-container');\n",
              "if (notebookContainer) {{\n",
              "    x.observe(notebookContainer, {childList: true});\n",
              "}}\n",
              "\n",
              "// Listen for the clearing of the current output cell\n",
              "var outputEl = gd.closest('.output');\n",
              "if (outputEl) {{\n",
              "    x.observe(outputEl, {childList: true});\n",
              "}}\n",
              "\n",
              "                        })\n",
              "                };\n",
              "                \n",
              "            </script>\n",
              "        </div>\n",
              "</body>\n",
              "</html>"
            ]
          },
          "metadata": {
            "tags": []
          }
        }
      ]
    },
    {
      "cell_type": "markdown",
      "metadata": {
        "id": "_WjJln-sy3lS"
      },
      "source": [
        "### 그럼 Agglomerative는 언제 사용해야할까?"
      ]
    },
    {
      "cell_type": "markdown",
      "metadata": {
        "id": "hEsKPQU3y7U-"
      },
      "source": [
        "[Hierarchical clustering의 장단점]\n",
        "- cluster 수(k)를 정하지 않아도 사용 가능.\n",
        "- random point에서 시작하지 않으므로, 동일한 결과가 나옴.\n",
        "- dendrogram을 통해 전체적인 군집을 확인할 수 있음 (nested clusters).\n",
        "\n",
        "- 대용량 데이터에 비효율적임 (계산이 많음)\n",
        "\n",
        "-> 샘플 데이터로 가볍게 군집분포를 확인하거나 nested clusters를 확인하기에 유용함.\n",
        "\n",
        "-> HDBSCAN의 기초지식"
      ]
    },
    {
      "cell_type": "markdown",
      "metadata": {
        "id": "TmqGh5FCFc_2"
      },
      "source": [
        "### DBSCAN 알고리즘\n",
        "[장점]\n",
        "- K-means와 달리 최초 k(군집수)를 직접 할당하지 않음.\n",
        "- Density(밀도)에 따라서 군집을 나누기 때문에, 기하학적인 모양을 갖는 분포도 적용 가능.\n",
        "- Outlier 구분이 가능함."
      ]
    },
    {
      "cell_type": "code",
      "metadata": {
        "colab": {
          "base_uri": "https://localhost:8080/"
        },
        "id": "V7x0HnHQyuH7",
        "outputId": "45cba74e-777f-4507-ab72-47efb4edcdd0"
      },
      "source": [
        "# DBSCAN - 비구형 데이터 생성하기\n",
        "from sklearn.datasets import make_moons # 랜덤한 분포 생성\n",
        "\n",
        "moon_data, moon_labels = make_moons(n_samples=400, noise=0.1, random_state=42)\n",
        "moon_data[:5]"
      ],
      "execution_count": 62,
      "outputs": [
        {
          "output_type": "execute_result",
          "data": {
            "text/plain": [
              "array([[-0.04405185,  0.43607778],\n",
              "       [ 0.69223045, -0.40111946],\n",
              "       [ 0.8281978 ,  0.54152189],\n",
              "       [ 0.17881243,  0.26886231],\n",
              "       [ 0.0917154 ,  0.94611799]])"
            ]
          },
          "metadata": {
            "tags": []
          },
          "execution_count": 62
        }
      ]
    },
    {
      "cell_type": "code",
      "metadata": {
        "colab": {
          "base_uri": "https://localhost:8080/"
        },
        "id": "vser8O4VG1n4",
        "outputId": "d5adc35a-e925-4af1-acb1-174f5c28c33f"
      },
      "source": [
        "moon_labels"
      ],
      "execution_count": 63,
      "outputs": [
        {
          "output_type": "execute_result",
          "data": {
            "text/plain": [
              "array([1, 1, 0, 1, 0, 0, 1, 0, 1, 0, 0, 1, 0, 0, 0, 0, 1, 1, 1, 1, 0, 0,\n",
              "       1, 1, 0, 1, 0, 1, 1, 0, 1, 0, 1, 0, 1, 0, 0, 1, 0, 0, 1, 0, 0, 0,\n",
              "       0, 1, 0, 0, 0, 0, 0, 1, 1, 0, 1, 0, 1, 0, 0, 0, 0, 1, 1, 0, 0, 0,\n",
              "       1, 1, 1, 0, 1, 0, 0, 0, 1, 1, 1, 1, 0, 1, 0, 0, 1, 1, 1, 0, 1, 1,\n",
              "       0, 0, 1, 1, 0, 1, 0, 1, 1, 1, 1, 0, 1, 0, 0, 0, 0, 0, 0, 0, 1, 1,\n",
              "       0, 1, 1, 1, 1, 0, 0, 1, 1, 1, 0, 0, 0, 1, 0, 0, 1, 1, 0, 1, 1, 0,\n",
              "       1, 0, 0, 0, 1, 1, 1, 1, 0, 0, 1, 0, 0, 1, 0, 0, 0, 1, 0, 1, 1, 0,\n",
              "       0, 0, 0, 0, 1, 1, 1, 1, 1, 0, 1, 0, 1, 0, 0, 1, 0, 0, 0, 0, 0, 1,\n",
              "       0, 1, 0, 0, 0, 0, 0, 0, 0, 0, 1, 1, 1, 0, 0, 0, 1, 0, 1, 1, 1, 1,\n",
              "       1, 1, 0, 1, 1, 1, 1, 0, 0, 0, 1, 0, 1, 0, 0, 1, 1, 0, 1, 1, 1, 1,\n",
              "       1, 0, 1, 0, 0, 0, 0, 1, 0, 1, 0, 1, 1, 0, 0, 1, 1, 1, 1, 1, 1, 0,\n",
              "       0, 1, 0, 0, 1, 0, 1, 1, 0, 1, 0, 1, 0, 1, 0, 0, 1, 0, 0, 0, 0, 0,\n",
              "       0, 0, 1, 1, 1, 0, 0, 1, 1, 1, 0, 0, 1, 1, 1, 1, 0, 1, 1, 0, 1, 1,\n",
              "       1, 0, 0, 1, 0, 0, 0, 1, 1, 1, 0, 1, 1, 1, 1, 0, 1, 0, 0, 0, 0, 0,\n",
              "       0, 1, 0, 0, 0, 1, 1, 1, 1, 1, 1, 1, 1, 1, 1, 1, 1, 1, 1, 1, 1, 0,\n",
              "       0, 1, 0, 1, 1, 0, 0, 0, 0, 0, 1, 0, 1, 0, 1, 0, 1, 1, 1, 0, 1, 0,\n",
              "       1, 0, 1, 1, 0, 1, 1, 1, 1, 0, 0, 0, 0, 1, 0, 0, 0, 0, 1, 1, 1, 0,\n",
              "       1, 0, 1, 0, 1, 1, 1, 1, 0, 0, 0, 1, 0, 1, 0, 1, 1, 0, 1, 0, 0, 0,\n",
              "       0, 1, 1, 0])"
            ]
          },
          "metadata": {
            "tags": []
          },
          "execution_count": 63
        }
      ]
    },
    {
      "cell_type": "code",
      "metadata": {
        "colab": {
          "base_uri": "https://localhost:8080/",
          "height": 204
        },
        "id": "ngUYQT4LG3WM",
        "outputId": "3fb0e14b-0378-4225-85db-953f98e6798b"
      },
      "source": [
        "moon_data_df = pd.DataFrame(moon_data, columns=[\"x\",\"y\"])\n",
        "moon_data_df[\"label\"] = moon_labels\n",
        "moon_data_df.head()"
      ],
      "execution_count": 64,
      "outputs": [
        {
          "output_type": "execute_result",
          "data": {
            "text/html": [
              "<div>\n",
              "<style scoped>\n",
              "    .dataframe tbody tr th:only-of-type {\n",
              "        vertical-align: middle;\n",
              "    }\n",
              "\n",
              "    .dataframe tbody tr th {\n",
              "        vertical-align: top;\n",
              "    }\n",
              "\n",
              "    .dataframe thead th {\n",
              "        text-align: right;\n",
              "    }\n",
              "</style>\n",
              "<table border=\"1\" class=\"dataframe\">\n",
              "  <thead>\n",
              "    <tr style=\"text-align: right;\">\n",
              "      <th></th>\n",
              "      <th>x</th>\n",
              "      <th>y</th>\n",
              "      <th>label</th>\n",
              "    </tr>\n",
              "  </thead>\n",
              "  <tbody>\n",
              "    <tr>\n",
              "      <th>0</th>\n",
              "      <td>-0.044052</td>\n",
              "      <td>0.436078</td>\n",
              "      <td>1</td>\n",
              "    </tr>\n",
              "    <tr>\n",
              "      <th>1</th>\n",
              "      <td>0.692230</td>\n",
              "      <td>-0.401119</td>\n",
              "      <td>1</td>\n",
              "    </tr>\n",
              "    <tr>\n",
              "      <th>2</th>\n",
              "      <td>0.828198</td>\n",
              "      <td>0.541522</td>\n",
              "      <td>0</td>\n",
              "    </tr>\n",
              "    <tr>\n",
              "      <th>3</th>\n",
              "      <td>0.178812</td>\n",
              "      <td>0.268862</td>\n",
              "      <td>1</td>\n",
              "    </tr>\n",
              "    <tr>\n",
              "      <th>4</th>\n",
              "      <td>0.091715</td>\n",
              "      <td>0.946118</td>\n",
              "      <td>0</td>\n",
              "    </tr>\n",
              "  </tbody>\n",
              "</table>\n",
              "</div>"
            ],
            "text/plain": [
              "          x         y  label\n",
              "0 -0.044052  0.436078      1\n",
              "1  0.692230 -0.401119      1\n",
              "2  0.828198  0.541522      0\n",
              "3  0.178812  0.268862      1\n",
              "4  0.091715  0.946118      0"
            ]
          },
          "metadata": {
            "tags": []
          },
          "execution_count": 64
        }
      ]
    },
    {
      "cell_type": "code",
      "metadata": {
        "colab": {
          "base_uri": "https://localhost:8080/",
          "height": 517
        },
        "id": "rhesD5RrHCQO",
        "outputId": "dcc2129c-c8d1-4283-84bb-1dc30dc56554"
      },
      "source": [
        "# noise = 0.1\n",
        "fig = px.scatter(moon_data_df, x=\"x\", y=\"y\", color=\"label\")\n",
        "fig.update_layout(width=600, height=500)\n",
        "fig.show()"
      ],
      "execution_count": 65,
      "outputs": [
        {
          "output_type": "display_data",
          "data": {
            "text/html": [
              "<html>\n",
              "<head><meta charset=\"utf-8\" /></head>\n",
              "<body>\n",
              "    <div>\n",
              "            <script src=\"https://cdnjs.cloudflare.com/ajax/libs/mathjax/2.7.5/MathJax.js?config=TeX-AMS-MML_SVG\"></script><script type=\"text/javascript\">if (window.MathJax) {MathJax.Hub.Config({SVG: {font: \"STIX-Web\"}});}</script>\n",
              "                <script type=\"text/javascript\">window.PlotlyConfig = {MathJaxConfig: 'local'};</script>\n",
              "        <script src=\"https://cdn.plot.ly/plotly-latest.min.js\"></script>    \n",
              "            <div id=\"781a9187-389e-4489-9c9d-9f6472f7f67b\" class=\"plotly-graph-div\" style=\"height:500px; width:600px;\"></div>\n",
              "            <script type=\"text/javascript\">\n",
              "                \n",
              "                    window.PLOTLYENV=window.PLOTLYENV || {};\n",
              "                    \n",
              "                if (document.getElementById(\"781a9187-389e-4489-9c9d-9f6472f7f67b\")) {\n",
              "                    Plotly.newPlot(\n",
              "                        '781a9187-389e-4489-9c9d-9f6472f7f67b',\n",
              "                        [{\"hoverlabel\": {\"namelength\": 0}, \"hovertemplate\": \"x=%{x}<br>y=%{y}<br>label=%{marker.color}\", \"legendgroup\": \"\", \"marker\": {\"color\": [1, 1, 0, 1, 0, 0, 1, 0, 1, 0, 0, 1, 0, 0, 0, 0, 1, 1, 1, 1, 0, 0, 1, 1, 0, 1, 0, 1, 1, 0, 1, 0, 1, 0, 1, 0, 0, 1, 0, 0, 1, 0, 0, 0, 0, 1, 0, 0, 0, 0, 0, 1, 1, 0, 1, 0, 1, 0, 0, 0, 0, 1, 1, 0, 0, 0, 1, 1, 1, 0, 1, 0, 0, 0, 1, 1, 1, 1, 0, 1, 0, 0, 1, 1, 1, 0, 1, 1, 0, 0, 1, 1, 0, 1, 0, 1, 1, 1, 1, 0, 1, 0, 0, 0, 0, 0, 0, 0, 1, 1, 0, 1, 1, 1, 1, 0, 0, 1, 1, 1, 0, 0, 0, 1, 0, 0, 1, 1, 0, 1, 1, 0, 1, 0, 0, 0, 1, 1, 1, 1, 0, 0, 1, 0, 0, 1, 0, 0, 0, 1, 0, 1, 1, 0, 0, 0, 0, 0, 1, 1, 1, 1, 1, 0, 1, 0, 1, 0, 0, 1, 0, 0, 0, 0, 0, 1, 0, 1, 0, 0, 0, 0, 0, 0, 0, 0, 1, 1, 1, 0, 0, 0, 1, 0, 1, 1, 1, 1, 1, 1, 0, 1, 1, 1, 1, 0, 0, 0, 1, 0, 1, 0, 0, 1, 1, 0, 1, 1, 1, 1, 1, 0, 1, 0, 0, 0, 0, 1, 0, 1, 0, 1, 1, 0, 0, 1, 1, 1, 1, 1, 1, 0, 0, 1, 0, 0, 1, 0, 1, 1, 0, 1, 0, 1, 0, 1, 0, 0, 1, 0, 0, 0, 0, 0, 0, 0, 1, 1, 1, 0, 0, 1, 1, 1, 0, 0, 1, 1, 1, 1, 0, 1, 1, 0, 1, 1, 1, 0, 0, 1, 0, 0, 0, 1, 1, 1, 0, 1, 1, 1, 1, 0, 1, 0, 0, 0, 0, 0, 0, 1, 0, 0, 0, 1, 1, 1, 1, 1, 1, 1, 1, 1, 1, 1, 1, 1, 1, 1, 1, 0, 0, 1, 0, 1, 1, 0, 0, 0, 0, 0, 1, 0, 1, 0, 1, 0, 1, 1, 1, 0, 1, 0, 1, 0, 1, 1, 0, 1, 1, 1, 1, 0, 0, 0, 0, 1, 0, 0, 0, 0, 1, 1, 1, 0, 1, 0, 1, 0, 1, 1, 1, 1, 0, 0, 0, 1, 0, 1, 0, 1, 1, 0, 1, 0, 0, 0, 0, 1, 1, 0], \"coloraxis\": \"coloraxis\", \"symbol\": \"circle\"}, \"mode\": \"markers\", \"name\": \"\", \"showlegend\": false, \"type\": \"scatter\", \"x\": [-0.04405185436455387, 0.6922304485774229, 0.8281977981485314, 0.17881242677930137, 0.09171539700050081, 0.40156045922972966, 1.3757911943525358, 0.07314713993172753, 0.45860466022215285, -0.4178031928161623, 0.9579878024190793, 1.8524970559962026, 0.5552516585363515, 0.3022727378193304, -0.5247965363754132, 0.8580279728331913, 0.6189365495878882, 1.8927960119108467, 0.11756338555092069, 2.169029362678773, 0.404559599307745, 1.0893364137634811, 2.0669459262896903, 0.5877990025461418, 1.0446289348001918, 2.0490213676870517, -0.29381359169325855, 0.02237367735743013, 0.453000976269902, 0.052039835716421845, 2.1534991209951535, -1.119340367715941, 0.6240688008428807, 0.6746685269538756, 0.11590511420338562, -0.25247367792137004, -0.043682834885529404, 1.7828070067277453, -0.834513603902822, -0.5049155905696417, 1.806489808286964, 0.7605778678586781, 0.29985442632480913, 0.8905252470097118, 0.11826978657090345, 2.0034066514848714, -0.7130367234824387, -1.0452223143606545, 0.9604818564529551, -1.0610029020734704, 0.9290715732995999, 1.3419458957279273, 1.5452174341489513, 0.3985161871037338, 1.764957168546406, 0.9224449677324292, 0.033462363099337374, -0.8919029408079996, 1.0225793504988576, -0.9710888438761187, -0.4791414581275831, 0.8408477423017393, 0.2964391408080224, 0.4919544089308461, 0.0410776773647474, 0.9666350914963895, 1.6831546515793194, 0.43826348511034413, 1.740452092301724, 0.21658112980549674, 1.3012044573186852, -0.64388146241787, 0.9496985380360062, 0.6683706670351148, 2.021650614049808, 0.16473890548509473, -0.009247095964754717, 1.7690167227990816, -1.0104913674247578, 0.702434617830942, 0.9493893492279155, 0.8953640992371084, -0.15095907350779758, 0.28341059943157637, 0.686247114883507, 0.42168660618408793, 0.4135899135206339, 1.0577396586654602, 0.0034514995502456514, 0.2647671231050478, 0.06324742529253595, 1.5658002856216526, -0.2559695512442949, 0.2090468050023805, -1.0197784695319896, 1.1529542320186548, 1.8320855582539974, 1.9886682809991771, -0.16419264277805473, 0.3254160858230126, 0.20654495134218478, -0.02532499674177502, 1.0832306132818155, 0.5278969205172018, -0.7422978282856604, 1.0762354226047843, 0.9804704487371622, -0.7609520671028389, 1.7419705803807746, 1.8949012493453714, -0.49651016735263764, 2.0281830266713725, 0.7295586309939159, 2.0165730120568788, 1.0090524120850748, 0.8181446341926059, 0.47919081281108183, 0.8291064621354819, 1.1864304003533328, 0.7588546454896044, -0.9246852132955579, -0.19973768447083562, 0.940616481696544, 1.8498418744289271, 1.0076808280989389, -0.966543565363345, 1.6638459329092838, 1.6872832037570835, -0.9976923228984038, 0.259718542404861, 1.260522773047423, -0.5812357980233047, 0.5687897887080057, -0.9002692152319717, -0.25582248118023304, -1.1138631338303022, 0.13234844337348306, 0.5078751167554956, -0.11594691159512407, 1.0831469058632226, 0.9771117727121236, -0.32661461873026315, 0.9063697767081207, -0.6203513588550882, -1.1511863158724789, 0.7803374476056197, 0.5955667439508922, -0.1308958348924223, -0.8799966733224986, 1.922550311349182, 1.1750337382650022, 1.5611843539210797, 0.4481765327303048, -0.7585085272396329, 1.051622752860439, -0.8092021378321275, -0.07657329479524141, 0.3643485289920689, 1.3457410648452206, 1.9250783905350084, 2.128778248212025, 0.0706262481600407, 1.0274744413540133, -0.9039386882590633, 1.792856509913606, 0.23340051836624431, 2.0071012074483465, -0.7848715472141286, -0.6052644989118215, 0.05187296202004671, 0.18346525575039668, 0.4357050503972449, -0.19161096380566223, 0.23246382980226774, -0.6089928003474744, 1.1736206804738114, -0.14663398900921182, 0.2432922979322884, 0.2481370154715898, 1.056272964342253, 0.7460124466135112, -0.6474151293600467, -0.2998246700886737, -0.867194684720239, 0.45564543502722626, -1.0050512879881874, 1.3365798384645975, -0.17983124228592573, 1.498489509539917, -0.6805626396188176, -0.6490735256969274, -0.536868509390947, 1.975693655313992, 0.09373483171858374, 1.3769137547348915, 1.6728813869324226, 1.6448138852597582, 1.6705417974900587, 1.457852249627546, 0.976715110638505, -0.9263843640116586, -0.1223731313381849, 0.796228522033799, 0.15475677041477062, 0.7888519002662029, -0.5405845524825568, 0.9305692278235662, 0.9784119369643645, 1.4758331265836486, -1.0200230889843025, 0.04061773858849012, -0.3154849918885533, -1.0223978310048576, 1.3533832696767325, 1.0366465155314608, -0.04510451879071933, 1.8936032702640215, 0.5943858451752875, 1.885006370759624, 0.9389125135270914, 1.7893976221378944, -0.994564259030683, 0.3603982008922027, -0.4408604389520875, -0.5151095273058485, -1.0563766442123035, -1.0351547981205815, 1.9371282674993187, 0.9166357854923943, 0.0083564707053621, -0.12004194518298957, 0.06357500148967771, 0.4229368998509608, 0.9981936878290952, -0.30368999098948596, 1.874315243153208, 0.07222261812178199, 1.6470491039434203, 1.9686415215524833, 1.7843131131506498, 2.0873045148599823, -0.39790391370032724, 0.49229061778845873, 1.3148496627000024, 0.8494651045710285, 0.19481701963916617, 1.9508672322774856, -0.10148376708261908, 0.2825817386035496, 0.938344700184442, -0.33440741651656025, 0.15227499084567703, -0.9103538545522244, 0.7461365894557511, 0.7980254495229531, 1.9701048704314503, 0.652791628022177, 0.15095217091376792, 0.2049831993182284, -1.0351508911672802, -0.8495786602831639, 1.0732469394954367, 0.922355666831577, 1.179959994061442, -0.9293446879170691, -0.6635954598691399, 1.325082692179819, 0.5568693550491782, 0.07750159554668323, 0.12508148690837878, 0.7450034565443301, 0.18786203305535706, 1.0060978915552157, 1.0993371067091071, -0.9080886149685693, 0.5858015888336551, 1.0604130877330895, 0.08128104436835105, 0.2621963091845073, 1.4462645794969085, 1.0643805747202955, 0.2791274315012009, 1.9261906290309088, 0.07587637693033553, 0.2185468890445362, 1.6237768965846349, 0.031333571273604, -1.0991324877898918, 0.05943075792034612, 0.008629185751882248, 0.7067448851525836, 0.8727925257301243, 1.0098726006114973, 0.5993675602813255, 0.1018886995222481, 1.525369983953064, 1.054941483052359, 1.2136000567339893, 0.23308716959053433, 0.15132759806894286, 0.7976359593737035, -0.808584190274535, 1.961108543928387, -0.573486935719889, 0.3974880824749839, -0.6121576257879583, -0.40620203173039965, 0.8059004682255754, 0.577010942050867, 0.8487619173221225, 0.95116813790414, -0.8431589135514671, 0.8345576822705425, 1.8916875532375048, 1.3528302565382921, 0.14554876861527338, 0.74380252328883, 1.6283256315766768, 0.20872539439732596, 0.01575435537698975, 0.08103530943841337, 0.9398855834587191, 1.8681586907315795, 0.2982728817544293, 2.1277507888341294, 1.846066968959805, 0.905843066983084, 0.4764277360194793, 0.05079807673102646, -0.9159944605722037, 0.7547580557250606, 0.09090431203597911, -0.9855961407261281, 1.1645508833612985, 0.45777725614298304, -0.0457775363766378, 0.7800780371174919, 0.9360900798447133, 0.6689785958971225, 0.33478569722706114, 0.0225989916723915, 0.8552106280976605, 0.40095040462607473, 0.2905170667683744, 1.5057375454140596, 0.6567229379131222, 1.5589905162770326, 0.4463256730065187, 0.3209014155840095, 0.8604722047896834, 1.3193048015154476, 0.23241761555025903, 0.6689344099794808, -0.9368801423457124, 1.6369396239440042, 1.8250086156767336, -0.4044565529876215, 1.0911356663298046, 1.9771635326594774, 1.2487446961310449, 0.2680686577935133, 0.6096776291794008, 0.519633282205532, -0.8067740153047347, -1.0655947175512142, 2.0397784183254832, -1.0984313739240208, -1.0115042991719052, 0.593417605519658, 0.6893488089833144, 1.5811433931248629, 0.13264402366925823, 0.17583821874143654, 0.7968700476436335, 1.2559789044345149, -0.72730191303691, 0.6671056801212313, -1.0039351561663472, 0.803862955043394, 1.755527350459414, 0.4722598345644735, 1.1014506588758581, -0.8515613634567728, -0.344768061166429, -0.6240556307959167, 1.668619917195012, 0.09982365388048871, 1.9207005824962247, 0.21711474696683666, 1.6106948141690762, 0.06152089034007621, -0.3183138362478756, 2.051806694384509, 1.1621430615794484, -0.7693711814576643, 0.42481712855727227, 0.06612998562530321, 0.7241611107656446, 1.929872146707251, -0.0747996734498523], \"xaxis\": \"x\", \"y\": [0.43607778101760863, -0.4011194632440612, 0.5415218892178506, 0.26886231388723847, 0.9461179874453445, 0.9268166356399812, -0.4513290871112877, 0.9168823205037456, -0.3476620899215156, 0.9969302258350214, 0.12114286887719278, 0.1599189780891384, 0.965685772429867, 0.9301292941685252, 0.7897125490862673, 0.6755129042792798, -0.6523278952709434, 0.158747858462253, 0.10550256974316223, 0.32216590687738944, 0.95239331683874, 0.28773650388840166, 0.5549359778342985, -0.4275752586735255, 0.11362423171192629, 0.5587208679105828, 0.8871058855450891, -0.011244065183244362, -0.37282399872071736, 0.8683552101965917, 0.3387743351635715, 0.012114675029737565, -0.3249173888665629, 0.7648464577460884, -0.03455360646626823, 1.0157254753141933, 0.789928213280756, -0.23043958881624316, 0.5482327588836816, 0.8158505869016326, 0.25595173111671626, 0.8490047684040152, 0.7977673987470991, 0.7099043476407715, 0.8778058534457707, 0.2223803368419529, 0.9233940786148171, 0.2789271744465052, 0.2598976348965632, 0.4259623231575948, 0.7044894326221837, -0.43467545128738916, -0.2025606431151623, 0.7578228472730179, 0.12339506639239467, 0.6012696775757825, 0.19067157702276952, 0.4960748810175608, 0.36066014634971644, 0.6405981687615638, 1.0093246672652925, -0.683810686127401, -0.41241573507105345, 0.9901126903122439, 1.0533222871839638, 0.5834251609429104, -0.3177480119227779, -0.38340484123539237, 0.5354200429219066, 0.9736687007203508, -0.4195693110355442, 0.8241928619908845, 0.023234430827277622, 0.8047279428402697, 0.3481653007891365, -0.18751597646936197, 0.03742781347292015, 0.20281525401323908, 0.26766467034661684, -0.5634133844961742, 0.042395034693238194, 0.12029412831425107, 0.5363974171515313, -0.1450026982659779, -0.40495076112290174, 0.8574857282534363, -0.2320469450349981, -0.5010974292201972, 0.9232315981434537, 0.9512736717500212, 0.013266377828641828, -0.15587107312135612, 0.9769812759008681, 0.24958736254698483, 0.4310704881654892, -0.5388390359189088, 0.007344939439863404, 0.17873633391097563, -0.10434745860853986, 1.0154113850377267, 0.07817393049748056, 0.947301799237025, 0.30243413363940314, 0.9436475009919664, 0.688066258718179, 0.31552877308582405, 0.25009378313745445, 1.0259518073320897, -0.08661529391898053, -0.18713179029828392, 1.020847176615835, 0.37029889398262206, -0.37240717905441106, 0.15904904573753528, -0.7054738367924506, 0.7016062224228446, 0.8667912886886442, -0.5651271337464877, -0.519764696461732, -0.45614703155803, 0.6659339268772327, 1.0933060138877637, 0.25749074749584544, 0.006391413083718128, 0.34117127567420824, 0.28801758688468887, -0.21466511695958101, -0.390961809823812, 0.48813212785537713, -0.14858140113014096, -0.4766645861004665, 0.6748887284276055, -0.2677047542484201, 0.2619201140227827, 1.0180954146828698, -0.08705661343128906, 0.00912932714886762, -0.48441334225022337, 0.24031371708309332, -0.7040686518936875, 0.40745819890591284, 0.7493900295321627, -0.3263153064040736, 0.8387098635497955, -0.06624355977916652, -0.3862360517512149, 0.6386728106302391, 0.9641399984129664, 0.283554573861271, -0.023703499695742758, 0.08712904314172767, -0.2802004578206971, -0.16445885394768184, 0.748141806207555, 0.07573563016822103, 0.13687902584671832, 1.0123246744592231, 0.9587332861968995, -0.6347527000227957, 0.2703337265054317, 0.3285139273519466, 0.27277848784097924, -0.5378165485798784, 0.4860442990090752, -0.09965088293999937, 0.9718404298026123, 0.14070793064631937, 0.5879530835073661, 0.7955689362691735, 0.11809294944569163, 0.863886260883799, 0.947112468815042, 1.0144581477653083, 0.958636539202684, 0.8538968611679508, -0.26267904632598416, 1.098915276229116, -0.2985209827634067, 1.0221280706067108, 0.26708618818460234, 0.6027220092407295, 0.8686578241100799, 1.0958782230964785, 0.3372444433127365, 0.8287075193222752, 0.19988054900735763, -0.4000759499004397, 0.27210742336973803, -0.5554431740207553, 0.08132969177833893, 0.8815049333413835, 0.9423719015542635, 0.22898137437768737, 0.9093489420473164, -0.3990335438365677, -0.28120663796327605, -0.42347286188539957, -0.1316839261626955, -0.22512481834440223, -0.5487601936944003, 0.21098414319755895, 0.34272142754523316, -0.6021366375822279, 0.25817568609572544, -0.5251206254974262, 0.9181117639438922, 0.5398249074259076, 0.25352612158237964, -0.42390792934014865, 0.22748717279219446, 0.19092611177757238, 1.0083104690182787, 0.4011067930232193, -0.47274322766457466, -0.4985476580125366, 0.7991491020390376, 0.14287399006123414, -0.528630928174813, 0.10420737924262266, -0.5135540452630449, -0.26387131943612496, 0.6713911383163779, -0.12579009793677248, 0.7384652081800833, 0.8471182066753098, -0.3568205299359881, 0.05539817597695543, 0.3675642914202532, 0.12373202160019528, 0.5320457749816218, 0.7527784391323216, -0.07375254500638109, -0.03656097531307502, 0.21096138080488983, 1.0459161417121352, -0.05318329701654417, 0.13627157664599823, -0.16757444093230295, 0.10291719279716784, -0.1520068909668203, 0.28530735074108815, 0.982030294351673, 0.8693150287473763, -0.44725774744016616, 0.5435623850119276, 1.0914306332660042, 0.3900256213166849, 0.8954007189495029, -0.16532079284824672, -0.6327445340710072, 0.872152223717397, 0.02198057941962034, 0.11457950315220794, -0.5110142065757868, 0.7023762060734993, 0.06999163949717546, 0.8679890511284588, 0.9735792211196405, -0.37334478387442843, 0.2352123895851974, 0.5257157557542287, 0.0966570840121739, 0.3915777156856398, 0.40620951502008384, 0.5563002807945711, 0.9287284123514572, -0.4694932597705525, -0.28647303390245527, 0.2177456466088653, 1.0107712649386078, 0.7090896365466173, -0.20224818473919925, -0.6716737343647, -0.5255392480328201, 0.220602393102044, 0.5679185764822606, -0.664348506659051, 0.5655440149193591, -0.2605001465555224, -0.44476972105908064, 0.16411977735553548, -0.26884664450584866, -0.034101486858117314, 1.1367673776383977, 0.20383370529796563, -0.33120103482858776, 0.24276731510751107, 0.3998281611302054, 0.9409926919168601, 0.24999982561095813, 0.7849651477267724, 0.40450279943881134, 0.6137062126291012, -0.5724314430588369, 0.49498808243247494, 0.0019297974426112918, 0.22300462646561692, -0.3417331989379858, 0.1275069459089364, -0.23883742575743933, -0.3839793843645204, 0.549473350974221, 0.040814972387245074, 0.7653864752163864, 0.8866068075128529, 0.8269448471682256, 0.6919572681002077, 0.09598584740679728, 0.921427860837215, -0.4363056984528748, 0.13090585233804364, 0.708073706544875, 0.5953673442120604, 0.09509014818593642, -0.4265362405070112, 0.2169283752033758, -0.4984572915678237, -0.2528451566092468, 0.08119429053081831, 0.23973280995637058, 0.5570725509248531, -0.6683544103342967, -0.02515342308285237, -0.12638098881700305, 0.42675405509515674, 0.10121826279463625, -0.5700794902937782, -0.38939614448640203, 0.46414246315263463, 0.662046710981531, 0.6381008654279617, 0.23872062239361602, 0.24465186146853457, -0.40249503600795367, -0.10078345978288639, 1.060030149286084, 0.7488019569243001, -0.03162831609870871, 0.6036520491736346, 0.8900372542109308, 0.40528001022145993, 0.5669552804252124, -0.27463813164370005, 1.025321115737968, -0.37329350355500024, 0.6722832366601202, -0.23748233613720784, -0.328051945416493, -0.12664039057205045, 0.163902767064797, -0.40253376846929073, 0.9210944649201596, -0.3160694603337302, 0.49356261972143056, -0.4744664601030904, 0.5437106356516351, 0.8096130028026692, -0.6172332210395521, 0.3666784091668318, -0.36527871113721005, -0.07010628425274437, 0.7174606455400276, 0.6532250811403223, 0.29157261562178366, 0.2212330253379633, 0.5374177752148195, 0.44471746141975255, 0.47152389058042293, 0.6742885813462738, 0.6896349026977713, -0.1694959403716835, -0.158979629866297, -0.1711557573059312, 0.3571278338151201, -0.5769106371591088, 0.4057417900374254, -0.4360539225120356, 0.00817004076966052, -0.3328595135185971, -0.19911487236295916, -0.19863427705176354, -0.486249852261357, 0.7009224597105804, 0.8202303548674952, 0.6964627164785605, -0.20106864327115975, 1.055221255419995, 0.05914098492307132, 1.068621936007729, -0.23393265974914823, 0.26358525411585665, 0.995160530592945, 0.6307986637140104, 0.28999256891276015, 0.2900083101499388, 1.0503355163432597, 0.9487101716012722, -0.28599311361127777, -0.26332583701466633, 0.7965550564269417], \"yaxis\": \"y\"}],\n",
              "                        {\"coloraxis\": {\"colorbar\": {\"title\": {\"text\": \"label\"}}, \"colorscale\": [[0.0, \"#0d0887\"], [0.1111111111111111, \"#46039f\"], [0.2222222222222222, \"#7201a8\"], [0.3333333333333333, \"#9c179e\"], [0.4444444444444444, \"#bd3786\"], [0.5555555555555556, \"#d8576b\"], [0.6666666666666666, \"#ed7953\"], [0.7777777777777778, \"#fb9f3a\"], [0.8888888888888888, \"#fdca26\"], [1.0, \"#f0f921\"]]}, \"height\": 500, \"legend\": {\"tracegroupgap\": 0}, \"margin\": {\"t\": 60}, \"template\": {\"data\": {\"bar\": [{\"error_x\": {\"color\": \"#2a3f5f\"}, \"error_y\": {\"color\": \"#2a3f5f\"}, \"marker\": {\"line\": {\"color\": \"#E5ECF6\", \"width\": 0.5}}, \"type\": \"bar\"}], \"barpolar\": [{\"marker\": {\"line\": {\"color\": \"#E5ECF6\", \"width\": 0.5}}, \"type\": \"barpolar\"}], \"carpet\": [{\"aaxis\": {\"endlinecolor\": \"#2a3f5f\", \"gridcolor\": \"white\", \"linecolor\": \"white\", \"minorgridcolor\": \"white\", \"startlinecolor\": \"#2a3f5f\"}, \"baxis\": {\"endlinecolor\": \"#2a3f5f\", \"gridcolor\": \"white\", \"linecolor\": \"white\", \"minorgridcolor\": \"white\", \"startlinecolor\": \"#2a3f5f\"}, \"type\": \"carpet\"}], \"choropleth\": [{\"colorbar\": {\"outlinewidth\": 0, \"ticks\": \"\"}, \"type\": \"choropleth\"}], \"contour\": [{\"colorbar\": {\"outlinewidth\": 0, \"ticks\": \"\"}, \"colorscale\": [[0.0, \"#0d0887\"], [0.1111111111111111, \"#46039f\"], [0.2222222222222222, \"#7201a8\"], [0.3333333333333333, \"#9c179e\"], [0.4444444444444444, \"#bd3786\"], [0.5555555555555556, \"#d8576b\"], [0.6666666666666666, \"#ed7953\"], [0.7777777777777778, \"#fb9f3a\"], [0.8888888888888888, \"#fdca26\"], [1.0, \"#f0f921\"]], \"type\": \"contour\"}], \"contourcarpet\": [{\"colorbar\": {\"outlinewidth\": 0, \"ticks\": \"\"}, \"type\": \"contourcarpet\"}], \"heatmap\": [{\"colorbar\": {\"outlinewidth\": 0, \"ticks\": \"\"}, \"colorscale\": [[0.0, \"#0d0887\"], [0.1111111111111111, \"#46039f\"], [0.2222222222222222, \"#7201a8\"], [0.3333333333333333, \"#9c179e\"], [0.4444444444444444, \"#bd3786\"], [0.5555555555555556, \"#d8576b\"], [0.6666666666666666, \"#ed7953\"], [0.7777777777777778, \"#fb9f3a\"], [0.8888888888888888, \"#fdca26\"], [1.0, \"#f0f921\"]], \"type\": \"heatmap\"}], \"heatmapgl\": [{\"colorbar\": {\"outlinewidth\": 0, \"ticks\": \"\"}, \"colorscale\": [[0.0, \"#0d0887\"], [0.1111111111111111, \"#46039f\"], [0.2222222222222222, \"#7201a8\"], [0.3333333333333333, \"#9c179e\"], [0.4444444444444444, \"#bd3786\"], [0.5555555555555556, \"#d8576b\"], [0.6666666666666666, \"#ed7953\"], [0.7777777777777778, \"#fb9f3a\"], [0.8888888888888888, \"#fdca26\"], [1.0, \"#f0f921\"]], \"type\": \"heatmapgl\"}], \"histogram\": [{\"marker\": {\"colorbar\": {\"outlinewidth\": 0, \"ticks\": \"\"}}, \"type\": \"histogram\"}], \"histogram2d\": [{\"colorbar\": {\"outlinewidth\": 0, \"ticks\": \"\"}, \"colorscale\": [[0.0, \"#0d0887\"], [0.1111111111111111, \"#46039f\"], [0.2222222222222222, \"#7201a8\"], [0.3333333333333333, \"#9c179e\"], [0.4444444444444444, \"#bd3786\"], [0.5555555555555556, \"#d8576b\"], [0.6666666666666666, \"#ed7953\"], [0.7777777777777778, \"#fb9f3a\"], [0.8888888888888888, \"#fdca26\"], [1.0, \"#f0f921\"]], \"type\": \"histogram2d\"}], \"histogram2dcontour\": [{\"colorbar\": {\"outlinewidth\": 0, \"ticks\": \"\"}, \"colorscale\": [[0.0, \"#0d0887\"], [0.1111111111111111, \"#46039f\"], [0.2222222222222222, \"#7201a8\"], [0.3333333333333333, \"#9c179e\"], [0.4444444444444444, \"#bd3786\"], [0.5555555555555556, \"#d8576b\"], [0.6666666666666666, \"#ed7953\"], [0.7777777777777778, \"#fb9f3a\"], [0.8888888888888888, \"#fdca26\"], [1.0, \"#f0f921\"]], \"type\": \"histogram2dcontour\"}], \"mesh3d\": [{\"colorbar\": {\"outlinewidth\": 0, \"ticks\": \"\"}, \"type\": \"mesh3d\"}], \"parcoords\": [{\"line\": {\"colorbar\": {\"outlinewidth\": 0, \"ticks\": \"\"}}, \"type\": \"parcoords\"}], \"pie\": [{\"automargin\": true, \"type\": \"pie\"}], \"scatter\": [{\"marker\": {\"colorbar\": {\"outlinewidth\": 0, \"ticks\": \"\"}}, \"type\": \"scatter\"}], \"scatter3d\": [{\"line\": {\"colorbar\": {\"outlinewidth\": 0, \"ticks\": \"\"}}, \"marker\": {\"colorbar\": {\"outlinewidth\": 0, \"ticks\": \"\"}}, \"type\": \"scatter3d\"}], \"scattercarpet\": [{\"marker\": {\"colorbar\": {\"outlinewidth\": 0, \"ticks\": \"\"}}, \"type\": \"scattercarpet\"}], \"scattergeo\": [{\"marker\": {\"colorbar\": {\"outlinewidth\": 0, \"ticks\": \"\"}}, \"type\": \"scattergeo\"}], \"scattergl\": [{\"marker\": {\"colorbar\": {\"outlinewidth\": 0, \"ticks\": \"\"}}, \"type\": \"scattergl\"}], \"scattermapbox\": [{\"marker\": {\"colorbar\": {\"outlinewidth\": 0, \"ticks\": \"\"}}, \"type\": \"scattermapbox\"}], \"scatterpolar\": [{\"marker\": {\"colorbar\": {\"outlinewidth\": 0, \"ticks\": \"\"}}, \"type\": \"scatterpolar\"}], \"scatterpolargl\": [{\"marker\": {\"colorbar\": {\"outlinewidth\": 0, \"ticks\": \"\"}}, \"type\": \"scatterpolargl\"}], \"scatterternary\": [{\"marker\": {\"colorbar\": {\"outlinewidth\": 0, \"ticks\": \"\"}}, \"type\": \"scatterternary\"}], \"surface\": [{\"colorbar\": {\"outlinewidth\": 0, \"ticks\": \"\"}, \"colorscale\": [[0.0, \"#0d0887\"], [0.1111111111111111, \"#46039f\"], [0.2222222222222222, \"#7201a8\"], [0.3333333333333333, \"#9c179e\"], [0.4444444444444444, \"#bd3786\"], [0.5555555555555556, \"#d8576b\"], [0.6666666666666666, \"#ed7953\"], [0.7777777777777778, \"#fb9f3a\"], [0.8888888888888888, \"#fdca26\"], [1.0, \"#f0f921\"]], \"type\": \"surface\"}], \"table\": [{\"cells\": {\"fill\": {\"color\": \"#EBF0F8\"}, \"line\": {\"color\": \"white\"}}, \"header\": {\"fill\": {\"color\": \"#C8D4E3\"}, \"line\": {\"color\": \"white\"}}, \"type\": \"table\"}]}, \"layout\": {\"annotationdefaults\": {\"arrowcolor\": \"#2a3f5f\", \"arrowhead\": 0, \"arrowwidth\": 1}, \"coloraxis\": {\"colorbar\": {\"outlinewidth\": 0, \"ticks\": \"\"}}, \"colorscale\": {\"diverging\": [[0, \"#8e0152\"], [0.1, \"#c51b7d\"], [0.2, \"#de77ae\"], [0.3, \"#f1b6da\"], [0.4, \"#fde0ef\"], [0.5, \"#f7f7f7\"], [0.6, \"#e6f5d0\"], [0.7, \"#b8e186\"], [0.8, \"#7fbc41\"], [0.9, \"#4d9221\"], [1, \"#276419\"]], \"sequential\": [[0.0, \"#0d0887\"], [0.1111111111111111, \"#46039f\"], [0.2222222222222222, \"#7201a8\"], [0.3333333333333333, \"#9c179e\"], [0.4444444444444444, \"#bd3786\"], [0.5555555555555556, \"#d8576b\"], [0.6666666666666666, \"#ed7953\"], [0.7777777777777778, \"#fb9f3a\"], [0.8888888888888888, \"#fdca26\"], [1.0, \"#f0f921\"]], \"sequentialminus\": [[0.0, \"#0d0887\"], [0.1111111111111111, \"#46039f\"], [0.2222222222222222, \"#7201a8\"], [0.3333333333333333, \"#9c179e\"], [0.4444444444444444, \"#bd3786\"], [0.5555555555555556, \"#d8576b\"], [0.6666666666666666, \"#ed7953\"], [0.7777777777777778, \"#fb9f3a\"], [0.8888888888888888, \"#fdca26\"], [1.0, \"#f0f921\"]]}, \"colorway\": [\"#636efa\", \"#EF553B\", \"#00cc96\", \"#ab63fa\", \"#FFA15A\", \"#19d3f3\", \"#FF6692\", \"#B6E880\", \"#FF97FF\", \"#FECB52\"], \"font\": {\"color\": \"#2a3f5f\"}, \"geo\": {\"bgcolor\": \"white\", \"lakecolor\": \"white\", \"landcolor\": \"#E5ECF6\", \"showlakes\": true, \"showland\": true, \"subunitcolor\": \"white\"}, \"hoverlabel\": {\"align\": \"left\"}, \"hovermode\": \"closest\", \"mapbox\": {\"style\": \"light\"}, \"paper_bgcolor\": \"white\", \"plot_bgcolor\": \"#E5ECF6\", \"polar\": {\"angularaxis\": {\"gridcolor\": \"white\", \"linecolor\": \"white\", \"ticks\": \"\"}, \"bgcolor\": \"#E5ECF6\", \"radialaxis\": {\"gridcolor\": \"white\", \"linecolor\": \"white\", \"ticks\": \"\"}}, \"scene\": {\"xaxis\": {\"backgroundcolor\": \"#E5ECF6\", \"gridcolor\": \"white\", \"gridwidth\": 2, \"linecolor\": \"white\", \"showbackground\": true, \"ticks\": \"\", \"zerolinecolor\": \"white\"}, \"yaxis\": {\"backgroundcolor\": \"#E5ECF6\", \"gridcolor\": \"white\", \"gridwidth\": 2, \"linecolor\": \"white\", \"showbackground\": true, \"ticks\": \"\", \"zerolinecolor\": \"white\"}, \"zaxis\": {\"backgroundcolor\": \"#E5ECF6\", \"gridcolor\": \"white\", \"gridwidth\": 2, \"linecolor\": \"white\", \"showbackground\": true, \"ticks\": \"\", \"zerolinecolor\": \"white\"}}, \"shapedefaults\": {\"line\": {\"color\": \"#2a3f5f\"}}, \"ternary\": {\"aaxis\": {\"gridcolor\": \"white\", \"linecolor\": \"white\", \"ticks\": \"\"}, \"baxis\": {\"gridcolor\": \"white\", \"linecolor\": \"white\", \"ticks\": \"\"}, \"bgcolor\": \"#E5ECF6\", \"caxis\": {\"gridcolor\": \"white\", \"linecolor\": \"white\", \"ticks\": \"\"}}, \"title\": {\"x\": 0.05}, \"xaxis\": {\"automargin\": true, \"gridcolor\": \"white\", \"linecolor\": \"white\", \"ticks\": \"\", \"title\": {\"standoff\": 15}, \"zerolinecolor\": \"white\", \"zerolinewidth\": 2}, \"yaxis\": {\"automargin\": true, \"gridcolor\": \"white\", \"linecolor\": \"white\", \"ticks\": \"\", \"title\": {\"standoff\": 15}, \"zerolinecolor\": \"white\", \"zerolinewidth\": 2}}}, \"width\": 600, \"xaxis\": {\"anchor\": \"y\", \"domain\": [0.0, 1.0], \"title\": {\"text\": \"x\"}}, \"yaxis\": {\"anchor\": \"x\", \"domain\": [0.0, 1.0], \"title\": {\"text\": \"y\"}}},\n",
              "                        {\"responsive\": true}\n",
              "                    ).then(function(){\n",
              "                            \n",
              "var gd = document.getElementById('781a9187-389e-4489-9c9d-9f6472f7f67b');\n",
              "var x = new MutationObserver(function (mutations, observer) {{\n",
              "        var display = window.getComputedStyle(gd).display;\n",
              "        if (!display || display === 'none') {{\n",
              "            console.log([gd, 'removed!']);\n",
              "            Plotly.purge(gd);\n",
              "            observer.disconnect();\n",
              "        }}\n",
              "}});\n",
              "\n",
              "// Listen for the removal of the full notebook cells\n",
              "var notebookContainer = gd.closest('#notebook-container');\n",
              "if (notebookContainer) {{\n",
              "    x.observe(notebookContainer, {childList: true});\n",
              "}}\n",
              "\n",
              "// Listen for the clearing of the current output cell\n",
              "var outputEl = gd.closest('.output');\n",
              "if (outputEl) {{\n",
              "    x.observe(outputEl, {childList: true});\n",
              "}}\n",
              "\n",
              "                        })\n",
              "                };\n",
              "                \n",
              "            </script>\n",
              "        </div>\n",
              "</body>\n",
              "</html>"
            ]
          },
          "metadata": {
            "tags": []
          }
        }
      ]
    },
    {
      "cell_type": "code",
      "metadata": {
        "colab": {
          "base_uri": "https://localhost:8080/",
          "height": 517
        },
        "id": "4RDkOrdQUoG5",
        "outputId": "8d915f25-23bf-4d0b-9ccd-49b31e02ef34"
      },
      "source": [
        "# noise = 0.9\n",
        "fig = px.scatter(moon_data_df, x=\"x\", y=\"y\", color=\"label\")\n",
        "fig.update_layout(width=600, height=500)\n",
        "fig.show()"
      ],
      "execution_count": 66,
      "outputs": [
        {
          "output_type": "display_data",
          "data": {
            "text/html": [
              "<html>\n",
              "<head><meta charset=\"utf-8\" /></head>\n",
              "<body>\n",
              "    <div>\n",
              "            <script src=\"https://cdnjs.cloudflare.com/ajax/libs/mathjax/2.7.5/MathJax.js?config=TeX-AMS-MML_SVG\"></script><script type=\"text/javascript\">if (window.MathJax) {MathJax.Hub.Config({SVG: {font: \"STIX-Web\"}});}</script>\n",
              "                <script type=\"text/javascript\">window.PlotlyConfig = {MathJaxConfig: 'local'};</script>\n",
              "        <script src=\"https://cdn.plot.ly/plotly-latest.min.js\"></script>    \n",
              "            <div id=\"29a7678e-45c8-4be9-b4cf-da6f0a09e9a9\" class=\"plotly-graph-div\" style=\"height:500px; width:600px;\"></div>\n",
              "            <script type=\"text/javascript\">\n",
              "                \n",
              "                    window.PLOTLYENV=window.PLOTLYENV || {};\n",
              "                    \n",
              "                if (document.getElementById(\"29a7678e-45c8-4be9-b4cf-da6f0a09e9a9\")) {\n",
              "                    Plotly.newPlot(\n",
              "                        '29a7678e-45c8-4be9-b4cf-da6f0a09e9a9',\n",
              "                        [{\"hoverlabel\": {\"namelength\": 0}, \"hovertemplate\": \"x=%{x}<br>y=%{y}<br>label=%{marker.color}\", \"legendgroup\": \"\", \"marker\": {\"color\": [1, 1, 0, 1, 0, 0, 1, 0, 1, 0, 0, 1, 0, 0, 0, 0, 1, 1, 1, 1, 0, 0, 1, 1, 0, 1, 0, 1, 1, 0, 1, 0, 1, 0, 1, 0, 0, 1, 0, 0, 1, 0, 0, 0, 0, 1, 0, 0, 0, 0, 0, 1, 1, 0, 1, 0, 1, 0, 0, 0, 0, 1, 1, 0, 0, 0, 1, 1, 1, 0, 1, 0, 0, 0, 1, 1, 1, 1, 0, 1, 0, 0, 1, 1, 1, 0, 1, 1, 0, 0, 1, 1, 0, 1, 0, 1, 1, 1, 1, 0, 1, 0, 0, 0, 0, 0, 0, 0, 1, 1, 0, 1, 1, 1, 1, 0, 0, 1, 1, 1, 0, 0, 0, 1, 0, 0, 1, 1, 0, 1, 1, 0, 1, 0, 0, 0, 1, 1, 1, 1, 0, 0, 1, 0, 0, 1, 0, 0, 0, 1, 0, 1, 1, 0, 0, 0, 0, 0, 1, 1, 1, 1, 1, 0, 1, 0, 1, 0, 0, 1, 0, 0, 0, 0, 0, 1, 0, 1, 0, 0, 0, 0, 0, 0, 0, 0, 1, 1, 1, 0, 0, 0, 1, 0, 1, 1, 1, 1, 1, 1, 0, 1, 1, 1, 1, 0, 0, 0, 1, 0, 1, 0, 0, 1, 1, 0, 1, 1, 1, 1, 1, 0, 1, 0, 0, 0, 0, 1, 0, 1, 0, 1, 1, 0, 0, 1, 1, 1, 1, 1, 1, 0, 0, 1, 0, 0, 1, 0, 1, 1, 0, 1, 0, 1, 0, 1, 0, 0, 1, 0, 0, 0, 0, 0, 0, 0, 1, 1, 1, 0, 0, 1, 1, 1, 0, 0, 1, 1, 1, 1, 0, 1, 1, 0, 1, 1, 1, 0, 0, 1, 0, 0, 0, 1, 1, 1, 0, 1, 1, 1, 1, 0, 1, 0, 0, 0, 0, 0, 0, 1, 0, 0, 0, 1, 1, 1, 1, 1, 1, 1, 1, 1, 1, 1, 1, 1, 1, 1, 1, 0, 0, 1, 0, 1, 1, 0, 0, 0, 0, 0, 1, 0, 1, 0, 1, 0, 1, 1, 1, 0, 1, 0, 1, 0, 1, 1, 0, 1, 1, 1, 1, 0, 0, 0, 0, 1, 0, 0, 0, 0, 1, 1, 1, 0, 1, 0, 1, 0, 1, 1, 1, 1, 0, 0, 0, 1, 0, 1, 0, 1, 1, 0, 1, 0, 0, 0, 0, 1, 1, 0], \"coloraxis\": \"coloraxis\", \"symbol\": \"circle\"}, \"mode\": \"markers\", \"name\": \"\", \"showlegend\": false, \"type\": \"scatter\", \"x\": [-0.04405185436455387, 0.6922304485774229, 0.8281977981485314, 0.17881242677930137, 0.09171539700050081, 0.40156045922972966, 1.3757911943525358, 0.07314713993172753, 0.45860466022215285, -0.4178031928161623, 0.9579878024190793, 1.8524970559962026, 0.5552516585363515, 0.3022727378193304, -0.5247965363754132, 0.8580279728331913, 0.6189365495878882, 1.8927960119108467, 0.11756338555092069, 2.169029362678773, 0.404559599307745, 1.0893364137634811, 2.0669459262896903, 0.5877990025461418, 1.0446289348001918, 2.0490213676870517, -0.29381359169325855, 0.02237367735743013, 0.453000976269902, 0.052039835716421845, 2.1534991209951535, -1.119340367715941, 0.6240688008428807, 0.6746685269538756, 0.11590511420338562, -0.25247367792137004, -0.043682834885529404, 1.7828070067277453, -0.834513603902822, -0.5049155905696417, 1.806489808286964, 0.7605778678586781, 0.29985442632480913, 0.8905252470097118, 0.11826978657090345, 2.0034066514848714, -0.7130367234824387, -1.0452223143606545, 0.9604818564529551, -1.0610029020734704, 0.9290715732995999, 1.3419458957279273, 1.5452174341489513, 0.3985161871037338, 1.764957168546406, 0.9224449677324292, 0.033462363099337374, -0.8919029408079996, 1.0225793504988576, -0.9710888438761187, -0.4791414581275831, 0.8408477423017393, 0.2964391408080224, 0.4919544089308461, 0.0410776773647474, 0.9666350914963895, 1.6831546515793194, 0.43826348511034413, 1.740452092301724, 0.21658112980549674, 1.3012044573186852, -0.64388146241787, 0.9496985380360062, 0.6683706670351148, 2.021650614049808, 0.16473890548509473, -0.009247095964754717, 1.7690167227990816, -1.0104913674247578, 0.702434617830942, 0.9493893492279155, 0.8953640992371084, -0.15095907350779758, 0.28341059943157637, 0.686247114883507, 0.42168660618408793, 0.4135899135206339, 1.0577396586654602, 0.0034514995502456514, 0.2647671231050478, 0.06324742529253595, 1.5658002856216526, -0.2559695512442949, 0.2090468050023805, -1.0197784695319896, 1.1529542320186548, 1.8320855582539974, 1.9886682809991771, -0.16419264277805473, 0.3254160858230126, 0.20654495134218478, -0.02532499674177502, 1.0832306132818155, 0.5278969205172018, -0.7422978282856604, 1.0762354226047843, 0.9804704487371622, -0.7609520671028389, 1.7419705803807746, 1.8949012493453714, -0.49651016735263764, 2.0281830266713725, 0.7295586309939159, 2.0165730120568788, 1.0090524120850748, 0.8181446341926059, 0.47919081281108183, 0.8291064621354819, 1.1864304003533328, 0.7588546454896044, -0.9246852132955579, -0.19973768447083562, 0.940616481696544, 1.8498418744289271, 1.0076808280989389, -0.966543565363345, 1.6638459329092838, 1.6872832037570835, -0.9976923228984038, 0.259718542404861, 1.260522773047423, -0.5812357980233047, 0.5687897887080057, -0.9002692152319717, -0.25582248118023304, -1.1138631338303022, 0.13234844337348306, 0.5078751167554956, -0.11594691159512407, 1.0831469058632226, 0.9771117727121236, -0.32661461873026315, 0.9063697767081207, -0.6203513588550882, -1.1511863158724789, 0.7803374476056197, 0.5955667439508922, -0.1308958348924223, -0.8799966733224986, 1.922550311349182, 1.1750337382650022, 1.5611843539210797, 0.4481765327303048, -0.7585085272396329, 1.051622752860439, -0.8092021378321275, -0.07657329479524141, 0.3643485289920689, 1.3457410648452206, 1.9250783905350084, 2.128778248212025, 0.0706262481600407, 1.0274744413540133, -0.9039386882590633, 1.792856509913606, 0.23340051836624431, 2.0071012074483465, -0.7848715472141286, -0.6052644989118215, 0.05187296202004671, 0.18346525575039668, 0.4357050503972449, -0.19161096380566223, 0.23246382980226774, -0.6089928003474744, 1.1736206804738114, -0.14663398900921182, 0.2432922979322884, 0.2481370154715898, 1.056272964342253, 0.7460124466135112, -0.6474151293600467, -0.2998246700886737, -0.867194684720239, 0.45564543502722626, -1.0050512879881874, 1.3365798384645975, -0.17983124228592573, 1.498489509539917, -0.6805626396188176, -0.6490735256969274, -0.536868509390947, 1.975693655313992, 0.09373483171858374, 1.3769137547348915, 1.6728813869324226, 1.6448138852597582, 1.6705417974900587, 1.457852249627546, 0.976715110638505, -0.9263843640116586, -0.1223731313381849, 0.796228522033799, 0.15475677041477062, 0.7888519002662029, -0.5405845524825568, 0.9305692278235662, 0.9784119369643645, 1.4758331265836486, -1.0200230889843025, 0.04061773858849012, -0.3154849918885533, -1.0223978310048576, 1.3533832696767325, 1.0366465155314608, -0.04510451879071933, 1.8936032702640215, 0.5943858451752875, 1.885006370759624, 0.9389125135270914, 1.7893976221378944, -0.994564259030683, 0.3603982008922027, -0.4408604389520875, -0.5151095273058485, -1.0563766442123035, -1.0351547981205815, 1.9371282674993187, 0.9166357854923943, 0.0083564707053621, -0.12004194518298957, 0.06357500148967771, 0.4229368998509608, 0.9981936878290952, -0.30368999098948596, 1.874315243153208, 0.07222261812178199, 1.6470491039434203, 1.9686415215524833, 1.7843131131506498, 2.0873045148599823, -0.39790391370032724, 0.49229061778845873, 1.3148496627000024, 0.8494651045710285, 0.19481701963916617, 1.9508672322774856, -0.10148376708261908, 0.2825817386035496, 0.938344700184442, -0.33440741651656025, 0.15227499084567703, -0.9103538545522244, 0.7461365894557511, 0.7980254495229531, 1.9701048704314503, 0.652791628022177, 0.15095217091376792, 0.2049831993182284, -1.0351508911672802, -0.8495786602831639, 1.0732469394954367, 0.922355666831577, 1.179959994061442, -0.9293446879170691, -0.6635954598691399, 1.325082692179819, 0.5568693550491782, 0.07750159554668323, 0.12508148690837878, 0.7450034565443301, 0.18786203305535706, 1.0060978915552157, 1.0993371067091071, -0.9080886149685693, 0.5858015888336551, 1.0604130877330895, 0.08128104436835105, 0.2621963091845073, 1.4462645794969085, 1.0643805747202955, 0.2791274315012009, 1.9261906290309088, 0.07587637693033553, 0.2185468890445362, 1.6237768965846349, 0.031333571273604, -1.0991324877898918, 0.05943075792034612, 0.008629185751882248, 0.7067448851525836, 0.8727925257301243, 1.0098726006114973, 0.5993675602813255, 0.1018886995222481, 1.525369983953064, 1.054941483052359, 1.2136000567339893, 0.23308716959053433, 0.15132759806894286, 0.7976359593737035, -0.808584190274535, 1.961108543928387, -0.573486935719889, 0.3974880824749839, -0.6121576257879583, -0.40620203173039965, 0.8059004682255754, 0.577010942050867, 0.8487619173221225, 0.95116813790414, -0.8431589135514671, 0.8345576822705425, 1.8916875532375048, 1.3528302565382921, 0.14554876861527338, 0.74380252328883, 1.6283256315766768, 0.20872539439732596, 0.01575435537698975, 0.08103530943841337, 0.9398855834587191, 1.8681586907315795, 0.2982728817544293, 2.1277507888341294, 1.846066968959805, 0.905843066983084, 0.4764277360194793, 0.05079807673102646, -0.9159944605722037, 0.7547580557250606, 0.09090431203597911, -0.9855961407261281, 1.1645508833612985, 0.45777725614298304, -0.0457775363766378, 0.7800780371174919, 0.9360900798447133, 0.6689785958971225, 0.33478569722706114, 0.0225989916723915, 0.8552106280976605, 0.40095040462607473, 0.2905170667683744, 1.5057375454140596, 0.6567229379131222, 1.5589905162770326, 0.4463256730065187, 0.3209014155840095, 0.8604722047896834, 1.3193048015154476, 0.23241761555025903, 0.6689344099794808, -0.9368801423457124, 1.6369396239440042, 1.8250086156767336, -0.4044565529876215, 1.0911356663298046, 1.9771635326594774, 1.2487446961310449, 0.2680686577935133, 0.6096776291794008, 0.519633282205532, -0.8067740153047347, -1.0655947175512142, 2.0397784183254832, -1.0984313739240208, -1.0115042991719052, 0.593417605519658, 0.6893488089833144, 1.5811433931248629, 0.13264402366925823, 0.17583821874143654, 0.7968700476436335, 1.2559789044345149, -0.72730191303691, 0.6671056801212313, -1.0039351561663472, 0.803862955043394, 1.755527350459414, 0.4722598345644735, 1.1014506588758581, -0.8515613634567728, -0.344768061166429, -0.6240556307959167, 1.668619917195012, 0.09982365388048871, 1.9207005824962247, 0.21711474696683666, 1.6106948141690762, 0.06152089034007621, -0.3183138362478756, 2.051806694384509, 1.1621430615794484, -0.7693711814576643, 0.42481712855727227, 0.06612998562530321, 0.7241611107656446, 1.929872146707251, -0.0747996734498523], \"xaxis\": \"x\", \"y\": [0.43607778101760863, -0.4011194632440612, 0.5415218892178506, 0.26886231388723847, 0.9461179874453445, 0.9268166356399812, -0.4513290871112877, 0.9168823205037456, -0.3476620899215156, 0.9969302258350214, 0.12114286887719278, 0.1599189780891384, 0.965685772429867, 0.9301292941685252, 0.7897125490862673, 0.6755129042792798, -0.6523278952709434, 0.158747858462253, 0.10550256974316223, 0.32216590687738944, 0.95239331683874, 0.28773650388840166, 0.5549359778342985, -0.4275752586735255, 0.11362423171192629, 0.5587208679105828, 0.8871058855450891, -0.011244065183244362, -0.37282399872071736, 0.8683552101965917, 0.3387743351635715, 0.012114675029737565, -0.3249173888665629, 0.7648464577460884, -0.03455360646626823, 1.0157254753141933, 0.789928213280756, -0.23043958881624316, 0.5482327588836816, 0.8158505869016326, 0.25595173111671626, 0.8490047684040152, 0.7977673987470991, 0.7099043476407715, 0.8778058534457707, 0.2223803368419529, 0.9233940786148171, 0.2789271744465052, 0.2598976348965632, 0.4259623231575948, 0.7044894326221837, -0.43467545128738916, -0.2025606431151623, 0.7578228472730179, 0.12339506639239467, 0.6012696775757825, 0.19067157702276952, 0.4960748810175608, 0.36066014634971644, 0.6405981687615638, 1.0093246672652925, -0.683810686127401, -0.41241573507105345, 0.9901126903122439, 1.0533222871839638, 0.5834251609429104, -0.3177480119227779, -0.38340484123539237, 0.5354200429219066, 0.9736687007203508, -0.4195693110355442, 0.8241928619908845, 0.023234430827277622, 0.8047279428402697, 0.3481653007891365, -0.18751597646936197, 0.03742781347292015, 0.20281525401323908, 0.26766467034661684, -0.5634133844961742, 0.042395034693238194, 0.12029412831425107, 0.5363974171515313, -0.1450026982659779, -0.40495076112290174, 0.8574857282534363, -0.2320469450349981, -0.5010974292201972, 0.9232315981434537, 0.9512736717500212, 0.013266377828641828, -0.15587107312135612, 0.9769812759008681, 0.24958736254698483, 0.4310704881654892, -0.5388390359189088, 0.007344939439863404, 0.17873633391097563, -0.10434745860853986, 1.0154113850377267, 0.07817393049748056, 0.947301799237025, 0.30243413363940314, 0.9436475009919664, 0.688066258718179, 0.31552877308582405, 0.25009378313745445, 1.0259518073320897, -0.08661529391898053, -0.18713179029828392, 1.020847176615835, 0.37029889398262206, -0.37240717905441106, 0.15904904573753528, -0.7054738367924506, 0.7016062224228446, 0.8667912886886442, -0.5651271337464877, -0.519764696461732, -0.45614703155803, 0.6659339268772327, 1.0933060138877637, 0.25749074749584544, 0.006391413083718128, 0.34117127567420824, 0.28801758688468887, -0.21466511695958101, -0.390961809823812, 0.48813212785537713, -0.14858140113014096, -0.4766645861004665, 0.6748887284276055, -0.2677047542484201, 0.2619201140227827, 1.0180954146828698, -0.08705661343128906, 0.00912932714886762, -0.48441334225022337, 0.24031371708309332, -0.7040686518936875, 0.40745819890591284, 0.7493900295321627, -0.3263153064040736, 0.8387098635497955, -0.06624355977916652, -0.3862360517512149, 0.6386728106302391, 0.9641399984129664, 0.283554573861271, -0.023703499695742758, 0.08712904314172767, -0.2802004578206971, -0.16445885394768184, 0.748141806207555, 0.07573563016822103, 0.13687902584671832, 1.0123246744592231, 0.9587332861968995, -0.6347527000227957, 0.2703337265054317, 0.3285139273519466, 0.27277848784097924, -0.5378165485798784, 0.4860442990090752, -0.09965088293999937, 0.9718404298026123, 0.14070793064631937, 0.5879530835073661, 0.7955689362691735, 0.11809294944569163, 0.863886260883799, 0.947112468815042, 1.0144581477653083, 0.958636539202684, 0.8538968611679508, -0.26267904632598416, 1.098915276229116, -0.2985209827634067, 1.0221280706067108, 0.26708618818460234, 0.6027220092407295, 0.8686578241100799, 1.0958782230964785, 0.3372444433127365, 0.8287075193222752, 0.19988054900735763, -0.4000759499004397, 0.27210742336973803, -0.5554431740207553, 0.08132969177833893, 0.8815049333413835, 0.9423719015542635, 0.22898137437768737, 0.9093489420473164, -0.3990335438365677, -0.28120663796327605, -0.42347286188539957, -0.1316839261626955, -0.22512481834440223, -0.5487601936944003, 0.21098414319755895, 0.34272142754523316, -0.6021366375822279, 0.25817568609572544, -0.5251206254974262, 0.9181117639438922, 0.5398249074259076, 0.25352612158237964, -0.42390792934014865, 0.22748717279219446, 0.19092611177757238, 1.0083104690182787, 0.4011067930232193, -0.47274322766457466, -0.4985476580125366, 0.7991491020390376, 0.14287399006123414, -0.528630928174813, 0.10420737924262266, -0.5135540452630449, -0.26387131943612496, 0.6713911383163779, -0.12579009793677248, 0.7384652081800833, 0.8471182066753098, -0.3568205299359881, 0.05539817597695543, 0.3675642914202532, 0.12373202160019528, 0.5320457749816218, 0.7527784391323216, -0.07375254500638109, -0.03656097531307502, 0.21096138080488983, 1.0459161417121352, -0.05318329701654417, 0.13627157664599823, -0.16757444093230295, 0.10291719279716784, -0.1520068909668203, 0.28530735074108815, 0.982030294351673, 0.8693150287473763, -0.44725774744016616, 0.5435623850119276, 1.0914306332660042, 0.3900256213166849, 0.8954007189495029, -0.16532079284824672, -0.6327445340710072, 0.872152223717397, 0.02198057941962034, 0.11457950315220794, -0.5110142065757868, 0.7023762060734993, 0.06999163949717546, 0.8679890511284588, 0.9735792211196405, -0.37334478387442843, 0.2352123895851974, 0.5257157557542287, 0.0966570840121739, 0.3915777156856398, 0.40620951502008384, 0.5563002807945711, 0.9287284123514572, -0.4694932597705525, -0.28647303390245527, 0.2177456466088653, 1.0107712649386078, 0.7090896365466173, -0.20224818473919925, -0.6716737343647, -0.5255392480328201, 0.220602393102044, 0.5679185764822606, -0.664348506659051, 0.5655440149193591, -0.2605001465555224, -0.44476972105908064, 0.16411977735553548, -0.26884664450584866, -0.034101486858117314, 1.1367673776383977, 0.20383370529796563, -0.33120103482858776, 0.24276731510751107, 0.3998281611302054, 0.9409926919168601, 0.24999982561095813, 0.7849651477267724, 0.40450279943881134, 0.6137062126291012, -0.5724314430588369, 0.49498808243247494, 0.0019297974426112918, 0.22300462646561692, -0.3417331989379858, 0.1275069459089364, -0.23883742575743933, -0.3839793843645204, 0.549473350974221, 0.040814972387245074, 0.7653864752163864, 0.8866068075128529, 0.8269448471682256, 0.6919572681002077, 0.09598584740679728, 0.921427860837215, -0.4363056984528748, 0.13090585233804364, 0.708073706544875, 0.5953673442120604, 0.09509014818593642, -0.4265362405070112, 0.2169283752033758, -0.4984572915678237, -0.2528451566092468, 0.08119429053081831, 0.23973280995637058, 0.5570725509248531, -0.6683544103342967, -0.02515342308285237, -0.12638098881700305, 0.42675405509515674, 0.10121826279463625, -0.5700794902937782, -0.38939614448640203, 0.46414246315263463, 0.662046710981531, 0.6381008654279617, 0.23872062239361602, 0.24465186146853457, -0.40249503600795367, -0.10078345978288639, 1.060030149286084, 0.7488019569243001, -0.03162831609870871, 0.6036520491736346, 0.8900372542109308, 0.40528001022145993, 0.5669552804252124, -0.27463813164370005, 1.025321115737968, -0.37329350355500024, 0.6722832366601202, -0.23748233613720784, -0.328051945416493, -0.12664039057205045, 0.163902767064797, -0.40253376846929073, 0.9210944649201596, -0.3160694603337302, 0.49356261972143056, -0.4744664601030904, 0.5437106356516351, 0.8096130028026692, -0.6172332210395521, 0.3666784091668318, -0.36527871113721005, -0.07010628425274437, 0.7174606455400276, 0.6532250811403223, 0.29157261562178366, 0.2212330253379633, 0.5374177752148195, 0.44471746141975255, 0.47152389058042293, 0.6742885813462738, 0.6896349026977713, -0.1694959403716835, -0.158979629866297, -0.1711557573059312, 0.3571278338151201, -0.5769106371591088, 0.4057417900374254, -0.4360539225120356, 0.00817004076966052, -0.3328595135185971, -0.19911487236295916, -0.19863427705176354, -0.486249852261357, 0.7009224597105804, 0.8202303548674952, 0.6964627164785605, -0.20106864327115975, 1.055221255419995, 0.05914098492307132, 1.068621936007729, -0.23393265974914823, 0.26358525411585665, 0.995160530592945, 0.6307986637140104, 0.28999256891276015, 0.2900083101499388, 1.0503355163432597, 0.9487101716012722, -0.28599311361127777, -0.26332583701466633, 0.7965550564269417], \"yaxis\": \"y\"}],\n",
              "                        {\"coloraxis\": {\"colorbar\": {\"title\": {\"text\": \"label\"}}, \"colorscale\": [[0.0, \"#0d0887\"], [0.1111111111111111, \"#46039f\"], [0.2222222222222222, \"#7201a8\"], [0.3333333333333333, \"#9c179e\"], [0.4444444444444444, \"#bd3786\"], [0.5555555555555556, \"#d8576b\"], [0.6666666666666666, \"#ed7953\"], [0.7777777777777778, \"#fb9f3a\"], [0.8888888888888888, \"#fdca26\"], [1.0, \"#f0f921\"]]}, \"height\": 500, \"legend\": {\"tracegroupgap\": 0}, \"margin\": {\"t\": 60}, \"template\": {\"data\": {\"bar\": [{\"error_x\": {\"color\": \"#2a3f5f\"}, \"error_y\": {\"color\": \"#2a3f5f\"}, \"marker\": {\"line\": {\"color\": \"#E5ECF6\", \"width\": 0.5}}, \"type\": \"bar\"}], \"barpolar\": [{\"marker\": {\"line\": {\"color\": \"#E5ECF6\", \"width\": 0.5}}, \"type\": \"barpolar\"}], \"carpet\": [{\"aaxis\": {\"endlinecolor\": \"#2a3f5f\", \"gridcolor\": \"white\", \"linecolor\": \"white\", \"minorgridcolor\": \"white\", \"startlinecolor\": \"#2a3f5f\"}, \"baxis\": {\"endlinecolor\": \"#2a3f5f\", \"gridcolor\": \"white\", \"linecolor\": \"white\", \"minorgridcolor\": \"white\", \"startlinecolor\": \"#2a3f5f\"}, \"type\": \"carpet\"}], \"choropleth\": [{\"colorbar\": {\"outlinewidth\": 0, \"ticks\": \"\"}, \"type\": \"choropleth\"}], \"contour\": [{\"colorbar\": {\"outlinewidth\": 0, \"ticks\": \"\"}, \"colorscale\": [[0.0, \"#0d0887\"], [0.1111111111111111, \"#46039f\"], [0.2222222222222222, \"#7201a8\"], [0.3333333333333333, \"#9c179e\"], [0.4444444444444444, \"#bd3786\"], [0.5555555555555556, \"#d8576b\"], [0.6666666666666666, \"#ed7953\"], [0.7777777777777778, \"#fb9f3a\"], [0.8888888888888888, \"#fdca26\"], [1.0, \"#f0f921\"]], \"type\": \"contour\"}], \"contourcarpet\": [{\"colorbar\": {\"outlinewidth\": 0, \"ticks\": \"\"}, \"type\": \"contourcarpet\"}], \"heatmap\": [{\"colorbar\": {\"outlinewidth\": 0, \"ticks\": \"\"}, \"colorscale\": [[0.0, \"#0d0887\"], [0.1111111111111111, \"#46039f\"], [0.2222222222222222, \"#7201a8\"], [0.3333333333333333, \"#9c179e\"], [0.4444444444444444, \"#bd3786\"], [0.5555555555555556, \"#d8576b\"], [0.6666666666666666, \"#ed7953\"], [0.7777777777777778, \"#fb9f3a\"], [0.8888888888888888, \"#fdca26\"], [1.0, \"#f0f921\"]], \"type\": \"heatmap\"}], \"heatmapgl\": [{\"colorbar\": {\"outlinewidth\": 0, \"ticks\": \"\"}, \"colorscale\": [[0.0, \"#0d0887\"], [0.1111111111111111, \"#46039f\"], [0.2222222222222222, \"#7201a8\"], [0.3333333333333333, \"#9c179e\"], [0.4444444444444444, \"#bd3786\"], [0.5555555555555556, \"#d8576b\"], [0.6666666666666666, \"#ed7953\"], [0.7777777777777778, \"#fb9f3a\"], [0.8888888888888888, \"#fdca26\"], [1.0, \"#f0f921\"]], \"type\": \"heatmapgl\"}], \"histogram\": [{\"marker\": {\"colorbar\": {\"outlinewidth\": 0, \"ticks\": \"\"}}, \"type\": \"histogram\"}], \"histogram2d\": [{\"colorbar\": {\"outlinewidth\": 0, \"ticks\": \"\"}, \"colorscale\": [[0.0, \"#0d0887\"], [0.1111111111111111, \"#46039f\"], [0.2222222222222222, \"#7201a8\"], [0.3333333333333333, \"#9c179e\"], [0.4444444444444444, \"#bd3786\"], [0.5555555555555556, \"#d8576b\"], [0.6666666666666666, \"#ed7953\"], [0.7777777777777778, \"#fb9f3a\"], [0.8888888888888888, \"#fdca26\"], [1.0, \"#f0f921\"]], \"type\": \"histogram2d\"}], \"histogram2dcontour\": [{\"colorbar\": {\"outlinewidth\": 0, \"ticks\": \"\"}, \"colorscale\": [[0.0, \"#0d0887\"], [0.1111111111111111, \"#46039f\"], [0.2222222222222222, \"#7201a8\"], [0.3333333333333333, \"#9c179e\"], [0.4444444444444444, \"#bd3786\"], [0.5555555555555556, \"#d8576b\"], [0.6666666666666666, \"#ed7953\"], [0.7777777777777778, \"#fb9f3a\"], [0.8888888888888888, \"#fdca26\"], [1.0, \"#f0f921\"]], \"type\": \"histogram2dcontour\"}], \"mesh3d\": [{\"colorbar\": {\"outlinewidth\": 0, \"ticks\": \"\"}, \"type\": \"mesh3d\"}], \"parcoords\": [{\"line\": {\"colorbar\": {\"outlinewidth\": 0, \"ticks\": \"\"}}, \"type\": \"parcoords\"}], \"pie\": [{\"automargin\": true, \"type\": \"pie\"}], \"scatter\": [{\"marker\": {\"colorbar\": {\"outlinewidth\": 0, \"ticks\": \"\"}}, \"type\": \"scatter\"}], \"scatter3d\": [{\"line\": {\"colorbar\": {\"outlinewidth\": 0, \"ticks\": \"\"}}, \"marker\": {\"colorbar\": {\"outlinewidth\": 0, \"ticks\": \"\"}}, \"type\": \"scatter3d\"}], \"scattercarpet\": [{\"marker\": {\"colorbar\": {\"outlinewidth\": 0, \"ticks\": \"\"}}, \"type\": \"scattercarpet\"}], \"scattergeo\": [{\"marker\": {\"colorbar\": {\"outlinewidth\": 0, \"ticks\": \"\"}}, \"type\": \"scattergeo\"}], \"scattergl\": [{\"marker\": {\"colorbar\": {\"outlinewidth\": 0, \"ticks\": \"\"}}, \"type\": \"scattergl\"}], \"scattermapbox\": [{\"marker\": {\"colorbar\": {\"outlinewidth\": 0, \"ticks\": \"\"}}, \"type\": \"scattermapbox\"}], \"scatterpolar\": [{\"marker\": {\"colorbar\": {\"outlinewidth\": 0, \"ticks\": \"\"}}, \"type\": \"scatterpolar\"}], \"scatterpolargl\": [{\"marker\": {\"colorbar\": {\"outlinewidth\": 0, \"ticks\": \"\"}}, \"type\": \"scatterpolargl\"}], \"scatterternary\": [{\"marker\": {\"colorbar\": {\"outlinewidth\": 0, \"ticks\": \"\"}}, \"type\": \"scatterternary\"}], \"surface\": [{\"colorbar\": {\"outlinewidth\": 0, \"ticks\": \"\"}, \"colorscale\": [[0.0, \"#0d0887\"], [0.1111111111111111, \"#46039f\"], [0.2222222222222222, \"#7201a8\"], [0.3333333333333333, \"#9c179e\"], [0.4444444444444444, \"#bd3786\"], [0.5555555555555556, \"#d8576b\"], [0.6666666666666666, \"#ed7953\"], [0.7777777777777778, \"#fb9f3a\"], [0.8888888888888888, \"#fdca26\"], [1.0, \"#f0f921\"]], \"type\": \"surface\"}], \"table\": [{\"cells\": {\"fill\": {\"color\": \"#EBF0F8\"}, \"line\": {\"color\": \"white\"}}, \"header\": {\"fill\": {\"color\": \"#C8D4E3\"}, \"line\": {\"color\": \"white\"}}, \"type\": \"table\"}]}, \"layout\": {\"annotationdefaults\": {\"arrowcolor\": \"#2a3f5f\", \"arrowhead\": 0, \"arrowwidth\": 1}, \"coloraxis\": {\"colorbar\": {\"outlinewidth\": 0, \"ticks\": \"\"}}, \"colorscale\": {\"diverging\": [[0, \"#8e0152\"], [0.1, \"#c51b7d\"], [0.2, \"#de77ae\"], [0.3, \"#f1b6da\"], [0.4, \"#fde0ef\"], [0.5, \"#f7f7f7\"], [0.6, \"#e6f5d0\"], [0.7, \"#b8e186\"], [0.8, \"#7fbc41\"], [0.9, \"#4d9221\"], [1, \"#276419\"]], \"sequential\": [[0.0, \"#0d0887\"], [0.1111111111111111, \"#46039f\"], [0.2222222222222222, \"#7201a8\"], [0.3333333333333333, \"#9c179e\"], [0.4444444444444444, \"#bd3786\"], [0.5555555555555556, \"#d8576b\"], [0.6666666666666666, \"#ed7953\"], [0.7777777777777778, \"#fb9f3a\"], [0.8888888888888888, \"#fdca26\"], [1.0, \"#f0f921\"]], \"sequentialminus\": [[0.0, \"#0d0887\"], [0.1111111111111111, \"#46039f\"], [0.2222222222222222, \"#7201a8\"], [0.3333333333333333, \"#9c179e\"], [0.4444444444444444, \"#bd3786\"], [0.5555555555555556, \"#d8576b\"], [0.6666666666666666, \"#ed7953\"], [0.7777777777777778, \"#fb9f3a\"], [0.8888888888888888, \"#fdca26\"], [1.0, \"#f0f921\"]]}, \"colorway\": [\"#636efa\", \"#EF553B\", \"#00cc96\", \"#ab63fa\", \"#FFA15A\", \"#19d3f3\", \"#FF6692\", \"#B6E880\", \"#FF97FF\", \"#FECB52\"], \"font\": {\"color\": \"#2a3f5f\"}, \"geo\": {\"bgcolor\": \"white\", \"lakecolor\": \"white\", \"landcolor\": \"#E5ECF6\", \"showlakes\": true, \"showland\": true, \"subunitcolor\": \"white\"}, \"hoverlabel\": {\"align\": \"left\"}, \"hovermode\": \"closest\", \"mapbox\": {\"style\": \"light\"}, \"paper_bgcolor\": \"white\", \"plot_bgcolor\": \"#E5ECF6\", \"polar\": {\"angularaxis\": {\"gridcolor\": \"white\", \"linecolor\": \"white\", \"ticks\": \"\"}, \"bgcolor\": \"#E5ECF6\", \"radialaxis\": {\"gridcolor\": \"white\", \"linecolor\": \"white\", \"ticks\": \"\"}}, \"scene\": {\"xaxis\": {\"backgroundcolor\": \"#E5ECF6\", \"gridcolor\": \"white\", \"gridwidth\": 2, \"linecolor\": \"white\", \"showbackground\": true, \"ticks\": \"\", \"zerolinecolor\": \"white\"}, \"yaxis\": {\"backgroundcolor\": \"#E5ECF6\", \"gridcolor\": \"white\", \"gridwidth\": 2, \"linecolor\": \"white\", \"showbackground\": true, \"ticks\": \"\", \"zerolinecolor\": \"white\"}, \"zaxis\": {\"backgroundcolor\": \"#E5ECF6\", \"gridcolor\": \"white\", \"gridwidth\": 2, \"linecolor\": \"white\", \"showbackground\": true, \"ticks\": \"\", \"zerolinecolor\": \"white\"}}, \"shapedefaults\": {\"line\": {\"color\": \"#2a3f5f\"}}, \"ternary\": {\"aaxis\": {\"gridcolor\": \"white\", \"linecolor\": \"white\", \"ticks\": \"\"}, \"baxis\": {\"gridcolor\": \"white\", \"linecolor\": \"white\", \"ticks\": \"\"}, \"bgcolor\": \"#E5ECF6\", \"caxis\": {\"gridcolor\": \"white\", \"linecolor\": \"white\", \"ticks\": \"\"}}, \"title\": {\"x\": 0.05}, \"xaxis\": {\"automargin\": true, \"gridcolor\": \"white\", \"linecolor\": \"white\", \"ticks\": \"\", \"title\": {\"standoff\": 15}, \"zerolinecolor\": \"white\", \"zerolinewidth\": 2}, \"yaxis\": {\"automargin\": true, \"gridcolor\": \"white\", \"linecolor\": \"white\", \"ticks\": \"\", \"title\": {\"standoff\": 15}, \"zerolinecolor\": \"white\", \"zerolinewidth\": 2}}}, \"width\": 600, \"xaxis\": {\"anchor\": \"y\", \"domain\": [0.0, 1.0], \"title\": {\"text\": \"x\"}}, \"yaxis\": {\"anchor\": \"x\", \"domain\": [0.0, 1.0], \"title\": {\"text\": \"y\"}}},\n",
              "                        {\"responsive\": true}\n",
              "                    ).then(function(){\n",
              "                            \n",
              "var gd = document.getElementById('29a7678e-45c8-4be9-b4cf-da6f0a09e9a9');\n",
              "var x = new MutationObserver(function (mutations, observer) {{\n",
              "        var display = window.getComputedStyle(gd).display;\n",
              "        if (!display || display === 'none') {{\n",
              "            console.log([gd, 'removed!']);\n",
              "            Plotly.purge(gd);\n",
              "            observer.disconnect();\n",
              "        }}\n",
              "}});\n",
              "\n",
              "// Listen for the removal of the full notebook cells\n",
              "var notebookContainer = gd.closest('#notebook-container');\n",
              "if (notebookContainer) {{\n",
              "    x.observe(notebookContainer, {childList: true});\n",
              "}}\n",
              "\n",
              "// Listen for the clearing of the current output cell\n",
              "var outputEl = gd.closest('.output');\n",
              "if (outputEl) {{\n",
              "    x.observe(outputEl, {childList: true});\n",
              "}}\n",
              "\n",
              "                        })\n",
              "                };\n",
              "                \n",
              "            </script>\n",
              "        </div>\n",
              "</body>\n",
              "</html>"
            ]
          },
          "metadata": {
            "tags": []
          }
        }
      ]
    },
    {
      "cell_type": "code",
      "metadata": {
        "id": "adz0-Qb2VbGb"
      },
      "source": [
        "from sklearn.cluster import DBSCAN"
      ],
      "execution_count": 67,
      "outputs": []
    },
    {
      "cell_type": "code",
      "metadata": {
        "id": "rxwg7vkKWkmw"
      },
      "source": [
        "# DBSCAN의 파라미터인 eps(radius of neighborhood)와 min_samples(minimum number of data points) 설정\n",
        "dbscan = DBSCAN(eps=0.2, min_samples=6)"
      ],
      "execution_count": 68,
      "outputs": []
    },
    {
      "cell_type": "code",
      "metadata": {
        "colab": {
          "base_uri": "https://localhost:8080/"
        },
        "id": "GVSQWblfcrOX",
        "outputId": "8530bf10-b0d2-4fa8-e1d1-ce0c9a53210b"
      },
      "source": [
        "dbscan.fit(moon_data)"
      ],
      "execution_count": 69,
      "outputs": [
        {
          "output_type": "execute_result",
          "data": {
            "text/plain": [
              "DBSCAN(algorithm='auto', eps=0.2, leaf_size=30, metric='euclidean',\n",
              "       metric_params=None, min_samples=6, n_jobs=None, p=None)"
            ]
          },
          "metadata": {
            "tags": []
          },
          "execution_count": 69
        }
      ]
    },
    {
      "cell_type": "code",
      "metadata": {
        "colab": {
          "base_uri": "https://localhost:8080/"
        },
        "id": "6aGxYhAQcs8g",
        "outputId": "c2ebb73b-971e-439a-eaf7-223cb3d273df"
      },
      "source": [
        "dbscan_label = dbscan.labels_\n",
        "dbscan_label[:10]"
      ],
      "execution_count": 70,
      "outputs": [
        {
          "output_type": "execute_result",
          "data": {
            "text/plain": [
              "array([0, 0, 1, 0, 1, 1, 0, 1, 0, 1])"
            ]
          },
          "metadata": {
            "tags": []
          },
          "execution_count": 70
        }
      ]
    },
    {
      "cell_type": "code",
      "metadata": {
        "colab": {
          "base_uri": "https://localhost:8080/"
        },
        "id": "Lu5ws6ZGczIE",
        "outputId": "aae7541c-d547-4fc3-c23d-3a5fa19d20a6"
      },
      "source": [
        "set(dbscan_label)"
      ],
      "execution_count": 71,
      "outputs": [
        {
          "output_type": "execute_result",
          "data": {
            "text/plain": [
              "{-1, 0, 1}"
            ]
          },
          "metadata": {
            "tags": []
          },
          "execution_count": 71
        }
      ]
    },
    {
      "cell_type": "code",
      "metadata": {
        "colab": {
          "base_uri": "https://localhost:8080/",
          "height": 517
        },
        "id": "TkQMfyAmc3x_",
        "outputId": "a5182c12-fa81-42e5-fc35-69451c09d2fb"
      },
      "source": [
        "moon_data_df[\"dbscan_label\"] = dbscan_label\n",
        "\n",
        "fig = px.scatter(moon_data_df, x=\"x\", y=\"y\", color=\"dbscan_label\")\n",
        "fig.update_layout(width=600, height=500)\n",
        "fig.show()"
      ],
      "execution_count": 72,
      "outputs": [
        {
          "output_type": "display_data",
          "data": {
            "text/html": [
              "<html>\n",
              "<head><meta charset=\"utf-8\" /></head>\n",
              "<body>\n",
              "    <div>\n",
              "            <script src=\"https://cdnjs.cloudflare.com/ajax/libs/mathjax/2.7.5/MathJax.js?config=TeX-AMS-MML_SVG\"></script><script type=\"text/javascript\">if (window.MathJax) {MathJax.Hub.Config({SVG: {font: \"STIX-Web\"}});}</script>\n",
              "                <script type=\"text/javascript\">window.PlotlyConfig = {MathJaxConfig: 'local'};</script>\n",
              "        <script src=\"https://cdn.plot.ly/plotly-latest.min.js\"></script>    \n",
              "            <div id=\"b5d79869-e272-48a3-86fb-bdabcd0fe2af\" class=\"plotly-graph-div\" style=\"height:500px; width:600px;\"></div>\n",
              "            <script type=\"text/javascript\">\n",
              "                \n",
              "                    window.PLOTLYENV=window.PLOTLYENV || {};\n",
              "                    \n",
              "                if (document.getElementById(\"b5d79869-e272-48a3-86fb-bdabcd0fe2af\")) {\n",
              "                    Plotly.newPlot(\n",
              "                        'b5d79869-e272-48a3-86fb-bdabcd0fe2af',\n",
              "                        [{\"hoverlabel\": {\"namelength\": 0}, \"hovertemplate\": \"x=%{x}<br>y=%{y}<br>dbscan_label=%{marker.color}\", \"legendgroup\": \"\", \"marker\": {\"color\": [0, 0, 1, 0, 1, 1, 0, 1, 0, 1, 1, 0, 1, 1, 1, 1, 0, 0, 0, 0, 1, 1, 0, 0, 1, 0, 1, 0, 0, 1, 0, 1, 0, 1, 0, 1, 1, 0, 1, 1, 0, 1, 1, 1, 1, 0, 1, 1, 1, 1, 1, 0, 0, 1, 0, 1, 0, 1, 1, 1, 1, 0, 0, 1, 1, 1, 0, 0, -1, 1, 0, 1, 1, 1, 0, 0, 0, 0, 1, 0, 1, 1, 0, 0, 0, 1, 0, 0, 1, 1, 0, 0, 1, 0, 1, 0, 0, 0, -1, 1, 0, 1, 1, 1, 1, 1, 1, 1, 0, 0, 1, 0, 0, 0, 0, 1, 1, 0, 0, 0, 1, 1, 1, 0, 1, 1, 0, 0, 1, 0, 0, 1, 0, 1, 1, 1, 0, 0, 0, 0, 1, 1, 0, 1, 1, 0, 1, 1, 1, 0, 1, 0, 0, 1, 1, 1, 1, 1, 0, 0, 0, 0, 0, 1, 0, 1, 0, 1, 1, 0, 1, 1, 1, 1, 1, 0, 1, 0, 1, 1, 1, 1, 1, 1, 1, 1, 0, 0, 0, 1, 1, 1, 0, 1, 0, 0, 0, 0, 0, 0, 1, 0, 0, 0, 0, 1, 1, 1, 0, 1, 0, 1, 1, 0, 0, 1, 0, 0, 0, 0, 0, 1, 0, 1, 1, -1, 1, 0, 1, 0, 1, 0, 0, 1, 1, 0, 0, 0, 0, 0, 0, 1, 1, 0, 1, 1, 0, 1, 0, 0, 1, 0, 1, 0, 1, 0, 1, 1, 0, 1, 1, 1, 1, 1, 1, 1, 0, 0, 0, 1, 1, 0, 0, 0, 1, 1, 0, 0, 0, 0, 1, 0, 0, 1, 0, 0, 0, 1, 1, 0, 1, 1, 1, 0, 0, 0, 1, 0, 0, 0, 0, 1, 0, 1, 1, 1, 1, 1, 1, 0, 1, 1, 1, 0, 0, 0, 0, 0, 0, 0, 0, 0, 0, 0, 0, 0, 0, 0, 0, 1, 1, 0, 1, 0, 0, 1, 1, 1, 1, 1, 0, 1, 0, 1, 0, 1, 0, 0, 0, 1, 0, 1, 0, 1, 0, 0, 1, 0, 0, 0, 0, 1, 1, 1, 1, 0, 1, 1, 1, 1, 0, 0, 0, 1, 0, 1, 0, 1, 0, 0, 0, 0, 1, 1, 1, 0, 1, 0, 1, 0, 0, 1, 0, 1, 1, 1, 1, 0, 0, 1], \"coloraxis\": \"coloraxis\", \"symbol\": \"circle\"}, \"mode\": \"markers\", \"name\": \"\", \"showlegend\": false, \"type\": \"scatter\", \"x\": [-0.04405185436455387, 0.6922304485774229, 0.8281977981485314, 0.17881242677930137, 0.09171539700050081, 0.40156045922972966, 1.3757911943525358, 0.07314713993172753, 0.45860466022215285, -0.4178031928161623, 0.9579878024190793, 1.8524970559962026, 0.5552516585363515, 0.3022727378193304, -0.5247965363754132, 0.8580279728331913, 0.6189365495878882, 1.8927960119108467, 0.11756338555092069, 2.169029362678773, 0.404559599307745, 1.0893364137634811, 2.0669459262896903, 0.5877990025461418, 1.0446289348001918, 2.0490213676870517, -0.29381359169325855, 0.02237367735743013, 0.453000976269902, 0.052039835716421845, 2.1534991209951535, -1.119340367715941, 0.6240688008428807, 0.6746685269538756, 0.11590511420338562, -0.25247367792137004, -0.043682834885529404, 1.7828070067277453, -0.834513603902822, -0.5049155905696417, 1.806489808286964, 0.7605778678586781, 0.29985442632480913, 0.8905252470097118, 0.11826978657090345, 2.0034066514848714, -0.7130367234824387, -1.0452223143606545, 0.9604818564529551, -1.0610029020734704, 0.9290715732995999, 1.3419458957279273, 1.5452174341489513, 0.3985161871037338, 1.764957168546406, 0.9224449677324292, 0.033462363099337374, -0.8919029408079996, 1.0225793504988576, -0.9710888438761187, -0.4791414581275831, 0.8408477423017393, 0.2964391408080224, 0.4919544089308461, 0.0410776773647474, 0.9666350914963895, 1.6831546515793194, 0.43826348511034413, 1.740452092301724, 0.21658112980549674, 1.3012044573186852, -0.64388146241787, 0.9496985380360062, 0.6683706670351148, 2.021650614049808, 0.16473890548509473, -0.009247095964754717, 1.7690167227990816, -1.0104913674247578, 0.702434617830942, 0.9493893492279155, 0.8953640992371084, -0.15095907350779758, 0.28341059943157637, 0.686247114883507, 0.42168660618408793, 0.4135899135206339, 1.0577396586654602, 0.0034514995502456514, 0.2647671231050478, 0.06324742529253595, 1.5658002856216526, -0.2559695512442949, 0.2090468050023805, -1.0197784695319896, 1.1529542320186548, 1.8320855582539974, 1.9886682809991771, -0.16419264277805473, 0.3254160858230126, 0.20654495134218478, -0.02532499674177502, 1.0832306132818155, 0.5278969205172018, -0.7422978282856604, 1.0762354226047843, 0.9804704487371622, -0.7609520671028389, 1.7419705803807746, 1.8949012493453714, -0.49651016735263764, 2.0281830266713725, 0.7295586309939159, 2.0165730120568788, 1.0090524120850748, 0.8181446341926059, 0.47919081281108183, 0.8291064621354819, 1.1864304003533328, 0.7588546454896044, -0.9246852132955579, -0.19973768447083562, 0.940616481696544, 1.8498418744289271, 1.0076808280989389, -0.966543565363345, 1.6638459329092838, 1.6872832037570835, -0.9976923228984038, 0.259718542404861, 1.260522773047423, -0.5812357980233047, 0.5687897887080057, -0.9002692152319717, -0.25582248118023304, -1.1138631338303022, 0.13234844337348306, 0.5078751167554956, -0.11594691159512407, 1.0831469058632226, 0.9771117727121236, -0.32661461873026315, 0.9063697767081207, -0.6203513588550882, -1.1511863158724789, 0.7803374476056197, 0.5955667439508922, -0.1308958348924223, -0.8799966733224986, 1.922550311349182, 1.1750337382650022, 1.5611843539210797, 0.4481765327303048, -0.7585085272396329, 1.051622752860439, -0.8092021378321275, -0.07657329479524141, 0.3643485289920689, 1.3457410648452206, 1.9250783905350084, 2.128778248212025, 0.0706262481600407, 1.0274744413540133, -0.9039386882590633, 1.792856509913606, 0.23340051836624431, 2.0071012074483465, -0.7848715472141286, -0.6052644989118215, 0.05187296202004671, 0.18346525575039668, 0.4357050503972449, -0.19161096380566223, 0.23246382980226774, -0.6089928003474744, 1.1736206804738114, -0.14663398900921182, 0.2432922979322884, 0.2481370154715898, 1.056272964342253, 0.7460124466135112, -0.6474151293600467, -0.2998246700886737, -0.867194684720239, 0.45564543502722626, -1.0050512879881874, 1.3365798384645975, -0.17983124228592573, 1.498489509539917, -0.6805626396188176, -0.6490735256969274, -0.536868509390947, 1.975693655313992, 0.09373483171858374, 1.3769137547348915, 1.6728813869324226, 1.6448138852597582, 1.6705417974900587, 1.457852249627546, 0.976715110638505, -0.9263843640116586, -0.1223731313381849, 0.796228522033799, 0.15475677041477062, 0.7888519002662029, -0.5405845524825568, 0.9305692278235662, 0.9784119369643645, 1.4758331265836486, -1.0200230889843025, 0.04061773858849012, -0.3154849918885533, -1.0223978310048576, 1.3533832696767325, 1.0366465155314608, -0.04510451879071933, 1.8936032702640215, 0.5943858451752875, 1.885006370759624, 0.9389125135270914, 1.7893976221378944, -0.994564259030683, 0.3603982008922027, -0.4408604389520875, -0.5151095273058485, -1.0563766442123035, -1.0351547981205815, 1.9371282674993187, 0.9166357854923943, 0.0083564707053621, -0.12004194518298957, 0.06357500148967771, 0.4229368998509608, 0.9981936878290952, -0.30368999098948596, 1.874315243153208, 0.07222261812178199, 1.6470491039434203, 1.9686415215524833, 1.7843131131506498, 2.0873045148599823, -0.39790391370032724, 0.49229061778845873, 1.3148496627000024, 0.8494651045710285, 0.19481701963916617, 1.9508672322774856, -0.10148376708261908, 0.2825817386035496, 0.938344700184442, -0.33440741651656025, 0.15227499084567703, -0.9103538545522244, 0.7461365894557511, 0.7980254495229531, 1.9701048704314503, 0.652791628022177, 0.15095217091376792, 0.2049831993182284, -1.0351508911672802, -0.8495786602831639, 1.0732469394954367, 0.922355666831577, 1.179959994061442, -0.9293446879170691, -0.6635954598691399, 1.325082692179819, 0.5568693550491782, 0.07750159554668323, 0.12508148690837878, 0.7450034565443301, 0.18786203305535706, 1.0060978915552157, 1.0993371067091071, -0.9080886149685693, 0.5858015888336551, 1.0604130877330895, 0.08128104436835105, 0.2621963091845073, 1.4462645794969085, 1.0643805747202955, 0.2791274315012009, 1.9261906290309088, 0.07587637693033553, 0.2185468890445362, 1.6237768965846349, 0.031333571273604, -1.0991324877898918, 0.05943075792034612, 0.008629185751882248, 0.7067448851525836, 0.8727925257301243, 1.0098726006114973, 0.5993675602813255, 0.1018886995222481, 1.525369983953064, 1.054941483052359, 1.2136000567339893, 0.23308716959053433, 0.15132759806894286, 0.7976359593737035, -0.808584190274535, 1.961108543928387, -0.573486935719889, 0.3974880824749839, -0.6121576257879583, -0.40620203173039965, 0.8059004682255754, 0.577010942050867, 0.8487619173221225, 0.95116813790414, -0.8431589135514671, 0.8345576822705425, 1.8916875532375048, 1.3528302565382921, 0.14554876861527338, 0.74380252328883, 1.6283256315766768, 0.20872539439732596, 0.01575435537698975, 0.08103530943841337, 0.9398855834587191, 1.8681586907315795, 0.2982728817544293, 2.1277507888341294, 1.846066968959805, 0.905843066983084, 0.4764277360194793, 0.05079807673102646, -0.9159944605722037, 0.7547580557250606, 0.09090431203597911, -0.9855961407261281, 1.1645508833612985, 0.45777725614298304, -0.0457775363766378, 0.7800780371174919, 0.9360900798447133, 0.6689785958971225, 0.33478569722706114, 0.0225989916723915, 0.8552106280976605, 0.40095040462607473, 0.2905170667683744, 1.5057375454140596, 0.6567229379131222, 1.5589905162770326, 0.4463256730065187, 0.3209014155840095, 0.8604722047896834, 1.3193048015154476, 0.23241761555025903, 0.6689344099794808, -0.9368801423457124, 1.6369396239440042, 1.8250086156767336, -0.4044565529876215, 1.0911356663298046, 1.9771635326594774, 1.2487446961310449, 0.2680686577935133, 0.6096776291794008, 0.519633282205532, -0.8067740153047347, -1.0655947175512142, 2.0397784183254832, -1.0984313739240208, -1.0115042991719052, 0.593417605519658, 0.6893488089833144, 1.5811433931248629, 0.13264402366925823, 0.17583821874143654, 0.7968700476436335, 1.2559789044345149, -0.72730191303691, 0.6671056801212313, -1.0039351561663472, 0.803862955043394, 1.755527350459414, 0.4722598345644735, 1.1014506588758581, -0.8515613634567728, -0.344768061166429, -0.6240556307959167, 1.668619917195012, 0.09982365388048871, 1.9207005824962247, 0.21711474696683666, 1.6106948141690762, 0.06152089034007621, -0.3183138362478756, 2.051806694384509, 1.1621430615794484, -0.7693711814576643, 0.42481712855727227, 0.06612998562530321, 0.7241611107656446, 1.929872146707251, -0.0747996734498523], \"xaxis\": \"x\", \"y\": [0.43607778101760863, -0.4011194632440612, 0.5415218892178506, 0.26886231388723847, 0.9461179874453445, 0.9268166356399812, -0.4513290871112877, 0.9168823205037456, -0.3476620899215156, 0.9969302258350214, 0.12114286887719278, 0.1599189780891384, 0.965685772429867, 0.9301292941685252, 0.7897125490862673, 0.6755129042792798, -0.6523278952709434, 0.158747858462253, 0.10550256974316223, 0.32216590687738944, 0.95239331683874, 0.28773650388840166, 0.5549359778342985, -0.4275752586735255, 0.11362423171192629, 0.5587208679105828, 0.8871058855450891, -0.011244065183244362, -0.37282399872071736, 0.8683552101965917, 0.3387743351635715, 0.012114675029737565, -0.3249173888665629, 0.7648464577460884, -0.03455360646626823, 1.0157254753141933, 0.789928213280756, -0.23043958881624316, 0.5482327588836816, 0.8158505869016326, 0.25595173111671626, 0.8490047684040152, 0.7977673987470991, 0.7099043476407715, 0.8778058534457707, 0.2223803368419529, 0.9233940786148171, 0.2789271744465052, 0.2598976348965632, 0.4259623231575948, 0.7044894326221837, -0.43467545128738916, -0.2025606431151623, 0.7578228472730179, 0.12339506639239467, 0.6012696775757825, 0.19067157702276952, 0.4960748810175608, 0.36066014634971644, 0.6405981687615638, 1.0093246672652925, -0.683810686127401, -0.41241573507105345, 0.9901126903122439, 1.0533222871839638, 0.5834251609429104, -0.3177480119227779, -0.38340484123539237, 0.5354200429219066, 0.9736687007203508, -0.4195693110355442, 0.8241928619908845, 0.023234430827277622, 0.8047279428402697, 0.3481653007891365, -0.18751597646936197, 0.03742781347292015, 0.20281525401323908, 0.26766467034661684, -0.5634133844961742, 0.042395034693238194, 0.12029412831425107, 0.5363974171515313, -0.1450026982659779, -0.40495076112290174, 0.8574857282534363, -0.2320469450349981, -0.5010974292201972, 0.9232315981434537, 0.9512736717500212, 0.013266377828641828, -0.15587107312135612, 0.9769812759008681, 0.24958736254698483, 0.4310704881654892, -0.5388390359189088, 0.007344939439863404, 0.17873633391097563, -0.10434745860853986, 1.0154113850377267, 0.07817393049748056, 0.947301799237025, 0.30243413363940314, 0.9436475009919664, 0.688066258718179, 0.31552877308582405, 0.25009378313745445, 1.0259518073320897, -0.08661529391898053, -0.18713179029828392, 1.020847176615835, 0.37029889398262206, -0.37240717905441106, 0.15904904573753528, -0.7054738367924506, 0.7016062224228446, 0.8667912886886442, -0.5651271337464877, -0.519764696461732, -0.45614703155803, 0.6659339268772327, 1.0933060138877637, 0.25749074749584544, 0.006391413083718128, 0.34117127567420824, 0.28801758688468887, -0.21466511695958101, -0.390961809823812, 0.48813212785537713, -0.14858140113014096, -0.4766645861004665, 0.6748887284276055, -0.2677047542484201, 0.2619201140227827, 1.0180954146828698, -0.08705661343128906, 0.00912932714886762, -0.48441334225022337, 0.24031371708309332, -0.7040686518936875, 0.40745819890591284, 0.7493900295321627, -0.3263153064040736, 0.8387098635497955, -0.06624355977916652, -0.3862360517512149, 0.6386728106302391, 0.9641399984129664, 0.283554573861271, -0.023703499695742758, 0.08712904314172767, -0.2802004578206971, -0.16445885394768184, 0.748141806207555, 0.07573563016822103, 0.13687902584671832, 1.0123246744592231, 0.9587332861968995, -0.6347527000227957, 0.2703337265054317, 0.3285139273519466, 0.27277848784097924, -0.5378165485798784, 0.4860442990090752, -0.09965088293999937, 0.9718404298026123, 0.14070793064631937, 0.5879530835073661, 0.7955689362691735, 0.11809294944569163, 0.863886260883799, 0.947112468815042, 1.0144581477653083, 0.958636539202684, 0.8538968611679508, -0.26267904632598416, 1.098915276229116, -0.2985209827634067, 1.0221280706067108, 0.26708618818460234, 0.6027220092407295, 0.8686578241100799, 1.0958782230964785, 0.3372444433127365, 0.8287075193222752, 0.19988054900735763, -0.4000759499004397, 0.27210742336973803, -0.5554431740207553, 0.08132969177833893, 0.8815049333413835, 0.9423719015542635, 0.22898137437768737, 0.9093489420473164, -0.3990335438365677, -0.28120663796327605, -0.42347286188539957, -0.1316839261626955, -0.22512481834440223, -0.5487601936944003, 0.21098414319755895, 0.34272142754523316, -0.6021366375822279, 0.25817568609572544, -0.5251206254974262, 0.9181117639438922, 0.5398249074259076, 0.25352612158237964, -0.42390792934014865, 0.22748717279219446, 0.19092611177757238, 1.0083104690182787, 0.4011067930232193, -0.47274322766457466, -0.4985476580125366, 0.7991491020390376, 0.14287399006123414, -0.528630928174813, 0.10420737924262266, -0.5135540452630449, -0.26387131943612496, 0.6713911383163779, -0.12579009793677248, 0.7384652081800833, 0.8471182066753098, -0.3568205299359881, 0.05539817597695543, 0.3675642914202532, 0.12373202160019528, 0.5320457749816218, 0.7527784391323216, -0.07375254500638109, -0.03656097531307502, 0.21096138080488983, 1.0459161417121352, -0.05318329701654417, 0.13627157664599823, -0.16757444093230295, 0.10291719279716784, -0.1520068909668203, 0.28530735074108815, 0.982030294351673, 0.8693150287473763, -0.44725774744016616, 0.5435623850119276, 1.0914306332660042, 0.3900256213166849, 0.8954007189495029, -0.16532079284824672, -0.6327445340710072, 0.872152223717397, 0.02198057941962034, 0.11457950315220794, -0.5110142065757868, 0.7023762060734993, 0.06999163949717546, 0.8679890511284588, 0.9735792211196405, -0.37334478387442843, 0.2352123895851974, 0.5257157557542287, 0.0966570840121739, 0.3915777156856398, 0.40620951502008384, 0.5563002807945711, 0.9287284123514572, -0.4694932597705525, -0.28647303390245527, 0.2177456466088653, 1.0107712649386078, 0.7090896365466173, -0.20224818473919925, -0.6716737343647, -0.5255392480328201, 0.220602393102044, 0.5679185764822606, -0.664348506659051, 0.5655440149193591, -0.2605001465555224, -0.44476972105908064, 0.16411977735553548, -0.26884664450584866, -0.034101486858117314, 1.1367673776383977, 0.20383370529796563, -0.33120103482858776, 0.24276731510751107, 0.3998281611302054, 0.9409926919168601, 0.24999982561095813, 0.7849651477267724, 0.40450279943881134, 0.6137062126291012, -0.5724314430588369, 0.49498808243247494, 0.0019297974426112918, 0.22300462646561692, -0.3417331989379858, 0.1275069459089364, -0.23883742575743933, -0.3839793843645204, 0.549473350974221, 0.040814972387245074, 0.7653864752163864, 0.8866068075128529, 0.8269448471682256, 0.6919572681002077, 0.09598584740679728, 0.921427860837215, -0.4363056984528748, 0.13090585233804364, 0.708073706544875, 0.5953673442120604, 0.09509014818593642, -0.4265362405070112, 0.2169283752033758, -0.4984572915678237, -0.2528451566092468, 0.08119429053081831, 0.23973280995637058, 0.5570725509248531, -0.6683544103342967, -0.02515342308285237, -0.12638098881700305, 0.42675405509515674, 0.10121826279463625, -0.5700794902937782, -0.38939614448640203, 0.46414246315263463, 0.662046710981531, 0.6381008654279617, 0.23872062239361602, 0.24465186146853457, -0.40249503600795367, -0.10078345978288639, 1.060030149286084, 0.7488019569243001, -0.03162831609870871, 0.6036520491736346, 0.8900372542109308, 0.40528001022145993, 0.5669552804252124, -0.27463813164370005, 1.025321115737968, -0.37329350355500024, 0.6722832366601202, -0.23748233613720784, -0.328051945416493, -0.12664039057205045, 0.163902767064797, -0.40253376846929073, 0.9210944649201596, -0.3160694603337302, 0.49356261972143056, -0.4744664601030904, 0.5437106356516351, 0.8096130028026692, -0.6172332210395521, 0.3666784091668318, -0.36527871113721005, -0.07010628425274437, 0.7174606455400276, 0.6532250811403223, 0.29157261562178366, 0.2212330253379633, 0.5374177752148195, 0.44471746141975255, 0.47152389058042293, 0.6742885813462738, 0.6896349026977713, -0.1694959403716835, -0.158979629866297, -0.1711557573059312, 0.3571278338151201, -0.5769106371591088, 0.4057417900374254, -0.4360539225120356, 0.00817004076966052, -0.3328595135185971, -0.19911487236295916, -0.19863427705176354, -0.486249852261357, 0.7009224597105804, 0.8202303548674952, 0.6964627164785605, -0.20106864327115975, 1.055221255419995, 0.05914098492307132, 1.068621936007729, -0.23393265974914823, 0.26358525411585665, 0.995160530592945, 0.6307986637140104, 0.28999256891276015, 0.2900083101499388, 1.0503355163432597, 0.9487101716012722, -0.28599311361127777, -0.26332583701466633, 0.7965550564269417], \"yaxis\": \"y\"}],\n",
              "                        {\"coloraxis\": {\"colorbar\": {\"title\": {\"text\": \"dbscan_label\"}}, \"colorscale\": [[0.0, \"#0d0887\"], [0.1111111111111111, \"#46039f\"], [0.2222222222222222, \"#7201a8\"], [0.3333333333333333, \"#9c179e\"], [0.4444444444444444, \"#bd3786\"], [0.5555555555555556, \"#d8576b\"], [0.6666666666666666, \"#ed7953\"], [0.7777777777777778, \"#fb9f3a\"], [0.8888888888888888, \"#fdca26\"], [1.0, \"#f0f921\"]]}, \"height\": 500, \"legend\": {\"tracegroupgap\": 0}, \"margin\": {\"t\": 60}, \"template\": {\"data\": {\"bar\": [{\"error_x\": {\"color\": \"#2a3f5f\"}, \"error_y\": {\"color\": \"#2a3f5f\"}, \"marker\": {\"line\": {\"color\": \"#E5ECF6\", \"width\": 0.5}}, \"type\": \"bar\"}], \"barpolar\": [{\"marker\": {\"line\": {\"color\": \"#E5ECF6\", \"width\": 0.5}}, \"type\": \"barpolar\"}], \"carpet\": [{\"aaxis\": {\"endlinecolor\": \"#2a3f5f\", \"gridcolor\": \"white\", \"linecolor\": \"white\", \"minorgridcolor\": \"white\", \"startlinecolor\": \"#2a3f5f\"}, \"baxis\": {\"endlinecolor\": \"#2a3f5f\", \"gridcolor\": \"white\", \"linecolor\": \"white\", \"minorgridcolor\": \"white\", \"startlinecolor\": \"#2a3f5f\"}, \"type\": \"carpet\"}], \"choropleth\": [{\"colorbar\": {\"outlinewidth\": 0, \"ticks\": \"\"}, \"type\": \"choropleth\"}], \"contour\": [{\"colorbar\": {\"outlinewidth\": 0, \"ticks\": \"\"}, \"colorscale\": [[0.0, \"#0d0887\"], [0.1111111111111111, \"#46039f\"], [0.2222222222222222, \"#7201a8\"], [0.3333333333333333, \"#9c179e\"], [0.4444444444444444, \"#bd3786\"], [0.5555555555555556, \"#d8576b\"], [0.6666666666666666, \"#ed7953\"], [0.7777777777777778, \"#fb9f3a\"], [0.8888888888888888, \"#fdca26\"], [1.0, \"#f0f921\"]], \"type\": \"contour\"}], \"contourcarpet\": [{\"colorbar\": {\"outlinewidth\": 0, \"ticks\": \"\"}, \"type\": \"contourcarpet\"}], \"heatmap\": [{\"colorbar\": {\"outlinewidth\": 0, \"ticks\": \"\"}, \"colorscale\": [[0.0, \"#0d0887\"], [0.1111111111111111, \"#46039f\"], [0.2222222222222222, \"#7201a8\"], [0.3333333333333333, \"#9c179e\"], [0.4444444444444444, \"#bd3786\"], [0.5555555555555556, \"#d8576b\"], [0.6666666666666666, \"#ed7953\"], [0.7777777777777778, \"#fb9f3a\"], [0.8888888888888888, \"#fdca26\"], [1.0, \"#f0f921\"]], \"type\": \"heatmap\"}], \"heatmapgl\": [{\"colorbar\": {\"outlinewidth\": 0, \"ticks\": \"\"}, \"colorscale\": [[0.0, \"#0d0887\"], [0.1111111111111111, \"#46039f\"], [0.2222222222222222, \"#7201a8\"], [0.3333333333333333, \"#9c179e\"], [0.4444444444444444, \"#bd3786\"], [0.5555555555555556, \"#d8576b\"], [0.6666666666666666, \"#ed7953\"], [0.7777777777777778, \"#fb9f3a\"], [0.8888888888888888, \"#fdca26\"], [1.0, \"#f0f921\"]], \"type\": \"heatmapgl\"}], \"histogram\": [{\"marker\": {\"colorbar\": {\"outlinewidth\": 0, \"ticks\": \"\"}}, \"type\": \"histogram\"}], \"histogram2d\": [{\"colorbar\": {\"outlinewidth\": 0, \"ticks\": \"\"}, \"colorscale\": [[0.0, \"#0d0887\"], [0.1111111111111111, \"#46039f\"], [0.2222222222222222, \"#7201a8\"], [0.3333333333333333, \"#9c179e\"], [0.4444444444444444, \"#bd3786\"], [0.5555555555555556, \"#d8576b\"], [0.6666666666666666, \"#ed7953\"], [0.7777777777777778, \"#fb9f3a\"], [0.8888888888888888, \"#fdca26\"], [1.0, \"#f0f921\"]], \"type\": \"histogram2d\"}], \"histogram2dcontour\": [{\"colorbar\": {\"outlinewidth\": 0, \"ticks\": \"\"}, \"colorscale\": [[0.0, \"#0d0887\"], [0.1111111111111111, \"#46039f\"], [0.2222222222222222, \"#7201a8\"], [0.3333333333333333, \"#9c179e\"], [0.4444444444444444, \"#bd3786\"], [0.5555555555555556, \"#d8576b\"], [0.6666666666666666, \"#ed7953\"], [0.7777777777777778, \"#fb9f3a\"], [0.8888888888888888, \"#fdca26\"], [1.0, \"#f0f921\"]], \"type\": \"histogram2dcontour\"}], \"mesh3d\": [{\"colorbar\": {\"outlinewidth\": 0, \"ticks\": \"\"}, \"type\": \"mesh3d\"}], \"parcoords\": [{\"line\": {\"colorbar\": {\"outlinewidth\": 0, \"ticks\": \"\"}}, \"type\": \"parcoords\"}], \"pie\": [{\"automargin\": true, \"type\": \"pie\"}], \"scatter\": [{\"marker\": {\"colorbar\": {\"outlinewidth\": 0, \"ticks\": \"\"}}, \"type\": \"scatter\"}], \"scatter3d\": [{\"line\": {\"colorbar\": {\"outlinewidth\": 0, \"ticks\": \"\"}}, \"marker\": {\"colorbar\": {\"outlinewidth\": 0, \"ticks\": \"\"}}, \"type\": \"scatter3d\"}], \"scattercarpet\": [{\"marker\": {\"colorbar\": {\"outlinewidth\": 0, \"ticks\": \"\"}}, \"type\": \"scattercarpet\"}], \"scattergeo\": [{\"marker\": {\"colorbar\": {\"outlinewidth\": 0, \"ticks\": \"\"}}, \"type\": \"scattergeo\"}], \"scattergl\": [{\"marker\": {\"colorbar\": {\"outlinewidth\": 0, \"ticks\": \"\"}}, \"type\": \"scattergl\"}], \"scattermapbox\": [{\"marker\": {\"colorbar\": {\"outlinewidth\": 0, \"ticks\": \"\"}}, \"type\": \"scattermapbox\"}], \"scatterpolar\": [{\"marker\": {\"colorbar\": {\"outlinewidth\": 0, \"ticks\": \"\"}}, \"type\": \"scatterpolar\"}], \"scatterpolargl\": [{\"marker\": {\"colorbar\": {\"outlinewidth\": 0, \"ticks\": \"\"}}, \"type\": \"scatterpolargl\"}], \"scatterternary\": [{\"marker\": {\"colorbar\": {\"outlinewidth\": 0, \"ticks\": \"\"}}, \"type\": \"scatterternary\"}], \"surface\": [{\"colorbar\": {\"outlinewidth\": 0, \"ticks\": \"\"}, \"colorscale\": [[0.0, \"#0d0887\"], [0.1111111111111111, \"#46039f\"], [0.2222222222222222, \"#7201a8\"], [0.3333333333333333, \"#9c179e\"], [0.4444444444444444, \"#bd3786\"], [0.5555555555555556, \"#d8576b\"], [0.6666666666666666, \"#ed7953\"], [0.7777777777777778, \"#fb9f3a\"], [0.8888888888888888, \"#fdca26\"], [1.0, \"#f0f921\"]], \"type\": \"surface\"}], \"table\": [{\"cells\": {\"fill\": {\"color\": \"#EBF0F8\"}, \"line\": {\"color\": \"white\"}}, \"header\": {\"fill\": {\"color\": \"#C8D4E3\"}, \"line\": {\"color\": \"white\"}}, \"type\": \"table\"}]}, \"layout\": {\"annotationdefaults\": {\"arrowcolor\": \"#2a3f5f\", \"arrowhead\": 0, \"arrowwidth\": 1}, \"coloraxis\": {\"colorbar\": {\"outlinewidth\": 0, \"ticks\": \"\"}}, \"colorscale\": {\"diverging\": [[0, \"#8e0152\"], [0.1, \"#c51b7d\"], [0.2, \"#de77ae\"], [0.3, \"#f1b6da\"], [0.4, \"#fde0ef\"], [0.5, \"#f7f7f7\"], [0.6, \"#e6f5d0\"], [0.7, \"#b8e186\"], [0.8, \"#7fbc41\"], [0.9, \"#4d9221\"], [1, \"#276419\"]], \"sequential\": [[0.0, \"#0d0887\"], [0.1111111111111111, \"#46039f\"], [0.2222222222222222, \"#7201a8\"], [0.3333333333333333, \"#9c179e\"], [0.4444444444444444, \"#bd3786\"], [0.5555555555555556, \"#d8576b\"], [0.6666666666666666, \"#ed7953\"], [0.7777777777777778, \"#fb9f3a\"], [0.8888888888888888, \"#fdca26\"], [1.0, \"#f0f921\"]], \"sequentialminus\": [[0.0, \"#0d0887\"], [0.1111111111111111, \"#46039f\"], [0.2222222222222222, \"#7201a8\"], [0.3333333333333333, \"#9c179e\"], [0.4444444444444444, \"#bd3786\"], [0.5555555555555556, \"#d8576b\"], [0.6666666666666666, \"#ed7953\"], [0.7777777777777778, \"#fb9f3a\"], [0.8888888888888888, \"#fdca26\"], [1.0, \"#f0f921\"]]}, \"colorway\": [\"#636efa\", \"#EF553B\", \"#00cc96\", \"#ab63fa\", \"#FFA15A\", \"#19d3f3\", \"#FF6692\", \"#B6E880\", \"#FF97FF\", \"#FECB52\"], \"font\": {\"color\": \"#2a3f5f\"}, \"geo\": {\"bgcolor\": \"white\", \"lakecolor\": \"white\", \"landcolor\": \"#E5ECF6\", \"showlakes\": true, \"showland\": true, \"subunitcolor\": \"white\"}, \"hoverlabel\": {\"align\": \"left\"}, \"hovermode\": \"closest\", \"mapbox\": {\"style\": \"light\"}, \"paper_bgcolor\": \"white\", \"plot_bgcolor\": \"#E5ECF6\", \"polar\": {\"angularaxis\": {\"gridcolor\": \"white\", \"linecolor\": \"white\", \"ticks\": \"\"}, \"bgcolor\": \"#E5ECF6\", \"radialaxis\": {\"gridcolor\": \"white\", \"linecolor\": \"white\", \"ticks\": \"\"}}, \"scene\": {\"xaxis\": {\"backgroundcolor\": \"#E5ECF6\", \"gridcolor\": \"white\", \"gridwidth\": 2, \"linecolor\": \"white\", \"showbackground\": true, \"ticks\": \"\", \"zerolinecolor\": \"white\"}, \"yaxis\": {\"backgroundcolor\": \"#E5ECF6\", \"gridcolor\": \"white\", \"gridwidth\": 2, \"linecolor\": \"white\", \"showbackground\": true, \"ticks\": \"\", \"zerolinecolor\": \"white\"}, \"zaxis\": {\"backgroundcolor\": \"#E5ECF6\", \"gridcolor\": \"white\", \"gridwidth\": 2, \"linecolor\": \"white\", \"showbackground\": true, \"ticks\": \"\", \"zerolinecolor\": \"white\"}}, \"shapedefaults\": {\"line\": {\"color\": \"#2a3f5f\"}}, \"ternary\": {\"aaxis\": {\"gridcolor\": \"white\", \"linecolor\": \"white\", \"ticks\": \"\"}, \"baxis\": {\"gridcolor\": \"white\", \"linecolor\": \"white\", \"ticks\": \"\"}, \"bgcolor\": \"#E5ECF6\", \"caxis\": {\"gridcolor\": \"white\", \"linecolor\": \"white\", \"ticks\": \"\"}}, \"title\": {\"x\": 0.05}, \"xaxis\": {\"automargin\": true, \"gridcolor\": \"white\", \"linecolor\": \"white\", \"ticks\": \"\", \"title\": {\"standoff\": 15}, \"zerolinecolor\": \"white\", \"zerolinewidth\": 2}, \"yaxis\": {\"automargin\": true, \"gridcolor\": \"white\", \"linecolor\": \"white\", \"ticks\": \"\", \"title\": {\"standoff\": 15}, \"zerolinecolor\": \"white\", \"zerolinewidth\": 2}}}, \"width\": 600, \"xaxis\": {\"anchor\": \"y\", \"domain\": [0.0, 1.0], \"title\": {\"text\": \"x\"}}, \"yaxis\": {\"anchor\": \"x\", \"domain\": [0.0, 1.0], \"title\": {\"text\": \"y\"}}},\n",
              "                        {\"responsive\": true}\n",
              "                    ).then(function(){\n",
              "                            \n",
              "var gd = document.getElementById('b5d79869-e272-48a3-86fb-bdabcd0fe2af');\n",
              "var x = new MutationObserver(function (mutations, observer) {{\n",
              "        var display = window.getComputedStyle(gd).display;\n",
              "        if (!display || display === 'none') {{\n",
              "            console.log([gd, 'removed!']);\n",
              "            Plotly.purge(gd);\n",
              "            observer.disconnect();\n",
              "        }}\n",
              "}});\n",
              "\n",
              "// Listen for the removal of the full notebook cells\n",
              "var notebookContainer = gd.closest('#notebook-container');\n",
              "if (notebookContainer) {{\n",
              "    x.observe(notebookContainer, {childList: true});\n",
              "}}\n",
              "\n",
              "// Listen for the clearing of the current output cell\n",
              "var outputEl = gd.closest('.output');\n",
              "if (outputEl) {{\n",
              "    x.observe(outputEl, {childList: true});\n",
              "}}\n",
              "\n",
              "                        })\n",
              "                };\n",
              "                \n",
              "            </script>\n",
              "        </div>\n",
              "</body>\n",
              "</html>"
            ]
          },
          "metadata": {
            "tags": []
          }
        }
      ]
    },
    {
      "cell_type": "code",
      "metadata": {
        "colab": {
          "base_uri": "https://localhost:8080/",
          "height": 1000
        },
        "id": "DGfV3ubAdIiy",
        "outputId": "8519a16f-587e-4ff4-f26f-491a14fc38af"
      },
      "source": [
        "# eps 파라미터가 각각 다를 때 cluster 차이 비교\n",
        "for eps in [0.1, 0.2, 0.5]:\n",
        "  dbscan = DBSCAN(eps=eps, min_samples=6).fit(moon_data)\n",
        "  dbscan_label = dbscan.labels_\n",
        "  print(f\"eps:{eps} ->> label 수 : {len(set(dbscan_label))}\")\n",
        "  moon_data_df[\"dbscan_label\"] = dbscan_label\n",
        "\n",
        "  fig = px.scatter(moon_data_df, x=\"x\", y=\"y\", color=\"dbscan_label\")\n",
        "  fig.update_layout(width=600, height=500)\n",
        "  fig.show()"
      ],
      "execution_count": 73,
      "outputs": [
        {
          "output_type": "stream",
          "text": [
            "eps:0.1 ->> label 수 : 19\n"
          ],
          "name": "stdout"
        },
        {
          "output_type": "display_data",
          "data": {
            "text/html": [
              "<html>\n",
              "<head><meta charset=\"utf-8\" /></head>\n",
              "<body>\n",
              "    <div>\n",
              "            <script src=\"https://cdnjs.cloudflare.com/ajax/libs/mathjax/2.7.5/MathJax.js?config=TeX-AMS-MML_SVG\"></script><script type=\"text/javascript\">if (window.MathJax) {MathJax.Hub.Config({SVG: {font: \"STIX-Web\"}});}</script>\n",
              "                <script type=\"text/javascript\">window.PlotlyConfig = {MathJaxConfig: 'local'};</script>\n",
              "        <script src=\"https://cdn.plot.ly/plotly-latest.min.js\"></script>    \n",
              "            <div id=\"354c069a-ddbe-4019-bc55-5afb9a8d280e\" class=\"plotly-graph-div\" style=\"height:500px; width:600px;\"></div>\n",
              "            <script type=\"text/javascript\">\n",
              "                \n",
              "                    window.PLOTLYENV=window.PLOTLYENV || {};\n",
              "                    \n",
              "                if (document.getElementById(\"354c069a-ddbe-4019-bc55-5afb9a8d280e\")) {\n",
              "                    Plotly.newPlot(\n",
              "                        '354c069a-ddbe-4019-bc55-5afb9a8d280e',\n",
              "                        [{\"hoverlabel\": {\"namelength\": 0}, \"hovertemplate\": \"x=%{x}<br>y=%{y}<br>dbscan_label=%{marker.color}\", \"legendgroup\": \"\", \"marker\": {\"color\": [17, 0, 8, 1, 2, 2, 3, 2, 4, 9, 5, 6, 2, 2, 7, 8, -1, 6, 1, -1, 2, 5, -1, 0, 5, -1, 9, 1, 4, 2, -1, -1, 0, 8, 1, 9, -1, 12, 10, 7, -1, 8, 2, 8, 2, 6, 7, 11, 5, 10, 8, 3, 12, 2, 6, 8, 1, 10, 5, 10, -1, -1, -1, 2, 2, 8, 12, 4, -1, 2, 3, 7, 5, 8, 13, 14, 1, 6, 11, 0, 5, 5, -1, 14, 0, 2, -1, 3, 2, 2, 1, 12, 9, 1, 10, 3, 6, 6, -1, 2, 1, 2, 5, 2, -1, 5, 5, -1, 12, -1, -1, 13, 0, 6, 16, 8, 2, 0, 3, 0, 15, 9, 5, 6, 5, 11, 12, 12, 10, 14, 3, 7, -1, 11, 9, -1, 1, -1, -1, 16, 5, -1, -1, 7, -1, 0, 8, 9, 11, 6, -1, 12, 14, -1, 5, -1, 2, 2, -1, 6, -1, 1, 3, 10, 6, 2, 6, 10, 7, 1, 2, 2, 9, 2, 7, -1, 9, -1, 2, 5, 8, 7, 9, 11, 2, 11, 3, -1, -1, -1, 7, 7, 6, 2, 3, 12, 12, 12, 12, 3, 11, -1, 0, 1, 0, 7, 8, 5, 3, 11, 1, 9, 10, 3, 3, -1, 6, -1, 6, 3, 12, 15, 14, 7, 7, -1, -1, 13, 5, 17, -1, 1, -1, 5, 9, 6, 1, 12, 6, 12, 13, 9, 2, 3, 8, 2, 13, 2, 14, 3, -1, 1, 11, 0, 8, 6, 8, 2, -1, 11, 10, 5, 5, -1, 10, 7, 3, -1, 1, 2, 8, 14, 16, 3, 11, 8, 16, -1, 14, 3, 5, -1, 6, -1, 1, 12, 1, 10, 2, 1, 8, -1, 8, -1, 17, -1, 5, 3, 1, 14, 0, 10, 6, 7, 2, 7, -1, 5, 2, 0, 5, 15, 8, 6, 3, 1, 0, 12, 1, 1, 17, 16, 6, 14, -1, 6, 3, 4, 17, 15, 8, 1, 11, 3, -1, -1, 8, 5, 8, 2, 17, 8, 4, 2, 3, 8, 12, 4, 14, 5, 3, 2, 0, 10, -1, -1, -1, 3, 13, 3, 14, 8, 8, 11, 11, -1, 10, 10, 8, 8, 12, 14, 14, -1, 3, -1, 0, -1, 0, 12, -1, 3, 15, -1, 7, 12, 2, 6, 2, 12, 1, 9, -1, 5, -1, 2, 2, 0, -1, -1], \"coloraxis\": \"coloraxis\", \"symbol\": \"circle\"}, \"mode\": \"markers\", \"name\": \"\", \"showlegend\": false, \"type\": \"scatter\", \"x\": [-0.04405185436455387, 0.6922304485774229, 0.8281977981485314, 0.17881242677930137, 0.09171539700050081, 0.40156045922972966, 1.3757911943525358, 0.07314713993172753, 0.45860466022215285, -0.4178031928161623, 0.9579878024190793, 1.8524970559962026, 0.5552516585363515, 0.3022727378193304, -0.5247965363754132, 0.8580279728331913, 0.6189365495878882, 1.8927960119108467, 0.11756338555092069, 2.169029362678773, 0.404559599307745, 1.0893364137634811, 2.0669459262896903, 0.5877990025461418, 1.0446289348001918, 2.0490213676870517, -0.29381359169325855, 0.02237367735743013, 0.453000976269902, 0.052039835716421845, 2.1534991209951535, -1.119340367715941, 0.6240688008428807, 0.6746685269538756, 0.11590511420338562, -0.25247367792137004, -0.043682834885529404, 1.7828070067277453, -0.834513603902822, -0.5049155905696417, 1.806489808286964, 0.7605778678586781, 0.29985442632480913, 0.8905252470097118, 0.11826978657090345, 2.0034066514848714, -0.7130367234824387, -1.0452223143606545, 0.9604818564529551, -1.0610029020734704, 0.9290715732995999, 1.3419458957279273, 1.5452174341489513, 0.3985161871037338, 1.764957168546406, 0.9224449677324292, 0.033462363099337374, -0.8919029408079996, 1.0225793504988576, -0.9710888438761187, -0.4791414581275831, 0.8408477423017393, 0.2964391408080224, 0.4919544089308461, 0.0410776773647474, 0.9666350914963895, 1.6831546515793194, 0.43826348511034413, 1.740452092301724, 0.21658112980549674, 1.3012044573186852, -0.64388146241787, 0.9496985380360062, 0.6683706670351148, 2.021650614049808, 0.16473890548509473, -0.009247095964754717, 1.7690167227990816, -1.0104913674247578, 0.702434617830942, 0.9493893492279155, 0.8953640992371084, -0.15095907350779758, 0.28341059943157637, 0.686247114883507, 0.42168660618408793, 0.4135899135206339, 1.0577396586654602, 0.0034514995502456514, 0.2647671231050478, 0.06324742529253595, 1.5658002856216526, -0.2559695512442949, 0.2090468050023805, -1.0197784695319896, 1.1529542320186548, 1.8320855582539974, 1.9886682809991771, -0.16419264277805473, 0.3254160858230126, 0.20654495134218478, -0.02532499674177502, 1.0832306132818155, 0.5278969205172018, -0.7422978282856604, 1.0762354226047843, 0.9804704487371622, -0.7609520671028389, 1.7419705803807746, 1.8949012493453714, -0.49651016735263764, 2.0281830266713725, 0.7295586309939159, 2.0165730120568788, 1.0090524120850748, 0.8181446341926059, 0.47919081281108183, 0.8291064621354819, 1.1864304003533328, 0.7588546454896044, -0.9246852132955579, -0.19973768447083562, 0.940616481696544, 1.8498418744289271, 1.0076808280989389, -0.966543565363345, 1.6638459329092838, 1.6872832037570835, -0.9976923228984038, 0.259718542404861, 1.260522773047423, -0.5812357980233047, 0.5687897887080057, -0.9002692152319717, -0.25582248118023304, -1.1138631338303022, 0.13234844337348306, 0.5078751167554956, -0.11594691159512407, 1.0831469058632226, 0.9771117727121236, -0.32661461873026315, 0.9063697767081207, -0.6203513588550882, -1.1511863158724789, 0.7803374476056197, 0.5955667439508922, -0.1308958348924223, -0.8799966733224986, 1.922550311349182, 1.1750337382650022, 1.5611843539210797, 0.4481765327303048, -0.7585085272396329, 1.051622752860439, -0.8092021378321275, -0.07657329479524141, 0.3643485289920689, 1.3457410648452206, 1.9250783905350084, 2.128778248212025, 0.0706262481600407, 1.0274744413540133, -0.9039386882590633, 1.792856509913606, 0.23340051836624431, 2.0071012074483465, -0.7848715472141286, -0.6052644989118215, 0.05187296202004671, 0.18346525575039668, 0.4357050503972449, -0.19161096380566223, 0.23246382980226774, -0.6089928003474744, 1.1736206804738114, -0.14663398900921182, 0.2432922979322884, 0.2481370154715898, 1.056272964342253, 0.7460124466135112, -0.6474151293600467, -0.2998246700886737, -0.867194684720239, 0.45564543502722626, -1.0050512879881874, 1.3365798384645975, -0.17983124228592573, 1.498489509539917, -0.6805626396188176, -0.6490735256969274, -0.536868509390947, 1.975693655313992, 0.09373483171858374, 1.3769137547348915, 1.6728813869324226, 1.6448138852597582, 1.6705417974900587, 1.457852249627546, 0.976715110638505, -0.9263843640116586, -0.1223731313381849, 0.796228522033799, 0.15475677041477062, 0.7888519002662029, -0.5405845524825568, 0.9305692278235662, 0.9784119369643645, 1.4758331265836486, -1.0200230889843025, 0.04061773858849012, -0.3154849918885533, -1.0223978310048576, 1.3533832696767325, 1.0366465155314608, -0.04510451879071933, 1.8936032702640215, 0.5943858451752875, 1.885006370759624, 0.9389125135270914, 1.7893976221378944, -0.994564259030683, 0.3603982008922027, -0.4408604389520875, -0.5151095273058485, -1.0563766442123035, -1.0351547981205815, 1.9371282674993187, 0.9166357854923943, 0.0083564707053621, -0.12004194518298957, 0.06357500148967771, 0.4229368998509608, 0.9981936878290952, -0.30368999098948596, 1.874315243153208, 0.07222261812178199, 1.6470491039434203, 1.9686415215524833, 1.7843131131506498, 2.0873045148599823, -0.39790391370032724, 0.49229061778845873, 1.3148496627000024, 0.8494651045710285, 0.19481701963916617, 1.9508672322774856, -0.10148376708261908, 0.2825817386035496, 0.938344700184442, -0.33440741651656025, 0.15227499084567703, -0.9103538545522244, 0.7461365894557511, 0.7980254495229531, 1.9701048704314503, 0.652791628022177, 0.15095217091376792, 0.2049831993182284, -1.0351508911672802, -0.8495786602831639, 1.0732469394954367, 0.922355666831577, 1.179959994061442, -0.9293446879170691, -0.6635954598691399, 1.325082692179819, 0.5568693550491782, 0.07750159554668323, 0.12508148690837878, 0.7450034565443301, 0.18786203305535706, 1.0060978915552157, 1.0993371067091071, -0.9080886149685693, 0.5858015888336551, 1.0604130877330895, 0.08128104436835105, 0.2621963091845073, 1.4462645794969085, 1.0643805747202955, 0.2791274315012009, 1.9261906290309088, 0.07587637693033553, 0.2185468890445362, 1.6237768965846349, 0.031333571273604, -1.0991324877898918, 0.05943075792034612, 0.008629185751882248, 0.7067448851525836, 0.8727925257301243, 1.0098726006114973, 0.5993675602813255, 0.1018886995222481, 1.525369983953064, 1.054941483052359, 1.2136000567339893, 0.23308716959053433, 0.15132759806894286, 0.7976359593737035, -0.808584190274535, 1.961108543928387, -0.573486935719889, 0.3974880824749839, -0.6121576257879583, -0.40620203173039965, 0.8059004682255754, 0.577010942050867, 0.8487619173221225, 0.95116813790414, -0.8431589135514671, 0.8345576822705425, 1.8916875532375048, 1.3528302565382921, 0.14554876861527338, 0.74380252328883, 1.6283256315766768, 0.20872539439732596, 0.01575435537698975, 0.08103530943841337, 0.9398855834587191, 1.8681586907315795, 0.2982728817544293, 2.1277507888341294, 1.846066968959805, 0.905843066983084, 0.4764277360194793, 0.05079807673102646, -0.9159944605722037, 0.7547580557250606, 0.09090431203597911, -0.9855961407261281, 1.1645508833612985, 0.45777725614298304, -0.0457775363766378, 0.7800780371174919, 0.9360900798447133, 0.6689785958971225, 0.33478569722706114, 0.0225989916723915, 0.8552106280976605, 0.40095040462607473, 0.2905170667683744, 1.5057375454140596, 0.6567229379131222, 1.5589905162770326, 0.4463256730065187, 0.3209014155840095, 0.8604722047896834, 1.3193048015154476, 0.23241761555025903, 0.6689344099794808, -0.9368801423457124, 1.6369396239440042, 1.8250086156767336, -0.4044565529876215, 1.0911356663298046, 1.9771635326594774, 1.2487446961310449, 0.2680686577935133, 0.6096776291794008, 0.519633282205532, -0.8067740153047347, -1.0655947175512142, 2.0397784183254832, -1.0984313739240208, -1.0115042991719052, 0.593417605519658, 0.6893488089833144, 1.5811433931248629, 0.13264402366925823, 0.17583821874143654, 0.7968700476436335, 1.2559789044345149, -0.72730191303691, 0.6671056801212313, -1.0039351561663472, 0.803862955043394, 1.755527350459414, 0.4722598345644735, 1.1014506588758581, -0.8515613634567728, -0.344768061166429, -0.6240556307959167, 1.668619917195012, 0.09982365388048871, 1.9207005824962247, 0.21711474696683666, 1.6106948141690762, 0.06152089034007621, -0.3183138362478756, 2.051806694384509, 1.1621430615794484, -0.7693711814576643, 0.42481712855727227, 0.06612998562530321, 0.7241611107656446, 1.929872146707251, -0.0747996734498523], \"xaxis\": \"x\", \"y\": [0.43607778101760863, -0.4011194632440612, 0.5415218892178506, 0.26886231388723847, 0.9461179874453445, 0.9268166356399812, -0.4513290871112877, 0.9168823205037456, -0.3476620899215156, 0.9969302258350214, 0.12114286887719278, 0.1599189780891384, 0.965685772429867, 0.9301292941685252, 0.7897125490862673, 0.6755129042792798, -0.6523278952709434, 0.158747858462253, 0.10550256974316223, 0.32216590687738944, 0.95239331683874, 0.28773650388840166, 0.5549359778342985, -0.4275752586735255, 0.11362423171192629, 0.5587208679105828, 0.8871058855450891, -0.011244065183244362, -0.37282399872071736, 0.8683552101965917, 0.3387743351635715, 0.012114675029737565, -0.3249173888665629, 0.7648464577460884, -0.03455360646626823, 1.0157254753141933, 0.789928213280756, -0.23043958881624316, 0.5482327588836816, 0.8158505869016326, 0.25595173111671626, 0.8490047684040152, 0.7977673987470991, 0.7099043476407715, 0.8778058534457707, 0.2223803368419529, 0.9233940786148171, 0.2789271744465052, 0.2598976348965632, 0.4259623231575948, 0.7044894326221837, -0.43467545128738916, -0.2025606431151623, 0.7578228472730179, 0.12339506639239467, 0.6012696775757825, 0.19067157702276952, 0.4960748810175608, 0.36066014634971644, 0.6405981687615638, 1.0093246672652925, -0.683810686127401, -0.41241573507105345, 0.9901126903122439, 1.0533222871839638, 0.5834251609429104, -0.3177480119227779, -0.38340484123539237, 0.5354200429219066, 0.9736687007203508, -0.4195693110355442, 0.8241928619908845, 0.023234430827277622, 0.8047279428402697, 0.3481653007891365, -0.18751597646936197, 0.03742781347292015, 0.20281525401323908, 0.26766467034661684, -0.5634133844961742, 0.042395034693238194, 0.12029412831425107, 0.5363974171515313, -0.1450026982659779, -0.40495076112290174, 0.8574857282534363, -0.2320469450349981, -0.5010974292201972, 0.9232315981434537, 0.9512736717500212, 0.013266377828641828, -0.15587107312135612, 0.9769812759008681, 0.24958736254698483, 0.4310704881654892, -0.5388390359189088, 0.007344939439863404, 0.17873633391097563, -0.10434745860853986, 1.0154113850377267, 0.07817393049748056, 0.947301799237025, 0.30243413363940314, 0.9436475009919664, 0.688066258718179, 0.31552877308582405, 0.25009378313745445, 1.0259518073320897, -0.08661529391898053, -0.18713179029828392, 1.020847176615835, 0.37029889398262206, -0.37240717905441106, 0.15904904573753528, -0.7054738367924506, 0.7016062224228446, 0.8667912886886442, -0.5651271337464877, -0.519764696461732, -0.45614703155803, 0.6659339268772327, 1.0933060138877637, 0.25749074749584544, 0.006391413083718128, 0.34117127567420824, 0.28801758688468887, -0.21466511695958101, -0.390961809823812, 0.48813212785537713, -0.14858140113014096, -0.4766645861004665, 0.6748887284276055, -0.2677047542484201, 0.2619201140227827, 1.0180954146828698, -0.08705661343128906, 0.00912932714886762, -0.48441334225022337, 0.24031371708309332, -0.7040686518936875, 0.40745819890591284, 0.7493900295321627, -0.3263153064040736, 0.8387098635497955, -0.06624355977916652, -0.3862360517512149, 0.6386728106302391, 0.9641399984129664, 0.283554573861271, -0.023703499695742758, 0.08712904314172767, -0.2802004578206971, -0.16445885394768184, 0.748141806207555, 0.07573563016822103, 0.13687902584671832, 1.0123246744592231, 0.9587332861968995, -0.6347527000227957, 0.2703337265054317, 0.3285139273519466, 0.27277848784097924, -0.5378165485798784, 0.4860442990090752, -0.09965088293999937, 0.9718404298026123, 0.14070793064631937, 0.5879530835073661, 0.7955689362691735, 0.11809294944569163, 0.863886260883799, 0.947112468815042, 1.0144581477653083, 0.958636539202684, 0.8538968611679508, -0.26267904632598416, 1.098915276229116, -0.2985209827634067, 1.0221280706067108, 0.26708618818460234, 0.6027220092407295, 0.8686578241100799, 1.0958782230964785, 0.3372444433127365, 0.8287075193222752, 0.19988054900735763, -0.4000759499004397, 0.27210742336973803, -0.5554431740207553, 0.08132969177833893, 0.8815049333413835, 0.9423719015542635, 0.22898137437768737, 0.9093489420473164, -0.3990335438365677, -0.28120663796327605, -0.42347286188539957, -0.1316839261626955, -0.22512481834440223, -0.5487601936944003, 0.21098414319755895, 0.34272142754523316, -0.6021366375822279, 0.25817568609572544, -0.5251206254974262, 0.9181117639438922, 0.5398249074259076, 0.25352612158237964, -0.42390792934014865, 0.22748717279219446, 0.19092611177757238, 1.0083104690182787, 0.4011067930232193, -0.47274322766457466, -0.4985476580125366, 0.7991491020390376, 0.14287399006123414, -0.528630928174813, 0.10420737924262266, -0.5135540452630449, -0.26387131943612496, 0.6713911383163779, -0.12579009793677248, 0.7384652081800833, 0.8471182066753098, -0.3568205299359881, 0.05539817597695543, 0.3675642914202532, 0.12373202160019528, 0.5320457749816218, 0.7527784391323216, -0.07375254500638109, -0.03656097531307502, 0.21096138080488983, 1.0459161417121352, -0.05318329701654417, 0.13627157664599823, -0.16757444093230295, 0.10291719279716784, -0.1520068909668203, 0.28530735074108815, 0.982030294351673, 0.8693150287473763, -0.44725774744016616, 0.5435623850119276, 1.0914306332660042, 0.3900256213166849, 0.8954007189495029, -0.16532079284824672, -0.6327445340710072, 0.872152223717397, 0.02198057941962034, 0.11457950315220794, -0.5110142065757868, 0.7023762060734993, 0.06999163949717546, 0.8679890511284588, 0.9735792211196405, -0.37334478387442843, 0.2352123895851974, 0.5257157557542287, 0.0966570840121739, 0.3915777156856398, 0.40620951502008384, 0.5563002807945711, 0.9287284123514572, -0.4694932597705525, -0.28647303390245527, 0.2177456466088653, 1.0107712649386078, 0.7090896365466173, -0.20224818473919925, -0.6716737343647, -0.5255392480328201, 0.220602393102044, 0.5679185764822606, -0.664348506659051, 0.5655440149193591, -0.2605001465555224, -0.44476972105908064, 0.16411977735553548, -0.26884664450584866, -0.034101486858117314, 1.1367673776383977, 0.20383370529796563, -0.33120103482858776, 0.24276731510751107, 0.3998281611302054, 0.9409926919168601, 0.24999982561095813, 0.7849651477267724, 0.40450279943881134, 0.6137062126291012, -0.5724314430588369, 0.49498808243247494, 0.0019297974426112918, 0.22300462646561692, -0.3417331989379858, 0.1275069459089364, -0.23883742575743933, -0.3839793843645204, 0.549473350974221, 0.040814972387245074, 0.7653864752163864, 0.8866068075128529, 0.8269448471682256, 0.6919572681002077, 0.09598584740679728, 0.921427860837215, -0.4363056984528748, 0.13090585233804364, 0.708073706544875, 0.5953673442120604, 0.09509014818593642, -0.4265362405070112, 0.2169283752033758, -0.4984572915678237, -0.2528451566092468, 0.08119429053081831, 0.23973280995637058, 0.5570725509248531, -0.6683544103342967, -0.02515342308285237, -0.12638098881700305, 0.42675405509515674, 0.10121826279463625, -0.5700794902937782, -0.38939614448640203, 0.46414246315263463, 0.662046710981531, 0.6381008654279617, 0.23872062239361602, 0.24465186146853457, -0.40249503600795367, -0.10078345978288639, 1.060030149286084, 0.7488019569243001, -0.03162831609870871, 0.6036520491736346, 0.8900372542109308, 0.40528001022145993, 0.5669552804252124, -0.27463813164370005, 1.025321115737968, -0.37329350355500024, 0.6722832366601202, -0.23748233613720784, -0.328051945416493, -0.12664039057205045, 0.163902767064797, -0.40253376846929073, 0.9210944649201596, -0.3160694603337302, 0.49356261972143056, -0.4744664601030904, 0.5437106356516351, 0.8096130028026692, -0.6172332210395521, 0.3666784091668318, -0.36527871113721005, -0.07010628425274437, 0.7174606455400276, 0.6532250811403223, 0.29157261562178366, 0.2212330253379633, 0.5374177752148195, 0.44471746141975255, 0.47152389058042293, 0.6742885813462738, 0.6896349026977713, -0.1694959403716835, -0.158979629866297, -0.1711557573059312, 0.3571278338151201, -0.5769106371591088, 0.4057417900374254, -0.4360539225120356, 0.00817004076966052, -0.3328595135185971, -0.19911487236295916, -0.19863427705176354, -0.486249852261357, 0.7009224597105804, 0.8202303548674952, 0.6964627164785605, -0.20106864327115975, 1.055221255419995, 0.05914098492307132, 1.068621936007729, -0.23393265974914823, 0.26358525411585665, 0.995160530592945, 0.6307986637140104, 0.28999256891276015, 0.2900083101499388, 1.0503355163432597, 0.9487101716012722, -0.28599311361127777, -0.26332583701466633, 0.7965550564269417], \"yaxis\": \"y\"}],\n",
              "                        {\"coloraxis\": {\"colorbar\": {\"title\": {\"text\": \"dbscan_label\"}}, \"colorscale\": [[0.0, \"#0d0887\"], [0.1111111111111111, \"#46039f\"], [0.2222222222222222, \"#7201a8\"], [0.3333333333333333, \"#9c179e\"], [0.4444444444444444, \"#bd3786\"], [0.5555555555555556, \"#d8576b\"], [0.6666666666666666, \"#ed7953\"], [0.7777777777777778, \"#fb9f3a\"], [0.8888888888888888, \"#fdca26\"], [1.0, \"#f0f921\"]]}, \"height\": 500, \"legend\": {\"tracegroupgap\": 0}, \"margin\": {\"t\": 60}, \"template\": {\"data\": {\"bar\": [{\"error_x\": {\"color\": \"#2a3f5f\"}, \"error_y\": {\"color\": \"#2a3f5f\"}, \"marker\": {\"line\": {\"color\": \"#E5ECF6\", \"width\": 0.5}}, \"type\": \"bar\"}], \"barpolar\": [{\"marker\": {\"line\": {\"color\": \"#E5ECF6\", \"width\": 0.5}}, \"type\": \"barpolar\"}], \"carpet\": [{\"aaxis\": {\"endlinecolor\": \"#2a3f5f\", \"gridcolor\": \"white\", \"linecolor\": \"white\", \"minorgridcolor\": \"white\", \"startlinecolor\": \"#2a3f5f\"}, \"baxis\": {\"endlinecolor\": \"#2a3f5f\", \"gridcolor\": \"white\", \"linecolor\": \"white\", \"minorgridcolor\": \"white\", \"startlinecolor\": \"#2a3f5f\"}, \"type\": \"carpet\"}], \"choropleth\": [{\"colorbar\": {\"outlinewidth\": 0, \"ticks\": \"\"}, \"type\": \"choropleth\"}], \"contour\": [{\"colorbar\": {\"outlinewidth\": 0, \"ticks\": \"\"}, \"colorscale\": [[0.0, \"#0d0887\"], [0.1111111111111111, \"#46039f\"], [0.2222222222222222, \"#7201a8\"], [0.3333333333333333, \"#9c179e\"], [0.4444444444444444, \"#bd3786\"], [0.5555555555555556, \"#d8576b\"], [0.6666666666666666, \"#ed7953\"], [0.7777777777777778, \"#fb9f3a\"], [0.8888888888888888, \"#fdca26\"], [1.0, \"#f0f921\"]], \"type\": \"contour\"}], \"contourcarpet\": [{\"colorbar\": {\"outlinewidth\": 0, \"ticks\": \"\"}, \"type\": \"contourcarpet\"}], \"heatmap\": [{\"colorbar\": {\"outlinewidth\": 0, \"ticks\": \"\"}, \"colorscale\": [[0.0, \"#0d0887\"], [0.1111111111111111, \"#46039f\"], [0.2222222222222222, \"#7201a8\"], [0.3333333333333333, \"#9c179e\"], [0.4444444444444444, \"#bd3786\"], [0.5555555555555556, \"#d8576b\"], [0.6666666666666666, \"#ed7953\"], [0.7777777777777778, \"#fb9f3a\"], [0.8888888888888888, \"#fdca26\"], [1.0, \"#f0f921\"]], \"type\": \"heatmap\"}], \"heatmapgl\": [{\"colorbar\": {\"outlinewidth\": 0, \"ticks\": \"\"}, \"colorscale\": [[0.0, \"#0d0887\"], [0.1111111111111111, \"#46039f\"], [0.2222222222222222, \"#7201a8\"], [0.3333333333333333, \"#9c179e\"], [0.4444444444444444, \"#bd3786\"], [0.5555555555555556, \"#d8576b\"], [0.6666666666666666, \"#ed7953\"], [0.7777777777777778, \"#fb9f3a\"], [0.8888888888888888, \"#fdca26\"], [1.0, \"#f0f921\"]], \"type\": \"heatmapgl\"}], \"histogram\": [{\"marker\": {\"colorbar\": {\"outlinewidth\": 0, \"ticks\": \"\"}}, \"type\": \"histogram\"}], \"histogram2d\": [{\"colorbar\": {\"outlinewidth\": 0, \"ticks\": \"\"}, \"colorscale\": [[0.0, \"#0d0887\"], [0.1111111111111111, \"#46039f\"], [0.2222222222222222, \"#7201a8\"], [0.3333333333333333, \"#9c179e\"], [0.4444444444444444, \"#bd3786\"], [0.5555555555555556, \"#d8576b\"], [0.6666666666666666, \"#ed7953\"], [0.7777777777777778, \"#fb9f3a\"], [0.8888888888888888, \"#fdca26\"], [1.0, \"#f0f921\"]], \"type\": \"histogram2d\"}], \"histogram2dcontour\": [{\"colorbar\": {\"outlinewidth\": 0, \"ticks\": \"\"}, \"colorscale\": [[0.0, \"#0d0887\"], [0.1111111111111111, \"#46039f\"], [0.2222222222222222, \"#7201a8\"], [0.3333333333333333, \"#9c179e\"], [0.4444444444444444, \"#bd3786\"], [0.5555555555555556, \"#d8576b\"], [0.6666666666666666, \"#ed7953\"], [0.7777777777777778, \"#fb9f3a\"], [0.8888888888888888, \"#fdca26\"], [1.0, \"#f0f921\"]], \"type\": \"histogram2dcontour\"}], \"mesh3d\": [{\"colorbar\": {\"outlinewidth\": 0, \"ticks\": \"\"}, \"type\": \"mesh3d\"}], \"parcoords\": [{\"line\": {\"colorbar\": {\"outlinewidth\": 0, \"ticks\": \"\"}}, \"type\": \"parcoords\"}], \"pie\": [{\"automargin\": true, \"type\": \"pie\"}], \"scatter\": [{\"marker\": {\"colorbar\": {\"outlinewidth\": 0, \"ticks\": \"\"}}, \"type\": \"scatter\"}], \"scatter3d\": [{\"line\": {\"colorbar\": {\"outlinewidth\": 0, \"ticks\": \"\"}}, \"marker\": {\"colorbar\": {\"outlinewidth\": 0, \"ticks\": \"\"}}, \"type\": \"scatter3d\"}], \"scattercarpet\": [{\"marker\": {\"colorbar\": {\"outlinewidth\": 0, \"ticks\": \"\"}}, \"type\": \"scattercarpet\"}], \"scattergeo\": [{\"marker\": {\"colorbar\": {\"outlinewidth\": 0, \"ticks\": \"\"}}, \"type\": \"scattergeo\"}], \"scattergl\": [{\"marker\": {\"colorbar\": {\"outlinewidth\": 0, \"ticks\": \"\"}}, \"type\": \"scattergl\"}], \"scattermapbox\": [{\"marker\": {\"colorbar\": {\"outlinewidth\": 0, \"ticks\": \"\"}}, \"type\": \"scattermapbox\"}], \"scatterpolar\": [{\"marker\": {\"colorbar\": {\"outlinewidth\": 0, \"ticks\": \"\"}}, \"type\": \"scatterpolar\"}], \"scatterpolargl\": [{\"marker\": {\"colorbar\": {\"outlinewidth\": 0, \"ticks\": \"\"}}, \"type\": \"scatterpolargl\"}], \"scatterternary\": [{\"marker\": {\"colorbar\": {\"outlinewidth\": 0, \"ticks\": \"\"}}, \"type\": \"scatterternary\"}], \"surface\": [{\"colorbar\": {\"outlinewidth\": 0, \"ticks\": \"\"}, \"colorscale\": [[0.0, \"#0d0887\"], [0.1111111111111111, \"#46039f\"], [0.2222222222222222, \"#7201a8\"], [0.3333333333333333, \"#9c179e\"], [0.4444444444444444, \"#bd3786\"], [0.5555555555555556, \"#d8576b\"], [0.6666666666666666, \"#ed7953\"], [0.7777777777777778, \"#fb9f3a\"], [0.8888888888888888, \"#fdca26\"], [1.0, \"#f0f921\"]], \"type\": \"surface\"}], \"table\": [{\"cells\": {\"fill\": {\"color\": \"#EBF0F8\"}, \"line\": {\"color\": \"white\"}}, \"header\": {\"fill\": {\"color\": \"#C8D4E3\"}, \"line\": {\"color\": \"white\"}}, \"type\": \"table\"}]}, \"layout\": {\"annotationdefaults\": {\"arrowcolor\": \"#2a3f5f\", \"arrowhead\": 0, \"arrowwidth\": 1}, \"coloraxis\": {\"colorbar\": {\"outlinewidth\": 0, \"ticks\": \"\"}}, \"colorscale\": {\"diverging\": [[0, \"#8e0152\"], [0.1, \"#c51b7d\"], [0.2, \"#de77ae\"], [0.3, \"#f1b6da\"], [0.4, \"#fde0ef\"], [0.5, \"#f7f7f7\"], [0.6, \"#e6f5d0\"], [0.7, \"#b8e186\"], [0.8, \"#7fbc41\"], [0.9, \"#4d9221\"], [1, \"#276419\"]], \"sequential\": [[0.0, \"#0d0887\"], [0.1111111111111111, \"#46039f\"], [0.2222222222222222, \"#7201a8\"], [0.3333333333333333, \"#9c179e\"], [0.4444444444444444, \"#bd3786\"], [0.5555555555555556, \"#d8576b\"], [0.6666666666666666, \"#ed7953\"], [0.7777777777777778, \"#fb9f3a\"], [0.8888888888888888, \"#fdca26\"], [1.0, \"#f0f921\"]], \"sequentialminus\": [[0.0, \"#0d0887\"], [0.1111111111111111, \"#46039f\"], [0.2222222222222222, \"#7201a8\"], [0.3333333333333333, \"#9c179e\"], [0.4444444444444444, \"#bd3786\"], [0.5555555555555556, \"#d8576b\"], [0.6666666666666666, \"#ed7953\"], [0.7777777777777778, \"#fb9f3a\"], [0.8888888888888888, \"#fdca26\"], [1.0, \"#f0f921\"]]}, \"colorway\": [\"#636efa\", \"#EF553B\", \"#00cc96\", \"#ab63fa\", \"#FFA15A\", \"#19d3f3\", \"#FF6692\", \"#B6E880\", \"#FF97FF\", \"#FECB52\"], \"font\": {\"color\": \"#2a3f5f\"}, \"geo\": {\"bgcolor\": \"white\", \"lakecolor\": \"white\", \"landcolor\": \"#E5ECF6\", \"showlakes\": true, \"showland\": true, \"subunitcolor\": \"white\"}, \"hoverlabel\": {\"align\": \"left\"}, \"hovermode\": \"closest\", \"mapbox\": {\"style\": \"light\"}, \"paper_bgcolor\": \"white\", \"plot_bgcolor\": \"#E5ECF6\", \"polar\": {\"angularaxis\": {\"gridcolor\": \"white\", \"linecolor\": \"white\", \"ticks\": \"\"}, \"bgcolor\": \"#E5ECF6\", \"radialaxis\": {\"gridcolor\": \"white\", \"linecolor\": \"white\", \"ticks\": \"\"}}, \"scene\": {\"xaxis\": {\"backgroundcolor\": \"#E5ECF6\", \"gridcolor\": \"white\", \"gridwidth\": 2, \"linecolor\": \"white\", \"showbackground\": true, \"ticks\": \"\", \"zerolinecolor\": \"white\"}, \"yaxis\": {\"backgroundcolor\": \"#E5ECF6\", \"gridcolor\": \"white\", \"gridwidth\": 2, \"linecolor\": \"white\", \"showbackground\": true, \"ticks\": \"\", \"zerolinecolor\": \"white\"}, \"zaxis\": {\"backgroundcolor\": \"#E5ECF6\", \"gridcolor\": \"white\", \"gridwidth\": 2, \"linecolor\": \"white\", \"showbackground\": true, \"ticks\": \"\", \"zerolinecolor\": \"white\"}}, \"shapedefaults\": {\"line\": {\"color\": \"#2a3f5f\"}}, \"ternary\": {\"aaxis\": {\"gridcolor\": \"white\", \"linecolor\": \"white\", \"ticks\": \"\"}, \"baxis\": {\"gridcolor\": \"white\", \"linecolor\": \"white\", \"ticks\": \"\"}, \"bgcolor\": \"#E5ECF6\", \"caxis\": {\"gridcolor\": \"white\", \"linecolor\": \"white\", \"ticks\": \"\"}}, \"title\": {\"x\": 0.05}, \"xaxis\": {\"automargin\": true, \"gridcolor\": \"white\", \"linecolor\": \"white\", \"ticks\": \"\", \"title\": {\"standoff\": 15}, \"zerolinecolor\": \"white\", \"zerolinewidth\": 2}, \"yaxis\": {\"automargin\": true, \"gridcolor\": \"white\", \"linecolor\": \"white\", \"ticks\": \"\", \"title\": {\"standoff\": 15}, \"zerolinecolor\": \"white\", \"zerolinewidth\": 2}}}, \"width\": 600, \"xaxis\": {\"anchor\": \"y\", \"domain\": [0.0, 1.0], \"title\": {\"text\": \"x\"}}, \"yaxis\": {\"anchor\": \"x\", \"domain\": [0.0, 1.0], \"title\": {\"text\": \"y\"}}},\n",
              "                        {\"responsive\": true}\n",
              "                    ).then(function(){\n",
              "                            \n",
              "var gd = document.getElementById('354c069a-ddbe-4019-bc55-5afb9a8d280e');\n",
              "var x = new MutationObserver(function (mutations, observer) {{\n",
              "        var display = window.getComputedStyle(gd).display;\n",
              "        if (!display || display === 'none') {{\n",
              "            console.log([gd, 'removed!']);\n",
              "            Plotly.purge(gd);\n",
              "            observer.disconnect();\n",
              "        }}\n",
              "}});\n",
              "\n",
              "// Listen for the removal of the full notebook cells\n",
              "var notebookContainer = gd.closest('#notebook-container');\n",
              "if (notebookContainer) {{\n",
              "    x.observe(notebookContainer, {childList: true});\n",
              "}}\n",
              "\n",
              "// Listen for the clearing of the current output cell\n",
              "var outputEl = gd.closest('.output');\n",
              "if (outputEl) {{\n",
              "    x.observe(outputEl, {childList: true});\n",
              "}}\n",
              "\n",
              "                        })\n",
              "                };\n",
              "                \n",
              "            </script>\n",
              "        </div>\n",
              "</body>\n",
              "</html>"
            ]
          },
          "metadata": {
            "tags": []
          }
        },
        {
          "output_type": "stream",
          "text": [
            "eps:0.2 ->> label 수 : 3\n"
          ],
          "name": "stdout"
        },
        {
          "output_type": "display_data",
          "data": {
            "text/html": [
              "<html>\n",
              "<head><meta charset=\"utf-8\" /></head>\n",
              "<body>\n",
              "    <div>\n",
              "            <script src=\"https://cdnjs.cloudflare.com/ajax/libs/mathjax/2.7.5/MathJax.js?config=TeX-AMS-MML_SVG\"></script><script type=\"text/javascript\">if (window.MathJax) {MathJax.Hub.Config({SVG: {font: \"STIX-Web\"}});}</script>\n",
              "                <script type=\"text/javascript\">window.PlotlyConfig = {MathJaxConfig: 'local'};</script>\n",
              "        <script src=\"https://cdn.plot.ly/plotly-latest.min.js\"></script>    \n",
              "            <div id=\"177268a2-531a-407b-b543-cca6c76595fe\" class=\"plotly-graph-div\" style=\"height:500px; width:600px;\"></div>\n",
              "            <script type=\"text/javascript\">\n",
              "                \n",
              "                    window.PLOTLYENV=window.PLOTLYENV || {};\n",
              "                    \n",
              "                if (document.getElementById(\"177268a2-531a-407b-b543-cca6c76595fe\")) {\n",
              "                    Plotly.newPlot(\n",
              "                        '177268a2-531a-407b-b543-cca6c76595fe',\n",
              "                        [{\"hoverlabel\": {\"namelength\": 0}, \"hovertemplate\": \"x=%{x}<br>y=%{y}<br>dbscan_label=%{marker.color}\", \"legendgroup\": \"\", \"marker\": {\"color\": [0, 0, 1, 0, 1, 1, 0, 1, 0, 1, 1, 0, 1, 1, 1, 1, 0, 0, 0, 0, 1, 1, 0, 0, 1, 0, 1, 0, 0, 1, 0, 1, 0, 1, 0, 1, 1, 0, 1, 1, 0, 1, 1, 1, 1, 0, 1, 1, 1, 1, 1, 0, 0, 1, 0, 1, 0, 1, 1, 1, 1, 0, 0, 1, 1, 1, 0, 0, -1, 1, 0, 1, 1, 1, 0, 0, 0, 0, 1, 0, 1, 1, 0, 0, 0, 1, 0, 0, 1, 1, 0, 0, 1, 0, 1, 0, 0, 0, -1, 1, 0, 1, 1, 1, 1, 1, 1, 1, 0, 0, 1, 0, 0, 0, 0, 1, 1, 0, 0, 0, 1, 1, 1, 0, 1, 1, 0, 0, 1, 0, 0, 1, 0, 1, 1, 1, 0, 0, 0, 0, 1, 1, 0, 1, 1, 0, 1, 1, 1, 0, 1, 0, 0, 1, 1, 1, 1, 1, 0, 0, 0, 0, 0, 1, 0, 1, 0, 1, 1, 0, 1, 1, 1, 1, 1, 0, 1, 0, 1, 1, 1, 1, 1, 1, 1, 1, 0, 0, 0, 1, 1, 1, 0, 1, 0, 0, 0, 0, 0, 0, 1, 0, 0, 0, 0, 1, 1, 1, 0, 1, 0, 1, 1, 0, 0, 1, 0, 0, 0, 0, 0, 1, 0, 1, 1, -1, 1, 0, 1, 0, 1, 0, 0, 1, 1, 0, 0, 0, 0, 0, 0, 1, 1, 0, 1, 1, 0, 1, 0, 0, 1, 0, 1, 0, 1, 0, 1, 1, 0, 1, 1, 1, 1, 1, 1, 1, 0, 0, 0, 1, 1, 0, 0, 0, 1, 1, 0, 0, 0, 0, 1, 0, 0, 1, 0, 0, 0, 1, 1, 0, 1, 1, 1, 0, 0, 0, 1, 0, 0, 0, 0, 1, 0, 1, 1, 1, 1, 1, 1, 0, 1, 1, 1, 0, 0, 0, 0, 0, 0, 0, 0, 0, 0, 0, 0, 0, 0, 0, 0, 1, 1, 0, 1, 0, 0, 1, 1, 1, 1, 1, 0, 1, 0, 1, 0, 1, 0, 0, 0, 1, 0, 1, 0, 1, 0, 0, 1, 0, 0, 0, 0, 1, 1, 1, 1, 0, 1, 1, 1, 1, 0, 0, 0, 1, 0, 1, 0, 1, 0, 0, 0, 0, 1, 1, 1, 0, 1, 0, 1, 0, 0, 1, 0, 1, 1, 1, 1, 0, 0, 1], \"coloraxis\": \"coloraxis\", \"symbol\": \"circle\"}, \"mode\": \"markers\", \"name\": \"\", \"showlegend\": false, \"type\": \"scatter\", \"x\": [-0.04405185436455387, 0.6922304485774229, 0.8281977981485314, 0.17881242677930137, 0.09171539700050081, 0.40156045922972966, 1.3757911943525358, 0.07314713993172753, 0.45860466022215285, -0.4178031928161623, 0.9579878024190793, 1.8524970559962026, 0.5552516585363515, 0.3022727378193304, -0.5247965363754132, 0.8580279728331913, 0.6189365495878882, 1.8927960119108467, 0.11756338555092069, 2.169029362678773, 0.404559599307745, 1.0893364137634811, 2.0669459262896903, 0.5877990025461418, 1.0446289348001918, 2.0490213676870517, -0.29381359169325855, 0.02237367735743013, 0.453000976269902, 0.052039835716421845, 2.1534991209951535, -1.119340367715941, 0.6240688008428807, 0.6746685269538756, 0.11590511420338562, -0.25247367792137004, -0.043682834885529404, 1.7828070067277453, -0.834513603902822, -0.5049155905696417, 1.806489808286964, 0.7605778678586781, 0.29985442632480913, 0.8905252470097118, 0.11826978657090345, 2.0034066514848714, -0.7130367234824387, -1.0452223143606545, 0.9604818564529551, -1.0610029020734704, 0.9290715732995999, 1.3419458957279273, 1.5452174341489513, 0.3985161871037338, 1.764957168546406, 0.9224449677324292, 0.033462363099337374, -0.8919029408079996, 1.0225793504988576, -0.9710888438761187, -0.4791414581275831, 0.8408477423017393, 0.2964391408080224, 0.4919544089308461, 0.0410776773647474, 0.9666350914963895, 1.6831546515793194, 0.43826348511034413, 1.740452092301724, 0.21658112980549674, 1.3012044573186852, -0.64388146241787, 0.9496985380360062, 0.6683706670351148, 2.021650614049808, 0.16473890548509473, -0.009247095964754717, 1.7690167227990816, -1.0104913674247578, 0.702434617830942, 0.9493893492279155, 0.8953640992371084, -0.15095907350779758, 0.28341059943157637, 0.686247114883507, 0.42168660618408793, 0.4135899135206339, 1.0577396586654602, 0.0034514995502456514, 0.2647671231050478, 0.06324742529253595, 1.5658002856216526, -0.2559695512442949, 0.2090468050023805, -1.0197784695319896, 1.1529542320186548, 1.8320855582539974, 1.9886682809991771, -0.16419264277805473, 0.3254160858230126, 0.20654495134218478, -0.02532499674177502, 1.0832306132818155, 0.5278969205172018, -0.7422978282856604, 1.0762354226047843, 0.9804704487371622, -0.7609520671028389, 1.7419705803807746, 1.8949012493453714, -0.49651016735263764, 2.0281830266713725, 0.7295586309939159, 2.0165730120568788, 1.0090524120850748, 0.8181446341926059, 0.47919081281108183, 0.8291064621354819, 1.1864304003533328, 0.7588546454896044, -0.9246852132955579, -0.19973768447083562, 0.940616481696544, 1.8498418744289271, 1.0076808280989389, -0.966543565363345, 1.6638459329092838, 1.6872832037570835, -0.9976923228984038, 0.259718542404861, 1.260522773047423, -0.5812357980233047, 0.5687897887080057, -0.9002692152319717, -0.25582248118023304, -1.1138631338303022, 0.13234844337348306, 0.5078751167554956, -0.11594691159512407, 1.0831469058632226, 0.9771117727121236, -0.32661461873026315, 0.9063697767081207, -0.6203513588550882, -1.1511863158724789, 0.7803374476056197, 0.5955667439508922, -0.1308958348924223, -0.8799966733224986, 1.922550311349182, 1.1750337382650022, 1.5611843539210797, 0.4481765327303048, -0.7585085272396329, 1.051622752860439, -0.8092021378321275, -0.07657329479524141, 0.3643485289920689, 1.3457410648452206, 1.9250783905350084, 2.128778248212025, 0.0706262481600407, 1.0274744413540133, -0.9039386882590633, 1.792856509913606, 0.23340051836624431, 2.0071012074483465, -0.7848715472141286, -0.6052644989118215, 0.05187296202004671, 0.18346525575039668, 0.4357050503972449, -0.19161096380566223, 0.23246382980226774, -0.6089928003474744, 1.1736206804738114, -0.14663398900921182, 0.2432922979322884, 0.2481370154715898, 1.056272964342253, 0.7460124466135112, -0.6474151293600467, -0.2998246700886737, -0.867194684720239, 0.45564543502722626, -1.0050512879881874, 1.3365798384645975, -0.17983124228592573, 1.498489509539917, -0.6805626396188176, -0.6490735256969274, -0.536868509390947, 1.975693655313992, 0.09373483171858374, 1.3769137547348915, 1.6728813869324226, 1.6448138852597582, 1.6705417974900587, 1.457852249627546, 0.976715110638505, -0.9263843640116586, -0.1223731313381849, 0.796228522033799, 0.15475677041477062, 0.7888519002662029, -0.5405845524825568, 0.9305692278235662, 0.9784119369643645, 1.4758331265836486, -1.0200230889843025, 0.04061773858849012, -0.3154849918885533, -1.0223978310048576, 1.3533832696767325, 1.0366465155314608, -0.04510451879071933, 1.8936032702640215, 0.5943858451752875, 1.885006370759624, 0.9389125135270914, 1.7893976221378944, -0.994564259030683, 0.3603982008922027, -0.4408604389520875, -0.5151095273058485, -1.0563766442123035, -1.0351547981205815, 1.9371282674993187, 0.9166357854923943, 0.0083564707053621, -0.12004194518298957, 0.06357500148967771, 0.4229368998509608, 0.9981936878290952, -0.30368999098948596, 1.874315243153208, 0.07222261812178199, 1.6470491039434203, 1.9686415215524833, 1.7843131131506498, 2.0873045148599823, -0.39790391370032724, 0.49229061778845873, 1.3148496627000024, 0.8494651045710285, 0.19481701963916617, 1.9508672322774856, -0.10148376708261908, 0.2825817386035496, 0.938344700184442, -0.33440741651656025, 0.15227499084567703, -0.9103538545522244, 0.7461365894557511, 0.7980254495229531, 1.9701048704314503, 0.652791628022177, 0.15095217091376792, 0.2049831993182284, -1.0351508911672802, -0.8495786602831639, 1.0732469394954367, 0.922355666831577, 1.179959994061442, -0.9293446879170691, -0.6635954598691399, 1.325082692179819, 0.5568693550491782, 0.07750159554668323, 0.12508148690837878, 0.7450034565443301, 0.18786203305535706, 1.0060978915552157, 1.0993371067091071, -0.9080886149685693, 0.5858015888336551, 1.0604130877330895, 0.08128104436835105, 0.2621963091845073, 1.4462645794969085, 1.0643805747202955, 0.2791274315012009, 1.9261906290309088, 0.07587637693033553, 0.2185468890445362, 1.6237768965846349, 0.031333571273604, -1.0991324877898918, 0.05943075792034612, 0.008629185751882248, 0.7067448851525836, 0.8727925257301243, 1.0098726006114973, 0.5993675602813255, 0.1018886995222481, 1.525369983953064, 1.054941483052359, 1.2136000567339893, 0.23308716959053433, 0.15132759806894286, 0.7976359593737035, -0.808584190274535, 1.961108543928387, -0.573486935719889, 0.3974880824749839, -0.6121576257879583, -0.40620203173039965, 0.8059004682255754, 0.577010942050867, 0.8487619173221225, 0.95116813790414, -0.8431589135514671, 0.8345576822705425, 1.8916875532375048, 1.3528302565382921, 0.14554876861527338, 0.74380252328883, 1.6283256315766768, 0.20872539439732596, 0.01575435537698975, 0.08103530943841337, 0.9398855834587191, 1.8681586907315795, 0.2982728817544293, 2.1277507888341294, 1.846066968959805, 0.905843066983084, 0.4764277360194793, 0.05079807673102646, -0.9159944605722037, 0.7547580557250606, 0.09090431203597911, -0.9855961407261281, 1.1645508833612985, 0.45777725614298304, -0.0457775363766378, 0.7800780371174919, 0.9360900798447133, 0.6689785958971225, 0.33478569722706114, 0.0225989916723915, 0.8552106280976605, 0.40095040462607473, 0.2905170667683744, 1.5057375454140596, 0.6567229379131222, 1.5589905162770326, 0.4463256730065187, 0.3209014155840095, 0.8604722047896834, 1.3193048015154476, 0.23241761555025903, 0.6689344099794808, -0.9368801423457124, 1.6369396239440042, 1.8250086156767336, -0.4044565529876215, 1.0911356663298046, 1.9771635326594774, 1.2487446961310449, 0.2680686577935133, 0.6096776291794008, 0.519633282205532, -0.8067740153047347, -1.0655947175512142, 2.0397784183254832, -1.0984313739240208, -1.0115042991719052, 0.593417605519658, 0.6893488089833144, 1.5811433931248629, 0.13264402366925823, 0.17583821874143654, 0.7968700476436335, 1.2559789044345149, -0.72730191303691, 0.6671056801212313, -1.0039351561663472, 0.803862955043394, 1.755527350459414, 0.4722598345644735, 1.1014506588758581, -0.8515613634567728, -0.344768061166429, -0.6240556307959167, 1.668619917195012, 0.09982365388048871, 1.9207005824962247, 0.21711474696683666, 1.6106948141690762, 0.06152089034007621, -0.3183138362478756, 2.051806694384509, 1.1621430615794484, -0.7693711814576643, 0.42481712855727227, 0.06612998562530321, 0.7241611107656446, 1.929872146707251, -0.0747996734498523], \"xaxis\": \"x\", \"y\": [0.43607778101760863, -0.4011194632440612, 0.5415218892178506, 0.26886231388723847, 0.9461179874453445, 0.9268166356399812, -0.4513290871112877, 0.9168823205037456, -0.3476620899215156, 0.9969302258350214, 0.12114286887719278, 0.1599189780891384, 0.965685772429867, 0.9301292941685252, 0.7897125490862673, 0.6755129042792798, -0.6523278952709434, 0.158747858462253, 0.10550256974316223, 0.32216590687738944, 0.95239331683874, 0.28773650388840166, 0.5549359778342985, -0.4275752586735255, 0.11362423171192629, 0.5587208679105828, 0.8871058855450891, -0.011244065183244362, -0.37282399872071736, 0.8683552101965917, 0.3387743351635715, 0.012114675029737565, -0.3249173888665629, 0.7648464577460884, -0.03455360646626823, 1.0157254753141933, 0.789928213280756, -0.23043958881624316, 0.5482327588836816, 0.8158505869016326, 0.25595173111671626, 0.8490047684040152, 0.7977673987470991, 0.7099043476407715, 0.8778058534457707, 0.2223803368419529, 0.9233940786148171, 0.2789271744465052, 0.2598976348965632, 0.4259623231575948, 0.7044894326221837, -0.43467545128738916, -0.2025606431151623, 0.7578228472730179, 0.12339506639239467, 0.6012696775757825, 0.19067157702276952, 0.4960748810175608, 0.36066014634971644, 0.6405981687615638, 1.0093246672652925, -0.683810686127401, -0.41241573507105345, 0.9901126903122439, 1.0533222871839638, 0.5834251609429104, -0.3177480119227779, -0.38340484123539237, 0.5354200429219066, 0.9736687007203508, -0.4195693110355442, 0.8241928619908845, 0.023234430827277622, 0.8047279428402697, 0.3481653007891365, -0.18751597646936197, 0.03742781347292015, 0.20281525401323908, 0.26766467034661684, -0.5634133844961742, 0.042395034693238194, 0.12029412831425107, 0.5363974171515313, -0.1450026982659779, -0.40495076112290174, 0.8574857282534363, -0.2320469450349981, -0.5010974292201972, 0.9232315981434537, 0.9512736717500212, 0.013266377828641828, -0.15587107312135612, 0.9769812759008681, 0.24958736254698483, 0.4310704881654892, -0.5388390359189088, 0.007344939439863404, 0.17873633391097563, -0.10434745860853986, 1.0154113850377267, 0.07817393049748056, 0.947301799237025, 0.30243413363940314, 0.9436475009919664, 0.688066258718179, 0.31552877308582405, 0.25009378313745445, 1.0259518073320897, -0.08661529391898053, -0.18713179029828392, 1.020847176615835, 0.37029889398262206, -0.37240717905441106, 0.15904904573753528, -0.7054738367924506, 0.7016062224228446, 0.8667912886886442, -0.5651271337464877, -0.519764696461732, -0.45614703155803, 0.6659339268772327, 1.0933060138877637, 0.25749074749584544, 0.006391413083718128, 0.34117127567420824, 0.28801758688468887, -0.21466511695958101, -0.390961809823812, 0.48813212785537713, -0.14858140113014096, -0.4766645861004665, 0.6748887284276055, -0.2677047542484201, 0.2619201140227827, 1.0180954146828698, -0.08705661343128906, 0.00912932714886762, -0.48441334225022337, 0.24031371708309332, -0.7040686518936875, 0.40745819890591284, 0.7493900295321627, -0.3263153064040736, 0.8387098635497955, -0.06624355977916652, -0.3862360517512149, 0.6386728106302391, 0.9641399984129664, 0.283554573861271, -0.023703499695742758, 0.08712904314172767, -0.2802004578206971, -0.16445885394768184, 0.748141806207555, 0.07573563016822103, 0.13687902584671832, 1.0123246744592231, 0.9587332861968995, -0.6347527000227957, 0.2703337265054317, 0.3285139273519466, 0.27277848784097924, -0.5378165485798784, 0.4860442990090752, -0.09965088293999937, 0.9718404298026123, 0.14070793064631937, 0.5879530835073661, 0.7955689362691735, 0.11809294944569163, 0.863886260883799, 0.947112468815042, 1.0144581477653083, 0.958636539202684, 0.8538968611679508, -0.26267904632598416, 1.098915276229116, -0.2985209827634067, 1.0221280706067108, 0.26708618818460234, 0.6027220092407295, 0.8686578241100799, 1.0958782230964785, 0.3372444433127365, 0.8287075193222752, 0.19988054900735763, -0.4000759499004397, 0.27210742336973803, -0.5554431740207553, 0.08132969177833893, 0.8815049333413835, 0.9423719015542635, 0.22898137437768737, 0.9093489420473164, -0.3990335438365677, -0.28120663796327605, -0.42347286188539957, -0.1316839261626955, -0.22512481834440223, -0.5487601936944003, 0.21098414319755895, 0.34272142754523316, -0.6021366375822279, 0.25817568609572544, -0.5251206254974262, 0.9181117639438922, 0.5398249074259076, 0.25352612158237964, -0.42390792934014865, 0.22748717279219446, 0.19092611177757238, 1.0083104690182787, 0.4011067930232193, -0.47274322766457466, -0.4985476580125366, 0.7991491020390376, 0.14287399006123414, -0.528630928174813, 0.10420737924262266, -0.5135540452630449, -0.26387131943612496, 0.6713911383163779, -0.12579009793677248, 0.7384652081800833, 0.8471182066753098, -0.3568205299359881, 0.05539817597695543, 0.3675642914202532, 0.12373202160019528, 0.5320457749816218, 0.7527784391323216, -0.07375254500638109, -0.03656097531307502, 0.21096138080488983, 1.0459161417121352, -0.05318329701654417, 0.13627157664599823, -0.16757444093230295, 0.10291719279716784, -0.1520068909668203, 0.28530735074108815, 0.982030294351673, 0.8693150287473763, -0.44725774744016616, 0.5435623850119276, 1.0914306332660042, 0.3900256213166849, 0.8954007189495029, -0.16532079284824672, -0.6327445340710072, 0.872152223717397, 0.02198057941962034, 0.11457950315220794, -0.5110142065757868, 0.7023762060734993, 0.06999163949717546, 0.8679890511284588, 0.9735792211196405, -0.37334478387442843, 0.2352123895851974, 0.5257157557542287, 0.0966570840121739, 0.3915777156856398, 0.40620951502008384, 0.5563002807945711, 0.9287284123514572, -0.4694932597705525, -0.28647303390245527, 0.2177456466088653, 1.0107712649386078, 0.7090896365466173, -0.20224818473919925, -0.6716737343647, -0.5255392480328201, 0.220602393102044, 0.5679185764822606, -0.664348506659051, 0.5655440149193591, -0.2605001465555224, -0.44476972105908064, 0.16411977735553548, -0.26884664450584866, -0.034101486858117314, 1.1367673776383977, 0.20383370529796563, -0.33120103482858776, 0.24276731510751107, 0.3998281611302054, 0.9409926919168601, 0.24999982561095813, 0.7849651477267724, 0.40450279943881134, 0.6137062126291012, -0.5724314430588369, 0.49498808243247494, 0.0019297974426112918, 0.22300462646561692, -0.3417331989379858, 0.1275069459089364, -0.23883742575743933, -0.3839793843645204, 0.549473350974221, 0.040814972387245074, 0.7653864752163864, 0.8866068075128529, 0.8269448471682256, 0.6919572681002077, 0.09598584740679728, 0.921427860837215, -0.4363056984528748, 0.13090585233804364, 0.708073706544875, 0.5953673442120604, 0.09509014818593642, -0.4265362405070112, 0.2169283752033758, -0.4984572915678237, -0.2528451566092468, 0.08119429053081831, 0.23973280995637058, 0.5570725509248531, -0.6683544103342967, -0.02515342308285237, -0.12638098881700305, 0.42675405509515674, 0.10121826279463625, -0.5700794902937782, -0.38939614448640203, 0.46414246315263463, 0.662046710981531, 0.6381008654279617, 0.23872062239361602, 0.24465186146853457, -0.40249503600795367, -0.10078345978288639, 1.060030149286084, 0.7488019569243001, -0.03162831609870871, 0.6036520491736346, 0.8900372542109308, 0.40528001022145993, 0.5669552804252124, -0.27463813164370005, 1.025321115737968, -0.37329350355500024, 0.6722832366601202, -0.23748233613720784, -0.328051945416493, -0.12664039057205045, 0.163902767064797, -0.40253376846929073, 0.9210944649201596, -0.3160694603337302, 0.49356261972143056, -0.4744664601030904, 0.5437106356516351, 0.8096130028026692, -0.6172332210395521, 0.3666784091668318, -0.36527871113721005, -0.07010628425274437, 0.7174606455400276, 0.6532250811403223, 0.29157261562178366, 0.2212330253379633, 0.5374177752148195, 0.44471746141975255, 0.47152389058042293, 0.6742885813462738, 0.6896349026977713, -0.1694959403716835, -0.158979629866297, -0.1711557573059312, 0.3571278338151201, -0.5769106371591088, 0.4057417900374254, -0.4360539225120356, 0.00817004076966052, -0.3328595135185971, -0.19911487236295916, -0.19863427705176354, -0.486249852261357, 0.7009224597105804, 0.8202303548674952, 0.6964627164785605, -0.20106864327115975, 1.055221255419995, 0.05914098492307132, 1.068621936007729, -0.23393265974914823, 0.26358525411585665, 0.995160530592945, 0.6307986637140104, 0.28999256891276015, 0.2900083101499388, 1.0503355163432597, 0.9487101716012722, -0.28599311361127777, -0.26332583701466633, 0.7965550564269417], \"yaxis\": \"y\"}],\n",
              "                        {\"coloraxis\": {\"colorbar\": {\"title\": {\"text\": \"dbscan_label\"}}, \"colorscale\": [[0.0, \"#0d0887\"], [0.1111111111111111, \"#46039f\"], [0.2222222222222222, \"#7201a8\"], [0.3333333333333333, \"#9c179e\"], [0.4444444444444444, \"#bd3786\"], [0.5555555555555556, \"#d8576b\"], [0.6666666666666666, \"#ed7953\"], [0.7777777777777778, \"#fb9f3a\"], [0.8888888888888888, \"#fdca26\"], [1.0, \"#f0f921\"]]}, \"height\": 500, \"legend\": {\"tracegroupgap\": 0}, \"margin\": {\"t\": 60}, \"template\": {\"data\": {\"bar\": [{\"error_x\": {\"color\": \"#2a3f5f\"}, \"error_y\": {\"color\": \"#2a3f5f\"}, \"marker\": {\"line\": {\"color\": \"#E5ECF6\", \"width\": 0.5}}, \"type\": \"bar\"}], \"barpolar\": [{\"marker\": {\"line\": {\"color\": \"#E5ECF6\", \"width\": 0.5}}, \"type\": \"barpolar\"}], \"carpet\": [{\"aaxis\": {\"endlinecolor\": \"#2a3f5f\", \"gridcolor\": \"white\", \"linecolor\": \"white\", \"minorgridcolor\": \"white\", \"startlinecolor\": \"#2a3f5f\"}, \"baxis\": {\"endlinecolor\": \"#2a3f5f\", \"gridcolor\": \"white\", \"linecolor\": \"white\", \"minorgridcolor\": \"white\", \"startlinecolor\": \"#2a3f5f\"}, \"type\": \"carpet\"}], \"choropleth\": [{\"colorbar\": {\"outlinewidth\": 0, \"ticks\": \"\"}, \"type\": \"choropleth\"}], \"contour\": [{\"colorbar\": {\"outlinewidth\": 0, \"ticks\": \"\"}, \"colorscale\": [[0.0, \"#0d0887\"], [0.1111111111111111, \"#46039f\"], [0.2222222222222222, \"#7201a8\"], [0.3333333333333333, \"#9c179e\"], [0.4444444444444444, \"#bd3786\"], [0.5555555555555556, \"#d8576b\"], [0.6666666666666666, \"#ed7953\"], [0.7777777777777778, \"#fb9f3a\"], [0.8888888888888888, \"#fdca26\"], [1.0, \"#f0f921\"]], \"type\": \"contour\"}], \"contourcarpet\": [{\"colorbar\": {\"outlinewidth\": 0, \"ticks\": \"\"}, \"type\": \"contourcarpet\"}], \"heatmap\": [{\"colorbar\": {\"outlinewidth\": 0, \"ticks\": \"\"}, \"colorscale\": [[0.0, \"#0d0887\"], [0.1111111111111111, \"#46039f\"], [0.2222222222222222, \"#7201a8\"], [0.3333333333333333, \"#9c179e\"], [0.4444444444444444, \"#bd3786\"], [0.5555555555555556, \"#d8576b\"], [0.6666666666666666, \"#ed7953\"], [0.7777777777777778, \"#fb9f3a\"], [0.8888888888888888, \"#fdca26\"], [1.0, \"#f0f921\"]], \"type\": \"heatmap\"}], \"heatmapgl\": [{\"colorbar\": {\"outlinewidth\": 0, \"ticks\": \"\"}, \"colorscale\": [[0.0, \"#0d0887\"], [0.1111111111111111, \"#46039f\"], [0.2222222222222222, \"#7201a8\"], [0.3333333333333333, \"#9c179e\"], [0.4444444444444444, \"#bd3786\"], [0.5555555555555556, \"#d8576b\"], [0.6666666666666666, \"#ed7953\"], [0.7777777777777778, \"#fb9f3a\"], [0.8888888888888888, \"#fdca26\"], [1.0, \"#f0f921\"]], \"type\": \"heatmapgl\"}], \"histogram\": [{\"marker\": {\"colorbar\": {\"outlinewidth\": 0, \"ticks\": \"\"}}, \"type\": \"histogram\"}], \"histogram2d\": [{\"colorbar\": {\"outlinewidth\": 0, \"ticks\": \"\"}, \"colorscale\": [[0.0, \"#0d0887\"], [0.1111111111111111, \"#46039f\"], [0.2222222222222222, \"#7201a8\"], [0.3333333333333333, \"#9c179e\"], [0.4444444444444444, \"#bd3786\"], [0.5555555555555556, \"#d8576b\"], [0.6666666666666666, \"#ed7953\"], [0.7777777777777778, \"#fb9f3a\"], [0.8888888888888888, \"#fdca26\"], [1.0, \"#f0f921\"]], \"type\": \"histogram2d\"}], \"histogram2dcontour\": [{\"colorbar\": {\"outlinewidth\": 0, \"ticks\": \"\"}, \"colorscale\": [[0.0, \"#0d0887\"], [0.1111111111111111, \"#46039f\"], [0.2222222222222222, \"#7201a8\"], [0.3333333333333333, \"#9c179e\"], [0.4444444444444444, \"#bd3786\"], [0.5555555555555556, \"#d8576b\"], [0.6666666666666666, \"#ed7953\"], [0.7777777777777778, \"#fb9f3a\"], [0.8888888888888888, \"#fdca26\"], [1.0, \"#f0f921\"]], \"type\": \"histogram2dcontour\"}], \"mesh3d\": [{\"colorbar\": {\"outlinewidth\": 0, \"ticks\": \"\"}, \"type\": \"mesh3d\"}], \"parcoords\": [{\"line\": {\"colorbar\": {\"outlinewidth\": 0, \"ticks\": \"\"}}, \"type\": \"parcoords\"}], \"pie\": [{\"automargin\": true, \"type\": \"pie\"}], \"scatter\": [{\"marker\": {\"colorbar\": {\"outlinewidth\": 0, \"ticks\": \"\"}}, \"type\": \"scatter\"}], \"scatter3d\": [{\"line\": {\"colorbar\": {\"outlinewidth\": 0, \"ticks\": \"\"}}, \"marker\": {\"colorbar\": {\"outlinewidth\": 0, \"ticks\": \"\"}}, \"type\": \"scatter3d\"}], \"scattercarpet\": [{\"marker\": {\"colorbar\": {\"outlinewidth\": 0, \"ticks\": \"\"}}, \"type\": \"scattercarpet\"}], \"scattergeo\": [{\"marker\": {\"colorbar\": {\"outlinewidth\": 0, \"ticks\": \"\"}}, \"type\": \"scattergeo\"}], \"scattergl\": [{\"marker\": {\"colorbar\": {\"outlinewidth\": 0, \"ticks\": \"\"}}, \"type\": \"scattergl\"}], \"scattermapbox\": [{\"marker\": {\"colorbar\": {\"outlinewidth\": 0, \"ticks\": \"\"}}, \"type\": \"scattermapbox\"}], \"scatterpolar\": [{\"marker\": {\"colorbar\": {\"outlinewidth\": 0, \"ticks\": \"\"}}, \"type\": \"scatterpolar\"}], \"scatterpolargl\": [{\"marker\": {\"colorbar\": {\"outlinewidth\": 0, \"ticks\": \"\"}}, \"type\": \"scatterpolargl\"}], \"scatterternary\": [{\"marker\": {\"colorbar\": {\"outlinewidth\": 0, \"ticks\": \"\"}}, \"type\": \"scatterternary\"}], \"surface\": [{\"colorbar\": {\"outlinewidth\": 0, \"ticks\": \"\"}, \"colorscale\": [[0.0, \"#0d0887\"], [0.1111111111111111, \"#46039f\"], [0.2222222222222222, \"#7201a8\"], [0.3333333333333333, \"#9c179e\"], [0.4444444444444444, \"#bd3786\"], [0.5555555555555556, \"#d8576b\"], [0.6666666666666666, \"#ed7953\"], [0.7777777777777778, \"#fb9f3a\"], [0.8888888888888888, \"#fdca26\"], [1.0, \"#f0f921\"]], \"type\": \"surface\"}], \"table\": [{\"cells\": {\"fill\": {\"color\": \"#EBF0F8\"}, \"line\": {\"color\": \"white\"}}, \"header\": {\"fill\": {\"color\": \"#C8D4E3\"}, \"line\": {\"color\": \"white\"}}, \"type\": \"table\"}]}, \"layout\": {\"annotationdefaults\": {\"arrowcolor\": \"#2a3f5f\", \"arrowhead\": 0, \"arrowwidth\": 1}, \"coloraxis\": {\"colorbar\": {\"outlinewidth\": 0, \"ticks\": \"\"}}, \"colorscale\": {\"diverging\": [[0, \"#8e0152\"], [0.1, \"#c51b7d\"], [0.2, \"#de77ae\"], [0.3, \"#f1b6da\"], [0.4, \"#fde0ef\"], [0.5, \"#f7f7f7\"], [0.6, \"#e6f5d0\"], [0.7, \"#b8e186\"], [0.8, \"#7fbc41\"], [0.9, \"#4d9221\"], [1, \"#276419\"]], \"sequential\": [[0.0, \"#0d0887\"], [0.1111111111111111, \"#46039f\"], [0.2222222222222222, \"#7201a8\"], [0.3333333333333333, \"#9c179e\"], [0.4444444444444444, \"#bd3786\"], [0.5555555555555556, \"#d8576b\"], [0.6666666666666666, \"#ed7953\"], [0.7777777777777778, \"#fb9f3a\"], [0.8888888888888888, \"#fdca26\"], [1.0, \"#f0f921\"]], \"sequentialminus\": [[0.0, \"#0d0887\"], [0.1111111111111111, \"#46039f\"], [0.2222222222222222, \"#7201a8\"], [0.3333333333333333, \"#9c179e\"], [0.4444444444444444, \"#bd3786\"], [0.5555555555555556, \"#d8576b\"], [0.6666666666666666, \"#ed7953\"], [0.7777777777777778, \"#fb9f3a\"], [0.8888888888888888, \"#fdca26\"], [1.0, \"#f0f921\"]]}, \"colorway\": [\"#636efa\", \"#EF553B\", \"#00cc96\", \"#ab63fa\", \"#FFA15A\", \"#19d3f3\", \"#FF6692\", \"#B6E880\", \"#FF97FF\", \"#FECB52\"], \"font\": {\"color\": \"#2a3f5f\"}, \"geo\": {\"bgcolor\": \"white\", \"lakecolor\": \"white\", \"landcolor\": \"#E5ECF6\", \"showlakes\": true, \"showland\": true, \"subunitcolor\": \"white\"}, \"hoverlabel\": {\"align\": \"left\"}, \"hovermode\": \"closest\", \"mapbox\": {\"style\": \"light\"}, \"paper_bgcolor\": \"white\", \"plot_bgcolor\": \"#E5ECF6\", \"polar\": {\"angularaxis\": {\"gridcolor\": \"white\", \"linecolor\": \"white\", \"ticks\": \"\"}, \"bgcolor\": \"#E5ECF6\", \"radialaxis\": {\"gridcolor\": \"white\", \"linecolor\": \"white\", \"ticks\": \"\"}}, \"scene\": {\"xaxis\": {\"backgroundcolor\": \"#E5ECF6\", \"gridcolor\": \"white\", \"gridwidth\": 2, \"linecolor\": \"white\", \"showbackground\": true, \"ticks\": \"\", \"zerolinecolor\": \"white\"}, \"yaxis\": {\"backgroundcolor\": \"#E5ECF6\", \"gridcolor\": \"white\", \"gridwidth\": 2, \"linecolor\": \"white\", \"showbackground\": true, \"ticks\": \"\", \"zerolinecolor\": \"white\"}, \"zaxis\": {\"backgroundcolor\": \"#E5ECF6\", \"gridcolor\": \"white\", \"gridwidth\": 2, \"linecolor\": \"white\", \"showbackground\": true, \"ticks\": \"\", \"zerolinecolor\": \"white\"}}, \"shapedefaults\": {\"line\": {\"color\": \"#2a3f5f\"}}, \"ternary\": {\"aaxis\": {\"gridcolor\": \"white\", \"linecolor\": \"white\", \"ticks\": \"\"}, \"baxis\": {\"gridcolor\": \"white\", \"linecolor\": \"white\", \"ticks\": \"\"}, \"bgcolor\": \"#E5ECF6\", \"caxis\": {\"gridcolor\": \"white\", \"linecolor\": \"white\", \"ticks\": \"\"}}, \"title\": {\"x\": 0.05}, \"xaxis\": {\"automargin\": true, \"gridcolor\": \"white\", \"linecolor\": \"white\", \"ticks\": \"\", \"title\": {\"standoff\": 15}, \"zerolinecolor\": \"white\", \"zerolinewidth\": 2}, \"yaxis\": {\"automargin\": true, \"gridcolor\": \"white\", \"linecolor\": \"white\", \"ticks\": \"\", \"title\": {\"standoff\": 15}, \"zerolinecolor\": \"white\", \"zerolinewidth\": 2}}}, \"width\": 600, \"xaxis\": {\"anchor\": \"y\", \"domain\": [0.0, 1.0], \"title\": {\"text\": \"x\"}}, \"yaxis\": {\"anchor\": \"x\", \"domain\": [0.0, 1.0], \"title\": {\"text\": \"y\"}}},\n",
              "                        {\"responsive\": true}\n",
              "                    ).then(function(){\n",
              "                            \n",
              "var gd = document.getElementById('177268a2-531a-407b-b543-cca6c76595fe');\n",
              "var x = new MutationObserver(function (mutations, observer) {{\n",
              "        var display = window.getComputedStyle(gd).display;\n",
              "        if (!display || display === 'none') {{\n",
              "            console.log([gd, 'removed!']);\n",
              "            Plotly.purge(gd);\n",
              "            observer.disconnect();\n",
              "        }}\n",
              "}});\n",
              "\n",
              "// Listen for the removal of the full notebook cells\n",
              "var notebookContainer = gd.closest('#notebook-container');\n",
              "if (notebookContainer) {{\n",
              "    x.observe(notebookContainer, {childList: true});\n",
              "}}\n",
              "\n",
              "// Listen for the clearing of the current output cell\n",
              "var outputEl = gd.closest('.output');\n",
              "if (outputEl) {{\n",
              "    x.observe(outputEl, {childList: true});\n",
              "}}\n",
              "\n",
              "                        })\n",
              "                };\n",
              "                \n",
              "            </script>\n",
              "        </div>\n",
              "</body>\n",
              "</html>"
            ]
          },
          "metadata": {
            "tags": []
          }
        },
        {
          "output_type": "stream",
          "text": [
            "eps:0.5 ->> label 수 : 1\n"
          ],
          "name": "stdout"
        },
        {
          "output_type": "display_data",
          "data": {
            "text/html": [
              "<html>\n",
              "<head><meta charset=\"utf-8\" /></head>\n",
              "<body>\n",
              "    <div>\n",
              "            <script src=\"https://cdnjs.cloudflare.com/ajax/libs/mathjax/2.7.5/MathJax.js?config=TeX-AMS-MML_SVG\"></script><script type=\"text/javascript\">if (window.MathJax) {MathJax.Hub.Config({SVG: {font: \"STIX-Web\"}});}</script>\n",
              "                <script type=\"text/javascript\">window.PlotlyConfig = {MathJaxConfig: 'local'};</script>\n",
              "        <script src=\"https://cdn.plot.ly/plotly-latest.min.js\"></script>    \n",
              "            <div id=\"e6faca48-b4a4-4a42-a71d-f3dd24b51d8e\" class=\"plotly-graph-div\" style=\"height:500px; width:600px;\"></div>\n",
              "            <script type=\"text/javascript\">\n",
              "                \n",
              "                    window.PLOTLYENV=window.PLOTLYENV || {};\n",
              "                    \n",
              "                if (document.getElementById(\"e6faca48-b4a4-4a42-a71d-f3dd24b51d8e\")) {\n",
              "                    Plotly.newPlot(\n",
              "                        'e6faca48-b4a4-4a42-a71d-f3dd24b51d8e',\n",
              "                        [{\"hoverlabel\": {\"namelength\": 0}, \"hovertemplate\": \"x=%{x}<br>y=%{y}<br>dbscan_label=%{marker.color}\", \"legendgroup\": \"\", \"marker\": {\"color\": [0, 0, 0, 0, 0, 0, 0, 0, 0, 0, 0, 0, 0, 0, 0, 0, 0, 0, 0, 0, 0, 0, 0, 0, 0, 0, 0, 0, 0, 0, 0, 0, 0, 0, 0, 0, 0, 0, 0, 0, 0, 0, 0, 0, 0, 0, 0, 0, 0, 0, 0, 0, 0, 0, 0, 0, 0, 0, 0, 0, 0, 0, 0, 0, 0, 0, 0, 0, 0, 0, 0, 0, 0, 0, 0, 0, 0, 0, 0, 0, 0, 0, 0, 0, 0, 0, 0, 0, 0, 0, 0, 0, 0, 0, 0, 0, 0, 0, 0, 0, 0, 0, 0, 0, 0, 0, 0, 0, 0, 0, 0, 0, 0, 0, 0, 0, 0, 0, 0, 0, 0, 0, 0, 0, 0, 0, 0, 0, 0, 0, 0, 0, 0, 0, 0, 0, 0, 0, 0, 0, 0, 0, 0, 0, 0, 0, 0, 0, 0, 0, 0, 0, 0, 0, 0, 0, 0, 0, 0, 0, 0, 0, 0, 0, 0, 0, 0, 0, 0, 0, 0, 0, 0, 0, 0, 0, 0, 0, 0, 0, 0, 0, 0, 0, 0, 0, 0, 0, 0, 0, 0, 0, 0, 0, 0, 0, 0, 0, 0, 0, 0, 0, 0, 0, 0, 0, 0, 0, 0, 0, 0, 0, 0, 0, 0, 0, 0, 0, 0, 0, 0, 0, 0, 0, 0, 0, 0, 0, 0, 0, 0, 0, 0, 0, 0, 0, 0, 0, 0, 0, 0, 0, 0, 0, 0, 0, 0, 0, 0, 0, 0, 0, 0, 0, 0, 0, 0, 0, 0, 0, 0, 0, 0, 0, 0, 0, 0, 0, 0, 0, 0, 0, 0, 0, 0, 0, 0, 0, 0, 0, 0, 0, 0, 0, 0, 0, 0, 0, 0, 0, 0, 0, 0, 0, 0, 0, 0, 0, 0, 0, 0, 0, 0, 0, 0, 0, 0, 0, 0, 0, 0, 0, 0, 0, 0, 0, 0, 0, 0, 0, 0, 0, 0, 0, 0, 0, 0, 0, 0, 0, 0, 0, 0, 0, 0, 0, 0, 0, 0, 0, 0, 0, 0, 0, 0, 0, 0, 0, 0, 0, 0, 0, 0, 0, 0, 0, 0, 0, 0, 0, 0, 0, 0, 0, 0, 0, 0, 0, 0, 0, 0, 0, 0, 0, 0, 0, 0, 0, 0, 0, 0, 0, 0, 0, 0, 0, 0, 0, 0, 0, 0, 0, 0, 0, 0, 0, 0, 0, 0, 0], \"coloraxis\": \"coloraxis\", \"symbol\": \"circle\"}, \"mode\": \"markers\", \"name\": \"\", \"showlegend\": false, \"type\": \"scatter\", \"x\": [-0.04405185436455387, 0.6922304485774229, 0.8281977981485314, 0.17881242677930137, 0.09171539700050081, 0.40156045922972966, 1.3757911943525358, 0.07314713993172753, 0.45860466022215285, -0.4178031928161623, 0.9579878024190793, 1.8524970559962026, 0.5552516585363515, 0.3022727378193304, -0.5247965363754132, 0.8580279728331913, 0.6189365495878882, 1.8927960119108467, 0.11756338555092069, 2.169029362678773, 0.404559599307745, 1.0893364137634811, 2.0669459262896903, 0.5877990025461418, 1.0446289348001918, 2.0490213676870517, -0.29381359169325855, 0.02237367735743013, 0.453000976269902, 0.052039835716421845, 2.1534991209951535, -1.119340367715941, 0.6240688008428807, 0.6746685269538756, 0.11590511420338562, -0.25247367792137004, -0.043682834885529404, 1.7828070067277453, -0.834513603902822, -0.5049155905696417, 1.806489808286964, 0.7605778678586781, 0.29985442632480913, 0.8905252470097118, 0.11826978657090345, 2.0034066514848714, -0.7130367234824387, -1.0452223143606545, 0.9604818564529551, -1.0610029020734704, 0.9290715732995999, 1.3419458957279273, 1.5452174341489513, 0.3985161871037338, 1.764957168546406, 0.9224449677324292, 0.033462363099337374, -0.8919029408079996, 1.0225793504988576, -0.9710888438761187, -0.4791414581275831, 0.8408477423017393, 0.2964391408080224, 0.4919544089308461, 0.0410776773647474, 0.9666350914963895, 1.6831546515793194, 0.43826348511034413, 1.740452092301724, 0.21658112980549674, 1.3012044573186852, -0.64388146241787, 0.9496985380360062, 0.6683706670351148, 2.021650614049808, 0.16473890548509473, -0.009247095964754717, 1.7690167227990816, -1.0104913674247578, 0.702434617830942, 0.9493893492279155, 0.8953640992371084, -0.15095907350779758, 0.28341059943157637, 0.686247114883507, 0.42168660618408793, 0.4135899135206339, 1.0577396586654602, 0.0034514995502456514, 0.2647671231050478, 0.06324742529253595, 1.5658002856216526, -0.2559695512442949, 0.2090468050023805, -1.0197784695319896, 1.1529542320186548, 1.8320855582539974, 1.9886682809991771, -0.16419264277805473, 0.3254160858230126, 0.20654495134218478, -0.02532499674177502, 1.0832306132818155, 0.5278969205172018, -0.7422978282856604, 1.0762354226047843, 0.9804704487371622, -0.7609520671028389, 1.7419705803807746, 1.8949012493453714, -0.49651016735263764, 2.0281830266713725, 0.7295586309939159, 2.0165730120568788, 1.0090524120850748, 0.8181446341926059, 0.47919081281108183, 0.8291064621354819, 1.1864304003533328, 0.7588546454896044, -0.9246852132955579, -0.19973768447083562, 0.940616481696544, 1.8498418744289271, 1.0076808280989389, -0.966543565363345, 1.6638459329092838, 1.6872832037570835, -0.9976923228984038, 0.259718542404861, 1.260522773047423, -0.5812357980233047, 0.5687897887080057, -0.9002692152319717, -0.25582248118023304, -1.1138631338303022, 0.13234844337348306, 0.5078751167554956, -0.11594691159512407, 1.0831469058632226, 0.9771117727121236, -0.32661461873026315, 0.9063697767081207, -0.6203513588550882, -1.1511863158724789, 0.7803374476056197, 0.5955667439508922, -0.1308958348924223, -0.8799966733224986, 1.922550311349182, 1.1750337382650022, 1.5611843539210797, 0.4481765327303048, -0.7585085272396329, 1.051622752860439, -0.8092021378321275, -0.07657329479524141, 0.3643485289920689, 1.3457410648452206, 1.9250783905350084, 2.128778248212025, 0.0706262481600407, 1.0274744413540133, -0.9039386882590633, 1.792856509913606, 0.23340051836624431, 2.0071012074483465, -0.7848715472141286, -0.6052644989118215, 0.05187296202004671, 0.18346525575039668, 0.4357050503972449, -0.19161096380566223, 0.23246382980226774, -0.6089928003474744, 1.1736206804738114, -0.14663398900921182, 0.2432922979322884, 0.2481370154715898, 1.056272964342253, 0.7460124466135112, -0.6474151293600467, -0.2998246700886737, -0.867194684720239, 0.45564543502722626, -1.0050512879881874, 1.3365798384645975, -0.17983124228592573, 1.498489509539917, -0.6805626396188176, -0.6490735256969274, -0.536868509390947, 1.975693655313992, 0.09373483171858374, 1.3769137547348915, 1.6728813869324226, 1.6448138852597582, 1.6705417974900587, 1.457852249627546, 0.976715110638505, -0.9263843640116586, -0.1223731313381849, 0.796228522033799, 0.15475677041477062, 0.7888519002662029, -0.5405845524825568, 0.9305692278235662, 0.9784119369643645, 1.4758331265836486, -1.0200230889843025, 0.04061773858849012, -0.3154849918885533, -1.0223978310048576, 1.3533832696767325, 1.0366465155314608, -0.04510451879071933, 1.8936032702640215, 0.5943858451752875, 1.885006370759624, 0.9389125135270914, 1.7893976221378944, -0.994564259030683, 0.3603982008922027, -0.4408604389520875, -0.5151095273058485, -1.0563766442123035, -1.0351547981205815, 1.9371282674993187, 0.9166357854923943, 0.0083564707053621, -0.12004194518298957, 0.06357500148967771, 0.4229368998509608, 0.9981936878290952, -0.30368999098948596, 1.874315243153208, 0.07222261812178199, 1.6470491039434203, 1.9686415215524833, 1.7843131131506498, 2.0873045148599823, -0.39790391370032724, 0.49229061778845873, 1.3148496627000024, 0.8494651045710285, 0.19481701963916617, 1.9508672322774856, -0.10148376708261908, 0.2825817386035496, 0.938344700184442, -0.33440741651656025, 0.15227499084567703, -0.9103538545522244, 0.7461365894557511, 0.7980254495229531, 1.9701048704314503, 0.652791628022177, 0.15095217091376792, 0.2049831993182284, -1.0351508911672802, -0.8495786602831639, 1.0732469394954367, 0.922355666831577, 1.179959994061442, -0.9293446879170691, -0.6635954598691399, 1.325082692179819, 0.5568693550491782, 0.07750159554668323, 0.12508148690837878, 0.7450034565443301, 0.18786203305535706, 1.0060978915552157, 1.0993371067091071, -0.9080886149685693, 0.5858015888336551, 1.0604130877330895, 0.08128104436835105, 0.2621963091845073, 1.4462645794969085, 1.0643805747202955, 0.2791274315012009, 1.9261906290309088, 0.07587637693033553, 0.2185468890445362, 1.6237768965846349, 0.031333571273604, -1.0991324877898918, 0.05943075792034612, 0.008629185751882248, 0.7067448851525836, 0.8727925257301243, 1.0098726006114973, 0.5993675602813255, 0.1018886995222481, 1.525369983953064, 1.054941483052359, 1.2136000567339893, 0.23308716959053433, 0.15132759806894286, 0.7976359593737035, -0.808584190274535, 1.961108543928387, -0.573486935719889, 0.3974880824749839, -0.6121576257879583, -0.40620203173039965, 0.8059004682255754, 0.577010942050867, 0.8487619173221225, 0.95116813790414, -0.8431589135514671, 0.8345576822705425, 1.8916875532375048, 1.3528302565382921, 0.14554876861527338, 0.74380252328883, 1.6283256315766768, 0.20872539439732596, 0.01575435537698975, 0.08103530943841337, 0.9398855834587191, 1.8681586907315795, 0.2982728817544293, 2.1277507888341294, 1.846066968959805, 0.905843066983084, 0.4764277360194793, 0.05079807673102646, -0.9159944605722037, 0.7547580557250606, 0.09090431203597911, -0.9855961407261281, 1.1645508833612985, 0.45777725614298304, -0.0457775363766378, 0.7800780371174919, 0.9360900798447133, 0.6689785958971225, 0.33478569722706114, 0.0225989916723915, 0.8552106280976605, 0.40095040462607473, 0.2905170667683744, 1.5057375454140596, 0.6567229379131222, 1.5589905162770326, 0.4463256730065187, 0.3209014155840095, 0.8604722047896834, 1.3193048015154476, 0.23241761555025903, 0.6689344099794808, -0.9368801423457124, 1.6369396239440042, 1.8250086156767336, -0.4044565529876215, 1.0911356663298046, 1.9771635326594774, 1.2487446961310449, 0.2680686577935133, 0.6096776291794008, 0.519633282205532, -0.8067740153047347, -1.0655947175512142, 2.0397784183254832, -1.0984313739240208, -1.0115042991719052, 0.593417605519658, 0.6893488089833144, 1.5811433931248629, 0.13264402366925823, 0.17583821874143654, 0.7968700476436335, 1.2559789044345149, -0.72730191303691, 0.6671056801212313, -1.0039351561663472, 0.803862955043394, 1.755527350459414, 0.4722598345644735, 1.1014506588758581, -0.8515613634567728, -0.344768061166429, -0.6240556307959167, 1.668619917195012, 0.09982365388048871, 1.9207005824962247, 0.21711474696683666, 1.6106948141690762, 0.06152089034007621, -0.3183138362478756, 2.051806694384509, 1.1621430615794484, -0.7693711814576643, 0.42481712855727227, 0.06612998562530321, 0.7241611107656446, 1.929872146707251, -0.0747996734498523], \"xaxis\": \"x\", \"y\": [0.43607778101760863, -0.4011194632440612, 0.5415218892178506, 0.26886231388723847, 0.9461179874453445, 0.9268166356399812, -0.4513290871112877, 0.9168823205037456, -0.3476620899215156, 0.9969302258350214, 0.12114286887719278, 0.1599189780891384, 0.965685772429867, 0.9301292941685252, 0.7897125490862673, 0.6755129042792798, -0.6523278952709434, 0.158747858462253, 0.10550256974316223, 0.32216590687738944, 0.95239331683874, 0.28773650388840166, 0.5549359778342985, -0.4275752586735255, 0.11362423171192629, 0.5587208679105828, 0.8871058855450891, -0.011244065183244362, -0.37282399872071736, 0.8683552101965917, 0.3387743351635715, 0.012114675029737565, -0.3249173888665629, 0.7648464577460884, -0.03455360646626823, 1.0157254753141933, 0.789928213280756, -0.23043958881624316, 0.5482327588836816, 0.8158505869016326, 0.25595173111671626, 0.8490047684040152, 0.7977673987470991, 0.7099043476407715, 0.8778058534457707, 0.2223803368419529, 0.9233940786148171, 0.2789271744465052, 0.2598976348965632, 0.4259623231575948, 0.7044894326221837, -0.43467545128738916, -0.2025606431151623, 0.7578228472730179, 0.12339506639239467, 0.6012696775757825, 0.19067157702276952, 0.4960748810175608, 0.36066014634971644, 0.6405981687615638, 1.0093246672652925, -0.683810686127401, -0.41241573507105345, 0.9901126903122439, 1.0533222871839638, 0.5834251609429104, -0.3177480119227779, -0.38340484123539237, 0.5354200429219066, 0.9736687007203508, -0.4195693110355442, 0.8241928619908845, 0.023234430827277622, 0.8047279428402697, 0.3481653007891365, -0.18751597646936197, 0.03742781347292015, 0.20281525401323908, 0.26766467034661684, -0.5634133844961742, 0.042395034693238194, 0.12029412831425107, 0.5363974171515313, -0.1450026982659779, -0.40495076112290174, 0.8574857282534363, -0.2320469450349981, -0.5010974292201972, 0.9232315981434537, 0.9512736717500212, 0.013266377828641828, -0.15587107312135612, 0.9769812759008681, 0.24958736254698483, 0.4310704881654892, -0.5388390359189088, 0.007344939439863404, 0.17873633391097563, -0.10434745860853986, 1.0154113850377267, 0.07817393049748056, 0.947301799237025, 0.30243413363940314, 0.9436475009919664, 0.688066258718179, 0.31552877308582405, 0.25009378313745445, 1.0259518073320897, -0.08661529391898053, -0.18713179029828392, 1.020847176615835, 0.37029889398262206, -0.37240717905441106, 0.15904904573753528, -0.7054738367924506, 0.7016062224228446, 0.8667912886886442, -0.5651271337464877, -0.519764696461732, -0.45614703155803, 0.6659339268772327, 1.0933060138877637, 0.25749074749584544, 0.006391413083718128, 0.34117127567420824, 0.28801758688468887, -0.21466511695958101, -0.390961809823812, 0.48813212785537713, -0.14858140113014096, -0.4766645861004665, 0.6748887284276055, -0.2677047542484201, 0.2619201140227827, 1.0180954146828698, -0.08705661343128906, 0.00912932714886762, -0.48441334225022337, 0.24031371708309332, -0.7040686518936875, 0.40745819890591284, 0.7493900295321627, -0.3263153064040736, 0.8387098635497955, -0.06624355977916652, -0.3862360517512149, 0.6386728106302391, 0.9641399984129664, 0.283554573861271, -0.023703499695742758, 0.08712904314172767, -0.2802004578206971, -0.16445885394768184, 0.748141806207555, 0.07573563016822103, 0.13687902584671832, 1.0123246744592231, 0.9587332861968995, -0.6347527000227957, 0.2703337265054317, 0.3285139273519466, 0.27277848784097924, -0.5378165485798784, 0.4860442990090752, -0.09965088293999937, 0.9718404298026123, 0.14070793064631937, 0.5879530835073661, 0.7955689362691735, 0.11809294944569163, 0.863886260883799, 0.947112468815042, 1.0144581477653083, 0.958636539202684, 0.8538968611679508, -0.26267904632598416, 1.098915276229116, -0.2985209827634067, 1.0221280706067108, 0.26708618818460234, 0.6027220092407295, 0.8686578241100799, 1.0958782230964785, 0.3372444433127365, 0.8287075193222752, 0.19988054900735763, -0.4000759499004397, 0.27210742336973803, -0.5554431740207553, 0.08132969177833893, 0.8815049333413835, 0.9423719015542635, 0.22898137437768737, 0.9093489420473164, -0.3990335438365677, -0.28120663796327605, -0.42347286188539957, -0.1316839261626955, -0.22512481834440223, -0.5487601936944003, 0.21098414319755895, 0.34272142754523316, -0.6021366375822279, 0.25817568609572544, -0.5251206254974262, 0.9181117639438922, 0.5398249074259076, 0.25352612158237964, -0.42390792934014865, 0.22748717279219446, 0.19092611177757238, 1.0083104690182787, 0.4011067930232193, -0.47274322766457466, -0.4985476580125366, 0.7991491020390376, 0.14287399006123414, -0.528630928174813, 0.10420737924262266, -0.5135540452630449, -0.26387131943612496, 0.6713911383163779, -0.12579009793677248, 0.7384652081800833, 0.8471182066753098, -0.3568205299359881, 0.05539817597695543, 0.3675642914202532, 0.12373202160019528, 0.5320457749816218, 0.7527784391323216, -0.07375254500638109, -0.03656097531307502, 0.21096138080488983, 1.0459161417121352, -0.05318329701654417, 0.13627157664599823, -0.16757444093230295, 0.10291719279716784, -0.1520068909668203, 0.28530735074108815, 0.982030294351673, 0.8693150287473763, -0.44725774744016616, 0.5435623850119276, 1.0914306332660042, 0.3900256213166849, 0.8954007189495029, -0.16532079284824672, -0.6327445340710072, 0.872152223717397, 0.02198057941962034, 0.11457950315220794, -0.5110142065757868, 0.7023762060734993, 0.06999163949717546, 0.8679890511284588, 0.9735792211196405, -0.37334478387442843, 0.2352123895851974, 0.5257157557542287, 0.0966570840121739, 0.3915777156856398, 0.40620951502008384, 0.5563002807945711, 0.9287284123514572, -0.4694932597705525, -0.28647303390245527, 0.2177456466088653, 1.0107712649386078, 0.7090896365466173, -0.20224818473919925, -0.6716737343647, -0.5255392480328201, 0.220602393102044, 0.5679185764822606, -0.664348506659051, 0.5655440149193591, -0.2605001465555224, -0.44476972105908064, 0.16411977735553548, -0.26884664450584866, -0.034101486858117314, 1.1367673776383977, 0.20383370529796563, -0.33120103482858776, 0.24276731510751107, 0.3998281611302054, 0.9409926919168601, 0.24999982561095813, 0.7849651477267724, 0.40450279943881134, 0.6137062126291012, -0.5724314430588369, 0.49498808243247494, 0.0019297974426112918, 0.22300462646561692, -0.3417331989379858, 0.1275069459089364, -0.23883742575743933, -0.3839793843645204, 0.549473350974221, 0.040814972387245074, 0.7653864752163864, 0.8866068075128529, 0.8269448471682256, 0.6919572681002077, 0.09598584740679728, 0.921427860837215, -0.4363056984528748, 0.13090585233804364, 0.708073706544875, 0.5953673442120604, 0.09509014818593642, -0.4265362405070112, 0.2169283752033758, -0.4984572915678237, -0.2528451566092468, 0.08119429053081831, 0.23973280995637058, 0.5570725509248531, -0.6683544103342967, -0.02515342308285237, -0.12638098881700305, 0.42675405509515674, 0.10121826279463625, -0.5700794902937782, -0.38939614448640203, 0.46414246315263463, 0.662046710981531, 0.6381008654279617, 0.23872062239361602, 0.24465186146853457, -0.40249503600795367, -0.10078345978288639, 1.060030149286084, 0.7488019569243001, -0.03162831609870871, 0.6036520491736346, 0.8900372542109308, 0.40528001022145993, 0.5669552804252124, -0.27463813164370005, 1.025321115737968, -0.37329350355500024, 0.6722832366601202, -0.23748233613720784, -0.328051945416493, -0.12664039057205045, 0.163902767064797, -0.40253376846929073, 0.9210944649201596, -0.3160694603337302, 0.49356261972143056, -0.4744664601030904, 0.5437106356516351, 0.8096130028026692, -0.6172332210395521, 0.3666784091668318, -0.36527871113721005, -0.07010628425274437, 0.7174606455400276, 0.6532250811403223, 0.29157261562178366, 0.2212330253379633, 0.5374177752148195, 0.44471746141975255, 0.47152389058042293, 0.6742885813462738, 0.6896349026977713, -0.1694959403716835, -0.158979629866297, -0.1711557573059312, 0.3571278338151201, -0.5769106371591088, 0.4057417900374254, -0.4360539225120356, 0.00817004076966052, -0.3328595135185971, -0.19911487236295916, -0.19863427705176354, -0.486249852261357, 0.7009224597105804, 0.8202303548674952, 0.6964627164785605, -0.20106864327115975, 1.055221255419995, 0.05914098492307132, 1.068621936007729, -0.23393265974914823, 0.26358525411585665, 0.995160530592945, 0.6307986637140104, 0.28999256891276015, 0.2900083101499388, 1.0503355163432597, 0.9487101716012722, -0.28599311361127777, -0.26332583701466633, 0.7965550564269417], \"yaxis\": \"y\"}],\n",
              "                        {\"coloraxis\": {\"colorbar\": {\"title\": {\"text\": \"dbscan_label\"}}, \"colorscale\": [[0.0, \"#0d0887\"], [0.1111111111111111, \"#46039f\"], [0.2222222222222222, \"#7201a8\"], [0.3333333333333333, \"#9c179e\"], [0.4444444444444444, \"#bd3786\"], [0.5555555555555556, \"#d8576b\"], [0.6666666666666666, \"#ed7953\"], [0.7777777777777778, \"#fb9f3a\"], [0.8888888888888888, \"#fdca26\"], [1.0, \"#f0f921\"]]}, \"height\": 500, \"legend\": {\"tracegroupgap\": 0}, \"margin\": {\"t\": 60}, \"template\": {\"data\": {\"bar\": [{\"error_x\": {\"color\": \"#2a3f5f\"}, \"error_y\": {\"color\": \"#2a3f5f\"}, \"marker\": {\"line\": {\"color\": \"#E5ECF6\", \"width\": 0.5}}, \"type\": \"bar\"}], \"barpolar\": [{\"marker\": {\"line\": {\"color\": \"#E5ECF6\", \"width\": 0.5}}, \"type\": \"barpolar\"}], \"carpet\": [{\"aaxis\": {\"endlinecolor\": \"#2a3f5f\", \"gridcolor\": \"white\", \"linecolor\": \"white\", \"minorgridcolor\": \"white\", \"startlinecolor\": \"#2a3f5f\"}, \"baxis\": {\"endlinecolor\": \"#2a3f5f\", \"gridcolor\": \"white\", \"linecolor\": \"white\", \"minorgridcolor\": \"white\", \"startlinecolor\": \"#2a3f5f\"}, \"type\": \"carpet\"}], \"choropleth\": [{\"colorbar\": {\"outlinewidth\": 0, \"ticks\": \"\"}, \"type\": \"choropleth\"}], \"contour\": [{\"colorbar\": {\"outlinewidth\": 0, \"ticks\": \"\"}, \"colorscale\": [[0.0, \"#0d0887\"], [0.1111111111111111, \"#46039f\"], [0.2222222222222222, \"#7201a8\"], [0.3333333333333333, \"#9c179e\"], [0.4444444444444444, \"#bd3786\"], [0.5555555555555556, \"#d8576b\"], [0.6666666666666666, \"#ed7953\"], [0.7777777777777778, \"#fb9f3a\"], [0.8888888888888888, \"#fdca26\"], [1.0, \"#f0f921\"]], \"type\": \"contour\"}], \"contourcarpet\": [{\"colorbar\": {\"outlinewidth\": 0, \"ticks\": \"\"}, \"type\": \"contourcarpet\"}], \"heatmap\": [{\"colorbar\": {\"outlinewidth\": 0, \"ticks\": \"\"}, \"colorscale\": [[0.0, \"#0d0887\"], [0.1111111111111111, \"#46039f\"], [0.2222222222222222, \"#7201a8\"], [0.3333333333333333, \"#9c179e\"], [0.4444444444444444, \"#bd3786\"], [0.5555555555555556, \"#d8576b\"], [0.6666666666666666, \"#ed7953\"], [0.7777777777777778, \"#fb9f3a\"], [0.8888888888888888, \"#fdca26\"], [1.0, \"#f0f921\"]], \"type\": \"heatmap\"}], \"heatmapgl\": [{\"colorbar\": {\"outlinewidth\": 0, \"ticks\": \"\"}, \"colorscale\": [[0.0, \"#0d0887\"], [0.1111111111111111, \"#46039f\"], [0.2222222222222222, \"#7201a8\"], [0.3333333333333333, \"#9c179e\"], [0.4444444444444444, \"#bd3786\"], [0.5555555555555556, \"#d8576b\"], [0.6666666666666666, \"#ed7953\"], [0.7777777777777778, \"#fb9f3a\"], [0.8888888888888888, \"#fdca26\"], [1.0, \"#f0f921\"]], \"type\": \"heatmapgl\"}], \"histogram\": [{\"marker\": {\"colorbar\": {\"outlinewidth\": 0, \"ticks\": \"\"}}, \"type\": \"histogram\"}], \"histogram2d\": [{\"colorbar\": {\"outlinewidth\": 0, \"ticks\": \"\"}, \"colorscale\": [[0.0, \"#0d0887\"], [0.1111111111111111, \"#46039f\"], [0.2222222222222222, \"#7201a8\"], [0.3333333333333333, \"#9c179e\"], [0.4444444444444444, \"#bd3786\"], [0.5555555555555556, \"#d8576b\"], [0.6666666666666666, \"#ed7953\"], [0.7777777777777778, \"#fb9f3a\"], [0.8888888888888888, \"#fdca26\"], [1.0, \"#f0f921\"]], \"type\": \"histogram2d\"}], \"histogram2dcontour\": [{\"colorbar\": {\"outlinewidth\": 0, \"ticks\": \"\"}, \"colorscale\": [[0.0, \"#0d0887\"], [0.1111111111111111, \"#46039f\"], [0.2222222222222222, \"#7201a8\"], [0.3333333333333333, \"#9c179e\"], [0.4444444444444444, \"#bd3786\"], [0.5555555555555556, \"#d8576b\"], [0.6666666666666666, \"#ed7953\"], [0.7777777777777778, \"#fb9f3a\"], [0.8888888888888888, \"#fdca26\"], [1.0, \"#f0f921\"]], \"type\": \"histogram2dcontour\"}], \"mesh3d\": [{\"colorbar\": {\"outlinewidth\": 0, \"ticks\": \"\"}, \"type\": \"mesh3d\"}], \"parcoords\": [{\"line\": {\"colorbar\": {\"outlinewidth\": 0, \"ticks\": \"\"}}, \"type\": \"parcoords\"}], \"pie\": [{\"automargin\": true, \"type\": \"pie\"}], \"scatter\": [{\"marker\": {\"colorbar\": {\"outlinewidth\": 0, \"ticks\": \"\"}}, \"type\": \"scatter\"}], \"scatter3d\": [{\"line\": {\"colorbar\": {\"outlinewidth\": 0, \"ticks\": \"\"}}, \"marker\": {\"colorbar\": {\"outlinewidth\": 0, \"ticks\": \"\"}}, \"type\": \"scatter3d\"}], \"scattercarpet\": [{\"marker\": {\"colorbar\": {\"outlinewidth\": 0, \"ticks\": \"\"}}, \"type\": \"scattercarpet\"}], \"scattergeo\": [{\"marker\": {\"colorbar\": {\"outlinewidth\": 0, \"ticks\": \"\"}}, \"type\": \"scattergeo\"}], \"scattergl\": [{\"marker\": {\"colorbar\": {\"outlinewidth\": 0, \"ticks\": \"\"}}, \"type\": \"scattergl\"}], \"scattermapbox\": [{\"marker\": {\"colorbar\": {\"outlinewidth\": 0, \"ticks\": \"\"}}, \"type\": \"scattermapbox\"}], \"scatterpolar\": [{\"marker\": {\"colorbar\": {\"outlinewidth\": 0, \"ticks\": \"\"}}, \"type\": \"scatterpolar\"}], \"scatterpolargl\": [{\"marker\": {\"colorbar\": {\"outlinewidth\": 0, \"ticks\": \"\"}}, \"type\": \"scatterpolargl\"}], \"scatterternary\": [{\"marker\": {\"colorbar\": {\"outlinewidth\": 0, \"ticks\": \"\"}}, \"type\": \"scatterternary\"}], \"surface\": [{\"colorbar\": {\"outlinewidth\": 0, \"ticks\": \"\"}, \"colorscale\": [[0.0, \"#0d0887\"], [0.1111111111111111, \"#46039f\"], [0.2222222222222222, \"#7201a8\"], [0.3333333333333333, \"#9c179e\"], [0.4444444444444444, \"#bd3786\"], [0.5555555555555556, \"#d8576b\"], [0.6666666666666666, \"#ed7953\"], [0.7777777777777778, \"#fb9f3a\"], [0.8888888888888888, \"#fdca26\"], [1.0, \"#f0f921\"]], \"type\": \"surface\"}], \"table\": [{\"cells\": {\"fill\": {\"color\": \"#EBF0F8\"}, \"line\": {\"color\": \"white\"}}, \"header\": {\"fill\": {\"color\": \"#C8D4E3\"}, \"line\": {\"color\": \"white\"}}, \"type\": \"table\"}]}, \"layout\": {\"annotationdefaults\": {\"arrowcolor\": \"#2a3f5f\", \"arrowhead\": 0, \"arrowwidth\": 1}, \"coloraxis\": {\"colorbar\": {\"outlinewidth\": 0, \"ticks\": \"\"}}, \"colorscale\": {\"diverging\": [[0, \"#8e0152\"], [0.1, \"#c51b7d\"], [0.2, \"#de77ae\"], [0.3, \"#f1b6da\"], [0.4, \"#fde0ef\"], [0.5, \"#f7f7f7\"], [0.6, \"#e6f5d0\"], [0.7, \"#b8e186\"], [0.8, \"#7fbc41\"], [0.9, \"#4d9221\"], [1, \"#276419\"]], \"sequential\": [[0.0, \"#0d0887\"], [0.1111111111111111, \"#46039f\"], [0.2222222222222222, \"#7201a8\"], [0.3333333333333333, \"#9c179e\"], [0.4444444444444444, \"#bd3786\"], [0.5555555555555556, \"#d8576b\"], [0.6666666666666666, \"#ed7953\"], [0.7777777777777778, \"#fb9f3a\"], [0.8888888888888888, \"#fdca26\"], [1.0, \"#f0f921\"]], \"sequentialminus\": [[0.0, \"#0d0887\"], [0.1111111111111111, \"#46039f\"], [0.2222222222222222, \"#7201a8\"], [0.3333333333333333, \"#9c179e\"], [0.4444444444444444, \"#bd3786\"], [0.5555555555555556, \"#d8576b\"], [0.6666666666666666, \"#ed7953\"], [0.7777777777777778, \"#fb9f3a\"], [0.8888888888888888, \"#fdca26\"], [1.0, \"#f0f921\"]]}, \"colorway\": [\"#636efa\", \"#EF553B\", \"#00cc96\", \"#ab63fa\", \"#FFA15A\", \"#19d3f3\", \"#FF6692\", \"#B6E880\", \"#FF97FF\", \"#FECB52\"], \"font\": {\"color\": \"#2a3f5f\"}, \"geo\": {\"bgcolor\": \"white\", \"lakecolor\": \"white\", \"landcolor\": \"#E5ECF6\", \"showlakes\": true, \"showland\": true, \"subunitcolor\": \"white\"}, \"hoverlabel\": {\"align\": \"left\"}, \"hovermode\": \"closest\", \"mapbox\": {\"style\": \"light\"}, \"paper_bgcolor\": \"white\", \"plot_bgcolor\": \"#E5ECF6\", \"polar\": {\"angularaxis\": {\"gridcolor\": \"white\", \"linecolor\": \"white\", \"ticks\": \"\"}, \"bgcolor\": \"#E5ECF6\", \"radialaxis\": {\"gridcolor\": \"white\", \"linecolor\": \"white\", \"ticks\": \"\"}}, \"scene\": {\"xaxis\": {\"backgroundcolor\": \"#E5ECF6\", \"gridcolor\": \"white\", \"gridwidth\": 2, \"linecolor\": \"white\", \"showbackground\": true, \"ticks\": \"\", \"zerolinecolor\": \"white\"}, \"yaxis\": {\"backgroundcolor\": \"#E5ECF6\", \"gridcolor\": \"white\", \"gridwidth\": 2, \"linecolor\": \"white\", \"showbackground\": true, \"ticks\": \"\", \"zerolinecolor\": \"white\"}, \"zaxis\": {\"backgroundcolor\": \"#E5ECF6\", \"gridcolor\": \"white\", \"gridwidth\": 2, \"linecolor\": \"white\", \"showbackground\": true, \"ticks\": \"\", \"zerolinecolor\": \"white\"}}, \"shapedefaults\": {\"line\": {\"color\": \"#2a3f5f\"}}, \"ternary\": {\"aaxis\": {\"gridcolor\": \"white\", \"linecolor\": \"white\", \"ticks\": \"\"}, \"baxis\": {\"gridcolor\": \"white\", \"linecolor\": \"white\", \"ticks\": \"\"}, \"bgcolor\": \"#E5ECF6\", \"caxis\": {\"gridcolor\": \"white\", \"linecolor\": \"white\", \"ticks\": \"\"}}, \"title\": {\"x\": 0.05}, \"xaxis\": {\"automargin\": true, \"gridcolor\": \"white\", \"linecolor\": \"white\", \"ticks\": \"\", \"title\": {\"standoff\": 15}, \"zerolinecolor\": \"white\", \"zerolinewidth\": 2}, \"yaxis\": {\"automargin\": true, \"gridcolor\": \"white\", \"linecolor\": \"white\", \"ticks\": \"\", \"title\": {\"standoff\": 15}, \"zerolinecolor\": \"white\", \"zerolinewidth\": 2}}}, \"width\": 600, \"xaxis\": {\"anchor\": \"y\", \"domain\": [0.0, 1.0], \"title\": {\"text\": \"x\"}}, \"yaxis\": {\"anchor\": \"x\", \"domain\": [0.0, 1.0], \"title\": {\"text\": \"y\"}}},\n",
              "                        {\"responsive\": true}\n",
              "                    ).then(function(){\n",
              "                            \n",
              "var gd = document.getElementById('e6faca48-b4a4-4a42-a71d-f3dd24b51d8e');\n",
              "var x = new MutationObserver(function (mutations, observer) {{\n",
              "        var display = window.getComputedStyle(gd).display;\n",
              "        if (!display || display === 'none') {{\n",
              "            console.log([gd, 'removed!']);\n",
              "            Plotly.purge(gd);\n",
              "            observer.disconnect();\n",
              "        }}\n",
              "}});\n",
              "\n",
              "// Listen for the removal of the full notebook cells\n",
              "var notebookContainer = gd.closest('#notebook-container');\n",
              "if (notebookContainer) {{\n",
              "    x.observe(notebookContainer, {childList: true});\n",
              "}}\n",
              "\n",
              "// Listen for the clearing of the current output cell\n",
              "var outputEl = gd.closest('.output');\n",
              "if (outputEl) {{\n",
              "    x.observe(outputEl, {childList: true});\n",
              "}}\n",
              "\n",
              "                        })\n",
              "                };\n",
              "                \n",
              "            </script>\n",
              "        </div>\n",
              "</body>\n",
              "</html>"
            ]
          },
          "metadata": {
            "tags": []
          }
        }
      ]
    },
    {
      "cell_type": "code",
      "metadata": {
        "colab": {
          "base_uri": "https://localhost:8080/",
          "height": 1000
        },
        "id": "F5e8rTmxdko2",
        "outputId": "d0d1dac9-e907-48df-9322-48cdfec704c8"
      },
      "source": [
        "# min_samples 파라미터가 각각 다를 때 cluster 차이 비교\n",
        "for min_samples in [2, 6, 30]:\n",
        "  dbscan = DBSCAN(eps=0.2, min_samples=min_samples).fit(moon_data)\n",
        "  dbscan_label = dbscan.labels_\n",
        "  print(f\"min_samples:{min_samples} ->> label 수 : {len(set(dbscan_label))}\")\n",
        "  moon_data_df[\"dbscan_label\"] = dbscan_label\n",
        "\n",
        "  fig = px.scatter(moon_data_df, x=\"x\", y=\"y\", color=\"dbscan_label\")\n",
        "  fig.update_layout(width=600, height=500)\n",
        "  fig.show()"
      ],
      "execution_count": 74,
      "outputs": [
        {
          "output_type": "stream",
          "text": [
            "min_samples:2 ->> label 수 : 3\n"
          ],
          "name": "stdout"
        },
        {
          "output_type": "display_data",
          "data": {
            "text/html": [
              "<html>\n",
              "<head><meta charset=\"utf-8\" /></head>\n",
              "<body>\n",
              "    <div>\n",
              "            <script src=\"https://cdnjs.cloudflare.com/ajax/libs/mathjax/2.7.5/MathJax.js?config=TeX-AMS-MML_SVG\"></script><script type=\"text/javascript\">if (window.MathJax) {MathJax.Hub.Config({SVG: {font: \"STIX-Web\"}});}</script>\n",
              "                <script type=\"text/javascript\">window.PlotlyConfig = {MathJaxConfig: 'local'};</script>\n",
              "        <script src=\"https://cdn.plot.ly/plotly-latest.min.js\"></script>    \n",
              "            <div id=\"571ffc3d-855a-44c4-8743-17b615078aec\" class=\"plotly-graph-div\" style=\"height:500px; width:600px;\"></div>\n",
              "            <script type=\"text/javascript\">\n",
              "                \n",
              "                    window.PLOTLYENV=window.PLOTLYENV || {};\n",
              "                    \n",
              "                if (document.getElementById(\"571ffc3d-855a-44c4-8743-17b615078aec\")) {\n",
              "                    Plotly.newPlot(\n",
              "                        '571ffc3d-855a-44c4-8743-17b615078aec',\n",
              "                        [{\"hoverlabel\": {\"namelength\": 0}, \"hovertemplate\": \"x=%{x}<br>y=%{y}<br>dbscan_label=%{marker.color}\", \"legendgroup\": \"\", \"marker\": {\"color\": [0, 0, 1, 0, 1, 1, 0, 1, 0, 1, 1, 0, 1, 1, 1, 1, 0, 0, 0, 0, 1, 1, 0, 0, 1, 0, 1, 0, 0, 1, 0, 1, 0, 1, 0, 1, 1, 0, 1, 1, 0, 1, 1, 1, 1, 0, 1, 1, 1, 1, 1, 0, 0, 1, 0, 1, 0, 1, 1, 1, 1, 0, 0, 1, 1, 1, 0, 0, 0, 1, 0, 1, 1, 1, 0, 0, 0, 0, 1, 0, 1, 1, 0, 0, 0, 1, 0, 0, 1, 1, 0, 0, 1, 0, 1, 0, 0, 0, -1, 1, 0, 1, 1, 1, 1, 1, 1, 1, 0, 0, 1, 0, 0, 0, 0, 1, 1, 0, 0, 0, 1, 1, 1, 0, 1, 1, 0, 0, 1, 0, 0, 1, 0, 1, 1, 1, 0, 0, 0, 0, 1, 1, 0, 1, 1, 0, 1, 1, 1, 0, 1, 0, 0, 1, 1, 1, 1, 1, 0, 0, 0, 0, 0, 1, 0, 1, 0, 1, 1, 0, 1, 1, 1, 1, 1, 0, 1, 0, 1, 1, 1, 1, 1, 1, 1, 1, 0, 0, 0, 1, 1, 1, 0, 1, 0, 0, 0, 0, 0, 0, 1, 0, 0, 0, 0, 1, 1, 1, 0, 1, 0, 1, 1, 0, 0, 1, 0, 0, 0, 0, 0, 1, 0, 1, 1, -1, 1, 0, 1, 0, 1, 0, 0, 1, 1, 0, 0, 0, 0, 0, 0, 1, 1, 0, 1, 1, 0, 1, 0, 0, 1, 0, 1, 0, 1, 0, 1, 1, 0, 1, 1, 1, 1, 1, 1, 1, 0, 0, 0, 1, 1, 0, 0, 0, 1, 1, 0, 0, 0, 0, 1, 0, 0, 1, 0, 0, 0, 1, 1, 0, 1, 1, 1, 0, 0, 0, 1, 0, 0, 0, 0, 1, 0, 1, 1, 1, 1, 1, 1, 0, 1, 1, 1, 0, 0, 0, 0, 0, 0, 0, 0, 0, 0, 0, 0, 0, 0, 0, 0, 1, 1, 0, 1, 0, 0, 1, 1, 1, 1, 1, 0, 1, 0, 1, 0, 1, 0, 0, 0, 1, 0, 1, 0, 1, 0, 0, 1, 0, 0, 0, 0, 1, 1, 1, 1, 0, 1, 1, 1, 1, 0, 0, 0, 1, 0, 1, 0, 1, 0, 0, 0, 0, 1, 1, 1, 0, 1, 0, 1, 0, 0, 1, 0, 1, 1, 1, 1, 0, 0, 1], \"coloraxis\": \"coloraxis\", \"symbol\": \"circle\"}, \"mode\": \"markers\", \"name\": \"\", \"showlegend\": false, \"type\": \"scatter\", \"x\": [-0.04405185436455387, 0.6922304485774229, 0.8281977981485314, 0.17881242677930137, 0.09171539700050081, 0.40156045922972966, 1.3757911943525358, 0.07314713993172753, 0.45860466022215285, -0.4178031928161623, 0.9579878024190793, 1.8524970559962026, 0.5552516585363515, 0.3022727378193304, -0.5247965363754132, 0.8580279728331913, 0.6189365495878882, 1.8927960119108467, 0.11756338555092069, 2.169029362678773, 0.404559599307745, 1.0893364137634811, 2.0669459262896903, 0.5877990025461418, 1.0446289348001918, 2.0490213676870517, -0.29381359169325855, 0.02237367735743013, 0.453000976269902, 0.052039835716421845, 2.1534991209951535, -1.119340367715941, 0.6240688008428807, 0.6746685269538756, 0.11590511420338562, -0.25247367792137004, -0.043682834885529404, 1.7828070067277453, -0.834513603902822, -0.5049155905696417, 1.806489808286964, 0.7605778678586781, 0.29985442632480913, 0.8905252470097118, 0.11826978657090345, 2.0034066514848714, -0.7130367234824387, -1.0452223143606545, 0.9604818564529551, -1.0610029020734704, 0.9290715732995999, 1.3419458957279273, 1.5452174341489513, 0.3985161871037338, 1.764957168546406, 0.9224449677324292, 0.033462363099337374, -0.8919029408079996, 1.0225793504988576, -0.9710888438761187, -0.4791414581275831, 0.8408477423017393, 0.2964391408080224, 0.4919544089308461, 0.0410776773647474, 0.9666350914963895, 1.6831546515793194, 0.43826348511034413, 1.740452092301724, 0.21658112980549674, 1.3012044573186852, -0.64388146241787, 0.9496985380360062, 0.6683706670351148, 2.021650614049808, 0.16473890548509473, -0.009247095964754717, 1.7690167227990816, -1.0104913674247578, 0.702434617830942, 0.9493893492279155, 0.8953640992371084, -0.15095907350779758, 0.28341059943157637, 0.686247114883507, 0.42168660618408793, 0.4135899135206339, 1.0577396586654602, 0.0034514995502456514, 0.2647671231050478, 0.06324742529253595, 1.5658002856216526, -0.2559695512442949, 0.2090468050023805, -1.0197784695319896, 1.1529542320186548, 1.8320855582539974, 1.9886682809991771, -0.16419264277805473, 0.3254160858230126, 0.20654495134218478, -0.02532499674177502, 1.0832306132818155, 0.5278969205172018, -0.7422978282856604, 1.0762354226047843, 0.9804704487371622, -0.7609520671028389, 1.7419705803807746, 1.8949012493453714, -0.49651016735263764, 2.0281830266713725, 0.7295586309939159, 2.0165730120568788, 1.0090524120850748, 0.8181446341926059, 0.47919081281108183, 0.8291064621354819, 1.1864304003533328, 0.7588546454896044, -0.9246852132955579, -0.19973768447083562, 0.940616481696544, 1.8498418744289271, 1.0076808280989389, -0.966543565363345, 1.6638459329092838, 1.6872832037570835, -0.9976923228984038, 0.259718542404861, 1.260522773047423, -0.5812357980233047, 0.5687897887080057, -0.9002692152319717, -0.25582248118023304, -1.1138631338303022, 0.13234844337348306, 0.5078751167554956, -0.11594691159512407, 1.0831469058632226, 0.9771117727121236, -0.32661461873026315, 0.9063697767081207, -0.6203513588550882, -1.1511863158724789, 0.7803374476056197, 0.5955667439508922, -0.1308958348924223, -0.8799966733224986, 1.922550311349182, 1.1750337382650022, 1.5611843539210797, 0.4481765327303048, -0.7585085272396329, 1.051622752860439, -0.8092021378321275, -0.07657329479524141, 0.3643485289920689, 1.3457410648452206, 1.9250783905350084, 2.128778248212025, 0.0706262481600407, 1.0274744413540133, -0.9039386882590633, 1.792856509913606, 0.23340051836624431, 2.0071012074483465, -0.7848715472141286, -0.6052644989118215, 0.05187296202004671, 0.18346525575039668, 0.4357050503972449, -0.19161096380566223, 0.23246382980226774, -0.6089928003474744, 1.1736206804738114, -0.14663398900921182, 0.2432922979322884, 0.2481370154715898, 1.056272964342253, 0.7460124466135112, -0.6474151293600467, -0.2998246700886737, -0.867194684720239, 0.45564543502722626, -1.0050512879881874, 1.3365798384645975, -0.17983124228592573, 1.498489509539917, -0.6805626396188176, -0.6490735256969274, -0.536868509390947, 1.975693655313992, 0.09373483171858374, 1.3769137547348915, 1.6728813869324226, 1.6448138852597582, 1.6705417974900587, 1.457852249627546, 0.976715110638505, -0.9263843640116586, -0.1223731313381849, 0.796228522033799, 0.15475677041477062, 0.7888519002662029, -0.5405845524825568, 0.9305692278235662, 0.9784119369643645, 1.4758331265836486, -1.0200230889843025, 0.04061773858849012, -0.3154849918885533, -1.0223978310048576, 1.3533832696767325, 1.0366465155314608, -0.04510451879071933, 1.8936032702640215, 0.5943858451752875, 1.885006370759624, 0.9389125135270914, 1.7893976221378944, -0.994564259030683, 0.3603982008922027, -0.4408604389520875, -0.5151095273058485, -1.0563766442123035, -1.0351547981205815, 1.9371282674993187, 0.9166357854923943, 0.0083564707053621, -0.12004194518298957, 0.06357500148967771, 0.4229368998509608, 0.9981936878290952, -0.30368999098948596, 1.874315243153208, 0.07222261812178199, 1.6470491039434203, 1.9686415215524833, 1.7843131131506498, 2.0873045148599823, -0.39790391370032724, 0.49229061778845873, 1.3148496627000024, 0.8494651045710285, 0.19481701963916617, 1.9508672322774856, -0.10148376708261908, 0.2825817386035496, 0.938344700184442, -0.33440741651656025, 0.15227499084567703, -0.9103538545522244, 0.7461365894557511, 0.7980254495229531, 1.9701048704314503, 0.652791628022177, 0.15095217091376792, 0.2049831993182284, -1.0351508911672802, -0.8495786602831639, 1.0732469394954367, 0.922355666831577, 1.179959994061442, -0.9293446879170691, -0.6635954598691399, 1.325082692179819, 0.5568693550491782, 0.07750159554668323, 0.12508148690837878, 0.7450034565443301, 0.18786203305535706, 1.0060978915552157, 1.0993371067091071, -0.9080886149685693, 0.5858015888336551, 1.0604130877330895, 0.08128104436835105, 0.2621963091845073, 1.4462645794969085, 1.0643805747202955, 0.2791274315012009, 1.9261906290309088, 0.07587637693033553, 0.2185468890445362, 1.6237768965846349, 0.031333571273604, -1.0991324877898918, 0.05943075792034612, 0.008629185751882248, 0.7067448851525836, 0.8727925257301243, 1.0098726006114973, 0.5993675602813255, 0.1018886995222481, 1.525369983953064, 1.054941483052359, 1.2136000567339893, 0.23308716959053433, 0.15132759806894286, 0.7976359593737035, -0.808584190274535, 1.961108543928387, -0.573486935719889, 0.3974880824749839, -0.6121576257879583, -0.40620203173039965, 0.8059004682255754, 0.577010942050867, 0.8487619173221225, 0.95116813790414, -0.8431589135514671, 0.8345576822705425, 1.8916875532375048, 1.3528302565382921, 0.14554876861527338, 0.74380252328883, 1.6283256315766768, 0.20872539439732596, 0.01575435537698975, 0.08103530943841337, 0.9398855834587191, 1.8681586907315795, 0.2982728817544293, 2.1277507888341294, 1.846066968959805, 0.905843066983084, 0.4764277360194793, 0.05079807673102646, -0.9159944605722037, 0.7547580557250606, 0.09090431203597911, -0.9855961407261281, 1.1645508833612985, 0.45777725614298304, -0.0457775363766378, 0.7800780371174919, 0.9360900798447133, 0.6689785958971225, 0.33478569722706114, 0.0225989916723915, 0.8552106280976605, 0.40095040462607473, 0.2905170667683744, 1.5057375454140596, 0.6567229379131222, 1.5589905162770326, 0.4463256730065187, 0.3209014155840095, 0.8604722047896834, 1.3193048015154476, 0.23241761555025903, 0.6689344099794808, -0.9368801423457124, 1.6369396239440042, 1.8250086156767336, -0.4044565529876215, 1.0911356663298046, 1.9771635326594774, 1.2487446961310449, 0.2680686577935133, 0.6096776291794008, 0.519633282205532, -0.8067740153047347, -1.0655947175512142, 2.0397784183254832, -1.0984313739240208, -1.0115042991719052, 0.593417605519658, 0.6893488089833144, 1.5811433931248629, 0.13264402366925823, 0.17583821874143654, 0.7968700476436335, 1.2559789044345149, -0.72730191303691, 0.6671056801212313, -1.0039351561663472, 0.803862955043394, 1.755527350459414, 0.4722598345644735, 1.1014506588758581, -0.8515613634567728, -0.344768061166429, -0.6240556307959167, 1.668619917195012, 0.09982365388048871, 1.9207005824962247, 0.21711474696683666, 1.6106948141690762, 0.06152089034007621, -0.3183138362478756, 2.051806694384509, 1.1621430615794484, -0.7693711814576643, 0.42481712855727227, 0.06612998562530321, 0.7241611107656446, 1.929872146707251, -0.0747996734498523], \"xaxis\": \"x\", \"y\": [0.43607778101760863, -0.4011194632440612, 0.5415218892178506, 0.26886231388723847, 0.9461179874453445, 0.9268166356399812, -0.4513290871112877, 0.9168823205037456, -0.3476620899215156, 0.9969302258350214, 0.12114286887719278, 0.1599189780891384, 0.965685772429867, 0.9301292941685252, 0.7897125490862673, 0.6755129042792798, -0.6523278952709434, 0.158747858462253, 0.10550256974316223, 0.32216590687738944, 0.95239331683874, 0.28773650388840166, 0.5549359778342985, -0.4275752586735255, 0.11362423171192629, 0.5587208679105828, 0.8871058855450891, -0.011244065183244362, -0.37282399872071736, 0.8683552101965917, 0.3387743351635715, 0.012114675029737565, -0.3249173888665629, 0.7648464577460884, -0.03455360646626823, 1.0157254753141933, 0.789928213280756, -0.23043958881624316, 0.5482327588836816, 0.8158505869016326, 0.25595173111671626, 0.8490047684040152, 0.7977673987470991, 0.7099043476407715, 0.8778058534457707, 0.2223803368419529, 0.9233940786148171, 0.2789271744465052, 0.2598976348965632, 0.4259623231575948, 0.7044894326221837, -0.43467545128738916, -0.2025606431151623, 0.7578228472730179, 0.12339506639239467, 0.6012696775757825, 0.19067157702276952, 0.4960748810175608, 0.36066014634971644, 0.6405981687615638, 1.0093246672652925, -0.683810686127401, -0.41241573507105345, 0.9901126903122439, 1.0533222871839638, 0.5834251609429104, -0.3177480119227779, -0.38340484123539237, 0.5354200429219066, 0.9736687007203508, -0.4195693110355442, 0.8241928619908845, 0.023234430827277622, 0.8047279428402697, 0.3481653007891365, -0.18751597646936197, 0.03742781347292015, 0.20281525401323908, 0.26766467034661684, -0.5634133844961742, 0.042395034693238194, 0.12029412831425107, 0.5363974171515313, -0.1450026982659779, -0.40495076112290174, 0.8574857282534363, -0.2320469450349981, -0.5010974292201972, 0.9232315981434537, 0.9512736717500212, 0.013266377828641828, -0.15587107312135612, 0.9769812759008681, 0.24958736254698483, 0.4310704881654892, -0.5388390359189088, 0.007344939439863404, 0.17873633391097563, -0.10434745860853986, 1.0154113850377267, 0.07817393049748056, 0.947301799237025, 0.30243413363940314, 0.9436475009919664, 0.688066258718179, 0.31552877308582405, 0.25009378313745445, 1.0259518073320897, -0.08661529391898053, -0.18713179029828392, 1.020847176615835, 0.37029889398262206, -0.37240717905441106, 0.15904904573753528, -0.7054738367924506, 0.7016062224228446, 0.8667912886886442, -0.5651271337464877, -0.519764696461732, -0.45614703155803, 0.6659339268772327, 1.0933060138877637, 0.25749074749584544, 0.006391413083718128, 0.34117127567420824, 0.28801758688468887, -0.21466511695958101, -0.390961809823812, 0.48813212785537713, -0.14858140113014096, -0.4766645861004665, 0.6748887284276055, -0.2677047542484201, 0.2619201140227827, 1.0180954146828698, -0.08705661343128906, 0.00912932714886762, -0.48441334225022337, 0.24031371708309332, -0.7040686518936875, 0.40745819890591284, 0.7493900295321627, -0.3263153064040736, 0.8387098635497955, -0.06624355977916652, -0.3862360517512149, 0.6386728106302391, 0.9641399984129664, 0.283554573861271, -0.023703499695742758, 0.08712904314172767, -0.2802004578206971, -0.16445885394768184, 0.748141806207555, 0.07573563016822103, 0.13687902584671832, 1.0123246744592231, 0.9587332861968995, -0.6347527000227957, 0.2703337265054317, 0.3285139273519466, 0.27277848784097924, -0.5378165485798784, 0.4860442990090752, -0.09965088293999937, 0.9718404298026123, 0.14070793064631937, 0.5879530835073661, 0.7955689362691735, 0.11809294944569163, 0.863886260883799, 0.947112468815042, 1.0144581477653083, 0.958636539202684, 0.8538968611679508, -0.26267904632598416, 1.098915276229116, -0.2985209827634067, 1.0221280706067108, 0.26708618818460234, 0.6027220092407295, 0.8686578241100799, 1.0958782230964785, 0.3372444433127365, 0.8287075193222752, 0.19988054900735763, -0.4000759499004397, 0.27210742336973803, -0.5554431740207553, 0.08132969177833893, 0.8815049333413835, 0.9423719015542635, 0.22898137437768737, 0.9093489420473164, -0.3990335438365677, -0.28120663796327605, -0.42347286188539957, -0.1316839261626955, -0.22512481834440223, -0.5487601936944003, 0.21098414319755895, 0.34272142754523316, -0.6021366375822279, 0.25817568609572544, -0.5251206254974262, 0.9181117639438922, 0.5398249074259076, 0.25352612158237964, -0.42390792934014865, 0.22748717279219446, 0.19092611177757238, 1.0083104690182787, 0.4011067930232193, -0.47274322766457466, -0.4985476580125366, 0.7991491020390376, 0.14287399006123414, -0.528630928174813, 0.10420737924262266, -0.5135540452630449, -0.26387131943612496, 0.6713911383163779, -0.12579009793677248, 0.7384652081800833, 0.8471182066753098, -0.3568205299359881, 0.05539817597695543, 0.3675642914202532, 0.12373202160019528, 0.5320457749816218, 0.7527784391323216, -0.07375254500638109, -0.03656097531307502, 0.21096138080488983, 1.0459161417121352, -0.05318329701654417, 0.13627157664599823, -0.16757444093230295, 0.10291719279716784, -0.1520068909668203, 0.28530735074108815, 0.982030294351673, 0.8693150287473763, -0.44725774744016616, 0.5435623850119276, 1.0914306332660042, 0.3900256213166849, 0.8954007189495029, -0.16532079284824672, -0.6327445340710072, 0.872152223717397, 0.02198057941962034, 0.11457950315220794, -0.5110142065757868, 0.7023762060734993, 0.06999163949717546, 0.8679890511284588, 0.9735792211196405, -0.37334478387442843, 0.2352123895851974, 0.5257157557542287, 0.0966570840121739, 0.3915777156856398, 0.40620951502008384, 0.5563002807945711, 0.9287284123514572, -0.4694932597705525, -0.28647303390245527, 0.2177456466088653, 1.0107712649386078, 0.7090896365466173, -0.20224818473919925, -0.6716737343647, -0.5255392480328201, 0.220602393102044, 0.5679185764822606, -0.664348506659051, 0.5655440149193591, -0.2605001465555224, -0.44476972105908064, 0.16411977735553548, -0.26884664450584866, -0.034101486858117314, 1.1367673776383977, 0.20383370529796563, -0.33120103482858776, 0.24276731510751107, 0.3998281611302054, 0.9409926919168601, 0.24999982561095813, 0.7849651477267724, 0.40450279943881134, 0.6137062126291012, -0.5724314430588369, 0.49498808243247494, 0.0019297974426112918, 0.22300462646561692, -0.3417331989379858, 0.1275069459089364, -0.23883742575743933, -0.3839793843645204, 0.549473350974221, 0.040814972387245074, 0.7653864752163864, 0.8866068075128529, 0.8269448471682256, 0.6919572681002077, 0.09598584740679728, 0.921427860837215, -0.4363056984528748, 0.13090585233804364, 0.708073706544875, 0.5953673442120604, 0.09509014818593642, -0.4265362405070112, 0.2169283752033758, -0.4984572915678237, -0.2528451566092468, 0.08119429053081831, 0.23973280995637058, 0.5570725509248531, -0.6683544103342967, -0.02515342308285237, -0.12638098881700305, 0.42675405509515674, 0.10121826279463625, -0.5700794902937782, -0.38939614448640203, 0.46414246315263463, 0.662046710981531, 0.6381008654279617, 0.23872062239361602, 0.24465186146853457, -0.40249503600795367, -0.10078345978288639, 1.060030149286084, 0.7488019569243001, -0.03162831609870871, 0.6036520491736346, 0.8900372542109308, 0.40528001022145993, 0.5669552804252124, -0.27463813164370005, 1.025321115737968, -0.37329350355500024, 0.6722832366601202, -0.23748233613720784, -0.328051945416493, -0.12664039057205045, 0.163902767064797, -0.40253376846929073, 0.9210944649201596, -0.3160694603337302, 0.49356261972143056, -0.4744664601030904, 0.5437106356516351, 0.8096130028026692, -0.6172332210395521, 0.3666784091668318, -0.36527871113721005, -0.07010628425274437, 0.7174606455400276, 0.6532250811403223, 0.29157261562178366, 0.2212330253379633, 0.5374177752148195, 0.44471746141975255, 0.47152389058042293, 0.6742885813462738, 0.6896349026977713, -0.1694959403716835, -0.158979629866297, -0.1711557573059312, 0.3571278338151201, -0.5769106371591088, 0.4057417900374254, -0.4360539225120356, 0.00817004076966052, -0.3328595135185971, -0.19911487236295916, -0.19863427705176354, -0.486249852261357, 0.7009224597105804, 0.8202303548674952, 0.6964627164785605, -0.20106864327115975, 1.055221255419995, 0.05914098492307132, 1.068621936007729, -0.23393265974914823, 0.26358525411585665, 0.995160530592945, 0.6307986637140104, 0.28999256891276015, 0.2900083101499388, 1.0503355163432597, 0.9487101716012722, -0.28599311361127777, -0.26332583701466633, 0.7965550564269417], \"yaxis\": \"y\"}],\n",
              "                        {\"coloraxis\": {\"colorbar\": {\"title\": {\"text\": \"dbscan_label\"}}, \"colorscale\": [[0.0, \"#0d0887\"], [0.1111111111111111, \"#46039f\"], [0.2222222222222222, \"#7201a8\"], [0.3333333333333333, \"#9c179e\"], [0.4444444444444444, \"#bd3786\"], [0.5555555555555556, \"#d8576b\"], [0.6666666666666666, \"#ed7953\"], [0.7777777777777778, \"#fb9f3a\"], [0.8888888888888888, \"#fdca26\"], [1.0, \"#f0f921\"]]}, \"height\": 500, \"legend\": {\"tracegroupgap\": 0}, \"margin\": {\"t\": 60}, \"template\": {\"data\": {\"bar\": [{\"error_x\": {\"color\": \"#2a3f5f\"}, \"error_y\": {\"color\": \"#2a3f5f\"}, \"marker\": {\"line\": {\"color\": \"#E5ECF6\", \"width\": 0.5}}, \"type\": \"bar\"}], \"barpolar\": [{\"marker\": {\"line\": {\"color\": \"#E5ECF6\", \"width\": 0.5}}, \"type\": \"barpolar\"}], \"carpet\": [{\"aaxis\": {\"endlinecolor\": \"#2a3f5f\", \"gridcolor\": \"white\", \"linecolor\": \"white\", \"minorgridcolor\": \"white\", \"startlinecolor\": \"#2a3f5f\"}, \"baxis\": {\"endlinecolor\": \"#2a3f5f\", \"gridcolor\": \"white\", \"linecolor\": \"white\", \"minorgridcolor\": \"white\", \"startlinecolor\": \"#2a3f5f\"}, \"type\": \"carpet\"}], \"choropleth\": [{\"colorbar\": {\"outlinewidth\": 0, \"ticks\": \"\"}, \"type\": \"choropleth\"}], \"contour\": [{\"colorbar\": {\"outlinewidth\": 0, \"ticks\": \"\"}, \"colorscale\": [[0.0, \"#0d0887\"], [0.1111111111111111, \"#46039f\"], [0.2222222222222222, \"#7201a8\"], [0.3333333333333333, \"#9c179e\"], [0.4444444444444444, \"#bd3786\"], [0.5555555555555556, \"#d8576b\"], [0.6666666666666666, \"#ed7953\"], [0.7777777777777778, \"#fb9f3a\"], [0.8888888888888888, \"#fdca26\"], [1.0, \"#f0f921\"]], \"type\": \"contour\"}], \"contourcarpet\": [{\"colorbar\": {\"outlinewidth\": 0, \"ticks\": \"\"}, \"type\": \"contourcarpet\"}], \"heatmap\": [{\"colorbar\": {\"outlinewidth\": 0, \"ticks\": \"\"}, \"colorscale\": [[0.0, \"#0d0887\"], [0.1111111111111111, \"#46039f\"], [0.2222222222222222, \"#7201a8\"], [0.3333333333333333, \"#9c179e\"], [0.4444444444444444, \"#bd3786\"], [0.5555555555555556, \"#d8576b\"], [0.6666666666666666, \"#ed7953\"], [0.7777777777777778, \"#fb9f3a\"], [0.8888888888888888, \"#fdca26\"], [1.0, \"#f0f921\"]], \"type\": \"heatmap\"}], \"heatmapgl\": [{\"colorbar\": {\"outlinewidth\": 0, \"ticks\": \"\"}, \"colorscale\": [[0.0, \"#0d0887\"], [0.1111111111111111, \"#46039f\"], [0.2222222222222222, \"#7201a8\"], [0.3333333333333333, \"#9c179e\"], [0.4444444444444444, \"#bd3786\"], [0.5555555555555556, \"#d8576b\"], [0.6666666666666666, \"#ed7953\"], [0.7777777777777778, \"#fb9f3a\"], [0.8888888888888888, \"#fdca26\"], [1.0, \"#f0f921\"]], \"type\": \"heatmapgl\"}], \"histogram\": [{\"marker\": {\"colorbar\": {\"outlinewidth\": 0, \"ticks\": \"\"}}, \"type\": \"histogram\"}], \"histogram2d\": [{\"colorbar\": {\"outlinewidth\": 0, \"ticks\": \"\"}, \"colorscale\": [[0.0, \"#0d0887\"], [0.1111111111111111, \"#46039f\"], [0.2222222222222222, \"#7201a8\"], [0.3333333333333333, \"#9c179e\"], [0.4444444444444444, \"#bd3786\"], [0.5555555555555556, \"#d8576b\"], [0.6666666666666666, \"#ed7953\"], [0.7777777777777778, \"#fb9f3a\"], [0.8888888888888888, \"#fdca26\"], [1.0, \"#f0f921\"]], \"type\": \"histogram2d\"}], \"histogram2dcontour\": [{\"colorbar\": {\"outlinewidth\": 0, \"ticks\": \"\"}, \"colorscale\": [[0.0, \"#0d0887\"], [0.1111111111111111, \"#46039f\"], [0.2222222222222222, \"#7201a8\"], [0.3333333333333333, \"#9c179e\"], [0.4444444444444444, \"#bd3786\"], [0.5555555555555556, \"#d8576b\"], [0.6666666666666666, \"#ed7953\"], [0.7777777777777778, \"#fb9f3a\"], [0.8888888888888888, \"#fdca26\"], [1.0, \"#f0f921\"]], \"type\": \"histogram2dcontour\"}], \"mesh3d\": [{\"colorbar\": {\"outlinewidth\": 0, \"ticks\": \"\"}, \"type\": \"mesh3d\"}], \"parcoords\": [{\"line\": {\"colorbar\": {\"outlinewidth\": 0, \"ticks\": \"\"}}, \"type\": \"parcoords\"}], \"pie\": [{\"automargin\": true, \"type\": \"pie\"}], \"scatter\": [{\"marker\": {\"colorbar\": {\"outlinewidth\": 0, \"ticks\": \"\"}}, \"type\": \"scatter\"}], \"scatter3d\": [{\"line\": {\"colorbar\": {\"outlinewidth\": 0, \"ticks\": \"\"}}, \"marker\": {\"colorbar\": {\"outlinewidth\": 0, \"ticks\": \"\"}}, \"type\": \"scatter3d\"}], \"scattercarpet\": [{\"marker\": {\"colorbar\": {\"outlinewidth\": 0, \"ticks\": \"\"}}, \"type\": \"scattercarpet\"}], \"scattergeo\": [{\"marker\": {\"colorbar\": {\"outlinewidth\": 0, \"ticks\": \"\"}}, \"type\": \"scattergeo\"}], \"scattergl\": [{\"marker\": {\"colorbar\": {\"outlinewidth\": 0, \"ticks\": \"\"}}, \"type\": \"scattergl\"}], \"scattermapbox\": [{\"marker\": {\"colorbar\": {\"outlinewidth\": 0, \"ticks\": \"\"}}, \"type\": \"scattermapbox\"}], \"scatterpolar\": [{\"marker\": {\"colorbar\": {\"outlinewidth\": 0, \"ticks\": \"\"}}, \"type\": \"scatterpolar\"}], \"scatterpolargl\": [{\"marker\": {\"colorbar\": {\"outlinewidth\": 0, \"ticks\": \"\"}}, \"type\": \"scatterpolargl\"}], \"scatterternary\": [{\"marker\": {\"colorbar\": {\"outlinewidth\": 0, \"ticks\": \"\"}}, \"type\": \"scatterternary\"}], \"surface\": [{\"colorbar\": {\"outlinewidth\": 0, \"ticks\": \"\"}, \"colorscale\": [[0.0, \"#0d0887\"], [0.1111111111111111, \"#46039f\"], [0.2222222222222222, \"#7201a8\"], [0.3333333333333333, \"#9c179e\"], [0.4444444444444444, \"#bd3786\"], [0.5555555555555556, \"#d8576b\"], [0.6666666666666666, \"#ed7953\"], [0.7777777777777778, \"#fb9f3a\"], [0.8888888888888888, \"#fdca26\"], [1.0, \"#f0f921\"]], \"type\": \"surface\"}], \"table\": [{\"cells\": {\"fill\": {\"color\": \"#EBF0F8\"}, \"line\": {\"color\": \"white\"}}, \"header\": {\"fill\": {\"color\": \"#C8D4E3\"}, \"line\": {\"color\": \"white\"}}, \"type\": \"table\"}]}, \"layout\": {\"annotationdefaults\": {\"arrowcolor\": \"#2a3f5f\", \"arrowhead\": 0, \"arrowwidth\": 1}, \"coloraxis\": {\"colorbar\": {\"outlinewidth\": 0, \"ticks\": \"\"}}, \"colorscale\": {\"diverging\": [[0, \"#8e0152\"], [0.1, \"#c51b7d\"], [0.2, \"#de77ae\"], [0.3, \"#f1b6da\"], [0.4, \"#fde0ef\"], [0.5, \"#f7f7f7\"], [0.6, \"#e6f5d0\"], [0.7, \"#b8e186\"], [0.8, \"#7fbc41\"], [0.9, \"#4d9221\"], [1, \"#276419\"]], \"sequential\": [[0.0, \"#0d0887\"], [0.1111111111111111, \"#46039f\"], [0.2222222222222222, \"#7201a8\"], [0.3333333333333333, \"#9c179e\"], [0.4444444444444444, \"#bd3786\"], [0.5555555555555556, \"#d8576b\"], [0.6666666666666666, \"#ed7953\"], [0.7777777777777778, \"#fb9f3a\"], [0.8888888888888888, \"#fdca26\"], [1.0, \"#f0f921\"]], \"sequentialminus\": [[0.0, \"#0d0887\"], [0.1111111111111111, \"#46039f\"], [0.2222222222222222, \"#7201a8\"], [0.3333333333333333, \"#9c179e\"], [0.4444444444444444, \"#bd3786\"], [0.5555555555555556, \"#d8576b\"], [0.6666666666666666, \"#ed7953\"], [0.7777777777777778, \"#fb9f3a\"], [0.8888888888888888, \"#fdca26\"], [1.0, \"#f0f921\"]]}, \"colorway\": [\"#636efa\", \"#EF553B\", \"#00cc96\", \"#ab63fa\", \"#FFA15A\", \"#19d3f3\", \"#FF6692\", \"#B6E880\", \"#FF97FF\", \"#FECB52\"], \"font\": {\"color\": \"#2a3f5f\"}, \"geo\": {\"bgcolor\": \"white\", \"lakecolor\": \"white\", \"landcolor\": \"#E5ECF6\", \"showlakes\": true, \"showland\": true, \"subunitcolor\": \"white\"}, \"hoverlabel\": {\"align\": \"left\"}, \"hovermode\": \"closest\", \"mapbox\": {\"style\": \"light\"}, \"paper_bgcolor\": \"white\", \"plot_bgcolor\": \"#E5ECF6\", \"polar\": {\"angularaxis\": {\"gridcolor\": \"white\", \"linecolor\": \"white\", \"ticks\": \"\"}, \"bgcolor\": \"#E5ECF6\", \"radialaxis\": {\"gridcolor\": \"white\", \"linecolor\": \"white\", \"ticks\": \"\"}}, \"scene\": {\"xaxis\": {\"backgroundcolor\": \"#E5ECF6\", \"gridcolor\": \"white\", \"gridwidth\": 2, \"linecolor\": \"white\", \"showbackground\": true, \"ticks\": \"\", \"zerolinecolor\": \"white\"}, \"yaxis\": {\"backgroundcolor\": \"#E5ECF6\", \"gridcolor\": \"white\", \"gridwidth\": 2, \"linecolor\": \"white\", \"showbackground\": true, \"ticks\": \"\", \"zerolinecolor\": \"white\"}, \"zaxis\": {\"backgroundcolor\": \"#E5ECF6\", \"gridcolor\": \"white\", \"gridwidth\": 2, \"linecolor\": \"white\", \"showbackground\": true, \"ticks\": \"\", \"zerolinecolor\": \"white\"}}, \"shapedefaults\": {\"line\": {\"color\": \"#2a3f5f\"}}, \"ternary\": {\"aaxis\": {\"gridcolor\": \"white\", \"linecolor\": \"white\", \"ticks\": \"\"}, \"baxis\": {\"gridcolor\": \"white\", \"linecolor\": \"white\", \"ticks\": \"\"}, \"bgcolor\": \"#E5ECF6\", \"caxis\": {\"gridcolor\": \"white\", \"linecolor\": \"white\", \"ticks\": \"\"}}, \"title\": {\"x\": 0.05}, \"xaxis\": {\"automargin\": true, \"gridcolor\": \"white\", \"linecolor\": \"white\", \"ticks\": \"\", \"title\": {\"standoff\": 15}, \"zerolinecolor\": \"white\", \"zerolinewidth\": 2}, \"yaxis\": {\"automargin\": true, \"gridcolor\": \"white\", \"linecolor\": \"white\", \"ticks\": \"\", \"title\": {\"standoff\": 15}, \"zerolinecolor\": \"white\", \"zerolinewidth\": 2}}}, \"width\": 600, \"xaxis\": {\"anchor\": \"y\", \"domain\": [0.0, 1.0], \"title\": {\"text\": \"x\"}}, \"yaxis\": {\"anchor\": \"x\", \"domain\": [0.0, 1.0], \"title\": {\"text\": \"y\"}}},\n",
              "                        {\"responsive\": true}\n",
              "                    ).then(function(){\n",
              "                            \n",
              "var gd = document.getElementById('571ffc3d-855a-44c4-8743-17b615078aec');\n",
              "var x = new MutationObserver(function (mutations, observer) {{\n",
              "        var display = window.getComputedStyle(gd).display;\n",
              "        if (!display || display === 'none') {{\n",
              "            console.log([gd, 'removed!']);\n",
              "            Plotly.purge(gd);\n",
              "            observer.disconnect();\n",
              "        }}\n",
              "}});\n",
              "\n",
              "// Listen for the removal of the full notebook cells\n",
              "var notebookContainer = gd.closest('#notebook-container');\n",
              "if (notebookContainer) {{\n",
              "    x.observe(notebookContainer, {childList: true});\n",
              "}}\n",
              "\n",
              "// Listen for the clearing of the current output cell\n",
              "var outputEl = gd.closest('.output');\n",
              "if (outputEl) {{\n",
              "    x.observe(outputEl, {childList: true});\n",
              "}}\n",
              "\n",
              "                        })\n",
              "                };\n",
              "                \n",
              "            </script>\n",
              "        </div>\n",
              "</body>\n",
              "</html>"
            ]
          },
          "metadata": {
            "tags": []
          }
        },
        {
          "output_type": "stream",
          "text": [
            "min_samples:6 ->> label 수 : 3\n"
          ],
          "name": "stdout"
        },
        {
          "output_type": "display_data",
          "data": {
            "text/html": [
              "<html>\n",
              "<head><meta charset=\"utf-8\" /></head>\n",
              "<body>\n",
              "    <div>\n",
              "            <script src=\"https://cdnjs.cloudflare.com/ajax/libs/mathjax/2.7.5/MathJax.js?config=TeX-AMS-MML_SVG\"></script><script type=\"text/javascript\">if (window.MathJax) {MathJax.Hub.Config({SVG: {font: \"STIX-Web\"}});}</script>\n",
              "                <script type=\"text/javascript\">window.PlotlyConfig = {MathJaxConfig: 'local'};</script>\n",
              "        <script src=\"https://cdn.plot.ly/plotly-latest.min.js\"></script>    \n",
              "            <div id=\"c7546780-618e-48ef-a522-3ee1b9b8bf23\" class=\"plotly-graph-div\" style=\"height:500px; width:600px;\"></div>\n",
              "            <script type=\"text/javascript\">\n",
              "                \n",
              "                    window.PLOTLYENV=window.PLOTLYENV || {};\n",
              "                    \n",
              "                if (document.getElementById(\"c7546780-618e-48ef-a522-3ee1b9b8bf23\")) {\n",
              "                    Plotly.newPlot(\n",
              "                        'c7546780-618e-48ef-a522-3ee1b9b8bf23',\n",
              "                        [{\"hoverlabel\": {\"namelength\": 0}, \"hovertemplate\": \"x=%{x}<br>y=%{y}<br>dbscan_label=%{marker.color}\", \"legendgroup\": \"\", \"marker\": {\"color\": [0, 0, 1, 0, 1, 1, 0, 1, 0, 1, 1, 0, 1, 1, 1, 1, 0, 0, 0, 0, 1, 1, 0, 0, 1, 0, 1, 0, 0, 1, 0, 1, 0, 1, 0, 1, 1, 0, 1, 1, 0, 1, 1, 1, 1, 0, 1, 1, 1, 1, 1, 0, 0, 1, 0, 1, 0, 1, 1, 1, 1, 0, 0, 1, 1, 1, 0, 0, -1, 1, 0, 1, 1, 1, 0, 0, 0, 0, 1, 0, 1, 1, 0, 0, 0, 1, 0, 0, 1, 1, 0, 0, 1, 0, 1, 0, 0, 0, -1, 1, 0, 1, 1, 1, 1, 1, 1, 1, 0, 0, 1, 0, 0, 0, 0, 1, 1, 0, 0, 0, 1, 1, 1, 0, 1, 1, 0, 0, 1, 0, 0, 1, 0, 1, 1, 1, 0, 0, 0, 0, 1, 1, 0, 1, 1, 0, 1, 1, 1, 0, 1, 0, 0, 1, 1, 1, 1, 1, 0, 0, 0, 0, 0, 1, 0, 1, 0, 1, 1, 0, 1, 1, 1, 1, 1, 0, 1, 0, 1, 1, 1, 1, 1, 1, 1, 1, 0, 0, 0, 1, 1, 1, 0, 1, 0, 0, 0, 0, 0, 0, 1, 0, 0, 0, 0, 1, 1, 1, 0, 1, 0, 1, 1, 0, 0, 1, 0, 0, 0, 0, 0, 1, 0, 1, 1, -1, 1, 0, 1, 0, 1, 0, 0, 1, 1, 0, 0, 0, 0, 0, 0, 1, 1, 0, 1, 1, 0, 1, 0, 0, 1, 0, 1, 0, 1, 0, 1, 1, 0, 1, 1, 1, 1, 1, 1, 1, 0, 0, 0, 1, 1, 0, 0, 0, 1, 1, 0, 0, 0, 0, 1, 0, 0, 1, 0, 0, 0, 1, 1, 0, 1, 1, 1, 0, 0, 0, 1, 0, 0, 0, 0, 1, 0, 1, 1, 1, 1, 1, 1, 0, 1, 1, 1, 0, 0, 0, 0, 0, 0, 0, 0, 0, 0, 0, 0, 0, 0, 0, 0, 1, 1, 0, 1, 0, 0, 1, 1, 1, 1, 1, 0, 1, 0, 1, 0, 1, 0, 0, 0, 1, 0, 1, 0, 1, 0, 0, 1, 0, 0, 0, 0, 1, 1, 1, 1, 0, 1, 1, 1, 1, 0, 0, 0, 1, 0, 1, 0, 1, 0, 0, 0, 0, 1, 1, 1, 0, 1, 0, 1, 0, 0, 1, 0, 1, 1, 1, 1, 0, 0, 1], \"coloraxis\": \"coloraxis\", \"symbol\": \"circle\"}, \"mode\": \"markers\", \"name\": \"\", \"showlegend\": false, \"type\": \"scatter\", \"x\": [-0.04405185436455387, 0.6922304485774229, 0.8281977981485314, 0.17881242677930137, 0.09171539700050081, 0.40156045922972966, 1.3757911943525358, 0.07314713993172753, 0.45860466022215285, -0.4178031928161623, 0.9579878024190793, 1.8524970559962026, 0.5552516585363515, 0.3022727378193304, -0.5247965363754132, 0.8580279728331913, 0.6189365495878882, 1.8927960119108467, 0.11756338555092069, 2.169029362678773, 0.404559599307745, 1.0893364137634811, 2.0669459262896903, 0.5877990025461418, 1.0446289348001918, 2.0490213676870517, -0.29381359169325855, 0.02237367735743013, 0.453000976269902, 0.052039835716421845, 2.1534991209951535, -1.119340367715941, 0.6240688008428807, 0.6746685269538756, 0.11590511420338562, -0.25247367792137004, -0.043682834885529404, 1.7828070067277453, -0.834513603902822, -0.5049155905696417, 1.806489808286964, 0.7605778678586781, 0.29985442632480913, 0.8905252470097118, 0.11826978657090345, 2.0034066514848714, -0.7130367234824387, -1.0452223143606545, 0.9604818564529551, -1.0610029020734704, 0.9290715732995999, 1.3419458957279273, 1.5452174341489513, 0.3985161871037338, 1.764957168546406, 0.9224449677324292, 0.033462363099337374, -0.8919029408079996, 1.0225793504988576, -0.9710888438761187, -0.4791414581275831, 0.8408477423017393, 0.2964391408080224, 0.4919544089308461, 0.0410776773647474, 0.9666350914963895, 1.6831546515793194, 0.43826348511034413, 1.740452092301724, 0.21658112980549674, 1.3012044573186852, -0.64388146241787, 0.9496985380360062, 0.6683706670351148, 2.021650614049808, 0.16473890548509473, -0.009247095964754717, 1.7690167227990816, -1.0104913674247578, 0.702434617830942, 0.9493893492279155, 0.8953640992371084, -0.15095907350779758, 0.28341059943157637, 0.686247114883507, 0.42168660618408793, 0.4135899135206339, 1.0577396586654602, 0.0034514995502456514, 0.2647671231050478, 0.06324742529253595, 1.5658002856216526, -0.2559695512442949, 0.2090468050023805, -1.0197784695319896, 1.1529542320186548, 1.8320855582539974, 1.9886682809991771, -0.16419264277805473, 0.3254160858230126, 0.20654495134218478, -0.02532499674177502, 1.0832306132818155, 0.5278969205172018, -0.7422978282856604, 1.0762354226047843, 0.9804704487371622, -0.7609520671028389, 1.7419705803807746, 1.8949012493453714, -0.49651016735263764, 2.0281830266713725, 0.7295586309939159, 2.0165730120568788, 1.0090524120850748, 0.8181446341926059, 0.47919081281108183, 0.8291064621354819, 1.1864304003533328, 0.7588546454896044, -0.9246852132955579, -0.19973768447083562, 0.940616481696544, 1.8498418744289271, 1.0076808280989389, -0.966543565363345, 1.6638459329092838, 1.6872832037570835, -0.9976923228984038, 0.259718542404861, 1.260522773047423, -0.5812357980233047, 0.5687897887080057, -0.9002692152319717, -0.25582248118023304, -1.1138631338303022, 0.13234844337348306, 0.5078751167554956, -0.11594691159512407, 1.0831469058632226, 0.9771117727121236, -0.32661461873026315, 0.9063697767081207, -0.6203513588550882, -1.1511863158724789, 0.7803374476056197, 0.5955667439508922, -0.1308958348924223, -0.8799966733224986, 1.922550311349182, 1.1750337382650022, 1.5611843539210797, 0.4481765327303048, -0.7585085272396329, 1.051622752860439, -0.8092021378321275, -0.07657329479524141, 0.3643485289920689, 1.3457410648452206, 1.9250783905350084, 2.128778248212025, 0.0706262481600407, 1.0274744413540133, -0.9039386882590633, 1.792856509913606, 0.23340051836624431, 2.0071012074483465, -0.7848715472141286, -0.6052644989118215, 0.05187296202004671, 0.18346525575039668, 0.4357050503972449, -0.19161096380566223, 0.23246382980226774, -0.6089928003474744, 1.1736206804738114, -0.14663398900921182, 0.2432922979322884, 0.2481370154715898, 1.056272964342253, 0.7460124466135112, -0.6474151293600467, -0.2998246700886737, -0.867194684720239, 0.45564543502722626, -1.0050512879881874, 1.3365798384645975, -0.17983124228592573, 1.498489509539917, -0.6805626396188176, -0.6490735256969274, -0.536868509390947, 1.975693655313992, 0.09373483171858374, 1.3769137547348915, 1.6728813869324226, 1.6448138852597582, 1.6705417974900587, 1.457852249627546, 0.976715110638505, -0.9263843640116586, -0.1223731313381849, 0.796228522033799, 0.15475677041477062, 0.7888519002662029, -0.5405845524825568, 0.9305692278235662, 0.9784119369643645, 1.4758331265836486, -1.0200230889843025, 0.04061773858849012, -0.3154849918885533, -1.0223978310048576, 1.3533832696767325, 1.0366465155314608, -0.04510451879071933, 1.8936032702640215, 0.5943858451752875, 1.885006370759624, 0.9389125135270914, 1.7893976221378944, -0.994564259030683, 0.3603982008922027, -0.4408604389520875, -0.5151095273058485, -1.0563766442123035, -1.0351547981205815, 1.9371282674993187, 0.9166357854923943, 0.0083564707053621, -0.12004194518298957, 0.06357500148967771, 0.4229368998509608, 0.9981936878290952, -0.30368999098948596, 1.874315243153208, 0.07222261812178199, 1.6470491039434203, 1.9686415215524833, 1.7843131131506498, 2.0873045148599823, -0.39790391370032724, 0.49229061778845873, 1.3148496627000024, 0.8494651045710285, 0.19481701963916617, 1.9508672322774856, -0.10148376708261908, 0.2825817386035496, 0.938344700184442, -0.33440741651656025, 0.15227499084567703, -0.9103538545522244, 0.7461365894557511, 0.7980254495229531, 1.9701048704314503, 0.652791628022177, 0.15095217091376792, 0.2049831993182284, -1.0351508911672802, -0.8495786602831639, 1.0732469394954367, 0.922355666831577, 1.179959994061442, -0.9293446879170691, -0.6635954598691399, 1.325082692179819, 0.5568693550491782, 0.07750159554668323, 0.12508148690837878, 0.7450034565443301, 0.18786203305535706, 1.0060978915552157, 1.0993371067091071, -0.9080886149685693, 0.5858015888336551, 1.0604130877330895, 0.08128104436835105, 0.2621963091845073, 1.4462645794969085, 1.0643805747202955, 0.2791274315012009, 1.9261906290309088, 0.07587637693033553, 0.2185468890445362, 1.6237768965846349, 0.031333571273604, -1.0991324877898918, 0.05943075792034612, 0.008629185751882248, 0.7067448851525836, 0.8727925257301243, 1.0098726006114973, 0.5993675602813255, 0.1018886995222481, 1.525369983953064, 1.054941483052359, 1.2136000567339893, 0.23308716959053433, 0.15132759806894286, 0.7976359593737035, -0.808584190274535, 1.961108543928387, -0.573486935719889, 0.3974880824749839, -0.6121576257879583, -0.40620203173039965, 0.8059004682255754, 0.577010942050867, 0.8487619173221225, 0.95116813790414, -0.8431589135514671, 0.8345576822705425, 1.8916875532375048, 1.3528302565382921, 0.14554876861527338, 0.74380252328883, 1.6283256315766768, 0.20872539439732596, 0.01575435537698975, 0.08103530943841337, 0.9398855834587191, 1.8681586907315795, 0.2982728817544293, 2.1277507888341294, 1.846066968959805, 0.905843066983084, 0.4764277360194793, 0.05079807673102646, -0.9159944605722037, 0.7547580557250606, 0.09090431203597911, -0.9855961407261281, 1.1645508833612985, 0.45777725614298304, -0.0457775363766378, 0.7800780371174919, 0.9360900798447133, 0.6689785958971225, 0.33478569722706114, 0.0225989916723915, 0.8552106280976605, 0.40095040462607473, 0.2905170667683744, 1.5057375454140596, 0.6567229379131222, 1.5589905162770326, 0.4463256730065187, 0.3209014155840095, 0.8604722047896834, 1.3193048015154476, 0.23241761555025903, 0.6689344099794808, -0.9368801423457124, 1.6369396239440042, 1.8250086156767336, -0.4044565529876215, 1.0911356663298046, 1.9771635326594774, 1.2487446961310449, 0.2680686577935133, 0.6096776291794008, 0.519633282205532, -0.8067740153047347, -1.0655947175512142, 2.0397784183254832, -1.0984313739240208, -1.0115042991719052, 0.593417605519658, 0.6893488089833144, 1.5811433931248629, 0.13264402366925823, 0.17583821874143654, 0.7968700476436335, 1.2559789044345149, -0.72730191303691, 0.6671056801212313, -1.0039351561663472, 0.803862955043394, 1.755527350459414, 0.4722598345644735, 1.1014506588758581, -0.8515613634567728, -0.344768061166429, -0.6240556307959167, 1.668619917195012, 0.09982365388048871, 1.9207005824962247, 0.21711474696683666, 1.6106948141690762, 0.06152089034007621, -0.3183138362478756, 2.051806694384509, 1.1621430615794484, -0.7693711814576643, 0.42481712855727227, 0.06612998562530321, 0.7241611107656446, 1.929872146707251, -0.0747996734498523], \"xaxis\": \"x\", \"y\": [0.43607778101760863, -0.4011194632440612, 0.5415218892178506, 0.26886231388723847, 0.9461179874453445, 0.9268166356399812, -0.4513290871112877, 0.9168823205037456, -0.3476620899215156, 0.9969302258350214, 0.12114286887719278, 0.1599189780891384, 0.965685772429867, 0.9301292941685252, 0.7897125490862673, 0.6755129042792798, -0.6523278952709434, 0.158747858462253, 0.10550256974316223, 0.32216590687738944, 0.95239331683874, 0.28773650388840166, 0.5549359778342985, -0.4275752586735255, 0.11362423171192629, 0.5587208679105828, 0.8871058855450891, -0.011244065183244362, -0.37282399872071736, 0.8683552101965917, 0.3387743351635715, 0.012114675029737565, -0.3249173888665629, 0.7648464577460884, -0.03455360646626823, 1.0157254753141933, 0.789928213280756, -0.23043958881624316, 0.5482327588836816, 0.8158505869016326, 0.25595173111671626, 0.8490047684040152, 0.7977673987470991, 0.7099043476407715, 0.8778058534457707, 0.2223803368419529, 0.9233940786148171, 0.2789271744465052, 0.2598976348965632, 0.4259623231575948, 0.7044894326221837, -0.43467545128738916, -0.2025606431151623, 0.7578228472730179, 0.12339506639239467, 0.6012696775757825, 0.19067157702276952, 0.4960748810175608, 0.36066014634971644, 0.6405981687615638, 1.0093246672652925, -0.683810686127401, -0.41241573507105345, 0.9901126903122439, 1.0533222871839638, 0.5834251609429104, -0.3177480119227779, -0.38340484123539237, 0.5354200429219066, 0.9736687007203508, -0.4195693110355442, 0.8241928619908845, 0.023234430827277622, 0.8047279428402697, 0.3481653007891365, -0.18751597646936197, 0.03742781347292015, 0.20281525401323908, 0.26766467034661684, -0.5634133844961742, 0.042395034693238194, 0.12029412831425107, 0.5363974171515313, -0.1450026982659779, -0.40495076112290174, 0.8574857282534363, -0.2320469450349981, -0.5010974292201972, 0.9232315981434537, 0.9512736717500212, 0.013266377828641828, -0.15587107312135612, 0.9769812759008681, 0.24958736254698483, 0.4310704881654892, -0.5388390359189088, 0.007344939439863404, 0.17873633391097563, -0.10434745860853986, 1.0154113850377267, 0.07817393049748056, 0.947301799237025, 0.30243413363940314, 0.9436475009919664, 0.688066258718179, 0.31552877308582405, 0.25009378313745445, 1.0259518073320897, -0.08661529391898053, -0.18713179029828392, 1.020847176615835, 0.37029889398262206, -0.37240717905441106, 0.15904904573753528, -0.7054738367924506, 0.7016062224228446, 0.8667912886886442, -0.5651271337464877, -0.519764696461732, -0.45614703155803, 0.6659339268772327, 1.0933060138877637, 0.25749074749584544, 0.006391413083718128, 0.34117127567420824, 0.28801758688468887, -0.21466511695958101, -0.390961809823812, 0.48813212785537713, -0.14858140113014096, -0.4766645861004665, 0.6748887284276055, -0.2677047542484201, 0.2619201140227827, 1.0180954146828698, -0.08705661343128906, 0.00912932714886762, -0.48441334225022337, 0.24031371708309332, -0.7040686518936875, 0.40745819890591284, 0.7493900295321627, -0.3263153064040736, 0.8387098635497955, -0.06624355977916652, -0.3862360517512149, 0.6386728106302391, 0.9641399984129664, 0.283554573861271, -0.023703499695742758, 0.08712904314172767, -0.2802004578206971, -0.16445885394768184, 0.748141806207555, 0.07573563016822103, 0.13687902584671832, 1.0123246744592231, 0.9587332861968995, -0.6347527000227957, 0.2703337265054317, 0.3285139273519466, 0.27277848784097924, -0.5378165485798784, 0.4860442990090752, -0.09965088293999937, 0.9718404298026123, 0.14070793064631937, 0.5879530835073661, 0.7955689362691735, 0.11809294944569163, 0.863886260883799, 0.947112468815042, 1.0144581477653083, 0.958636539202684, 0.8538968611679508, -0.26267904632598416, 1.098915276229116, -0.2985209827634067, 1.0221280706067108, 0.26708618818460234, 0.6027220092407295, 0.8686578241100799, 1.0958782230964785, 0.3372444433127365, 0.8287075193222752, 0.19988054900735763, -0.4000759499004397, 0.27210742336973803, -0.5554431740207553, 0.08132969177833893, 0.8815049333413835, 0.9423719015542635, 0.22898137437768737, 0.9093489420473164, -0.3990335438365677, -0.28120663796327605, -0.42347286188539957, -0.1316839261626955, -0.22512481834440223, -0.5487601936944003, 0.21098414319755895, 0.34272142754523316, -0.6021366375822279, 0.25817568609572544, -0.5251206254974262, 0.9181117639438922, 0.5398249074259076, 0.25352612158237964, -0.42390792934014865, 0.22748717279219446, 0.19092611177757238, 1.0083104690182787, 0.4011067930232193, -0.47274322766457466, -0.4985476580125366, 0.7991491020390376, 0.14287399006123414, -0.528630928174813, 0.10420737924262266, -0.5135540452630449, -0.26387131943612496, 0.6713911383163779, -0.12579009793677248, 0.7384652081800833, 0.8471182066753098, -0.3568205299359881, 0.05539817597695543, 0.3675642914202532, 0.12373202160019528, 0.5320457749816218, 0.7527784391323216, -0.07375254500638109, -0.03656097531307502, 0.21096138080488983, 1.0459161417121352, -0.05318329701654417, 0.13627157664599823, -0.16757444093230295, 0.10291719279716784, -0.1520068909668203, 0.28530735074108815, 0.982030294351673, 0.8693150287473763, -0.44725774744016616, 0.5435623850119276, 1.0914306332660042, 0.3900256213166849, 0.8954007189495029, -0.16532079284824672, -0.6327445340710072, 0.872152223717397, 0.02198057941962034, 0.11457950315220794, -0.5110142065757868, 0.7023762060734993, 0.06999163949717546, 0.8679890511284588, 0.9735792211196405, -0.37334478387442843, 0.2352123895851974, 0.5257157557542287, 0.0966570840121739, 0.3915777156856398, 0.40620951502008384, 0.5563002807945711, 0.9287284123514572, -0.4694932597705525, -0.28647303390245527, 0.2177456466088653, 1.0107712649386078, 0.7090896365466173, -0.20224818473919925, -0.6716737343647, -0.5255392480328201, 0.220602393102044, 0.5679185764822606, -0.664348506659051, 0.5655440149193591, -0.2605001465555224, -0.44476972105908064, 0.16411977735553548, -0.26884664450584866, -0.034101486858117314, 1.1367673776383977, 0.20383370529796563, -0.33120103482858776, 0.24276731510751107, 0.3998281611302054, 0.9409926919168601, 0.24999982561095813, 0.7849651477267724, 0.40450279943881134, 0.6137062126291012, -0.5724314430588369, 0.49498808243247494, 0.0019297974426112918, 0.22300462646561692, -0.3417331989379858, 0.1275069459089364, -0.23883742575743933, -0.3839793843645204, 0.549473350974221, 0.040814972387245074, 0.7653864752163864, 0.8866068075128529, 0.8269448471682256, 0.6919572681002077, 0.09598584740679728, 0.921427860837215, -0.4363056984528748, 0.13090585233804364, 0.708073706544875, 0.5953673442120604, 0.09509014818593642, -0.4265362405070112, 0.2169283752033758, -0.4984572915678237, -0.2528451566092468, 0.08119429053081831, 0.23973280995637058, 0.5570725509248531, -0.6683544103342967, -0.02515342308285237, -0.12638098881700305, 0.42675405509515674, 0.10121826279463625, -0.5700794902937782, -0.38939614448640203, 0.46414246315263463, 0.662046710981531, 0.6381008654279617, 0.23872062239361602, 0.24465186146853457, -0.40249503600795367, -0.10078345978288639, 1.060030149286084, 0.7488019569243001, -0.03162831609870871, 0.6036520491736346, 0.8900372542109308, 0.40528001022145993, 0.5669552804252124, -0.27463813164370005, 1.025321115737968, -0.37329350355500024, 0.6722832366601202, -0.23748233613720784, -0.328051945416493, -0.12664039057205045, 0.163902767064797, -0.40253376846929073, 0.9210944649201596, -0.3160694603337302, 0.49356261972143056, -0.4744664601030904, 0.5437106356516351, 0.8096130028026692, -0.6172332210395521, 0.3666784091668318, -0.36527871113721005, -0.07010628425274437, 0.7174606455400276, 0.6532250811403223, 0.29157261562178366, 0.2212330253379633, 0.5374177752148195, 0.44471746141975255, 0.47152389058042293, 0.6742885813462738, 0.6896349026977713, -0.1694959403716835, -0.158979629866297, -0.1711557573059312, 0.3571278338151201, -0.5769106371591088, 0.4057417900374254, -0.4360539225120356, 0.00817004076966052, -0.3328595135185971, -0.19911487236295916, -0.19863427705176354, -0.486249852261357, 0.7009224597105804, 0.8202303548674952, 0.6964627164785605, -0.20106864327115975, 1.055221255419995, 0.05914098492307132, 1.068621936007729, -0.23393265974914823, 0.26358525411585665, 0.995160530592945, 0.6307986637140104, 0.28999256891276015, 0.2900083101499388, 1.0503355163432597, 0.9487101716012722, -0.28599311361127777, -0.26332583701466633, 0.7965550564269417], \"yaxis\": \"y\"}],\n",
              "                        {\"coloraxis\": {\"colorbar\": {\"title\": {\"text\": \"dbscan_label\"}}, \"colorscale\": [[0.0, \"#0d0887\"], [0.1111111111111111, \"#46039f\"], [0.2222222222222222, \"#7201a8\"], [0.3333333333333333, \"#9c179e\"], [0.4444444444444444, \"#bd3786\"], [0.5555555555555556, \"#d8576b\"], [0.6666666666666666, \"#ed7953\"], [0.7777777777777778, \"#fb9f3a\"], [0.8888888888888888, \"#fdca26\"], [1.0, \"#f0f921\"]]}, \"height\": 500, \"legend\": {\"tracegroupgap\": 0}, \"margin\": {\"t\": 60}, \"template\": {\"data\": {\"bar\": [{\"error_x\": {\"color\": \"#2a3f5f\"}, \"error_y\": {\"color\": \"#2a3f5f\"}, \"marker\": {\"line\": {\"color\": \"#E5ECF6\", \"width\": 0.5}}, \"type\": \"bar\"}], \"barpolar\": [{\"marker\": {\"line\": {\"color\": \"#E5ECF6\", \"width\": 0.5}}, \"type\": \"barpolar\"}], \"carpet\": [{\"aaxis\": {\"endlinecolor\": \"#2a3f5f\", \"gridcolor\": \"white\", \"linecolor\": \"white\", \"minorgridcolor\": \"white\", \"startlinecolor\": \"#2a3f5f\"}, \"baxis\": {\"endlinecolor\": \"#2a3f5f\", \"gridcolor\": \"white\", \"linecolor\": \"white\", \"minorgridcolor\": \"white\", \"startlinecolor\": \"#2a3f5f\"}, \"type\": \"carpet\"}], \"choropleth\": [{\"colorbar\": {\"outlinewidth\": 0, \"ticks\": \"\"}, \"type\": \"choropleth\"}], \"contour\": [{\"colorbar\": {\"outlinewidth\": 0, \"ticks\": \"\"}, \"colorscale\": [[0.0, \"#0d0887\"], [0.1111111111111111, \"#46039f\"], [0.2222222222222222, \"#7201a8\"], [0.3333333333333333, \"#9c179e\"], [0.4444444444444444, \"#bd3786\"], [0.5555555555555556, \"#d8576b\"], [0.6666666666666666, \"#ed7953\"], [0.7777777777777778, \"#fb9f3a\"], [0.8888888888888888, \"#fdca26\"], [1.0, \"#f0f921\"]], \"type\": \"contour\"}], \"contourcarpet\": [{\"colorbar\": {\"outlinewidth\": 0, \"ticks\": \"\"}, \"type\": \"contourcarpet\"}], \"heatmap\": [{\"colorbar\": {\"outlinewidth\": 0, \"ticks\": \"\"}, \"colorscale\": [[0.0, \"#0d0887\"], [0.1111111111111111, \"#46039f\"], [0.2222222222222222, \"#7201a8\"], [0.3333333333333333, \"#9c179e\"], [0.4444444444444444, \"#bd3786\"], [0.5555555555555556, \"#d8576b\"], [0.6666666666666666, \"#ed7953\"], [0.7777777777777778, \"#fb9f3a\"], [0.8888888888888888, \"#fdca26\"], [1.0, \"#f0f921\"]], \"type\": \"heatmap\"}], \"heatmapgl\": [{\"colorbar\": {\"outlinewidth\": 0, \"ticks\": \"\"}, \"colorscale\": [[0.0, \"#0d0887\"], [0.1111111111111111, \"#46039f\"], [0.2222222222222222, \"#7201a8\"], [0.3333333333333333, \"#9c179e\"], [0.4444444444444444, \"#bd3786\"], [0.5555555555555556, \"#d8576b\"], [0.6666666666666666, \"#ed7953\"], [0.7777777777777778, \"#fb9f3a\"], [0.8888888888888888, \"#fdca26\"], [1.0, \"#f0f921\"]], \"type\": \"heatmapgl\"}], \"histogram\": [{\"marker\": {\"colorbar\": {\"outlinewidth\": 0, \"ticks\": \"\"}}, \"type\": \"histogram\"}], \"histogram2d\": [{\"colorbar\": {\"outlinewidth\": 0, \"ticks\": \"\"}, \"colorscale\": [[0.0, \"#0d0887\"], [0.1111111111111111, \"#46039f\"], [0.2222222222222222, \"#7201a8\"], [0.3333333333333333, \"#9c179e\"], [0.4444444444444444, \"#bd3786\"], [0.5555555555555556, \"#d8576b\"], [0.6666666666666666, \"#ed7953\"], [0.7777777777777778, \"#fb9f3a\"], [0.8888888888888888, \"#fdca26\"], [1.0, \"#f0f921\"]], \"type\": \"histogram2d\"}], \"histogram2dcontour\": [{\"colorbar\": {\"outlinewidth\": 0, \"ticks\": \"\"}, \"colorscale\": [[0.0, \"#0d0887\"], [0.1111111111111111, \"#46039f\"], [0.2222222222222222, \"#7201a8\"], [0.3333333333333333, \"#9c179e\"], [0.4444444444444444, \"#bd3786\"], [0.5555555555555556, \"#d8576b\"], [0.6666666666666666, \"#ed7953\"], [0.7777777777777778, \"#fb9f3a\"], [0.8888888888888888, \"#fdca26\"], [1.0, \"#f0f921\"]], \"type\": \"histogram2dcontour\"}], \"mesh3d\": [{\"colorbar\": {\"outlinewidth\": 0, \"ticks\": \"\"}, \"type\": \"mesh3d\"}], \"parcoords\": [{\"line\": {\"colorbar\": {\"outlinewidth\": 0, \"ticks\": \"\"}}, \"type\": \"parcoords\"}], \"pie\": [{\"automargin\": true, \"type\": \"pie\"}], \"scatter\": [{\"marker\": {\"colorbar\": {\"outlinewidth\": 0, \"ticks\": \"\"}}, \"type\": \"scatter\"}], \"scatter3d\": [{\"line\": {\"colorbar\": {\"outlinewidth\": 0, \"ticks\": \"\"}}, \"marker\": {\"colorbar\": {\"outlinewidth\": 0, \"ticks\": \"\"}}, \"type\": \"scatter3d\"}], \"scattercarpet\": [{\"marker\": {\"colorbar\": {\"outlinewidth\": 0, \"ticks\": \"\"}}, \"type\": \"scattercarpet\"}], \"scattergeo\": [{\"marker\": {\"colorbar\": {\"outlinewidth\": 0, \"ticks\": \"\"}}, \"type\": \"scattergeo\"}], \"scattergl\": [{\"marker\": {\"colorbar\": {\"outlinewidth\": 0, \"ticks\": \"\"}}, \"type\": \"scattergl\"}], \"scattermapbox\": [{\"marker\": {\"colorbar\": {\"outlinewidth\": 0, \"ticks\": \"\"}}, \"type\": \"scattermapbox\"}], \"scatterpolar\": [{\"marker\": {\"colorbar\": {\"outlinewidth\": 0, \"ticks\": \"\"}}, \"type\": \"scatterpolar\"}], \"scatterpolargl\": [{\"marker\": {\"colorbar\": {\"outlinewidth\": 0, \"ticks\": \"\"}}, \"type\": \"scatterpolargl\"}], \"scatterternary\": [{\"marker\": {\"colorbar\": {\"outlinewidth\": 0, \"ticks\": \"\"}}, \"type\": \"scatterternary\"}], \"surface\": [{\"colorbar\": {\"outlinewidth\": 0, \"ticks\": \"\"}, \"colorscale\": [[0.0, \"#0d0887\"], [0.1111111111111111, \"#46039f\"], [0.2222222222222222, \"#7201a8\"], [0.3333333333333333, \"#9c179e\"], [0.4444444444444444, \"#bd3786\"], [0.5555555555555556, \"#d8576b\"], [0.6666666666666666, \"#ed7953\"], [0.7777777777777778, \"#fb9f3a\"], [0.8888888888888888, \"#fdca26\"], [1.0, \"#f0f921\"]], \"type\": \"surface\"}], \"table\": [{\"cells\": {\"fill\": {\"color\": \"#EBF0F8\"}, \"line\": {\"color\": \"white\"}}, \"header\": {\"fill\": {\"color\": \"#C8D4E3\"}, \"line\": {\"color\": \"white\"}}, \"type\": \"table\"}]}, \"layout\": {\"annotationdefaults\": {\"arrowcolor\": \"#2a3f5f\", \"arrowhead\": 0, \"arrowwidth\": 1}, \"coloraxis\": {\"colorbar\": {\"outlinewidth\": 0, \"ticks\": \"\"}}, \"colorscale\": {\"diverging\": [[0, \"#8e0152\"], [0.1, \"#c51b7d\"], [0.2, \"#de77ae\"], [0.3, \"#f1b6da\"], [0.4, \"#fde0ef\"], [0.5, \"#f7f7f7\"], [0.6, \"#e6f5d0\"], [0.7, \"#b8e186\"], [0.8, \"#7fbc41\"], [0.9, \"#4d9221\"], [1, \"#276419\"]], \"sequential\": [[0.0, \"#0d0887\"], [0.1111111111111111, \"#46039f\"], [0.2222222222222222, \"#7201a8\"], [0.3333333333333333, \"#9c179e\"], [0.4444444444444444, \"#bd3786\"], [0.5555555555555556, \"#d8576b\"], [0.6666666666666666, \"#ed7953\"], [0.7777777777777778, \"#fb9f3a\"], [0.8888888888888888, \"#fdca26\"], [1.0, \"#f0f921\"]], \"sequentialminus\": [[0.0, \"#0d0887\"], [0.1111111111111111, \"#46039f\"], [0.2222222222222222, \"#7201a8\"], [0.3333333333333333, \"#9c179e\"], [0.4444444444444444, \"#bd3786\"], [0.5555555555555556, \"#d8576b\"], [0.6666666666666666, \"#ed7953\"], [0.7777777777777778, \"#fb9f3a\"], [0.8888888888888888, \"#fdca26\"], [1.0, \"#f0f921\"]]}, \"colorway\": [\"#636efa\", \"#EF553B\", \"#00cc96\", \"#ab63fa\", \"#FFA15A\", \"#19d3f3\", \"#FF6692\", \"#B6E880\", \"#FF97FF\", \"#FECB52\"], \"font\": {\"color\": \"#2a3f5f\"}, \"geo\": {\"bgcolor\": \"white\", \"lakecolor\": \"white\", \"landcolor\": \"#E5ECF6\", \"showlakes\": true, \"showland\": true, \"subunitcolor\": \"white\"}, \"hoverlabel\": {\"align\": \"left\"}, \"hovermode\": \"closest\", \"mapbox\": {\"style\": \"light\"}, \"paper_bgcolor\": \"white\", \"plot_bgcolor\": \"#E5ECF6\", \"polar\": {\"angularaxis\": {\"gridcolor\": \"white\", \"linecolor\": \"white\", \"ticks\": \"\"}, \"bgcolor\": \"#E5ECF6\", \"radialaxis\": {\"gridcolor\": \"white\", \"linecolor\": \"white\", \"ticks\": \"\"}}, \"scene\": {\"xaxis\": {\"backgroundcolor\": \"#E5ECF6\", \"gridcolor\": \"white\", \"gridwidth\": 2, \"linecolor\": \"white\", \"showbackground\": true, \"ticks\": \"\", \"zerolinecolor\": \"white\"}, \"yaxis\": {\"backgroundcolor\": \"#E5ECF6\", \"gridcolor\": \"white\", \"gridwidth\": 2, \"linecolor\": \"white\", \"showbackground\": true, \"ticks\": \"\", \"zerolinecolor\": \"white\"}, \"zaxis\": {\"backgroundcolor\": \"#E5ECF6\", \"gridcolor\": \"white\", \"gridwidth\": 2, \"linecolor\": \"white\", \"showbackground\": true, \"ticks\": \"\", \"zerolinecolor\": \"white\"}}, \"shapedefaults\": {\"line\": {\"color\": \"#2a3f5f\"}}, \"ternary\": {\"aaxis\": {\"gridcolor\": \"white\", \"linecolor\": \"white\", \"ticks\": \"\"}, \"baxis\": {\"gridcolor\": \"white\", \"linecolor\": \"white\", \"ticks\": \"\"}, \"bgcolor\": \"#E5ECF6\", \"caxis\": {\"gridcolor\": \"white\", \"linecolor\": \"white\", \"ticks\": \"\"}}, \"title\": {\"x\": 0.05}, \"xaxis\": {\"automargin\": true, \"gridcolor\": \"white\", \"linecolor\": \"white\", \"ticks\": \"\", \"title\": {\"standoff\": 15}, \"zerolinecolor\": \"white\", \"zerolinewidth\": 2}, \"yaxis\": {\"automargin\": true, \"gridcolor\": \"white\", \"linecolor\": \"white\", \"ticks\": \"\", \"title\": {\"standoff\": 15}, \"zerolinecolor\": \"white\", \"zerolinewidth\": 2}}}, \"width\": 600, \"xaxis\": {\"anchor\": \"y\", \"domain\": [0.0, 1.0], \"title\": {\"text\": \"x\"}}, \"yaxis\": {\"anchor\": \"x\", \"domain\": [0.0, 1.0], \"title\": {\"text\": \"y\"}}},\n",
              "                        {\"responsive\": true}\n",
              "                    ).then(function(){\n",
              "                            \n",
              "var gd = document.getElementById('c7546780-618e-48ef-a522-3ee1b9b8bf23');\n",
              "var x = new MutationObserver(function (mutations, observer) {{\n",
              "        var display = window.getComputedStyle(gd).display;\n",
              "        if (!display || display === 'none') {{\n",
              "            console.log([gd, 'removed!']);\n",
              "            Plotly.purge(gd);\n",
              "            observer.disconnect();\n",
              "        }}\n",
              "}});\n",
              "\n",
              "// Listen for the removal of the full notebook cells\n",
              "var notebookContainer = gd.closest('#notebook-container');\n",
              "if (notebookContainer) {{\n",
              "    x.observe(notebookContainer, {childList: true});\n",
              "}}\n",
              "\n",
              "// Listen for the clearing of the current output cell\n",
              "var outputEl = gd.closest('.output');\n",
              "if (outputEl) {{\n",
              "    x.observe(outputEl, {childList: true});\n",
              "}}\n",
              "\n",
              "                        })\n",
              "                };\n",
              "                \n",
              "            </script>\n",
              "        </div>\n",
              "</body>\n",
              "</html>"
            ]
          },
          "metadata": {
            "tags": []
          }
        },
        {
          "output_type": "stream",
          "text": [
            "min_samples:30 ->> label 수 : 1\n"
          ],
          "name": "stdout"
        },
        {
          "output_type": "display_data",
          "data": {
            "text/html": [
              "<html>\n",
              "<head><meta charset=\"utf-8\" /></head>\n",
              "<body>\n",
              "    <div>\n",
              "            <script src=\"https://cdnjs.cloudflare.com/ajax/libs/mathjax/2.7.5/MathJax.js?config=TeX-AMS-MML_SVG\"></script><script type=\"text/javascript\">if (window.MathJax) {MathJax.Hub.Config({SVG: {font: \"STIX-Web\"}});}</script>\n",
              "                <script type=\"text/javascript\">window.PlotlyConfig = {MathJaxConfig: 'local'};</script>\n",
              "        <script src=\"https://cdn.plot.ly/plotly-latest.min.js\"></script>    \n",
              "            <div id=\"4c782c09-f53e-4920-bccc-4712508a41f9\" class=\"plotly-graph-div\" style=\"height:500px; width:600px;\"></div>\n",
              "            <script type=\"text/javascript\">\n",
              "                \n",
              "                    window.PLOTLYENV=window.PLOTLYENV || {};\n",
              "                    \n",
              "                if (document.getElementById(\"4c782c09-f53e-4920-bccc-4712508a41f9\")) {\n",
              "                    Plotly.newPlot(\n",
              "                        '4c782c09-f53e-4920-bccc-4712508a41f9',\n",
              "                        [{\"hoverlabel\": {\"namelength\": 0}, \"hovertemplate\": \"x=%{x}<br>y=%{y}<br>dbscan_label=%{marker.color}\", \"legendgroup\": \"\", \"marker\": {\"color\": [-1, -1, -1, -1, -1, -1, -1, -1, -1, -1, -1, -1, -1, -1, -1, -1, -1, -1, -1, -1, -1, -1, -1, -1, -1, -1, -1, -1, -1, -1, -1, -1, -1, -1, -1, -1, -1, -1, -1, -1, -1, -1, -1, -1, -1, -1, -1, -1, -1, -1, -1, -1, -1, -1, -1, -1, -1, -1, -1, -1, -1, -1, -1, -1, -1, -1, -1, -1, -1, -1, -1, -1, -1, -1, -1, -1, -1, -1, -1, -1, -1, -1, -1, -1, -1, -1, -1, -1, -1, -1, -1, -1, -1, -1, -1, -1, -1, -1, -1, -1, -1, -1, -1, -1, -1, -1, -1, -1, -1, -1, -1, -1, -1, -1, -1, -1, -1, -1, -1, -1, -1, -1, -1, -1, -1, -1, -1, -1, -1, -1, -1, -1, -1, -1, -1, -1, -1, -1, -1, -1, -1, -1, -1, -1, -1, -1, -1, -1, -1, -1, -1, -1, -1, -1, -1, -1, -1, -1, -1, -1, -1, -1, -1, -1, -1, -1, -1, -1, -1, -1, -1, -1, -1, -1, -1, -1, -1, -1, -1, -1, -1, -1, -1, -1, -1, -1, -1, -1, -1, -1, -1, -1, -1, -1, -1, -1, -1, -1, -1, -1, -1, -1, -1, -1, -1, -1, -1, -1, -1, -1, -1, -1, -1, -1, -1, -1, -1, -1, -1, -1, -1, -1, -1, -1, -1, -1, -1, -1, -1, -1, -1, -1, -1, -1, -1, -1, -1, -1, -1, -1, -1, -1, -1, -1, -1, -1, -1, -1, -1, -1, -1, -1, -1, -1, -1, -1, -1, -1, -1, -1, -1, -1, -1, -1, -1, -1, -1, -1, -1, -1, -1, -1, -1, -1, -1, -1, -1, -1, -1, -1, -1, -1, -1, -1, -1, -1, -1, -1, -1, -1, -1, -1, -1, -1, -1, -1, -1, -1, -1, -1, -1, -1, -1, -1, -1, -1, -1, -1, -1, -1, -1, -1, -1, -1, -1, -1, -1, -1, -1, -1, -1, -1, -1, -1, -1, -1, -1, -1, -1, -1, -1, -1, -1, -1, -1, -1, -1, -1, -1, -1, -1, -1, -1, -1, -1, -1, -1, -1, -1, -1, -1, -1, -1, -1, -1, -1, -1, -1, -1, -1, -1, -1, -1, -1, -1, -1, -1, -1, -1, -1, -1, -1, -1, -1, -1, -1, -1, -1, -1, -1, -1, -1, -1, -1, -1, -1, -1, -1, -1, -1, -1, -1, -1, -1, -1, -1, -1, -1, -1, -1], \"coloraxis\": \"coloraxis\", \"symbol\": \"circle\"}, \"mode\": \"markers\", \"name\": \"\", \"showlegend\": false, \"type\": \"scatter\", \"x\": [-0.04405185436455387, 0.6922304485774229, 0.8281977981485314, 0.17881242677930137, 0.09171539700050081, 0.40156045922972966, 1.3757911943525358, 0.07314713993172753, 0.45860466022215285, -0.4178031928161623, 0.9579878024190793, 1.8524970559962026, 0.5552516585363515, 0.3022727378193304, -0.5247965363754132, 0.8580279728331913, 0.6189365495878882, 1.8927960119108467, 0.11756338555092069, 2.169029362678773, 0.404559599307745, 1.0893364137634811, 2.0669459262896903, 0.5877990025461418, 1.0446289348001918, 2.0490213676870517, -0.29381359169325855, 0.02237367735743013, 0.453000976269902, 0.052039835716421845, 2.1534991209951535, -1.119340367715941, 0.6240688008428807, 0.6746685269538756, 0.11590511420338562, -0.25247367792137004, -0.043682834885529404, 1.7828070067277453, -0.834513603902822, -0.5049155905696417, 1.806489808286964, 0.7605778678586781, 0.29985442632480913, 0.8905252470097118, 0.11826978657090345, 2.0034066514848714, -0.7130367234824387, -1.0452223143606545, 0.9604818564529551, -1.0610029020734704, 0.9290715732995999, 1.3419458957279273, 1.5452174341489513, 0.3985161871037338, 1.764957168546406, 0.9224449677324292, 0.033462363099337374, -0.8919029408079996, 1.0225793504988576, -0.9710888438761187, -0.4791414581275831, 0.8408477423017393, 0.2964391408080224, 0.4919544089308461, 0.0410776773647474, 0.9666350914963895, 1.6831546515793194, 0.43826348511034413, 1.740452092301724, 0.21658112980549674, 1.3012044573186852, -0.64388146241787, 0.9496985380360062, 0.6683706670351148, 2.021650614049808, 0.16473890548509473, -0.009247095964754717, 1.7690167227990816, -1.0104913674247578, 0.702434617830942, 0.9493893492279155, 0.8953640992371084, -0.15095907350779758, 0.28341059943157637, 0.686247114883507, 0.42168660618408793, 0.4135899135206339, 1.0577396586654602, 0.0034514995502456514, 0.2647671231050478, 0.06324742529253595, 1.5658002856216526, -0.2559695512442949, 0.2090468050023805, -1.0197784695319896, 1.1529542320186548, 1.8320855582539974, 1.9886682809991771, -0.16419264277805473, 0.3254160858230126, 0.20654495134218478, -0.02532499674177502, 1.0832306132818155, 0.5278969205172018, -0.7422978282856604, 1.0762354226047843, 0.9804704487371622, -0.7609520671028389, 1.7419705803807746, 1.8949012493453714, -0.49651016735263764, 2.0281830266713725, 0.7295586309939159, 2.0165730120568788, 1.0090524120850748, 0.8181446341926059, 0.47919081281108183, 0.8291064621354819, 1.1864304003533328, 0.7588546454896044, -0.9246852132955579, -0.19973768447083562, 0.940616481696544, 1.8498418744289271, 1.0076808280989389, -0.966543565363345, 1.6638459329092838, 1.6872832037570835, -0.9976923228984038, 0.259718542404861, 1.260522773047423, -0.5812357980233047, 0.5687897887080057, -0.9002692152319717, -0.25582248118023304, -1.1138631338303022, 0.13234844337348306, 0.5078751167554956, -0.11594691159512407, 1.0831469058632226, 0.9771117727121236, -0.32661461873026315, 0.9063697767081207, -0.6203513588550882, -1.1511863158724789, 0.7803374476056197, 0.5955667439508922, -0.1308958348924223, -0.8799966733224986, 1.922550311349182, 1.1750337382650022, 1.5611843539210797, 0.4481765327303048, -0.7585085272396329, 1.051622752860439, -0.8092021378321275, -0.07657329479524141, 0.3643485289920689, 1.3457410648452206, 1.9250783905350084, 2.128778248212025, 0.0706262481600407, 1.0274744413540133, -0.9039386882590633, 1.792856509913606, 0.23340051836624431, 2.0071012074483465, -0.7848715472141286, -0.6052644989118215, 0.05187296202004671, 0.18346525575039668, 0.4357050503972449, -0.19161096380566223, 0.23246382980226774, -0.6089928003474744, 1.1736206804738114, -0.14663398900921182, 0.2432922979322884, 0.2481370154715898, 1.056272964342253, 0.7460124466135112, -0.6474151293600467, -0.2998246700886737, -0.867194684720239, 0.45564543502722626, -1.0050512879881874, 1.3365798384645975, -0.17983124228592573, 1.498489509539917, -0.6805626396188176, -0.6490735256969274, -0.536868509390947, 1.975693655313992, 0.09373483171858374, 1.3769137547348915, 1.6728813869324226, 1.6448138852597582, 1.6705417974900587, 1.457852249627546, 0.976715110638505, -0.9263843640116586, -0.1223731313381849, 0.796228522033799, 0.15475677041477062, 0.7888519002662029, -0.5405845524825568, 0.9305692278235662, 0.9784119369643645, 1.4758331265836486, -1.0200230889843025, 0.04061773858849012, -0.3154849918885533, -1.0223978310048576, 1.3533832696767325, 1.0366465155314608, -0.04510451879071933, 1.8936032702640215, 0.5943858451752875, 1.885006370759624, 0.9389125135270914, 1.7893976221378944, -0.994564259030683, 0.3603982008922027, -0.4408604389520875, -0.5151095273058485, -1.0563766442123035, -1.0351547981205815, 1.9371282674993187, 0.9166357854923943, 0.0083564707053621, -0.12004194518298957, 0.06357500148967771, 0.4229368998509608, 0.9981936878290952, -0.30368999098948596, 1.874315243153208, 0.07222261812178199, 1.6470491039434203, 1.9686415215524833, 1.7843131131506498, 2.0873045148599823, -0.39790391370032724, 0.49229061778845873, 1.3148496627000024, 0.8494651045710285, 0.19481701963916617, 1.9508672322774856, -0.10148376708261908, 0.2825817386035496, 0.938344700184442, -0.33440741651656025, 0.15227499084567703, -0.9103538545522244, 0.7461365894557511, 0.7980254495229531, 1.9701048704314503, 0.652791628022177, 0.15095217091376792, 0.2049831993182284, -1.0351508911672802, -0.8495786602831639, 1.0732469394954367, 0.922355666831577, 1.179959994061442, -0.9293446879170691, -0.6635954598691399, 1.325082692179819, 0.5568693550491782, 0.07750159554668323, 0.12508148690837878, 0.7450034565443301, 0.18786203305535706, 1.0060978915552157, 1.0993371067091071, -0.9080886149685693, 0.5858015888336551, 1.0604130877330895, 0.08128104436835105, 0.2621963091845073, 1.4462645794969085, 1.0643805747202955, 0.2791274315012009, 1.9261906290309088, 0.07587637693033553, 0.2185468890445362, 1.6237768965846349, 0.031333571273604, -1.0991324877898918, 0.05943075792034612, 0.008629185751882248, 0.7067448851525836, 0.8727925257301243, 1.0098726006114973, 0.5993675602813255, 0.1018886995222481, 1.525369983953064, 1.054941483052359, 1.2136000567339893, 0.23308716959053433, 0.15132759806894286, 0.7976359593737035, -0.808584190274535, 1.961108543928387, -0.573486935719889, 0.3974880824749839, -0.6121576257879583, -0.40620203173039965, 0.8059004682255754, 0.577010942050867, 0.8487619173221225, 0.95116813790414, -0.8431589135514671, 0.8345576822705425, 1.8916875532375048, 1.3528302565382921, 0.14554876861527338, 0.74380252328883, 1.6283256315766768, 0.20872539439732596, 0.01575435537698975, 0.08103530943841337, 0.9398855834587191, 1.8681586907315795, 0.2982728817544293, 2.1277507888341294, 1.846066968959805, 0.905843066983084, 0.4764277360194793, 0.05079807673102646, -0.9159944605722037, 0.7547580557250606, 0.09090431203597911, -0.9855961407261281, 1.1645508833612985, 0.45777725614298304, -0.0457775363766378, 0.7800780371174919, 0.9360900798447133, 0.6689785958971225, 0.33478569722706114, 0.0225989916723915, 0.8552106280976605, 0.40095040462607473, 0.2905170667683744, 1.5057375454140596, 0.6567229379131222, 1.5589905162770326, 0.4463256730065187, 0.3209014155840095, 0.8604722047896834, 1.3193048015154476, 0.23241761555025903, 0.6689344099794808, -0.9368801423457124, 1.6369396239440042, 1.8250086156767336, -0.4044565529876215, 1.0911356663298046, 1.9771635326594774, 1.2487446961310449, 0.2680686577935133, 0.6096776291794008, 0.519633282205532, -0.8067740153047347, -1.0655947175512142, 2.0397784183254832, -1.0984313739240208, -1.0115042991719052, 0.593417605519658, 0.6893488089833144, 1.5811433931248629, 0.13264402366925823, 0.17583821874143654, 0.7968700476436335, 1.2559789044345149, -0.72730191303691, 0.6671056801212313, -1.0039351561663472, 0.803862955043394, 1.755527350459414, 0.4722598345644735, 1.1014506588758581, -0.8515613634567728, -0.344768061166429, -0.6240556307959167, 1.668619917195012, 0.09982365388048871, 1.9207005824962247, 0.21711474696683666, 1.6106948141690762, 0.06152089034007621, -0.3183138362478756, 2.051806694384509, 1.1621430615794484, -0.7693711814576643, 0.42481712855727227, 0.06612998562530321, 0.7241611107656446, 1.929872146707251, -0.0747996734498523], \"xaxis\": \"x\", \"y\": [0.43607778101760863, -0.4011194632440612, 0.5415218892178506, 0.26886231388723847, 0.9461179874453445, 0.9268166356399812, -0.4513290871112877, 0.9168823205037456, -0.3476620899215156, 0.9969302258350214, 0.12114286887719278, 0.1599189780891384, 0.965685772429867, 0.9301292941685252, 0.7897125490862673, 0.6755129042792798, -0.6523278952709434, 0.158747858462253, 0.10550256974316223, 0.32216590687738944, 0.95239331683874, 0.28773650388840166, 0.5549359778342985, -0.4275752586735255, 0.11362423171192629, 0.5587208679105828, 0.8871058855450891, -0.011244065183244362, -0.37282399872071736, 0.8683552101965917, 0.3387743351635715, 0.012114675029737565, -0.3249173888665629, 0.7648464577460884, -0.03455360646626823, 1.0157254753141933, 0.789928213280756, -0.23043958881624316, 0.5482327588836816, 0.8158505869016326, 0.25595173111671626, 0.8490047684040152, 0.7977673987470991, 0.7099043476407715, 0.8778058534457707, 0.2223803368419529, 0.9233940786148171, 0.2789271744465052, 0.2598976348965632, 0.4259623231575948, 0.7044894326221837, -0.43467545128738916, -0.2025606431151623, 0.7578228472730179, 0.12339506639239467, 0.6012696775757825, 0.19067157702276952, 0.4960748810175608, 0.36066014634971644, 0.6405981687615638, 1.0093246672652925, -0.683810686127401, -0.41241573507105345, 0.9901126903122439, 1.0533222871839638, 0.5834251609429104, -0.3177480119227779, -0.38340484123539237, 0.5354200429219066, 0.9736687007203508, -0.4195693110355442, 0.8241928619908845, 0.023234430827277622, 0.8047279428402697, 0.3481653007891365, -0.18751597646936197, 0.03742781347292015, 0.20281525401323908, 0.26766467034661684, -0.5634133844961742, 0.042395034693238194, 0.12029412831425107, 0.5363974171515313, -0.1450026982659779, -0.40495076112290174, 0.8574857282534363, -0.2320469450349981, -0.5010974292201972, 0.9232315981434537, 0.9512736717500212, 0.013266377828641828, -0.15587107312135612, 0.9769812759008681, 0.24958736254698483, 0.4310704881654892, -0.5388390359189088, 0.007344939439863404, 0.17873633391097563, -0.10434745860853986, 1.0154113850377267, 0.07817393049748056, 0.947301799237025, 0.30243413363940314, 0.9436475009919664, 0.688066258718179, 0.31552877308582405, 0.25009378313745445, 1.0259518073320897, -0.08661529391898053, -0.18713179029828392, 1.020847176615835, 0.37029889398262206, -0.37240717905441106, 0.15904904573753528, -0.7054738367924506, 0.7016062224228446, 0.8667912886886442, -0.5651271337464877, -0.519764696461732, -0.45614703155803, 0.6659339268772327, 1.0933060138877637, 0.25749074749584544, 0.006391413083718128, 0.34117127567420824, 0.28801758688468887, -0.21466511695958101, -0.390961809823812, 0.48813212785537713, -0.14858140113014096, -0.4766645861004665, 0.6748887284276055, -0.2677047542484201, 0.2619201140227827, 1.0180954146828698, -0.08705661343128906, 0.00912932714886762, -0.48441334225022337, 0.24031371708309332, -0.7040686518936875, 0.40745819890591284, 0.7493900295321627, -0.3263153064040736, 0.8387098635497955, -0.06624355977916652, -0.3862360517512149, 0.6386728106302391, 0.9641399984129664, 0.283554573861271, -0.023703499695742758, 0.08712904314172767, -0.2802004578206971, -0.16445885394768184, 0.748141806207555, 0.07573563016822103, 0.13687902584671832, 1.0123246744592231, 0.9587332861968995, -0.6347527000227957, 0.2703337265054317, 0.3285139273519466, 0.27277848784097924, -0.5378165485798784, 0.4860442990090752, -0.09965088293999937, 0.9718404298026123, 0.14070793064631937, 0.5879530835073661, 0.7955689362691735, 0.11809294944569163, 0.863886260883799, 0.947112468815042, 1.0144581477653083, 0.958636539202684, 0.8538968611679508, -0.26267904632598416, 1.098915276229116, -0.2985209827634067, 1.0221280706067108, 0.26708618818460234, 0.6027220092407295, 0.8686578241100799, 1.0958782230964785, 0.3372444433127365, 0.8287075193222752, 0.19988054900735763, -0.4000759499004397, 0.27210742336973803, -0.5554431740207553, 0.08132969177833893, 0.8815049333413835, 0.9423719015542635, 0.22898137437768737, 0.9093489420473164, -0.3990335438365677, -0.28120663796327605, -0.42347286188539957, -0.1316839261626955, -0.22512481834440223, -0.5487601936944003, 0.21098414319755895, 0.34272142754523316, -0.6021366375822279, 0.25817568609572544, -0.5251206254974262, 0.9181117639438922, 0.5398249074259076, 0.25352612158237964, -0.42390792934014865, 0.22748717279219446, 0.19092611177757238, 1.0083104690182787, 0.4011067930232193, -0.47274322766457466, -0.4985476580125366, 0.7991491020390376, 0.14287399006123414, -0.528630928174813, 0.10420737924262266, -0.5135540452630449, -0.26387131943612496, 0.6713911383163779, -0.12579009793677248, 0.7384652081800833, 0.8471182066753098, -0.3568205299359881, 0.05539817597695543, 0.3675642914202532, 0.12373202160019528, 0.5320457749816218, 0.7527784391323216, -0.07375254500638109, -0.03656097531307502, 0.21096138080488983, 1.0459161417121352, -0.05318329701654417, 0.13627157664599823, -0.16757444093230295, 0.10291719279716784, -0.1520068909668203, 0.28530735074108815, 0.982030294351673, 0.8693150287473763, -0.44725774744016616, 0.5435623850119276, 1.0914306332660042, 0.3900256213166849, 0.8954007189495029, -0.16532079284824672, -0.6327445340710072, 0.872152223717397, 0.02198057941962034, 0.11457950315220794, -0.5110142065757868, 0.7023762060734993, 0.06999163949717546, 0.8679890511284588, 0.9735792211196405, -0.37334478387442843, 0.2352123895851974, 0.5257157557542287, 0.0966570840121739, 0.3915777156856398, 0.40620951502008384, 0.5563002807945711, 0.9287284123514572, -0.4694932597705525, -0.28647303390245527, 0.2177456466088653, 1.0107712649386078, 0.7090896365466173, -0.20224818473919925, -0.6716737343647, -0.5255392480328201, 0.220602393102044, 0.5679185764822606, -0.664348506659051, 0.5655440149193591, -0.2605001465555224, -0.44476972105908064, 0.16411977735553548, -0.26884664450584866, -0.034101486858117314, 1.1367673776383977, 0.20383370529796563, -0.33120103482858776, 0.24276731510751107, 0.3998281611302054, 0.9409926919168601, 0.24999982561095813, 0.7849651477267724, 0.40450279943881134, 0.6137062126291012, -0.5724314430588369, 0.49498808243247494, 0.0019297974426112918, 0.22300462646561692, -0.3417331989379858, 0.1275069459089364, -0.23883742575743933, -0.3839793843645204, 0.549473350974221, 0.040814972387245074, 0.7653864752163864, 0.8866068075128529, 0.8269448471682256, 0.6919572681002077, 0.09598584740679728, 0.921427860837215, -0.4363056984528748, 0.13090585233804364, 0.708073706544875, 0.5953673442120604, 0.09509014818593642, -0.4265362405070112, 0.2169283752033758, -0.4984572915678237, -0.2528451566092468, 0.08119429053081831, 0.23973280995637058, 0.5570725509248531, -0.6683544103342967, -0.02515342308285237, -0.12638098881700305, 0.42675405509515674, 0.10121826279463625, -0.5700794902937782, -0.38939614448640203, 0.46414246315263463, 0.662046710981531, 0.6381008654279617, 0.23872062239361602, 0.24465186146853457, -0.40249503600795367, -0.10078345978288639, 1.060030149286084, 0.7488019569243001, -0.03162831609870871, 0.6036520491736346, 0.8900372542109308, 0.40528001022145993, 0.5669552804252124, -0.27463813164370005, 1.025321115737968, -0.37329350355500024, 0.6722832366601202, -0.23748233613720784, -0.328051945416493, -0.12664039057205045, 0.163902767064797, -0.40253376846929073, 0.9210944649201596, -0.3160694603337302, 0.49356261972143056, -0.4744664601030904, 0.5437106356516351, 0.8096130028026692, -0.6172332210395521, 0.3666784091668318, -0.36527871113721005, -0.07010628425274437, 0.7174606455400276, 0.6532250811403223, 0.29157261562178366, 0.2212330253379633, 0.5374177752148195, 0.44471746141975255, 0.47152389058042293, 0.6742885813462738, 0.6896349026977713, -0.1694959403716835, -0.158979629866297, -0.1711557573059312, 0.3571278338151201, -0.5769106371591088, 0.4057417900374254, -0.4360539225120356, 0.00817004076966052, -0.3328595135185971, -0.19911487236295916, -0.19863427705176354, -0.486249852261357, 0.7009224597105804, 0.8202303548674952, 0.6964627164785605, -0.20106864327115975, 1.055221255419995, 0.05914098492307132, 1.068621936007729, -0.23393265974914823, 0.26358525411585665, 0.995160530592945, 0.6307986637140104, 0.28999256891276015, 0.2900083101499388, 1.0503355163432597, 0.9487101716012722, -0.28599311361127777, -0.26332583701466633, 0.7965550564269417], \"yaxis\": \"y\"}],\n",
              "                        {\"coloraxis\": {\"colorbar\": {\"title\": {\"text\": \"dbscan_label\"}}, \"colorscale\": [[0.0, \"#0d0887\"], [0.1111111111111111, \"#46039f\"], [0.2222222222222222, \"#7201a8\"], [0.3333333333333333, \"#9c179e\"], [0.4444444444444444, \"#bd3786\"], [0.5555555555555556, \"#d8576b\"], [0.6666666666666666, \"#ed7953\"], [0.7777777777777778, \"#fb9f3a\"], [0.8888888888888888, \"#fdca26\"], [1.0, \"#f0f921\"]]}, \"height\": 500, \"legend\": {\"tracegroupgap\": 0}, \"margin\": {\"t\": 60}, \"template\": {\"data\": {\"bar\": [{\"error_x\": {\"color\": \"#2a3f5f\"}, \"error_y\": {\"color\": \"#2a3f5f\"}, \"marker\": {\"line\": {\"color\": \"#E5ECF6\", \"width\": 0.5}}, \"type\": \"bar\"}], \"barpolar\": [{\"marker\": {\"line\": {\"color\": \"#E5ECF6\", \"width\": 0.5}}, \"type\": \"barpolar\"}], \"carpet\": [{\"aaxis\": {\"endlinecolor\": \"#2a3f5f\", \"gridcolor\": \"white\", \"linecolor\": \"white\", \"minorgridcolor\": \"white\", \"startlinecolor\": \"#2a3f5f\"}, \"baxis\": {\"endlinecolor\": \"#2a3f5f\", \"gridcolor\": \"white\", \"linecolor\": \"white\", \"minorgridcolor\": \"white\", \"startlinecolor\": \"#2a3f5f\"}, \"type\": \"carpet\"}], \"choropleth\": [{\"colorbar\": {\"outlinewidth\": 0, \"ticks\": \"\"}, \"type\": \"choropleth\"}], \"contour\": [{\"colorbar\": {\"outlinewidth\": 0, \"ticks\": \"\"}, \"colorscale\": [[0.0, \"#0d0887\"], [0.1111111111111111, \"#46039f\"], [0.2222222222222222, \"#7201a8\"], [0.3333333333333333, \"#9c179e\"], [0.4444444444444444, \"#bd3786\"], [0.5555555555555556, \"#d8576b\"], [0.6666666666666666, \"#ed7953\"], [0.7777777777777778, \"#fb9f3a\"], [0.8888888888888888, \"#fdca26\"], [1.0, \"#f0f921\"]], \"type\": \"contour\"}], \"contourcarpet\": [{\"colorbar\": {\"outlinewidth\": 0, \"ticks\": \"\"}, \"type\": \"contourcarpet\"}], \"heatmap\": [{\"colorbar\": {\"outlinewidth\": 0, \"ticks\": \"\"}, \"colorscale\": [[0.0, \"#0d0887\"], [0.1111111111111111, \"#46039f\"], [0.2222222222222222, \"#7201a8\"], [0.3333333333333333, \"#9c179e\"], [0.4444444444444444, \"#bd3786\"], [0.5555555555555556, \"#d8576b\"], [0.6666666666666666, \"#ed7953\"], [0.7777777777777778, \"#fb9f3a\"], [0.8888888888888888, \"#fdca26\"], [1.0, \"#f0f921\"]], \"type\": \"heatmap\"}], \"heatmapgl\": [{\"colorbar\": {\"outlinewidth\": 0, \"ticks\": \"\"}, \"colorscale\": [[0.0, \"#0d0887\"], [0.1111111111111111, \"#46039f\"], [0.2222222222222222, \"#7201a8\"], [0.3333333333333333, \"#9c179e\"], [0.4444444444444444, \"#bd3786\"], [0.5555555555555556, \"#d8576b\"], [0.6666666666666666, \"#ed7953\"], [0.7777777777777778, \"#fb9f3a\"], [0.8888888888888888, \"#fdca26\"], [1.0, \"#f0f921\"]], \"type\": \"heatmapgl\"}], \"histogram\": [{\"marker\": {\"colorbar\": {\"outlinewidth\": 0, \"ticks\": \"\"}}, \"type\": \"histogram\"}], \"histogram2d\": [{\"colorbar\": {\"outlinewidth\": 0, \"ticks\": \"\"}, \"colorscale\": [[0.0, \"#0d0887\"], [0.1111111111111111, \"#46039f\"], [0.2222222222222222, \"#7201a8\"], [0.3333333333333333, \"#9c179e\"], [0.4444444444444444, \"#bd3786\"], [0.5555555555555556, \"#d8576b\"], [0.6666666666666666, \"#ed7953\"], [0.7777777777777778, \"#fb9f3a\"], [0.8888888888888888, \"#fdca26\"], [1.0, \"#f0f921\"]], \"type\": \"histogram2d\"}], \"histogram2dcontour\": [{\"colorbar\": {\"outlinewidth\": 0, \"ticks\": \"\"}, \"colorscale\": [[0.0, \"#0d0887\"], [0.1111111111111111, \"#46039f\"], [0.2222222222222222, \"#7201a8\"], [0.3333333333333333, \"#9c179e\"], [0.4444444444444444, \"#bd3786\"], [0.5555555555555556, \"#d8576b\"], [0.6666666666666666, \"#ed7953\"], [0.7777777777777778, \"#fb9f3a\"], [0.8888888888888888, \"#fdca26\"], [1.0, \"#f0f921\"]], \"type\": \"histogram2dcontour\"}], \"mesh3d\": [{\"colorbar\": {\"outlinewidth\": 0, \"ticks\": \"\"}, \"type\": \"mesh3d\"}], \"parcoords\": [{\"line\": {\"colorbar\": {\"outlinewidth\": 0, \"ticks\": \"\"}}, \"type\": \"parcoords\"}], \"pie\": [{\"automargin\": true, \"type\": \"pie\"}], \"scatter\": [{\"marker\": {\"colorbar\": {\"outlinewidth\": 0, \"ticks\": \"\"}}, \"type\": \"scatter\"}], \"scatter3d\": [{\"line\": {\"colorbar\": {\"outlinewidth\": 0, \"ticks\": \"\"}}, \"marker\": {\"colorbar\": {\"outlinewidth\": 0, \"ticks\": \"\"}}, \"type\": \"scatter3d\"}], \"scattercarpet\": [{\"marker\": {\"colorbar\": {\"outlinewidth\": 0, \"ticks\": \"\"}}, \"type\": \"scattercarpet\"}], \"scattergeo\": [{\"marker\": {\"colorbar\": {\"outlinewidth\": 0, \"ticks\": \"\"}}, \"type\": \"scattergeo\"}], \"scattergl\": [{\"marker\": {\"colorbar\": {\"outlinewidth\": 0, \"ticks\": \"\"}}, \"type\": \"scattergl\"}], \"scattermapbox\": [{\"marker\": {\"colorbar\": {\"outlinewidth\": 0, \"ticks\": \"\"}}, \"type\": \"scattermapbox\"}], \"scatterpolar\": [{\"marker\": {\"colorbar\": {\"outlinewidth\": 0, \"ticks\": \"\"}}, \"type\": \"scatterpolar\"}], \"scatterpolargl\": [{\"marker\": {\"colorbar\": {\"outlinewidth\": 0, \"ticks\": \"\"}}, \"type\": \"scatterpolargl\"}], \"scatterternary\": [{\"marker\": {\"colorbar\": {\"outlinewidth\": 0, \"ticks\": \"\"}}, \"type\": \"scatterternary\"}], \"surface\": [{\"colorbar\": {\"outlinewidth\": 0, \"ticks\": \"\"}, \"colorscale\": [[0.0, \"#0d0887\"], [0.1111111111111111, \"#46039f\"], [0.2222222222222222, \"#7201a8\"], [0.3333333333333333, \"#9c179e\"], [0.4444444444444444, \"#bd3786\"], [0.5555555555555556, \"#d8576b\"], [0.6666666666666666, \"#ed7953\"], [0.7777777777777778, \"#fb9f3a\"], [0.8888888888888888, \"#fdca26\"], [1.0, \"#f0f921\"]], \"type\": \"surface\"}], \"table\": [{\"cells\": {\"fill\": {\"color\": \"#EBF0F8\"}, \"line\": {\"color\": \"white\"}}, \"header\": {\"fill\": {\"color\": \"#C8D4E3\"}, \"line\": {\"color\": \"white\"}}, \"type\": \"table\"}]}, \"layout\": {\"annotationdefaults\": {\"arrowcolor\": \"#2a3f5f\", \"arrowhead\": 0, \"arrowwidth\": 1}, \"coloraxis\": {\"colorbar\": {\"outlinewidth\": 0, \"ticks\": \"\"}}, \"colorscale\": {\"diverging\": [[0, \"#8e0152\"], [0.1, \"#c51b7d\"], [0.2, \"#de77ae\"], [0.3, \"#f1b6da\"], [0.4, \"#fde0ef\"], [0.5, \"#f7f7f7\"], [0.6, \"#e6f5d0\"], [0.7, \"#b8e186\"], [0.8, \"#7fbc41\"], [0.9, \"#4d9221\"], [1, \"#276419\"]], \"sequential\": [[0.0, \"#0d0887\"], [0.1111111111111111, \"#46039f\"], [0.2222222222222222, \"#7201a8\"], [0.3333333333333333, \"#9c179e\"], [0.4444444444444444, \"#bd3786\"], [0.5555555555555556, \"#d8576b\"], [0.6666666666666666, \"#ed7953\"], [0.7777777777777778, \"#fb9f3a\"], [0.8888888888888888, \"#fdca26\"], [1.0, \"#f0f921\"]], \"sequentialminus\": [[0.0, \"#0d0887\"], [0.1111111111111111, \"#46039f\"], [0.2222222222222222, \"#7201a8\"], [0.3333333333333333, \"#9c179e\"], [0.4444444444444444, \"#bd3786\"], [0.5555555555555556, \"#d8576b\"], [0.6666666666666666, \"#ed7953\"], [0.7777777777777778, \"#fb9f3a\"], [0.8888888888888888, \"#fdca26\"], [1.0, \"#f0f921\"]]}, \"colorway\": [\"#636efa\", \"#EF553B\", \"#00cc96\", \"#ab63fa\", \"#FFA15A\", \"#19d3f3\", \"#FF6692\", \"#B6E880\", \"#FF97FF\", \"#FECB52\"], \"font\": {\"color\": \"#2a3f5f\"}, \"geo\": {\"bgcolor\": \"white\", \"lakecolor\": \"white\", \"landcolor\": \"#E5ECF6\", \"showlakes\": true, \"showland\": true, \"subunitcolor\": \"white\"}, \"hoverlabel\": {\"align\": \"left\"}, \"hovermode\": \"closest\", \"mapbox\": {\"style\": \"light\"}, \"paper_bgcolor\": \"white\", \"plot_bgcolor\": \"#E5ECF6\", \"polar\": {\"angularaxis\": {\"gridcolor\": \"white\", \"linecolor\": \"white\", \"ticks\": \"\"}, \"bgcolor\": \"#E5ECF6\", \"radialaxis\": {\"gridcolor\": \"white\", \"linecolor\": \"white\", \"ticks\": \"\"}}, \"scene\": {\"xaxis\": {\"backgroundcolor\": \"#E5ECF6\", \"gridcolor\": \"white\", \"gridwidth\": 2, \"linecolor\": \"white\", \"showbackground\": true, \"ticks\": \"\", \"zerolinecolor\": \"white\"}, \"yaxis\": {\"backgroundcolor\": \"#E5ECF6\", \"gridcolor\": \"white\", \"gridwidth\": 2, \"linecolor\": \"white\", \"showbackground\": true, \"ticks\": \"\", \"zerolinecolor\": \"white\"}, \"zaxis\": {\"backgroundcolor\": \"#E5ECF6\", \"gridcolor\": \"white\", \"gridwidth\": 2, \"linecolor\": \"white\", \"showbackground\": true, \"ticks\": \"\", \"zerolinecolor\": \"white\"}}, \"shapedefaults\": {\"line\": {\"color\": \"#2a3f5f\"}}, \"ternary\": {\"aaxis\": {\"gridcolor\": \"white\", \"linecolor\": \"white\", \"ticks\": \"\"}, \"baxis\": {\"gridcolor\": \"white\", \"linecolor\": \"white\", \"ticks\": \"\"}, \"bgcolor\": \"#E5ECF6\", \"caxis\": {\"gridcolor\": \"white\", \"linecolor\": \"white\", \"ticks\": \"\"}}, \"title\": {\"x\": 0.05}, \"xaxis\": {\"automargin\": true, \"gridcolor\": \"white\", \"linecolor\": \"white\", \"ticks\": \"\", \"title\": {\"standoff\": 15}, \"zerolinecolor\": \"white\", \"zerolinewidth\": 2}, \"yaxis\": {\"automargin\": true, \"gridcolor\": \"white\", \"linecolor\": \"white\", \"ticks\": \"\", \"title\": {\"standoff\": 15}, \"zerolinecolor\": \"white\", \"zerolinewidth\": 2}}}, \"width\": 600, \"xaxis\": {\"anchor\": \"y\", \"domain\": [0.0, 1.0], \"title\": {\"text\": \"x\"}}, \"yaxis\": {\"anchor\": \"x\", \"domain\": [0.0, 1.0], \"title\": {\"text\": \"y\"}}},\n",
              "                        {\"responsive\": true}\n",
              "                    ).then(function(){\n",
              "                            \n",
              "var gd = document.getElementById('4c782c09-f53e-4920-bccc-4712508a41f9');\n",
              "var x = new MutationObserver(function (mutations, observer) {{\n",
              "        var display = window.getComputedStyle(gd).display;\n",
              "        if (!display || display === 'none') {{\n",
              "            console.log([gd, 'removed!']);\n",
              "            Plotly.purge(gd);\n",
              "            observer.disconnect();\n",
              "        }}\n",
              "}});\n",
              "\n",
              "// Listen for the removal of the full notebook cells\n",
              "var notebookContainer = gd.closest('#notebook-container');\n",
              "if (notebookContainer) {{\n",
              "    x.observe(notebookContainer, {childList: true});\n",
              "}}\n",
              "\n",
              "// Listen for the clearing of the current output cell\n",
              "var outputEl = gd.closest('.output');\n",
              "if (outputEl) {{\n",
              "    x.observe(outputEl, {childList: true});\n",
              "}}\n",
              "\n",
              "                        })\n",
              "                };\n",
              "                \n",
              "            </script>\n",
              "        </div>\n",
              "</body>\n",
              "</html>"
            ]
          },
          "metadata": {
            "tags": []
          }
        }
      ]
    },
    {
      "cell_type": "markdown",
      "metadata": {
        "id": "GGyvlDnp52Uf"
      },
      "source": [
        "### DBSCAN과 K-means 성능 비교"
      ]
    },
    {
      "cell_type": "code",
      "metadata": {
        "id": "AFDJBdG1eCXr",
        "colab": {
          "base_uri": "https://localhost:8080/"
        },
        "outputId": "5a2f4dd1-8d3d-4da7-b662-fdcc8b12d939"
      },
      "source": [
        "moon_km = KMeans(n_clusters=2).fit(moon_data)\n",
        "moon_km"
      ],
      "execution_count": 75,
      "outputs": [
        {
          "output_type": "execute_result",
          "data": {
            "text/plain": [
              "KMeans(algorithm='auto', copy_x=True, init='k-means++', max_iter=300,\n",
              "       n_clusters=2, n_init=10, n_jobs=None, precompute_distances='auto',\n",
              "       random_state=None, tol=0.0001, verbose=0)"
            ]
          },
          "metadata": {
            "tags": []
          },
          "execution_count": 75
        }
      ]
    },
    {
      "cell_type": "code",
      "metadata": {
        "colab": {
          "base_uri": "https://localhost:8080/"
        },
        "id": "d24uOkT_6Aqi",
        "outputId": "038e7e13-c755-431c-960c-9a3c358e864e"
      },
      "source": [
        "compare_kmeans_clusters = dict(zip(moon_km.labels_, moon_labels))\n",
        "compare_kmeans_clusters"
      ],
      "execution_count": 76,
      "outputs": [
        {
          "output_type": "execute_result",
          "data": {
            "text/plain": [
              "{0: 1, 1: 0}"
            ]
          },
          "metadata": {
            "tags": []
          },
          "execution_count": 76
        }
      ]
    },
    {
      "cell_type": "code",
      "metadata": {
        "colab": {
          "base_uri": "https://localhost:8080/",
          "height": 204
        },
        "id": "aBZoAt3t9uYE",
        "outputId": "4f1acbe2-c560-4dcc-d4c3-c4340e19c529"
      },
      "source": [
        "moon_data_df[\"kmeans_label\"] = moon_km.labels_\n",
        "moon_data_df[\"kmeans_label\"] = moon_data_df[\"kmeans_label\"].astype(str)\n",
        "\n",
        "moon_dbscan = DBSCAN(eps=0.2, min_samples=6).fit(moon_data)\n",
        "moon_data_df[\"dbscan_label\"] = moon_dbscan.labels_\n",
        "moon_data_df[\"dbscan_label\"] = moon_data_df[\"dbscan_label\"].astype(str)\n",
        "\n",
        "moon_data_df.head()"
      ],
      "execution_count": 77,
      "outputs": [
        {
          "output_type": "execute_result",
          "data": {
            "text/html": [
              "<div>\n",
              "<style scoped>\n",
              "    .dataframe tbody tr th:only-of-type {\n",
              "        vertical-align: middle;\n",
              "    }\n",
              "\n",
              "    .dataframe tbody tr th {\n",
              "        vertical-align: top;\n",
              "    }\n",
              "\n",
              "    .dataframe thead th {\n",
              "        text-align: right;\n",
              "    }\n",
              "</style>\n",
              "<table border=\"1\" class=\"dataframe\">\n",
              "  <thead>\n",
              "    <tr style=\"text-align: right;\">\n",
              "      <th></th>\n",
              "      <th>x</th>\n",
              "      <th>y</th>\n",
              "      <th>label</th>\n",
              "      <th>dbscan_label</th>\n",
              "      <th>kmeans_label</th>\n",
              "    </tr>\n",
              "  </thead>\n",
              "  <tbody>\n",
              "    <tr>\n",
              "      <th>0</th>\n",
              "      <td>-0.044052</td>\n",
              "      <td>0.436078</td>\n",
              "      <td>1</td>\n",
              "      <td>0</td>\n",
              "      <td>1</td>\n",
              "    </tr>\n",
              "    <tr>\n",
              "      <th>1</th>\n",
              "      <td>0.692230</td>\n",
              "      <td>-0.401119</td>\n",
              "      <td>1</td>\n",
              "      <td>0</td>\n",
              "      <td>0</td>\n",
              "    </tr>\n",
              "    <tr>\n",
              "      <th>2</th>\n",
              "      <td>0.828198</td>\n",
              "      <td>0.541522</td>\n",
              "      <td>0</td>\n",
              "      <td>1</td>\n",
              "      <td>0</td>\n",
              "    </tr>\n",
              "    <tr>\n",
              "      <th>3</th>\n",
              "      <td>0.178812</td>\n",
              "      <td>0.268862</td>\n",
              "      <td>1</td>\n",
              "      <td>0</td>\n",
              "      <td>1</td>\n",
              "    </tr>\n",
              "    <tr>\n",
              "      <th>4</th>\n",
              "      <td>0.091715</td>\n",
              "      <td>0.946118</td>\n",
              "      <td>0</td>\n",
              "      <td>1</td>\n",
              "      <td>1</td>\n",
              "    </tr>\n",
              "  </tbody>\n",
              "</table>\n",
              "</div>"
            ],
            "text/plain": [
              "          x         y  label dbscan_label kmeans_label\n",
              "0 -0.044052  0.436078      1            0            1\n",
              "1  0.692230 -0.401119      1            0            0\n",
              "2  0.828198  0.541522      0            1            0\n",
              "3  0.178812  0.268862      1            0            1\n",
              "4  0.091715  0.946118      0            1            1"
            ]
          },
          "metadata": {
            "tags": []
          },
          "execution_count": 77
        }
      ]
    },
    {
      "cell_type": "code",
      "metadata": {
        "colab": {
          "base_uri": "https://localhost:8080/",
          "height": 1000
        },
        "id": "YHI9g_tB-R_P",
        "outputId": "4a35b4ed-2815-490c-d550-d32197df4d6f"
      },
      "source": [
        "for label_case in [\"dbscan_label\", \"kmeans_label\"]:\n",
        "    fig = px.scatter(moon_data_df, x=\"x\", y=\"y\", color=label_case)\n",
        "    fig.update_layout(width=600, height=500, title=f\"{label_case} 시각화\")\n",
        "    fig.show()"
      ],
      "execution_count": 78,
      "outputs": [
        {
          "output_type": "display_data",
          "data": {
            "text/html": [
              "<html>\n",
              "<head><meta charset=\"utf-8\" /></head>\n",
              "<body>\n",
              "    <div>\n",
              "            <script src=\"https://cdnjs.cloudflare.com/ajax/libs/mathjax/2.7.5/MathJax.js?config=TeX-AMS-MML_SVG\"></script><script type=\"text/javascript\">if (window.MathJax) {MathJax.Hub.Config({SVG: {font: \"STIX-Web\"}});}</script>\n",
              "                <script type=\"text/javascript\">window.PlotlyConfig = {MathJaxConfig: 'local'};</script>\n",
              "        <script src=\"https://cdn.plot.ly/plotly-latest.min.js\"></script>    \n",
              "            <div id=\"5be7f305-1738-45f1-bb8b-9195bd0b70c6\" class=\"plotly-graph-div\" style=\"height:500px; width:600px;\"></div>\n",
              "            <script type=\"text/javascript\">\n",
              "                \n",
              "                    window.PLOTLYENV=window.PLOTLYENV || {};\n",
              "                    \n",
              "                if (document.getElementById(\"5be7f305-1738-45f1-bb8b-9195bd0b70c6\")) {\n",
              "                    Plotly.newPlot(\n",
              "                        '5be7f305-1738-45f1-bb8b-9195bd0b70c6',\n",
              "                        [{\"hoverlabel\": {\"namelength\": 0}, \"hovertemplate\": \"dbscan_label=0<br>x=%{x}<br>y=%{y}\", \"legendgroup\": \"dbscan_label=0\", \"marker\": {\"color\": \"#636efa\", \"symbol\": \"circle\"}, \"mode\": \"markers\", \"name\": \"dbscan_label=0\", \"showlegend\": true, \"type\": \"scatter\", \"x\": [-0.04405185436455387, 0.6922304485774229, 0.17881242677930137, 1.3757911943525358, 0.45860466022215285, 1.8524970559962026, 0.6189365495878882, 1.8927960119108467, 0.11756338555092069, 2.169029362678773, 2.0669459262896903, 0.5877990025461418, 2.0490213676870517, 0.02237367735743013, 0.453000976269902, 2.1534991209951535, 0.6240688008428807, 0.11590511420338562, 1.7828070067277453, 1.806489808286964, 2.0034066514848714, 1.3419458957279273, 1.5452174341489513, 1.764957168546406, 0.033462363099337374, 0.8408477423017393, 0.2964391408080224, 1.6831546515793194, 0.43826348511034413, 1.3012044573186852, 2.021650614049808, 0.16473890548509473, -0.009247095964754717, 1.7690167227990816, 0.702434617830942, -0.15095907350779758, 0.28341059943157637, 0.686247114883507, 0.4135899135206339, 1.0577396586654602, 0.06324742529253595, 1.5658002856216526, 0.2090468050023805, 1.1529542320186548, 1.8320855582539974, 1.9886682809991771, 0.20654495134218478, 1.7419705803807746, 1.8949012493453714, 2.0281830266713725, 0.7295586309939159, 2.0165730120568788, 1.0090524120850748, 0.8291064621354819, 1.1864304003533328, 0.7588546454896044, 1.8498418744289271, 1.6638459329092838, 1.6872832037570835, 0.259718542404861, 1.260522773047423, 0.5687897887080057, 0.13234844337348306, 0.5078751167554956, -0.11594691159512407, 1.0831469058632226, 0.9063697767081207, 0.7803374476056197, 1.922550311349182, 1.5611843539210797, 0.4481765327303048, 1.3457410648452206, 1.9250783905350084, 2.128778248212025, 0.0706262481600407, 1.0274744413540133, 1.792856509913606, 2.0071012074483465, 0.05187296202004671, 1.1736206804738114, 0.2432922979322884, 1.3365798384645975, -0.17983124228592573, 1.498489509539917, 1.975693655313992, 1.3769137547348915, 1.6728813869324226, 1.6448138852597582, 1.6705417974900587, 1.457852249627546, 0.976715110638505, -0.1223731313381849, 0.796228522033799, 0.15475677041477062, 0.7888519002662029, 1.4758331265836486, 0.04061773858849012, 1.3533832696767325, 1.0366465155314608, 1.8936032702640215, 0.5943858451752875, 1.885006370759624, 0.9389125135270914, 1.7893976221378944, 0.3603982008922027, 1.9371282674993187, 0.0083564707053621, 0.06357500148967771, 0.4229368998509608, 1.874315243153208, 0.07222261812178199, 1.6470491039434203, 1.9686415215524833, 1.7843131131506498, 2.0873045148599823, 1.3148496627000024, 1.9508672322774856, 0.2825817386035496, 0.938344700184442, 0.15227499084567703, 0.7461365894557511, 1.9701048704314503, 0.2049831993182284, 1.325082692179819, 0.5568693550491782, 0.07750159554668323, 0.18786203305535706, 1.0060978915552157, 1.0993371067091071, 1.0604130877330895, 0.08128104436835105, 0.2621963091845073, 1.4462645794969085, 0.2791274315012009, 1.9261906290309088, 0.2185468890445362, 1.6237768965846349, 0.031333571273604, 0.008629185751882248, 0.5993675602813255, 0.1018886995222481, 1.525369983953064, 1.2136000567339893, 0.23308716959053433, 0.15132759806894286, 0.7976359593737035, 1.961108543928387, 0.8487619173221225, 1.8916875532375048, 1.3528302565382921, 0.14554876861527338, 0.74380252328883, 1.6283256315766768, 0.20872539439732596, 0.01575435537698975, 0.08103530943841337, 0.9398855834587191, 1.8681586907315795, 0.2982728817544293, 2.1277507888341294, 1.846066968959805, 0.905843066983084, 0.4764277360194793, 0.05079807673102646, 0.09090431203597911, 1.1645508833612985, 0.45777725614298304, 0.0225989916723915, 0.40095040462607473, 1.5057375454140596, 1.5589905162770326, 0.4463256730065187, 0.3209014155840095, 1.3193048015154476, 0.6689344099794808, 1.6369396239440042, 1.8250086156767336, 1.0911356663298046, 1.9771635326594774, 1.2487446961310449, 0.2680686577935133, 2.0397784183254832, 1.5811433931248629, 0.13264402366925823, 0.17583821874143654, 1.2559789044345149, 0.6671056801212313, 0.803862955043394, 1.755527350459414, 0.4722598345644735, 1.1014506588758581, 1.668619917195012, 1.9207005824962247, 1.6106948141690762, 0.06152089034007621, 2.051806694384509, 0.7241611107656446, 1.929872146707251], \"xaxis\": \"x\", \"y\": [0.43607778101760863, -0.4011194632440612, 0.26886231388723847, -0.4513290871112877, -0.3476620899215156, 0.1599189780891384, -0.6523278952709434, 0.158747858462253, 0.10550256974316223, 0.32216590687738944, 0.5549359778342985, -0.4275752586735255, 0.5587208679105828, -0.011244065183244362, -0.37282399872071736, 0.3387743351635715, -0.3249173888665629, -0.03455360646626823, -0.23043958881624316, 0.25595173111671626, 0.2223803368419529, -0.43467545128738916, -0.2025606431151623, 0.12339506639239467, 0.19067157702276952, -0.683810686127401, -0.41241573507105345, -0.3177480119227779, -0.38340484123539237, -0.4195693110355442, 0.3481653007891365, -0.18751597646936197, 0.03742781347292015, 0.20281525401323908, -0.5634133844961742, 0.5363974171515313, -0.1450026982659779, -0.40495076112290174, -0.2320469450349981, -0.5010974292201972, 0.013266377828641828, -0.15587107312135612, 0.24958736254698483, -0.5388390359189088, 0.007344939439863404, 0.17873633391097563, 0.07817393049748056, -0.08661529391898053, -0.18713179029828392, 0.37029889398262206, -0.37240717905441106, 0.15904904573753528, -0.7054738367924506, -0.5651271337464877, -0.519764696461732, -0.45614703155803, 0.006391413083718128, -0.21466511695958101, -0.390961809823812, -0.14858140113014096, -0.4766645861004665, -0.2677047542484201, 0.00912932714886762, -0.48441334225022337, 0.24031371708309332, -0.7040686518936875, -0.3263153064040736, -0.3862360517512149, -0.023703499695742758, -0.2802004578206971, -0.16445885394768184, -0.6347527000227957, 0.2703337265054317, 0.3285139273519466, 0.27277848784097924, -0.5378165485798784, -0.09965088293999937, 0.14070793064631937, 0.11809294944569163, -0.26267904632598416, -0.2985209827634067, -0.4000759499004397, 0.27210742336973803, -0.5554431740207553, 0.22898137437768737, -0.3990335438365677, -0.28120663796327605, -0.42347286188539957, -0.1316839261626955, -0.22512481834440223, -0.5487601936944003, 0.34272142754523316, -0.6021366375822279, 0.25817568609572544, -0.5251206254974262, -0.42390792934014865, 0.19092611177757238, -0.47274322766457466, -0.4985476580125366, 0.14287399006123414, -0.528630928174813, 0.10420737924262266, -0.5135540452630449, -0.26387131943612496, -0.12579009793677248, 0.3675642914202532, 0.5320457749816218, -0.07375254500638109, -0.03656097531307502, -0.05318329701654417, 0.13627157664599823, -0.16757444093230295, 0.10291719279716784, -0.1520068909668203, 0.28530735074108815, -0.44725774744016616, 0.3900256213166849, -0.16532079284824672, -0.6327445340710072, 0.02198057941962034, -0.5110142065757868, 0.06999163949717546, -0.37334478387442843, -0.4694932597705525, -0.28647303390245527, 0.2177456466088653, -0.20224818473919925, -0.6716737343647, -0.5255392480328201, -0.664348506659051, 0.5655440149193591, -0.2605001465555224, -0.44476972105908064, -0.26884664450584866, -0.034101486858117314, 0.20383370529796563, -0.33120103482858776, 0.24276731510751107, 0.24999982561095813, -0.5724314430588369, 0.49498808243247494, 0.0019297974426112918, -0.3417331989379858, 0.1275069459089364, -0.23883742575743933, -0.3839793843645204, 0.040814972387245074, -0.4363056984528748, 0.09509014818593642, -0.4265362405070112, 0.2169283752033758, -0.4984572915678237, -0.2528451566092468, 0.08119429053081831, 0.23973280995637058, 0.5570725509248531, -0.6683544103342967, -0.02515342308285237, -0.12638098881700305, 0.42675405509515674, 0.10121826279463625, -0.5700794902937782, -0.38939614448640203, 0.46414246315263463, 0.23872062239361602, -0.40249503600795367, -0.10078345978288639, 0.40528001022145993, -0.27463813164370005, -0.37329350355500024, -0.23748233613720784, -0.328051945416493, -0.12664039057205045, -0.40253376846929073, -0.3160694603337302, -0.4744664601030904, 0.5437106356516351, -0.6172332210395521, 0.3666784091668318, -0.36527871113721005, -0.07010628425274437, 0.5374177752148195, -0.1694959403716835, -0.158979629866297, -0.1711557573059312, -0.5769106371591088, -0.4360539225120356, -0.3328595135185971, -0.19911487236295916, -0.19863427705176354, -0.486249852261357, -0.20106864327115975, 0.05914098492307132, -0.23393265974914823, 0.26358525411585665, 0.6307986637140104, -0.28599311361127777, -0.26332583701466633], \"yaxis\": \"y\"}, {\"hoverlabel\": {\"namelength\": 0}, \"hovertemplate\": \"dbscan_label=1<br>x=%{x}<br>y=%{y}\", \"legendgroup\": \"dbscan_label=1\", \"marker\": {\"color\": \"#EF553B\", \"symbol\": \"circle\"}, \"mode\": \"markers\", \"name\": \"dbscan_label=1\", \"showlegend\": true, \"type\": \"scatter\", \"x\": [0.8281977981485314, 0.09171539700050081, 0.40156045922972966, 0.07314713993172753, -0.4178031928161623, 0.9579878024190793, 0.5552516585363515, 0.3022727378193304, -0.5247965363754132, 0.8580279728331913, 0.404559599307745, 1.0893364137634811, 1.0446289348001918, -0.29381359169325855, 0.052039835716421845, -1.119340367715941, 0.6746685269538756, -0.25247367792137004, -0.043682834885529404, -0.834513603902822, -0.5049155905696417, 0.7605778678586781, 0.29985442632480913, 0.8905252470097118, 0.11826978657090345, -0.7130367234824387, -1.0452223143606545, 0.9604818564529551, -1.0610029020734704, 0.9290715732995999, 0.3985161871037338, 0.9224449677324292, -0.8919029408079996, 1.0225793504988576, -0.9710888438761187, -0.4791414581275831, 0.4919544089308461, 0.0410776773647474, 0.9666350914963895, 0.21658112980549674, -0.64388146241787, 0.9496985380360062, 0.6683706670351148, -1.0104913674247578, 0.9493893492279155, 0.8953640992371084, 0.42168660618408793, 0.0034514995502456514, 0.2647671231050478, -0.2559695512442949, -1.0197784695319896, 0.3254160858230126, -0.02532499674177502, 1.0832306132818155, 0.5278969205172018, -0.7422978282856604, 1.0762354226047843, 0.9804704487371622, -0.7609520671028389, -0.49651016735263764, 0.8181446341926059, 0.47919081281108183, -0.9246852132955579, -0.19973768447083562, 0.940616481696544, 1.0076808280989389, -0.966543565363345, -0.9976923228984038, -0.5812357980233047, -0.9002692152319717, -0.25582248118023304, -1.1138631338303022, 0.9771117727121236, -0.32661461873026315, -0.6203513588550882, -1.1511863158724789, 0.5955667439508922, -0.1308958348924223, -0.8799966733224986, 1.1750337382650022, -0.7585085272396329, 1.051622752860439, -0.8092021378321275, -0.07657329479524141, 0.3643485289920689, -0.9039386882590633, 0.23340051836624431, -0.7848715472141286, -0.6052644989118215, 0.18346525575039668, 0.4357050503972449, -0.19161096380566223, 0.23246382980226774, -0.6089928003474744, -0.14663398900921182, 0.2481370154715898, 1.056272964342253, 0.7460124466135112, -0.6474151293600467, -0.2998246700886737, -0.867194684720239, 0.45564543502722626, -1.0050512879881874, -0.6805626396188176, -0.6490735256969274, -0.536868509390947, 0.09373483171858374, -0.9263843640116586, -0.5405845524825568, 0.9305692278235662, 0.9784119369643645, -1.0200230889843025, -0.3154849918885533, -1.0223978310048576, -0.04510451879071933, -0.994564259030683, -0.4408604389520875, -0.5151095273058485, -1.0351547981205815, 0.9166357854923943, -0.12004194518298957, 0.9981936878290952, -0.30368999098948596, -0.39790391370032724, 0.49229061778845873, 0.8494651045710285, 0.19481701963916617, -0.10148376708261908, -0.33440741651656025, -0.9103538545522244, 0.7980254495229531, 0.652791628022177, 0.15095217091376792, -1.0351508911672802, -0.8495786602831639, 1.0732469394954367, 0.922355666831577, 1.179959994061442, -0.9293446879170691, -0.6635954598691399, 0.12508148690837878, 0.7450034565443301, -0.9080886149685693, 0.5858015888336551, 1.0643805747202955, 0.07587637693033553, -1.0991324877898918, 0.05943075792034612, 0.7067448851525836, 0.8727925257301243, 1.0098726006114973, 1.054941483052359, -0.808584190274535, -0.573486935719889, 0.3974880824749839, -0.6121576257879583, -0.40620203173039965, 0.8059004682255754, 0.577010942050867, 0.95116813790414, -0.8431589135514671, 0.8345576822705425, -0.9159944605722037, 0.7547580557250606, -0.9855961407261281, -0.0457775363766378, 0.7800780371174919, 0.9360900798447133, 0.6689785958971225, 0.33478569722706114, 0.8552106280976605, 0.2905170667683744, 0.6567229379131222, 0.8604722047896834, 0.23241761555025903, -0.9368801423457124, -0.4044565529876215, 0.6096776291794008, 0.519633282205532, -0.8067740153047347, -1.0655947175512142, -1.0984313739240208, -1.0115042991719052, 0.593417605519658, 0.6893488089833144, 0.7968700476436335, -0.72730191303691, -1.0039351561663472, -0.8515613634567728, -0.344768061166429, -0.6240556307959167, 0.09982365388048871, 0.21711474696683666, -0.3183138362478756, 1.1621430615794484, -0.7693711814576643, 0.42481712855727227, 0.06612998562530321, -0.0747996734498523], \"xaxis\": \"x\", \"y\": [0.5415218892178506, 0.9461179874453445, 0.9268166356399812, 0.9168823205037456, 0.9969302258350214, 0.12114286887719278, 0.965685772429867, 0.9301292941685252, 0.7897125490862673, 0.6755129042792798, 0.95239331683874, 0.28773650388840166, 0.11362423171192629, 0.8871058855450891, 0.8683552101965917, 0.012114675029737565, 0.7648464577460884, 1.0157254753141933, 0.789928213280756, 0.5482327588836816, 0.8158505869016326, 0.8490047684040152, 0.7977673987470991, 0.7099043476407715, 0.8778058534457707, 0.9233940786148171, 0.2789271744465052, 0.2598976348965632, 0.4259623231575948, 0.7044894326221837, 0.7578228472730179, 0.6012696775757825, 0.4960748810175608, 0.36066014634971644, 0.6405981687615638, 1.0093246672652925, 0.9901126903122439, 1.0533222871839638, 0.5834251609429104, 0.9736687007203508, 0.8241928619908845, 0.023234430827277622, 0.8047279428402697, 0.26766467034661684, 0.042395034693238194, 0.12029412831425107, 0.8574857282534363, 0.9232315981434537, 0.9512736717500212, 0.9769812759008681, 0.4310704881654892, 1.0154113850377267, 0.947301799237025, 0.30243413363940314, 0.9436475009919664, 0.688066258718179, 0.31552877308582405, 0.25009378313745445, 1.0259518073320897, 1.020847176615835, 0.7016062224228446, 0.8667912886886442, 0.6659339268772327, 1.0933060138877637, 0.25749074749584544, 0.34117127567420824, 0.28801758688468887, 0.48813212785537713, 0.6748887284276055, 0.2619201140227827, 1.0180954146828698, -0.08705661343128906, 0.40745819890591284, 0.7493900295321627, 0.8387098635497955, -0.06624355977916652, 0.6386728106302391, 0.9641399984129664, 0.283554573861271, 0.08712904314172767, 0.748141806207555, 0.07573563016822103, 0.13687902584671832, 1.0123246744592231, 0.9587332861968995, 0.4860442990090752, 0.9718404298026123, 0.5879530835073661, 0.7955689362691735, 0.863886260883799, 0.947112468815042, 1.0144581477653083, 0.958636539202684, 0.8538968611679508, 1.098915276229116, 1.0221280706067108, 0.26708618818460234, 0.6027220092407295, 0.8686578241100799, 1.0958782230964785, 0.3372444433127365, 0.8287075193222752, 0.19988054900735763, 0.08132969177833893, 0.8815049333413835, 0.9423719015542635, 0.9093489420473164, 0.21098414319755895, 0.9181117639438922, 0.5398249074259076, 0.25352612158237964, 0.22748717279219446, 1.0083104690182787, 0.4011067930232193, 0.7991491020390376, 0.6713911383163779, 0.7384652081800833, 0.8471182066753098, 0.05539817597695543, 0.12373202160019528, 0.7527784391323216, 0.21096138080488983, 1.0459161417121352, 0.982030294351673, 0.8693150287473763, 0.5435623850119276, 1.0914306332660042, 0.8954007189495029, 0.872152223717397, 0.11457950315220794, 0.7023762060734993, 0.8679890511284588, 0.9735792211196405, 0.2352123895851974, 0.5257157557542287, 0.0966570840121739, 0.3915777156856398, 0.40620951502008384, 0.5563002807945711, 0.9287284123514572, 1.0107712649386078, 0.7090896365466173, 0.220602393102044, 0.5679185764822606, 0.16411977735553548, 1.1367673776383977, 0.3998281611302054, 0.9409926919168601, 0.7849651477267724, 0.40450279943881134, 0.6137062126291012, 0.22300462646561692, 0.549473350974221, 0.7653864752163864, 0.8866068075128529, 0.8269448471682256, 0.6919572681002077, 0.09598584740679728, 0.921427860837215, 0.13090585233804364, 0.708073706544875, 0.5953673442120604, 0.662046710981531, 0.6381008654279617, 0.24465186146853457, 1.060030149286084, 0.7488019569243001, -0.03162831609870871, 0.6036520491736346, 0.8900372542109308, 0.5669552804252124, 1.025321115737968, 0.6722832366601202, 0.163902767064797, 0.9210944649201596, 0.49356261972143056, 0.8096130028026692, 0.7174606455400276, 0.6532250811403223, 0.29157261562178366, 0.2212330253379633, 0.44471746141975255, 0.47152389058042293, 0.6742885813462738, 0.6896349026977713, 0.3571278338151201, 0.4057417900374254, 0.00817004076966052, 0.7009224597105804, 0.8202303548674952, 0.6964627164785605, 1.055221255419995, 1.068621936007729, 0.995160530592945, 0.28999256891276015, 0.2900083101499388, 1.0503355163432597, 0.9487101716012722, 0.7965550564269417], \"yaxis\": \"y\"}, {\"hoverlabel\": {\"namelength\": 0}, \"hovertemplate\": \"dbscan_label=-1<br>x=%{x}<br>y=%{y}\", \"legendgroup\": \"dbscan_label=-1\", \"marker\": {\"color\": \"#00cc96\", \"symbol\": \"circle\"}, \"mode\": \"markers\", \"name\": \"dbscan_label=-1\", \"showlegend\": true, \"type\": \"scatter\", \"x\": [1.740452092301724, -0.16419264277805473, -1.0563766442123035], \"xaxis\": \"x\", \"y\": [0.5354200429219066, -0.10434745860853986, -0.3568205299359881], \"yaxis\": \"y\"}],\n",
              "                        {\"height\": 500, \"legend\": {\"tracegroupgap\": 0}, \"margin\": {\"t\": 60}, \"template\": {\"data\": {\"bar\": [{\"error_x\": {\"color\": \"#2a3f5f\"}, \"error_y\": {\"color\": \"#2a3f5f\"}, \"marker\": {\"line\": {\"color\": \"#E5ECF6\", \"width\": 0.5}}, \"type\": \"bar\"}], \"barpolar\": [{\"marker\": {\"line\": {\"color\": \"#E5ECF6\", \"width\": 0.5}}, \"type\": \"barpolar\"}], \"carpet\": [{\"aaxis\": {\"endlinecolor\": \"#2a3f5f\", \"gridcolor\": \"white\", \"linecolor\": \"white\", \"minorgridcolor\": \"white\", \"startlinecolor\": \"#2a3f5f\"}, \"baxis\": {\"endlinecolor\": \"#2a3f5f\", \"gridcolor\": \"white\", \"linecolor\": \"white\", \"minorgridcolor\": \"white\", \"startlinecolor\": \"#2a3f5f\"}, \"type\": \"carpet\"}], \"choropleth\": [{\"colorbar\": {\"outlinewidth\": 0, \"ticks\": \"\"}, \"type\": \"choropleth\"}], \"contour\": [{\"colorbar\": {\"outlinewidth\": 0, \"ticks\": \"\"}, \"colorscale\": [[0.0, \"#0d0887\"], [0.1111111111111111, \"#46039f\"], [0.2222222222222222, \"#7201a8\"], [0.3333333333333333, \"#9c179e\"], [0.4444444444444444, \"#bd3786\"], [0.5555555555555556, \"#d8576b\"], [0.6666666666666666, \"#ed7953\"], [0.7777777777777778, \"#fb9f3a\"], [0.8888888888888888, \"#fdca26\"], [1.0, \"#f0f921\"]], \"type\": \"contour\"}], \"contourcarpet\": [{\"colorbar\": {\"outlinewidth\": 0, \"ticks\": \"\"}, \"type\": \"contourcarpet\"}], \"heatmap\": [{\"colorbar\": {\"outlinewidth\": 0, \"ticks\": \"\"}, \"colorscale\": [[0.0, \"#0d0887\"], [0.1111111111111111, \"#46039f\"], [0.2222222222222222, \"#7201a8\"], [0.3333333333333333, \"#9c179e\"], [0.4444444444444444, \"#bd3786\"], [0.5555555555555556, \"#d8576b\"], [0.6666666666666666, \"#ed7953\"], [0.7777777777777778, \"#fb9f3a\"], [0.8888888888888888, \"#fdca26\"], [1.0, \"#f0f921\"]], \"type\": \"heatmap\"}], \"heatmapgl\": [{\"colorbar\": {\"outlinewidth\": 0, \"ticks\": \"\"}, \"colorscale\": [[0.0, \"#0d0887\"], [0.1111111111111111, \"#46039f\"], [0.2222222222222222, \"#7201a8\"], [0.3333333333333333, \"#9c179e\"], [0.4444444444444444, \"#bd3786\"], [0.5555555555555556, \"#d8576b\"], [0.6666666666666666, \"#ed7953\"], [0.7777777777777778, \"#fb9f3a\"], [0.8888888888888888, \"#fdca26\"], [1.0, \"#f0f921\"]], \"type\": \"heatmapgl\"}], \"histogram\": [{\"marker\": {\"colorbar\": {\"outlinewidth\": 0, \"ticks\": \"\"}}, \"type\": \"histogram\"}], \"histogram2d\": [{\"colorbar\": {\"outlinewidth\": 0, \"ticks\": \"\"}, \"colorscale\": [[0.0, \"#0d0887\"], [0.1111111111111111, \"#46039f\"], [0.2222222222222222, \"#7201a8\"], [0.3333333333333333, \"#9c179e\"], [0.4444444444444444, \"#bd3786\"], [0.5555555555555556, \"#d8576b\"], [0.6666666666666666, \"#ed7953\"], [0.7777777777777778, \"#fb9f3a\"], [0.8888888888888888, \"#fdca26\"], [1.0, \"#f0f921\"]], \"type\": \"histogram2d\"}], \"histogram2dcontour\": [{\"colorbar\": {\"outlinewidth\": 0, \"ticks\": \"\"}, \"colorscale\": [[0.0, \"#0d0887\"], [0.1111111111111111, \"#46039f\"], [0.2222222222222222, \"#7201a8\"], [0.3333333333333333, \"#9c179e\"], [0.4444444444444444, \"#bd3786\"], [0.5555555555555556, \"#d8576b\"], [0.6666666666666666, \"#ed7953\"], [0.7777777777777778, \"#fb9f3a\"], [0.8888888888888888, \"#fdca26\"], [1.0, \"#f0f921\"]], \"type\": \"histogram2dcontour\"}], \"mesh3d\": [{\"colorbar\": {\"outlinewidth\": 0, \"ticks\": \"\"}, \"type\": \"mesh3d\"}], \"parcoords\": [{\"line\": {\"colorbar\": {\"outlinewidth\": 0, \"ticks\": \"\"}}, \"type\": \"parcoords\"}], \"pie\": [{\"automargin\": true, \"type\": \"pie\"}], \"scatter\": [{\"marker\": {\"colorbar\": {\"outlinewidth\": 0, \"ticks\": \"\"}}, \"type\": \"scatter\"}], \"scatter3d\": [{\"line\": {\"colorbar\": {\"outlinewidth\": 0, \"ticks\": \"\"}}, \"marker\": {\"colorbar\": {\"outlinewidth\": 0, \"ticks\": \"\"}}, \"type\": \"scatter3d\"}], \"scattercarpet\": [{\"marker\": {\"colorbar\": {\"outlinewidth\": 0, \"ticks\": \"\"}}, \"type\": \"scattercarpet\"}], \"scattergeo\": [{\"marker\": {\"colorbar\": {\"outlinewidth\": 0, \"ticks\": \"\"}}, \"type\": \"scattergeo\"}], \"scattergl\": [{\"marker\": {\"colorbar\": {\"outlinewidth\": 0, \"ticks\": \"\"}}, \"type\": \"scattergl\"}], \"scattermapbox\": [{\"marker\": {\"colorbar\": {\"outlinewidth\": 0, \"ticks\": \"\"}}, \"type\": \"scattermapbox\"}], \"scatterpolar\": [{\"marker\": {\"colorbar\": {\"outlinewidth\": 0, \"ticks\": \"\"}}, \"type\": \"scatterpolar\"}], \"scatterpolargl\": [{\"marker\": {\"colorbar\": {\"outlinewidth\": 0, \"ticks\": \"\"}}, \"type\": \"scatterpolargl\"}], \"scatterternary\": [{\"marker\": {\"colorbar\": {\"outlinewidth\": 0, \"ticks\": \"\"}}, \"type\": \"scatterternary\"}], \"surface\": [{\"colorbar\": {\"outlinewidth\": 0, \"ticks\": \"\"}, \"colorscale\": [[0.0, \"#0d0887\"], [0.1111111111111111, \"#46039f\"], [0.2222222222222222, \"#7201a8\"], [0.3333333333333333, \"#9c179e\"], [0.4444444444444444, \"#bd3786\"], [0.5555555555555556, \"#d8576b\"], [0.6666666666666666, \"#ed7953\"], [0.7777777777777778, \"#fb9f3a\"], [0.8888888888888888, \"#fdca26\"], [1.0, \"#f0f921\"]], \"type\": \"surface\"}], \"table\": [{\"cells\": {\"fill\": {\"color\": \"#EBF0F8\"}, \"line\": {\"color\": \"white\"}}, \"header\": {\"fill\": {\"color\": \"#C8D4E3\"}, \"line\": {\"color\": \"white\"}}, \"type\": \"table\"}]}, \"layout\": {\"annotationdefaults\": {\"arrowcolor\": \"#2a3f5f\", \"arrowhead\": 0, \"arrowwidth\": 1}, \"coloraxis\": {\"colorbar\": {\"outlinewidth\": 0, \"ticks\": \"\"}}, \"colorscale\": {\"diverging\": [[0, \"#8e0152\"], [0.1, \"#c51b7d\"], [0.2, \"#de77ae\"], [0.3, \"#f1b6da\"], [0.4, \"#fde0ef\"], [0.5, \"#f7f7f7\"], [0.6, \"#e6f5d0\"], [0.7, \"#b8e186\"], [0.8, \"#7fbc41\"], [0.9, \"#4d9221\"], [1, \"#276419\"]], \"sequential\": [[0.0, \"#0d0887\"], [0.1111111111111111, \"#46039f\"], [0.2222222222222222, \"#7201a8\"], [0.3333333333333333, \"#9c179e\"], [0.4444444444444444, \"#bd3786\"], [0.5555555555555556, \"#d8576b\"], [0.6666666666666666, \"#ed7953\"], [0.7777777777777778, \"#fb9f3a\"], [0.8888888888888888, \"#fdca26\"], [1.0, \"#f0f921\"]], \"sequentialminus\": [[0.0, \"#0d0887\"], [0.1111111111111111, \"#46039f\"], [0.2222222222222222, \"#7201a8\"], [0.3333333333333333, \"#9c179e\"], [0.4444444444444444, \"#bd3786\"], [0.5555555555555556, \"#d8576b\"], [0.6666666666666666, \"#ed7953\"], [0.7777777777777778, \"#fb9f3a\"], [0.8888888888888888, \"#fdca26\"], [1.0, \"#f0f921\"]]}, \"colorway\": [\"#636efa\", \"#EF553B\", \"#00cc96\", \"#ab63fa\", \"#FFA15A\", \"#19d3f3\", \"#FF6692\", \"#B6E880\", \"#FF97FF\", \"#FECB52\"], \"font\": {\"color\": \"#2a3f5f\"}, \"geo\": {\"bgcolor\": \"white\", \"lakecolor\": \"white\", \"landcolor\": \"#E5ECF6\", \"showlakes\": true, \"showland\": true, \"subunitcolor\": \"white\"}, \"hoverlabel\": {\"align\": \"left\"}, \"hovermode\": \"closest\", \"mapbox\": {\"style\": \"light\"}, \"paper_bgcolor\": \"white\", \"plot_bgcolor\": \"#E5ECF6\", \"polar\": {\"angularaxis\": {\"gridcolor\": \"white\", \"linecolor\": \"white\", \"ticks\": \"\"}, \"bgcolor\": \"#E5ECF6\", \"radialaxis\": {\"gridcolor\": \"white\", \"linecolor\": \"white\", \"ticks\": \"\"}}, \"scene\": {\"xaxis\": {\"backgroundcolor\": \"#E5ECF6\", \"gridcolor\": \"white\", \"gridwidth\": 2, \"linecolor\": \"white\", \"showbackground\": true, \"ticks\": \"\", \"zerolinecolor\": \"white\"}, \"yaxis\": {\"backgroundcolor\": \"#E5ECF6\", \"gridcolor\": \"white\", \"gridwidth\": 2, \"linecolor\": \"white\", \"showbackground\": true, \"ticks\": \"\", \"zerolinecolor\": \"white\"}, \"zaxis\": {\"backgroundcolor\": \"#E5ECF6\", \"gridcolor\": \"white\", \"gridwidth\": 2, \"linecolor\": \"white\", \"showbackground\": true, \"ticks\": \"\", \"zerolinecolor\": \"white\"}}, \"shapedefaults\": {\"line\": {\"color\": \"#2a3f5f\"}}, \"ternary\": {\"aaxis\": {\"gridcolor\": \"white\", \"linecolor\": \"white\", \"ticks\": \"\"}, \"baxis\": {\"gridcolor\": \"white\", \"linecolor\": \"white\", \"ticks\": \"\"}, \"bgcolor\": \"#E5ECF6\", \"caxis\": {\"gridcolor\": \"white\", \"linecolor\": \"white\", \"ticks\": \"\"}}, \"title\": {\"x\": 0.05}, \"xaxis\": {\"automargin\": true, \"gridcolor\": \"white\", \"linecolor\": \"white\", \"ticks\": \"\", \"title\": {\"standoff\": 15}, \"zerolinecolor\": \"white\", \"zerolinewidth\": 2}, \"yaxis\": {\"automargin\": true, \"gridcolor\": \"white\", \"linecolor\": \"white\", \"ticks\": \"\", \"title\": {\"standoff\": 15}, \"zerolinecolor\": \"white\", \"zerolinewidth\": 2}}}, \"title\": {\"text\": \"dbscan_label \\uc2dc\\uac01\\ud654\"}, \"width\": 600, \"xaxis\": {\"anchor\": \"y\", \"domain\": [0.0, 1.0], \"title\": {\"text\": \"x\"}}, \"yaxis\": {\"anchor\": \"x\", \"domain\": [0.0, 1.0], \"title\": {\"text\": \"y\"}}},\n",
              "                        {\"responsive\": true}\n",
              "                    ).then(function(){\n",
              "                            \n",
              "var gd = document.getElementById('5be7f305-1738-45f1-bb8b-9195bd0b70c6');\n",
              "var x = new MutationObserver(function (mutations, observer) {{\n",
              "        var display = window.getComputedStyle(gd).display;\n",
              "        if (!display || display === 'none') {{\n",
              "            console.log([gd, 'removed!']);\n",
              "            Plotly.purge(gd);\n",
              "            observer.disconnect();\n",
              "        }}\n",
              "}});\n",
              "\n",
              "// Listen for the removal of the full notebook cells\n",
              "var notebookContainer = gd.closest('#notebook-container');\n",
              "if (notebookContainer) {{\n",
              "    x.observe(notebookContainer, {childList: true});\n",
              "}}\n",
              "\n",
              "// Listen for the clearing of the current output cell\n",
              "var outputEl = gd.closest('.output');\n",
              "if (outputEl) {{\n",
              "    x.observe(outputEl, {childList: true});\n",
              "}}\n",
              "\n",
              "                        })\n",
              "                };\n",
              "                \n",
              "            </script>\n",
              "        </div>\n",
              "</body>\n",
              "</html>"
            ]
          },
          "metadata": {
            "tags": []
          }
        },
        {
          "output_type": "display_data",
          "data": {
            "text/html": [
              "<html>\n",
              "<head><meta charset=\"utf-8\" /></head>\n",
              "<body>\n",
              "    <div>\n",
              "            <script src=\"https://cdnjs.cloudflare.com/ajax/libs/mathjax/2.7.5/MathJax.js?config=TeX-AMS-MML_SVG\"></script><script type=\"text/javascript\">if (window.MathJax) {MathJax.Hub.Config({SVG: {font: \"STIX-Web\"}});}</script>\n",
              "                <script type=\"text/javascript\">window.PlotlyConfig = {MathJaxConfig: 'local'};</script>\n",
              "        <script src=\"https://cdn.plot.ly/plotly-latest.min.js\"></script>    \n",
              "            <div id=\"eb55297a-4ba6-48cd-88d3-d4a3629e03c4\" class=\"plotly-graph-div\" style=\"height:500px; width:600px;\"></div>\n",
              "            <script type=\"text/javascript\">\n",
              "                \n",
              "                    window.PLOTLYENV=window.PLOTLYENV || {};\n",
              "                    \n",
              "                if (document.getElementById(\"eb55297a-4ba6-48cd-88d3-d4a3629e03c4\")) {\n",
              "                    Plotly.newPlot(\n",
              "                        'eb55297a-4ba6-48cd-88d3-d4a3629e03c4',\n",
              "                        [{\"hoverlabel\": {\"namelength\": 0}, \"hovertemplate\": \"kmeans_label=1<br>x=%{x}<br>y=%{y}\", \"legendgroup\": \"kmeans_label=1\", \"marker\": {\"color\": \"#636efa\", \"symbol\": \"circle\"}, \"mode\": \"markers\", \"name\": \"kmeans_label=1\", \"showlegend\": true, \"type\": \"scatter\", \"x\": [-0.04405185436455387, 0.17881242677930137, 0.09171539700050081, 0.40156045922972966, 0.07314713993172753, -0.4178031928161623, 0.5552516585363515, 0.3022727378193304, -0.5247965363754132, 0.11756338555092069, 0.404559599307745, -0.29381359169325855, 0.02237367735743013, 0.052039835716421845, -1.119340367715941, 0.6746685269538756, 0.11590511420338562, -0.25247367792137004, -0.043682834885529404, -0.834513603902822, -0.5049155905696417, 0.7605778678586781, 0.29985442632480913, 0.11826978657090345, -0.7130367234824387, -1.0452223143606545, -1.0610029020734704, 0.3985161871037338, 0.033462363099337374, -0.8919029408079996, -0.9710888438761187, -0.4791414581275831, 0.4919544089308461, 0.0410776773647474, 0.21658112980549674, -0.64388146241787, 0.6683706670351148, 0.16473890548509473, -0.009247095964754717, -1.0104913674247578, -0.15095907350779758, 0.28341059943157637, 0.42168660618408793, 0.0034514995502456514, 0.2647671231050478, 0.06324742529253595, -0.2559695512442949, 0.2090468050023805, -1.0197784695319896, -0.16419264277805473, 0.3254160858230126, 0.20654495134218478, -0.02532499674177502, 0.5278969205172018, -0.7422978282856604, -0.7609520671028389, -0.49651016735263764, 0.47919081281108183, -0.9246852132955579, -0.19973768447083562, -0.966543565363345, -0.9976923228984038, 0.259718542404861, -0.5812357980233047, -0.9002692152319717, -0.25582248118023304, -1.1138631338303022, 0.13234844337348306, -0.11594691159512407, -0.32661461873026315, -0.6203513588550882, -1.1511863158724789, 0.5955667439508922, -0.1308958348924223, -0.8799966733224986, -0.7585085272396329, -0.8092021378321275, -0.07657329479524141, 0.3643485289920689, 0.0706262481600407, -0.9039386882590633, 0.23340051836624431, -0.7848715472141286, -0.6052644989118215, 0.05187296202004671, 0.18346525575039668, 0.4357050503972449, -0.19161096380566223, 0.23246382980226774, -0.6089928003474744, -0.14663398900921182, 0.2432922979322884, 0.2481370154715898, -0.6474151293600467, -0.2998246700886737, -0.867194684720239, 0.45564543502722626, -1.0050512879881874, -0.17983124228592573, -0.6805626396188176, -0.6490735256969274, -0.536868509390947, 0.09373483171858374, -0.9263843640116586, -0.1223731313381849, 0.15475677041477062, -0.5405845524825568, -1.0200230889843025, 0.04061773858849012, -0.3154849918885533, -1.0223978310048576, -0.04510451879071933, -0.994564259030683, 0.3603982008922027, -0.4408604389520875, -0.5151095273058485, -1.0563766442123035, -1.0351547981205815, 0.0083564707053621, -0.12004194518298957, 0.06357500148967771, -0.30368999098948596, 0.07222261812178199, -0.39790391370032724, 0.49229061778845873, 0.19481701963916617, -0.10148376708261908, 0.2825817386035496, -0.33440741651656025, 0.15227499084567703, -0.9103538545522244, 0.652791628022177, 0.15095217091376792, 0.2049831993182284, -1.0351508911672802, -0.8495786602831639, -0.9293446879170691, -0.6635954598691399, 0.07750159554668323, 0.12508148690837878, 0.18786203305535706, -0.9080886149685693, 0.5858015888336551, 0.08128104436835105, 0.2621963091845073, 0.2791274315012009, 0.07587637693033553, 0.2185468890445362, 0.031333571273604, -1.0991324877898918, 0.05943075792034612, 0.008629185751882248, 0.7067448851525836, 0.1018886995222481, 0.23308716959053433, 0.15132759806894286, -0.808584190274535, -0.573486935719889, 0.3974880824749839, -0.6121576257879583, -0.40620203173039965, 0.577010942050867, -0.8431589135514671, 0.14554876861527338, 0.20872539439732596, 0.01575435537698975, 0.08103530943841337, 0.2982728817544293, 0.05079807673102646, -0.9159944605722037, 0.09090431203597911, -0.9855961407261281, -0.0457775363766378, 0.6689785958971225, 0.33478569722706114, 0.0225989916723915, 0.2905170667683744, 0.6567229379131222, 0.3209014155840095, 0.23241761555025903, -0.9368801423457124, -0.4044565529876215, 0.2680686577935133, 0.6096776291794008, 0.519633282205532, -0.8067740153047347, -1.0655947175512142, -1.0984313739240208, -1.0115042991719052, 0.593417605519658, 0.6893488089833144, 0.13264402366925823, 0.17583821874143654, -0.72730191303691, -1.0039351561663472, -0.8515613634567728, -0.344768061166429, -0.6240556307959167, 0.09982365388048871, 0.21711474696683666, 0.06152089034007621, -0.3183138362478756, -0.7693711814576643, 0.42481712855727227, 0.06612998562530321, -0.0747996734498523], \"xaxis\": \"x\", \"y\": [0.43607778101760863, 0.26886231388723847, 0.9461179874453445, 0.9268166356399812, 0.9168823205037456, 0.9969302258350214, 0.965685772429867, 0.9301292941685252, 0.7897125490862673, 0.10550256974316223, 0.95239331683874, 0.8871058855450891, -0.011244065183244362, 0.8683552101965917, 0.012114675029737565, 0.7648464577460884, -0.03455360646626823, 1.0157254753141933, 0.789928213280756, 0.5482327588836816, 0.8158505869016326, 0.8490047684040152, 0.7977673987470991, 0.8778058534457707, 0.9233940786148171, 0.2789271744465052, 0.4259623231575948, 0.7578228472730179, 0.19067157702276952, 0.4960748810175608, 0.6405981687615638, 1.0093246672652925, 0.9901126903122439, 1.0533222871839638, 0.9736687007203508, 0.8241928619908845, 0.8047279428402697, -0.18751597646936197, 0.03742781347292015, 0.26766467034661684, 0.5363974171515313, -0.1450026982659779, 0.8574857282534363, 0.9232315981434537, 0.9512736717500212, 0.013266377828641828, 0.9769812759008681, 0.24958736254698483, 0.4310704881654892, -0.10434745860853986, 1.0154113850377267, 0.07817393049748056, 0.947301799237025, 0.9436475009919664, 0.688066258718179, 1.0259518073320897, 1.020847176615835, 0.8667912886886442, 0.6659339268772327, 1.0933060138877637, 0.28801758688468887, 0.48813212785537713, -0.14858140113014096, 0.6748887284276055, 0.2619201140227827, 1.0180954146828698, -0.08705661343128906, 0.00912932714886762, 0.24031371708309332, 0.7493900295321627, 0.8387098635497955, -0.06624355977916652, 0.6386728106302391, 0.9641399984129664, 0.283554573861271, 0.748141806207555, 0.13687902584671832, 1.0123246744592231, 0.9587332861968995, 0.27277848784097924, 0.4860442990090752, 0.9718404298026123, 0.5879530835073661, 0.7955689362691735, 0.11809294944569163, 0.863886260883799, 0.947112468815042, 1.0144581477653083, 0.958636539202684, 0.8538968611679508, 1.098915276229116, -0.2985209827634067, 1.0221280706067108, 0.8686578241100799, 1.0958782230964785, 0.3372444433127365, 0.8287075193222752, 0.19988054900735763, 0.27210742336973803, 0.08132969177833893, 0.8815049333413835, 0.9423719015542635, 0.9093489420473164, 0.21098414319755895, 0.34272142754523316, 0.25817568609572544, 0.9181117639438922, 0.22748717279219446, 0.19092611177757238, 1.0083104690182787, 0.4011067930232193, 0.7991491020390376, 0.6713911383163779, -0.12579009793677248, 0.7384652081800833, 0.8471182066753098, -0.3568205299359881, 0.05539817597695543, 0.5320457749816218, 0.7527784391323216, -0.07375254500638109, 1.0459161417121352, 0.13627157664599823, 0.982030294351673, 0.8693150287473763, 1.0914306332660042, 0.8954007189495029, -0.16532079284824672, 0.872152223717397, 0.02198057941962034, 0.11457950315220794, 0.8679890511284588, 0.9735792211196405, -0.37334478387442843, 0.2352123895851974, 0.5257157557542287, 0.5563002807945711, 0.9287284123514572, 0.2177456466088653, 1.0107712649386078, -0.20224818473919925, 0.220602393102044, 0.5679185764822606, 0.5655440149193591, -0.2605001465555224, -0.26884664450584866, 1.1367673776383977, 0.20383370529796563, 0.24276731510751107, 0.3998281611302054, 0.9409926919168601, 0.24999982561095813, 0.7849651477267724, 0.49498808243247494, 0.1275069459089364, -0.23883742575743933, 0.549473350974221, 0.7653864752163864, 0.8866068075128529, 0.8269448471682256, 0.6919572681002077, 0.921427860837215, 0.708073706544875, 0.2169283752033758, 0.08119429053081831, 0.23973280995637058, 0.5570725509248531, -0.12638098881700305, 0.46414246315263463, 0.662046710981531, 0.23872062239361602, 0.24465186146853457, 1.060030149286084, 0.6036520491736346, 0.8900372542109308, 0.40528001022145993, 1.025321115737968, 0.6722832366601202, -0.12664039057205045, 0.9210944649201596, 0.49356261972143056, 0.8096130028026692, -0.07010628425274437, 0.7174606455400276, 0.6532250811403223, 0.29157261562178366, 0.2212330253379633, 0.44471746141975255, 0.47152389058042293, 0.6742885813462738, 0.6896349026977713, -0.158979629866297, -0.1711557573059312, 0.4057417900374254, 0.00817004076966052, 0.7009224597105804, 0.8202303548674952, 0.6964627164785605, 1.055221255419995, 1.068621936007729, 0.26358525411585665, 0.995160530592945, 0.2900083101499388, 1.0503355163432597, 0.9487101716012722, 0.7965550564269417], \"yaxis\": \"y\"}, {\"hoverlabel\": {\"namelength\": 0}, \"hovertemplate\": \"kmeans_label=0<br>x=%{x}<br>y=%{y}\", \"legendgroup\": \"kmeans_label=0\", \"marker\": {\"color\": \"#EF553B\", \"symbol\": \"circle\"}, \"mode\": \"markers\", \"name\": \"kmeans_label=0\", \"showlegend\": true, \"type\": \"scatter\", \"x\": [0.6922304485774229, 0.8281977981485314, 1.3757911943525358, 0.45860466022215285, 0.9579878024190793, 1.8524970559962026, 0.8580279728331913, 0.6189365495878882, 1.8927960119108467, 2.169029362678773, 1.0893364137634811, 2.0669459262896903, 0.5877990025461418, 1.0446289348001918, 2.0490213676870517, 0.453000976269902, 2.1534991209951535, 0.6240688008428807, 1.7828070067277453, 1.806489808286964, 0.8905252470097118, 2.0034066514848714, 0.9604818564529551, 0.9290715732995999, 1.3419458957279273, 1.5452174341489513, 1.764957168546406, 0.9224449677324292, 1.0225793504988576, 0.8408477423017393, 0.2964391408080224, 0.9666350914963895, 1.6831546515793194, 0.43826348511034413, 1.740452092301724, 1.3012044573186852, 0.9496985380360062, 2.021650614049808, 1.7690167227990816, 0.702434617830942, 0.9493893492279155, 0.8953640992371084, 0.686247114883507, 0.4135899135206339, 1.0577396586654602, 1.5658002856216526, 1.1529542320186548, 1.8320855582539974, 1.9886682809991771, 1.0832306132818155, 1.0762354226047843, 0.9804704487371622, 1.7419705803807746, 1.8949012493453714, 2.0281830266713725, 0.7295586309939159, 2.0165730120568788, 1.0090524120850748, 0.8181446341926059, 0.8291064621354819, 1.1864304003533328, 0.7588546454896044, 0.940616481696544, 1.8498418744289271, 1.0076808280989389, 1.6638459329092838, 1.6872832037570835, 1.260522773047423, 0.5687897887080057, 0.5078751167554956, 1.0831469058632226, 0.9771117727121236, 0.9063697767081207, 0.7803374476056197, 1.922550311349182, 1.1750337382650022, 1.5611843539210797, 0.4481765327303048, 1.051622752860439, 1.3457410648452206, 1.9250783905350084, 2.128778248212025, 1.0274744413540133, 1.792856509913606, 2.0071012074483465, 1.1736206804738114, 1.056272964342253, 0.7460124466135112, 1.3365798384645975, 1.498489509539917, 1.975693655313992, 1.3769137547348915, 1.6728813869324226, 1.6448138852597582, 1.6705417974900587, 1.457852249627546, 0.976715110638505, 0.796228522033799, 0.7888519002662029, 0.9305692278235662, 0.9784119369643645, 1.4758331265836486, 1.3533832696767325, 1.0366465155314608, 1.8936032702640215, 0.5943858451752875, 1.885006370759624, 0.9389125135270914, 1.7893976221378944, 1.9371282674993187, 0.9166357854923943, 0.4229368998509608, 0.9981936878290952, 1.874315243153208, 1.6470491039434203, 1.9686415215524833, 1.7843131131506498, 2.0873045148599823, 1.3148496627000024, 0.8494651045710285, 1.9508672322774856, 0.938344700184442, 0.7461365894557511, 0.7980254495229531, 1.9701048704314503, 1.0732469394954367, 0.922355666831577, 1.179959994061442, 1.325082692179819, 0.5568693550491782, 0.7450034565443301, 1.0060978915552157, 1.0993371067091071, 1.0604130877330895, 1.4462645794969085, 1.0643805747202955, 1.9261906290309088, 1.6237768965846349, 0.8727925257301243, 1.0098726006114973, 0.5993675602813255, 1.525369983953064, 1.054941483052359, 1.2136000567339893, 0.7976359593737035, 1.961108543928387, 0.8059004682255754, 0.8487619173221225, 0.95116813790414, 0.8345576822705425, 1.8916875532375048, 1.3528302565382921, 0.74380252328883, 1.6283256315766768, 0.9398855834587191, 1.8681586907315795, 2.1277507888341294, 1.846066968959805, 0.905843066983084, 0.4764277360194793, 0.7547580557250606, 1.1645508833612985, 0.45777725614298304, 0.7800780371174919, 0.9360900798447133, 0.8552106280976605, 0.40095040462607473, 1.5057375454140596, 1.5589905162770326, 0.4463256730065187, 0.8604722047896834, 1.3193048015154476, 0.6689344099794808, 1.6369396239440042, 1.8250086156767336, 1.0911356663298046, 1.9771635326594774, 1.2487446961310449, 2.0397784183254832, 1.5811433931248629, 0.7968700476436335, 1.2559789044345149, 0.6671056801212313, 0.803862955043394, 1.755527350459414, 0.4722598345644735, 1.1014506588758581, 1.668619917195012, 1.9207005824962247, 1.6106948141690762, 2.051806694384509, 1.1621430615794484, 0.7241611107656446, 1.929872146707251], \"xaxis\": \"x\", \"y\": [-0.4011194632440612, 0.5415218892178506, -0.4513290871112877, -0.3476620899215156, 0.12114286887719278, 0.1599189780891384, 0.6755129042792798, -0.6523278952709434, 0.158747858462253, 0.32216590687738944, 0.28773650388840166, 0.5549359778342985, -0.4275752586735255, 0.11362423171192629, 0.5587208679105828, -0.37282399872071736, 0.3387743351635715, -0.3249173888665629, -0.23043958881624316, 0.25595173111671626, 0.7099043476407715, 0.2223803368419529, 0.2598976348965632, 0.7044894326221837, -0.43467545128738916, -0.2025606431151623, 0.12339506639239467, 0.6012696775757825, 0.36066014634971644, -0.683810686127401, -0.41241573507105345, 0.5834251609429104, -0.3177480119227779, -0.38340484123539237, 0.5354200429219066, -0.4195693110355442, 0.023234430827277622, 0.3481653007891365, 0.20281525401323908, -0.5634133844961742, 0.042395034693238194, 0.12029412831425107, -0.40495076112290174, -0.2320469450349981, -0.5010974292201972, -0.15587107312135612, -0.5388390359189088, 0.007344939439863404, 0.17873633391097563, 0.30243413363940314, 0.31552877308582405, 0.25009378313745445, -0.08661529391898053, -0.18713179029828392, 0.37029889398262206, -0.37240717905441106, 0.15904904573753528, -0.7054738367924506, 0.7016062224228446, -0.5651271337464877, -0.519764696461732, -0.45614703155803, 0.25749074749584544, 0.006391413083718128, 0.34117127567420824, -0.21466511695958101, -0.390961809823812, -0.4766645861004665, -0.2677047542484201, -0.48441334225022337, -0.7040686518936875, 0.40745819890591284, -0.3263153064040736, -0.3862360517512149, -0.023703499695742758, 0.08712904314172767, -0.2802004578206971, -0.16445885394768184, 0.07573563016822103, -0.6347527000227957, 0.2703337265054317, 0.3285139273519466, -0.5378165485798784, -0.09965088293999937, 0.14070793064631937, -0.26267904632598416, 0.26708618818460234, 0.6027220092407295, -0.4000759499004397, -0.5554431740207553, 0.22898137437768737, -0.3990335438365677, -0.28120663796327605, -0.42347286188539957, -0.1316839261626955, -0.22512481834440223, -0.5487601936944003, -0.6021366375822279, -0.5251206254974262, 0.5398249074259076, 0.25352612158237964, -0.42390792934014865, -0.47274322766457466, -0.4985476580125366, 0.14287399006123414, -0.528630928174813, 0.10420737924262266, -0.5135540452630449, -0.26387131943612496, 0.3675642914202532, 0.12373202160019528, -0.03656097531307502, 0.21096138080488983, -0.05318329701654417, -0.16757444093230295, 0.10291719279716784, -0.1520068909668203, 0.28530735074108815, -0.44725774744016616, 0.5435623850119276, 0.3900256213166849, -0.6327445340710072, -0.5110142065757868, 0.7023762060734993, 0.06999163949717546, 0.0966570840121739, 0.3915777156856398, 0.40620951502008384, -0.4694932597705525, -0.28647303390245527, 0.7090896365466173, -0.6716737343647, -0.5255392480328201, -0.664348506659051, -0.44476972105908064, 0.16411977735553548, -0.034101486858117314, -0.33120103482858776, 0.40450279943881134, 0.6137062126291012, -0.5724314430588369, 0.0019297974426112918, 0.22300462646561692, -0.3417331989379858, -0.3839793843645204, 0.040814972387245074, 0.09598584740679728, -0.4363056984528748, 0.13090585233804364, 0.5953673442120604, 0.09509014818593642, -0.4265362405070112, -0.4984572915678237, -0.2528451566092468, -0.6683544103342967, -0.02515342308285237, 0.42675405509515674, 0.10121826279463625, -0.5700794902937782, -0.38939614448640203, 0.6381008654279617, -0.40249503600795367, -0.10078345978288639, 0.7488019569243001, -0.03162831609870871, 0.5669552804252124, -0.27463813164370005, -0.37329350355500024, -0.23748233613720784, -0.328051945416493, 0.163902767064797, -0.40253376846929073, -0.3160694603337302, -0.4744664601030904, 0.5437106356516351, -0.6172332210395521, 0.3666784091668318, -0.36527871113721005, 0.5374177752148195, -0.1694959403716835, 0.3571278338151201, -0.5769106371591088, -0.4360539225120356, -0.3328595135185971, -0.19911487236295916, -0.19863427705176354, -0.486249852261357, -0.20106864327115975, 0.05914098492307132, -0.23393265974914823, 0.6307986637140104, 0.28999256891276015, -0.28599311361127777, -0.26332583701466633], \"yaxis\": \"y\"}],\n",
              "                        {\"height\": 500, \"legend\": {\"tracegroupgap\": 0}, \"margin\": {\"t\": 60}, \"template\": {\"data\": {\"bar\": [{\"error_x\": {\"color\": \"#2a3f5f\"}, \"error_y\": {\"color\": \"#2a3f5f\"}, \"marker\": {\"line\": {\"color\": \"#E5ECF6\", \"width\": 0.5}}, \"type\": \"bar\"}], \"barpolar\": [{\"marker\": {\"line\": {\"color\": \"#E5ECF6\", \"width\": 0.5}}, \"type\": \"barpolar\"}], \"carpet\": [{\"aaxis\": {\"endlinecolor\": \"#2a3f5f\", \"gridcolor\": \"white\", \"linecolor\": \"white\", \"minorgridcolor\": \"white\", \"startlinecolor\": \"#2a3f5f\"}, \"baxis\": {\"endlinecolor\": \"#2a3f5f\", \"gridcolor\": \"white\", \"linecolor\": \"white\", \"minorgridcolor\": \"white\", \"startlinecolor\": \"#2a3f5f\"}, \"type\": \"carpet\"}], \"choropleth\": [{\"colorbar\": {\"outlinewidth\": 0, \"ticks\": \"\"}, \"type\": \"choropleth\"}], \"contour\": [{\"colorbar\": {\"outlinewidth\": 0, \"ticks\": \"\"}, \"colorscale\": [[0.0, \"#0d0887\"], [0.1111111111111111, \"#46039f\"], [0.2222222222222222, \"#7201a8\"], [0.3333333333333333, \"#9c179e\"], [0.4444444444444444, \"#bd3786\"], [0.5555555555555556, \"#d8576b\"], [0.6666666666666666, \"#ed7953\"], [0.7777777777777778, \"#fb9f3a\"], [0.8888888888888888, \"#fdca26\"], [1.0, \"#f0f921\"]], \"type\": \"contour\"}], \"contourcarpet\": [{\"colorbar\": {\"outlinewidth\": 0, \"ticks\": \"\"}, \"type\": \"contourcarpet\"}], \"heatmap\": [{\"colorbar\": {\"outlinewidth\": 0, \"ticks\": \"\"}, \"colorscale\": [[0.0, \"#0d0887\"], [0.1111111111111111, \"#46039f\"], [0.2222222222222222, \"#7201a8\"], [0.3333333333333333, \"#9c179e\"], [0.4444444444444444, \"#bd3786\"], [0.5555555555555556, \"#d8576b\"], [0.6666666666666666, \"#ed7953\"], [0.7777777777777778, \"#fb9f3a\"], [0.8888888888888888, \"#fdca26\"], [1.0, \"#f0f921\"]], \"type\": \"heatmap\"}], \"heatmapgl\": [{\"colorbar\": {\"outlinewidth\": 0, \"ticks\": \"\"}, \"colorscale\": [[0.0, \"#0d0887\"], [0.1111111111111111, \"#46039f\"], [0.2222222222222222, \"#7201a8\"], [0.3333333333333333, \"#9c179e\"], [0.4444444444444444, \"#bd3786\"], [0.5555555555555556, \"#d8576b\"], [0.6666666666666666, \"#ed7953\"], [0.7777777777777778, \"#fb9f3a\"], [0.8888888888888888, \"#fdca26\"], [1.0, \"#f0f921\"]], \"type\": \"heatmapgl\"}], \"histogram\": [{\"marker\": {\"colorbar\": {\"outlinewidth\": 0, \"ticks\": \"\"}}, \"type\": \"histogram\"}], \"histogram2d\": [{\"colorbar\": {\"outlinewidth\": 0, \"ticks\": \"\"}, \"colorscale\": [[0.0, \"#0d0887\"], [0.1111111111111111, \"#46039f\"], [0.2222222222222222, \"#7201a8\"], [0.3333333333333333, \"#9c179e\"], [0.4444444444444444, \"#bd3786\"], [0.5555555555555556, \"#d8576b\"], [0.6666666666666666, \"#ed7953\"], [0.7777777777777778, \"#fb9f3a\"], [0.8888888888888888, \"#fdca26\"], [1.0, \"#f0f921\"]], \"type\": \"histogram2d\"}], \"histogram2dcontour\": [{\"colorbar\": {\"outlinewidth\": 0, \"ticks\": \"\"}, \"colorscale\": [[0.0, \"#0d0887\"], [0.1111111111111111, \"#46039f\"], [0.2222222222222222, \"#7201a8\"], [0.3333333333333333, \"#9c179e\"], [0.4444444444444444, \"#bd3786\"], [0.5555555555555556, \"#d8576b\"], [0.6666666666666666, \"#ed7953\"], [0.7777777777777778, \"#fb9f3a\"], [0.8888888888888888, \"#fdca26\"], [1.0, \"#f0f921\"]], \"type\": \"histogram2dcontour\"}], \"mesh3d\": [{\"colorbar\": {\"outlinewidth\": 0, \"ticks\": \"\"}, \"type\": \"mesh3d\"}], \"parcoords\": [{\"line\": {\"colorbar\": {\"outlinewidth\": 0, \"ticks\": \"\"}}, \"type\": \"parcoords\"}], \"pie\": [{\"automargin\": true, \"type\": \"pie\"}], \"scatter\": [{\"marker\": {\"colorbar\": {\"outlinewidth\": 0, \"ticks\": \"\"}}, \"type\": \"scatter\"}], \"scatter3d\": [{\"line\": {\"colorbar\": {\"outlinewidth\": 0, \"ticks\": \"\"}}, \"marker\": {\"colorbar\": {\"outlinewidth\": 0, \"ticks\": \"\"}}, \"type\": \"scatter3d\"}], \"scattercarpet\": [{\"marker\": {\"colorbar\": {\"outlinewidth\": 0, \"ticks\": \"\"}}, \"type\": \"scattercarpet\"}], \"scattergeo\": [{\"marker\": {\"colorbar\": {\"outlinewidth\": 0, \"ticks\": \"\"}}, \"type\": \"scattergeo\"}], \"scattergl\": [{\"marker\": {\"colorbar\": {\"outlinewidth\": 0, \"ticks\": \"\"}}, \"type\": \"scattergl\"}], \"scattermapbox\": [{\"marker\": {\"colorbar\": {\"outlinewidth\": 0, \"ticks\": \"\"}}, \"type\": \"scattermapbox\"}], \"scatterpolar\": [{\"marker\": {\"colorbar\": {\"outlinewidth\": 0, \"ticks\": \"\"}}, \"type\": \"scatterpolar\"}], \"scatterpolargl\": [{\"marker\": {\"colorbar\": {\"outlinewidth\": 0, \"ticks\": \"\"}}, \"type\": \"scatterpolargl\"}], \"scatterternary\": [{\"marker\": {\"colorbar\": {\"outlinewidth\": 0, \"ticks\": \"\"}}, \"type\": \"scatterternary\"}], \"surface\": [{\"colorbar\": {\"outlinewidth\": 0, \"ticks\": \"\"}, \"colorscale\": [[0.0, \"#0d0887\"], [0.1111111111111111, \"#46039f\"], [0.2222222222222222, \"#7201a8\"], [0.3333333333333333, \"#9c179e\"], [0.4444444444444444, \"#bd3786\"], [0.5555555555555556, \"#d8576b\"], [0.6666666666666666, \"#ed7953\"], [0.7777777777777778, \"#fb9f3a\"], [0.8888888888888888, \"#fdca26\"], [1.0, \"#f0f921\"]], \"type\": \"surface\"}], \"table\": [{\"cells\": {\"fill\": {\"color\": \"#EBF0F8\"}, \"line\": {\"color\": \"white\"}}, \"header\": {\"fill\": {\"color\": \"#C8D4E3\"}, \"line\": {\"color\": \"white\"}}, \"type\": \"table\"}]}, \"layout\": {\"annotationdefaults\": {\"arrowcolor\": \"#2a3f5f\", \"arrowhead\": 0, \"arrowwidth\": 1}, \"coloraxis\": {\"colorbar\": {\"outlinewidth\": 0, \"ticks\": \"\"}}, \"colorscale\": {\"diverging\": [[0, \"#8e0152\"], [0.1, \"#c51b7d\"], [0.2, \"#de77ae\"], [0.3, \"#f1b6da\"], [0.4, \"#fde0ef\"], [0.5, \"#f7f7f7\"], [0.6, \"#e6f5d0\"], [0.7, \"#b8e186\"], [0.8, \"#7fbc41\"], [0.9, \"#4d9221\"], [1, \"#276419\"]], \"sequential\": [[0.0, \"#0d0887\"], [0.1111111111111111, \"#46039f\"], [0.2222222222222222, \"#7201a8\"], [0.3333333333333333, \"#9c179e\"], [0.4444444444444444, \"#bd3786\"], [0.5555555555555556, \"#d8576b\"], [0.6666666666666666, \"#ed7953\"], [0.7777777777777778, \"#fb9f3a\"], [0.8888888888888888, \"#fdca26\"], [1.0, \"#f0f921\"]], \"sequentialminus\": [[0.0, \"#0d0887\"], [0.1111111111111111, \"#46039f\"], [0.2222222222222222, \"#7201a8\"], [0.3333333333333333, \"#9c179e\"], [0.4444444444444444, \"#bd3786\"], [0.5555555555555556, \"#d8576b\"], [0.6666666666666666, \"#ed7953\"], [0.7777777777777778, \"#fb9f3a\"], [0.8888888888888888, \"#fdca26\"], [1.0, \"#f0f921\"]]}, \"colorway\": [\"#636efa\", \"#EF553B\", \"#00cc96\", \"#ab63fa\", \"#FFA15A\", \"#19d3f3\", \"#FF6692\", \"#B6E880\", \"#FF97FF\", \"#FECB52\"], \"font\": {\"color\": \"#2a3f5f\"}, \"geo\": {\"bgcolor\": \"white\", \"lakecolor\": \"white\", \"landcolor\": \"#E5ECF6\", \"showlakes\": true, \"showland\": true, \"subunitcolor\": \"white\"}, \"hoverlabel\": {\"align\": \"left\"}, \"hovermode\": \"closest\", \"mapbox\": {\"style\": \"light\"}, \"paper_bgcolor\": \"white\", \"plot_bgcolor\": \"#E5ECF6\", \"polar\": {\"angularaxis\": {\"gridcolor\": \"white\", \"linecolor\": \"white\", \"ticks\": \"\"}, \"bgcolor\": \"#E5ECF6\", \"radialaxis\": {\"gridcolor\": \"white\", \"linecolor\": \"white\", \"ticks\": \"\"}}, \"scene\": {\"xaxis\": {\"backgroundcolor\": \"#E5ECF6\", \"gridcolor\": \"white\", \"gridwidth\": 2, \"linecolor\": \"white\", \"showbackground\": true, \"ticks\": \"\", \"zerolinecolor\": \"white\"}, \"yaxis\": {\"backgroundcolor\": \"#E5ECF6\", \"gridcolor\": \"white\", \"gridwidth\": 2, \"linecolor\": \"white\", \"showbackground\": true, \"ticks\": \"\", \"zerolinecolor\": \"white\"}, \"zaxis\": {\"backgroundcolor\": \"#E5ECF6\", \"gridcolor\": \"white\", \"gridwidth\": 2, \"linecolor\": \"white\", \"showbackground\": true, \"ticks\": \"\", \"zerolinecolor\": \"white\"}}, \"shapedefaults\": {\"line\": {\"color\": \"#2a3f5f\"}}, \"ternary\": {\"aaxis\": {\"gridcolor\": \"white\", \"linecolor\": \"white\", \"ticks\": \"\"}, \"baxis\": {\"gridcolor\": \"white\", \"linecolor\": \"white\", \"ticks\": \"\"}, \"bgcolor\": \"#E5ECF6\", \"caxis\": {\"gridcolor\": \"white\", \"linecolor\": \"white\", \"ticks\": \"\"}}, \"title\": {\"x\": 0.05}, \"xaxis\": {\"automargin\": true, \"gridcolor\": \"white\", \"linecolor\": \"white\", \"ticks\": \"\", \"title\": {\"standoff\": 15}, \"zerolinecolor\": \"white\", \"zerolinewidth\": 2}, \"yaxis\": {\"automargin\": true, \"gridcolor\": \"white\", \"linecolor\": \"white\", \"ticks\": \"\", \"title\": {\"standoff\": 15}, \"zerolinecolor\": \"white\", \"zerolinewidth\": 2}}}, \"title\": {\"text\": \"kmeans_label \\uc2dc\\uac01\\ud654\"}, \"width\": 600, \"xaxis\": {\"anchor\": \"y\", \"domain\": [0.0, 1.0], \"title\": {\"text\": \"x\"}}, \"yaxis\": {\"anchor\": \"x\", \"domain\": [0.0, 1.0], \"title\": {\"text\": \"y\"}}},\n",
              "                        {\"responsive\": true}\n",
              "                    ).then(function(){\n",
              "                            \n",
              "var gd = document.getElementById('eb55297a-4ba6-48cd-88d3-d4a3629e03c4');\n",
              "var x = new MutationObserver(function (mutations, observer) {{\n",
              "        var display = window.getComputedStyle(gd).display;\n",
              "        if (!display || display === 'none') {{\n",
              "            console.log([gd, 'removed!']);\n",
              "            Plotly.purge(gd);\n",
              "            observer.disconnect();\n",
              "        }}\n",
              "}});\n",
              "\n",
              "// Listen for the removal of the full notebook cells\n",
              "var notebookContainer = gd.closest('#notebook-container');\n",
              "if (notebookContainer) {{\n",
              "    x.observe(notebookContainer, {childList: true});\n",
              "}}\n",
              "\n",
              "// Listen for the clearing of the current output cell\n",
              "var outputEl = gd.closest('.output');\n",
              "if (outputEl) {{\n",
              "    x.observe(outputEl, {childList: true});\n",
              "}}\n",
              "\n",
              "                        })\n",
              "                };\n",
              "                \n",
              "            </script>\n",
              "        </div>\n",
              "</body>\n",
              "</html>"
            ]
          },
          "metadata": {
            "tags": []
          }
        }
      ]
    },
    {
      "cell_type": "markdown",
      "metadata": {
        "id": "bXXNgQ6Z-vIR"
      },
      "source": [
        "### 수치적으로 결과 평가"
      ]
    },
    {
      "cell_type": "code",
      "metadata": {
        "id": "zBCC-lME-gcQ"
      },
      "source": [
        "def find_matching_cluster(cluster_case, actual_labels, cluster_labels):\n",
        "  matched_cluster={}\n",
        "  temp_labels = [i+100 for i in range(100)]\n",
        "  actual_case = list(set(actual_labels))\n",
        "\n",
        "  for i in cluster_case:\n",
        "    if len(actual_case) > 0:\n",
        "      idx = cluster_labels == i\n",
        "      new_label = scipy.stats.mode(actual_labels[idx])[0][0]\n",
        "      print(actual_case, \"-\", new_label)\n",
        "      if new_label in actual_case:\n",
        "        actual_case.remove(new_label)\n",
        "      else:\n",
        "        new_label=temp_labels[new_label]\n",
        "        temp_labels.remove(new_label)\n",
        "        # 매칭되는 실제 label 명을 dict 형태로 저장\n",
        "      matched_cluster[i] = new_label\n",
        "    else:\n",
        "      new_label=None\n",
        "    print(f\"훈련된 label명 : {i} >> 가장 빈번한 실제 label명 : {new_label}\")\n",
        "  return matched_cluster"
      ],
      "execution_count": 79,
      "outputs": []
    },
    {
      "cell_type": "code",
      "metadata": {
        "colab": {
          "base_uri": "https://localhost:8080/"
        },
        "id": "6KiCmJbSOhwq",
        "outputId": "85d317eb-6d1e-43ba-8450-7bcdc8ddb3e7"
      },
      "source": [
        "# 훈련된 dbscan label을 데이터가 많은 순서로 정렬\n",
        "dbscan_labels = moon_dbscan.labels_\n",
        "dbscan_case_dict = dict((x, list(dbscan_labels).count(x)) for x in set(dbscan_labels))\n",
        "sorted_dbscan_case = sorted(dbscan_case_dict, key=dbscan_case_dict.get, reverse=True)\n",
        "sorted_dbscan_case"
      ],
      "execution_count": 80,
      "outputs": [
        {
          "output_type": "execute_result",
          "data": {
            "text/plain": [
              "[1, 0, -1]"
            ]
          },
          "metadata": {
            "tags": []
          },
          "execution_count": 80
        }
      ]
    },
    {
      "cell_type": "code",
      "metadata": {
        "id": "jLuu-OFKO11v",
        "colab": {
          "base_uri": "https://localhost:8080/"
        },
        "outputId": "70a40f60-9ac7-4cdd-b1e9-d7c54a51149b"
      },
      "source": [
        "dbscan_perm_dict = find_matching_cluster(sorted_dbscan_case, moon_labels, dbscan_labels)\n",
        "dbscan_perm_dict"
      ],
      "execution_count": 81,
      "outputs": [
        {
          "output_type": "stream",
          "text": [
            "[0, 1] - 0\n",
            "훈련된 label명 : 1 >> 가장 빈번한 실제 label명 : 0\n",
            "[1] - 1\n",
            "훈련된 label명 : 0 >> 가장 빈번한 실제 label명 : 1\n",
            "훈련된 label명 : -1 >> 가장 빈번한 실제 label명 : None\n"
          ],
          "name": "stdout"
        },
        {
          "output_type": "execute_result",
          "data": {
            "text/plain": [
              "{0: 1, 1: 0}"
            ]
          },
          "metadata": {
            "tags": []
          },
          "execution_count": 81
        }
      ]
    },
    {
      "cell_type": "code",
      "metadata": {
        "colab": {
          "base_uri": "https://localhost:8080/"
        },
        "id": "2HkeNT2sRcGu",
        "outputId": "d593f042-8965-4716-955b-a85da9b5529f"
      },
      "source": [
        "# label 매칭하기\n",
        "dbscan_new_labels = [label if label not in dbscan_perm_dict else dbscan_perm_dict[label] for label in dbscan_labels] \n",
        "print(np.array(dbscan_new_labels[:80]))\n",
        "print(np.array(dbscan_labels[:80]))"
      ],
      "execution_count": 82,
      "outputs": [
        {
          "output_type": "stream",
          "text": [
            "[ 1  1  0  1  0  0  1  0  1  0  0  1  0  0  0  0  1  1  1  1  0  0  1  1\n",
            "  0  1  0  1  1  0  1  0  1  0  1  0  0  1  0  0  1  0  0  0  0  1  0  0\n",
            "  0  0  0  1  1  0  1  0  1  0  0  0  0  1  1  0  0  0  1  1 -1  0  1  0\n",
            "  0  0  1  1  1  1  0  1]\n",
            "[ 0  0  1  0  1  1  0  1  0  1  1  0  1  1  1  1  0  0  0  0  1  1  0  0\n",
            "  1  0  1  0  0  1  0  1  0  1  0  1  1  0  1  1  0  1  1  1  1  0  1  1\n",
            "  1  1  1  0  0  1  0  1  0  1  1  1  1  0  0  1  1  1  0  0 -1  1  0  1\n",
            "  1  1  0  0  0  0  1  0]\n"
          ],
          "name": "stdout"
        }
      ]
    },
    {
      "cell_type": "code",
      "metadata": {
        "colab": {
          "base_uri": "https://localhost:8080/"
        },
        "id": "5AriiLM0UHiM",
        "outputId": "e1506800-3d9a-4d68-a0c7-776bafaa3da5"
      },
      "source": [
        "kmean_labels = moon_km.labels_\n",
        "km_case = list(set(kmean_labels))\n",
        "kmean_perm_dict = find_matching_cluster(km_case, moon_labels, kmean_labels)\n",
        "kmean_perm_dict"
      ],
      "execution_count": 83,
      "outputs": [
        {
          "output_type": "stream",
          "text": [
            "[0, 1] - 1\n",
            "훈련된 label명 : 0 >> 가장 빈번한 실제 label명 : 1\n",
            "[0] - 0\n",
            "훈련된 label명 : 1 >> 가장 빈번한 실제 label명 : 0\n"
          ],
          "name": "stdout"
        },
        {
          "output_type": "execute_result",
          "data": {
            "text/plain": [
              "{0: 1, 1: 0}"
            ]
          },
          "metadata": {
            "tags": []
          },
          "execution_count": 83
        }
      ]
    },
    {
      "cell_type": "code",
      "metadata": {
        "id": "mGjDzybcUWli"
      },
      "source": [
        "kmeans_new_labels = [kmean_perm_dict[label] for label in kmean_labels]"
      ],
      "execution_count": 87,
      "outputs": []
    },
    {
      "cell_type": "code",
      "metadata": {
        "colab": {
          "base_uri": "https://localhost:8080/"
        },
        "id": "nYidLrvgUvcX",
        "outputId": "0e706e42-ad9e-4ef6-b1b7-bb4228eabf66"
      },
      "source": [
        "moon_kmeans_acc = accuracy_score(moon_labels, kmeans_new_labels)\n",
        "print(f\"Accuracy score of K-means: {round(moon_kmeans_acc,4)}\")\n",
        "\n",
        "moon_dbscan_acc = accuracy_score(moon_labels, dbscan_new_labels)\n",
        "print(f\"Accuracy score of DBSCAN: {round(moon_dbscan_acc,4)}\")"
      ],
      "execution_count": 85,
      "outputs": [
        {
          "output_type": "stream",
          "text": [
            "Accuracy score of K-means: 0.74\n",
            "Accuracy score of DBSCAN: 0.9925\n"
          ],
          "name": "stdout"
        }
      ]
    },
    {
      "cell_type": "markdown",
      "metadata": {
        "id": "43aMLWnwVr-A"
      },
      "source": [
        "### DBSCAN - silhouette score 비교하기"
      ]
    },
    {
      "cell_type": "code",
      "metadata": {
        "colab": {
          "base_uri": "https://localhost:8080/"
        },
        "id": "McXpMzAQVC-8",
        "outputId": "7ca46d22-f13b-4ffc-be29-fdb99f9ef4e8"
      },
      "source": [
        "km_sc_value = silhouette_score(np.array(moon_data), kmeans_new_labels, metric=\"euclidean\", sample_size=None, random_state=None)\n",
        "print(f\"Silhouette score of K-means: {round(km_sc_value, 4)}\")\n",
        "\n",
        "dbscan_sc_value = silhouette_score(np.array(moon_data), dbscan_new_labels, metric=\"euclidean\", sample_size=None, random_state=None)\n",
        "print(f\"Silhouette score of K-means: {round(dbscan_sc_value, 4)}\")"
      ],
      "execution_count": 89,
      "outputs": [
        {
          "output_type": "stream",
          "text": [
            "Silhouette score of K-means: 0.4831\n",
            "Silhouette score of K-means: 0.2634\n"
          ],
          "name": "stdout"
        }
      ]
    },
    {
      "cell_type": "markdown",
      "metadata": {
        "id": "xSshXIlwWjJM"
      },
      "source": [
        "[silhouette score 특징]\n",
        "\n",
        "- silhouette score 계산 방법의 특징 때문에,\n",
        "구형이 아닌 경우, 실제 시각화에서는 dbscan의 군집이 합리적이게 보이나,\n",
        "- silhouette score 점수는 오히려 낮게 나올 수 있음.\n",
        "> (데이터 분포가 구형이 아닌 경우, 각 군집의 중심점이 다른 군집과 가까워질 수 있기 때문.)"
      ]
    },
    {
      "cell_type": "code",
      "metadata": {
        "id": "zezpN5ZHV6MO"
      },
      "source": [
        ""
      ],
      "execution_count": null,
      "outputs": []
    }
  ]
}