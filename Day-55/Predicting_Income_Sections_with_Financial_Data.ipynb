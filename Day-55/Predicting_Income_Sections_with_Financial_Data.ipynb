{
  "nbformat": 4,
  "nbformat_minor": 0,
  "metadata": {
    "colab": {
      "name": "Predicting_Income_Sections_with_Financial_Data.ipynb",
      "provenance": [],
      "collapsed_sections": []
    },
    "kernelspec": {
      "name": "python3",
      "display_name": "Python 3"
    },
    "language_info": {
      "name": "python"
    }
  },
  "cells": [
    {
      "cell_type": "markdown",
      "metadata": {
        "id": "yfwmWMjrMIu7"
      },
      "source": [
        "# 금융 데이터로 소득구간 예측하기"
      ]
    },
    {
      "cell_type": "markdown",
      "metadata": {
        "id": "UjAG4n02MIol"
      },
      "source": [
        "### <b> 금융 데이터의 속성</b>\n",
        "금융 데이터의 특성\n",
        "- 1) <b>이종(heterogeneous) 데이터의 결합</b>: 데이터의 원천·형태·스케일 등이 서로 다른 성격을 가짐\n",
        "- 2) <b>분포의 편향성(skewedness)</b>: 예측값과 정답이 멀리 떨어져 있으면 학습 결과의 편향(bias)이 높을 수 있음\n",
        "- 3) <b>분류 레이블의 불명확성</b>: 소득구간·신용등급·상품종류 등은 비즈니스 로직을 포함하므로 분류가 임의적 → 분석가의 해석력이 중요\n",
        "- 4) <b>변수의 다중공선성(multicollinearity)</b>: 변수간 상호의존이나 상관관계가 강하게 나타날 수 있음\n",
        "- 5) <b>변수의 비선형성</b>: 변수의 영향력이 선형적이지 않을 수 있음, e.g.) 나이가 소득에 미치는 영향은?\n",
        "- 그 외 현실적인 규제·수집·저장 등의 한계 때문에 데이터가 불완전(missing, truncated, censored)할 수 있음"
      ]
    },
    {
      "cell_type": "markdown",
      "metadata": {
        "id": "h3LLsvYaMIlq"
      },
      "source": [
        "### <b>다중분류와 소득구간 예측</b>\n",
        "예측할 클래스(레이블 혹은 레벨)가 3개 이상인 경우를 다중분류 문제라고 함. <br>\n",
        "단순하게는 Multiclass classification, 회귀방법론을 쓴다면 Multinomial logistic regression 이라는 명칭으로 불림. 클래스간 위계관계(포함관계)는 동등하다고 가정. \n",
        "\n",
        "소득구간 예측은 전형적인 다중분류 문제임. \n",
        "- 1) <b> 클래스간 구분이 명확하지 않을 경우</b>: 소득구간 구분은 어떻게 지어야 하며, 클래스는 몇 개로 결정해야 하는가? \n",
        "- 2) <b>클래스간 구분에 순서가 있을 경우</b>: 정확하게 말하자면 각 소득구간은 순서가 있는(ordinal) 클래스로 보아야 할 것임.\n",
        "- 3) <b>특정 클래스에 해당하는 값이 부족할 경우</b>: 고소득 구간 고객 수와 중소득 구간 고객의 수가 현저히 차이가 날 때 어떻게 해결할 것인지?\n",
        "\n",
        "다중분류 문제는 이진분류 대비 아래와 같은 추가 고려사항이 있음.\n",
        "- 1) <b>모델 구현할 때 주의사항</b>: 변수의 원-핫-인코딩 처리, 목적함수의 결정 등\n",
        "- 2) <b>결과 해석할 때 주의사항</b>: 정확도(Accuracy), F1 스코어, Confusion Matrix 등"
      ]
    },
    {
      "cell_type": "markdown",
      "metadata": {
        "id": "1ZUgGNZHMNMx"
      },
      "source": [
        "### 데이터 소개\n",
        " \n",
        "- US Census Bureau에서 수집하고 UCI에서 배포한 US Adult Income 데이터셋에 자체 제작한 모의 변수를 추가·수정한 데이터를 사용.\n",
        " \n",
        " \n",
        "- `age` : 나이\n",
        "- `workclass`: 직업구분\n",
        "- `education`: 교육수준\n",
        "- `education.num`: 교육수준(numerically coded)\n",
        "- `marital.status`: 혼인상태\n",
        "- `occupation` : 직업\n",
        "- `relationship`: 가족관계\n",
        "- `race`: 인종\n",
        "- `sex`: 성별\n",
        "- `capital.gain`: 자본이득\n",
        "- `capital.loss`: 자본손실\n",
        "- `hours.per.week`: 주당 근로시간\n",
        "- `income` : 소득 구분\n",
        " \n",
        "원 데이터 출처: https://archive.ics.uci.edu/ml/datasets/adult"
      ]
    },
    {
      "cell_type": "code",
      "metadata": {
        "id": "uRgbBHwrJmoR"
      },
      "source": [
        "import numpy as np  \n",
        "import pandas as pd\n",
        "import matplotlib.pyplot as plt\n",
        "import seaborn as sns \n",
        "%matplotlib inline\n",
        "\n",
        "import warnings\n",
        "warnings.filterwarnings('ignore')"
      ],
      "execution_count": 20,
      "outputs": []
    },
    {
      "cell_type": "code",
      "metadata": {
        "colab": {
          "base_uri": "https://localhost:8080/",
          "height": 292
        },
        "id": "dHDlZo-bZIZI",
        "outputId": "ff854278-ac61-4722-cfca-0f50983d351e"
      },
      "source": [
        "datapath = 'https://github.com/mchoimis/financialML/raw/main/income/'\n",
        "df = pd.io.parsers.read_csv(datapath + 'income.csv')\n",
        "df.head()"
      ],
      "execution_count": 21,
      "outputs": [
        {
          "output_type": "execute_result",
          "data": {
            "text/html": [
              "<div>\n",
              "<style scoped>\n",
              "    .dataframe tbody tr th:only-of-type {\n",
              "        vertical-align: middle;\n",
              "    }\n",
              "\n",
              "    .dataframe tbody tr th {\n",
              "        vertical-align: top;\n",
              "    }\n",
              "\n",
              "    .dataframe thead th {\n",
              "        text-align: right;\n",
              "    }\n",
              "</style>\n",
              "<table border=\"1\" class=\"dataframe\">\n",
              "  <thead>\n",
              "    <tr style=\"text-align: right;\">\n",
              "      <th></th>\n",
              "      <th>age</th>\n",
              "      <th>workclass</th>\n",
              "      <th>fnlwgt</th>\n",
              "      <th>education</th>\n",
              "      <th>education.num</th>\n",
              "      <th>marital.status</th>\n",
              "      <th>occupation</th>\n",
              "      <th>relationship</th>\n",
              "      <th>race</th>\n",
              "      <th>sex</th>\n",
              "      <th>capital.gain</th>\n",
              "      <th>capital.loss</th>\n",
              "      <th>hours.per.week</th>\n",
              "      <th>native.country</th>\n",
              "      <th>income</th>\n",
              "    </tr>\n",
              "  </thead>\n",
              "  <tbody>\n",
              "    <tr>\n",
              "      <th>0</th>\n",
              "      <td>90</td>\n",
              "      <td>?</td>\n",
              "      <td>77053</td>\n",
              "      <td>HS-grad</td>\n",
              "      <td>9</td>\n",
              "      <td>Widowed</td>\n",
              "      <td>?</td>\n",
              "      <td>Not-in-family</td>\n",
              "      <td>White</td>\n",
              "      <td>Female</td>\n",
              "      <td>0</td>\n",
              "      <td>4356</td>\n",
              "      <td>40</td>\n",
              "      <td>United-States</td>\n",
              "      <td>&lt;=50K</td>\n",
              "    </tr>\n",
              "    <tr>\n",
              "      <th>1</th>\n",
              "      <td>82</td>\n",
              "      <td>Private</td>\n",
              "      <td>132870</td>\n",
              "      <td>HS-grad</td>\n",
              "      <td>9</td>\n",
              "      <td>Widowed</td>\n",
              "      <td>Exec-managerial</td>\n",
              "      <td>Not-in-family</td>\n",
              "      <td>White</td>\n",
              "      <td>Female</td>\n",
              "      <td>0</td>\n",
              "      <td>4356</td>\n",
              "      <td>18</td>\n",
              "      <td>United-States</td>\n",
              "      <td>&lt;=50K</td>\n",
              "    </tr>\n",
              "    <tr>\n",
              "      <th>2</th>\n",
              "      <td>66</td>\n",
              "      <td>?</td>\n",
              "      <td>186061</td>\n",
              "      <td>Some-college</td>\n",
              "      <td>10</td>\n",
              "      <td>Widowed</td>\n",
              "      <td>?</td>\n",
              "      <td>Unmarried</td>\n",
              "      <td>Black</td>\n",
              "      <td>Female</td>\n",
              "      <td>0</td>\n",
              "      <td>4356</td>\n",
              "      <td>40</td>\n",
              "      <td>United-States</td>\n",
              "      <td>&lt;=50K</td>\n",
              "    </tr>\n",
              "    <tr>\n",
              "      <th>3</th>\n",
              "      <td>54</td>\n",
              "      <td>Private</td>\n",
              "      <td>140359</td>\n",
              "      <td>7th-8th</td>\n",
              "      <td>4</td>\n",
              "      <td>Divorced</td>\n",
              "      <td>Machine-op-inspct</td>\n",
              "      <td>Unmarried</td>\n",
              "      <td>White</td>\n",
              "      <td>Female</td>\n",
              "      <td>0</td>\n",
              "      <td>3900</td>\n",
              "      <td>40</td>\n",
              "      <td>United-States</td>\n",
              "      <td>&lt;=50K</td>\n",
              "    </tr>\n",
              "    <tr>\n",
              "      <th>4</th>\n",
              "      <td>41</td>\n",
              "      <td>Private</td>\n",
              "      <td>264663</td>\n",
              "      <td>Some-college</td>\n",
              "      <td>10</td>\n",
              "      <td>Separated</td>\n",
              "      <td>Prof-specialty</td>\n",
              "      <td>Own-child</td>\n",
              "      <td>White</td>\n",
              "      <td>Female</td>\n",
              "      <td>0</td>\n",
              "      <td>3900</td>\n",
              "      <td>40</td>\n",
              "      <td>United-States</td>\n",
              "      <td>&lt;=50K</td>\n",
              "    </tr>\n",
              "  </tbody>\n",
              "</table>\n",
              "</div>"
            ],
            "text/plain": [
              "   age workclass  fnlwgt  ... hours.per.week  native.country income\n",
              "0   90         ?   77053  ...             40   United-States  <=50K\n",
              "1   82   Private  132870  ...             18   United-States  <=50K\n",
              "2   66         ?  186061  ...             40   United-States  <=50K\n",
              "3   54   Private  140359  ...             40   United-States  <=50K\n",
              "4   41   Private  264663  ...             40   United-States  <=50K\n",
              "\n",
              "[5 rows x 15 columns]"
            ]
          },
          "metadata": {
            "tags": []
          },
          "execution_count": 21
        }
      ]
    },
    {
      "cell_type": "code",
      "metadata": {
        "colab": {
          "base_uri": "https://localhost:8080/"
        },
        "id": "xn19G1ovZKIa",
        "outputId": "25f4ae73-9dc3-4a49-ad6f-ae3b165c15be"
      },
      "source": [
        "# 데이터 형태 확인\n",
        "\n",
        "print(df.shape)\n",
        "print(df.columns)"
      ],
      "execution_count": 3,
      "outputs": [
        {
          "output_type": "stream",
          "text": [
            "(32561, 15)\n",
            "Index(['age', 'workclass', 'fnlwgt', 'education', 'education.num',\n",
            "       'marital.status', 'occupation', 'relationship', 'race', 'sex',\n",
            "       'capital.gain', 'capital.loss', 'hours.per.week', 'native.country',\n",
            "       'income'],\n",
            "      dtype='object')\n"
          ],
          "name": "stdout"
        }
      ]
    },
    {
      "cell_type": "code",
      "metadata": {
        "colab": {
          "base_uri": "https://localhost:8080/"
        },
        "id": "0pwCo7EcZM1j",
        "outputId": "07769d28-9f98-413b-fecb-b2edbeaeea11"
      },
      "source": [
        "df.info()"
      ],
      "execution_count": 4,
      "outputs": [
        {
          "output_type": "stream",
          "text": [
            "<class 'pandas.core.frame.DataFrame'>\n",
            "RangeIndex: 32561 entries, 0 to 32560\n",
            "Data columns (total 15 columns):\n",
            " #   Column          Non-Null Count  Dtype \n",
            "---  ------          --------------  ----- \n",
            " 0   age             32561 non-null  int64 \n",
            " 1   workclass       32561 non-null  object\n",
            " 2   fnlwgt          32561 non-null  int64 \n",
            " 3   education       32561 non-null  object\n",
            " 4   education.num   32561 non-null  int64 \n",
            " 5   marital.status  32561 non-null  object\n",
            " 6   occupation      32561 non-null  object\n",
            " 7   relationship    32561 non-null  object\n",
            " 8   race            32561 non-null  object\n",
            " 9   sex             32561 non-null  object\n",
            " 10  capital.gain    32561 non-null  int64 \n",
            " 11  capital.loss    32561 non-null  int64 \n",
            " 12  hours.per.week  32561 non-null  int64 \n",
            " 13  native.country  32561 non-null  object\n",
            " 14  income          32561 non-null  object\n",
            "dtypes: int64(6), object(9)\n",
            "memory usage: 3.7+ MB\n"
          ],
          "name": "stdout"
        }
      ]
    },
    {
      "cell_type": "code",
      "metadata": {
        "id": "GU_LbgE8ZQpO"
      },
      "source": [
        "# 결측치를 NaN으로 바꾸기\n",
        "df[df=='?'] = np.nan"
      ],
      "execution_count": 22,
      "outputs": []
    },
    {
      "cell_type": "code",
      "metadata": {
        "id": "w-SJi5IqZSUc"
      },
      "source": [
        "# 최빈값으로 결측치 채우기\n",
        "for col in ['workclass', 'occupation', 'native.country']:\n",
        "    df[col].fillna(df[col].mode()[0], inplace=True)"
      ],
      "execution_count": 23,
      "outputs": []
    },
    {
      "cell_type": "code",
      "metadata": {
        "colab": {
          "base_uri": "https://localhost:8080/",
          "height": 292
        },
        "id": "cJXcl1IbZWXM",
        "outputId": "2a576dfa-3aa5-4e63-b2f2-9b52e3dd779a"
      },
      "source": [
        "# 결과 확인하기\n",
        "\n",
        "df.head()"
      ],
      "execution_count": 24,
      "outputs": [
        {
          "output_type": "execute_result",
          "data": {
            "text/html": [
              "<div>\n",
              "<style scoped>\n",
              "    .dataframe tbody tr th:only-of-type {\n",
              "        vertical-align: middle;\n",
              "    }\n",
              "\n",
              "    .dataframe tbody tr th {\n",
              "        vertical-align: top;\n",
              "    }\n",
              "\n",
              "    .dataframe thead th {\n",
              "        text-align: right;\n",
              "    }\n",
              "</style>\n",
              "<table border=\"1\" class=\"dataframe\">\n",
              "  <thead>\n",
              "    <tr style=\"text-align: right;\">\n",
              "      <th></th>\n",
              "      <th>age</th>\n",
              "      <th>workclass</th>\n",
              "      <th>fnlwgt</th>\n",
              "      <th>education</th>\n",
              "      <th>education.num</th>\n",
              "      <th>marital.status</th>\n",
              "      <th>occupation</th>\n",
              "      <th>relationship</th>\n",
              "      <th>race</th>\n",
              "      <th>sex</th>\n",
              "      <th>capital.gain</th>\n",
              "      <th>capital.loss</th>\n",
              "      <th>hours.per.week</th>\n",
              "      <th>native.country</th>\n",
              "      <th>income</th>\n",
              "    </tr>\n",
              "  </thead>\n",
              "  <tbody>\n",
              "    <tr>\n",
              "      <th>0</th>\n",
              "      <td>90</td>\n",
              "      <td>Private</td>\n",
              "      <td>77053</td>\n",
              "      <td>HS-grad</td>\n",
              "      <td>9</td>\n",
              "      <td>Widowed</td>\n",
              "      <td>Prof-specialty</td>\n",
              "      <td>Not-in-family</td>\n",
              "      <td>White</td>\n",
              "      <td>Female</td>\n",
              "      <td>0</td>\n",
              "      <td>4356</td>\n",
              "      <td>40</td>\n",
              "      <td>United-States</td>\n",
              "      <td>&lt;=50K</td>\n",
              "    </tr>\n",
              "    <tr>\n",
              "      <th>1</th>\n",
              "      <td>82</td>\n",
              "      <td>Private</td>\n",
              "      <td>132870</td>\n",
              "      <td>HS-grad</td>\n",
              "      <td>9</td>\n",
              "      <td>Widowed</td>\n",
              "      <td>Exec-managerial</td>\n",
              "      <td>Not-in-family</td>\n",
              "      <td>White</td>\n",
              "      <td>Female</td>\n",
              "      <td>0</td>\n",
              "      <td>4356</td>\n",
              "      <td>18</td>\n",
              "      <td>United-States</td>\n",
              "      <td>&lt;=50K</td>\n",
              "    </tr>\n",
              "    <tr>\n",
              "      <th>2</th>\n",
              "      <td>66</td>\n",
              "      <td>Private</td>\n",
              "      <td>186061</td>\n",
              "      <td>Some-college</td>\n",
              "      <td>10</td>\n",
              "      <td>Widowed</td>\n",
              "      <td>Prof-specialty</td>\n",
              "      <td>Unmarried</td>\n",
              "      <td>Black</td>\n",
              "      <td>Female</td>\n",
              "      <td>0</td>\n",
              "      <td>4356</td>\n",
              "      <td>40</td>\n",
              "      <td>United-States</td>\n",
              "      <td>&lt;=50K</td>\n",
              "    </tr>\n",
              "    <tr>\n",
              "      <th>3</th>\n",
              "      <td>54</td>\n",
              "      <td>Private</td>\n",
              "      <td>140359</td>\n",
              "      <td>7th-8th</td>\n",
              "      <td>4</td>\n",
              "      <td>Divorced</td>\n",
              "      <td>Machine-op-inspct</td>\n",
              "      <td>Unmarried</td>\n",
              "      <td>White</td>\n",
              "      <td>Female</td>\n",
              "      <td>0</td>\n",
              "      <td>3900</td>\n",
              "      <td>40</td>\n",
              "      <td>United-States</td>\n",
              "      <td>&lt;=50K</td>\n",
              "    </tr>\n",
              "    <tr>\n",
              "      <th>4</th>\n",
              "      <td>41</td>\n",
              "      <td>Private</td>\n",
              "      <td>264663</td>\n",
              "      <td>Some-college</td>\n",
              "      <td>10</td>\n",
              "      <td>Separated</td>\n",
              "      <td>Prof-specialty</td>\n",
              "      <td>Own-child</td>\n",
              "      <td>White</td>\n",
              "      <td>Female</td>\n",
              "      <td>0</td>\n",
              "      <td>3900</td>\n",
              "      <td>40</td>\n",
              "      <td>United-States</td>\n",
              "      <td>&lt;=50K</td>\n",
              "    </tr>\n",
              "  </tbody>\n",
              "</table>\n",
              "</div>"
            ],
            "text/plain": [
              "   age workclass  fnlwgt  ... hours.per.week  native.country income\n",
              "0   90   Private   77053  ...             40   United-States  <=50K\n",
              "1   82   Private  132870  ...             18   United-States  <=50K\n",
              "2   66   Private  186061  ...             40   United-States  <=50K\n",
              "3   54   Private  140359  ...             40   United-States  <=50K\n",
              "4   41   Private  264663  ...             40   United-States  <=50K\n",
              "\n",
              "[5 rows x 15 columns]"
            ]
          },
          "metadata": {
            "tags": []
          },
          "execution_count": 24
        }
      ]
    },
    {
      "cell_type": "code",
      "metadata": {
        "colab": {
          "base_uri": "https://localhost:8080/"
        },
        "id": "Fi-O-VZ9ZZ4l",
        "outputId": "0d43b2b6-fb1d-4c79-e135-5cb796972f07"
      },
      "source": [
        "df.isnull().sum()"
      ],
      "execution_count": 25,
      "outputs": [
        {
          "output_type": "execute_result",
          "data": {
            "text/plain": [
              "age               0\n",
              "workclass         0\n",
              "fnlwgt            0\n",
              "education         0\n",
              "education.num     0\n",
              "marital.status    0\n",
              "occupation        0\n",
              "relationship      0\n",
              "race              0\n",
              "sex               0\n",
              "capital.gain      0\n",
              "capital.loss      0\n",
              "hours.per.week    0\n",
              "native.country    0\n",
              "income            0\n",
              "dtype: int64"
            ]
          },
          "metadata": {
            "tags": []
          },
          "execution_count": 25
        }
      ]
    },
    {
      "cell_type": "markdown",
      "metadata": {
        "id": "vXJtWZdBoYVc"
      },
      "source": [
        "### Feature Engineering"
      ]
    },
    {
      "cell_type": "markdown",
      "metadata": {
        "id": "Pk3O-eUeoYSP"
      },
      "source": [
        "#### 인풋 피처와 타겟값 만들기"
      ]
    },
    {
      "cell_type": "code",
      "metadata": {
        "id": "YdF91jZ7nMaw"
      },
      "source": [
        "X =  df.drop(['income', 'education', 'fnlwgt'], axis = 1)\n",
        "y =  df['income']"
      ],
      "execution_count": 26,
      "outputs": []
    },
    {
      "cell_type": "code",
      "metadata": {
        "colab": {
          "base_uri": "https://localhost:8080/",
          "height": 204
        },
        "id": "OBxUd8gUobyw",
        "outputId": "c7d0be7b-57c5-43e5-b3bb-4e63ae582c0b"
      },
      "source": [
        "X.head()"
      ],
      "execution_count": 10,
      "outputs": [
        {
          "output_type": "execute_result",
          "data": {
            "text/html": [
              "<div>\n",
              "<style scoped>\n",
              "    .dataframe tbody tr th:only-of-type {\n",
              "        vertical-align: middle;\n",
              "    }\n",
              "\n",
              "    .dataframe tbody tr th {\n",
              "        vertical-align: top;\n",
              "    }\n",
              "\n",
              "    .dataframe thead th {\n",
              "        text-align: right;\n",
              "    }\n",
              "</style>\n",
              "<table border=\"1\" class=\"dataframe\">\n",
              "  <thead>\n",
              "    <tr style=\"text-align: right;\">\n",
              "      <th></th>\n",
              "      <th>age</th>\n",
              "      <th>workclass</th>\n",
              "      <th>education.num</th>\n",
              "      <th>marital.status</th>\n",
              "      <th>occupation</th>\n",
              "      <th>relationship</th>\n",
              "      <th>race</th>\n",
              "      <th>sex</th>\n",
              "      <th>capital.gain</th>\n",
              "      <th>capital.loss</th>\n",
              "      <th>hours.per.week</th>\n",
              "      <th>native.country</th>\n",
              "    </tr>\n",
              "  </thead>\n",
              "  <tbody>\n",
              "    <tr>\n",
              "      <th>0</th>\n",
              "      <td>90</td>\n",
              "      <td>Private</td>\n",
              "      <td>9</td>\n",
              "      <td>Widowed</td>\n",
              "      <td>Prof-specialty</td>\n",
              "      <td>Not-in-family</td>\n",
              "      <td>White</td>\n",
              "      <td>Female</td>\n",
              "      <td>0</td>\n",
              "      <td>4356</td>\n",
              "      <td>40</td>\n",
              "      <td>United-States</td>\n",
              "    </tr>\n",
              "    <tr>\n",
              "      <th>1</th>\n",
              "      <td>82</td>\n",
              "      <td>Private</td>\n",
              "      <td>9</td>\n",
              "      <td>Widowed</td>\n",
              "      <td>Exec-managerial</td>\n",
              "      <td>Not-in-family</td>\n",
              "      <td>White</td>\n",
              "      <td>Female</td>\n",
              "      <td>0</td>\n",
              "      <td>4356</td>\n",
              "      <td>18</td>\n",
              "      <td>United-States</td>\n",
              "    </tr>\n",
              "    <tr>\n",
              "      <th>2</th>\n",
              "      <td>66</td>\n",
              "      <td>Private</td>\n",
              "      <td>10</td>\n",
              "      <td>Widowed</td>\n",
              "      <td>Prof-specialty</td>\n",
              "      <td>Unmarried</td>\n",
              "      <td>Black</td>\n",
              "      <td>Female</td>\n",
              "      <td>0</td>\n",
              "      <td>4356</td>\n",
              "      <td>40</td>\n",
              "      <td>United-States</td>\n",
              "    </tr>\n",
              "    <tr>\n",
              "      <th>3</th>\n",
              "      <td>54</td>\n",
              "      <td>Private</td>\n",
              "      <td>4</td>\n",
              "      <td>Divorced</td>\n",
              "      <td>Machine-op-inspct</td>\n",
              "      <td>Unmarried</td>\n",
              "      <td>White</td>\n",
              "      <td>Female</td>\n",
              "      <td>0</td>\n",
              "      <td>3900</td>\n",
              "      <td>40</td>\n",
              "      <td>United-States</td>\n",
              "    </tr>\n",
              "    <tr>\n",
              "      <th>4</th>\n",
              "      <td>41</td>\n",
              "      <td>Private</td>\n",
              "      <td>10</td>\n",
              "      <td>Separated</td>\n",
              "      <td>Prof-specialty</td>\n",
              "      <td>Own-child</td>\n",
              "      <td>White</td>\n",
              "      <td>Female</td>\n",
              "      <td>0</td>\n",
              "      <td>3900</td>\n",
              "      <td>40</td>\n",
              "      <td>United-States</td>\n",
              "    </tr>\n",
              "  </tbody>\n",
              "</table>\n",
              "</div>"
            ],
            "text/plain": [
              "   age workclass  education.num  ... capital.loss hours.per.week native.country\n",
              "0   90   Private              9  ...         4356             40  United-States\n",
              "1   82   Private              9  ...         4356             18  United-States\n",
              "2   66   Private             10  ...         4356             40  United-States\n",
              "3   54   Private              4  ...         3900             40  United-States\n",
              "4   41   Private             10  ...         3900             40  United-States\n",
              "\n",
              "[5 rows x 12 columns]"
            ]
          },
          "metadata": {
            "tags": []
          },
          "execution_count": 10
        }
      ]
    },
    {
      "cell_type": "code",
      "metadata": {
        "colab": {
          "base_uri": "https://localhost:8080/"
        },
        "id": "DLEbM5nPoc-L",
        "outputId": "c5bfccdd-16a5-4405-85ad-5e15153519d9"
      },
      "source": [
        "y.head()"
      ],
      "execution_count": 11,
      "outputs": [
        {
          "output_type": "execute_result",
          "data": {
            "text/plain": [
              "0    <=50K\n",
              "1    <=50K\n",
              "2    <=50K\n",
              "3    <=50K\n",
              "4    <=50K\n",
              "Name: income, dtype: object"
            ]
          },
          "metadata": {
            "tags": []
          },
          "execution_count": 11
        }
      ]
    },
    {
      "cell_type": "markdown",
      "metadata": {
        "id": "SJm7oRfloe7a"
      },
      "source": [
        "####원 데이터를 training set과 test set으로 나누기\n"
      ]
    },
    {
      "cell_type": "code",
      "metadata": {
        "colab": {
          "base_uri": "https://localhost:8080/",
          "height": 204
        },
        "id": "RBU0SBw-oeEu",
        "outputId": "e11997b4-58ef-4387-e326-e70015625e87"
      },
      "source": [
        "from sklearn.model_selection import train_test_split\n",
        "\n",
        "X_train, X_test, y_train, y_test =  train_test_split(X, y, test_size = 0.3, random_state = 0)\n",
        "X_train.head()"
      ],
      "execution_count": 27,
      "outputs": [
        {
          "output_type": "execute_result",
          "data": {
            "text/html": [
              "<div>\n",
              "<style scoped>\n",
              "    .dataframe tbody tr th:only-of-type {\n",
              "        vertical-align: middle;\n",
              "    }\n",
              "\n",
              "    .dataframe tbody tr th {\n",
              "        vertical-align: top;\n",
              "    }\n",
              "\n",
              "    .dataframe thead th {\n",
              "        text-align: right;\n",
              "    }\n",
              "</style>\n",
              "<table border=\"1\" class=\"dataframe\">\n",
              "  <thead>\n",
              "    <tr style=\"text-align: right;\">\n",
              "      <th></th>\n",
              "      <th>age</th>\n",
              "      <th>workclass</th>\n",
              "      <th>education.num</th>\n",
              "      <th>marital.status</th>\n",
              "      <th>occupation</th>\n",
              "      <th>relationship</th>\n",
              "      <th>race</th>\n",
              "      <th>sex</th>\n",
              "      <th>capital.gain</th>\n",
              "      <th>capital.loss</th>\n",
              "      <th>hours.per.week</th>\n",
              "      <th>native.country</th>\n",
              "    </tr>\n",
              "  </thead>\n",
              "  <tbody>\n",
              "    <tr>\n",
              "      <th>32098</th>\n",
              "      <td>40</td>\n",
              "      <td>State-gov</td>\n",
              "      <td>13</td>\n",
              "      <td>Married-civ-spouse</td>\n",
              "      <td>Exec-managerial</td>\n",
              "      <td>Wife</td>\n",
              "      <td>White</td>\n",
              "      <td>Female</td>\n",
              "      <td>0</td>\n",
              "      <td>0</td>\n",
              "      <td>20</td>\n",
              "      <td>United-States</td>\n",
              "    </tr>\n",
              "    <tr>\n",
              "      <th>25206</th>\n",
              "      <td>39</td>\n",
              "      <td>Local-gov</td>\n",
              "      <td>9</td>\n",
              "      <td>Married-civ-spouse</td>\n",
              "      <td>Machine-op-inspct</td>\n",
              "      <td>Husband</td>\n",
              "      <td>White</td>\n",
              "      <td>Male</td>\n",
              "      <td>0</td>\n",
              "      <td>0</td>\n",
              "      <td>38</td>\n",
              "      <td>United-States</td>\n",
              "    </tr>\n",
              "    <tr>\n",
              "      <th>23491</th>\n",
              "      <td>42</td>\n",
              "      <td>Private</td>\n",
              "      <td>10</td>\n",
              "      <td>Never-married</td>\n",
              "      <td>Exec-managerial</td>\n",
              "      <td>Not-in-family</td>\n",
              "      <td>White</td>\n",
              "      <td>Female</td>\n",
              "      <td>0</td>\n",
              "      <td>0</td>\n",
              "      <td>40</td>\n",
              "      <td>United-States</td>\n",
              "    </tr>\n",
              "    <tr>\n",
              "      <th>12367</th>\n",
              "      <td>27</td>\n",
              "      <td>Local-gov</td>\n",
              "      <td>9</td>\n",
              "      <td>Never-married</td>\n",
              "      <td>Farming-fishing</td>\n",
              "      <td>Own-child</td>\n",
              "      <td>White</td>\n",
              "      <td>Male</td>\n",
              "      <td>0</td>\n",
              "      <td>0</td>\n",
              "      <td>40</td>\n",
              "      <td>United-States</td>\n",
              "    </tr>\n",
              "    <tr>\n",
              "      <th>7054</th>\n",
              "      <td>38</td>\n",
              "      <td>Federal-gov</td>\n",
              "      <td>14</td>\n",
              "      <td>Married-civ-spouse</td>\n",
              "      <td>Exec-managerial</td>\n",
              "      <td>Husband</td>\n",
              "      <td>White</td>\n",
              "      <td>Male</td>\n",
              "      <td>0</td>\n",
              "      <td>0</td>\n",
              "      <td>40</td>\n",
              "      <td>United-States</td>\n",
              "    </tr>\n",
              "  </tbody>\n",
              "</table>\n",
              "</div>"
            ],
            "text/plain": [
              "       age    workclass  ...  hours.per.week native.country\n",
              "32098   40    State-gov  ...              20  United-States\n",
              "25206   39    Local-gov  ...              38  United-States\n",
              "23491   42      Private  ...              40  United-States\n",
              "12367   27    Local-gov  ...              40  United-States\n",
              "7054    38  Federal-gov  ...              40  United-States\n",
              "\n",
              "[5 rows x 12 columns]"
            ]
          },
          "metadata": {
            "tags": []
          },
          "execution_count": 27
        }
      ]
    },
    {
      "cell_type": "markdown",
      "metadata": {
        "id": "-xrOA-SWYbmD"
      },
      "source": [
        "### 범주변수 처리하기"
      ]
    },
    {
      "cell_type": "code",
      "metadata": {
        "id": "s3PFBjdQojnu"
      },
      "source": [
        "from sklearn import preprocessing\n",
        "\n",
        "categorical = ['workclass', 'marital.status', 'occupation', 'relationship', 'race', 'sex', 'native.country']\n",
        "for feature in categorical:\n",
        "        le =  preprocessing.LabelEncoder()\n",
        "        X_train[feature] =  le.fit_transform(X_train[feature]) \n",
        "        X_test[feature] =   le.transform(X_test[feature]) "
      ],
      "execution_count": 28,
      "outputs": []
    },
    {
      "cell_type": "code",
      "metadata": {
        "colab": {
          "base_uri": "https://localhost:8080/",
          "height": 142
        },
        "id": "wBU9NDjkd-w8",
        "outputId": "5179904d-babc-49d7-c966-63bae411c71d"
      },
      "source": [
        "# 결과확인\n",
        "X_train[categorical].head(3)"
      ],
      "execution_count": 29,
      "outputs": [
        {
          "output_type": "execute_result",
          "data": {
            "text/html": [
              "<div>\n",
              "<style scoped>\n",
              "    .dataframe tbody tr th:only-of-type {\n",
              "        vertical-align: middle;\n",
              "    }\n",
              "\n",
              "    .dataframe tbody tr th {\n",
              "        vertical-align: top;\n",
              "    }\n",
              "\n",
              "    .dataframe thead th {\n",
              "        text-align: right;\n",
              "    }\n",
              "</style>\n",
              "<table border=\"1\" class=\"dataframe\">\n",
              "  <thead>\n",
              "    <tr style=\"text-align: right;\">\n",
              "      <th></th>\n",
              "      <th>workclass</th>\n",
              "      <th>marital.status</th>\n",
              "      <th>occupation</th>\n",
              "      <th>relationship</th>\n",
              "      <th>race</th>\n",
              "      <th>sex</th>\n",
              "      <th>native.country</th>\n",
              "    </tr>\n",
              "  </thead>\n",
              "  <tbody>\n",
              "    <tr>\n",
              "      <th>32098</th>\n",
              "      <td>6</td>\n",
              "      <td>2</td>\n",
              "      <td>3</td>\n",
              "      <td>5</td>\n",
              "      <td>4</td>\n",
              "      <td>0</td>\n",
              "      <td>38</td>\n",
              "    </tr>\n",
              "    <tr>\n",
              "      <th>25206</th>\n",
              "      <td>1</td>\n",
              "      <td>2</td>\n",
              "      <td>6</td>\n",
              "      <td>0</td>\n",
              "      <td>4</td>\n",
              "      <td>1</td>\n",
              "      <td>38</td>\n",
              "    </tr>\n",
              "    <tr>\n",
              "      <th>23491</th>\n",
              "      <td>3</td>\n",
              "      <td>4</td>\n",
              "      <td>3</td>\n",
              "      <td>1</td>\n",
              "      <td>4</td>\n",
              "      <td>0</td>\n",
              "      <td>38</td>\n",
              "    </tr>\n",
              "  </tbody>\n",
              "</table>\n",
              "</div>"
            ],
            "text/plain": [
              "       workclass  marital.status  occupation  ...  race  sex  native.country\n",
              "32098          6               2           3  ...     4    0              38\n",
              "25206          1               2           6  ...     4    1              38\n",
              "23491          3               4           3  ...     4    0              38\n",
              "\n",
              "[3 rows x 7 columns]"
            ]
          },
          "metadata": {
            "tags": []
          },
          "execution_count": 29
        }
      ]
    },
    {
      "cell_type": "code",
      "metadata": {
        "colab": {
          "base_uri": "https://localhost:8080/",
          "height": 142
        },
        "id": "cE9TVkTkjbiv",
        "outputId": "f1f7339b-50f7-4318-8926-bc88c32c4572"
      },
      "source": [
        "X_test[categorical].head(3)"
      ],
      "execution_count": 30,
      "outputs": [
        {
          "output_type": "execute_result",
          "data": {
            "text/html": [
              "<div>\n",
              "<style scoped>\n",
              "    .dataframe tbody tr th:only-of-type {\n",
              "        vertical-align: middle;\n",
              "    }\n",
              "\n",
              "    .dataframe tbody tr th {\n",
              "        vertical-align: top;\n",
              "    }\n",
              "\n",
              "    .dataframe thead th {\n",
              "        text-align: right;\n",
              "    }\n",
              "</style>\n",
              "<table border=\"1\" class=\"dataframe\">\n",
              "  <thead>\n",
              "    <tr style=\"text-align: right;\">\n",
              "      <th></th>\n",
              "      <th>workclass</th>\n",
              "      <th>marital.status</th>\n",
              "      <th>occupation</th>\n",
              "      <th>relationship</th>\n",
              "      <th>race</th>\n",
              "      <th>sex</th>\n",
              "      <th>native.country</th>\n",
              "    </tr>\n",
              "  </thead>\n",
              "  <tbody>\n",
              "    <tr>\n",
              "      <th>22278</th>\n",
              "      <td>3</td>\n",
              "      <td>6</td>\n",
              "      <td>11</td>\n",
              "      <td>4</td>\n",
              "      <td>4</td>\n",
              "      <td>0</td>\n",
              "      <td>38</td>\n",
              "    </tr>\n",
              "    <tr>\n",
              "      <th>8950</th>\n",
              "      <td>3</td>\n",
              "      <td>4</td>\n",
              "      <td>5</td>\n",
              "      <td>3</td>\n",
              "      <td>4</td>\n",
              "      <td>0</td>\n",
              "      <td>38</td>\n",
              "    </tr>\n",
              "    <tr>\n",
              "      <th>7838</th>\n",
              "      <td>3</td>\n",
              "      <td>4</td>\n",
              "      <td>7</td>\n",
              "      <td>1</td>\n",
              "      <td>1</td>\n",
              "      <td>0</td>\n",
              "      <td>39</td>\n",
              "    </tr>\n",
              "  </tbody>\n",
              "</table>\n",
              "</div>"
            ],
            "text/plain": [
              "       workclass  marital.status  occupation  ...  race  sex  native.country\n",
              "22278          3               6          11  ...     4    0              38\n",
              "8950           3               4           5  ...     4    0              38\n",
              "7838           3               4           7  ...     1    0              39\n",
              "\n",
              "[3 rows x 7 columns]"
            ]
          },
          "metadata": {
            "tags": []
          },
          "execution_count": 30
        }
      ]
    },
    {
      "cell_type": "markdown",
      "metadata": {
        "id": "2V97JinYjh3S"
      },
      "source": [
        "### 참고: 범주변수의 처리\n",
        "범주변수의 처리 방법은 크게 2가지로 나눌 수 있음.\n",
        "\n",
        "- 클래스를 숫자로 변환\n",
        "- 원-핫-인코딩(더미코딩)\n",
        "\n",
        "금융 데이터의 경우 범주변수가 대부분을 차지하여, 원-핫-인코딩을 실시할 경우 전체 데이터셋의 다수가 0의 값을 가지게 되기도 함. 차원이 높은 데이터셋에 의미 없는 값이 많은 경우를 '피처가 sparse하다'고 하며, 학습효율이 높지 않을 수도 있으니 Feture Engineering 과정에서 유의해야 함."
      ]
    },
    {
      "cell_type": "code",
      "metadata": {
        "colab": {
          "base_uri": "https://localhost:8080/"
        },
        "id": "ZIXMZANMjeJo",
        "outputId": "c0081db6-4d30-4ece-c097-224e1be4e781"
      },
      "source": [
        "from sklearn.preprocessing import OneHotEncoder\n",
        "enc = OneHotEncoder(handle_unknown='ignore')\n",
        "enc.fit(X_train[categorical])\n",
        "enc.categories_"
      ],
      "execution_count": 31,
      "outputs": [
        {
          "output_type": "execute_result",
          "data": {
            "text/plain": [
              "[array([0, 1, 2, 3, 4, 5, 6, 7]),\n",
              " array([0, 1, 2, 3, 4, 5, 6]),\n",
              " array([ 0,  1,  2,  3,  4,  5,  6,  7,  8,  9, 10, 11, 12, 13]),\n",
              " array([0, 1, 2, 3, 4, 5]),\n",
              " array([0, 1, 2, 3, 4]),\n",
              " array([0, 1]),\n",
              " array([ 0,  1,  2,  3,  4,  5,  6,  7,  8,  9, 10, 11, 12, 13, 14, 15, 16,\n",
              "        17, 18, 19, 20, 21, 22, 23, 24, 25, 26, 27, 28, 29, 30, 31, 32, 33,\n",
              "        34, 35, 36, 37, 38, 39, 40])]"
            ]
          },
          "metadata": {
            "tags": []
          },
          "execution_count": 31
        }
      ]
    },
    {
      "cell_type": "code",
      "metadata": {
        "id": "wOTSBnHymjQu"
      },
      "source": [
        "# 피처 스케일 조정하기\n",
        "\n",
        "from sklearn.preprocessing import StandardScaler\n",
        "\n",
        "scaler = StandardScaler()\n",
        "X_train_scaled = pd.DataFrame(scaler.fit_transform(X_train), columns=X.columns)\n",
        "X_test_scaled = pd.DataFrame(scaler.transform(X_test), columns=X.columns)"
      ],
      "execution_count": 32,
      "outputs": []
    },
    {
      "cell_type": "code",
      "metadata": {
        "colab": {
          "base_uri": "https://localhost:8080/",
          "height": 204
        },
        "id": "mE_wcV5pqUVE",
        "outputId": "db6366da-29a5-4e08-e4db-63a7d6127201"
      },
      "source": [
        "X_train.head()"
      ],
      "execution_count": 33,
      "outputs": [
        {
          "output_type": "execute_result",
          "data": {
            "text/html": [
              "<div>\n",
              "<style scoped>\n",
              "    .dataframe tbody tr th:only-of-type {\n",
              "        vertical-align: middle;\n",
              "    }\n",
              "\n",
              "    .dataframe tbody tr th {\n",
              "        vertical-align: top;\n",
              "    }\n",
              "\n",
              "    .dataframe thead th {\n",
              "        text-align: right;\n",
              "    }\n",
              "</style>\n",
              "<table border=\"1\" class=\"dataframe\">\n",
              "  <thead>\n",
              "    <tr style=\"text-align: right;\">\n",
              "      <th></th>\n",
              "      <th>age</th>\n",
              "      <th>workclass</th>\n",
              "      <th>education.num</th>\n",
              "      <th>marital.status</th>\n",
              "      <th>occupation</th>\n",
              "      <th>relationship</th>\n",
              "      <th>race</th>\n",
              "      <th>sex</th>\n",
              "      <th>capital.gain</th>\n",
              "      <th>capital.loss</th>\n",
              "      <th>hours.per.week</th>\n",
              "      <th>native.country</th>\n",
              "    </tr>\n",
              "  </thead>\n",
              "  <tbody>\n",
              "    <tr>\n",
              "      <th>32098</th>\n",
              "      <td>40</td>\n",
              "      <td>6</td>\n",
              "      <td>13</td>\n",
              "      <td>2</td>\n",
              "      <td>3</td>\n",
              "      <td>5</td>\n",
              "      <td>4</td>\n",
              "      <td>0</td>\n",
              "      <td>0</td>\n",
              "      <td>0</td>\n",
              "      <td>20</td>\n",
              "      <td>38</td>\n",
              "    </tr>\n",
              "    <tr>\n",
              "      <th>25206</th>\n",
              "      <td>39</td>\n",
              "      <td>1</td>\n",
              "      <td>9</td>\n",
              "      <td>2</td>\n",
              "      <td>6</td>\n",
              "      <td>0</td>\n",
              "      <td>4</td>\n",
              "      <td>1</td>\n",
              "      <td>0</td>\n",
              "      <td>0</td>\n",
              "      <td>38</td>\n",
              "      <td>38</td>\n",
              "    </tr>\n",
              "    <tr>\n",
              "      <th>23491</th>\n",
              "      <td>42</td>\n",
              "      <td>3</td>\n",
              "      <td>10</td>\n",
              "      <td>4</td>\n",
              "      <td>3</td>\n",
              "      <td>1</td>\n",
              "      <td>4</td>\n",
              "      <td>0</td>\n",
              "      <td>0</td>\n",
              "      <td>0</td>\n",
              "      <td>40</td>\n",
              "      <td>38</td>\n",
              "    </tr>\n",
              "    <tr>\n",
              "      <th>12367</th>\n",
              "      <td>27</td>\n",
              "      <td>1</td>\n",
              "      <td>9</td>\n",
              "      <td>4</td>\n",
              "      <td>4</td>\n",
              "      <td>3</td>\n",
              "      <td>4</td>\n",
              "      <td>1</td>\n",
              "      <td>0</td>\n",
              "      <td>0</td>\n",
              "      <td>40</td>\n",
              "      <td>38</td>\n",
              "    </tr>\n",
              "    <tr>\n",
              "      <th>7054</th>\n",
              "      <td>38</td>\n",
              "      <td>0</td>\n",
              "      <td>14</td>\n",
              "      <td>2</td>\n",
              "      <td>3</td>\n",
              "      <td>0</td>\n",
              "      <td>4</td>\n",
              "      <td>1</td>\n",
              "      <td>0</td>\n",
              "      <td>0</td>\n",
              "      <td>40</td>\n",
              "      <td>38</td>\n",
              "    </tr>\n",
              "  </tbody>\n",
              "</table>\n",
              "</div>"
            ],
            "text/plain": [
              "       age  workclass  ...  hours.per.week  native.country\n",
              "32098   40          6  ...              20              38\n",
              "25206   39          1  ...              38              38\n",
              "23491   42          3  ...              40              38\n",
              "12367   27          1  ...              40              38\n",
              "7054    38          0  ...              40              38\n",
              "\n",
              "[5 rows x 12 columns]"
            ]
          },
          "metadata": {
            "tags": []
          },
          "execution_count": 33
        }
      ]
    },
    {
      "cell_type": "code",
      "metadata": {
        "colab": {
          "base_uri": "https://localhost:8080/",
          "height": 204
        },
        "id": "CIlgI1DUq64t",
        "outputId": "af5cf137-c914-499b-9143-524cd92c8d16"
      },
      "source": [
        "X_train_scaled.head()"
      ],
      "execution_count": 34,
      "outputs": [
        {
          "output_type": "execute_result",
          "data": {
            "text/html": [
              "<div>\n",
              "<style scoped>\n",
              "    .dataframe tbody tr th:only-of-type {\n",
              "        vertical-align: middle;\n",
              "    }\n",
              "\n",
              "    .dataframe tbody tr th {\n",
              "        vertical-align: top;\n",
              "    }\n",
              "\n",
              "    .dataframe thead th {\n",
              "        text-align: right;\n",
              "    }\n",
              "</style>\n",
              "<table border=\"1\" class=\"dataframe\">\n",
              "  <thead>\n",
              "    <tr style=\"text-align: right;\">\n",
              "      <th></th>\n",
              "      <th>age</th>\n",
              "      <th>workclass</th>\n",
              "      <th>education.num</th>\n",
              "      <th>marital.status</th>\n",
              "      <th>occupation</th>\n",
              "      <th>relationship</th>\n",
              "      <th>race</th>\n",
              "      <th>sex</th>\n",
              "      <th>capital.gain</th>\n",
              "      <th>capital.loss</th>\n",
              "      <th>hours.per.week</th>\n",
              "      <th>native.country</th>\n",
              "    </tr>\n",
              "  </thead>\n",
              "  <tbody>\n",
              "    <tr>\n",
              "      <th>0</th>\n",
              "      <td>0.101484</td>\n",
              "      <td>2.600478</td>\n",
              "      <td>1.133894</td>\n",
              "      <td>-0.402341</td>\n",
              "      <td>-0.782234</td>\n",
              "      <td>2.214196</td>\n",
              "      <td>0.39298</td>\n",
              "      <td>-1.430470</td>\n",
              "      <td>-0.145189</td>\n",
              "      <td>-0.217407</td>\n",
              "      <td>-1.662414</td>\n",
              "      <td>0.262317</td>\n",
              "    </tr>\n",
              "    <tr>\n",
              "      <th>1</th>\n",
              "      <td>0.028248</td>\n",
              "      <td>-1.884720</td>\n",
              "      <td>-0.423425</td>\n",
              "      <td>-0.402341</td>\n",
              "      <td>-0.026696</td>\n",
              "      <td>-0.899410</td>\n",
              "      <td>0.39298</td>\n",
              "      <td>0.699071</td>\n",
              "      <td>-0.145189</td>\n",
              "      <td>-0.217407</td>\n",
              "      <td>-0.200753</td>\n",
              "      <td>0.262317</td>\n",
              "    </tr>\n",
              "    <tr>\n",
              "      <th>2</th>\n",
              "      <td>0.247956</td>\n",
              "      <td>-0.090641</td>\n",
              "      <td>-0.034095</td>\n",
              "      <td>0.926666</td>\n",
              "      <td>-0.782234</td>\n",
              "      <td>-0.276689</td>\n",
              "      <td>0.39298</td>\n",
              "      <td>-1.430470</td>\n",
              "      <td>-0.145189</td>\n",
              "      <td>-0.217407</td>\n",
              "      <td>-0.038346</td>\n",
              "      <td>0.262317</td>\n",
              "    </tr>\n",
              "    <tr>\n",
              "      <th>3</th>\n",
              "      <td>-0.850587</td>\n",
              "      <td>-1.884720</td>\n",
              "      <td>-0.423425</td>\n",
              "      <td>0.926666</td>\n",
              "      <td>-0.530388</td>\n",
              "      <td>0.968753</td>\n",
              "      <td>0.39298</td>\n",
              "      <td>0.699071</td>\n",
              "      <td>-0.145189</td>\n",
              "      <td>-0.217407</td>\n",
              "      <td>-0.038346</td>\n",
              "      <td>0.262317</td>\n",
              "    </tr>\n",
              "    <tr>\n",
              "      <th>4</th>\n",
              "      <td>-0.044989</td>\n",
              "      <td>-2.781760</td>\n",
              "      <td>1.523223</td>\n",
              "      <td>-0.402341</td>\n",
              "      <td>-0.782234</td>\n",
              "      <td>-0.899410</td>\n",
              "      <td>0.39298</td>\n",
              "      <td>0.699071</td>\n",
              "      <td>-0.145189</td>\n",
              "      <td>-0.217407</td>\n",
              "      <td>-0.038346</td>\n",
              "      <td>0.262317</td>\n",
              "    </tr>\n",
              "  </tbody>\n",
              "</table>\n",
              "</div>"
            ],
            "text/plain": [
              "        age  workclass  ...  hours.per.week  native.country\n",
              "0  0.101484   2.600478  ...       -1.662414        0.262317\n",
              "1  0.028248  -1.884720  ...       -0.200753        0.262317\n",
              "2  0.247956  -0.090641  ...       -0.038346        0.262317\n",
              "3 -0.850587  -1.884720  ...       -0.038346        0.262317\n",
              "4 -0.044989  -2.781760  ...       -0.038346        0.262317\n",
              "\n",
              "[5 rows x 12 columns]"
            ]
          },
          "metadata": {
            "tags": []
          },
          "execution_count": 34
        }
      ]
    },
    {
      "cell_type": "code",
      "metadata": {
        "colab": {
          "base_uri": "https://localhost:8080/"
        },
        "id": "BycbcsjMq9HQ",
        "outputId": "798e7486-881a-48fa-c2b5-b4ac80922ed7"
      },
      "source": [
        "y_train.head()"
      ],
      "execution_count": 35,
      "outputs": [
        {
          "output_type": "execute_result",
          "data": {
            "text/plain": [
              "32098    <=50K\n",
              "25206     >50K\n",
              "23491    <=50K\n",
              "12367    <=50K\n",
              "7054      >50K\n",
              "Name: income, dtype: object"
            ]
          },
          "metadata": {
            "tags": []
          },
          "execution_count": 35
        }
      ]
    },
    {
      "cell_type": "code",
      "metadata": {
        "colab": {
          "base_uri": "https://localhost:8080/"
        },
        "id": "wHWj90eusG8D",
        "outputId": "f0930076-e3ad-45bd-8fbf-45328ae3d370"
      },
      "source": [
        "print(min(X_train['age']))\n",
        "print(max(X_train['age']))\n",
        "print(np.mean(X_train['age']))\n",
        "print(np.var(X_train['age']))\n",
        "print('\\n')\n",
        "print(min(X_test['age']))\n",
        "print(max(X_test['age']))\n",
        "print(np.mean(X_test['age']))\n",
        "print(np.var(X_test['age']))"
      ],
      "execution_count": 36,
      "outputs": [
        {
          "output_type": "stream",
          "text": [
            "17\n",
            "90\n",
            "38.61429448929449\n",
            "186.44402697680837\n",
            "\n",
            "\n",
            "17\n",
            "90\n",
            "38.505476507319074\n",
            "185.14136114308525\n"
          ],
          "name": "stdout"
        }
      ]
    },
    {
      "cell_type": "code",
      "metadata": {
        "colab": {
          "base_uri": "https://localhost:8080/"
        },
        "id": "1iQgZ8pqsJCu",
        "outputId": "bc541610-ef50-4f3e-9407-24f2f51b49d8"
      },
      "source": [
        "print(min(X_train_scaled['age']))\n",
        "print(max(X_train_scaled['age']))\n",
        "print(np.mean(X_train_scaled['age']))\n",
        "print(np.var(X_train_scaled['age']))\n",
        "print('\\n')\n",
        "print(min(X_test_scaled['age']))\n",
        "print(max(X_test_scaled['age']))\n",
        "print(np.mean(X_test_scaled['age']))\n",
        "print(np.var(X_test_scaled['age']))"
      ],
      "execution_count": 37,
      "outputs": [
        {
          "output_type": "stream",
          "text": [
            "-1.5829486507307393\n",
            "3.7632934651328265\n",
            "1.5671010251132251e-16\n",
            "0.9999999999999883\n",
            "\n",
            "\n",
            "-1.5829486507307393\n",
            "3.7632934651328265\n",
            "-0.007969414769866536\n",
            "0.9930130996694251\n"
          ],
          "name": "stdout"
        }
      ]
    },
    {
      "cell_type": "markdown",
      "metadata": {
        "id": "dpwZj0IMr6-d"
      },
      "source": [
        "### 참고: scikit-learn에서 제공하는 피처 스케일러(scaler)\n",
        "\n",
        "- `StandardScaler`: 기본 스케일, 각 피처의 평균을 0, 표준편차를 1로 변환\n",
        "- `RobustScaler`: 위와 유사하지만 평균 대신 중간값(median)과 일분위, 삼분위값(quartile)을 사용하여 이상치 영향을 최소화\n",
        "- `MinMaxScaler`: 모든 피처의 최대치와 최소치가 각각 1, 0이 되도록 스케일 조정\n",
        "- `Normalizer`: 피처(컬럼)이 아니라 row마다 정규화되며, 유클리드 거리가 1이 되도록 데이터를 조정하여 빠르게 학습할 수 있게 함\n",
        "\n",
        "<p> 스케일 조정을 하는 이유는 데이터의 값이 너무 크거나 작을 때 학습이 제대로 되지 않을 수도 있기 때문임. 또한 스케일의 영향이 절대적인 분류기(예: knn과 같은 거리기반 알고리즘)의 경우, 스케일 조정을 필수적으로 검토해야 함.\n",
        "    \n",
        "<p> 반면 어떤 항목은 원본 데이터의 분포를 유지하는 것이 나을 수도 있음. 예를 들어, 데이터가 거의 한 곳에 집중되어 있는 feature를 표준화시켜 분포를 같게 만들었을 때, 작은 단위의 변화가 큰 차이를 나타내는 것처럼 학습될 수도 있음. 또한 스케일의 영향을 크게 받지 않는 분류기(예: 트리 기반 앙상블 알고리즘)를 사용할 경우에도 성능이 준수하게 나오거나 과대적합(overfitting)의 우려가 적다면 생략할 수도 있음.\n",
        "    \n",
        "<p> 스케일 조정시 유의해야할 점은 원본 데이터의 의미를 잃어버릴 수 있다는 것임. 최종적으로 답을 구하는 것이 목적이 아니라 모델의 해석이나 향후 다른 데이터셋으로의 응용이 더 중요할 때 원 피처에 대한 설명력을 잃어버린다면 모델 개선이 어려울 수도 있음."
      ]
    },
    {
      "cell_type": "markdown",
      "metadata": {
        "id": "TQ5OUinb6wtf"
      },
      "source": [
        "## 선형 분류모델 구현하기"
      ]
    },
    {
      "cell_type": "markdown",
      "metadata": {
        "id": "5ODa2xhQ6ysu"
      },
      "source": [
        "### 원 데이터를 이용하여 Logistic Regression 모델 돌려보기"
      ]
    },
    {
      "cell_type": "code",
      "metadata": {
        "colab": {
          "base_uri": "https://localhost:8080/"
        },
        "id": "SLIF1ZhtrAk0",
        "outputId": "c09bd5fb-6a87-4582-b030-19bc85e4fd94"
      },
      "source": [
        "from sklearn.linear_model import LogisticRegression\n",
        "from sklearn.metrics import accuracy_score\n",
        "\n",
        "logreg = LogisticRegression()\n",
        "logreg.fit(X_train, y_train)"
      ],
      "execution_count": 38,
      "outputs": [
        {
          "output_type": "execute_result",
          "data": {
            "text/plain": [
              "LogisticRegression(C=1.0, class_weight=None, dual=False, fit_intercept=True,\n",
              "                   intercept_scaling=1, l1_ratio=None, max_iter=100,\n",
              "                   multi_class='auto', n_jobs=None, penalty='l2',\n",
              "                   random_state=None, solver='lbfgs', tol=0.0001, verbose=0,\n",
              "                   warm_start=False)"
            ]
          },
          "metadata": {
            "tags": []
          },
          "execution_count": 38
        }
      ]
    },
    {
      "cell_type": "code",
      "metadata": {
        "colab": {
          "base_uri": "https://localhost:8080/"
        },
        "id": "jzUPkpaA67Yf",
        "outputId": "c12e2ad4-db01-47dd-a095-685b211ddd61"
      },
      "source": [
        "# 정확도 확인\n",
        "y_pred = logreg.predict(X_test)\n",
        "logreg_score = accuracy_score(y_test, y_pred)\n",
        "print('Logistic Regression accuracy score:{0:0.4f}'.format(logreg_score))"
      ],
      "execution_count": 39,
      "outputs": [
        {
          "output_type": "stream",
          "text": [
            "Logistic Regression accuracy score:0.8057\n"
          ],
          "name": "stdout"
        }
      ]
    },
    {
      "cell_type": "code",
      "metadata": {
        "colab": {
          "base_uri": "https://localhost:8080/"
        },
        "id": "sHC-bO6u79vS",
        "outputId": "a437f81c-7dfd-4a6a-be61-3bbd090e563b"
      },
      "source": [
        "# 스케일 조정된 데이터 이용하여 LR모델 돌려보기\n",
        "# Feature scaling 후 변환 데이터\n",
        "\n",
        "logreg = LogisticRegression()\n",
        "logreg.fit(X_train_scaled, y_train) ##"
      ],
      "execution_count": 40,
      "outputs": [
        {
          "output_type": "execute_result",
          "data": {
            "text/plain": [
              "LogisticRegression(C=1.0, class_weight=None, dual=False, fit_intercept=True,\n",
              "                   intercept_scaling=1, l1_ratio=None, max_iter=100,\n",
              "                   multi_class='auto', n_jobs=None, penalty='l2',\n",
              "                   random_state=None, solver='lbfgs', tol=0.0001, verbose=0,\n",
              "                   warm_start=False)"
            ]
          },
          "metadata": {
            "tags": []
          },
          "execution_count": 40
        }
      ]
    },
    {
      "cell_type": "code",
      "metadata": {
        "colab": {
          "base_uri": "https://localhost:8080/"
        },
        "id": "RM-ecB5D8OEz",
        "outputId": "cdf8c4f9-9727-4ae7-e7f1-1b6057c78031"
      },
      "source": [
        "y_pred = logreg.predict(X_test_scaled)  ##\n",
        "logreg_score =  accuracy_score(y_test, y_pred)\n",
        "print('Logistic Regression (scaled data) accuracy score: {0:0.4f}'. format(logreg_score))"
      ],
      "execution_count": 41,
      "outputs": [
        {
          "output_type": "stream",
          "text": [
            "Logistic Regression (scaled data) accuracy score: 0.8222\n"
          ],
          "name": "stdout"
        }
      ]
    },
    {
      "cell_type": "code",
      "metadata": {
        "colab": {
          "base_uri": "https://localhost:8080/"
        },
        "id": "4cscn_gI8QEF",
        "outputId": "d3e71d8a-8244-4115-ea85-d0b2a8a7870b"
      },
      "source": [
        "# 예측된 값 확인하기\n",
        "y_pred"
      ],
      "execution_count": 42,
      "outputs": [
        {
          "output_type": "execute_result",
          "data": {
            "text/plain": [
              "array(['<=50K', '<=50K', '<=50K', ..., '<=50K', '<=50K', '<=50K'],\n",
              "      dtype=object)"
            ]
          },
          "metadata": {
            "tags": []
          },
          "execution_count": 42
        }
      ]
    },
    {
      "cell_type": "markdown",
      "metadata": {
        "id": "lOoGqGDE8TQ7"
      },
      "source": [
        "### 스케일 조정된 데이터를 이용한 Logistic Regression 모델 분류결과 확인하기"
      ]
    },
    {
      "cell_type": "code",
      "metadata": {
        "colab": {
          "base_uri": "https://localhost:8080/"
        },
        "id": "7cQzCaY38RrH",
        "outputId": "09ad3c60-2ee6-4d82-f2c6-1193c904711a"
      },
      "source": [
        "from sklearn.metrics import classification_report\n",
        "\n",
        "cm_logreg =  classification_report(y_test, y_pred) \n",
        "print(cm_logreg)"
      ],
      "execution_count": 43,
      "outputs": [
        {
          "output_type": "stream",
          "text": [
            "              precision    recall  f1-score   support\n",
            "\n",
            "       <=50K       0.84      0.94      0.89      7410\n",
            "        >50K       0.71      0.44      0.55      2359\n",
            "\n",
            "    accuracy                           0.82      9769\n",
            "   macro avg       0.78      0.69      0.72      9769\n",
            "weighted avg       0.81      0.82      0.81      9769\n",
            "\n"
          ],
          "name": "stdout"
        }
      ]
    },
    {
      "cell_type": "markdown",
      "metadata": {
        "id": "ywvpntNs8Xcu"
      },
      "source": [
        "## 트리기반 분류모델의 구현\n",
        "### Random Forest 모델 구현하고 정확도 확인하기"
      ]
    },
    {
      "cell_type": "code",
      "metadata": {
        "colab": {
          "base_uri": "https://localhost:8080/"
        },
        "id": "kue16fBZ8VGY",
        "outputId": "1c16beb1-bdaa-45b4-9ff8-6c68a92fed00"
      },
      "source": [
        "from sklearn.ensemble import RandomForestClassifier\n",
        "from sklearn.metrics import accuracy_score\n",
        "\n",
        "rfc = RandomForestClassifier()\n",
        "rfc.fit(X_train, y_train)"
      ],
      "execution_count": 44,
      "outputs": [
        {
          "output_type": "execute_result",
          "data": {
            "text/plain": [
              "RandomForestClassifier(bootstrap=True, ccp_alpha=0.0, class_weight=None,\n",
              "                       criterion='gini', max_depth=None, max_features='auto',\n",
              "                       max_leaf_nodes=None, max_samples=None,\n",
              "                       min_impurity_decrease=0.0, min_impurity_split=None,\n",
              "                       min_samples_leaf=1, min_samples_split=2,\n",
              "                       min_weight_fraction_leaf=0.0, n_estimators=100,\n",
              "                       n_jobs=None, oob_score=False, random_state=None,\n",
              "                       verbose=0, warm_start=False)"
            ]
          },
          "metadata": {
            "tags": []
          },
          "execution_count": 44
        }
      ]
    },
    {
      "cell_type": "code",
      "metadata": {
        "id": "y2wv486y8bff"
      },
      "source": [
        "criterion='gini' # The function to measure the quality of a split. Supported criteria are “gini” for the Gini impurity and “entropy” for the information gain (정보 이득)\n",
        "n_estimators=100 # The number of trees in the forest."
      ],
      "execution_count": 45,
      "outputs": []
    },
    {
      "cell_type": "code",
      "metadata": {
        "colab": {
          "base_uri": "https://localhost:8080/"
        },
        "id": "1bk0FsId8dH7",
        "outputId": "80f44781-b855-412a-fdce-8771552f337b"
      },
      "source": [
        "y_pred = rfc.predict(X_test) \n",
        "rfc_score =  accuracy_score(y_test, y_pred)\n",
        "print('Random Forest Model accuracy score : {0:0.4f}'. format(rfc_score ))"
      ],
      "execution_count": 46,
      "outputs": [
        {
          "output_type": "stream",
          "text": [
            "Random Forest Model accuracy score : 0.8482\n"
          ],
          "name": "stdout"
        }
      ]
    },
    {
      "cell_type": "markdown",
      "metadata": {
        "id": "6YWL5t2n8f2j"
      },
      "source": [
        "### Random Forest 모델의 Confusion Matrix 확인하기"
      ]
    },
    {
      "cell_type": "code",
      "metadata": {
        "colab": {
          "base_uri": "https://localhost:8080/"
        },
        "id": "rOdXQMiB8eUf",
        "outputId": "a8656b14-0860-4886-e49f-1fbd574079ce"
      },
      "source": [
        "from sklearn.metrics import confusion_matrix\n",
        "\n",
        "cm =  confusion_matrix(y_test, y_pred)\n",
        "print('Confusion Matrix for Binary Labels \\n')\n",
        "# print('Confusion Matrix for Binary Labels\\n')\n",
        "# print('Actual class')\n",
        "# print('Predicted', '[[True Positive', 'False Positive]')\n",
        "# print('         ', '[False Negative', 'True Negative]]')\n",
        "print(cm)"
      ],
      "execution_count": 47,
      "outputs": [
        {
          "output_type": "stream",
          "text": [
            "Confusion Matrix for Binary Labels \n",
            "\n",
            "[[6846  564]\n",
            " [ 919 1440]]\n"
          ],
          "name": "stdout"
        }
      ]
    },
    {
      "cell_type": "code",
      "metadata": {
        "colab": {
          "base_uri": "https://localhost:8080/"
        },
        "id": "b3b0aLXC8hVX",
        "outputId": "466ed3d9-0472-4202-a63d-132ff5a25c26"
      },
      "source": [
        "# Confusion Matrix에서 Recall과 Precision 계산하기\n",
        "\n",
        "print('\\nRecall for Class [<=50K] = ', cm[0,0], '/' , cm[0,0] + cm[0,1])\n",
        "print('\\nPrecision for Class [<=50K] = ', cm[0,0], '/' , cm[0,0] + cm[1,0])\n",
        "print('\\nRecall for Class [>50K] = ', cm[1,1], '/' , cm[1,0] + cm[1,1])\n",
        "print('\\nPrecision for Class [>50K] = ', cm[1,1], '/' , cm[0,1] + cm[1,1])"
      ],
      "execution_count": 48,
      "outputs": [
        {
          "output_type": "stream",
          "text": [
            "\n",
            "Recall for Class [<=50K] =  6846 / 7410\n",
            "\n",
            "Precision for Class [<=50K] =  6846 / 7765\n",
            "\n",
            "Recall for Class [>50K] =  1440 / 2359\n",
            "\n",
            "Precision for Class [>50K] =  1440 / 2004\n"
          ],
          "name": "stdout"
        }
      ]
    },
    {
      "cell_type": "markdown",
      "metadata": {
        "id": "S-NrRC8M8knt"
      },
      "source": [
        "### Random Forest 모델의 분류결과 확인하기"
      ]
    },
    {
      "cell_type": "code",
      "metadata": {
        "colab": {
          "base_uri": "https://localhost:8080/"
        },
        "id": "nT7qTtEb8ihx",
        "outputId": "e10b51ca-2f53-4b6d-a137-45be7fce3959"
      },
      "source": [
        "from sklearn.metrics import classification_report\n",
        "\n",
        "cm_rfc =  classification_report(y_test, y_pred)\n",
        "print(cm_rfc)"
      ],
      "execution_count": 49,
      "outputs": [
        {
          "output_type": "stream",
          "text": [
            "              precision    recall  f1-score   support\n",
            "\n",
            "       <=50K       0.88      0.92      0.90      7410\n",
            "        >50K       0.72      0.61      0.66      2359\n",
            "\n",
            "    accuracy                           0.85      9769\n",
            "   macro avg       0.80      0.77      0.78      9769\n",
            "weighted avg       0.84      0.85      0.84      9769\n",
            "\n"
          ],
          "name": "stdout"
        }
      ]
    },
    {
      "cell_type": "markdown",
      "metadata": {
        "id": "6q20TDR1CQFy"
      },
      "source": [
        "## 부스팅 기반 분류모델의 구현"
      ]
    },
    {
      "cell_type": "markdown",
      "metadata": {
        "id": "Pw9sw-WxCR9X"
      },
      "source": [
        "### 부스팅(Boosting) 모델 개요\n",
        "\n",
        "\n",
        "- 부스팅은 여러 트리의 적합 결과를 합하는 앙상블 알고리즘의 하나로, 이 때 sequential의 개념이 추가되어 있다. 즉 연속적인 weak learner, 바로 직전 weak learner의 error를 반영한 현재 weak learner를 잡겠다는 것임. 이 아이디어는 Gradient Boosting Model(GBM)에서 loss를 계속 줄이는 방향으로 weak learner를 잡는다는 개념으로 확장됨.\n",
        "\n",
        "![boost](https://pluralsight2.imgix.net/guides/81232a78-2e99-4ccc-ba8e-8cd873625fdf_2.jpg)\n",
        "\n",
        "\n",
        "- 부스팅 계열 모델은 AdaBoost, Gradient Boosting Model(GBM), XGBoost, LightGBM 등이 있음.\n"
      ]
    },
    {
      "cell_type": "code",
      "metadata": {
        "colab": {
          "base_uri": "https://localhost:8080/"
        },
        "id": "CEOTCXhB8l2v",
        "outputId": "7a8607f3-d563-401d-e2d6-b369b6d5aa3a"
      },
      "source": [
        "from sklearn.ensemble import GradientBoostingClassifier\n",
        "gbc = GradientBoostingClassifier(random_state=0)\n",
        "gbc.fit(X_train, y_train)"
      ],
      "execution_count": 50,
      "outputs": [
        {
          "output_type": "execute_result",
          "data": {
            "text/plain": [
              "GradientBoostingClassifier(ccp_alpha=0.0, criterion='friedman_mse', init=None,\n",
              "                           learning_rate=0.1, loss='deviance', max_depth=3,\n",
              "                           max_features=None, max_leaf_nodes=None,\n",
              "                           min_impurity_decrease=0.0, min_impurity_split=None,\n",
              "                           min_samples_leaf=1, min_samples_split=2,\n",
              "                           min_weight_fraction_leaf=0.0, n_estimators=100,\n",
              "                           n_iter_no_change=None, presort='deprecated',\n",
              "                           random_state=0, subsample=1.0, tol=0.0001,\n",
              "                           validation_fraction=0.1, verbose=0,\n",
              "                           warm_start=False)"
            ]
          },
          "metadata": {
            "tags": []
          },
          "execution_count": 50
        }
      ]
    },
    {
      "cell_type": "code",
      "metadata": {
        "colab": {
          "base_uri": "https://localhost:8080/"
        },
        "id": "gstfaNhbFrbm",
        "outputId": "16fe66aa-3a43-48ad-f594-fb38e838c71c"
      },
      "source": [
        "y_pred = gbc.predict(X_test)\n",
        "gbc_score = accuracy_score(y_test, y_pred)\n",
        "print('Gradient Boosting accuracy score : {0:0.4f}'.format(gbc_score))"
      ],
      "execution_count": 51,
      "outputs": [
        {
          "output_type": "stream",
          "text": [
            "Gradient Boosting accuracy score : 0.8621\n"
          ],
          "name": "stdout"
        }
      ]
    },
    {
      "cell_type": "code",
      "metadata": {
        "colab": {
          "base_uri": "https://localhost:8080/"
        },
        "id": "YLtBoYtzGGX7",
        "outputId": "0a9e4b9a-68c0-417b-b83d-03fcf49a311b"
      },
      "source": [
        "from sklearn.metrics import classification_report\n",
        "\n",
        "cm_gbc = classification_report(y_test, y_pred)\n",
        "print(cm_gbc)"
      ],
      "execution_count": 52,
      "outputs": [
        {
          "output_type": "stream",
          "text": [
            "              precision    recall  f1-score   support\n",
            "\n",
            "       <=50K       0.88      0.95      0.91      7410\n",
            "        >50K       0.78      0.59      0.68      2359\n",
            "\n",
            "    accuracy                           0.86      9769\n",
            "   macro avg       0.83      0.77      0.79      9769\n",
            "weighted avg       0.86      0.86      0.86      9769\n",
            "\n"
          ],
          "name": "stdout"
        }
      ]
    },
    {
      "cell_type": "markdown",
      "metadata": {
        "id": "5g6nq3uGGXCP"
      },
      "source": [
        "### Light GBM"
      ]
    },
    {
      "cell_type": "code",
      "metadata": {
        "colab": {
          "base_uri": "https://localhost:8080/"
        },
        "id": "XfZEimJ0GV27",
        "outputId": "dcf680d8-07f7-4e4c-bfeb-b2f378c0f4b1"
      },
      "source": [
        "from lightgbm import LGBMClassifier\n",
        "from sklearn.metrics import accuracy_score\n",
        "\n",
        "lgbm = LGBMClassifier(random_state=0)\n",
        "lgbm.fit(X_train, y_train)\n",
        "y_pred = lgbm.predict(X_test)\n",
        "\n",
        "lgbm_score = accuracy_score(y_test, y_pred)\n",
        "print('LGBM Model accuracy score : {0:0.4f}'.format(lgbm_score))"
      ],
      "execution_count": 53,
      "outputs": [
        {
          "output_type": "stream",
          "text": [
            "LGBM Model accuracy score : 0.8677\n"
          ],
          "name": "stdout"
        }
      ]
    },
    {
      "cell_type": "code",
      "metadata": {
        "colab": {
          "base_uri": "https://localhost:8080/"
        },
        "id": "9WxcIV3vG0wc",
        "outputId": "ee22df52-0163-4587-ed90-e758121f8d63"
      },
      "source": [
        "# 분류결과 확인\n",
        "\n",
        "cm_lgbm = classification_report(y_test, y_pred)\n",
        "print(cm_lgbm)"
      ],
      "execution_count": 54,
      "outputs": [
        {
          "output_type": "stream",
          "text": [
            "              precision    recall  f1-score   support\n",
            "\n",
            "       <=50K       0.89      0.94      0.91      7410\n",
            "        >50K       0.77      0.65      0.70      2359\n",
            "\n",
            "    accuracy                           0.87      9769\n",
            "   macro avg       0.83      0.79      0.81      9769\n",
            "weighted avg       0.86      0.87      0.86      9769\n",
            "\n"
          ],
          "name": "stdout"
        }
      ]
    },
    {
      "cell_type": "markdown",
      "metadata": {
        "id": "ptHKIiNxIBjJ"
      },
      "source": [
        "### 요약: 소득 이진분류 예측모델의 정확도 비교하기"
      ]
    },
    {
      "cell_type": "code",
      "metadata": {
        "colab": {
          "base_uri": "https://localhost:8080/"
        },
        "id": "_GKz_anpH-LU",
        "outputId": "c15f3a4a-46d1-43a5-883d-0e26b7503ba0"
      },
      "source": [
        "print ('Accuracy Comparisons for Binary Models\\n')\n",
        "print ('logreg_score:', '{0:0.5f}'.format(logreg_score))\n",
        "print ('rfc_score   :', '{0:0.5f}'.format(rfc_score))\n",
        "print ('gbc_score   :', '{0:0.5f}'.format(gbc_score ))\n",
        "print ('lgbm_score  :', '{0:0.5f}'.format(lgbm_score))"
      ],
      "execution_count": 55,
      "outputs": [
        {
          "output_type": "stream",
          "text": [
            "Accuracy Comparisons for Binary Models\n",
            "\n",
            "logreg_score: 0.82219\n",
            "rfc_score   : 0.84819\n",
            "gbc_score   : 0.86211\n",
            "lgbm_score  : 0.86774\n"
          ],
          "name": "stdout"
        }
      ]
    },
    {
      "cell_type": "markdown",
      "metadata": {
        "id": "EnpYCOiLIENK"
      },
      "source": [
        "### 최종 이진분류 모델 비교하기"
      ]
    },
    {
      "cell_type": "code",
      "metadata": {
        "colab": {
          "base_uri": "https://localhost:8080/"
        },
        "id": "4Qkiq_U0IC70",
        "outputId": "6580aa4f-0524-4e9f-927f-cda43bd57dd7"
      },
      "source": [
        "print ('Classification Comparions for Binary Models\\n')\n",
        "print ('logreg_score:', '{0:0.4f}'.format(logreg_score))\n",
        "print (cm_logreg)\n",
        "print ('rfc_score   :', '{0:0.4f}'.format(rfc_score))\n",
        "print (cm_rfc)\n",
        "print ('gbc_score   :', '{0:0.4f}'.format(gbc_score ))\n",
        "print (cm_gbc)\n",
        "print ('lgbm_score  :', '{0:0.4f}'.format(lgbm_score))\n",
        "print (cm_lgbm)"
      ],
      "execution_count": 56,
      "outputs": [
        {
          "output_type": "stream",
          "text": [
            "Classification Comparions for Binary Models\n",
            "\n",
            "logreg_score: 0.8222\n",
            "              precision    recall  f1-score   support\n",
            "\n",
            "       <=50K       0.84      0.94      0.89      7410\n",
            "        >50K       0.71      0.44      0.55      2359\n",
            "\n",
            "    accuracy                           0.82      9769\n",
            "   macro avg       0.78      0.69      0.72      9769\n",
            "weighted avg       0.81      0.82      0.81      9769\n",
            "\n",
            "rfc_score   : 0.8482\n",
            "              precision    recall  f1-score   support\n",
            "\n",
            "       <=50K       0.88      0.92      0.90      7410\n",
            "        >50K       0.72      0.61      0.66      2359\n",
            "\n",
            "    accuracy                           0.85      9769\n",
            "   macro avg       0.80      0.77      0.78      9769\n",
            "weighted avg       0.84      0.85      0.84      9769\n",
            "\n",
            "gbc_score   : 0.8621\n",
            "              precision    recall  f1-score   support\n",
            "\n",
            "       <=50K       0.88      0.95      0.91      7410\n",
            "        >50K       0.78      0.59      0.68      2359\n",
            "\n",
            "    accuracy                           0.86      9769\n",
            "   macro avg       0.83      0.77      0.79      9769\n",
            "weighted avg       0.86      0.86      0.86      9769\n",
            "\n",
            "lgbm_score  : 0.8677\n",
            "              precision    recall  f1-score   support\n",
            "\n",
            "       <=50K       0.89      0.94      0.91      7410\n",
            "        >50K       0.77      0.65      0.70      2359\n",
            "\n",
            "    accuracy                           0.87      9769\n",
            "   macro avg       0.83      0.79      0.81      9769\n",
            "weighted avg       0.86      0.87      0.86      9769\n",
            "\n"
          ],
          "name": "stdout"
        }
      ]
    },
    {
      "cell_type": "markdown",
      "metadata": {
        "id": "XgfIInp3LN7x"
      },
      "source": [
        "## 다중분류 모델의 구현\n",
        "\n",
        "- 두번째로 쓸 데이터는 앞에서 사용한 US Adult 데이터에 모의로 생성한 금융 변수를 수정(+)·추가(++)한 것이며, 컬럼은 다음과 같다."
      ]
    },
    {
      "cell_type": "markdown",
      "metadata": {
        "id": "r_MMqorqLN5D"
      },
      "source": [
        "income_ext.csv\n",
        "- `age` : 나이\n",
        "- `workclass`: 직업구분\n",
        "- `education`: 교육수준\n",
        "- `education.num`: 교육수준(numerically coded)\n",
        "- `marital.status`: 혼인상태\n",
        "- `occupation` : 직업\n",
        "- `relationship`: 가족관계\n",
        "- `sex`: 성별\n",
        "- `capital.gain`: 자본이득\n",
        "- `capital.loss`: 자본손실\n",
        "- `hours.per.week`: 주당 근로시간\n",
        "- `spending.groc`: 식료품 소비 금액(continuous) ++\n",
        "- `spending.med`: 병의원 소비 금액(continuous) ++\n",
        "- `spending.trav`: 여행 레저 소비 금액(continuous) ++\n",
        "- `income` : 소득 이진구분( <=50K: 0, >50K: 1 ) +\n",
        "- `income.num` : 소득금액(continuous) ++"
      ]
    },
    {
      "cell_type": "code",
      "metadata": {
        "colab": {
          "base_uri": "https://localhost:8080/"
        },
        "id": "0iN-RAkgIFlF",
        "outputId": "14f3f378-82d2-47c0-fce0-6a6a253b1fdb"
      },
      "source": [
        "data =  pd.read_csv(datapath + 'income_ext.csv')\n",
        "print(data.shape)\n",
        "print(data.columns)"
      ],
      "execution_count": 57,
      "outputs": [
        {
          "output_type": "stream",
          "text": [
            "(32561, 19)\n",
            "Index(['age', 'workclass', 'education', 'education.num', 'marital.status',\n",
            "       'occupation', 'relationship', 'sex', 'capital.gain', 'capital.loss',\n",
            "       'hours.per.week', 'spend.groc', 'spend.med', 'spend.trav', 'asset',\n",
            "       'balance', 'native.country', 'income', 'income.num'],\n",
            "      dtype='object')\n"
          ],
          "name": "stdout"
        }
      ]
    },
    {
      "cell_type": "code",
      "metadata": {
        "colab": {
          "base_uri": "https://localhost:8080/",
          "height": 292
        },
        "id": "8f6GUP3oLWYI",
        "outputId": "035bb317-23e9-45d4-b9da-a876c34a7085"
      },
      "source": [
        "data.head()"
      ],
      "execution_count": 58,
      "outputs": [
        {
          "output_type": "execute_result",
          "data": {
            "text/html": [
              "<div>\n",
              "<style scoped>\n",
              "    .dataframe tbody tr th:only-of-type {\n",
              "        vertical-align: middle;\n",
              "    }\n",
              "\n",
              "    .dataframe tbody tr th {\n",
              "        vertical-align: top;\n",
              "    }\n",
              "\n",
              "    .dataframe thead th {\n",
              "        text-align: right;\n",
              "    }\n",
              "</style>\n",
              "<table border=\"1\" class=\"dataframe\">\n",
              "  <thead>\n",
              "    <tr style=\"text-align: right;\">\n",
              "      <th></th>\n",
              "      <th>age</th>\n",
              "      <th>workclass</th>\n",
              "      <th>education</th>\n",
              "      <th>education.num</th>\n",
              "      <th>marital.status</th>\n",
              "      <th>occupation</th>\n",
              "      <th>relationship</th>\n",
              "      <th>sex</th>\n",
              "      <th>capital.gain</th>\n",
              "      <th>capital.loss</th>\n",
              "      <th>hours.per.week</th>\n",
              "      <th>spend.groc</th>\n",
              "      <th>spend.med</th>\n",
              "      <th>spend.trav</th>\n",
              "      <th>asset</th>\n",
              "      <th>balance</th>\n",
              "      <th>native.country</th>\n",
              "      <th>income</th>\n",
              "      <th>income.num</th>\n",
              "    </tr>\n",
              "  </thead>\n",
              "  <tbody>\n",
              "    <tr>\n",
              "      <th>0</th>\n",
              "      <td>90</td>\n",
              "      <td>?</td>\n",
              "      <td>HS-grad</td>\n",
              "      <td>9</td>\n",
              "      <td>Widowed</td>\n",
              "      <td>?</td>\n",
              "      <td>Not-in-family</td>\n",
              "      <td>Female</td>\n",
              "      <td>0</td>\n",
              "      <td>4356</td>\n",
              "      <td>40</td>\n",
              "      <td>77053</td>\n",
              "      <td>13687</td>\n",
              "      <td>3478</td>\n",
              "      <td>345498</td>\n",
              "      <td>-36</td>\n",
              "      <td>United-States</td>\n",
              "      <td>0</td>\n",
              "      <td>43713</td>\n",
              "    </tr>\n",
              "    <tr>\n",
              "      <th>1</th>\n",
              "      <td>82</td>\n",
              "      <td>Private</td>\n",
              "      <td>HS-grad</td>\n",
              "      <td>9</td>\n",
              "      <td>Widowed</td>\n",
              "      <td>Exec-managerial</td>\n",
              "      <td>Not-in-family</td>\n",
              "      <td>Female</td>\n",
              "      <td>0</td>\n",
              "      <td>4356</td>\n",
              "      <td>18</td>\n",
              "      <td>132870</td>\n",
              "      <td>27294</td>\n",
              "      <td>27567</td>\n",
              "      <td>242642</td>\n",
              "      <td>57638</td>\n",
              "      <td>United-States</td>\n",
              "      <td>0</td>\n",
              "      <td>33113</td>\n",
              "    </tr>\n",
              "    <tr>\n",
              "      <th>2</th>\n",
              "      <td>66</td>\n",
              "      <td>?</td>\n",
              "      <td>Some-college</td>\n",
              "      <td>10</td>\n",
              "      <td>Widowed</td>\n",
              "      <td>?</td>\n",
              "      <td>Unmarried</td>\n",
              "      <td>Female</td>\n",
              "      <td>0</td>\n",
              "      <td>4356</td>\n",
              "      <td>40</td>\n",
              "      <td>186061</td>\n",
              "      <td>32029</td>\n",
              "      <td>24506</td>\n",
              "      <td>578403</td>\n",
              "      <td>46028</td>\n",
              "      <td>United-States</td>\n",
              "      <td>0</td>\n",
              "      <td>31652</td>\n",
              "    </tr>\n",
              "    <tr>\n",
              "      <th>3</th>\n",
              "      <td>54</td>\n",
              "      <td>Private</td>\n",
              "      <td>7th-8th</td>\n",
              "      <td>4</td>\n",
              "      <td>Divorced</td>\n",
              "      <td>Machine-op-inspct</td>\n",
              "      <td>Unmarried</td>\n",
              "      <td>Female</td>\n",
              "      <td>0</td>\n",
              "      <td>3900</td>\n",
              "      <td>40</td>\n",
              "      <td>140359</td>\n",
              "      <td>22449</td>\n",
              "      <td>23655</td>\n",
              "      <td>229303</td>\n",
              "      <td>7899</td>\n",
              "      <td>United-States</td>\n",
              "      <td>0</td>\n",
              "      <td>55087</td>\n",
              "    </tr>\n",
              "    <tr>\n",
              "      <th>4</th>\n",
              "      <td>41</td>\n",
              "      <td>Private</td>\n",
              "      <td>Some-college</td>\n",
              "      <td>10</td>\n",
              "      <td>Separated</td>\n",
              "      <td>Prof-specialty</td>\n",
              "      <td>Own-child</td>\n",
              "      <td>Female</td>\n",
              "      <td>0</td>\n",
              "      <td>3900</td>\n",
              "      <td>40</td>\n",
              "      <td>264663</td>\n",
              "      <td>40863</td>\n",
              "      <td>71439</td>\n",
              "      <td>672614</td>\n",
              "      <td>57675</td>\n",
              "      <td>United-States</td>\n",
              "      <td>0</td>\n",
              "      <td>85583</td>\n",
              "    </tr>\n",
              "  </tbody>\n",
              "</table>\n",
              "</div>"
            ],
            "text/plain": [
              "   age workclass     education  ...  native.country income income.num\n",
              "0   90         ?       HS-grad  ...   United-States      0      43713\n",
              "1   82   Private       HS-grad  ...   United-States      0      33113\n",
              "2   66         ?  Some-college  ...   United-States      0      31652\n",
              "3   54   Private       7th-8th  ...   United-States      0      55087\n",
              "4   41   Private  Some-college  ...   United-States      0      85583\n",
              "\n",
              "[5 rows x 19 columns]"
            ]
          },
          "metadata": {
            "tags": []
          },
          "execution_count": 58
        }
      ]
    },
    {
      "cell_type": "code",
      "metadata": {
        "colab": {
          "base_uri": "https://localhost:8080/"
        },
        "id": "R7_vD8L_LX-r",
        "outputId": "38da7a40-ff72-41de-e692-fa4cb822092f"
      },
      "source": [
        "data['income'].value_counts()"
      ],
      "execution_count": 59,
      "outputs": [
        {
          "output_type": "execute_result",
          "data": {
            "text/plain": [
              "0    24720\n",
              "1     7841\n",
              "Name: income, dtype: int64"
            ]
          },
          "metadata": {
            "tags": []
          },
          "execution_count": 59
        }
      ]
    },
    {
      "cell_type": "markdown",
      "metadata": {
        "id": "c7AeURIRNVPl"
      },
      "source": [
        "### Light GBM 개요\n",
        "\n",
        "\n",
        "- Decision Tree의 앙상블 모델인 Gradient Boosting Decision Tree (GBDT)는 실무에서 XGboost(eXtreme Gradient Boosting) 등으로도 알려져 있다. 각각의 반복에서 GBDT는 음의 기울기(Residual Error)를 적합함으로써 Decision Tree를 학습시키게 된다. \n",
        "\n",
        "\n",
        "- 그러나 고차원 대용량 데이터에서는 너무 많은 시간의 소모가 발생하였는데, 왜냐하면 모든 가능한 분할점에 대해 정보 획득(information gain)을 평가하기 위해 데이터 전부를 스캔해야 했기 때문이다. \n",
        "\n",
        "\n",
        "- Light GBM은 이러한 Gradient Boosting 모델의 단점을 극복하기 위해 샘플링 등의 기법을 이용하여 <b>스캔하는 데이터 양을 줄임으로써</b> 분석 시간을 획기적으로 단축시킨 방법론이다.\n",
        "\n",
        "\n",
        "- LGBM은 <b>범주변수가 많은 정형 데이터</b>와 <b>다중분류</b>에 유용한 알고리즘임\n",
        "\n",
        "\n",
        "- 참고링크: Light GBM: A Highly Efficient Gradient Boosting Decision Tree (NIPS 2017)\n",
        "[https://papers.nips.cc/paper/2017/hash/6449f44a102fde848669bdd9eb6b76fa-Abstract.html ] "
      ]
    },
    {
      "cell_type": "markdown",
      "metadata": {
        "id": "swfsx7kANxO6"
      },
      "source": [
        "### Light GBM 파라미터 설명\n",
        "\n",
        "- `objective` : 목적함수, regression, binary, multiclass 가능\n",
        "- `categorical_feature` : 범주변수임을 선언\n",
        "- `max_cat_group` : 범주형 변수가 많을 때 과적합을 방지하는 분기 포인트를 찾아서 카테고리 그룹을 max_cat_group 그룹으로 합치고 그룹 경계선에서 분기 포인트를 찾게 됨, 기본값은 64\n",
        "- `boosting`: 부스팅 방법, 기본값은 gbdt(gradient boosting decision tree)이며 샘플링을 이용하는 goss(Gradient-based One-Side Sampling), 딥러닝의 드롭아웃과 같은 dart (Dropouts meet Multiple Additive Regression Trees), rf (Random Forest) 등의 기법 선택 가능\n",
        "- `learning_rate` : 학습율, 각 예측기마다 얼마나 가중치를 주어 학습하게 할것인지 결정\n",
        "- `early_stopping_round` : 더 이상 validation 데이터에서 성능 향상이 없으면 멈추게끔 하는 단위 \n",
        "- `metric`: loss 측정 기준, binary_logloss, multi_logloss, mae, rmse, auc, cross_entropy 등이 있다"
      ]
    },
    {
      "cell_type": "code",
      "metadata": {
        "colab": {
          "base_uri": "https://localhost:8080/"
        },
        "id": "_0wsB1AnNQp-",
        "outputId": "6c88d57e-1fca-4e83-892f-1eafd97a2f7d"
      },
      "source": [
        "data.shape"
      ],
      "execution_count": 60,
      "outputs": [
        {
          "output_type": "execute_result",
          "data": {
            "text/plain": [
              "(32561, 19)"
            ]
          },
          "metadata": {
            "tags": []
          },
          "execution_count": 60
        }
      ]
    },
    {
      "cell_type": "code",
      "metadata": {
        "id": "DwaowxI2P1a4"
      },
      "source": [
        "# 데이터 확인\n",
        "# Create raw dataset for input\n",
        "X = data.drop(['education', 'income', 'income.num'], axis=1)   # Drop columns\n",
        "y = data['income.num']  # Choose column"
      ],
      "execution_count": 61,
      "outputs": []
    },
    {
      "cell_type": "code",
      "metadata": {
        "colab": {
          "base_uri": "https://localhost:8080/",
          "height": 258
        },
        "id": "0AaESJLBRF9P",
        "outputId": "72d4cb7b-ef6f-43fd-d573-4e766768e22b"
      },
      "source": [
        "# X raw 데이터 확인하기\n",
        "\n",
        "X.head()"
      ],
      "execution_count": 62,
      "outputs": [
        {
          "output_type": "execute_result",
          "data": {
            "text/html": [
              "<div>\n",
              "<style scoped>\n",
              "    .dataframe tbody tr th:only-of-type {\n",
              "        vertical-align: middle;\n",
              "    }\n",
              "\n",
              "    .dataframe tbody tr th {\n",
              "        vertical-align: top;\n",
              "    }\n",
              "\n",
              "    .dataframe thead th {\n",
              "        text-align: right;\n",
              "    }\n",
              "</style>\n",
              "<table border=\"1\" class=\"dataframe\">\n",
              "  <thead>\n",
              "    <tr style=\"text-align: right;\">\n",
              "      <th></th>\n",
              "      <th>age</th>\n",
              "      <th>workclass</th>\n",
              "      <th>education.num</th>\n",
              "      <th>marital.status</th>\n",
              "      <th>occupation</th>\n",
              "      <th>relationship</th>\n",
              "      <th>sex</th>\n",
              "      <th>capital.gain</th>\n",
              "      <th>capital.loss</th>\n",
              "      <th>hours.per.week</th>\n",
              "      <th>spend.groc</th>\n",
              "      <th>spend.med</th>\n",
              "      <th>spend.trav</th>\n",
              "      <th>asset</th>\n",
              "      <th>balance</th>\n",
              "      <th>native.country</th>\n",
              "    </tr>\n",
              "  </thead>\n",
              "  <tbody>\n",
              "    <tr>\n",
              "      <th>0</th>\n",
              "      <td>90</td>\n",
              "      <td>?</td>\n",
              "      <td>9</td>\n",
              "      <td>Widowed</td>\n",
              "      <td>?</td>\n",
              "      <td>Not-in-family</td>\n",
              "      <td>Female</td>\n",
              "      <td>0</td>\n",
              "      <td>4356</td>\n",
              "      <td>40</td>\n",
              "      <td>77053</td>\n",
              "      <td>13687</td>\n",
              "      <td>3478</td>\n",
              "      <td>345498</td>\n",
              "      <td>-36</td>\n",
              "      <td>United-States</td>\n",
              "    </tr>\n",
              "    <tr>\n",
              "      <th>1</th>\n",
              "      <td>82</td>\n",
              "      <td>Private</td>\n",
              "      <td>9</td>\n",
              "      <td>Widowed</td>\n",
              "      <td>Exec-managerial</td>\n",
              "      <td>Not-in-family</td>\n",
              "      <td>Female</td>\n",
              "      <td>0</td>\n",
              "      <td>4356</td>\n",
              "      <td>18</td>\n",
              "      <td>132870</td>\n",
              "      <td>27294</td>\n",
              "      <td>27567</td>\n",
              "      <td>242642</td>\n",
              "      <td>57638</td>\n",
              "      <td>United-States</td>\n",
              "    </tr>\n",
              "    <tr>\n",
              "      <th>2</th>\n",
              "      <td>66</td>\n",
              "      <td>?</td>\n",
              "      <td>10</td>\n",
              "      <td>Widowed</td>\n",
              "      <td>?</td>\n",
              "      <td>Unmarried</td>\n",
              "      <td>Female</td>\n",
              "      <td>0</td>\n",
              "      <td>4356</td>\n",
              "      <td>40</td>\n",
              "      <td>186061</td>\n",
              "      <td>32029</td>\n",
              "      <td>24506</td>\n",
              "      <td>578403</td>\n",
              "      <td>46028</td>\n",
              "      <td>United-States</td>\n",
              "    </tr>\n",
              "    <tr>\n",
              "      <th>3</th>\n",
              "      <td>54</td>\n",
              "      <td>Private</td>\n",
              "      <td>4</td>\n",
              "      <td>Divorced</td>\n",
              "      <td>Machine-op-inspct</td>\n",
              "      <td>Unmarried</td>\n",
              "      <td>Female</td>\n",
              "      <td>0</td>\n",
              "      <td>3900</td>\n",
              "      <td>40</td>\n",
              "      <td>140359</td>\n",
              "      <td>22449</td>\n",
              "      <td>23655</td>\n",
              "      <td>229303</td>\n",
              "      <td>7899</td>\n",
              "      <td>United-States</td>\n",
              "    </tr>\n",
              "    <tr>\n",
              "      <th>4</th>\n",
              "      <td>41</td>\n",
              "      <td>Private</td>\n",
              "      <td>10</td>\n",
              "      <td>Separated</td>\n",
              "      <td>Prof-specialty</td>\n",
              "      <td>Own-child</td>\n",
              "      <td>Female</td>\n",
              "      <td>0</td>\n",
              "      <td>3900</td>\n",
              "      <td>40</td>\n",
              "      <td>264663</td>\n",
              "      <td>40863</td>\n",
              "      <td>71439</td>\n",
              "      <td>672614</td>\n",
              "      <td>57675</td>\n",
              "      <td>United-States</td>\n",
              "    </tr>\n",
              "  </tbody>\n",
              "</table>\n",
              "</div>"
            ],
            "text/plain": [
              "   age workclass  education.num  ...   asset balance native.country\n",
              "0   90         ?              9  ...  345498     -36  United-States\n",
              "1   82   Private              9  ...  242642   57638  United-States\n",
              "2   66         ?             10  ...  578403   46028  United-States\n",
              "3   54   Private              4  ...  229303    7899  United-States\n",
              "4   41   Private             10  ...  672614   57675  United-States\n",
              "\n",
              "[5 rows x 16 columns]"
            ]
          },
          "metadata": {
            "tags": []
          },
          "execution_count": 62
        }
      ]
    },
    {
      "cell_type": "code",
      "metadata": {
        "colab": {
          "base_uri": "https://localhost:8080/"
        },
        "id": "05GmbnABRHOM",
        "outputId": "b577075f-ecbc-4fc4-a5a8-bf92b5ff8d43"
      },
      "source": [
        "# y raw 데이터 확인하기\n",
        "\n",
        "y.head()"
      ],
      "execution_count": 63,
      "outputs": [
        {
          "output_type": "execute_result",
          "data": {
            "text/plain": [
              "0    43713\n",
              "1    33113\n",
              "2    31652\n",
              "3    55087\n",
              "4    85583\n",
              "Name: income.num, dtype: int64"
            ]
          },
          "metadata": {
            "tags": []
          },
          "execution_count": 63
        }
      ]
    },
    {
      "cell_type": "markdown",
      "metadata": {
        "id": "8Cakaw9PRK34"
      },
      "source": [
        "### 다중분류 클래스 생성"
      ]
    },
    {
      "cell_type": "code",
      "metadata": {
        "id": "BxwUChvWRIl0"
      },
      "source": [
        "def value_change(x):\n",
        "    if x <= 10000: return 0\n",
        "    if x >  10000 and x <= 20000 : return 1\n",
        "    if x >  20000 and x <= 30000 : return 2\n",
        "    if x >  30000 and x <= 40000 : return 3\n",
        "    if x >  40000 and x <= 50000 : return 4\n",
        "    if x >  50000 and x <= 60000 : return 5\n",
        "    if x >  60000 and x <= 70000 : return 6\n",
        "    if x >  70000 and x <= 80000 : return 7\n",
        "    if x >  80000 and x <= 90000 : return 8\n",
        "    if x >  90000 and x <= 100000 : return 9\n",
        "    return 10                          \n",
        "                                       ## Define function\n",
        "\n",
        "y = y.apply(lambda x: value_change(x))  ## Apply Lambda function"
      ],
      "execution_count": 64,
      "outputs": []
    },
    {
      "cell_type": "code",
      "metadata": {
        "colab": {
          "base_uri": "https://localhost:8080/"
        },
        "id": "9pkHUtMgRLyv",
        "outputId": "6c7ee2f9-f7e5-4a17-f110-534f1a521b32"
      },
      "source": [
        "# 생성한 레이블 확인하기\n",
        "y.unique()"
      ],
      "execution_count": 65,
      "outputs": [
        {
          "output_type": "execute_result",
          "data": {
            "text/plain": [
              "array([ 4,  3,  5,  8,  7,  9,  2,  6,  1,  0, 10])"
            ]
          },
          "metadata": {
            "tags": []
          },
          "execution_count": 65
        }
      ]
    },
    {
      "cell_type": "code",
      "metadata": {
        "colab": {
          "base_uri": "https://localhost:8080/"
        },
        "id": "KrYiJOpZRNUa",
        "outputId": "ba1493a2-3c2f-46b3-d5c3-35fa86a3244a"
      },
      "source": [
        "y.value_counts()"
      ],
      "execution_count": 66,
      "outputs": [
        {
          "output_type": "execute_result",
          "data": {
            "text/plain": [
              "6     3318\n",
              "9     3310\n",
              "7     3276\n",
              "4     3273\n",
              "8     3257\n",
              "1     3250\n",
              "5     3246\n",
              "3     3233\n",
              "2     3180\n",
              "0     3176\n",
              "10      42\n",
              "Name: income.num, dtype: int64"
            ]
          },
          "metadata": {
            "tags": []
          },
          "execution_count": 66
        }
      ]
    },
    {
      "cell_type": "code",
      "metadata": {
        "colab": {
          "base_uri": "https://localhost:8080/",
          "height": 461
        },
        "id": "38N7A1fXRPCD",
        "outputId": "36ce482d-7955-49b3-a400-58dba82d6964"
      },
      "source": [
        "sns.set(font_scale=1.4)\n",
        "y.value_counts().plot(kind='bar', figsize=(7, 6), rot=0)\n",
        "plt.xlabel(\"Income Labels\", labelpad=14)\n",
        "plt.ylabel(\"Counts\", labelpad=14)\n",
        "plt.title(\"Counts of 11 Income Labels\\n\", y=1.02);"
      ],
      "execution_count": 67,
      "outputs": [
        {
          "output_type": "display_data",
          "data": {
            "image/png": "[encoded data removed]",
            "text/plain": [
              "<Figure size 504x432 with 1 Axes>"
            ]
          },
          "metadata": {
            "tags": []
          }
        }
      ]
    },
    {
      "cell_type": "markdown",
      "metadata": {
        "id": "3yRWa1h6RRs3"
      },
      "source": [
        "### Feature Engineering"
      ]
    },
    {
      "cell_type": "code",
      "metadata": {
        "id": "NcU5kvGvRQKr"
      },
      "source": [
        "from sklearn.model_selection import train_test_split\n",
        "\n",
        "x_train, x_test, y_train, y_test = train_test_split(X, y, test_size=0.3, random_state=0)"
      ],
      "execution_count": 68,
      "outputs": []
    },
    {
      "cell_type": "code",
      "metadata": {
        "id": "p4ikIKaVRTRw"
      },
      "source": [
        "from sklearn import preprocessing\n",
        "\n",
        "categorical = ['workclass', 'marital.status', 'occupation', 'relationship', 'sex', 'native.country']\n",
        "for feature in categorical:\n",
        "        le =  preprocessing.LabelEncoder()\n",
        "        x_train[feature] =  le.fit_transform(x_train[feature])\n",
        "        x_test[feature] =  le.transform(x_test[feature])"
      ],
      "execution_count": 69,
      "outputs": []
    },
    {
      "cell_type": "code",
      "metadata": {
        "colab": {
          "base_uri": "https://localhost:8080/",
          "height": 204
        },
        "id": "6QSucIoNSAmh",
        "outputId": "e17443c9-c6b5-4dc6-9c08-cb2412b879fc"
      },
      "source": [
        "x_train[categorical].head()"
      ],
      "execution_count": 70,
      "outputs": [
        {
          "output_type": "execute_result",
          "data": {
            "text/html": [
              "<div>\n",
              "<style scoped>\n",
              "    .dataframe tbody tr th:only-of-type {\n",
              "        vertical-align: middle;\n",
              "    }\n",
              "\n",
              "    .dataframe tbody tr th {\n",
              "        vertical-align: top;\n",
              "    }\n",
              "\n",
              "    .dataframe thead th {\n",
              "        text-align: right;\n",
              "    }\n",
              "</style>\n",
              "<table border=\"1\" class=\"dataframe\">\n",
              "  <thead>\n",
              "    <tr style=\"text-align: right;\">\n",
              "      <th></th>\n",
              "      <th>workclass</th>\n",
              "      <th>marital.status</th>\n",
              "      <th>occupation</th>\n",
              "      <th>relationship</th>\n",
              "      <th>sex</th>\n",
              "      <th>native.country</th>\n",
              "    </tr>\n",
              "  </thead>\n",
              "  <tbody>\n",
              "    <tr>\n",
              "      <th>32098</th>\n",
              "      <td>7</td>\n",
              "      <td>2</td>\n",
              "      <td>4</td>\n",
              "      <td>5</td>\n",
              "      <td>0</td>\n",
              "      <td>39</td>\n",
              "    </tr>\n",
              "    <tr>\n",
              "      <th>25206</th>\n",
              "      <td>2</td>\n",
              "      <td>2</td>\n",
              "      <td>7</td>\n",
              "      <td>0</td>\n",
              "      <td>1</td>\n",
              "      <td>39</td>\n",
              "    </tr>\n",
              "    <tr>\n",
              "      <th>23491</th>\n",
              "      <td>4</td>\n",
              "      <td>4</td>\n",
              "      <td>4</td>\n",
              "      <td>1</td>\n",
              "      <td>0</td>\n",
              "      <td>39</td>\n",
              "    </tr>\n",
              "    <tr>\n",
              "      <th>12367</th>\n",
              "      <td>2</td>\n",
              "      <td>4</td>\n",
              "      <td>5</td>\n",
              "      <td>3</td>\n",
              "      <td>1</td>\n",
              "      <td>39</td>\n",
              "    </tr>\n",
              "    <tr>\n",
              "      <th>7054</th>\n",
              "      <td>1</td>\n",
              "      <td>2</td>\n",
              "      <td>4</td>\n",
              "      <td>0</td>\n",
              "      <td>1</td>\n",
              "      <td>39</td>\n",
              "    </tr>\n",
              "  </tbody>\n",
              "</table>\n",
              "</div>"
            ],
            "text/plain": [
              "       workclass  marital.status  occupation  relationship  sex  native.country\n",
              "32098          7               2           4             5    0              39\n",
              "25206          2               2           7             0    1              39\n",
              "23491          4               4           4             1    0              39\n",
              "12367          2               4           5             3    1              39\n",
              "7054           1               2           4             0    1              39"
            ]
          },
          "metadata": {
            "tags": []
          },
          "execution_count": 70
        }
      ]
    },
    {
      "cell_type": "markdown",
      "metadata": {
        "id": "As7Fi9F1SXka"
      },
      "source": [
        "### Light GBM 을 이용하여 다중분류 구현하기"
      ]
    },
    {
      "cell_type": "code",
      "metadata": {
        "colab": {
          "base_uri": "https://localhost:8080/"
        },
        "id": "ELw8KySrSVrP",
        "outputId": "10e9117c-2eac-43ac-ac71-b4d2261aaef5"
      },
      "source": [
        "from lightgbm import LGBMClassifier\n",
        "from sklearn.metrics import accuracy_score\n",
        "\n",
        "lgbm =  LGBMClassifier( )\n",
        "lgbm.fit(x_train, y_train)"
      ],
      "execution_count": 71,
      "outputs": [
        {
          "output_type": "execute_result",
          "data": {
            "text/plain": [
              "LGBMClassifier(boosting_type='gbdt', class_weight=None, colsample_bytree=1.0,\n",
              "               importance_type='split', learning_rate=0.1, max_depth=-1,\n",
              "               min_child_samples=20, min_child_weight=0.001, min_split_gain=0.0,\n",
              "               n_estimators=100, n_jobs=-1, num_leaves=31, objective=None,\n",
              "               random_state=None, reg_alpha=0.0, reg_lambda=0.0, silent=True,\n",
              "               subsample=1.0, subsample_for_bin=200000, subsample_freq=0)"
            ]
          },
          "metadata": {
            "tags": []
          },
          "execution_count": 71
        }
      ]
    },
    {
      "cell_type": "markdown",
      "metadata": {
        "id": "pLRajAlESdeR"
      },
      "source": [
        "### Light GBM 다중분류 결과 확인하기: Accuracy, Confusion Matrix, Heatmap"
      ]
    },
    {
      "cell_type": "code",
      "metadata": {
        "colab": {
          "base_uri": "https://localhost:8080/"
        },
        "id": "LVlhbgANSaYP",
        "outputId": "4c80d120-85ec-48bb-e7c9-0162fbf7f616"
      },
      "source": [
        "## 정확도 구하기\n",
        "y_pred1 =  lgbm.predict(x_test)\n",
        "\n",
        "lgbm_score =  accuracy_score(y_test, y_pred1)\n",
        "print('LGBM Model accuracy score : {0:0.4f}'.format(lgbm_score))"
      ],
      "execution_count": 73,
      "outputs": [
        {
          "output_type": "stream",
          "text": [
            "LGBM Model accuracy score : 0.8119\n"
          ],
          "name": "stdout"
        }
      ]
    },
    {
      "cell_type": "code",
      "metadata": {
        "colab": {
          "base_uri": "https://localhost:8080/",
          "height": 359
        },
        "id": "jT5mFfTsSxU1",
        "outputId": "b6a4bfc7-1dde-496e-a294-10a1abe5ede4"
      },
      "source": [
        "pd.DataFrame(y_test).head(10)"
      ],
      "execution_count": 74,
      "outputs": [
        {
          "output_type": "execute_result",
          "data": {
            "text/html": [
              "<div>\n",
              "<style scoped>\n",
              "    .dataframe tbody tr th:only-of-type {\n",
              "        vertical-align: middle;\n",
              "    }\n",
              "\n",
              "    .dataframe tbody tr th {\n",
              "        vertical-align: top;\n",
              "    }\n",
              "\n",
              "    .dataframe thead th {\n",
              "        text-align: right;\n",
              "    }\n",
              "</style>\n",
              "<table border=\"1\" class=\"dataframe\">\n",
              "  <thead>\n",
              "    <tr style=\"text-align: right;\">\n",
              "      <th></th>\n",
              "      <th>income.num</th>\n",
              "    </tr>\n",
              "  </thead>\n",
              "  <tbody>\n",
              "    <tr>\n",
              "      <th>22278</th>\n",
              "      <td>6</td>\n",
              "    </tr>\n",
              "    <tr>\n",
              "      <th>8950</th>\n",
              "      <td>6</td>\n",
              "    </tr>\n",
              "    <tr>\n",
              "      <th>7838</th>\n",
              "      <td>7</td>\n",
              "    </tr>\n",
              "    <tr>\n",
              "      <th>16505</th>\n",
              "      <td>3</td>\n",
              "    </tr>\n",
              "    <tr>\n",
              "      <th>19140</th>\n",
              "      <td>2</td>\n",
              "    </tr>\n",
              "    <tr>\n",
              "      <th>12319</th>\n",
              "      <td>7</td>\n",
              "    </tr>\n",
              "    <tr>\n",
              "      <th>28589</th>\n",
              "      <td>7</td>\n",
              "    </tr>\n",
              "    <tr>\n",
              "      <th>10000</th>\n",
              "      <td>1</td>\n",
              "    </tr>\n",
              "    <tr>\n",
              "      <th>28530</th>\n",
              "      <td>3</td>\n",
              "    </tr>\n",
              "    <tr>\n",
              "      <th>24237</th>\n",
              "      <td>6</td>\n",
              "    </tr>\n",
              "  </tbody>\n",
              "</table>\n",
              "</div>"
            ],
            "text/plain": [
              "       income.num\n",
              "22278           6\n",
              "8950            6\n",
              "7838            7\n",
              "16505           3\n",
              "19140           2\n",
              "12319           7\n",
              "28589           7\n",
              "10000           1\n",
              "28530           3\n",
              "24237           6"
            ]
          },
          "metadata": {
            "tags": []
          },
          "execution_count": 74
        }
      ]
    },
    {
      "cell_type": "code",
      "metadata": {
        "colab": {
          "base_uri": "https://localhost:8080/",
          "height": 359
        },
        "id": "o4c0Rr_kSyRx",
        "outputId": "eadae6e3-ebfb-414a-bc73-0c5b9471191b"
      },
      "source": [
        "pd.DataFrame(y_pred1).head(10)"
      ],
      "execution_count": 75,
      "outputs": [
        {
          "output_type": "execute_result",
          "data": {
            "text/html": [
              "<div>\n",
              "<style scoped>\n",
              "    .dataframe tbody tr th:only-of-type {\n",
              "        vertical-align: middle;\n",
              "    }\n",
              "\n",
              "    .dataframe tbody tr th {\n",
              "        vertical-align: top;\n",
              "    }\n",
              "\n",
              "    .dataframe thead th {\n",
              "        text-align: right;\n",
              "    }\n",
              "</style>\n",
              "<table border=\"1\" class=\"dataframe\">\n",
              "  <thead>\n",
              "    <tr style=\"text-align: right;\">\n",
              "      <th></th>\n",
              "      <th>0</th>\n",
              "    </tr>\n",
              "  </thead>\n",
              "  <tbody>\n",
              "    <tr>\n",
              "      <th>0</th>\n",
              "      <td>6</td>\n",
              "    </tr>\n",
              "    <tr>\n",
              "      <th>1</th>\n",
              "      <td>6</td>\n",
              "    </tr>\n",
              "    <tr>\n",
              "      <th>2</th>\n",
              "      <td>7</td>\n",
              "    </tr>\n",
              "    <tr>\n",
              "      <th>3</th>\n",
              "      <td>1</td>\n",
              "    </tr>\n",
              "    <tr>\n",
              "      <th>4</th>\n",
              "      <td>3</td>\n",
              "    </tr>\n",
              "    <tr>\n",
              "      <th>5</th>\n",
              "      <td>7</td>\n",
              "    </tr>\n",
              "    <tr>\n",
              "      <th>6</th>\n",
              "      <td>7</td>\n",
              "    </tr>\n",
              "    <tr>\n",
              "      <th>7</th>\n",
              "      <td>1</td>\n",
              "    </tr>\n",
              "    <tr>\n",
              "      <th>8</th>\n",
              "      <td>3</td>\n",
              "    </tr>\n",
              "    <tr>\n",
              "      <th>9</th>\n",
              "      <td>6</td>\n",
              "    </tr>\n",
              "  </tbody>\n",
              "</table>\n",
              "</div>"
            ],
            "text/plain": [
              "   0\n",
              "0  6\n",
              "1  6\n",
              "2  7\n",
              "3  1\n",
              "4  3\n",
              "5  7\n",
              "6  7\n",
              "7  1\n",
              "8  3\n",
              "9  6"
            ]
          },
          "metadata": {
            "tags": []
          },
          "execution_count": 75
        }
      ]
    },
    {
      "cell_type": "code",
      "metadata": {
        "colab": {
          "base_uri": "https://localhost:8080/"
        },
        "id": "wD-2sQ21SzkE",
        "outputId": "e71a9105-74d4-46cd-cade-32286896d7ae"
      },
      "source": [
        "## Confusion Matrix 확인하기\n",
        "from sklearn.metrics import confusion_matrix\n",
        "cm1 =  confusion_matrix(y_test, y_pred1)\n",
        "print('LGBM Confusion Matrix for 11-class Labels\\n')\n",
        "print(cm1)\n"
      ],
      "execution_count": 76,
      "outputs": [
        {
          "output_type": "stream",
          "text": [
            "LGBM Confusion Matrix for 11-class Labels\n",
            "\n",
            "[[934  41   4   3   1   0   2   3   0   0   0]\n",
            " [ 40 869  46  13   1   0   0   0   0   0   0]\n",
            " [ 23  42 807  45   7   0   2   2   0   2   0]\n",
            " [ 13  20  75 838  62   6   2   2   1   0   0]\n",
            " [ 11  17  16  73 758  70  12   4   5   3   0]\n",
            " [  8  13  18  22  76 758  78  12  11   6   0]\n",
            " [ 10   7  11  12  11  92 702  78  13  15   0]\n",
            " [ 12   8  10   8  11  12  77 730  91  23   0]\n",
            " [  7  10  10   6   9   7  12 102 727  88   0]\n",
            " [  8   7  10  16  16   6   7  29  62 808   0]\n",
            " [  0   0   0   0   0   0   0   0   0  12   0]]\n"
          ],
          "name": "stdout"
        }
      ]
    },
    {
      "cell_type": "code",
      "metadata": {
        "colab": {
          "base_uri": "https://localhost:8080/",
          "height": 477
        },
        "id": "NnEp84vhS0mN",
        "outputId": "b84d62cc-e474-4167-b0ee-575576a6e806"
      },
      "source": [
        "## 히트맵으로 시각화하기\n",
        "plt.figure(figsize=[8,7])\n",
        "sns.heatmap(cm1, cmap='Reds', annot=True, fmt='.0f')\n",
        "plt.title('LGBM Heatmap for 11-class Labels\\n')\n",
        "plt.show()"
      ],
      "execution_count": 77,
      "outputs": [
        {
          "output_type": "display_data",
          "data": {
            "image/png": "[encoded data removed]",
            "text/plain": [
              "<Figure size 576x504 with 2 Axes>"
            ]
          },
          "metadata": {
            "tags": []
          }
        }
      ]
    },
    {
      "cell_type": "code",
      "metadata": {
        "colab": {
          "base_uri": "https://localhost:8080/"
        },
        "id": "ctdqSWt5S1_q",
        "outputId": "339d0889-5955-44a3-ee37-08f2c0f8cc92"
      },
      "source": [
        "print('LGBM Model accuracy score : {0:0.4f}'.format(lgbm_score))\n",
        "print('\\n')\n",
        "print(classification_report(y_test, y_pred1))"
      ],
      "execution_count": 78,
      "outputs": [
        {
          "output_type": "stream",
          "text": [
            "LGBM Model accuracy score : 0.8119\n",
            "\n",
            "\n",
            "              precision    recall  f1-score   support\n",
            "\n",
            "           0       0.88      0.95      0.91       988\n",
            "           1       0.84      0.90      0.87       969\n",
            "           2       0.80      0.87      0.83       930\n",
            "           3       0.81      0.82      0.82      1019\n",
            "           4       0.80      0.78      0.79       969\n",
            "           5       0.80      0.76      0.78      1002\n",
            "           6       0.79      0.74      0.76       951\n",
            "           7       0.76      0.74      0.75       982\n",
            "           8       0.80      0.74      0.77       978\n",
            "           9       0.84      0.83      0.84       969\n",
            "          10       0.00      0.00      0.00        12\n",
            "\n",
            "    accuracy                           0.81      9769\n",
            "   macro avg       0.74      0.74      0.74      9769\n",
            "weighted avg       0.81      0.81      0.81      9769\n",
            "\n"
          ],
          "name": "stdout"
        }
      ]
    },
    {
      "cell_type": "markdown",
      "metadata": {
        "id": "WBd4d8c5S5B4"
      },
      "source": [
        "### Random Forest 모델로 다중분류 구현하고 정확도 확인하기"
      ]
    },
    {
      "cell_type": "code",
      "metadata": {
        "colab": {
          "base_uri": "https://localhost:8080/"
        },
        "id": "WJNN_CWRS3Nj",
        "outputId": "bfcc781a-2e1c-4f44-c449-f35e27e96cbc"
      },
      "source": [
        "from sklearn.ensemble import RandomForestClassifier\n",
        "from sklearn.metrics import accuracy_score\n",
        "\n",
        "rfc =  RandomForestClassifier() \n",
        "rfc.fit(x_train, y_train) "
      ],
      "execution_count": 79,
      "outputs": [
        {
          "output_type": "execute_result",
          "data": {
            "text/plain": [
              "RandomForestClassifier(bootstrap=True, ccp_alpha=0.0, class_weight=None,\n",
              "                       criterion='gini', max_depth=None, max_features='auto',\n",
              "                       max_leaf_nodes=None, max_samples=None,\n",
              "                       min_impurity_decrease=0.0, min_impurity_split=None,\n",
              "                       min_samples_leaf=1, min_samples_split=2,\n",
              "                       min_weight_fraction_leaf=0.0, n_estimators=100,\n",
              "                       n_jobs=None, oob_score=False, random_state=None,\n",
              "                       verbose=0, warm_start=False)"
            ]
          },
          "metadata": {
            "tags": []
          },
          "execution_count": 79
        }
      ]
    },
    {
      "cell_type": "code",
      "metadata": {
        "colab": {
          "base_uri": "https://localhost:8080/"
        },
        "id": "CFQ7RTCoS6Q9",
        "outputId": "8a218c11-bdca-4bac-b2cd-929a36a52656"
      },
      "source": [
        "y_pred = rfc.predict(x_test)\n",
        "rfc_score = accuracy_score(y_test, y_pred)\n",
        "print('Random Forest Model accuracy score : {0:0.4f}'. format(rfc_score))"
      ],
      "execution_count": 80,
      "outputs": [
        {
          "output_type": "stream",
          "text": [
            "Random Forest Model accuracy score : 0.7693\n"
          ],
          "name": "stdout"
        }
      ]
    },
    {
      "cell_type": "markdown",
      "metadata": {
        "id": "hU3zduLKTM0F"
      },
      "source": [
        "## 다중분류 모델의 평가와 개선\n",
        "###  Random Forest 다중분류 모델의 정확도 확인하기\n"
      ]
    },
    {
      "cell_type": "code",
      "metadata": {
        "colab": {
          "base_uri": "https://localhost:8080/"
        },
        "id": "rv7yGOScTKV7",
        "outputId": "46063b6e-3ff4-4921-abb4-a6a78ad858d6"
      },
      "source": [
        "## 이전 Step 복습\n",
        "y_pred = rfc.predict(x_test)\n",
        "rfc_score = accuracy_score(y_test, y_pred)\n",
        "print('Randoom Forest Model accuracy score : {0:0.4f}'. format(rfc_score)) "
      ],
      "execution_count": 81,
      "outputs": [
        {
          "output_type": "stream",
          "text": [
            "Randoom Forest Model accuracy score : 0.7693\n"
          ],
          "name": "stdout"
        }
      ]
    },
    {
      "cell_type": "markdown",
      "metadata": {
        "id": "rnOQP_SrTTwL"
      },
      "source": [
        "### Random Forest 다중분류 모델의 인접정확도 구하기"
      ]
    },
    {
      "cell_type": "code",
      "metadata": {
        "colab": {
          "base_uri": "https://localhost:8080/"
        },
        "id": "jySKOtUdTRW0",
        "outputId": "fc0e5668-d0a2-42e3-e67c-2ac75ba4f0e5"
      },
      "source": [
        "## 인접 정확도의 계산\n",
        "precise_accuracy =  np.sum(y_pred==y_test) / len(y_pred)\n",
        "adjacent_accuracy =  np.sum(np.abs(y_pred - y_test) <= 1) / len(y_pred)\n",
        "\n",
        "print('precise accuracy: {0:0.4f}'. format(precise_accuracy))\n",
        "print('adjacent accuracy: {0:0.4f}'. format(adjacent_accuracy))"
      ],
      "execution_count": 82,
      "outputs": [
        {
          "output_type": "stream",
          "text": [
            "precise accuracy: 0.7693\n",
            "adjacent accuracy: 0.9304\n"
          ],
          "name": "stdout"
        }
      ]
    },
    {
      "cell_type": "markdown",
      "metadata": {
        "id": "Dl1sCMT1UUcl"
      },
      "source": [
        "### Random Forest 다중분류 모델의 Confusion Matrix 확인하기"
      ]
    },
    {
      "cell_type": "code",
      "metadata": {
        "colab": {
          "base_uri": "https://localhost:8080/"
        },
        "id": "slFb7YwCTVhd",
        "outputId": "06f01e6c-144c-4339-b1f2-242811032942"
      },
      "source": [
        "print(cm1) # light gbm "
      ],
      "execution_count": 83,
      "outputs": [
        {
          "output_type": "stream",
          "text": [
            "[[934  41   4   3   1   0   2   3   0   0   0]\n",
            " [ 40 869  46  13   1   0   0   0   0   0   0]\n",
            " [ 23  42 807  45   7   0   2   2   0   2   0]\n",
            " [ 13  20  75 838  62   6   2   2   1   0   0]\n",
            " [ 11  17  16  73 758  70  12   4   5   3   0]\n",
            " [  8  13  18  22  76 758  78  12  11   6   0]\n",
            " [ 10   7  11  12  11  92 702  78  13  15   0]\n",
            " [ 12   8  10   8  11  12  77 730  91  23   0]\n",
            " [  7  10  10   6   9   7  12 102 727  88   0]\n",
            " [  8   7  10  16  16   6   7  29  62 808   0]\n",
            " [  0   0   0   0   0   0   0   0   0  12   0]]\n"
          ],
          "name": "stdout"
        }
      ]
    },
    {
      "cell_type": "code",
      "metadata": {
        "colab": {
          "base_uri": "https://localhost:8080/"
        },
        "id": "MVc-vi1xVSfD",
        "outputId": "b14004cc-dd2a-4395-b617-baa18cb400fb"
      },
      "source": [
        "from sklearn.metrics import confusion_matrix\n",
        "cm2 =  confusion_matrix(y_test, y_pred)\n",
        "print('Random Forest Confusion Matrix for 11-class Labels\\n')\n",
        "print(cm2)"
      ],
      "execution_count": 84,
      "outputs": [
        {
          "output_type": "stream",
          "text": [
            "Random Forest Confusion Matrix for 11-class Labels\n",
            "\n",
            "[[934  46   5   1   1   0   1   0   0   0   0]\n",
            " [ 55 823  70  10   4   5   2   0   0   0   0]\n",
            " [ 24  71 783  36   8   1   3   0   2   2   0]\n",
            " [ 18  19  93 779  83   9   6   3   6   3   0]\n",
            " [ 13  19  14  88 725  86  15   2   3   4   0]\n",
            " [ 14  12  16  20  92 724  96  15   7   6   0]\n",
            " [ 12  11   9  10  21  94 690  86  10   8   0]\n",
            " [ 13   6  10   7  13  23  96 688 108  18   0]\n",
            " [  7  10  10   8  10  17  25 124 640 127   0]\n",
            " [ 11   5  12   9  19  18  18  37 111 729   0]\n",
            " [  0   0   0   0   0   0   0   0   0  12   0]]\n"
          ],
          "name": "stdout"
        }
      ]
    },
    {
      "cell_type": "code",
      "metadata": {
        "colab": {
          "base_uri": "https://localhost:8080/",
          "height": 436
        },
        "id": "MIhIjQWTVUAP",
        "outputId": "4f195309-033d-41b0-9716-d95ef65ee628"
      },
      "source": [
        "plt.figure(figsize=[8, 7])\n",
        "sns.heatmap(cm1, cmap='Reds', annot=True, fmt='.0f')\n",
        "plt.show()"
      ],
      "execution_count": 85,
      "outputs": [
        {
          "output_type": "display_data",
          "data": {
            "image/png": "[encoded data removed]",
            "text/plain": [
              "<Figure size 576x504 with 2 Axes>"
            ]
          },
          "metadata": {
            "tags": []
          }
        }
      ]
    },
    {
      "cell_type": "code",
      "metadata": {
        "colab": {
          "base_uri": "https://localhost:8080/",
          "height": 469
        },
        "id": "_VBjZtfmVekv",
        "outputId": "3cb96fed-a029-4f6c-c392-3074e4459cb1"
      },
      "source": [
        "## Seaborn Heatmap\n",
        "\n",
        "plt.figure(figsize=[8, 7])\n",
        "sns.heatmap(cm2, cmap='Reds', annot=True, fmt='.0f')\n",
        "plt.title('Random Forest Heatmap for 11-class Labels\\n', fontsize=14)\n",
        "plt.show()"
      ],
      "execution_count": 86,
      "outputs": [
        {
          "output_type": "display_data",
          "data": {
            "image/png": "[encoded data removed]",
            "text/plain": [
              "<Figure size 576x504 with 2 Axes>"
            ]
          },
          "metadata": {
            "tags": []
          }
        }
      ]
    },
    {
      "cell_type": "markdown",
      "metadata": {
        "id": "0DFBBRYXViNl"
      },
      "source": [
        "### Random Forest 다중분류 모델의 분류결과 확인하기"
      ]
    },
    {
      "cell_type": "code",
      "metadata": {
        "colab": {
          "base_uri": "https://localhost:8080/"
        },
        "id": "xiuPXFMUVfnx",
        "outputId": "37627fb7-5f14-4bbe-b5ef-ab3b37ec895e"
      },
      "source": [
        "from sklearn.metrics import classification_report\n",
        "\n",
        "print('Random Forest precise  accuracy for 11 labels: {0:0.4f}'. format(precise_accuracy))\n",
        "print('Random Forest adjacent accuracy for 11 labels: {0:0.4f}'. format(adjacent_accuracy))\n",
        "print('\\n')\n",
        "print(classification_report(y_test, y_pred ))"
      ],
      "execution_count": 87,
      "outputs": [
        {
          "output_type": "stream",
          "text": [
            "Random Forest precise  accuracy for 11 labels: 0.7693\n",
            "Random Forest adjacent accuracy for 11 labels: 0.9304\n",
            "\n",
            "\n",
            "              precision    recall  f1-score   support\n",
            "\n",
            "           0       0.85      0.95      0.89       988\n",
            "           1       0.81      0.85      0.83       969\n",
            "           2       0.77      0.84      0.80       930\n",
            "           3       0.80      0.76      0.78      1019\n",
            "           4       0.74      0.75      0.75       969\n",
            "           5       0.74      0.72      0.73      1002\n",
            "           6       0.72      0.73      0.73       951\n",
            "           7       0.72      0.70      0.71       982\n",
            "           8       0.72      0.65      0.69       978\n",
            "           9       0.80      0.75      0.78       969\n",
            "          10       0.00      0.00      0.00        12\n",
            "\n",
            "    accuracy                           0.77      9769\n",
            "   macro avg       0.70      0.70      0.70      9769\n",
            "weighted avg       0.77      0.77      0.77      9769\n",
            "\n"
          ],
          "name": "stdout"
        }
      ]
    },
    {
      "cell_type": "markdown",
      "metadata": {
        "id": "gLx5uOk4VmC5"
      },
      "source": [
        "### 적절한 클래스 수로 변환하여 모델 개선하기"
      ]
    },
    {
      "cell_type": "code",
      "metadata": {
        "id": "P9OpFzXVVkOS"
      },
      "source": [
        "def value_change(x):\n",
        "    if x <= 20000: return 0\n",
        "    if x >  20000 and x <= 50000 : return 1\n",
        "    if x >  50000 and x <= 70000 : return 2\n",
        "    if x >  70000 and x <= 90000 : return 3 \n",
        "    return 4\n",
        "                                       ## Define new function\n",
        "y = data['income.num'].apply(lambda x: value_change(x))   ## Apply Lambda function"
      ],
      "execution_count": 88,
      "outputs": []
    },
    {
      "cell_type": "code",
      "metadata": {
        "colab": {
          "base_uri": "https://localhost:8080/"
        },
        "id": "l0ZLoUYBVna3",
        "outputId": "2c8ba097-55e3-46c5-c075-b73566ee8daa"
      },
      "source": [
        "y.value_counts()"
      ],
      "execution_count": 89,
      "outputs": [
        {
          "output_type": "execute_result",
          "data": {
            "text/plain": [
              "1    9686\n",
              "2    6564\n",
              "3    6533\n",
              "0    6426\n",
              "4    3352\n",
              "Name: income.num, dtype: int64"
            ]
          },
          "metadata": {
            "tags": []
          },
          "execution_count": 89
        }
      ]
    },
    {
      "cell_type": "code",
      "metadata": {
        "colab": {
          "base_uri": "https://localhost:8080/"
        },
        "id": "NdQD1FlaVoi1",
        "outputId": "f3fe408d-23d1-4aee-d19d-6d8ad02e1f7d"
      },
      "source": [
        "y.value_counts().sum()"
      ],
      "execution_count": 90,
      "outputs": [
        {
          "output_type": "execute_result",
          "data": {
            "text/plain": [
              "32561"
            ]
          },
          "metadata": {
            "tags": []
          },
          "execution_count": 90
        }
      ]
    },
    {
      "cell_type": "code",
      "metadata": {
        "colab": {
          "base_uri": "https://localhost:8080/"
        },
        "id": "Gz3dHvUpVr1b",
        "outputId": "46485e8b-7be5-44e0-a9cb-334835c2f470"
      },
      "source": [
        "9686 / 32561"
      ],
      "execution_count": 91,
      "outputs": [
        {
          "output_type": "execute_result",
          "data": {
            "text/plain": [
              "0.29747243635023496"
            ]
          },
          "metadata": {
            "tags": []
          },
          "execution_count": 91
        }
      ]
    },
    {
      "cell_type": "code",
      "metadata": {
        "colab": {
          "base_uri": "https://localhost:8080/",
          "height": 461
        },
        "id": "4T6Dt_zjVtMt",
        "outputId": "3ca53d6c-63c4-45ac-b885-2dcd7f8d470f"
      },
      "source": [
        "sns.set(font_scale=1.4)\n",
        "y.value_counts().plot(kind='bar', figsize=(7, 6), rot=0)\n",
        "plt.xlabel(\"Income Labels\", labelpad=14)\n",
        "plt.ylabel(\"Counts\", labelpad=14)\n",
        "plt.title(\"Counts of 5 Income Labels\\n\", y=1.02);"
      ],
      "execution_count": 92,
      "outputs": [
        {
          "output_type": "display_data",
          "data": {
            "image/png": "[encoded data removed]",
            "text/plain": [
              "<Figure size 504x432 with 1 Axes>"
            ]
          },
          "metadata": {
            "tags": []
          }
        }
      ]
    },
    {
      "cell_type": "markdown",
      "metadata": {
        "id": "b_sbrJ1KV1BN"
      },
      "source": [
        "### Feature Engineering"
      ]
    },
    {
      "cell_type": "code",
      "metadata": {
        "id": "ivnxSep3Vuzz"
      },
      "source": [
        "from sklearn.model_selection import train_test_split\n",
        "x_train, x_test, y_train, y_test = train_test_split(X, y, test_size = 0.3, random_state = 0)"
      ],
      "execution_count": 93,
      "outputs": []
    },
    {
      "cell_type": "code",
      "metadata": {
        "id": "01lww9epV2W6"
      },
      "source": [
        "from sklearn import preprocessing\n",
        "\n",
        "categorical = ['workclass', 'marital.status', 'occupation', 'relationship', 'sex', 'native.country']\n",
        "for feature in categorical:\n",
        "        le = preprocessing.LabelEncoder()\n",
        "        x_train[feature] = le.fit_transform(x_train[feature])\n",
        "        x_test[feature] = le.transform(x_test[feature])"
      ],
      "execution_count": 94,
      "outputs": []
    },
    {
      "cell_type": "markdown",
      "metadata": {
        "id": "wt6KZSHlV-hw"
      },
      "source": [
        "### 변경한 클래스를 이용한 Random Forest 다중분류 모델의 개선결과 확인하기"
      ]
    },
    {
      "cell_type": "code",
      "metadata": {
        "colab": {
          "base_uri": "https://localhost:8080/"
        },
        "id": "iro1IrN3V8Sx",
        "outputId": "ead08c47-238a-44e0-e945-b2956936a37f"
      },
      "source": [
        "from sklearn.ensemble import RandomForestClassifier\n",
        "from sklearn.metrics import accuracy_score\n",
        "\n",
        "rfc = RandomForestClassifier(random_state=0)\n",
        "rfc.fit(x_train, y_train)"
      ],
      "execution_count": 95,
      "outputs": [
        {
          "output_type": "execute_result",
          "data": {
            "text/plain": [
              "RandomForestClassifier(bootstrap=True, ccp_alpha=0.0, class_weight=None,\n",
              "                       criterion='gini', max_depth=None, max_features='auto',\n",
              "                       max_leaf_nodes=None, max_samples=None,\n",
              "                       min_impurity_decrease=0.0, min_impurity_split=None,\n",
              "                       min_samples_leaf=1, min_samples_split=2,\n",
              "                       min_weight_fraction_leaf=0.0, n_estimators=100,\n",
              "                       n_jobs=None, oob_score=False, random_state=0, verbose=0,\n",
              "                       warm_start=False)"
            ]
          },
          "metadata": {
            "tags": []
          },
          "execution_count": 95
        }
      ]
    },
    {
      "cell_type": "code",
      "metadata": {
        "colab": {
          "base_uri": "https://localhost:8080/"
        },
        "id": "rBlRI-6DWCJQ",
        "outputId": "acf8b4ba-979f-479e-9af8-f268de899529"
      },
      "source": [
        "## Confusion Matrix 확인하기\n",
        "y_pred =  rfc.predict(x_test)\n",
        "cm3 =  confusion_matrix(y_test, y_pred)\n",
        "print('Random Forest Confusion Matrix for 5-class Labels\\n')\n",
        "print(cm3)"
      ],
      "execution_count": 96,
      "outputs": [
        {
          "output_type": "stream",
          "text": [
            "Random Forest Confusion Matrix for 5-class Labels\n",
            "\n",
            "[[1811  144    2    0    0]\n",
            " [ 105 2721   84    8    0]\n",
            " [  31  194 1609  118    1]\n",
            " [  26   81  134 1680   39]\n",
            " [  13   56   29  253  630]]\n"
          ],
          "name": "stdout"
        }
      ]
    },
    {
      "cell_type": "code",
      "metadata": {
        "colab": {
          "base_uri": "https://localhost:8080/",
          "height": 469
        },
        "id": "qk-3WuZ8WPdq",
        "outputId": "b9882f82-afc6-4412-dcb9-db34ef325571"
      },
      "source": [
        "plt.figure(figsize=[8, 7])\n",
        "sns.heatmap(cm2, cmap='Reds', annot=True, fmt='.0f')\n",
        "plt.title('Random Forest Heatmap for 11-class Labels\\n', fontsize=14)\n",
        "plt.show()"
      ],
      "execution_count": 97,
      "outputs": [
        {
          "output_type": "display_data",
          "data": {
            "image/png": "[encoded data removed]",
            "text/plain": [
              "<Figure size 576x504 with 2 Axes>"
            ]
          },
          "metadata": {
            "tags": []
          }
        }
      ]
    },
    {
      "cell_type": "code",
      "metadata": {
        "colab": {
          "base_uri": "https://localhost:8080/",
          "height": 469
        },
        "id": "ynAEuUw6WQyV",
        "outputId": "4a58cc65-da9b-4108-f73a-b5bdce56d2a5"
      },
      "source": [
        "# Heatmap 그려보기\n",
        "\n",
        "plt.figure(figsize=[8,7])\n",
        "sns.heatmap(cm3, cmap=\"Reds\", annot=True, fmt='.0f')\n",
        "plt.title('Random Forest Heatmap for 5-class Labels\\n', fontsize=14)\n",
        "plt.show()"
      ],
      "execution_count": 98,
      "outputs": [
        {
          "output_type": "display_data",
          "data": {
            "image/png": "[encoded data removed]",
            "text/plain": [
              "<Figure size 576x504 with 2 Axes>"
            ]
          },
          "metadata": {
            "tags": []
          }
        }
      ]
    },
    {
      "cell_type": "code",
      "metadata": {
        "colab": {
          "base_uri": "https://localhost:8080/"
        },
        "id": "0x7LZcyWWj-l",
        "outputId": "dd9dd711-0ed0-43a1-ed5f-ca3e96197cfa"
      },
      "source": [
        "## Accruacy Evaluation\n",
        "precise_accuracy =  np.sum(y_pred==y_test) / len(y_pred) # exact_match\n",
        "adjacent_accuracy =  np.sum(np.abs(y_pred - y_test) <=1) / len(y_pred)\n",
        "\n",
        "print('precise accuracy: {0:0.4f}'. format(precise_accuracy))\n",
        "print('adjacent accuracy: {0:0.4f}'. format(adjacent_accuracy))"
      ],
      "execution_count": 99,
      "outputs": [
        {
          "output_type": "stream",
          "text": [
            "precise accuracy: 0.8651\n",
            "adjacent accuracy: 0.9747\n"
          ],
          "name": "stdout"
        }
      ]
    },
    {
      "cell_type": "code",
      "metadata": {
        "colab": {
          "base_uri": "https://localhost:8080/"
        },
        "id": "IMWeWtDbWlVL",
        "outputId": "19fa82e4-f9f4-476a-d609-f4699cd9aad2"
      },
      "source": [
        "## 2가지 Accruacy 스코어의 비교\n",
        "print('Random Forest precise  accuracy for 5 labels: {0:0.4f}'. format(precise_accuracy))\n",
        "print('Random Forest adjacent accuracy for 5 labels: {0:0.4f}'. format(adjacent_accuracy))\n",
        "print('\\n')\n",
        "print(classification_report(y_test, y_pred))"
      ],
      "execution_count": 100,
      "outputs": [
        {
          "output_type": "stream",
          "text": [
            "Random Forest precise  accuracy for 5 labels: 0.8651\n",
            "Random Forest adjacent accuracy for 5 labels: 0.9747\n",
            "\n",
            "\n",
            "              precision    recall  f1-score   support\n",
            "\n",
            "           0       0.91      0.93      0.92      1957\n",
            "           1       0.85      0.93      0.89      2918\n",
            "           2       0.87      0.82      0.84      1953\n",
            "           3       0.82      0.86      0.84      1960\n",
            "           4       0.94      0.64      0.76       981\n",
            "\n",
            "    accuracy                           0.87      9769\n",
            "   macro avg       0.88      0.84      0.85      9769\n",
            "weighted avg       0.87      0.87      0.86      9769\n",
            "\n"
          ],
          "name": "stdout"
        }
      ]
    },
    {
      "cell_type": "markdown",
      "metadata": {
        "id": "zROR8ZMuW53q"
      },
      "source": [
        "### 변경한 클래스를 이용한 Ligth GBM 다중분류 모델의 개선결과 확인하기"
      ]
    },
    {
      "cell_type": "code",
      "metadata": {
        "colab": {
          "base_uri": "https://localhost:8080/"
        },
        "id": "vrxgtJGDWmYX",
        "outputId": "552acece-5696-4f21-e152-92f677201902"
      },
      "source": [
        "lgbm =  LGBMClassifier(random_state=0)\n",
        "lgbm.fit(x_train, y_train)\n",
        "y_pred1 =  lgbm.predict(x_test)\n",
        "\n",
        "lgbm_score1 = accuracy_score(y_test, y_pred1 )\n",
        "print('LGBM Model accuracy score : {0:0.4f}'.format(lgbm_score1))"
      ],
      "execution_count": 101,
      "outputs": [
        {
          "output_type": "stream",
          "text": [
            "LGBM Model accuracy score : 0.9023\n"
          ],
          "name": "stdout"
        }
      ]
    },
    {
      "cell_type": "code",
      "metadata": {
        "colab": {
          "base_uri": "https://localhost:8080/"
        },
        "id": "x8ifJuWQW7Qy",
        "outputId": "6b9bf0c9-23a6-4d83-827b-1f08348be1ea"
      },
      "source": [
        "## Confusion Matrix 구하기\n",
        "\n",
        "cm4 =  confusion_matrix(y_test, y_pred1)\n",
        "print('LGBM Confusion Matrix for 5-class Labels\\n')\n",
        "print(cm4)"
      ],
      "execution_count": 102,
      "outputs": [
        {
          "output_type": "stream",
          "text": [
            "LGBM Confusion Matrix for 5-class Labels\n",
            "\n",
            "[[1859   91    3    4    0]\n",
            " [  77 2770   60    9    2]\n",
            " [  28  145 1685   91    4]\n",
            " [  26   60  104 1717   53]\n",
            " [  13   38   20  126  784]]\n"
          ],
          "name": "stdout"
        }
      ]
    },
    {
      "cell_type": "code",
      "metadata": {
        "colab": {
          "base_uri": "https://localhost:8080/",
          "height": 469
        },
        "id": "FcKZDX8kXnFX",
        "outputId": "1787bbd0-d6cc-401e-c183-e4f407ef833d"
      },
      "source": [
        "# seaborn를 이용한 heatmap\n",
        "\n",
        "plt.figure(figsize=[8, 7])\n",
        "sns.heatmap(cm3, cmap='Reds', annot=True, fmt='.0f')\n",
        "plt.title('Random Forest Classifier Heatmap for 5-class Labels\\n', fontsize=14)\n",
        "plt.show()"
      ],
      "execution_count": 103,
      "outputs": [
        {
          "output_type": "display_data",
          "data": {
            "image/png": "[encoded data removed]",
            "text/plain": [
              "<Figure size 576x504 with 2 Axes>"
            ]
          },
          "metadata": {
            "tags": []
          }
        }
      ]
    },
    {
      "cell_type": "code",
      "metadata": {
        "colab": {
          "base_uri": "https://localhost:8080/",
          "height": 469
        },
        "id": "3TtlOPc1Xolz",
        "outputId": "3f782d6f-77bd-4b08-8012-ef14f333f3d8"
      },
      "source": [
        "# seaborn를 이용한 heatmap\n",
        "\n",
        "plt.figure(figsize=[8, 7])\n",
        "sns.heatmap(cm4, cmap='Reds', annot=True, fmt='.0f')\n",
        "plt.title('LGBM Heatmap for 5-class Labels\\n', fontsize=14)\n",
        "plt.show()"
      ],
      "execution_count": 104,
      "outputs": [
        {
          "output_type": "display_data",
          "data": {
            "image/png": "[encoded data removed]",
            "text/plain": [
              "<Figure size 576x504 with 2 Axes>"
            ]
          },
          "metadata": {
            "tags": []
          }
        }
      ]
    },
    {
      "cell_type": "code",
      "metadata": {
        "colab": {
          "base_uri": "https://localhost:8080/"
        },
        "id": "AiWMGV2FXqNa",
        "outputId": "b12e3864-60e5-44fd-97a0-a8bf9aea5528"
      },
      "source": [
        "## Accuracy Evalaution\n",
        "precise_accuracy1 =  np.sum(y_pred1 == y_test) / len(y_pred1) # exact_match\n",
        "adjacent_accuracy1 =  np.sum(np.abs(y_pred1 - y_test) <= 1) / len(y_pred1) \n",
        "\n",
        "print('LGBM precise  accuracy for 5 labels: {0:0.4f}'. format(precise_accuracy1))\n",
        "print('LGBM adjacent accuracy for 5 labels: {0:0.4f}'. format(adjacent_accuracy1))\n",
        "print('\\n')\n",
        "print(classification_report(y_test, y_pred1))"
      ],
      "execution_count": 105,
      "outputs": [
        {
          "output_type": "stream",
          "text": [
            "LGBM precise  accuracy for 5 labels: 0.9023\n",
            "LGBM adjacent accuracy for 5 labels: 0.9788\n",
            "\n",
            "\n",
            "              precision    recall  f1-score   support\n",
            "\n",
            "           0       0.93      0.95      0.94      1957\n",
            "           1       0.89      0.95      0.92      2918\n",
            "           2       0.90      0.86      0.88      1953\n",
            "           3       0.88      0.88      0.88      1960\n",
            "           4       0.93      0.80      0.86       981\n",
            "\n",
            "    accuracy                           0.90      9769\n",
            "   macro avg       0.91      0.89      0.90      9769\n",
            "weighted avg       0.90      0.90      0.90      9769\n",
            "\n"
          ],
          "name": "stdout"
        }
      ]
    },
    {
      "cell_type": "markdown",
      "metadata": {
        "id": "CElnWQ2-XtHk"
      },
      "source": [
        "## 요약: 소득 다중분류 예측모델의 결과 비교하기"
      ]
    },
    {
      "cell_type": "code",
      "metadata": {
        "colab": {
          "base_uri": "https://localhost:8080/"
        },
        "id": "9eKW8ZUnXrMp",
        "outputId": "23f50cdd-ce20-4896-f7b3-174aa28cc433"
      },
      "source": [
        "print ('Accuracy Comparisons for Multiclass Models\\n')\n",
        "print ('rfc_score  (11 labels)  :', '{0:0.5f}'.format(rfc_score)) \n",
        "print ('rfc_score  ( 5 labels)  :', '{0:0.5f}'.format(precise_accuracy))\n",
        "print ('lbgm_score (11 labels)  :', '{0:0.5f}'.format(lgbm_score)) \n",
        "print ('lgbm_score ( 5 labels)  :', '{0:0.5f}'.format(precise_accuracy1)) "
      ],
      "execution_count": 106,
      "outputs": [
        {
          "output_type": "stream",
          "text": [
            "Accuracy Comparisons for Multiclass Models\n",
            "\n",
            "rfc_score  (11 labels)  : 0.76927\n",
            "rfc_score  ( 5 labels)  : 0.86508\n",
            "lbgm_score (11 labels)  : 0.81185\n",
            "lgbm_score ( 5 labels)  : 0.90234\n"
          ],
          "name": "stdout"
        }
      ]
    },
    {
      "cell_type": "code",
      "metadata": {
        "colab": {
          "base_uri": "https://localhost:8080/"
        },
        "id": "IDFDG4VhXw8Z",
        "outputId": "509281a0-962c-471a-b134-25e7a7dc8d14"
      },
      "source": [
        "print('LGBM Confusion Matrix')\n",
        "print(cm1)\n",
        "print('\\n')\n",
        "print('Random Forest Confusion Matrix')\n",
        "print(cm2)"
      ],
      "execution_count": 107,
      "outputs": [
        {
          "output_type": "stream",
          "text": [
            "LGBM Confusion Matrix\n",
            "[[934  41   4   3   1   0   2   3   0   0   0]\n",
            " [ 40 869  46  13   1   0   0   0   0   0   0]\n",
            " [ 23  42 807  45   7   0   2   2   0   2   0]\n",
            " [ 13  20  75 838  62   6   2   2   1   0   0]\n",
            " [ 11  17  16  73 758  70  12   4   5   3   0]\n",
            " [  8  13  18  22  76 758  78  12  11   6   0]\n",
            " [ 10   7  11  12  11  92 702  78  13  15   0]\n",
            " [ 12   8  10   8  11  12  77 730  91  23   0]\n",
            " [  7  10  10   6   9   7  12 102 727  88   0]\n",
            " [  8   7  10  16  16   6   7  29  62 808   0]\n",
            " [  0   0   0   0   0   0   0   0   0  12   0]]\n",
            "\n",
            "\n",
            "Random Forest Confusion Matrix\n",
            "[[934  46   5   1   1   0   1   0   0   0   0]\n",
            " [ 55 823  70  10   4   5   2   0   0   0   0]\n",
            " [ 24  71 783  36   8   1   3   0   2   2   0]\n",
            " [ 18  19  93 779  83   9   6   3   6   3   0]\n",
            " [ 13  19  14  88 725  86  15   2   3   4   0]\n",
            " [ 14  12  16  20  92 724  96  15   7   6   0]\n",
            " [ 12  11   9  10  21  94 690  86  10   8   0]\n",
            " [ 13   6  10   7  13  23  96 688 108  18   0]\n",
            " [  7  10  10   8  10  17  25 124 640 127   0]\n",
            " [ 11   5  12   9  19  18  18  37 111 729   0]\n",
            " [  0   0   0   0   0   0   0   0   0  12   0]]\n"
          ],
          "name": "stdout"
        }
      ]
    },
    {
      "cell_type": "code",
      "metadata": {
        "colab": {
          "base_uri": "https://localhost:8080/"
        },
        "id": "L8HdP-A_XzqN",
        "outputId": "6451f63a-b602-4e96-d1dc-ce4f8898adf6"
      },
      "source": [
        "print ('Classification Comparions for Multiclass Models\\n')\n",
        "print ('rfc_score   :', '{0:0.4f}'.format(rfc_score))\n",
        "print (classification_report(y_test, y_pred))\n",
        "print ('lgbm_score  :', '{0:0.4f}'.format(lgbm_score))\n",
        "print (classification_report(y_test, y_pred1))"
      ],
      "execution_count": 108,
      "outputs": [
        {
          "output_type": "stream",
          "text": [
            "Classification Comparions for Multiclass Models\n",
            "\n",
            "rfc_score   : 0.7693\n",
            "              precision    recall  f1-score   support\n",
            "\n",
            "           0       0.91      0.93      0.92      1957\n",
            "           1       0.85      0.93      0.89      2918\n",
            "           2       0.87      0.82      0.84      1953\n",
            "           3       0.82      0.86      0.84      1960\n",
            "           4       0.94      0.64      0.76       981\n",
            "\n",
            "    accuracy                           0.87      9769\n",
            "   macro avg       0.88      0.84      0.85      9769\n",
            "weighted avg       0.87      0.87      0.86      9769\n",
            "\n",
            "lgbm_score  : 0.8119\n",
            "              precision    recall  f1-score   support\n",
            "\n",
            "           0       0.93      0.95      0.94      1957\n",
            "           1       0.89      0.95      0.92      2918\n",
            "           2       0.90      0.86      0.88      1953\n",
            "           3       0.88      0.88      0.88      1960\n",
            "           4       0.93      0.80      0.86       981\n",
            "\n",
            "    accuracy                           0.90      9769\n",
            "   macro avg       0.91      0.89      0.90      9769\n",
            "weighted avg       0.90      0.90      0.90      9769\n",
            "\n"
          ],
          "name": "stdout"
        }
      ]
    },
    {
      "cell_type": "markdown",
      "metadata": {
        "id": "rEXO4CbdYC19"
      },
      "source": [
        "##  요약\n",
        "\n",
        "- 1) 이진분류·다중분류 모델의 이해<p>: 분류 항목의 수에 따라 달라지는 모델링 방법(파라미터 처리)\n",
        "\n",
        "- 2) 선형 기반·트리 기반 분류모델의 이해<p>: Logistic Regression, Random Forest, Gradient Boosting, <strong>Light GBM</strong> 등\n",
        "\n",
        "\n",
        "- 3) 변수 처리 방법에 대한 이해<p>: 범주변수 처리, 스케일 조정, 3개 이상의 클래스 처리\n",
        "\n",
        "\n",
        "- 4) 분류모델 결과를 해석하는 방법 습득<p>: 단순정확도, <b>인접정확도</b>, Precision, Recall  등\n",
        "\n",
        "\n",
        "- 5) 평가결과를 바탕으로 모델을 개선하는 방법 습득<p>: F1 스코어, Confusion Matrix, Classification Report 등을 종합적으로 이용"
      ]
    },
    {
      "cell_type": "code",
      "metadata": {
        "id": "alNTRzdVX10j"
      },
      "source": [
        ""
      ],
      "execution_count": null,
      "outputs": []
    }
  ]
}