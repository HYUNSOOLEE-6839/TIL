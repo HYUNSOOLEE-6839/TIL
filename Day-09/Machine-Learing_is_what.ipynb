{
 "cells": [
  {
   "cell_type": "markdown",
   "metadata": {},
   "source": [
    "# Machine - Learning의 개념\n",
    "- 무엇(X)으로 무엇(Y)을 예측하고 싶다고 할 때...\n",
    "- 데이터는 행렬로 이루어져있어야함.\n",
    "    - 예측하고 싶은 대상을 Y로 놨을 때 그 예측하는 대상에 쓰이는 변수를 X라고 가정."
   ]
  },
  {
   "cell_type": "markdown",
   "metadata": {},
   "source": [
    "## y = f(X) 라고 할 때,\n",
    "    - y : 출력변수(종속변수, 반응변수)\n",
    "    - f : 모형(머신 러닝 알고리즘)\n",
    "    - (X) : 입력 변수(독립변수, feature)\n",
    "<br>\n",
    "- 주어진 데이터를 통해서 입력변수와 출력변수간의 관계를 만드는 함수 f를 만드는 것. 지도학습.\n",
    "<br>\n",
    "- 주어진 데이터 속에서 데이터의 특징을 찾아내는 함수 f를 만드는 것. 비지도학습."
   ]
  },
  {
   "cell_type": "markdown",
   "metadata": {},
   "source": [
    "# 머신러닝으로 뭘 할 수 있을까? - 지도학습\n",
    "- X : 고객들의 개인정보 및 금융 관련 정보\n",
    "> Y : 대출 연체 여부 -> 연체자 예측 탐지모델, 대출 연체 관련 feature 추출\n",
    "- X : 게임 유저들의 게임 내 활동 정보\n",
    "> Y : 게임 이탈 여부 / 어뷰징 여부 -> 이상 탐지 모델\n",
    "- X : 숫자 손 글씨 데이터\n",
    "> Y : 숫자 라벨(0~9) -> 숫자 이미지 분류 모델\n",
    "<br>\n",
    "### X 자체 내부의 패턴을 통해 특징을 찾는다면? - 비지도학습\n",
    "<br>\n",
    "- X : 상품 구매 고객 특성 정보\n",
    "> -> 군집화를 통해 고객 특성에 따른 segmentation\n",
    "- X : 고객들의 상품 구매 내역\n",
    "> -> 매장 내 상품 진열 위치 리뉴얼을 통한 매출 증대\n",
    "- X : 쇼핑몰 페이지 검색 및 클릭 로그 기록\n",
    "> -> 맞춤 상품 추천 시스템\n",
    "- X : SNS데이터 및 뉴스 데이터\n",
    "> -> 소셜 및 사회 이슈 파악"
   ]
  },
  {
   "cell_type": "markdown",
   "metadata": {},
   "source": [
    "# f란 무엇인가? (회귀 분석인 경우)\n",
    "- f를 구하기 위해서 입력 변수와 출력 변수가 필요함.\n",
    "- p개의 입력 변수 X1, X2, ... Xp가 있고, 출력 변수 Y가 있을 때,\n",
    "- X = (X1, X2, ... Xp)라 하면 입, 출력 변수와의 관계를 나타내는 식은 다음과 같음.\n",
    "#### Y = f(X) + 오차항(e, 엡실론)\n",
    "- 여기서 f는 정해졌지만 알 수 없는 함수를 뜻함.\n",
    "- 오차항은 실제 값 - 예측치로 계산."
   ]
  },
  {
   "cell_type": "markdown",
   "metadata": {},
   "source": [
    "# 지도학습\n",
    "#### Y = f(X)에 대하여 입력 변수(X)와 출력 변수(Y)의 관계에 대하여 모델링하는 것.\n",
    "- Y에 대하여 예측 또는 분류하는 문제.\n",
    "<br>\n",
    "- 회귀(regression): 입력 변수 X에 대해서 연속형 출력 변수 Y를 예측.\n",
    "- 분류(classification) : 입력 변수 X에 대해서 이산형 출력 변수 Y(class)를 예측."
   ]
  },
  {
   "cell_type": "markdown",
   "metadata": {},
   "source": [
    "# 비지도 학습\n",
    "- 출력 변수(Y)가 존재하지 않고, 입력 변수(X) 간의 관계에 대해 모델링 하는 것\n",
    "- 군집 분석 - 유사한 데이터끼리 그룹화\n",
    "- PCA - 독립변수들의 차원을 축소화"
   ]
  },
  {
   "cell_type": "markdown",
   "metadata": {},
   "source": [
    "# 강화학습\n",
    "- 수 많은 시뮬레이션을 통해 현재의 선택이 먼 미래에 보상이 최대가 되도록 학습\n",
    "- Agent가 action을 취하고 환경에서 보상을 받고 이 보상이 최대가 되도록 최적의 action을 취하는 방법을 배움."
   ]
  },
  {
   "cell_type": "code",
   "execution_count": null,
   "metadata": {},
   "outputs": [],
   "source": []
  }
 ],
 "metadata": {
  "kernelspec": {
   "display_name": "Python 3",
   "language": "python",
   "name": "python3"
  },
  "language_info": {
   "codemirror_mode": {
    "name": "ipython",
    "version": 3
   },
   "file_extension": ".py",
   "mimetype": "text/x-python",
   "name": "python",
   "nbconvert_exporter": "python",
   "pygments_lexer": "ipython3",
   "version": "3.8.5"
  }
 },
 "nbformat": 4,
 "nbformat_minor": 4
}
