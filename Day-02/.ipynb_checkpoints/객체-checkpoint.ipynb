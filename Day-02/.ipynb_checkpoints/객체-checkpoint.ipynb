{
 "cells": [
  {
   "cell_type": "markdown",
   "id": "cooperative-recorder",
   "metadata": {},
   "source": [
    "# 파이썬 객체지향 프로그래밍"
   ]
  },
  {
   "cell_type": "markdown",
   "id": "single-plasma",
   "metadata": {},
   "source": [
    "### 객체\n",
    "- 서로 연관된 데이터와 그 데이터를 조작하기 위한 함수를 하나의 집합에 모아놓은 것\n",
    "- 집합의 원소가 되는 변수나 함수는 멤버 또는 속성이라고 한다.\n",
    "- 객체의 속성인 함수는 메서드라고 부른다."
   ]
  },
  {
   "cell_type": "markdown",
   "id": "orange-administration",
   "metadata": {},
   "source": [
    "- 가로 = h, 세로 = v, 면적 = area 일 때,"
   ]
  },
  {
   "cell_type": "code",
   "execution_count": 1,
   "id": "proof-advance",
   "metadata": {},
   "outputs": [],
   "source": [
    "class Rectangle(object):\n",
    "    def __init__(self, h, v):\n",
    "        self.h = h\n",
    "        self.v = v\n",
    "        \n",
    "    def area(self):\n",
    "        return self.h * self.v"
   ]
  },
  {
   "cell_type": "code",
   "execution_count": 3,
   "id": "failing-battery",
   "metadata": {},
   "outputs": [
    {
     "name": "stdout",
     "output_type": "stream",
     "text": [
      "200\n"
     ]
    }
   ],
   "source": [
    "# 클래스 구현\n",
    "r = Rectangle(10, 20)\n",
    "a = r.area()\n",
    "print(a)"
   ]
  },
  {
   "cell_type": "markdown",
   "id": "desperate-collection",
   "metadata": {},
   "source": [
    "### 클래스\n",
    "- 객체를 만들려면 클래스라는 것을 만든 후에 그 클래스를 이용하여 객체를 만들어야함.\n",
    "- Rectangle은 클래스이고, r은 Rectangle 클래스로 만들어진 객체이다.\n",
    "- 가로 길이 h와 세로 길이 v라는 속성을 가지도록 사각형 클래스를 한 번 만들어 놓으면 이 속성을 가지는 실제 사각형은 얼마든지 만들 수 있다."
   ]
  },
  {
   "cell_type": "code",
   "execution_count": 4,
   "id": "sound-greenhouse",
   "metadata": {},
   "outputs": [],
   "source": [
    "a = Rectangle(1, 1)   # 가로 1, 세로 1인 사각형\n",
    "b = Rectangle(2, 1)   # 가로 2, 세로 1인 사각형\n",
    "c = Rectangle(4, 2)   # 가로 4, 세로 2인 사각형\n",
    "d = Rectangle(6, 3)   # 가로 6, 세로 3인 사각형\n",
    "e = Rectangle(8, 5)   # 가로 8, 세로 5인 사각형"
   ]
  },
  {
   "cell_type": "code",
   "execution_count": 5,
   "id": "suburban-message",
   "metadata": {},
   "outputs": [
    {
     "name": "stdout",
     "output_type": "stream",
     "text": [
      "1\n",
      "2\n",
      "8\n",
      "18\n",
      "40\n"
     ]
    }
   ],
   "source": [
    "print(a.area())\n",
    "print(b.area())\n",
    "print(c.area())\n",
    "print(d.area())\n",
    "print(e.area())"
   ]
  },
  {
   "cell_type": "markdown",
   "id": "exciting-monthly",
   "metadata": {},
   "source": [
    "### 생성자\n",
    "- 클래스를 정의하는 문법\n",
    "- class 클래스이름(object): def __init__(self, 속성값1): self. 속성이름1 = 속성값1"
   ]
  },
  {
   "cell_type": "markdown",
   "id": "necessary-sharing",
   "metadata": {},
   "source": [
    "### 게임 캐릭터와 객체"
   ]
  },
  {
   "cell_type": "code",
   "execution_count": 6,
   "id": "worth-learning",
   "metadata": {},
   "outputs": [],
   "source": [
    "class Character(object):\n",
    "\n",
    "    def __init__(self):\n",
    "        self.life = 1000\n",
    "\n",
    "    def attacked(self):\n",
    "        self.life -= 10\n",
    "        print(\"공격받음! 생명력 =\", self.life)"
   ]
  },
  {
   "cell_type": "code",
   "execution_count": 7,
   "id": "impressed-singing",
   "metadata": {},
   "outputs": [],
   "source": [
    "a = Character()\n",
    "b = Character()\n",
    "c = Character()"
   ]
  },
  {
   "cell_type": "code",
   "execution_count": 8,
   "id": "fantastic-enclosure",
   "metadata": {},
   "outputs": [
    {
     "data": {
      "text/plain": [
       "(1000, 1000, 1000)"
      ]
     },
     "execution_count": 8,
     "metadata": {},
     "output_type": "execute_result"
    }
   ],
   "source": [
    "a.life, b.life, c.life"
   ]
  },
  {
   "cell_type": "code",
   "execution_count": 13,
   "id": "fluid-awareness",
   "metadata": {},
   "outputs": [
    {
     "name": "stdout",
     "output_type": "stream",
     "text": [
      "공격받음! 생명력 = 890\n",
      "공격받음! 생명력 = 880\n",
      "공격받음! 생명력 = 870\n",
      "공격받음! 생명력 = 860\n",
      "공격받음! 생명력 = 850\n"
     ]
    }
   ],
   "source": [
    "a.attacked()\n",
    "a.attacked()\n",
    "a.attacked()\n",
    "a.attacked()\n",
    "a.attacked()"
   ]
  },
  {
   "cell_type": "code",
   "execution_count": 14,
   "id": "conservative-saying",
   "metadata": {},
   "outputs": [
    {
     "data": {
      "text/plain": [
       "(850, 1000, 1000)"
      ]
     },
     "execution_count": 14,
     "metadata": {},
     "output_type": "execute_result"
    }
   ],
   "source": [
    "a.life, b.life, c.life"
   ]
  },
  {
   "cell_type": "markdown",
   "id": "checked-testament",
   "metadata": {},
   "source": [
    "### 클래스 상속\n",
    "- 클래스 상속을 사용하면 이미 만들어진 클래스 코드를 통해 다른 클래스를 생성할 수 있다.\n",
    "- 즉, 상속 과정에서 공통으로 사용하는 속성이나 메서드는 반복해서 코딩할 필요가 없다\n",
    "- Character 부모 클래스에서 상속을 통해 Warrior, Wizard 라는 자식 클래스를 만든다."
   ]
  },
  {
   "cell_type": "code",
   "execution_count": 15,
   "id": "exciting-victory",
   "metadata": {},
   "outputs": [
    {
     "data": {
      "text/plain": [
       "'class 자식클래스이름(부모클래스이름):\\n\\n    def __init__(self, 속성값1, 속성값2):\\n        super(자식클래스이름, self).__init__()\\n        자식 클래스의 초기화 코드'"
      ]
     },
     "execution_count": 15,
     "metadata": {},
     "output_type": "execute_result"
    }
   ],
   "source": [
    "# 상속을 위한 파이썬 문법\n",
    "'''class 자식클래스이름(부모클래스이름):\n",
    "\n",
    "    def __init__(self, 속성값1, 속성값2):\n",
    "        super(자식클래스이름, self).__init__()\n",
    "        자식 클래스의 초기화 코드'''"
   ]
  },
  {
   "cell_type": "code",
   "execution_count": 16,
   "id": "specified-school",
   "metadata": {},
   "outputs": [],
   "source": [
    "class Warrior(Character):\n",
    "\n",
    "    def __init__(self):\n",
    "        super(Warrior, self).__init__()\n",
    "        self.strength = 15\n",
    "        self.intelligence = 5"
   ]
  },
  {
   "cell_type": "code",
   "execution_count": 17,
   "id": "capable-demographic",
   "metadata": {},
   "outputs": [],
   "source": [
    "class Wizard(Character):\n",
    "\n",
    "    def __init__(self):\n",
    "        super(Wizard, self).__init__()\n",
    "        self.strength = 5\n",
    "        self.intelligence = 15"
   ]
  },
  {
   "cell_type": "code",
   "execution_count": 18,
   "id": "activated-berkeley",
   "metadata": {},
   "outputs": [
    {
     "data": {
      "text/plain": [
       "(1000, 1000)"
      ]
     },
     "execution_count": 18,
     "metadata": {},
     "output_type": "execute_result"
    }
   ],
   "source": [
    "a = Warrior()\n",
    "b = Wizard()\n",
    "a.life, b.life"
   ]
  },
  {
   "cell_type": "code",
   "execution_count": 19,
   "id": "australian-leisure",
   "metadata": {},
   "outputs": [
    {
     "data": {
      "text/plain": [
       "(15, 5)"
      ]
     },
     "execution_count": 19,
     "metadata": {},
     "output_type": "execute_result"
    }
   ],
   "source": [
    "a.strength, b.strength"
   ]
  },
  {
   "cell_type": "code",
   "execution_count": 20,
   "id": "optimum-faculty",
   "metadata": {},
   "outputs": [
    {
     "data": {
      "text/plain": [
       "(5, 15)"
      ]
     },
     "execution_count": 20,
     "metadata": {},
     "output_type": "execute_result"
    }
   ],
   "source": [
    "a.intelligence, b.intelligence"
   ]
  },
  {
   "cell_type": "code",
   "execution_count": 21,
   "id": "historical-burst",
   "metadata": {},
   "outputs": [
    {
     "name": "stdout",
     "output_type": "stream",
     "text": [
      "공격받음! 생명력 = 990\n",
      "공격받음! 생명력 = 990\n"
     ]
    },
    {
     "data": {
      "text/plain": [
       "(None, None)"
      ]
     },
     "execution_count": 21,
     "metadata": {},
     "output_type": "execute_result"
    }
   ],
   "source": [
    "a.attacked(), b.attacked()"
   ]
  },
  {
   "cell_type": "markdown",
   "id": "underlying-title",
   "metadata": {},
   "source": [
    "### 메서드 오버라이딩\n",
    "- 여러 클래스에 걸쳐서 같은 이름의 메서드를 만드는 것."
   ]
  },
  {
   "cell_type": "code",
   "execution_count": 22,
   "id": "blocked-hybrid",
   "metadata": {},
   "outputs": [],
   "source": [
    "class Character(object):\n",
    "\n",
    "    def __init__(self):\n",
    "        self.life = 1000\n",
    "        self.strength = 10\n",
    "        self.intelligence = 10\n",
    "\n",
    "    def attacked(self):\n",
    "        self.life -= 10\n",
    "        print(\"공격받음! 생명력 =\", self.life)\n",
    "\n",
    "    def attack(self):\n",
    "        print(\"공격!\")"
   ]
  },
  {
   "cell_type": "code",
   "execution_count": 23,
   "id": "above-replication",
   "metadata": {},
   "outputs": [],
   "source": [
    "class Warrior(Character):\n",
    "\n",
    "    def __init__(self):\n",
    "        super(Warrior, self).__init__()\n",
    "        self.strength = 15\n",
    "        self.intelligence = 5\n",
    "\n",
    "    def attack(self):\n",
    "        print(\"육탄 공격!\")"
   ]
  },
  {
   "cell_type": "code",
   "execution_count": 24,
   "id": "other-quebec",
   "metadata": {},
   "outputs": [],
   "source": [
    "class Wizard(Character):\n",
    "\n",
    "    def __init__(self):\n",
    "        super(Wizard, self).__init__()\n",
    "        self.strength = 5\n",
    "        self.intelligence = 15\n",
    "\n",
    "    def attack(self):\n",
    "        print(\"마법 공격!\")"
   ]
  },
  {
   "cell_type": "code",
   "execution_count": 26,
   "id": "graduate-complement",
   "metadata": {},
   "outputs": [
    {
     "name": "stdout",
     "output_type": "stream",
     "text": [
      "공격!\n",
      "육탄 공격!\n",
      "마법 공격!\n"
     ]
    },
    {
     "data": {
      "text/plain": [
       "(None, None, None)"
      ]
     },
     "execution_count": 26,
     "metadata": {},
     "output_type": "execute_result"
    }
   ],
   "source": [
    "a = Character()\n",
    "b = Warrior()\n",
    "c = Wizard()\n",
    "a.attack(), b.attack(), c.attack()"
   ]
  },
  {
   "cell_type": "code",
   "execution_count": null,
   "id": "weird-caution",
   "metadata": {},
   "outputs": [],
   "source": []
  }
 ],
 "metadata": {
  "kernelspec": {
   "display_name": "Python 3",
   "language": "python",
   "name": "python3"
  },
  "language_info": {
   "codemirror_mode": {
    "name": "ipython",
    "version": 3
   },
   "file_extension": ".py",
   "mimetype": "text/x-python",
   "name": "python",
   "nbconvert_exporter": "python",
   "pygments_lexer": "ipython3",
   "version": "3.8.5"
  }
 },
 "nbformat": 4,
 "nbformat_minor": 5
}
