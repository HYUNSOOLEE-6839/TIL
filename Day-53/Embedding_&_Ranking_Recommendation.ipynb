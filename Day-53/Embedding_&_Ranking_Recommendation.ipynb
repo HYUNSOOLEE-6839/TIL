{
  "nbformat": 4,
  "nbformat_minor": 0,
  "metadata": {
    "colab": {
      "name": "Embedding_&_Ranking_Recommendation.ipynb",
      "provenance": [],
      "collapsed_sections": []
    },
    "kernelspec": {
      "name": "python3",
      "display_name": "Python 3"
    },
    "language_info": {
      "name": "python"
    }
  },
  "cells": [
    {
      "cell_type": "markdown",
      "metadata": {
        "id": "z2la8CXJqq_s"
      },
      "source": [
        "# 추천 시스템 - 영화 데이터셋과 Embedding & Ranking 알고리즘으로 추천시스템 만들기"
      ]
    },
    {
      "cell_type": "markdown",
      "metadata": {
        "id": "RJAYfMrVrBjL"
      },
      "source": [
        "## Step 1. Word2Vec 알고리즘 기반 추천 후보군 생성"
      ]
    },
    {
      "cell_type": "markdown",
      "metadata": {
        "id": "eq0VEPA1rCOu"
      },
      "source": [
        "#### Rating Matrix 기반 추천시스템의 한계\n",
        "\n",
        "    [Memory Based Recommendations]\n",
        "    1. 만약 유저, 영화의 수가 3000이 아니라 3천만 개 라면?\n",
        "    2. Matrix의 크기는 30,000,000 X 30,000,000\n",
        "    3. 연산량 자체도 문제가 되지만, Extreme Sparse 벡터가 되면서 정확도 역시 현저하게 떨어지게 됨\n",
        "    4. 차원축소, ALS 등의 방법으로 어느정도 극복할 수 있지만, 근본적인 해결책이 되지는 못함\n",
        "\n",
        "    - Recommendation in Large Scale System\n",
        "  - Architecture\n",
        "  ![recsys_architecture](https://img1.daumcdn.net/thumb/R1280x0/?scode=mtistory2&fname=https%3A%2F%2Fblog.kakaocdn.net%2Fdn%2F30pCp%2Fbtqv7PV6365%2FCkl5dwvSoQF3RdneCIzGr1%2Fimg.png)\n",
        "  - 데이터 수집과 처리 단계를 제외하면, 추천시스템은 다음과 같은 레이어로 구분되는 추세\n",
        "    - `Generate Candidates` : 수백, 수천만개의 Item 중, 후보가 될 만한 Item을 추출. 여기에 CF 등의 방법을 사용할 수도 있지만, 일반적으로는 연산량이 작은 여러 개의 전략(시나리오)들을 합쳐서 coverage 자체를 확보하는 역할을 함. 예를 들면 인기도가 높은 Item, 연관성이 높은 Item 등을 별개의 전략으로 추출하는 것.\n",
        "    - `Intention Predict` : User의 Context에 기반하여 Candidates를 한 번 더 좁혀주는 역할. 반드시 필요한 단계는 아니며, Candidates를 추렸음에도 여전히 Large Scale 문제를 가지고 있는 경우에 필터링의 역할로 사용할 수 있음.\n",
        "    - `Personalized Ranking` : 일반적으로 추천시스템에서 추천이 잘 되었는지를 평가하는 지표는 CTR, CVR 같은 지표. 이 지표들을 Maximize 할 수 있는 방법으로 개인화 모델을 학습. 일반적인 Classifier를 생각해도 무방하며, 학습 데이터셋을 잘 구축하는 것이 좋은 추천 랭킹모델을 만드는 것.\n",
        "\n",
        "![recsys_architecture2](https://img1.daumcdn.net/thumb/R1280x0/?scode=mtistory2&fname=https%3A%2F%2Fblog.kakaocdn.net%2Fdn%2FUsbKo%2Fbtqv7PBN46z%2Fd4m5pf7lrKs1CqxzkROY81%2Fimg.png)\n",
        "\n",
        "\n",
        "-----"
      ]
    },
    {
      "cell_type": "markdown",
      "metadata": {
        "id": "eXcR5DD6rCJZ"
      },
      "source": [
        "#### Word2Vec 기반의 Movie2Vec 만들기\n",
        "\n",
        "    [Word2Vec]\n",
        "    1. 임베딩(Embedding) 방법론 중 가장 대중적이고 성능이 좋은 방법\n",
        "    2. 같은 문장 내, 혹은 비슷한 위치에 등장하는 단어들은 유사한 의미를 가지고 있을 것이라는 가정.\n",
        "    3. 원래는 단어를 벡터로 표현하는 방법으로 고안되었지만, word2vec의 메커니즘을 다양하게 활용할 수 있음\n",
        "    4. Word2Vec은 중심 단어와 주변 단어와의 연관성을 학습하여 벡터로 표현함.\n",
        "      - 예시 문장 : \"역시 성공은 고난을 동반 말없이 등산을 등반하는 것처럼\"\n",
        "      - 만약 \"성공\"이라는 단어를 중심 단어로 활용한다면, [역시, _, 고난을, 동반] 이러한 주변 단어를 가지고 중심에 있는 단어의 벡터를 학습할 수 있게 됨. (Skip-gram 방식. CBOW는 반대)"
      ]
    },
    {
      "cell_type": "markdown",
      "metadata": {
        "id": "huzbkuxIrCCM"
      },
      "source": [
        "### 데이터 불러오기"
      ]
    },
    {
      "cell_type": "code",
      "metadata": {
        "id": "9_dEU8rJqRwn"
      },
      "source": [
        "import pandas as pd\n",
        "\n",
        "rating_url = 'https://raw.githubusercontent.com/yoonkt200/python-data-analysis/master/data/ml-1m/ratings.dat'\n",
        "rating_df = pd.io.parsers.read_csv(rating_url, names=['user_id', 'movie_id', 'rating', 'time'], delimiter='::', engine ='python')\n",
        "\n",
        "movie_url = 'https://raw.githubusercontent.com/yoonkt200/python-data-analysis/master/data/ml-1m/movies.dat'\n",
        "movie_df = pd.io.parsers.read_csv(movie_url, names=['movie_id', 'title', 'genre'], delimiter='::', engine ='python', encoding='ISO-8859-1')\n",
        "\n",
        "user_url = 'https://raw.githubusercontent.com/yoonkt200/python-data-analysis/master/data/ml-1m/users.dat'\n",
        "user_df = pd.io.parsers.read_csv(user_url, names=['user_id', 'gender', 'age', 'occupation', 'zipcode'], delimiter='::', engine ='python')"
      ],
      "execution_count": 1,
      "outputs": []
    },
    {
      "cell_type": "code",
      "metadata": {
        "id": "LxOPwsaUrVnz"
      },
      "source": [
        "# EDA & 전처리 - 사용자별 시청 목록 추출\n",
        "def get_movie_list_sort_by_time(x):\n",
        "  return x.sort_values(['time'])['movie_id'].tolist()\n",
        "\n",
        "user_watch_list = rating_df.groupby('user_id')[['movie_id', 'time']].apply(lambda x: get_movie_list_sort_by_time(x))"
      ],
      "execution_count": 2,
      "outputs": []
    },
    {
      "cell_type": "code",
      "metadata": {
        "colab": {
          "base_uri": "https://localhost:8080/"
        },
        "id": "MBzl0WoKr1fb",
        "outputId": "4e86f8c8-63c6-46e5-e7c5-b6b6056f2f32"
      },
      "source": [
        "user_watch_list[:3]"
      ],
      "execution_count": 3,
      "outputs": [
        {
          "output_type": "execute_result",
          "data": {
            "text/plain": [
              "user_id\n",
              "1    [3186, 1721, 1022, 1270, 2340, 1836, 3408, 120...\n",
              "2    [1198, 1217, 1210, 2717, 1293, 2943, 1225, 119...\n",
              "3    [593, 2858, 3534, 1968, 1961, 1431, 1266, 1378...\n",
              "dtype: object"
            ]
          },
          "metadata": {
            "tags": []
          },
          "execution_count": 3
        }
      ]
    },
    {
      "cell_type": "code",
      "metadata": {
        "colab": {
          "base_uri": "https://localhost:8080/",
          "height": 282
        },
        "id": "t4U7uh99s_aU",
        "outputId": "67399a60-eb27-4938-8dc2-3b134e769d45"
      },
      "source": [
        "rating_df['movie_id'].value_counts().hist(bins=100)"
      ],
      "execution_count": 4,
      "outputs": [
        {
          "output_type": "execute_result",
          "data": {
            "text/plain": [
              "<matplotlib.axes._subplots.AxesSubplot at 0x7fa93a0f7e10>"
            ]
          },
          "metadata": {
            "tags": []
          },
          "execution_count": 4
        },
        {
          "output_type": "display_data",
          "data": {
            "image/png": "[encoded data removed]",
            "text/plain": [
              "<Figure size 432x288 with 1 Axes>"
            ]
          },
          "metadata": {
            "tags": [],
            "needs_background": "light"
          }
        }
      ]
    },
    {
      "cell_type": "code",
      "metadata": {
        "colab": {
          "base_uri": "https://localhost:8080/",
          "height": 204
        },
        "id": "v10Xbay2tA7i",
        "outputId": "08ee2544-c3c9-41b5-e9ff-a4e737f6e503"
      },
      "source": [
        "movie_df.head()"
      ],
      "execution_count": 5,
      "outputs": [
        {
          "output_type": "execute_result",
          "data": {
            "text/html": [
              "<div>\n",
              "<style scoped>\n",
              "    .dataframe tbody tr th:only-of-type {\n",
              "        vertical-align: middle;\n",
              "    }\n",
              "\n",
              "    .dataframe tbody tr th {\n",
              "        vertical-align: top;\n",
              "    }\n",
              "\n",
              "    .dataframe thead th {\n",
              "        text-align: right;\n",
              "    }\n",
              "</style>\n",
              "<table border=\"1\" class=\"dataframe\">\n",
              "  <thead>\n",
              "    <tr style=\"text-align: right;\">\n",
              "      <th></th>\n",
              "      <th>movie_id</th>\n",
              "      <th>title</th>\n",
              "      <th>genre</th>\n",
              "    </tr>\n",
              "  </thead>\n",
              "  <tbody>\n",
              "    <tr>\n",
              "      <th>0</th>\n",
              "      <td>1</td>\n",
              "      <td>Toy Story (1995)</td>\n",
              "      <td>Animation|Children's|Comedy</td>\n",
              "    </tr>\n",
              "    <tr>\n",
              "      <th>1</th>\n",
              "      <td>2</td>\n",
              "      <td>Jumanji (1995)</td>\n",
              "      <td>Adventure|Children's|Fantasy</td>\n",
              "    </tr>\n",
              "    <tr>\n",
              "      <th>2</th>\n",
              "      <td>3</td>\n",
              "      <td>Grumpier Old Men (1995)</td>\n",
              "      <td>Comedy|Romance</td>\n",
              "    </tr>\n",
              "    <tr>\n",
              "      <th>3</th>\n",
              "      <td>4</td>\n",
              "      <td>Waiting to Exhale (1995)</td>\n",
              "      <td>Comedy|Drama</td>\n",
              "    </tr>\n",
              "    <tr>\n",
              "      <th>4</th>\n",
              "      <td>5</td>\n",
              "      <td>Father of the Bride Part II (1995)</td>\n",
              "      <td>Comedy</td>\n",
              "    </tr>\n",
              "  </tbody>\n",
              "</table>\n",
              "</div>"
            ],
            "text/plain": [
              "   movie_id                               title                         genre\n",
              "0         1                    Toy Story (1995)   Animation|Children's|Comedy\n",
              "1         2                      Jumanji (1995)  Adventure|Children's|Fantasy\n",
              "2         3             Grumpier Old Men (1995)                Comedy|Romance\n",
              "3         4            Waiting to Exhale (1995)                  Comedy|Drama\n",
              "4         5  Father of the Bride Part II (1995)                        Comedy"
            ]
          },
          "metadata": {
            "tags": []
          },
          "execution_count": 5
        }
      ]
    },
    {
      "cell_type": "code",
      "metadata": {
        "colab": {
          "base_uri": "https://localhost:8080/",
          "height": 204
        },
        "id": "SPeWcdJHtLoo",
        "outputId": "bf6c53e7-89e2-4ec2-82cc-adb697bcf53d"
      },
      "source": [
        "# 영화 개봉년도 피쳐 생성\n",
        "movie_df['released_year_area'] = movie_df['title'].apply(lambda x: x[-5:-2]+\"0\")\n",
        "movie_df.head()"
      ],
      "execution_count": 6,
      "outputs": [
        {
          "output_type": "execute_result",
          "data": {
            "text/html": [
              "<div>\n",
              "<style scoped>\n",
              "    .dataframe tbody tr th:only-of-type {\n",
              "        vertical-align: middle;\n",
              "    }\n",
              "\n",
              "    .dataframe tbody tr th {\n",
              "        vertical-align: top;\n",
              "    }\n",
              "\n",
              "    .dataframe thead th {\n",
              "        text-align: right;\n",
              "    }\n",
              "</style>\n",
              "<table border=\"1\" class=\"dataframe\">\n",
              "  <thead>\n",
              "    <tr style=\"text-align: right;\">\n",
              "      <th></th>\n",
              "      <th>movie_id</th>\n",
              "      <th>title</th>\n",
              "      <th>genre</th>\n",
              "      <th>released_year_area</th>\n",
              "    </tr>\n",
              "  </thead>\n",
              "  <tbody>\n",
              "    <tr>\n",
              "      <th>0</th>\n",
              "      <td>1</td>\n",
              "      <td>Toy Story (1995)</td>\n",
              "      <td>Animation|Children's|Comedy</td>\n",
              "      <td>1990</td>\n",
              "    </tr>\n",
              "    <tr>\n",
              "      <th>1</th>\n",
              "      <td>2</td>\n",
              "      <td>Jumanji (1995)</td>\n",
              "      <td>Adventure|Children's|Fantasy</td>\n",
              "      <td>1990</td>\n",
              "    </tr>\n",
              "    <tr>\n",
              "      <th>2</th>\n",
              "      <td>3</td>\n",
              "      <td>Grumpier Old Men (1995)</td>\n",
              "      <td>Comedy|Romance</td>\n",
              "      <td>1990</td>\n",
              "    </tr>\n",
              "    <tr>\n",
              "      <th>3</th>\n",
              "      <td>4</td>\n",
              "      <td>Waiting to Exhale (1995)</td>\n",
              "      <td>Comedy|Drama</td>\n",
              "      <td>1990</td>\n",
              "    </tr>\n",
              "    <tr>\n",
              "      <th>4</th>\n",
              "      <td>5</td>\n",
              "      <td>Father of the Bride Part II (1995)</td>\n",
              "      <td>Comedy</td>\n",
              "      <td>1990</td>\n",
              "    </tr>\n",
              "  </tbody>\n",
              "</table>\n",
              "</div>"
            ],
            "text/plain": [
              "   movie_id  ... released_year_area\n",
              "0         1  ...               1990\n",
              "1         2  ...               1990\n",
              "2         3  ...               1990\n",
              "3         4  ...               1990\n",
              "4         5  ...               1990\n",
              "\n",
              "[5 rows x 4 columns]"
            ]
          },
          "metadata": {
            "tags": []
          },
          "execution_count": 6
        }
      ]
    },
    {
      "cell_type": "code",
      "metadata": {
        "colab": {
          "base_uri": "https://localhost:8080/",
          "height": 319
        },
        "id": "OoQ_F-cJtOys",
        "outputId": "0043fd2e-f8db-4d62-9d4d-8864264df537"
      },
      "source": [
        "import seaborn as sns\n",
        "\n",
        "released_year_area = movie_df['released_year_area'].value_counts().sort_index()\n",
        "sns.barplot(released_year_area.index, released_year_area.values);"
      ],
      "execution_count": 7,
      "outputs": [
        {
          "output_type": "stream",
          "text": [
            "/usr/local/lib/python3.7/dist-packages/seaborn/_decorators.py:43: FutureWarning: Pass the following variables as keyword args: x, y. From version 0.12, the only valid positional argument will be `data`, and passing other arguments without an explicit keyword will result in an error or misinterpretation.\n",
            "  FutureWarning\n"
          ],
          "name": "stderr"
        },
        {
          "output_type": "display_data",
          "data": {
            "image/png": "[encoded data removed]",
            "text/plain": [
              "<Figure size 432x288 with 1 Axes>"
            ]
          },
          "metadata": {
            "tags": [],
            "needs_background": "light"
          }
        }
      ]
    },
    {
      "cell_type": "code",
      "metadata": {
        "colab": {
          "base_uri": "https://localhost:8080/"
        },
        "id": "begFZIv7tVaP",
        "outputId": "6f0a0f11-0aeb-4e32-e73a-da62820d3a08"
      },
      "source": [
        "# 영화 장르 피쳐 생성\n",
        "movie_df['genre'].value_counts()"
      ],
      "execution_count": 8,
      "outputs": [
        {
          "output_type": "execute_result",
          "data": {
            "text/plain": [
              "Drama                            843\n",
              "Comedy                           521\n",
              "Horror                           178\n",
              "Comedy|Drama                     162\n",
              "Comedy|Romance                   142\n",
              "                                ... \n",
              "Children's|Sci-Fi                  1\n",
              "Crime|Horror|Thriller              1\n",
              "Adventure|Animation|Film-Noir      1\n",
              "Adventure|Fantasy                  1\n",
              "Adventure|Comedy|Romance           1\n",
              "Name: genre, Length: 301, dtype: int64"
            ]
          },
          "metadata": {
            "tags": []
          },
          "execution_count": 8
        }
      ]
    },
    {
      "cell_type": "code",
      "metadata": {
        "colab": {
          "base_uri": "https://localhost:8080/",
          "height": 282
        },
        "id": "l2iEp7WbwKQh",
        "outputId": "c02cca9b-2842-4161-eb64-6d1ab5610ce3"
      },
      "source": [
        "movie_df['genre'].value_counts().hist(bins=100)"
      ],
      "execution_count": 9,
      "outputs": [
        {
          "output_type": "execute_result",
          "data": {
            "text/plain": [
              "<matplotlib.axes._subplots.AxesSubplot at 0x7fa92783cb90>"
            ]
          },
          "metadata": {
            "tags": []
          },
          "execution_count": 9
        },
        {
          "output_type": "display_data",
          "data": {
            "image/png": "[encoded data removed]",
            "text/plain": [
              "<Figure size 432x288 with 1 Axes>"
            ]
          },
          "metadata": {
            "tags": [],
            "needs_background": "light"
          }
        }
      ]
    },
    {
      "cell_type": "code",
      "metadata": {
        "id": "KhSuC22LwNCQ"
      },
      "source": [
        "movie_df['main_genre'] = movie_df['genre'].apply(lambda x: x.split(\"|\")[0])"
      ],
      "execution_count": 10,
      "outputs": []
    },
    {
      "cell_type": "code",
      "metadata": {
        "colab": {
          "base_uri": "https://localhost:8080/"
        },
        "id": "UZWvX4e1wP4z",
        "outputId": "54c13733-f15b-427a-b009-87819744204a"
      },
      "source": [
        "movie_df['main_genre'].value_counts()"
      ],
      "execution_count": 11,
      "outputs": [
        {
          "output_type": "execute_result",
          "data": {
            "text/plain": [
              "Drama          1176\n",
              "Comedy         1024\n",
              "Action          503\n",
              "Horror          262\n",
              "Adventure       155\n",
              "Crime           131\n",
              "Documentary     123\n",
              "Thriller        101\n",
              "Animation        90\n",
              "Children's       89\n",
              "Romance          50\n",
              "Sci-Fi           46\n",
              "Mystery          36\n",
              "Western          33\n",
              "Film-Noir        25\n",
              "Musical          25\n",
              "War              12\n",
              "Fantasy           2\n",
              "Name: main_genre, dtype: int64"
            ]
          },
          "metadata": {
            "tags": []
          },
          "execution_count": 11
        }
      ]
    },
    {
      "cell_type": "code",
      "metadata": {
        "colab": {
          "base_uri": "https://localhost:8080/",
          "height": 204
        },
        "id": "7dKbmI4CwzXJ",
        "outputId": "6a39c79e-9fb9-4a2a-82bd-69bfc42c6247"
      },
      "source": [
        "# Embedding - EDA 결과를 활용하여 Movie2Vec 학습\n",
        "movie_df.head()"
      ],
      "execution_count": 12,
      "outputs": [
        {
          "output_type": "execute_result",
          "data": {
            "text/html": [
              "<div>\n",
              "<style scoped>\n",
              "    .dataframe tbody tr th:only-of-type {\n",
              "        vertical-align: middle;\n",
              "    }\n",
              "\n",
              "    .dataframe tbody tr th {\n",
              "        vertical-align: top;\n",
              "    }\n",
              "\n",
              "    .dataframe thead th {\n",
              "        text-align: right;\n",
              "    }\n",
              "</style>\n",
              "<table border=\"1\" class=\"dataframe\">\n",
              "  <thead>\n",
              "    <tr style=\"text-align: right;\">\n",
              "      <th></th>\n",
              "      <th>movie_id</th>\n",
              "      <th>title</th>\n",
              "      <th>genre</th>\n",
              "      <th>released_year_area</th>\n",
              "      <th>main_genre</th>\n",
              "    </tr>\n",
              "  </thead>\n",
              "  <tbody>\n",
              "    <tr>\n",
              "      <th>0</th>\n",
              "      <td>1</td>\n",
              "      <td>Toy Story (1995)</td>\n",
              "      <td>Animation|Children's|Comedy</td>\n",
              "      <td>1990</td>\n",
              "      <td>Animation</td>\n",
              "    </tr>\n",
              "    <tr>\n",
              "      <th>1</th>\n",
              "      <td>2</td>\n",
              "      <td>Jumanji (1995)</td>\n",
              "      <td>Adventure|Children's|Fantasy</td>\n",
              "      <td>1990</td>\n",
              "      <td>Adventure</td>\n",
              "    </tr>\n",
              "    <tr>\n",
              "      <th>2</th>\n",
              "      <td>3</td>\n",
              "      <td>Grumpier Old Men (1995)</td>\n",
              "      <td>Comedy|Romance</td>\n",
              "      <td>1990</td>\n",
              "      <td>Comedy</td>\n",
              "    </tr>\n",
              "    <tr>\n",
              "      <th>3</th>\n",
              "      <td>4</td>\n",
              "      <td>Waiting to Exhale (1995)</td>\n",
              "      <td>Comedy|Drama</td>\n",
              "      <td>1990</td>\n",
              "      <td>Comedy</td>\n",
              "    </tr>\n",
              "    <tr>\n",
              "      <th>4</th>\n",
              "      <td>5</td>\n",
              "      <td>Father of the Bride Part II (1995)</td>\n",
              "      <td>Comedy</td>\n",
              "      <td>1990</td>\n",
              "      <td>Comedy</td>\n",
              "    </tr>\n",
              "  </tbody>\n",
              "</table>\n",
              "</div>"
            ],
            "text/plain": [
              "   movie_id                               title  ... released_year_area main_genre\n",
              "0         1                    Toy Story (1995)  ...               1990  Animation\n",
              "1         2                      Jumanji (1995)  ...               1990  Adventure\n",
              "2         3             Grumpier Old Men (1995)  ...               1990     Comedy\n",
              "3         4            Waiting to Exhale (1995)  ...               1990     Comedy\n",
              "4         5  Father of the Bride Part II (1995)  ...               1990     Comedy\n",
              "\n",
              "[5 rows x 5 columns]"
            ]
          },
          "metadata": {
            "tags": []
          },
          "execution_count": 12
        }
      ]
    },
    {
      "cell_type": "code",
      "metadata": {
        "id": "mQS2I1wSxRA4"
      },
      "source": [
        "movie_meta_dict = movie_df.set_index('movie_id')[['released_year_area', 'main_genre']].to_dict()"
      ],
      "execution_count": 13,
      "outputs": []
    },
    {
      "cell_type": "code",
      "metadata": {
        "id": "7IWGiHtuxSeC"
      },
      "source": [
        "movie2vec_dataset = []\n",
        "for movie_list in user_watch_list:\n",
        "  meta_list = []\n",
        "  for movie_id in movie_list:\n",
        "    word_meta_1 = \"movie_id:\" + str(movie_id)\n",
        "    word_meta_2 = \"year:\" + movie_meta_dict['released_year_area'][movie_id]\n",
        "    word_meta_3 = \"genre:\" + movie_meta_dict['main_genre'][movie_id]\n",
        "    meta_list.append(word_meta_1)\n",
        "    meta_list.append(word_meta_2)\n",
        "    meta_list.append(word_meta_3)\n",
        "  movie2vec_dataset.append(meta_list)"
      ],
      "execution_count": 14,
      "outputs": []
    },
    {
      "cell_type": "code",
      "metadata": {
        "colab": {
          "base_uri": "https://localhost:8080/"
        },
        "id": "BH1YQF_GxUdv",
        "outputId": "a1d168da-a6cd-4c0d-cfbf-27c4b884b729"
      },
      "source": [
        "!pip install gensim"
      ],
      "execution_count": 15,
      "outputs": [
        {
          "output_type": "stream",
          "text": [
            "Requirement already satisfied: gensim in /usr/local/lib/python3.7/dist-packages (3.6.0)\n",
            "Requirement already satisfied: smart-open>=1.2.1 in /usr/local/lib/python3.7/dist-packages (from gensim) (5.0.0)\n",
            "Requirement already satisfied: six>=1.5.0 in /usr/local/lib/python3.7/dist-packages (from gensim) (1.15.0)\n",
            "Requirement already satisfied: scipy>=0.18.1 in /usr/local/lib/python3.7/dist-packages (from gensim) (1.4.1)\n",
            "Requirement already satisfied: numpy>=1.11.3 in /usr/local/lib/python3.7/dist-packages (from gensim) (1.19.5)\n"
          ],
          "name": "stdout"
        }
      ]
    },
    {
      "cell_type": "code",
      "metadata": {
        "id": "yc4I0vrvxVZG"
      },
      "source": [
        "from gensim.models import Word2Vec\n",
        "\n",
        "model = Word2Vec(movie2vec_dataset,\n",
        "                 size=100,\n",
        "                 window=6,  # 주변 word의 윈도우\n",
        "                 sg=1,  # skip-gram OR cbow\n",
        "                 hs=0,  # hierarchical softmax OR negative sampling\n",
        "                 negative=20,  # negative sampling 파라미터\n",
        "                 min_count=1,  # word의 등장 최소 횟수\n",
        "                 iter=20)"
      ],
      "execution_count": 16,
      "outputs": []
    },
    {
      "cell_type": "code",
      "metadata": {
        "colab": {
          "base_uri": "https://localhost:8080/"
        },
        "id": "lbAELit9xYcN",
        "outputId": "8ae91c95-4e4b-4cb8-ce32-916fa89742a5"
      },
      "source": [
        "# Embedding - 일부 데이터로 Movie2Vec 학습 결과 확인\n",
        "model.wv.vectors.shape"
      ],
      "execution_count": 17,
      "outputs": [
        {
          "output_type": "execute_result",
          "data": {
            "text/plain": [
              "(3734, 100)"
            ]
          },
          "metadata": {
            "tags": []
          },
          "execution_count": 17
        }
      ]
    },
    {
      "cell_type": "code",
      "metadata": {
        "colab": {
          "base_uri": "https://localhost:8080/"
        },
        "id": "LCh-R-gb1JzQ",
        "outputId": "9353d3ba-1f4b-4cca-e77a-4fe95cb8a369"
      },
      "source": [
        "model.wv.most_similar(\"movie_id:1\", topn=5)"
      ],
      "execution_count": 18,
      "outputs": [
        {
          "output_type": "execute_result",
          "data": {
            "text/plain": [
              "[('movie_id:1223', 0.840821385383606),\n",
              " ('movie_id:3429', 0.7486809492111206),\n",
              " ('movie_id:2324', 0.7059773206710815),\n",
              " ('movie_id:1537', 0.6819300055503845),\n",
              " ('movie_id:3114', 0.6790466904640198)]"
            ]
          },
          "metadata": {
            "tags": []
          },
          "execution_count": 18
        }
      ]
    },
    {
      "cell_type": "code",
      "metadata": {
        "colab": {
          "base_uri": "https://localhost:8080/",
          "height": 204
        },
        "id": "Z1O90ipu1Ww5",
        "outputId": "7adcb320-d54e-4d84-c70d-f699d08eeb3a"
      },
      "source": [
        "movie_df[movie_df['movie_id'].isin([1223, 3429, 2324, 1537, 3114])]"
      ],
      "execution_count": 19,
      "outputs": [
        {
          "output_type": "execute_result",
          "data": {
            "text/html": [
              "<div>\n",
              "<style scoped>\n",
              "    .dataframe tbody tr th:only-of-type {\n",
              "        vertical-align: middle;\n",
              "    }\n",
              "\n",
              "    .dataframe tbody tr th {\n",
              "        vertical-align: top;\n",
              "    }\n",
              "\n",
              "    .dataframe thead th {\n",
              "        text-align: right;\n",
              "    }\n",
              "</style>\n",
              "<table border=\"1\" class=\"dataframe\">\n",
              "  <thead>\n",
              "    <tr style=\"text-align: right;\">\n",
              "      <th></th>\n",
              "      <th>movie_id</th>\n",
              "      <th>title</th>\n",
              "      <th>genre</th>\n",
              "      <th>released_year_area</th>\n",
              "      <th>main_genre</th>\n",
              "    </tr>\n",
              "  </thead>\n",
              "  <tbody>\n",
              "    <tr>\n",
              "      <th>1205</th>\n",
              "      <td>1223</td>\n",
              "      <td>Grand Day Out, A (1992)</td>\n",
              "      <td>Animation|Comedy</td>\n",
              "      <td>1990</td>\n",
              "      <td>Animation</td>\n",
              "    </tr>\n",
              "    <tr>\n",
              "      <th>1499</th>\n",
              "      <td>1537</td>\n",
              "      <td>Shall We Dance? (Shall We Dansu?) (1996)</td>\n",
              "      <td>Comedy</td>\n",
              "      <td>1990</td>\n",
              "      <td>Comedy</td>\n",
              "    </tr>\n",
              "    <tr>\n",
              "      <th>2255</th>\n",
              "      <td>2324</td>\n",
              "      <td>Life Is Beautiful (La Vita è bella) (1997)</td>\n",
              "      <td>Comedy|Drama</td>\n",
              "      <td>1990</td>\n",
              "      <td>Comedy</td>\n",
              "    </tr>\n",
              "    <tr>\n",
              "      <th>3045</th>\n",
              "      <td>3114</td>\n",
              "      <td>Toy Story 2 (1999)</td>\n",
              "      <td>Animation|Children's|Comedy</td>\n",
              "      <td>1990</td>\n",
              "      <td>Animation</td>\n",
              "    </tr>\n",
              "    <tr>\n",
              "      <th>3360</th>\n",
              "      <td>3429</td>\n",
              "      <td>Creature Comforts (1990)</td>\n",
              "      <td>Animation|Comedy</td>\n",
              "      <td>1990</td>\n",
              "      <td>Animation</td>\n",
              "    </tr>\n",
              "  </tbody>\n",
              "</table>\n",
              "</div>"
            ],
            "text/plain": [
              "      movie_id  ... main_genre\n",
              "1205      1223  ...  Animation\n",
              "1499      1537  ...     Comedy\n",
              "2255      2324  ...     Comedy\n",
              "3045      3114  ...  Animation\n",
              "3360      3429  ...  Animation\n",
              "\n",
              "[5 rows x 5 columns]"
            ]
          },
          "metadata": {
            "tags": []
          },
          "execution_count": 19
        }
      ]
    },
    {
      "cell_type": "code",
      "metadata": {
        "colab": {
          "base_uri": "https://localhost:8080/"
        },
        "id": "2yM8Weg31YJM",
        "outputId": "ee4b7f37-382e-46ce-924c-608a3732b772"
      },
      "source": [
        "# Movie2Vec 모델로 Item2Item 후보군 생성\n",
        "item2item = {}\n",
        "\n",
        "# 영화별 연관 영화 k개씩 추출\n",
        "k = 10\n",
        "not_in_count = 0\n",
        "for movie_id in movie_df['movie_id'].values:\n",
        "  item2item[movie_id] = []\n",
        "  try:\n",
        "    sim_list = model.wv.most_similar(\"movie_id:\" + str(movie_id), topn=k+10)\n",
        "    for movie_tup in sim_list:\n",
        "      tup_info = movie_tup[0].split(\":\")\n",
        "      if (tup_info[0] == \"movie_id\") and (len(item2item[movie_id]) < 10):\n",
        "        item2item[movie_id].append(tup_info[1])\n",
        "  except:\n",
        "    not_in_count += 1\n",
        "    print(\"word\", str(movie_id) ,\"not in vocabulary\")"
      ],
      "execution_count": 20,
      "outputs": [
        {
          "output_type": "stream",
          "text": [
            "word 51 not in vocabulary\n",
            "word 109 not in vocabulary\n",
            "word 115 not in vocabulary\n",
            "word 143 not in vocabulary\n",
            "word 284 not in vocabulary\n",
            "word 285 not in vocabulary\n",
            "word 395 not in vocabulary\n",
            "word 399 not in vocabulary\n",
            "word 400 not in vocabulary\n",
            "word 403 not in vocabulary\n",
            "word 604 not in vocabulary\n",
            "word 620 not in vocabulary\n",
            "word 625 not in vocabulary\n",
            "word 629 not in vocabulary\n",
            "word 636 not in vocabulary\n",
            "word 654 not in vocabulary\n",
            "word 675 not in vocabulary\n",
            "word 676 not in vocabulary\n",
            "word 683 not in vocabulary\n",
            "word 693 not in vocabulary\n",
            "word 699 not in vocabulary\n",
            "word 713 not in vocabulary\n",
            "word 721 not in vocabulary\n",
            "word 723 not in vocabulary\n",
            "word 727 not in vocabulary\n",
            "word 738 not in vocabulary\n",
            "word 739 not in vocabulary\n",
            "word 752 not in vocabulary\n",
            "word 768 not in vocabulary\n",
            "word 770 not in vocabulary\n",
            "word 772 not in vocabulary\n",
            "word 773 not in vocabulary\n",
            "word 777 not in vocabulary\n",
            "word 794 not in vocabulary\n",
            "word 795 not in vocabulary\n",
            "word 797 not in vocabulary\n",
            "word 812 not in vocabulary\n",
            "word 816 not in vocabulary\n",
            "word 819 not in vocabulary\n",
            "word 822 not in vocabulary\n",
            "word 825 not in vocabulary\n",
            "word 845 not in vocabulary\n",
            "word 855 not in vocabulary\n",
            "word 856 not in vocabulary\n",
            "word 857 not in vocabulary\n",
            "word 871 not in vocabulary\n",
            "word 873 not in vocabulary\n",
            "word 890 not in vocabulary\n",
            "word 894 not in vocabulary\n",
            "word 979 not in vocabulary\n",
            "word 983 not in vocabulary\n",
            "word 1001 not in vocabulary\n",
            "word 1045 not in vocabulary\n",
            "word 1052 not in vocabulary\n",
            "word 1065 not in vocabulary\n",
            "word 1075 not in vocabulary\n",
            "word 1106 not in vocabulary\n",
            "word 1108 not in vocabulary\n",
            "word 1109 not in vocabulary\n",
            "word 1110 not in vocabulary\n",
            "word 1122 not in vocabulary\n",
            "word 1137 not in vocabulary\n",
            "word 1140 not in vocabulary\n",
            "word 1141 not in vocabulary\n",
            "word 1143 not in vocabulary\n",
            "word 1146 not in vocabulary\n",
            "word 1155 not in vocabulary\n",
            "word 1156 not in vocabulary\n",
            "word 1157 not in vocabulary\n",
            "word 1158 not in vocabulary\n",
            "word 1159 not in vocabulary\n",
            "word 1166 not in vocabulary\n",
            "word 1308 not in vocabulary\n",
            "word 1309 not in vocabulary\n",
            "word 1314 not in vocabulary\n",
            "word 1318 not in vocabulary\n",
            "word 1319 not in vocabulary\n",
            "word 1368 not in vocabulary\n",
            "word 1400 not in vocabulary\n",
            "word 1424 not in vocabulary\n",
            "word 1443 not in vocabulary\n",
            "word 1448 not in vocabulary\n",
            "word 1462 not in vocabulary\n",
            "word 1467 not in vocabulary\n",
            "word 1524 not in vocabulary\n",
            "word 1557 not in vocabulary\n",
            "word 1559 not in vocabulary\n",
            "word 1568 not in vocabulary\n",
            "word 1577 not in vocabulary\n",
            "word 1578 not in vocabulary\n",
            "word 1628 not in vocabulary\n",
            "word 1697 not in vocabulary\n",
            "word 1698 not in vocabulary\n",
            "word 1705 not in vocabulary\n",
            "word 1706 not in vocabulary\n",
            "word 1708 not in vocabulary\n",
            "word 1710 not in vocabulary\n",
            "word 1716 not in vocabulary\n",
            "word 1723 not in vocabulary\n",
            "word 1738 not in vocabulary\n",
            "word 1740 not in vocabulary\n",
            "word 1742 not in vocabulary\n",
            "word 1757 not in vocabulary\n",
            "word 1765 not in vocabulary\n",
            "word 1768 not in vocabulary\n",
            "word 1774 not in vocabulary\n",
            "word 1776 not in vocabulary\n",
            "word 1781 not in vocabulary\n",
            "word 1789 not in vocabulary\n",
            "word 1819 not in vocabulary\n",
            "word 1847 not in vocabulary\n",
            "word 2030 not in vocabulary\n",
            "word 2199 not in vocabulary\n",
            "word 2216 not in vocabulary\n",
            "word 2220 not in vocabulary\n",
            "word 2222 not in vocabulary\n",
            "word 2224 not in vocabulary\n",
            "word 2225 not in vocabulary\n",
            "word 2228 not in vocabulary\n",
            "word 2229 not in vocabulary\n",
            "word 2230 not in vocabulary\n",
            "word 2270 not in vocabulary\n",
            "word 2274 not in vocabulary\n",
            "word 2319 not in vocabulary\n",
            "word 2489 not in vocabulary\n",
            "word 2508 not in vocabulary\n",
            "word 2547 not in vocabulary\n",
            "word 2564 not in vocabulary\n",
            "word 2588 not in vocabulary\n",
            "word 2595 not in vocabulary\n",
            "word 2601 not in vocabulary\n",
            "word 2603 not in vocabulary\n",
            "word 2604 not in vocabulary\n",
            "word 2680 not in vocabulary\n",
            "word 2684 not in vocabulary\n",
            "word 2698 not in vocabulary\n",
            "word 2832 not in vocabulary\n",
            "word 2838 not in vocabulary\n",
            "word 2910 not in vocabulary\n",
            "word 2954 not in vocabulary\n",
            "word 2957 not in vocabulary\n",
            "word 2958 not in vocabulary\n",
            "word 2980 not in vocabulary\n",
            "word 3009 not in vocabulary\n",
            "word 3023 not in vocabulary\n",
            "word 3059 not in vocabulary\n",
            "word 3080 not in vocabulary\n",
            "word 3170 not in vocabulary\n",
            "word 3191 not in vocabulary\n",
            "word 3193 not in vocabulary\n",
            "word 3195 not in vocabulary\n",
            "word 3226 not in vocabulary\n",
            "word 3227 not in vocabulary\n",
            "word 3231 not in vocabulary\n",
            "word 3234 not in vocabulary\n",
            "word 3278 not in vocabulary\n",
            "word 3279 not in vocabulary\n",
            "word 3332 not in vocabulary\n",
            "word 3348 not in vocabulary\n",
            "word 3356 not in vocabulary\n",
            "word 3369 not in vocabulary\n",
            "word 3383 not in vocabulary\n",
            "word 3411 not in vocabulary\n",
            "word 3455 not in vocabulary\n",
            "word 3541 not in vocabulary\n",
            "word 3558 not in vocabulary\n",
            "word 3560 not in vocabulary\n",
            "word 3561 not in vocabulary\n",
            "word 3582 not in vocabulary\n",
            "word 3583 not in vocabulary\n",
            "word 3589 not in vocabulary\n",
            "word 3630 not in vocabulary\n",
            "word 3650 not in vocabulary\n",
            "word 3750 not in vocabulary\n",
            "word 3829 not in vocabulary\n",
            "word 3856 not in vocabulary\n",
            "word 3907 not in vocabulary\n"
          ],
          "name": "stdout"
        }
      ]
    },
    {
      "cell_type": "code",
      "metadata": {
        "colab": {
          "base_uri": "https://localhost:8080/"
        },
        "id": "R_4LizEz2-2F",
        "outputId": "a7b0947e-58b0-4930-eb4f-103d663a5496"
      },
      "source": [
        "print(\"total:\", not_in_count)"
      ],
      "execution_count": 21,
      "outputs": [
        {
          "output_type": "stream",
          "text": [
            "total: 177\n"
          ],
          "name": "stdout"
        }
      ]
    },
    {
      "cell_type": "code",
      "metadata": {
        "id": "lTCQPIcL4htp",
        "colab": {
          "base_uri": "https://localhost:8080/",
          "height": 35
        },
        "outputId": "0251683f-88e9-47d4-f791-a14ff11857e8"
      },
      "source": [
        "str(item2item)[:100]"
      ],
      "execution_count": 22,
      "outputs": [
        {
          "output_type": "execute_result",
          "data": {
            "application/vnd.google.colaboratory.intrinsic+json": {
              "type": "string"
            },
            "text/plain": [
              "\"{1: ['1223', '3429', '2324', '1537', '3114', '745', '2289', '1148', '1265', '2359'], 2: ['60', '3489\""
            ]
          },
          "metadata": {
            "tags": []
          },
          "execution_count": 22
        }
      ]
    },
    {
      "cell_type": "code",
      "metadata": {
        "id": "cTRHX5Vf41Ec"
      },
      "source": [
        " # 평균 평점 기반 Popular 후보군 생성\n",
        " mean_ratings = rating_df.groupby('movie_id')['rating'].agg(['mean', 'count'])"
      ],
      "execution_count": 23,
      "outputs": []
    },
    {
      "cell_type": "code",
      "metadata": {
        "colab": {
          "base_uri": "https://localhost:8080/",
          "height": 235
        },
        "id": "wV10tSTz6uJF",
        "outputId": "507e0e17-d193-4823-863a-178496fdd73a"
      },
      "source": [
        "mean_ratings.head()"
      ],
      "execution_count": 24,
      "outputs": [
        {
          "output_type": "execute_result",
          "data": {
            "text/html": [
              "<div>\n",
              "<style scoped>\n",
              "    .dataframe tbody tr th:only-of-type {\n",
              "        vertical-align: middle;\n",
              "    }\n",
              "\n",
              "    .dataframe tbody tr th {\n",
              "        vertical-align: top;\n",
              "    }\n",
              "\n",
              "    .dataframe thead th {\n",
              "        text-align: right;\n",
              "    }\n",
              "</style>\n",
              "<table border=\"1\" class=\"dataframe\">\n",
              "  <thead>\n",
              "    <tr style=\"text-align: right;\">\n",
              "      <th></th>\n",
              "      <th>mean</th>\n",
              "      <th>count</th>\n",
              "    </tr>\n",
              "    <tr>\n",
              "      <th>movie_id</th>\n",
              "      <th></th>\n",
              "      <th></th>\n",
              "    </tr>\n",
              "  </thead>\n",
              "  <tbody>\n",
              "    <tr>\n",
              "      <th>1</th>\n",
              "      <td>4.146846</td>\n",
              "      <td>2077</td>\n",
              "    </tr>\n",
              "    <tr>\n",
              "      <th>2</th>\n",
              "      <td>3.201141</td>\n",
              "      <td>701</td>\n",
              "    </tr>\n",
              "    <tr>\n",
              "      <th>3</th>\n",
              "      <td>3.016736</td>\n",
              "      <td>478</td>\n",
              "    </tr>\n",
              "    <tr>\n",
              "      <th>4</th>\n",
              "      <td>2.729412</td>\n",
              "      <td>170</td>\n",
              "    </tr>\n",
              "    <tr>\n",
              "      <th>5</th>\n",
              "      <td>3.006757</td>\n",
              "      <td>296</td>\n",
              "    </tr>\n",
              "  </tbody>\n",
              "</table>\n",
              "</div>"
            ],
            "text/plain": [
              "              mean  count\n",
              "movie_id                 \n",
              "1         4.146846   2077\n",
              "2         3.201141    701\n",
              "3         3.016736    478\n",
              "4         2.729412    170\n",
              "5         3.006757    296"
            ]
          },
          "metadata": {
            "tags": []
          },
          "execution_count": 24
        }
      ]
    },
    {
      "cell_type": "code",
      "metadata": {
        "colab": {
          "base_uri": "https://localhost:8080/"
        },
        "id": "BkdvegD66vXK",
        "outputId": "f46dcc56-9480-48e9-f917-c8a117dd2f8e"
      },
      "source": [
        "mean_ratings['count'].value_counts()"
      ],
      "execution_count": 25,
      "outputs": [
        {
          "output_type": "execute_result",
          "data": {
            "text/plain": [
              "1       114\n",
              "2        89\n",
              "4        45\n",
              "3        42\n",
              "5        39\n",
              "       ... \n",
              "1568      1\n",
              "1548      1\n",
              "1546      1\n",
              "1522      1\n",
              "1995      1\n",
              "Name: count, Length: 924, dtype: int64"
            ]
          },
          "metadata": {
            "tags": []
          },
          "execution_count": 25
        }
      ]
    },
    {
      "cell_type": "code",
      "metadata": {
        "colab": {
          "base_uri": "https://localhost:8080/",
          "height": 282
        },
        "id": "puUuJ33P6w9m",
        "outputId": "4e1a029a-b7bd-4ba9-8ddf-1ee4834da33b"
      },
      "source": [
        "mean_ratings['count'].value_counts().hist(bins=100)"
      ],
      "execution_count": 26,
      "outputs": [
        {
          "output_type": "execute_result",
          "data": {
            "text/plain": [
              "<matplotlib.axes._subplots.AxesSubplot at 0x7fa913b9b390>"
            ]
          },
          "metadata": {
            "tags": []
          },
          "execution_count": 26
        },
        {
          "output_type": "display_data",
          "data": {
            "image/png": "[encoded data removed]",
            "text/plain": [
              "<Figure size 432x288 with 1 Axes>"
            ]
          },
          "metadata": {
            "tags": [],
            "needs_background": "light"
          }
        }
      ]
    },
    {
      "cell_type": "code",
      "metadata": {
        "colab": {
          "base_uri": "https://localhost:8080/"
        },
        "id": "LnT0hAAN6zQ_",
        "outputId": "551534b8-27f3-40f6-b885-0ce8e132351e"
      },
      "source": [
        "mean_ratings[mean_ratings['count']>10]['mean'].sort_values(ascending=False)"
      ],
      "execution_count": 27,
      "outputs": [
        {
          "output_type": "execute_result",
          "data": {
            "text/plain": [
              "movie_id\n",
              "2905    4.608696\n",
              "2019    4.560510\n",
              "318     4.554558\n",
              "858     4.524966\n",
              "745     4.520548\n",
              "          ...   \n",
              "3573    1.461538\n",
              "1323    1.372093\n",
              "1739    1.361702\n",
              "1495    1.318182\n",
              "3574    1.058824\n",
              "Name: mean, Length: 3233, dtype: float64"
            ]
          },
          "metadata": {
            "tags": []
          },
          "execution_count": 27
        }
      ]
    },
    {
      "cell_type": "code",
      "metadata": {
        "colab": {
          "base_uri": "https://localhost:8080/"
        },
        "id": "wkyxbtlK63hh",
        "outputId": "b8c637c3-8597-4e9c-e5b4-52a110d9f6e4"
      },
      "source": [
        "# EDA & 전처리 - Popular 후보군 생성 결과 확인\n",
        "mean_ratings[mean_ratings['count']>10]['mean'].sort_values(ascending=False)[:20]"
      ],
      "execution_count": 28,
      "outputs": [
        {
          "output_type": "execute_result",
          "data": {
            "text/plain": [
              "movie_id\n",
              "2905    4.608696\n",
              "2019    4.560510\n",
              "318     4.554558\n",
              "858     4.524966\n",
              "745     4.520548\n",
              "50      4.517106\n",
              "527     4.510417\n",
              "1148    4.507937\n",
              "922     4.491489\n",
              "1198    4.477725\n",
              "904     4.476190\n",
              "1178    4.473913\n",
              "260     4.453694\n",
              "1212    4.452083\n",
              "750     4.449890\n",
              "3338    4.444444\n",
              "720     4.426941\n",
              "1207    4.425647\n",
              "3435    4.415608\n",
              "912     4.412822\n",
              "Name: mean, dtype: float64"
            ]
          },
          "metadata": {
            "tags": []
          },
          "execution_count": 28
        }
      ]
    },
    {
      "cell_type": "code",
      "metadata": {
        "id": "wKKmouUD6-W-"
      },
      "source": [
        "# 평점 높은 (popular) 상위 10개 영화\n",
        "popular_movie_list = mean_ratings[mean_ratings['count']>10]['mean'].sort_values(ascending=False).index[:10].tolist()"
      ],
      "execution_count": 29,
      "outputs": []
    },
    {
      "cell_type": "code",
      "metadata": {
        "colab": {
          "base_uri": "https://localhost:8080/"
        },
        "id": "qA18-KgC_OOE",
        "outputId": "0f779b11-0ef2-4508-de1d-424f6a752336"
      },
      "source": [
        "popular_movie_list"
      ],
      "execution_count": 30,
      "outputs": [
        {
          "output_type": "execute_result",
          "data": {
            "text/plain": [
              "[2905, 2019, 318, 858, 745, 50, 527, 1148, 922, 1198]"
            ]
          },
          "metadata": {
            "tags": []
          },
          "execution_count": 30
        }
      ]
    },
    {
      "cell_type": "code",
      "metadata": {
        "colab": {
          "base_uri": "https://localhost:8080/",
          "height": 204
        },
        "id": "izeqVRxl_QSX",
        "outputId": "6b001a4c-de1e-42af-9c83-13c8f14ae2a2"
      },
      "source": [
        "# EDA & 전처리 - 장르 & 연도 기준 Meta2Item 후보군 생성\n",
        "merge_df = pd.merge(mean_ratings, movie_df, on='movie_id')\n",
        "merge_df.head()"
      ],
      "execution_count": 31,
      "outputs": [
        {
          "output_type": "execute_result",
          "data": {
            "text/html": [
              "<div>\n",
              "<style scoped>\n",
              "    .dataframe tbody tr th:only-of-type {\n",
              "        vertical-align: middle;\n",
              "    }\n",
              "\n",
              "    .dataframe tbody tr th {\n",
              "        vertical-align: top;\n",
              "    }\n",
              "\n",
              "    .dataframe thead th {\n",
              "        text-align: right;\n",
              "    }\n",
              "</style>\n",
              "<table border=\"1\" class=\"dataframe\">\n",
              "  <thead>\n",
              "    <tr style=\"text-align: right;\">\n",
              "      <th></th>\n",
              "      <th>movie_id</th>\n",
              "      <th>mean</th>\n",
              "      <th>count</th>\n",
              "      <th>title</th>\n",
              "      <th>genre</th>\n",
              "      <th>released_year_area</th>\n",
              "      <th>main_genre</th>\n",
              "    </tr>\n",
              "  </thead>\n",
              "  <tbody>\n",
              "    <tr>\n",
              "      <th>0</th>\n",
              "      <td>1</td>\n",
              "      <td>4.146846</td>\n",
              "      <td>2077</td>\n",
              "      <td>Toy Story (1995)</td>\n",
              "      <td>Animation|Children's|Comedy</td>\n",
              "      <td>1990</td>\n",
              "      <td>Animation</td>\n",
              "    </tr>\n",
              "    <tr>\n",
              "      <th>1</th>\n",
              "      <td>2</td>\n",
              "      <td>3.201141</td>\n",
              "      <td>701</td>\n",
              "      <td>Jumanji (1995)</td>\n",
              "      <td>Adventure|Children's|Fantasy</td>\n",
              "      <td>1990</td>\n",
              "      <td>Adventure</td>\n",
              "    </tr>\n",
              "    <tr>\n",
              "      <th>2</th>\n",
              "      <td>3</td>\n",
              "      <td>3.016736</td>\n",
              "      <td>478</td>\n",
              "      <td>Grumpier Old Men (1995)</td>\n",
              "      <td>Comedy|Romance</td>\n",
              "      <td>1990</td>\n",
              "      <td>Comedy</td>\n",
              "    </tr>\n",
              "    <tr>\n",
              "      <th>3</th>\n",
              "      <td>4</td>\n",
              "      <td>2.729412</td>\n",
              "      <td>170</td>\n",
              "      <td>Waiting to Exhale (1995)</td>\n",
              "      <td>Comedy|Drama</td>\n",
              "      <td>1990</td>\n",
              "      <td>Comedy</td>\n",
              "    </tr>\n",
              "    <tr>\n",
              "      <th>4</th>\n",
              "      <td>5</td>\n",
              "      <td>3.006757</td>\n",
              "      <td>296</td>\n",
              "      <td>Father of the Bride Part II (1995)</td>\n",
              "      <td>Comedy</td>\n",
              "      <td>1990</td>\n",
              "      <td>Comedy</td>\n",
              "    </tr>\n",
              "  </tbody>\n",
              "</table>\n",
              "</div>"
            ],
            "text/plain": [
              "   movie_id      mean  ...  released_year_area main_genre\n",
              "0         1  4.146846  ...                1990  Animation\n",
              "1         2  3.201141  ...                1990  Adventure\n",
              "2         3  3.016736  ...                1990     Comedy\n",
              "3         4  2.729412  ...                1990     Comedy\n",
              "4         5  3.006757  ...                1990     Comedy\n",
              "\n",
              "[5 rows x 7 columns]"
            ]
          },
          "metadata": {
            "tags": []
          },
          "execution_count": 31
        }
      ]
    },
    {
      "cell_type": "code",
      "metadata": {
        "id": "DBkUeLs-_TV8"
      },
      "source": [
        "# 장르&연도를 meta로 하여, meta별 상위 10개의 평점 높은 영화\n",
        "def get_meta_popular_list(x, k):\n",
        "  movie_id_list = x.sort_values(by=['mean'], ascending=False)['movie_id'].tolist()\n",
        "  return movie_id_list[:k]\n",
        "\n",
        "genre_popular = merge_df.groupby('main_genre').apply(lambda x: get_meta_popular_list(x, k=10))\n",
        "year_popular = merge_df.groupby('released_year_area').apply(lambda x: get_meta_popular_list(x, k=10))"
      ],
      "execution_count": 32,
      "outputs": []
    },
    {
      "cell_type": "code",
      "metadata": {
        "colab": {
          "base_uri": "https://localhost:8080/"
        },
        "id": "5jOkWvjE_dVA",
        "outputId": "4752425a-1e5f-4c01-b8ce-86df3818cafe"
      },
      "source": [
        "genre_popular.head()"
      ],
      "execution_count": 33,
      "outputs": [
        {
          "output_type": "execute_result",
          "data": {
            "text/plain": [
              "main_genre\n",
              "Action        [2905, 2019, 858, 1198, 260, 1221, 2028, 2571,...\n",
              "Adventure     [3172, 1204, 1262, 3470, 1254, 919, 1303, 1259...\n",
              "Animation     [745, 1148, 720, 1223, 3429, 3114, 1, 741, 276...\n",
              "Children's    [1097, 1028, 34, 262, 3396, 755, 531, 3397, 55...\n",
              "Comedy        [1830, 3233, 3607, 3030, 3307, 3022, 1136, 341...\n",
              "dtype: object"
            ]
          },
          "metadata": {
            "tags": []
          },
          "execution_count": 33
        }
      ]
    },
    {
      "cell_type": "code",
      "metadata": {
        "colab": {
          "base_uri": "https://localhost:8080/"
        },
        "id": "FZExgeyd_elA",
        "outputId": "5f90b970-5447-4871-b961-440654e2bac7"
      },
      "source": [
        "year_popular.head()"
      ],
      "execution_count": 34,
      "outputs": [
        {
          "output_type": "execute_result",
          "data": {
            "text/plain": [
              "released_year_area\n",
              "1910                                   [3132, 2821, 2823]\n",
              "1920    [3517, 3022, 3629, 2010, 3232, 1348, 3742, 330...\n",
              "1930    [3382, 3307, 3134, 1260, 905, 919, 954, 950, 3...\n",
              "1940    [3656, 1212, 3435, 912, 913, 923, 3089, 1284, ...\n",
              "1950    [3172, 2019, 922, 904, 1178, 670, 668, 1250, 9...\n",
              "dtype: object"
            ]
          },
          "metadata": {
            "tags": []
          },
          "execution_count": 34
        }
      ]
    },
    {
      "cell_type": "code",
      "metadata": {
        "id": "6AK9GHDV_gTY"
      },
      "source": [
        "# Meta 후보군 생성 결과 확인\n",
        "genre_popular_dict = genre_popular.to_dict()"
      ],
      "execution_count": 35,
      "outputs": []
    },
    {
      "cell_type": "code",
      "metadata": {
        "colab": {
          "base_uri": "https://localhost:8080/"
        },
        "id": "8UKA85JT_jJ-",
        "outputId": "719eec63-7b8e-4213-ecec-5c42110cb141"
      },
      "source": [
        "genre_popular_dict"
      ],
      "execution_count": 36,
      "outputs": [
        {
          "output_type": "execute_result",
          "data": {
            "text/plain": [
              "{'Action': [2905, 2019, 858, 1198, 260, 1221, 2028, 2571, 1197, 1233],\n",
              " 'Adventure': [3172, 1204, 1262, 3470, 1254, 919, 1303, 1259, 29, 1931],\n",
              " 'Animation': [745, 1148, 720, 1223, 3429, 3114, 1, 741, 2761, 1023],\n",
              " \"Children's\": [1097, 1028, 34, 262, 3396, 755, 531, 3397, 551, 1012],\n",
              " 'Comedy': [1830, 3233, 3607, 3030, 3307, 3022, 1136, 3410, 2324, 1234],\n",
              " 'Crime': [3656, 50, 3517, 3435, 1260, 296, 1213, 1945, 608, 1617],\n",
              " 'Documentary': [3881, 787, 3338, 2930, 128, 1147, 3679, 363, 1189, 2859],\n",
              " 'Drama': [3382, 989, 3245, 53, 2503, 318, 527, 578, 2480, 439],\n",
              " 'Fantasy': [792, 2021],\n",
              " 'Film-Noir': [922, 913, 1252, 1267, 1284, 2186, 930, 541, 2203, 2066],\n",
              " 'Horror': [3280, 1219, 1258, 1348, 2648, 1997, 2664, 1340, 1333, 2644],\n",
              " 'Musical': [899, 914, 1947, 2565, 3606, 1035, 3545, 900, 3675, 2971],\n",
              " 'Mystery': [904, 1212, 903, 950, 906, 1086, 2206, 1625, 931, 2467],\n",
              " 'Romance': [928, 28, 932, 2708, 2721, 1684, 803, 2833, 3368, 976],\n",
              " 'Sci-Fi': [750, 1199, 2010, 1206, 1301, 2660, 1921, 3658, 3032, 2009],\n",
              " 'Thriller': [2762, 3634, 965, 3849, 2819, 1249, 1076, 2983, 3075, 3728],\n",
              " 'War': [1927, 632, 2670, 1450, 3339, 2669, 3066, 3670, 665, 760],\n",
              " 'Western': [1283, 1266, 599, 3365, 3508, 1209, 3681, 714, 2921, 553]}"
            ]
          },
          "metadata": {
            "tags": []
          },
          "execution_count": 36
        }
      ]
    },
    {
      "cell_type": "code",
      "metadata": {
        "id": "MtJ1XU9b_kJ6"
      },
      "source": [
        "year_popular_dict = year_popular.to_dict()"
      ],
      "execution_count": 37,
      "outputs": []
    },
    {
      "cell_type": "code",
      "metadata": {
        "colab": {
          "base_uri": "https://localhost:8080/"
        },
        "id": "OPidPnYS_ut0",
        "outputId": "840348b4-b3b7-442c-8788-b7d2a830bbc2"
      },
      "source": [
        "year_popular_dict"
      ],
      "execution_count": 38,
      "outputs": [
        {
          "output_type": "execute_result",
          "data": {
            "text/plain": [
              "{'1910': [3132, 2821, 2823],\n",
              " '1920': [3517, 3022, 3629, 2010, 3232, 1348, 3742, 3306, 1925, 3310],\n",
              " '1930': [3382, 3307, 3134, 1260, 905, 919, 954, 950, 3462, 1256],\n",
              " '1940': [3656, 1212, 3435, 912, 913, 923, 3089, 1284, 898, 953],\n",
              " '1950': [3172, 2019, 922, 904, 1178, 670, 668, 1250, 908, 2731],\n",
              " '1960': [3233, 3245, 2905, 557, 750, 1207, 3030, 1204, 1262, 1267],\n",
              " '1970': [3607, 3280, 858, 260, 1193, 1221, 1252, 1136, 3470, 1234],\n",
              " '1980': [1198, 3338, 1131, 1197, 1233, 2931, 1196, 1172, 1224, 3091],\n",
              " '1990': [989, 787, 1830, 53, 2503, 318, 745, 50, 527, 1148],\n",
              " '2000': [3881, 3888, 3897, 3949, 3578, 3911, 3647, 3353, 3851, 3317]}"
            ]
          },
          "metadata": {
            "tags": []
          },
          "execution_count": 38
        }
      ]
    },
    {
      "cell_type": "markdown",
      "metadata": {
        "id": "HWTfxWju_xiO"
      },
      "source": [
        "### Point-wise 데이터셋 생성\n",
        "#### Ranking Model\n",
        "\n",
        "    [랭킹 모델의 형태와 역할]\n",
        "    1. Binary Classification을 학습하는 Regressor가 가장 대표적인 예\n",
        "    2. y=1은 User가 Item을 시청(혹은 구매 등)한 경우 -> **Ground Truth**\n",
        "    3. f(x_ui) = X_u + X_i + b -> **X_u는 User의 여러가지 정보를 벡터로 나타낸 것, 그리고 X_i는 아이템의 여러가지 정보를 벡터로 나타낸 것**\n",
        "    4. NDCG, AUC, Top@Precision... 등을 기준으로 모델을 학습 (랭킹 학습 방식인 Point-wise, Pair-wise 등을 기준으로 각각 다름)\n",
        "\n",
        "![point-wise](https://drive.google.com/uc?id=1CA6paiEoEu2g6B3wX0ldyTxSA8-xVFYq)"
      ]
    },
    {
      "cell_type": "code",
      "metadata": {
        "colab": {
          "base_uri": "https://localhost:8080/",
          "height": 295
        },
        "id": "jHnzS9Mi_v0B",
        "outputId": "0c09f93f-876f-4a20-c4e6-0788be09f7a0"
      },
      "source": [
        "# 특정 시간 기준 데이터셋 분리\n",
        "rating_df['time'].hist(bins=100)"
      ],
      "execution_count": 39,
      "outputs": [
        {
          "output_type": "execute_result",
          "data": {
            "text/plain": [
              "<matplotlib.axes._subplots.AxesSubplot at 0x7fa90b3d7990>"
            ]
          },
          "metadata": {
            "tags": []
          },
          "execution_count": 39
        },
        {
          "output_type": "display_data",
          "data": {
            "image/png": "[encoded data removed]",
            "text/plain": [
              "<Figure size 432x288 with 1 Axes>"
            ]
          },
          "metadata": {
            "tags": [],
            "needs_background": "light"
          }
        }
      ]
    },
    {
      "cell_type": "code",
      "metadata": {
        "colab": {
          "base_uri": "https://localhost:8080/"
        },
        "id": "h56ygZwf_6a0",
        "outputId": "28bd62d7-4461-4ce9-accb-67504b7b0fac"
      },
      "source": [
        "rating_df['time'].quantile(q=0.8, interpolation='nearest')"
      ],
      "execution_count": 40,
      "outputs": [
        {
          "output_type": "execute_result",
          "data": {
            "text/plain": [
              "975768738"
            ]
          },
          "metadata": {
            "tags": []
          },
          "execution_count": 40
        }
      ]
    },
    {
      "cell_type": "code",
      "metadata": {
        "id": "4HQ2BrIs_7yV"
      },
      "source": [
        "train_df = rating_df[rating_df['time'] < 975768738]\n",
        "test_df = rating_df[rating_df['time'] >= 975768738]"
      ],
      "execution_count": 41,
      "outputs": []
    },
    {
      "cell_type": "markdown",
      "metadata": {
        "id": "OewJq-1RAGbb"
      },
      "source": [
        "### User Profiling - 유저 속성 EDA (gender, age, occupation, zipcode)"
      ]
    },
    {
      "cell_type": "code",
      "metadata": {
        "colab": {
          "base_uri": "https://localhost:8080/",
          "height": 204
        },
        "id": "sMwisxPJ_83u",
        "outputId": "c20a2d53-438e-4616-8fc0-442d2ad6280c"
      },
      "source": [
        "# 1) Gender\n",
        "user_df.head()"
      ],
      "execution_count": 42,
      "outputs": [
        {
          "output_type": "execute_result",
          "data": {
            "text/html": [
              "<div>\n",
              "<style scoped>\n",
              "    .dataframe tbody tr th:only-of-type {\n",
              "        vertical-align: middle;\n",
              "    }\n",
              "\n",
              "    .dataframe tbody tr th {\n",
              "        vertical-align: top;\n",
              "    }\n",
              "\n",
              "    .dataframe thead th {\n",
              "        text-align: right;\n",
              "    }\n",
              "</style>\n",
              "<table border=\"1\" class=\"dataframe\">\n",
              "  <thead>\n",
              "    <tr style=\"text-align: right;\">\n",
              "      <th></th>\n",
              "      <th>user_id</th>\n",
              "      <th>gender</th>\n",
              "      <th>age</th>\n",
              "      <th>occupation</th>\n",
              "      <th>zipcode</th>\n",
              "    </tr>\n",
              "  </thead>\n",
              "  <tbody>\n",
              "    <tr>\n",
              "      <th>0</th>\n",
              "      <td>1</td>\n",
              "      <td>F</td>\n",
              "      <td>1</td>\n",
              "      <td>10</td>\n",
              "      <td>48067</td>\n",
              "    </tr>\n",
              "    <tr>\n",
              "      <th>1</th>\n",
              "      <td>2</td>\n",
              "      <td>M</td>\n",
              "      <td>56</td>\n",
              "      <td>16</td>\n",
              "      <td>70072</td>\n",
              "    </tr>\n",
              "    <tr>\n",
              "      <th>2</th>\n",
              "      <td>3</td>\n",
              "      <td>M</td>\n",
              "      <td>25</td>\n",
              "      <td>15</td>\n",
              "      <td>55117</td>\n",
              "    </tr>\n",
              "    <tr>\n",
              "      <th>3</th>\n",
              "      <td>4</td>\n",
              "      <td>M</td>\n",
              "      <td>45</td>\n",
              "      <td>7</td>\n",
              "      <td>02460</td>\n",
              "    </tr>\n",
              "    <tr>\n",
              "      <th>4</th>\n",
              "      <td>5</td>\n",
              "      <td>M</td>\n",
              "      <td>25</td>\n",
              "      <td>20</td>\n",
              "      <td>55455</td>\n",
              "    </tr>\n",
              "  </tbody>\n",
              "</table>\n",
              "</div>"
            ],
            "text/plain": [
              "   user_id gender  age  occupation zipcode\n",
              "0        1      F    1          10   48067\n",
              "1        2      M   56          16   70072\n",
              "2        3      M   25          15   55117\n",
              "3        4      M   45           7   02460\n",
              "4        5      M   25          20   55455"
            ]
          },
          "metadata": {
            "tags": []
          },
          "execution_count": 42
        }
      ]
    },
    {
      "cell_type": "code",
      "metadata": {
        "colab": {
          "base_uri": "https://localhost:8080/",
          "height": 349
        },
        "id": "KT_E5O8TAJkT",
        "outputId": "966d7d96-299b-40bb-cd4e-a80aaa62932b"
      },
      "source": [
        "import matplotlib.pyplot as plt\n",
        "\n",
        "gender = user_df['gender'].value_counts()\n",
        "sns.barplot(gender.index, gender.values)\n",
        "plt.title('Gender Ratio')\n",
        "plt.ylabel('Count')\n",
        "plt.xlabel('Gender')\n",
        "plt.show()"
      ],
      "execution_count": 43,
      "outputs": [
        {
          "output_type": "stream",
          "text": [
            "/usr/local/lib/python3.7/dist-packages/seaborn/_decorators.py:43: FutureWarning: Pass the following variables as keyword args: x, y. From version 0.12, the only valid positional argument will be `data`, and passing other arguments without an explicit keyword will result in an error or misinterpretation.\n",
            "  FutureWarning\n"
          ],
          "name": "stderr"
        },
        {
          "output_type": "display_data",
          "data": {
            "image/png": "[encoded data removed]",
            "text/plain": [
              "<Figure size 432x288 with 1 Axes>"
            ]
          },
          "metadata": {
            "tags": [],
            "needs_background": "light"
          }
        }
      ]
    },
    {
      "cell_type": "code",
      "metadata": {
        "colab": {
          "base_uri": "https://localhost:8080/",
          "height": 282
        },
        "id": "8M1Rt56PAKx1",
        "outputId": "be9b1eb0-99df-47a1-b597-3e190f314e51"
      },
      "source": [
        "# 2) age\n",
        "user_df['age'].hist(bins='auto')"
      ],
      "execution_count": 44,
      "outputs": [
        {
          "output_type": "execute_result",
          "data": {
            "text/plain": [
              "<matplotlib.axes._subplots.AxesSubplot at 0x7fa90b1d3cd0>"
            ]
          },
          "metadata": {
            "tags": []
          },
          "execution_count": 44
        },
        {
          "output_type": "display_data",
          "data": {
            "image/png": "[encoded data removed]",
            "text/plain": [
              "<Figure size 432x288 with 1 Axes>"
            ]
          },
          "metadata": {
            "tags": [],
            "needs_background": "light"
          }
        }
      ]
    },
    {
      "cell_type": "code",
      "metadata": {
        "colab": {
          "base_uri": "https://localhost:8080/"
        },
        "id": "PpFsc-IgANHd",
        "outputId": "33d12114-f8d3-4d53-d4ff-fec9d09023f6"
      },
      "source": [
        "user_df['age'].value_counts()"
      ],
      "execution_count": 45,
      "outputs": [
        {
          "output_type": "execute_result",
          "data": {
            "text/plain": [
              "25    2096\n",
              "35    1193\n",
              "18    1103\n",
              "45     550\n",
              "50     496\n",
              "56     380\n",
              "1      222\n",
              "Name: age, dtype: int64"
            ]
          },
          "metadata": {
            "tags": []
          },
          "execution_count": 45
        }
      ]
    },
    {
      "cell_type": "code",
      "metadata": {
        "colab": {
          "base_uri": "https://localhost:8080/"
        },
        "id": "WDdweKl3AOok",
        "outputId": "f4aa5eab-c9f9-4556-9cc8-1ee14b07d6fc"
      },
      "source": [
        "def age_bucketize(age):\n",
        "    if age == 1:\n",
        "        return 'outlier'\n",
        "    else:\n",
        "        return str(age)[0] + \"0\"\n",
        "\n",
        "user_df['age_bucket'] = user_df['age'].apply(lambda x: age_bucketize(x))\n",
        "user_df['age_bucket'].value_counts()"
      ],
      "execution_count": 46,
      "outputs": [
        {
          "output_type": "execute_result",
          "data": {
            "text/plain": [
              "20         2096\n",
              "30         1193\n",
              "10         1103\n",
              "50          876\n",
              "40          550\n",
              "outlier     222\n",
              "Name: age_bucket, dtype: int64"
            ]
          },
          "metadata": {
            "tags": []
          },
          "execution_count": 46
        }
      ]
    },
    {
      "cell_type": "code",
      "metadata": {
        "colab": {
          "base_uri": "https://localhost:8080/"
        },
        "id": "CPXooWx-ARM3",
        "outputId": "3ed93e62-0c7c-41ee-a25d-300ff30f1314"
      },
      "source": [
        "# 3) Occupation\n",
        "user_df['occupation'].value_counts()"
      ],
      "execution_count": 47,
      "outputs": [
        {
          "output_type": "execute_result",
          "data": {
            "text/plain": [
              "4     759\n",
              "0     711\n",
              "7     679\n",
              "1     528\n",
              "17    502\n",
              "12    388\n",
              "14    302\n",
              "20    281\n",
              "2     267\n",
              "16    241\n",
              "6     236\n",
              "10    195\n",
              "3     173\n",
              "15    144\n",
              "13    142\n",
              "11    129\n",
              "5     112\n",
              "9      92\n",
              "19     72\n",
              "18     70\n",
              "8      17\n",
              "Name: occupation, dtype: int64"
            ]
          },
          "metadata": {
            "tags": []
          },
          "execution_count": 47
        }
      ]
    },
    {
      "cell_type": "code",
      "metadata": {
        "colab": {
          "base_uri": "https://localhost:8080/",
          "height": 268
        },
        "id": "9o106DU7AUST",
        "outputId": "4a090036-d4df-41ff-961d-e9f3eef3d114"
      },
      "source": [
        "user_df['occupation'].value_counts().plot(kind='bar');"
      ],
      "execution_count": 48,
      "outputs": [
        {
          "output_type": "display_data",
          "data": {
            "image/png": "[encoded data removed]",
            "text/plain": [
              "<Figure size 432x288 with 1 Axes>"
            ]
          },
          "metadata": {
            "tags": [],
            "needs_background": "light"
          }
        }
      ]
    },
    {
      "cell_type": "code",
      "metadata": {
        "colab": {
          "base_uri": "https://localhost:8080/"
        },
        "id": "FPKNKA1FAWK2",
        "outputId": "938ad6fb-7d91-40ed-8a18-df7c8157b47a"
      },
      "source": [
        "# 4) Zipcode\n",
        "user_df['zipcode'].value_counts()"
      ],
      "execution_count": 49,
      "outputs": [
        {
          "output_type": "execute_result",
          "data": {
            "text/plain": [
              "48104    19\n",
              "22903    18\n",
              "94110    17\n",
              "55104    17\n",
              "10025    16\n",
              "         ..\n",
              "01234     1\n",
              "56342     1\n",
              "36102     1\n",
              "01464     1\n",
              "80231     1\n",
              "Name: zipcode, Length: 3439, dtype: int64"
            ]
          },
          "metadata": {
            "tags": []
          },
          "execution_count": 49
        }
      ]
    },
    {
      "cell_type": "code",
      "metadata": {
        "colab": {
          "base_uri": "https://localhost:8080/",
          "height": 316
        },
        "id": "rQxryFt_AYjF",
        "outputId": "1019056c-45b1-40a1-cf07-24bda6a23d5d"
      },
      "source": [
        "user_df['zipcode'].value_counts().plot(kind='bar');"
      ],
      "execution_count": 50,
      "outputs": [
        {
          "output_type": "display_data",
          "data": {
            "image/png": "[encoded data removed]",
            "text/plain": [
              "<Figure size 432x288 with 1 Axes>"
            ]
          },
          "metadata": {
            "tags": [],
            "needs_background": "light"
          }
        }
      ]
    },
    {
      "cell_type": "markdown",
      "metadata": {
        "id": "bfoAB4trAcIJ"
      },
      "source": [
        "### User Profiling - 유저 속성별 피쳐맵 생성"
      ]
    },
    {
      "cell_type": "code",
      "metadata": {
        "colab": {
          "base_uri": "https://localhost:8080/",
          "height": 204
        },
        "id": "_8blMhrUAZ9D",
        "outputId": "ba8d47dc-048b-4fc4-bf8a-e5fed3db7370"
      },
      "source": [
        "user_df.head()"
      ],
      "execution_count": 51,
      "outputs": [
        {
          "output_type": "execute_result",
          "data": {
            "text/html": [
              "<div>\n",
              "<style scoped>\n",
              "    .dataframe tbody tr th:only-of-type {\n",
              "        vertical-align: middle;\n",
              "    }\n",
              "\n",
              "    .dataframe tbody tr th {\n",
              "        vertical-align: top;\n",
              "    }\n",
              "\n",
              "    .dataframe thead th {\n",
              "        text-align: right;\n",
              "    }\n",
              "</style>\n",
              "<table border=\"1\" class=\"dataframe\">\n",
              "  <thead>\n",
              "    <tr style=\"text-align: right;\">\n",
              "      <th></th>\n",
              "      <th>user_id</th>\n",
              "      <th>gender</th>\n",
              "      <th>age</th>\n",
              "      <th>occupation</th>\n",
              "      <th>zipcode</th>\n",
              "      <th>age_bucket</th>\n",
              "    </tr>\n",
              "  </thead>\n",
              "  <tbody>\n",
              "    <tr>\n",
              "      <th>0</th>\n",
              "      <td>1</td>\n",
              "      <td>F</td>\n",
              "      <td>1</td>\n",
              "      <td>10</td>\n",
              "      <td>48067</td>\n",
              "      <td>outlier</td>\n",
              "    </tr>\n",
              "    <tr>\n",
              "      <th>1</th>\n",
              "      <td>2</td>\n",
              "      <td>M</td>\n",
              "      <td>56</td>\n",
              "      <td>16</td>\n",
              "      <td>70072</td>\n",
              "      <td>50</td>\n",
              "    </tr>\n",
              "    <tr>\n",
              "      <th>2</th>\n",
              "      <td>3</td>\n",
              "      <td>M</td>\n",
              "      <td>25</td>\n",
              "      <td>15</td>\n",
              "      <td>55117</td>\n",
              "      <td>20</td>\n",
              "    </tr>\n",
              "    <tr>\n",
              "      <th>3</th>\n",
              "      <td>4</td>\n",
              "      <td>M</td>\n",
              "      <td>45</td>\n",
              "      <td>7</td>\n",
              "      <td>02460</td>\n",
              "      <td>40</td>\n",
              "    </tr>\n",
              "    <tr>\n",
              "      <th>4</th>\n",
              "      <td>5</td>\n",
              "      <td>M</td>\n",
              "      <td>25</td>\n",
              "      <td>20</td>\n",
              "      <td>55455</td>\n",
              "      <td>20</td>\n",
              "    </tr>\n",
              "  </tbody>\n",
              "</table>\n",
              "</div>"
            ],
            "text/plain": [
              "   user_id gender  age  occupation zipcode age_bucket\n",
              "0        1      F    1          10   48067    outlier\n",
              "1        2      M   56          16   70072         50\n",
              "2        3      M   25          15   55117         20\n",
              "3        4      M   45           7   02460         40\n",
              "4        5      M   25          20   55455         20"
            ]
          },
          "metadata": {
            "tags": []
          },
          "execution_count": 51
        }
      ]
    },
    {
      "cell_type": "markdown",
      "metadata": {
        "id": "e9iOvc9kC-Ip"
      },
      "source": [
        "#### 1) Gender"
      ]
    },
    {
      "cell_type": "code",
      "metadata": {
        "id": "h5xYpgwkCwCU"
      },
      "source": [
        "gender_list = user_df['gender'].unique()\n",
        "gender_index = {}\n",
        "for idx, gender in enumerate(gender_list):\n",
        "  gender_index[gender] = idx + 1"
      ],
      "execution_count": 52,
      "outputs": []
    },
    {
      "cell_type": "code",
      "metadata": {
        "colab": {
          "base_uri": "https://localhost:8080/"
        },
        "id": "YkNK9eYfDBNR",
        "outputId": "4abbbc5f-26b9-4731-9561-1b9b999e5a50"
      },
      "source": [
        "gender_index"
      ],
      "execution_count": 53,
      "outputs": [
        {
          "output_type": "execute_result",
          "data": {
            "text/plain": [
              "{'F': 1, 'M': 2}"
            ]
          },
          "metadata": {
            "tags": []
          },
          "execution_count": 53
        }
      ]
    },
    {
      "cell_type": "markdown",
      "metadata": {
        "id": "GCB36PX7DGsS"
      },
      "source": [
        "#### 2) Age"
      ]
    },
    {
      "cell_type": "code",
      "metadata": {
        "id": "e8PE8C2hDCaF"
      },
      "source": [
        "age_list = user_df['age_bucket'].unique()\n",
        "age_index = {}\n",
        "for idx, age in enumerate(age_list):\n",
        "  age_index[age] = idx + 1"
      ],
      "execution_count": 54,
      "outputs": []
    },
    {
      "cell_type": "code",
      "metadata": {
        "colab": {
          "base_uri": "https://localhost:8080/"
        },
        "id": "ajqWmcdyDH8y",
        "outputId": "8102fad8-d034-446e-870b-691607cd7a63"
      },
      "source": [
        "age_index"
      ],
      "execution_count": 55,
      "outputs": [
        {
          "output_type": "execute_result",
          "data": {
            "text/plain": [
              "{'10': 6, '20': 3, '30': 5, '40': 4, '50': 2, 'outlier': 1}"
            ]
          },
          "metadata": {
            "tags": []
          },
          "execution_count": 55
        }
      ]
    },
    {
      "cell_type": "markdown",
      "metadata": {
        "id": "TuaTSDq_DKRf"
      },
      "source": [
        "#### 3)Occupation"
      ]
    },
    {
      "cell_type": "code",
      "metadata": {
        "id": "TENlu9wKDIxq"
      },
      "source": [
        "occupation_list = user_df['occupation'].unique()\n",
        "occupation_index = {}\n",
        "for idx, occupation in enumerate(occupation_list):\n",
        "  occupation_index[occupation] = idx + 1"
      ],
      "execution_count": 56,
      "outputs": []
    },
    {
      "cell_type": "code",
      "metadata": {
        "colab": {
          "base_uri": "https://localhost:8080/"
        },
        "id": "GA3usEnDDNXe",
        "outputId": "5ccd4dbb-2b49-48f6-9fb2-637e9fd339c4"
      },
      "source": [
        "occupation_index"
      ],
      "execution_count": 57,
      "outputs": [
        {
          "output_type": "execute_result",
          "data": {
            "text/plain": [
              "{0: 10,\n",
              " 1: 7,\n",
              " 2: 17,\n",
              " 3: 11,\n",
              " 4: 13,\n",
              " 5: 19,\n",
              " 6: 21,\n",
              " 7: 4,\n",
              " 8: 15,\n",
              " 9: 6,\n",
              " 10: 1,\n",
              " 11: 14,\n",
              " 12: 8,\n",
              " 13: 20,\n",
              " 14: 12,\n",
              " 15: 3,\n",
              " 16: 2,\n",
              " 17: 9,\n",
              " 18: 18,\n",
              " 19: 16,\n",
              " 20: 5}"
            ]
          },
          "metadata": {
            "tags": []
          },
          "execution_count": 57
        }
      ]
    },
    {
      "cell_type": "markdown",
      "metadata": {
        "id": "ff8k5JMnDQ4y"
      },
      "source": [
        "#### Item Profiling - 영화 속성별 피쳐맵 생성 (장르, 년도)"
      ]
    },
    {
      "cell_type": "markdown",
      "metadata": {
        "id": "KAXhaoRiDZLg"
      },
      "source": [
        "#### 1) Genre"
      ]
    },
    {
      "cell_type": "code",
      "metadata": {
        "colab": {
          "base_uri": "https://localhost:8080/",
          "height": 204
        },
        "id": "skNqrG3UDO7v",
        "outputId": "47c70ca6-45c0-4f74-dd71-4f770939c364"
      },
      "source": [
        "merge_df.head()"
      ],
      "execution_count": 58,
      "outputs": [
        {
          "output_type": "execute_result",
          "data": {
            "text/html": [
              "<div>\n",
              "<style scoped>\n",
              "    .dataframe tbody tr th:only-of-type {\n",
              "        vertical-align: middle;\n",
              "    }\n",
              "\n",
              "    .dataframe tbody tr th {\n",
              "        vertical-align: top;\n",
              "    }\n",
              "\n",
              "    .dataframe thead th {\n",
              "        text-align: right;\n",
              "    }\n",
              "</style>\n",
              "<table border=\"1\" class=\"dataframe\">\n",
              "  <thead>\n",
              "    <tr style=\"text-align: right;\">\n",
              "      <th></th>\n",
              "      <th>movie_id</th>\n",
              "      <th>mean</th>\n",
              "      <th>count</th>\n",
              "      <th>title</th>\n",
              "      <th>genre</th>\n",
              "      <th>released_year_area</th>\n",
              "      <th>main_genre</th>\n",
              "    </tr>\n",
              "  </thead>\n",
              "  <tbody>\n",
              "    <tr>\n",
              "      <th>0</th>\n",
              "      <td>1</td>\n",
              "      <td>4.146846</td>\n",
              "      <td>2077</td>\n",
              "      <td>Toy Story (1995)</td>\n",
              "      <td>Animation|Children's|Comedy</td>\n",
              "      <td>1990</td>\n",
              "      <td>Animation</td>\n",
              "    </tr>\n",
              "    <tr>\n",
              "      <th>1</th>\n",
              "      <td>2</td>\n",
              "      <td>3.201141</td>\n",
              "      <td>701</td>\n",
              "      <td>Jumanji (1995)</td>\n",
              "      <td>Adventure|Children's|Fantasy</td>\n",
              "      <td>1990</td>\n",
              "      <td>Adventure</td>\n",
              "    </tr>\n",
              "    <tr>\n",
              "      <th>2</th>\n",
              "      <td>3</td>\n",
              "      <td>3.016736</td>\n",
              "      <td>478</td>\n",
              "      <td>Grumpier Old Men (1995)</td>\n",
              "      <td>Comedy|Romance</td>\n",
              "      <td>1990</td>\n",
              "      <td>Comedy</td>\n",
              "    </tr>\n",
              "    <tr>\n",
              "      <th>3</th>\n",
              "      <td>4</td>\n",
              "      <td>2.729412</td>\n",
              "      <td>170</td>\n",
              "      <td>Waiting to Exhale (1995)</td>\n",
              "      <td>Comedy|Drama</td>\n",
              "      <td>1990</td>\n",
              "      <td>Comedy</td>\n",
              "    </tr>\n",
              "    <tr>\n",
              "      <th>4</th>\n",
              "      <td>5</td>\n",
              "      <td>3.006757</td>\n",
              "      <td>296</td>\n",
              "      <td>Father of the Bride Part II (1995)</td>\n",
              "      <td>Comedy</td>\n",
              "      <td>1990</td>\n",
              "      <td>Comedy</td>\n",
              "    </tr>\n",
              "  </tbody>\n",
              "</table>\n",
              "</div>"
            ],
            "text/plain": [
              "   movie_id      mean  ...  released_year_area main_genre\n",
              "0         1  4.146846  ...                1990  Animation\n",
              "1         2  3.201141  ...                1990  Adventure\n",
              "2         3  3.016736  ...                1990     Comedy\n",
              "3         4  2.729412  ...                1990     Comedy\n",
              "4         5  3.006757  ...                1990     Comedy\n",
              "\n",
              "[5 rows x 7 columns]"
            ]
          },
          "metadata": {
            "tags": []
          },
          "execution_count": 58
        }
      ]
    },
    {
      "cell_type": "code",
      "metadata": {
        "id": "N_NoELVZDawO"
      },
      "source": [
        "genre_list = merge_df['main_genre'].unique()\n",
        "genre_index = {}\n",
        "for idx, genre in enumerate(genre_list):\n",
        "  genre_index[genre] = idx + 1"
      ],
      "execution_count": 59,
      "outputs": []
    },
    {
      "cell_type": "code",
      "metadata": {
        "colab": {
          "base_uri": "https://localhost:8080/"
        },
        "id": "XFG_DjEoDcPe",
        "outputId": "68cf8745-88d1-433e-ccf6-211e2c528a2c"
      },
      "source": [
        "genre_index"
      ],
      "execution_count": 60,
      "outputs": [
        {
          "output_type": "execute_result",
          "data": {
            "text/plain": [
              "{'Action': 4,\n",
              " 'Adventure': 2,\n",
              " 'Animation': 1,\n",
              " \"Children's\": 9,\n",
              " 'Comedy': 3,\n",
              " 'Crime': 7,\n",
              " 'Documentary': 10,\n",
              " 'Drama': 5,\n",
              " 'Fantasy': 17,\n",
              " 'Film-Noir': 15,\n",
              " 'Horror': 12,\n",
              " 'Musical': 18,\n",
              " 'Mystery': 14,\n",
              " 'Romance': 8,\n",
              " 'Sci-Fi': 11,\n",
              " 'Thriller': 6,\n",
              " 'War': 16,\n",
              " 'Western': 13}"
            ]
          },
          "metadata": {
            "tags": []
          },
          "execution_count": 60
        }
      ]
    },
    {
      "cell_type": "markdown",
      "metadata": {
        "id": "ho0SGrg2DdtW"
      },
      "source": [
        "#### 2) Year"
      ]
    },
    {
      "cell_type": "code",
      "metadata": {
        "id": "W1bX1ZzhDc0H"
      },
      "source": [
        "year_list = merge_df['released_year_area'].unique()\n",
        "year_index = {}\n",
        "for idx, year in enumerate(year_list):\n",
        "  year_index[year] = idx + 1"
      ],
      "execution_count": 61,
      "outputs": []
    },
    {
      "cell_type": "code",
      "metadata": {
        "colab": {
          "base_uri": "https://localhost:8080/"
        },
        "id": "lQN5HiVHDfoq",
        "outputId": "878f94b9-660b-41d8-acd0-46906a205fb6"
      },
      "source": [
        "year_index"
      ],
      "execution_count": 62,
      "outputs": [
        {
          "output_type": "execute_result",
          "data": {
            "text/plain": [
              "{'1910': 9,\n",
              " '1920': 8,\n",
              " '1930': 5,\n",
              " '1940': 6,\n",
              " '1950': 7,\n",
              " '1960': 4,\n",
              " '1970': 2,\n",
              " '1980': 3,\n",
              " '1990': 1,\n",
              " '2000': 10}"
            ]
          },
          "metadata": {
            "tags": []
          },
          "execution_count": 62
        }
      ]
    },
    {
      "cell_type": "markdown",
      "metadata": {
        "id": "BQilj5EFDqU0"
      },
      "source": [
        "### Context Profiling - 특정 시간 기준 유저 행동 EDA (시청한 영화 정보, 시청한 영화 점수 분포)"
      ]
    },
    {
      "cell_type": "code",
      "metadata": {
        "colab": {
          "base_uri": "https://localhost:8080/",
          "height": 204
        },
        "id": "VYv_HybnDhW0",
        "outputId": "fbdb6123-d87a-4db1-f424-5bf929ec78bf"
      },
      "source": [
        "train_df.head()"
      ],
      "execution_count": 63,
      "outputs": [
        {
          "output_type": "execute_result",
          "data": {
            "text/html": [
              "<div>\n",
              "<style scoped>\n",
              "    .dataframe tbody tr th:only-of-type {\n",
              "        vertical-align: middle;\n",
              "    }\n",
              "\n",
              "    .dataframe tbody tr th {\n",
              "        vertical-align: top;\n",
              "    }\n",
              "\n",
              "    .dataframe thead th {\n",
              "        text-align: right;\n",
              "    }\n",
              "</style>\n",
              "<table border=\"1\" class=\"dataframe\">\n",
              "  <thead>\n",
              "    <tr style=\"text-align: right;\">\n",
              "      <th></th>\n",
              "      <th>user_id</th>\n",
              "      <th>movie_id</th>\n",
              "      <th>rating</th>\n",
              "      <th>time</th>\n",
              "    </tr>\n",
              "  </thead>\n",
              "  <tbody>\n",
              "    <tr>\n",
              "      <th>94507</th>\n",
              "      <td>635</td>\n",
              "      <td>1251</td>\n",
              "      <td>4</td>\n",
              "      <td>975768620</td>\n",
              "    </tr>\n",
              "    <tr>\n",
              "      <th>94513</th>\n",
              "      <td>635</td>\n",
              "      <td>3948</td>\n",
              "      <td>4</td>\n",
              "      <td>975768294</td>\n",
              "    </tr>\n",
              "    <tr>\n",
              "      <th>94518</th>\n",
              "      <td>635</td>\n",
              "      <td>1270</td>\n",
              "      <td>4</td>\n",
              "      <td>975768106</td>\n",
              "    </tr>\n",
              "    <tr>\n",
              "      <th>94519</th>\n",
              "      <td>635</td>\n",
              "      <td>1279</td>\n",
              "      <td>5</td>\n",
              "      <td>975768520</td>\n",
              "    </tr>\n",
              "    <tr>\n",
              "      <th>94522</th>\n",
              "      <td>635</td>\n",
              "      <td>1286</td>\n",
              "      <td>4</td>\n",
              "      <td>975768106</td>\n",
              "    </tr>\n",
              "  </tbody>\n",
              "</table>\n",
              "</div>"
            ],
            "text/plain": [
              "       user_id  movie_id  rating       time\n",
              "94507      635      1251       4  975768620\n",
              "94513      635      3948       4  975768294\n",
              "94518      635      1270       4  975768106\n",
              "94519      635      1279       5  975768520\n",
              "94522      635      1286       4  975768106"
            ]
          },
          "metadata": {
            "tags": []
          },
          "execution_count": 63
        }
      ]
    },
    {
      "cell_type": "code",
      "metadata": {
        "id": "mF9KMeI3DsUd"
      },
      "source": [
        "train_df = pd.merge(train_df, movie_df, on='movie_id')\n",
        "train_df = pd.merge(train_df, user_df, on='user_id')"
      ],
      "execution_count": 64,
      "outputs": []
    },
    {
      "cell_type": "code",
      "metadata": {
        "colab": {
          "base_uri": "https://localhost:8080/",
          "height": 204
        },
        "id": "o1z_E9KwDtgB",
        "outputId": "9610c917-1911-41ee-f42f-03d4663d20ba"
      },
      "source": [
        "train_df.head()"
      ],
      "execution_count": 65,
      "outputs": [
        {
          "output_type": "execute_result",
          "data": {
            "text/html": [
              "<div>\n",
              "<style scoped>\n",
              "    .dataframe tbody tr th:only-of-type {\n",
              "        vertical-align: middle;\n",
              "    }\n",
              "\n",
              "    .dataframe tbody tr th {\n",
              "        vertical-align: top;\n",
              "    }\n",
              "\n",
              "    .dataframe thead th {\n",
              "        text-align: right;\n",
              "    }\n",
              "</style>\n",
              "<table border=\"1\" class=\"dataframe\">\n",
              "  <thead>\n",
              "    <tr style=\"text-align: right;\">\n",
              "      <th></th>\n",
              "      <th>user_id</th>\n",
              "      <th>movie_id</th>\n",
              "      <th>rating</th>\n",
              "      <th>time</th>\n",
              "      <th>title</th>\n",
              "      <th>genre</th>\n",
              "      <th>released_year_area</th>\n",
              "      <th>main_genre</th>\n",
              "      <th>gender</th>\n",
              "      <th>age</th>\n",
              "      <th>occupation</th>\n",
              "      <th>zipcode</th>\n",
              "      <th>age_bucket</th>\n",
              "    </tr>\n",
              "  </thead>\n",
              "  <tbody>\n",
              "    <tr>\n",
              "      <th>0</th>\n",
              "      <td>635</td>\n",
              "      <td>1251</td>\n",
              "      <td>4</td>\n",
              "      <td>975768620</td>\n",
              "      <td>8 1/2 (1963)</td>\n",
              "      <td>Drama</td>\n",
              "      <td>1960</td>\n",
              "      <td>Drama</td>\n",
              "      <td>M</td>\n",
              "      <td>56</td>\n",
              "      <td>17</td>\n",
              "      <td>33785</td>\n",
              "      <td>50</td>\n",
              "    </tr>\n",
              "    <tr>\n",
              "      <th>1</th>\n",
              "      <td>635</td>\n",
              "      <td>3948</td>\n",
              "      <td>4</td>\n",
              "      <td>975768294</td>\n",
              "      <td>Meet the Parents (2000)</td>\n",
              "      <td>Comedy</td>\n",
              "      <td>2000</td>\n",
              "      <td>Comedy</td>\n",
              "      <td>M</td>\n",
              "      <td>56</td>\n",
              "      <td>17</td>\n",
              "      <td>33785</td>\n",
              "      <td>50</td>\n",
              "    </tr>\n",
              "    <tr>\n",
              "      <th>2</th>\n",
              "      <td>635</td>\n",
              "      <td>1270</td>\n",
              "      <td>4</td>\n",
              "      <td>975768106</td>\n",
              "      <td>Back to the Future (1985)</td>\n",
              "      <td>Comedy|Sci-Fi</td>\n",
              "      <td>1980</td>\n",
              "      <td>Comedy</td>\n",
              "      <td>M</td>\n",
              "      <td>56</td>\n",
              "      <td>17</td>\n",
              "      <td>33785</td>\n",
              "      <td>50</td>\n",
              "    </tr>\n",
              "    <tr>\n",
              "      <th>3</th>\n",
              "      <td>635</td>\n",
              "      <td>1279</td>\n",
              "      <td>5</td>\n",
              "      <td>975768520</td>\n",
              "      <td>Night on Earth (1991)</td>\n",
              "      <td>Comedy|Drama</td>\n",
              "      <td>1990</td>\n",
              "      <td>Comedy</td>\n",
              "      <td>M</td>\n",
              "      <td>56</td>\n",
              "      <td>17</td>\n",
              "      <td>33785</td>\n",
              "      <td>50</td>\n",
              "    </tr>\n",
              "    <tr>\n",
              "      <th>4</th>\n",
              "      <td>635</td>\n",
              "      <td>1286</td>\n",
              "      <td>4</td>\n",
              "      <td>975768106</td>\n",
              "      <td>Somewhere in Time (1980)</td>\n",
              "      <td>Drama|Romance</td>\n",
              "      <td>1980</td>\n",
              "      <td>Drama</td>\n",
              "      <td>M</td>\n",
              "      <td>56</td>\n",
              "      <td>17</td>\n",
              "      <td>33785</td>\n",
              "      <td>50</td>\n",
              "    </tr>\n",
              "  </tbody>\n",
              "</table>\n",
              "</div>"
            ],
            "text/plain": [
              "   user_id  movie_id  rating       time  ... age occupation zipcode age_bucket\n",
              "0      635      1251       4  975768620  ...  56         17   33785         50\n",
              "1      635      3948       4  975768294  ...  56         17   33785         50\n",
              "2      635      1270       4  975768106  ...  56         17   33785         50\n",
              "3      635      1279       5  975768520  ...  56         17   33785         50\n",
              "4      635      1286       4  975768106  ...  56         17   33785         50\n",
              "\n",
              "[5 rows x 13 columns]"
            ]
          },
          "metadata": {
            "tags": []
          },
          "execution_count": 65
        }
      ]
    },
    {
      "cell_type": "code",
      "metadata": {
        "colab": {
          "base_uri": "https://localhost:8080/",
          "height": 336
        },
        "id": "4M-Mx_DlDvCv",
        "outputId": "930634b5-79ce-4ab3-e969-d1c6c879c386"
      },
      "source": [
        "# 시청한 영화 정보 탐색\n",
        "released_year_area = train_df['released_year_area'].value_counts().sort_index()\n",
        "sns.barplot(released_year_area.index, released_year_area.values)"
      ],
      "execution_count": 66,
      "outputs": [
        {
          "output_type": "stream",
          "text": [
            "/usr/local/lib/python3.7/dist-packages/seaborn/_decorators.py:43: FutureWarning: Pass the following variables as keyword args: x, y. From version 0.12, the only valid positional argument will be `data`, and passing other arguments without an explicit keyword will result in an error or misinterpretation.\n",
            "  FutureWarning\n"
          ],
          "name": "stderr"
        },
        {
          "output_type": "execute_result",
          "data": {
            "text/plain": [
              "<matplotlib.axes._subplots.AxesSubplot at 0x7fa909ffd850>"
            ]
          },
          "metadata": {
            "tags": []
          },
          "execution_count": 66
        },
        {
          "output_type": "display_data",
          "data": {
            "image/png": "[encoded data removed]",
            "text/plain": [
              "<Figure size 432x288 with 1 Axes>"
            ]
          },
          "metadata": {
            "tags": [],
            "needs_background": "light"
          }
        }
      ]
    },
    {
      "cell_type": "code",
      "metadata": {
        "colab": {
          "base_uri": "https://localhost:8080/"
        },
        "id": "snvDPR5XDytT",
        "outputId": "d20f7f3a-d336-4a8b-8b58-ddc8396711c9"
      },
      "source": [
        "train_df['main_genre'].value_counts()"
      ],
      "execution_count": 67,
      "outputs": [
        {
          "output_type": "execute_result",
          "data": {
            "text/plain": [
              "Comedy         219077\n",
              "Action         210721\n",
              "Drama          163949\n",
              "Horror          36100\n",
              "Adventure       35315\n",
              "Crime           30569\n",
              "Animation       29121\n",
              "Children's      17088\n",
              "Thriller        13974\n",
              "Sci-Fi           9144\n",
              "Mystery          8229\n",
              "Film-Noir        7742\n",
              "Musical          5600\n",
              "Documentary      5283\n",
              "Western          4654\n",
              "Romance          2122\n",
              "War               809\n",
              "Fantasy           667\n",
              "Name: main_genre, dtype: int64"
            ]
          },
          "metadata": {
            "tags": []
          },
          "execution_count": 67
        }
      ]
    },
    {
      "cell_type": "code",
      "metadata": {
        "colab": {
          "base_uri": "https://localhost:8080/",
          "height": 282
        },
        "id": "iquJJqvDD2Pq",
        "outputId": "ca5afe6e-3e31-4945-a3e6-cbb8b2a7efc3"
      },
      "source": [
        "# 시청한 영화 점수 분포 탐색\n",
        "train_df['rating'].hist()"
      ],
      "execution_count": 68,
      "outputs": [
        {
          "output_type": "execute_result",
          "data": {
            "text/plain": [
              "<matplotlib.axes._subplots.AxesSubplot at 0x7fa909c791d0>"
            ]
          },
          "metadata": {
            "tags": []
          },
          "execution_count": 68
        },
        {
          "output_type": "display_data",
          "data": {
            "image/png": "[encoded data removed]",
            "text/plain": [
              "<Figure size 432x288 with 1 Axes>"
            ]
          },
          "metadata": {
            "tags": [],
            "needs_background": "light"
          }
        }
      ]
    },
    {
      "cell_type": "markdown",
      "metadata": {
        "id": "t7l2ncS1D5UV"
      },
      "source": [
        "### Feature Mapping - Profiling 피처맵 맵핑"
      ]
    },
    {
      "cell_type": "code",
      "metadata": {
        "colab": {
          "base_uri": "https://localhost:8080/",
          "height": 204
        },
        "id": "oGg0kbyrD3kc",
        "outputId": "30952395-6e7f-413e-d435-638a1dba7c77"
      },
      "source": [
        "train_df.head()"
      ],
      "execution_count": 69,
      "outputs": [
        {
          "output_type": "execute_result",
          "data": {
            "text/html": [
              "<div>\n",
              "<style scoped>\n",
              "    .dataframe tbody tr th:only-of-type {\n",
              "        vertical-align: middle;\n",
              "    }\n",
              "\n",
              "    .dataframe tbody tr th {\n",
              "        vertical-align: top;\n",
              "    }\n",
              "\n",
              "    .dataframe thead th {\n",
              "        text-align: right;\n",
              "    }\n",
              "</style>\n",
              "<table border=\"1\" class=\"dataframe\">\n",
              "  <thead>\n",
              "    <tr style=\"text-align: right;\">\n",
              "      <th></th>\n",
              "      <th>user_id</th>\n",
              "      <th>movie_id</th>\n",
              "      <th>rating</th>\n",
              "      <th>time</th>\n",
              "      <th>title</th>\n",
              "      <th>genre</th>\n",
              "      <th>released_year_area</th>\n",
              "      <th>main_genre</th>\n",
              "      <th>gender</th>\n",
              "      <th>age</th>\n",
              "      <th>occupation</th>\n",
              "      <th>zipcode</th>\n",
              "      <th>age_bucket</th>\n",
              "    </tr>\n",
              "  </thead>\n",
              "  <tbody>\n",
              "    <tr>\n",
              "      <th>0</th>\n",
              "      <td>635</td>\n",
              "      <td>1251</td>\n",
              "      <td>4</td>\n",
              "      <td>975768620</td>\n",
              "      <td>8 1/2 (1963)</td>\n",
              "      <td>Drama</td>\n",
              "      <td>1960</td>\n",
              "      <td>Drama</td>\n",
              "      <td>M</td>\n",
              "      <td>56</td>\n",
              "      <td>17</td>\n",
              "      <td>33785</td>\n",
              "      <td>50</td>\n",
              "    </tr>\n",
              "    <tr>\n",
              "      <th>1</th>\n",
              "      <td>635</td>\n",
              "      <td>3948</td>\n",
              "      <td>4</td>\n",
              "      <td>975768294</td>\n",
              "      <td>Meet the Parents (2000)</td>\n",
              "      <td>Comedy</td>\n",
              "      <td>2000</td>\n",
              "      <td>Comedy</td>\n",
              "      <td>M</td>\n",
              "      <td>56</td>\n",
              "      <td>17</td>\n",
              "      <td>33785</td>\n",
              "      <td>50</td>\n",
              "    </tr>\n",
              "    <tr>\n",
              "      <th>2</th>\n",
              "      <td>635</td>\n",
              "      <td>1270</td>\n",
              "      <td>4</td>\n",
              "      <td>975768106</td>\n",
              "      <td>Back to the Future (1985)</td>\n",
              "      <td>Comedy|Sci-Fi</td>\n",
              "      <td>1980</td>\n",
              "      <td>Comedy</td>\n",
              "      <td>M</td>\n",
              "      <td>56</td>\n",
              "      <td>17</td>\n",
              "      <td>33785</td>\n",
              "      <td>50</td>\n",
              "    </tr>\n",
              "    <tr>\n",
              "      <th>3</th>\n",
              "      <td>635</td>\n",
              "      <td>1279</td>\n",
              "      <td>5</td>\n",
              "      <td>975768520</td>\n",
              "      <td>Night on Earth (1991)</td>\n",
              "      <td>Comedy|Drama</td>\n",
              "      <td>1990</td>\n",
              "      <td>Comedy</td>\n",
              "      <td>M</td>\n",
              "      <td>56</td>\n",
              "      <td>17</td>\n",
              "      <td>33785</td>\n",
              "      <td>50</td>\n",
              "    </tr>\n",
              "    <tr>\n",
              "      <th>4</th>\n",
              "      <td>635</td>\n",
              "      <td>1286</td>\n",
              "      <td>4</td>\n",
              "      <td>975768106</td>\n",
              "      <td>Somewhere in Time (1980)</td>\n",
              "      <td>Drama|Romance</td>\n",
              "      <td>1980</td>\n",
              "      <td>Drama</td>\n",
              "      <td>M</td>\n",
              "      <td>56</td>\n",
              "      <td>17</td>\n",
              "      <td>33785</td>\n",
              "      <td>50</td>\n",
              "    </tr>\n",
              "  </tbody>\n",
              "</table>\n",
              "</div>"
            ],
            "text/plain": [
              "   user_id  movie_id  rating       time  ... age occupation zipcode age_bucket\n",
              "0      635      1251       4  975768620  ...  56         17   33785         50\n",
              "1      635      3948       4  975768294  ...  56         17   33785         50\n",
              "2      635      1270       4  975768106  ...  56         17   33785         50\n",
              "3      635      1279       5  975768520  ...  56         17   33785         50\n",
              "4      635      1286       4  975768106  ...  56         17   33785         50\n",
              "\n",
              "[5 rows x 13 columns]"
            ]
          },
          "metadata": {
            "tags": []
          },
          "execution_count": 69
        }
      ]
    },
    {
      "cell_type": "code",
      "metadata": {
        "id": "-7z2JHp2D76K"
      },
      "source": [
        "train_df = train_df[['user_id', 'movie_id', 'rating', 'released_year_area', 'main_genre', 'gender', 'occupation', 'age_bucket']]\n",
        "train_df['released_year_area'] = train_df['released_year_area'].apply(lambda x: year_index[x])\n",
        "train_df['main_genre'] = train_df['main_genre'].apply(lambda x: genre_index[x])\n",
        "train_df['gender'] = train_df['gender'].apply(lambda x: gender_index[x])\n",
        "train_df['occupation'] = train_df['occupation'].apply(lambda x: occupation_index[x])\n",
        "train_df['age_bucket'] = train_df['age_bucket'].apply(lambda x: age_index[x])"
      ],
      "execution_count": 70,
      "outputs": []
    },
    {
      "cell_type": "code",
      "metadata": {
        "colab": {
          "base_uri": "https://localhost:8080/",
          "height": 204
        },
        "id": "mDmowQKYD_yS",
        "outputId": "b274edfb-1fe3-4680-d2d5-b6f21846bc7d"
      },
      "source": [
        "train_df.head()"
      ],
      "execution_count": 71,
      "outputs": [
        {
          "output_type": "execute_result",
          "data": {
            "text/html": [
              "<div>\n",
              "<style scoped>\n",
              "    .dataframe tbody tr th:only-of-type {\n",
              "        vertical-align: middle;\n",
              "    }\n",
              "\n",
              "    .dataframe tbody tr th {\n",
              "        vertical-align: top;\n",
              "    }\n",
              "\n",
              "    .dataframe thead th {\n",
              "        text-align: right;\n",
              "    }\n",
              "</style>\n",
              "<table border=\"1\" class=\"dataframe\">\n",
              "  <thead>\n",
              "    <tr style=\"text-align: right;\">\n",
              "      <th></th>\n",
              "      <th>user_id</th>\n",
              "      <th>movie_id</th>\n",
              "      <th>rating</th>\n",
              "      <th>released_year_area</th>\n",
              "      <th>main_genre</th>\n",
              "      <th>gender</th>\n",
              "      <th>occupation</th>\n",
              "      <th>age_bucket</th>\n",
              "    </tr>\n",
              "  </thead>\n",
              "  <tbody>\n",
              "    <tr>\n",
              "      <th>0</th>\n",
              "      <td>635</td>\n",
              "      <td>1251</td>\n",
              "      <td>4</td>\n",
              "      <td>4</td>\n",
              "      <td>5</td>\n",
              "      <td>2</td>\n",
              "      <td>9</td>\n",
              "      <td>2</td>\n",
              "    </tr>\n",
              "    <tr>\n",
              "      <th>1</th>\n",
              "      <td>635</td>\n",
              "      <td>3948</td>\n",
              "      <td>4</td>\n",
              "      <td>10</td>\n",
              "      <td>3</td>\n",
              "      <td>2</td>\n",
              "      <td>9</td>\n",
              "      <td>2</td>\n",
              "    </tr>\n",
              "    <tr>\n",
              "      <th>2</th>\n",
              "      <td>635</td>\n",
              "      <td>1270</td>\n",
              "      <td>4</td>\n",
              "      <td>3</td>\n",
              "      <td>3</td>\n",
              "      <td>2</td>\n",
              "      <td>9</td>\n",
              "      <td>2</td>\n",
              "    </tr>\n",
              "    <tr>\n",
              "      <th>3</th>\n",
              "      <td>635</td>\n",
              "      <td>1279</td>\n",
              "      <td>5</td>\n",
              "      <td>1</td>\n",
              "      <td>3</td>\n",
              "      <td>2</td>\n",
              "      <td>9</td>\n",
              "      <td>2</td>\n",
              "    </tr>\n",
              "    <tr>\n",
              "      <th>4</th>\n",
              "      <td>635</td>\n",
              "      <td>1286</td>\n",
              "      <td>4</td>\n",
              "      <td>3</td>\n",
              "      <td>5</td>\n",
              "      <td>2</td>\n",
              "      <td>9</td>\n",
              "      <td>2</td>\n",
              "    </tr>\n",
              "  </tbody>\n",
              "</table>\n",
              "</div>"
            ],
            "text/plain": [
              "   user_id  movie_id  rating  ...  gender  occupation  age_bucket\n",
              "0      635      1251       4  ...       2           9           2\n",
              "1      635      3948       4  ...       2           9           2\n",
              "2      635      1270       4  ...       2           9           2\n",
              "3      635      1279       5  ...       2           9           2\n",
              "4      635      1286       4  ...       2           9           2\n",
              "\n",
              "[5 rows x 8 columns]"
            ]
          },
          "metadata": {
            "tags": []
          },
          "execution_count": 71
        }
      ]
    },
    {
      "cell_type": "code",
      "metadata": {
        "colab": {
          "base_uri": "https://localhost:8080/",
          "height": 238
        },
        "id": "7f7kI8yMEBJd",
        "outputId": "d2e90786-6d14-4002-9520-afc72687e676"
      },
      "source": [
        "test_df = pd.merge(test_df, movie_df, on='movie_id')\n",
        "test_df = pd.merge(test_df, user_df, on='user_id')\n",
        "test_df.head()"
      ],
      "execution_count": 72,
      "outputs": [
        {
          "output_type": "execute_result",
          "data": {
            "text/html": [
              "<div>\n",
              "<style scoped>\n",
              "    .dataframe tbody tr th:only-of-type {\n",
              "        vertical-align: middle;\n",
              "    }\n",
              "\n",
              "    .dataframe tbody tr th {\n",
              "        vertical-align: top;\n",
              "    }\n",
              "\n",
              "    .dataframe thead th {\n",
              "        text-align: right;\n",
              "    }\n",
              "</style>\n",
              "<table border=\"1\" class=\"dataframe\">\n",
              "  <thead>\n",
              "    <tr style=\"text-align: right;\">\n",
              "      <th></th>\n",
              "      <th>user_id</th>\n",
              "      <th>movie_id</th>\n",
              "      <th>rating</th>\n",
              "      <th>time</th>\n",
              "      <th>title</th>\n",
              "      <th>genre</th>\n",
              "      <th>released_year_area</th>\n",
              "      <th>main_genre</th>\n",
              "      <th>gender</th>\n",
              "      <th>age</th>\n",
              "      <th>occupation</th>\n",
              "      <th>zipcode</th>\n",
              "      <th>age_bucket</th>\n",
              "    </tr>\n",
              "  </thead>\n",
              "  <tbody>\n",
              "    <tr>\n",
              "      <th>0</th>\n",
              "      <td>1</td>\n",
              "      <td>1193</td>\n",
              "      <td>5</td>\n",
              "      <td>978300760</td>\n",
              "      <td>One Flew Over the Cuckoo's Nest (1975)</td>\n",
              "      <td>Drama</td>\n",
              "      <td>1970</td>\n",
              "      <td>Drama</td>\n",
              "      <td>F</td>\n",
              "      <td>1</td>\n",
              "      <td>10</td>\n",
              "      <td>48067</td>\n",
              "      <td>outlier</td>\n",
              "    </tr>\n",
              "    <tr>\n",
              "      <th>1</th>\n",
              "      <td>1</td>\n",
              "      <td>661</td>\n",
              "      <td>3</td>\n",
              "      <td>978302109</td>\n",
              "      <td>James and the Giant Peach (1996)</td>\n",
              "      <td>Animation|Children's|Musical</td>\n",
              "      <td>1990</td>\n",
              "      <td>Animation</td>\n",
              "      <td>F</td>\n",
              "      <td>1</td>\n",
              "      <td>10</td>\n",
              "      <td>48067</td>\n",
              "      <td>outlier</td>\n",
              "    </tr>\n",
              "    <tr>\n",
              "      <th>2</th>\n",
              "      <td>1</td>\n",
              "      <td>914</td>\n",
              "      <td>3</td>\n",
              "      <td>978301968</td>\n",
              "      <td>My Fair Lady (1964)</td>\n",
              "      <td>Musical|Romance</td>\n",
              "      <td>1960</td>\n",
              "      <td>Musical</td>\n",
              "      <td>F</td>\n",
              "      <td>1</td>\n",
              "      <td>10</td>\n",
              "      <td>48067</td>\n",
              "      <td>outlier</td>\n",
              "    </tr>\n",
              "    <tr>\n",
              "      <th>3</th>\n",
              "      <td>1</td>\n",
              "      <td>3408</td>\n",
              "      <td>4</td>\n",
              "      <td>978300275</td>\n",
              "      <td>Erin Brockovich (2000)</td>\n",
              "      <td>Drama</td>\n",
              "      <td>2000</td>\n",
              "      <td>Drama</td>\n",
              "      <td>F</td>\n",
              "      <td>1</td>\n",
              "      <td>10</td>\n",
              "      <td>48067</td>\n",
              "      <td>outlier</td>\n",
              "    </tr>\n",
              "    <tr>\n",
              "      <th>4</th>\n",
              "      <td>1</td>\n",
              "      <td>2355</td>\n",
              "      <td>5</td>\n",
              "      <td>978824291</td>\n",
              "      <td>Bug's Life, A (1998)</td>\n",
              "      <td>Animation|Children's|Comedy</td>\n",
              "      <td>1990</td>\n",
              "      <td>Animation</td>\n",
              "      <td>F</td>\n",
              "      <td>1</td>\n",
              "      <td>10</td>\n",
              "      <td>48067</td>\n",
              "      <td>outlier</td>\n",
              "    </tr>\n",
              "  </tbody>\n",
              "</table>\n",
              "</div>"
            ],
            "text/plain": [
              "   user_id  movie_id  rating       time  ... age occupation zipcode age_bucket\n",
              "0        1      1193       5  978300760  ...   1         10   48067    outlier\n",
              "1        1       661       3  978302109  ...   1         10   48067    outlier\n",
              "2        1       914       3  978301968  ...   1         10   48067    outlier\n",
              "3        1      3408       4  978300275  ...   1         10   48067    outlier\n",
              "4        1      2355       5  978824291  ...   1         10   48067    outlier\n",
              "\n",
              "[5 rows x 13 columns]"
            ]
          },
          "metadata": {
            "tags": []
          },
          "execution_count": 72
        }
      ]
    },
    {
      "cell_type": "code",
      "metadata": {
        "id": "-_hDGSapELdv"
      },
      "source": [
        "test_df = test_df[['user_id', 'movie_id', 'rating', 'released_year_area', 'main_genre', 'gender', 'occupation', 'age_bucket']]\n",
        "test_df['released_year_area'] = test_df['released_year_area'].apply(lambda x: year_index[x])\n",
        "test_df['main_genre'] = test_df['main_genre'].apply(lambda x: genre_index[x])\n",
        "test_df['gender'] = test_df['gender'].apply(lambda x: gender_index[x])\n",
        "test_df['occupation'] = test_df['occupation'].apply(lambda x: occupation_index[x])\n",
        "test_df['age_bucket'] = test_df['age_bucket'].apply(lambda x: age_index[x])"
      ],
      "execution_count": 73,
      "outputs": []
    },
    {
      "cell_type": "markdown",
      "metadata": {
        "id": "0SXr-HMQEVoB"
      },
      "source": [
        "### Binary Transformation - 평가 점수 기준으로 (0,1) 변환"
      ]
    },
    {
      "cell_type": "code",
      "metadata": {
        "colab": {
          "base_uri": "https://localhost:8080/",
          "height": 204
        },
        "id": "t-mu3pMdERf_",
        "outputId": "720d77a3-dc5c-455c-9c90-89934cf307fb"
      },
      "source": [
        "train_df.head()"
      ],
      "execution_count": 74,
      "outputs": [
        {
          "output_type": "execute_result",
          "data": {
            "text/html": [
              "<div>\n",
              "<style scoped>\n",
              "    .dataframe tbody tr th:only-of-type {\n",
              "        vertical-align: middle;\n",
              "    }\n",
              "\n",
              "    .dataframe tbody tr th {\n",
              "        vertical-align: top;\n",
              "    }\n",
              "\n",
              "    .dataframe thead th {\n",
              "        text-align: right;\n",
              "    }\n",
              "</style>\n",
              "<table border=\"1\" class=\"dataframe\">\n",
              "  <thead>\n",
              "    <tr style=\"text-align: right;\">\n",
              "      <th></th>\n",
              "      <th>user_id</th>\n",
              "      <th>movie_id</th>\n",
              "      <th>rating</th>\n",
              "      <th>released_year_area</th>\n",
              "      <th>main_genre</th>\n",
              "      <th>gender</th>\n",
              "      <th>occupation</th>\n",
              "      <th>age_bucket</th>\n",
              "    </tr>\n",
              "  </thead>\n",
              "  <tbody>\n",
              "    <tr>\n",
              "      <th>0</th>\n",
              "      <td>635</td>\n",
              "      <td>1251</td>\n",
              "      <td>4</td>\n",
              "      <td>4</td>\n",
              "      <td>5</td>\n",
              "      <td>2</td>\n",
              "      <td>9</td>\n",
              "      <td>2</td>\n",
              "    </tr>\n",
              "    <tr>\n",
              "      <th>1</th>\n",
              "      <td>635</td>\n",
              "      <td>3948</td>\n",
              "      <td>4</td>\n",
              "      <td>10</td>\n",
              "      <td>3</td>\n",
              "      <td>2</td>\n",
              "      <td>9</td>\n",
              "      <td>2</td>\n",
              "    </tr>\n",
              "    <tr>\n",
              "      <th>2</th>\n",
              "      <td>635</td>\n",
              "      <td>1270</td>\n",
              "      <td>4</td>\n",
              "      <td>3</td>\n",
              "      <td>3</td>\n",
              "      <td>2</td>\n",
              "      <td>9</td>\n",
              "      <td>2</td>\n",
              "    </tr>\n",
              "    <tr>\n",
              "      <th>3</th>\n",
              "      <td>635</td>\n",
              "      <td>1279</td>\n",
              "      <td>5</td>\n",
              "      <td>1</td>\n",
              "      <td>3</td>\n",
              "      <td>2</td>\n",
              "      <td>9</td>\n",
              "      <td>2</td>\n",
              "    </tr>\n",
              "    <tr>\n",
              "      <th>4</th>\n",
              "      <td>635</td>\n",
              "      <td>1286</td>\n",
              "      <td>4</td>\n",
              "      <td>3</td>\n",
              "      <td>5</td>\n",
              "      <td>2</td>\n",
              "      <td>9</td>\n",
              "      <td>2</td>\n",
              "    </tr>\n",
              "  </tbody>\n",
              "</table>\n",
              "</div>"
            ],
            "text/plain": [
              "   user_id  movie_id  rating  ...  gender  occupation  age_bucket\n",
              "0      635      1251       4  ...       2           9           2\n",
              "1      635      3948       4  ...       2           9           2\n",
              "2      635      1270       4  ...       2           9           2\n",
              "3      635      1279       5  ...       2           9           2\n",
              "4      635      1286       4  ...       2           9           2\n",
              "\n",
              "[5 rows x 8 columns]"
            ]
          },
          "metadata": {
            "tags": []
          },
          "execution_count": 74
        }
      ]
    },
    {
      "cell_type": "code",
      "metadata": {
        "colab": {
          "base_uri": "https://localhost:8080/",
          "height": 204
        },
        "id": "nNjJ-o5ZEXmP",
        "outputId": "1b18c791-010a-4aeb-bb99-97a1c0eaec7a"
      },
      "source": [
        "train_df['y'] = train_df['rating'].apply(lambda x: 1 if x >= 4 else 0)\n",
        "train_df.sample(10).head()"
      ],
      "execution_count": 75,
      "outputs": [
        {
          "output_type": "execute_result",
          "data": {
            "text/html": [
              "<div>\n",
              "<style scoped>\n",
              "    .dataframe tbody tr th:only-of-type {\n",
              "        vertical-align: middle;\n",
              "    }\n",
              "\n",
              "    .dataframe tbody tr th {\n",
              "        vertical-align: top;\n",
              "    }\n",
              "\n",
              "    .dataframe thead th {\n",
              "        text-align: right;\n",
              "    }\n",
              "</style>\n",
              "<table border=\"1\" class=\"dataframe\">\n",
              "  <thead>\n",
              "    <tr style=\"text-align: right;\">\n",
              "      <th></th>\n",
              "      <th>user_id</th>\n",
              "      <th>movie_id</th>\n",
              "      <th>rating</th>\n",
              "      <th>released_year_area</th>\n",
              "      <th>main_genre</th>\n",
              "      <th>gender</th>\n",
              "      <th>occupation</th>\n",
              "      <th>age_bucket</th>\n",
              "      <th>y</th>\n",
              "    </tr>\n",
              "  </thead>\n",
              "  <tbody>\n",
              "    <tr>\n",
              "      <th>195399</th>\n",
              "      <td>1671</td>\n",
              "      <td>831</td>\n",
              "      <td>4</td>\n",
              "      <td>1</td>\n",
              "      <td>5</td>\n",
              "      <td>2</td>\n",
              "      <td>10</td>\n",
              "      <td>5</td>\n",
              "      <td>1</td>\n",
              "    </tr>\n",
              "    <tr>\n",
              "      <th>373943</th>\n",
              "      <td>4021</td>\n",
              "      <td>736</td>\n",
              "      <td>4</td>\n",
              "      <td>1</td>\n",
              "      <td>4</td>\n",
              "      <td>2</td>\n",
              "      <td>5</td>\n",
              "      <td>2</td>\n",
              "      <td>1</td>\n",
              "    </tr>\n",
              "    <tr>\n",
              "      <th>759966</th>\n",
              "      <td>5734</td>\n",
              "      <td>1188</td>\n",
              "      <td>5</td>\n",
              "      <td>1</td>\n",
              "      <td>3</td>\n",
              "      <td>1</td>\n",
              "      <td>12</td>\n",
              "      <td>3</td>\n",
              "      <td>1</td>\n",
              "    </tr>\n",
              "    <tr>\n",
              "      <th>432800</th>\n",
              "      <td>4626</td>\n",
              "      <td>1307</td>\n",
              "      <td>5</td>\n",
              "      <td>3</td>\n",
              "      <td>3</td>\n",
              "      <td>2</td>\n",
              "      <td>12</td>\n",
              "      <td>3</td>\n",
              "      <td>1</td>\n",
              "    </tr>\n",
              "    <tr>\n",
              "      <th>307533</th>\n",
              "      <td>3336</td>\n",
              "      <td>2133</td>\n",
              "      <td>3</td>\n",
              "      <td>3</td>\n",
              "      <td>2</td>\n",
              "      <td>2</td>\n",
              "      <td>9</td>\n",
              "      <td>5</td>\n",
              "      <td>0</td>\n",
              "    </tr>\n",
              "  </tbody>\n",
              "</table>\n",
              "</div>"
            ],
            "text/plain": [
              "        user_id  movie_id  rating  ...  occupation  age_bucket  y\n",
              "195399     1671       831       4  ...          10           5  1\n",
              "373943     4021       736       4  ...           5           2  1\n",
              "759966     5734      1188       5  ...          12           3  1\n",
              "432800     4626      1307       5  ...          12           3  1\n",
              "307533     3336      2133       3  ...           9           5  0\n",
              "\n",
              "[5 rows x 9 columns]"
            ]
          },
          "metadata": {
            "tags": []
          },
          "execution_count": 75
        }
      ]
    },
    {
      "cell_type": "code",
      "metadata": {
        "id": "yK1aWtJTEYrl"
      },
      "source": [
        "test_df['y'] = test_df['rating'].apply(lambda x: 1 if x >= 4 else 0)"
      ],
      "execution_count": 76,
      "outputs": []
    },
    {
      "cell_type": "markdown",
      "metadata": {
        "id": "Dbhi4uRhEqbV"
      },
      "source": [
        "### Feature Vector 생성 - libsvm 포맷의 데이터셋 생성\n",
        "#### Sparse Vector in Linear Model\n",
        "\n",
        "    [Sparse Vector]\n",
        "    1. 0, 1로 값을 표현하는 벡터가 매우 희소한 상황\n",
        "    2. 아래 그림에서 3002개의 벡터 중, 1이 등장하는 벡터는 단 두개\n",
        "    3. Linear Model에서 Sparse 하다는 것은 이러한 상황을 의미\n",
        "\n",
        "![sparse](https://drive.google.com/uc?id=1SEeeAQofKs1vigsGkvrfBSCbsg5CjdUe)\n",
        "\n",
        "----\n",
        "\n",
        "    [Linear Model]\n",
        "    1. 입력 특성에 대한 선형 함수를 만들어 예측을 수행하는 모델\n",
        "    2. y = a1x1 + a2x2... 같은 방정식이라고 생각할 수 있음\n",
        "    3. 일반적인 랭킹 모델은 Linear Model로 마지막 추론을 하게 되어있음\n",
        "    4. x1, x2...가 바로 Sparse Vector를 의미함\n",
        "\n",
        "----\n",
        "\n",
        "    [libsvm 포맷]\n",
        "    1. \"index\":\"value\" 형태로 sparse vector를 표현하는 형태\n",
        "    2. 위 그림을 표현하면, \"1:1 3001:1\" 이 됨."
      ]
    },
    {
      "cell_type": "code",
      "metadata": {
        "id": "s32Q4h9QEm5B"
      },
      "source": [
        "col_len_dict = {'user_id': len(train_df['user_id'].unique()),\n",
        "                'movie_id': len(train_df['movie_id'].unique()),\n",
        "                'released_year_area': len(train_df['released_year_area'].unique()), \n",
        "                'main_genre': len(train_df['main_genre'].unique()), \n",
        "                'gender': len(train_df['gender'].unique()), \n",
        "                'occupation': len(train_df['occupation'].unique()),\n",
        "                'age_bucket': len(train_df['age_bucket'].unique())}\n",
        "col_accum_index_dict = {}\n",
        "cumulative = 0\n",
        "for key, value in col_len_dict.items():\n",
        "    col_accum_index_dict[key] = cumulative\n",
        "    cumulative = cumulative + value"
      ],
      "execution_count": 77,
      "outputs": []
    },
    {
      "cell_type": "code",
      "metadata": {
        "colab": {
          "base_uri": "https://localhost:8080/"
        },
        "id": "p2BN4ikdEvhK",
        "outputId": "82e996dd-974d-4855-ed92-ac59e718c049"
      },
      "source": [
        "col_accum_index_dict"
      ],
      "execution_count": 78,
      "outputs": [
        {
          "output_type": "execute_result",
          "data": {
            "text/plain": [
              "{'age_bucket': 9113,\n",
              " 'gender': 9090,\n",
              " 'main_genre': 9072,\n",
              " 'movie_id': 5400,\n",
              " 'occupation': 9092,\n",
              " 'released_year_area': 9062,\n",
              " 'user_id': 0}"
            ]
          },
          "metadata": {
            "tags": []
          },
          "execution_count": 78
        }
      ]
    },
    {
      "cell_type": "code",
      "metadata": {
        "colab": {
          "base_uri": "https://localhost:8080/",
          "height": 204
        },
        "id": "nau68ANaEw6X",
        "outputId": "5296e5c8-885f-4663-9491-7b0611095004"
      },
      "source": [
        "train_df.head()"
      ],
      "execution_count": 79,
      "outputs": [
        {
          "output_type": "execute_result",
          "data": {
            "text/html": [
              "<div>\n",
              "<style scoped>\n",
              "    .dataframe tbody tr th:only-of-type {\n",
              "        vertical-align: middle;\n",
              "    }\n",
              "\n",
              "    .dataframe tbody tr th {\n",
              "        vertical-align: top;\n",
              "    }\n",
              "\n",
              "    .dataframe thead th {\n",
              "        text-align: right;\n",
              "    }\n",
              "</style>\n",
              "<table border=\"1\" class=\"dataframe\">\n",
              "  <thead>\n",
              "    <tr style=\"text-align: right;\">\n",
              "      <th></th>\n",
              "      <th>user_id</th>\n",
              "      <th>movie_id</th>\n",
              "      <th>rating</th>\n",
              "      <th>released_year_area</th>\n",
              "      <th>main_genre</th>\n",
              "      <th>gender</th>\n",
              "      <th>occupation</th>\n",
              "      <th>age_bucket</th>\n",
              "      <th>y</th>\n",
              "    </tr>\n",
              "  </thead>\n",
              "  <tbody>\n",
              "    <tr>\n",
              "      <th>0</th>\n",
              "      <td>635</td>\n",
              "      <td>1251</td>\n",
              "      <td>4</td>\n",
              "      <td>4</td>\n",
              "      <td>5</td>\n",
              "      <td>2</td>\n",
              "      <td>9</td>\n",
              "      <td>2</td>\n",
              "      <td>1</td>\n",
              "    </tr>\n",
              "    <tr>\n",
              "      <th>1</th>\n",
              "      <td>635</td>\n",
              "      <td>3948</td>\n",
              "      <td>4</td>\n",
              "      <td>10</td>\n",
              "      <td>3</td>\n",
              "      <td>2</td>\n",
              "      <td>9</td>\n",
              "      <td>2</td>\n",
              "      <td>1</td>\n",
              "    </tr>\n",
              "    <tr>\n",
              "      <th>2</th>\n",
              "      <td>635</td>\n",
              "      <td>1270</td>\n",
              "      <td>4</td>\n",
              "      <td>3</td>\n",
              "      <td>3</td>\n",
              "      <td>2</td>\n",
              "      <td>9</td>\n",
              "      <td>2</td>\n",
              "      <td>1</td>\n",
              "    </tr>\n",
              "    <tr>\n",
              "      <th>3</th>\n",
              "      <td>635</td>\n",
              "      <td>1279</td>\n",
              "      <td>5</td>\n",
              "      <td>1</td>\n",
              "      <td>3</td>\n",
              "      <td>2</td>\n",
              "      <td>9</td>\n",
              "      <td>2</td>\n",
              "      <td>1</td>\n",
              "    </tr>\n",
              "    <tr>\n",
              "      <th>4</th>\n",
              "      <td>635</td>\n",
              "      <td>1286</td>\n",
              "      <td>4</td>\n",
              "      <td>3</td>\n",
              "      <td>5</td>\n",
              "      <td>2</td>\n",
              "      <td>9</td>\n",
              "      <td>2</td>\n",
              "      <td>1</td>\n",
              "    </tr>\n",
              "  </tbody>\n",
              "</table>\n",
              "</div>"
            ],
            "text/plain": [
              "   user_id  movie_id  rating  ...  occupation  age_bucket  y\n",
              "0      635      1251       4  ...           9           2  1\n",
              "1      635      3948       4  ...           9           2  1\n",
              "2      635      1270       4  ...           9           2  1\n",
              "3      635      1279       5  ...           9           2  1\n",
              "4      635      1286       4  ...           9           2  1\n",
              "\n",
              "[5 rows x 9 columns]"
            ]
          },
          "metadata": {
            "tags": []
          },
          "execution_count": 79
        }
      ]
    },
    {
      "cell_type": "code",
      "metadata": {
        "colab": {
          "base_uri": "https://localhost:8080/"
        },
        "id": "n6-I93IVEy4J",
        "outputId": "40160bc1-e371-4b3b-96c7-19827540fcbf"
      },
      "source": [
        "for idx, row in train_df.iterrows():\n",
        "  vec = []\n",
        "  label = row['y']\n",
        "  vec.append(str(label))\n",
        "  row = row.drop(labels=['rating'])\n",
        "  row = row.drop(labels=['y'])\n",
        "  for key, value in row.items():\n",
        "    col_idx = col_accum_index_dict[key] + value - 1\n",
        "    vec.append(str(col_idx) + \":\" + str(1))\n",
        "  print(\"%s\\n\" % \" \".join(vec))\n",
        "  break"
      ],
      "execution_count": 80,
      "outputs": [
        {
          "output_type": "stream",
          "text": [
            "1 634:1 6650:1 9065:1 9076:1 9091:1 9100:1 9114:1\n",
            "\n"
          ],
          "name": "stdout"
        }
      ]
    },
    {
      "cell_type": "markdown",
      "metadata": {
        "id": "fvUGFkAxGnWR"
      },
      "source": [
        "### 추천 랭킹 모델링 (Factorization Machine)"
      ]
    },
    {
      "cell_type": "markdown",
      "metadata": {
        "id": "rLWxJtTeGnOV"
      },
      "source": [
        "#### Factorization Machine\n",
        "\n",
        "![equation](https://img1.daumcdn.net/thumb/R1280x0/?scode=mtistory2&fname=https%3A%2F%2Fblog.kakaocdn.net%2Fdn%2FbRP7gn%2FbtqDw3LQxDB%2FXmWK8heUckUWpHx379UCM1%2Fimg.png)\n",
        "\n",
        "    [랭킹 모델의 형태와 역할]\n",
        "    1. Linear Regression, SVM처럼 동작하는 General predictor\n",
        "    2. 변수 간의 모든 pair-wise interaction을 계산하는 알고리즘\n",
        "    3. General predictor의 장점 + MF 알고리즘이 가지는 의미 단위 해석(latent factor)의 장점\n",
        "    4. sparse한 데이터셋을 가지고 있을 때 적합"
      ]
    },
    {
      "cell_type": "markdown",
      "metadata": {
        "id": "dz93q6OJH9hI"
      },
      "source": [
        "### 학습 데이터 생성 - 특정 시간 기준 Train/Test 데이터셋 생성"
      ]
    },
    {
      "cell_type": "code",
      "metadata": {
        "id": "3Ah5IGm9E0Ay"
      },
      "source": [
        "txt_file = open('train.txt', 'w')\n",
        "for idx, row in train_df.iterrows():\n",
        "  vec = []\n",
        "  label = row['y']\n",
        "  vec.append(str(label))\n",
        "  row = row.drop(labels=['rating'])\n",
        "  row = row.drop(labels=['y'])\n",
        "  for key, value in row.items():\n",
        "    col_idx = col_accum_index_dict[key] + value - 1\n",
        "    vec.append(str(col_idx) + \":\" + str(1))\n",
        "  txt_file.write(\"%s\\n\" % \" \".join(vec))\n",
        "txt_file.close()"
      ],
      "execution_count": 81,
      "outputs": []
    },
    {
      "cell_type": "code",
      "metadata": {
        "id": "vTmNfKv7H_R7"
      },
      "source": [
        "txt_file = open('test.txt', 'w')\n",
        "for idx, row in test_df.iterrows():\n",
        "  vec = []\n",
        "  label = row['y']\n",
        "  vec.append(str(label))\n",
        "  row = row.drop(labels=['rating'])\n",
        "  row = row.drop(labels=['y'])\n",
        "  for key, value in row.items():\n",
        "    col_idx = col_accum_index_dict[key] + value - 1\n",
        "    vec.append(str(col_idx) + \":\" + str(1))\n",
        "  txt_file.write(\"%s\\n\" % \" \".join(vec))\n",
        "txt_file.close()"
      ],
      "execution_count": 82,
      "outputs": []
    },
    {
      "cell_type": "markdown",
      "metadata": {
        "id": "0zLcM9qEWU3k"
      },
      "source": [
        "### 모델링 - FM Binary Classification 모델 학습"
      ]
    },
    {
      "cell_type": "code",
      "metadata": {
        "id": "s2KM03uzP_lp"
      },
      "source": [
        "import numpy as np\n",
        "from sklearn.metrics import roc_auc_score\n",
        "\n",
        "\n",
        "class FactorizationMachine():\n",
        "    \"\"\"\n",
        "    This Class is implementation of this paper : https://www.csie.ntu.edu.tw/~b97053/paper/Rendle2010FM.pdf\n",
        "    Just a example of FM Algorithm, not for production.\n",
        "    -----\n",
        "    Only simple methods are available.\n",
        "    e.g 1 : batch training, adagrad optimizer, parallel training are not supported.\n",
        "    e.g 2 : simple optimizer Stochastic Gradient Descent with L2 Regularization.\n",
        "    e.g 3 : using titanic dataset on local memory.\n",
        "    \"\"\"\n",
        "    def __init__(self, k, lr, l2_reg, l2_lambda, epoch, early_stop_window, train_data, valid_data):\n",
        "        \"\"\"\n",
        "        :param k: number of latent vector\n",
        "        :param lr: learning rate\n",
        "        :param l2_reg: bool parameter for L2 regularization\n",
        "        :param l2_lambda: lambda of L2 regularization\n",
        "        :param epoch: training epoch\n",
        "        :param train_data: path of train data\n",
        "        :param valid_data: path of valid data\n",
        "        \"\"\"\n",
        "        self._k = k\n",
        "        self._lr = lr\n",
        "        self._l2_reg = l2_reg\n",
        "        self._l2_lambda = l2_lambda\n",
        "        self._epoch = epoch\n",
        "        self._early_stop_window = early_stop_window\n",
        "        self._train_file_path = train_data\n",
        "        self._valid_file_path = valid_data\n",
        "        self._valid_loss_list = []\n",
        "\n",
        "    def _load_dataset(self):\n",
        "        \"\"\"\n",
        "        1. load dataset to memory from train/valid path\n",
        "        2. find max index in dataset for w's vector size\n",
        "        \"\"\"\n",
        "        # load data\n",
        "        train_file = open(self._train_file_path, 'r')\n",
        "        valid_file = open(self._valid_file_path, 'r')\n",
        "        self._train_data = train_file.read().split('\\n')\n",
        "        self._valid_data = valid_file.read().split('\\n')\n",
        "        train_file.close()\n",
        "        valid_file.close()\n",
        "\n",
        "        # find max index\n",
        "        self.feature_max_index = 0\n",
        "        print(\"Start to init FM vectors.\")\n",
        "        for row in self._train_data:\n",
        "            for element in row.split(\" \")[1:]:\n",
        "                index = int(element.split(\":\")[0])\n",
        "                if self.feature_max_index < index:\n",
        "                    self.feature_max_index = index\n",
        "\n",
        "        for row in self._valid_data:\n",
        "            for element in row.split(\" \")[1:]:\n",
        "                index = int(element.split(\":\")[0])\n",
        "                if self.feature_max_index < index:\n",
        "                    self.feature_max_index = index\n",
        "\n",
        "        # init FM vectors\n",
        "        self._init_vectors()\n",
        "        print(\"Finish init FM vectors.\")\n",
        "\n",
        "    def _init_vectors(self):\n",
        "        \"\"\"\n",
        "        1. initialize FM vectors\n",
        "        2. Conduct naive transformation libsvm format txt data to numpy training sample.\n",
        "        \"\"\"\n",
        "        self.w = np.random.randn(self.feature_max_index+1)\n",
        "        self.v = np.random.randn(self.feature_max_index+1, self._k)\n",
        "        self.train_x_data = []\n",
        "        self.train_y_data = np.zeros((len(self._train_data)-1))\n",
        "        self.valid_x_data = []\n",
        "        self.valid_y_data = np.zeros((len(self._valid_data)-1))\n",
        "\n",
        "        # make numpy dataset\n",
        "        for n, row in enumerate(self._train_data):\n",
        "            element = row.split(\" \")\n",
        "            if len(element) > 1:\n",
        "              self.train_y_data[n] = int(element[0])\n",
        "              self.train_x_data.append([np.array([int(pair.split(\":\")[0]) for pair in element[1:]]),\n",
        "                                        np.array([int(pair.split(\":\")[1]) for pair in element[1:]])])\n",
        "\n",
        "        for n, row in enumerate(self._valid_data):\n",
        "            element = row.split(\" \")\n",
        "            if len(element) > 1:\n",
        "              self.valid_y_data[n] = int(element[0])\n",
        "              self.valid_x_data.append([np.array([int(pair.split(\":\")[0]) for pair in element[1:]]),\n",
        "                                        np.array([int(pair.split(\":\")[1]) for pair in element[1:]])])\n",
        "\n",
        "    def train(self):\n",
        "        \"\"\"\n",
        "        Train FM model by Gradient Descent with L2 regularization\n",
        "        \"\"\"\n",
        "        self._load_dataset()\n",
        "        for epoch_num in range(1, self._epoch):\n",
        "            train_y_hat = self.predict(data=self.train_x_data)\n",
        "            valid_y_hat = self.predict(data=self.valid_x_data)\n",
        "            train_loss = self._get_loss(y_data=self.train_y_data, y_hat=train_y_hat)\n",
        "            valid_loss = self._get_loss(y_data=self.valid_y_data, y_hat=valid_y_hat)\n",
        "            train_auc = roc_auc_score(self.train_y_data, train_y_hat)\n",
        "            valid_auc = roc_auc_score(self.valid_y_data, valid_y_hat)\n",
        "            self._print_learning_info(epoch=epoch_num, train_loss=train_loss, valid_loss=valid_loss,\n",
        "                                      train_auc=train_auc, valid_auc=valid_auc)\n",
        "            if self._check_early_stop(valid_loss=valid_loss):\n",
        "                print(\"Early stop at epoch:\", epoch_num)\n",
        "                return 0\n",
        "\n",
        "            self._stochastic_gradient_descent(self.train_x_data, self.train_y_data)\n",
        "\n",
        "    def predict(self, data):\n",
        "        \"\"\"\n",
        "        Implementation of FM model's equation on O(kmd)\n",
        "        -----\n",
        "        Numpy array shape : (n, [index of md], [value of md])\n",
        "        md : none-zero feature\n",
        "        \"\"\"\n",
        "        num_data = len(data)\n",
        "        scores = np.zeros(num_data)\n",
        "        for n in range(num_data):\n",
        "            feat_idx = data[n][0]\n",
        "            val = data[n][1]\n",
        "\n",
        "            # linear feature score\n",
        "            linear_feature_score = np.sum(self.w[feat_idx] * val)\n",
        "\n",
        "            # factorized feature score\n",
        "            vx = self.v[feat_idx] * (val.reshape(-1, 1))\n",
        "            cross_sum = np.sum(vx, axis=0)\n",
        "            square_sum = np.sum(vx * vx, axis=0)\n",
        "            cross_feature_score = 0.5 * np.sum(np.square(cross_sum) - square_sum)\n",
        "\n",
        "            # Model's equation\n",
        "            scores[n] = linear_feature_score + cross_feature_score\n",
        "\n",
        "        # Sigmoid transformation for binary classification\n",
        "        scores = 1.0 / (1.0 + np.exp(-scores))\n",
        "        return scores\n",
        "\n",
        "    def _get_loss(self, y_data, y_hat):\n",
        "        \"\"\"\n",
        "        Calculate loss with L2 regularization (two type of coeficient - w,v)\n",
        "        \"\"\"\n",
        "        l2_norm = 0\n",
        "        if self._l2_reg:\n",
        "            w_norm = np.sqrt(np.sum(np.square(self.w)))\n",
        "            v_norm = np.sqrt(np.sum(np.square(self.v)))\n",
        "            l2_norm = self._l2_lambda * (w_norm + v_norm)\n",
        "        return -1 * np.sum( (y_data * np.log(y_hat)) + ((1 - y_data) * np.log(1 - y_hat)) ) + l2_norm\n",
        "\n",
        "    def _check_early_stop(self, valid_loss):\n",
        "        self._valid_loss_list.append(valid_loss)\n",
        "        if len(self._valid_loss_list) > 5:\n",
        "            prev_loss = self._valid_loss_list[len(self._valid_loss_list) - self._early_stop_window]\n",
        "            curr_loss = valid_loss\n",
        "            if prev_loss < curr_loss:\n",
        "                return True\n",
        "        return False\n",
        "\n",
        "    def _print_learning_info(self, epoch, train_loss, valid_loss, train_auc, valid_auc):\n",
        "        print(\"epoch:\", epoch, \"||\", \"train_loss:\", train_loss, \"||\", \"valid_loss:\", valid_loss,\n",
        "              \"||\", \"Train AUC:\", train_auc, \"||\", \"Test AUC:\", valid_auc)\n",
        "\n",
        "\n",
        "    def _stochastic_gradient_descent(self, x_data, y_data):\n",
        "        \"\"\"\n",
        "        Update each coefs (w, v) by Gradient Descent\n",
        "        \"\"\"\n",
        "        for data, y in zip(x_data, y_data):\n",
        "            feat_idx = data[0]\n",
        "            val = data[1]\n",
        "            vx = self.v[feat_idx] * (val.reshape(-1, 1))\n",
        "\n",
        "            # linear feature score\n",
        "            linear_feature_score = np.sum(self.w[feat_idx] * val)\n",
        "\n",
        "            # factorized feature score\n",
        "            vx = self.v[feat_idx] * (val.reshape(-1, 1))\n",
        "            cross_sum = np.sum(vx, axis=0)\n",
        "            square_sum = np.sum(vx * vx, axis=0)\n",
        "            cross_feature_score = 0.5 * np.sum(np.square(cross_sum) - square_sum)\n",
        "\n",
        "            # Model's equation\n",
        "            score = linear_feature_score + cross_feature_score\n",
        "            y_hat = 1.0 / (1.0 + np.exp(-score))\n",
        "            cost = y_hat - y\n",
        "\n",
        "            if self._l2_reg:\n",
        "                self.w[feat_idx] = self.w[feat_idx] - cost * self._lr * (val + self._l2_lambda * self.w[feat_idx])\n",
        "                self.v[feat_idx] = self.v[feat_idx] - cost * self._lr * ((sum(vx) * (val.reshape(-1, 1)) - (vx * (val.reshape(-1, 1)))) + self._l2_lambda * self.v[feat_idx])\n",
        "            else:\n",
        "                self.w[feat_idx] = self.w[feat_idx] - cost * self._lr * val\n",
        "                self.v[feat_idx] = self.v[feat_idx] - cost * self._lr * (sum(vx) * (val.reshape(-1, 1)) - (vx * (val.reshape(-1, 1))))"
      ],
      "execution_count": 83,
      "outputs": []
    },
    {
      "cell_type": "code",
      "metadata": {
        "colab": {
          "base_uri": "https://localhost:8080/"
        },
        "id": "KM80XepoWYOY",
        "outputId": "707cbb4a-23ae-4f6d-b9b4-5b025af925a6"
      },
      "source": [
        "# 모델링 - AUC 평가\n",
        "fm = FactorizationMachine(k=4,\n",
        "                          lr=0.005,\n",
        "                          l2_reg=True,\n",
        "                          l2_lambda=0.0002,\n",
        "                          epoch=30,\n",
        "                          early_stop_window=3,\n",
        "                          train_data='./train.txt',\n",
        "                          valid_data='./test.txt')\n",
        "\n",
        "fm.train()"
      ],
      "execution_count": 84,
      "outputs": [
        {
          "output_type": "stream",
          "text": [
            "Start to init FM vectors.\n",
            "Finish init FM vectors.\n"
          ],
          "name": "stdout"
        },
        {
          "output_type": "stream",
          "text": [
            "/usr/local/lib/python3.7/dist-packages/ipykernel_launcher.py:152: RuntimeWarning: divide by zero encountered in log\n",
            "/usr/local/lib/python3.7/dist-packages/ipykernel_launcher.py:152: RuntimeWarning: invalid value encountered in multiply\n"
          ],
          "name": "stderr"
        },
        {
          "output_type": "stream",
          "text": [
            "epoch: 1 || train_loss: nan || valid_loss: nan || Train AUC: 0.5248246184852066 || Test AUC: 0.5214818509003103\n",
            "epoch: 2 || train_loss: 722753.3897937405 || valid_loss: 194911.8640609991 || Train AUC: 0.5822183774984502 || Test AUC: 0.5638096340811256\n",
            "epoch: 3 || train_loss: 638009.961467341 || valid_loss: 176518.5619633855 || Train AUC: 0.6202537707362205 || Test AUC: 0.5895819105543648\n",
            "epoch: 4 || train_loss: 594301.7521160537 || valid_loss: 166726.60058379595 || Train AUC: 0.6464975659741292 || Test AUC: 0.6071512179416872\n",
            "epoch: 5 || train_loss: 567179.7978959181 || valid_loss: 160589.66237294202 || Train AUC: 0.6657506513912169 || Test AUC: 0.6199067039990241\n",
            "epoch: 6 || train_loss: 548518.2950287006 || valid_loss: 156359.46942084364 || Train AUC: 0.6805581528842592 || Test AUC: 0.6296712810526612\n",
            "epoch: 7 || train_loss: 534822.9862127677 || valid_loss: 153265.6576357473 || Train AUC: 0.6923126681404884 || Test AUC: 0.6374149106640317\n",
            "epoch: 8 || train_loss: 524308.7026535315 || valid_loss: 150911.00516387625 || Train AUC: 0.70186050497586 || Test AUC: 0.6436986370245518\n",
            "epoch: 9 || train_loss: 515958.49721294857 || valid_loss: 149066.609765328 || Train AUC: 0.7097573715503306 || Test AUC: 0.6488741395284172\n",
            "epoch: 10 || train_loss: 509149.69988854975 || valid_loss: 147589.78651258856 || Train AUC: 0.7163863911815288 || Test AUC: 0.6531862013931032\n",
            "epoch: 11 || train_loss: 503479.2810209744 || valid_loss: 146386.3544132822 || Train AUC: 0.7220215626385846 || Test AUC: 0.6568103575863501\n",
            "epoch: 12 || train_loss: 498674.40083246137 || valid_loss: 145391.49204035228 || Train AUC: 0.7268657056971961 || Test AUC: 0.6598750894332464\n",
            "epoch: 13 || train_loss: 494543.58847963135 || valid_loss: 144559.14033266393 || Train AUC: 0.7310724615340114 || Test AUC: 0.6624850892769505\n",
            "epoch: 14 || train_loss: 490948.1611064135 || valid_loss: 143855.65380056348 || Train AUC: 0.7347585206087428 || Test AUC: 0.6647203848511097\n",
            "epoch: 15 || train_loss: 487784.63423177646 || valid_loss: 143255.81912002346 || Train AUC: 0.738015098666737 || Test AUC: 0.6666456085116816\n",
            "epoch: 16 || train_loss: 484973.8197292914 || valid_loss: 142740.34508585144 || Train AUC: 0.7409143107649363 || Test AUC: 0.6683111953519935\n",
            "epoch: 17 || train_loss: 482454.1108669091 || valid_loss: 142294.28069115753 || Train AUC: 0.7435125193369287 || Test AUC: 0.6697619671740414\n",
            "epoch: 18 || train_loss: 480177.1587685363 || valid_loss: 141905.96821333133 || Train AUC: 0.7458554958474184 || Test AUC: 0.6710268182673498\n",
            "epoch: 19 || train_loss: 478104.8024546906 || valid_loss: 141566.2880974268 || Train AUC: 0.7479798434071009 || Test AUC: 0.672138411600633\n",
            "epoch: 20 || train_loss: 476206.71465737635 || valid_loss: 141268.078703352 || Train AUC: 0.7499155613704168 || Test AUC: 0.6731175846546253\n",
            "epoch: 21 || train_loss: 474458.5579144995 || valid_loss: 141005.68135140734 || Train AUC: 0.7516872272018918 || Test AUC: 0.6739828593525484\n",
            "epoch: 22 || train_loss: 472840.5611277657 || valid_loss: 140774.58768464063 || Train AUC: 0.7533160757332503 || Test AUC: 0.6747490702198913\n",
            "epoch: 23 || train_loss: 471336.44744953833 || valid_loss: 140571.17331786547 || Train AUC: 0.7548190537856473 || Test AUC: 0.6754305015848148\n",
            "epoch: 24 || train_loss: 469932.6425292548 || valid_loss: 140392.5016627907 || Train AUC: 0.7562108607988842 || Test AUC: 0.6760370210770826\n",
            "epoch: 25 || train_loss: 468617.69439917535 || valid_loss: 140236.18115019254 || Train AUC: 0.7575050511742456 || Test AUC: 0.6765782885057052\n",
            "epoch: 26 || train_loss: 467381.84622830665 || valid_loss: 140100.26006334356 || Train AUC: 0.7587130660723228 || Test AUC: 0.6770649396660268\n",
            "epoch: 27 || train_loss: 466216.71700149355 || valid_loss: 139983.14593497754 || Train AUC: 0.7598453631092705 || Test AUC: 0.677502877966339\n",
            "epoch: 28 || train_loss: 465115.05860049627 || valid_loss: 139883.540090652 || Train AUC: 0.7609106607041606 || Test AUC: 0.6778968331553445\n",
            "epoch: 29 || train_loss: 464070.56826509297 || valid_loss: 139800.38138461867 || Train AUC: 0.7619167273436651 || Test AUC: 0.6782550314035709\n"
          ],
          "name": "stdout"
        }
      ]
    },
    {
      "cell_type": "markdown",
      "metadata": {
        "id": "Dk_l_RckWhla"
      },
      "source": [
        "### Step 5. 모의 추천 시스템 구축"
      ]
    },
    {
      "cell_type": "markdown",
      "metadata": {
        "id": "j0XwC1XBWhfb"
      },
      "source": [
        " #### 추천 결과 평가 - 특정 시간 기준 유저별 시청 목록 추출 (Train/Test과 동일 기준)"
      ]
    },
    {
      "cell_type": "markdown",
      "metadata": {
        "id": "q-G-xGfbWhYl"
      },
      "source": [
        "#### 1) 최근 시청한 3개 영화의 연관 영화 목록 추출"
      ]
    },
    {
      "cell_type": "code",
      "metadata": {
        "id": "hgQ7ayclWfPl"
      },
      "source": [
        "# train 데이터셋에서 유처 시청 목록 추출\n",
        "def get_movie_list_sort_by_time(x):\n",
        "  return x.sort_values(['time'])['movie_id'].tolist()\n",
        "\n",
        "train_user_watch_list = rating_df[rating_df['time'] < 975768738].groupby('user_id')[['movie_id', 'time']].apply(lambda x: get_movie_list_sort_by_time(x))"
      ],
      "execution_count": 85,
      "outputs": []
    },
    {
      "cell_type": "code",
      "metadata": {
        "colab": {
          "base_uri": "https://localhost:8080/",
          "height": 204
        },
        "id": "Lr5WMr3Ogplo",
        "outputId": "9a4fbde4-f49a-4f85-a002-58dcb1114efa"
      },
      "source": [
        "# train 데이터셋으로만 m2v 학습\n",
        "m2v_train_df = pd.merge(rating_df[rating_df['time'] < 975768738], movie_df, on='movie_id')\n",
        "m2v_train_df.head()"
      ],
      "execution_count": 86,
      "outputs": [
        {
          "output_type": "execute_result",
          "data": {
            "text/html": [
              "<div>\n",
              "<style scoped>\n",
              "    .dataframe tbody tr th:only-of-type {\n",
              "        vertical-align: middle;\n",
              "    }\n",
              "\n",
              "    .dataframe tbody tr th {\n",
              "        vertical-align: top;\n",
              "    }\n",
              "\n",
              "    .dataframe thead th {\n",
              "        text-align: right;\n",
              "    }\n",
              "</style>\n",
              "<table border=\"1\" class=\"dataframe\">\n",
              "  <thead>\n",
              "    <tr style=\"text-align: right;\">\n",
              "      <th></th>\n",
              "      <th>user_id</th>\n",
              "      <th>movie_id</th>\n",
              "      <th>rating</th>\n",
              "      <th>time</th>\n",
              "      <th>title</th>\n",
              "      <th>genre</th>\n",
              "      <th>released_year_area</th>\n",
              "      <th>main_genre</th>\n",
              "    </tr>\n",
              "  </thead>\n",
              "  <tbody>\n",
              "    <tr>\n",
              "      <th>0</th>\n",
              "      <td>635</td>\n",
              "      <td>1251</td>\n",
              "      <td>4</td>\n",
              "      <td>975768620</td>\n",
              "      <td>8 1/2 (1963)</td>\n",
              "      <td>Drama</td>\n",
              "      <td>1960</td>\n",
              "      <td>Drama</td>\n",
              "    </tr>\n",
              "    <tr>\n",
              "      <th>1</th>\n",
              "      <td>673</td>\n",
              "      <td>1251</td>\n",
              "      <td>5</td>\n",
              "      <td>975623211</td>\n",
              "      <td>8 1/2 (1963)</td>\n",
              "      <td>Drama</td>\n",
              "      <td>1960</td>\n",
              "      <td>Drama</td>\n",
              "    </tr>\n",
              "    <tr>\n",
              "      <th>2</th>\n",
              "      <td>711</td>\n",
              "      <td>1251</td>\n",
              "      <td>5</td>\n",
              "      <td>975621446</td>\n",
              "      <td>8 1/2 (1963)</td>\n",
              "      <td>Drama</td>\n",
              "      <td>1960</td>\n",
              "      <td>Drama</td>\n",
              "    </tr>\n",
              "    <tr>\n",
              "      <th>3</th>\n",
              "      <td>737</td>\n",
              "      <td>1251</td>\n",
              "      <td>5</td>\n",
              "      <td>975481404</td>\n",
              "      <td>8 1/2 (1963)</td>\n",
              "      <td>Drama</td>\n",
              "      <td>1960</td>\n",
              "      <td>Drama</td>\n",
              "    </tr>\n",
              "    <tr>\n",
              "      <th>4</th>\n",
              "      <td>829</td>\n",
              "      <td>1251</td>\n",
              "      <td>5</td>\n",
              "      <td>975369343</td>\n",
              "      <td>8 1/2 (1963)</td>\n",
              "      <td>Drama</td>\n",
              "      <td>1960</td>\n",
              "      <td>Drama</td>\n",
              "    </tr>\n",
              "  </tbody>\n",
              "</table>\n",
              "</div>"
            ],
            "text/plain": [
              "   user_id  movie_id  rating  ...  genre released_year_area main_genre\n",
              "0      635      1251       4  ...  Drama               1960      Drama\n",
              "1      673      1251       5  ...  Drama               1960      Drama\n",
              "2      711      1251       5  ...  Drama               1960      Drama\n",
              "3      737      1251       5  ...  Drama               1960      Drama\n",
              "4      829      1251       5  ...  Drama               1960      Drama\n",
              "\n",
              "[5 rows x 8 columns]"
            ]
          },
          "metadata": {
            "tags": []
          },
          "execution_count": 86
        }
      ]
    },
    {
      "cell_type": "code",
      "metadata": {
        "id": "kM2TZL3-guPG"
      },
      "source": [
        "movie_meta_dict = m2v_train_df.set_index('movie_id')[['released_year_area', 'main_genre']].to_dict()"
      ],
      "execution_count": 87,
      "outputs": []
    },
    {
      "cell_type": "code",
      "metadata": {
        "id": "ASuuV3DJgvst"
      },
      "source": [
        "movie2vec_dataset = []\n",
        "for movie_list in train_user_watch_list:\n",
        "  meta_list = []\n",
        "  for movie_id in movie_list:\n",
        "    word_meta_1 = \"movie_id:\" + str(movie_id)\n",
        "    word_meta_2 = \"year:\" + movie_meta_dict['released_year_area'][movie_id]\n",
        "    word_meta_3 = \"genre:\" + movie_meta_dict['main_genre'][movie_id]\n",
        "    meta_list.append(word_meta_1)\n",
        "    meta_list.append(word_meta_2)\n",
        "    meta_list.append(word_meta_3)\n",
        "  movie2vec_dataset.append(meta_list)"
      ],
      "execution_count": 88,
      "outputs": []
    },
    {
      "cell_type": "code",
      "metadata": {
        "id": "ObsYa2G-gxWA"
      },
      "source": [
        "model = Word2Vec(movie2vec_dataset,\n",
        "                 size=100,\n",
        "                 window=6,  # 주변 word의 윈도우\n",
        "                 sg=1,  # skip-gram OR cbow\n",
        "                 hs=0,  # hierarchical softmax OR negative sampling\n",
        "                 negative=20,  # negative sampling 파라미터\n",
        "                 min_count=1,  # word의 등장 최소 횟수\n",
        "                 iter=20)"
      ],
      "execution_count": 89,
      "outputs": []
    },
    {
      "cell_type": "code",
      "metadata": {
        "id": "gJNMV3Mkg3Gf"
      },
      "source": [
        "def get_recent_movie_list_sort_by_time(x, k):\n",
        "  return x.sort_values(['time'])['movie_id'].tolist()[-k:]\n",
        "\n",
        "recent_user_watch_list = rating_df[rating_df['time'] < 975768738].groupby('user_id')[['movie_id', 'time']].apply(lambda x: get_recent_movie_list_sort_by_time(x, 3))"
      ],
      "execution_count": 90,
      "outputs": []
    },
    {
      "cell_type": "code",
      "metadata": {
        "colab": {
          "base_uri": "https://localhost:8080/"
        },
        "id": "q9mbhIrNisYZ",
        "outputId": "efd80e51-a541-44b3-f976-eda754e4f197"
      },
      "source": [
        "recent_user_watch_list"
      ],
      "execution_count": 91,
      "outputs": [
        {
          "output_type": "execute_result",
          "data": {
            "text/plain": [
              "user_id\n",
              "635     [1884, 2966, 3198]\n",
              "636     [1391, 1690, 3156]\n",
              "637     [1378, 1278, 1379]\n",
              "638     [1587, 2193, 3863]\n",
              "639     [2762, 3114, 2987]\n",
              "               ...        \n",
              "6036    [1862, 2807, 3574]\n",
              "6037      [2641, 968, 435]\n",
              "6038    [1419, 2700, 1183]\n",
              "6039     [1204, 922, 1254]\n",
              "6040    [3751, 1077, 3168]\n",
              "Length: 5400, dtype: object"
            ]
          },
          "metadata": {
            "tags": []
          },
          "execution_count": 91
        }
      ]
    },
    {
      "cell_type": "code",
      "metadata": {
        "colab": {
          "base_uri": "https://localhost:8080/"
        },
        "id": "xLqaYChWitaS",
        "outputId": "74e585ae-5666-4156-bd8a-7154d31b96cd"
      },
      "source": [
        "item2item = {}\n",
        "\n",
        "# 영화별 연관 영화 k개씩 추출\n",
        "k = 10\n",
        "not_in_count = 0\n",
        "for movie_id in movie_df['movie_id'].values:\n",
        "  item2item[movie_id] = []\n",
        "  try:\n",
        "    sim_list = model.wv.most_similar(\"movie_id:\" + str(movie_id), topn=k+10)\n",
        "    for movie_tup in sim_list:\n",
        "      tup_info = movie_tup[0].split(\":\")\n",
        "      if (tup_info[0] == \"movie_id\") and (len(item2item[movie_id]) < 10):\n",
        "        item2item[movie_id].append(tup_info[1])\n",
        "  except:\n",
        "    not_in_count += 1\n",
        "    print(\"word\", str(movie_id) ,\"not in vocabulary\")"
      ],
      "execution_count": 92,
      "outputs": [
        {
          "output_type": "stream",
          "text": [
            "word 51 not in vocabulary\n",
            "word 109 not in vocabulary\n",
            "word 115 not in vocabulary\n",
            "word 143 not in vocabulary\n",
            "word 284 not in vocabulary\n",
            "word 285 not in vocabulary\n",
            "word 395 not in vocabulary\n",
            "word 396 not in vocabulary\n",
            "word 398 not in vocabulary\n",
            "word 399 not in vocabulary\n",
            "word 400 not in vocabulary\n",
            "word 402 not in vocabulary\n",
            "word 403 not in vocabulary\n",
            "word 576 not in vocabulary\n",
            "word 578 not in vocabulary\n",
            "word 584 not in vocabulary\n",
            "word 604 not in vocabulary\n",
            "word 620 not in vocabulary\n",
            "word 625 not in vocabulary\n",
            "word 629 not in vocabulary\n",
            "word 636 not in vocabulary\n",
            "word 654 not in vocabulary\n",
            "word 658 not in vocabulary\n",
            "word 675 not in vocabulary\n",
            "word 676 not in vocabulary\n",
            "word 683 not in vocabulary\n",
            "word 693 not in vocabulary\n",
            "word 699 not in vocabulary\n",
            "word 701 not in vocabulary\n",
            "word 713 not in vocabulary\n",
            "word 717 not in vocabulary\n",
            "word 721 not in vocabulary\n",
            "word 723 not in vocabulary\n",
            "word 727 not in vocabulary\n",
            "word 738 not in vocabulary\n",
            "word 739 not in vocabulary\n",
            "word 752 not in vocabulary\n",
            "word 763 not in vocabulary\n",
            "word 768 not in vocabulary\n",
            "word 770 not in vocabulary\n",
            "word 772 not in vocabulary\n",
            "word 773 not in vocabulary\n",
            "word 774 not in vocabulary\n",
            "word 777 not in vocabulary\n",
            "word 794 not in vocabulary\n",
            "word 795 not in vocabulary\n",
            "word 797 not in vocabulary\n",
            "word 812 not in vocabulary\n",
            "word 814 not in vocabulary\n",
            "word 816 not in vocabulary\n",
            "word 819 not in vocabulary\n",
            "word 822 not in vocabulary\n",
            "word 825 not in vocabulary\n",
            "word 826 not in vocabulary\n",
            "word 845 not in vocabulary\n",
            "word 855 not in vocabulary\n",
            "word 856 not in vocabulary\n",
            "word 857 not in vocabulary\n",
            "word 865 not in vocabulary\n",
            "word 871 not in vocabulary\n",
            "word 873 not in vocabulary\n",
            "word 884 not in vocabulary\n",
            "word 890 not in vocabulary\n",
            "word 894 not in vocabulary\n",
            "word 979 not in vocabulary\n",
            "word 983 not in vocabulary\n",
            "word 1001 not in vocabulary\n",
            "word 1045 not in vocabulary\n",
            "word 1052 not in vocabulary\n",
            "word 1062 not in vocabulary\n",
            "word 1065 not in vocabulary\n",
            "word 1075 not in vocabulary\n",
            "word 1106 not in vocabulary\n",
            "word 1108 not in vocabulary\n",
            "word 1109 not in vocabulary\n",
            "word 1110 not in vocabulary\n",
            "word 1122 not in vocabulary\n",
            "word 1137 not in vocabulary\n",
            "word 1140 not in vocabulary\n",
            "word 1141 not in vocabulary\n",
            "word 1143 not in vocabulary\n",
            "word 1146 not in vocabulary\n",
            "word 1155 not in vocabulary\n",
            "word 1156 not in vocabulary\n",
            "word 1157 not in vocabulary\n",
            "word 1158 not in vocabulary\n",
            "word 1159 not in vocabulary\n",
            "word 1165 not in vocabulary\n",
            "word 1166 not in vocabulary\n",
            "word 1308 not in vocabulary\n",
            "word 1309 not in vocabulary\n",
            "word 1314 not in vocabulary\n",
            "word 1318 not in vocabulary\n",
            "word 1319 not in vocabulary\n",
            "word 1360 not in vocabulary\n",
            "word 1364 not in vocabulary\n",
            "word 1368 not in vocabulary\n",
            "word 1400 not in vocabulary\n",
            "word 1424 not in vocabulary\n",
            "word 1443 not in vocabulary\n",
            "word 1448 not in vocabulary\n",
            "word 1462 not in vocabulary\n",
            "word 1467 not in vocabulary\n",
            "word 1524 not in vocabulary\n",
            "word 1548 not in vocabulary\n",
            "word 1557 not in vocabulary\n",
            "word 1559 not in vocabulary\n",
            "word 1568 not in vocabulary\n",
            "word 1577 not in vocabulary\n",
            "word 1578 not in vocabulary\n",
            "word 1579 not in vocabulary\n",
            "word 1628 not in vocabulary\n",
            "word 1697 not in vocabulary\n",
            "word 1698 not in vocabulary\n",
            "word 1705 not in vocabulary\n",
            "word 1706 not in vocabulary\n",
            "word 1708 not in vocabulary\n",
            "word 1710 not in vocabulary\n",
            "word 1716 not in vocabulary\n",
            "word 1723 not in vocabulary\n",
            "word 1738 not in vocabulary\n",
            "word 1740 not in vocabulary\n",
            "word 1742 not in vocabulary\n",
            "word 1757 not in vocabulary\n",
            "word 1765 not in vocabulary\n",
            "word 1768 not in vocabulary\n",
            "word 1773 not in vocabulary\n",
            "word 1774 not in vocabulary\n",
            "word 1776 not in vocabulary\n",
            "word 1781 not in vocabulary\n",
            "word 1789 not in vocabulary\n",
            "word 1795 not in vocabulary\n",
            "word 1819 not in vocabulary\n",
            "word 1820 not in vocabulary\n",
            "word 1847 not in vocabulary\n",
            "word 1930 not in vocabulary\n",
            "word 2030 not in vocabulary\n",
            "word 2199 not in vocabulary\n",
            "word 2214 not in vocabulary\n",
            "word 2216 not in vocabulary\n",
            "word 2218 not in vocabulary\n",
            "word 2220 not in vocabulary\n",
            "word 2222 not in vocabulary\n",
            "word 2224 not in vocabulary\n",
            "word 2225 not in vocabulary\n",
            "word 2226 not in vocabulary\n",
            "word 2228 not in vocabulary\n",
            "word 2229 not in vocabulary\n",
            "word 2230 not in vocabulary\n",
            "word 2270 not in vocabulary\n",
            "word 2274 not in vocabulary\n",
            "word 2299 not in vocabulary\n",
            "word 2319 not in vocabulary\n",
            "word 2489 not in vocabulary\n",
            "word 2508 not in vocabulary\n",
            "word 2547 not in vocabulary\n",
            "word 2564 not in vocabulary\n",
            "word 2588 not in vocabulary\n",
            "word 2592 not in vocabulary\n",
            "word 2595 not in vocabulary\n",
            "word 2601 not in vocabulary\n",
            "word 2603 not in vocabulary\n",
            "word 2604 not in vocabulary\n",
            "word 2680 not in vocabulary\n",
            "word 2684 not in vocabulary\n",
            "word 2698 not in vocabulary\n",
            "word 2703 not in vocabulary\n",
            "word 2832 not in vocabulary\n",
            "word 2838 not in vocabulary\n",
            "word 2910 not in vocabulary\n",
            "word 2954 not in vocabulary\n",
            "word 2957 not in vocabulary\n",
            "word 2958 not in vocabulary\n",
            "word 2980 not in vocabulary\n",
            "word 3009 not in vocabulary\n",
            "word 3023 not in vocabulary\n",
            "word 3059 not in vocabulary\n",
            "word 3080 not in vocabulary\n",
            "word 3170 not in vocabulary\n",
            "word 3191 not in vocabulary\n",
            "word 3193 not in vocabulary\n",
            "word 3195 not in vocabulary\n",
            "word 3226 not in vocabulary\n",
            "word 3227 not in vocabulary\n",
            "word 3229 not in vocabulary\n",
            "word 3231 not in vocabulary\n",
            "word 3234 not in vocabulary\n",
            "word 3245 not in vocabulary\n",
            "word 3278 not in vocabulary\n",
            "word 3279 not in vocabulary\n",
            "word 3280 not in vocabulary\n",
            "word 3291 not in vocabulary\n",
            "word 3315 not in vocabulary\n",
            "word 3321 not in vocabulary\n",
            "word 3332 not in vocabulary\n",
            "word 3336 not in vocabulary\n",
            "word 3348 not in vocabulary\n",
            "word 3356 not in vocabulary\n",
            "word 3369 not in vocabulary\n",
            "word 3383 not in vocabulary\n",
            "word 3411 not in vocabulary\n",
            "word 3455 not in vocabulary\n",
            "word 3541 not in vocabulary\n",
            "word 3558 not in vocabulary\n",
            "word 3560 not in vocabulary\n",
            "word 3561 not in vocabulary\n",
            "word 3582 not in vocabulary\n",
            "word 3583 not in vocabulary\n",
            "word 3589 not in vocabulary\n",
            "word 3630 not in vocabulary\n",
            "word 3650 not in vocabulary\n",
            "word 3722 not in vocabulary\n",
            "word 3748 not in vocabulary\n",
            "word 3750 not in vocabulary\n",
            "word 3756 not in vocabulary\n",
            "word 3829 not in vocabulary\n",
            "word 3856 not in vocabulary\n",
            "word 3862 not in vocabulary\n",
            "word 3888 not in vocabulary\n",
            "word 3905 not in vocabulary\n",
            "word 3907 not in vocabulary\n"
          ],
          "name": "stdout"
        }
      ]
    },
    {
      "cell_type": "code",
      "metadata": {
        "colab": {
          "base_uri": "https://localhost:8080/"
        },
        "id": "dRbdI0PziwAU",
        "outputId": "68374538-490b-45d0-bd3c-c12a3e0625d7"
      },
      "source": [
        "print(\"total:\", not_in_count)"
      ],
      "execution_count": 93,
      "outputs": [
        {
          "output_type": "stream",
          "text": [
            "total: 221\n"
          ],
          "name": "stdout"
        }
      ]
    },
    {
      "cell_type": "code",
      "metadata": {
        "id": "HZmt_nP_ixW6"
      },
      "source": [
        "def get_similar_items(x, k):\n",
        "  similar_items = []\n",
        "  for movie_id in x:\n",
        "    if movie_id in item2item:\n",
        "      similar_items.append(item2item[movie_id][:k])\n",
        "  return [item for items in similar_items for item in items]\n",
        "\n",
        "recent_watch_similar_items = recent_user_watch_list.apply(lambda x: get_similar_items(x, 5))"
      ],
      "execution_count": 94,
      "outputs": []
    },
    {
      "cell_type": "code",
      "metadata": {
        "colab": {
          "base_uri": "https://localhost:8080/"
        },
        "id": "yeE9xqOhiyWB",
        "outputId": "a8580969-3735-443f-c2de-0beab59bcac2"
      },
      "source": [
        "recent_watch_similar_items"
      ],
      "execution_count": 95,
      "outputs": [
        {
          "output_type": "execute_result",
          "data": {
            "text/plain": [
              "user_id\n",
              "635     [372, 450, 1476, 2447, 1614, 3006, 3163, 1041,...\n",
              "636     [442, 379, 2393, 466, 780, 1320, 2525, 1762, 3...\n",
              "637     [368, 1379, 2989, 2478, 303, 1080, 1997, 1136,...\n",
              "638     [2376, 2115, 2403, 434, 3807, 2105, 2161, 2005...\n",
              "639     [3006, 2840, 1358, 2396, 2841, 2700, 3429, 122...\n",
              "                              ...                        \n",
              "6036    [2448, 3573, 519, 3664, 3665, 546, 692, 1720, ...\n",
              "6037    [1375, 2105, 3704, 3698, 2613, 2901, 2553, 255...\n",
              "6038    [1362, 3152, 3201, 3359, 2932, 2395, 3114, 1, ...\n",
              "6039    [1262, 1254, 3196, 1952, 3134, 1248, 2186, 343...\n",
              "6040    [3755, 3536, 3482, 3784, 3745, 1175, 1301, 196...\n",
              "Length: 5400, dtype: object"
            ]
          },
          "metadata": {
            "tags": []
          },
          "execution_count": 95
        }
      ]
    },
    {
      "cell_type": "markdown",
      "metadata": {
        "id": "5K2qhD1ci1np"
      },
      "source": [
        "### 추천 결과 평가 - Train 데이터 기반 유저별 추천 후보군 생성"
      ]
    },
    {
      "cell_type": "markdown",
      "metadata": {
        "id": "S8vtL2tqi3yS"
      },
      "source": [
        "#### 1) 평점 기반 인기 영화"
      ]
    },
    {
      "cell_type": "code",
      "metadata": {
        "id": "KU5Jt841i8fA"
      },
      "source": [
        "mean_ratings = rating_df[rating_df['time'] < 975768738].groupby('movie_id')['rating'].agg(['mean', 'count'])"
      ],
      "execution_count": 96,
      "outputs": []
    },
    {
      "cell_type": "code",
      "metadata": {
        "id": "iuKEh8PIi8Zh"
      },
      "source": [
        "# 평점 높은 상위 10개 영화\n",
        "popular_movie_list = mean_ratings[mean_ratings['count']>10]['mean'].sort_values(ascending=False).index[:10].tolist()"
      ],
      "execution_count": 97,
      "outputs": []
    },
    {
      "cell_type": "markdown",
      "metadata": {
        "id": "C68FR1j8i3r3"
      },
      "source": [
        "#### 2) 장르, 연도별 인기 영화"
      ]
    },
    {
      "cell_type": "code",
      "metadata": {
        "colab": {
          "base_uri": "https://localhost:8080/",
          "height": 204
        },
        "id": "ulzZKL4Tiz8D",
        "outputId": "bd696b2e-6161-4f57-9d55-838ba6bc0366"
      },
      "source": [
        "merge_df = pd.merge(mean_ratings, movie_df, on='movie_id')\n",
        "merge_df.head()"
      ],
      "execution_count": 98,
      "outputs": [
        {
          "output_type": "execute_result",
          "data": {
            "text/html": [
              "<div>\n",
              "<style scoped>\n",
              "    .dataframe tbody tr th:only-of-type {\n",
              "        vertical-align: middle;\n",
              "    }\n",
              "\n",
              "    .dataframe tbody tr th {\n",
              "        vertical-align: top;\n",
              "    }\n",
              "\n",
              "    .dataframe thead th {\n",
              "        text-align: right;\n",
              "    }\n",
              "</style>\n",
              "<table border=\"1\" class=\"dataframe\">\n",
              "  <thead>\n",
              "    <tr style=\"text-align: right;\">\n",
              "      <th></th>\n",
              "      <th>movie_id</th>\n",
              "      <th>mean</th>\n",
              "      <th>count</th>\n",
              "      <th>title</th>\n",
              "      <th>genre</th>\n",
              "      <th>released_year_area</th>\n",
              "      <th>main_genre</th>\n",
              "    </tr>\n",
              "  </thead>\n",
              "  <tbody>\n",
              "    <tr>\n",
              "      <th>0</th>\n",
              "      <td>1</td>\n",
              "      <td>4.145714</td>\n",
              "      <td>1750</td>\n",
              "      <td>Toy Story (1995)</td>\n",
              "      <td>Animation|Children's|Comedy</td>\n",
              "      <td>1990</td>\n",
              "      <td>Animation</td>\n",
              "    </tr>\n",
              "    <tr>\n",
              "      <th>1</th>\n",
              "      <td>2</td>\n",
              "      <td>3.197880</td>\n",
              "      <td>566</td>\n",
              "      <td>Jumanji (1995)</td>\n",
              "      <td>Adventure|Children's|Fantasy</td>\n",
              "      <td>1990</td>\n",
              "      <td>Adventure</td>\n",
              "    </tr>\n",
              "    <tr>\n",
              "      <th>2</th>\n",
              "      <td>3</td>\n",
              "      <td>3.023560</td>\n",
              "      <td>382</td>\n",
              "      <td>Grumpier Old Men (1995)</td>\n",
              "      <td>Comedy|Romance</td>\n",
              "      <td>1990</td>\n",
              "      <td>Comedy</td>\n",
              "    </tr>\n",
              "    <tr>\n",
              "      <th>3</th>\n",
              "      <td>4</td>\n",
              "      <td>2.701493</td>\n",
              "      <td>134</td>\n",
              "      <td>Waiting to Exhale (1995)</td>\n",
              "      <td>Comedy|Drama</td>\n",
              "      <td>1990</td>\n",
              "      <td>Comedy</td>\n",
              "    </tr>\n",
              "    <tr>\n",
              "      <th>4</th>\n",
              "      <td>5</td>\n",
              "      <td>2.995781</td>\n",
              "      <td>237</td>\n",
              "      <td>Father of the Bride Part II (1995)</td>\n",
              "      <td>Comedy</td>\n",
              "      <td>1990</td>\n",
              "      <td>Comedy</td>\n",
              "    </tr>\n",
              "  </tbody>\n",
              "</table>\n",
              "</div>"
            ],
            "text/plain": [
              "   movie_id      mean  ...  released_year_area main_genre\n",
              "0         1  4.145714  ...                1990  Animation\n",
              "1         2  3.197880  ...                1990  Adventure\n",
              "2         3  3.023560  ...                1990     Comedy\n",
              "3         4  2.701493  ...                1990     Comedy\n",
              "4         5  2.995781  ...                1990     Comedy\n",
              "\n",
              "[5 rows x 7 columns]"
            ]
          },
          "metadata": {
            "tags": []
          },
          "execution_count": 98
        }
      ]
    },
    {
      "cell_type": "code",
      "metadata": {
        "id": "MC2tBBiIi_6b"
      },
      "source": [
        "# 장르&연도를 meta로 하여, meta별 상위 10개의 평점 높은 영화\n",
        "def get_meta_popular_list(x, k):\n",
        "  movie_id_list = x.sort_values(by=['mean'], ascending=False)['movie_id'].tolist()\n",
        "  return movie_id_list[:k]\n",
        "\n",
        "genre_popular = merge_df.groupby('main_genre').apply(lambda x: get_meta_popular_list(x, k=10))\n",
        "year_popular = merge_df.groupby('released_year_area').apply(lambda x: get_meta_popular_list(x, k=10))"
      ],
      "execution_count": 99,
      "outputs": []
    },
    {
      "cell_type": "markdown",
      "metadata": {
        "id": "7UxWpMerjDMY"
      },
      "source": [
        "#### 3) 추천 후보군 병합"
      ]
    },
    {
      "cell_type": "code",
      "metadata": {
        "colab": {
          "base_uri": "https://localhost:8080/"
        },
        "id": "Hqq1bPcJjBgk",
        "outputId": "cd1fc019-de94-48c0-e8f7-1414974c076d"
      },
      "source": [
        "recent_watch_similar_items.apply(lambda x: x.extend(popular_movie_list))"
      ],
      "execution_count": 100,
      "outputs": [
        {
          "output_type": "execute_result",
          "data": {
            "text/plain": [
              "user_id\n",
              "635     None\n",
              "636     None\n",
              "637     None\n",
              "638     None\n",
              "639     None\n",
              "        ... \n",
              "6036    None\n",
              "6037    None\n",
              "6038    None\n",
              "6039    None\n",
              "6040    None\n",
              "Length: 5400, dtype: object"
            ]
          },
          "metadata": {
            "tags": []
          },
          "execution_count": 100
        }
      ]
    },
    {
      "cell_type": "markdown",
      "metadata": {
        "id": "A6Y6GOFsjHDz"
      },
      "source": [
        "##### 유저별 선호 장르/연도 파악"
      ]
    },
    {
      "cell_type": "code",
      "metadata": {
        "colab": {
          "base_uri": "https://localhost:8080/"
        },
        "id": "KfZeKPdMjE9Y",
        "outputId": "724c7d70-849c-41fe-d900-aecdf770bdb9"
      },
      "source": [
        "train_user_watch_list"
      ],
      "execution_count": 101,
      "outputs": [
        {
          "output_type": "execute_result",
          "data": {
            "text/plain": [
              "user_id\n",
              "635     [2294, 480, 920, 3614, 1270, 1286, 3528, 3948,...\n",
              "636     [2123, 1721, 110, 1210, 2193, 1197, 2746, 3693...\n",
              "637     [908, 1376, 2792, 2085, 1203, 924, 1019, 965, ...\n",
              "638     [1210, 1978, 2716, 2617, 788, 2555, 2532, 3555...\n",
              "639     [2028, 2944, 1961, 1363, 2634, 1198, 2571, 589...\n",
              "                              ...                        \n",
              "6036    [1721, 2376, 3438, 2428, 1883, 2492, 2827, 268...\n",
              "6037    [1882, 2028, 1267, 702, 3508, 562, 3148, 858, ...\n",
              "6038    [920, 3396, 1210, 2146, 356, 1387, 1079, 1148,...\n",
              "6039    [111, 282, 2067, 930, 1230, 3133, 3022, 947, 3...\n",
              "6040    [858, 2384, 593, 2019, 1961, 573, 3111, 3505, ...\n",
              "Length: 5400, dtype: object"
            ]
          },
          "metadata": {
            "tags": []
          },
          "execution_count": 101
        }
      ]
    },
    {
      "cell_type": "code",
      "metadata": {
        "id": "IaxeXD4qjIrx"
      },
      "source": [
        "movie_dict = merge_df[['movie_id', 'released_year_area', 'main_genre']].to_dict()"
      ],
      "execution_count": 102,
      "outputs": []
    },
    {
      "cell_type": "code",
      "metadata": {
        "id": "Xkhw446LjKBM"
      },
      "source": [
        "from collections import Counter \n",
        "\n",
        "def most_frequent(x): \n",
        "    occurence_count = Counter(x) \n",
        "    return occurence_count.most_common(1)[0][0] \n",
        "\n",
        "def get_items_by_prefer_meta(x):\n",
        "  year_list = []\n",
        "  genre_list = []\n",
        "  for movie_id in x:\n",
        "    if movie_id in movie_dict['released_year_area']:\n",
        "      year_list.append(movie_dict['released_year_area'][movie_id])\n",
        "    if movie_id in movie_dict['main_genre']:\n",
        "      genre_list.append(movie_dict['main_genre'][movie_id])\n",
        "  prefer_year = most_frequent(year_list)\n",
        "  prefer_genre = most_frequent(genre_list)\n",
        "  return year_popular[prefer_year] + genre_popular[prefer_genre]\n",
        "\n",
        "items_by_prefer_meta = train_user_watch_list.apply(lambda x: get_items_by_prefer_meta(x))"
      ],
      "execution_count": 103,
      "outputs": []
    },
    {
      "cell_type": "code",
      "metadata": {
        "colab": {
          "base_uri": "https://localhost:8080/"
        },
        "id": "OkPnjA1MjLJR",
        "outputId": "9d127a2b-ba8c-4b2a-ab46-332c0ff7d8ba"
      },
      "source": [
        "items_by_prefer_meta.sample(10)"
      ],
      "execution_count": 104,
      "outputs": [
        {
          "output_type": "execute_result",
          "data": {
            "text/plain": [
              "user_id\n",
              "2944    [989, 1471, 2964, 1830, 787, 53, 1664, 2503, 2...\n",
              "2035    [989, 1471, 2964, 1830, 787, 53, 1664, 2503, 2...\n",
              "4751    [989, 1471, 2964, 1830, 787, 53, 1664, 2503, 2...\n",
              "4952    [989, 1471, 2964, 1830, 787, 53, 1664, 2503, 2...\n",
              "4718    [989, 1471, 2964, 1830, 787, 53, 1664, 2503, 2...\n",
              "5862    [989, 1471, 2964, 1830, 787, 53, 1664, 2503, 2...\n",
              "4698    [989, 1471, 2964, 1830, 787, 53, 1664, 2503, 2...\n",
              "1871    [989, 1471, 2964, 1830, 787, 53, 1664, 2503, 2...\n",
              "5476    [989, 1471, 2964, 1830, 787, 53, 1664, 2503, 2...\n",
              "4728    [989, 1471, 2964, 1830, 787, 53, 1664, 2503, 2...\n",
              "dtype: object"
            ]
          },
          "metadata": {
            "tags": []
          },
          "execution_count": 104
        }
      ]
    },
    {
      "cell_type": "markdown",
      "metadata": {
        "id": "On1E3cQFjOzW"
      },
      "source": [
        "##### 최종병합"
      ]
    },
    {
      "cell_type": "code",
      "metadata": {
        "id": "iXPxbfo0jNqL"
      },
      "source": [
        "merged_candidates = recent_watch_similar_items + items_by_prefer_meta"
      ],
      "execution_count": 105,
      "outputs": []
    },
    {
      "cell_type": "code",
      "metadata": {
        "id": "9lfkYMQXjQq8"
      },
      "source": [
        "recommendations = merged_candidates.apply(lambda x: set(x))"
      ],
      "execution_count": 106,
      "outputs": []
    },
    {
      "cell_type": "markdown",
      "metadata": {
        "id": "r55juKtdjTVt"
      },
      "source": [
        "### 추천 결과 평가 - 랭킹 모델로 추천 후보군 K개 정렬"
      ]
    },
    {
      "cell_type": "markdown",
      "metadata": {
        "id": "q2p4NnVMjUBL"
      },
      "source": [
        "#### predict 가능한 포맷으로 변경\n",
        "- ex) [[array([31, 55, 66, 77]), array([1, 1, 1, 1])]]"
      ]
    },
    {
      "cell_type": "code",
      "metadata": {
        "colab": {
          "base_uri": "https://localhost:8080/",
          "height": 204
        },
        "id": "qVM6bpKtjRyt",
        "outputId": "f62b6ede-da1f-4c8a-fa26-5cc32823c764"
      },
      "source": [
        "movie_df['released_year_area'] = movie_df['released_year_area'].apply(lambda x: year_index[x])\n",
        "movie_df['main_genre'] = movie_df['main_genre'].apply(lambda x: genre_index[x])\n",
        "movie_df = movie_df[['movie_id', 'released_year_area', 'main_genre']]\n",
        "movie_df.head()"
      ],
      "execution_count": 107,
      "outputs": [
        {
          "output_type": "execute_result",
          "data": {
            "text/html": [
              "<div>\n",
              "<style scoped>\n",
              "    .dataframe tbody tr th:only-of-type {\n",
              "        vertical-align: middle;\n",
              "    }\n",
              "\n",
              "    .dataframe tbody tr th {\n",
              "        vertical-align: top;\n",
              "    }\n",
              "\n",
              "    .dataframe thead th {\n",
              "        text-align: right;\n",
              "    }\n",
              "</style>\n",
              "<table border=\"1\" class=\"dataframe\">\n",
              "  <thead>\n",
              "    <tr style=\"text-align: right;\">\n",
              "      <th></th>\n",
              "      <th>movie_id</th>\n",
              "      <th>released_year_area</th>\n",
              "      <th>main_genre</th>\n",
              "    </tr>\n",
              "  </thead>\n",
              "  <tbody>\n",
              "    <tr>\n",
              "      <th>0</th>\n",
              "      <td>1</td>\n",
              "      <td>1</td>\n",
              "      <td>1</td>\n",
              "    </tr>\n",
              "    <tr>\n",
              "      <th>1</th>\n",
              "      <td>2</td>\n",
              "      <td>1</td>\n",
              "      <td>2</td>\n",
              "    </tr>\n",
              "    <tr>\n",
              "      <th>2</th>\n",
              "      <td>3</td>\n",
              "      <td>1</td>\n",
              "      <td>3</td>\n",
              "    </tr>\n",
              "    <tr>\n",
              "      <th>3</th>\n",
              "      <td>4</td>\n",
              "      <td>1</td>\n",
              "      <td>3</td>\n",
              "    </tr>\n",
              "    <tr>\n",
              "      <th>4</th>\n",
              "      <td>5</td>\n",
              "      <td>1</td>\n",
              "      <td>3</td>\n",
              "    </tr>\n",
              "  </tbody>\n",
              "</table>\n",
              "</div>"
            ],
            "text/plain": [
              "   movie_id  released_year_area  main_genre\n",
              "0         1                   1           1\n",
              "1         2                   1           2\n",
              "2         3                   1           3\n",
              "3         4                   1           3\n",
              "4         5                   1           3"
            ]
          },
          "metadata": {
            "tags": []
          },
          "execution_count": 107
        }
      ]
    },
    {
      "cell_type": "code",
      "metadata": {
        "colab": {
          "base_uri": "https://localhost:8080/",
          "height": 204
        },
        "id": "7OukA5AHjWtR",
        "outputId": "98ad92e5-3902-43c9-a9e1-5bbedd8b4c1d"
      },
      "source": [
        "user_df['gender'] = user_df['gender'].apply(lambda x: gender_index[x])\n",
        "user_df['occupation'] = user_df['occupation'].apply(lambda x: occupation_index[x])\n",
        "user_df['age_bucket'] = user_df['age_bucket'].apply(lambda x: age_index[x])\n",
        "user_df = user_df[['user_id', 'gender', 'age_bucket', 'occupation']]\n",
        "user_df.head()"
      ],
      "execution_count": 108,
      "outputs": [
        {
          "output_type": "execute_result",
          "data": {
            "text/html": [
              "<div>\n",
              "<style scoped>\n",
              "    .dataframe tbody tr th:only-of-type {\n",
              "        vertical-align: middle;\n",
              "    }\n",
              "\n",
              "    .dataframe tbody tr th {\n",
              "        vertical-align: top;\n",
              "    }\n",
              "\n",
              "    .dataframe thead th {\n",
              "        text-align: right;\n",
              "    }\n",
              "</style>\n",
              "<table border=\"1\" class=\"dataframe\">\n",
              "  <thead>\n",
              "    <tr style=\"text-align: right;\">\n",
              "      <th></th>\n",
              "      <th>user_id</th>\n",
              "      <th>gender</th>\n",
              "      <th>age_bucket</th>\n",
              "      <th>occupation</th>\n",
              "    </tr>\n",
              "  </thead>\n",
              "  <tbody>\n",
              "    <tr>\n",
              "      <th>0</th>\n",
              "      <td>1</td>\n",
              "      <td>1</td>\n",
              "      <td>1</td>\n",
              "      <td>1</td>\n",
              "    </tr>\n",
              "    <tr>\n",
              "      <th>1</th>\n",
              "      <td>2</td>\n",
              "      <td>2</td>\n",
              "      <td>2</td>\n",
              "      <td>2</td>\n",
              "    </tr>\n",
              "    <tr>\n",
              "      <th>2</th>\n",
              "      <td>3</td>\n",
              "      <td>2</td>\n",
              "      <td>3</td>\n",
              "      <td>3</td>\n",
              "    </tr>\n",
              "    <tr>\n",
              "      <th>3</th>\n",
              "      <td>4</td>\n",
              "      <td>2</td>\n",
              "      <td>4</td>\n",
              "      <td>4</td>\n",
              "    </tr>\n",
              "    <tr>\n",
              "      <th>4</th>\n",
              "      <td>5</td>\n",
              "      <td>2</td>\n",
              "      <td>3</td>\n",
              "      <td>5</td>\n",
              "    </tr>\n",
              "  </tbody>\n",
              "</table>\n",
              "</div>"
            ],
            "text/plain": [
              "   user_id  gender  age_bucket  occupation\n",
              "0        1       1           1           1\n",
              "1        2       2           2           2\n",
              "2        3       2           3           3\n",
              "3        4       2           4           4\n",
              "4        5       2           3           5"
            ]
          },
          "metadata": {
            "tags": []
          },
          "execution_count": 108
        }
      ]
    },
    {
      "cell_type": "code",
      "metadata": {
        "colab": {
          "base_uri": "https://localhost:8080/",
          "height": 52
        },
        "id": "uqbAQJxijXtn",
        "outputId": "f88dbc44-ed0d-46b5-9245-8e40b4b3cac8"
      },
      "source": [
        "movie_index_dict = movie_df.set_index('movie_id')[['released_year_area', 'main_genre']].to_dict()\n",
        "str(movie_index_dict)[:300]"
      ],
      "execution_count": 109,
      "outputs": [
        {
          "output_type": "execute_result",
          "data": {
            "application/vnd.google.colaboratory.intrinsic+json": {
              "type": "string"
            },
            "text/plain": [
              "\"{'released_year_area': {1: 1, 2: 1, 3: 1, 4: 1, 5: 1, 6: 1, 7: 1, 8: 1, 9: 1, 10: 1, 11: 1, 12: 1, 13: 1, 14: 1, 15: 1, 16: 1, 17: 1, 18: 1, 19: 1, 20: 1, 21: 1, 22: 1, 23: 1, 24: 1, 25: 1, 26: 1, 27: 1, 28: 1, 29: 1, 30: 1, 31: 1, 32: 1, 33: 1, 34: 1, 35: 1, 36: 1, 37: 1, 38: 1, 39: 1, 40: 1, 41: 1\""
            ]
          },
          "metadata": {
            "tags": []
          },
          "execution_count": 109
        }
      ]
    },
    {
      "cell_type": "code",
      "metadata": {
        "colab": {
          "base_uri": "https://localhost:8080/",
          "height": 52
        },
        "id": "djzYnVEhjY2h",
        "outputId": "cfd40e50-6f26-416b-8bda-de9a3f172a2c"
      },
      "source": [
        "user_index_dict = user_df.set_index('user_id')[['gender', 'age_bucket', 'occupation']].to_dict()\n",
        "str(user_index_dict)[:300]"
      ],
      "execution_count": 110,
      "outputs": [
        {
          "output_type": "execute_result",
          "data": {
            "application/vnd.google.colaboratory.intrinsic+json": {
              "type": "string"
            },
            "text/plain": [
              "\"{'gender': {1: 1, 2: 2, 3: 2, 4: 2, 5: 2, 6: 1, 7: 2, 8: 2, 9: 2, 10: 1, 11: 1, 12: 2, 13: 2, 14: 2, 15: 2, 16: 1, 17: 2, 18: 1, 19: 2, 20: 2, 21: 2, 22: 2, 23: 2, 24: 1, 25: 2, 26: 2, 27: 2, 28: 1, 29: 2, 30: 1, 31: 2, 32: 1, 33: 2, 34: 1, 35: 2, 36: 2, 37: 1, 38: 1, 39: 2, 40: 2, 41: 1, 42: 2, 43:\""
            ]
          },
          "metadata": {
            "tags": []
          },
          "execution_count": 110
        }
      ]
    },
    {
      "cell_type": "code",
      "metadata": {
        "id": "QhpFqzcYjZ2l"
      },
      "source": [
        "txt_file = open('train.txt', 'w')\n",
        "for idx, row in train_df.iterrows():\n",
        "  vec = []\n",
        "  label = row['y']\n",
        "  vec.append(str(label))\n",
        "  row = row.drop(labels=['rating'])\n",
        "  row = row.drop(labels=['y'])\n",
        "  for key, value in row.items():\n",
        "    col_idx = col_accum_index_dict[key] + value - 1\n",
        "    vec.append(str(col_idx) + \":\" + str(1))\n",
        "  txt_file.write(\"%s\\n\" % \" \".join(vec))\n",
        "txt_file.close()"
      ],
      "execution_count": 111,
      "outputs": []
    },
    {
      "cell_type": "code",
      "metadata": {
        "colab": {
          "base_uri": "https://localhost:8080/"
        },
        "id": "4pcbs10UjbPd",
        "outputId": "46b0c4d2-50bb-43fa-b7c6-0412777694e4"
      },
      "source": [
        "col_accum_index_dict"
      ],
      "execution_count": 112,
      "outputs": [
        {
          "output_type": "execute_result",
          "data": {
            "text/plain": [
              "{'age_bucket': 9113,\n",
              " 'gender': 9090,\n",
              " 'main_genre': 9072,\n",
              " 'movie_id': 5400,\n",
              " 'occupation': 9092,\n",
              " 'released_year_area': 9062,\n",
              " 'user_id': 0}"
            ]
          },
          "metadata": {
            "tags": []
          },
          "execution_count": 112
        }
      ]
    },
    {
      "cell_type": "code",
      "metadata": {
        "id": "Uxn58DSFmGOf"
      },
      "source": [
        "def make_libsvm_row(uid, mid):\n",
        "  row = []\n",
        "  user_id = str(col_accum_index_dict['user_id'] + uid - 1) + \":\" + str(1)\n",
        "  gender = str(col_accum_index_dict['gender'] + user_index_dict['gender'][uid] - 1) + \":\" + str(1)\n",
        "  age_bucket = str(col_accum_index_dict['age_bucket'] + user_index_dict['age_bucket'][uid] - 1) + \":\" + str(1)\n",
        "  occupation = str(col_accum_index_dict['occupation'] + user_index_dict['occupation'][uid] - 1) + \":\" + str(1)\n",
        "  movie_id = str(col_accum_index_dict['movie_id'] + int(mid) - 1) + \":\" + str(1)\n",
        "  released_year_area = str(col_accum_index_dict['released_year_area'] + movie_index_dict['released_year_area'][int(mid)] - 1) + \":\" + str(1)\n",
        "  main_genre = str(col_accum_index_dict['main_genre'] + movie_index_dict['main_genre'][int(mid)] - 1) + \":\" + str(1)\n",
        "  return \" \".join([user_id, gender, age_bucket, occupation, movie_id, released_year_area, main_genre])\n",
        "\n",
        "# make vector list\n",
        "vector_list = []\n",
        "uid_mid_list = []\n",
        "for uid, movie_set in recommendations.iteritems():\n",
        "  for mid in movie_set:\n",
        "    x_feature = []\n",
        "    libsvm_row = make_libsvm_row(uid, mid)\n",
        "    element = libsvm_row.split(\" \")\n",
        "    vector_list.append([np.array([int(pair.split(\":\")[0]) for pair in element]), np.array([int(pair.split(\":\")[1]) for pair in element])])\n",
        "    uid_mid_list.append((uid, mid))"
      ],
      "execution_count": 113,
      "outputs": []
    },
    {
      "cell_type": "code",
      "metadata": {
        "colab": {
          "base_uri": "https://localhost:8080/"
        },
        "id": "nBFV1gghmIEn",
        "outputId": "b9cf021d-f2ea-4913-c4e9-a806803a2b93"
      },
      "source": [
        "vector_list[0]"
      ],
      "execution_count": 114,
      "outputs": [
        {
          "output_type": "execute_result",
          "data": {
            "text/plain": [
              "[array([ 634, 9091, 9114, 9100, 7063, 9062, 9076]),\n",
              " array([1, 1, 1, 1, 1, 1, 1])]"
            ]
          },
          "metadata": {
            "tags": []
          },
          "execution_count": 114
        }
      ]
    },
    {
      "cell_type": "code",
      "metadata": {
        "colab": {
          "base_uri": "https://localhost:8080/"
        },
        "id": "77_am-EWmJb8",
        "outputId": "f462f66b-574b-4122-a84b-bfdae22155d3"
      },
      "source": [
        "uid_mid_list[0]"
      ],
      "execution_count": 115,
      "outputs": [
        {
          "output_type": "execute_result",
          "data": {
            "text/plain": [
              "(635, 1664)"
            ]
          },
          "metadata": {
            "tags": []
          },
          "execution_count": 115
        }
      ]
    },
    {
      "cell_type": "code",
      "metadata": {
        "id": "nksuEG5nmKkg"
      },
      "source": [
        "predict_results = fm.predict(vector_list)"
      ],
      "execution_count": 116,
      "outputs": []
    },
    {
      "cell_type": "code",
      "metadata": {
        "colab": {
          "base_uri": "https://localhost:8080/"
        },
        "id": "9_MYtg_ymLqW",
        "outputId": "d5c22442-fe93-45e1-edd9-6484a4fb834b"
      },
      "source": [
        "predict_results"
      ],
      "execution_count": 117,
      "outputs": [
        {
          "output_type": "execute_result",
          "data": {
            "text/plain": [
              "array([0.9848824 , 0.63623953, 0.14065582, ..., 0.61756022, 0.52733898,\n",
              "       0.32966426])"
            ]
          },
          "metadata": {
            "tags": []
          },
          "execution_count": 117
        }
      ]
    },
    {
      "cell_type": "markdown",
      "metadata": {
        "id": "mnCFvSbvnBm-"
      },
      "source": [
        "### 후보군 정렬"
      ]
    },
    {
      "cell_type": "code",
      "metadata": {
        "id": "zY6MtGvkm_3V"
      },
      "source": [
        "user_recommendation_dict = {}\n",
        "for watch_prob, uid_mid in zip(predict_results, uid_mid_list):\n",
        "  uid, mid = int(uid_mid[0]), int(uid_mid[1])\n",
        "  if uid not in user_recommendation_dict:\n",
        "    user_recommendation_dict[uid] = {}\n",
        "    user_recommendation_dict[uid][mid] = watch_prob\n",
        "  else:\n",
        "    if mid not in user_recommendation_dict[uid]:\n",
        "      user_recommendation_dict[uid][mid] = watch_prob"
      ],
      "execution_count": 118,
      "outputs": []
    },
    {
      "cell_type": "code",
      "metadata": {
        "colab": {
          "base_uri": "https://localhost:8080/",
          "height": 137
        },
        "id": "QOtZAvRDnCpN",
        "outputId": "355e8acc-5c14-4797-80ec-eda813c76329"
      },
      "source": [
        "str(user_recommendation_dict)[:2000]"
      ],
      "execution_count": 119,
      "outputs": [
        {
          "output_type": "execute_result",
          "data": {
            "application/vnd.google.colaboratory.intrinsic+json": {
              "type": "string"
            },
            "text/plain": [
              "'{635: {1664: 0.984882404018544, 1476: 0.6362395334300454, 2444: 0.14065581968502452, 527: 0.968792623299922, 1280: 0.9651750747413965, 787: 0.9462491029369806, 2964: 0.9703920682524744, 922: 0.978524344867944, 1178: 0.9151866087892397, 1830: 0.9811260579971903, 1041: 0.946331724609902, 1614: 0.7756341476892814, 3135: 0.7590146055294752, 50: 0.9403283299335886, 53: 0.5109788092856815, 3083: 0.9479493255488631, 3382: 0.9925601572827648, 318: 0.9762203667824089, 372: 0.7423637974881947, 1471: 0.4022743604042568, 3522: 0.6597905854260144, 2503: 0.9570210874570884, 3006: 0.9187811948361445, 3201: 0.9313673971347278, 2447: 0.7364398847838134, 3498: 0.9397034158095082, 1082: 0.9463407447261479, 2905: 0.9730618354106645, 858: 0.9394259349065884, 3163: 0.6402839892663613, 989: 0.39964561338459814, 2019: 0.9832430858920803, 745: 0.9762467143493251, 1955: 0.8113797938353153, 2930: 0.8423506338291351, 450: 0.8558288422153849, 1148: 0.9831090858352493}, 636: {1664: 0.5380694347783702, 379: 0.515335080515421, 780: 0.8241072794613072, 2444: 0.13050120324412945, 442: 0.6091101819238517, 332: 0.36718520343467265, 527: 0.967513360306646, 2393: 0.7088060746384225, 787: 0.8119060154642123, 1320: 0.6422209809413617, 2889: 0.7611319312008534, 2964: 0.7812779287130032, 922: 0.971520881333053, 1178: 0.9855827663459148, 1830: 0.5463441740965868, 3180: 0.18137045038980737, 1762: 0.6575590452904491, 50: 0.9741396937440573, 53: 0.730148800608966, 3382: 0.8998032476980093, 2977: 0.7713173609303856, 318: 0.9768301822588882, 1471: 0.928286252033324, 3522: 0.9808145186834678, 2503: 0.9001101740064925, 1692: 0.34187805574586533, 3687: 0.8930249587314527, 2905: 0.936582481661401, 858: 0.9674108066406842, 989: 0.29266626143651664, 2525: 0.5059302830843884, 2019: 0.9837326370159934, 745: 0.9800219767425578, 2930: 0.9476700799181632, 435: 0.38381829148656815, 1148: 0.9808397488320194, 466: 0.5573470741314486}, 637: {1664: 0.15240181823362536, 2444: 0.10158431546769497, 527: 0.9739651756781338, 787: 0.9'"
            ]
          },
          "metadata": {
            "tags": []
          },
          "execution_count": 119
        }
      ]
    },
    {
      "cell_type": "markdown",
      "metadata": {
        "id": "g5qb-FxCnFo0"
      },
      "source": [
        "### 추천 결과 평가"
      ]
    },
    {
      "cell_type": "markdown",
      "metadata": {
        "id": "fBUtN4m_nFlF"
      },
      "source": [
        "#### 추천 결과 평가 - 추천 후보군과 Test 데이터간의 MAP@K 계산"
      ]
    },
    {
      "cell_type": "code",
      "metadata": {
        "id": "nI27eZfsnD3b"
      },
      "source": [
        "# 4점 이상을 준 test 시청리스트 추출\n",
        "user_actual_watch_list = rating_df[(rating_df['time'] < 975768738) & (rating_df['rating'] >= 4)].groupby('user_id')['movie_id'].apply(lambda x: x.tolist())"
      ],
      "execution_count": 120,
      "outputs": []
    },
    {
      "cell_type": "code",
      "metadata": {
        "colab": {
          "base_uri": "https://localhost:8080/"
        },
        "id": "JXnE3nFynKx7",
        "outputId": "830dc2dd-6613-47b7-d33e-2484ef665dff"
      },
      "source": [
        "user_actual_watch_list"
      ],
      "execution_count": 121,
      "outputs": [
        {
          "output_type": "execute_result",
          "data": {
            "text/plain": [
              "user_id\n",
              "635     [1251, 3948, 1270, 1279, 1286, 3035, 920, 3067...\n",
              "636     [2054, 589, 1261, 780, 968, 2455, 1653, 2460, ...\n",
              "637     [2987, 3930, 3932, 3791, 1250, 2054, 1252, 125...\n",
              "638     [2987, 3793, 1259, 592, 1270, 1275, 1285, 3039...\n",
              "639     [2058, 589, 1408, 733, 592, 1275, 913, 3062, 1...\n",
              "                              ...                        \n",
              "6036    [589, 3006, 3008, 2064, 2069, 590, 593, 594, 5...\n",
              "6037    [3006, 2064, 593, 903, 904, 908, 909, 910, 912...\n",
              "6038    [1419, 3088, 232, 1136, 1148, 1183, 2146, 3548...\n",
              "6039    [588, 2067, 1416, 3022, 2080, 3035, 3037, 901,...\n",
              "6040    [573, 589, 593, 2070, 2076, 903, 904, 908, 910...\n",
              "Name: movie_id, Length: 5396, dtype: object"
            ]
          },
          "metadata": {
            "tags": []
          },
          "execution_count": 121
        }
      ]
    },
    {
      "cell_type": "code",
      "metadata": {
        "id": "lB5ZE4QKnMju"
      },
      "source": [
        "estimated_list = user_recommendation_dict[635].copy()\n",
        "sorted_list = sorted(estimated_list.items(), key=lambda t : t[1], reverse=True)\n",
        "top_k_list = [tup[0] for tup in sorted_list][:10]"
      ],
      "execution_count": 122,
      "outputs": []
    },
    {
      "cell_type": "code",
      "metadata": {
        "colab": {
          "base_uri": "https://localhost:8080/"
        },
        "id": "ZO4y0ChsnN7B",
        "outputId": "f0f447d7-24b7-45bb-d433-08ad6d3b4f0c"
      },
      "source": [
        "user_metric = []\n",
        "\n",
        "# 유저별 k개의 선호 리스트 추출\n",
        "k = 3\n",
        "for user in user_recommendation_dict:\n",
        "  try:\n",
        "    estimated_list = user_recommendation_dict[user].copy()\n",
        "    sorted_list = sorted(estimated_list.items(), key=lambda t : t[1], reverse=True)\n",
        "    top_k_list = [tup[0] for tup in sorted_list][:k]\n",
        "    user_metric.append((user, top_k_list, user_actual_watch_list[user]))\n",
        "  except:\n",
        "    print(\"list index out of range, exclude user \" + str(user))"
      ],
      "execution_count": 123,
      "outputs": [
        {
          "output_type": "stream",
          "text": [
            "list index out of range, exclude user 1160\n",
            "list index out of range, exclude user 3598\n",
            "list index out of range, exclude user 4467\n",
            "list index out of range, exclude user 4486\n"
          ],
          "name": "stdout"
        }
      ]
    },
    {
      "cell_type": "code",
      "metadata": {
        "id": "_8-zDz8hnO8T"
      },
      "source": [
        "def get_map(user_list):\n",
        "  precision_list = []\n",
        "  for user in user_list:\n",
        "    predictive_values = user[1]\n",
        "    actual_values = set(user[2])\n",
        "    tp = [pv for pv in predictive_values if pv in actual_values]\n",
        "    precision = len(tp) / len(predictive_values)\n",
        "    precision_list.append(precision)\n",
        "  return sum(precision_list) / len(precision_list)"
      ],
      "execution_count": 124,
      "outputs": []
    },
    {
      "cell_type": "code",
      "metadata": {
        "colab": {
          "base_uri": "https://localhost:8080/"
        },
        "id": "OaKAWoB0nQdL",
        "outputId": "2199f910-73b8-4e44-e978-81fa58b861f0"
      },
      "source": [
        "get_map(user_metric)"
      ],
      "execution_count": 125,
      "outputs": [
        {
          "output_type": "execute_result",
          "data": {
            "text/plain": [
              "0.07697059550284124"
            ]
          },
          "metadata": {
            "tags": []
          },
          "execution_count": 125
        }
      ]
    },
    {
      "cell_type": "code",
      "metadata": {
        "id": "R-df3lkwnRej"
      },
      "source": [
        "def get_map_topk(k):\n",
        "  user_metric = []\n",
        "  for user in user_recommendation_dict:\n",
        "    try:\n",
        "      estimated_list = user_recommendation_dict[user].copy()\n",
        "      sorted_list = sorted(estimated_list.items(), key=lambda t : t[1], reverse=True)\n",
        "      top_k_list = [tup[0] for tup in sorted_list][:k]\n",
        "      user_metric.append((user, top_k_list, user_actual_watch_list[user]))\n",
        "    except:\n",
        "      print(\"list index out of range, exclude user \" + str(user))\n",
        "  \n",
        "  precision_list = []\n",
        "  for user in user_metric:\n",
        "    predictive_values = user[1]\n",
        "    actual_values = set(user[2])\n",
        "    tp = [pv for pv in predictive_values if pv in actual_values]\n",
        "    precision = len(tp) / len(predictive_values)\n",
        "    precision_list.append(precision)\n",
        "  return sum(precision_list) / len(precision_list)"
      ],
      "execution_count": 126,
      "outputs": []
    },
    {
      "cell_type": "code",
      "metadata": {
        "colab": {
          "base_uri": "https://localhost:8080/"
        },
        "id": "4XU7a4uinSWw",
        "outputId": "f37de9c3-fc06-4a6f-8203-6f28a3735747"
      },
      "source": [
        "k_param_list = range(1,30)\n",
        "map_list = []\n",
        "for k in k_param_list:    \n",
        "  map_list.append(get_map_topk(k))"
      ],
      "execution_count": 127,
      "outputs": [
        {
          "output_type": "stream",
          "text": [
            "list index out of range, exclude user 1160\n",
            "list index out of range, exclude user 3598\n",
            "list index out of range, exclude user 4467\n",
            "list index out of range, exclude user 4486\n",
            "list index out of range, exclude user 1160\n",
            "list index out of range, exclude user 3598\n",
            "list index out of range, exclude user 4467\n",
            "list index out of range, exclude user 4486\n",
            "list index out of range, exclude user 1160\n",
            "list index out of range, exclude user 3598\n",
            "list index out of range, exclude user 4467\n",
            "list index out of range, exclude user 4486\n",
            "list index out of range, exclude user 1160\n",
            "list index out of range, exclude user 3598\n",
            "list index out of range, exclude user 4467\n",
            "list index out of range, exclude user 4486\n",
            "list index out of range, exclude user 1160\n",
            "list index out of range, exclude user 3598\n",
            "list index out of range, exclude user 4467\n",
            "list index out of range, exclude user 4486\n",
            "list index out of range, exclude user 1160\n",
            "list index out of range, exclude user 3598\n",
            "list index out of range, exclude user 4467\n",
            "list index out of range, exclude user 4486\n",
            "list index out of range, exclude user 1160\n",
            "list index out of range, exclude user 3598\n",
            "list index out of range, exclude user 4467\n",
            "list index out of range, exclude user 4486\n",
            "list index out of range, exclude user 1160\n",
            "list index out of range, exclude user 3598\n",
            "list index out of range, exclude user 4467\n",
            "list index out of range, exclude user 4486\n",
            "list index out of range, exclude user 1160\n",
            "list index out of range, exclude user 3598\n",
            "list index out of range, exclude user 4467\n",
            "list index out of range, exclude user 4486\n",
            "list index out of range, exclude user 1160\n",
            "list index out of range, exclude user 3598\n",
            "list index out of range, exclude user 4467\n",
            "list index out of range, exclude user 4486\n",
            "list index out of range, exclude user 1160\n",
            "list index out of range, exclude user 3598\n",
            "list index out of range, exclude user 4467\n",
            "list index out of range, exclude user 4486\n",
            "list index out of range, exclude user 1160\n",
            "list index out of range, exclude user 3598\n",
            "list index out of range, exclude user 4467\n",
            "list index out of range, exclude user 4486\n",
            "list index out of range, exclude user 1160\n",
            "list index out of range, exclude user 3598\n",
            "list index out of range, exclude user 4467\n",
            "list index out of range, exclude user 4486\n",
            "list index out of range, exclude user 1160\n",
            "list index out of range, exclude user 3598\n",
            "list index out of range, exclude user 4467\n",
            "list index out of range, exclude user 4486\n",
            "list index out of range, exclude user 1160\n",
            "list index out of range, exclude user 3598\n",
            "list index out of range, exclude user 4467\n",
            "list index out of range, exclude user 4486\n",
            "list index out of range, exclude user 1160\n",
            "list index out of range, exclude user 3598\n",
            "list index out of range, exclude user 4467\n",
            "list index out of range, exclude user 4486\n",
            "list index out of range, exclude user 1160\n",
            "list index out of range, exclude user 3598\n",
            "list index out of range, exclude user 4467\n",
            "list index out of range, exclude user 4486\n",
            "list index out of range, exclude user 1160\n",
            "list index out of range, exclude user 3598\n",
            "list index out of range, exclude user 4467\n",
            "list index out of range, exclude user 4486\n",
            "list index out of range, exclude user 1160\n",
            "list index out of range, exclude user 3598\n",
            "list index out of range, exclude user 4467\n",
            "list index out of range, exclude user 4486\n",
            "list index out of range, exclude user 1160\n",
            "list index out of range, exclude user 3598\n",
            "list index out of range, exclude user 4467\n",
            "list index out of range, exclude user 4486\n",
            "list index out of range, exclude user 1160\n",
            "list index out of range, exclude user 3598\n",
            "list index out of range, exclude user 4467\n",
            "list index out of range, exclude user 4486\n",
            "list index out of range, exclude user 1160\n",
            "list index out of range, exclude user 3598\n",
            "list index out of range, exclude user 4467\n",
            "list index out of range, exclude user 4486\n",
            "list index out of range, exclude user 1160\n",
            "list index out of range, exclude user 3598\n",
            "list index out of range, exclude user 4467\n",
            "list index out of range, exclude user 4486\n",
            "list index out of range, exclude user 1160\n",
            "list index out of range, exclude user 3598\n",
            "list index out of range, exclude user 4467\n",
            "list index out of range, exclude user 4486\n",
            "list index out of range, exclude user 1160\n",
            "list index out of range, exclude user 3598\n",
            "list index out of range, exclude user 4467\n",
            "list index out of range, exclude user 4486\n",
            "list index out of range, exclude user 1160\n",
            "list index out of range, exclude user 3598\n",
            "list index out of range, exclude user 4467\n",
            "list index out of range, exclude user 4486\n",
            "list index out of range, exclude user 1160\n",
            "list index out of range, exclude user 3598\n",
            "list index out of range, exclude user 4467\n",
            "list index out of range, exclude user 4486\n",
            "list index out of range, exclude user 1160\n",
            "list index out of range, exclude user 3598\n",
            "list index out of range, exclude user 4467\n",
            "list index out of range, exclude user 4486\n",
            "list index out of range, exclude user 1160\n",
            "list index out of range, exclude user 3598\n",
            "list index out of range, exclude user 4467\n",
            "list index out of range, exclude user 4486\n"
          ],
          "name": "stdout"
        }
      ]
    },
    {
      "cell_type": "code",
      "metadata": {
        "colab": {
          "base_uri": "https://localhost:8080/",
          "height": 298
        },
        "id": "hnNUEJPmnT_x",
        "outputId": "4e1f6c1c-1cb3-4393-f0e7-ae9bf9bc0669"
      },
      "source": [
        "plt.plot(k_param_list, map_list)\n",
        "plt.title('MAP by top k recommendation')\n",
        "plt.ylabel('MAP', fontsize=12)\n",
        "plt.xlabel('k', fontsize=12)\n",
        "plt.show()"
      ],
      "execution_count": 128,
      "outputs": [
        {
          "output_type": "display_data",
          "data": {
            "image/png": "[encoded data removed]",
            "text/plain": [
              "<Figure size 432x288 with 1 Axes>"
            ]
          },
          "metadata": {
            "tags": [],
            "needs_background": "light"
          }
        }
      ]
    },
    {
      "cell_type": "code",
      "metadata": {
        "id": "XB9owrE-nWdl"
      },
      "source": [
        ""
      ],
      "execution_count": null,
      "outputs": []
    }
  ]
}