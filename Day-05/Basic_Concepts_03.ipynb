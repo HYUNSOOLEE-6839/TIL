{
 "cells": [
  {
   "cell_type": "markdown",
   "metadata": {},
   "source": [
    "# 함수의 이해 및 사용"
   ]
  },
  {
   "cell_type": "markdown",
   "metadata": {},
   "source": [
    "### 함수의 정의\n",
    "- 정의 시 최초에 def 키워드 사용\n",
    "- argument 정의(함수에 입력으로 전달하는 값을 의미, arg 또는 parameter라고 함)\n",
    "- :(콜론) -> 함수 역시 코드 블록이기 때문에 콜론(:) 필요\n",
    "- body(함수의 구현 부분, 들여쓰기된 부분까지 함수의 코드블록으로 인지함)\n",
    "    + 함수를 호출한 코드(caller)로 함수가 해당 기능을 수행하고 output을 전달하기 위해 return 키워드 사용\n",
    "    + 즉, return 이후에 오는 값을 caller로 전달"
   ]
  },
  {
   "cell_type": "code",
   "execution_count": 1,
   "metadata": {},
   "outputs": [],
   "source": [
    "def add(x, y):\n",
    "    n = x + y\n",
    "    return n"
   ]
  },
  {
   "cell_type": "code",
   "execution_count": 2,
   "metadata": {},
   "outputs": [
    {
     "data": {
      "text/plain": [
       "33"
      ]
     },
     "execution_count": 2,
     "metadata": {},
     "output_type": "execute_result"
    }
   ],
   "source": [
    "add(3,30)"
   ]
  },
  {
   "cell_type": "markdown",
   "metadata": {},
   "source": [
    "### 함수의 사용(호출)\n",
    "- 함수명(파라미터1, 파라미터2 ... 파라미터n)\n",
    "- 위와 같이 정의 된 함수의 이름과 전달되는 parameter(인자)를 괄호 안에 전달하여 함수를 호출\n",
    "- 함수가 호출되면 실행의 흐름이 호출자(caller)에서 함수(callee)로 변경됨.\n",
    "- 함수의 입력(input) 파라미터, 아규먼트라고도 함."
   ]
  },
  {
   "cell_type": "code",
   "execution_count": 3,
   "metadata": {},
   "outputs": [
    {
     "name": "stdout",
     "output_type": "stream",
     "text": [
      "70\n"
     ]
    }
   ],
   "source": [
    "c = add(30, 40)\n",
    "print(c)"
   ]
  },
  {
   "cell_type": "markdown",
   "metadata": {},
   "source": [
    "### parameter(argument) (인자)\n",
    "- 함수에 전달되는 입력(input)\n",
    "- 입력이 필요하지 않을 수도, 여러 개의 입력이 존재할 수도 있음.\n",
    "- 파라미터로 int, string, float, boolean, list, dict 등 어떤 객체도 전달 가능.\n",
    "- 함수도 함수의 파라미터로 전달 가능\n",
    "- 함수 생성 시 의도된 파라미터의 타입에 맞게 입력을 전달하는 것이 중요.\n",
    "- 파라미터를 전달할 때, 정의된 순서에 따라 값을 전달하는 것이 중요."
   ]
  },
  {
   "cell_type": "code",
   "execution_count": 4,
   "metadata": {},
   "outputs": [
    {
     "name": "stdout",
     "output_type": "stream",
     "text": [
      "apple\n",
      "good\n",
      "100\n"
     ]
    }
   ],
   "source": [
    "def test():\n",
    "    print('apple')\n",
    "    print('good')\n",
    "    \n",
    "    return 100\n",
    "\n",
    "a = test()\n",
    "print(a)"
   ]
  },
  {
   "cell_type": "markdown",
   "metadata": {},
   "source": [
    "### Default parameter(기본 인자)\n",
    "- 함수의 파라미터에 기본값 지정 가능\n",
    "- 파라미터를 명시하지 않을 경우, 지정된 기본 값으로 대체"
   ]
  },
  {
   "cell_type": "code",
   "execution_count": 8,
   "metadata": {},
   "outputs": [
    {
     "data": {
      "text/plain": [
       "35"
      ]
     },
     "execution_count": 8,
     "metadata": {},
     "output_type": "execute_result"
    }
   ],
   "source": [
    "def add(x, y, z=5): # z를 5로 인식\n",
    "    a = x + y + z\n",
    "    return a\n",
    "\n",
    "add(10, 20) # 파라미터가 2개만 들어와도 z는 5로 인식하여 출력됨."
   ]
  },
  {
   "cell_type": "markdown",
   "metadata": {},
   "source": [
    "### 기본 파라미터의 다른 예\n",
    "- print 함수\n",
    "    + sep, end, file 등 여러 기본 파라미터를 가짐"
   ]
  },
  {
   "cell_type": "code",
   "execution_count": 10,
   "metadata": {},
   "outputs": [
    {
     "name": "stdout",
     "output_type": "stream",
     "text": [
      "1!2!3%%"
     ]
    }
   ],
   "source": [
    "print(1, 2, 3, sep = '!', end='%%')"
   ]
  },
  {
   "cell_type": "markdown",
   "metadata": {},
   "source": [
    "### Default parameter 사용 시 주의점\n",
    "- 디폴트 파라미터 뒤에 일반 파라미터가 위치할 수 없음.\n",
    "\n",
    "- e.g) 올바른 예\n",
    "    + def test(a, b, c=1)\n",
    "    + def test(a, b=1, c=2)\n",
    "- e.g) 올바르지 않은 예\n",
    "    + def test(a, b=1, c)\n",
    "    + def test(a=1, b, c)\n",
    "    \n",
    "- 파라미터는 끝부터 시작해야함."
   ]
  },
  {
   "cell_type": "markdown",
   "metadata": {},
   "source": [
    "### keyword parameter(키워드 파라미터)\n",
    "- 파이썬의 경우, 파라미터에 값을 전달할 때 파라미터의 이름을 명시하여 전달 가능\n",
    "- 파라미터의 이름을 사용하지 않을 경우, 기본적으로 순서에 맞게 전달"
   ]
  },
  {
   "cell_type": "code",
   "execution_count": 11,
   "metadata": {},
   "outputs": [
    {
     "data": {
      "text/plain": [
       "33"
      ]
     },
     "execution_count": 11,
     "metadata": {},
     "output_type": "execute_result"
    }
   ],
   "source": [
    "def test(x, y, z):\n",
    "    a = x + y + z\n",
    "    return a\n",
    "\n",
    "test(x=10, y=20, z=3)"
   ]
  },
  {
   "cell_type": "markdown",
   "metadata": {},
   "source": [
    "### return(리턴)\n",
    "- 기본적으로 함수의 종료를 명시\n",
    "    + return 옆에 값이나 수식이 있다면 해당 값을 호출자(caller)에게 반환\n",
    "    + return만 존재하면 None 반환\n",
    "    + return이 없는 경우, 기본적으로 함수 코드 블록이 종료되면 종료로 간주."
   ]
  },
  {
   "cell_type": "code",
   "execution_count": 13,
   "metadata": {},
   "outputs": [
    {
     "data": {
      "text/plain": [
       "60"
      ]
     },
     "execution_count": 13,
     "metadata": {},
     "output_type": "execute_result"
    }
   ],
   "source": [
    "def multiply(x, y):\n",
    "    if x > 10:\n",
    "        return x * y\n",
    "    \n",
    "    return (x + 2) * y\n",
    "\n",
    "multiply(12, 5)"
   ]
  },
  {
   "cell_type": "markdown",
   "metadata": {},
   "source": [
    "### multiple return (복수 값 반환)\n",
    "- tuple 반환을 하여 복수 개의 값 리턴 가능"
   ]
  },
  {
   "cell_type": "code",
   "execution_count": 14,
   "metadata": {},
   "outputs": [
    {
     "name": "stdout",
     "output_type": "stream",
     "text": [
      "<class 'tuple'>\n",
      "(23, 60)\n"
     ]
    }
   ],
   "source": [
    "def add_mul(x, y):\n",
    "    s = x + y\n",
    "    m = x * y\n",
    "    \n",
    "    return s, m\n",
    "\n",
    "c = add_mul(20, 3)\n",
    "print(type(c))\n",
    "print(c)"
   ]
  },
  {
   "cell_type": "markdown",
   "metadata": {},
   "source": [
    "### variable scope (변수의 범위)\n",
    "- 변수가 참조 가능한 코드 상의 범위를 명시\n",
    "- 함수 내의 변수는 자신이 속한 코드 블록이 종료되면 소멸됨\n",
    "- 이렇게 특정 코드 블록에서 선언된 변수를 지역변수(local variable)이라고 함\n",
    "- 반대로 가장 상단에서 정의되어 프로그램 종료 전까지 유지되는 변수를 전역변수(global variable)이라고 함.\n",
    "- 같은 이름의 지역변수와 전역변수가 존재할 경우, 지역변수의 우선순위가 더 높음."
   ]
  },
  {
   "cell_type": "code",
   "execution_count": 17,
   "metadata": {},
   "outputs": [
    {
     "name": "stdout",
     "output_type": "stream",
     "text": [
      "30 40\n",
      "10 30\n"
     ]
    }
   ],
   "source": [
    "num1 = 10\n",
    "num2 = 30\n",
    "\n",
    "def test(num1, num2):\n",
    "    print(num1, num2)\n",
    "    return num1 + num2\n",
    "\n",
    "test(30, 40) # 지역변수\n",
    "\n",
    "print(num1, num2)# 전역변수"
   ]
  },
  {
   "cell_type": "markdown",
   "metadata": {},
   "source": [
    "### variable length argument (가변길이 인자)\n",
    "- 전달되는 파라미터의 개수가 고정적이지 않은 경우 사용\n",
    "- e.g)\n",
    "    + print 함수\n",
    "    + format 함수\n",
    "    \n",
    "> *args, **kwargs\n",
    "\n",
    "> *args: 파라미터를 튜플의 형태로 전달\n",
    "\n",
    "> **kwargs : 파라미터를 딕셔너리 형태로 전달(네임드 파라미터)"
   ]
  },
  {
   "cell_type": "code",
   "execution_count": 18,
   "metadata": {},
   "outputs": [
    {
     "name": "stdout",
     "output_type": "stream",
     "text": [
      "\n",
      "1\n",
      "1 2\n",
      "1 2 3\n",
      "1 2 3 4\n"
     ]
    }
   ],
   "source": [
    "# 파라미터의 갯수가 동적임\n",
    "print()\n",
    "print(1)\n",
    "print(1,2)\n",
    "print(1,2,3)\n",
    "print(1,2,3,4)"
   ]
  },
  {
   "cell_type": "code",
   "execution_count": 23,
   "metadata": {},
   "outputs": [
    {
     "name": "stdout",
     "output_type": "stream",
     "text": [
      "<class 'tuple'>\n"
     ]
    }
   ],
   "source": [
    "# 가변길이함수 만들기\n",
    "def test(*x): \n",
    "    print(type(x))\n",
    "    \n",
    "test(10, 1, 2, 3, 4)"
   ]
  },
  {
   "cell_type": "code",
   "execution_count": 25,
   "metadata": {},
   "outputs": [
    {
     "name": "stdout",
     "output_type": "stream",
     "text": [
      "1\n",
      "2\n",
      "3\n",
      "4\n",
      "5\n"
     ]
    }
   ],
   "source": [
    "def test(*args):\n",
    "    for item in args:\n",
    "        print(item)\n",
    "        \n",
    "test(1, 2, 3, 4, 5)"
   ]
  },
  {
   "cell_type": "markdown",
   "metadata": {},
   "source": [
    "### keyword parameter(키워드 파라미터)\n",
    "- **가 붙은 경우에는 키워드 파라미터로 인식\n",
    "- 즉 함수 호출 시, 파라미터의 이름과 값을 함께 전달 가능"
   ]
  },
  {
   "cell_type": "code",
   "execution_count": 29,
   "metadata": {},
   "outputs": [
    {
     "name": "stdout",
     "output_type": "stream",
     "text": [
      "<class 'dict'>\n"
     ]
    }
   ],
   "source": [
    "def test2(**kwargs):\n",
    "    print(type(kwargs))\n",
    "    \n",
    "test2()"
   ]
  },
  {
   "cell_type": "code",
   "execution_count": 30,
   "metadata": {},
   "outputs": [
    {
     "name": "stdout",
     "output_type": "stream",
     "text": [
      "<class 'dict'>\n"
     ]
    }
   ],
   "source": [
    "test2(a=1, b=2, c=3, name='Bob')"
   ]
  },
  {
   "cell_type": "code",
   "execution_count": 31,
   "metadata": {},
   "outputs": [
    {
     "name": "stdout",
     "output_type": "stream",
     "text": [
      "key: a ,value: 1\n",
      "key: b ,value: 2\n",
      "key: c ,value: 3\n",
      "key: d ,value: 4\n",
      "key: name ,value: bob\n",
      "key: age ,value: 26\n"
     ]
    }
   ],
   "source": [
    "def test2(**kwargs):\n",
    "    for key, value in kwargs.items():\n",
    "        print('key:', key, ',value:', value)\n",
    "        \n",
    "test2(a=1, b=2, c=3, d=4, name='bob', age=26)"
   ]
  },
  {
   "cell_type": "markdown",
   "metadata": {},
   "source": [
    "- 가변길이 함수의 대표적인 예 : 문자열 포맷 함수\n",
    "    + 여러가지 값과 포맷을 이용하여 문자열을 정의할 수 있는 함수\n",
    "    + { } placeholder를 문자열 내에 위치시킨 후, 해당 위치에 format함수로 전달된 값으로 대체하여 문자열 생성"
   ]
  },
  {
   "cell_type": "code",
   "execution_count": 33,
   "metadata": {},
   "outputs": [
    {
     "name": "stdout",
     "output_type": "stream",
     "text": [
      "오늘 온도: 20도, 강수확률은: 50% 내일 온도: 23도\n"
     ]
    }
   ],
   "source": [
    "a = '오늘 온도: {}도, 강수확률은: {}% 내일 온도: {}도'.format(20, 50, 23)\n",
    "print(a)"
   ]
  },
  {
   "cell_type": "code",
   "execution_count": 34,
   "metadata": {},
   "outputs": [
    {
     "name": "stdout",
     "output_type": "stream",
     "text": [
      "오늘 온도: 23도, 강수확률은: 50% 내일 온도: 20도\n"
     ]
    }
   ],
   "source": [
    "b = '오늘 온도: {today_temp}도, 강수확률은: {today_prob}% 내일 온도: {tomorrow_temp}도'.format(tomorrow_temp=20, today_prob=50, today_temp=23)\n",
    "print(b)"
   ]
  },
  {
   "cell_type": "markdown",
   "metadata": {},
   "source": [
    "### Lambda 함수\n",
    "- 단일문으로 표현되는 익명함수\n",
    "- 익명함수란 이름이 없는 구현체만 존재하는 간단한 함수를 의미\n",
    "- 코드 상에서 한 번만 사용되는 기능이 있을 때, 굳이 함수로 만들지 않고 1회성으로 만들어 쓸 때 사용.\n",
    "- lambda 파라미터 : return하고자 하는 값"
   ]
  },
  {
   "cell_type": "code",
   "execution_count": 38,
   "metadata": {},
   "outputs": [
    {
     "name": "stdout",
     "output_type": "stream",
     "text": [
      "<class 'function'>\n",
      "25\n"
     ]
    }
   ],
   "source": [
    "square = lambda x:x**2\n",
    "print(type(square))\n",
    "print(square(5))"
   ]
  },
  {
   "cell_type": "code",
   "execution_count": 39,
   "metadata": {},
   "outputs": [
    {
     "data": {
      "text/plain": [
       "30"
      ]
     },
     "execution_count": 39,
     "metadata": {},
     "output_type": "execute_result"
    }
   ],
   "source": [
    "def add(x, y):\n",
    "    return x + y\n",
    "\n",
    "add2 = lambda x,y:x+y\n",
    "add2(10, 20)"
   ]
  },
  {
   "cell_type": "code",
   "execution_count": 40,
   "metadata": {},
   "outputs": [
    {
     "name": "stdout",
     "output_type": "stream",
     "text": [
      "['bob', 'cab', 'pat', 'pot', 'was', 'zed']\n"
     ]
    }
   ],
   "source": [
    "strings = ['bob', 'cab', 'pat', 'was', 'zed', 'pot']\n",
    "strings.sort()\n",
    "\n",
    "print(strings)"
   ]
  },
  {
   "cell_type": "code",
   "execution_count": 41,
   "metadata": {},
   "outputs": [
    {
     "data": {
      "text/plain": [
       "4"
      ]
     },
     "execution_count": 41,
     "metadata": {},
     "output_type": "execute_result"
    }
   ],
   "source": [
    "def str_len(s):\n",
    "    return len(s)\n",
    "\n",
    "str_len('test')"
   ]
  },
  {
   "cell_type": "code",
   "execution_count": 44,
   "metadata": {},
   "outputs": [
    {
     "name": "stdout",
     "output_type": "stream",
     "text": [
      "['bob', 'cab', 'pat', 'was', 'zed', 'pot', 'test', 'place', 'banana']\n"
     ]
    }
   ],
   "source": [
    "# key를 str_len으로 줌으로써 문자열의 길이에 따라 정렬\n",
    "strings = ['bob', 'cab', 'test', 'place', 'banana', 'pat', 'was', 'zed', 'pot']\n",
    "strings.sort(key=str_len)\n",
    "\n",
    "print(strings)"
   ]
  },
  {
   "cell_type": "code",
   "execution_count": 45,
   "metadata": {},
   "outputs": [
    {
     "name": "stdout",
     "output_type": "stream",
     "text": [
      "['bob', 'cab', 'pat', 'was', 'zed', 'pot', 'test', 'place', 'banana']\n"
     ]
    }
   ],
   "source": [
    "# lambda 함수 활용\n",
    "strings = ['bob', 'cab', 'test', 'place', 'banana', 'pat', 'was', 'zed', 'pot']\n",
    "strings.sort(key=lambda s:len(s))\n",
    "\n",
    "print(strings)"
   ]
  },
  {
   "cell_type": "markdown",
   "metadata": {},
   "source": [
    "### filter, map, reduce\n",
    "- lambda가 유용하게 사용되는 3가지 대표적 함수\n",
    "- 함수형 프로그래밍의 기본 요소이기도 함.\n",
    "- filter : 특정 조건을 만족하는 요소만 남기고 필터링\n",
    "- map : 각 원소를 주어진 수식에 따라 변형하여 새로운 리스트를 반환\n",
    "- reduce : 차례대로 앞 2개의 원소를 가지고 연산. 연산의 결과가 또 다음 연산의 입력으로 진행되어 최종 출력은 한 개의 값만 출력.\n",
    "\n",
    "- filter(함수, 리스트)"
   ]
  },
  {
   "cell_type": "code",
   "execution_count": 47,
   "metadata": {},
   "outputs": [
    {
     "data": {
      "text/plain": [
       "False"
      ]
     },
     "execution_count": 47,
     "metadata": {},
     "output_type": "execute_result"
    }
   ],
   "source": [
    "def even(n):\n",
    "    return n % 2 == 0\n",
    "\n",
    "even(3)"
   ]
  },
  {
   "cell_type": "code",
   "execution_count": 50,
   "metadata": {},
   "outputs": [
    {
     "data": {
      "text/plain": [
       "[2, 6, 8]"
      ]
     },
     "execution_count": 50,
     "metadata": {},
     "output_type": "execute_result"
    }
   ],
   "source": [
    "nums = [1, 2, 3, 6, 8, 9]\n",
    "list(filter(even ,nums))"
   ]
  },
  {
   "cell_type": "code",
   "execution_count": 51,
   "metadata": {},
   "outputs": [
    {
     "data": {
      "text/plain": [
       "[2, 6, 8]"
      ]
     },
     "execution_count": 51,
     "metadata": {},
     "output_type": "execute_result"
    }
   ],
   "source": [
    "# 람다 함수 활용\n",
    "nums = [1, 2, 3, 6, 8, 9]\n",
    "list(filter(lambda n:n%2==0, nums))"
   ]
  },
  {
   "cell_type": "code",
   "execution_count": 53,
   "metadata": {},
   "outputs": [
    {
     "data": {
      "text/plain": [
       "[1, 4, 9, 36, 64, 81]"
      ]
     },
     "execution_count": 53,
     "metadata": {},
     "output_type": "execute_result"
    }
   ],
   "source": [
    "# map\n",
    "# 주어진 리스트, 리스트의 제곱을 한 숫자로 이루어진 새로운 리스트 생성\n",
    "# map(함수, 리스트)\n",
    "list(map(lambda n:n**2, nums))"
   ]
  },
  {
   "cell_type": "code",
   "execution_count": 56,
   "metadata": {},
   "outputs": [
    {
     "data": {
      "text/plain": [
       "55"
      ]
     },
     "execution_count": 56,
     "metadata": {},
     "output_type": "execute_result"
    }
   ],
   "source": [
    "import functools\n",
    "\n",
    "# functools.reduce(함수, 리스트) # 함수의 파라미터는 반드시 2개가 들어와야함.\n",
    "# 리스트 내 모든 숫자의 합\n",
    "a = list(range(1, 11))\n",
    "functools.reduce(lambda x, y:x+y, a)"
   ]
  },
  {
   "cell_type": "code",
   "execution_count": 57,
   "metadata": {},
   "outputs": [
    {
     "name": "stdout",
     "output_type": "stream",
     "text": [
      "2.0\n",
      "3.0\n",
      "3.7571428571428567\n"
     ]
    }
   ],
   "source": [
    "# 숫자 리스트의 평균 구하기\n",
    "# 입력 : 숫자 리스트\n",
    "# 출력 : 숫자 리스트의 평균 값\n",
    "def mean(nums):\n",
    "    _sum = 0\n",
    "    for i in nums:\n",
    "        _sum += i\n",
    "        \n",
    "    return _sum / len(nums)\n",
    "print(mean([1, 2, 3]))\n",
    "print(mean([1, 2, 3, 4, 5]))\n",
    "print(mean([1, 2, 3, 3.9, 8.1, 5.4, 2.9]))"
   ]
  },
  {
   "cell_type": "code",
   "execution_count": 74,
   "metadata": {},
   "outputs": [
    {
     "name": "stdout",
     "output_type": "stream",
     "text": [
      "True\n",
      "False\n",
      "True\n",
      "False\n",
      "False\n"
     ]
    }
   ],
   "source": [
    "# 소수 판별 (1과 자기 자신으로만 나눠지는 수)\n",
    "# 입력 : 양의 정수 1개\n",
    "# 출력 : boolean (소수: True, 합성수: False)\n",
    "\n",
    "def is_prime(num):\n",
    "    for i in range(2, num):\n",
    "        if num % i == 0: # 나눠 떨어지면\n",
    "            return False # False 반환,\n",
    "    return True # for loop이 if 문에 한 번도 안 걸리면 True 반환\n",
    "    \n",
    "            \n",
    "print(is_prime(17))\n",
    "print(is_prime(15))\n",
    "print(is_prime(19))\n",
    "print(is_prime(21))\n",
    "print(is_prime(100))"
   ]
  },
  {
   "cell_type": "code",
   "execution_count": 77,
   "metadata": {},
   "outputs": [
    {
     "name": "stdout",
     "output_type": "stream",
     "text": [
      "4\n",
      "3\n",
      "25\n",
      "1734\n"
     ]
    }
   ],
   "source": [
    "# 주어진 숫자들 중 소수가 몇 개인지 세어보기\n",
    "# 입력 : 양의 정수 1개\n",
    "# 출력 : 2부터 해당 숫자 사이의 소수의 개수\n",
    "\n",
    "def num_prime(num):\n",
    "    count = 0\n",
    "    for i in range(2, num+1): # num을 포함해야하기 때문에 +1\n",
    "        if is_prime(i):\n",
    "            count += 1 # is_prime이 true인 경우 1 증가.\n",
    "    return count\n",
    "\n",
    "print(num_prime(7))\n",
    "print(num_prime(5))\n",
    "print(num_prime(100))\n",
    "print(num_prime(14811))"
   ]
  },
  {
   "cell_type": "code",
   "execution_count": null,
   "metadata": {},
   "outputs": [],
   "source": []
  }
 ],
 "metadata": {
  "kernelspec": {
   "display_name": "Python 3",
   "language": "python",
   "name": "python3"
  },
  "language_info": {
   "codemirror_mode": {
    "name": "ipython",
    "version": 3
   },
   "file_extension": ".py",
   "mimetype": "text/x-python",
   "name": "python",
   "nbconvert_exporter": "python",
   "pygments_lexer": "ipython3",
   "version": "3.8.5"
  }
 },
 "nbformat": 4,
 "nbformat_minor": 4
}
