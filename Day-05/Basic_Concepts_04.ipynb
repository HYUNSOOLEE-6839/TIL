{
 "cells": [
  {
   "cell_type": "markdown",
   "metadata": {},
   "source": [
    "# 모듈 임포트\n",
    "- 다양한 기능들이 미리 함수로 구현되어 모듈 형태로 제공\n",
    "- requests - HTTP 요청 / 응답 모듈\n",
    "- numpy - 수치해석모듈\n",
    "- pandas - 데이터 분석 모듈"
   ]
  },
  {
   "cell_type": "code",
   "execution_count": 1,
   "metadata": {},
   "outputs": [
    {
     "data": {
      "text/plain": [
       "'<!doctype html><html itemscope=\"\" itemtype=\"http://schema.org/WebPage\" lang=\"ko\"><head><meta content=\"text/html; charset=UTF-8\" http-equiv=\"Content-Type\"><meta content=\"/images/branding/googleg/1x/googleg_standard_color_128dp.png\" itemprop=\"image\"><title>Google</title><script nonce=\"9k45IxTAy2HQr2Qg29+sig==\">(function(){window.google={kEI:\\'_Ng9YIXDDoeSr7wPiZuG0Ag\\',kEXPI:\\'0,1302440,56969,954,5104,207,4804,2316,383,246,5,1129,225,1301,3949,1666,676,604,1119570,1232,1196467,584,328984,51224,16114,17444,11240,9188,8384,4859,1361,9291,3027,2817,1923,12841,4020,978,13228,2974,873,37,10585,7432,7096,4517,2777,919,2277,8,2796,1593,1279,2212,530,149,1103,840,517,1522,4258,108,204,1137,2,2063,606,2023,1777,520,4269,328,1284,8789,3227,1990,855,7,12354,5096,7876,3748,1181,108,3407,908,2,941,2614,2397,10745,3,576,1835,4624,149,5990,7985,4,498,1030,2304,224,1012,1145,4658,1791,2892,460,1555,3791,276,1036,1928,2670,1426,5495,1753,2658,492,3750,519,913,563,299,165,39,617,30,1173,2681,1762,2513,2615,2884,2305,638,1494,605,2,4979,2361,55,1356,5434,587,11,731,665,1701,444,3673,2539,479,142,369,1057,907,1140,67,99,2972,6,908,3,3370,171,1,1042,2,2288,188,256,2241,982,1641,2,1302,501,1008,3257,1187,627,38,245,389,2,1,3,3951,1941,617,1161,99,238,956,2,42,18,956,35,1,3246,432,2857,712,77,138,1114,442,2,77,1261,56,113,2,1301,145,310,2,51,162,183,70,2,120,345,1339,6,370,2,1182,7,1868,483,71,781,735,442,93,2867,139,103,612,953,943,4,76,31,226,159,2,2,343,2,422,135,1059,1283,1,929,154,5685152,3870,35,62,145,5997093,4,2799383,1324,549,333,444,1,2,80,1,1796,1,9,2,2551,1,748,141,795,563,1,4265,1,1,2,1331,3299,248,595,1,2608,155,17,13,72,174,9,89,14,18,34,13,16,46,5,39,20736918,3220020,2776206,1234068,268,730,2,148,2,772,25336\\',kBL:\\'eq1O\\'};google.sn=\\'webhp\\';google.kHL=\\'ko\\';})();(function(){\\nvar f=[];google.getEI=function(a){for(var b;a&&(!a.getAttribute||!(b=a.getAttribute(\"eid\")));)a=a.parentNode;return b||google.kEI};google.getLEI=function(a){for(var b=null;a&&(!a.getAttribute||!(b=a.getAttribute(\"leid\")));)a=a.parentNode;return b};google.ml=function(){return null};google.log=function(a,b,c,d,g){if(c=google.logUrl(a,b,c,d,g)){a=new Image;var e=f.length;f[e]=a;a.onerror=a.onload=a.onabort=function(){delete f[e]};a.src=c}};google.logUrl=function(a,b,c,d,g){var e=\"\";c||-1!=b.search(\"&ei=\")||(e=\"&ei=\"+google.getEI(d),-1==b.search(\"&lei=\")&&(d=google.getLEI(d))&&(e+=\"&lei=\"+d));d=\"\";!c&&window._cshid&&-1==b.search(\"&cshid=\")&&\"slh\"!=a&&(d=\"&cshid=\"+window._cshid);c=c||\"/\"+(g||\"gen_204\")+\"?atyp=i&ct=\"+a+\"&cad=\"+b+e+\"&zx=\"+Date.now()+d;/^http:/i.test(c)&&\"https:\"==window.location.protocol&&(google.ml(Error(\"a\"),!1,{src:c,glmm:1}),c=\"\");return c};}).call(this);(function(){google.y={};google.x=function(a,b){if(a)var c=a.id;else{do c=Math.random();while(google.y[c])}google.y[c]=[a,b];return!1};google.lm=[];google.plm=function(a){google.lm.push.apply(google.lm,a)};google.lq=[];google.load=function(a,b,c){google.lq.push([[a],b,c])};google.loadAll=function(a,b){google.lq.push([a,b])};google.bx=!1;google.lx=function(){};}).call(this);google.f={};(function(){\\ndocument.documentElement.addEventListener(\"submit\",function(b){var a;if(a=b.target){var c=a.getAttribute(\"data-submitfalse\");a=\"1\"==c||\"q\"==c&&!a.elements.q.value?!0:!1}else a=!1;a&&(b.preventDefault(),b.stopPropagation())},!0);document.documentElement.addEventListener(\"click\",function(b){var a;a:{for(a=b.target;a&&a!=document.documentElement;a=a.parentElement)if(\"A\"==a.tagName){a=\"1\"==a.getAttribute(\"data-nohref\");break a}a=!1}a&&b.preventDefault()},!0);}).call(this);\\nvar a=window.location,b=a.href.indexOf(\"#\");if(0<=b){var c=a.href.substring(b+1);/(^|&)q=/.test(c)&&-1==c.indexOf(\"#\")&&a.replace(\"/search?\"+c.replace(/(^|&)fp=[^&]*/g,\"\")+\"&cad=h\")};</script><style>#gbar,#guser{font-size:13px;padding-top:1px !important;}#gbar{height:22px}#guser{padding-bottom:7px !important;text-align:right}.gbh,.gbd{border-top:1px solid #c9d7f1;font-size:1px}.gbh{height:0;position:absolute;top:24px;width:100%}@media all{.gb1{height:22px;margin-right:.5em;vertical-align:top}#gbar{float:left}}a.gb1,a.gb4{text-decoration:underline !important}a.gb1,a.gb4{color:#00c !important}.gbi .gb4{color:#dd8e27 !important}.gbf .gb4{color:#900 !important}\\n</style><style>body,td,a,p,.h{font-family:&#44404;&#47548;,&#46027;&#50880;,arial,sans-serif}.ko{font-size:9pt}body{margin:0;overflow-y:scroll}#gog{padding:3px 8px 0}td{line-height:.8em}.gac_m td{line-height:17px}form{margin-bottom:20px}.h{color:#1558d6}em{font-weight:bold;font-style:normal}.lst{height:25px;width:496px}.gsfi,.lst{font:18px arial,sans-serif}.gsfs{font:17px arial,sans-serif}.ds{display:inline-box;display:inline-block;margin:3px 0 4px;margin-left:4px}input{font-family:inherit}body{background:#fff;color:#000}a{color:#4b11a8;text-decoration:none}a:hover,a:active{text-decoration:underline}.fl a{color:#1558d6}a:visited{color:#4b11a8}.sblc{padding-top:5px}.sblc a{display:block;margin:2px 0;margin-left:13px;font-size:11px}.lsbb{background:#f8f9fa;border:solid 1px;border-color:#dadce0 #70757a #70757a #dadce0;height:30px}.lsbb{display:block}#WqQANb a{display:inline-block;margin:0 12px}.lsb{background:url(/images/nav_logo229.png) 0 -261px repeat-x;border:none;color:#000;cursor:pointer;height:30px;margin:0;outline:0;font:15px arial,sans-serif;vertical-align:top}.lsb:active{background:#dadce0}.lst:focus{outline:none}.tiah{width:458px}</style><script nonce=\"9k45IxTAy2HQr2Qg29+sig==\"></script></head><body bgcolor=\"#fff\"><script nonce=\"9k45IxTAy2HQr2Qg29+sig==\">(function(){var src=\\'/images/nav_logo229.png\\';var iesg=false;document.body.onload = function(){window.n && window.n();if (document.images){new Image().src=src;}\\nif (!iesg){document.f&&document.f.q.focus();document.gbqf&&document.gbqf.q.focus();}\\n}\\n})();</script><div id=\"mngb\"><div id=gbar><nobr><b class=gb1>&#44160;&#49353;</b> <a class=gb1 href=\"http://www.google.co.kr/imghp?hl=ko&tab=wi\">&#51060;&#48120;&#51648;</a> <a class=gb1 href=\"http://maps.google.co.kr/maps?hl=ko&tab=wl\">&#51648;&#46020;</a> <a class=gb1 href=\"https://play.google.com/?hl=ko&tab=w8\">Play</a> <a class=gb1 href=\"http://www.youtube.com/?gl=KR&tab=w1\">YouTube</a> <a class=gb1 href=\"https://news.google.com/?tab=wn\">&#45684;&#49828;</a> <a class=gb1 href=\"https://mail.google.com/mail/?tab=wm\">Gmail</a> <a class=gb1 href=\"https://drive.google.com/?tab=wo\">&#46300;&#46972;&#51060;&#48652;</a> <a class=gb1 style=\"text-decoration:none\" href=\"https://www.google.co.kr/intl/ko/about/products?tab=wh\"><u>&#45908;&#48372;&#44592;</u> &raquo;</a></nobr></div><div id=guser width=100%><nobr><span id=gbn class=gbi></span><span id=gbf class=gbf></span><span id=gbe></span><a href=\"http://www.google.co.kr/history/optout?hl=ko\" class=gb4>&#50937; &#44592;&#47197;</a> | <a  href=\"/preferences?hl=ko\" class=gb4>&#49444;&#51221;</a> | <a target=_top id=gb_70 href=\"https://accounts.google.com/ServiceLogin?hl=ko&passive=true&continue=http://www.google.com/&ec=GAZAAQ\" class=gb4>&#47196;&#44536;&#51064;</a></nobr></div><div class=gbh style=left:0></div><div class=gbh style=right:0></div></div><center><br clear=\"all\" id=\"lgpd\"><div id=\"lga\"><img alt=\"Google\" height=\"92\" src=\"/images/branding/googlelogo/1x/googlelogo_white_background_color_272x92dp.png\" style=\"padding:28px 0 14px\" width=\"272\" id=\"hplogo\"><br><br></div><form action=\"/search\" name=\"f\"><table cellpadding=\"0\" cellspacing=\"0\"><tr valign=\"top\"><td width=\"25%\">&nbsp;</td><td align=\"center\" nowrap=\"\"><input name=\"ie\" value=\"ISO-8859-1\" type=\"hidden\"><input value=\"ko\" name=\"hl\" type=\"hidden\"><input name=\"source\" type=\"hidden\" value=\"hp\"><input name=\"biw\" type=\"hidden\"><input name=\"bih\" type=\"hidden\"><div class=\"ds\" style=\"height:32px;margin:4px 0\"><div style=\"position:relative;zoom:1\"><input class=\"lst tiah\" style=\"margin:0;padding:5px 8px 0 6px;vertical-align:top;color:#000;padding-right:38px\" autocomplete=\"off\" value=\"\" title=\"Google &#44160;&#49353;\" maxlength=\"2048\" name=\"q\" size=\"57\"><img src=\"/textinputassistant/tia.png\" style=\"position:absolute;cursor:pointer;right:5px;top:4px;z-index:300\" data-script-url=\"/textinputassistant/11/ko_tia.js\" id=\"tsuid1\" alt=\"\" height=\"23\" width=\"27\"><script nonce=\"9k45IxTAy2HQr2Qg29+sig==\">(function(){var id=\\'tsuid1\\';document.getElementById(id).onclick = function(){var s = document.createElement(\\'script\\');s.src = this.getAttribute(\\'data-script-url\\');(document.getElementById(\\'xjsc\\')||document.body).appendChild(s);};})();</script></div></div><br style=\"line-height:0\"><span class=\"ds\"><span class=\"lsbb\"><input class=\"lsb\" value=\"Google &#44160;&#49353;\" name=\"btnG\" type=\"submit\"></span></span><span class=\"ds\"><span class=\"lsbb\"><input class=\"lsb\" id=\"tsuid2\" value=\"I&#8217;m Feeling Lucky\" name=\"btnI\" type=\"submit\"><script nonce=\"9k45IxTAy2HQr2Qg29+sig==\">(function(){var id=\\'tsuid2\\';document.getElementById(id).onclick = function(){if (this.form.q.value){this.checked = 1;if (this.form.iflsig)this.form.iflsig.disabled = false;}\\nelse top.location=\\'/doodles/\\';};})();</script><input value=\"AINFCbYAAAAAYD3nDKh4RkyL5hkCV3gPVMhkWAMiQ-Kw\" name=\"iflsig\" type=\"hidden\"></span></span></td><td class=\"fl sblc\" align=\"left\" nowrap=\"\" width=\"25%\"><a href=\"/advanced_search?hl=ko&amp;authuser=0\">&#44256;&#44553;&#44160;&#49353;</a></td></tr></table><input id=\"gbv\" name=\"gbv\" type=\"hidden\" value=\"1\"><script nonce=\"9k45IxTAy2HQr2Qg29+sig==\">(function(){var a,b=\"1\";if(document&&document.getElementById)if(\"undefined\"!=typeof XMLHttpRequest)b=\"2\";else if(\"undefined\"!=typeof ActiveXObject){var c,d,e=[\"MSXML2.XMLHTTP.6.0\",\"MSXML2.XMLHTTP.3.0\",\"MSXML2.XMLHTTP\",\"Microsoft.XMLHTTP\"];for(c=0;d=e[c++];)try{new ActiveXObject(d),b=\"2\"}catch(h){}}a=b;if(\"2\"==a&&-1==location.search.indexOf(\"&gbv=2\")){var f=google.gbvu,g=document.getElementById(\"gbv\");g&&(g.value=a);f&&window.setTimeout(function(){location.href=f},0)};}).call(this);</script></form><div id=\"gac_scont\"></div><div style=\"font-size:83%;min-height:3.5em\"><br></div><span id=\"footer\"><div style=\"font-size:10pt\"><div style=\"margin:19px auto;text-align:center\" id=\"WqQANb\"><a href=\"/intl/ko/ads/\">&#44305;&#44256; &#54532;&#47196;&#44536;&#47016;</a><a href=\"http://www.google.co.kr/intl/ko/services/\">&#48708;&#51592;&#45768;&#49828; &#49556;&#47336;&#49496;</a><a href=\"/intl/ko/about.html\">Google &#51221;&#48372;</a><a href=\"http://www.google.com/setprefdomain?prefdom=KR&amp;prev=http://www.google.co.kr/&amp;sig=K_ZxwFkP3WJc4bmufA5oJ8JoJ3kyY%3D\">Google.co.kr</a></div></div><p style=\"font-size:8pt;color:#70757a\">&copy; 2021 - <a href=\"/intl/ko/policies/privacy/\">&#44060;&#51064;&#51221;&#48372;&#52376;&#47532;&#48169;&#52840;</a> - <a href=\"/intl/ko/policies/terms/\">&#50557;&#44288;</a></p></span></center><script nonce=\"9k45IxTAy2HQr2Qg29+sig==\">(function(){window.google.cdo={height:0,width:0};(function(){var a=window.innerWidth,b=window.innerHeight;if(!a||!b){var c=window.document,d=\"CSS1Compat\"==c.compatMode?c.documentElement:c.body;a=d.clientWidth;b=d.clientHeight}a&&b&&(a!=google.cdo.width||b!=google.cdo.height)&&google.log(\"\",\"\",\"/client_204?&atyp=i&biw=\"+a+\"&bih=\"+b+\"&ei=\"+google.kEI);}).call(this);})();(function(){var u=\\'/xjs/_/js/k\\\\x3dxjs.hp.en.wTAk6tzdRYA.O/m\\\\x3dsb_he,d/am\\\\x3dAHiCOA/d\\\\x3d1/rs\\\\x3dACT90oGTDaBGjQcvI-FLN53gQCaxrdT7rA\\';\\nvar d=this||self,e=/^[\\\\w+/_-]+[=]{0,2}$/,f=null,g=function(a){return(a=a.querySelector&&a.querySelector(\"script[nonce]\"))&&(a=a.nonce||a.getAttribute(\"nonce\"))&&e.test(a)?a:\"\"},h=function(a){return a};var l;var n=function(a,b){this.g=b===m?a:\"\"};n.prototype.toString=function(){return this.g+\"\"};var m={};function p(){var a=u;google.lx=function(){q(a);google.lx=function(){}};google.bx||google.lx()}\\nfunction q(a){var b=document;var c=\"SCRIPT\";\"application/xhtml+xml\"===b.contentType&&(c=c.toLowerCase());c=b.createElement(c);if(void 0===l){b=null;var k=d.trustedTypes;if(k&&k.createPolicy){try{b=k.createPolicy(\"goog#html\",{createHTML:h,createScript:h,createScriptURL:h})}catch(r){d.console&&d.console.error(r.message)}l=b}else l=b}a=(b=l)?b.createScriptURL(a):a;a=new n(a,m);c.src=a instanceof n&&a.constructor===n?a.g:\"type_error:TrustedResourceUrl\";(a=c.ownerDocument&&c.ownerDocument.defaultView)&&\\na!=d?a=g(a.document):(null===f&&(f=g(d.document)),a=f);a&&c.setAttribute(\"nonce\",a);google.timers&&google.timers.load&&google.tick&&google.tick(\"load\",\"xjsls\");document.body.appendChild(c)};setTimeout(function(){p()},0);})();(function(){window.google.xjsu=\\'/xjs/_/js/k\\\\x3dxjs.hp.en.wTAk6tzdRYA.O/m\\\\x3dsb_he,d/am\\\\x3dAHiCOA/d\\\\x3d1/rs\\\\x3dACT90oGTDaBGjQcvI-FLN53gQCaxrdT7rA\\';})();function _DumpException(e){throw e;}\\nfunction _F_installCss(c){}\\n(function(){google.jl={blt:\\'none\\',dw:false,em:[],emw:false,lls:\\'default\\',pdt:0,snet:true,uwp:true};})();(function(){var pmc=\\'{\\\\x22d\\\\x22:{},\\\\x22sb_he\\\\x22:{\\\\x22agen\\\\x22:true,\\\\x22cgen\\\\x22:true,\\\\x22client\\\\x22:\\\\x22heirloom-hp\\\\x22,\\\\x22dh\\\\x22:true,\\\\x22dhqt\\\\x22:true,\\\\x22ds\\\\x22:\\\\x22\\\\x22,\\\\x22ffql\\\\x22:\\\\x22ko\\\\x22,\\\\x22fl\\\\x22:true,\\\\x22host\\\\x22:\\\\x22google.com\\\\x22,\\\\x22isbh\\\\x22:28,\\\\x22jsonp\\\\x22:true,\\\\x22msgs\\\\x22:{\\\\x22cibl\\\\x22:\\\\x22&#44160;&#49353;&#50612; &#51648;&#50864;&#44592;\\\\x22,\\\\x22dym\\\\x22:\\\\x22&#51060;&#44163;&#51012; &#52286;&#51004;&#49512;&#45208;&#50836;?\\\\x22,\\\\x22lcky\\\\x22:\\\\x22I&#8217;m Feeling Lucky\\\\x22,\\\\x22lml\\\\x22:\\\\x22&#51088;&#49464;&#55176; &#50508;&#50500;&#48372;&#44592;\\\\x22,\\\\x22oskt\\\\x22:\\\\x22&#51077;&#47141; &#46020;&#44396;\\\\x22,\\\\x22psrc\\\\x22:\\\\x22&#44160;&#49353;&#50612;&#44032; \\\\\\\\u003Ca href\\\\x3d\\\\\\\\\\\\x22/history\\\\\\\\\\\\x22\\\\\\\\u003E&#50937; &#44592;&#47197;\\\\\\\\u003C/a\\\\\\\\u003E&#50640;&#49436; &#49325;&#51228;&#46104;&#50632;&#49845;&#45768;&#45796;.\\\\x22,\\\\x22psrl\\\\x22:\\\\x22&#49325;&#51228;\\\\x22,\\\\x22sbit\\\\x22:\\\\x22&#51060;&#48120;&#51648;&#47196; &#44160;&#49353;\\\\x22,\\\\x22srch\\\\x22:\\\\x22Google &#44160;&#49353;\\\\x22},\\\\x22nrft\\\\x22:false,\\\\x22ovr\\\\x22:{},\\\\x22pq\\\\x22:\\\\x22\\\\x22,\\\\x22refpd\\\\x22:true,\\\\x22refspre\\\\x22:true,\\\\x22rfs\\\\x22:[],\\\\x22sbas\\\\x22:\\\\x220 3px 8px 0 rgba(0,0,0,0.2),0 0 0 1px rgba(0,0,0,0.08)\\\\x22,\\\\x22sbpl\\\\x22:16,\\\\x22sbpr\\\\x22:16,\\\\x22scd\\\\x22:10,\\\\x22stok\\\\x22:\\\\x229EbkcXbFfcYrDW25Qax6SqSSF9E\\\\x22,\\\\x22uhde\\\\x22:false}}\\';google.pmc=JSON.parse(pmc);})();</script>        </body></html>'"
      ]
     },
     "execution_count": 1,
     "metadata": {},
     "output_type": "execute_result"
    }
   ],
   "source": [
    "import requests\n",
    "resp = requests.get('http://google.com') # http 를 get 방식으로 요청\n",
    "resp.text # google 도메인의 html 데이터 요청"
   ]
  },
  {
   "cell_type": "code",
   "execution_count": 2,
   "metadata": {},
   "outputs": [],
   "source": [
    "import math"
   ]
  },
  {
   "cell_type": "code",
   "execution_count": 3,
   "metadata": {},
   "outputs": [
    {
     "data": {
      "text/plain": [
       "3.141592653589793"
      ]
     },
     "execution_count": 3,
     "metadata": {},
     "output_type": "execute_result"
    }
   ],
   "source": [
    "# . 이후 tab을 누르면 사용 가능한 함수들이 나옴.\n",
    "math.pi"
   ]
  },
  {
   "cell_type": "code",
   "execution_count": 4,
   "metadata": {},
   "outputs": [
    {
     "data": {
      "text/plain": [
       "0.862318872287684"
      ]
     },
     "execution_count": 4,
     "metadata": {},
     "output_type": "execute_result"
    }
   ],
   "source": [
    "math.cos(100)"
   ]
  },
  {
   "cell_type": "code",
   "execution_count": 5,
   "metadata": {},
   "outputs": [],
   "source": [
    "from math import log"
   ]
  },
  {
   "cell_type": "code",
   "execution_count": 6,
   "metadata": {},
   "outputs": [
    {
     "data": {
      "text/plain": [
       "2.5649493574615367"
      ]
     },
     "execution_count": 6,
     "metadata": {},
     "output_type": "execute_result"
    }
   ],
   "source": [
    "log(13)"
   ]
  },
  {
   "cell_type": "markdown",
   "metadata": {},
   "source": [
    "### 클래스와 오브젝트\n",
    "- List라는 타입이 클래스라고 가정했을 때, \n",
    "- 속성은 items, 행동(method)은 append, extend\n",
    "- 객체(object)는 [1,2,3] , ['hello', 'world']"
   ]
  },
  {
   "cell_type": "markdown",
   "metadata": {},
   "source": [
    "# class란?\n",
    "- 실세계의 것을 모델링하여 속성과 동작을 갖는 데이터 타입\n",
    "- python에서의 string int, list ... 모두 다 클래스로 존재\n",
    "- 예로, 학생이라는 클래스를 만든다면 학생을 나타내는 속성과 학생의 행동을 정의 가능.\n",
    "- 따라서, 다루고자하는 데이터(변수)와 그것을 다루는 연산(함수)를 하나로 캡슐화하여 클래스로 표현\n",
    "- 모델링에서 중요시하는 속성에 따라 클래스의 속성과 행동이 각각 달라짐."
   ]
  },
  {
   "cell_type": "code",
   "execution_count": 7,
   "metadata": {},
   "outputs": [
    {
     "name": "stdout",
     "output_type": "stream",
     "text": [
      "[1, 2, 3, 4, 5]\n"
     ]
    }
   ],
   "source": [
    "a = [1, 2, 3, 4] # 클래스 in 속성\n",
    "a.append(5) # 행동\n",
    "print(a) # a 안의 내용들은 객체"
   ]
  },
  {
   "cell_type": "markdown",
   "metadata": {},
   "source": [
    "### class 선언하기\n",
    "- 객체를 생성하기 위해 객체의 모체가 되는 class를 미리 선언해야함."
   ]
  },
  {
   "cell_type": "code",
   "execution_count": 8,
   "metadata": {},
   "outputs": [],
   "source": [
    "class Person:\n",
    "    pass"
   ]
  },
  {
   "cell_type": "code",
   "execution_count": 9,
   "metadata": {},
   "outputs": [],
   "source": [
    "bob = Person()\n",
    "katey = Person()\n",
    "\n",
    "a = list()\n",
    "b = list()"
   ]
  },
  {
   "cell_type": "code",
   "execution_count": 10,
   "metadata": {},
   "outputs": [
    {
     "name": "stdout",
     "output_type": "stream",
     "text": [
      "<class '__main__.Person'> <class '__main__.Person'>\n",
      "<class 'list'> <class 'list'>\n"
     ]
    }
   ],
   "source": [
    "print(type(bob), type(katey))\n",
    "print(type(a), type(b))"
   ]
  },
  {
   "cell_type": "markdown",
   "metadata": {},
   "source": [
    "# object란?\n",
    "- 클래스로 생성되어 구체화된 객체(인스턴스)\n",
    "- 파이썬의 모든 것(int, str, list...etc)은 객체(인스턴스)\n",
    "- 실제로 class가 인스턴스화 되어 메모리에 상주하는 상태를 의미\n",
    "- class가 빵틀이라면 object는 빵틀로 찍어낸 빵이라고 비유 가능"
   ]
  },
  {
   "cell_type": "markdown",
   "metadata": {},
   "source": [
    "### __init__(self)\n",
    "- 생성자, 클래스 인스턴스가 생성될 때 호출됨\n",
    "- self 인자는 항상 첫 번째에 오며 자기 자신을 가리킴\n",
    "- 이름이 꼭 self일 필요는 없지만, 관례적으로 self로 사용\n",
    "- 생성자에서는 해당 클래스가 다루는 데이터를 정의\n",
    "    + 이 데이터를 멤버 변수 또는 속성이라고 함."
   ]
  },
  {
   "cell_type": "code",
   "execution_count": 15,
   "metadata": {},
   "outputs": [
    {
     "name": "stdout",
     "output_type": "stream",
     "text": [
      "<__main__.Person object at 0x7f8eb006d0d0> is generated\n",
      "<__main__.Person object at 0x7f8eb006d610> is generated\n",
      "Kate 10\n",
      "aaron 20\n"
     ]
    }
   ],
   "source": [
    "class Person:\n",
    "    def __init__(self):\n",
    "        print(self, 'is generated')\n",
    "        self.name = 'Kate'\n",
    "        self.age = 10\n",
    "        \n",
    "p1 = Person()\n",
    "p2 = Person()\n",
    "\n",
    "print(p1.name, p1.age)\n",
    "p2.name = 'aaron'\n",
    "p2.age = 20\n",
    "\n",
    "print(p2.name, p2.age)"
   ]
  },
  {
   "cell_type": "code",
   "execution_count": 16,
   "metadata": {},
   "outputs": [
    {
     "name": "stdout",
     "output_type": "stream",
     "text": [
      "<__main__.Person object at 0x7f8eb006df10> is generated\n",
      "<__main__.Person object at 0x7f8eb006d580> is generated\n"
     ]
    }
   ],
   "source": [
    "class Person:\n",
    "    def __init__(self, name, age):\n",
    "        print(self, 'is generated')\n",
    "        self.name = name\n",
    "        self.age = age\n",
    "        \n",
    "p1 = Person('Bob', 30)\n",
    "p2 = Person('Kate', 20)"
   ]
  },
  {
   "cell_type": "code",
   "execution_count": 18,
   "metadata": {},
   "outputs": [
    {
     "name": "stdout",
     "output_type": "stream",
     "text": [
      "Bob 30\n",
      "Kate 20\n"
     ]
    }
   ],
   "source": [
    "print(p1.name, p1.age)\n",
    "print(p2.name, p2.age)"
   ]
  },
  {
   "cell_type": "markdown",
   "metadata": {},
   "source": [
    "### self\n",
    "- 파이썬의 method는 항상 첫 번째 인자로 self를 전달\n",
    "- self는 현재 해당 method가 호출되는 객체 자신을 가리킴.\n",
    "- C++ / C#, Java의 this에 해당\n",
    "- 위치는 항상 맨 처음의 parameter이며 관례적으로 self로 사용."
   ]
  },
  {
   "cell_type": "code",
   "execution_count": 22,
   "metadata": {},
   "outputs": [
    {
     "name": "stdout",
     "output_type": "stream",
     "text": [
      "self: <__main__.Person object at 0x7f8eb006df40>\n",
      "self: <__main__.Person object at 0x7f8eb006d400>\n",
      "<__main__.Person object at 0x7f8eb006df40>\n",
      "<__main__.Person object at 0x7f8eb006d400>\n",
      "Aaron 은 잠을 잡니다.\n",
      "Bob 은 잠을 잡니다.\n"
     ]
    }
   ],
   "source": [
    "class Person:\n",
    "    def __init__(self, n, a):\n",
    "        print('self:', self)\n",
    "        self.name = n\n",
    "        self.age = a\n",
    "        \n",
    "    def sleep(self):\n",
    "        print(self.name, '은 잠을 잡니다.')\n",
    "        \n",
    "b = Person('Aaron', 20)\n",
    "c = Person('Bob', 30)\n",
    "\n",
    "print(b)\n",
    "print(c)\n",
    "\n",
    "b.sleep()\n",
    "c.sleep()"
   ]
  },
  {
   "cell_type": "markdown",
   "metadata": {},
   "source": [
    "### method 정의\n",
    "- 멤버 함수라고도 하며, 해당 클래스의 object에서만 호출 가능\n",
    "- 메쏘드는 객체 레벨에서 호출되며, 해당 객체의 속성에 대한 연산을 행함.\n",
    "- {obj}.{method}( )형태로 호출됨. => . 을 찍어서 호출하는 것."
   ]
  },
  {
   "cell_type": "code",
   "execution_count": 28,
   "metadata": {},
   "outputs": [
    {
     "name": "stdout",
     "output_type": "stream",
     "text": [
      "현재 값은 : 3\n",
      "현재 값은 : 0\n"
     ]
    }
   ],
   "source": [
    "# 1. 숫자를 하나 증가\n",
    "# 2. 숫자를 0으로 초기화\n",
    "\n",
    "class Counter:\n",
    "    def __init__(self):\n",
    "        self.num = 0\n",
    "    def increment(self):\n",
    "        self.num += 1\n",
    "    \n",
    "    def reset(self):\n",
    "        self.num = 0\n",
    "    \n",
    "    def print_current_value(self):\n",
    "        print('현재 값은 :', self.num)\n",
    "        \n",
    "c1 = Counter()\n",
    "c1.increment()\n",
    "c1.increment()\n",
    "c1.increment()\n",
    "c1.print_current_value()\n",
    "\n",
    "c1.reset()\n",
    "c1.print_current_value()"
   ]
  },
  {
   "cell_type": "markdown",
   "metadata": {},
   "source": [
    "### method type\n",
    "- instance method - 객체로 호출\n",
    "    + method는 객체 레벨로 호출되기 때문에, 해당 method를 호출한 객체에만 영향을 미침.\n",
    "- class method(static method) - class로 호출\n",
    "    + 클래스 method의 경우, 클래스 레벨로 호출되기 때문에 클래스 멤버 변수만 변경 가능"
   ]
  },
  {
   "cell_type": "code",
   "execution_count": 30,
   "metadata": {},
   "outputs": [
    {
     "data": {
      "text/plain": [
       "200"
      ]
     },
     "execution_count": 30,
     "metadata": {},
     "output_type": "execute_result"
    }
   ],
   "source": [
    "# 속성이 없기에 Self가 할 일이 없음.\n",
    "class Math:\n",
    "    @staticmethod\n",
    "    def add(a, b):\n",
    "        return a + b\n",
    "    @staticmethod\n",
    "    def multiply(a, b):\n",
    "        return a * b\n",
    "    \n",
    "Math.add(10, 20)\n",
    "Math.multiply(10, 20)"
   ]
  },
  {
   "cell_type": "markdown",
   "metadata": {},
   "source": [
    "### Class Inheritance (상속)\n",
    "- 기존에 정의해둔 클래스의 기능을 그대로 물려받을 수 있다.\n",
    "- 기존 클래스에 기능 일부를 추가하거나, 변경하여 새로운 클래스를 정의한다.\n",
    "- 코드를 재사용할 수 있게 된다.\n",
    "- 상속 받고자 하는 대상인 기존 클래스는 (Parent, Super, Base class)라고 부른다.\n",
    "- 상속 받는 새로운 클래스는 (Child, Sub, Derived class)라고 부른다.\n",
    "- 의미적으로 is - a 관계를 갖는다."
   ]
  },
  {
   "cell_type": "code",
   "execution_count": 33,
   "metadata": {},
   "outputs": [
    {
     "name": "stdout",
     "output_type": "stream",
     "text": [
      "Bob은 BBQ를 먹습니다\n",
      "Bob은 30분 동안 잡니다\n",
      "Bob은 60분 동안 일합니다\n"
     ]
    }
   ],
   "source": [
    "# Student is a person / Employee is a person 의미 관계 형성\n",
    "\n",
    "class Person:\n",
    "    def __init__(self, n, a):\n",
    "        self.name = n\n",
    "        self.age = a\n",
    "        \n",
    "    def eat(self,food):\n",
    "        print('{}은 {}를 먹습니다'.format(self.name, food))\n",
    "    \n",
    "    def sleep(self, minute):\n",
    "        print('{}은 {}분 동안 잡니다'.format(self.name, minute))\n",
    "    \n",
    "    def work(self, minute):\n",
    "        print('{}은 {}분 동안 일합니다'.format(self.name, minute))\n",
    "\n",
    "class Student(Person): # 괄호 안에 상속받고자 하는 클래스 적기\n",
    "    def __init__(self, n, a):\n",
    "        self.name = n\n",
    "        self.age = a\n",
    "class Employee(Person):\n",
    "    def __init__(self, n, a):\n",
    "        self.name = n\n",
    "        self.age = a\n",
    "\n",
    "bob = Student('Bob', 25)\n",
    "bob.eat('BBQ')\n",
    "bob.sleep(30)\n",
    "bob.work(60)"
   ]
  },
  {
   "cell_type": "markdown",
   "metadata": {},
   "source": [
    "### method override\n",
    "- 부모 클래스의 method를 재정의(override)\n",
    "- 하위 클래스(자식 클래스)의 인스턴스로 호출 시, 재정의된 메소드가 호출됨."
   ]
  },
  {
   "cell_type": "code",
   "execution_count": 37,
   "metadata": {},
   "outputs": [
    {
     "name": "stdout",
     "output_type": "stream",
     "text": [
      "Bob은 BBQ를 먹습니다\n",
      "Bob은 30분 동안 잡니다\n",
      "Bob은 60분 동안 공부합니다\n"
     ]
    }
   ],
   "source": [
    "# Student is a person / Employee is a person 의미 관계 형성\n",
    "\n",
    "class Person:\n",
    "    def __init__(self, n, a):\n",
    "        self.name = n\n",
    "        self.age = a\n",
    "        \n",
    "    def eat(self,food):\n",
    "        print('{}은 {}를 먹습니다'.format(self.name, food))\n",
    "    \n",
    "    def sleep(self, minute):\n",
    "        print('{}은 {}분 동안 잡니다'.format(self.name, minute))\n",
    "    \n",
    "    def work(self, minute):\n",
    "        print('{}은 {}분 동안 일합니다'.format(self.name, minute))\n",
    "\n",
    "class Student(Person): # 괄호 안에 상속받고자 하는 클래스 적기\n",
    "    def __init__(self, n, a):\n",
    "        self.name = n\n",
    "        self.age = a\n",
    "        \n",
    "    def work(self, minute): # 학생 class 가 work라는 함수를 재정의, overriding\n",
    "        print('{}은 {}분 동안 공부합니다'.format(self.name, minute))\n",
    "        \n",
    "class Employee(Person):\n",
    "    def __init__(self, n, a):\n",
    "        self.name = n\n",
    "        self.age = a\n",
    "\n",
    "bob = Student('Bob', 25)\n",
    "bob.eat('BBQ')\n",
    "bob.sleep(30)\n",
    "bob.work(60)"
   ]
  },
  {
   "cell_type": "markdown",
   "metadata": {},
   "source": [
    "### super\n",
    "- 하위 클래스(자식 클래스)에서 부모클래스의 method를 호출할 때 사용"
   ]
  },
  {
   "cell_type": "code",
   "execution_count": 39,
   "metadata": {},
   "outputs": [
    {
     "name": "stdout",
     "output_type": "stream",
     "text": [
      "Bob은 BBQ를 먹습니다\n",
      "Bob은 30분 동안 잡니다\n",
      "Bob은 60분 동안 준비를 합니다\n",
      "Bob은 60분 동안 업무를 합니다\n"
     ]
    }
   ],
   "source": [
    "class Person:\n",
    "    def __init__(self, n, a):\n",
    "        self.name = n\n",
    "        self.age = a\n",
    "        \n",
    "    def eat(self,food):\n",
    "        print('{}은 {}를 먹습니다'.format(self.name, food))\n",
    "    \n",
    "    def sleep(self, minute):\n",
    "        print('{}은 {}분 동안 잡니다'.format(self.name, minute))\n",
    "    \n",
    "    def work(self, minute):\n",
    "        print('{}은 {}분 동안 준비를 합니다'.format(self.name, minute))\n",
    "\n",
    "class Student(Person): # 괄호 안에 상속받고자 하는 클래스 적기\n",
    "    def __init__(self, n, a):\n",
    "        self.name = n\n",
    "        self.age = a\n",
    "        \n",
    "    def work(self, minute): # 학생 class 가 work라는 함수를 재정의, overriding\n",
    "        super().work(minute)\n",
    "        print('{}은 {}분 동안 공부합니다'.format(self.name, minute))\n",
    "        \n",
    "class Employee(Person):\n",
    "    def __init__(self, n, a):\n",
    "        self.name = n\n",
    "        self.age = a\n",
    "        \n",
    "    def work(self, minute): # 학생 class 가 work라는 함수를 재정의, overriding\n",
    "        super().work(minute)\n",
    "        print('{}은 {}분 동안 업무를 합니다'.format(self.name, minute))    \n",
    "\n",
    "bob = Employee('Bob', 25)\n",
    "bob.eat('BBQ')\n",
    "bob.sleep(30)\n",
    "bob.work(60)"
   ]
  },
  {
   "cell_type": "markdown",
   "metadata": {},
   "source": [
    "### special method\n",
    "- __로 시작 __로 끝나는 특수 함수\n",
    "- 해당 메소드들을 구현하면, 커스텀 객체에 여러가지 파이썬 내장 함수나 연산자를 적용 가능\n",
    "- 오버라이딩 가능한 함수 목록\n",
    "    + https://docs.python.org/3/reference/datamodel.html\n",
    "    + https://docs.python.org/3/reference/datamodel.html#object.__add__"
   ]
  },
  {
   "cell_type": "code",
   "execution_count": 55,
   "metadata": {},
   "outputs": [
    {
     "name": "stdout",
     "output_type": "stream",
     "text": [
      "3\n",
      "4\n",
      "25\n",
      "(3, 4)\n",
      "(2, 7)\n",
      "(5, 11)\n",
      "(1, -3)\n",
      "(9, 12)\n"
     ]
    }
   ],
   "source": [
    " class Point:\n",
    "        def __init__(self, x, y):\n",
    "            self.x = x\n",
    "            self.y = y\n",
    "        \n",
    "        def __add__(self, pt):\n",
    "            new_x = self.x + pt.x # 결과적으로 호출이 p1.add(p2)로 될 것이기에.\n",
    "            new_y = self.y + pt.y #p1의 x = self.x / p2의 x = pt.x\n",
    "            return Point(new_x, new_y)\n",
    "        \n",
    "        def __sub__(self, pt):\n",
    "            new_x = self.x - pt.x # 결과적으로 호출이 p1.add(p2)로 될 것이기에.\n",
    "            new_y = self.y - pt.y #p1의 x = self.x / p2의 x = pt.x\n",
    "            return Point(new_x, new_y)\n",
    "        \n",
    "        def __getitem__(self, index):\n",
    "            if index == 0:\n",
    "                return self.x\n",
    "            elif index == 1:\n",
    "                return self.y\n",
    "            else:\n",
    "                return -1\n",
    "        \n",
    "        def __len__(self):\n",
    "            return self.x ** 2 + self.y ** 2\n",
    "        \n",
    "        def __mul__(self, factor):\n",
    "            return Point(self.x * factor, self.y * factor)\n",
    "        \n",
    "        def __str__(self):\n",
    "            return '({}, {})'.format(self.x, self.y)\n",
    "        \n",
    "p1 = Point(3, 4)\n",
    "p2 = Point(2, 7)\n",
    "p3 = p1+p2\n",
    "p4 = p1-p2\n",
    "# p5 = p1.multiply(3)\n",
    "p5 = p1 * 3\n",
    "\n",
    "print(p1[0])\n",
    "print(p1[1])\n",
    "print(len(p1))\n",
    "print(p1)\n",
    "print(p2)\n",
    "print(p3)\n",
    "print(p4)\n",
    "print(p5)"
   ]
  },
  {
   "cell_type": "markdown",
   "metadata": {},
   "source": [
    "- 복소수 클래스 정의\n",
    "- 덧셈, 뺄셈, 곱셈 연산자 지원\n",
    "- 길이(복소수의 크기) 지원\n",
    "- 복소수 출력 '1 + 4j'와 같이 표현\n",
    "- 비교 연산 ==, != 지원\n",
    "> =, <=, <, > 연산 지원\n",
    "- 절대값 지원"
   ]
  },
  {
   "cell_type": "code",
   "execution_count": 63,
   "metadata": {},
   "outputs": [
    {
     "name": "stdout",
     "output_type": "stream",
     "text": [
      "4 + 7j\n",
      "3 + 6j\n",
      "-7 + 11j\n"
     ]
    }
   ],
   "source": [
    "# 복소수 클래스 정하기\n",
    "class ComplexNumber:\n",
    "    def __init__(self, real, img): # 실수와 허수\n",
    "        self.real = real\n",
    "        self.img = img\n",
    "    \n",
    "    def __add__(self, cn):\n",
    "        return ComplexNumber(self.real + cn.real, self.img + cn.img)\n",
    "    \n",
    "    def __sub__(self, cn):\n",
    "        return ComplexNumber(self.real - cn.real, self.img - cn.img)\n",
    "    \n",
    "    def __str__(self):\n",
    "        if self.img >= 0:\n",
    "            return '{} + {}j'.format(self.real, self.img)\n",
    "        else: \n",
    "            return '{} - {}j'.format(self.real, abs(self.img))\n",
    "        \n",
    "    def __mul__(self, x):\n",
    "        if type(x) == int:\n",
    "            return ComplexNumber(self.real * x, self.img * x)\n",
    "        elif type(x) == ComplexNumber:\n",
    "            return ComplexNumber((self.real * x.real)- (self.img * x.img), (self.real * x.img) + (self.img * x.real))\n",
    "   \n",
    "    def __eq__(self, cn): # 비교연산자\n",
    "        return self.real == cn.real and self.img == cn.img\n",
    "        \n",
    "a = ComplexNumber(1, 2)\n",
    "b = ComplexNumber(3, 5)\n",
    "print(a + b)\n",
    "print(a * 3)\n",
    "print(a * b)"
   ]
  },
  {
   "cell_type": "code",
   "execution_count": null,
   "metadata": {},
   "outputs": [],
   "source": []
  }
 ],
 "metadata": {
  "kernelspec": {
   "display_name": "Python 3",
   "language": "python",
   "name": "python3"
  },
  "language_info": {
   "codemirror_mode": {
    "name": "ipython",
    "version": 3
   },
   "file_extension": ".py",
   "mimetype": "text/x-python",
   "name": "python",
   "nbconvert_exporter": "python",
   "pygments_lexer": "ipython3",
   "version": "3.8.5"
  }
 },
 "nbformat": 4,
 "nbformat_minor": 4
}
