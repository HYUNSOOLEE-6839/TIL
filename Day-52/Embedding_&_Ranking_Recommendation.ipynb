{
  "nbformat": 4,
  "nbformat_minor": 0,
  "metadata": {
    "colab": {
      "name": "Embedding_&_Ranking_Recommendation.ipynb",
      "provenance": [],
      "collapsed_sections": []
    },
    "kernelspec": {
      "name": "python3",
      "display_name": "Python 3"
    },
    "language_info": {
      "name": "python"
    }
  },
  "cells": [
    {
      "cell_type": "markdown",
      "metadata": {
        "id": "z2la8CXJqq_s"
      },
      "source": [
        "# 추천 시스템 - 영화 데이터셋과 Embedding & Ranking 알고리즘으로 추천시스템 만들기"
      ]
    },
    {
      "cell_type": "markdown",
      "metadata": {
        "id": "RJAYfMrVrBjL"
      },
      "source": [
        "## Step 1. Word2Vec 알고리즘 기반 추천 후보군 생성"
      ]
    },
    {
      "cell_type": "markdown",
      "metadata": {
        "id": "eq0VEPA1rCOu"
      },
      "source": [
        "#### Rating Matrix 기반 추천시스템의 한계\n",
        "\n",
        "    [Memory Based Recommendations]\n",
        "    1. 만약 유저, 영화의 수가 3000이 아니라 3천만 개 라면?\n",
        "    2. Matrix의 크기는 30,000,000 X 30,000,000\n",
        "    3. 연산량 자체도 문제가 되지만, Extreme Sparse 벡터가 되면서 정확도 역시 현저하게 떨어지게 됨\n",
        "    4. 차원축소, ALS 등의 방법으로 어느정도 극복할 수 있지만, 근본적인 해결책이 되지는 못함\n",
        "\n",
        "    - Recommendation in Large Scale System\n",
        "  - Architecture\n",
        "  ![recsys_architecture](https://img1.daumcdn.net/thumb/R1280x0/?scode=mtistory2&fname=https%3A%2F%2Fblog.kakaocdn.net%2Fdn%2F30pCp%2Fbtqv7PV6365%2FCkl5dwvSoQF3RdneCIzGr1%2Fimg.png)\n",
        "  - 데이터 수집과 처리 단계를 제외하면, 추천시스템은 다음과 같은 레이어로 구분되는 추세\n",
        "    - `Generate Candidates` : 수백, 수천만개의 Item 중, 후보가 될 만한 Item을 추출. 여기에 CF 등의 방법을 사용할 수도 있지만, 일반적으로는 연산량이 작은 여러 개의 전략(시나리오)들을 합쳐서 coverage 자체를 확보하는 역할을 함. 예를 들면 인기도가 높은 Item, 연관성이 높은 Item 등을 별개의 전략으로 추출하는 것.\n",
        "    - `Intention Predict` : User의 Context에 기반하여 Candidates를 한 번 더 좁혀주는 역할. 반드시 필요한 단계는 아니며, Candidates를 추렸음에도 여전히 Large Scale 문제를 가지고 있는 경우에 필터링의 역할로 사용할 수 있음.\n",
        "    - `Personalized Ranking` : 일반적으로 추천시스템에서 추천이 잘 되었는지를 평가하는 지표는 CTR, CVR 같은 지표. 이 지표들을 Maximize 할 수 있는 방법으로 개인화 모델을 학습. 일반적인 Classifier를 생각해도 무방하며, 학습 데이터셋을 잘 구축하는 것이 좋은 추천 랭킹모델을 만드는 것.\n",
        "\n",
        "![recsys_architecture2](https://img1.daumcdn.net/thumb/R1280x0/?scode=mtistory2&fname=https%3A%2F%2Fblog.kakaocdn.net%2Fdn%2FUsbKo%2Fbtqv7PBN46z%2Fd4m5pf7lrKs1CqxzkROY81%2Fimg.png)\n",
        "\n",
        "\n",
        "-----"
      ]
    },
    {
      "cell_type": "markdown",
      "metadata": {
        "id": "eXcR5DD6rCJZ"
      },
      "source": [
        "#### Word2Vec 기반의 Movie2Vec 만들기\n",
        "\n",
        "    [Word2Vec]\n",
        "    1. 임베딩(Embedding) 방법론 중 가장 대중적이고 성능이 좋은 방법\n",
        "    2. 같은 문장 내, 혹은 비슷한 위치에 등장하는 단어들은 유사한 의미를 가지고 있을 것이라는 가정.\n",
        "    3. 원래는 단어를 벡터로 표현하는 방법으로 고안되었지만, word2vec의 메커니즘을 다양하게 활용할 수 있음\n",
        "    4. Word2Vec은 중심 단어와 주변 단어와의 연관성을 학습하여 벡터로 표현함.\n",
        "      - 예시 문장 : \"역시 성공은 고난을 동반 말없이 등산을 등반하는 것처럼\"\n",
        "      - 만약 \"성공\"이라는 단어를 중심 단어로 활용한다면, [역시, _, 고난을, 동반] 이러한 주변 단어를 가지고 중심에 있는 단어의 벡터를 학습할 수 있게 됨. (Skip-gram 방식. CBOW는 반대)"
      ]
    },
    {
      "cell_type": "markdown",
      "metadata": {
        "id": "huzbkuxIrCCM"
      },
      "source": [
        "### 데이터 불러오기"
      ]
    },
    {
      "cell_type": "code",
      "metadata": {
        "id": "9_dEU8rJqRwn"
      },
      "source": [
        "import pandas as pd\n",
        "\n",
        "rating_url = 'https://raw.githubusercontent.com/yoonkt200/python-data-analysis/master/data/ml-1m/ratings.dat'\n",
        "rating_df = pd.io.parsers.read_csv(rating_url, names=['user_id', 'movie_id', 'rating', 'time'], delimiter='::', engine ='python')\n",
        "\n",
        "movie_url = 'https://raw.githubusercontent.com/yoonkt200/python-data-analysis/master/data/ml-1m/movies.dat'\n",
        "movie_df = pd.io.parsers.read_csv(movie_url, names=['movie_id', 'title', 'genre'], delimiter='::', engine ='python', encoding='ISO-8859-1')\n",
        "\n",
        "user_url = 'https://raw.githubusercontent.com/yoonkt200/python-data-analysis/master/data/ml-1m/users.dat'\n",
        "user_df = pd.io.parsers.read_csv(user_url, names=['user_id', 'gender', 'age', 'occupation', 'zipcode'], delimiter='::', engine ='python')"
      ],
      "execution_count": 2,
      "outputs": []
    },
    {
      "cell_type": "code",
      "metadata": {
        "id": "LxOPwsaUrVnz"
      },
      "source": [
        "# EDA & 전처리 - 사용자별 시청 목록 추출\n",
        "def get_movie_list_sort_by_time(x):\n",
        "  return x.sort_values(['time'])['movie_id'].tolist()\n",
        "\n",
        "user_watch_list = rating_df.groupby('user_id')[['movie_id', 'time']].apply(lambda x: get_movie_list_sort_by_time(x))"
      ],
      "execution_count": 3,
      "outputs": []
    },
    {
      "cell_type": "code",
      "metadata": {
        "colab": {
          "base_uri": "https://localhost:8080/"
        },
        "id": "MBzl0WoKr1fb",
        "outputId": "056c3cd7-87d8-4369-cc87-5013f3820e47"
      },
      "source": [
        "user_watch_list[:3]"
      ],
      "execution_count": 4,
      "outputs": [
        {
          "output_type": "execute_result",
          "data": {
            "text/plain": [
              "user_id\n",
              "1    [3186, 1721, 1022, 1270, 2340, 1836, 3408, 120...\n",
              "2    [1198, 1217, 1210, 2717, 1293, 2943, 1225, 119...\n",
              "3    [593, 2858, 3534, 1968, 1961, 1431, 1266, 1378...\n",
              "dtype: object"
            ]
          },
          "metadata": {
            "tags": []
          },
          "execution_count": 4
        }
      ]
    },
    {
      "cell_type": "code",
      "metadata": {
        "colab": {
          "base_uri": "https://localhost:8080/",
          "height": 282
        },
        "id": "t4U7uh99s_aU",
        "outputId": "65b8bf37-c9da-4b0d-e3c2-205e0cbb33c3"
      },
      "source": [
        "rating_df['movie_id'].value_counts().hist(bins=100)"
      ],
      "execution_count": 5,
      "outputs": [
        {
          "output_type": "execute_result",
          "data": {
            "text/plain": [
              "<matplotlib.axes._subplots.AxesSubplot at 0x7f1a7eb56850>"
            ]
          },
          "metadata": {
            "tags": []
          },
          "execution_count": 5
        },
        {
          "output_type": "display_data",
          "data": {
            "image/png": "[encoded data removed]",
            "text/plain": [
              "<Figure size 432x288 with 1 Axes>"
            ]
          },
          "metadata": {
            "tags": [],
            "needs_background": "light"
          }
        }
      ]
    },
    {
      "cell_type": "code",
      "metadata": {
        "colab": {
          "base_uri": "https://localhost:8080/",
          "height": 204
        },
        "id": "v10Xbay2tA7i",
        "outputId": "824cdc06-a666-4c3c-b893-e21aa5634d05"
      },
      "source": [
        "movie_df.head()"
      ],
      "execution_count": 6,
      "outputs": [
        {
          "output_type": "execute_result",
          "data": {
            "text/html": [
              "<div>\n",
              "<style scoped>\n",
              "    .dataframe tbody tr th:only-of-type {\n",
              "        vertical-align: middle;\n",
              "    }\n",
              "\n",
              "    .dataframe tbody tr th {\n",
              "        vertical-align: top;\n",
              "    }\n",
              "\n",
              "    .dataframe thead th {\n",
              "        text-align: right;\n",
              "    }\n",
              "</style>\n",
              "<table border=\"1\" class=\"dataframe\">\n",
              "  <thead>\n",
              "    <tr style=\"text-align: right;\">\n",
              "      <th></th>\n",
              "      <th>movie_id</th>\n",
              "      <th>title</th>\n",
              "      <th>genre</th>\n",
              "    </tr>\n",
              "  </thead>\n",
              "  <tbody>\n",
              "    <tr>\n",
              "      <th>0</th>\n",
              "      <td>1</td>\n",
              "      <td>Toy Story (1995)</td>\n",
              "      <td>Animation|Children's|Comedy</td>\n",
              "    </tr>\n",
              "    <tr>\n",
              "      <th>1</th>\n",
              "      <td>2</td>\n",
              "      <td>Jumanji (1995)</td>\n",
              "      <td>Adventure|Children's|Fantasy</td>\n",
              "    </tr>\n",
              "    <tr>\n",
              "      <th>2</th>\n",
              "      <td>3</td>\n",
              "      <td>Grumpier Old Men (1995)</td>\n",
              "      <td>Comedy|Romance</td>\n",
              "    </tr>\n",
              "    <tr>\n",
              "      <th>3</th>\n",
              "      <td>4</td>\n",
              "      <td>Waiting to Exhale (1995)</td>\n",
              "      <td>Comedy|Drama</td>\n",
              "    </tr>\n",
              "    <tr>\n",
              "      <th>4</th>\n",
              "      <td>5</td>\n",
              "      <td>Father of the Bride Part II (1995)</td>\n",
              "      <td>Comedy</td>\n",
              "    </tr>\n",
              "  </tbody>\n",
              "</table>\n",
              "</div>"
            ],
            "text/plain": [
              "   movie_id                               title                         genre\n",
              "0         1                    Toy Story (1995)   Animation|Children's|Comedy\n",
              "1         2                      Jumanji (1995)  Adventure|Children's|Fantasy\n",
              "2         3             Grumpier Old Men (1995)                Comedy|Romance\n",
              "3         4            Waiting to Exhale (1995)                  Comedy|Drama\n",
              "4         5  Father of the Bride Part II (1995)                        Comedy"
            ]
          },
          "metadata": {
            "tags": []
          },
          "execution_count": 6
        }
      ]
    },
    {
      "cell_type": "code",
      "metadata": {
        "colab": {
          "base_uri": "https://localhost:8080/",
          "height": 204
        },
        "id": "SPeWcdJHtLoo",
        "outputId": "67eb9b6b-81a8-4180-8bea-ad9d3be1b297"
      },
      "source": [
        "# 영화 개봉년도 피쳐 생성\n",
        "movie_df['released_year_area'] = movie_df['title'].apply(lambda x: x[-5:-2]+\"0\")\n",
        "movie_df.head()"
      ],
      "execution_count": 7,
      "outputs": [
        {
          "output_type": "execute_result",
          "data": {
            "text/html": [
              "<div>\n",
              "<style scoped>\n",
              "    .dataframe tbody tr th:only-of-type {\n",
              "        vertical-align: middle;\n",
              "    }\n",
              "\n",
              "    .dataframe tbody tr th {\n",
              "        vertical-align: top;\n",
              "    }\n",
              "\n",
              "    .dataframe thead th {\n",
              "        text-align: right;\n",
              "    }\n",
              "</style>\n",
              "<table border=\"1\" class=\"dataframe\">\n",
              "  <thead>\n",
              "    <tr style=\"text-align: right;\">\n",
              "      <th></th>\n",
              "      <th>movie_id</th>\n",
              "      <th>title</th>\n",
              "      <th>genre</th>\n",
              "      <th>released_year_area</th>\n",
              "    </tr>\n",
              "  </thead>\n",
              "  <tbody>\n",
              "    <tr>\n",
              "      <th>0</th>\n",
              "      <td>1</td>\n",
              "      <td>Toy Story (1995)</td>\n",
              "      <td>Animation|Children's|Comedy</td>\n",
              "      <td>1990</td>\n",
              "    </tr>\n",
              "    <tr>\n",
              "      <th>1</th>\n",
              "      <td>2</td>\n",
              "      <td>Jumanji (1995)</td>\n",
              "      <td>Adventure|Children's|Fantasy</td>\n",
              "      <td>1990</td>\n",
              "    </tr>\n",
              "    <tr>\n",
              "      <th>2</th>\n",
              "      <td>3</td>\n",
              "      <td>Grumpier Old Men (1995)</td>\n",
              "      <td>Comedy|Romance</td>\n",
              "      <td>1990</td>\n",
              "    </tr>\n",
              "    <tr>\n",
              "      <th>3</th>\n",
              "      <td>4</td>\n",
              "      <td>Waiting to Exhale (1995)</td>\n",
              "      <td>Comedy|Drama</td>\n",
              "      <td>1990</td>\n",
              "    </tr>\n",
              "    <tr>\n",
              "      <th>4</th>\n",
              "      <td>5</td>\n",
              "      <td>Father of the Bride Part II (1995)</td>\n",
              "      <td>Comedy</td>\n",
              "      <td>1990</td>\n",
              "    </tr>\n",
              "  </tbody>\n",
              "</table>\n",
              "</div>"
            ],
            "text/plain": [
              "   movie_id  ... released_year_area\n",
              "0         1  ...               1990\n",
              "1         2  ...               1990\n",
              "2         3  ...               1990\n",
              "3         4  ...               1990\n",
              "4         5  ...               1990\n",
              "\n",
              "[5 rows x 4 columns]"
            ]
          },
          "metadata": {
            "tags": []
          },
          "execution_count": 7
        }
      ]
    },
    {
      "cell_type": "code",
      "metadata": {
        "colab": {
          "base_uri": "https://localhost:8080/",
          "height": 319
        },
        "id": "OoQ_F-cJtOys",
        "outputId": "308b8347-3fdb-4d88-a5bc-76fcfd2d26b2"
      },
      "source": [
        "import seaborn as sns\n",
        "\n",
        "released_year_area = movie_df['released_year_area'].value_counts().sort_index()\n",
        "sns.barplot(released_year_area.index, released_year_area.values);"
      ],
      "execution_count": 8,
      "outputs": [
        {
          "output_type": "stream",
          "text": [
            "/usr/local/lib/python3.7/dist-packages/seaborn/_decorators.py:43: FutureWarning: Pass the following variables as keyword args: x, y. From version 0.12, the only valid positional argument will be `data`, and passing other arguments without an explicit keyword will result in an error or misinterpretation.\n",
            "  FutureWarning\n"
          ],
          "name": "stderr"
        },
        {
          "output_type": "display_data",
          "data": {
            "image/png": "[encoded data removed]",
            "text/plain": [
              "<Figure size 432x288 with 1 Axes>"
            ]
          },
          "metadata": {
            "tags": [],
            "needs_background": "light"
          }
        }
      ]
    },
    {
      "cell_type": "code",
      "metadata": {
        "colab": {
          "base_uri": "https://localhost:8080/"
        },
        "id": "begFZIv7tVaP",
        "outputId": "76efd714-2d35-4a41-d50b-243383c1570c"
      },
      "source": [
        "# 영화 장르 피쳐 생성\n",
        "movie_df['genre'].value_counts()"
      ],
      "execution_count": 9,
      "outputs": [
        {
          "output_type": "execute_result",
          "data": {
            "text/plain": [
              "Drama                                 843\n",
              "Comedy                                521\n",
              "Horror                                178\n",
              "Comedy|Drama                          162\n",
              "Comedy|Romance                        142\n",
              "                                     ... \n",
              "Adventure|Children's|Drama|Romance      1\n",
              "Drama|Mystery|Sci-Fi|Thriller           1\n",
              "Action|Drama|Sci-Fi|Thriller            1\n",
              "Comedy|Drama|Musical                    1\n",
              "Horror|Mystery                          1\n",
              "Name: genre, Length: 301, dtype: int64"
            ]
          },
          "metadata": {
            "tags": []
          },
          "execution_count": 9
        }
      ]
    },
    {
      "cell_type": "code",
      "metadata": {
        "colab": {
          "base_uri": "https://localhost:8080/",
          "height": 282
        },
        "id": "l2iEp7WbwKQh",
        "outputId": "137a3d35-65a7-44d0-a02b-112ed2160c75"
      },
      "source": [
        "movie_df['genre'].value_counts().hist(bins=100)"
      ],
      "execution_count": 10,
      "outputs": [
        {
          "output_type": "execute_result",
          "data": {
            "text/plain": [
              "<matplotlib.axes._subplots.AxesSubplot at 0x7f1a86707b50>"
            ]
          },
          "metadata": {
            "tags": []
          },
          "execution_count": 10
        },
        {
          "output_type": "display_data",
          "data": {
            "image/png": "[encoded data removed]",
            "text/plain": [
              "<Figure size 432x288 with 1 Axes>"
            ]
          },
          "metadata": {
            "tags": [],
            "needs_background": "light"
          }
        }
      ]
    },
    {
      "cell_type": "code",
      "metadata": {
        "id": "KhSuC22LwNCQ"
      },
      "source": [
        "movie_df['main_genre'] = movie_df['genre'].apply(lambda x: x.split(\"|\")[0])"
      ],
      "execution_count": 11,
      "outputs": []
    },
    {
      "cell_type": "code",
      "metadata": {
        "colab": {
          "base_uri": "https://localhost:8080/"
        },
        "id": "UZWvX4e1wP4z",
        "outputId": "7a193782-6613-4de5-c026-286effef4357"
      },
      "source": [
        "movie_df['main_genre'].value_counts()"
      ],
      "execution_count": 12,
      "outputs": [
        {
          "output_type": "execute_result",
          "data": {
            "text/plain": [
              "Drama          1176\n",
              "Comedy         1024\n",
              "Action          503\n",
              "Horror          262\n",
              "Adventure       155\n",
              "Crime           131\n",
              "Documentary     123\n",
              "Thriller        101\n",
              "Animation        90\n",
              "Children's       89\n",
              "Romance          50\n",
              "Sci-Fi           46\n",
              "Mystery          36\n",
              "Western          33\n",
              "Musical          25\n",
              "Film-Noir        25\n",
              "War              12\n",
              "Fantasy           2\n",
              "Name: main_genre, dtype: int64"
            ]
          },
          "metadata": {
            "tags": []
          },
          "execution_count": 12
        }
      ]
    },
    {
      "cell_type": "code",
      "metadata": {
        "colab": {
          "base_uri": "https://localhost:8080/",
          "height": 204
        },
        "id": "7dKbmI4CwzXJ",
        "outputId": "a80f3fcd-6978-4350-934d-42e65b836551"
      },
      "source": [
        "# Embedding - EDA 결과를 활용하여 Movie2Vec 학습\n",
        "movie_df.head()"
      ],
      "execution_count": 13,
      "outputs": [
        {
          "output_type": "execute_result",
          "data": {
            "text/html": [
              "<div>\n",
              "<style scoped>\n",
              "    .dataframe tbody tr th:only-of-type {\n",
              "        vertical-align: middle;\n",
              "    }\n",
              "\n",
              "    .dataframe tbody tr th {\n",
              "        vertical-align: top;\n",
              "    }\n",
              "\n",
              "    .dataframe thead th {\n",
              "        text-align: right;\n",
              "    }\n",
              "</style>\n",
              "<table border=\"1\" class=\"dataframe\">\n",
              "  <thead>\n",
              "    <tr style=\"text-align: right;\">\n",
              "      <th></th>\n",
              "      <th>movie_id</th>\n",
              "      <th>title</th>\n",
              "      <th>genre</th>\n",
              "      <th>released_year_area</th>\n",
              "      <th>main_genre</th>\n",
              "    </tr>\n",
              "  </thead>\n",
              "  <tbody>\n",
              "    <tr>\n",
              "      <th>0</th>\n",
              "      <td>1</td>\n",
              "      <td>Toy Story (1995)</td>\n",
              "      <td>Animation|Children's|Comedy</td>\n",
              "      <td>1990</td>\n",
              "      <td>Animation</td>\n",
              "    </tr>\n",
              "    <tr>\n",
              "      <th>1</th>\n",
              "      <td>2</td>\n",
              "      <td>Jumanji (1995)</td>\n",
              "      <td>Adventure|Children's|Fantasy</td>\n",
              "      <td>1990</td>\n",
              "      <td>Adventure</td>\n",
              "    </tr>\n",
              "    <tr>\n",
              "      <th>2</th>\n",
              "      <td>3</td>\n",
              "      <td>Grumpier Old Men (1995)</td>\n",
              "      <td>Comedy|Romance</td>\n",
              "      <td>1990</td>\n",
              "      <td>Comedy</td>\n",
              "    </tr>\n",
              "    <tr>\n",
              "      <th>3</th>\n",
              "      <td>4</td>\n",
              "      <td>Waiting to Exhale (1995)</td>\n",
              "      <td>Comedy|Drama</td>\n",
              "      <td>1990</td>\n",
              "      <td>Comedy</td>\n",
              "    </tr>\n",
              "    <tr>\n",
              "      <th>4</th>\n",
              "      <td>5</td>\n",
              "      <td>Father of the Bride Part II (1995)</td>\n",
              "      <td>Comedy</td>\n",
              "      <td>1990</td>\n",
              "      <td>Comedy</td>\n",
              "    </tr>\n",
              "  </tbody>\n",
              "</table>\n",
              "</div>"
            ],
            "text/plain": [
              "   movie_id                               title  ... released_year_area main_genre\n",
              "0         1                    Toy Story (1995)  ...               1990  Animation\n",
              "1         2                      Jumanji (1995)  ...               1990  Adventure\n",
              "2         3             Grumpier Old Men (1995)  ...               1990     Comedy\n",
              "3         4            Waiting to Exhale (1995)  ...               1990     Comedy\n",
              "4         5  Father of the Bride Part II (1995)  ...               1990     Comedy\n",
              "\n",
              "[5 rows x 5 columns]"
            ]
          },
          "metadata": {
            "tags": []
          },
          "execution_count": 13
        }
      ]
    },
    {
      "cell_type": "code",
      "metadata": {
        "id": "mQS2I1wSxRA4"
      },
      "source": [
        "movie_meta_dict = movie_df.set_index('movie_id')[['released_year_area', 'main_genre']].to_dict()"
      ],
      "execution_count": 14,
      "outputs": []
    },
    {
      "cell_type": "code",
      "metadata": {
        "id": "7IWGiHtuxSeC"
      },
      "source": [
        "movie2vec_dataset = []\n",
        "for movie_list in user_watch_list:\n",
        "  meta_list = []\n",
        "  for movie_id in movie_list:\n",
        "    word_meta_1 = \"movie_id:\" + str(movie_id)\n",
        "    word_meta_2 = \"year:\" + movie_meta_dict['released_year_area'][movie_id]\n",
        "    word_meta_3 = \"genre:\" + movie_meta_dict['main_genre'][movie_id]\n",
        "    meta_list.append(word_meta_1)\n",
        "    meta_list.append(word_meta_2)\n",
        "    meta_list.append(word_meta_3)\n",
        "  movie2vec_dataset.append(meta_list)"
      ],
      "execution_count": 15,
      "outputs": []
    },
    {
      "cell_type": "code",
      "metadata": {
        "colab": {
          "base_uri": "https://localhost:8080/"
        },
        "id": "BH1YQF_GxUdv",
        "outputId": "2a0ffee7-67f3-467c-b224-e2b6d531d86f"
      },
      "source": [
        "!pip install gensim"
      ],
      "execution_count": 16,
      "outputs": [
        {
          "output_type": "stream",
          "text": [
            "Requirement already satisfied: gensim in /usr/local/lib/python3.7/dist-packages (3.6.0)\n",
            "Requirement already satisfied: smart-open>=1.2.1 in /usr/local/lib/python3.7/dist-packages (from gensim) (5.0.0)\n",
            "Requirement already satisfied: numpy>=1.11.3 in /usr/local/lib/python3.7/dist-packages (from gensim) (1.19.5)\n",
            "Requirement already satisfied: scipy>=0.18.1 in /usr/local/lib/python3.7/dist-packages (from gensim) (1.4.1)\n",
            "Requirement already satisfied: six>=1.5.0 in /usr/local/lib/python3.7/dist-packages (from gensim) (1.15.0)\n"
          ],
          "name": "stdout"
        }
      ]
    },
    {
      "cell_type": "code",
      "metadata": {
        "id": "yc4I0vrvxVZG"
      },
      "source": [
        "from gensim.models import Word2Vec\n",
        "\n",
        "model = Word2Vec(movie2vec_dataset,\n",
        "                 size=100,\n",
        "                 window=6,  # 주변 word의 윈도우\n",
        "                 sg=1,  # skip-gram OR cbow\n",
        "                 hs=0,  # hierarchical softmax OR negative sampling\n",
        "                 negative=20,  # negative sampling 파라미터\n",
        "                 min_count=1,  # word의 등장 최소 횟수\n",
        "                 iter=20)"
      ],
      "execution_count": 17,
      "outputs": []
    },
    {
      "cell_type": "code",
      "metadata": {
        "colab": {
          "base_uri": "https://localhost:8080/"
        },
        "id": "lbAELit9xYcN",
        "outputId": "ab13e896-004e-4130-b23a-046526399ffa"
      },
      "source": [
        "# Embedding - 일부 데이터로 Movie2Vec 학습 결과 확인\n",
        "model.wv.vectors.shape"
      ],
      "execution_count": 19,
      "outputs": [
        {
          "output_type": "execute_result",
          "data": {
            "text/plain": [
              "(3734, 100)"
            ]
          },
          "metadata": {
            "tags": []
          },
          "execution_count": 19
        }
      ]
    },
    {
      "cell_type": "code",
      "metadata": {
        "colab": {
          "base_uri": "https://localhost:8080/"
        },
        "id": "LCh-R-gb1JzQ",
        "outputId": "629f6aad-011b-4708-8609-4c2bff9da6f5"
      },
      "source": [
        "model.wv.most_similar(\"movie_id:1\", topn=5)"
      ],
      "execution_count": 20,
      "outputs": [
        {
          "output_type": "execute_result",
          "data": {
            "text/plain": [
              "[('movie_id:1223', 0.8223292827606201),\n",
              " ('movie_id:3429', 0.74729323387146),\n",
              " ('movie_id:2324', 0.7024251818656921),\n",
              " ('movie_id:2289', 0.6818866729736328),\n",
              " ('movie_id:3114', 0.6811957359313965)]"
            ]
          },
          "metadata": {
            "tags": []
          },
          "execution_count": 20
        }
      ]
    },
    {
      "cell_type": "code",
      "metadata": {
        "colab": {
          "base_uri": "https://localhost:8080/",
          "height": 204
        },
        "id": "Z1O90ipu1Ww5",
        "outputId": "38eb05e6-1b6e-4c5a-93d2-7ec17428b794"
      },
      "source": [
        "movie_df[movie_df['movie_id'].isin([1223, 3429, 2324, 1537, 3114])]"
      ],
      "execution_count": 21,
      "outputs": [
        {
          "output_type": "execute_result",
          "data": {
            "text/html": [
              "<div>\n",
              "<style scoped>\n",
              "    .dataframe tbody tr th:only-of-type {\n",
              "        vertical-align: middle;\n",
              "    }\n",
              "\n",
              "    .dataframe tbody tr th {\n",
              "        vertical-align: top;\n",
              "    }\n",
              "\n",
              "    .dataframe thead th {\n",
              "        text-align: right;\n",
              "    }\n",
              "</style>\n",
              "<table border=\"1\" class=\"dataframe\">\n",
              "  <thead>\n",
              "    <tr style=\"text-align: right;\">\n",
              "      <th></th>\n",
              "      <th>movie_id</th>\n",
              "      <th>title</th>\n",
              "      <th>genre</th>\n",
              "      <th>released_year_area</th>\n",
              "      <th>main_genre</th>\n",
              "    </tr>\n",
              "  </thead>\n",
              "  <tbody>\n",
              "    <tr>\n",
              "      <th>1205</th>\n",
              "      <td>1223</td>\n",
              "      <td>Grand Day Out, A (1992)</td>\n",
              "      <td>Animation|Comedy</td>\n",
              "      <td>1990</td>\n",
              "      <td>Animation</td>\n",
              "    </tr>\n",
              "    <tr>\n",
              "      <th>1499</th>\n",
              "      <td>1537</td>\n",
              "      <td>Shall We Dance? (Shall We Dansu?) (1996)</td>\n",
              "      <td>Comedy</td>\n",
              "      <td>1990</td>\n",
              "      <td>Comedy</td>\n",
              "    </tr>\n",
              "    <tr>\n",
              "      <th>2255</th>\n",
              "      <td>2324</td>\n",
              "      <td>Life Is Beautiful (La Vita è bella) (1997)</td>\n",
              "      <td>Comedy|Drama</td>\n",
              "      <td>1990</td>\n",
              "      <td>Comedy</td>\n",
              "    </tr>\n",
              "    <tr>\n",
              "      <th>3045</th>\n",
              "      <td>3114</td>\n",
              "      <td>Toy Story 2 (1999)</td>\n",
              "      <td>Animation|Children's|Comedy</td>\n",
              "      <td>1990</td>\n",
              "      <td>Animation</td>\n",
              "    </tr>\n",
              "    <tr>\n",
              "      <th>3360</th>\n",
              "      <td>3429</td>\n",
              "      <td>Creature Comforts (1990)</td>\n",
              "      <td>Animation|Comedy</td>\n",
              "      <td>1990</td>\n",
              "      <td>Animation</td>\n",
              "    </tr>\n",
              "  </tbody>\n",
              "</table>\n",
              "</div>"
            ],
            "text/plain": [
              "      movie_id  ... main_genre\n",
              "1205      1223  ...  Animation\n",
              "1499      1537  ...     Comedy\n",
              "2255      2324  ...     Comedy\n",
              "3045      3114  ...  Animation\n",
              "3360      3429  ...  Animation\n",
              "\n",
              "[5 rows x 5 columns]"
            ]
          },
          "metadata": {
            "tags": []
          },
          "execution_count": 21
        }
      ]
    },
    {
      "cell_type": "code",
      "metadata": {
        "colab": {
          "base_uri": "https://localhost:8080/"
        },
        "id": "2yM8Weg31YJM",
        "outputId": "e07b7a3f-bcd6-47ee-d111-5016c18cc03a"
      },
      "source": [
        "# Movie2Vec 모델로 Item2Item 후보군 생성\n",
        "item2item = {}\n",
        "\n",
        "# 영화별 연관 영화 k개씩 추출\n",
        "k = 10\n",
        "not_in_count = 0\n",
        "for movie_id in movie_df['movie_id'].values:\n",
        "  item2item[movie_id] = []\n",
        "  try:\n",
        "    sim_list = model.wv.most_similar(\"movie_id:\" + str(movie_id), topn=k+10)\n",
        "    for movie_tup in sim_list:\n",
        "      tup_info = movie_tup[0].split(\":\")\n",
        "      if (tup_info[0] == \"movie_id\") and (len(item2item[movie_id]) < 10):\n",
        "        item2item[movie_id].append(tup_info[1])\n",
        "  except:\n",
        "    not_in_count += 1\n",
        "    print(\"word\", str(movie_id) ,\"not in vocabulary\")"
      ],
      "execution_count": 22,
      "outputs": [
        {
          "output_type": "stream",
          "text": [
            "word 51 not in vocabulary\n",
            "word 109 not in vocabulary\n",
            "word 115 not in vocabulary\n",
            "word 143 not in vocabulary\n",
            "word 284 not in vocabulary\n",
            "word 285 not in vocabulary\n",
            "word 395 not in vocabulary\n",
            "word 399 not in vocabulary\n",
            "word 400 not in vocabulary\n",
            "word 403 not in vocabulary\n",
            "word 604 not in vocabulary\n",
            "word 620 not in vocabulary\n",
            "word 625 not in vocabulary\n",
            "word 629 not in vocabulary\n",
            "word 636 not in vocabulary\n",
            "word 654 not in vocabulary\n",
            "word 675 not in vocabulary\n",
            "word 676 not in vocabulary\n",
            "word 683 not in vocabulary\n",
            "word 693 not in vocabulary\n",
            "word 699 not in vocabulary\n",
            "word 713 not in vocabulary\n",
            "word 721 not in vocabulary\n",
            "word 723 not in vocabulary\n",
            "word 727 not in vocabulary\n",
            "word 738 not in vocabulary\n",
            "word 739 not in vocabulary\n",
            "word 752 not in vocabulary\n",
            "word 768 not in vocabulary\n",
            "word 770 not in vocabulary\n",
            "word 772 not in vocabulary\n",
            "word 773 not in vocabulary\n",
            "word 777 not in vocabulary\n",
            "word 794 not in vocabulary\n",
            "word 795 not in vocabulary\n",
            "word 797 not in vocabulary\n",
            "word 812 not in vocabulary\n",
            "word 816 not in vocabulary\n",
            "word 819 not in vocabulary\n",
            "word 822 not in vocabulary\n",
            "word 825 not in vocabulary\n",
            "word 845 not in vocabulary\n",
            "word 855 not in vocabulary\n",
            "word 856 not in vocabulary\n",
            "word 857 not in vocabulary\n",
            "word 871 not in vocabulary\n",
            "word 873 not in vocabulary\n",
            "word 890 not in vocabulary\n",
            "word 894 not in vocabulary\n",
            "word 979 not in vocabulary\n",
            "word 983 not in vocabulary\n",
            "word 1001 not in vocabulary\n",
            "word 1045 not in vocabulary\n",
            "word 1052 not in vocabulary\n",
            "word 1065 not in vocabulary\n",
            "word 1075 not in vocabulary\n",
            "word 1106 not in vocabulary\n",
            "word 1108 not in vocabulary\n",
            "word 1109 not in vocabulary\n",
            "word 1110 not in vocabulary\n",
            "word 1122 not in vocabulary\n",
            "word 1137 not in vocabulary\n",
            "word 1140 not in vocabulary\n",
            "word 1141 not in vocabulary\n",
            "word 1143 not in vocabulary\n",
            "word 1146 not in vocabulary\n",
            "word 1155 not in vocabulary\n",
            "word 1156 not in vocabulary\n",
            "word 1157 not in vocabulary\n",
            "word 1158 not in vocabulary\n",
            "word 1159 not in vocabulary\n",
            "word 1166 not in vocabulary\n",
            "word 1308 not in vocabulary\n",
            "word 1309 not in vocabulary\n",
            "word 1314 not in vocabulary\n",
            "word 1318 not in vocabulary\n",
            "word 1319 not in vocabulary\n",
            "word 1368 not in vocabulary\n",
            "word 1400 not in vocabulary\n",
            "word 1424 not in vocabulary\n",
            "word 1443 not in vocabulary\n",
            "word 1448 not in vocabulary\n",
            "word 1462 not in vocabulary\n",
            "word 1467 not in vocabulary\n",
            "word 1524 not in vocabulary\n",
            "word 1557 not in vocabulary\n",
            "word 1559 not in vocabulary\n",
            "word 1568 not in vocabulary\n",
            "word 1577 not in vocabulary\n",
            "word 1578 not in vocabulary\n",
            "word 1628 not in vocabulary\n",
            "word 1697 not in vocabulary\n",
            "word 1698 not in vocabulary\n",
            "word 1705 not in vocabulary\n",
            "word 1706 not in vocabulary\n",
            "word 1708 not in vocabulary\n",
            "word 1710 not in vocabulary\n",
            "word 1716 not in vocabulary\n",
            "word 1723 not in vocabulary\n",
            "word 1738 not in vocabulary\n",
            "word 1740 not in vocabulary\n",
            "word 1742 not in vocabulary\n",
            "word 1757 not in vocabulary\n",
            "word 1765 not in vocabulary\n",
            "word 1768 not in vocabulary\n",
            "word 1774 not in vocabulary\n",
            "word 1776 not in vocabulary\n",
            "word 1781 not in vocabulary\n",
            "word 1789 not in vocabulary\n",
            "word 1819 not in vocabulary\n",
            "word 1847 not in vocabulary\n",
            "word 2030 not in vocabulary\n",
            "word 2199 not in vocabulary\n",
            "word 2216 not in vocabulary\n",
            "word 2220 not in vocabulary\n",
            "word 2222 not in vocabulary\n",
            "word 2224 not in vocabulary\n",
            "word 2225 not in vocabulary\n",
            "word 2228 not in vocabulary\n",
            "word 2229 not in vocabulary\n",
            "word 2230 not in vocabulary\n",
            "word 2270 not in vocabulary\n",
            "word 2274 not in vocabulary\n",
            "word 2319 not in vocabulary\n",
            "word 2489 not in vocabulary\n",
            "word 2508 not in vocabulary\n",
            "word 2547 not in vocabulary\n",
            "word 2564 not in vocabulary\n",
            "word 2588 not in vocabulary\n",
            "word 2595 not in vocabulary\n",
            "word 2601 not in vocabulary\n",
            "word 2603 not in vocabulary\n",
            "word 2604 not in vocabulary\n",
            "word 2680 not in vocabulary\n",
            "word 2684 not in vocabulary\n",
            "word 2698 not in vocabulary\n",
            "word 2832 not in vocabulary\n",
            "word 2838 not in vocabulary\n",
            "word 2910 not in vocabulary\n",
            "word 2954 not in vocabulary\n",
            "word 2957 not in vocabulary\n",
            "word 2958 not in vocabulary\n",
            "word 2980 not in vocabulary\n",
            "word 3009 not in vocabulary\n",
            "word 3023 not in vocabulary\n",
            "word 3059 not in vocabulary\n",
            "word 3080 not in vocabulary\n",
            "word 3170 not in vocabulary\n",
            "word 3191 not in vocabulary\n",
            "word 3193 not in vocabulary\n",
            "word 3195 not in vocabulary\n",
            "word 3226 not in vocabulary\n",
            "word 3227 not in vocabulary\n",
            "word 3231 not in vocabulary\n",
            "word 3234 not in vocabulary\n",
            "word 3278 not in vocabulary\n",
            "word 3279 not in vocabulary\n",
            "word 3332 not in vocabulary\n",
            "word 3348 not in vocabulary\n",
            "word 3356 not in vocabulary\n",
            "word 3369 not in vocabulary\n",
            "word 3383 not in vocabulary\n",
            "word 3411 not in vocabulary\n",
            "word 3455 not in vocabulary\n",
            "word 3541 not in vocabulary\n",
            "word 3558 not in vocabulary\n",
            "word 3560 not in vocabulary\n",
            "word 3561 not in vocabulary\n",
            "word 3582 not in vocabulary\n",
            "word 3583 not in vocabulary\n",
            "word 3589 not in vocabulary\n",
            "word 3630 not in vocabulary\n",
            "word 3650 not in vocabulary\n",
            "word 3750 not in vocabulary\n",
            "word 3829 not in vocabulary\n",
            "word 3856 not in vocabulary\n",
            "word 3907 not in vocabulary\n"
          ],
          "name": "stdout"
        }
      ]
    },
    {
      "cell_type": "code",
      "metadata": {
        "colab": {
          "base_uri": "https://localhost:8080/"
        },
        "id": "R_4LizEz2-2F",
        "outputId": "b26fdb9e-b138-4953-ef15-a55b829c31ae"
      },
      "source": [
        "print(\"total:\", not_in_count)"
      ],
      "execution_count": 23,
      "outputs": [
        {
          "output_type": "stream",
          "text": [
            "total: 177\n"
          ],
          "name": "stdout"
        }
      ]
    },
    {
      "cell_type": "code",
      "metadata": {
        "colab": {
          "base_uri": "https://localhost:8080/",
          "height": 35
        },
        "id": "lTCQPIcL4htp",
        "outputId": "a65efe45-91be-4c39-f74a-13fc1285aced"
      },
      "source": [
        "str(item2item)[:100]"
      ],
      "execution_count": 25,
      "outputs": [
        {
          "output_type": "execute_result",
          "data": {
            "application/vnd.google.colaboratory.intrinsic+json": {
              "type": "string"
            },
            "text/plain": [
              "\"{1: ['1223', '3429', '2324', '2289', '3114', '1537', '1148', '745', '1265', '235'], 2: ['60', '3489'\""
            ]
          },
          "metadata": {
            "tags": []
          },
          "execution_count": 25
        }
      ]
    },
    {
      "cell_type": "code",
      "metadata": {
        "id": "cTRHX5Vf41Ec"
      },
      "source": [
        ""
      ],
      "execution_count": null,
      "outputs": []
    }
  ]
}