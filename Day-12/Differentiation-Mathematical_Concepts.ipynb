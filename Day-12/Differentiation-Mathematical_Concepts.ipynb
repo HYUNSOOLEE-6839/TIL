{
 "cells": [
  {
   "cell_type": "markdown",
   "metadata": {},
   "source": [
    "# 미분\n",
    "- 평균변화율 : X가 변할 때, Y의 변화량\n",
    "    > f(b) - f(a) / b - a\n",
    "- 순간변화율 f'(a)\n",
    "    - 평균 변화율의 극한 값\n",
    "    - b점이 a점으로 한없이 가까워질 때, a점에서의 순간변화율\n",
    "    - a점에서의 접선의 기울기"
   ]
  },
  {
   "cell_type": "markdown",
   "metadata": {},
   "source": [
    "- 다항함수 미분 \n",
    "- 곱의 미분\n",
    "- 합성함수 미분\n",
    "- 지수함수 미분\n",
    "- 로그함수 미분"
   ]
  },
  {
   "cell_type": "markdown",
   "metadata": {},
   "source": [
    "### 미분을 왜 하는가?\n",
    "- 미분을 통해서 극대값, 극소값을 알아낼 수 있음.\n",
    "    - 미분값은 접선의 기울도함수를 통하여 미분가능한 함수의 극대,소값을 구할 수 있음.\n",
    "- 접선의 기울기가 양에서 음으로, 즉, 0이 되는 지점이 극대값."
   ]
  },
  {
   "cell_type": "markdown",
   "metadata": {},
   "source": [
    "### Likelihood\n",
    "- Likelihood function(가능도함수 / 우도함수)\n",
    "    > 확률분포함수 : 모수들이 주어져있을 때, 특정 값이 나올 확률.\n",
    "        - 뮤가 주어졌을 때 x에 대한 함수\n",
    "    > 가능도함수 : \n",
    "        - x가 주어졌을 때 뮤에 대한 함수.\n",
    "<br>   \n",
    "- 같은 식을 가지고 있을 때, 그 식의 모수가 고정이 됐을 때 x가 특정 값이 나올 확률\n",
    "    > 확률분포함수\n",
    "        - 모수를 알 때, 확률변수의 실현값을 예측하고자 함.\n",
    "<br>\n",
    "- 자료가 주어져있을 때, x들의 값이 각각 주어져있을 때 특정 모수가 변함에 따라 확률값이 어떻게 되는가?\n",
    "- 우리가 가진 자료를 잘 설명하는 모수의 값이 무엇인가?\n",
    "    > 가능도함수\n",
    "        - 확률변수의 실현값을 알 때, 모수를 추정하고자 함."
   ]
  },
  {
   "cell_type": "markdown",
   "metadata": {},
   "source": [
    "- 확률분포함수\n",
    "    - 종류\n",
    "        - 확률밀도함수 - 연속형 확률변수의 확률 분포함수 - pdf\n",
    "        - 확률질량함수 - 이산형 확률변수의 확률 분포함수 - pmf\n",
    "            - f(x) = P(X = x)\n",
    "        - 누적분포함수 - 누적 확률 분포함수 - cdf\n",
    "            - F(x) = P(X =< x)"
   ]
  },
  {
   "cell_type": "markdown",
   "metadata": {},
   "source": [
    "- 확률분포함수나 확률밀도함수는 전부 pdf로 표현하지만 문맥 상 추론해야함."
   ]
  },
  {
   "cell_type": "markdown",
   "metadata": {},
   "source": [
    "# Matrix\n",
    "- Matrix\n",
    "- Vector : Matrix가 행이 1개만 있거나, 열이 1개만 있거나.\n",
    "- Transpose and symmetric : 차원 변환 = A ** T\n",
    "    > symmetric : A = A ** T 일때 A는 Symmetric이다."
   ]
  },
  {
   "cell_type": "markdown",
   "metadata": {},
   "source": [
    "- Scalar : 1 by 1 matrix\n",
    "- Identity matrix : 정방행렬, 대각행렬의 번호가 같은 원소가 모두 1, 나머지 0\n",
    "- Diagonal matrix : Identity에서 대각원소의 값만 바뀐 상태."
   ]
  },
  {
   "cell_type": "markdown",
   "metadata": {},
   "source": [
    "- Equality\n",
    "    - 정의 : 모든 i, j에 대하여 aij = bij 이면 A = B\n",
    "\n",
    "- 합, 차의 성질\n",
    "    - A+-B = B+-A\n",
    "    - (A+-B)+-C = A+-(B+C)\n",
    "    - (A+-B) ** T = A ** T +- B ** T"
   ]
  },
  {
   "cell_type": "markdown",
   "metadata": {},
   "source": [
    "- 곱\n",
    "    - 상수배\n",
    "        - B = kA <==> bij = kaij\n",
    "    <br>\n",
    "    - 행렬곱\n",
    "        - A = (m * p), B = (p * n)\n",
    "        - C = AB, C = (m * n)\n",
    "        ### 행렬 곱의 정의\n",
    ">> 즉, 곱셈에서 앞서 위치할 행렬의 열의 수와 뒤에 위치할 행렬의 행의 수가 같아야 함.\n",
    ">>> 행렬 A(m X p) * 행렬 B(p X n) = 행렬 C(m X n)\n",
    "<br>\n",
    "> 즉, (2 X 5) * (5 X 4) = (2 X 4)"
   ]
  },
  {
   "cell_type": "markdown",
   "metadata": {},
   "source": [
    "- 내적\n",
    "    - Row vector와 Column vector의 곱\n",
    "- Trace\n",
    "    - 역행렬이 존재하는지 여부와 관련이 되어있는지...\n",
    "    - 어떠한 행렬이 있을 때 대각원소들을 모두 더한 것."
   ]
  },
  {
   "cell_type": "markdown",
   "metadata": {},
   "source": [
    "- 역행렬\n",
    "    - 아래를 만족할 때, B는 A의 역행렬이고 A는 B의 역행렬이다.\n",
    "    - AB = BA = In\n",
    "<br><br>\n",
    "- 역행렬 성질\n",
    "    - I ** -1 = I\n",
    "    - (A ** -1) ** -1 = A\n",
    "    - AB = I, BA = I\n",
    "<br><br>\n",
    "- Idempotent\n",
    "    - AA = A"
   ]
  },
  {
   "cell_type": "markdown",
   "metadata": {},
   "source": [
    "# Matrix 미분\n",
    "### 미분 표기법의 종류"
   ]
  },
  {
   "cell_type": "markdown",
   "metadata": {},
   "source": [
    "- Matrix 미분 : 서로 다른 표기법 존재\n",
    "    - Numerator layout\n",
    "        - 미분 당하는 변수(혹은 함수)를 기준으로 결과의 형태를 표기, 분자 기준\n",
    "            > y의 형태를 기준으로 output의 형태를 미분한 값의 형태를 결정\n",
    "    - Denumerator layout\n",
    "        - 미분을 하는 변수(혹은 함수)를 기준으로 결과의 형태를 표기.\n",
    "            > y를 x로 미분할 때, 미분함수를 기준으로 미분한 값의 형태를 결정\n",
    "<br><br>\n",
    "- 서로 transpose 관계에 있음."
   ]
  },
  {
   "cell_type": "code",
   "execution_count": null,
   "metadata": {},
   "outputs": [],
   "source": []
  }
 ],
 "metadata": {
  "kernelspec": {
   "display_name": "Python 3",
   "language": "python",
   "name": "python3"
  },
  "language_info": {
   "codemirror_mode": {
    "name": "ipython",
    "version": 3
   },
   "file_extension": ".py",
   "mimetype": "text/x-python",
   "name": "python",
   "nbconvert_exporter": "python",
   "pygments_lexer": "ipython3",
   "version": "3.8.5"
  }
 },
 "nbformat": 4,
 "nbformat_minor": 4
}
