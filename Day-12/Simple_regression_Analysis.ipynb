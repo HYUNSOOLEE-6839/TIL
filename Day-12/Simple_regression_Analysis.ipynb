{
 "cells": [
  {
   "cell_type": "markdown",
   "metadata": {},
   "source": [
    "# 회귀분석이란?\n",
    "- 지도 학습\n",
    "<br>\n",
    "- Y = f(X)에 대하여 입력 변수(X)와 출력 변수(Y)의 관계에 대하여 모델링하는 것\n",
    "- (Y에 대하여 예측 또는 분류하는 문제)\n",
    "    - 회귀 : 입력 변수 X에 대해서 연속형 출력 변수 Y를 예측\n",
    "    - 분류 : 입력 변수 X에 대해서 이산형 출력 변수 Y(class)를 예측"
   ]
  },
  {
   "cell_type": "markdown",
   "metadata": {},
   "source": [
    "### 회귀분석\n",
    "\n",
    "- 입력 변수인 X의 정보를 활용하여 출력 변수인 Y를 예측하는 방법\n",
    "<br>\n",
    "\n",
    "- 단순 선형회귀분석 : 변수가 하나일 때..\n",
    "    > Y = B0 + B1X + error\n",
    "- 입력 변수가 X, 출력 변수가 Y일 때 식.\n",
    "- B0은 절편, B1은 기울기이며, 합쳐서 회귀계수로도 불림.\n",
    "> 실제로 B0와 B1은 구할 수 없는 계수로 데이터를 통해 이 둘을 추정해서 사용,."
   ]
  },
  {
   "cell_type": "markdown",
   "metadata": {},
   "source": [
    "- 직선과 데이터의 차이가 평균적으로 가장 작아지는 직선이 y를 가장 잘 설명하는 직선이다."
   ]
  },
  {
   "cell_type": "markdown",
   "metadata": {},
   "source": [
    "### 회귀계수추정\n",
    "- 실제 값과 우리가 추정한 값의 차이가 적으면 적을 수록 좋다.\n",
    "- 그 차이를 잔차라고 하며 이를 최소화 하는 방향으로 추정.\n",
    "    > e.i = y.i - yhat.i"
   ]
  },
  {
   "cell_type": "markdown",
   "metadata": {},
   "source": [
    "- SSE (잔차의 제곱합)\n",
    "    - 잔차의 제곱합을 최소화시키는 이유?\n",
    "    - 잔차의 합이 0이 되는 해는 무수히 많음.\n",
    "    - 잔차의 절대값의 합은 미분이 불가능한 형태.\n",
    "    - 잔차의 제곱 합은 미분이 가능한 형태로 유일한 해를 찾을 수 있음."
   ]
  },
  {
   "cell_type": "markdown",
   "metadata": {},
   "source": [
    "### 회귀계수의 의미\n",
    "- 회귀 계수의 해석\n",
    "    - B1의 해석 - X1이 1단위 증가할 때마다 y가 B1만큼 증가한다\n",
    "<br>\n",
    "      > ex) radio 광고 예산과 매출 간의 관계\n",
    "    - Radio 광고 예산이 1 증가할 때마다 매출은 0.2단위 만큼 증가한다. 그 때 유의성은 매우 높다.\n",
    "    - Radio 광고 예산이 35 단위일 때 예상 매출액은 9.312 + 0.203 * 35 =16.42 단위이다."
   ]
  },
  {
   "cell_type": "markdown",
   "metadata": {},
   "source": [
    "- 선형 회귀의 정확도 평가\n",
    "    - 선형회귀는 SSE를 최소화 하는 방법으로 회귀 계수를 추정\n",
    "    - 즉, SSE가 작으면 작을 수록 좋은 모델이라고 볼 수 있음.\n",
    "    - MSE는 SSE를 표준화한 개념."
   ]
  },
  {
   "cell_type": "markdown",
   "metadata": {},
   "source": [
    "    - SSR(Regression Sum of squares) : 자유도 1 \n",
    "    - SSE(Error Sum of squares) : 자유도 N-1\n",
    "    - SST(Total Sum of squares) : 자유도 N-2\n",
    " > SST = SSE + SSR"
   ]
  },
  {
   "cell_type": "markdown",
   "metadata": {},
   "source": [
    "    - Y의 총 변동은 회귀직선으로 설명 가능 및 불가능한 변동으로 이루어져있음.\n",
    "    - R ** 2는 RSE의 단점을 보완한 평가지표로 0~1의 범위를 가짐.\n",
    "    - R ** 2는 설명력으로 입력 변수인 X로 설명할 수 있는 Y의 변동을 의미.\n",
    "    - R ** 2이 1에 가까울 수록 선형회귀 모형의 설명력이 높다는 것을 뜻함."
   ]
  },
  {
   "cell_type": "markdown",
   "metadata": {},
   "source": [
    ">> R스퀘어(R ** 2) = 1 - SSE / SST 또는, SSR / SST"
   ]
  },
  {
   "cell_type": "markdown",
   "metadata": {},
   "source": [
    "    - 회귀 분석은 결국 Y의 변동성을 얼마나 독립변수가 잘 설명하느냐가 중요.\n",
    "    - 변수가 여러 개일 때 각각 Y를 설명하는 변동성이 크면 좋은 변수.\n",
    "        -> 이 때 p-value는 자연스레 낮아짐."
   ]
  },
  {
   "cell_type": "markdown",
   "metadata": {},
   "source": [
    "### 회귀계수에 대한 검정"
   ]
  },
  {
   "cell_type": "markdown",
   "metadata": {},
   "source": [
    "- R스퀘어 = 회귀직선을 설명가능한 비율 / 총 변동"
   ]
  },
  {
   "cell_type": "markdown",
   "metadata": {},
   "source": [
    "- 단순 선형 회귀분석의 검정\n",
    "- B1의 검정\n",
    "    - 귀무가설 : B1 = 0 (회귀계수는 0이다, 즉 변수의 설명력이 없다.)\n",
    "    - 대립가설 : B1 != 0 (0이 아니다, 변수의 설명력이 존재한다.)"
   ]
  },
  {
   "cell_type": "markdown",
   "metadata": {},
   "source": [
    "# 단순선형회귀분석 실습해보기"
   ]
  },
  {
   "cell_type": "code",
   "execution_count": 5,
   "metadata": {},
   "outputs": [],
   "source": [
    "import os\n",
    "import pandas as pd\n",
    "import numpy as np\n",
    "import statsmodels.api as sm"
   ]
  },
  {
   "cell_type": "code",
   "execution_count": 6,
   "metadata": {},
   "outputs": [
    {
     "data": {
      "text/plain": [
       "'/Users/hyunsoolee/Documents/GitHub/TIL/Day-12'"
      ]
     },
     "execution_count": 6,
     "metadata": {},
     "output_type": "execute_result"
    }
   ],
   "source": [
    "# 현재 경로확인\n",
    "os.getcwd()"
   ]
  },
  {
   "cell_type": "code",
   "execution_count": 26,
   "metadata": {},
   "outputs": [],
   "source": [
    "# 데이터 불러오기\n",
    "boston = pd.read_csv('./data/boston_train.csv')"
   ]
  },
  {
   "cell_type": "code",
   "execution_count": 27,
   "metadata": {},
   "outputs": [
    {
     "data": {
      "text/html": [
       "<div>\n",
       "<style scoped>\n",
       "    .dataframe tbody tr th:only-of-type {\n",
       "        vertical-align: middle;\n",
       "    }\n",
       "\n",
       "    .dataframe tbody tr th {\n",
       "        vertical-align: top;\n",
       "    }\n",
       "\n",
       "    .dataframe thead th {\n",
       "        text-align: right;\n",
       "    }\n",
       "</style>\n",
       "<table border=\"1\" class=\"dataframe\">\n",
       "  <thead>\n",
       "    <tr style=\"text-align: right;\">\n",
       "      <th></th>\n",
       "      <th>CRIM</th>\n",
       "      <th>ZN</th>\n",
       "      <th>INDUS</th>\n",
       "      <th>CHAS</th>\n",
       "      <th>NOX</th>\n",
       "      <th>RM</th>\n",
       "      <th>AGE</th>\n",
       "      <th>DIS</th>\n",
       "      <th>RAD</th>\n",
       "      <th>TAX</th>\n",
       "      <th>PTRATIO</th>\n",
       "      <th>B</th>\n",
       "      <th>LSTAT</th>\n",
       "      <th>target</th>\n",
       "    </tr>\n",
       "  </thead>\n",
       "  <tbody>\n",
       "    <tr>\n",
       "      <th>0</th>\n",
       "      <td>6.53876</td>\n",
       "      <td>0.0</td>\n",
       "      <td>18.10</td>\n",
       "      <td>1.0</td>\n",
       "      <td>0.631</td>\n",
       "      <td>7.016</td>\n",
       "      <td>97.5</td>\n",
       "      <td>1.2024</td>\n",
       "      <td>24.0</td>\n",
       "      <td>666.0</td>\n",
       "      <td>20.2</td>\n",
       "      <td>392.05</td>\n",
       "      <td>2.96</td>\n",
       "      <td>50.0</td>\n",
       "    </tr>\n",
       "    <tr>\n",
       "      <th>1</th>\n",
       "      <td>0.01870</td>\n",
       "      <td>85.0</td>\n",
       "      <td>4.15</td>\n",
       "      <td>0.0</td>\n",
       "      <td>0.429</td>\n",
       "      <td>6.516</td>\n",
       "      <td>27.7</td>\n",
       "      <td>8.5353</td>\n",
       "      <td>4.0</td>\n",
       "      <td>351.0</td>\n",
       "      <td>17.9</td>\n",
       "      <td>392.43</td>\n",
       "      <td>6.36</td>\n",
       "      <td>23.1</td>\n",
       "    </tr>\n",
       "    <tr>\n",
       "      <th>2</th>\n",
       "      <td>9.82349</td>\n",
       "      <td>0.0</td>\n",
       "      <td>18.10</td>\n",
       "      <td>0.0</td>\n",
       "      <td>0.671</td>\n",
       "      <td>6.794</td>\n",
       "      <td>98.8</td>\n",
       "      <td>1.3580</td>\n",
       "      <td>24.0</td>\n",
       "      <td>666.0</td>\n",
       "      <td>20.2</td>\n",
       "      <td>396.90</td>\n",
       "      <td>21.24</td>\n",
       "      <td>13.3</td>\n",
       "    </tr>\n",
       "    <tr>\n",
       "      <th>3</th>\n",
       "      <td>8.98296</td>\n",
       "      <td>0.0</td>\n",
       "      <td>18.10</td>\n",
       "      <td>1.0</td>\n",
       "      <td>0.770</td>\n",
       "      <td>6.212</td>\n",
       "      <td>97.4</td>\n",
       "      <td>2.1222</td>\n",
       "      <td>24.0</td>\n",
       "      <td>666.0</td>\n",
       "      <td>20.2</td>\n",
       "      <td>377.73</td>\n",
       "      <td>17.60</td>\n",
       "      <td>17.8</td>\n",
       "    </tr>\n",
       "    <tr>\n",
       "      <th>4</th>\n",
       "      <td>0.15445</td>\n",
       "      <td>25.0</td>\n",
       "      <td>5.13</td>\n",
       "      <td>0.0</td>\n",
       "      <td>0.453</td>\n",
       "      <td>6.145</td>\n",
       "      <td>29.2</td>\n",
       "      <td>7.8148</td>\n",
       "      <td>8.0</td>\n",
       "      <td>284.0</td>\n",
       "      <td>19.7</td>\n",
       "      <td>390.68</td>\n",
       "      <td>6.86</td>\n",
       "      <td>23.3</td>\n",
       "    </tr>\n",
       "  </tbody>\n",
       "</table>\n",
       "</div>"
      ],
      "text/plain": [
       "      CRIM    ZN  INDUS  CHAS    NOX     RM   AGE     DIS   RAD    TAX  \\\n",
       "0  6.53876   0.0  18.10   1.0  0.631  7.016  97.5  1.2024  24.0  666.0   \n",
       "1  0.01870  85.0   4.15   0.0  0.429  6.516  27.7  8.5353   4.0  351.0   \n",
       "2  9.82349   0.0  18.10   0.0  0.671  6.794  98.8  1.3580  24.0  666.0   \n",
       "3  8.98296   0.0  18.10   1.0  0.770  6.212  97.4  2.1222  24.0  666.0   \n",
       "4  0.15445  25.0   5.13   0.0  0.453  6.145  29.2  7.8148   8.0  284.0   \n",
       "\n",
       "   PTRATIO       B  LSTAT  target  \n",
       "0     20.2  392.05   2.96    50.0  \n",
       "1     17.9  392.43   6.36    23.1  \n",
       "2     20.2  396.90  21.24    13.3  \n",
       "3     20.2  377.73  17.60    17.8  \n",
       "4     19.7  390.68   6.86    23.3  "
      ]
     },
     "execution_count": 27,
     "metadata": {},
     "output_type": "execute_result"
    }
   ],
   "source": [
    "boston.head()"
   ]
  },
  {
   "cell_type": "code",
   "execution_count": 28,
   "metadata": {},
   "outputs": [
    {
     "data": {
      "text/html": [
       "<div>\n",
       "<style scoped>\n",
       "    .dataframe tbody tr th:only-of-type {\n",
       "        vertical-align: middle;\n",
       "    }\n",
       "\n",
       "    .dataframe tbody tr th {\n",
       "        vertical-align: top;\n",
       "    }\n",
       "\n",
       "    .dataframe thead th {\n",
       "        text-align: right;\n",
       "    }\n",
       "</style>\n",
       "<table border=\"1\" class=\"dataframe\">\n",
       "  <thead>\n",
       "    <tr style=\"text-align: right;\">\n",
       "      <th></th>\n",
       "      <th>CRIM</th>\n",
       "      <th>ZN</th>\n",
       "      <th>INDUS</th>\n",
       "      <th>CHAS</th>\n",
       "      <th>NOX</th>\n",
       "      <th>RM</th>\n",
       "      <th>AGE</th>\n",
       "      <th>DIS</th>\n",
       "      <th>RAD</th>\n",
       "      <th>TAX</th>\n",
       "      <th>PTRATIO</th>\n",
       "      <th>B</th>\n",
       "      <th>LSTAT</th>\n",
       "      <th>target</th>\n",
       "    </tr>\n",
       "  </thead>\n",
       "  <tbody>\n",
       "    <tr>\n",
       "      <th>count</th>\n",
       "      <td>379.000000</td>\n",
       "      <td>379.000000</td>\n",
       "      <td>379.000000</td>\n",
       "      <td>379.000000</td>\n",
       "      <td>379.000000</td>\n",
       "      <td>379.000000</td>\n",
       "      <td>379.000000</td>\n",
       "      <td>379.000000</td>\n",
       "      <td>379.000000</td>\n",
       "      <td>379.000000</td>\n",
       "      <td>379.000000</td>\n",
       "      <td>379.000000</td>\n",
       "      <td>379.000000</td>\n",
       "      <td>379.000000</td>\n",
       "    </tr>\n",
       "    <tr>\n",
       "      <th>mean</th>\n",
       "      <td>3.930683</td>\n",
       "      <td>11.624011</td>\n",
       "      <td>11.297757</td>\n",
       "      <td>0.063325</td>\n",
       "      <td>0.558835</td>\n",
       "      <td>6.284269</td>\n",
       "      <td>69.219525</td>\n",
       "      <td>3.762001</td>\n",
       "      <td>9.810026</td>\n",
       "      <td>414.902375</td>\n",
       "      <td>18.446438</td>\n",
       "      <td>356.165831</td>\n",
       "      <td>12.523931</td>\n",
       "      <td>22.596306</td>\n",
       "    </tr>\n",
       "    <tr>\n",
       "      <th>std</th>\n",
       "      <td>9.331306</td>\n",
       "      <td>23.862573</td>\n",
       "      <td>7.041391</td>\n",
       "      <td>0.243868</td>\n",
       "      <td>0.120830</td>\n",
       "      <td>0.711232</td>\n",
       "      <td>27.720188</td>\n",
       "      <td>2.127303</td>\n",
       "      <td>8.850660</td>\n",
       "      <td>171.260464</td>\n",
       "      <td>2.203222</td>\n",
       "      <td>92.804536</td>\n",
       "      <td>7.059577</td>\n",
       "      <td>9.570396</td>\n",
       "    </tr>\n",
       "    <tr>\n",
       "      <th>min</th>\n",
       "      <td>0.010960</td>\n",
       "      <td>0.000000</td>\n",
       "      <td>0.460000</td>\n",
       "      <td>0.000000</td>\n",
       "      <td>0.385000</td>\n",
       "      <td>3.561000</td>\n",
       "      <td>6.000000</td>\n",
       "      <td>1.129600</td>\n",
       "      <td>1.000000</td>\n",
       "      <td>187.000000</td>\n",
       "      <td>12.600000</td>\n",
       "      <td>0.320000</td>\n",
       "      <td>1.920000</td>\n",
       "      <td>5.000000</td>\n",
       "    </tr>\n",
       "    <tr>\n",
       "      <th>25%</th>\n",
       "      <td>0.082215</td>\n",
       "      <td>0.000000</td>\n",
       "      <td>4.950000</td>\n",
       "      <td>0.000000</td>\n",
       "      <td>0.448000</td>\n",
       "      <td>5.888500</td>\n",
       "      <td>45.800000</td>\n",
       "      <td>2.068550</td>\n",
       "      <td>4.000000</td>\n",
       "      <td>284.000000</td>\n",
       "      <td>17.150000</td>\n",
       "      <td>375.425000</td>\n",
       "      <td>6.765000</td>\n",
       "      <td>16.550000</td>\n",
       "    </tr>\n",
       "    <tr>\n",
       "      <th>50%</th>\n",
       "      <td>0.298190</td>\n",
       "      <td>0.000000</td>\n",
       "      <td>9.690000</td>\n",
       "      <td>0.000000</td>\n",
       "      <td>0.538000</td>\n",
       "      <td>6.211000</td>\n",
       "      <td>78.300000</td>\n",
       "      <td>3.066500</td>\n",
       "      <td>5.000000</td>\n",
       "      <td>345.000000</td>\n",
       "      <td>19.100000</td>\n",
       "      <td>391.340000</td>\n",
       "      <td>11.450000</td>\n",
       "      <td>20.900000</td>\n",
       "    </tr>\n",
       "    <tr>\n",
       "      <th>75%</th>\n",
       "      <td>3.944055</td>\n",
       "      <td>12.500000</td>\n",
       "      <td>18.100000</td>\n",
       "      <td>0.000000</td>\n",
       "      <td>0.647000</td>\n",
       "      <td>6.622000</td>\n",
       "      <td>94.400000</td>\n",
       "      <td>5.214600</td>\n",
       "      <td>24.000000</td>\n",
       "      <td>666.000000</td>\n",
       "      <td>20.200000</td>\n",
       "      <td>396.235000</td>\n",
       "      <td>16.550000</td>\n",
       "      <td>25.050000</td>\n",
       "    </tr>\n",
       "    <tr>\n",
       "      <th>max</th>\n",
       "      <td>88.976200</td>\n",
       "      <td>100.000000</td>\n",
       "      <td>27.740000</td>\n",
       "      <td>1.000000</td>\n",
       "      <td>0.871000</td>\n",
       "      <td>8.725000</td>\n",
       "      <td>100.000000</td>\n",
       "      <td>12.126500</td>\n",
       "      <td>24.000000</td>\n",
       "      <td>711.000000</td>\n",
       "      <td>22.000000</td>\n",
       "      <td>396.900000</td>\n",
       "      <td>37.970000</td>\n",
       "      <td>50.000000</td>\n",
       "    </tr>\n",
       "  </tbody>\n",
       "</table>\n",
       "</div>"
      ],
      "text/plain": [
       "             CRIM          ZN       INDUS        CHAS         NOX          RM  \\\n",
       "count  379.000000  379.000000  379.000000  379.000000  379.000000  379.000000   \n",
       "mean     3.930683   11.624011   11.297757    0.063325    0.558835    6.284269   \n",
       "std      9.331306   23.862573    7.041391    0.243868    0.120830    0.711232   \n",
       "min      0.010960    0.000000    0.460000    0.000000    0.385000    3.561000   \n",
       "25%      0.082215    0.000000    4.950000    0.000000    0.448000    5.888500   \n",
       "50%      0.298190    0.000000    9.690000    0.000000    0.538000    6.211000   \n",
       "75%      3.944055   12.500000   18.100000    0.000000    0.647000    6.622000   \n",
       "max     88.976200  100.000000   27.740000    1.000000    0.871000    8.725000   \n",
       "\n",
       "              AGE         DIS         RAD         TAX     PTRATIO           B  \\\n",
       "count  379.000000  379.000000  379.000000  379.000000  379.000000  379.000000   \n",
       "mean    69.219525    3.762001    9.810026  414.902375   18.446438  356.165831   \n",
       "std     27.720188    2.127303    8.850660  171.260464    2.203222   92.804536   \n",
       "min      6.000000    1.129600    1.000000  187.000000   12.600000    0.320000   \n",
       "25%     45.800000    2.068550    4.000000  284.000000   17.150000  375.425000   \n",
       "50%     78.300000    3.066500    5.000000  345.000000   19.100000  391.340000   \n",
       "75%     94.400000    5.214600   24.000000  666.000000   20.200000  396.235000   \n",
       "max    100.000000   12.126500   24.000000  711.000000   22.000000  396.900000   \n",
       "\n",
       "            LSTAT      target  \n",
       "count  379.000000  379.000000  \n",
       "mean    12.523931   22.596306  \n",
       "std      7.059577    9.570396  \n",
       "min      1.920000    5.000000  \n",
       "25%      6.765000   16.550000  \n",
       "50%     11.450000   20.900000  \n",
       "75%     16.550000   25.050000  \n",
       "max     37.970000   50.000000  "
      ]
     },
     "execution_count": 28,
     "metadata": {},
     "output_type": "execute_result"
    }
   ],
   "source": [
    "boston.describe()"
   ]
  },
  {
   "cell_type": "markdown",
   "metadata": {},
   "source": [
    "### CRIM / RM / LSTAT 세 개의 변수로 각각 단순 선형 회귀 분석하기\n",
    "- CRIM : 범죄율\n",
    "- RM : 주택당 방 수\n",
    "- LSTAT : 인구 중 하위 계층 비율"
   ]
  },
  {
   "cell_type": "code",
   "execution_count": 31,
   "metadata": {},
   "outputs": [],
   "source": [
    "target = boston[['target']]\n",
    "crim = boston[['CRIM']]\n",
    "rm = boston[['RM']]\n",
    "lstat = boston[['LSTAT']]"
   ]
  },
  {
   "cell_type": "markdown",
   "metadata": {},
   "source": [
    "### target ~ crim 선형회귀분석"
   ]
  },
  {
   "cell_type": "code",
   "execution_count": 32,
   "metadata": {},
   "outputs": [
    {
     "data": {
      "text/html": [
       "<div>\n",
       "<style scoped>\n",
       "    .dataframe tbody tr th:only-of-type {\n",
       "        vertical-align: middle;\n",
       "    }\n",
       "\n",
       "    .dataframe tbody tr th {\n",
       "        vertical-align: top;\n",
       "    }\n",
       "\n",
       "    .dataframe thead th {\n",
       "        text-align: right;\n",
       "    }\n",
       "</style>\n",
       "<table border=\"1\" class=\"dataframe\">\n",
       "  <thead>\n",
       "    <tr style=\"text-align: right;\">\n",
       "      <th></th>\n",
       "      <th>const</th>\n",
       "      <th>CRIM</th>\n",
       "    </tr>\n",
       "  </thead>\n",
       "  <tbody>\n",
       "    <tr>\n",
       "      <th>0</th>\n",
       "      <td>1.0</td>\n",
       "      <td>6.53876</td>\n",
       "    </tr>\n",
       "    <tr>\n",
       "      <th>1</th>\n",
       "      <td>1.0</td>\n",
       "      <td>0.01870</td>\n",
       "    </tr>\n",
       "    <tr>\n",
       "      <th>2</th>\n",
       "      <td>1.0</td>\n",
       "      <td>9.82349</td>\n",
       "    </tr>\n",
       "    <tr>\n",
       "      <th>3</th>\n",
       "      <td>1.0</td>\n",
       "      <td>8.98296</td>\n",
       "    </tr>\n",
       "    <tr>\n",
       "      <th>4</th>\n",
       "      <td>1.0</td>\n",
       "      <td>0.15445</td>\n",
       "    </tr>\n",
       "    <tr>\n",
       "      <th>...</th>\n",
       "      <td>...</td>\n",
       "      <td>...</td>\n",
       "    </tr>\n",
       "    <tr>\n",
       "      <th>374</th>\n",
       "      <td>1.0</td>\n",
       "      <td>0.26363</td>\n",
       "    </tr>\n",
       "    <tr>\n",
       "      <th>375</th>\n",
       "      <td>1.0</td>\n",
       "      <td>0.32543</td>\n",
       "    </tr>\n",
       "    <tr>\n",
       "      <th>376</th>\n",
       "      <td>1.0</td>\n",
       "      <td>0.01432</td>\n",
       "    </tr>\n",
       "    <tr>\n",
       "      <th>377</th>\n",
       "      <td>1.0</td>\n",
       "      <td>0.01301</td>\n",
       "    </tr>\n",
       "    <tr>\n",
       "      <th>378</th>\n",
       "      <td>1.0</td>\n",
       "      <td>0.13158</td>\n",
       "    </tr>\n",
       "  </tbody>\n",
       "</table>\n",
       "<p>379 rows × 2 columns</p>\n",
       "</div>"
      ],
      "text/plain": [
       "     const     CRIM\n",
       "0      1.0  6.53876\n",
       "1      1.0  0.01870\n",
       "2      1.0  9.82349\n",
       "3      1.0  8.98296\n",
       "4      1.0  0.15445\n",
       "..     ...      ...\n",
       "374    1.0  0.26363\n",
       "375    1.0  0.32543\n",
       "376    1.0  0.01432\n",
       "377    1.0  0.01301\n",
       "378    1.0  0.13158\n",
       "\n",
       "[379 rows x 2 columns]"
      ]
     },
     "execution_count": 32,
     "metadata": {},
     "output_type": "execute_result"
    }
   ],
   "source": [
    "# Crim 변수에 상수항 추가하기\n",
    "crim1 = sm.add_constant(crim, has_constant=\"add\")\n",
    "crim1"
   ]
  },
  {
   "cell_type": "code",
   "execution_count": 34,
   "metadata": {},
   "outputs": [],
   "source": [
    "# sm.OLS 적합시키기\n",
    "model1 = sm.OLS(target, crim1) # y값, 데이터\n",
    "fitted_model1 = model1.fit()"
   ]
  },
  {
   "cell_type": "code",
   "execution_count": 35,
   "metadata": {},
   "outputs": [
    {
     "data": {
      "text/html": [
       "<table class=\"simpletable\">\n",
       "<caption>OLS Regression Results</caption>\n",
       "<tr>\n",
       "  <th>Dep. Variable:</th>         <td>target</td>      <th>  R-squared:         </th> <td>   0.145</td>\n",
       "</tr>\n",
       "<tr>\n",
       "  <th>Model:</th>                   <td>OLS</td>       <th>  Adj. R-squared:    </th> <td>   0.143</td>\n",
       "</tr>\n",
       "<tr>\n",
       "  <th>Method:</th>             <td>Least Squares</td>  <th>  F-statistic:       </th> <td>   63.84</td>\n",
       "</tr>\n",
       "<tr>\n",
       "  <th>Date:</th>             <td>Thu, 11 Mar 2021</td> <th>  Prob (F-statistic):</th> <td>1.66e-14</td>\n",
       "</tr>\n",
       "<tr>\n",
       "  <th>Time:</th>                 <td>18:47:21</td>     <th>  Log-Likelihood:    </th> <td> -1363.7</td>\n",
       "</tr>\n",
       "<tr>\n",
       "  <th>No. Observations:</th>      <td>   379</td>      <th>  AIC:               </th> <td>   2731.</td>\n",
       "</tr>\n",
       "<tr>\n",
       "  <th>Df Residuals:</th>          <td>   377</td>      <th>  BIC:               </th> <td>   2739.</td>\n",
       "</tr>\n",
       "<tr>\n",
       "  <th>Df Model:</th>              <td>     1</td>      <th>                     </th>     <td> </td>   \n",
       "</tr>\n",
       "<tr>\n",
       "  <th>Covariance Type:</th>      <td>nonrobust</td>    <th>                     </th>     <td> </td>   \n",
       "</tr>\n",
       "</table>\n",
       "<table class=\"simpletable\">\n",
       "<tr>\n",
       "    <td></td>       <th>coef</th>     <th>std err</th>      <th>t</th>      <th>P>|t|</th>  <th>[0.025</th>    <th>0.975]</th>  \n",
       "</tr>\n",
       "<tr>\n",
       "  <th>const</th> <td>   24.1304</td> <td>    0.494</td> <td>   48.842</td> <td> 0.000</td> <td>   23.159</td> <td>   25.102</td>\n",
       "</tr>\n",
       "<tr>\n",
       "  <th>CRIM</th>  <td>   -0.3903</td> <td>    0.049</td> <td>   -7.990</td> <td> 0.000</td> <td>   -0.486</td> <td>   -0.294</td>\n",
       "</tr>\n",
       "</table>\n",
       "<table class=\"simpletable\">\n",
       "<tr>\n",
       "  <th>Omnibus:</th>       <td>101.144</td> <th>  Durbin-Watson:     </th> <td>   1.951</td>\n",
       "</tr>\n",
       "<tr>\n",
       "  <th>Prob(Omnibus):</th> <td> 0.000</td>  <th>  Jarque-Bera (JB):  </th> <td> 194.972</td>\n",
       "</tr>\n",
       "<tr>\n",
       "  <th>Skew:</th>          <td> 1.460</td>  <th>  Prob(JB):          </th> <td>4.60e-43</td>\n",
       "</tr>\n",
       "<tr>\n",
       "  <th>Kurtosis:</th>      <td> 4.955</td>  <th>  Cond. No.          </th> <td>    11.0</td>\n",
       "</tr>\n",
       "</table><br/><br/>Notes:<br/>[1] Standard Errors assume that the covariance matrix of the errors is correctly specified."
      ],
      "text/plain": [
       "<class 'statsmodels.iolib.summary.Summary'>\n",
       "\"\"\"\n",
       "                            OLS Regression Results                            \n",
       "==============================================================================\n",
       "Dep. Variable:                 target   R-squared:                       0.145\n",
       "Model:                            OLS   Adj. R-squared:                  0.143\n",
       "Method:                 Least Squares   F-statistic:                     63.84\n",
       "Date:                Thu, 11 Mar 2021   Prob (F-statistic):           1.66e-14\n",
       "Time:                        18:47:21   Log-Likelihood:                -1363.7\n",
       "No. Observations:                 379   AIC:                             2731.\n",
       "Df Residuals:                     377   BIC:                             2739.\n",
       "Df Model:                           1                                         \n",
       "Covariance Type:            nonrobust                                         \n",
       "==============================================================================\n",
       "                 coef    std err          t      P>|t|      [0.025      0.975]\n",
       "------------------------------------------------------------------------------\n",
       "const         24.1304      0.494     48.842      0.000      23.159      25.102\n",
       "CRIM          -0.3903      0.049     -7.990      0.000      -0.486      -0.294\n",
       "==============================================================================\n",
       "Omnibus:                      101.144   Durbin-Watson:                   1.951\n",
       "Prob(Omnibus):                  0.000   Jarque-Bera (JB):              194.972\n",
       "Skew:                           1.460   Prob(JB):                     4.60e-43\n",
       "Kurtosis:                       4.955   Cond. No.                         11.0\n",
       "==============================================================================\n",
       "\n",
       "Notes:\n",
       "[1] Standard Errors assume that the covariance matrix of the errors is correctly specified.\n",
       "\"\"\""
      ]
     },
     "execution_count": 35,
     "metadata": {},
     "output_type": "execute_result"
    }
   ],
   "source": [
    "# summary 함수 통해 결과 출력\n",
    "fitted_model1.summary()"
   ]
  },
  {
   "cell_type": "markdown",
   "metadata": {},
   "source": [
    "- 범죄율이 설명하는 y의 총 변동성(R-squared)은 14.5%이며,\n",
    "- 범죄율에 해당하는 계수값은 -0.3903, 범죄율이 1단위 증가할 때 y가 -0.39단위 감소한다.\n",
    "- 그 때의 p-value는 매우 유의미하다."
   ]
  },
  {
   "cell_type": "code",
   "execution_count": 36,
   "metadata": {},
   "outputs": [
    {
     "data": {
      "text/plain": [
       "const    24.130422\n",
       "CRIM     -0.390292\n",
       "dtype: float64"
      ]
     },
     "execution_count": 36,
     "metadata": {},
     "output_type": "execute_result"
    }
   ],
   "source": [
    "# 회귀 계수 출력\n",
    "fitted_model1.params"
   ]
  },
  {
   "cell_type": "markdown",
   "metadata": {},
   "source": [
    "### 예측값 y_hat = beta0 + beta1 * X 계산해보기"
   ]
  },
  {
   "cell_type": "code",
   "execution_count": 39,
   "metadata": {},
   "outputs": [
    {
     "data": {
      "text/plain": [
       "array([ 21.57839378,  24.12312305,  20.29638893,  20.62444132,\n",
       "        24.07014087,  23.88555602,  24.1131823 ,  19.79501553,\n",
       "        22.22914766,  24.11855272,  22.55426116,  24.12375142,\n",
       "        24.06500852,  24.08279024,  23.64939795,  23.87145866,\n",
       "        23.78647642,  24.0016953 ,  21.37869682,  24.09198162,\n",
       "        22.68902909,  24.09643876,  15.52404681,  20.9488601 ,\n",
       "        24.09596261,  24.03133801,  24.04783176,  24.04372979,\n",
       "        23.99729671,  24.08569402,  24.05554003,  24.10924816,\n",
       "        23.88143063,  23.17550113,  18.53608866,  24.09816385,\n",
       "        24.1111723 ,  20.91125543,  24.09431167,  22.83424125,\n",
       "        23.90589025,  21.91888089,  24.12614391,  24.10470906,\n",
       "        24.09799603,  24.06210085,  24.11812731,  24.01688548,\n",
       "        21.67623616,  14.60970902,  24.07519515,  24.09939328,\n",
       "        24.06626136,  24.12275227,  24.10786262,  23.20596735,\n",
       "        24.12511354,  23.74464489,  23.99290983,  24.12049638,\n",
       "        23.92195859,  24.07537859,  24.10459587,  24.07214307,\n",
       "        24.11349454,  19.77460324,  23.82193057,  24.10417826,\n",
       "        20.20318323,   9.43127165,  24.02828592,  24.0044976 ,\n",
       "        24.11366236,  24.10344841,  -4.56937207,  24.09504152,\n",
       "        24.06340442,  24.12441882,  24.1065083 ,  21.47597718,\n",
       "        20.92979822,  24.08132664,  21.10478578,  24.08915201,\n",
       "        23.65917478,  22.69661637,  23.06337405,  23.23259309,\n",
       "        24.12258054,  24.08738398,  23.96947277,  23.91573342,\n",
       "        16.47714062,  24.10441243,  24.09465513,  24.04077527,\n",
       "        20.38528971,  24.06101583,  23.98127521,  24.11081713,\n",
       "        21.90897527,  24.0976877 ,  24.10839342,  24.09011212,\n",
       "        24.00735064,  23.20178341,  24.07752129,  22.89569277,\n",
       "        24.12192485,  22.62791322,  23.86818021,  21.01101805,\n",
       "        24.11643344,  23.41471519,  24.08829727,  16.04504801,\n",
       "        23.90012954,  21.2407402 ,  24.11778775,  24.01404025,\n",
       "        24.11920061,  24.04945147,  20.90377743,  20.13656033,\n",
       "        24.10838561,  24.09329691,  24.0862053 ,  14.35512134,\n",
       "        24.02927726,  24.10597751,  24.09136106,  23.22732414,\n",
       "        23.66482621,  24.08697417,  24.11436879,  23.87413607,\n",
       "        24.05954833,  24.07994891,  19.1337823 ,  20.48934945,\n",
       "        18.70012852,  24.07717784,  24.11657394,  24.00105132,\n",
       "        23.53755969,  24.04284773,  24.09964306,  24.1065005 ,\n",
       "        23.81712998,  24.031459  ,  24.07149518,  24.0756635 ,\n",
       "        24.04382346,  24.11645686,  21.95217282,  23.82376885,\n",
       "        24.10871736,  24.10782749,  23.94484923,  24.12067201,\n",
       "        18.05134562,  24.06822453,  19.46599911,  24.12240101,\n",
       "        24.04831182,  24.10803825,  24.11507522,  24.10518521,\n",
       "        19.90191659,  23.54641933,  24.12503158,  24.08326249,\n",
       "        20.2568289 ,  24.11161333,  21.50854707,  24.09412823,\n",
       "        24.11017315,  24.06351761,  24.09960403,  24.12456323,\n",
       "        22.21868393,  24.11098105,  24.07611624,  23.71908074,\n",
       "        19.96530006,  24.11675348,  24.11401753,  24.10347183,\n",
       "        24.12456323,  24.11751845,  24.10855734,  23.93801521,\n",
       "        24.07866095,  24.06845871,  24.11661687,  23.99769871,\n",
       "        22.14376732,  17.94026843,  18.57414216,  21.85735521,\n",
       "        23.91946852,  24.11058296,  22.63293238,  20.72834104,\n",
       "        24.11689398,  23.22065405,  24.12530478,  23.60168472,\n",
       "        24.09745352,  22.65707586,  23.97924179,  22.73759316,\n",
       "        24.08956181,  12.9462832 ,  23.03042948,  24.08230238,\n",
       "        23.99337427,  24.10364746,  24.11221047,  24.05598106,\n",
       "        24.08882026,  24.11268663,  24.09460049,  22.35774508,\n",
       "        23.68907507,  20.8160085 ,  23.94973179,  24.12188582,\n",
       "        24.11476689,  21.53305743,  16.78863291,  24.11672225,\n",
       "        24.0938199 ,  23.34585982,  20.54479828,  24.11300667,\n",
       "        18.26690406,  16.91071635,  24.08040165,  23.63339987,\n",
       "        23.57860673,  23.29161309,  24.11596118,  14.90071096,\n",
       "        24.08900369,  -2.37854426,  22.53123781,  22.48245518,\n",
       "        20.41732491,  16.29143954,  24.11656223,  20.24055762,\n",
       "        23.92083454,  20.98630864,  24.04999008,  24.01960972,\n",
       "        24.11963774,  20.75643818,  23.73917299,  24.0409392 ,\n",
       "        24.11191776,  24.08552229,  24.09775405,  19.80309458,\n",
       "        24.10301519,  23.89050883,  24.10305031,  22.24309671,\n",
       "        23.91272427,  24.00620318,  23.97129544,  24.02567486,\n",
       "        21.07079522,  24.10353818,  24.1063717 ,  21.91747193,\n",
       "        24.09842145,  22.25228419,  24.05885361,  20.52712584,\n",
       "        20.33514886,  23.64185751,  24.10245707,  24.07922687,\n",
       "        23.92476479,  15.31094721,  24.10251171,   7.92189421,\n",
       "        24.1125071 ,  22.27560806,  23.28932208,  18.64654139,\n",
       "        18.7919643 ,  24.09824582,  24.10113788,  23.57424717,\n",
       "        24.09293784,  19.35043356,  23.98642707,  22.7507343 ,\n",
       "        24.11067663,  22.30821308,  22.467265  ,  24.07240066,\n",
       "        23.83316709,  24.0739228 ,  23.92724314,  23.75739183,\n",
       "        24.05574689,  24.07400476,  22.31677609,  24.11827171,\n",
       "        23.82435429,  24.11583239,  14.00600488,  14.45050878,\n",
       "        24.08457388,  23.99405338,  24.1173116 ,  20.26006833,\n",
       "        24.08722006,  24.11614072,  24.10682054,  23.84714736,\n",
       "        22.69484054,  22.3523005 ,  23.25524565,  18.91619434,\n",
       "        24.07487902,  23.80236522,  23.99778848,  24.02130749,\n",
       "        23.1743888 ,  24.07154202,  24.08764938,  24.03634936,\n",
       "         9.16200898,  23.95560569,  19.42810173,  24.1090374 ,\n",
       "        24.11877129,  24.10349525,  24.06277995,  18.5020942 ,\n",
       "        17.15718594,  23.10181394,  24.1044983 ,  23.04551037,\n",
       "        24.04464697,  24.08104954,  21.61535837,  24.12480521,\n",
       "         4.17251212,  23.95799818, -10.59630492,  21.90256277,\n",
       "        22.68753037,  23.89174216,  23.80832888,  24.0858033 ,\n",
       "        23.68091406,  24.09597431,  24.04113825,  24.1157153 ,\n",
       "        21.83860557,  23.69072601,  24.11910694,  23.79787686,\n",
       "        23.65286765,  21.63523596,  23.9735162 ,  24.08253655,\n",
       "        22.43312223,  24.10618046,  24.02752875,  24.00340869,\n",
       "        24.12483253,  24.12534381,  24.07906685])"
      ]
     },
     "execution_count": 39,
     "metadata": {},
     "output_type": "execute_result"
    }
   ],
   "source": [
    "# 회귀 계수 * 데이터(X)\n",
    "np.dot(crim1, fitted_model1.params)"
   ]
  },
  {
   "cell_type": "code",
   "execution_count": 40,
   "metadata": {},
   "outputs": [],
   "source": [
    "# predict 함수를 통해 yhat 구하기\n",
    "pred1 = fitted_model1.predict(crim1)"
   ]
  },
  {
   "cell_type": "code",
   "execution_count": 42,
   "metadata": {},
   "outputs": [
    {
     "data": {
      "text/plain": [
       "0      0.0\n",
       "1      0.0\n",
       "2      0.0\n",
       "3      0.0\n",
       "4      0.0\n",
       "      ... \n",
       "374    0.0\n",
       "375    0.0\n",
       "376    0.0\n",
       "377    0.0\n",
       "378    0.0\n",
       "Length: 379, dtype: float64"
      ]
     },
     "execution_count": 42,
     "metadata": {},
     "output_type": "execute_result"
    }
   ],
   "source": [
    "# 직접 구한 yhat과 predict함수를 통해 구한 yhat 차이\n",
    "np.dot(crim1, fitted_model1.params) - pred1"
   ]
  },
  {
   "cell_type": "markdown",
   "metadata": {},
   "source": [
    "### 적합시킨 직선 시각화"
   ]
  },
  {
   "cell_type": "code",
   "execution_count": 44,
   "metadata": {},
   "outputs": [
    {
     "data": {
      "image/png": "[encoded data removed]",
      "text/plain": [
       "<Figure size 432x288 with 1 Axes>"
      ]
     },
     "metadata": {
      "needs_background": "light"
     },
     "output_type": "display_data"
    }
   ],
   "source": [
    "import matplotlib.pyplot as plt\n",
    "plt.yticks(fontname = 'Arial')\n",
    "plt.scatter(crim, target, label='data')\n",
    "plt.plot(crim, pred1, label='result')\n",
    "plt.legend()\n",
    "plt.show()"
   ]
  },
  {
   "cell_type": "code",
   "execution_count": 45,
   "metadata": {},
   "outputs": [
    {
     "data": {
      "image/png": "[encoded data removed]",
      "text/plain": [
       "<Figure size 432x288 with 1 Axes>"
      ]
     },
     "metadata": {
      "needs_background": "light"
     },
     "output_type": "display_data"
    }
   ],
   "source": [
    "plt.scatter(target, pred1)\n",
    "plt.xlabel('real_value')\n",
    "plt.ylabel('pred_value')\n",
    "plt.show()"
   ]
  },
  {
   "cell_type": "code",
   "execution_count": 46,
   "metadata": {},
   "outputs": [
    {
     "data": {
      "image/png": "[encoded data removed]",
      "text/plain": [
       "<Figure size 432x288 with 1 Axes>"
      ]
     },
     "metadata": {
      "needs_background": "light"
     },
     "output_type": "display_data"
    }
   ],
   "source": [
    "## residual 시각화\n",
    "\n",
    "fitted_model1.resid.plot()\n",
    "plt.xlabel('residual_number')\n",
    "plt.show()"
   ]
  },
  {
   "cell_type": "code",
   "execution_count": 48,
   "metadata": {},
   "outputs": [
    {
     "data": {
      "text/plain": [
       "-1.5774048733874224e-12"
      ]
     },
     "execution_count": 48,
     "metadata": {},
     "output_type": "execute_result"
    }
   ],
   "source": [
    "## 잔차의 합계산해보기\n",
    "np.sum(fitted_model1.resid) # SSE가 최소화가 되게끔 회귀직선을 긋게됨"
   ]
  },
  {
   "cell_type": "markdown",
   "metadata": {},
   "source": [
    "### 위와 동일하게 rm 변수와 lstat 변수로 각각 단순선형회귀분석 적합시켜보기"
   ]
  },
  {
   "cell_type": "code",
   "execution_count": 50,
   "metadata": {},
   "outputs": [],
   "source": [
    "# 상수항추가\n",
    "rm1 = sm.add_constant(rm, has_constant=\"add\")\n",
    "lstat1 = sm.add_constant(lstat, has_constant=\"add\")"
   ]
  },
  {
   "cell_type": "code",
   "execution_count": 51,
   "metadata": {},
   "outputs": [],
   "source": [
    "# 회귀모델 적합\n",
    "\n",
    "model2 = sm.OLS(target, rm1)\n",
    "fitted_model2 = model2.fit()\n",
    "\n",
    "model3 = sm.OLS(target, lstat1)\n",
    "fitted_model3 = model3.fit()"
   ]
  },
  {
   "cell_type": "code",
   "execution_count": 52,
   "metadata": {},
   "outputs": [
    {
     "data": {
      "text/html": [
       "<table class=\"simpletable\">\n",
       "<caption>OLS Regression Results</caption>\n",
       "<tr>\n",
       "  <th>Dep. Variable:</th>         <td>target</td>      <th>  R-squared:         </th> <td>   0.497</td>\n",
       "</tr>\n",
       "<tr>\n",
       "  <th>Model:</th>                   <td>OLS</td>       <th>  Adj. R-squared:    </th> <td>   0.495</td>\n",
       "</tr>\n",
       "<tr>\n",
       "  <th>Method:</th>             <td>Least Squares</td>  <th>  F-statistic:       </th> <td>   371.8</td>\n",
       "</tr>\n",
       "<tr>\n",
       "  <th>Date:</th>             <td>Thu, 11 Mar 2021</td> <th>  Prob (F-statistic):</th> <td>3.84e-58</td>\n",
       "</tr>\n",
       "<tr>\n",
       "  <th>Time:</th>                 <td>19:07:23</td>     <th>  Log-Likelihood:    </th> <td> -1263.3</td>\n",
       "</tr>\n",
       "<tr>\n",
       "  <th>No. Observations:</th>      <td>   379</td>      <th>  AIC:               </th> <td>   2531.</td>\n",
       "</tr>\n",
       "<tr>\n",
       "  <th>Df Residuals:</th>          <td>   377</td>      <th>  BIC:               </th> <td>   2538.</td>\n",
       "</tr>\n",
       "<tr>\n",
       "  <th>Df Model:</th>              <td>     1</td>      <th>                     </th>     <td> </td>   \n",
       "</tr>\n",
       "<tr>\n",
       "  <th>Covariance Type:</th>      <td>nonrobust</td>    <th>                     </th>     <td> </td>   \n",
       "</tr>\n",
       "</table>\n",
       "<table class=\"simpletable\">\n",
       "<tr>\n",
       "    <td></td>       <th>coef</th>     <th>std err</th>      <th>t</th>      <th>P>|t|</th>  <th>[0.025</th>    <th>0.975]</th>  \n",
       "</tr>\n",
       "<tr>\n",
       "  <th>const</th> <td>  -36.9906</td> <td>    3.110</td> <td>  -11.895</td> <td> 0.000</td> <td>  -43.105</td> <td>  -30.876</td>\n",
       "</tr>\n",
       "<tr>\n",
       "  <th>RM</th>    <td>    9.4819</td> <td>    0.492</td> <td>   19.283</td> <td> 0.000</td> <td>    8.515</td> <td>   10.449</td>\n",
       "</tr>\n",
       "</table>\n",
       "<table class=\"simpletable\">\n",
       "<tr>\n",
       "  <th>Omnibus:</th>       <td>105.108</td> <th>  Durbin-Watson:     </th> <td>   1.885</td> \n",
       "</tr>\n",
       "<tr>\n",
       "  <th>Prob(Omnibus):</th> <td> 0.000</td>  <th>  Jarque-Bera (JB):  </th> <td> 590.760</td> \n",
       "</tr>\n",
       "<tr>\n",
       "  <th>Skew:</th>          <td> 1.041</td>  <th>  Prob(JB):          </th> <td>5.23e-129</td>\n",
       "</tr>\n",
       "<tr>\n",
       "  <th>Kurtosis:</th>      <td> 8.751</td>  <th>  Cond. No.          </th> <td>    57.7</td> \n",
       "</tr>\n",
       "</table><br/><br/>Notes:<br/>[1] Standard Errors assume that the covariance matrix of the errors is correctly specified."
      ],
      "text/plain": [
       "<class 'statsmodels.iolib.summary.Summary'>\n",
       "\"\"\"\n",
       "                            OLS Regression Results                            \n",
       "==============================================================================\n",
       "Dep. Variable:                 target   R-squared:                       0.497\n",
       "Model:                            OLS   Adj. R-squared:                  0.495\n",
       "Method:                 Least Squares   F-statistic:                     371.8\n",
       "Date:                Thu, 11 Mar 2021   Prob (F-statistic):           3.84e-58\n",
       "Time:                        19:07:23   Log-Likelihood:                -1263.3\n",
       "No. Observations:                 379   AIC:                             2531.\n",
       "Df Residuals:                     377   BIC:                             2538.\n",
       "Df Model:                           1                                         \n",
       "Covariance Type:            nonrobust                                         \n",
       "==============================================================================\n",
       "                 coef    std err          t      P>|t|      [0.025      0.975]\n",
       "------------------------------------------------------------------------------\n",
       "const        -36.9906      3.110    -11.895      0.000     -43.105     -30.876\n",
       "RM             9.4819      0.492     19.283      0.000       8.515      10.449\n",
       "==============================================================================\n",
       "Omnibus:                      105.108   Durbin-Watson:                   1.885\n",
       "Prob(Omnibus):                  0.000   Jarque-Bera (JB):              590.760\n",
       "Skew:                           1.041   Prob(JB):                    5.23e-129\n",
       "Kurtosis:                       8.751   Cond. No.                         57.7\n",
       "==============================================================================\n",
       "\n",
       "Notes:\n",
       "[1] Standard Errors assume that the covariance matrix of the errors is correctly specified.\n",
       "\"\"\""
      ]
     },
     "execution_count": 52,
     "metadata": {},
     "output_type": "execute_result"
    }
   ],
   "source": [
    "# 모델 결과 출력\n",
    "fitted_model2.summary()"
   ]
  },
  {
   "cell_type": "code",
   "execution_count": 53,
   "metadata": {},
   "outputs": [
    {
     "data": {
      "text/html": [
       "<table class=\"simpletable\">\n",
       "<caption>OLS Regression Results</caption>\n",
       "<tr>\n",
       "  <th>Dep. Variable:</th>         <td>target</td>      <th>  R-squared:         </th> <td>   0.560</td>\n",
       "</tr>\n",
       "<tr>\n",
       "  <th>Model:</th>                   <td>OLS</td>       <th>  Adj. R-squared:    </th> <td>   0.559</td>\n",
       "</tr>\n",
       "<tr>\n",
       "  <th>Method:</th>             <td>Least Squares</td>  <th>  F-statistic:       </th> <td>   479.8</td>\n",
       "</tr>\n",
       "<tr>\n",
       "  <th>Date:</th>             <td>Thu, 11 Mar 2021</td> <th>  Prob (F-statistic):</th> <td>3.38e-69</td>\n",
       "</tr>\n",
       "<tr>\n",
       "  <th>Time:</th>                 <td>19:07:29</td>     <th>  Log-Likelihood:    </th> <td> -1237.7</td>\n",
       "</tr>\n",
       "<tr>\n",
       "  <th>No. Observations:</th>      <td>   379</td>      <th>  AIC:               </th> <td>   2479.</td>\n",
       "</tr>\n",
       "<tr>\n",
       "  <th>Df Residuals:</th>          <td>   377</td>      <th>  BIC:               </th> <td>   2487.</td>\n",
       "</tr>\n",
       "<tr>\n",
       "  <th>Df Model:</th>              <td>     1</td>      <th>                     </th>     <td> </td>   \n",
       "</tr>\n",
       "<tr>\n",
       "  <th>Covariance Type:</th>      <td>nonrobust</td>    <th>                     </th>     <td> </td>   \n",
       "</tr>\n",
       "</table>\n",
       "<table class=\"simpletable\">\n",
       "<tr>\n",
       "    <td></td>       <th>coef</th>     <th>std err</th>      <th>t</th>      <th>P>|t|</th>  <th>[0.025</th>    <th>0.975]</th>  \n",
       "</tr>\n",
       "<tr>\n",
       "  <th>const</th> <td>   35.3017</td> <td>    0.666</td> <td>   53.036</td> <td> 0.000</td> <td>   33.993</td> <td>   36.610</td>\n",
       "</tr>\n",
       "<tr>\n",
       "  <th>LSTAT</th> <td>   -1.0145</td> <td>    0.046</td> <td>  -21.905</td> <td> 0.000</td> <td>   -1.106</td> <td>   -0.923</td>\n",
       "</tr>\n",
       "</table>\n",
       "<table class=\"simpletable\">\n",
       "<tr>\n",
       "  <th>Omnibus:</th>       <td>98.075</td> <th>  Durbin-Watson:     </th> <td>   1.937</td>\n",
       "</tr>\n",
       "<tr>\n",
       "  <th>Prob(Omnibus):</th> <td> 0.000</td> <th>  Jarque-Bera (JB):  </th> <td> 190.646</td>\n",
       "</tr>\n",
       "<tr>\n",
       "  <th>Skew:</th>          <td> 1.402</td> <th>  Prob(JB):          </th> <td>4.00e-42</td>\n",
       "</tr>\n",
       "<tr>\n",
       "  <th>Kurtosis:</th>      <td> 5.051</td> <th>  Cond. No.          </th> <td>    29.4</td>\n",
       "</tr>\n",
       "</table><br/><br/>Notes:<br/>[1] Standard Errors assume that the covariance matrix of the errors is correctly specified."
      ],
      "text/plain": [
       "<class 'statsmodels.iolib.summary.Summary'>\n",
       "\"\"\"\n",
       "                            OLS Regression Results                            \n",
       "==============================================================================\n",
       "Dep. Variable:                 target   R-squared:                       0.560\n",
       "Model:                            OLS   Adj. R-squared:                  0.559\n",
       "Method:                 Least Squares   F-statistic:                     479.8\n",
       "Date:                Thu, 11 Mar 2021   Prob (F-statistic):           3.38e-69\n",
       "Time:                        19:07:29   Log-Likelihood:                -1237.7\n",
       "No. Observations:                 379   AIC:                             2479.\n",
       "Df Residuals:                     377   BIC:                             2487.\n",
       "Df Model:                           1                                         \n",
       "Covariance Type:            nonrobust                                         \n",
       "==============================================================================\n",
       "                 coef    std err          t      P>|t|      [0.025      0.975]\n",
       "------------------------------------------------------------------------------\n",
       "const         35.3017      0.666     53.036      0.000      33.993      36.610\n",
       "LSTAT         -1.0145      0.046    -21.905      0.000      -1.106      -0.923\n",
       "==============================================================================\n",
       "Omnibus:                       98.075   Durbin-Watson:                   1.937\n",
       "Prob(Omnibus):                  0.000   Jarque-Bera (JB):              190.646\n",
       "Skew:                           1.402   Prob(JB):                     4.00e-42\n",
       "Kurtosis:                       5.051   Cond. No.                         29.4\n",
       "==============================================================================\n",
       "\n",
       "Notes:\n",
       "[1] Standard Errors assume that the covariance matrix of the errors is correctly specified.\n",
       "\"\"\""
      ]
     },
     "execution_count": 53,
     "metadata": {},
     "output_type": "execute_result"
    }
   ],
   "source": [
    "# 모델 결과 출력\n",
    "fitted_model3.summary()"
   ]
  },
  {
   "cell_type": "code",
   "execution_count": 54,
   "metadata": {},
   "outputs": [],
   "source": [
    "# 각각의 yhat 예측하기\n",
    "pred2 = fitted_model2.predict(rm1)\n",
    "pred3 = fitted_model3.predict(lstat1)"
   ]
  },
  {
   "cell_type": "code",
   "execution_count": 55,
   "metadata": {},
   "outputs": [
    {
     "data": {
      "image/png": "[encoded data removed]",
      "text/plain": [
       "<Figure size 432x288 with 1 Axes>"
      ]
     },
     "metadata": {
      "needs_background": "light"
     },
     "output_type": "display_data"
    }
   ],
   "source": [
    "# rm 모델 시각화\n",
    "plt.scatter(rm, target, label='data')\n",
    "plt.plot(rm, pred2, label='result')\n",
    "plt.legend()\n",
    "plt.show()"
   ]
  },
  {
   "cell_type": "code",
   "execution_count": 57,
   "metadata": {},
   "outputs": [
    {
     "data": {
      "image/png": "[encoded data removed]",
      "text/plain": [
       "<Figure size 432x288 with 1 Axes>"
      ]
     },
     "metadata": {
      "needs_background": "light"
     },
     "output_type": "display_data"
    }
   ],
   "source": [
    "## rm - residual 시각화\n",
    "\n",
    "fitted_model2.resid.plot()\n",
    "plt.xlabel('residual_number')\n",
    "plt.show()"
   ]
  },
  {
   "cell_type": "code",
   "execution_count": 56,
   "metadata": {},
   "outputs": [
    {
     "data": {
      "image/png": "[encoded data removed]",
      "text/plain": [
       "<Figure size 432x288 with 1 Axes>"
      ]
     },
     "metadata": {
      "needs_background": "light"
     },
     "output_type": "display_data"
    }
   ],
   "source": [
    "# lstat 모델 시각화\n",
    "plt.scatter(lstat, target, label='data')\n",
    "plt.plot(lstat, pred3, label='result')\n",
    "plt.legend()\n",
    "plt.show()"
   ]
  },
  {
   "cell_type": "code",
   "execution_count": 58,
   "metadata": {},
   "outputs": [
    {
     "data": {
      "image/png": "[encoded data removed]",
      "text/plain": [
       "<Figure size 432x288 with 1 Axes>"
      ]
     },
     "metadata": {
      "needs_background": "light"
     },
     "output_type": "display_data"
    }
   ],
   "source": [
    "## lstat - residual 시각화\n",
    "\n",
    "fitted_model3.resid.plot()\n",
    "plt.xlabel('residual_number')\n",
    "plt.show()"
   ]
  },
  {
   "cell_type": "code",
   "execution_count": 60,
   "metadata": {},
   "outputs": [
    {
     "data": {
      "text/plain": [
       "<matplotlib.legend.Legend at 0x7fe350938f40>"
      ]
     },
     "execution_count": 60,
     "metadata": {},
     "output_type": "execute_result"
    },
    {
     "data": {
      "image/png": "[encoded data removed]",
      "text/plain": [
       "<Figure size 432x288 with 1 Axes>"
      ]
     },
     "metadata": {
      "needs_background": "light"
     },
     "output_type": "display_data"
    }
   ],
   "source": [
    "# 세 모델의 residual 비교\n",
    "fitted_model1.resid.plot(label=\"crim\")\n",
    "fitted_model2.resid.plot(label=\"rm\")\n",
    "fitted_model3.resid.plot(label=\"lstat\")\n",
    "plt.legend()"
   ]
  },
  {
   "cell_type": "code",
   "execution_count": null,
   "metadata": {},
   "outputs": [],
   "source": []
  }
 ],
 "metadata": {
  "kernelspec": {
   "display_name": "Python 3",
   "language": "python",
   "name": "python3"
  },
  "language_info": {
   "codemirror_mode": {
    "name": "ipython",
    "version": 3
   },
   "file_extension": ".py",
   "mimetype": "text/x-python",
   "name": "python",
   "nbconvert_exporter": "python",
   "pygments_lexer": "ipython3",
   "version": "3.8.5"
  }
 },
 "nbformat": 4,
 "nbformat_minor": 4
}
