{
  "nbformat": 4,
  "nbformat_minor": 0,
  "metadata": {
    "colab": {
      "name": "Recommendation_System.ipynb",
      "provenance": [],
      "collapsed_sections": []
    },
    "kernelspec": {
      "name": "python3",
      "display_name": "Python 3"
    },
    "language_info": {
      "name": "python"
    }
  },
  "cells": [
    {
      "cell_type": "markdown",
      "metadata": {
        "id": "1cwsEXbiW94Z"
      },
      "source": [
        "# 추천 시스템 - 영화 데이터셋과 Rating Matrix를 활용하여 추천 모델 학습하기"
      ]
    },
    {
      "cell_type": "markdown",
      "metadata": {
        "id": "duVktKsfXEnk"
      },
      "source": [
        "- MovieLens Dataset\n",
        "\n",
        "1.  ratings.dat <br>\n",
        "  user_id : 영화를 시청한 사용자 아이디 <br>\n",
        "  movie_id : 영화의 아이디 <br>\n",
        "  rating : 평가점수 <br>\n",
        "  time : 영화 시청 시간 <br>\n",
        "<hr>\n",
        "2.  movies_dat <br>\n",
        "  movie_id : 영화의 아이디\n",
        "  title : 영화 제목<br>\n",
        "  genre : 영화 장르"
      ]
    },
    {
      "cell_type": "markdown",
      "metadata": {
        "id": "8iP1oas0Xiib"
      },
      "source": [
        "### 데이터 전처리"
      ]
    },
    {
      "cell_type": "code",
      "metadata": {
        "colab": {
          "base_uri": "https://localhost:8080/",
          "height": 204
        },
        "id": "L6TU-s20WpoS",
        "outputId": "bc16332a-62a5-474d-ee75-6c1b8e63abff"
      },
      "source": [
        "# 데이터 불러오기\n",
        "import pandas as pd\n",
        "\n",
        "rating_url = \"https://raw.githubusercontent.com/yoonkt200/python-data-analysis/master/data/ml-1m/ratings.dat\"\n",
        "rating_df = pd.io.parsers.read_csv(rating_url, names=[\"user_id\", \"movie_id\", \"rating\", \"time\"], delimiter ='::', engine='python')\n",
        "rating_df.head()"
      ],
      "execution_count": 1,
      "outputs": [
        {
          "output_type": "execute_result",
          "data": {
            "text/html": [
              "<div>\n",
              "<style scoped>\n",
              "    .dataframe tbody tr th:only-of-type {\n",
              "        vertical-align: middle;\n",
              "    }\n",
              "\n",
              "    .dataframe tbody tr th {\n",
              "        vertical-align: top;\n",
              "    }\n",
              "\n",
              "    .dataframe thead th {\n",
              "        text-align: right;\n",
              "    }\n",
              "</style>\n",
              "<table border=\"1\" class=\"dataframe\">\n",
              "  <thead>\n",
              "    <tr style=\"text-align: right;\">\n",
              "      <th></th>\n",
              "      <th>user_id</th>\n",
              "      <th>movie_id</th>\n",
              "      <th>rating</th>\n",
              "      <th>time</th>\n",
              "    </tr>\n",
              "  </thead>\n",
              "  <tbody>\n",
              "    <tr>\n",
              "      <th>0</th>\n",
              "      <td>1</td>\n",
              "      <td>1193</td>\n",
              "      <td>5</td>\n",
              "      <td>978300760</td>\n",
              "    </tr>\n",
              "    <tr>\n",
              "      <th>1</th>\n",
              "      <td>1</td>\n",
              "      <td>661</td>\n",
              "      <td>3</td>\n",
              "      <td>978302109</td>\n",
              "    </tr>\n",
              "    <tr>\n",
              "      <th>2</th>\n",
              "      <td>1</td>\n",
              "      <td>914</td>\n",
              "      <td>3</td>\n",
              "      <td>978301968</td>\n",
              "    </tr>\n",
              "    <tr>\n",
              "      <th>3</th>\n",
              "      <td>1</td>\n",
              "      <td>3408</td>\n",
              "      <td>4</td>\n",
              "      <td>978300275</td>\n",
              "    </tr>\n",
              "    <tr>\n",
              "      <th>4</th>\n",
              "      <td>1</td>\n",
              "      <td>2355</td>\n",
              "      <td>5</td>\n",
              "      <td>978824291</td>\n",
              "    </tr>\n",
              "  </tbody>\n",
              "</table>\n",
              "</div>"
            ],
            "text/plain": [
              "   user_id  movie_id  rating       time\n",
              "0        1      1193       5  978300760\n",
              "1        1       661       3  978302109\n",
              "2        1       914       3  978301968\n",
              "3        1      3408       4  978300275\n",
              "4        1      2355       5  978824291"
            ]
          },
          "metadata": {
            "tags": []
          },
          "execution_count": 1
        }
      ]
    },
    {
      "cell_type": "code",
      "metadata": {
        "colab": {
          "base_uri": "https://localhost:8080/",
          "height": 204
        },
        "id": "-yWNZ19wX2SP",
        "outputId": "73f74f42-00ae-4d08-8d6e-4efdd2ecc0c7"
      },
      "source": [
        "movie_url = \"https://raw.githubusercontent.com/yoonkt200/python-data-analysis/master/data/ml-1m/movies.dat\"\n",
        "movie_df = pd.io.parsers.read_csv(movie_url, names=[\"movie_id\", \"title\", \"genre\"], delimiter ='::', engine='python', encoding='ISO-8859-1')\n",
        "movie_df.head()"
      ],
      "execution_count": 2,
      "outputs": [
        {
          "output_type": "execute_result",
          "data": {
            "text/html": [
              "<div>\n",
              "<style scoped>\n",
              "    .dataframe tbody tr th:only-of-type {\n",
              "        vertical-align: middle;\n",
              "    }\n",
              "\n",
              "    .dataframe tbody tr th {\n",
              "        vertical-align: top;\n",
              "    }\n",
              "\n",
              "    .dataframe thead th {\n",
              "        text-align: right;\n",
              "    }\n",
              "</style>\n",
              "<table border=\"1\" class=\"dataframe\">\n",
              "  <thead>\n",
              "    <tr style=\"text-align: right;\">\n",
              "      <th></th>\n",
              "      <th>movie_id</th>\n",
              "      <th>title</th>\n",
              "      <th>genre</th>\n",
              "    </tr>\n",
              "  </thead>\n",
              "  <tbody>\n",
              "    <tr>\n",
              "      <th>0</th>\n",
              "      <td>1</td>\n",
              "      <td>Toy Story (1995)</td>\n",
              "      <td>Animation|Children's|Comedy</td>\n",
              "    </tr>\n",
              "    <tr>\n",
              "      <th>1</th>\n",
              "      <td>2</td>\n",
              "      <td>Jumanji (1995)</td>\n",
              "      <td>Adventure|Children's|Fantasy</td>\n",
              "    </tr>\n",
              "    <tr>\n",
              "      <th>2</th>\n",
              "      <td>3</td>\n",
              "      <td>Grumpier Old Men (1995)</td>\n",
              "      <td>Comedy|Romance</td>\n",
              "    </tr>\n",
              "    <tr>\n",
              "      <th>3</th>\n",
              "      <td>4</td>\n",
              "      <td>Waiting to Exhale (1995)</td>\n",
              "      <td>Comedy|Drama</td>\n",
              "    </tr>\n",
              "    <tr>\n",
              "      <th>4</th>\n",
              "      <td>5</td>\n",
              "      <td>Father of the Bride Part II (1995)</td>\n",
              "      <td>Comedy</td>\n",
              "    </tr>\n",
              "  </tbody>\n",
              "</table>\n",
              "</div>"
            ],
            "text/plain": [
              "   movie_id                               title                         genre\n",
              "0         1                    Toy Story (1995)   Animation|Children's|Comedy\n",
              "1         2                      Jumanji (1995)  Adventure|Children's|Fantasy\n",
              "2         3             Grumpier Old Men (1995)                Comedy|Romance\n",
              "3         4            Waiting to Exhale (1995)                  Comedy|Drama\n",
              "4         5  Father of the Bride Part II (1995)                        Comedy"
            ]
          },
          "metadata": {
            "tags": []
          },
          "execution_count": 2
        }
      ]
    },
    {
      "cell_type": "code",
      "metadata": {
        "colab": {
          "base_uri": "https://localhost:8080/"
        },
        "id": "agoJ3vBpYRWo",
        "outputId": "5576ca32-f42c-404b-9f62-3790665fd2f5"
      },
      "source": [
        "# 사용자 수\n",
        "len(rating_df[\"user_id\"].unique())"
      ],
      "execution_count": 3,
      "outputs": [
        {
          "output_type": "execute_result",
          "data": {
            "text/plain": [
              "6040"
            ]
          },
          "metadata": {
            "tags": []
          },
          "execution_count": 3
        }
      ]
    },
    {
      "cell_type": "code",
      "metadata": {
        "colab": {
          "base_uri": "https://localhost:8080/"
        },
        "id": "DD-0kr44Ygs-",
        "outputId": "0d17eb55-d01a-4264-8eca-3d297e1cc4d0"
      },
      "source": [
        "# 영화 수\n",
        "len(rating_df[\"movie_id\"].unique())"
      ],
      "execution_count": 4,
      "outputs": [
        {
          "output_type": "execute_result",
          "data": {
            "text/plain": [
              "3706"
            ]
          },
          "metadata": {
            "tags": []
          },
          "execution_count": 4
        }
      ]
    },
    {
      "cell_type": "code",
      "metadata": {
        "id": "0jy8duJaYjLI"
      },
      "source": [
        "import matplotlib.pyplot as plt"
      ],
      "execution_count": 5,
      "outputs": []
    },
    {
      "cell_type": "code",
      "metadata": {
        "colab": {
          "base_uri": "https://localhost:8080/",
          "height": 265
        },
        "id": "oSUxPeFPYlka",
        "outputId": "fb5a0ec2-3ba6-41a9-b6db-59d8e4b1513f"
      },
      "source": [
        "# 영화 평가 점수 분포\n",
        "rating_df['rating'].hist();"
      ],
      "execution_count": 6,
      "outputs": [
        {
          "output_type": "display_data",
          "data": {
            "image/png": "[encoded data removed]",
            "text/plain": [
              "<Figure size 432x288 with 1 Axes>"
            ]
          },
          "metadata": {
            "tags": [],
            "needs_background": "light"
          }
        }
      ]
    },
    {
      "cell_type": "markdown",
      "metadata": {
        "id": "Gf5JoJeUY3uP"
      },
      "source": [
        "### CF-based 모델링(KNN)"
      ]
    },
    {
      "cell_type": "markdown",
      "metadata": {
        "id": "2Mg7Nxb3ZEXl"
      },
      "source": [
        "### Rating Matrix와 Colaborative Filtering(CF)\n",
        "\n",
        "- 1. User를 Row, Item을 Column으로 하며 Value를 Rating으로 하는 행렬\n",
        "- 2. Rating의 종류\n",
        "  > Explicit Feedback : 영화 점수, 리뷰 점수, 좋아요 표시 ...<br>\n",
        "  > Implicit Feedback : 조회, 시청, 구매, 찜 표시 ...\n",
        "- 3. Rating Matrix를 추천 모델로 활용하는 방법\n",
        "  > Colaborative Filtering (CF) <br>\n",
        "  > Matrix Factorization (MF)"
      ]
    },
    {
      "cell_type": "markdown",
      "metadata": {
        "id": "5jIbSpySZrl-"
      },
      "source": [
        "### Train/Test 데이터 분리"
      ]
    },
    {
      "cell_type": "code",
      "metadata": {
        "colab": {
          "base_uri": "https://localhost:8080/"
        },
        "id": "x2tozvpWYnHy",
        "outputId": "b7b77321-610d-4836-bebc-e514260f1879"
      },
      "source": [
        "!pip install surprise"
      ],
      "execution_count": 7,
      "outputs": [
        {
          "output_type": "stream",
          "text": [
            "Collecting surprise\n",
            "  Downloading https://files.pythonhosted.org/packages/61/de/e5cba8682201fcf9c3719a6fdda95693468ed061945493dea2dd37c5618b/surprise-0.1-py2.py3-none-any.whl\n",
            "Collecting scikit-surprise\n",
            "\u001b[?25l  Downloading https://files.pythonhosted.org/packages/97/37/5d334adaf5ddd65da99fc65f6507e0e4599d092ba048f4302fe8775619e8/scikit-surprise-1.1.1.tar.gz (11.8MB)\n",
            "\u001b[K     |████████████████████████████████| 11.8MB 258kB/s \n",
            "\u001b[?25hRequirement already satisfied: joblib>=0.11 in /usr/local/lib/python3.7/dist-packages (from scikit-surprise->surprise) (1.0.1)\n",
            "Requirement already satisfied: numpy>=1.11.2 in /usr/local/lib/python3.7/dist-packages (from scikit-surprise->surprise) (1.19.5)\n",
            "Requirement already satisfied: scipy>=1.0.0 in /usr/local/lib/python3.7/dist-packages (from scikit-surprise->surprise) (1.4.1)\n",
            "Requirement already satisfied: six>=1.10.0 in /usr/local/lib/python3.7/dist-packages (from scikit-surprise->surprise) (1.15.0)\n",
            "Building wheels for collected packages: scikit-surprise\n",
            "  Building wheel for scikit-surprise (setup.py) ... \u001b[?25l\u001b[?25hdone\n",
            "  Created wheel for scikit-surprise: filename=scikit_surprise-1.1.1-cp37-cp37m-linux_x86_64.whl size=1617611 sha256=210cf7b5aec924e5cae100c0e66945583af7a3a463b412bf98b6c06520d11c06\n",
            "  Stored in directory: /root/.cache/pip/wheels/78/9c/3d/41b419c9d2aff5b6e2b4c0fc8d25c538202834058f9ed110d0\n",
            "Successfully built scikit-surprise\n",
            "Installing collected packages: scikit-surprise, surprise\n",
            "Successfully installed scikit-surprise-1.1.1 surprise-0.1\n"
          ],
          "name": "stdout"
        }
      ]
    },
    {
      "cell_type": "code",
      "metadata": {
        "id": "dof1VA7mZuF8"
      },
      "source": [
        "from surprise import Dataset, Reader\n",
        "from surprise.model_selection import train_test_split\n",
        "\n",
        "reader = Reader(rating_scale=(1,5)) # 1점부터 5점까지\n",
        "data = Dataset.load_from_df(rating_df[[\"user_id\", \"movie_id\", \"rating\"]], reader) # 행, 열, 행과 열이 만나는 지점에서의 rating 값\n",
        "trainset, testset = train_test_split(data, test_size=0.25)"
      ],
      "execution_count": 8,
      "outputs": []
    },
    {
      "cell_type": "markdown",
      "metadata": {
        "id": "FzYe6jAMadxf"
      },
      "source": [
        "### KNN 모델 학습\n",
        "- KNN? (K-Nearest Neighbor)\n",
        "  - 1. 새로운(혹은 특정한) 데이터 포인트 X가 있을 때, X와 가장 유사한 k개를 이용하여 데이터 포인트 X의 위치를 찾는 알고리즘\n",
        "  - 2. euclidean distance, cosine similarity 등을 기준으로 유사한 k개를 계산\n",
        "  - 3. 분류(classification) 문제의 경우는 k개의 포인트에서 가장 많이 등장한 class로 할당\n",
        "  - 4. 예측(regression) 문제의 경우는 k개 포인트의 평군 값, 혹은 가중치 값 등으로 X의 값을 예측."
      ]
    },
    {
      "cell_type": "code",
      "metadata": {
        "colab": {
          "base_uri": "https://localhost:8080/"
        },
        "id": "PssgzaU3aKPo",
        "outputId": "ff2a382d-412b-4a4b-ad12-d47915490f6a"
      },
      "source": [
        "# KNN 예제 코드\n",
        "ab = (0.9 * 4) + (0.8 * 3) + (0.7 * 5) + (0.6 * 1)\n",
        "bb = (0.9) + 0.8 + 0.7 + 0.6\n",
        "\n",
        "ab/bb"
      ],
      "execution_count": 9,
      "outputs": [
        {
          "output_type": "execute_result",
          "data": {
            "text/plain": [
              "3.3666666666666663"
            ]
          },
          "metadata": {
            "tags": []
          },
          "execution_count": 9
        }
      ]
    },
    {
      "cell_type": "code",
      "metadata": {
        "colab": {
          "base_uri": "https://localhost:8080/"
        },
        "id": "skn7gVvybrBi",
        "outputId": "4fb41941-4bdc-4f80-8c35-5d4b21d1a013"
      },
      "source": [
        "from surprise import KNNBasic\n",
        "from surprise import accuracy\n",
        "\n",
        "algo = KNNBasic(k=40, min_k=1, sim_options={\"user_based\":True, \"name\":\"cosine\"})\n",
        "algo.fit(trainset)\n",
        "predictions=algo.test(testset)"
      ],
      "execution_count": 11,
      "outputs": [
        {
          "output_type": "stream",
          "text": [
            "Computing the cosine similarity matrix...\n",
            "Done computing similarity matrix.\n"
          ],
          "name": "stdout"
        }
      ]
    },
    {
      "cell_type": "markdown",
      "metadata": {
        "id": "F6LCDW-pgsv0"
      },
      "source": [
        "### 모델링 - RMSE 평가"
      ]
    },
    {
      "cell_type": "code",
      "metadata": {
        "colab": {
          "base_uri": "https://localhost:8080/"
        },
        "id": "rwcvHqnYcCGf",
        "outputId": "c2845b43-46a5-4a4a-dfd9-98032ee8d433"
      },
      "source": [
        "accuracy.rmse(predictions)"
      ],
      "execution_count": 12,
      "outputs": [
        {
          "output_type": "stream",
          "text": [
            "RMSE: 0.9756\n"
          ],
          "name": "stdout"
        },
        {
          "output_type": "execute_result",
          "data": {
            "text/plain": [
              "0.975559453991923"
            ]
          },
          "metadata": {
            "tags": []
          },
          "execution_count": 12
        }
      ]
    },
    {
      "cell_type": "code",
      "metadata": {
        "id": "zpc331PugvhU"
      },
      "source": [
        "# 테스트 데이터셋 일부 결과 확인 - 모델평가\n",
        "predictions = algo.test(testset[:20])"
      ],
      "execution_count": 13,
      "outputs": []
    },
    {
      "cell_type": "code",
      "metadata": {
        "colab": {
          "base_uri": "https://localhost:8080/"
        },
        "id": "DcAL6f4bg5oT",
        "outputId": "a2d4fa37-d975-49b1-9cdc-6e780eb1f024"
      },
      "source": [
        "predictions"
      ],
      "execution_count": 14,
      "outputs": [
        {
          "output_type": "execute_result",
          "data": {
            "text/plain": [
              "[Prediction(uid=2715, iid=480, r_ui=1.0, est=3.75, details={'actual_k': 40, 'was_impossible': False}),\n",
              " Prediction(uid=5605, iid=1466, r_ui=2.0, est=3.7523097335961664, details={'actual_k': 40, 'was_impossible': False}),\n",
              " Prediction(uid=4704, iid=1291, r_ui=4.0, est=4.048689967080009, details={'actual_k': 40, 'was_impossible': False}),\n",
              " Prediction(uid=1130, iid=2712, r_ui=4.0, est=3.5500179551333044, details={'actual_k': 40, 'was_impossible': False}),\n",
              " Prediction(uid=4063, iid=1, r_ui=5.0, est=4.1, details={'actual_k': 40, 'was_impossible': False}),\n",
              " Prediction(uid=27, iid=1180, r_ui=4.0, est=3.9464517296092656, details={'actual_k': 37, 'was_impossible': False}),\n",
              " Prediction(uid=3033, iid=1196, r_ui=5.0, est=4.1752378009458075, details={'actual_k': 40, 'was_impossible': False}),\n",
              " Prediction(uid=1333, iid=432, r_ui=2.0, est=2.375453131651745, details={'actual_k': 40, 'was_impossible': False}),\n",
              " Prediction(uid=4461, iid=2140, r_ui=4.0, est=4.024468324941689, details={'actual_k': 40, 'was_impossible': False}),\n",
              " Prediction(uid=727, iid=1094, r_ui=3.0, est=4.0252221648565625, details={'actual_k': 40, 'was_impossible': False}),\n",
              " Prediction(uid=3767, iid=307, r_ui=4.0, est=4.423167992727787, details={'actual_k': 40, 'was_impossible': False}),\n",
              " Prediction(uid=3539, iid=1183, r_ui=3.0, est=3.924535503158165, details={'actual_k': 40, 'was_impossible': False}),\n",
              " Prediction(uid=2962, iid=2935, r_ui=3.0, est=4.400829017346278, details={'actual_k': 40, 'was_impossible': False}),\n",
              " Prediction(uid=3476, iid=1196, r_ui=5.0, est=4.0481215546502805, details={'actual_k': 40, 'was_impossible': False}),\n",
              " Prediction(uid=4738, iid=908, r_ui=3.0, est=4.549119301811833, details={'actual_k': 40, 'was_impossible': False}),\n",
              " Prediction(uid=4020, iid=2115, r_ui=4.0, est=3.9758647237168785, details={'actual_k': 40, 'was_impossible': False}),\n",
              " Prediction(uid=1340, iid=639, r_ui=1.0, est=2.8747761731866013, details={'actual_k': 40, 'was_impossible': False}),\n",
              " Prediction(uid=4708, iid=1101, r_ui=3.0, est=3.900840244453428, details={'actual_k': 40, 'was_impossible': False}),\n",
              " Prediction(uid=4765, iid=412, r_ui=4.0, est=3.7748300511195616, details={'actual_k': 40, 'was_impossible': False}),\n",
              " Prediction(uid=4653, iid=1254, r_ui=3.0, est=4.475535075335521, details={'actual_k': 40, 'was_impossible': False})]"
            ]
          },
          "metadata": {
            "tags": []
          },
          "execution_count": 14
        }
      ]
    },
    {
      "cell_type": "code",
      "metadata": {
        "id": "atCWWdvAg6LV"
      },
      "source": [
        ""
      ],
      "execution_count": null,
      "outputs": []
    }
  ]
}