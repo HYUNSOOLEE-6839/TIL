{
 "cells": [
  {
   "cell_type": "markdown",
   "metadata": {},
   "source": [
    "# LDA에서 Dynamic Topic Model"
   ]
  },
  {
   "cell_type": "markdown",
   "metadata": {},
   "source": [
    "- LDA를 time slice 단위로 여러 개를 붙인 형태\n",
    "- 토픽 분포에 해당하는 파라미터인 Beta 값을 time slice가 넘어갈 때 넘겨주는 것으로 시간대별 토픽 분포를 반영하게 함."
   ]
  },
  {
   "cell_type": "code",
   "execution_count": 1,
   "metadata": {},
   "outputs": [],
   "source": [
    "import pickle\n",
    "from pprint import pprint\n",
    "import pandas as pd\n",
    "import numpy as np\n",
    "import re"
   ]
  },
  {
   "cell_type": "code",
   "execution_count": 2,
   "metadata": {},
   "outputs": [
    {
     "name": "stdout",
     "output_type": "stream",
     "text": [
      "<class 'pandas.core.frame.DataFrame'>\n",
      "RangeIndex: 2223 entries, 0 to 2222\n",
      "Data columns (total 3 columns):\n",
      " #   Column   Non-Null Count  Dtype \n",
      "---  ------   --------------  ----- \n",
      " 0   Date     2223 non-null   object\n",
      " 1   User     2223 non-null   object\n",
      " 2   Message  2223 non-null   object\n",
      "dtypes: object(3)\n",
      "memory usage: 52.2+ KB\n",
      "None\n",
      "                     Date          User                   Message\n",
      "2218  2021-03-30 10:19:34    Rt회계학과 양윤철  내친구 댕기는 회사는 전액 회사 부담이라서 \n",
      "2219  2021-03-30 10:19:41  Rt글로벌비즈니스최성진                         굿\n",
      "2220  2021-03-30 10:19:42  Rt글로벌비즈니스최성진                       복지굿\n",
      "2221  2021-03-30 10:19:54  Rt글로벌비즈니스최성진                  너가 건의해봐 \n",
      "2222  2021-03-30 10:20:29  Rt글로벌비즈니스최성진                   장우용 핼맷컷\n"
     ]
    }
   ],
   "source": [
    "# 데이터 불러오기\n",
    "with open(\"./data/cleaned_data.pk\", \"rb\") as f:\n",
    "    data = pickle.load(f)\n",
    "\n",
    "data.reset_index(inplace=True, drop=True)\n",
    "print(data.info())\n",
    "print(data.tail())"
   ]
  },
  {
   "cell_type": "markdown",
   "metadata": {},
   "source": [
    "### 분석시기 설정하기"
   ]
  },
  {
   "cell_type": "code",
   "execution_count": 3,
   "metadata": {},
   "outputs": [
    {
     "data": {
      "text/html": [
       "<div>\n",
       "<style scoped>\n",
       "    .dataframe tbody tr th:only-of-type {\n",
       "        vertical-align: middle;\n",
       "    }\n",
       "\n",
       "    .dataframe tbody tr th {\n",
       "        vertical-align: top;\n",
       "    }\n",
       "\n",
       "    .dataframe thead th {\n",
       "        text-align: right;\n",
       "    }\n",
       "</style>\n",
       "<table border=\"1\" class=\"dataframe\">\n",
       "  <thead>\n",
       "    <tr style=\"text-align: right;\">\n",
       "      <th></th>\n",
       "      <th>User</th>\n",
       "      <th>Message</th>\n",
       "    </tr>\n",
       "    <tr>\n",
       "      <th>Date</th>\n",
       "      <th></th>\n",
       "      <th></th>\n",
       "    </tr>\n",
       "  </thead>\n",
       "  <tbody>\n",
       "    <tr>\n",
       "      <th>2021-03-30 10:19:34</th>\n",
       "      <td>Rt회계학과 양윤철</td>\n",
       "      <td>내친구 댕기는 회사는 전액 회사 부담이라서</td>\n",
       "    </tr>\n",
       "    <tr>\n",
       "      <th>2021-03-30 10:19:41</th>\n",
       "      <td>Rt글로벌비즈니스최성진</td>\n",
       "      <td>굿</td>\n",
       "    </tr>\n",
       "    <tr>\n",
       "      <th>2021-03-30 10:19:42</th>\n",
       "      <td>Rt글로벌비즈니스최성진</td>\n",
       "      <td>복지굿</td>\n",
       "    </tr>\n",
       "    <tr>\n",
       "      <th>2021-03-30 10:19:54</th>\n",
       "      <td>Rt글로벌비즈니스최성진</td>\n",
       "      <td>너가 건의해봐</td>\n",
       "    </tr>\n",
       "    <tr>\n",
       "      <th>2021-03-30 10:20:29</th>\n",
       "      <td>Rt글로벌비즈니스최성진</td>\n",
       "      <td>장우용 핼맷컷</td>\n",
       "    </tr>\n",
       "  </tbody>\n",
       "</table>\n",
       "</div>"
      ],
      "text/plain": [
       "                             User                   Message\n",
       "Date                                                       \n",
       "2021-03-30 10:19:34    Rt회계학과 양윤철  내친구 댕기는 회사는 전액 회사 부담이라서 \n",
       "2021-03-30 10:19:41  Rt글로벌비즈니스최성진                         굿\n",
       "2021-03-30 10:19:42  Rt글로벌비즈니스최성진                       복지굿\n",
       "2021-03-30 10:19:54  Rt글로벌비즈니스최성진                  너가 건의해봐 \n",
       "2021-03-30 10:20:29  Rt글로벌비즈니스최성진                   장우용 핼맷컷"
      ]
     },
     "execution_count": 3,
     "metadata": {},
     "output_type": "execute_result"
    }
   ],
   "source": [
    "### Data column을 Pandas Datetime으로 변환\n",
    "data[\"Date\"] = pd.to_datetime(data[\"Date\"])\n",
    "# Date Column을 index로 설정\n",
    "data = data.set_index(\"Date\")\n",
    "data.tail()"
   ]
  },
  {
   "cell_type": "markdown",
   "metadata": {},
   "source": [
    "### 월별 대화내용 분리(DTM 분석을 위해)"
   ]
  },
  {
   "cell_type": "code",
   "execution_count": 4,
   "metadata": {},
   "outputs": [
    {
     "name": "stdout",
     "output_type": "stream",
     "text": [
      "                          User        Message\n",
      "Date                                         \n",
      "2021-02-28 17:08:41  Rt건축공학조수영       사업하고싶은사람\n",
      "2021-02-28 17:08:53  Rt건축공학조수영  50기 선배가 물어보더라\n",
      "2021-02-28 17:08:56  Rt건축공학조수영       아마 카페일텐데\n",
      "2021-02-28 17:17:48    Rt법학차진영          오 조수영\n",
      "2021-02-28 17:17:52    Rt법학차진영      활발하게 활동하네\n",
      "                             User                   Message\n",
      "Date                                                       \n",
      "2021-03-30 10:19:34    Rt회계학과 양윤철  내친구 댕기는 회사는 전액 회사 부담이라서 \n",
      "2021-03-30 10:19:41  Rt글로벌비즈니스최성진                         굿\n",
      "2021-03-30 10:19:42  Rt글로벌비즈니스최성진                       복지굿\n",
      "2021-03-30 10:19:54  Rt글로벌비즈니스최성진                  너가 건의해봐 \n",
      "2021-03-30 10:20:29  Rt글로벌비즈니스최성진                   장우용 핼맷컷\n"
     ]
    }
   ],
   "source": [
    "# 월 별로 나누기\n",
    "month02 = data[\"2021-02-01\" : \"2021-02-28\"]\n",
    "month03 = data[\"2021-03-01\" : \"2021-03-30\"]\n",
    "print(month02.tail())\n",
    "print(month03.tail())"
   ]
  },
  {
   "cell_type": "markdown",
   "metadata": {},
   "source": [
    "### 시기별로 나누어 데이터 저장하기"
   ]
  },
  {
   "cell_type": "code",
   "execution_count": 5,
   "metadata": {},
   "outputs": [],
   "source": [
    "# time_slice 별로 데이터 갯수를 저장할 리스트 생성\n",
    "time_slice = []\n",
    "\n",
    "# 시기 별로 데이터 가져오기\n",
    "slice0 = list(month02[\"Message\"])\n",
    "slice1 = list(month03[\"Message\"])\n",
    "\n",
    "# LDA 분석할 때와 비슷하게 모든 분석 대상 텍스트를 담는 리스트 생성\n",
    "tokenized_data = [msg.split() for msg in (slice0 + slice1)]\n",
    "\n",
    "# 각 slice에 들어있는 갯수를 원소로 갖는 리스트 생성\n",
    "time_slice.append(len(slice0))\n",
    "time_slice.append(len(slice1))"
   ]
  },
  {
   "cell_type": "code",
   "execution_count": 8,
   "metadata": {},
   "outputs": [
    {
     "name": "stdout",
     "output_type": "stream",
     "text": [
      "2223\n",
      "[97, 2126]\n",
      "['뭐', '뭘그만해', '칭찬해주는걸 멈추라는건', '내겐 가장어렵지', '넷마블 어제보다 7천원올랐다']\n",
      "['샵검색  쿨', '오후', '진영이 생일축하해', '샵검색  쿨타임', '진영이 이방에 없음']\n",
      "[['그만해라'], ['뭐'], ['뭘그만해'], ['칭찬해주는걸', '멈추라는건'], ['내겐', '가장어렵지']]\n"
     ]
    }
   ],
   "source": [
    "print(len(tokenized_data))\n",
    "print(time_slice)\n",
    "print(slice0[6:11])\n",
    "print(slice1[6:11])\n",
    "pprint(tokenized_data[5:10])"
   ]
  },
  {
   "cell_type": "markdown",
   "metadata": {},
   "source": [
    "### Dynamic Topic Model 돌리기"
   ]
  },
  {
   "cell_type": "code",
   "execution_count": 9,
   "metadata": {},
   "outputs": [
    {
     "name": "stderr",
     "output_type": "stream",
     "text": [
      "/Users/hyunsoolee/opt/anaconda3/lib/python3.8/site-packages/gensim/similarities/__init__.py:15: UserWarning: The gensim.similarities.levenshtein submodule is disabled, because the optional Levenshtein package <https://pypi.org/project/python-Levenshtein/> is unavailable. Install Levenhstein (e.g. `pip install python-Levenshtein`) to suppress this warning.\n",
      "  warnings.warn(msg)\n"
     ]
    }
   ],
   "source": [
    "from gensim.models import ldaseqmodel\n",
    "from gensim.corpora import Dictionary, bleicorpus\n",
    "from gensim import corpora\n",
    "\n",
    "import os"
   ]
  },
  {
   "cell_type": "code",
   "execution_count": 10,
   "metadata": {},
   "outputs": [],
   "source": [
    "# DTM dictionary 저장.\n",
    "if not os.path.exists(\"kakao(DTM)_dict\"):\n",
    "    dictionary = corpora.Dictionary(tokenized_data)\n",
    "    dictionary.save(\"kakao(DTM)_dict\")\n",
    "else:\n",
    "    dictionary = Dictionary.load(\"kakao(DTM)_dict\")\n",
    "    \n",
    "# DTM Corpus 저장.\n",
    "if not os.path.exists(\"kakao(DTM)_corpus\"):\n",
    "    corpus = [dictionary.doc2bow(doc) for doc in tokenized_data]\n",
    "    corpora.BleiCorpus.serialize(\"kakao(DTM)_corpus\", corpus)\n",
    "else:\n",
    "    corpus = bleicorpus.BleiCorpus(\"kakao(DTM)_corpus\")"
   ]
  },
  {
   "cell_type": "markdown",
   "metadata": {},
   "source": [
    "### RUN DTM MODEL"
   ]
  },
  {
   "cell_type": "code",
   "execution_count": 12,
   "metadata": {},
   "outputs": [
    {
     "name": "stderr",
     "output_type": "stream",
     "text": [
      "/Users/hyunsoolee/opt/anaconda3/lib/python3.8/site-packages/gensim/models/ldaseqmodel.py:1478: RuntimeWarning: invalid value encountered in double_scalars\n",
      "  converged = np.fabs((lhood_old - lhood) / (lhood_old * total))\n",
      "/Users/hyunsoolee/opt/anaconda3/lib/python3.8/site-packages/gensim/models/ldaseqmodel.py:297: RuntimeWarning: divide by zero encountered in double_scalars\n",
      "  convergence = np.fabs((bound - old_bound) / old_bound)\n",
      "/Users/hyunsoolee/opt/anaconda3/lib/python3.8/site-packages/gensim/models/ldaseqmodel.py:1478: RuntimeWarning: invalid value encountered in double_scalars\n",
      "  converged = np.fabs((lhood_old - lhood) / (lhood_old * total))\n",
      "/Users/hyunsoolee/opt/anaconda3/lib/python3.8/site-packages/gensim/models/ldaseqmodel.py:1478: RuntimeWarning: invalid value encountered in double_scalars\n",
      "  converged = np.fabs((lhood_old - lhood) / (lhood_old * total))\n",
      "/Users/hyunsoolee/opt/anaconda3/lib/python3.8/site-packages/gensim/models/ldaseqmodel.py:1478: RuntimeWarning: invalid value encountered in double_scalars\n",
      "  converged = np.fabs((lhood_old - lhood) / (lhood_old * total))\n",
      "/Users/hyunsoolee/opt/anaconda3/lib/python3.8/site-packages/gensim/models/ldaseqmodel.py:1478: RuntimeWarning: invalid value encountered in double_scalars\n",
      "  converged = np.fabs((lhood_old - lhood) / (lhood_old * total))\n",
      "/Users/hyunsoolee/opt/anaconda3/lib/python3.8/site-packages/gensim/models/ldaseqmodel.py:1478: RuntimeWarning: invalid value encountered in double_scalars\n",
      "  converged = np.fabs((lhood_old - lhood) / (lhood_old * total))\n",
      "/Users/hyunsoolee/opt/anaconda3/lib/python3.8/site-packages/gensim/models/ldaseqmodel.py:1478: RuntimeWarning: invalid value encountered in double_scalars\n",
      "  converged = np.fabs((lhood_old - lhood) / (lhood_old * total))\n",
      "/Users/hyunsoolee/opt/anaconda3/lib/python3.8/site-packages/gensim/models/ldaseqmodel.py:1478: RuntimeWarning: invalid value encountered in double_scalars\n",
      "  converged = np.fabs((lhood_old - lhood) / (lhood_old * total))\n",
      "/Users/hyunsoolee/opt/anaconda3/lib/python3.8/site-packages/gensim/models/ldaseqmodel.py:1478: RuntimeWarning: invalid value encountered in double_scalars\n",
      "  converged = np.fabs((lhood_old - lhood) / (lhood_old * total))\n",
      "/Users/hyunsoolee/opt/anaconda3/lib/python3.8/site-packages/gensim/models/ldaseqmodel.py:1478: RuntimeWarning: invalid value encountered in double_scalars\n",
      "  converged = np.fabs((lhood_old - lhood) / (lhood_old * total))\n",
      "/Users/hyunsoolee/opt/anaconda3/lib/python3.8/site-packages/gensim/models/ldaseqmodel.py:1478: RuntimeWarning: invalid value encountered in double_scalars\n",
      "  converged = np.fabs((lhood_old - lhood) / (lhood_old * total))\n",
      "/Users/hyunsoolee/opt/anaconda3/lib/python3.8/site-packages/gensim/models/ldaseqmodel.py:1478: RuntimeWarning: invalid value encountered in double_scalars\n",
      "  converged = np.fabs((lhood_old - lhood) / (lhood_old * total))\n",
      "/Users/hyunsoolee/opt/anaconda3/lib/python3.8/site-packages/gensim/models/ldaseqmodel.py:1478: RuntimeWarning: invalid value encountered in double_scalars\n",
      "  converged = np.fabs((lhood_old - lhood) / (lhood_old * total))\n",
      "/Users/hyunsoolee/opt/anaconda3/lib/python3.8/site-packages/gensim/models/ldaseqmodel.py:1478: RuntimeWarning: invalid value encountered in double_scalars\n",
      "  converged = np.fabs((lhood_old - lhood) / (lhood_old * total))\n",
      "/Users/hyunsoolee/opt/anaconda3/lib/python3.8/site-packages/gensim/models/ldaseqmodel.py:1478: RuntimeWarning: invalid value encountered in double_scalars\n",
      "  converged = np.fabs((lhood_old - lhood) / (lhood_old * total))\n",
      "/Users/hyunsoolee/opt/anaconda3/lib/python3.8/site-packages/gensim/models/ldaseqmodel.py:1478: RuntimeWarning: invalid value encountered in double_scalars\n",
      "  converged = np.fabs((lhood_old - lhood) / (lhood_old * total))\n",
      "/Users/hyunsoolee/opt/anaconda3/lib/python3.8/site-packages/gensim/models/ldaseqmodel.py:1478: RuntimeWarning: invalid value encountered in double_scalars\n",
      "  converged = np.fabs((lhood_old - lhood) / (lhood_old * total))\n",
      "/Users/hyunsoolee/opt/anaconda3/lib/python3.8/site-packages/gensim/models/ldaseqmodel.py:1478: RuntimeWarning: invalid value encountered in double_scalars\n",
      "  converged = np.fabs((lhood_old - lhood) / (lhood_old * total))\n",
      "/Users/hyunsoolee/opt/anaconda3/lib/python3.8/site-packages/gensim/models/ldaseqmodel.py:1478: RuntimeWarning: invalid value encountered in double_scalars\n",
      "  converged = np.fabs((lhood_old - lhood) / (lhood_old * total))\n",
      "/Users/hyunsoolee/opt/anaconda3/lib/python3.8/site-packages/gensim/models/ldaseqmodel.py:1478: RuntimeWarning: invalid value encountered in double_scalars\n",
      "  converged = np.fabs((lhood_old - lhood) / (lhood_old * total))\n",
      "/Users/hyunsoolee/opt/anaconda3/lib/python3.8/site-packages/gensim/models/ldaseqmodel.py:1478: RuntimeWarning: invalid value encountered in double_scalars\n",
      "  converged = np.fabs((lhood_old - lhood) / (lhood_old * total))\n"
     ]
    }
   ],
   "source": [
    "NUM_TOPICS=4\n",
    "\n",
    "if not os.path.exists(\"kakao(DTM)_model\"):\n",
    "    dtm_model = ldaseqmodel.LdaSeqModel(corpus=corpus, id2word=dictionary, time_slice=time_slice,\n",
    "                                       num_topics=NUM_TOPICS, passes=5)\n",
    "    dtm_model.save(\"kakao(DTM)_model\")\n",
    "else:\n",
    "    dtm_model = ldaseqmodel.LdaSeqModel.load(\"kakao(DTM)_model\")"
   ]
  },
  {
   "cell_type": "markdown",
   "metadata": {},
   "source": [
    "### 결과보기"
   ]
  },
  {
   "cell_type": "code",
   "execution_count": 19,
   "metadata": {},
   "outputs": [
    {
     "name": "stdout",
     "output_type": "stream",
     "text": [
      "[[('사진', 0.05438203109051702), ('메시지입니다', 0.05409506803932079)],\n",
      " [('굿', 0.021871439977078792), ('와', 0.015117218474390078)],\n",
      " [('오', 0.020338860799794183), ('와우', 0.012608191243409325)],\n",
      " [('아', 0.03748283104539533), ('진짜', 0.015728025958138533)]]\n"
     ]
    }
   ],
   "source": [
    "# 고정된 시간 내에서 전체 토픽 보기\n",
    "pprint(dtm_model.print_topics(time=0, top_terms=2))"
   ]
  },
  {
   "cell_type": "code",
   "execution_count": null,
   "metadata": {},
   "outputs": [],
   "source": []
  }
 ],
 "metadata": {
  "kernelspec": {
   "display_name": "Python 3",
   "language": "python",
   "name": "python3"
  },
  "language_info": {
   "codemirror_mode": {
    "name": "ipython",
    "version": 3
   },
   "file_extension": ".py",
   "mimetype": "text/x-python",
   "name": "python",
   "nbconvert_exporter": "python",
   "pygments_lexer": "ipython3",
   "version": "3.8.5"
  }
 },
 "nbformat": 4,
 "nbformat_minor": 4
}
