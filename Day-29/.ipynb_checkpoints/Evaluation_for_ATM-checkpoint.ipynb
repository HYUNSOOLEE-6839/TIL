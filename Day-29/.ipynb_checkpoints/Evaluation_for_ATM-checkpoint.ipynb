{
 "cells": [
  {
   "cell_type": "code",
   "execution_count": 4,
   "metadata": {},
   "outputs": [],
   "source": [
    "from gensim.models import AuthorTopicModel\n",
    "from gensim.corpora import Dictionary, bleicorpus\n",
    "from gensim import corpora\n",
    "from tqdm import tqdm_notebook\n",
    "from pprint import pprint\n",
    "import pandas as pd\n",
    "\n",
    "# 사용자 간의 유사성을 평가하기 위한 measure를 사용하기 위해 불러오기\n",
    "from gensim.matutils import hellinger\n",
    "from gensim import matutils\n",
    "\n",
    "import os"
   ]
  },
  {
   "cell_type": "code",
   "execution_count": 6,
   "metadata": {},
   "outputs": [],
   "source": [
    "NUM_TOPICS=4\n",
    "\n",
    "if not os.path.exists(\"kakao(ATM)_model\"):\n",
    "    model = AuthorTopicModel(corpus=corpus, id2word=dictionary.id2token, author2doc=author2doc,\n",
    "                                       num_topics=NUM_TOPICS, passes=5)\n",
    "    model.save(\"kakao(ATM)_model\")\n",
    "else:\n",
    "    model = AuthorTopicModel.load(\"kakao(ATM)_model\")"
   ]
  },
  {
   "cell_type": "code",
   "execution_count": 9,
   "metadata": {},
   "outputs": [
    {
     "data": {
      "text/plain": [
       "[('회사', 0.010639931686868161),\n",
       " ('뭐', 0.008227820600482244),\n",
       " ('서울', 0.007257877682602509),\n",
       " ('결혼살짝', 0.006856398379919562),\n",
       " ('그렇게', 0.0068396719099689755),\n",
       " ('십일조', 0.006837268771586288),\n",
       " ('대덕구', 0.006806303358281884),\n",
       " ('연봉', 0.006767872960892339),\n",
       " ('진짜', 0.005039934319615734),\n",
       " ('샵검색', 0.004378986237608631)]"
      ]
     },
     "execution_count": 9,
     "metadata": {},
     "output_type": "execute_result"
    }
   ],
   "source": [
    "# 토픽 별 분포 확인하기\n",
    "model.show_topic(2)"
   ]
  },
  {
   "cell_type": "code",
   "execution_count": 10,
   "metadata": {},
   "outputs": [],
   "source": [
    "# 토픽 라벨 지정\n",
    "topic_labels = [\"Topic0\", \"Topic1\", \"Topic2\", \"Topic3\"]"
   ]
  },
  {
   "cell_type": "code",
   "execution_count": 13,
   "metadata": {},
   "outputs": [
    {
     "name": "stdout",
     "output_type": "stream",
     "text": [
      "Label : Topic0\n",
      "Words :  그냥 나는 그거 이제 성진아 \n",
      "\n",
      "Label : Topic1\n",
      "Words :  용석이 사진 시발 야 굿 \n",
      "\n",
      "Label : Topic2\n",
      "Words :  회사 뭐 서울 결혼살짝 그렇게 \n",
      "\n",
      "Label : Topic3\n",
      "Words :  메시지입니다 삭제된 와우 사진 조넛츠 \n",
      "\n"
     ]
    }
   ],
   "source": [
    "# 토픽 별로 topN 단어 확인\n",
    "for topics in model.show_topics(model.num_topics):\n",
    "    print(\"Label : \" + topic_labels[topics[0]])\n",
    "    words = \"\"\n",
    "    for word, prob in model.show_topic(topics[0], topn=5):\n",
    "        words = words + word + \" \"\n",
    "    print(\"Words : \", words)\n",
    "    print()"
   ]
  },
  {
   "cell_type": "code",
   "execution_count": 17,
   "metadata": {},
   "outputs": [],
   "source": [
    "# 사용자 별로 토픽 분포 확인하기.\n",
    "def show_authors(name):\n",
    "    print(\"User : \", name)\n",
    "    print(\"Docs : \", model.author2doc[name])\n",
    "    print(\"Topic Distribution : \")\n",
    "    pprint([(topic_labels[topic[0]], topic[1]) for topic in model[name]])"
   ]
  },
  {
   "cell_type": "code",
   "execution_count": 18,
   "metadata": {},
   "outputs": [
    {
     "name": "stdout",
     "output_type": "stream",
     "text": [
      "User :  이현수\n",
      "Docs :  [15, 19, 21, 22, 27, 111, 112, 113, 116, 123, 190, 191, 192, 196, 197, 206, 207, 217, 221, 222, 241, 247, 250, 255, 259, 260, 271, 274, 280, 282, 283, 308, 309, 310, 317, 318, 366, 407, 408, 411, 414, 419, 428, 437, 443, 444, 456, 457, 464, 465, 467, 470, 508, 528, 529, 532, 533, 534, 536, 537, 539, 540, 553, 719, 722, 735, 749, 756, 757, 758, 764, 765, 767, 771, 772, 778, 779, 782, 783, 784, 785, 787, 790, 791, 793, 797, 798, 802, 805, 820, 827, 829, 830, 859, 874, 875, 876, 877, 881, 884, 917, 918, 919, 921, 922, 926, 932, 934, 938, 991, 1362, 1404, 1405, 1406, 1407, 1449, 1450, 1452, 1460, 1475, 1478, 1483, 1486, 1487, 1488, 1492, 1497, 1498, 1500, 1501, 1503, 1504, 1509, 1510, 1513, 1515, 1516, 1519, 1520, 1521, 1524, 1527, 1530, 1531, 1533, 1551, 1552, 1598, 1600, 1602, 1604, 1605, 1606, 1608, 1609, 1610, 1611, 1612, 1614, 1615, 1618, 1619, 1620, 1621, 1623, 1624, 1625, 1626, 1636, 1637, 1638, 1639, 1644, 1645, 1648, 1650, 1652, 1654, 1655, 1713, 1870, 1871, 1872, 1883, 1885, 1888, 1890, 1891, 1899, 1900, 1903, 1904, 1905, 1906, 1948, 2154, 2168, 2173, 2183]\n",
      "Topic Distribution : \n",
      "[('Topic0', 0.9624618326686454), ('Topic3', 0.03681492321270207)]\n"
     ]
    }
   ],
   "source": [
    "show_authors(\"이현수\")"
   ]
  },
  {
   "cell_type": "code",
   "execution_count": 19,
   "metadata": {},
   "outputs": [
    {
     "data": {
      "text/plain": [
       "[[(0, 0.9900447527065799)],\n",
       " [(0, 0.05385583486371133), (3, 0.9444359339854045)],\n",
       " [(1, 0.0621073653779892), (3, 0.937276782054423)],\n",
       " [(0, 0.017754366507299703),\n",
       "  (1, 0.9467440892252599),\n",
       "  (2, 0.017756305873089143),\n",
       "  (3, 0.017745238394351305)],\n",
       " [(0, 0.06986163076625194),\n",
       "  (1, 0.39768285040534174),\n",
       "  (2, 0.4609559968977104),\n",
       "  (3, 0.07149952193069599)],\n",
       " [(0, 0.026821139990375515), (1, 0.2561067964521437), (2, 0.7167184277643799)],\n",
       " [(2, 0.986207537766024)],\n",
       " [(1, 0.8350050083359307), (3, 0.1640650869321945)],\n",
       " [(0, 0.1379957842916384), (2, 0.8534031409515449)],\n",
       " [(0, 0.9624618326686454), (3, 0.03681492321270207)]]"
      ]
     },
     "execution_count": 19,
     "metadata": {},
     "output_type": "execute_result"
    }
   ],
   "source": [
    "[model[author] for author in model.id2author.values()]"
   ]
  },
  {
   "cell_type": "code",
   "execution_count": 20,
   "metadata": {},
   "outputs": [],
   "source": [
    "# Hellinger Distance를 이용하여 비슷한 토픽을 가진 사용자를 추정하는 함수.\n",
    "\n",
    "# author-topic 분포 만들기\n",
    "author_vecs = [model[author] for author in model.id2author.values()]\n",
    "\n",
    "def similarity(vec1, vec2):\n",
    "    '''Get similarity between two vectors'''\n",
    "    dist = hellinger(matutils.sparse2full(vec1, model.num_topics),\n",
    "                    matutils.sparse2full(vec2, model.num_topics))\n",
    "    sim = 1.0 / (1.0 + dist)\n",
    "    \n",
    "    return sim\n",
    "\n",
    "def get_sims(vec):\n",
    "    '''Get similarity of vector to all authors.'''\n",
    "    sims = [similarity(vec, vec2) for vec2 in author_vecs]\n",
    "    return sims\n",
    "\n",
    "def get_table(name, top_n=10, smallest_author=1):\n",
    "    '''\n",
    "    Get table with similarities, author names, and author sizes.\n",
    "    Return `top_n` authors as a dataframe.\n",
    "    '''\n",
    "    \n",
    "    # 유사도 측정하기\n",
    "    sims = get_sims(model[name])\n",
    "    \n",
    "    # 저자별 정보 정렬하기\n",
    "    table = []\n",
    "    for elem in enumerate(sims):\n",
    "        author_name = model.id2author[elem[0]]\n",
    "        sim = elem[1]\n",
    "        author_size = len(model.author2doc[author_name])\n",
    "        \n",
    "        table.append((author_name, sim, author_size))\n",
    "    \n",
    "    # 사용자 패턴 분석 결과를 Dataframe으로 만들기\n",
    "    \n",
    "    df = pd.DataFrame(table, columns=[\"Author\", \"Score\", \"Size\"])\n",
    "    df = df.sort_values(\"Score\", ascending=False)[:top_n]\n",
    "    return df"
   ]
  },
  {
   "cell_type": "code",
   "execution_count": 21,
   "metadata": {},
   "outputs": [
    {
     "data": {
      "text/html": [
       "<div>\n",
       "<style scoped>\n",
       "    .dataframe tbody tr th:only-of-type {\n",
       "        vertical-align: middle;\n",
       "    }\n",
       "\n",
       "    .dataframe tbody tr th {\n",
       "        vertical-align: top;\n",
       "    }\n",
       "\n",
       "    .dataframe thead th {\n",
       "        text-align: right;\n",
       "    }\n",
       "</style>\n",
       "<table border=\"1\" class=\"dataframe\">\n",
       "  <thead>\n",
       "    <tr style=\"text-align: right;\">\n",
       "      <th></th>\n",
       "      <th>Author</th>\n",
       "      <th>Score</th>\n",
       "      <th>Size</th>\n",
       "    </tr>\n",
       "  </thead>\n",
       "  <tbody>\n",
       "    <tr>\n",
       "      <th>9</th>\n",
       "      <td>이현수</td>\n",
       "      <td>1.000000</td>\n",
       "      <td>199</td>\n",
       "    </tr>\n",
       "    <tr>\n",
       "      <th>0</th>\n",
       "      <td>Rt건축공학조수영</td>\n",
       "      <td>0.880256</td>\n",
       "      <td>17</td>\n",
       "    </tr>\n",
       "    <tr>\n",
       "      <th>1</th>\n",
       "      <td>Rt경영조현준</td>\n",
       "      <td>0.566693</td>\n",
       "      <td>480</td>\n",
       "    </tr>\n",
       "    <tr>\n",
       "      <th>8</th>\n",
       "      <td>Rt회계학과 양윤철</td>\n",
       "      <td>0.557323</td>\n",
       "      <td>216</td>\n",
       "    </tr>\n",
       "    <tr>\n",
       "      <th>4</th>\n",
       "      <td>Rt무역학과이용석</td>\n",
       "      <td>0.546425</td>\n",
       "      <td>2</td>\n",
       "    </tr>\n",
       "    <tr>\n",
       "      <th>2</th>\n",
       "      <td>Rt글로벌비즈니스최성진</td>\n",
       "      <td>0.525767</td>\n",
       "      <td>521</td>\n",
       "    </tr>\n",
       "    <tr>\n",
       "      <th>5</th>\n",
       "      <td>Rt무역학과장우용</td>\n",
       "      <td>0.521960</td>\n",
       "      <td>612</td>\n",
       "    </tr>\n",
       "    <tr>\n",
       "      <th>3</th>\n",
       "      <td>Rt김근형</td>\n",
       "      <td>0.521283</td>\n",
       "      <td>5</td>\n",
       "    </tr>\n",
       "    <tr>\n",
       "      <th>7</th>\n",
       "      <td>Rt정보통신공학과전민재</td>\n",
       "      <td>0.510224</td>\n",
       "      <td>129</td>\n",
       "    </tr>\n",
       "    <tr>\n",
       "      <th>6</th>\n",
       "      <td>Rt법학차진영</td>\n",
       "      <td>0.500911</td>\n",
       "      <td>42</td>\n",
       "    </tr>\n",
       "  </tbody>\n",
       "</table>\n",
       "</div>"
      ],
      "text/plain": [
       "         Author     Score  Size\n",
       "9           이현수  1.000000   199\n",
       "0     Rt건축공학조수영  0.880256    17\n",
       "1       Rt경영조현준  0.566693   480\n",
       "8    Rt회계학과 양윤철  0.557323   216\n",
       "4     Rt무역학과이용석  0.546425     2\n",
       "2  Rt글로벌비즈니스최성진  0.525767   521\n",
       "5     Rt무역학과장우용  0.521960   612\n",
       "3         Rt김근형  0.521283     5\n",
       "7  Rt정보통신공학과전민재  0.510224   129\n",
       "6       Rt법학차진영  0.500911    42"
      ]
     },
     "execution_count": 21,
     "metadata": {},
     "output_type": "execute_result"
    }
   ],
   "source": [
    "# 사용자별 대화 패턴 검증\n",
    "get_table(\"이현수\")"
   ]
  },
  {
   "cell_type": "code",
   "execution_count": null,
   "metadata": {},
   "outputs": [],
   "source": []
  }
 ],
 "metadata": {
  "kernelspec": {
   "display_name": "Python 3",
   "language": "python",
   "name": "python3"
  },
  "language_info": {
   "codemirror_mode": {
    "name": "ipython",
    "version": 3
   },
   "file_extension": ".py",
   "mimetype": "text/x-python",
   "name": "python",
   "nbconvert_exporter": "python",
   "pygments_lexer": "ipython3",
   "version": "3.8.5"
  }
 },
 "nbformat": 4,
 "nbformat_minor": 4
}
