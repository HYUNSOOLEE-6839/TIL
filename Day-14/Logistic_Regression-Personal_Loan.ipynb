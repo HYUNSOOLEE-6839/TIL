{
 "cells": [
  {
   "cell_type": "markdown",
   "metadata": {},
   "source": [
    "# 로지스틱 회귀분석\n",
    "- 출력변수를 직접 예측하는 것이 아니라, 두 개의 카테고리를 가지는 binary 형태의 출력 변수\n",
    "    > ('성공', '실패' 또는 '예','아니오')를 예측할 때 사용\n",
    "<br>\n",
    "\n",
    "- 로지스틱 회귀에서는 k개의 입력 변수를 사용하여 성공 실패를 예측하기 위해 성공 확률 p(X)를 모델링 함.\n",
    "- 방정식의 왼쪽 범위는 [0,1]이지만, 오른쪽 범위는 [-무한, +무한]이므로 다른 형태로 모델링 해야함."
   ]
  },
  {
   "cell_type": "markdown",
   "metadata": {},
   "source": [
    "### 로지스틱 함수\n",
    "- 왼쪽 항에 자연 로그를 취해줌으로써 ln(p(X))는 [-무한, +무한]이 됨.\n",
    "    > 이를 만족하기 위해서는 p(X)가 [0, +무한]의 범위여야 함.\n",
    "<br>\n",
    "\n",
    "- 하지만 확률 p(X)의 maximum 값은 1이므로 ln(p(X))가 +무한의 값을 가질 수 없음"
   ]
  },
  {
   "cell_type": "markdown",
   "metadata": {},
   "source": [
    "### 로지스틱 회귀계수 추정\n",
    "- 단순(다중)선형회귀의 최소제곱법을 사용하는 것이 아닌 최대우도법 사용\n",
    "    > 최대우도법(Maximum Likelihood)\n",
    "- 베르누이 확률분포(0 또는 1의 값을 가지는 확률 변수의 확률 분포)를 이용하여 추정."
   ]
  },
  {
   "cell_type": "markdown",
   "metadata": {},
   "source": [
    "# 로지스틱 회귀분석 실습 - Personal Loan"
   ]
  },
  {
   "cell_type": "code",
   "execution_count": 4,
   "metadata": {},
   "outputs": [],
   "source": [
    "import os \n",
    "import numpy as np\n",
    "import pandas as pd\n",
    "from sklearn.linear_model import LogisticRegression\n",
    "from sklearn.model_selection import train_test_split\n",
    "from sklearn import metrics\n",
    "from sklearn.metrics import confusion_matrix\n",
    "from sklearn.metrics import accuracy_score, roc_auc_score, roc_curve\n",
    "import statsmodels.api as sm\n",
    "import matplotlib.pyplot as plt\n",
    "import itertools\n",
    "import time"
   ]
  },
  {
   "cell_type": "code",
   "execution_count": 33,
   "metadata": {},
   "outputs": [
    {
     "data": {
      "text/html": [
       "<div>\n",
       "<style scoped>\n",
       "    .dataframe tbody tr th:only-of-type {\n",
       "        vertical-align: middle;\n",
       "    }\n",
       "\n",
       "    .dataframe tbody tr th {\n",
       "        vertical-align: top;\n",
       "    }\n",
       "\n",
       "    .dataframe thead th {\n",
       "        text-align: right;\n",
       "    }\n",
       "</style>\n",
       "<table border=\"1\" class=\"dataframe\">\n",
       "  <thead>\n",
       "    <tr style=\"text-align: right;\">\n",
       "      <th></th>\n",
       "      <th>ID</th>\n",
       "      <th>Age</th>\n",
       "      <th>Experience</th>\n",
       "      <th>Income</th>\n",
       "      <th>ZIP Code</th>\n",
       "      <th>Family</th>\n",
       "      <th>CCAvg</th>\n",
       "      <th>Education</th>\n",
       "      <th>Mortgage</th>\n",
       "      <th>Personal Loan</th>\n",
       "      <th>Securities Account</th>\n",
       "      <th>CD Account</th>\n",
       "      <th>Online</th>\n",
       "      <th>CreditCard</th>\n",
       "    </tr>\n",
       "  </thead>\n",
       "  <tbody>\n",
       "    <tr>\n",
       "      <th>0</th>\n",
       "      <td>1</td>\n",
       "      <td>25</td>\n",
       "      <td>1</td>\n",
       "      <td>49</td>\n",
       "      <td>91107</td>\n",
       "      <td>4</td>\n",
       "      <td>1.6</td>\n",
       "      <td>1</td>\n",
       "      <td>0</td>\n",
       "      <td>0</td>\n",
       "      <td>1</td>\n",
       "      <td>0</td>\n",
       "      <td>0</td>\n",
       "      <td>0</td>\n",
       "    </tr>\n",
       "    <tr>\n",
       "      <th>1</th>\n",
       "      <td>2</td>\n",
       "      <td>45</td>\n",
       "      <td>19</td>\n",
       "      <td>34</td>\n",
       "      <td>90089</td>\n",
       "      <td>3</td>\n",
       "      <td>1.5</td>\n",
       "      <td>1</td>\n",
       "      <td>0</td>\n",
       "      <td>0</td>\n",
       "      <td>1</td>\n",
       "      <td>0</td>\n",
       "      <td>0</td>\n",
       "      <td>0</td>\n",
       "    </tr>\n",
       "    <tr>\n",
       "      <th>2</th>\n",
       "      <td>3</td>\n",
       "      <td>39</td>\n",
       "      <td>15</td>\n",
       "      <td>11</td>\n",
       "      <td>94720</td>\n",
       "      <td>1</td>\n",
       "      <td>1.0</td>\n",
       "      <td>1</td>\n",
       "      <td>0</td>\n",
       "      <td>0</td>\n",
       "      <td>0</td>\n",
       "      <td>0</td>\n",
       "      <td>0</td>\n",
       "      <td>0</td>\n",
       "    </tr>\n",
       "    <tr>\n",
       "      <th>3</th>\n",
       "      <td>4</td>\n",
       "      <td>35</td>\n",
       "      <td>9</td>\n",
       "      <td>100</td>\n",
       "      <td>94112</td>\n",
       "      <td>1</td>\n",
       "      <td>2.7</td>\n",
       "      <td>2</td>\n",
       "      <td>0</td>\n",
       "      <td>0</td>\n",
       "      <td>0</td>\n",
       "      <td>0</td>\n",
       "      <td>0</td>\n",
       "      <td>0</td>\n",
       "    </tr>\n",
       "    <tr>\n",
       "      <th>4</th>\n",
       "      <td>5</td>\n",
       "      <td>35</td>\n",
       "      <td>8</td>\n",
       "      <td>45</td>\n",
       "      <td>91330</td>\n",
       "      <td>4</td>\n",
       "      <td>1.0</td>\n",
       "      <td>2</td>\n",
       "      <td>0</td>\n",
       "      <td>0</td>\n",
       "      <td>0</td>\n",
       "      <td>0</td>\n",
       "      <td>0</td>\n",
       "      <td>1</td>\n",
       "    </tr>\n",
       "  </tbody>\n",
       "</table>\n",
       "</div>"
      ],
      "text/plain": [
       "   ID  Age  Experience  Income  ZIP Code  Family  CCAvg  Education  Mortgage  \\\n",
       "0   1   25           1      49     91107       4    1.6          1         0   \n",
       "1   2   45          19      34     90089       3    1.5          1         0   \n",
       "2   3   39          15      11     94720       1    1.0          1         0   \n",
       "3   4   35           9     100     94112       1    2.7          2         0   \n",
       "4   5   35           8      45     91330       4    1.0          2         0   \n",
       "\n",
       "   Personal Loan  Securities Account  CD Account  Online  CreditCard  \n",
       "0              0                   1           0       0           0  \n",
       "1              0                   1           0       0           0  \n",
       "2              0                   0           0       0           0  \n",
       "3              0                   0           0       0           0  \n",
       "4              0                   0           0       0           1  "
      ]
     },
     "execution_count": 33,
     "metadata": {},
     "output_type": "execute_result"
    }
   ],
   "source": [
    "ploan = pd.read_csv('./data/Personal_loan.csv')\n",
    "ploan.head()"
   ]
  },
  {
   "cell_type": "code",
   "execution_count": 34,
   "metadata": {},
   "outputs": [],
   "source": [
    "# 의미 없는 변수 제거, ID, zip code 제외\n",
    "ploan_processed = ploan.dropna().drop(['ID','ZIP Code'], axis=1, inplace=False)"
   ]
  },
  {
   "cell_type": "code",
   "execution_count": 35,
   "metadata": {},
   "outputs": [
    {
     "data": {
      "text/html": [
       "<div>\n",
       "<style scoped>\n",
       "    .dataframe tbody tr th:only-of-type {\n",
       "        vertical-align: middle;\n",
       "    }\n",
       "\n",
       "    .dataframe tbody tr th {\n",
       "        vertical-align: top;\n",
       "    }\n",
       "\n",
       "    .dataframe thead th {\n",
       "        text-align: right;\n",
       "    }\n",
       "</style>\n",
       "<table border=\"1\" class=\"dataframe\">\n",
       "  <thead>\n",
       "    <tr style=\"text-align: right;\">\n",
       "      <th></th>\n",
       "      <th>Age</th>\n",
       "      <th>Experience</th>\n",
       "      <th>Income</th>\n",
       "      <th>Family</th>\n",
       "      <th>CCAvg</th>\n",
       "      <th>Education</th>\n",
       "      <th>Mortgage</th>\n",
       "      <th>Personal Loan</th>\n",
       "      <th>Securities Account</th>\n",
       "      <th>CD Account</th>\n",
       "      <th>Online</th>\n",
       "      <th>CreditCard</th>\n",
       "    </tr>\n",
       "  </thead>\n",
       "  <tbody>\n",
       "    <tr>\n",
       "      <th>0</th>\n",
       "      <td>25</td>\n",
       "      <td>1</td>\n",
       "      <td>49</td>\n",
       "      <td>4</td>\n",
       "      <td>1.6</td>\n",
       "      <td>1</td>\n",
       "      <td>0</td>\n",
       "      <td>0</td>\n",
       "      <td>1</td>\n",
       "      <td>0</td>\n",
       "      <td>0</td>\n",
       "      <td>0</td>\n",
       "    </tr>\n",
       "    <tr>\n",
       "      <th>1</th>\n",
       "      <td>45</td>\n",
       "      <td>19</td>\n",
       "      <td>34</td>\n",
       "      <td>3</td>\n",
       "      <td>1.5</td>\n",
       "      <td>1</td>\n",
       "      <td>0</td>\n",
       "      <td>0</td>\n",
       "      <td>1</td>\n",
       "      <td>0</td>\n",
       "      <td>0</td>\n",
       "      <td>0</td>\n",
       "    </tr>\n",
       "    <tr>\n",
       "      <th>2</th>\n",
       "      <td>39</td>\n",
       "      <td>15</td>\n",
       "      <td>11</td>\n",
       "      <td>1</td>\n",
       "      <td>1.0</td>\n",
       "      <td>1</td>\n",
       "      <td>0</td>\n",
       "      <td>0</td>\n",
       "      <td>0</td>\n",
       "      <td>0</td>\n",
       "      <td>0</td>\n",
       "      <td>0</td>\n",
       "    </tr>\n",
       "    <tr>\n",
       "      <th>3</th>\n",
       "      <td>35</td>\n",
       "      <td>9</td>\n",
       "      <td>100</td>\n",
       "      <td>1</td>\n",
       "      <td>2.7</td>\n",
       "      <td>2</td>\n",
       "      <td>0</td>\n",
       "      <td>0</td>\n",
       "      <td>0</td>\n",
       "      <td>0</td>\n",
       "      <td>0</td>\n",
       "      <td>0</td>\n",
       "    </tr>\n",
       "    <tr>\n",
       "      <th>4</th>\n",
       "      <td>35</td>\n",
       "      <td>8</td>\n",
       "      <td>45</td>\n",
       "      <td>4</td>\n",
       "      <td>1.0</td>\n",
       "      <td>2</td>\n",
       "      <td>0</td>\n",
       "      <td>0</td>\n",
       "      <td>0</td>\n",
       "      <td>0</td>\n",
       "      <td>0</td>\n",
       "      <td>1</td>\n",
       "    </tr>\n",
       "  </tbody>\n",
       "</table>\n",
       "</div>"
      ],
      "text/plain": [
       "   Age  Experience  Income  Family  CCAvg  Education  Mortgage  Personal Loan  \\\n",
       "0   25           1      49       4    1.6          1         0              0   \n",
       "1   45          19      34       3    1.5          1         0              0   \n",
       "2   39          15      11       1    1.0          1         0              0   \n",
       "3   35           9     100       1    2.7          2         0              0   \n",
       "4   35           8      45       4    1.0          2         0              0   \n",
       "\n",
       "   Securities Account  CD Account  Online  CreditCard  \n",
       "0                   1           0       0           0  \n",
       "1                   1           0       0           0  \n",
       "2                   0           0       0           0  \n",
       "3                   0           0       0           0  \n",
       "4                   0           0       0           1  "
      ]
     },
     "execution_count": 35,
     "metadata": {},
     "output_type": "execute_result"
    }
   ],
   "source": [
    "ploan_processed.head()"
   ]
  },
  {
   "cell_type": "code",
   "execution_count": 36,
   "metadata": {},
   "outputs": [
    {
     "data": {
      "text/html": [
       "<div>\n",
       "<style scoped>\n",
       "    .dataframe tbody tr th:only-of-type {\n",
       "        vertical-align: middle;\n",
       "    }\n",
       "\n",
       "    .dataframe tbody tr th {\n",
       "        vertical-align: top;\n",
       "    }\n",
       "\n",
       "    .dataframe thead th {\n",
       "        text-align: right;\n",
       "    }\n",
       "</style>\n",
       "<table border=\"1\" class=\"dataframe\">\n",
       "  <thead>\n",
       "    <tr style=\"text-align: right;\">\n",
       "      <th></th>\n",
       "      <th>const</th>\n",
       "      <th>Age</th>\n",
       "      <th>Experience</th>\n",
       "      <th>Income</th>\n",
       "      <th>Family</th>\n",
       "      <th>CCAvg</th>\n",
       "      <th>Education</th>\n",
       "      <th>Mortgage</th>\n",
       "      <th>Personal Loan</th>\n",
       "      <th>Securities Account</th>\n",
       "      <th>CD Account</th>\n",
       "      <th>Online</th>\n",
       "      <th>CreditCard</th>\n",
       "    </tr>\n",
       "  </thead>\n",
       "  <tbody>\n",
       "    <tr>\n",
       "      <th>0</th>\n",
       "      <td>1.0</td>\n",
       "      <td>25</td>\n",
       "      <td>1</td>\n",
       "      <td>49</td>\n",
       "      <td>4</td>\n",
       "      <td>1.6</td>\n",
       "      <td>1</td>\n",
       "      <td>0</td>\n",
       "      <td>0</td>\n",
       "      <td>1</td>\n",
       "      <td>0</td>\n",
       "      <td>0</td>\n",
       "      <td>0</td>\n",
       "    </tr>\n",
       "    <tr>\n",
       "      <th>1</th>\n",
       "      <td>1.0</td>\n",
       "      <td>45</td>\n",
       "      <td>19</td>\n",
       "      <td>34</td>\n",
       "      <td>3</td>\n",
       "      <td>1.5</td>\n",
       "      <td>1</td>\n",
       "      <td>0</td>\n",
       "      <td>0</td>\n",
       "      <td>1</td>\n",
       "      <td>0</td>\n",
       "      <td>0</td>\n",
       "      <td>0</td>\n",
       "    </tr>\n",
       "    <tr>\n",
       "      <th>2</th>\n",
       "      <td>1.0</td>\n",
       "      <td>39</td>\n",
       "      <td>15</td>\n",
       "      <td>11</td>\n",
       "      <td>1</td>\n",
       "      <td>1.0</td>\n",
       "      <td>1</td>\n",
       "      <td>0</td>\n",
       "      <td>0</td>\n",
       "      <td>0</td>\n",
       "      <td>0</td>\n",
       "      <td>0</td>\n",
       "      <td>0</td>\n",
       "    </tr>\n",
       "    <tr>\n",
       "      <th>3</th>\n",
       "      <td>1.0</td>\n",
       "      <td>35</td>\n",
       "      <td>9</td>\n",
       "      <td>100</td>\n",
       "      <td>1</td>\n",
       "      <td>2.7</td>\n",
       "      <td>2</td>\n",
       "      <td>0</td>\n",
       "      <td>0</td>\n",
       "      <td>0</td>\n",
       "      <td>0</td>\n",
       "      <td>0</td>\n",
       "      <td>0</td>\n",
       "    </tr>\n",
       "    <tr>\n",
       "      <th>4</th>\n",
       "      <td>1.0</td>\n",
       "      <td>35</td>\n",
       "      <td>8</td>\n",
       "      <td>45</td>\n",
       "      <td>4</td>\n",
       "      <td>1.0</td>\n",
       "      <td>2</td>\n",
       "      <td>0</td>\n",
       "      <td>0</td>\n",
       "      <td>0</td>\n",
       "      <td>0</td>\n",
       "      <td>0</td>\n",
       "      <td>1</td>\n",
       "    </tr>\n",
       "  </tbody>\n",
       "</table>\n",
       "</div>"
      ],
      "text/plain": [
       "   const  Age  Experience  Income  Family  CCAvg  Education  Mortgage  \\\n",
       "0    1.0   25           1      49       4    1.6          1         0   \n",
       "1    1.0   45          19      34       3    1.5          1         0   \n",
       "2    1.0   39          15      11       1    1.0          1         0   \n",
       "3    1.0   35           9     100       1    2.7          2         0   \n",
       "4    1.0   35           8      45       4    1.0          2         0   \n",
       "\n",
       "   Personal Loan  Securities Account  CD Account  Online  CreditCard  \n",
       "0              0                   1           0       0           0  \n",
       "1              0                   1           0       0           0  \n",
       "2              0                   0           0       0           0  \n",
       "3              0                   0           0       0           0  \n",
       "4              0                   0           0       0           1  "
      ]
     },
     "execution_count": 36,
     "metadata": {},
     "output_type": "execute_result"
    }
   ],
   "source": [
    "# 상수항 추가\n",
    "ploan_processed = sm.add_constant(ploan_processed, has_constant='add')\n",
    "ploan_processed.head()"
   ]
  },
  {
   "cell_type": "markdown",
   "metadata": {},
   "source": [
    "### 설명변수(X), 타겟변수(Y) 분리 및 학습데이텉와 평가데이터"
   ]
  },
  {
   "cell_type": "code",
   "execution_count": 37,
   "metadata": {},
   "outputs": [],
   "source": [
    "# 대출 여부 : 1 or 0\n",
    "feature_columns = ploan_processed.columns.difference(['Personal Loan'])\n",
    "x = ploan_processed[feature_columns]\n",
    "y = ploan_processed['Personal Loan']"
   ]
  },
  {
   "cell_type": "code",
   "execution_count": 38,
   "metadata": {},
   "outputs": [
    {
     "name": "stdout",
     "output_type": "stream",
     "text": [
      "(3500, 12) (1500, 12) (3500,) (1500,)\n"
     ]
    }
   ],
   "source": [
    "train_x, test_x, train_y, test_y = train_test_split(x, y, stratify=y, train_size=0.7, test_size=0.3, random_state=42)\n",
    "print(train_x.shape, test_x.shape, train_y.shape, test_y.shape)"
   ]
  },
  {
   "cell_type": "markdown",
   "metadata": {},
   "source": [
    "### 로지스틱 회귀모형 모델링 y=f(x)"
   ]
  },
  {
   "cell_type": "code",
   "execution_count": 39,
   "metadata": {},
   "outputs": [
    {
     "name": "stdout",
     "output_type": "stream",
     "text": [
      "Optimization terminated successfully.\n",
      "         Current function value: 0.130868\n",
      "         Iterations 9\n"
     ]
    }
   ],
   "source": [
    "# 로지스틱 모형 적합\n",
    "model = sm.Logit(train_y, train_x) # 회귀적합은 Logic이 아닌 OLS\n",
    "result = model.fit(method='newton') # newton method는 LR 적합을 시킬 때 Optimizer 기법 적용 시켜주는 것"
   ]
  },
  {
   "cell_type": "code",
   "execution_count": 40,
   "metadata": {},
   "outputs": [
    {
     "data": {
      "text/html": [
       "<table class=\"simpletable\">\n",
       "<caption>Logit Regression Results</caption>\n",
       "<tr>\n",
       "  <th>Dep. Variable:</th>     <td>Personal Loan</td>  <th>  No. Observations:  </th>   <td>  3500</td>  \n",
       "</tr>\n",
       "<tr>\n",
       "  <th>Model:</th>                 <td>Logit</td>      <th>  Df Residuals:      </th>   <td>  3488</td>  \n",
       "</tr>\n",
       "<tr>\n",
       "  <th>Method:</th>                 <td>MLE</td>       <th>  Df Model:          </th>   <td>    11</td>  \n",
       "</tr>\n",
       "<tr>\n",
       "  <th>Date:</th>            <td>Mon, 15 Mar 2021</td> <th>  Pseudo R-squ.:     </th>   <td>0.5861</td>  \n",
       "</tr>\n",
       "<tr>\n",
       "  <th>Time:</th>                <td>17:31:30</td>     <th>  Log-Likelihood:    </th>  <td> -458.04</td> \n",
       "</tr>\n",
       "<tr>\n",
       "  <th>converged:</th>             <td>True</td>       <th>  LL-Null:           </th>  <td> -1106.7</td> \n",
       "</tr>\n",
       "<tr>\n",
       "  <th>Covariance Type:</th>     <td>nonrobust</td>    <th>  LLR p-value:       </th> <td>1.666e-271</td>\n",
       "</tr>\n",
       "</table>\n",
       "<table class=\"simpletable\">\n",
       "<tr>\n",
       "           <td></td>             <th>coef</th>     <th>std err</th>      <th>z</th>      <th>P>|z|</th>  <th>[0.025</th>    <th>0.975]</th>  \n",
       "</tr>\n",
       "<tr>\n",
       "  <th>Age</th>                <td>   -0.0511</td> <td>    0.072</td> <td>   -0.712</td> <td> 0.477</td> <td>   -0.192</td> <td>    0.090</td>\n",
       "</tr>\n",
       "<tr>\n",
       "  <th>CCAvg</th>              <td>    0.1332</td> <td>    0.046</td> <td>    2.872</td> <td> 0.004</td> <td>    0.042</td> <td>    0.224</td>\n",
       "</tr>\n",
       "<tr>\n",
       "  <th>CD Account</th>         <td>    3.9878</td> <td>    0.402</td> <td>    9.920</td> <td> 0.000</td> <td>    3.200</td> <td>    4.776</td>\n",
       "</tr>\n",
       "<tr>\n",
       "  <th>CreditCard</th>         <td>   -1.1483</td> <td>    0.252</td> <td>   -4.549</td> <td> 0.000</td> <td>   -1.643</td> <td>   -0.654</td>\n",
       "</tr>\n",
       "<tr>\n",
       "  <th>Education</th>          <td>    1.6770</td> <td>    0.136</td> <td>   12.324</td> <td> 0.000</td> <td>    1.410</td> <td>    1.944</td>\n",
       "</tr>\n",
       "<tr>\n",
       "  <th>Experience</th>         <td>    0.0532</td> <td>    0.071</td> <td>    0.746</td> <td> 0.456</td> <td>   -0.087</td> <td>    0.193</td>\n",
       "</tr>\n",
       "<tr>\n",
       "  <th>Family</th>             <td>    0.7001</td> <td>    0.088</td> <td>    7.925</td> <td> 0.000</td> <td>    0.527</td> <td>    0.873</td>\n",
       "</tr>\n",
       "<tr>\n",
       "  <th>Income</th>             <td>    0.0525</td> <td>    0.003</td> <td>   17.319</td> <td> 0.000</td> <td>    0.047</td> <td>    0.058</td>\n",
       "</tr>\n",
       "<tr>\n",
       "  <th>Mortgage</th>           <td>    0.0007</td> <td>    0.001</td> <td>    1.039</td> <td> 0.299</td> <td>   -0.001</td> <td>    0.002</td>\n",
       "</tr>\n",
       "<tr>\n",
       "  <th>Online</th>             <td>   -0.6926</td> <td>    0.187</td> <td>   -3.701</td> <td> 0.000</td> <td>   -1.059</td> <td>   -0.326</td>\n",
       "</tr>\n",
       "<tr>\n",
       "  <th>Securities Account</th> <td>   -1.1086</td> <td>    0.359</td> <td>   -3.089</td> <td> 0.002</td> <td>   -1.812</td> <td>   -0.405</td>\n",
       "</tr>\n",
       "<tr>\n",
       "  <th>const</th>              <td>  -11.7709</td> <td>    1.921</td> <td>   -6.127</td> <td> 0.000</td> <td>  -15.536</td> <td>   -8.006</td>\n",
       "</tr>\n",
       "</table>"
      ],
      "text/plain": [
       "<class 'statsmodels.iolib.summary.Summary'>\n",
       "\"\"\"\n",
       "                           Logit Regression Results                           \n",
       "==============================================================================\n",
       "Dep. Variable:          Personal Loan   No. Observations:                 3500\n",
       "Model:                          Logit   Df Residuals:                     3488\n",
       "Method:                           MLE   Df Model:                           11\n",
       "Date:                Mon, 15 Mar 2021   Pseudo R-squ.:                  0.5861\n",
       "Time:                        17:31:30   Log-Likelihood:                -458.04\n",
       "converged:                       True   LL-Null:                       -1106.7\n",
       "Covariance Type:            nonrobust   LLR p-value:                1.666e-271\n",
       "======================================================================================\n",
       "                         coef    std err          z      P>|z|      [0.025      0.975]\n",
       "--------------------------------------------------------------------------------------\n",
       "Age                   -0.0511      0.072     -0.712      0.477      -0.192       0.090\n",
       "CCAvg                  0.1332      0.046      2.872      0.004       0.042       0.224\n",
       "CD Account             3.9878      0.402      9.920      0.000       3.200       4.776\n",
       "CreditCard            -1.1483      0.252     -4.549      0.000      -1.643      -0.654\n",
       "Education              1.6770      0.136     12.324      0.000       1.410       1.944\n",
       "Experience             0.0532      0.071      0.746      0.456      -0.087       0.193\n",
       "Family                 0.7001      0.088      7.925      0.000       0.527       0.873\n",
       "Income                 0.0525      0.003     17.319      0.000       0.047       0.058\n",
       "Mortgage               0.0007      0.001      1.039      0.299      -0.001       0.002\n",
       "Online                -0.6926      0.187     -3.701      0.000      -1.059      -0.326\n",
       "Securities Account    -1.1086      0.359     -3.089      0.002      -1.812      -0.405\n",
       "const                -11.7709      1.921     -6.127      0.000     -15.536      -8.006\n",
       "======================================================================================\n",
       "\"\"\""
      ]
     },
     "execution_count": 40,
     "metadata": {},
     "output_type": "execute_result"
    }
   ],
   "source": [
    "result.summary()"
   ]
  },
  {
   "cell_type": "markdown",
   "metadata": {},
   "source": [
    "- 각각 변수를 보았을 때 경력이나 모기지의 p-value가 높음. 지워야함."
   ]
  },
  {
   "cell_type": "code",
   "execution_count": 41,
   "metadata": {},
   "outputs": [
    {
     "data": {
      "text/plain": [
       "Age                   -0.051059\n",
       "CCAvg                  0.133165\n",
       "CD Account             3.987819\n",
       "CreditCard            -1.148258\n",
       "Education              1.676976\n",
       "Experience             0.053162\n",
       "Family                 0.700055\n",
       "Income                 0.052507\n",
       "Mortgage               0.000691\n",
       "Online                -0.692613\n",
       "Securities Account    -1.108634\n",
       "const                -11.770943\n",
       "dtype: float64"
      ]
     },
     "execution_count": 41,
     "metadata": {},
     "output_type": "execute_result"
    }
   ],
   "source": [
    "result.params"
   ]
  },
  {
   "cell_type": "code",
   "execution_count": 42,
   "metadata": {},
   "outputs": [
    {
     "data": {
      "text/plain": [
       "Age                    0.950223\n",
       "CCAvg                  1.142438\n",
       "CD Account            53.937148\n",
       "CreditCard             0.317189\n",
       "Education              5.349357\n",
       "Experience             1.054600\n",
       "Family                 2.013863\n",
       "Income                 1.053910\n",
       "Mortgage               1.000692\n",
       "Online                 0.500267\n",
       "Securities Account     0.330009\n",
       "const                  0.000008\n",
       "dtype: float64"
      ]
     },
     "execution_count": 42,
     "metadata": {},
     "output_type": "execute_result"
    }
   ],
   "source": [
    "# 회귀계수 출력\n",
    "np.exp(result.params)"
   ]
  },
  {
   "cell_type": "markdown",
   "metadata": {},
   "source": [
    "- 나이가 1살 많을 수록 대출 확률이 0.95배 증가\n",
    "- 수입이 1단위 높을 수록 대출 확률이 1.05배 증가\n",
    "- 가족 구성원 수가 1 많을 수록 대출 확률 2.01배 증가\n",
    "- 경력이 1단위 높을 수록 대출 확률 1.05 증가\n",
    "    > Experience와 Mortgage는 제외할 필요성 있어보임."
   ]
  },
  {
   "cell_type": "code",
   "execution_count": 43,
   "metadata": {},
   "outputs": [
    {
     "data": {
      "text/plain": [
       "4433    0.000583\n",
       "274     0.001308\n",
       "2439    0.000924\n",
       "1519    0.004975\n",
       "943     0.076166\n",
       "dtype: float64"
      ]
     },
     "execution_count": 43,
     "metadata": {},
     "output_type": "execute_result"
    }
   ],
   "source": [
    "# y_hat 예측\n",
    "pred_y = result.predict(test_x)\n",
    "pred_y.head()\n",
    "# 0.5 이상이면 1로 판단함. 이를 판단해줄 함수 정립"
   ]
  },
  {
   "cell_type": "code",
   "execution_count": 44,
   "metadata": {},
   "outputs": [
    {
     "data": {
      "text/plain": [
       "4433    0\n",
       "274     0\n",
       "2439    0\n",
       "1519    0\n",
       "943     0\n",
       "       ..\n",
       "1284    0\n",
       "1893    0\n",
       "1649    0\n",
       "2306    0\n",
       "3384    0\n",
       "Length: 1500, dtype: int64"
      ]
     },
     "execution_count": 44,
     "metadata": {},
     "output_type": "execute_result"
    }
   ],
   "source": [
    "def cut_off(y, threshold):\n",
    "    Y = y.copy() # copy함수를 사용하여 이전의 y값이 변하지 않게 함.\n",
    "    Y[Y>threshold] = 1\n",
    "    Y[Y<=threshold] = 0\n",
    "    return(Y.astype(int))\n",
    "\n",
    "pred_Y = cut_off(pred_y, 0.5)\n",
    "pred_Y"
   ]
  },
  {
   "cell_type": "code",
   "execution_count": 45,
   "metadata": {},
   "outputs": [
    {
     "name": "stdout",
     "output_type": "stream",
     "text": [
      "[[1334   22]\n",
      " [  52   92]]\n"
     ]
    }
   ],
   "source": [
    "# confusion matrix\n",
    "cfmat = confusion_matrix(test_y, pred_Y)\n",
    "print(cfmat)"
   ]
  },
  {
   "cell_type": "code",
   "execution_count": 46,
   "metadata": {},
   "outputs": [
    {
     "data": {
      "text/plain": [
       "0.9506666666666667"
      ]
     },
     "execution_count": 46,
     "metadata": {},
     "output_type": "execute_result"
    }
   ],
   "source": [
    "# confusion matrix accuracy 계산하기\n",
    "# 행렬의 0,0 + 1,1 나누기 전체\n",
    "(cfmat[0,0] + cfmat[1,1]) / len(pred_Y)"
   ]
  },
  {
   "cell_type": "code",
   "execution_count": 47,
   "metadata": {},
   "outputs": [],
   "source": [
    "# accuracy를 구하는 함수\n",
    "def acc(cfmt):\n",
    "    acc = (cfmat[0,0] + cfmat[1,1]) / len(pred_Y)\n",
    "    return(acc)"
   ]
  },
  {
   "cell_type": "code",
   "execution_count": 48,
   "metadata": {},
   "outputs": [
    {
     "data": {
      "text/plain": [
       "0.9506666666666667"
      ]
     },
     "execution_count": 48,
     "metadata": {},
     "output_type": "execute_result"
    }
   ],
   "source": [
    "acc(cfmat)"
   ]
  },
  {
   "cell_type": "markdown",
   "metadata": {},
   "source": [
    "### 임계값(cut-off)에 따른 성능지표 비교"
   ]
  },
  {
   "cell_type": "code",
   "execution_count": 49,
   "metadata": {},
   "outputs": [
    {
     "data": {
      "text/html": [
       "<div>\n",
       "<style scoped>\n",
       "    .dataframe tbody tr th:only-of-type {\n",
       "        vertical-align: middle;\n",
       "    }\n",
       "\n",
       "    .dataframe tbody tr th {\n",
       "        vertical-align: top;\n",
       "    }\n",
       "\n",
       "    .dataframe thead th {\n",
       "        text-align: right;\n",
       "    }\n",
       "</style>\n",
       "<table border=\"1\" class=\"dataframe\">\n",
       "  <thead>\n",
       "    <tr style=\"text-align: right;\">\n",
       "      <th>performance</th>\n",
       "      <th>ACC</th>\n",
       "    </tr>\n",
       "    <tr>\n",
       "      <th>threshold</th>\n",
       "      <th></th>\n",
       "    </tr>\n",
       "  </thead>\n",
       "  <tbody>\n",
       "    <tr>\n",
       "      <th>0.0</th>\n",
       "      <td>0.096000</td>\n",
       "    </tr>\n",
       "    <tr>\n",
       "      <th>0.1</th>\n",
       "      <td>0.896000</td>\n",
       "    </tr>\n",
       "    <tr>\n",
       "      <th>0.2</th>\n",
       "      <td>0.932000</td>\n",
       "    </tr>\n",
       "    <tr>\n",
       "      <th>0.3</th>\n",
       "      <td>0.945333</td>\n",
       "    </tr>\n",
       "    <tr>\n",
       "      <th>0.4</th>\n",
       "      <td>0.950000</td>\n",
       "    </tr>\n",
       "    <tr>\n",
       "      <th>0.5</th>\n",
       "      <td>0.950667</td>\n",
       "    </tr>\n",
       "    <tr>\n",
       "      <th>0.6</th>\n",
       "      <td>0.953333</td>\n",
       "    </tr>\n",
       "    <tr>\n",
       "      <th>0.7</th>\n",
       "      <td>0.950667</td>\n",
       "    </tr>\n",
       "    <tr>\n",
       "      <th>0.8</th>\n",
       "      <td>0.942667</td>\n",
       "    </tr>\n",
       "    <tr>\n",
       "      <th>0.9</th>\n",
       "      <td>0.933333</td>\n",
       "    </tr>\n",
       "  </tbody>\n",
       "</table>\n",
       "</div>"
      ],
      "text/plain": [
       "performance       ACC\n",
       "threshold            \n",
       "0.0          0.096000\n",
       "0.1          0.896000\n",
       "0.2          0.932000\n",
       "0.3          0.945333\n",
       "0.4          0.950000\n",
       "0.5          0.950667\n",
       "0.6          0.953333\n",
       "0.7          0.950667\n",
       "0.8          0.942667\n",
       "0.9          0.933333"
      ]
     },
     "execution_count": 49,
     "metadata": {},
     "output_type": "execute_result"
    }
   ],
   "source": [
    "threshold = np.arange(0,1,0.1)\n",
    "table = pd.DataFrame(columns=['ACC'])\n",
    "for i in threshold:\n",
    "    pred_Y = cut_off(pred_y, i)\n",
    "    cfmat = confusion_matrix(test_y, pred_Y)\n",
    "    table.loc[i] = acc(cfmat)\n",
    "table.index.name = 'threshold'\n",
    "table.columns.name = 'performance'\n",
    "table"
   ]
  },
  {
   "cell_type": "code",
   "execution_count": 50,
   "metadata": {},
   "outputs": [
    {
     "name": "stdout",
     "output_type": "stream",
     "text": [
      "AUC: 0.9639257620452311\n"
     ]
    },
    {
     "data": {
      "image/png": "[encoded data removed]",
      "text/plain": [
       "<Figure size 432x288 with 1 Axes>"
      ]
     },
     "metadata": {
      "needs_background": "light"
     },
     "output_type": "display_data"
    }
   ],
   "source": [
    "# sklearn ROC 패키지 제공\n",
    "fpr ,tpr, thresholds = metrics.roc_curve(test_y, pred_y, pos_label=1)\n",
    "\n",
    "# Print ROC curve\n",
    "plt.plot(fpr, tpr)\n",
    "\n",
    "# Print AUC\n",
    "auc = np.trapz(tpr,fpr)\n",
    "print('AUC:', auc)"
   ]
  },
  {
   "cell_type": "code",
   "execution_count": 51,
   "metadata": {},
   "outputs": [],
   "source": [
    "# Experience, Mortgage 변수 제거\n",
    "feature_columns = list(ploan_processed.columns.difference(['Personal Loan', 'Experience', 'Mortgage']))\n",
    "X = ploan_processed[feature_columns]\n",
    "y = ploan_processed['Personal Loan'] # 대출여부 : 1 or 0"
   ]
  },
  {
   "cell_type": "code",
   "execution_count": 52,
   "metadata": {},
   "outputs": [],
   "source": [
    "train_x2, test_x2, train_y, test_y = train_test_split(X, y, stratify=y, train_size=0.7, test_size=0.3, random_state=42)"
   ]
  },
  {
   "cell_type": "code",
   "execution_count": 53,
   "metadata": {},
   "outputs": [
    {
     "name": "stdout",
     "output_type": "stream",
     "text": [
      "Optimization terminated successfully.\n",
      "         Current function value: 0.131098\n",
      "         Iterations 9\n"
     ]
    }
   ],
   "source": [
    "# 로지스틱 모델 적합\n",
    "model = sm.Logit(train_y, train_x2)\n",
    "result2 = model.fit(method='newton')"
   ]
  },
  {
   "cell_type": "code",
   "execution_count": 54,
   "metadata": {},
   "outputs": [
    {
     "data": {
      "text/html": [
       "<table class=\"simpletable\">\n",
       "<caption>Logit Regression Results</caption>\n",
       "<tr>\n",
       "  <th>Dep. Variable:</th>     <td>Personal Loan</td>  <th>  No. Observations:  </th>   <td>  3500</td>  \n",
       "</tr>\n",
       "<tr>\n",
       "  <th>Model:</th>                 <td>Logit</td>      <th>  Df Residuals:      </th>   <td>  3488</td>  \n",
       "</tr>\n",
       "<tr>\n",
       "  <th>Method:</th>                 <td>MLE</td>       <th>  Df Model:          </th>   <td>    11</td>  \n",
       "</tr>\n",
       "<tr>\n",
       "  <th>Date:</th>            <td>Mon, 15 Mar 2021</td> <th>  Pseudo R-squ.:     </th>   <td>0.5861</td>  \n",
       "</tr>\n",
       "<tr>\n",
       "  <th>Time:</th>                <td>17:37:10</td>     <th>  Log-Likelihood:    </th>  <td> -458.04</td> \n",
       "</tr>\n",
       "<tr>\n",
       "  <th>converged:</th>             <td>True</td>       <th>  LL-Null:           </th>  <td> -1106.7</td> \n",
       "</tr>\n",
       "<tr>\n",
       "  <th>Covariance Type:</th>     <td>nonrobust</td>    <th>  LLR p-value:       </th> <td>1.666e-271</td>\n",
       "</tr>\n",
       "</table>\n",
       "<table class=\"simpletable\">\n",
       "<tr>\n",
       "           <td></td>             <th>coef</th>     <th>std err</th>      <th>z</th>      <th>P>|z|</th>  <th>[0.025</th>    <th>0.975]</th>  \n",
       "</tr>\n",
       "<tr>\n",
       "  <th>Age</th>                <td>   -0.0511</td> <td>    0.072</td> <td>   -0.712</td> <td> 0.477</td> <td>   -0.192</td> <td>    0.090</td>\n",
       "</tr>\n",
       "<tr>\n",
       "  <th>CCAvg</th>              <td>    0.1332</td> <td>    0.046</td> <td>    2.872</td> <td> 0.004</td> <td>    0.042</td> <td>    0.224</td>\n",
       "</tr>\n",
       "<tr>\n",
       "  <th>CD Account</th>         <td>    3.9878</td> <td>    0.402</td> <td>    9.920</td> <td> 0.000</td> <td>    3.200</td> <td>    4.776</td>\n",
       "</tr>\n",
       "<tr>\n",
       "  <th>CreditCard</th>         <td>   -1.1483</td> <td>    0.252</td> <td>   -4.549</td> <td> 0.000</td> <td>   -1.643</td> <td>   -0.654</td>\n",
       "</tr>\n",
       "<tr>\n",
       "  <th>Education</th>          <td>    1.6770</td> <td>    0.136</td> <td>   12.324</td> <td> 0.000</td> <td>    1.410</td> <td>    1.944</td>\n",
       "</tr>\n",
       "<tr>\n",
       "  <th>Experience</th>         <td>    0.0532</td> <td>    0.071</td> <td>    0.746</td> <td> 0.456</td> <td>   -0.087</td> <td>    0.193</td>\n",
       "</tr>\n",
       "<tr>\n",
       "  <th>Family</th>             <td>    0.7001</td> <td>    0.088</td> <td>    7.925</td> <td> 0.000</td> <td>    0.527</td> <td>    0.873</td>\n",
       "</tr>\n",
       "<tr>\n",
       "  <th>Income</th>             <td>    0.0525</td> <td>    0.003</td> <td>   17.319</td> <td> 0.000</td> <td>    0.047</td> <td>    0.058</td>\n",
       "</tr>\n",
       "<tr>\n",
       "  <th>Mortgage</th>           <td>    0.0007</td> <td>    0.001</td> <td>    1.039</td> <td> 0.299</td> <td>   -0.001</td> <td>    0.002</td>\n",
       "</tr>\n",
       "<tr>\n",
       "  <th>Online</th>             <td>   -0.6926</td> <td>    0.187</td> <td>   -3.701</td> <td> 0.000</td> <td>   -1.059</td> <td>   -0.326</td>\n",
       "</tr>\n",
       "<tr>\n",
       "  <th>Securities Account</th> <td>   -1.1086</td> <td>    0.359</td> <td>   -3.089</td> <td> 0.002</td> <td>   -1.812</td> <td>   -0.405</td>\n",
       "</tr>\n",
       "<tr>\n",
       "  <th>const</th>              <td>  -11.7709</td> <td>    1.921</td> <td>   -6.127</td> <td> 0.000</td> <td>  -15.536</td> <td>   -8.006</td>\n",
       "</tr>\n",
       "</table>"
      ],
      "text/plain": [
       "<class 'statsmodels.iolib.summary.Summary'>\n",
       "\"\"\"\n",
       "                           Logit Regression Results                           \n",
       "==============================================================================\n",
       "Dep. Variable:          Personal Loan   No. Observations:                 3500\n",
       "Model:                          Logit   Df Residuals:                     3488\n",
       "Method:                           MLE   Df Model:                           11\n",
       "Date:                Mon, 15 Mar 2021   Pseudo R-squ.:                  0.5861\n",
       "Time:                        17:37:10   Log-Likelihood:                -458.04\n",
       "converged:                       True   LL-Null:                       -1106.7\n",
       "Covariance Type:            nonrobust   LLR p-value:                1.666e-271\n",
       "======================================================================================\n",
       "                         coef    std err          z      P>|z|      [0.025      0.975]\n",
       "--------------------------------------------------------------------------------------\n",
       "Age                   -0.0511      0.072     -0.712      0.477      -0.192       0.090\n",
       "CCAvg                  0.1332      0.046      2.872      0.004       0.042       0.224\n",
       "CD Account             3.9878      0.402      9.920      0.000       3.200       4.776\n",
       "CreditCard            -1.1483      0.252     -4.549      0.000      -1.643      -0.654\n",
       "Education              1.6770      0.136     12.324      0.000       1.410       1.944\n",
       "Experience             0.0532      0.071      0.746      0.456      -0.087       0.193\n",
       "Family                 0.7001      0.088      7.925      0.000       0.527       0.873\n",
       "Income                 0.0525      0.003     17.319      0.000       0.047       0.058\n",
       "Mortgage               0.0007      0.001      1.039      0.299      -0.001       0.002\n",
       "Online                -0.6926      0.187     -3.701      0.000      -1.059      -0.326\n",
       "Securities Account    -1.1086      0.359     -3.089      0.002      -1.812      -0.405\n",
       "const                -11.7709      1.921     -6.127      0.000     -15.536      -8.006\n",
       "======================================================================================\n",
       "\"\"\""
      ]
     },
     "execution_count": 54,
     "metadata": {},
     "output_type": "execute_result"
    }
   ],
   "source": [
    "#이전 모델과 비교\n",
    "result.summary()"
   ]
  },
  {
   "cell_type": "code",
   "execution_count": 55,
   "metadata": {},
   "outputs": [
    {
     "data": {
      "text/html": [
       "<table class=\"simpletable\">\n",
       "<caption>Logit Regression Results</caption>\n",
       "<tr>\n",
       "  <th>Dep. Variable:</th>     <td>Personal Loan</td>  <th>  No. Observations:  </th>   <td>  3500</td>  \n",
       "</tr>\n",
       "<tr>\n",
       "  <th>Model:</th>                 <td>Logit</td>      <th>  Df Residuals:      </th>   <td>  3490</td>  \n",
       "</tr>\n",
       "<tr>\n",
       "  <th>Method:</th>                 <td>MLE</td>       <th>  Df Model:          </th>   <td>     9</td>  \n",
       "</tr>\n",
       "<tr>\n",
       "  <th>Date:</th>            <td>Mon, 15 Mar 2021</td> <th>  Pseudo R-squ.:     </th>   <td>0.5854</td>  \n",
       "</tr>\n",
       "<tr>\n",
       "  <th>Time:</th>                <td>17:37:14</td>     <th>  Log-Likelihood:    </th>  <td> -458.84</td> \n",
       "</tr>\n",
       "<tr>\n",
       "  <th>converged:</th>             <td>True</td>       <th>  LL-Null:           </th>  <td> -1106.7</td> \n",
       "</tr>\n",
       "<tr>\n",
       "  <th>Covariance Type:</th>     <td>nonrobust</td>    <th>  LLR p-value:       </th> <td>2.569e-273</td>\n",
       "</tr>\n",
       "</table>\n",
       "<table class=\"simpletable\">\n",
       "<tr>\n",
       "           <td></td>             <th>coef</th>     <th>std err</th>      <th>z</th>      <th>P>|z|</th>  <th>[0.025</th>    <th>0.975]</th>  \n",
       "</tr>\n",
       "<tr>\n",
       "  <th>Age</th>                <td>    0.0023</td> <td>    0.008</td> <td>    0.296</td> <td> 0.767</td> <td>   -0.013</td> <td>    0.017</td>\n",
       "</tr>\n",
       "<tr>\n",
       "  <th>CCAvg</th>              <td>    0.1280</td> <td>    0.046</td> <td>    2.774</td> <td> 0.006</td> <td>    0.038</td> <td>    0.218</td>\n",
       "</tr>\n",
       "<tr>\n",
       "  <th>CD Account</th>         <td>    4.0025</td> <td>    0.401</td> <td>    9.983</td> <td> 0.000</td> <td>    3.217</td> <td>    4.788</td>\n",
       "</tr>\n",
       "<tr>\n",
       "  <th>CreditCard</th>         <td>   -1.1504</td> <td>    0.252</td> <td>   -4.569</td> <td> 0.000</td> <td>   -1.644</td> <td>   -0.657</td>\n",
       "</tr>\n",
       "<tr>\n",
       "  <th>Education</th>          <td>    1.6499</td> <td>    0.133</td> <td>   12.376</td> <td> 0.000</td> <td>    1.389</td> <td>    1.911</td>\n",
       "</tr>\n",
       "<tr>\n",
       "  <th>Family</th>             <td>    0.7021</td> <td>    0.088</td> <td>    7.942</td> <td> 0.000</td> <td>    0.529</td> <td>    0.875</td>\n",
       "</tr>\n",
       "<tr>\n",
       "  <th>Income</th>             <td>    0.0530</td> <td>    0.003</td> <td>   17.559</td> <td> 0.000</td> <td>    0.047</td> <td>    0.059</td>\n",
       "</tr>\n",
       "<tr>\n",
       "  <th>Online</th>             <td>   -0.6932</td> <td>    0.187</td> <td>   -3.707</td> <td> 0.000</td> <td>   -1.060</td> <td>   -0.327</td>\n",
       "</tr>\n",
       "<tr>\n",
       "  <th>Securities Account</th> <td>   -1.1121</td> <td>    0.358</td> <td>   -3.106</td> <td> 0.002</td> <td>   -1.814</td> <td>   -0.410</td>\n",
       "</tr>\n",
       "<tr>\n",
       "  <th>const</th>              <td>  -13.0585</td> <td>    0.760</td> <td>  -17.176</td> <td> 0.000</td> <td>  -14.549</td> <td>  -11.568</td>\n",
       "</tr>\n",
       "</table>"
      ],
      "text/plain": [
       "<class 'statsmodels.iolib.summary.Summary'>\n",
       "\"\"\"\n",
       "                           Logit Regression Results                           \n",
       "==============================================================================\n",
       "Dep. Variable:          Personal Loan   No. Observations:                 3500\n",
       "Model:                          Logit   Df Residuals:                     3490\n",
       "Method:                           MLE   Df Model:                            9\n",
       "Date:                Mon, 15 Mar 2021   Pseudo R-squ.:                  0.5854\n",
       "Time:                        17:37:14   Log-Likelihood:                -458.84\n",
       "converged:                       True   LL-Null:                       -1106.7\n",
       "Covariance Type:            nonrobust   LLR p-value:                2.569e-273\n",
       "======================================================================================\n",
       "                         coef    std err          z      P>|z|      [0.025      0.975]\n",
       "--------------------------------------------------------------------------------------\n",
       "Age                    0.0023      0.008      0.296      0.767      -0.013       0.017\n",
       "CCAvg                  0.1280      0.046      2.774      0.006       0.038       0.218\n",
       "CD Account             4.0025      0.401      9.983      0.000       3.217       4.788\n",
       "CreditCard            -1.1504      0.252     -4.569      0.000      -1.644      -0.657\n",
       "Education              1.6499      0.133     12.376      0.000       1.389       1.911\n",
       "Family                 0.7021      0.088      7.942      0.000       0.529       0.875\n",
       "Income                 0.0530      0.003     17.559      0.000       0.047       0.059\n",
       "Online                -0.6932      0.187     -3.707      0.000      -1.060      -0.327\n",
       "Securities Account    -1.1121      0.358     -3.106      0.002      -1.814      -0.410\n",
       "const                -13.0585      0.760    -17.176      0.000     -14.549     -11.568\n",
       "======================================================================================\n",
       "\"\"\""
      ]
     },
     "execution_count": 55,
     "metadata": {},
     "output_type": "execute_result"
    }
   ],
   "source": [
    "result2.summary()"
   ]
  },
  {
   "cell_type": "markdown",
   "metadata": {},
   "source": [
    "- Age의 p-value가 급상승"
   ]
  },
  {
   "cell_type": "code",
   "execution_count": 56,
   "metadata": {},
   "outputs": [],
   "source": [
    "# 예측\n",
    "pred_y = result2. predict(test_x2)"
   ]
  },
  {
   "cell_type": "code",
   "execution_count": 58,
   "metadata": {},
   "outputs": [],
   "source": [
    "#threshold 0.5\n",
    "pred_y2 = cut_off(pred_y, 0.5)"
   ]
  },
  {
   "cell_type": "code",
   "execution_count": 59,
   "metadata": {},
   "outputs": [
    {
     "name": "stdout",
     "output_type": "stream",
     "text": [
      "0.9526666666666667\n"
     ]
    }
   ],
   "source": [
    "# accuracy 계산\n",
    "cfmat = confusion_matrix(test_y, pred_y2)\n",
    "print(acc(cfmat))"
   ]
  },
  {
   "cell_type": "code",
   "execution_count": 64,
   "metadata": {},
   "outputs": [
    {
     "data": {
      "text/html": [
       "<div>\n",
       "<style scoped>\n",
       "    .dataframe tbody tr th:only-of-type {\n",
       "        vertical-align: middle;\n",
       "    }\n",
       "\n",
       "    .dataframe tbody tr th {\n",
       "        vertical-align: top;\n",
       "    }\n",
       "\n",
       "    .dataframe thead th {\n",
       "        text-align: right;\n",
       "    }\n",
       "</style>\n",
       "<table border=\"1\" class=\"dataframe\">\n",
       "  <thead>\n",
       "    <tr style=\"text-align: right;\">\n",
       "      <th>performance</th>\n",
       "      <th>ACC</th>\n",
       "    </tr>\n",
       "    <tr>\n",
       "      <th>threshold</th>\n",
       "      <th></th>\n",
       "    </tr>\n",
       "  </thead>\n",
       "  <tbody>\n",
       "    <tr>\n",
       "      <th>0.0</th>\n",
       "      <td>0.096000</td>\n",
       "    </tr>\n",
       "    <tr>\n",
       "      <th>0.1</th>\n",
       "      <td>0.896000</td>\n",
       "    </tr>\n",
       "    <tr>\n",
       "      <th>0.2</th>\n",
       "      <td>0.934667</td>\n",
       "    </tr>\n",
       "    <tr>\n",
       "      <th>0.3</th>\n",
       "      <td>0.945333</td>\n",
       "    </tr>\n",
       "    <tr>\n",
       "      <th>0.4</th>\n",
       "      <td>0.950667</td>\n",
       "    </tr>\n",
       "    <tr>\n",
       "      <th>0.5</th>\n",
       "      <td>0.952667</td>\n",
       "    </tr>\n",
       "    <tr>\n",
       "      <th>0.6</th>\n",
       "      <td>0.952000</td>\n",
       "    </tr>\n",
       "    <tr>\n",
       "      <th>0.7</th>\n",
       "      <td>0.952000</td>\n",
       "    </tr>\n",
       "    <tr>\n",
       "      <th>0.8</th>\n",
       "      <td>0.942667</td>\n",
       "    </tr>\n",
       "    <tr>\n",
       "      <th>0.9</th>\n",
       "      <td>0.933333</td>\n",
       "    </tr>\n",
       "  </tbody>\n",
       "</table>\n",
       "</div>"
      ],
      "text/plain": [
       "performance       ACC\n",
       "threshold            \n",
       "0.0          0.096000\n",
       "0.1          0.896000\n",
       "0.2          0.934667\n",
       "0.3          0.945333\n",
       "0.4          0.950667\n",
       "0.5          0.952667\n",
       "0.6          0.952000\n",
       "0.7          0.952000\n",
       "0.8          0.942667\n",
       "0.9          0.933333"
      ]
     },
     "execution_count": 64,
     "metadata": {},
     "output_type": "execute_result"
    }
   ],
   "source": [
    "threshold = np.arange(0,1,0.1)\n",
    "pred_y = result2.predict(test_x2)\n",
    "table = pd.DataFrame(columns=['ACC'])\n",
    "for i in threshold:\n",
    "    pred_y2 = cut_off(pred_y, i)\n",
    "    cfmat = confusion_matrix(test_y, pred_y2)\n",
    "    table.loc[i] = acc(cfmat)\n",
    "table.index.name = 'threshold'\n",
    "table.columns.name = 'performance'\n",
    "table"
   ]
  },
  {
   "cell_type": "code",
   "execution_count": 66,
   "metadata": {},
   "outputs": [
    {
     "name": "stdout",
     "output_type": "stream",
     "text": [
      "AUC: 0.9642791297935103\n"
     ]
    },
    {
     "data": {
      "image/png": "[encoded data removed]",
      "text/plain": [
       "<Figure size 432x288 with 1 Axes>"
      ]
     },
     "metadata": {
      "needs_background": "light"
     },
     "output_type": "display_data"
    }
   ],
   "source": [
    "# sklearn ROC 패키지 제공\n",
    "fpr ,tpr, thresholds = metrics.roc_curve(test_y, pred_y, pos_label=1)\n",
    "\n",
    "# Print ROC curve\n",
    "plt.plot(fpr, tpr)\n",
    "\n",
    "# Print AUC\n",
    "auc = np.trapz(tpr,fpr)\n",
    "print('AUC:', auc)"
   ]
  },
  {
   "cell_type": "code",
   "execution_count": 68,
   "metadata": {},
   "outputs": [],
   "source": [
    "# Age 변수 제거\n",
    "feature_columns = list(ploan_processed.columns.difference(['Personal Loan', 'Experience', 'Mortgage', 'Age']))\n",
    "X = ploan_processed[feature_columns]\n",
    "y = ploan_processed['Personal Loan'] # 대출여부 : 1 or 0"
   ]
  },
  {
   "cell_type": "code",
   "execution_count": 69,
   "metadata": {},
   "outputs": [],
   "source": [
    "train_x3, test_x3, train_y, test_y = train_test_split(X, y, stratify=y, train_size=0.7, test_size=0.3, random_state=42)"
   ]
  },
  {
   "cell_type": "code",
   "execution_count": 70,
   "metadata": {},
   "outputs": [
    {
     "name": "stdout",
     "output_type": "stream",
     "text": [
      "Optimization terminated successfully.\n",
      "         Current function value: 0.131110\n",
      "         Iterations 9\n"
     ]
    }
   ],
   "source": [
    "# 로지스틱 모델 적합\n",
    "model = sm.Logit(train_y, train_x3)\n",
    "result3 = model.fit(method='newton')"
   ]
  },
  {
   "cell_type": "code",
   "execution_count": 71,
   "metadata": {},
   "outputs": [
    {
     "data": {
      "text/html": [
       "<table class=\"simpletable\">\n",
       "<caption>Logit Regression Results</caption>\n",
       "<tr>\n",
       "  <th>Dep. Variable:</th>     <td>Personal Loan</td>  <th>  No. Observations:  </th>   <td>  3500</td>  \n",
       "</tr>\n",
       "<tr>\n",
       "  <th>Model:</th>                 <td>Logit</td>      <th>  Df Residuals:      </th>   <td>  3491</td>  \n",
       "</tr>\n",
       "<tr>\n",
       "  <th>Method:</th>                 <td>MLE</td>       <th>  Df Model:          </th>   <td>     8</td>  \n",
       "</tr>\n",
       "<tr>\n",
       "  <th>Date:</th>            <td>Mon, 15 Mar 2021</td> <th>  Pseudo R-squ.:     </th>   <td>0.5854</td>  \n",
       "</tr>\n",
       "<tr>\n",
       "  <th>Time:</th>                <td>17:43:44</td>     <th>  Log-Likelihood:    </th>  <td> -458.89</td> \n",
       "</tr>\n",
       "<tr>\n",
       "  <th>converged:</th>             <td>True</td>       <th>  LL-Null:           </th>  <td> -1106.7</td> \n",
       "</tr>\n",
       "<tr>\n",
       "  <th>Covariance Type:</th>     <td>nonrobust</td>    <th>  LLR p-value:       </th> <td>2.042e-274</td>\n",
       "</tr>\n",
       "</table>\n",
       "<table class=\"simpletable\">\n",
       "<tr>\n",
       "           <td></td>             <th>coef</th>     <th>std err</th>      <th>z</th>      <th>P>|z|</th>  <th>[0.025</th>    <th>0.975]</th>  \n",
       "</tr>\n",
       "<tr>\n",
       "  <th>CCAvg</th>              <td>    0.1264</td> <td>    0.046</td> <td>    2.757</td> <td> 0.006</td> <td>    0.037</td> <td>    0.216</td>\n",
       "</tr>\n",
       "<tr>\n",
       "  <th>CD Account</th>         <td>    4.0044</td> <td>    0.401</td> <td>    9.988</td> <td> 0.000</td> <td>    3.219</td> <td>    4.790</td>\n",
       "</tr>\n",
       "<tr>\n",
       "  <th>CreditCard</th>         <td>   -1.1493</td> <td>    0.252</td> <td>   -4.564</td> <td> 0.000</td> <td>   -1.643</td> <td>   -0.656</td>\n",
       "</tr>\n",
       "<tr>\n",
       "  <th>Education</th>          <td>    1.6483</td> <td>    0.133</td> <td>   12.383</td> <td> 0.000</td> <td>    1.387</td> <td>    1.909</td>\n",
       "</tr>\n",
       "<tr>\n",
       "  <th>Family</th>             <td>    0.7011</td> <td>    0.088</td> <td>    7.932</td> <td> 0.000</td> <td>    0.528</td> <td>    0.874</td>\n",
       "</tr>\n",
       "<tr>\n",
       "  <th>Income</th>             <td>    0.0529</td> <td>    0.003</td> <td>   17.566</td> <td> 0.000</td> <td>    0.047</td> <td>    0.059</td>\n",
       "</tr>\n",
       "<tr>\n",
       "  <th>Online</th>             <td>   -0.6902</td> <td>    0.187</td> <td>   -3.697</td> <td> 0.000</td> <td>   -1.056</td> <td>   -0.324</td>\n",
       "</tr>\n",
       "<tr>\n",
       "  <th>Securities Account</th> <td>   -1.1104</td> <td>    0.358</td> <td>   -3.104</td> <td> 0.002</td> <td>   -1.812</td> <td>   -0.409</td>\n",
       "</tr>\n",
       "<tr>\n",
       "  <th>const</th>              <td>  -12.9449</td> <td>    0.653</td> <td>  -19.811</td> <td> 0.000</td> <td>  -14.226</td> <td>  -11.664</td>\n",
       "</tr>\n",
       "</table>"
      ],
      "text/plain": [
       "<class 'statsmodels.iolib.summary.Summary'>\n",
       "\"\"\"\n",
       "                           Logit Regression Results                           \n",
       "==============================================================================\n",
       "Dep. Variable:          Personal Loan   No. Observations:                 3500\n",
       "Model:                          Logit   Df Residuals:                     3491\n",
       "Method:                           MLE   Df Model:                            8\n",
       "Date:                Mon, 15 Mar 2021   Pseudo R-squ.:                  0.5854\n",
       "Time:                        17:43:44   Log-Likelihood:                -458.89\n",
       "converged:                       True   LL-Null:                       -1106.7\n",
       "Covariance Type:            nonrobust   LLR p-value:                2.042e-274\n",
       "======================================================================================\n",
       "                         coef    std err          z      P>|z|      [0.025      0.975]\n",
       "--------------------------------------------------------------------------------------\n",
       "CCAvg                  0.1264      0.046      2.757      0.006       0.037       0.216\n",
       "CD Account             4.0044      0.401      9.988      0.000       3.219       4.790\n",
       "CreditCard            -1.1493      0.252     -4.564      0.000      -1.643      -0.656\n",
       "Education              1.6483      0.133     12.383      0.000       1.387       1.909\n",
       "Family                 0.7011      0.088      7.932      0.000       0.528       0.874\n",
       "Income                 0.0529      0.003     17.566      0.000       0.047       0.059\n",
       "Online                -0.6902      0.187     -3.697      0.000      -1.056      -0.324\n",
       "Securities Account    -1.1104      0.358     -3.104      0.002      -1.812      -0.409\n",
       "const                -12.9449      0.653    -19.811      0.000     -14.226     -11.664\n",
       "======================================================================================\n",
       "\"\"\""
      ]
     },
     "execution_count": 71,
     "metadata": {},
     "output_type": "execute_result"
    }
   ],
   "source": [
    "#이전 모델과 비교\n",
    "result3.summary()"
   ]
  },
  {
   "cell_type": "code",
   "execution_count": 73,
   "metadata": {},
   "outputs": [],
   "source": [
    "# 예측\n",
    "pred_y = result3. predict(test_x3)"
   ]
  },
  {
   "cell_type": "code",
   "execution_count": 74,
   "metadata": {},
   "outputs": [],
   "source": [
    "#threshold 0.5\n",
    "pred_y3 = cut_off(pred_y, 0.5)"
   ]
  },
  {
   "cell_type": "code",
   "execution_count": 75,
   "metadata": {},
   "outputs": [
    {
     "name": "stdout",
     "output_type": "stream",
     "text": [
      "0.9526666666666667\n"
     ]
    }
   ],
   "source": [
    "# accuracy 계산\n",
    "cfmat = confusion_matrix(test_y, pred_y3)\n",
    "print(acc(cfmat))"
   ]
  },
  {
   "cell_type": "code",
   "execution_count": 76,
   "metadata": {},
   "outputs": [
    {
     "data": {
      "text/html": [
       "<div>\n",
       "<style scoped>\n",
       "    .dataframe tbody tr th:only-of-type {\n",
       "        vertical-align: middle;\n",
       "    }\n",
       "\n",
       "    .dataframe tbody tr th {\n",
       "        vertical-align: top;\n",
       "    }\n",
       "\n",
       "    .dataframe thead th {\n",
       "        text-align: right;\n",
       "    }\n",
       "</style>\n",
       "<table border=\"1\" class=\"dataframe\">\n",
       "  <thead>\n",
       "    <tr style=\"text-align: right;\">\n",
       "      <th>performance</th>\n",
       "      <th>ACC</th>\n",
       "    </tr>\n",
       "    <tr>\n",
       "      <th>threshold</th>\n",
       "      <th></th>\n",
       "    </tr>\n",
       "  </thead>\n",
       "  <tbody>\n",
       "    <tr>\n",
       "      <th>0.0</th>\n",
       "      <td>0.096000</td>\n",
       "    </tr>\n",
       "    <tr>\n",
       "      <th>0.1</th>\n",
       "      <td>0.896000</td>\n",
       "    </tr>\n",
       "    <tr>\n",
       "      <th>0.2</th>\n",
       "      <td>0.932667</td>\n",
       "    </tr>\n",
       "    <tr>\n",
       "      <th>0.3</th>\n",
       "      <td>0.944000</td>\n",
       "    </tr>\n",
       "    <tr>\n",
       "      <th>0.4</th>\n",
       "      <td>0.950667</td>\n",
       "    </tr>\n",
       "    <tr>\n",
       "      <th>0.5</th>\n",
       "      <td>0.952667</td>\n",
       "    </tr>\n",
       "    <tr>\n",
       "      <th>0.6</th>\n",
       "      <td>0.952000</td>\n",
       "    </tr>\n",
       "    <tr>\n",
       "      <th>0.7</th>\n",
       "      <td>0.952000</td>\n",
       "    </tr>\n",
       "    <tr>\n",
       "      <th>0.8</th>\n",
       "      <td>0.943333</td>\n",
       "    </tr>\n",
       "    <tr>\n",
       "      <th>0.9</th>\n",
       "      <td>0.933333</td>\n",
       "    </tr>\n",
       "  </tbody>\n",
       "</table>\n",
       "</div>"
      ],
      "text/plain": [
       "performance       ACC\n",
       "threshold            \n",
       "0.0          0.096000\n",
       "0.1          0.896000\n",
       "0.2          0.932667\n",
       "0.3          0.944000\n",
       "0.4          0.950667\n",
       "0.5          0.952667\n",
       "0.6          0.952000\n",
       "0.7          0.952000\n",
       "0.8          0.943333\n",
       "0.9          0.933333"
      ]
     },
     "execution_count": 76,
     "metadata": {},
     "output_type": "execute_result"
    }
   ],
   "source": [
    "threshold = np.arange(0,1,0.1)\n",
    "pred_y = result3.predict(test_x3)\n",
    "table = pd.DataFrame(columns=['ACC'])\n",
    "for i in threshold:\n",
    "    pred_y3 = cut_off(pred_y, i)\n",
    "    cfmat = confusion_matrix(test_y, pred_y3)\n",
    "    table.loc[i] = acc(cfmat)\n",
    "table.index.name = 'threshold'\n",
    "table.columns.name = 'performance'\n",
    "table"
   ]
  },
  {
   "cell_type": "code",
   "execution_count": 77,
   "metadata": {},
   "outputs": [
    {
     "name": "stdout",
     "output_type": "stream",
     "text": [
      "AUC: 0.9641459767289412\n"
     ]
    },
    {
     "data": {
      "image/png": "[encoded data removed]",
      "text/plain": [
       "<Figure size 432x288 with 1 Axes>"
      ]
     },
     "metadata": {
      "needs_background": "light"
     },
     "output_type": "display_data"
    }
   ],
   "source": [
    "# sklearn ROC 패키지 제공\n",
    "fpr ,tpr, thresholds = metrics.roc_curve(test_y, pred_y, pos_label=1)\n",
    "\n",
    "# Print ROC curve\n",
    "plt.plot(fpr, tpr)\n",
    "\n",
    "# Print AUC\n",
    "auc = np.trapz(tpr,fpr)\n",
    "print('AUC:', auc)"
   ]
  },
  {
   "cell_type": "markdown",
   "metadata": {},
   "source": [
    "### 변수 선택법"
   ]
  },
  {
   "cell_type": "code",
   "execution_count": 78,
   "metadata": {},
   "outputs": [],
   "source": [
    "feature_columns = list(ploan_processed.columns.difference([\"Personal Loan\"]))\n",
    "X = ploan_processed[feature_columns]\n",
    "y = ploan_processed['Personal Loan']"
   ]
  },
  {
   "cell_type": "code",
   "execution_count": 79,
   "metadata": {},
   "outputs": [],
   "source": [
    "train_x, test_x, train_y, test_y = train_test_split(X, y, stratify=y, train_size=0.7, test_size=0.3, random_state=42)"
   ]
  },
  {
   "cell_type": "code",
   "execution_count": 85,
   "metadata": {},
   "outputs": [],
   "source": [
    " def processSubset(X, y, feature_set):\n",
    "    model = sm.OLS(y, X[list(feature_set)]) # Modeling\n",
    "    regr = model.fit() # 모델 학습\n",
    "    AIC = regr.aic # 모델의 AIC\n",
    "    return {\"model\" : regr, \"AIC\" : AIC}\n",
    "\n",
    "'''\n",
    "전진선택법\n",
    "'''\n",
    "\n",
    "def forward(X, y, predictors):\n",
    "    # 데이터 변수들이 미리 정의된 predictors에 있는지 없는지 확인 및 분류\n",
    "    remaining_predictors = [p for p in X.columns.difference(['const']) if p not in predictors]\n",
    "    tic = time.time()\n",
    "    results = []\n",
    "    for p in remaining_predictors:\n",
    "        results.append(processSubset(X=X, y=y, feature_set=predictors+[p]+['const']))\n",
    "    # 데이터 프레임으로 변환\n",
    "    models = pd.DataFrame(results)\n",
    "    \n",
    "    # AIC가 가장 낮은 것을 선택\n",
    "    best_model = models.loc[models['AIC'].argmin()] # index\n",
    "    toc = time.time() # 종료 시간\n",
    "    print('Processed', models.shape[0], 'models on', len(predictors)+1, 'predictors in', (toc - tic))\n",
    "    print('Selected predictors:', best_model['model'].model.exog_names, 'AIC:', best_model[0])\n",
    "    return best_model\n",
    "\n",
    "def forward_model(X,y):\n",
    "    Fmodels = pd.DataFrame(columns=['AIC', 'model'])\n",
    "    tic = time.time()\n",
    "    # 미리 정의된 데이터 변수\n",
    "    predictors = []\n",
    "    # 변수 1~10개 : 0~9 -> 1~10\n",
    "    for i in range(1, len(X.columns.difference(['const'])) + 1):\n",
    "        Forward_result = forward(X=X, y=y, predictors=predictors)\n",
    "        if i > 1:\n",
    "            if Forward_result['AIC'] > Fmodels_before:\n",
    "                break\n",
    "        Fmodels.loc[i] = Forward_result\n",
    "        predictors = Fmodels.loc[i]['model'].model.exog_names\n",
    "        Fmodels_before = Fmodels.loc[i]['AIC']\n",
    "        predictors = [k for k in predictors if k != 'const']\n",
    "    toc = time.time()\n",
    "    print('Total elapsed time:', (toc - tic), 'seconds.')\n",
    "    \n",
    "    return(Fmodels['model'][len(Fmodels['model'])])\n",
    "\n",
    "'''\n",
    "후진소거법\n",
    "'''\n",
    "def backward(X, y, predictors):\n",
    "    tic = time.time() # 시작시간\n",
    "    results = [] # 결과 저장공간\n",
    "    for combo in itertools.combinations(predictors, len(predictors) - 1): # 각 변수 조합을 고려한 경우의 수\n",
    "        results.append(processSubset(X=X, y=y, feature_set = list(combo)+['const']))\n",
    "    models=pd.DataFrame(results) # 데이터 프레임으로 변환\n",
    "    # 가장 낮은 AIC를 가지는 모델 선택 및 저장\n",
    "    best_model = models.loc[models['AIC'].argmin()] # index # AIC가 가장 낮은 모델\n",
    "    toc = time.time() # 종료 시간\n",
    "    print('Processed', models.shape[0], 'models on', len(predictors) - 1, 'predictors in', (toc - tic))\n",
    "    print('Selected predictors:', best_model['model'].model.exog_names, 'AIC:' ,best_model[0])\n",
    "    return best_model\n",
    "\n",
    "def backward_model(X, y):\n",
    "    Bmodels = pd.DataFrame(columns=['AIC', 'model'], index = range(1, len(X.columns)))\n",
    "    tic = time.time()\n",
    "    predictors = X.columns.difference(['const'])\n",
    "    Bmodel_before = processSubset(X, y, predictors)['AIC']\n",
    "    while (len(predictors) > 1):\n",
    "        Backward_result = backward(X=train_x, y=train_y, predictors = predictors)\n",
    "        if Backward_result['AIC'] > Bmodel_before:\n",
    "            break\n",
    "        Bmodels.loc[len(predictors)-1] = Backward_result\n",
    "        predictors = Bmodels.loc[len(predictors)-1]['model'].model.exog_names\n",
    "        Bmodel_before = Backward_result['AIC']\n",
    "        predictors = [k for k in predictors if k != 'const']\n",
    "        \n",
    "    toc = time.time()\n",
    "    print('Total elapsed time:', (toc - tic), 'Seconds.')\n",
    "    return(Bmodels['model'].dropna().iloc[0])\n",
    "\n",
    "'''\n",
    "단계적선택법\n",
    "'''\n",
    "def Stepwise_model(X, y):\n",
    "    Stepmodels = pd.DataFrame(columns=['AIC', 'model'])\n",
    "    tic = time.time()\n",
    "    predictors = []\n",
    "    Smodel_before = processSubset(X, y, predictors + ['const'])['AIC']\n",
    "    # 변수 1~10개 : 0~9 -> 1~10\n",
    "    for i in range(1, len(X.columns.difference(['const'])) + 1):\n",
    "        Forward_result = forward(X=X, y=y, predictors=predictors)\n",
    "        print('forward')\n",
    "        Stepmodels.loc[i] = Forward_result\n",
    "        predictors = Stepmodels.loc[i]['model'].model.exog_names\n",
    "        predictors = [k for k in predictors if k != 'const']\n",
    "        Backward_result = backward(X=X, y=y, predictors = predictors)\n",
    "        if Backward_result['AIC']<Forward_result['AIC']:\n",
    "            Stepmodels.loc[i] = Backward_result\n",
    "            predictors = Stepmodels.loc[i]['model'].model.exog_names\n",
    "            Smodel_before = Stepmodels.loc[i]['AIC']\n",
    "            predictors = [k for k in predictors if k != 'const']\n",
    "            print('backward')\n",
    "        if Stepmodels.loc[i]['AIC']>Smodel_before:\n",
    "            break\n",
    "        else:\n",
    "            Smodel_before = Stepmodels.loc[i]['AIC']\n",
    "    toc = time.time()\n",
    "    print('Total elapsed time:', (toc-tic), 'seconds.')\n",
    "    return(Stepmodels['model'][len(Stepmodels['model'])])"
   ]
  },
  {
   "cell_type": "code",
   "execution_count": 86,
   "metadata": {},
   "outputs": [
    {
     "name": "stdout",
     "output_type": "stream",
     "text": [
      "Processed 11 models on 1 predictors in 0.02805185317993164\n",
      "Selected predictors: ['Income', 'const'] AIC: <statsmodels.regression.linear_model.RegressionResultsWrapper object at 0x7fb990f801f0>\n",
      "Processed 10 models on 2 predictors in 0.015556097030639648\n",
      "Selected predictors: ['Income', 'CD Account', 'const'] AIC: <statsmodels.regression.linear_model.RegressionResultsWrapper object at 0x7fb990f80a00>\n",
      "Processed 9 models on 3 predictors in 0.013983964920043945\n",
      "Selected predictors: ['Income', 'CD Account', 'Education', 'const'] AIC: <statsmodels.regression.linear_model.RegressionResultsWrapper object at 0x7fb991619fa0>\n",
      "Processed 8 models on 4 predictors in 0.01125192642211914\n",
      "Selected predictors: ['Income', 'CD Account', 'Education', 'Family', 'const'] AIC: <statsmodels.regression.linear_model.RegressionResultsWrapper object at 0x7fb9603acf70>\n",
      "Processed 7 models on 5 predictors in 0.009875059127807617\n",
      "Selected predictors: ['Income', 'CD Account', 'Education', 'Family', 'CreditCard', 'const'] AIC: <statsmodels.regression.linear_model.RegressionResultsWrapper object at 0x7fb9915f9040>\n",
      "Processed 6 models on 6 predictors in 0.009444236755371094\n",
      "Selected predictors: ['Income', 'CD Account', 'Education', 'Family', 'CreditCard', 'Securities Account', 'const'] AIC: <statsmodels.regression.linear_model.RegressionResultsWrapper object at 0x7fb990f809a0>\n",
      "Processed 5 models on 7 predictors in 0.00689387321472168\n",
      "Selected predictors: ['Income', 'CD Account', 'Education', 'Family', 'CreditCard', 'Securities Account', 'CCAvg', 'const'] AIC: <statsmodels.regression.linear_model.RegressionResultsWrapper object at 0x7fb9915f9220>\n",
      "Processed 4 models on 8 predictors in 0.009247064590454102\n",
      "Selected predictors: ['Income', 'CD Account', 'Education', 'Family', 'CreditCard', 'Securities Account', 'CCAvg', 'Online', 'const'] AIC: <statsmodels.regression.linear_model.RegressionResultsWrapper object at 0x7fb990f808b0>\n",
      "Processed 3 models on 9 predictors in 0.008642196655273438\n",
      "Selected predictors: ['Income', 'CD Account', 'Education', 'Family', 'CreditCard', 'Securities Account', 'CCAvg', 'Online', 'Mortgage', 'const'] AIC: <statsmodels.regression.linear_model.RegressionResultsWrapper object at 0x7fb9912e84c0>\n",
      "Processed 2 models on 10 predictors in 0.004111766815185547\n",
      "Selected predictors: ['Income', 'CD Account', 'Education', 'Family', 'CreditCard', 'Securities Account', 'CCAvg', 'Online', 'Mortgage', 'Experience', 'const'] AIC: <statsmodels.regression.linear_model.RegressionResultsWrapper object at 0x7fb990f6c4c0>\n",
      "Total elapsed time: 0.13940787315368652 seconds.\n"
     ]
    }
   ],
   "source": [
    "Forward_best_model = forward_model(X=train_x, y=train_y)"
   ]
  },
  {
   "cell_type": "code",
   "execution_count": 87,
   "metadata": {},
   "outputs": [
    {
     "name": "stdout",
     "output_type": "stream",
     "text": [
      "Processed 11 models on 10 predictors in 0.03861689567565918\n",
      "Selected predictors: ['CCAvg', 'CD Account', 'CreditCard', 'Education', 'Experience', 'Family', 'Income', 'Mortgage', 'Online', 'Securities Account', 'const'] AIC: <statsmodels.regression.linear_model.RegressionResultsWrapper object at 0x7fb990f806a0>\n",
      "Processed 10 models on 9 predictors in 0.01883387565612793\n",
      "Selected predictors: ['CCAvg', 'CD Account', 'CreditCard', 'Education', 'Family', 'Income', 'Mortgage', 'Online', 'Securities Account', 'const'] AIC: <statsmodels.regression.linear_model.RegressionResultsWrapper object at 0x7fb991a7eb80>\n",
      "Processed 9 models on 8 predictors in 0.013358831405639648\n",
      "Selected predictors: ['CCAvg', 'CD Account', 'CreditCard', 'Education', 'Family', 'Income', 'Online', 'Securities Account', 'const'] AIC: <statsmodels.regression.linear_model.RegressionResultsWrapper object at 0x7fb984896160>\n",
      "Total elapsed time: 0.08801627159118652 Seconds.\n"
     ]
    }
   ],
   "source": [
    "Backward_best_model = backward_model(X=train_x, y=train_y)"
   ]
  },
  {
   "cell_type": "code",
   "execution_count": 89,
   "metadata": {},
   "outputs": [
    {
     "name": "stdout",
     "output_type": "stream",
     "text": [
      "Processed 11 models on 1 predictors in 0.024749040603637695\n",
      "Selected predictors: ['Income', 'const'] AIC: <statsmodels.regression.linear_model.RegressionResultsWrapper object at 0x7fb990f801f0>\n",
      "forward\n",
      "Processed 1 models on 0 predictors in 0.003120899200439453\n",
      "Selected predictors: ['const'] AIC: <statsmodels.regression.linear_model.RegressionResultsWrapper object at 0x7fb9914dd310>\n",
      "Processed 10 models on 2 predictors in 0.01747608184814453\n",
      "Selected predictors: ['Income', 'CD Account', 'const'] AIC: <statsmodels.regression.linear_model.RegressionResultsWrapper object at 0x7fb990f80370>\n",
      "forward\n",
      "Processed 2 models on 1 predictors in 0.004773139953613281\n",
      "Selected predictors: ['Income', 'const'] AIC: <statsmodels.regression.linear_model.RegressionResultsWrapper object at 0x7fb9603ac550>\n",
      "Processed 9 models on 3 predictors in 0.011451005935668945\n",
      "Selected predictors: ['Income', 'CD Account', 'Education', 'const'] AIC: <statsmodels.regression.linear_model.RegressionResultsWrapper object at 0x7fb990f80160>\n",
      "forward\n",
      "Processed 3 models on 2 predictors in 0.004855632781982422\n",
      "Selected predictors: ['Income', 'CD Account', 'const'] AIC: <statsmodels.regression.linear_model.RegressionResultsWrapper object at 0x7fb984896070>\n",
      "Processed 8 models on 4 predictors in 0.008691787719726562\n",
      "Selected predictors: ['Income', 'CD Account', 'Education', 'Family', 'const'] AIC: <statsmodels.regression.linear_model.RegressionResultsWrapper object at 0x7fb9a06372e0>\n",
      "forward\n",
      "Processed 4 models on 3 predictors in 0.005972862243652344\n",
      "Selected predictors: ['Income', 'CD Account', 'Education', 'const'] AIC: <statsmodels.regression.linear_model.RegressionResultsWrapper object at 0x7fb9603acac0>\n",
      "Processed 7 models on 5 predictors in 0.008600950241088867\n",
      "Selected predictors: ['Income', 'CD Account', 'Education', 'Family', 'CreditCard', 'const'] AIC: <statsmodels.regression.linear_model.RegressionResultsWrapper object at 0x7fb9912e8220>\n",
      "forward\n",
      "Processed 5 models on 4 predictors in 0.006221771240234375\n",
      "Selected predictors: ['Income', 'CD Account', 'Education', 'Family', 'const'] AIC: <statsmodels.regression.linear_model.RegressionResultsWrapper object at 0x7fb990f6c310>\n",
      "Processed 6 models on 6 predictors in 0.01116800308227539\n",
      "Selected predictors: ['Income', 'CD Account', 'Education', 'Family', 'CreditCard', 'Securities Account', 'const'] AIC: <statsmodels.regression.linear_model.RegressionResultsWrapper object at 0x7fb9916191c0>\n",
      "forward\n",
      "Processed 6 models on 5 predictors in 0.008338212966918945\n",
      "Selected predictors: ['Income', 'CD Account', 'Education', 'Family', 'CreditCard', 'const'] AIC: <statsmodels.regression.linear_model.RegressionResultsWrapper object at 0x7fb984896070>\n",
      "Processed 5 models on 7 predictors in 0.00862884521484375\n",
      "Selected predictors: ['Income', 'CD Account', 'Education', 'Family', 'CreditCard', 'Securities Account', 'CCAvg', 'const'] AIC: <statsmodels.regression.linear_model.RegressionResultsWrapper object at 0x7fb9915f9490>\n",
      "forward\n",
      "Processed 7 models on 6 predictors in 0.008682012557983398\n",
      "Selected predictors: ['Income', 'CD Account', 'Education', 'Family', 'CreditCard', 'Securities Account', 'const'] AIC: <statsmodels.regression.linear_model.RegressionResultsWrapper object at 0x7fb9603acc10>\n",
      "Processed 4 models on 8 predictors in 0.006193876266479492\n",
      "Selected predictors: ['Income', 'CD Account', 'Education', 'Family', 'CreditCard', 'Securities Account', 'CCAvg', 'Online', 'const'] AIC: <statsmodels.regression.linear_model.RegressionResultsWrapper object at 0x7fb990f80a60>\n",
      "forward\n",
      "Processed 8 models on 7 predictors in 0.014376163482666016\n",
      "Selected predictors: ['Income', 'CD Account', 'Education', 'Family', 'CreditCard', 'Securities Account', 'CCAvg', 'const'] AIC: <statsmodels.regression.linear_model.RegressionResultsWrapper object at 0x7fb9a0637340>\n",
      "Processed 3 models on 9 predictors in 0.0067288875579833984\n",
      "Selected predictors: ['Income', 'CD Account', 'Education', 'Family', 'CreditCard', 'Securities Account', 'CCAvg', 'Online', 'Mortgage', 'const'] AIC: <statsmodels.regression.linear_model.RegressionResultsWrapper object at 0x7fb991486c10>\n",
      "forward\n",
      "Processed 9 models on 8 predictors in 0.013031959533691406\n",
      "Selected predictors: ['Income', 'CD Account', 'Education', 'Family', 'CreditCard', 'Securities Account', 'CCAvg', 'Online', 'const'] AIC: <statsmodels.regression.linear_model.RegressionResultsWrapper object at 0x7fb984896280>\n",
      "Processed 2 models on 10 predictors in 0.004347085952758789\n",
      "Selected predictors: ['Income', 'CD Account', 'Education', 'Family', 'CreditCard', 'Securities Account', 'CCAvg', 'Online', 'Mortgage', 'Experience', 'const'] AIC: <statsmodels.regression.linear_model.RegressionResultsWrapper object at 0x7fb9915f9220>\n",
      "forward\n",
      "Processed 10 models on 9 predictors in 0.015964031219482422\n",
      "Selected predictors: ['Income', 'CD Account', 'Education', 'Family', 'CreditCard', 'Securities Account', 'CCAvg', 'Online', 'Mortgage', 'const'] AIC: <statsmodels.regression.linear_model.RegressionResultsWrapper object at 0x7fb9914dd430>\n",
      "backward\n",
      "Processed 2 models on 10 predictors in 0.004901885986328125\n",
      "Selected predictors: ['Income', 'CD Account', 'Education', 'Family', 'CreditCard', 'Securities Account', 'CCAvg', 'Online', 'Mortgage', 'Experience', 'const'] AIC: <statsmodels.regression.linear_model.RegressionResultsWrapper object at 0x7fb9918f1a90>\n",
      "forward\n",
      "Processed 10 models on 9 predictors in 0.024331092834472656\n",
      "Selected predictors: ['Income', 'CD Account', 'Education', 'Family', 'CreditCard', 'Securities Account', 'CCAvg', 'Online', 'Mortgage', 'const'] AIC: <statsmodels.regression.linear_model.RegressionResultsWrapper object at 0x7fb984896070>\n",
      "backward\n",
      "Total elapsed time: 0.25943708419799805 seconds.\n"
     ]
    }
   ],
   "source": [
    "Stepwise_best_model = Stepwise_model(X=train_x, y=train_y)"
   ]
  },
  {
   "cell_type": "code",
   "execution_count": 98,
   "metadata": {},
   "outputs": [],
   "source": [
    "# 모델에 의해 예측된/추정된 값 <=> test_y\n",
    "pred_y_full = result.predict(test_x)\n",
    "pred_y_forward = Forward_best_model.predict(test_x[Forward_best_model.model.exog_names])\n",
    "pred_y_backward = Backward_best_model.predict(test_x[Backward_best_model.model.exog_names])\n",
    "pred_y_stepwise = Stepwise_best_model.predict(test_x[Stepwise_best_model.model.exog_names])"
   ]
  },
  {
   "cell_type": "code",
   "execution_count": 99,
   "metadata": {},
   "outputs": [],
   "source": [
    "pred_Y_full = cut_off(pred_y_full, 0.5)\n",
    "pred_Y_forward = cut_off(pred_y_forward, 0.5)\n",
    "pred_Y_backward = cut_off(pred_y_backward, 0.5)\n",
    "pred_Y_stepwise = cut_off(pred_y_stepwise, 0.5)"
   ]
  },
  {
   "cell_type": "code",
   "execution_count": 100,
   "metadata": {},
   "outputs": [],
   "source": [
    "cfmat_full = confusion_matrix(test_y, pred_Y_full)\n",
    "cfmat_forward = confusion_matrix(test_y, pred_Y_forward)\n",
    "cfmat_backward = confusion_matrix(test_y, pred_Y_backward)\n",
    "cfmat_stepwise = confusion_matrix(test_y, pred_Y_stepwise)"
   ]
  },
  {
   "cell_type": "code",
   "execution_count": 101,
   "metadata": {},
   "outputs": [
    {
     "name": "stdout",
     "output_type": "stream",
     "text": [
      "0.9333333333333333\n",
      "0.9333333333333333\n",
      "0.9333333333333333\n",
      "0.9333333333333333\n"
     ]
    }
   ],
   "source": [
    "print(acc(cfmat_full))\n",
    "print(acc(cfmat_forward))\n",
    "print(acc(cfmat_backward))\n",
    "print(acc(cfmat_stepwise))"
   ]
  },
  {
   "cell_type": "markdown",
   "metadata": {},
   "source": [
    "- 값이 같게 나와 각 길이 확인"
   ]
  },
  {
   "cell_type": "code",
   "execution_count": 103,
   "metadata": {},
   "outputs": [
    {
     "name": "stdout",
     "output_type": "stream",
     "text": [
      "12\n",
      "10\n"
     ]
    }
   ],
   "source": [
    "print(len(result.model.exog_names))\n",
    "print(len(Forward_best_model.model.exog_names))"
   ]
  },
  {
   "cell_type": "code",
   "execution_count": 104,
   "metadata": {},
   "outputs": [
    {
     "name": "stdout",
     "output_type": "stream",
     "text": [
      "AUC: 0.9639257620452311\n"
     ]
    },
    {
     "data": {
      "image/png": "[encoded data removed]",
      "text/plain": [
       "<Figure size 432x288 with 1 Axes>"
      ]
     },
     "metadata": {
      "needs_background": "light"
     },
     "output_type": "display_data"
    }
   ],
   "source": [
    "# sklearn ROC 패키지 제공\n",
    "fpr ,tpr, thresholds = metrics.roc_curve(test_y, pred_y_full, pos_label=1)\n",
    "\n",
    "# Print ROC curve\n",
    "plt.plot(fpr, tpr)\n",
    "\n",
    "# Print AUC\n",
    "auc = np.trapz(tpr,fpr)\n",
    "print('AUC:', auc)"
   ]
  },
  {
   "cell_type": "code",
   "execution_count": 106,
   "metadata": {},
   "outputs": [
    {
     "name": "stdout",
     "output_type": "stream",
     "text": [
      "AUC: 0.9588403392330384\n"
     ]
    },
    {
     "data": {
      "image/png": "[encoded data removed]",
      "text/plain": [
       "<Figure size 432x288 with 1 Axes>"
      ]
     },
     "metadata": {
      "needs_background": "light"
     },
     "output_type": "display_data"
    }
   ],
   "source": [
    "# sklearn ROC 패키지 제공\n",
    "fpr ,tpr, thresholds = metrics.roc_curve(test_y, pred_y_forward, pos_label=1)\n",
    "\n",
    "# Print ROC curve\n",
    "plt.plot(fpr, tpr)\n",
    "\n",
    "# Print AUC\n",
    "auc = np.trapz(tpr,fpr)\n",
    "print('AUC:', auc)"
   ]
  },
  {
   "cell_type": "code",
   "execution_count": 107,
   "metadata": {},
   "outputs": [
    {
     "name": "stdout",
     "output_type": "stream",
     "text": [
      "AUC: 0.9588403392330384\n"
     ]
    },
    {
     "data": {
      "image/png": "[encoded data removed]",
      "text/plain": [
       "<Figure size 432x288 with 1 Axes>"
      ]
     },
     "metadata": {
      "needs_background": "light"
     },
     "output_type": "display_data"
    }
   ],
   "source": [
    "# sklearn ROC 패키지 제공\n",
    "fpr ,tpr, thresholds = metrics.roc_curve(test_y, pred_y_backward, pos_label=1)\n",
    "\n",
    "# Print ROC curve\n",
    "plt.plot(fpr, tpr)\n",
    "\n",
    "# Print AUC\n",
    "auc = np.trapz(tpr,fpr)\n",
    "print('AUC:', auc)"
   ]
  },
  {
   "cell_type": "code",
   "execution_count": 108,
   "metadata": {},
   "outputs": [
    {
     "name": "stdout",
     "output_type": "stream",
     "text": [
      "AUC: 0.9588403392330384\n"
     ]
    },
    {
     "data": {
      "image/png": "[encoded data removed]",
      "text/plain": [
       "<Figure size 432x288 with 1 Axes>"
      ]
     },
     "metadata": {
      "needs_background": "light"
     },
     "output_type": "display_data"
    }
   ],
   "source": [
    "\n",
    "# sklearn ROC 패키지 제공\n",
    "fpr ,tpr, thresholds = metrics.roc_curve(test_y, pred_y_stepwise, pos_label=1)\n",
    "\n",
    "# Print ROC curve\n",
    "plt.plot(fpr, tpr)\n",
    "\n",
    "# Print AUC\n",
    "auc = np.trapz(tpr,fpr)\n",
    "print('AUC:', auc)"
   ]
  },
  {
   "cell_type": "markdown",
   "metadata": {},
   "source": [
    "- 성능 면에서는 full 모델의 AUC가 가장 높아 적합한 모델이라 볼 수 있다."
   ]
  },
  {
   "cell_type": "code",
   "execution_count": null,
   "metadata": {},
   "outputs": [],
   "source": []
  }
 ],
 "metadata": {
  "kernelspec": {
   "display_name": "Python 3",
   "language": "python",
   "name": "python3"
  },
  "language_info": {
   "codemirror_mode": {
    "name": "ipython",
    "version": 3
   },
   "file_extension": ".py",
   "mimetype": "text/x-python",
   "name": "python",
   "nbconvert_exporter": "python",
   "pygments_lexer": "ipython3",
   "version": "3.8.5"
  }
 },
 "nbformat": 4,
 "nbformat_minor": 4
}
