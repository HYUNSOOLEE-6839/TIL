{
 "cells": [
  {
   "cell_type": "code",
   "execution_count": 66,
   "metadata": {},
   "outputs": [],
   "source": [
    "import os\n",
    "import sys\n",
    "import urllib.request\n",
    "import requests\n",
    "\n",
    "news_data = []\n",
    "page_count = 3\n",
    "\n",
    "client_id = \"B4MR1HUQS2l2Qwtvdyzx\"\n",
    "client_secret = '\n",
    "encText = urllib.parse.quote(\"날씨\") # 뭘 검색할 것인지\n",
    "\n",
    "for idx in range(page_count):\n",
    "    url = \"https://openapi.naver.com/v1/search/news?query=\" + encText + '&start=' + str(idx * 10 + 1) \n",
    "    # + '&start=' + str(idx * 10 + 1) 을 해주어 1, 11, 21번째 검색을 함 (다음 페이지)\n",
    "    # json 결과\n",
    "    # url = \"https://openapi.naver.com/v1/search/blog.xml?query=\" + encText # xml 결과\n",
    "\n",
    "\n",
    "    request = urllib.request.Request(url)\n",
    "    request.add_header(\"X-Naver-Client-Id\",client_id)\n",
    "    request.add_header(\"X-Naver-Client-Secret\",client_secret)\n",
    "    response = urllib.request.urlopen(request)\n",
    "    rescode = response.getcode()\n",
    "\n",
    "\n",
    "    if(rescode==200):\n",
    "    #    response_body = response.read()\n",
    "        result = requests.get(response.geturl(),\n",
    "                             headers={'X-Naver-Client-Id':client_id,\n",
    "                                     'X-Naver-Client-Secret':client_secret})\n",
    "        news_data.append(result.json())\n",
    "    # 처음에 만들어 뒀던 news_data에 dictionary 형태로 저장\n",
    "    # 결과는 출력되지 않음.\n",
    "    #    print(response_body.decode('utf-8'))\n",
    "    else:\n",
    "        print(\"Error Code:\" + rescode)"
   ]
  },
  {
   "cell_type": "code",
   "execution_count": 67,
   "metadata": {},
   "outputs": [
    {
     "name": "stdout",
     "output_type": "stream",
     "text": [
      "http://www.siminilbo.co.kr/news/newsview.php?ncode=1065587602542801\n"
     ]
    }
   ],
   "source": [
    "print(news_data[0]['items'][0]['link'])"
   ]
  },
  {
   "cell_type": "markdown",
   "metadata": {},
   "source": [
    "### 가져온 URL 네이버 뉴스인지 확인"
   ]
  },
  {
   "cell_type": "code",
   "execution_count": 68,
   "metadata": {},
   "outputs": [
    {
     "name": "stdout",
     "output_type": "stream",
     "text": [
      "3\n"
     ]
    }
   ],
   "source": [
    "# 페이지 별로 관리하는 코드\n",
    "naver_news_link = []\n",
    "\n",
    "for page in news_data:\n",
    "    \n",
    "\n",
    "    page_news_link = []\n",
    "\n",
    "    for item in page['items']:\n",
    "        link = item['link']\n",
    "    if 'naver' in link:\n",
    "        page_news_link.append(link)\n",
    "\n",
    "    naver_news_link.append(page_news_link)\n",
    "    \n",
    "print(len(naver_news_link))"
   ]
  },
  {
   "cell_type": "code",
   "execution_count": 69,
   "metadata": {},
   "outputs": [
    {
     "name": "stdout",
     "output_type": "stream",
     "text": [
      "https://news.naver.com/main/read.nhn?mode=LSD&mid=sec&sid1=103&oid=422&aid=0000477738\n",
      "https://news.naver.com/main/read.nhn?mode=LSD&mid=sec&sid1=103&oid=468&aid=0000755469\n",
      "https://news.naver.com/main/read.nhn?mode=LSD&mid=sec&sid1=103&oid=052&aid=0001567837\n",
      "https://news.naver.com/main/read.nhn?mode=LSD&mid=sec&sid1=106&oid=311&aid=0001280437\n",
      "https://news.naver.com/main/read.nhn?mode=LSD&mid=sec&sid1=103&oid=422&aid=0000477732\n",
      "https://sports.news.naver.com/news.nhn?oid=109&aid=0004376114\n",
      "https://news.naver.com/main/read.nhn?mode=LSD&mid=sec&sid1=102&oid=421&aid=0005249417\n",
      "https://news.naver.com/main/read.nhn?mode=LSD&mid=sec&sid1=102&oid=421&aid=0005249409\n",
      "https://news.naver.com/main/read.nhn?mode=LSD&mid=sec&sid1=103&oid=057&aid=0001562242\n",
      "https://news.naver.com/main/read.nhn?mode=LSD&mid=sec&sid1=101&oid=417&aid=0000674540\n",
      "https://news.naver.com/main/read.nhn?mode=LSD&mid=sec&sid1=102&oid=422&aid=0000477726\n",
      "https://sports.news.naver.com/news.nhn?oid=108&aid=0002942669\n",
      "https://news.naver.com/main/read.nhn?mode=LSD&mid=sec&sid1=103&oid=056&aid=0011014660\n",
      "https://news.naver.com/main/read.nhn?mode=LSD&mid=sec&sid1=103&oid=055&aid=0000883677\n",
      "https://news.naver.com/main/read.nhn?mode=LSD&mid=sec&sid1=102&oid=437&aid=0000262454\n",
      "https://news.naver.com/main/read.nhn?mode=LSD&mid=sec&sid1=103&oid=052&aid=0001567827\n",
      "https://news.naver.com/main/read.nhn?mode=LSD&mid=sec&sid1=102&oid=052&aid=0001567825\n"
     ]
    }
   ],
   "source": [
    "# 페이지 별로 관리하는 코드\n",
    "naver_news_link = []\n",
    "\n",
    "for page in news_data:\n",
    "    \n",
    "\n",
    "    page_news_link = []\n",
    "\n",
    "    for item in page['items']:\n",
    "        link = item['link']\n",
    "        if 'naver' in link:\n",
    "            page_news_link.append(link)\n",
    "\n",
    "    naver_news_link.append(page_news_link)\n",
    "    \n",
    "for page in naver_news_link:\n",
    "    for link in page:\n",
    "        print(link)"
   ]
  },
  {
   "cell_type": "code",
   "execution_count": 70,
   "metadata": {},
   "outputs": [],
   "source": [
    "import pandas as pd\n",
    "import numpy as np\n",
    "from selenium import webdriver\n",
    "from tqdm import tqdm_notebook\n",
    "import requests\n",
    "import pickle\n",
    "import re\n",
    "import ast\n",
    "\n",
    "from bs4 import BeautifulSoup\n",
    "from urllib.request import urlopen\n",
    "import urllib\n",
    "import time"
   ]
  },
  {
   "cell_type": "code",
   "execution_count": 71,
   "metadata": {},
   "outputs": [],
   "source": [
    "# 가상 크롬드라이버 불러오기\n",
    "driver = webdriver.Chrome(\"../driver/chromedriver\")"
   ]
  },
  {
   "cell_type": "code",
   "execution_count": 72,
   "metadata": {},
   "outputs": [
    {
     "name": "stderr",
     "output_type": "stream",
     "text": [
      "<ipython-input-72-7e77c4a8a44b>:4: TqdmDeprecationWarning: This function will be removed in tqdm==5.0.0\n",
      "Please use `tqdm.notebook.tqdm` instead of `tqdm.tqdm_notebook`\n",
      "  for n in tqdm_notebook(range(len(naver_news_link))):\n"
     ]
    },
    {
     "data": {
      "application/vnd.jupyter.widget-view+json": {
       "model_id": "90d940a7a97548dcbf2b8a09bed19385",
       "version_major": 2,
       "version_minor": 0
      },
      "text/plain": [
       "HBox(children=(HTML(value=''), FloatProgress(value=0.0, max=3.0), HTML(value='')))"
      ]
     },
     "metadata": {},
     "output_type": "display_data"
    },
    {
     "name": "stderr",
     "output_type": "stream",
     "text": [
      "<ipython-input-72-7e77c4a8a44b>:8: TqdmDeprecationWarning: This function will be removed in tqdm==5.0.0\n",
      "Please use `tqdm.notebook.tqdm` instead of `tqdm.tqdm_notebook`\n",
      "  for idx in tqdm_notebook(range(len(naver_news_link[n]))):\n"
     ]
    },
    {
     "data": {
      "application/vnd.jupyter.widget-view+json": {
       "model_id": "a2559ca364e343558c961962d2652cf1",
       "version_major": 2,
       "version_minor": 0
      },
      "text/plain": [
       "HBox(children=(HTML(value=''), FloatProgress(value=0.0, max=7.0), HTML(value='')))"
      ]
     },
     "metadata": {},
     "output_type": "display_data"
    },
    {
     "name": "stdout",
     "output_type": "stream",
     "text": [
      "https://news.naver.com/main/read.nhn?mode=LSD&mid=sec&sid1=103&oid=422&aid=0000477738\n",
      "https://news.naver.com/main/read.nhn?mode=LSD&mid=sec&sid1=103&oid=468&aid=0000755469\n",
      "https://news.naver.com/main/read.nhn?mode=LSD&mid=sec&sid1=103&oid=052&aid=0001567837\n",
      "https://news.naver.com/main/read.nhn?mode=LSD&mid=sec&sid1=106&oid=311&aid=0001280437\n",
      "https://news.naver.com/main/read.nhn?mode=LSD&mid=sec&sid1=103&oid=422&aid=0000477732\n",
      "https://sports.news.naver.com/news.nhn?oid=109&aid=0004376114\n",
      "https://news.naver.com/main/read.nhn?mode=LSD&mid=sec&sid1=102&oid=421&aid=0005249417\n",
      "\n"
     ]
    },
    {
     "data": {
      "application/vnd.jupyter.widget-view+json": {
       "model_id": "9c1eb801e1f9466cad9bbd7e295ac85a",
       "version_major": 2,
       "version_minor": 0
      },
      "text/plain": [
       "HBox(children=(HTML(value=''), FloatProgress(value=0.0, max=3.0), HTML(value='')))"
      ]
     },
     "metadata": {},
     "output_type": "display_data"
    },
    {
     "name": "stdout",
     "output_type": "stream",
     "text": [
      "https://news.naver.com/main/read.nhn?mode=LSD&mid=sec&sid1=102&oid=421&aid=0005249409\n",
      "https://news.naver.com/main/read.nhn?mode=LSD&mid=sec&sid1=103&oid=057&aid=0001562242\n",
      "https://news.naver.com/main/read.nhn?mode=LSD&mid=sec&sid1=101&oid=417&aid=0000674540\n",
      "\n"
     ]
    },
    {
     "data": {
      "application/vnd.jupyter.widget-view+json": {
       "model_id": "6bceade95a7740f98204cc2a3aed9849",
       "version_major": 2,
       "version_minor": 0
      },
      "text/plain": [
       "HBox(children=(HTML(value=''), FloatProgress(value=0.0, max=7.0), HTML(value='')))"
      ]
     },
     "metadata": {},
     "output_type": "display_data"
    },
    {
     "name": "stdout",
     "output_type": "stream",
     "text": [
      "https://news.naver.com/main/read.nhn?mode=LSD&mid=sec&sid1=102&oid=422&aid=0000477726\n",
      "https://sports.news.naver.com/news.nhn?oid=108&aid=0002942669\n",
      "https://news.naver.com/main/read.nhn?mode=LSD&mid=sec&sid1=103&oid=056&aid=0011014660\n",
      "https://news.naver.com/main/read.nhn?mode=LSD&mid=sec&sid1=103&oid=055&aid=0000883677\n",
      "https://news.naver.com/main/read.nhn?mode=LSD&mid=sec&sid1=102&oid=437&aid=0000262454\n",
      "https://news.naver.com/main/read.nhn?mode=LSD&mid=sec&sid1=103&oid=052&aid=0001567827\n",
      "https://news.naver.com/main/read.nhn?mode=LSD&mid=sec&sid1=102&oid=052&aid=0001567825\n",
      "\n",
      "\n",
      "['[날씨] 주말 전국 봄비…해안가 강한 바람 주의', '[오늘 날씨] 오후부터 전국 비…밤엔 돌풍·천둥·번개', \"[날씨] 오늘 전국에 봄비...제주 산간 '호우주의보'\", 'OUTLINK', '[날씨] 주말 전국 비…해안가 강풍 주의', 'OUTLINK', '아산서 유치원생 4명 확진…교사에게 감염 추정']\n",
      "============================\n",
      "['OUTLINK', 'OUTLINK', 'OUTLINK', 'OUTLINK', 'OUTLINK']\n"
     ]
    }
   ],
   "source": [
    "naver_news_title = []\n",
    "naver_news_content = []\n",
    "\n",
    "for n in tqdm_notebook(range(len(naver_news_link))):\n",
    "    news_page_title = []\n",
    "    news_page_content = []\n",
    "    \n",
    "    for idx in tqdm_notebook(range(len(naver_news_link[n]))):\n",
    "        \n",
    "        # 긁어온 URL로 접속하기\n",
    "        try:\n",
    "            driver.get(naver_news_link[n][idx])\n",
    "            print(naver_news_link[n][idx])\n",
    "            \n",
    "        except:\n",
    "            print('Timeout!')\n",
    "            continue\n",
    "            \n",
    "        try:\n",
    "            response = driver.page_source\n",
    "            \n",
    "        except UnexpectedAlertPresentException:\n",
    "            driver.switch_to_alert().accept()\n",
    "            print('게시글이 삭제된 경우입니다.')\n",
    "            continue\n",
    "            \n",
    "        soup = BeautifulSoup(response, 'html.parser')\n",
    "        \n",
    "        # 뉴스 타이틀 긁어오기\n",
    "        \n",
    "        title = None\n",
    "        \n",
    "        try:\n",
    "            item = soup.find('div', class_='article_info')\n",
    "            title = item.find('h3', class_='tts_head').get_text()\n",
    "            \n",
    "        except:\n",
    "            title = 'OUTLINK'\n",
    "            \n",
    "        news_page_title.append(title)\n",
    "        \n",
    "        # 뉴스 본문 긁어오기\n",
    "        \n",
    "        doc = None\n",
    "        text = \"\"\n",
    "        \n",
    "        data = soup.find_all('div', {'class' : '_article_body_contents'})\n",
    "        if data:\n",
    "            for item in data:\n",
    "                \n",
    "                text = text + str(item.find_all(text=True)).strip() \n",
    "                # 본문 데이터 item의 텍스트인 애들만 str로 바꿔서 공백을 지우고 이어붙이기\n",
    "                text = ast.literal_eval(text) \n",
    "                doc = ' '.join(text)\n",
    "                \n",
    "            else:\n",
    "                doc = 'OUTLINK'\n",
    "                \n",
    "            news_page_content.append(doc.replace('\\n', ' '))\n",
    "            \n",
    "        naver_news_title.append(news_page_title)\n",
    "        naver_news_content.append(news_page_content)\n",
    "        \n",
    "        time.sleep(2)\n",
    "        \n",
    "print(naver_news_title[0])\n",
    "print('============================')\n",
    "print(naver_news_content[0])"
   ]
  },
  {
   "cell_type": "markdown",
   "metadata": {},
   "source": [
    "### 크롤링 결과 확인하기"
   ]
  },
  {
   "cell_type": "code",
   "execution_count": 73,
   "metadata": {},
   "outputs": [
    {
     "name": "stdout",
     "output_type": "stream",
     "text": [
      "7\n",
      "5\n"
     ]
    }
   ],
   "source": [
    "print(len(naver_news_title[0]))\n",
    "print(len(naver_news_content[0]))"
   ]
  },
  {
   "cell_type": "markdown",
   "metadata": {},
   "source": [
    "### 크롤링 결과 저장하기"
   ]
  },
  {
   "cell_type": "code",
   "execution_count": 74,
   "metadata": {},
   "outputs": [],
   "source": [
    "with open(\"naver_news_title.pk\", \"wb\") as f:\n",
    "    pickle.dump(naver_news_title, f)\n",
    "    \n",
    "with open(\"naver_news_content.pk\", \"wb\") as f:\n",
    "    pickle.dump(naver_news_content, f)"
   ]
  },
  {
   "cell_type": "code",
   "execution_count": null,
   "metadata": {},
   "outputs": [],
   "source": []
  }
 ],
 "metadata": {
  "kernelspec": {
   "display_name": "Python 3",
   "language": "python",
   "name": "python3"
  },
  "language_info": {
   "codemirror_mode": {
    "name": "ipython",
    "version": 3
   },
   "file_extension": ".py",
   "mimetype": "text/x-python",
   "name": "python",
   "nbconvert_exporter": "python",
   "pygments_lexer": "ipython3",
   "version": "3.8.5"
  }
 },
 "nbformat": 4,
 "nbformat_minor": 4
}
