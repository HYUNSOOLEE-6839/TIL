{
 "cells": [
  {
   "cell_type": "markdown",
   "id": "coastal-greek",
   "metadata": {},
   "source": [
    "# For 반복문\n",
    "- for 카운터변수 in range(반복횟수): 반복해서 실행할 명령"
   ]
  },
  {
   "cell_type": "code",
   "execution_count": 1,
   "id": "quiet-diving",
   "metadata": {},
   "outputs": [
    {
     "name": "stdout",
     "output_type": "stream",
     "text": [
      "1\n",
      "1\n",
      "1\n",
      "1\n",
      "1\n"
     ]
    }
   ],
   "source": [
    "for i in range(5):\n",
    "    print(1)"
   ]
  },
  {
   "cell_type": "code",
   "execution_count": 2,
   "id": "outstanding-bundle",
   "metadata": {},
   "outputs": [
    {
     "name": "stdout",
     "output_type": "stream",
     "text": [
      "0\n",
      "1\n",
      "2\n",
      "3\n",
      "4\n"
     ]
    }
   ],
   "source": [
    "for i in range(5):\n",
    "    print(i)"
   ]
  },
  {
   "cell_type": "code",
   "execution_count": 3,
   "id": "wired-france",
   "metadata": {},
   "outputs": [
    {
     "name": "stdout",
     "output_type": "stream",
     "text": [
      "-0-\n",
      "-1-\n",
      "-2-\n",
      "-3-\n",
      "-4-\n"
     ]
    }
   ],
   "source": [
    "for i in range(5):\n",
    "    print('-' + str(i) + '-')"
   ]
  },
  {
   "cell_type": "code",
   "execution_count": 5,
   "id": "fantastic-drove",
   "metadata": {},
   "outputs": [
    {
     "name": "stdout",
     "output_type": "stream",
     "text": [
      "-1-\n",
      "-2-\n",
      "-3-\n",
      "-4-\n",
      "-5-\n"
     ]
    }
   ],
   "source": [
    "for i in range(5):\n",
    "    print('-' + str(i+1) + '-')"
   ]
  },
  {
   "cell_type": "code",
   "execution_count": 30,
   "id": "early-maine",
   "metadata": {},
   "outputs": [
    {
     "name": "stdout",
     "output_type": "stream",
     "text": [
      "*0\n",
      "**1\n",
      "***2\n",
      "****3\n",
      "*****4\n",
      "******5\n",
      "*******6\n",
      "********7\n",
      "*********8\n",
      "**********9\n"
     ]
    }
   ],
   "source": [
    "for i in range(10):\n",
    "    for k in range(i+1):\n",
    "        if k<=i:\n",
    "            print('*', end='', sep=' ')\n",
    "    print(i)"
   ]
  },
  {
   "cell_type": "code",
   "execution_count": 42,
   "id": "heavy-keeping",
   "metadata": {},
   "outputs": [
    {
     "name": "stdout",
     "output_type": "stream",
     "text": [
      "*****\n",
      "****\n",
      "***\n",
      "**\n",
      "*\n"
     ]
    }
   ],
   "source": [
    "for i in range(5):\n",
    "    for k in range(5-i):\n",
    "        print('*', end='', sep='')\n",
    "    print()"
   ]
  },
  {
   "cell_type": "markdown",
   "id": "graduate-evening",
   "metadata": {},
   "source": [
    "### 중첩 for 반복문"
   ]
  },
  {
   "cell_type": "code",
   "execution_count": 44,
   "id": "structured-montgomery",
   "metadata": {},
   "outputs": [
    {
     "name": "stdout",
     "output_type": "stream",
     "text": [
      "0123\n",
      "1234\n",
      "2345\n",
      "3456\n"
     ]
    }
   ],
   "source": [
    "for i in range(4):\n",
    "    for j in range(4):\n",
    "        print(i + j, end = \"\")\n",
    "    print()"
   ]
  },
  {
   "cell_type": "markdown",
   "id": "failing-suffering",
   "metadata": {},
   "source": [
    "- 주사위를 두 번 던져서 나온 숫자"
   ]
  },
  {
   "cell_type": "code",
   "execution_count": 45,
   "id": "ordinary-document",
   "metadata": {},
   "outputs": [
    {
     "name": "stdout",
     "output_type": "stream",
     "text": [
      "1 1\n",
      "1 2\n",
      "1 3\n",
      "1 4\n",
      "1 5\n",
      "1 6\n",
      "2 1\n",
      "2 2\n",
      "2 3\n",
      "2 4\n",
      "2 5\n",
      "2 6\n",
      "3 1\n",
      "3 2\n",
      "3 3\n",
      "3 4\n",
      "3 5\n",
      "3 6\n",
      "4 1\n",
      "4 2\n",
      "4 3\n",
      "4 4\n",
      "4 5\n",
      "4 6\n",
      "5 1\n",
      "5 2\n",
      "5 3\n",
      "5 4\n",
      "5 5\n",
      "5 6\n",
      "6 1\n",
      "6 2\n",
      "6 3\n",
      "6 4\n",
      "6 5\n",
      "6 6\n"
     ]
    }
   ],
   "source": [
    "for i in range(6):\n",
    "    n1 = i + 1\n",
    "    for j in range(6):\n",
    "        n2 = j + 1\n",
    "        print(n1, n2)"
   ]
  },
  {
   "cell_type": "markdown",
   "id": "concrete-paintball",
   "metadata": {},
   "source": [
    "- 주사위를 두 번 던져서 나온 숫자들의 합이 4의 배수가 되는 경우"
   ]
  },
  {
   "cell_type": "code",
   "execution_count": 46,
   "id": "aboriginal-popularity",
   "metadata": {},
   "outputs": [
    {
     "name": "stdout",
     "output_type": "stream",
     "text": [
      "1 3\n",
      "2 2\n",
      "2 6\n",
      "3 1\n",
      "3 5\n",
      "4 4\n",
      "5 3\n",
      "6 2\n",
      "6 6\n"
     ]
    }
   ],
   "source": [
    "for i in range(6):\n",
    "    n1 = i + 1\n",
    "    for j in range(6):\n",
    "        n2 = j + 1\n",
    "        n = n1 + n2\n",
    "        if n % 4 == 0:\n",
    "            print(n1, n2)"
   ]
  },
  {
   "cell_type": "markdown",
   "id": "atmospheric-dispatch",
   "metadata": {},
   "source": [
    "### 카운터 변수가 변하는 경우"
   ]
  },
  {
   "cell_type": "code",
   "execution_count": 49,
   "id": "forced-entrepreneur",
   "metadata": {},
   "outputs": [
    {
     "name": "stdout",
     "output_type": "stream",
     "text": [
      "15\n"
     ]
    }
   ],
   "source": [
    "# 1부터 5까지의 합\n",
    "n = 5\n",
    "\n",
    "sum = 0\n",
    "for i in range(n):\n",
    "    sum = sum + (i+1)\n",
    "print(sum)"
   ]
  },
  {
   "cell_type": "code",
   "execution_count": 50,
   "id": "hidden-durham",
   "metadata": {},
   "outputs": [
    {
     "name": "stdout",
     "output_type": "stream",
     "text": [
      "1\n",
      "3\n",
      "6\n",
      "10\n",
      "15\n",
      "21\n",
      "28\n",
      "36\n",
      "45\n",
      "55\n"
     ]
    }
   ],
   "source": [
    "# 1부터 10까지의 합\n",
    "for j in range(10):\n",
    "    sum = 0\n",
    "    for i in range(j + 1):\n",
    "        sum = sum + (i + 1)\n",
    "    print(sum)"
   ]
  },
  {
   "cell_type": "code",
   "execution_count": 55,
   "id": "overhead-trout",
   "metadata": {},
   "outputs": [
    {
     "name": "stdout",
     "output_type": "stream",
     "text": [
      "1\n",
      "4\n",
      "10\n",
      "20\n",
      "35\n",
      "56\n",
      "84\n",
      "120\n",
      "165\n",
      "220\n"
     ]
    }
   ],
   "source": [
    "# 수열 구하기\n",
    "for j in range(10):\n",
    "    sum = 0\n",
    "    for i in range(j + 1):\n",
    "        sum = sum + (i + 1)\n",
    "        for k in range(i + 1):\n",
    "            sum = sum + k\n",
    "    print(sum)"
   ]
  },
  {
   "cell_type": "code",
   "execution_count": null,
   "id": "included-ethnic",
   "metadata": {},
   "outputs": [],
   "source": []
  }
 ],
 "metadata": {
  "kernelspec": {
   "display_name": "Python 3",
   "language": "python",
   "name": "python3"
  },
  "language_info": {
   "codemirror_mode": {
    "name": "ipython",
    "version": 3
   },
   "file_extension": ".py",
   "mimetype": "text/x-python",
   "name": "python",
   "nbconvert_exporter": "python",
   "pygments_lexer": "ipython3",
   "version": "3.8.5"
  }
 },
 "nbformat": 4,
 "nbformat_minor": 5
}
