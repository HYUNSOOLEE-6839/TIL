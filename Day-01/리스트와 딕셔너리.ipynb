{
 "cells": [
  {
   "cell_type": "markdown",
   "id": "roman-farmer",
   "metadata": {},
   "source": [
    "# 여러 개의 자료를 한 변수에 담기\n",
    "- 여러 개의 자료가 순서가 있을 때는 list 사용\n",
    "- 여러 개의 자료가 이름이 있을 때는 dictionary 사용"
   ]
  },
  {
   "cell_type": "markdown",
   "id": "registered-klein",
   "metadata": {},
   "source": [
    "### 자료의 순서만 가지는 리스트 자료형\n",
    "- 리스트변수 = [자료1, 자료2, 자료3]"
   ]
  },
  {
   "cell_type": "code",
   "execution_count": 1,
   "id": "extra-purchase",
   "metadata": {},
   "outputs": [
    {
     "data": {
      "text/plain": [
       "[88, 90, 100]"
      ]
     },
     "execution_count": 1,
     "metadata": {},
     "output_type": "execute_result"
    }
   ],
   "source": [
    "x = [88, 90, 100]\n",
    "x"
   ]
  },
  {
   "cell_type": "markdown",
   "id": "interior-garlic",
   "metadata": {},
   "source": [
    "### 인덱싱\n",
    "- 리스트변수[인덱스]"
   ]
  },
  {
   "cell_type": "code",
   "execution_count": 2,
   "id": "brown-chase",
   "metadata": {},
   "outputs": [
    {
     "data": {
      "text/plain": [
       "88"
      ]
     },
     "execution_count": 2,
     "metadata": {},
     "output_type": "execute_result"
    }
   ],
   "source": [
    "x[0]"
   ]
  },
  {
   "cell_type": "code",
   "execution_count": 3,
   "id": "stopped-grass",
   "metadata": {},
   "outputs": [
    {
     "data": {
      "text/plain": [
       "89.0"
      ]
     },
     "execution_count": 3,
     "metadata": {},
     "output_type": "execute_result"
    }
   ],
   "source": [
    "(x[0] + x[1]) / 2"
   ]
  },
  {
   "cell_type": "code",
   "execution_count": 11,
   "id": "disturbed-agenda",
   "metadata": {},
   "outputs": [],
   "source": [
    "score = [77, 89, 65, 93, 97]"
   ]
  },
  {
   "cell_type": "code",
   "execution_count": 22,
   "id": "listed-rotation",
   "metadata": {},
   "outputs": [
    {
     "data": {
      "text/plain": [
       "84.2"
      ]
     },
     "execution_count": 22,
     "metadata": {},
     "output_type": "execute_result"
    }
   ],
   "source": [
    "sum(score) / 5"
   ]
  },
  {
   "cell_type": "markdown",
   "id": "approved-circulation",
   "metadata": {},
   "source": [
    "### 자료의 이름만 가지는 딕셔너리 자료형\n",
    "- 딕셔너리변수 = {자료이름1: 자료값1, 자료이름2: 자료값2, 자료이름3: 자료값3}\n",
    "- 자료이름 : 키(key) / 자료값 : 값(value)"
   ]
  },
  {
   "cell_type": "code",
   "execution_count": 23,
   "id": "informational-newton",
   "metadata": {},
   "outputs": [
    {
     "data": {
      "text/plain": [
       "{'math': 88, 'english': 90, 'history': 100}"
      ]
     },
     "execution_count": 23,
     "metadata": {},
     "output_type": "execute_result"
    }
   ],
   "source": [
    "b = {\"math\": 88, \"english\": 90, \"history\": 100}\n",
    "b"
   ]
  },
  {
   "cell_type": "code",
   "execution_count": 26,
   "id": "immediate-coalition",
   "metadata": {},
   "outputs": [
    {
     "data": {
      "text/plain": [
       "89.0"
      ]
     },
     "execution_count": 26,
     "metadata": {},
     "output_type": "execute_result"
    }
   ],
   "source": [
    "(b['math'] + b['english'])/2"
   ]
  },
  {
   "cell_type": "markdown",
   "id": "mature-future",
   "metadata": {},
   "source": [
    "### 리스트와 딕셔너리에 들어가는 자료의 자료형"
   ]
  },
  {
   "cell_type": "code",
   "execution_count": 28,
   "id": "blocked-services",
   "metadata": {},
   "outputs": [
    {
     "data": {
      "text/plain": [
       "[1, 3.14, 'pi']"
      ]
     },
     "execution_count": 28,
     "metadata": {},
     "output_type": "execute_result"
    }
   ],
   "source": [
    "d = [1, 3.14, 'pi']\n",
    "d[0:3]"
   ]
  },
  {
   "cell_type": "code",
   "execution_count": 30,
   "id": "spatial-intersection",
   "metadata": {},
   "outputs": [
    {
     "data": {
      "text/plain": [
       "20"
      ]
     },
     "execution_count": 30,
     "metadata": {},
     "output_type": "execute_result"
    }
   ],
   "source": [
    "e = [[1,10], [2,20]]\n",
    "e[1][1]"
   ]
  },
  {
   "cell_type": "code",
   "execution_count": 31,
   "id": "tamil-strike",
   "metadata": {},
   "outputs": [
    {
     "data": {
      "text/plain": [
       "{0: 0, 1: 10}"
      ]
     },
     "execution_count": 31,
     "metadata": {},
     "output_type": "execute_result"
    }
   ],
   "source": [
    "f = [{0: 0, 1: 10}, {0: 1, 1: 2}]\n",
    "f[0]"
   ]
  },
  {
   "cell_type": "markdown",
   "id": "configured-accent",
   "metadata": {},
   "source": [
    "### 자료의 개수"
   ]
  },
  {
   "cell_type": "code",
   "execution_count": 32,
   "id": "parliamentary-copyright",
   "metadata": {},
   "outputs": [
    {
     "data": {
      "text/plain": [
       "3"
      ]
     },
     "execution_count": 32,
     "metadata": {},
     "output_type": "execute_result"
    }
   ],
   "source": [
    "a = [1, 2, 3]\n",
    "len(a)"
   ]
  },
  {
   "cell_type": "markdown",
   "id": "egyptian-luxury",
   "metadata": {},
   "source": [
    "### 수열 생성하기"
   ]
  },
  {
   "cell_type": "code",
   "execution_count": 33,
   "id": "neither-creature",
   "metadata": {},
   "outputs": [
    {
     "data": {
      "text/plain": [
       "[0, 1, 2, 3, 4, 5, 6, 7, 8, 9]"
      ]
     },
     "execution_count": 33,
     "metadata": {},
     "output_type": "execute_result"
    }
   ],
   "source": [
    "b = list(range(10))\n",
    "b"
   ]
  },
  {
   "cell_type": "code",
   "execution_count": 34,
   "id": "familiar-seventh",
   "metadata": {},
   "outputs": [
    {
     "data": {
      "text/plain": [
       "[1, 2, 3, 4, 5, 6, 7, 8, 9]"
      ]
     },
     "execution_count": 34,
     "metadata": {},
     "output_type": "execute_result"
    }
   ],
   "source": [
    "b = list(range(1, 10))\n",
    "b"
   ]
  },
  {
   "cell_type": "code",
   "execution_count": 35,
   "id": "monthly-optimum",
   "metadata": {},
   "outputs": [
    {
     "data": {
      "text/plain": [
       "[1, 4, 7]"
      ]
     },
     "execution_count": 35,
     "metadata": {},
     "output_type": "execute_result"
    }
   ],
   "source": [
    "# 3씩 증가하는 수열\n",
    "b = list(range(1, 10, 3))\n",
    "b"
   ]
  },
  {
   "cell_type": "markdown",
   "id": "addressed-aviation",
   "metadata": {},
   "source": [
    "### 값을 바꾸기"
   ]
  },
  {
   "cell_type": "code",
   "execution_count": 37,
   "id": "tired-variation",
   "metadata": {},
   "outputs": [
    {
     "data": {
      "text/plain": [
       "[100, 4, 7]"
      ]
     },
     "execution_count": 37,
     "metadata": {},
     "output_type": "execute_result"
    }
   ],
   "source": [
    "b[0] = 100\n",
    "b"
   ]
  },
  {
   "cell_type": "markdown",
   "id": "final-cameroon",
   "metadata": {},
   "source": [
    "### 자료 추가하기"
   ]
  },
  {
   "cell_type": "code",
   "execution_count": 38,
   "id": "protecting-joshua",
   "metadata": {},
   "outputs": [
    {
     "data": {
      "text/plain": [
       "[100, 4, 7, 4]"
      ]
     },
     "execution_count": 38,
     "metadata": {},
     "output_type": "execute_result"
    }
   ],
   "source": [
    "b.append(4)\n",
    "b"
   ]
  },
  {
   "cell_type": "markdown",
   "id": "falling-bacteria",
   "metadata": {},
   "source": [
    "### 슬라이싱"
   ]
  },
  {
   "cell_type": "code",
   "execution_count": 40,
   "id": "cellular-programmer",
   "metadata": {},
   "outputs": [
    {
     "data": {
      "text/plain": [
       "[0, 1, 2, 3, 4]"
      ]
     },
     "execution_count": 40,
     "metadata": {},
     "output_type": "execute_result"
    }
   ],
   "source": [
    "g = list(range(10))\n",
    "g[:5]"
   ]
  },
  {
   "cell_type": "code",
   "execution_count": 41,
   "id": "yellow-locator",
   "metadata": {},
   "outputs": [
    {
     "data": {
      "text/plain": [
       "[5, 6, 7, 8, 9]"
      ]
     },
     "execution_count": 41,
     "metadata": {},
     "output_type": "execute_result"
    }
   ],
   "source": [
    "g[5:]"
   ]
  },
  {
   "cell_type": "code",
   "execution_count": 47,
   "id": "designing-deputy",
   "metadata": {},
   "outputs": [
    {
     "data": {
      "text/plain": [
       "[6, 7, 8]"
      ]
     },
     "execution_count": 47,
     "metadata": {},
     "output_type": "execute_result"
    }
   ],
   "source": [
    "g[-4:-1]"
   ]
  },
  {
   "cell_type": "markdown",
   "id": "patent-glance",
   "metadata": {},
   "source": [
    "# 리스트와 반복문 사용하여 계산하기"
   ]
  },
  {
   "cell_type": "code",
   "execution_count": 48,
   "id": "national-distinction",
   "metadata": {},
   "outputs": [
    {
     "data": {
      "text/plain": [
       "10"
      ]
     },
     "execution_count": 48,
     "metadata": {},
     "output_type": "execute_result"
    }
   ],
   "source": [
    "a = [90, 85, 95, 80, 90, 100, 85, 75, 85, 80]\n",
    "len(a)"
   ]
  },
  {
   "cell_type": "code",
   "execution_count": 50,
   "id": "buried-beach",
   "metadata": {},
   "outputs": [
    {
     "data": {
      "text/plain": [
       "86.5"
      ]
     },
     "execution_count": 50,
     "metadata": {},
     "output_type": "execute_result"
    }
   ],
   "source": [
    "# 10번의 시험 성적을 담고있는 a의 평균 성적\n",
    "sum = 0\n",
    "for i in range(len(a)):\n",
    "    sum = sum + a[i]\n",
    "average = sum / len(a)\n",
    "average"
   ]
  },
  {
   "cell_type": "code",
   "execution_count": 51,
   "id": "quick-puzzle",
   "metadata": {},
   "outputs": [
    {
     "data": {
      "text/plain": [
       "[185, 175, 185, 170, 185, 200, 175, 155, 180, 170]"
      ]
     },
     "execution_count": 51,
     "metadata": {},
     "output_type": "execute_result"
    }
   ],
   "source": [
    "# 2명의 학생, 2개의 성적 변수, 두 학생 시험 성적의 합\n",
    "s = []\n",
    "a1 = [90, 85, 95, 80, 90, 100, 85, 75, 85, 80]\n",
    "a2 = [95, 90, 90, 90, 95, 100, 90, 80, 95, 90]\n",
    "for i in range(len(a1)):\n",
    "    s.append(a1[i] + a2[i])\n",
    "s"
   ]
  },
  {
   "cell_type": "markdown",
   "id": "banned-signal",
   "metadata": {},
   "source": [
    "### enumerate 함수\n",
    "- 리스트의 원소를 반복하면서 동시에 인덱스 값 생성\n",
    "- 미리 저장 공간을 만들어 해당 위치에 계산 결과를 갱신, 속도저하 방지."
   ]
  },
  {
   "cell_type": "code",
   "execution_count": 53,
   "id": "literary-rouge",
   "metadata": {},
   "outputs": [
    {
     "name": "stdout",
     "output_type": "stream",
     "text": [
      "i = 0, e = a\n",
      "i = 1, e = b\n",
      "i = 2, e = c\n"
     ]
    }
   ],
   "source": [
    "for i, e in enumerate([\"a\", \"b\", \"c\"]):\n",
    "    print(\"i = %d, e = %s\" % (i, e))\n",
    "# %d는 정수, %s는 문자열"
   ]
  },
  {
   "cell_type": "code",
   "execution_count": 54,
   "id": "fancy-cincinnati",
   "metadata": {},
   "outputs": [
    {
     "data": {
      "text/plain": [
       "[185, 175, 185, 170, 185, 200, 175, 155, 180, 170]"
      ]
     },
     "execution_count": 54,
     "metadata": {},
     "output_type": "execute_result"
    }
   ],
   "source": [
    "s = []\n",
    "a1 = [90, 85, 95, 80, 90, 100, 85, 75, 85, 80]\n",
    "a2 = [95, 90, 90, 90, 95, 100, 90, 80, 95, 90]\n",
    "for i in range(len(a1)):\n",
    "    s.append(a1[i] + a2[i])\n",
    "s"
   ]
  },
  {
   "cell_type": "markdown",
   "id": "knowing-savage",
   "metadata": {},
   "source": [
    "### 리스트의 리스트\n",
    "- 5명의 학생과 10개의 시험성적들"
   ]
  },
  {
   "cell_type": "code",
   "execution_count": 55,
   "id": "stupid-egypt",
   "metadata": {},
   "outputs": [],
   "source": [
    "X = [[85,  90,  20,  50,  60,  25,  30,  75,  40,  55],\n",
    "     [70, 100,  70,  70,  55,  75,  55,  60,  40,  45],\n",
    "     [25,  65,  15,  25,  20,   5,  60,  70,  35,  10],\n",
    "     [80,  45,  80,  40,  75,  35,  80,  55,  70,  90],\n",
    "     [35,  50,  75,  25,  35,  70,  65,  50,  70,  10]]"
   ]
  },
  {
   "cell_type": "code",
   "execution_count": 56,
   "id": "impressive-hughes",
   "metadata": {},
   "outputs": [
    {
     "data": {
      "text/plain": [
       "5"
      ]
     },
     "execution_count": 56,
     "metadata": {},
     "output_type": "execute_result"
    }
   ],
   "source": [
    "len(X)"
   ]
  },
  {
   "cell_type": "code",
   "execution_count": 64,
   "id": "liked-dollar",
   "metadata": {},
   "outputs": [
    {
     "data": {
      "text/plain": [
       "[85, 90, 20, 50, 60, 25, 30, 75, 40, 55]"
      ]
     },
     "execution_count": 64,
     "metadata": {},
     "output_type": "execute_result"
    }
   ],
   "source": [
    "X[0]"
   ]
  },
  {
   "cell_type": "code",
   "execution_count": 65,
   "id": "bridal-leonard",
   "metadata": {},
   "outputs": [
    {
     "data": {
      "text/plain": [
       "52.7"
      ]
     },
     "execution_count": 65,
     "metadata": {},
     "output_type": "execute_result"
    }
   ],
   "source": [
    "# 평균 점수 구하기\n",
    "sum = 0\n",
    "num = 0\n",
    "for i in range(len(X)):\n",
    "    for j in range(len(X[i])):\n",
    "        num = num + 1\n",
    "        sum = sum + X[i][j]  # i번째 리스트의 j번째 변수\n",
    "sum/num\n",
    "# sum은 총합(2635), num은 변수의 개수(50)"
   ]
  },
  {
   "cell_type": "markdown",
   "id": "atomic-latin",
   "metadata": {},
   "source": [
    "### zip 함수\n",
    "- 두 개의 리스트를 합쳐 각 리스트 원소의 쌍을 원소로 가지는 하나의 리스트"
   ]
  },
  {
   "cell_type": "code",
   "execution_count": 66,
   "id": "educational-package",
   "metadata": {},
   "outputs": [
    {
     "data": {
      "text/plain": [
       "[(90, 95),\n",
       " (85, 90),\n",
       " (95, 90),\n",
       " (80, 90),\n",
       " (90, 95),\n",
       " (100, 100),\n",
       " (85, 90),\n",
       " (75, 80),\n",
       " (85, 95),\n",
       " (80, 90)]"
      ]
     },
     "execution_count": 66,
     "metadata": {},
     "output_type": "execute_result"
    }
   ],
   "source": [
    "a12 = list(zip(a1, a2))\n",
    "a12"
   ]
  },
  {
   "cell_type": "markdown",
   "id": "superb-oxygen",
   "metadata": {},
   "source": [
    "- 소괄호로 표시된 묶음은 튜플(tuple)이라고 함."
   ]
  },
  {
   "cell_type": "markdown",
   "id": "reflected-freedom",
   "metadata": {},
   "source": [
    "# 딕셔너리형 자료 다루기"
   ]
  },
  {
   "cell_type": "markdown",
   "id": "nutritional-toilet",
   "metadata": {},
   "source": [
    "### 자료의 개수"
   ]
  },
  {
   "cell_type": "code",
   "execution_count": 67,
   "id": "maritime-playlist",
   "metadata": {},
   "outputs": [
    {
     "data": {
      "text/plain": [
       "2"
      ]
     },
     "execution_count": 67,
     "metadata": {},
     "output_type": "execute_result"
    }
   ],
   "source": [
    "x = {\"a\":10, \"b\":20}\n",
    "len(x)"
   ]
  },
  {
   "cell_type": "markdown",
   "id": "turkish-style",
   "metadata": {},
   "source": [
    "### 자료의 갱신, 추가, 삭제"
   ]
  },
  {
   "cell_type": "code",
   "execution_count": 68,
   "id": "interesting-terry",
   "metadata": {},
   "outputs": [
    {
     "data": {
      "text/plain": [
       "10"
      ]
     },
     "execution_count": 68,
     "metadata": {},
     "output_type": "execute_result"
    }
   ],
   "source": [
    "x[\"a\"]"
   ]
  },
  {
   "cell_type": "code",
   "execution_count": 69,
   "id": "intelligent-valuation",
   "metadata": {},
   "outputs": [
    {
     "data": {
      "text/plain": [
       "{'a': 30, 'b': 20}"
      ]
     },
     "execution_count": 69,
     "metadata": {},
     "output_type": "execute_result"
    }
   ],
   "source": [
    "x[\"a\"] = 30\n",
    "x"
   ]
  },
  {
   "cell_type": "code",
   "execution_count": 70,
   "id": "front-preparation",
   "metadata": {},
   "outputs": [
    {
     "data": {
      "text/plain": [
       "{'a': 30, 'c': 40}"
      ]
     },
     "execution_count": 70,
     "metadata": {},
     "output_type": "execute_result"
    }
   ],
   "source": [
    "x[\"c\"] = 40\n",
    "del x[\"b\"]\n",
    "x"
   ]
  },
  {
   "cell_type": "markdown",
   "id": "chief-declaration",
   "metadata": {},
   "source": [
    "### 딕셔너리 자료형의 반복"
   ]
  },
  {
   "cell_type": "markdown",
   "id": "acceptable-performance",
   "metadata": {},
   "source": [
    "- 딕셔너리 자료형의 키 반복"
   ]
  },
  {
   "cell_type": "code",
   "execution_count": 71,
   "id": "center-sponsorship",
   "metadata": {},
   "outputs": [
    {
     "name": "stdout",
     "output_type": "stream",
     "text": [
      "a\n",
      "c\n"
     ]
    }
   ],
   "source": [
    "for k in x:\n",
    "    print(k)"
   ]
  },
  {
   "cell_type": "code",
   "execution_count": 74,
   "id": "still-convention",
   "metadata": {},
   "outputs": [
    {
     "data": {
      "text/plain": [
       "dict_keys(['a', 'c'])"
      ]
     },
     "execution_count": 74,
     "metadata": {},
     "output_type": "execute_result"
    }
   ],
   "source": [
    "x.keys()"
   ]
  },
  {
   "cell_type": "markdown",
   "id": "built-object",
   "metadata": {},
   "source": [
    "- 딕셔너리 자료형의 값 반복"
   ]
  },
  {
   "cell_type": "code",
   "execution_count": 75,
   "id": "canadian-matthew",
   "metadata": {},
   "outputs": [
    {
     "data": {
      "text/plain": [
       "dict_values([30, 40])"
      ]
     },
     "execution_count": 75,
     "metadata": {},
     "output_type": "execute_result"
    }
   ],
   "source": [
    "x.values()"
   ]
  },
  {
   "cell_type": "code",
   "execution_count": 76,
   "id": "packed-corner",
   "metadata": {},
   "outputs": [
    {
     "name": "stdout",
     "output_type": "stream",
     "text": [
      "30\n",
      "40\n"
     ]
    }
   ],
   "source": [
    "for v in x.values():\n",
    "    print(v)"
   ]
  },
  {
   "cell_type": "markdown",
   "id": "figured-coating",
   "metadata": {},
   "source": [
    "- 딕셔너리 자료형의 키와 값의 쌍 반복"
   ]
  },
  {
   "cell_type": "code",
   "execution_count": 77,
   "id": "blocked-passion",
   "metadata": {},
   "outputs": [
    {
     "name": "stdout",
     "output_type": "stream",
     "text": [
      "key [a] => value [30]\n",
      "key [c] => value [40]\n"
     ]
    }
   ],
   "source": [
    "for k, v in x.items():\n",
    "    print(\"key [%s] => value [%d]\" % (k,v))"
   ]
  },
  {
   "cell_type": "code",
   "execution_count": null,
   "id": "organic-geography",
   "metadata": {},
   "outputs": [],
   "source": []
  }
 ],
 "metadata": {
  "kernelspec": {
   "display_name": "Python 3",
   "language": "python",
   "name": "python3"
  },
  "language_info": {
   "codemirror_mode": {
    "name": "ipython",
    "version": 3
   },
   "file_extension": ".py",
   "mimetype": "text/x-python",
   "name": "python",
   "nbconvert_exporter": "python",
   "pygments_lexer": "ipython3",
   "version": "3.8.5"
  }
 },
 "nbformat": 4,
 "nbformat_minor": 5
}
