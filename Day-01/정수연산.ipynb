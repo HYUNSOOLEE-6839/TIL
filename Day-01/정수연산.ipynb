{
 "cells": [
  {
   "cell_type": "code",
   "execution_count": 3,
   "id": "closing-premium",
   "metadata": {},
   "outputs": [
    {
     "name": "stdout",
     "output_type": "stream",
     "text": [
      "hello\n"
     ]
    }
   ],
   "source": [
    "print('hello')"
   ]
  },
  {
   "cell_type": "code",
   "execution_count": 4,
   "id": "respected-october",
   "metadata": {},
   "outputs": [],
   "source": [
    "x = 1\n",
    "y = 2\n",
    "z = x + y"
   ]
  },
  {
   "cell_type": "code",
   "execution_count": 5,
   "id": "finnish-marking",
   "metadata": {},
   "outputs": [
    {
     "data": {
      "text/plain": [
       "3"
      ]
     },
     "execution_count": 5,
     "metadata": {},
     "output_type": "execute_result"
    }
   ],
   "source": [
    "z"
   ]
  },
  {
   "cell_type": "markdown",
   "id": "infinite-mystery",
   "metadata": {},
   "source": [
    "# 정수연산"
   ]
  },
  {
   "cell_type": "markdown",
   "id": "injured-pierre",
   "metadata": {},
   "source": [
    "- 더하기 : 키보드 +\n",
    "- 빼기 : 키보드 -\n",
    "- 곱하기 : 키보드 *\n",
    "- 나누기(몫 구하기) : 키보드 //\n",
    "- 나누기(소수점까지 나누기) : 키보드 /\n",
    "- 나머지 : 키보드 %\n",
    "- 제곱 : 키보드 **"
   ]
  },
  {
   "cell_type": "code",
   "execution_count": 8,
   "id": "abroad-debut",
   "metadata": {},
   "outputs": [
    {
     "data": {
      "text/plain": [
       "2"
      ]
     },
     "execution_count": 8,
     "metadata": {},
     "output_type": "execute_result"
    }
   ],
   "source": [
    "11 // 4 # 11을 4로 나눈 몫은 2"
   ]
  },
  {
   "cell_type": "code",
   "execution_count": 9,
   "id": "expanded-fellowship",
   "metadata": {},
   "outputs": [
    {
     "data": {
      "text/plain": [
       "3"
      ]
     },
     "execution_count": 9,
     "metadata": {},
     "output_type": "execute_result"
    }
   ],
   "source": [
    "11 % 4 # 11을 4로 나눈 나머지는 3"
   ]
  },
  {
   "cell_type": "code",
   "execution_count": 10,
   "id": "tamil-logistics",
   "metadata": {},
   "outputs": [
    {
     "data": {
      "text/plain": [
       "8"
      ]
     },
     "execution_count": 10,
     "metadata": {},
     "output_type": "execute_result"
    }
   ],
   "source": [
    "2 ** 3 # 2의 세제곱은 8"
   ]
  },
  {
   "cell_type": "code",
   "execution_count": 11,
   "id": "spatial-mailman",
   "metadata": {},
   "outputs": [
    {
     "data": {
      "text/plain": [
       "0.5"
      ]
     },
     "execution_count": 11,
     "metadata": {},
     "output_type": "execute_result"
    }
   ],
   "source": [
    "2 ** -1 # 음수 제곱은 역수. 2^(-1) = 1/2"
   ]
  },
  {
   "cell_type": "markdown",
   "id": "married-precipitation",
   "metadata": {},
   "source": [
    "### 연습문제\n",
    "##### 1.  3 * 2 - 8 / 4\n",
    "##### 2. 25 * 6 / 3 + 17\n",
    "##### 3. 39021 - 276920 / 12040\n",
    "##### 4. 2 ** 6 - 10 % 6"
   ]
  },
  {
   "cell_type": "code",
   "execution_count": 18,
   "id": "reduced-fault",
   "metadata": {},
   "outputs": [
    {
     "data": {
      "text/plain": [
       "4.0"
      ]
     },
     "execution_count": 18,
     "metadata": {},
     "output_type": "execute_result"
    }
   ],
   "source": [
    "3 * 2 - 8 / 4 # 1번"
   ]
  },
  {
   "cell_type": "code",
   "execution_count": 19,
   "id": "important-runner",
   "metadata": {},
   "outputs": [
    {
     "data": {
      "text/plain": [
       "67.0"
      ]
     },
     "execution_count": 19,
     "metadata": {},
     "output_type": "execute_result"
    }
   ],
   "source": [
    "25 * 6 / 3 + 17 # 2번"
   ]
  },
  {
   "cell_type": "code",
   "execution_count": 20,
   "id": "determined-blood",
   "metadata": {},
   "outputs": [
    {
     "data": {
      "text/plain": [
       "38998.0"
      ]
     },
     "execution_count": 20,
     "metadata": {},
     "output_type": "execute_result"
    }
   ],
   "source": [
    "39021 - 276920 / 12040 # 3번 "
   ]
  },
  {
   "cell_type": "code",
   "execution_count": 21,
   "id": "humanitarian-scanner",
   "metadata": {},
   "outputs": [
    {
     "data": {
      "text/plain": [
       "60"
      ]
     },
     "execution_count": 21,
     "metadata": {},
     "output_type": "execute_result"
    }
   ],
   "source": [
    "2 ** 6 - 10 % 6 # 4번"
   ]
  },
  {
   "cell_type": "markdown",
   "id": "subtle-williams",
   "metadata": {},
   "source": [
    "### 연산 순서와 괄호"
   ]
  },
  {
   "cell_type": "code",
   "execution_count": 23,
   "id": "dried-venice",
   "metadata": {},
   "outputs": [
    {
     "data": {
      "text/plain": [
       "11"
      ]
     },
     "execution_count": 23,
     "metadata": {},
     "output_type": "execute_result"
    }
   ],
   "source": [
    "3 + 2 * 4"
   ]
  },
  {
   "cell_type": "code",
   "execution_count": 24,
   "id": "every-miller",
   "metadata": {},
   "outputs": [
    {
     "data": {
      "text/plain": [
       "20"
      ]
     },
     "execution_count": 24,
     "metadata": {},
     "output_type": "execute_result"
    }
   ],
   "source": [
    "(3 + 2) * 4"
   ]
  },
  {
   "cell_type": "code",
   "execution_count": 25,
   "id": "harmful-compiler",
   "metadata": {},
   "outputs": [
    {
     "data": {
      "text/plain": [
       "5.0"
      ]
     },
     "execution_count": 25,
     "metadata": {},
     "output_type": "execute_result"
    }
   ],
   "source": [
    "100 / (3 * (10 - (3*2)) + 8)"
   ]
  },
  {
   "cell_type": "markdown",
   "id": "interpreted-shoulder",
   "metadata": {},
   "source": [
    "### 연습문제\n",
    "##### 1. 12−(5×7+1)\n",
    "##### 2. 5×{8+(10−6)÷2}\n",
    "##### 3. 48320−{(365−5×9)÷16}×987\n",
    "##### 4. ((34−3×7)%5+4)2"
   ]
  },
  {
   "cell_type": "code",
   "execution_count": 27,
   "id": "honey-links",
   "metadata": {},
   "outputs": [
    {
     "data": {
      "text/plain": [
       "-24"
      ]
     },
     "execution_count": 27,
     "metadata": {},
     "output_type": "execute_result"
    }
   ],
   "source": [
    "12-(5*7+1) # 1번"
   ]
  },
  {
   "cell_type": "code",
   "execution_count": 29,
   "id": "intimate-trustee",
   "metadata": {},
   "outputs": [
    {
     "data": {
      "text/plain": [
       "50.0"
      ]
     },
     "execution_count": 29,
     "metadata": {},
     "output_type": "execute_result"
    }
   ],
   "source": [
    "5 * (8 + (10 - 6) / 2) # 2번"
   ]
  },
  {
   "cell_type": "code",
   "execution_count": 31,
   "id": "ordinary-gazette",
   "metadata": {},
   "outputs": [
    {
     "data": {
      "text/plain": [
       "28580.0"
      ]
     },
     "execution_count": 31,
     "metadata": {},
     "output_type": "execute_result"
    }
   ],
   "source": [
    "48320 - ((365 - 5 * 9) / 16) * 987 # 3번"
   ]
  },
  {
   "cell_type": "code",
   "execution_count": 32,
   "id": "ideal-telephone",
   "metadata": {},
   "outputs": [
    {
     "data": {
      "text/plain": [
       "16"
      ]
     },
     "execution_count": 32,
     "metadata": {},
     "output_type": "execute_result"
    }
   ],
   "source": [
    "((3 ** 4 - 3 * 7) % 5 + 4) ** 2 # 4번"
   ]
  },
  {
   "cell_type": "markdown",
   "id": "aerial-albuquerque",
   "metadata": {},
   "source": [
    "### 부등식의 참과 거짓 계산\n",
    "#### a, b 일 때,\n",
    "- a > b : a가 b보다 크다\n",
    "- a < b : a가 b보다 작다\n",
    "- a == b : a와 b는 같다\n",
    "- a != b : a와 b는 같지 않다\n",
    "- a >= b : a는 b보다 크거나 같다\n",
    "- a <= b : a는 b보다 작거나 같다"
   ]
  },
  {
   "cell_type": "code",
   "execution_count": 33,
   "id": "invalid-nelson",
   "metadata": {},
   "outputs": [
    {
     "data": {
      "text/plain": [
       "True"
      ]
     },
     "execution_count": 33,
     "metadata": {},
     "output_type": "execute_result"
    }
   ],
   "source": [
    "3 <= 3"
   ]
  },
  {
   "cell_type": "code",
   "execution_count": 34,
   "id": "killing-pepper",
   "metadata": {},
   "outputs": [
    {
     "data": {
      "text/plain": [
       "False"
      ]
     },
     "execution_count": 34,
     "metadata": {},
     "output_type": "execute_result"
    }
   ],
   "source": [
    "3 != 3"
   ]
  },
  {
   "cell_type": "markdown",
   "id": "supreme-still",
   "metadata": {},
   "source": [
    "### Boolean 대수\n",
    "- & 연산은 두 값이 모두 참일 때만 답이 참이 된다. 즉, 하나라도 거짓이면 답은 거짓이다. (AND)\n",
    "- | 연산은 두 값이 모두 거짓일 때만 답이 거짓이 된다. 즉, 하나라도 참이면 답은 참이다. (OR)"
   ]
  },
  {
   "cell_type": "code",
   "execution_count": 37,
   "id": "southeast-uzbekistan",
   "metadata": {},
   "outputs": [
    {
     "data": {
      "text/plain": [
       "True"
      ]
     },
     "execution_count": 37,
     "metadata": {},
     "output_type": "execute_result"
    }
   ],
   "source": [
    "True & True"
   ]
  },
  {
   "cell_type": "code",
   "execution_count": 38,
   "id": "violent-wilderness",
   "metadata": {},
   "outputs": [
    {
     "data": {
      "text/plain": [
       "False"
      ]
     },
     "execution_count": 38,
     "metadata": {},
     "output_type": "execute_result"
    }
   ],
   "source": [
    "True & False"
   ]
  },
  {
   "cell_type": "code",
   "execution_count": 39,
   "id": "empty-piano",
   "metadata": {},
   "outputs": [
    {
     "data": {
      "text/plain": [
       "False"
      ]
     },
     "execution_count": 39,
     "metadata": {},
     "output_type": "execute_result"
    }
   ],
   "source": [
    "False | False"
   ]
  },
  {
   "cell_type": "code",
   "execution_count": 40,
   "id": "acquired-brake",
   "metadata": {},
   "outputs": [
    {
     "data": {
      "text/plain": [
       "True"
      ]
     },
     "execution_count": 40,
     "metadata": {},
     "output_type": "execute_result"
    }
   ],
   "source": [
    "False | True"
   ]
  },
  {
   "cell_type": "code",
   "execution_count": 43,
   "id": "immediate-scout",
   "metadata": {},
   "outputs": [
    {
     "data": {
      "text/plain": [
       "True"
      ]
     },
     "execution_count": 43,
     "metadata": {},
     "output_type": "execute_result"
    }
   ],
   "source": [
    "(2 > 0) & (2 < 3) # True & True"
   ]
  },
  {
   "cell_type": "code",
   "execution_count": 44,
   "id": "sixth-print",
   "metadata": {},
   "outputs": [
    {
     "data": {
      "text/plain": [
       "True"
      ]
     },
     "execution_count": 44,
     "metadata": {},
     "output_type": "execute_result"
    }
   ],
   "source": [
    "(2 > 2) | (2 < 3) # False & True"
   ]
  },
  {
   "cell_type": "markdown",
   "id": "accurate-medline",
   "metadata": {},
   "source": [
    "### 변수 사용\n",
    "- 변수이름 = 변수값"
   ]
  },
  {
   "cell_type": "code",
   "execution_count": 54,
   "id": "difficult-tomato",
   "metadata": {},
   "outputs": [
    {
     "data": {
      "text/plain": [
       "6"
      ]
     },
     "execution_count": 54,
     "metadata": {},
     "output_type": "execute_result"
    }
   ],
   "source": [
    "a = 2\n",
    "b = 3\n",
    "a * b"
   ]
  },
  {
   "cell_type": "code",
   "execution_count": 55,
   "id": "maritime-leone",
   "metadata": {},
   "outputs": [
    {
     "data": {
      "text/plain": [
       "True"
      ]
     },
     "execution_count": 55,
     "metadata": {},
     "output_type": "execute_result"
    }
   ],
   "source": [
    "a = 4\n",
    "(a > 0) & (a <= 10)"
   ]
  },
  {
   "cell_type": "markdown",
   "id": "third-scroll",
   "metadata": {},
   "source": [
    "##### 연습문제\n",
    "- (2x−1)2+1\n",
    "- x2y⋅(z+10)\n",
    "- ((j=0)&(0<k))|(i≤100)"
   ]
  },
  {
   "cell_type": "code",
   "execution_count": 59,
   "id": "challenging-savannah",
   "metadata": {},
   "outputs": [
    {
     "data": {
      "text/plain": [
       "362"
      ]
     },
     "execution_count": 59,
     "metadata": {},
     "output_type": "execute_result"
    }
   ],
   "source": [
    "# 1번\n",
    "x = 10\n",
    "(x * 2 - 1) ** 2 + 1"
   ]
  },
  {
   "cell_type": "code",
   "execution_count": 60,
   "id": "juvenile-avenue",
   "metadata": {},
   "outputs": [
    {
     "data": {
      "text/plain": [
       "891"
      ]
     },
     "execution_count": 60,
     "metadata": {},
     "output_type": "execute_result"
    }
   ],
   "source": [
    "x = 3\n",
    "y = 2\n",
    "z = 1\n",
    "(x ** (y * 2)) * (z + 10)"
   ]
  },
  {
   "cell_type": "code",
   "execution_count": 63,
   "id": "rolled-carnival",
   "metadata": {},
   "outputs": [
    {
     "data": {
      "text/plain": [
       "True"
      ]
     },
     "execution_count": 63,
     "metadata": {},
     "output_type": "execute_result"
    }
   ],
   "source": [
    "j = 5\n",
    "k = 10\n",
    "i = 15\n",
    "((i == 0) & (0 < k) | (i <= 100))"
   ]
  },
  {
   "cell_type": "markdown",
   "id": "existing-nancy",
   "metadata": {},
   "source": [
    "### 정수와 실수"
   ]
  },
  {
   "cell_type": "code",
   "execution_count": 65,
   "id": "arabic-acquisition",
   "metadata": {},
   "outputs": [
    {
     "data": {
      "text/plain": [
       "10"
      ]
     },
     "execution_count": 65,
     "metadata": {},
     "output_type": "execute_result"
    }
   ],
   "source": [
    "10 # 정수"
   ]
  },
  {
   "cell_type": "code",
   "execution_count": 66,
   "id": "czech-print",
   "metadata": {},
   "outputs": [
    {
     "data": {
      "text/plain": [
       "10.0"
      ]
     },
     "execution_count": 66,
     "metadata": {},
     "output_type": "execute_result"
    }
   ],
   "source": [
    "10.0 # 실수"
   ]
  },
  {
   "cell_type": "code",
   "execution_count": 67,
   "id": "considerable-healing",
   "metadata": {},
   "outputs": [
    {
     "data": {
      "text/plain": [
       "0.1"
      ]
     },
     "execution_count": 67,
     "metadata": {},
     "output_type": "execute_result"
    }
   ],
   "source": [
    ".1 # .1 = 0.1"
   ]
  },
  {
   "cell_type": "code",
   "execution_count": 68,
   "id": "apart-change",
   "metadata": {},
   "outputs": [
    {
     "data": {
      "text/plain": [
       "50"
      ]
     },
     "execution_count": 68,
     "metadata": {},
     "output_type": "execute_result"
    }
   ],
   "source": [
    "10 * 5 # 정수"
   ]
  },
  {
   "cell_type": "code",
   "execution_count": 70,
   "id": "rural-equality",
   "metadata": {},
   "outputs": [
    {
     "data": {
      "text/plain": [
       "50.0"
      ]
     },
     "execution_count": 70,
     "metadata": {},
     "output_type": "execute_result"
    }
   ],
   "source": [
    "10.0 * 5 # 실수"
   ]
  },
  {
   "cell_type": "code",
   "execution_count": 73,
   "id": "capital-cookbook",
   "metadata": {},
   "outputs": [
    {
     "data": {
      "text/plain": [
       "2.0"
      ]
     },
     "execution_count": 73,
     "metadata": {},
     "output_type": "execute_result"
    }
   ],
   "source": [
    "10 / 5 # 실수"
   ]
  },
  {
   "cell_type": "markdown",
   "id": "proof-channel",
   "metadata": {},
   "source": [
    "- 정수(int) : 정수 자료형\n",
    "- 실수(flaot) : 부동소수점 자료형"
   ]
  },
  {
   "cell_type": "code",
   "execution_count": 74,
   "id": "spare-mailing",
   "metadata": {},
   "outputs": [
    {
     "data": {
      "text/plain": [
       "int"
      ]
     },
     "execution_count": 74,
     "metadata": {},
     "output_type": "execute_result"
    }
   ],
   "source": [
    "type(10)"
   ]
  },
  {
   "cell_type": "code",
   "execution_count": 75,
   "id": "compact-tutorial",
   "metadata": {},
   "outputs": [
    {
     "data": {
      "text/plain": [
       "float"
      ]
     },
     "execution_count": 75,
     "metadata": {},
     "output_type": "execute_result"
    }
   ],
   "source": [
    "type(10.0)"
   ]
  },
  {
   "cell_type": "markdown",
   "id": "cardiac-three",
   "metadata": {},
   "source": [
    "### 부동소수점 실수"
   ]
  },
  {
   "cell_type": "code",
   "execution_count": 76,
   "id": "approximate-campaign",
   "metadata": {},
   "outputs": [
    {
     "data": {
      "text/plain": [
       "12300.0"
      ]
     },
     "execution_count": 76,
     "metadata": {},
     "output_type": "execute_result"
    }
   ],
   "source": [
    "123e2 # 123e2 = 123.0 * 100 = 12300.0"
   ]
  },
  {
   "cell_type": "code",
   "execution_count": 77,
   "id": "every-diana",
   "metadata": {},
   "outputs": [
    {
     "data": {
      "text/plain": [
       "1.23"
      ]
     },
     "execution_count": 77,
     "metadata": {},
     "output_type": "execute_result"
    }
   ],
   "source": [
    "123e-2 # 123e-2 = 123.0 * 0.01 = 1.23"
   ]
  },
  {
   "cell_type": "code",
   "execution_count": 80,
   "id": "increasing-repository",
   "metadata": {},
   "outputs": [
    {
     "data": {
      "text/plain": [
       "'%.5f'"
      ]
     },
     "execution_count": 80,
     "metadata": {},
     "output_type": "execute_result"
    }
   ],
   "source": [
    "# 소숫점 5자리까지 표현\n",
    "%precision 5"
   ]
  },
  {
   "cell_type": "code",
   "execution_count": 81,
   "id": "given-settle",
   "metadata": {},
   "outputs": [
    {
     "data": {
      "text/plain": [
       "False"
      ]
     },
     "execution_count": 81,
     "metadata": {},
     "output_type": "execute_result"
    }
   ],
   "source": [
    "0.1 + 0.2 == 0.3"
   ]
  },
  {
   "cell_type": "code",
   "execution_count": 83,
   "id": "committed-workplace",
   "metadata": {},
   "outputs": [
    {
     "data": {
      "text/plain": [
       "0.30000"
      ]
     },
     "execution_count": 83,
     "metadata": {},
     "output_type": "execute_result"
    }
   ],
   "source": [
    "0.1 + 0.2"
   ]
  },
  {
   "cell_type": "code",
   "execution_count": 89,
   "id": "grave-offset",
   "metadata": {},
   "outputs": [
    {
     "name": "stderr",
     "output_type": "stream",
     "text": [
      "UsageError: Line magic function `%precision55` not found.\n"
     ]
    }
   ],
   "source": [
    "%precision55 # 소숫점 55자리까지 표현"
   ]
  },
  {
   "cell_type": "code",
   "execution_count": 90,
   "id": "gross-reverse",
   "metadata": {},
   "outputs": [
    {
     "data": {
      "text/plain": [
       "0.3000000000000000444089209850062616169452667236328125000"
      ]
     },
     "execution_count": 90,
     "metadata": {},
     "output_type": "execute_result"
    }
   ],
   "source": [
    "0.1 + 0.2"
   ]
  },
  {
   "cell_type": "code",
   "execution_count": 91,
   "id": "first-cinema",
   "metadata": {},
   "outputs": [
    {
     "data": {
      "text/plain": [
       "'%r'"
      ]
     },
     "execution_count": 91,
     "metadata": {},
     "output_type": "execute_result"
    }
   ],
   "source": [
    "%precision %r"
   ]
  },
  {
   "cell_type": "markdown",
   "id": "dried-commonwealth",
   "metadata": {},
   "source": [
    "##### 실수를 비교할 때는 round 명령 사용하여 반올림 이후 비교."
   ]
  },
  {
   "cell_type": "code",
   "execution_count": 92,
   "id": "average-alignment",
   "metadata": {},
   "outputs": [
    {
     "data": {
      "text/plain": [
       "True"
      ]
     },
     "execution_count": 92,
     "metadata": {},
     "output_type": "execute_result"
    }
   ],
   "source": [
    "round(0.1 + 0.2) == round(0.3)"
   ]
  },
  {
   "cell_type": "code",
   "execution_count": null,
   "id": "federal-marketing",
   "metadata": {},
   "outputs": [],
   "source": [
    "### ㅈ"
   ]
  }
 ],
 "metadata": {
  "kernelspec": {
   "display_name": "Python 3",
   "language": "python",
   "name": "python3"
  },
  "language_info": {
   "codemirror_mode": {
    "name": "ipython",
    "version": 3
   },
   "file_extension": ".py",
   "mimetype": "text/x-python",
   "name": "python",
   "nbconvert_exporter": "python",
   "pygments_lexer": "ipython3",
   "version": "3.8.5"
  }
 },
 "nbformat": 4,
 "nbformat_minor": 5
}
