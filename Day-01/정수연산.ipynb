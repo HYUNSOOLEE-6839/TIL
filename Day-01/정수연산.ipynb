{
 "cells": [
  {
   "cell_type": "code",
   "execution_count": 3,
   "id": "brazilian-basics",
   "metadata": {},
   "outputs": [
    {
     "name": "stdout",
     "output_type": "stream",
     "text": [
      "hello\n"
     ]
    }
   ],
   "source": [
    "print('hello')"
   ]
  },
  {
   "cell_type": "code",
   "execution_count": 4,
   "id": "proprietary-tiffany",
   "metadata": {},
   "outputs": [],
   "source": [
    "x = 1\n",
    "y = 2\n",
    "z = x + y"
   ]
  },
  {
   "cell_type": "code",
   "execution_count": 5,
   "id": "absolute-middle",
   "metadata": {},
   "outputs": [
    {
     "data": {
      "text/plain": [
       "3"
      ]
     },
     "execution_count": 5,
     "metadata": {},
     "output_type": "execute_result"
    }
   ],
   "source": [
    "z"
   ]
  },
  {
   "cell_type": "markdown",
   "id": "quick-country",
   "metadata": {},
   "source": [
    "# 정수연산"
   ]
  },
  {
   "cell_type": "markdown",
   "id": "average-feeding",
   "metadata": {},
   "source": [
    "- 더하기 : 키보드 +\n",
    "- 빼기 : 키보드 -\n",
    "- 곱하기 : 키보드 *\n",
    "- 나누기(몫 구하기) : 키보드 //\n",
    "- 나누기(소수점까지 나누기) : 키보드 /\n",
    "- 나머지 : 키보드 %\n",
    "- 제곱 : 키보드 **"
   ]
  },
  {
   "cell_type": "code",
   "execution_count": 8,
   "id": "valuable-imagination",
   "metadata": {},
   "outputs": [
    {
     "data": {
      "text/plain": [
       "2"
      ]
     },
     "execution_count": 8,
     "metadata": {},
     "output_type": "execute_result"
    }
   ],
   "source": [
    "11 // 4 # 11을 4로 나눈 몫은 2"
   ]
  },
  {
   "cell_type": "code",
   "execution_count": 9,
   "id": "offensive-likelihood",
   "metadata": {},
   "outputs": [
    {
     "data": {
      "text/plain": [
       "3"
      ]
     },
     "execution_count": 9,
     "metadata": {},
     "output_type": "execute_result"
    }
   ],
   "source": [
    "11 % 4 # 11을 4로 나눈 나머지는 3"
   ]
  },
  {
   "cell_type": "code",
   "execution_count": 10,
   "id": "national-trail",
   "metadata": {},
   "outputs": [
    {
     "data": {
      "text/plain": [
       "8"
      ]
     },
     "execution_count": 10,
     "metadata": {},
     "output_type": "execute_result"
    }
   ],
   "source": [
    "2 ** 3 # 2의 세제곱은 8"
   ]
  },
  {
   "cell_type": "code",
   "execution_count": 11,
   "id": "buried-gauge",
   "metadata": {},
   "outputs": [
    {
     "data": {
      "text/plain": [
       "0.5"
      ]
     },
     "execution_count": 11,
     "metadata": {},
     "output_type": "execute_result"
    }
   ],
   "source": [
    "2 ** -1 # 음수 제곱은 역수. 2^(-1) = 1/2"
   ]
  },
  {
   "cell_type": "markdown",
   "id": "seeing-counter",
   "metadata": {},
   "source": [
    "### 연습문제\n",
    "##### 1.  3 * 2 - 8 / 4\n",
    "##### 2. 25 * 6 / 3 + 17\n",
    "##### 3. 39021 - 276920 / 12040\n",
    "##### 4. 2 ** 6 - 10 % 6"
   ]
  },
  {
   "cell_type": "code",
   "execution_count": 18,
   "id": "proved-buyer",
   "metadata": {},
   "outputs": [
    {
     "data": {
      "text/plain": [
       "4.0"
      ]
     },
     "execution_count": 18,
     "metadata": {},
     "output_type": "execute_result"
    }
   ],
   "source": [
    "3 * 2 - 8 / 4 # 1번"
   ]
  },
  {
   "cell_type": "code",
   "execution_count": 19,
   "id": "continuous-commonwealth",
   "metadata": {},
   "outputs": [
    {
     "data": {
      "text/plain": [
       "67.0"
      ]
     },
     "execution_count": 19,
     "metadata": {},
     "output_type": "execute_result"
    }
   ],
   "source": [
    "25 * 6 / 3 + 17 # 2번"
   ]
  },
  {
   "cell_type": "code",
   "execution_count": 20,
   "id": "close-table",
   "metadata": {},
   "outputs": [
    {
     "data": {
      "text/plain": [
       "38998.0"
      ]
     },
     "execution_count": 20,
     "metadata": {},
     "output_type": "execute_result"
    }
   ],
   "source": [
    "39021 - 276920 / 12040 # 3번 "
   ]
  },
  {
   "cell_type": "code",
   "execution_count": 21,
   "id": "advised-remainder",
   "metadata": {},
   "outputs": [
    {
     "data": {
      "text/plain": [
       "60"
      ]
     },
     "execution_count": 21,
     "metadata": {},
     "output_type": "execute_result"
    }
   ],
   "source": [
    "2 ** 6 - 10 % 6 # 4번"
   ]
  },
  {
   "cell_type": "markdown",
   "id": "voluntary-narrative",
   "metadata": {},
   "source": [
    "### 연산 순서와 괄호"
   ]
  },
  {
   "cell_type": "code",
   "execution_count": 23,
   "id": "affecting-blink",
   "metadata": {},
   "outputs": [
    {
     "data": {
      "text/plain": [
       "11"
      ]
     },
     "execution_count": 23,
     "metadata": {},
     "output_type": "execute_result"
    }
   ],
   "source": [
    "3 + 2 * 4"
   ]
  },
  {
   "cell_type": "code",
   "execution_count": 24,
   "id": "organized-honey",
   "metadata": {},
   "outputs": [
    {
     "data": {
      "text/plain": [
       "20"
      ]
     },
     "execution_count": 24,
     "metadata": {},
     "output_type": "execute_result"
    }
   ],
   "source": [
    "(3 + 2) * 4"
   ]
  },
  {
   "cell_type": "code",
   "execution_count": 25,
   "id": "norwegian-assistant",
   "metadata": {},
   "outputs": [
    {
     "data": {
      "text/plain": [
       "5.0"
      ]
     },
     "execution_count": 25,
     "metadata": {},
     "output_type": "execute_result"
    }
   ],
   "source": [
    "100 / (3 * (10 - (3*2)) + 8)"
   ]
  },
  {
   "cell_type": "markdown",
   "id": "confidential-cartridge",
   "metadata": {},
   "source": [
    "### 연습문제\n",
    "##### 1. 12−(5×7+1)\n",
    "##### 2. 5×{8+(10−6)÷2}\n",
    "##### 3. 48320−{(365−5×9)÷16}×987\n",
    "##### 4. ((34−3×7)%5+4)2"
   ]
  },
  {
   "cell_type": "code",
   "execution_count": 27,
   "id": "mobile-wells",
   "metadata": {},
   "outputs": [
    {
     "data": {
      "text/plain": [
       "-24"
      ]
     },
     "execution_count": 27,
     "metadata": {},
     "output_type": "execute_result"
    }
   ],
   "source": [
    "12-(5*7+1) # 1번"
   ]
  },
  {
   "cell_type": "code",
   "execution_count": 29,
   "id": "referenced-partner",
   "metadata": {},
   "outputs": [
    {
     "data": {
      "text/plain": [
       "50.0"
      ]
     },
     "execution_count": 29,
     "metadata": {},
     "output_type": "execute_result"
    }
   ],
   "source": [
    "5 * (8 + (10 - 6) / 2) # 2번"
   ]
  },
  {
   "cell_type": "code",
   "execution_count": 31,
   "id": "banned-helen",
   "metadata": {},
   "outputs": [
    {
     "data": {
      "text/plain": [
       "28580.0"
      ]
     },
     "execution_count": 31,
     "metadata": {},
     "output_type": "execute_result"
    }
   ],
   "source": [
    "48320 - ((365 - 5 * 9) / 16) * 987 # 3번"
   ]
  },
  {
   "cell_type": "code",
   "execution_count": 32,
   "id": "disciplinary-suicide",
   "metadata": {},
   "outputs": [
    {
     "data": {
      "text/plain": [
       "16"
      ]
     },
     "execution_count": 32,
     "metadata": {},
     "output_type": "execute_result"
    }
   ],
   "source": [
    "((3 ** 4 - 3 * 7) % 5 + 4) ** 2 # 4번"
   ]
  },
  {
   "cell_type": "markdown",
   "id": "prescribed-orange",
   "metadata": {},
   "source": [
    "### 부등식의 참과 거짓 계산\n",
    "#### a, b 일 때,\n",
    "- a > b : a가 b보다 크다\n",
    "- a < b : a가 b보다 작다\n",
    "- a == b : a와 b는 같다\n",
    "- a != b : a와 b는 같지 않다\n",
    "- a >= b : a는 b보다 크거나 같다\n",
    "- a <= b : a는 b보다 작거나 같다"
   ]
  },
  {
   "cell_type": "code",
   "execution_count": 33,
   "id": "figured-record",
   "metadata": {},
   "outputs": [
    {
     "data": {
      "text/plain": [
       "True"
      ]
     },
     "execution_count": 33,
     "metadata": {},
     "output_type": "execute_result"
    }
   ],
   "source": [
    "3 <= 3"
   ]
  },
  {
   "cell_type": "code",
   "execution_count": 34,
   "id": "legislative-bobby",
   "metadata": {},
   "outputs": [
    {
     "data": {
      "text/plain": [
       "False"
      ]
     },
     "execution_count": 34,
     "metadata": {},
     "output_type": "execute_result"
    }
   ],
   "source": [
    "3 != 3"
   ]
  },
  {
   "cell_type": "markdown",
   "id": "naughty-premium",
   "metadata": {},
   "source": [
    "### Boolean 대수\n",
    "- & 연산은 두 값이 모두 참일 때만 답이 참이 된다. 즉, 하나라도 거짓이면 답은 거짓이다. (AND)\n",
    "- | 연산은 두 값이 모두 거짓일 때만 답이 거짓이 된다. 즉, 하나라도 참이면 답은 참이다. (OR)"
   ]
  },
  {
   "cell_type": "code",
   "execution_count": 37,
   "id": "reduced-deputy",
   "metadata": {},
   "outputs": [
    {
     "data": {
      "text/plain": [
       "True"
      ]
     },
     "execution_count": 37,
     "metadata": {},
     "output_type": "execute_result"
    }
   ],
   "source": [
    "True & True"
   ]
  },
  {
   "cell_type": "code",
   "execution_count": 38,
   "id": "bulgarian-macedonia",
   "metadata": {},
   "outputs": [
    {
     "data": {
      "text/plain": [
       "False"
      ]
     },
     "execution_count": 38,
     "metadata": {},
     "output_type": "execute_result"
    }
   ],
   "source": [
    "True & False"
   ]
  },
  {
   "cell_type": "code",
   "execution_count": 39,
   "id": "imposed-easter",
   "metadata": {},
   "outputs": [
    {
     "data": {
      "text/plain": [
       "False"
      ]
     },
     "execution_count": 39,
     "metadata": {},
     "output_type": "execute_result"
    }
   ],
   "source": [
    "False | False"
   ]
  },
  {
   "cell_type": "code",
   "execution_count": 40,
   "id": "regulated-package",
   "metadata": {},
   "outputs": [
    {
     "data": {
      "text/plain": [
       "True"
      ]
     },
     "execution_count": 40,
     "metadata": {},
     "output_type": "execute_result"
    }
   ],
   "source": [
    "False | True"
   ]
  },
  {
   "cell_type": "code",
   "execution_count": 43,
   "id": "mexican-moscow",
   "metadata": {},
   "outputs": [
    {
     "data": {
      "text/plain": [
       "True"
      ]
     },
     "execution_count": 43,
     "metadata": {},
     "output_type": "execute_result"
    }
   ],
   "source": [
    "(2 > 0) & (2 < 3) # True & True"
   ]
  },
  {
   "cell_type": "code",
   "execution_count": 44,
   "id": "stuffed-running",
   "metadata": {},
   "outputs": [
    {
     "data": {
      "text/plain": [
       "True"
      ]
     },
     "execution_count": 44,
     "metadata": {},
     "output_type": "execute_result"
    }
   ],
   "source": [
    "(2 > 2) | (2 < 3) # False & True"
   ]
  },
  {
   "cell_type": "markdown",
   "id": "recent-pledge",
   "metadata": {},
   "source": [
    "### 변수 사용\n",
    "- 변수이름 = 변수값"
   ]
  },
  {
   "cell_type": "code",
   "execution_count": 54,
   "id": "grand-skiing",
   "metadata": {},
   "outputs": [
    {
     "data": {
      "text/plain": [
       "6"
      ]
     },
     "execution_count": 54,
     "metadata": {},
     "output_type": "execute_result"
    }
   ],
   "source": [
    "a = 2\n",
    "b = 3\n",
    "a * b"
   ]
  },
  {
   "cell_type": "code",
   "execution_count": 55,
   "id": "enhanced-inspector",
   "metadata": {},
   "outputs": [
    {
     "data": {
      "text/plain": [
       "True"
      ]
     },
     "execution_count": 55,
     "metadata": {},
     "output_type": "execute_result"
    }
   ],
   "source": [
    "a = 4\n",
    "(a > 0) & (a <= 10)"
   ]
  },
  {
   "cell_type": "markdown",
   "id": "tired-apparatus",
   "metadata": {},
   "source": [
    "##### 연습문제\n",
    "- (2x−1)2+1\n",
    "- x2y⋅(z+10)\n",
    "- ((j=0)&(0<k))|(i≤100)"
   ]
  },
  {
   "cell_type": "code",
   "execution_count": 59,
   "id": "meaning-generic",
   "metadata": {},
   "outputs": [
    {
     "data": {
      "text/plain": [
       "362"
      ]
     },
     "execution_count": 59,
     "metadata": {},
     "output_type": "execute_result"
    }
   ],
   "source": [
    "# 1번\n",
    "x = 10\n",
    "(x * 2 - 1) ** 2 + 1"
   ]
  },
  {
   "cell_type": "code",
   "execution_count": 60,
   "id": "affected-learning",
   "metadata": {},
   "outputs": [
    {
     "data": {
      "text/plain": [
       "891"
      ]
     },
     "execution_count": 60,
     "metadata": {},
     "output_type": "execute_result"
    }
   ],
   "source": [
    "x = 3\n",
    "y = 2\n",
    "z = 1\n",
    "(x ** (y * 2)) * (z + 10)"
   ]
  },
  {
   "cell_type": "code",
   "execution_count": 63,
   "id": "alpine-track",
   "metadata": {},
   "outputs": [
    {
     "data": {
      "text/plain": [
       "True"
      ]
     },
     "execution_count": 63,
     "metadata": {},
     "output_type": "execute_result"
    }
   ],
   "source": [
    "j = 5\n",
    "k = 10\n",
    "i = 15\n",
    "((i == 0) & (0 < k) | (i <= 100))"
   ]
  },
  {
   "cell_type": "markdown",
   "id": "excellent-malaysia",
   "metadata": {},
   "source": [
    "### 정수와 실수"
   ]
  },
  {
   "cell_type": "code",
   "execution_count": 65,
   "id": "seasonal-medium",
   "metadata": {},
   "outputs": [
    {
     "data": {
      "text/plain": [
       "10"
      ]
     },
     "execution_count": 65,
     "metadata": {},
     "output_type": "execute_result"
    }
   ],
   "source": [
    "10 # 정수"
   ]
  },
  {
   "cell_type": "code",
   "execution_count": 66,
   "id": "compatible-warehouse",
   "metadata": {},
   "outputs": [
    {
     "data": {
      "text/plain": [
       "10.0"
      ]
     },
     "execution_count": 66,
     "metadata": {},
     "output_type": "execute_result"
    }
   ],
   "source": [
    "10.0 # 실수"
   ]
  },
  {
   "cell_type": "code",
   "execution_count": 67,
   "id": "revised-nudist",
   "metadata": {},
   "outputs": [
    {
     "data": {
      "text/plain": [
       "0.1"
      ]
     },
     "execution_count": 67,
     "metadata": {},
     "output_type": "execute_result"
    }
   ],
   "source": [
    ".1 # .1 = 0.1"
   ]
  },
  {
   "cell_type": "code",
   "execution_count": 68,
   "id": "fourth-begin",
   "metadata": {},
   "outputs": [
    {
     "data": {
      "text/plain": [
       "50"
      ]
     },
     "execution_count": 68,
     "metadata": {},
     "output_type": "execute_result"
    }
   ],
   "source": [
    "10 * 5 # 정수"
   ]
  },
  {
   "cell_type": "code",
   "execution_count": 70,
   "id": "annoying-prototype",
   "metadata": {},
   "outputs": [
    {
     "data": {
      "text/plain": [
       "50.0"
      ]
     },
     "execution_count": 70,
     "metadata": {},
     "output_type": "execute_result"
    }
   ],
   "source": [
    "10.0 * 5 # 실수"
   ]
  },
  {
   "cell_type": "code",
   "execution_count": 73,
   "id": "satisfactory-textbook",
   "metadata": {},
   "outputs": [
    {
     "data": {
      "text/plain": [
       "2.0"
      ]
     },
     "execution_count": 73,
     "metadata": {},
     "output_type": "execute_result"
    }
   ],
   "source": [
    "10 / 5 # 실수"
   ]
  },
  {
   "cell_type": "markdown",
   "id": "supreme-wilson",
   "metadata": {},
   "source": [
    "- 정수(int) : 정수 자료형\n",
    "- 실수(flaot) : 부동소수점 자료형"
   ]
  },
  {
   "cell_type": "code",
   "execution_count": 74,
   "id": "declared-assistant",
   "metadata": {},
   "outputs": [
    {
     "data": {
      "text/plain": [
       "int"
      ]
     },
     "execution_count": 74,
     "metadata": {},
     "output_type": "execute_result"
    }
   ],
   "source": [
    "type(10)"
   ]
  },
  {
   "cell_type": "code",
   "execution_count": 75,
   "id": "growing-parking",
   "metadata": {},
   "outputs": [
    {
     "data": {
      "text/plain": [
       "float"
      ]
     },
     "execution_count": 75,
     "metadata": {},
     "output_type": "execute_result"
    }
   ],
   "source": [
    "type(10.0)"
   ]
  },
  {
   "cell_type": "markdown",
   "id": "broadband-armenia",
   "metadata": {},
   "source": [
    "### 부동소수점 실수"
   ]
  },
  {
   "cell_type": "code",
   "execution_count": 76,
   "id": "surgical-complex",
   "metadata": {},
   "outputs": [
    {
     "data": {
      "text/plain": [
       "12300.0"
      ]
     },
     "execution_count": 76,
     "metadata": {},
     "output_type": "execute_result"
    }
   ],
   "source": [
    "123e2 # 123e2 = 123.0 * 100 = 12300.0"
   ]
  },
  {
   "cell_type": "code",
   "execution_count": 77,
   "id": "diagnostic-mainland",
   "metadata": {},
   "outputs": [
    {
     "data": {
      "text/plain": [
       "1.23"
      ]
     },
     "execution_count": 77,
     "metadata": {},
     "output_type": "execute_result"
    }
   ],
   "source": [
    "123e-2 # 123e-2 = 123.0 * 0.01 = 1.23"
   ]
  },
  {
   "cell_type": "code",
   "execution_count": 80,
   "id": "emerging-carolina",
   "metadata": {},
   "outputs": [
    {
     "data": {
      "text/plain": [
       "'%.5f'"
      ]
     },
     "execution_count": 80,
     "metadata": {},
     "output_type": "execute_result"
    }
   ],
   "source": [
    "# 소숫점 5자리까지 표현\n",
    "%precision 5"
   ]
  },
  {
   "cell_type": "code",
   "execution_count": 81,
   "id": "returning-monday",
   "metadata": {},
   "outputs": [
    {
     "data": {
      "text/plain": [
       "False"
      ]
     },
     "execution_count": 81,
     "metadata": {},
     "output_type": "execute_result"
    }
   ],
   "source": [
    "0.1 + 0.2 == 0.3"
   ]
  },
  {
   "cell_type": "code",
   "execution_count": 83,
   "id": "offensive-anatomy",
   "metadata": {},
   "outputs": [
    {
     "data": {
      "text/plain": [
       "0.30000"
      ]
     },
     "execution_count": 83,
     "metadata": {},
     "output_type": "execute_result"
    }
   ],
   "source": [
    "0.1 + 0.2"
   ]
  },
  {
   "cell_type": "code",
   "execution_count": 89,
   "id": "raised-reservation",
   "metadata": {},
   "outputs": [
    {
     "name": "stderr",
     "output_type": "stream",
     "text": [
      "UsageError: Line magic function `%precision55` not found.\n"
     ]
    }
   ],
   "source": [
    "%precision55 # 소숫점 55자리까지 표현"
   ]
  },
  {
   "cell_type": "code",
   "execution_count": 90,
   "id": "particular-mention",
   "metadata": {},
   "outputs": [
    {
     "data": {
      "text/plain": [
       "0.3000000000000000444089209850062616169452667236328125000"
      ]
     },
     "execution_count": 90,
     "metadata": {},
     "output_type": "execute_result"
    }
   ],
   "source": [
    "0.1 + 0.2"
   ]
  },
  {
   "cell_type": "code",
   "execution_count": 91,
   "id": "spectacular-automation",
   "metadata": {},
   "outputs": [
    {
     "data": {
      "text/plain": [
       "'%r'"
      ]
     },
     "execution_count": 91,
     "metadata": {},
     "output_type": "execute_result"
    }
   ],
   "source": [
    "%precision %r"
   ]
  },
  {
   "cell_type": "markdown",
   "id": "conscious-blair",
   "metadata": {},
   "source": [
    "##### 실수를 비교할 때는 round 명령 사용하여 반올림 이후 비교."
   ]
  },
  {
   "cell_type": "code",
   "execution_count": 92,
   "id": "moral-substitute",
   "metadata": {},
   "outputs": [
    {
     "data": {
      "text/plain": [
       "True"
      ]
     },
     "execution_count": 92,
     "metadata": {},
     "output_type": "execute_result"
    }
   ],
   "source": [
    "round(0.1 + 0.2) == round(0.3)"
   ]
  },
  {
   "cell_type": "markdown",
   "id": "parallel-cedar",
   "metadata": {},
   "source": [
    "### 자료형 변환"
   ]
  },
  {
   "cell_type": "code",
   "execution_count": 93,
   "id": "norman-fusion",
   "metadata": {},
   "outputs": [
    {
     "data": {
      "text/plain": [
       "1"
      ]
     },
     "execution_count": 93,
     "metadata": {},
     "output_type": "execute_result"
    }
   ],
   "source": [
    "int(1.0) # 실수를 정수로 변환"
   ]
  },
  {
   "cell_type": "code",
   "execution_count": 94,
   "id": "brown-manual",
   "metadata": {},
   "outputs": [
    {
     "data": {
      "text/plain": [
       "1.0"
      ]
     },
     "execution_count": 94,
     "metadata": {},
     "output_type": "execute_result"
    }
   ],
   "source": [
    "float(1) # 정수를 실수로 변환"
   ]
  },
  {
   "cell_type": "markdown",
   "id": "intimate-bidder",
   "metadata": {},
   "source": [
    "##### 정수로 변환하려는 숫자가 정수로 표현될 수 없으면 소숫점 이하 숫자를 버림"
   ]
  },
  {
   "cell_type": "code",
   "execution_count": 95,
   "id": "accepting-purpose",
   "metadata": {},
   "outputs": [
    {
     "data": {
      "text/plain": [
       "3"
      ]
     },
     "execution_count": 95,
     "metadata": {},
     "output_type": "execute_result"
    }
   ],
   "source": [
    "int(3.14)"
   ]
  },
  {
   "cell_type": "code",
   "execution_count": null,
   "id": "personalized-vietnam",
   "metadata": {},
   "outputs": [],
   "source": []
  }
 ],
 "metadata": {
  "kernelspec": {
   "display_name": "Python 3",
   "language": "python",
   "name": "python3"
  },
  "language_info": {
   "codemirror_mode": {
    "name": "ipython",
    "version": 3
   },
   "file_extension": ".py",
   "mimetype": "text/x-python",
   "name": "python",
   "nbconvert_exporter": "python",
   "pygments_lexer": "ipython3",
   "version": "3.8.5"
  }
 },
 "nbformat": 4,
 "nbformat_minor": 5
}
