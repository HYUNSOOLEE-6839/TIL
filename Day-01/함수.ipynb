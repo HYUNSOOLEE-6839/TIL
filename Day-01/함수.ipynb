{
 "cells": [
  {
   "cell_type": "markdown",
   "id": "funny-lightweight",
   "metadata": {},
   "source": [
    "# 파이썬 함수"
   ]
  },
  {
   "cell_type": "markdown",
   "id": "average-turtle",
   "metadata": {},
   "source": [
    "- 숫자 x를 입력하면 두 배가 되도록 하는 함수"
   ]
  },
  {
   "cell_type": "code",
   "execution_count": 1,
   "id": "organizational-mobility",
   "metadata": {},
   "outputs": [],
   "source": [
    "def twotimes(x):\n",
    "    y = 2 * x\n",
    "    return y"
   ]
  },
  {
   "cell_type": "code",
   "execution_count": 2,
   "id": "arbitrary-maintenance",
   "metadata": {},
   "outputs": [
    {
     "data": {
      "text/plain": [
       "4"
      ]
     },
     "execution_count": 2,
     "metadata": {},
     "output_type": "execute_result"
    }
   ],
   "source": [
    "twotimes(2)"
   ]
  },
  {
   "cell_type": "markdown",
   "id": "remarkable-sociology",
   "metadata": {},
   "source": [
    "##### 짝수가 입력되면 짝수라는 문자열을, 홀수가 입력되면 홀수라는 문자열을 반환하는 함수"
   ]
  },
  {
   "cell_type": "code",
   "execution_count": 7,
   "id": "handmade-friday",
   "metadata": {},
   "outputs": [],
   "source": [
    "def hc(x):\n",
    "    if x % 2 == 0:\n",
    "        print('짝수')\n",
    "    else:\n",
    "        print('홀수')\n",
    "    return x"
   ]
  },
  {
   "cell_type": "code",
   "execution_count": 11,
   "id": "sticky-headset",
   "metadata": {},
   "outputs": [
    {
     "name": "stdout",
     "output_type": "stream",
     "text": [
      "홀수\n"
     ]
    },
    {
     "data": {
      "text/plain": [
       "124217"
      ]
     },
     "execution_count": 11,
     "metadata": {},
     "output_type": "execute_result"
    }
   ],
   "source": [
    "hc(124217)"
   ]
  },
  {
   "cell_type": "markdown",
   "id": "unique-liver",
   "metadata": {},
   "source": [
    "#### 윤년 / 평년 구분 함수"
   ]
  },
  {
   "cell_type": "code",
   "execution_count": 33,
   "id": "positive-audio",
   "metadata": {},
   "outputs": [],
   "source": [
    "def year(x):\n",
    "    if (x % 4 == 0) & (x % 400 == 0):\n",
    "        print('윤년')\n",
    "    else:\n",
    "        print('평년')            "
   ]
  },
  {
   "cell_type": "code",
   "execution_count": 35,
   "id": "previous-techno",
   "metadata": {},
   "outputs": [
    {
     "name": "stdout",
     "output_type": "stream",
     "text": [
      "평년\n"
     ]
    }
   ],
   "source": [
    "year(1900)"
   ]
  },
  {
   "cell_type": "markdown",
   "id": "meaningful-impression",
   "metadata": {},
   "source": [
    "### 입력이 여러 개인 함수"
   ]
  },
  {
   "cell_type": "code",
   "execution_count": 36,
   "id": "primary-toronto",
   "metadata": {},
   "outputs": [],
   "source": [
    "def add(x, y):\n",
    "    return x+y"
   ]
  },
  {
   "cell_type": "code",
   "execution_count": 37,
   "id": "painted-pierce",
   "metadata": {},
   "outputs": [
    {
     "data": {
      "text/plain": [
       "3"
      ]
     },
     "execution_count": 37,
     "metadata": {},
     "output_type": "execute_result"
    }
   ],
   "source": [
    "add(1, 2)"
   ]
  },
  {
   "cell_type": "code",
   "execution_count": 38,
   "id": "applied-performer",
   "metadata": {},
   "outputs": [],
   "source": [
    "def sum(a, b, c):\n",
    "    s = a + b + c\n",
    "    return s"
   ]
  },
  {
   "cell_type": "code",
   "execution_count": 39,
   "id": "imperial-orange",
   "metadata": {},
   "outputs": [
    {
     "data": {
      "text/plain": [
       "6"
      ]
     },
     "execution_count": 39,
     "metadata": {},
     "output_type": "execute_result"
    }
   ],
   "source": [
    "sum(1, 2, 3)"
   ]
  },
  {
   "cell_type": "markdown",
   "id": "tribal-network",
   "metadata": {},
   "source": [
    "### 람다 함수\n",
    "- 함수에 이름을 주지 않거나 코드를 짧게 줄여쓰는 방법\n",
    "- 함수 자체를 다른 함수의 인수로 넣을 때, 함수의 출력값을 함수로 받을 때 사용"
   ]
  },
  {
   "cell_type": "code",
   "execution_count": 40,
   "id": "patent-congo",
   "metadata": {},
   "outputs": [],
   "source": [
    "def f(x):\n",
    "    return 2 * x"
   ]
  },
  {
   "cell_type": "code",
   "execution_count": 41,
   "id": "stupid-generation",
   "metadata": {},
   "outputs": [],
   "source": [
    "f = lambda x : 2 * x"
   ]
  },
  {
   "cell_type": "code",
   "execution_count": 42,
   "id": "quick-turning",
   "metadata": {},
   "outputs": [
    {
     "data": {
      "text/plain": [
       "4"
      ]
     },
     "execution_count": 42,
     "metadata": {},
     "output_type": "execute_result"
    }
   ],
   "source": [
    "f(2)"
   ]
  },
  {
   "cell_type": "markdown",
   "id": "baking-montana",
   "metadata": {},
   "source": [
    "### 지역 변수\n",
    "- 함수 안에서 만들어지고 사용되는 함수, 함수 바깥에서 사용 불가"
   ]
  },
  {
   "cell_type": "code",
   "execution_count": 44,
   "id": "parallel-print",
   "metadata": {},
   "outputs": [],
   "source": [
    "def f(x):\n",
    "    y = 10 * x\n",
    "    print(\"y = \", y)\n",
    "    return y"
   ]
  },
  {
   "cell_type": "code",
   "execution_count": 45,
   "id": "fluid-collective",
   "metadata": {},
   "outputs": [
    {
     "name": "stdout",
     "output_type": "stream",
     "text": [
      "y =  100\n"
     ]
    },
    {
     "data": {
      "text/plain": [
       "100"
      ]
     },
     "execution_count": 45,
     "metadata": {},
     "output_type": "execute_result"
    }
   ],
   "source": [
    "f(10)"
   ]
  },
  {
   "cell_type": "code",
   "execution_count": 47,
   "id": "asian-definition",
   "metadata": {},
   "outputs": [
    {
     "ename": "NameError",
     "evalue": "name 'y' is not defined",
     "output_type": "error",
     "traceback": [
      "\u001b[1;31m---------------------------------------------------------------------------\u001b[0m",
      "\u001b[1;31mNameError\u001b[0m                                 Traceback (most recent call last)",
      "\u001b[1;32m<ipython-input-47-323f1c82090c>\u001b[0m in \u001b[0;36m<module>\u001b[1;34m\u001b[0m\n\u001b[0;32m      1\u001b[0m \u001b[1;31m# y는 지역 변수이기 때문에 괄호 밖에서 사용 불가.\u001b[0m\u001b[1;33m\u001b[0m\u001b[1;33m\u001b[0m\u001b[1;33m\u001b[0m\u001b[0m\n\u001b[1;32m----> 2\u001b[1;33m \u001b[0my\u001b[0m\u001b[1;33m\u001b[0m\u001b[1;33m\u001b[0m\u001b[0m\n\u001b[0m",
      "\u001b[1;31mNameError\u001b[0m: name 'y' is not defined"
     ]
    }
   ],
   "source": [
    "# y는 지역 변수이기 때문에 괄호 밖에서 사용 불가.\n",
    "y"
   ]
  },
  {
   "cell_type": "markdown",
   "id": "satisfied-group",
   "metadata": {},
   "source": [
    "##### 3개의 숫자를 입력하면 “그 숫자들의 합”과 “\n",
    "##### 그 숫자들을 제곱한 숫자들의 합”의 차이를 계산하는 함수"
   ]
  },
  {
   "cell_type": "code",
   "execution_count": 48,
   "id": "driven-wisdom",
   "metadata": {},
   "outputs": [],
   "source": [
    "def sum(a, b, c):\n",
    "    s = (a + b + c)**2 - (a + b + c)\n",
    "    s >= 0\n",
    "    return s"
   ]
  },
  {
   "cell_type": "code",
   "execution_count": 65,
   "id": "random-graphic",
   "metadata": {},
   "outputs": [
    {
     "data": {
      "text/plain": [
       "6320"
      ]
     },
     "execution_count": 65,
     "metadata": {},
     "output_type": "execute_result"
    }
   ],
   "source": [
    "sum(20, -20, 80)"
   ]
  },
  {
   "cell_type": "markdown",
   "id": "weird-angle",
   "metadata": {},
   "source": [
    "### 전역변수\n",
    "- 지역변수의 반대개념, 함수 안에서 사용 가능한 변수"
   ]
  },
  {
   "cell_type": "code",
   "execution_count": 53,
   "id": "western-edmonton",
   "metadata": {},
   "outputs": [],
   "source": [
    "z = 3\n",
    "def f2(x):\n",
    "    y = z * x\n",
    "    print(\"y =\", y)\n",
    "    print(\"z =\", z)\n",
    "    return y"
   ]
  },
  {
   "cell_type": "code",
   "execution_count": 54,
   "id": "otherwise-hours",
   "metadata": {},
   "outputs": [
    {
     "name": "stdout",
     "output_type": "stream",
     "text": [
      "y = 30\n",
      "z = 3\n"
     ]
    },
    {
     "data": {
      "text/plain": [
       "30"
      ]
     },
     "execution_count": 54,
     "metadata": {},
     "output_type": "execute_result"
    }
   ],
   "source": [
    "f2(10)"
   ]
  },
  {
   "cell_type": "markdown",
   "id": "short-class",
   "metadata": {},
   "source": [
    "- 바깥의 변수와 같은 이름의 변수를 함수 안에 만들면 안 됨.\n",
    "- 함수 안에서 함수 밖에 있는 변수의 값을 바꿔야한다면 함수 이름 앞에 global 선언."
   ]
  },
  {
   "cell_type": "code",
   "execution_count": 55,
   "id": "generic-diesel",
   "metadata": {},
   "outputs": [],
   "source": [
    "z = 3\n",
    "def f4(x):\n",
    "    global z\n",
    "    z = 99\n",
    "    y = z * x\n",
    "    print(\"y =\", y)\n",
    "    print(\"z =\", z)\n",
    "    return y"
   ]
  },
  {
   "cell_type": "code",
   "execution_count": 56,
   "id": "turkish-albany",
   "metadata": {},
   "outputs": [
    {
     "name": "stdout",
     "output_type": "stream",
     "text": [
      "y = 990\n",
      "z = 99\n"
     ]
    },
    {
     "data": {
      "text/plain": [
       "990"
      ]
     },
     "execution_count": 56,
     "metadata": {},
     "output_type": "execute_result"
    }
   ],
   "source": [
    "f4(10)"
   ]
  },
  {
   "cell_type": "code",
   "execution_count": null,
   "id": "decimal-fiction",
   "metadata": {},
   "outputs": [],
   "source": [
    "m = 0\n",
    "def diffsum(a, b, c):\n",
    "    s = (a + b + c)**2 - (a + b + c)\n",
    "    s >= 0\n",
    "    return s"
   ]
  }
 ],
 "metadata": {
  "kernelspec": {
   "display_name": "Python 3",
   "language": "python",
   "name": "python3"
  },
  "language_info": {
   "codemirror_mode": {
    "name": "ipython",
    "version": 3
   },
   "file_extension": ".py",
   "mimetype": "text/x-python",
   "name": "python",
   "nbconvert_exporter": "python",
   "pygments_lexer": "ipython3",
   "version": "3.8.5"
  }
 },
 "nbformat": 4,
 "nbformat_minor": 5
}
