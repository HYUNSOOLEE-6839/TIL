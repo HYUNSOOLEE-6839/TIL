{
 "cells": [
  {
   "cell_type": "markdown",
   "id": "working-approval",
   "metadata": {},
   "source": [
    "# 문자열 연산"
   ]
  },
  {
   "cell_type": "code",
   "execution_count": 2,
   "id": "printable-transfer",
   "metadata": {},
   "outputs": [
    {
     "name": "stdout",
     "output_type": "stream",
     "text": [
      "내 이름은 이현수입니다.\n"
     ]
    }
   ],
   "source": [
    "print('내 이름은 ' + '이현수' + '입니다.')"
   ]
  },
  {
   "cell_type": "code",
   "execution_count": 3,
   "id": "incorporate-satin",
   "metadata": {},
   "outputs": [
    {
     "name": "stdout",
     "output_type": "stream",
     "text": [
      "**********\n"
     ]
    }
   ],
   "source": [
    "print('*' * 10)"
   ]
  },
  {
   "cell_type": "markdown",
   "id": "fabulous-deputy",
   "metadata": {},
   "source": [
    "### 숫자를 문자열로 바꾸기\n",
    "##### 숫자를 문자열과 더하려면 숫자를 문자열 자료형으로 바꾸어야함."
   ]
  },
  {
   "cell_type": "code",
   "execution_count": 5,
   "id": "agricultural-nowhere",
   "metadata": {},
   "outputs": [
    {
     "name": "stdout",
     "output_type": "stream",
     "text": [
      "별표 10번 출력\n",
      "**********\n"
     ]
    }
   ],
   "source": [
    "n = 10\n",
    "print('별표 ' + str(n) + '번 출력' )\n",
    "print('*' * n)"
   ]
  },
  {
   "cell_type": "markdown",
   "id": "pregnant-wrist",
   "metadata": {},
   "source": [
    "### 변수에 문자열 넣기"
   ]
  },
  {
   "cell_type": "code",
   "execution_count": 6,
   "id": "effective-genealogy",
   "metadata": {},
   "outputs": [
    {
     "name": "stdout",
     "output_type": "stream",
     "text": [
      "내 이름은 이현수입니다.\n"
     ]
    }
   ],
   "source": [
    "name = '이현수'\n",
    "print('내 이름은 ' + name + '입니다.')"
   ]
  },
  {
   "cell_type": "markdown",
   "id": "capable-substitute",
   "metadata": {},
   "source": [
    "### 문자열 치환"
   ]
  },
  {
   "cell_type": "code",
   "execution_count": 8,
   "id": "whole-puzzle",
   "metadata": {},
   "outputs": [
    {
     "data": {
      "text/plain": [
       "'wordwithspace'"
      ]
     },
     "execution_count": 8,
     "metadata": {},
     "output_type": "execute_result"
    }
   ],
   "source": [
    "\"word with space\".replace(\" \", \"\")"
   ]
  },
  {
   "cell_type": "markdown",
   "id": "preceding-example",
   "metadata": {},
   "source": [
    "# 문자열 형식화\n",
    "### % 기호\n",
    "### format 메서드\n",
    "### f 문자열"
   ]
  },
  {
   "cell_type": "markdown",
   "id": "lesbian-auction",
   "metadata": {},
   "source": [
    "### 1) % 기호를 사용한 문자열 형식화\n",
    "- 문자열 뒤에 % 기호를 붙이고 그 뒤에 다른 값을 붙이면  뒤에 붙은 값이 문자열 안으로 들어간다.\n",
    "- \"문자열\" % 값"
   ]
  },
  {
   "cell_type": "markdown",
   "id": "common-closure",
   "metadata": {},
   "source": [
    "- %s : 문자열\n",
    "- %d : 정수\n",
    "- %f : 부동소수점 실수"
   ]
  },
  {
   "cell_type": "code",
   "execution_count": 9,
   "id": "quality-combat",
   "metadata": {},
   "outputs": [
    {
     "data": {
      "text/plain": [
       "'내 이름은 이현수입니다.'"
      ]
     },
     "execution_count": 9,
     "metadata": {},
     "output_type": "execute_result"
    }
   ],
   "source": [
    "\"내 이름은 %s입니다.\" % \"이현수\""
   ]
  },
  {
   "cell_type": "code",
   "execution_count": 10,
   "id": "vertical-greene",
   "metadata": {},
   "outputs": [
    {
     "data": {
      "text/plain": [
       "'나는 26살 입니다.'"
      ]
     },
     "execution_count": 10,
     "metadata": {},
     "output_type": "execute_result"
    }
   ],
   "source": [
    "\"나는 %d살 입니다.\" % 26"
   ]
  },
  {
   "cell_type": "code",
   "execution_count": 11,
   "id": "radio-zambia",
   "metadata": {},
   "outputs": [
    {
     "data": {
      "text/plain": [
       "'2 곱하기 3은 6이다.'"
      ]
     },
     "execution_count": 11,
     "metadata": {},
     "output_type": "execute_result"
    }
   ],
   "source": [
    "\"%d 곱하기 %d은 %d이다.\" %(2, 3, 6)"
   ]
  },
  {
   "cell_type": "markdown",
   "id": "sunrise-architecture",
   "metadata": {},
   "source": [
    "### 고급 형식지정 문자열\n",
    "- %20s : 전체 20칸을 차지하는 문자열(공백을 앞에 붙인다)\n",
    "- %-10d : 전체 10칸을 차지하는 숫자(공백을 뒤에 붙인다)\n",
    "- %.5f : 부동소수점의 소수점 아래 5자리까지 표시"
   ]
  },
  {
   "cell_type": "code",
   "execution_count": 12,
   "id": "radical-criminal",
   "metadata": {},
   "outputs": [
    {
     "data": {
      "text/plain": [
       "'[                   *]'"
      ]
     },
     "execution_count": 12,
     "metadata": {},
     "output_type": "execute_result"
    }
   ],
   "source": [
    "\"[%20s]\" % \"*\"   # [와 ] 사이에 20칸의 공백이 있다."
   ]
  },
  {
   "cell_type": "code",
   "execution_count": 13,
   "id": "female-consultancy",
   "metadata": {},
   "outputs": [
    {
     "data": {
      "text/plain": [
       "'[A                   ]'"
      ]
     },
     "execution_count": 13,
     "metadata": {},
     "output_type": "execute_result"
    }
   ],
   "source": [
    "\"[%-20s]\" % \"A\"  # 20칸의 공백의 앞쪽에 A를 출력한다."
   ]
  },
  {
   "cell_type": "code",
   "execution_count": 14,
   "id": "reverse-stamp",
   "metadata": {},
   "outputs": [
    {
     "data": {
      "text/plain": [
       "'[                 123]'"
      ]
     },
     "execution_count": 14,
     "metadata": {},
     "output_type": "execute_result"
    }
   ],
   "source": [
    "\"[%20d]\" % 123  # 20칸의 공백의 뒷쪽에 123을 출력한다."
   ]
  },
  {
   "cell_type": "code",
   "execution_count": 15,
   "id": "polyphonic-coaching",
   "metadata": {},
   "outputs": [
    {
     "data": {
      "text/plain": [
       "'0.33333'"
      ]
     },
     "execution_count": 15,
     "metadata": {},
     "output_type": "execute_result"
    }
   ],
   "source": [
    "x = 1 / 3.0  # 값은 0.3333333....\n",
    "\"%.5f\" % x   # 소숫점 아래 5자리까지만 인쇄한다."
   ]
  },
  {
   "cell_type": "code",
   "execution_count": 16,
   "id": "interpreted-backup",
   "metadata": {},
   "outputs": [
    {
     "data": {
      "text/plain": [
       "'[0.333333            ]'"
      ]
     },
     "execution_count": 16,
     "metadata": {},
     "output_type": "execute_result"
    }
   ],
   "source": [
    "\"[%-20.6f]\" % x  # 20칸의 공백의 앞쪽에 소숫점 아래 6자리 출력"
   ]
  },
  {
   "cell_type": "markdown",
   "id": "fuzzy-posting",
   "metadata": {},
   "source": [
    "### 2) format 메서드를 사용한 문자열 형식화"
   ]
  },
  {
   "cell_type": "code",
   "execution_count": 17,
   "id": "upset-italic",
   "metadata": {},
   "outputs": [
    {
     "data": {
      "text/plain": [
       "'내 이름은 이현수입니다.'"
      ]
     },
     "execution_count": 17,
     "metadata": {},
     "output_type": "execute_result"
    }
   ],
   "source": [
    "\"내 이름은 {}입니다.\".format(\"이현수\")"
   ]
  },
  {
   "cell_type": "code",
   "execution_count": 18,
   "id": "wrong-split",
   "metadata": {},
   "outputs": [
    {
     "data": {
      "text/plain": [
       "'영어점수: 100점, 수학점수: 90점'"
      ]
     },
     "execution_count": 18,
     "metadata": {},
     "output_type": "execute_result"
    }
   ],
   "source": [
    "\"{a}점수: {x}점, {b}점수: {y}점\".format(a='영어', b='수학', x='100', y='90')"
   ]
  },
  {
   "cell_type": "markdown",
   "id": "helpful-attack",
   "metadata": {},
   "source": [
    "### 형식지정 문자열\n",
    "- {:>10} : 전체 10칸을 차지하며 공백을 앞에 붙임 (문자열을 오른쪽에 붙여서 출력)\n",
    "- {:<10} : 전체 10칸을 차지하며 공백을 뒤에 붙임 (문자열을 왼쪽에 붙여서 출력)\n",
    "- {:^10} : 전체 10칸을 차지하며 공백을 앞뒤에 붙임 (문자열을 중앙에 붙여서 출력)\n",
    "- {:.5f} : 부동소수점의 소수점 아래 5자리까지 표시\n",
    "- {:,} : 천단위 쉼표 표시"
   ]
  },
  {
   "cell_type": "code",
   "execution_count": 19,
   "id": "premier-advocacy",
   "metadata": {},
   "outputs": [
    {
     "data": {
      "text/plain": [
       "'[       1,234,567,890]'"
      ]
     },
     "execution_count": 19,
     "metadata": {},
     "output_type": "execute_result"
    }
   ],
   "source": [
    "\"[{:20,}]\".format(1234567890)"
   ]
  },
  {
   "cell_type": "code",
   "execution_count": 20,
   "id": "medium-equity",
   "metadata": {},
   "outputs": [
    {
     "data": {
      "text/plain": [
       "'[*-------------------]'"
      ]
     },
     "execution_count": 20,
     "metadata": {},
     "output_type": "execute_result"
    }
   ],
   "source": [
    "\"[{:-<20}]\".format(\"*\")"
   ]
  },
  {
   "cell_type": "code",
   "execution_count": 21,
   "id": "effective-empire",
   "metadata": {},
   "outputs": [
    {
     "data": {
      "text/plain": [
       "'[---------*----------]'"
      ]
     },
     "execution_count": 21,
     "metadata": {},
     "output_type": "execute_result"
    }
   ],
   "source": [
    "\"[{:-^20}]\".format(\"*\")"
   ]
  },
  {
   "cell_type": "code",
   "execution_count": 22,
   "id": "operational-parameter",
   "metadata": {},
   "outputs": [
    {
     "data": {
      "text/plain": [
       "' 리스트의 첫번째 원소 = 10'"
      ]
     },
     "execution_count": 22,
     "metadata": {},
     "output_type": "execute_result"
    }
   ],
   "source": [
    "x = [10, 11, 12]\n",
    "\" 리스트의 첫번째 원소 = {0[0]}\".format(x)"
   ]
  },
  {
   "cell_type": "code",
   "execution_count": 23,
   "id": "natural-questionnaire",
   "metadata": {},
   "outputs": [
    {
     "data": {
      "text/plain": [
       "'사전의 a키 값=10'"
      ]
     },
     "execution_count": 23,
     "metadata": {},
     "output_type": "execute_result"
    }
   ],
   "source": [
    "y = {\"a\": 10, \"b\":11, \"c\":12}\n",
    "\"사전의 a키 값={0[a]}\".format(y)"
   ]
  },
  {
   "cell_type": "markdown",
   "id": "civil-color",
   "metadata": {},
   "source": [
    "### f 문자열"
   ]
  },
  {
   "cell_type": "code",
   "execution_count": 24,
   "id": "parallel-tobago",
   "metadata": {},
   "outputs": [
    {
     "name": "stdout",
     "output_type": "stream",
     "text": [
      "이현수의 나이는 26살이다.\n"
     ]
    }
   ],
   "source": [
    "name = \"이현수\"\n",
    "age = 26\n",
    "print(f\"{name}의 나이는 {age}살이다.\")"
   ]
  },
  {
   "cell_type": "code",
   "execution_count": 27,
   "id": "abroad-banking",
   "metadata": {},
   "outputs": [
    {
     "data": {
      "text/plain": [
       "'[1234567890-----]'"
      ]
     },
     "execution_count": 27,
     "metadata": {},
     "output_type": "execute_result"
    }
   ],
   "source": [
    "number = 1234567890\n",
    "f\"[{number:-<15}]\""
   ]
  },
  {
   "cell_type": "code",
   "execution_count": null,
   "id": "about-pleasure",
   "metadata": {},
   "outputs": [],
   "source": []
  }
 ],
 "metadata": {
  "kernelspec": {
   "display_name": "Python 3",
   "language": "python",
   "name": "python3"
  },
  "language_info": {
   "codemirror_mode": {
    "name": "ipython",
    "version": 3
   },
   "file_extension": ".py",
   "mimetype": "text/x-python",
   "name": "python",
   "nbconvert_exporter": "python",
   "pygments_lexer": "ipython3",
   "version": "3.8.5"
  }
 },
 "nbformat": 4,
 "nbformat_minor": 5
}
