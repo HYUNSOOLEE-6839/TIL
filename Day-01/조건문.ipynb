{
 "cells": [
  {
   "cell_type": "markdown",
   "id": "owned-delicious",
   "metadata": {},
   "source": [
    "# 조건문"
   ]
  },
  {
   "cell_type": "code",
   "execution_count": 1,
   "id": "verbal-diploma",
   "metadata": {},
   "outputs": [
    {
     "name": "stdout",
     "output_type": "stream",
     "text": [
      "홀수\n"
     ]
    }
   ],
   "source": [
    "a = 1\n",
    "if a % 2 == 0 :\n",
    "    print('짝수')\n",
    "else :\n",
    "    print('홀수')"
   ]
  },
  {
   "cell_type": "code",
   "execution_count": 2,
   "id": "laughing-response",
   "metadata": {},
   "outputs": [
    {
     "name": "stdout",
     "output_type": "stream",
     "text": [
      "2자리 수의 짝수가 아니다.\n"
     ]
    }
   ],
   "source": [
    "b = 55\n",
    "if (b >= 10) & (b < 100) & (b % 2 == 0):\n",
    "    print('2자리 수의 짝수이다.')\n",
    "else:\n",
    "    print('2자리 수의 짝수가 아니다.')"
   ]
  },
  {
   "cell_type": "markdown",
   "id": "available-requirement",
   "metadata": {},
   "source": [
    "#### 연습문제\n",
    "- 서력 기원 연수가 4로 나누어 떨어지는 해는 윤년으로 한다(2004년, 2008년, 2012년, 2016년, 2020년, 2024년, …).\n",
    "\n",
    "- 이 중에서 100으로 나누어 떨어지는 해는 평년으로 한다(1900년, 2100년, 2200년, 2300년, 2500년, …).\n",
    "\n",
    "- 이 중에서 400으로 나누어 떨어지는 해는 윤년으로 둔다(1600년, 2000년, 2400년, …).\n",
    "\n"
   ]
  },
  {
   "cell_type": "code",
   "execution_count": 9,
   "id": "smoking-marketing",
   "metadata": {},
   "outputs": [
    {
     "name": "stdout",
     "output_type": "stream",
     "text": [
      "윤년이 아닙니다.\n"
     ]
    }
   ],
   "source": [
    "y = 1610\n",
    "if (y % 4 == 0) & (y % 400 == 0):\n",
    "    print('윤년입니다.')\n",
    "elif (y % 100 == 0):\n",
    "    print('평년입니다.')\n",
    "else:\n",
    "    print('윤년이 아닙니다.')"
   ]
  },
  {
   "cell_type": "markdown",
   "id": "distinguished-picnic",
   "metadata": {},
   "source": [
    "#### 연습문제\n",
    "- a가 10이 넘으면 1등급, \n",
    "- 그렇지 않고 7이 넘으면 2등급, \n",
    "- 그렇지 않고 4이 넘으면 3등급, \n",
    "- 나머지는 4등급"
   ]
  },
  {
   "cell_type": "code",
   "execution_count": 12,
   "id": "ecological-single",
   "metadata": {},
   "outputs": [
    {
     "name": "stdout",
     "output_type": "stream",
     "text": [
      "3등급입니다.\n"
     ]
    }
   ],
   "source": [
    "a = 6\n",
    "if (a>10):\n",
    "    print('1등급입니다.')\n",
    "elif (10>=a>7):\n",
    "    print('2등급입니다.')\n",
    "elif (7>=a>4):\n",
    "    print('3등급입니다.')\n",
    "else:\n",
    "    print('4등급입니다.')"
   ]
  },
  {
   "cell_type": "markdown",
   "id": "intimate-edition",
   "metadata": {},
   "source": [
    "### 중첩조건문"
   ]
  },
  {
   "cell_type": "markdown",
   "id": "fixed-appliance",
   "metadata": {},
   "source": [
    "#### 연습문제\n",
    "- 팔굽혀펴기 시험을 보는데 남자는 10번 이상을 해야 합격(Pass)이고 아니면 불합격(Fail).\n",
    "- 여자는 5번 이상을 해야 합격일 때의 프로그램"
   ]
  },
  {
   "cell_type": "code",
   "execution_count": 17,
   "id": "outstanding-walnut",
   "metadata": {},
   "outputs": [
    {
     "name": "stdout",
     "output_type": "stream",
     "text": [
      "pass\n"
     ]
    }
   ],
   "source": [
    "sex = 'boy'\n",
    "pushup = 11\n",
    "if sex == 'boy':\n",
    "    if pushup >= 10:\n",
    "        grade = 'pass'\n",
    "    else:\n",
    "        grade = 'fail'\n",
    "else:\n",
    "    if pushup >= 5:\n",
    "        grade = 'pass'\n",
    "    else:\n",
    "        grade = 'fail'\n",
    "print(grade)"
   ]
  },
  {
   "cell_type": "code",
   "execution_count": null,
   "id": "reliable-loading",
   "metadata": {},
   "outputs": [],
   "source": []
  }
 ],
 "metadata": {
  "kernelspec": {
   "display_name": "Python 3",
   "language": "python",
   "name": "python3"
  },
  "language_info": {
   "codemirror_mode": {
    "name": "ipython",
    "version": 3
   },
   "file_extension": ".py",
   "mimetype": "text/x-python",
   "name": "python",
   "nbconvert_exporter": "python",
   "pygments_lexer": "ipython3",
   "version": "3.8.5"
  }
 },
 "nbformat": 4,
 "nbformat_minor": 5
}
